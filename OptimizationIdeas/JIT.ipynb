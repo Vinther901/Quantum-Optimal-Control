{
 "cells": [
  {
   "cell_type": "code",
   "execution_count": 39,
   "metadata": {},
   "outputs": [],
   "source": [
    "import torch as t\n",
    "from time import time"
   ]
  },
  {
   "cell_type": "code",
   "execution_count": 7,
   "metadata": {},
   "outputs": [
    {
     "data": {
      "text/plain": [
       "(tensor([[1., 0., 0., 0., 0.],\n",
       "         [0., 1., 0., 0., 0.],\n",
       "         [0., 0., 1., 0., 0.],\n",
       "         [0., 0., 0., 1., 0.],\n",
       "         [0., 0., 0., 0., 1.]]),\n",
       " tensor([[0.9488, 0.8391, 0.1563, 0.6694, 0.0181],\n",
       "         [0.2093, 0.1539, 0.5345, 0.3523, 0.4059],\n",
       "         [0.7389, 0.6839, 0.4605, 0.1577, 0.5186],\n",
       "         [0.6262, 0.2533, 0.8873, 0.7578, 0.4532],\n",
       "         [0.8747, 0.1859, 0.8035, 0.5447, 0.6156]]))"
      ]
     },
     "execution_count": 7,
     "metadata": {},
     "output_type": "execute_result"
    }
   ],
   "source": [
    "Id = t.diag(t.ones(5))\n",
    "M1 = t.rand((5,5))\n",
    "Id, M1"
   ]
  },
  {
   "cell_type": "code",
   "execution_count": 19,
   "metadata": {},
   "outputs": [],
   "source": [
    "class Net(t.nn.Module):\n",
    "    def __init__(self, Id = Id, M1 = M1):\n",
    "        super(Net,self).__init__()\n",
    "        self.Id = Id\n",
    "        self.M1 = M1\n",
    "    \n",
    "    def forward(self,pulse):\n",
    "        out = Id\n",
    "        for i in range(100):\n",
    "            out = t.matmul(Id,t.matrix_exp(-pulse[i]*self.M1))\n",
    "        return out"
   ]
  },
  {
   "cell_type": "code",
   "execution_count": 20,
   "metadata": {},
   "outputs": [],
   "source": [
    "model = Net()"
   ]
  },
  {
   "cell_type": "code",
   "execution_count": 21,
   "metadata": {},
   "outputs": [],
   "source": [
    "init_pulse = t.rand(100)"
   ]
  },
  {
   "cell_type": "code",
   "execution_count": 22,
   "metadata": {},
   "outputs": [],
   "source": [
    "traced_model = t.jit.trace(model,init_pulse)"
   ]
  },
  {
   "cell_type": "code",
   "execution_count": 46,
   "metadata": {},
   "outputs": [
    {
     "name": "stdout",
     "output_type": "stream",
     "text": [
      "31.851975679397583\n"
     ]
    }
   ],
   "source": [
    "start = time()\n",
    "for i in range(1000):\n",
    "    model(init_pulse)\n",
    "finish = time()\n",
    "print(finish - start)"
   ]
  },
  {
   "cell_type": "code",
   "execution_count": 49,
   "metadata": {},
   "outputs": [
    {
     "name": "stdout",
     "output_type": "stream",
     "text": [
      "0.3480522632598877\n"
     ]
    }
   ],
   "source": [
    "start = time()\n",
    "for i in range(1000):\n",
    "    traced_model(init_pulse)\n",
    "finish = time()\n",
    "print(finish - start)"
   ]
  },
  {
   "cell_type": "markdown",
   "metadata": {},
   "source": [
    "# So great improvement!\n",
    "# But can it handle autograd and complex values and so on?"
   ]
  },
  {
   "cell_type": "code",
   "execution_count": 60,
   "metadata": {},
   "outputs": [
    {
     "data": {
      "text/plain": [
       "(tensor([[1.+0.j, 0.+0.j, 0.+0.j, 0.+0.j, 0.+0.j],\n",
       "         [0.+0.j, 1.+0.j, 0.+0.j, 0.+0.j, 0.+0.j],\n",
       "         [0.+0.j, 0.+0.j, 1.+0.j, 0.+0.j, 0.+0.j],\n",
       "         [0.+0.j, 0.+0.j, 0.+0.j, 1.+0.j, 0.+0.j],\n",
       "         [0.+0.j, 0.+0.j, 0.+0.j, 0.+0.j, 1.+0.j]], dtype=torch.complex128),\n",
       " tensor([[0.6340+0.j, 0.5379+0.j, 0.9402+0.j, 0.2743+0.j, 0.6731+0.j],\n",
       "         [0.6342+0.j, 0.2932+0.j, 0.1673+0.j, 0.5774+0.j, 0.3775+0.j],\n",
       "         [0.6241+0.j, 0.5165+0.j, 0.4739+0.j, 0.4809+0.j, 0.8085+0.j],\n",
       "         [0.2621+0.j, 0.4750+0.j, 0.9476+0.j, 0.3699+0.j, 0.9760+0.j],\n",
       "         [0.9825+0.j, 0.3388+0.j, 0.9130+0.j, 0.2982+0.j, 0.1757+0.j]],\n",
       "        dtype=torch.complex128))"
      ]
     },
     "execution_count": 60,
     "metadata": {},
     "output_type": "execute_result"
    }
   ],
   "source": [
    "Id = t.diag(t.ones((5),dtype=t.complex128))\n",
    "M1 = t.rand((5,5)).type(t.complex128)\n",
    "Id, M1"
   ]
  },
  {
   "cell_type": "code",
   "execution_count": 113,
   "metadata": {},
   "outputs": [],
   "source": [
    "class Net(t.nn.Module):\n",
    "    def __init__(self, Id = Id, M1 = M1):\n",
    "        super(Net,self).__init__()\n",
    "        self.Id = Id\n",
    "        self.M1 = M1\n",
    "        self.pulse = t.nn.parameter.Parameter(t.rand(100).type(t.complex128))\n",
    "    \n",
    "    def forward(self,pulse):\n",
    "        out = Id\n",
    "        for i in range(100):\n",
    "            out = t.matmul(out,t.matrix_exp(-1j*pulse[i]*self.M1))\n",
    "        return out"
   ]
  },
  {
   "cell_type": "code",
   "execution_count": 114,
   "metadata": {},
   "outputs": [],
   "source": [
    "model = Net()"
   ]
  },
  {
   "cell_type": "code",
   "execution_count": 115,
   "metadata": {},
   "outputs": [],
   "source": [
    "traced_model = t.jit.trace(model,init_pulse)"
   ]
  },
  {
   "cell_type": "code",
   "execution_count": 116,
   "metadata": {},
   "outputs": [],
   "source": [
    "new_pulse = t.rand(100)"
   ]
  },
  {
   "cell_type": "code",
   "execution_count": 117,
   "metadata": {},
   "outputs": [
    {
     "name": "stdout",
     "output_type": "stream",
     "text": [
      "36.5143039226532\n"
     ]
    }
   ],
   "source": [
    "start = time()\n",
    "for i in range(1000):\n",
    "    model(new_pulse)\n",
    "finish = time()\n",
    "print(finish - start)"
   ]
  },
  {
   "cell_type": "code",
   "execution_count": 118,
   "metadata": {},
   "outputs": [
    {
     "name": "stdout",
     "output_type": "stream",
     "text": [
      "31.740001916885376\n"
     ]
    }
   ],
   "source": [
    "start = time()\n",
    "for i in range(1000):\n",
    "    traced_model(new_pulse)\n",
    "finish = time()\n",
    "print(finish - start)"
   ]
  },
  {
   "cell_type": "code",
   "execution_count": 101,
   "metadata": {},
   "outputs": [],
   "source": [
    "out = traced_model(init_pulse)\n",
    "loss = t.trace(t.abs(M1-out))\n",
    "optimizer = t.optim.Adam(traced_model.parameters(),lr=1e-2)\n",
    "loss.backward()\n",
    "optimizer.step()"
   ]
  },
  {
   "cell_type": "markdown",
   "metadata": {},
   "source": [
    "# Seems to be working!!\n",
    "# ... Damn it, I had made a mistake, such that the gain is, in fact, not very large"
   ]
  }
 ],
 "metadata": {
  "kernelspec": {
   "display_name": "Python 3",
   "language": "python",
   "name": "python3"
  },
  "language_info": {
   "codemirror_mode": {
    "name": "ipython",
    "version": 3
   },
   "file_extension": ".py",
   "mimetype": "text/x-python",
   "name": "python",
   "nbconvert_exporter": "python",
   "pygments_lexer": "ipython3",
   "version": "3.7.6"
  }
 },
 "nbformat": 4,
 "nbformat_minor": 4
}
