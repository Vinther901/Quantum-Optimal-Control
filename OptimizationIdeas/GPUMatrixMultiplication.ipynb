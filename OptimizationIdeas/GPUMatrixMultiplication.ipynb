{
 "cells": [
  {
   "cell_type": "code",
   "execution_count": 6,
   "metadata": {},
   "outputs": [],
   "source": [
    "import torch as t\n",
    "import matplotlib.pyplot as plt"
   ]
  },
  {
   "cell_type": "code",
   "execution_count": 8,
   "metadata": {},
   "outputs": [
    {
     "data": {
      "text/plain": [
       "[<matplotlib.lines.Line2D at 0x2152f93c088>]"
      ]
     },
     "execution_count": 8,
     "metadata": {},
     "output_type": "execute_result"
    },
    {
     "data": {
      "image/png": "[encoded data removed]",
      "text/plain": [
       "<Figure size 432x288 with 1 Axes>"
      ]
     },
     "metadata": {
      "needs_background": "light"
     },
     "output_type": "display_data"
    }
   ],
   "source": [
    "plt.plot("
   ]
  },
  {
   "cell_type": "code",
   "execution_count": 105,
   "metadata": {},
   "outputs": [],
   "source": [
    "NHilbert = 10\n",
    "NTrot = 1000\n",
    "T = 30\n",
    "dt = T/NTrot*0.25\n",
    "\n",
    "def randc(N=NHilbert):\n",
    "    #return 2*(t.rand(N) - 0.5) + 2j*(t.rand(N) - 0.5)\n",
    "    if type(N) == tuple:\n",
    "        return t.matrix_exp(-1j*dt*t.rand(N))\n",
    "    return t.exp(-1j*dt*t.rand(N))\n",
    "\n",
    "\n",
    "times = t.linspace(0,T,NTrot)\n",
    "alphas = (times - T/2)**2\n",
    "alphas = alphas/alphas.max()*0.1 + 0.9\n",
    "\n",
    "sqrd_dists = (times.view(-1,1) - times.view(1,-1))**2/0.1\n",
    "height_weights = (1/(1+sqrd_dists)/t.sum(1/(1+sqrd_dists),1))"
   ]
  },
  {
   "cell_type": "code",
   "execution_count": 106,
   "metadata": {},
   "outputs": [],
   "source": [
    "class New(t.nn.Module):\n",
    "    def __init__(self):\n",
    "        super().__init__()\n",
    "        self.heights = t.nn.parameter.Parameter(t.rand(NTrot))\n",
    "        self.alphas = alphas\n",
    "        self.height_weights = height_weights\n",
    "\n",
    "        self.D1 = randc()\n",
    "        self.D2 = randc()\n",
    "        self.M3 = randc((NHilbert,NHilbert))\n",
    "        self.D4 = randc()\n",
    "        self.M5 = randc((NHilbert,NHilbert))\n",
    "\n",
    "    def forward(self):\n",
    "        pulse = t.sum(self.heights*self.height_weights,1)\n",
    "        \n",
    "\n",
    "        M1s = t.diag_embed(self.D1*t.pow(self.D2,pulse.view(-1,1)))\n",
    "        M2s = self.M3@t.diag_embed(t.pow(self.D4,alphas.view(-1,1)))@self.M5\n",
    "\n",
    "        return t.linalg.multi_dot(list(mat for mat in M1s@M2s))\n",
    "\n",
    "n = New()\n",
    "U = n()"
   ]
  },
  {
   "cell_type": "code",
   "execution_count": 107,
   "metadata": {},
   "outputs": [],
   "source": [
    "class Classic(t.nn.Module):\n",
    "    def __init__(self):\n",
    "        super().__init__()\n",
    "        self.heights = t.nn.parameter.Parameter(t.rand(NTrot))\n",
    "        self.alphas = alphas\n",
    "        self.height_weights = height_weights\n",
    "\n",
    "        self.M1 = randc((NHilbert,NHilbert))\n",
    "        self.M2 = randc((NHilbert,NHilbert))\n",
    "        self.M3 = randc((NHilbert,NHilbert))\n",
    "        self.M4 = randc((NHilbert,NHilbert))\n",
    "\n",
    "    def forward(self):\n",
    "        pulse = t.sum(self.heights*self.height_weights,1)\n",
    "        alphas = self.alphas\n",
    "\n",
    "\n",
    "        H = self.M1.repeat(alphas.shape[0],1,1) \\\n",
    "            + self.M2.repeat(alphas.shape[0],1,1) \\\n",
    "            + alphas.view(-1,1,1)*self.M3 \\\n",
    "            + pulse.view(-1,1,1)*self.M4\n",
    "        \n",
    "        return t.linalg.multi_dot(list(mat for mat in t.matrix_exp(-1j*dt*H)))\n",
    "c = Classic()\n",
    "U = c()"
   ]
  },
  {
   "cell_type": "code",
   "execution_count": 108,
   "metadata": {},
   "outputs": [],
   "source": [
    "from time import time\n",
    "def timer(model, N=100):\n",
    "    start = time()\n",
    "    for i in range(N):\n",
    "        model()\n",
    "    print(time() - start)"
   ]
  },
  {
   "cell_type": "code",
   "execution_count": 109,
   "metadata": {},
   "outputs": [
    {
     "name": "stdout",
     "output_type": "stream",
     "text": [
      "129.1081771850586\n"
     ]
    }
   ],
   "source": [
    "timer(c)"
   ]
  },
  {
   "cell_type": "code",
   "execution_count": 110,
   "metadata": {},
   "outputs": [
    {
     "name": "stdout",
     "output_type": "stream",
     "text": [
      "146.6936755180359\n"
     ]
    }
   ],
   "source": [
    "timer(n)"
   ]
  },
  {
   "cell_type": "code",
   "execution_count": 119,
   "metadata": {},
   "outputs": [],
   "source": [
    "class NewGPU(t.nn.Module):\n",
    "    def __init__(self):\n",
    "        super().__init__()\n",
    "        self.heights = t.nn.parameter.Parameter(t.rand(NTrot))\n",
    "        self.alphas = alphas.to(t.device('cuda'))\n",
    "        self.height_weights = height_weights.to(t.device('cuda'))\n",
    "\n",
    "        self.D1 = randc().to(t.device('cuda'))\n",
    "        self.D2 = randc().to(t.device('cuda'))\n",
    "        self.M3 = randc((NHilbert,NHilbert)).to(t.device('cuda'))\n",
    "        self.D4 = randc().to(t.device('cuda'))\n",
    "        self.M5 = randc((NHilbert,NHilbert)).to(t.device('cuda'))\n",
    "\n",
    "    def forward(self):\n",
    "        pulse = t.sum(self.heights*self.height_weights,1)\n",
    "\n",
    "        M1s = t.diag_embed(self.D1*t.pow(self.D2,pulse.view(-1,1)))\n",
    "        M2s = self.M3@t.diag_embed(t.pow(self.D4,self.alphas.view(-1,1)))@self.M5\n",
    "\n",
    "        return t.linalg.multi_dot(list(mat for mat in M1s@M2s))\n",
    "\n",
    "ng = NewGPU().to(t.device('cuda'))"
   ]
  },
  {
   "cell_type": "code",
   "execution_count": 123,
   "metadata": {},
   "outputs": [
    {
     "name": "stdout",
     "output_type": "stream",
     "text": [
      "168.49792170524597\n"
     ]
    }
   ],
   "source": [
    "timer(ng)"
   ]
  },
  {
   "cell_type": "code",
   "execution_count": 140,
   "metadata": {},
   "outputs": [],
   "source": [
    "def timer_diff(model,N=100,device='cpu'):\n",
    "    fac = 1/NHilbert**2\n",
    "    Id = t.eye(NHilbert).cfloat().to(device)\n",
    "    def loss_func(U):\n",
    "        return 1 - fac*t.trace(t.abs(Id@U))\n",
    "    optimizer = t.optim.Adam(model.parameters(), lr=1e-2)\n",
    "    start = time()\n",
    "    for i in range(N):\n",
    "        loss = loss_func(model())\n",
    "        loss.backward()\n",
    "        optimizer.step()\n",
    "        optimizer.zero_grad()\n",
    "    print(time() - start)"
   ]
  },
  {
   "cell_type": "code",
   "execution_count": 142,
   "metadata": {},
   "outputs": [
    {
     "name": "stdout",
     "output_type": "stream",
     "text": [
      "30.76104497909546\n"
     ]
    }
   ],
   "source": [
    "timer_diff(ng,20,'cuda')"
   ]
  },
  {
   "cell_type": "code",
   "execution_count": 143,
   "metadata": {},
   "outputs": [
    {
     "name": "stdout",
     "output_type": "stream",
     "text": [
      "30.557307958602905\n"
     ]
    }
   ],
   "source": [
    "timer_diff(n,20,'cpu')"
   ]
  },
  {
   "cell_type": "code",
   "execution_count": 144,
   "metadata": {},
   "outputs": [
    {
     "name": "stdout",
     "output_type": "stream",
     "text": [
      "30.779876470565796\n"
     ]
    }
   ],
   "source": [
    "timer_diff(c,20,'cpu')"
   ]
  },
  {
   "cell_type": "code",
   "execution_count": null,
   "metadata": {},
   "outputs": [],
   "source": []
  }
 ],
 "metadata": {
  "kernelspec": {
   "display_name": "Python 3.7.6 ('base')",
   "language": "python",
   "name": "python3"
  },
  "language_info": {
   "codemirror_mode": {
    "name": "ipython",
    "version": 3
   },
   "file_extension": ".py",
   "mimetype": "text/x-python",
   "name": "python",
   "nbconvert_exporter": "python",
   "pygments_lexer": "ipython3",
   "version": "3.7.6"
  },
  "orig_nbformat": 4,
  "vscode": {
   "interpreter": {
    "hash": "d143a0af374d0edde0f7cadad93e1ba538e79c0eb0e201915e37d7aa6a5ee627"
   }
  }
 },
 "nbformat": 4,
 "nbformat_minor": 2
}
