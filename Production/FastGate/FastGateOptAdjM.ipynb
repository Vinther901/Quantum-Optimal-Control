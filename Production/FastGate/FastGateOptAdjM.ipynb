{
 "cells": [
  {
   "cell_type": "code",
   "execution_count": 1,
   "metadata": {},
   "outputs": [],
   "source": [
    "using LinearAlgebra\n",
    "using Plots\n",
    "using SparseArrays\n",
    "using Arpack #Eigenvalues of sparse arrays with eigs()\n",
    "using DifferentialEquations\n",
    "# using DiffEqFlux\n",
    "using Optim\n",
    "using ForwardDiff\n",
    "using DelimitedFiles\n",
    "using LineSearches"
   ]
  },
  {
   "cell_type": "code",
   "execution_count": 2,
   "metadata": {},
   "outputs": [],
   "source": [
    "#Def parameters\n",
    "n_cutoff = 8\n",
    "N = 2 * n_cutoff + 1\n",
    "NHilbert = N^2\n",
    "n = sparse(Diagonal(LinRange(-n_cutoff, n_cutoff, N))) #Perhaps implement using StaticArrays\n",
    "Id = sparse(I, N, N)\n",
    "exp_iPhi = spdiagm(-1 => ones(N - 1));\n",
    "\n",
    "#Def Hamiltonian parameters\n",
    "E_J_GHz = 10.0 #scale of E_J in units of h*GHz, h-bar = 1, h = 2pi\n",
    "E_C = 1/100  #Charging energies\n",
    "E_J = 1.0 #Josephson energies\n",
    "phi_ext = 0.995pi\n",
    "\n",
    "prefactor = 4 * E_C\n",
    "Kinetic = 2pi * E_J_GHz * prefactor * (kron(n^2, Id) .+ kron(Id, n^2))\n",
    "\n",
    "Potential1 = -2pi * E_J_GHz * kron(1 / 2 * (exp_iPhi .+ exp_iPhi'), Id) # -E_J1 cos(phi1)\n",
    "Potential2 = -2pi * E_J_GHz * kron(Id, 1 / 2 * (exp_iPhi .+ exp_iPhi')) # -E_J2 cos(phi2)\n",
    "Pot3Mat = kron(exp_iPhi, exp_iPhi')\n",
    "Pot3Const = -2pi * E_J_GHz * E_J / 2\n",
    "\n",
    "function get_Pot3(Φ_ext = phi_ext)\n",
    "    M = exp(im * Φ_ext) * Pot3Mat\n",
    "    return Pot3Const .* (M + M')\n",
    "end\n",
    "\n",
    "function dPot3_dphi(Φ_ext = phi_ext)\n",
    "    M = exp(im * Φ_ext) * Pot3Mat\n",
    "    return (im * Pot3Const) .* (M - M')\n",
    "end\n",
    "\n",
    "Potential3 =  get_Pot3() #-E_J3 cos(phi1 - phi2 + phi_ext)\n",
    "Potential12 = E_J * (Potential1 + Potential2)\n",
    "KinPot12 = Kinetic + Potential12\n",
    "chargecoupling = kron(n, Id);"
   ]
  },
  {
   "cell_type": "code",
   "execution_count": 3,
   "metadata": {},
   "outputs": [
    {
     "data": {
      "text/plain": [
       "limit_func_abs (generic function with 1 method)"
      ]
     },
     "metadata": {},
     "output_type": "display_data"
    }
   ],
   "source": [
    "# function limit_func(param,pmin,pmax)\n",
    "#     if pmin < param < pmax\n",
    "#         return param\n",
    "#     elseif param <= pmin\n",
    "#         return pmin\n",
    "#     else\n",
    "#         return pmax\n",
    "#     end\n",
    "# end\n",
    "\n",
    "function limit_func(param,pmin,pmax)\n",
    "    (pmax - pmin) * (1/(1 + exp(-param))) + pmin\n",
    "end\n",
    "\n",
    "function inv_limit_func(param,pmin,pmax)\n",
    "    # -log( (pmax - pmin  + 2e-8) / (param - pmin + 1e-8) - 1)\n",
    "    -log( (pmax - pmin) / (param - pmin) - 1)\n",
    "end\n",
    "\n",
    "function limit_func_abs(param)\n",
    "    param^2\n",
    "end"
   ]
  },
  {
   "cell_type": "code",
   "execution_count": 4,
   "metadata": {},
   "outputs": [
    {
     "data": {
      "text/plain": [
       "dpulsedp (generic function with 1 method)"
      ]
     },
     "metadata": {},
     "output_type": "display_data"
    }
   ],
   "source": [
    "#[Tᵣ, Tₐ, Tₚ, αmin, ϕ, f, A, Φ_ext, λ]\n",
    "p = [2, 10, 6, 0.7, 0.5418, 0.9763*2.482542369189332, 1.01556/0.2949509890806259, 0.995pi, 0.05289]\n",
    "p[1] = sqrt(p[1])\n",
    "p[2] = sqrt(p[2])#inv_limit_func(p[2],0,15)\n",
    "p[3] = sqrt(p[3])\n",
    "p[4] = inv_limit_func(p[4],0.5,1)\n",
    "\n",
    "function alpha(p, t)\n",
    "    Tᵣ = limit_func_abs(p[1])\n",
    "    Tₐ = limit_func_abs(p[2])\n",
    "    Tₚ = limit_func_abs(p[3]) + 2*Tᵣ\n",
    "    αmin = limit_func(p[4],0.5,1)\n",
    "    abs_slope = (1 - αmin)/Tₐ\n",
    "    if t < Tₐ\n",
    "        return 1 - abs_slope * t\n",
    "    elseif t > Tₐ + Tₚ\n",
    "        return αmin + abs_slope * (t - Tₐ - Tₚ)\n",
    "    else\n",
    "        return αmin\n",
    "    end\n",
    "end\n",
    "\n",
    "dalphadp(p, t) = ForwardDiff.gradient(p̃ -> alpha(p̃,t), p)\n",
    "\n",
    "function envelopes!(E, Edot, Tᵣ, Tₐ, Tₚ, t)\n",
    "    if Tₐ < t < Tₐ + Tᵣ\n",
    "        arg = pi / 2 * (t - Tₐ) / Tᵣ\n",
    "        E *= sin(arg)^2\n",
    "        Edot *= 2*sin(arg)*cos(arg)*pi/(2*Tᵣ)\n",
    "    elseif Tₐ + Tᵣ <= t <= Tₐ + Tₚ - Tᵣ\n",
    "        E *= 1\n",
    "        Edot *= 0\n",
    "    elseif Tₐ + Tₚ - Tᵣ < t < Tₐ + Tₚ\n",
    "        arg = pi / 2 * (Tₐ + Tₚ - t) / Tᵣ\n",
    "        E *= sin(arg)^2\n",
    "        Edot *= 2*sin(arg)*cos(arg)*(-pi)/(2*Tᵣ)\n",
    "    else\n",
    "        E *= 0\n",
    "        Edot *= 0\n",
    "    end\n",
    "    return (E, Edot)\n",
    "end\n",
    "\n",
    "function pulse(p, t)\n",
    "    Tᵣ = limit_func_abs(p[1])\n",
    "    Tₐ = limit_func_abs(p[2])\n",
    "    Tₚ = limit_func_abs(p[3]) + 2*Tᵣ\n",
    "    # αmin = p[4]\n",
    "    ϕ = p[5]\n",
    "    f = p[6]\n",
    "    A = p[7]\n",
    "    # Φ_ext = limit_func(p[8],0.961pi,1.039pi)\n",
    "    λ = p[9]\n",
    "\n",
    "    amp = pi * A / (Tₚ - Tᵣ)\n",
    "    E = amp\n",
    "    Edot = copy(amp)\n",
    "    E, Edot = envelopes!(E, Edot, Tᵣ, Tₐ, Tₚ, t)\n",
    "    arg = f*(t - Tₐ) + ϕ\n",
    "    return E*cos(arg) + Edot*λ*sin(arg)\n",
    "end\n",
    "\n",
    "dpulsedp(p, t) = ForwardDiff.gradient(p̃ -> pulse(p̃, t), p)"
   ]
  },
  {
   "cell_type": "code",
   "execution_count": 5,
   "metadata": {},
   "outputs": [
    {
     "data": {
      "text/plain": [
       "b! (generic function with 1 method)"
      ]
     },
     "metadata": {},
     "output_type": "display_data"
    }
   ],
   "source": [
    "Es = eigvals(Matrix(KinPot12 + Potential3))\n",
    "ψs = eigvecs(Matrix(KinPot12 + Potential3))\n",
    "ψ0 = ψs[:,1:2]\n",
    "sizep = length(p);\n",
    "\n",
    "function f!(du, u, p, t)\n",
    "    x = u[:,1:2]\n",
    "    H = KinPot12 + alpha(p,t) .* Potential3 + pulse(p,t) .* chargecoupling\n",
    "\n",
    "    du[:,1:2] = -im .* (H * x)\n",
    "end\n",
    "\n",
    "function b!(du, u, p, t)\n",
    "    x = u[:,1:2]\n",
    "    λ = u[:,3:4]\n",
    "    ps = u[:,5]\n",
    "\n",
    "    miH = -im .* (KinPot12 + alpha(p,t) .* Potential3 + pulse(p,t) .* chargecoupling)\n",
    "\n",
    "    du[:,1:2] = miH * x\n",
    "    du[:,3:4] = miH * λ\n",
    "    \n",
    "    du[1:sizep,5] = (- real(im * tr(λ' * chargecoupling * x)) .* dpulsedp(p, t)\n",
    "                     - real(im * tr(λ' * Potential3 * x)) .* dalphadp(p,t))\n",
    "end"
   ]
  },
  {
   "cell_type": "code",
   "execution_count": 6,
   "metadata": {},
   "outputs": [
    {
     "data": {
      "text/plain": [
       "dTdp (generic function with 1 method)"
      ]
     },
     "metadata": {},
     "output_type": "display_data"
    }
   ],
   "source": [
    "function get_T(p)\n",
    "    Tᵣ = limit_func_abs(p[1])\n",
    "    Tₐ = limit_func_abs(p[2])\n",
    "    Tₚ = limit_func_abs(p[3]) + 2*Tᵣ\n",
    "    2*Tₐ + Tₚ\n",
    "end\n",
    "dTdp(p) = ForwardDiff.gradient(p̃ -> get_T(p̃), p)"
   ]
  },
  {
   "cell_type": "code",
   "execution_count": 7,
   "metadata": {},
   "outputs": [
    {
     "data": {
      "text/plain": [
       "dwTdL (generic function with 1 method)"
      ]
     },
     "metadata": {},
     "output_type": "display_data"
    }
   ],
   "source": [
    "function wT(L)\n",
    "    σ = 75e5\n",
    "    log(L)^4/σ\n",
    "end\n",
    "\n",
    "function dwTdL(L)\n",
    "    σ = 75e5\n",
    "    4* log(L)^3 /(σ*L)\n",
    "end\n",
    "\n",
    "# function f(p)\n",
    "#     T = get_T(p)\n",
    "\n",
    "#     forward_prob = ODEProblem(f!, ψs[:,1:2], (0.0, T), p)\n",
    "#     sol = solve(forward_prob, p=p, save_everystep=false, reltol=1e-12, abstol=1e-12)\n",
    "\n",
    "#     UT = abs2.(ψs[:,1:2]'*sol.u[end])\n",
    "#     L = 0.5 * (2 - UT[1,2] - UT[2,1])\n",
    "#     return L + wT(L) * T#L, wT(L) * T\n",
    "# end\n",
    "\n",
    "# function b(p)\n",
    "#     T = get_T(p)\n",
    "\n",
    "#     forward_prob = ODEProblem(f!, ψs[:,1:2], (0.0, T), p)\n",
    "#     sol_f = solve(forward_prob, p=p, save_everystep=false, reltol=1e-8, abstol=1e-8)\n",
    "\n",
    "#     xT = sol_f.u[end][:,1:2]\n",
    "\n",
    "#     UT = abs2.(ψs[:,1:2]'*xT)\n",
    "#     L = 0.5 * (2 - UT[1,2] - UT[2,1])\n",
    "\n",
    "#     λ = (1 + dwTdL(L) * T) .* cat(ψ0[:,2]*ψ0[:,2]'*xT[:,1],ψ0[:,1]*ψ0[:,1]'*xT[:,2],dims=2)\n",
    "\n",
    "#     ps = zeros(289,1) #only 2*length(p) are possibly used\n",
    "#     bu0 = cat(xT,λ,ps,dims=2)#cat(xT,ψT,λ,ϕ,ps,dims=2);\n",
    "\n",
    "#     backward_prob = ODEProblem(b!, bu0, (T, 0.0), p)\n",
    "#     sol_b = solve(backward_prob, p=p, save_everystep=false, reltol=1e-8, abstol=1e-8)\n",
    "    \n",
    "#     grad = real(sol_b.u[end][1:sizep,5])\n",
    "#     h̃ = -im .* ((KinPot12 + alpha(p, get_T(p)) .* Potential3 + pulse(p,get_T(p)) .* chargecoupling) * xT)\n",
    "\n",
    "#     grad, - λ'*h̃, L\n",
    "# end\n",
    "    # UT = abs2.(ψ0'*xT)\n",
    "    # infidelity = 0.5 * (2 - UT[1,2] - UT[2,1])\n",
    "\n",
    "    # loss[1] = infidelity\n",
    "    # grad[:] = real(sol_b.u[end][1:sizep,5])"
   ]
  },
  {
   "cell_type": "code",
   "execution_count": 12,
   "metadata": {},
   "outputs": [
    {
     "data": {
      "text/plain": [
       "get_grad! (generic function with 1 method)"
      ]
     },
     "metadata": {},
     "output_type": "display_data"
    }
   ],
   "source": [
    "ls = []\n",
    "params = []\n",
    "\n",
    "grad = zeros(sizep)\n",
    "loss = [0.0]\n",
    "calls  = [1]\n",
    "\n",
    "function calc(p, last_p, grad, loss)\n",
    "    if p != last_p\n",
    "        copy!(last_p, p)\n",
    "\n",
    "        T = get_T(p)\n",
    "\n",
    "        forward_prob = ODEProblem(f!, ψs[:,1:2], (0.0, T), p)\n",
    "        sol_f = solve(forward_prob, p=p, save_everystep=false, reltol=1e-8, abstol=1e-8)\n",
    "\n",
    "        xT = sol_f.u[end][:,1:2]\n",
    "\n",
    "        UT = abs2.(ψs[:,1:2]'*xT)\n",
    "        L = 0.5 * (2 - UT[1,2] - UT[2,1])\n",
    "\n",
    "        λ = (1 + dwTdL(L) * T) .* cat(ψ0[:,2]*ψ0[:,2]'*xT[:,1],ψ0[:,1]*ψ0[:,1]'*xT[:,2],dims=2)\n",
    "\n",
    "        ps = zeros(289,1) #only 2*length(p) are possibly used\n",
    "        bu0 = cat(xT,λ,ps,dims=2)#cat(xT,ψT,λ,ϕ,ps,dims=2);\n",
    "\n",
    "        backward_prob = ODEProblem(b!, bu0, (T, 0.0), p)\n",
    "        sol_b = solve(backward_prob, p=p, save_everystep=false, reltol=1e-8, abstol=1e-8)\n",
    "        \n",
    "        # grad = real(sol_b.u[end][1:sizep,5])\n",
    "        h̃ = -im .* ((KinPot12 + alpha(p, get_T(p)) .* Potential3 + pulse(p,get_T(p)) .* chargecoupling) * xT)\n",
    "\n",
    "        # grad, - λ'*h̃, L\n",
    "        println(real(tr(- λ'*h̃)),\"\\t\", L,\"\\t\", wT(L)*T,\"\\t\", T)\n",
    "\n",
    "        loss[1] = L + wT(L) * T\n",
    "        grad[:] = real(sol_b.u[end][1:sizep,5]) + wT(L) .* dTdp(p)\n",
    "\n",
    "        push!(ls, copy(loss[1]))\n",
    "        push!(params, copy(p))\n",
    "\n",
    "        if sum(calls)%10 == 0\n",
    "            writedlm(\"tmp_ls.txt\",ls)\n",
    "            writedlm(\"tmp_params.txt\",params)\n",
    "        end\n",
    "    end\n",
    "end\n",
    "\n",
    "\n",
    "function opt_func(p, last_p, grad, loss)\n",
    "    calc(p, last_p, grad, loss)\n",
    "    return loss[1]\n",
    "end\n",
    "\n",
    "function get_grad!(grad, p, last_p, loss)\n",
    "    calc(p, last_p, grad, loss)\n",
    "    push!(calls,1)\n",
    "end"
   ]
  },
  {
   "cell_type": "code",
   "execution_count": 13,
   "metadata": {},
   "outputs": [],
   "source": [
    "initial_p = copy(p)\n",
    "last_p = similar(initial_p);"
   ]
  },
  {
   "cell_type": "code",
   "execution_count": 14,
   "metadata": {},
   "outputs": [
    {
     "name": "stdout",
     "output_type": "stream",
     "text": [
      "6.821210263296962e-13\t2.9359166583364793e-5\t0.04744392192652444\t30.000000000000004"
     ]
    },
    {
     "name": "stdout",
     "output_type": "stream",
     "text": [
      "\n",
      "0.0\t0.9992604837548125\t1.5006132617336136e-18\t37.574796316927504"
     ]
    },
    {
     "name": "stdout",
     "output_type": "stream",
     "text": [
      "\n",
      "-2.220446049250313e-15\t0.03383359063807362\t0.0005393390371856583\t30.762441389542584"
     ]
    },
    {
     "name": "stdout",
     "output_type": "stream",
     "text": [
      "\n",
      "4.926614671774132e-16\t0.9999942742074762\t6.736892352060875e-27\t47.008183487216\n"
     ]
    },
    {
     "name": "stdout",
     "output_type": "stream",
     "text": [
      "1.3766765505351941e-14\t0.6326161823218239\t1.914378580537391e-7\t32.661730347344744\n"
     ]
    },
    {
     "name": "stdout",
     "output_type": "stream",
     "text": [
      "3.608224830031759e-15\t0.00921161963127326\t0.0019925379665421974\t30.95855813556122\n"
     ]
    },
    {
     "name": "stdout",
     "output_type": "stream",
     "text": [
      "-2.886579864025407e-15\t0.008592304141012475\t0.0021590616748074424\t31.6252874502053"
     ]
    },
    {
     "name": "stdout",
     "output_type": "stream",
     "text": [
      "\n",
      "-8.881784197001252e-15\t0.0015338817747058142\t0.007343156279942585\t31.236073567666782"
     ]
    },
    {
     "name": "stdout",
     "output_type": "stream",
     "text": [
      "\n",
      "-1.5543122344752192e-15\t0.004330922079384236\t0.0036359286411018037\t31.09213225738944\n"
     ]
    },
    {
     "name": "stdout",
     "output_type": "stream",
     "text": [
      "-7.771561172376096e-16\t0.0035115215134827737\t0.004230215590584368\t31.09607403632292"
     ]
    },
    {
     "name": "stdout",
     "output_type": "stream",
     "text": [
      "\n",
      "2.42861286636753e-16\t0.0031160636415037968\t0.00459616433915673\t31.07398198191961"
     ]
    },
    {
     "name": "stdout",
     "output_type": "stream",
     "text": [
      "\n",
      "1.0928757898653885e-16\t0.00314371882579334\t0.0045642307628773835\t31.04778863215281\n"
     ]
    },
    {
     "name": "stdout",
     "output_type": "stream",
     "text": [
      "-4.371503159461554e-16\t0.0032452967456074178\t0.004449263108809437\t30.94315453996452"
     ]
    },
    {
     "name": "stdout",
     "output_type": "stream",
     "text": [
      "\n",
      "-2.220446049250313e-16\t0.003327515579494844\t0.004287266186053571\t30.342959982840654"
     ]
    },
    {
     "name": "stdout",
     "output_type": "stream",
     "text": [
      "\n",
      "-3.164135620181696e-15\t0.002439296769815469\t0.004893640080962204\t28.018755528362654"
     ]
    },
    {
     "name": "stdout",
     "output_type": "stream",
     "text": [
      "\n",
      "4.829470157119431e-15\t0.01816513449654661\t0.0006864969696460317\t19.94711809473055"
     ]
    },
    {
     "name": "stdout",
     "output_type": "stream",
     "text": [
      "\n",
      "-3.788636071533347e-15\t0.0024208591006076308\t0.004882965479436709\t27.81704282580796\n"
     ]
    },
    {
     "name": "stdout",
     "output_type": "stream",
     "text": [
      "5.773159728050814e-15\t0.006636436301655557\t0.0021800324314714516\t25.845090806706196"
     ]
    },
    {
     "name": "stdout",
     "output_type": "stream",
     "text": [
      "\n",
      "-7.632783294297951e-16\t0.0024207808901979266\t0.004834353709204801\t27.53952280057705"
     ]
    },
    {
     "name": "stdout",
     "output_type": "stream",
     "text": [
      "\n",
      "8.326672684688674e-17\t0.002788821896883842\t0.0043480873661548725\t27.240763119662425\n"
     ]
    },
    {
     "name": "stdout",
     "output_type": "stream",
     "text": [
      "-1.5543122344752192e-15\t0.004085571496948659\t0.0032383978581347014\t26.536763813440423"
     ]
    },
    {
     "name": "stdout",
     "output_type": "stream",
     "text": [
      "\n",
      "-1.4710455076283324e-15\t0.0031847015252298716\t0.003940783593500535\t27.049220003924837\n"
     ]
    },
    {
     "name": "stdout",
     "output_type": "stream",
     "text": [
      "-7.494005416219807e-16\t0.003040791636590212\t0.00407980047188985\t27.120354669241472\n"
     ]
    },
    {
     "name": "stdout",
     "output_type": "stream",
     "text": [
      "-4.440892098500626e-16\t0.0035130141306865537\t0.0036436524663332774\t26.792339443508073\n"
     ]
    },
    {
     "name": "stdout",
     "output_type": "stream",
     "text": [
      "1.6306400674181987e-16\t0.003065694667422847\t0.004054791488451401\t27.10637545232209"
     ]
    },
    {
     "name": "stdout",
     "output_type": "stream",
     "text": [
      "\n",
      "4.3021142204224816e-16\t0.0030644564938191454\t0.004051772220593239\t27.078630512131635\n"
     ]
    },
    {
     "name": "stdout",
     "output_type": "stream",
     "text": [
      "5.551115123125783e-16\t0.0030404576423466168\t0.00405716597803422\t26.967848000851454"
     ]
    },
    {
     "name": "stdout",
     "output_type": "stream",
     "text": [
      "\n",
      "-3.8163916471489756e-17\t0.0027929135051490417\t0.004230078306904391\t26.527873947436838\n"
     ]
    },
    {
     "name": "stdout",
     "output_type": "stream",
     "text": [
      "-4.440892098500626e-16\t0.004587105911913858\t0.0027816165199938815\t24.818473601076132"
     ]
    },
    {
     "name": "stdout",
     "output_type": "stream",
     "text": [
      "\n",
      "7.979727989493313e-17\t0.0028912117664563475\t0.004095550033500079\t26.29750891873052\n"
     ]
    },
    {
     "name": "stdout",
     "output_type": "stream",
     "text": [
      "-5.88418203051333e-15\t0.007173118338704154\t0.0017546210302920632\t22.14349325412861"
     ]
    },
    {
     "name": "stdout",
     "output_type": "stream",
     "text": [
      "\n",
      "-1.6653345369377348e-15\t0.003255465512829403\t0.0037386262354339793\t26.057766379919656\n"
     ]
    },
    {
     "name": "stdout",
     "output_type": "stream",
     "text": [
      "8.326672684688674e-17\t0.0030073308502872043\t0.003973160390776502\t26.210729002686936"
     ]
    },
    {
     "name": "stdout",
     "output_type": "stream",
     "text": [
      "\n",
      "1.6653345369377348e-16\t0.0030003810665306663\t0.003963567996127769\t26.10581721307968\n"
     ]
    },
    {
     "name": "stdout",
     "output_type": "stream",
     "text": [
      "6.869504964868156e-16\t0.0025663342647052056\t0.004337207626871388\t25.689111708121285"
     ]
    },
    {
     "name": "stdout",
     "output_type": "stream",
     "text": [
      "\n",
      "-1.249000902703301e-16\t0.0026941601161353246\t0.0041948622077374815\t25.67260479838925\n"
     ]
    },
    {
     "name": "stdout",
     "output_type": "stream",
     "text": [
      "-1.4432899320127035e-15\t0.004184681548102864\t0.0029599721384697937\t24.68266987284424\n"
     ]
    },
    {
     "name": "stdout",
     "output_type": "stream",
     "text": [
      "2.688821387764051e-17\t0.0027532432878171753\t0.004115182490700364\t25.55773072436086\n"
     ]
    },
    {
     "name": "stdout",
     "output_type": "stream",
     "text": [
      "-3.8163916471489756e-16\t0.0030373082670722695\t0.0038166602475593\t25.351077014759582"
     ]
    },
    {
     "name": "stdout",
     "output_type": "stream",
     "text": [
      "\n",
      "-7.979727989493313e-17\t0.002878084982802065\t0.0039607172738874855\t25.35271816418042"
     ]
    },
    {
     "name": "stdout",
     "output_type": "stream",
     "text": [
      "\n",
      "-5.828670879282072e-16\t0.0028315519860229177\t0.003950327629014755\t25.006370463169645"
     ]
    },
    {
     "name": "stdout",
     "output_type": "stream",
     "text": [
      "\n",
      "1.2212453270876722e-15\t0.0014967962194163964\t0.0056452993378502524\t23.654387837056042\n"
     ]
    },
    {
     "name": "stdout",
     "output_type": "stream",
     "text": [
      "1.5543122344752192e-15\t0.0023277020438909335\t0.004437293277732429\t24.63005033151645\n"
     ]
    },
    {
     "name": "stdout",
     "output_type": "stream",
     "text": [
      "2.0816681711721685e-17\t0.0026499837138529436\t0.004103698883147293\t24.835921284118296"
     ]
    },
    {
     "name": "stdout",
     "output_type": "stream",
     "text": [
      "\n",
      "3.3306690738754696e-15\t0.001771876964351049\t0.005084635554023175\t23.666733715617756\n"
     ]
    },
    {
     "name": "stdout",
     "output_type": "stream",
     "text": [
      "-2.7755575615628914e-17\t0.0021740595387050865\t0.004596196498795372\t24.394364345949207\n"
     ]
    },
    {
     "name": "stdout",
     "output_type": "stream",
     "text": [
      "1.5959455978986625e-16\t0.002543859570907747\t0.004202577998197415\t24.745429335219242\n"
     ]
    },
    {
     "name": "stdout",
     "output_type": "stream",
     "text": [
      "-3.0531133177191805e-16\t0.002506194639489312\t0.004218926098924821\t24.59511743341279\n"
     ]
    },
    {
     "name": "stdout",
     "output_type": "stream",
     "text": [
      "-6.938893903907228e-17\t0.0029513642232897874\t0.003685430775897737\t24.00050296783177\n"
     ]
    },
    {
     "name": "stdout",
     "output_type": "stream",
     "text": [
      "6.800116025829084e-15\t0.004300547205417393\t0.002273582729676616\t19.341967384493387\n"
     ]
    },
    {
     "name": "stdout",
     "output_type": "stream",
     "text": [
      "1.734723475976807e-15\t0.0028450178181267938\t0.003680785058696257\t23.375631924349072\n"
     ]
    },
    {
     "name": "stdout",
     "output_type": "stream",
     "text": [
      "-2.4424906541753444e-15\t0.002963876432586998\t0.0031794843848901512\t20.765901466442223"
     ]
    },
    {
     "name": "stdout",
     "output_type": "stream",
     "text": [
      "\n",
      "1.27675647831893e-15\t0.06157054883413071\t9.690681449554243e-5\t12.036810959317426\n"
     ]
    },
    {
     "name": "stdout",
     "output_type": "stream",
     "text": [
      "-1.7486012637846216e-15\t0.0029668474028224923\t0.00317450160868244\t20.747637617409374"
     ]
    },
    {
     "name": "stdout",
     "output_type": "stream",
     "text": [
      "\n",
      "2.1510571102112408e-15\t0.0029876426410220813\t0.003147629298085248\t20.671056801802738\n"
     ]
    },
    {
     "name": "stdout",
     "output_type": "stream",
     "text": [
      "-1.4016565685892601e-15\t0.0027928863301021623\t0.003276247854803424\t20.54602978912714\n"
     ]
    },
    {
     "name": "stdout",
     "output_type": "stream",
     "text": [
      "3.6914915568786455e-15\t0.0044569640480198736\t0.0020829460109876175\t18.19260624634172\n"
     ]
    },
    {
     "name": "stdout",
     "output_type": "stream",
     "text": [
      "-6.418476861114186e-17\t0.0022949051394303144\t0.0035591815350802516\t19.572046026817425\n"
     ]
    },
    {
     "name": "stdout",
     "output_type": "stream",
     "text": [
      "3.427813588530171e-15\t0.004442068552833522\t0.0021059127797914815\t18.347771304996243\n"
     ]
    },
    {
     "name": "stdout",
     "output_type": "stream",
     "text": [
      "3.3393426912553537e-16\t0.0023488600192429487\t0.003476739146997154\t19.413948497825984"
     ]
    },
    {
     "name": "stdout",
     "output_type": "stream",
     "text": [
      "\n",
      "-1.4988010832439613e-15\t0.003414997065901315\t0.002594165318528776\t18.697969280884095\n"
     ]
    },
    {
     "name": "stdout",
     "output_type": "stream",
     "text": [
      "-2.220446049250313e-16\t0.0024239841443896015\t0.003365543744574321\t19.189100923292955"
     ]
    },
    {
     "name": "stdout",
     "output_type": "stream",
     "text": [
      "\n",
      "-1.8596235662471372e-15\t0.004267909825933891\t0.0021386694555889547\t18.092832512247874\n"
     ]
    },
    {
     "name": "stdout",
     "output_type": "stream",
     "text": [
      "1.1657341758564144e-15\t0.0024723211758251873\t0.0033033799470492025\t19.08370990464342"
     ]
    },
    {
     "name": "stdout",
     "output_type": "stream",
     "text": [
      "\n",
      "3.3029134982598407e-15\t0.0032064715350168527\t0.002675500152544039\t18.451716348306775\n"
     ]
    },
    {
     "name": "stdout",
     "output_type": "stream",
     "text": [
      "-1.249000902703301e-16\t0.0024952243706468646\t0.0032632749051067634\t18.968310298722898"
     ]
    },
    {
     "name": "stdout",
     "output_type": "stream",
     "text": [
      "\n",
      "-7.771561172376096e-16\t0.002514077649893587\t0.0032094250349638644\t18.74931429472005\n"
     ]
    },
    {
     "name": "stdout",
     "output_type": "stream",
     "text": [
      "-3.8163916471489756e-17\t0.0022592323388846425\t0.0034062327431796076\t18.539063661833016"
     ]
    },
    {
     "name": "stdout",
     "output_type": "stream",
     "text": [
      "\n",
      "-3.469446951953614e-18\t0.0020788919923813154\t0.003402328577264764\t17.540049179105438\n"
     ]
    },
    {
     "name": "stdout",
     "output_type": "stream",
     "text": [
      "7.049916206369744e-15\t0.07993634831418162\t7.592537230559226e-5\t13.975072318664184\n"
     ]
    },
    {
     "name": "stdout",
     "output_type": "stream",
     "text": [
      "1.5720931501039814e-17\t0.00216771709842023\t0.003303331568699248\t17.49909109323308\n"
     ]
    },
    {
     "name": "stdout",
     "output_type": "stream",
     "text": [
      "-2.398081733190338e-14\t0.3127368836874167\t2.607460105724548e-6\t10.711909346615707"
     ]
    },
    {
     "name": "stdout",
     "output_type": "stream",
     "text": [
      "\n",
      "2.220446049250313e-16\t0.002186381839281659\t0.0032832599489972573\t17.490342146334616\n"
     ]
    },
    {
     "name": "stdout",
     "output_type": "stream",
     "text": [
      "2.0816681711721685e-17\t0.0021609138526065275\t0.0032765324774245656\t17.321592714124463\n"
     ]
    },
    {
     "name": "stdout",
     "output_type": "stream",
     "text": [
      "2.983724378680108e-16\t0.0019776891538198504\t0.0033373571149525614\t16.660037343432414\n"
     ]
    },
    {
     "name": "stdout",
     "output_type": "stream",
     "text": [
      "-1.4432899320127035e-15\t0.015005773756873786\t0.0005899644554152436\t14.228893591040924\n"
     ]
    },
    {
     "name": "stdout",
     "output_type": "stream",
     "text": [
      "1.9845236565174673e-15\t0.002411760365019333\t0.002902937229353259\t16.496025800101805"
     ]
    },
    {
     "name": "stdout",
     "output_type": "stream",
     "text": [
      "\n",
      "9.71445146547012e-17\t0.0021417241102062445\t0.0031561228228745497\t16.58838863374164"
     ]
    },
    {
     "name": "stdout",
     "output_type": "stream",
     "text": [
      "\n",
      "4.6629367034256575e-15\t0.003643326155116644\t0.0020928479831578885\t15.792241063638249"
     ]
    },
    {
     "name": "stdout",
     "output_type": "stream",
     "text": [
      "\n",
      "2.3592239273284576e-16\t0.0022043009786918977\t0.0030924309815008257\t16.561872194237324\n"
     ]
    },
    {
     "name": "stdout",
     "output_type": "stream",
     "text": [
      "-3.0878077872387166e-16\t0.0022073291709663323\t0.0030685180909858774\t16.448564174169498\n"
     ]
    },
    {
     "name": "stdout",
     "output_type": "stream",
     "text": [
      "-8.326672684688674e-16\t0.001790368161493805\t0.003437225187001574\t16.104060631972757\n"
     ]
    },
    {
     "name": "stdout",
     "output_type": "stream",
     "text": [
      "-7.077671781985373e-16\t0.0021390690580998517\t0.003101947530493815\t16.29049127801891\n"
     ]
    },
    {
     "name": "stdout",
     "output_type": "stream",
     "text": [
      "4.926614671774132e-16\t0.0019176205550622272\t0.0033023661224509154\t16.162682563365678"
     ]
    },
    {
     "name": "stdout",
     "output_type": "stream",
     "text": [
      "\n",
      "6.938893903907228e-17\t0.0018304693504901381\t0.00338281350384833\t16.07310161507891\n"
     ]
    },
    {
     "name": "stdout",
     "output_type": "stream",
     "text": [
      "2.1371793224034263e-15\t0.002536101067400931\t0.0026359625828314788\t15.489252392305374\n"
     ]
    },
    {
     "name": "stdout",
     "output_type": "stream",
     "text": [
      "-5.655198531684391e-16\t0.0018236551929240452\t0.003373181864500628\t15.989460570441011"
     ]
    },
    {
     "name": "stdout",
     "output_type": "stream",
     "text": [
      "\n",
      "3.400058012914542e-16\t0.0019429974191468302\t0.0031718477227276986\t15.655055343388987\n"
     ]
    },
    {
     "name": "stdout",
     "output_type": "stream",
     "text": [
      "4.180683577104105e-16\t0.002072178553509385\t0.003034234752009427\t15.609685207519224"
     ]
    },
    {
     "name": "stdout",
     "output_type": "stream",
     "text": [
      "\n",
      "9.992007221626409e-16\t0.002694621707513223\t0.0025223375063110273\t15.438522449583004\n"
     ]
    },
    {
     "name": "stdout",
     "output_type": "stream",
     "text": [
      "1.3877787807814457e-16\t0.0020897334361524855\t0.0030165056644799403\t15.6035132702366\n"
     ]
    },
    {
     "name": "stdout",
     "output_type": "stream",
     "text": [
      "-2.8449465006019636e-16\t0.002089141175348308\t0.0030139910681623774\t15.587641690995191\n"
     ]
    },
    {
     "name": "stdout",
     "output_type": "stream",
     "text": [
      "5.204170427930421e-17\t0.002112358546517812\t0.002980294260809779\t15.524285329124638\n"
     ]
    },
    {
     "name": "stdout",
     "output_type": "stream",
     "text": [
      "-8.881784197001252e-16\t0.0022728324719678006\t0.002801147542361544\t15.305994169638415"
     ]
    },
    {
     "name": "stdout",
     "output_type": "stream",
     "text": [
      "\n",
      "3.885780586188048e-16\t0.0020825326100717967\t0.002970438039173981\t15.330886932491541\n"
     ]
    },
    {
     "name": "stdout",
     "output_type": "stream",
     "text": [
      "6.245004513516506e-16\t0.002092438898664173\t0.0029418179613889214\t15.229944298851374"
     ]
    },
    {
     "name": "stdout",
     "output_type": "stream",
     "text": [
      "\n",
      "4.718447854656915e-16\t0.002181761334211163\t0.0028334627835677256\t15.073381423855414\n"
     ]
    },
    {
     "name": "stdout",
     "output_type": "stream",
     "text": [
      "-4.996003610813204e-16\t0.0022662789110093895\t0.0027403068542429564\t14.94516859343278\n"
     ]
    },
    {
     "name": "stdout",
     "output_type": "stream",
     "text": [
      "7.008282842946301e-16\t0.002213667381249229\t0.002769372861540132\t14.872889861775313"
     ]
    },
    {
     "name": "stdout",
     "output_type": "stream",
     "text": [
      "\n",
      "5.551115123125783e-17\t0.0022794598574130687\t0.0026642761390001423\t14.585992851570001\n"
     ]
    },
    {
     "name": "stdout",
     "output_type": "stream",
     "text": [
      "1.249000902703301e-16\t0.00213554764453483\t0.0028145910786539683\t14.765546075053965\n"
     ]
    },
    {
     "name": "stdout",
     "output_type": "stream",
     "text": [
      "-9.103828801926284e-15\t0.91308467394914\t7.272155519565856e-11\t7.979202093499892"
     ]
    },
    {
     "name": "stdout",
     "output_type": "stream",
     "text": [
      "\n",
      "6.938893903907228e-18\t0.00213211458037732\t0.0028164711618984236\t14.759955489830368"
     ]
    },
    {
     "name": "stdout",
     "output_type": "stream",
     "text": [
      "\n",
      "3.469446951953614e-16\t0.0021356542641808307\t0.002790227517183178\t14.638208482530251\n"
     ]
    },
    {
     "name": "stdout",
     "output_type": "stream",
     "text": [
      "7.806255641895632e-18\t0.001916365271449283\t0.0029801931323069396\t14.579775279394717"
     ]
    },
    {
     "name": "stdout",
     "output_type": "stream",
     "text": [
      "\n",
      "-2.7408630920433552e-15\t0.0023349000425098576\t0.002589339901632272\t14.401944104016493\n"
     ]
    },
    {
     "name": "stdout",
     "output_type": "stream",
     "text": [
      "-2.498001805406602e-16\t0.002000061359429539\t0.002887330945045007\t14.518154643743296\n"
     ]
    },
    {
     "name": "stdout",
     "output_type": "stream",
     "text": [
      "3.400058012914542e-16\t0.002089145933641401\t0.0027894938489533587\t14.4266170095454"
     ]
    },
    {
     "name": "stdout",
     "output_type": "stream",
     "text": [
      "\n",
      "1.6653345369377348e-16\t0.002028472353239996\t0.0028277859979680946\t14.348573116857857\n"
     ]
    },
    {
     "name": "stdout",
     "output_type": "stream",
     "text": [
      "4.440892098500626e-16\t0.002374236007949504\t0.0025033332119199607\t14.078185152972363\n"
     ]
    },
    {
     "name": "stdout",
     "output_type": "stream",
     "text": [
      "2.498001805406602e-16\t0.002043338496525382\t0.002791086950224769\t14.229267454443821"
     ]
    },
    {
     "name": "stdout",
     "output_type": "stream",
     "text": [
      "\n",
      "-3.0531133177191805e-16\t0.001788012063417277\t0.0030146293127184154\t14.1123620303721\n"
     ]
    },
    {
     "name": "stdout",
     "output_type": "stream",
     "text": [
      "9.020562075079397e-16\t0.0021919682729285572\t0.0025424007449288796\t13.56628357853056"
     ]
    },
    {
     "name": "stdout",
     "output_type": "stream",
     "text": [
      "\n",
      "1.1102230246251565e-15\t0.02464607184291817\t0.0002901708079732083\t11.572721819603425\n"
     ]
    },
    {
     "name": "stdout",
     "output_type": "stream",
     "text": [
      "-1.3877787807814457e-16\t0.002196454240472767\t0.0025260712691936205\t13.497167085891716\n"
     ]
    },
    {
     "name": "stdout",
     "output_type": "stream",
     "text": [
      "-3.219646771412954e-15\t0.005972756343385122\t0.0011587265397064945\t12.640867302737593"
     ]
    },
    {
     "name": "stdout",
     "output_type": "stream",
     "text": [
      "\n",
      "-1.6653345369377348e-16\t0.002198696262157185\t0.002518007669520178\t13.463055870354982"
     ]
    },
    {
     "name": "stdout",
     "output_type": "stream",
     "text": [
      "\n",
      "2.0816681711721685e-17\t0.0018854438940126284\t0.0027673605371274896\t13.39867715613075"
     ]
    },
    {
     "name": "stdout",
     "output_type": "stream",
     "text": [
      "\n",
      "-4.553649124439119e-18\t0.0017909700268408102\t0.002839109593093355\t13.30460178132598\n"
     ]
    },
    {
     "name": "stdout",
     "output_type": "stream",
     "text": [
      "1.1102230246251565e-15\t0.004931552451166332\t0.0013367288593548739\t12.59038899239749"
     ]
    },
    {
     "name": "stdout",
     "output_type": "stream",
     "text": [
      "\n",
      "-4.5102810375396984e-17\t0.0017707267252392578\t0.0028550027589730603\t13.283330701118485\n"
     ]
    },
    {
     "name": "stdout",
     "output_type": "stream",
     "text": [
      "2.4980018054066022e-15\t0.0025636863176269342\t0.002190266983872146\t12.963889661420968"
     ]
    },
    {
     "name": "stdout",
     "output_type": "stream",
     "text": [
      "\n",
      "1.2836953722228372e-16\t0.001726249674311675\t0.0028781431732157288\t13.178091134854627"
     ]
    },
    {
     "name": "stdout",
     "output_type": "stream",
     "text": [
      "\n",
      "-1.1015494072452725e-16\t0.001818633385564039\t0.002772475465905454\t13.119050562765981\n"
     ]
    },
    {
     "name": "stdout",
     "output_type": "stream",
     "text": [
      "-1.2212453270876722e-15\t0.003250931283914016\t0.0018461465366942877\t12.854897361454618"
     ]
    },
    {
     "name": "stdout",
     "output_type": "stream",
     "text": [
      "\n",
      "2.498001805406602e-16\t0.0018389862400829404\t0.00275133826711452\t13.111291104940172\n"
     ]
    },
    {
     "name": "stdout",
     "output_type": "stream",
     "text": [
      "-4.996003610813204e-16\t0.0018676918180963176\t0.0027211830951804484\t13.095932568206031"
     ]
    },
    {
     "name": "stdout",
     "output_type": "stream",
     "text": [
      "\n",
      "1.5959455978986625e-16\t0.0018842428369506004\t0.002702800915810391\t13.080784706460332"
     ]
    },
    {
     "name": "stdout",
     "output_type": "stream",
     "text": [
      "\n",
      "-5.412337245047638e-16\t0.0018846147456489382\t0.002699381518831928\t13.065879697577595\n"
     ]
    },
    {
     "name": "stdout",
     "output_type": "stream",
     "text": [
      "2.7755575615628914e-17\t0.0018514738606130732\t0.002729262762844163\t13.062140643656564"
     ]
    },
    {
     "name": "stdout",
     "output_type": "stream",
     "text": [
      "\n",
      "-4.510281037539698e-16\t0.0018377397425303754\t0.0027411324426410174\t13.05703268615467\n"
     ]
    },
    {
     "name": "stdout",
     "output_type": "stream",
     "text": [
      "-5.204170427930421e-17\t0.0018218839475483972\t0.002755333424546295\t13.052706792416483\n"
     ]
    },
    {
     "name": "stdout",
     "output_type": "stream",
     "text": [
      "2.3592239273284576e-16\t0.0018309872014211637\t0.0027447047534317863\t13.043532654688367\n"
     ]
    },
    {
     "name": "stdout",
     "output_type": "stream",
     "text": [
      "-1.0842021724855044e-18\t0.0017682859392304517\t0.0028050264257945745\t13.039450364572001\n"
     ]
    },
    {
     "name": "stdout",
     "output_type": "stream",
     "text": [
      "1.2663481374630692e-16\t0.0020034795516854498\t0.002585002770413668\t13.012275718733093\n"
     ]
    },
    {
     "name": "stdout",
     "output_type": "stream",
     "text": [
      "6.028164079019405e-17\t0.0017974668577731001\t0.0027747737446171664\t13.032931053696142"
     ]
    },
    {
     "name": "stdout",
     "output_type": "stream",
     "text": [
      "\n",
      "4.3021142204224816e-16\t0.0018321531647843559\t0.002738791594671397\t13.02069138266356\n"
     ]
    },
    {
     "name": "stdout",
     "output_type": "stream",
     "text": [
      "2.498001805406602e-16\t0.001827569949962582\t0.002739224987995292\t13.00207007145777\n"
     ]
    },
    {
     "name": "stdout",
     "output_type": "stream",
     "text": [
      "-3.122502256758253e-17\t0.0018870126350001848\t0.0026649628912036533\t12.90974475839272"
     ]
    },
    {
     "name": "stdout",
     "output_type": "stream",
     "text": [
      "\n",
      "1.6653345369377348e-16\t0.0019061501809613524\t0.002640917618824105\t12.875914776153454\n"
     ]
    },
    {
     "name": "stdout",
     "output_type": "stream",
     "text": [
      "-3.8163916471489756e-16\t0.0017973270036995004\t0.002745470720015788\t12.894661772551135\n"
     ]
    },
    {
     "name": "stdout",
     "output_type": "stream",
     "text": [
      "3.95516952522712e-16\t0.0018234500284812216\t0.0027141083371361578\t12.86442104259429"
     ]
    },
    {
     "name": "stdout",
     "output_type": "stream",
     "text": [
      "\n",
      "-1.5265566588595902e-15\t0.0019335922326872979\t0.0025993799820532722\t12.789762555868702\n"
     ]
    },
    {
     "name": "stdout",
     "output_type": "stream",
     "text": [
      "-1.5959455978986625e-16\t0.0018888842877747836\t0.002641559942158319\t12.804467767725367\n"
     ]
    },
    {
     "name": "stdout",
     "output_type": "stream",
     "text": [
      "9.71445146547012e-17\t0.0018256308794127318\t0.002703496475806827\t12.8238411652851"
     ]
    },
    {
     "name": "stdout",
     "output_type": "stream",
     "text": [
      "\n",
      "4.163336342344337e-17\t0.0018378712805262043\t0.0026902520091933962\t12.815252701044848\n"
     ]
    },
    {
     "name": "stdout",
     "output_type": "stream",
     "text": [
      "-2.498001805406602e-16\t0.0018330832679063214\t0.002694697537033583\t12.81518814284841"
     ]
    },
    {
     "name": "stdout",
     "output_type": "stream",
     "text": [
      "\n",
      "4.3021142204224816e-16\t0.0018247901609782513\t0.002702923180392863\t12.817376346194429"
     ]
    },
    {
     "name": "stdout",
     "output_type": "stream",
     "text": [
      "\n",
      "2.7755575615628914e-17\t0.0018256313896775067\t0.0027020675111865764\t12.817065246765699\n"
     ]
    },
    {
     "name": "stdout",
     "output_type": "stream",
     "text": [
      "1.5265566588595902e-16\t0.0018250775100122074\t0.002702615816271217\t12.817198858297466"
     ]
    },
    {
     "name": "stdout",
     "output_type": "stream",
     "text": [
      "\n",
      "1.249000902703301e-16\t0.0018257983959404367\t0.0027018869717006246\t12.816952562186913"
     ]
    },
    {
     "name": "stdout",
     "output_type": "stream",
     "text": [
      "\n",
      "3.0531133177191805e-16\t0.0018266500224092264\t0.002701017678379802\t12.816619810452067\n"
     ]
    },
    {
     "name": "stdout",
     "output_type": "stream",
     "text": [
      "-3.469446951953614e-16\t0.0018286224076679014\t0.0026990000237047665\t12.815817709120724"
     ]
    },
    {
     "name": "stdout",
     "output_type": "stream",
     "text": [
      "\n",
      "-2.636779683484747e-16\t0.0018314522825780277\t0.0026960769875482436\t12.814506487793302"
     ]
    },
    {
     "name": "stdout",
     "output_type": "stream",
     "text": [
      "\n",
      "-6.036837696399289e-16\t0.001836559947207994\t0.002690779596597838\t12.811957991382917"
     ]
    },
    {
     "name": "stdout",
     "output_type": "stream",
     "text": [
      "\n",
      "-2.671474153004283e-16\t0.0018408475226294185\t0.002686297100891393\t12.809569853066943\n"
     ]
    },
    {
     "name": "stdout",
     "output_type": "stream",
     "text": [
      "-3.677613769070831e-16\t0.0018423581664105404\t0.0026846245946655833\t12.808266613398532"
     ]
    },
    {
     "name": "stdout",
     "output_type": "stream",
     "text": [
      "\n",
      "-1.1796119636642288e-16\t0.0018405404664317282\t0.002686341227273769\t12.808423084273706"
     ]
    },
    {
     "name": "stdout",
     "output_type": "stream",
     "text": [
      "\n",
      "-1.457167719820518e-16\t0.0018367771666654709\t0.0026898702685696197\t12.808590092700955\n"
     ]
    },
    {
     "name": "stdout",
     "output_type": "stream",
     "text": [
      "6.869504964868156e-16\t0.0018316898955669236\t0.002694379693234451\t12.807493684792133"
     ]
    },
    {
     "name": "stdout",
     "output_type": "stream",
     "text": [
      "\n",
      "2.185751579730777e-16\t0.0018275503154009387\t0.0026969018823485747\t12.801090963225448"
     ]
    },
    {
     "name": "stdout",
     "output_type": "stream",
     "text": [
      "\n",
      "-2.6020852139652106e-16\t0.0018324740180832855\t0.0026895268169116874\t12.787899251551625\n"
     ]
    },
    {
     "name": "stdout",
     "output_type": "stream",
     "text": [
      "-1.5265566588595902e-16\t0.0017931478213363272\t0.0027259166649467644\t12.783980540103144\n"
     ]
    },
    {
     "name": "stdout",
     "output_type": "stream",
     "text": [
      "-4.961309141293668e-16\t0.001836451079199386\t0.0026796870080863927\t12.758661181660056\n"
     ]
    },
    {
     "name": "stdout",
     "output_type": "stream",
     "text": [
      "1.0408340855860843e-16\t0.0018483416011232379\t0.0026643869061736326\t12.737930123451154\n"
     ]
    },
    {
     "name": "stdout",
     "output_type": "stream",
     "text": [
      "-3.226585665316861e-16\t0.0018522870384061196\t0.0026566282391764164\t12.7180648207123\n"
     ]
    },
    {
     "name": "stdout",
     "output_type": "stream",
     "text": [
      "4.163336342344337e-17\t0.001874880711861815\t0.0026291761764834372\t12.684134951131856\n"
     ]
    },
    {
     "name": "stdout",
     "output_type": "stream",
     "text": [
      "-1.2836953722228372e-16\t0.001653501491375109\t0.002815760719375589\t12.549268492958909\n"
     ]
    },
    {
     "name": "stdout",
     "output_type": "stream",
     "text": [
      "3.1086244689504383e-15\t0.018242929993651957\t0.0003941022461517516\t11.50015213598549"
     ]
    },
    {
     "name": "stdout",
     "output_type": "stream",
     "text": [
      "\n",
      "3.608224830031759e-16\t0.0016487702458978237\t0.002820255628369557\t12.546833150889423\n"
     ]
    },
    {
     "name": "stdout",
     "output_type": "stream",
     "text": [
      "-3.122502256758253e-16\t0.001587816851468582\t0.002877230190693905\t12.503674280823407"
     ]
    },
    {
     "name": "stdout",
     "output_type": "stream",
     "text": [
      "\n",
      "-5.440092820663267e-15\t0.006810377335402629\t0.0009907084193991368\t11.990738871345384"
     ]
    },
    {
     "name": "stdout",
     "output_type": "stream",
     "text": [
      "\n",
      "-3.608224830031759e-16\t0.0015823221904535667\t0.0028807139248845665\t12.491917954634143\n"
     ]
    },
    {
     "name": "stdout",
     "output_type": "stream",
     "text": [
      "-1.1310397063368782e-15\t0.0015878192042675376\t0.0028700006213228015\t12.472267971775633"
     ]
    },
    {
     "name": "stdout",
     "output_type": "stream",
     "text": [
      "\n",
      "-2.7478019859472624e-15\t0.0033500836192171257\t0.0017197108608995072\t12.229035010020617"
     ]
    },
    {
     "name": "stdout",
     "output_type": "stream",
     "text": [
      "\n",
      "-1.8735013540549517e-16\t0.0016154666912434057\t0.002834786952210106\t12.452103099807369\n"
     ]
    },
    {
     "name": "stdout",
     "output_type": "stream",
     "text": [
      "1.942890293094024e-16\t0.0016657853342819662\t0.0027767037992162346\t12.432569135161692"
     ]
    },
    {
     "name": "stdout",
     "output_type": "stream",
     "text": [
      "\n",
      "7.216449660063518e-16\t0.002308608455732941\t0.0022335068941966\t12.330368546828714\n"
     ]
    },
    {
     "name": "stdout",
     "output_type": "stream",
     "text": [
      "-4.85722573273506e-17\t0.001733517661384798\t0.0027042416756748308\t12.414614924165402"
     ]
    },
    {
     "name": "stdout",
     "output_type": "stream",
     "text": [
      "\n",
      "-1.0061396160665481e-16\t0.0017653007691411648\t0.002671966689774516\t12.40767217652796\n"
     ]
    },
    {
     "name": "stdout",
     "output_type": "stream",
     "text": [
      "-2.3592239273284576e-15\t0.004149187024689749\t0.0014615769993993515\t12.112288437846036\n"
     ]
    },
    {
     "name": "stdout",
     "output_type": "stream",
     "text": [
      "-9.540979117872439e-17\t0.0017741665051272948\t0.002662979147271281\t12.405102618020386"
     ]
    },
    {
     "name": "stdout",
     "output_type": "stream",
     "text": [
      "\n",
      "6.800116025829084e-16\t0.0018293018963659868\t0.0026032633877754773\t12.364140206425247\n"
     ]
    },
    {
     "name": "stdout",
     "output_type": "stream",
     "text": [
      "2.42861286636753e-17\t0.0017500739391798081\t0.0026745192477731048\t12.351869888834573"
     ]
    },
    {
     "name": "stdout",
     "output_type": "stream",
     "text": [
      "\n",
      "-4.163336342344337e-17\t0.0017613245921112575\t0.0026480509800539493\t12.279135877334548\n"
     ]
    },
    {
     "name": "stdout",
     "output_type": "stream",
     "text": [
      "-1.8318679906315083e-15\t0.0035479585442406147\t0.0016078321405574108\t11.905829492362852"
     ]
    },
    {
     "name": "stdout",
     "output_type": "stream",
     "text": [
      "\n",
      "9.71445146547012e-17\t0.001752218668700789\t0.0026402499469309598\t12.203016948056028\n"
     ]
    },
    {
     "name": "stdout",
     "output_type": "stream",
     "text": [
      "-2.2811613709095013e-16\t0.0017579306051594967\t0.0026236665529072467\t12.151274275580146\n"
     ]
    },
    {
     "name": "stdout",
     "output_type": "stream",
     "text": [
      "1.887379141862766e-15\t0.00678542180253483\t0.0009575134021955951\t11.554927619613334\n"
     ]
    },
    {
     "name": "stdout",
     "output_type": "stream",
     "text": [
      "-1.6393136847980827e-16\t0.001761174738134974\t0.002619264335677083\t12.144999073607918"
     ]
    },
    {
     "name": "stdout",
     "output_type": "stream",
     "text": [
      "\n",
      "2.2811613709095013e-16\t0.001807026392839417\t0.00256936072953403\t12.108709914980015\n"
     ]
    },
    {
     "name": "stdout",
     "output_type": "stream",
     "text": [
      "2.2898349882893854e-16\t0.0017775846901719738\t0.002591020323853426\t12.084574327500357"
     ]
    },
    {
     "name": "stdout",
     "output_type": "stream",
     "text": [
      "\n",
      "-2.5326962749261384e-16\t0.0016397881684740434\t0.0027237456464436535\t12.076243746733168\n"
     ]
    },
    {
     "name": "stdout",
     "output_type": "stream",
     "text": [
      "1.1171619185290638e-15\t0.001969831580681425\t0.0024104100334959386\t12.002003681115513\n"
     ]
    },
    {
     "name": "stdout",
     "output_type": "stream",
     "text": [
      "-3.642919299551295e-17\t0.0017031803697321601\t0.002653710454048993\t12.048243806554268"
     ]
    },
    {
     "name": "stdout",
     "output_type": "stream",
     "text": [
      "\n",
      "-1.6653345369377348e-15\t0.0022200394990753436\t0.002223623976188806\t11.964437797598112\n"
     ]
    },
    {
     "name": "stdout",
     "output_type": "stream",
     "text": [
      "2.7755575615628914e-17\t0.0017290105934600342\t0.0026266827070159904\t12.038826745408922\n"
     ]
    },
    {
     "name": "stdout",
     "output_type": "stream",
     "text": [
      "1.0408340855860843e-16\t0.0017581380795101964\t0.0025957730418222614\t12.022982666880345"
     ]
    },
    {
     "name": "stdout",
     "output_type": "stream",
     "text": [
      "\n",
      "6.938893903907228e-17\t0.0017504327794518604\t0.002600912419375822\t12.01347958757658\n"
     ]
    },
    {
     "name": "stdout",
     "output_type": "stream",
     "text": [
      "-2.5673907444456745e-16\t0.001733791914630689\t0.002614050591435786\t12.001760782500797"
     ]
    },
    {
     "name": "stdout",
     "output_type": "stream",
     "text": [
      "\n",
      "-5.984795992119984e-17\t0.0016620623015200509\t0.0026855255026926855\t12.007515056362214"
     ]
    },
    {
     "name": "stdout",
     "output_type": "stream",
     "text": [
      "\n",
      "1.5092094240998222e-16\t0.0016976203894260022\t0.0026481832038880364\t11.998514618618058\n"
     ]
    },
    {
     "name": "stdout",
     "output_type": "stream",
     "text": [
      "5.759281940243e-16\t0.0017678691915529732\t0.0025780857252574825\t11.982710765728548"
     ]
    },
    {
     "name": "stdout",
     "output_type": "stream",
     "text": [
      "\n",
      "0.0\t0.001725372491770849\t0.002619608356975491\t11.99051107299766\n"
     ]
    },
    {
     "name": "stdout",
     "output_type": "stream",
     "text": [
      "3.642919299551295e-17\t0.0017283227891735642\t0.0026155940295070523\t11.985004902545647"
     ]
    },
    {
     "name": "stdout",
     "output_type": "stream",
     "text": [
      "\n",
      "4.5102810375396984e-17\t0.0017223447663546887\t0.0026198116646339335\t11.978209466961136"
     ]
    },
    {
     "name": "stdout",
     "output_type": "stream",
     "text": [
      "\n",
      "-4.336808689942018e-17\t0.0017039119156043725\t0.00263706204406292\t11.975883891863946"
     ]
    },
    {
     "name": "stdout",
     "output_type": "stream",
     "text": [
      "\n",
      "-4.0939474033052647e-16\t0.0017345173916127332\t0.0026062120020428287\t11.968921963665068\n"
     ]
    },
    {
     "name": "stdout",
     "output_type": "stream",
     "text": [
      "-5.898059818321144e-17\t0.00171405514048234\t0.0026264960080591114\t11.972424837274179"
     ]
    },
    {
     "name": "stdout",
     "output_type": "stream",
     "text": [
      "\n",
      "-2.0816681711721685e-16\t0.0017010005888075663\t0.002638914155557362\t11.971444289595762"
     ]
    },
    {
     "name": "stdout",
     "output_type": "stream",
     "text": [
      "\n",
      "-1.5265566588595902e-16\t0.001693500892103128\t0.0026462920583658453\t11.971695639922451\n"
     ]
    },
    {
     "name": "stdout",
     "output_type": "stream",
     "text": [
      "-2.7755575615628914e-17\t0.001701899717345412\t0.002637848740047452\t11.97057872701126\n"
     ]
    },
    {
     "name": "stdout",
     "output_type": "stream",
     "text": [
      "1.0408340855860843e-16\t0.0016901904168329374\t0.00264949400464804\t11.971490070932635"
     ]
    },
    {
     "name": "stdout",
     "output_type": "stream",
     "text": [
      "\n",
      "2.7755575615628914e-17\t0.001690280481846551\t0.002649386665764017\t11.971404821279862\n"
     ]
    },
    {
     "name": "stdout",
     "output_type": "stream",
     "text": [
      "1.5959455978986625e-16\t0.0016925751942206135\t0.0026470492896267066\t11.971017730414626\n"
     ]
    },
    {
     "name": "stdout",
     "output_type": "stream",
     "text": [
      "-7.28583859910259e-17\t0.0016921917668982212\t0.0026474028240468755\t11.970916465399078"
     ]
    },
    {
     "name": "stdout",
     "output_type": "stream",
     "text": [
      "\n",
      "-3.8163916471489756e-17\t0.0016916614161069377\t0.002647853224238884\t11.970600991262067"
     ]
    },
    {
     "name": "stdout",
     "output_type": "stream",
     "text": [
      "\n",
      "-1.97758476261356e-16\t0.0016914756473369597\t0.0026479403919180055\t11.97017112640372"
     ]
    },
    {
     "name": "stdout",
     "output_type": "stream",
     "text": [
      "\n",
      "-5.724587470723463e-17\t0.0016904249761020007\t0.002648747232936635\t11.969156676817787"
     ]
    },
    {
     "name": "stdout",
     "output_type": "stream",
     "text": [
      "\n",
      "-1.3010426069826053e-16\t0.0016845020590942617\t0.002654001804266936\t11.966557159223365"
     ]
    },
    {
     "name": "stdout",
     "output_type": "stream",
     "text": [
      "\n",
      "-2.6020852139652106e-18\t0.001651987026301871\t0.002685548513304927\t11.962092311827309"
     ]
    },
    {
     "name": "stdout",
     "output_type": "stream",
     "text": [
      "\n",
      "-5.828670879282072e-16\t0.0019327574833890582\t0.0024313968837721767\t11.959926800887882\n"
     ]
    },
    {
     "name": "stdout",
     "output_type": "stream",
     "text": [
      "-1.3877787807814457e-17\t0.0016728708038425966\t0.002664272797287907\t11.96087533411722"
     ]
    },
    {
     "name": "stdout",
     "output_type": "stream",
     "text": [
      "\n",
      "3.469446951953614e-18\t0.0016845429824622893\t0.0026516724961894414\t11.956236532307344\n"
     ]
    },
    {
     "name": "stdout",
     "output_type": "stream",
     "text": [
      "-7.549516567451064e-15\t0.005691719119844174\t0.0011323143614315914\t11.898399373631204"
     ]
    },
    {
     "name": "stdout",
     "output_type": "stream",
     "text": [
      "\n",
      "-1.734723475976807e-16\t0.0017345600698898123\t0.0026007611119795394\t11.94407389197014"
     ]
    },
    {
     "name": "stdout",
     "output_type": "stream",
     "text": [
      "\n",
      "3.209238430557093e-17\t0.0016926388512201185\t0.0026425930793667492\t11.95114669147327"
     ]
    },
    {
     "name": "stdout",
     "output_type": "stream",
     "text": [
      "\n",
      "-9.020562075079397e-16\t0.0018637692585619092\t0.0024825159253448665\t11.931348034695251\n"
     ]
    },
    {
     "name": "stdout",
     "output_type": "stream",
     "text": [
      "-1.0061396160665481e-16\t0.0017058117137938589\t0.0026284867354592744\t11.945290330609145\n"
     ]
    },
    {
     "name": "stdout",
     "output_type": "stream",
     "text": [
      "-4.163336342344337e-17\t0.00172672491447462\t0.0026059685432793193\t11.933956427823961"
     ]
    },
    {
     "name": "stdout",
     "output_type": "stream",
     "text": [
      "\n",
      "-3.8163916471489756e-16\t0.0017080498615817952\t0.0026218369015368003\t11.924879628847497"
     ]
    },
    {
     "name": "stdout",
     "output_type": "stream",
     "text": [
      "\n",
      "0.0\t0.0017725583617776985\t0.002559936854810052\t11.918268706146703\n"
     ]
    },
    {
     "name": "stdout",
     "output_type": "stream",
     "text": [
      "1.3877787807814457e-16\t0.0016991081182602952\t0.0026298483885633414\t11.921990109518934\n"
     ]
    },
    {
     "name": "stdout",
     "output_type": "stream",
     "text": [
      "-5.065392549852277e-16\t0.0017034579270580608\t0.002624350392395326\t11.916162975780852"
     ]
    },
    {
     "name": "stdout",
     "output_type": "stream",
     "text": [
      "\n",
      "1.214306433183765e-17\t0.0016835804145817757\t0.002644053909749602\t11.917617654565653\n"
     ]
    },
    {
     "name": "stdout",
     "output_type": "stream",
     "text": [
      "2.671474153004283e-16\t0.0017196489995754405\t0.002608198865722819\t11.913380470864444\n"
     ]
    },
    {
     "name": "stdout",
     "output_type": "stream",
     "text": [
      "1.5959455978986625e-16\t0.0016951754184681977\t0.0026323584495741826\t11.91604137007187"
     ]
    },
    {
     "name": "stdout",
     "output_type": "stream",
     "text": [
      "\n",
      "1.3530843112619095e-16\t0.0016984677997789466\t0.0026289754350816586\t11.915215654462653"
     ]
    },
    {
     "name": "stdout",
     "output_type": "stream",
     "text": [
      "\n",
      "-1.0755285551056204e-16\t0.0016956642593665139\t0.0026317507566890955\t11.915444328687286"
     ]
    },
    {
     "name": "stdout",
     "output_type": "stream",
     "text": [
      "\n",
      "-3.469446951953614e-18\t0.0016922344025509517\t0.0026351310807560422\t11.915614775987622\n"
     ]
    },
    {
     "name": "stdout",
     "output_type": "stream",
     "text": [
      "6.245004513516506e-17\t0.0016912259342028446\t0.002636131716518923\t11.915686668902115"
     ]
    },
    {
     "name": "stdout",
     "output_type": "stream",
     "text": [
      "\n",
      "2.1163626406917047e-16\t0.0016905077114927058\t0.0026368470307216716\t11.915747523294385"
     ]
    },
    {
     "name": "stdout",
     "output_type": "stream",
     "text": [
      "\n",
      "-9.71445146547012e-17\t0.0016905307230276057\t0.002636820452699229\t11.915729066780163\n"
     ]
    },
    {
     "data": {
      "text/plain": [
       " * Status: success\n",
       "\n",
       " * Candidate solution\n",
       "    Final objective value:     4.327351e-03\n",
       "\n",
       " * Found with\n",
       "    Algorithm:     BFGS\n",
       "\n",
       " * Convergence measures\n",
       "    |x - x'|               = 1.40e-03 ≰ 0.0e+00\n",
       "    |x - x'|/|x'|          = 4.08e-04 ≰ 0.0e+00\n",
       "    |f(x) - f(x')|         = 3.57e-09 ≰ 0.0e+00\n",
       "    |f(x) - f(x')|/|f(x')| = 8.24e-07 ≤ 1.0e-06\n",
       "    |g(x)|                 = 1.03e-04 ≰ 1.0e-04\n",
       "\n",
       " * Work counters\n",
       "    Seconds run:   2511  (vs limit Inf)\n",
       "    Iterations:    146\n",
       "    f(x) calls:    243\n",
       "    ∇f(x) calls:   243\n"
      ]
     },
     "metadata": {},
     "output_type": "display_data"
    }
   ],
   "source": [
    "res = optimize(p -> opt_func(p, last_p, grad, loss),\n",
    "               (grad, p) -> get_grad!(grad, p, last_p, loss),\n",
    "               initial_p,BFGS(linesearch=LineSearches.MoreThuente()),Optim.Options(g_tol=1e-4,f_tol=1e-6))"
   ]
  },
  {
   "cell_type": "code",
   "execution_count": 125,
   "metadata": {},
   "outputs": [
    {
     "data": {
      "text/plain": [
       " * Status: success\n",
       "\n",
       " * Candidate solution\n",
       "    Final objective value:     4.327351e-03\n",
       "\n",
       " * Found with\n",
       "    Algorithm:     BFGS\n",
       "\n",
       " * Convergence measures\n",
       "    |x - x'|               = 1.40e-03 ≰ 0.0e+00\n",
       "    |x - x'|/|x'|          = 4.08e-04 ≰ 0.0e+00\n",
       "    |f(x) - f(x')|         = 3.57e-09 ≰ 0.0e+00\n",
       "    |f(x) - f(x')|/|f(x')| = 8.24e-07 ≤ 1.0e-06\n",
       "    |g(x)|                 = 1.03e-04 ≰ 1.0e-04\n",
       "\n",
       " * Work counters\n",
       "    Seconds run:   2511  (vs limit Inf)\n",
       "    Iterations:    146\n",
       "    f(x) calls:    243\n",
       "    ∇f(x) calls:   243\n"
      ]
     },
     "metadata": {},
     "output_type": "display_data"
    }
   ],
   "source": [
    "res"
   ]
  },
  {
   "cell_type": "code",
   "execution_count": 132,
   "metadata": {},
   "outputs": [],
   "source": [
    "# writedlm(\"ls.txt\",ls)\n",
    "# writedlm(\"params.txt\",params)\n",
    "# readdlm(\"params.txt\")"
   ]
  },
  {
   "cell_type": "code",
   "execution_count": 35,
   "metadata": {},
   "outputs": [
    {
     "data": {
      "text/plain": [
       "0.99831"
      ]
     },
     "metadata": {},
     "output_type": "display_data"
    }
   ],
   "source": [
    "p_new = copy(Optim.minimizer(res));\n",
    "1-0.00169"
   ]
  },
  {
   "cell_type": "code",
   "execution_count": 43,
   "metadata": {},
   "outputs": [
    {
     "data": {
      "text/plain": [
       "retcode: Success\n",
       "Interpolation: 1st order linear\n",
       "t: 2000-element Vector{Float64}:\n",
       "  0.0\n",
       "  0.005960844955868015\n",
       "  0.01192168991173603\n",
       "  0.017882534867604046\n",
       "  0.02384337982347206\n",
       "  0.029804224779340076\n",
       "  0.03576506973520809\n",
       "  0.04172591469107611\n",
       "  0.04768675964694412\n",
       "  0.053647604602812135\n",
       "  ⋮\n",
       " 11.868042307133218\n",
       " 11.874003152089086\n",
       " 11.879963997044955\n",
       " 11.885924842000822\n",
       " 11.891885686956691\n",
       " 11.897846531912558\n",
       " 11.903807376868427\n",
       " 11.909768221824296\n",
       " 11.915729066780163\n",
       "u: 2000-element Vector{Matrix{ComplexF64}}:\n",
       " [7.458437020914339e-10 + 1.9551902702793405e-19im 7.165380802393358e-10 - 4.465451818806265e-19im; 4.750172604670167e-9 - 2.4109872830822624e-9im 4.545922347254764e-9 + 2.4419982821121935e-9im; … ; 4.750172562092263e-9 + 2.410987280507997e-9im 4.545922304677384e-9 - 2.441998265656064e-9im; 7.458437153439597e-10 + 0.0im 7.16538051171195e-10 + 0.0im]\n",
       " [6.656695544441812e-10 + 3.3627393342410934e-10im 6.424591675415885e-10 + 3.1716136301161073e-10im; 5.326356954794185e-9 - 9.78959037564362e-12im 2.9953740717583402e-9 + 4.202343763235187e-9im; … ; 3.1528750726001373e-9 + 4.294161055865007e-9im 5.156630070093305e-9 - 1.770332115243401e-10im; 6.656695470385484e-10 + 3.3627392015701776e-10im 6.424591835079539e-10 + 3.1716139209201215e-10im]\n",
       " [4.42162474929595e-10 + 6.002942503552782e-10im 4.353225855984482e-10 + 5.687821076616333e-10im; 4.755859790264214e-9 + 2.3944397064120532e-9im 8.24978456642619e-10 + 5.094697673709048e-9im; … ; 8.772421482487732e-10 + 5.255111342416041e-9im 4.699553741286323e-9 + 2.1254706516560225e-9im; 4.4216246779061376e-10 + 6.002942622288702e-10im 4.35322601587939e-10 + 5.687820821211643e-10im]\n",
       " [1.2328415779887328e-10 + 7.353145870613569e-10im 1.3785934403964468e-10 + 7.028496981155975e-10im; 3.1607407467494385e-9 + 4.2842679644241835e-9im -1.5171919652660283e-9 + 4.932967619901272e-9im; … ; -1.588210806313552e-9 + 5.0856456088634474e-9im 3.2685548749854273e-9 + 3.988980988263013e-9im; 1.232841697011554e-10 + 7.353145876050522e-10im 1.378593184549122e-10 + 7.028496960962296e-10im]\n",
       " [-2.219671041812646e-10 + 7.120662710793401e-10im -1.8800801438443608e-10 + 6.91424828961502e-10im; 8.854850440304405e-10 + 5.250779639899991e-9im -3.5466158916607806e-9 + 3.748072504540342e-9im; … ; -3.713186199541892e-9 + 3.8195976261275175e-9im 1.161000501385632e-9 + 5.025721668197598e-9im; -2.2196710880814995e-10 + 7.120662627125712e-10im -1.8800800556630275e-10 + 6.914248469860701e-10im]\n",
       " [-5.188316157307561e-10 + 5.345872601530788e-10im -4.743579265556663e-10 + 5.35955038864595e-10im; -1.5793045666247948e-9 + 5.080875399684662e-9im -4.843575698054122e-9 + 1.7835353362860605e-9im; … ; -5.040717292058457e-9 + 1.727612000002624e-9im -1.1858318935791718e-9 + 5.016030998234712e-9im; -5.188316186704333e-10 + 5.345872660729031e-10im -4.743579200367787e-10 + 5.359550274961874e-10im]\n",
       " [-7.042530177838964e-10 + 2.40104368545396e-10im -6.6266900727439e-10 + 2.6761818663298567e-10im; -3.7061978566346714e-9 + 3.807789374349103e-9im -5.138579481526714e-9 - 5.51345173114986e-10im; … ; -5.284028781802744e-9 - 7.374094304617594e-10im -3.2891806234334347e-9 + 3.958115732208661e-9im; -7.042530138774084e-10 + 2.4010436728718633e-10im -6.626690143598957e-10 + 2.676181888890224e-10im]\n",
       " [-7.399406070934704e-10 - 1.0614104570444307e-10im -7.155998370226413e-10 - 5.638703092071755e-11im; -5.0403208307162375e-9 + 1.7129265216930119e-9im -4.362858324382582e-9 - 2.7676364474278966e-9im; … ; -4.382930988890844e-9 - 3.0392392503079504e-9im -4.717235176384903e-9 + 2.0776835852545243e-9im; -7.3994060993365e-10 - 1.0614104578336263e-10im -7.155998316119981e-10 - 5.638703157335139e-11im]\n",
       " [-6.157356287993552e-10 - 4.249558672708789e-10im -6.200422532770348e-10 - 3.6439784105926903e-10im; -5.282670927834179e-9 - 7.376775706722292e-10im -2.664318994000473e-9 - 4.4094861902312495e-9im; … ; -2.518695713825924e-9 - 4.6853375902206675e-9im -5.163642192816589e-9 - 2.2041228542289271e-10im; -6.157356254700626e-10 - 4.249558657385513e-10im -6.200422602421623e-10 - 3.643978435579382e-10im]\n",
       " [-3.5032627228363846e-10 - 6.487218446394821e-10im -3.8789619885405934e-10 - 5.931666671484032e-10im; -4.353999077473755e-9 - 3.0192171585319587e-9im -3.9782635680418024e-10 - 5.1530066850024085e-9im; … ; -9.611473636308476e-11 - 5.337135063092863e-9im -4.508116293776083e-9 - 2.46128609153621e-9im; -3.503262734997869e-10 - 6.48721849297789e-10im -3.8789619561458515e-10 - 5.931666587491389e-10im]\n",
       " ⋮\n",
       " [-5.705222665975959e-10 + 6.299483206337409e-11im 3.1123641780209263e-10 + 5.815409366132168e-10im; -4.078260659180913e-9 - 2.203297891246418e-9im 4.174608036592738e-9 + 4.990905280247536e-9im; … ; -3.873512202527451e-9 + 4.181780134928312e-9im -2.2145578399867835e-9 + 2.709139922442507e-9im; -6.000879369059731e-10 + 1.8660836432763626e-10im -2.7008833719952648e-11 + 4.0542659846080674e-10im]\n",
       " [-5.866565804869167e-10 - 2.277192714792242e-10im -2.3259969180344326e-10 + 4.913651380362383e-10im; -2.4497954577401872e-9 - 3.48537695324791e-9im 1.2493943996995191e-9 + 5.6987820841333866e-9im; … ; -4.86277790930889e-9 + 2.1650208160408493e-9im -3.734156129230698e-9 + 1.5336559214655058e-9im; -6.539438051899285e-10 - 1.1559714262736601e-10im -3.087680271043518e-10 + 6.575338981406942e-10im]\n",
       " [-4.826415297144714e-10 - 3.299776845238873e-10im -6.261697623234742e-10 + 4.6502567965838794e-10im; -3.856385523138015e-10 - 4.209217628883206e-9im -1.6921720047194537e-9 + 5.434198959954824e-9im; … ; -4.9350942077653196e-9 - 2.8259788581300483e-10im -3.987009306828722e-9 - 3.311543591700384e-10im; -5.369676337885745e-10 - 3.1256589969593365e-10im -2.7041679612697757e-10 + 4.75728324302153e-10im]\n",
       " [-1.2071697269892027e-10 - 3.320744808889763e-10im -6.798652690815562e-10 + 3.1032254835439397e-10im; 1.5252360986430028e-9 - 3.9894646267827726e-9im -3.915934352312269e-9 + 4.2014362489453314e-9im; … ; -4.21533937510268e-9 - 2.2754808468413446e-9im -3.3800613088682067e-9 - 2.57096669444728e-9im; -2.5283360590723347e-10 - 4.3821799581558284e-10im -3.957767926464532e-10 - 4.8422321691425044e-11im]\n",
       " [3.033721574672116e-10 - 4.4299671801064194e-10im -5.890203396032857e-10 - 7.27932804377102e-11im; 3.0581528103736004e-9 - 2.7127268437032264e-9im -5.037306987956748e-9 + 2.1512666374394393e-9im; … ; -2.5053127934787314e-9 - 3.3267597933979065e-9im -2.208949616317306e-9 - 4.17366988873705e-9im; 5.812439968913373e-11 - 5.10373081459009e-10im -6.343231614768686e-10 - 3.344492597270249e-10im]\n",
       " [4.375857192697833e-10 - 5.40039550988469e-10im -5.353780526348241e-10 - 4.1714840520772116e-10im; 4.0175057989748705e-9 - 8.206717489080028e-10im -5.015530456891893e-9 - 2.7096425512861086e-10im; … ; -8.325077380782233e-11 - 3.6888820159198395e-9im -2.089351772014185e-10 - 4.590170906230475e-9im; 2.7701674910273004e-10 - 4.4653008623875055e-10im -5.005076911141667e-10 - 3.2459642453119357e-10im]\n",
       " [3.1804290253320905e-10 - 3.067786664586896e-10im -3.798607796404258e-10 - 4.944827803701166e-10im; 4.0207419464744095e-9 + 1.159523875912714e-9im -3.974887132165984e-9 - 2.4545299949532542e-9im; … ; 2.0724480811783923e-9 - 3.49503246493116e-9im 2.3790960625915325e-9 - 4.314032851860157e-9im; 4.2892918026631034e-10 - 2.1008946682562669e-10im -1.559422506167937e-11 - 4.3666940401099054e-10im]\n",
       " [2.896337705101587e-10 + 1.790850210734632e-10im -2.2380349920970056e-11 - 4.283590043912312e-10im; 2.949585301311145e-9 + 2.9793862752344276e-9im -2.160572507338372e-9 - 3.889109737169589e-9im; … ; 3.3087923130820384e-9 - 2.3869203022157724e-9im 4.304529010197095e-9 - 3.705482366204354e-9im; 5.468186585620094e-10 + 6.91702469964784e-11im 3.1807581874384987e-10 - 6.924728183676203e-10im]\n",
       " [3.7549446588484037e-10 + 4.852542713231346e-10im 3.351800231045855e-10 - 3.5359156111362994e-10im; 1.2215135859424466e-9 + 4.345863463221527e-9im 4.609284801624821e-11 - 4.3009162624947754e-9im; … ; 3.8289265071043115e-9 - 3.9668902500256385e-10im 4.680915718710759e-9 - 2.2146620155921e-9im; 5.354443237016824e-10 + 2.5547123570749794e-10im 3.435096978122988e-10 - 6.870530092750204e-10im]"
      ]
     },
     "metadata": {},
     "output_type": "display_data"
    }
   ],
   "source": [
    "times = LinRange(0,get_T(p_new),2000)\n",
    "\n",
    "forward_prob = ODEProblem(f!, ψs[:,1:2], (0.0, get_T(p_new)), p_new)\n",
    "sol_f = solve(forward_prob, p=p_new, saveat=times, reltol=1e-8, abstol=1e-8)"
   ]
  },
  {
   "cell_type": "code",
   "execution_count": 45,
   "metadata": {},
   "outputs": [],
   "source": [
    "occs = zeros(Float64,length(sol_f.t),2,2)\n",
    "\n",
    "for (i,t) in enumerate(sol_f.t)\n",
    "    tmp_Es, tmp_ψs = eigs(KinPot12 + alpha(p_new,t) .* Potential3, nev=2, which=:SR)\n",
    "    occs[i,:,:] = abs2.(tmp_ψs[:,:]'*sol_f.u[i])\n",
    "end"
   ]
  },
  {
   "cell_type": "code",
   "execution_count": 76,
   "metadata": {},
   "outputs": [
    {
     "data": {
      "image/png": "[encoded data removed]",
      "image/svg+xml": "<?xml version=\"1.0\" encoding=\"utf-8\"?>\n<svg xmlns=\"http://www.w3.org/2000/svg\" xmlns:xlink=\"http://www.w3.org/1999/xlink\" width=\"600\" height=\"400\" viewBox=\"0 0 2400 1600\">\n<defs>\n  <clipPath id=\"clip550\">\n    <rect x=\"0\" y=\"0\" width=\"2400\" height=\"1600\"/>\n  </clipPath>\n</defs>\n<path clip-path=\"url(#clip550)\" d=\"\nM0 1600 L2400 1600 L2400 0 L0 0  Z\n  \" fill=\"#ffffff\" fill-rule=\"evenodd\" fill-opacity=\"1\"/>\n<defs>\n  <clipPath id=\"clip551\">\n    <rect x=\"480\" y=\"0\" width=\"1681\" height=\"1600\"/>\n  </clipPath>\n</defs>\n<defs>\n  <clipPath id=\"clip552\">\n    <rect x=\"252\" y=\"47\" width=\"2101\" height=\"1377\"/>\n  </clipPath>\n</defs>\n<path clip-path=\"url(#clip550)\" d=\"\nM252.764 1423.18 L2352.76 1423.18 L2352.76 47.2441 L252.764 47.2441  Z\n  \" fill=\"#ffffff\" fill-rule=\"evenodd\" fill-opacity=\"1\"/>\n<polyline clip-path=\"url(#clip552)\" style=\"stroke:#000000; stroke-linecap:round; stroke-linejoin:round; stroke-width:2; stroke-opacity:0.1; fill:none\" points=\"\n  308.871,1423.18 308.871,47.2441 \n  \"/>\n<polyline clip-path=\"url(#clip552)\" style=\"stroke:#000000; stroke-linecap:round; stroke-linejoin:round; stroke-width:2; stroke-opacity:0.1; fill:none\" points=\"\n  709.632,1423.18 709.632,47.2441 \n  \"/>\n<polyline clip-path=\"url(#clip552)\" style=\"stroke:#000000; stroke-linecap:round; stroke-linejoin:round; stroke-width:2; stroke-opacity:0.1; fill:none\" points=\"\n  1110.39,1423.18 1110.39,47.2441 \n  \"/>\n<polyline clip-path=\"url(#clip552)\" style=\"stroke:#000000; stroke-linecap:round; stroke-linejoin:round; stroke-width:2; stroke-opacity:0.1; fill:none\" points=\"\n  1511.16,1423.18 1511.16,47.2441 \n  \"/>\n<polyline clip-path=\"url(#clip552)\" style=\"stroke:#000000; stroke-linecap:round; stroke-linejoin:round; stroke-width:2; stroke-opacity:0.1; fill:none\" points=\"\n  1911.92,1423.18 1911.92,47.2441 \n  \"/>\n<polyline clip-path=\"url(#clip552)\" style=\"stroke:#000000; stroke-linecap:round; stroke-linejoin:round; stroke-width:2; stroke-opacity:0.1; fill:none\" points=\"\n  2312.68,1423.18 2312.68,47.2441 \n  \"/>\n<polyline clip-path=\"url(#clip550)\" style=\"stroke:#000000; stroke-linecap:round; stroke-linejoin:round; stroke-width:4; stroke-opacity:1; fill:none\" points=\"\n  252.764,1423.18 2352.76,1423.18 \n  \"/>\n<polyline clip-path=\"url(#clip550)\" style=\"stroke:#000000; stroke-linecap:round; stroke-linejoin:round; stroke-width:4; stroke-opacity:1; fill:none\" points=\"\n  308.871,1423.18 308.871,1404.28 \n  \"/>\n<polyline clip-path=\"url(#clip550)\" style=\"stroke:#000000; stroke-linecap:round; stroke-linejoin:round; stroke-width:4; stroke-opacity:1; fill:none\" points=\"\n  709.632,1423.18 709.632,1404.28 \n  \"/>\n<polyline clip-path=\"url(#clip550)\" style=\"stroke:#000000; stroke-linecap:round; stroke-linejoin:round; stroke-width:4; stroke-opacity:1; fill:none\" points=\"\n  1110.39,1423.18 1110.39,1404.28 \n  \"/>\n<polyline clip-path=\"url(#clip550)\" style=\"stroke:#000000; stroke-linecap:round; stroke-linejoin:round; stroke-width:4; stroke-opacity:1; fill:none\" points=\"\n  1511.16,1423.18 1511.16,1404.28 \n  \"/>\n<polyline clip-path=\"url(#clip550)\" style=\"stroke:#000000; stroke-linecap:round; stroke-linejoin:round; stroke-width:4; stroke-opacity:1; fill:none\" points=\"\n  1911.92,1423.18 1911.92,1404.28 \n  \"/>\n<polyline clip-path=\"url(#clip550)\" style=\"stroke:#000000; stroke-linecap:round; stroke-linejoin:round; stroke-width:4; stroke-opacity:1; fill:none\" points=\"\n  2312.68,1423.18 2312.68,1404.28 \n  \"/>\n<path clip-path=\"url(#clip550)\" d=\"M286.255 1454.1 Q282.644 1454.1 280.815 1457.66 Q279.01 1461.2 279.01 1468.33 Q279.01 1475.44 280.815 1479.01 Q282.644 1482.55 286.255 1482.55 Q289.889 1482.55 291.695 1479.01 Q293.523 1475.44 293.523 1468.33 Q293.523 1461.2 291.695 1457.66 Q289.889 1454.1 286.255 1454.1 M286.255 1450.39 Q292.065 1450.39 295.121 1455 Q298.199 1459.58 298.199 1468.33 Q298.199 1477.06 295.121 1481.67 Q292.065 1486.25 286.255 1486.25 Q280.445 1486.25 277.366 1481.67 Q274.311 1477.06 274.311 1468.33 Q274.311 1459.58 277.366 1455 Q280.445 1450.39 286.255 1450.39 Z\" fill=\"#000000\" fill-rule=\"evenodd\" fill-opacity=\"1\" /><path clip-path=\"url(#clip550)\" d=\"M306.417 1479.7 L311.301 1479.7 L311.301 1485.58 L306.417 1485.58 L306.417 1479.7 Z\" fill=\"#000000\" fill-rule=\"evenodd\" fill-opacity=\"1\" /><path clip-path=\"url(#clip550)\" d=\"M331.486 1454.1 Q327.875 1454.1 326.046 1457.66 Q324.241 1461.2 324.241 1468.33 Q324.241 1475.44 326.046 1479.01 Q327.875 1482.55 331.486 1482.55 Q335.12 1482.55 336.926 1479.01 Q338.755 1475.44 338.755 1468.33 Q338.755 1461.2 336.926 1457.66 Q335.12 1454.1 331.486 1454.1 M331.486 1450.39 Q337.296 1450.39 340.352 1455 Q343.431 1459.58 343.431 1468.33 Q343.431 1477.06 340.352 1481.67 Q337.296 1486.25 331.486 1486.25 Q325.676 1486.25 322.597 1481.67 Q319.542 1477.06 319.542 1468.33 Q319.542 1459.58 322.597 1455 Q325.676 1450.39 331.486 1450.39 Z\" fill=\"#000000\" fill-rule=\"evenodd\" fill-opacity=\"1\" /><path clip-path=\"url(#clip550)\" d=\"M681.369 1481.64 L697.688 1481.64 L697.688 1485.58 L675.744 1485.58 L675.744 1481.64 Q678.406 1478.89 682.989 1474.26 Q687.596 1469.61 688.776 1468.27 Q691.021 1465.74 691.901 1464.01 Q692.804 1462.25 692.804 1460.56 Q692.804 1457.8 690.859 1456.07 Q688.938 1454.33 685.836 1454.33 Q683.637 1454.33 681.184 1455.09 Q678.753 1455.86 675.975 1457.41 L675.975 1452.69 Q678.799 1451.55 681.253 1450.97 Q683.707 1450.39 685.744 1450.39 Q691.114 1450.39 694.308 1453.08 Q697.503 1455.77 697.503 1460.26 Q697.503 1462.39 696.693 1464.31 Q695.906 1466.2 693.799 1468.8 Q693.22 1469.47 690.119 1472.69 Q687.017 1475.88 681.369 1481.64 Z\" fill=\"#000000\" fill-rule=\"evenodd\" fill-opacity=\"1\" /><path clip-path=\"url(#clip550)\" d=\"M707.503 1479.7 L712.387 1479.7 L712.387 1485.58 L707.503 1485.58 L707.503 1479.7 Z\" fill=\"#000000\" fill-rule=\"evenodd\" fill-opacity=\"1\" /><path clip-path=\"url(#clip550)\" d=\"M722.618 1451.02 L740.975 1451.02 L740.975 1454.96 L726.901 1454.96 L726.901 1463.43 Q727.919 1463.08 728.938 1462.92 Q729.956 1462.73 730.975 1462.73 Q736.762 1462.73 740.142 1465.9 Q743.521 1469.08 743.521 1474.49 Q743.521 1480.07 740.049 1483.17 Q736.577 1486.25 730.257 1486.25 Q728.081 1486.25 725.813 1485.88 Q723.568 1485.51 721.16 1484.77 L721.16 1480.07 Q723.243 1481.2 725.466 1481.76 Q727.688 1482.32 730.165 1482.32 Q734.169 1482.32 736.507 1480.21 Q738.845 1478.1 738.845 1474.49 Q738.845 1470.88 736.507 1468.77 Q734.169 1466.67 730.165 1466.67 Q728.29 1466.67 726.415 1467.08 Q724.563 1467.5 722.618 1468.38 L722.618 1451.02 Z\" fill=\"#000000\" fill-rule=\"evenodd\" fill-opacity=\"1\" /><path clip-path=\"url(#clip550)\" d=\"M1077.56 1451.02 L1095.92 1451.02 L1095.92 1454.96 L1081.84 1454.96 L1081.84 1463.43 Q1082.86 1463.08 1083.88 1462.92 Q1084.9 1462.73 1085.92 1462.73 Q1091.7 1462.73 1095.08 1465.9 Q1098.46 1469.08 1098.46 1474.49 Q1098.46 1480.07 1094.99 1483.17 Q1091.52 1486.25 1085.2 1486.25 Q1083.02 1486.25 1080.75 1485.88 Q1078.51 1485.51 1076.1 1484.77 L1076.1 1480.07 Q1078.18 1481.2 1080.41 1481.76 Q1082.63 1482.32 1085.11 1482.32 Q1089.11 1482.32 1091.45 1480.21 Q1093.79 1478.1 1093.79 1474.49 Q1093.79 1470.88 1091.45 1468.77 Q1089.11 1466.67 1085.11 1466.67 Q1083.23 1466.67 1081.36 1467.08 Q1079.5 1467.5 1077.56 1468.38 L1077.56 1451.02 Z\" fill=\"#000000\" fill-rule=\"evenodd\" fill-opacity=\"1\" /><path clip-path=\"url(#clip550)\" d=\"M1107.67 1479.7 L1112.56 1479.7 L1112.56 1485.58 L1107.67 1485.58 L1107.67 1479.7 Z\" fill=\"#000000\" fill-rule=\"evenodd\" fill-opacity=\"1\" /><path clip-path=\"url(#clip550)\" d=\"M1132.74 1454.1 Q1129.13 1454.1 1127.3 1457.66 Q1125.5 1461.2 1125.5 1468.33 Q1125.5 1475.44 1127.3 1479.01 Q1129.13 1482.55 1132.74 1482.55 Q1136.38 1482.55 1138.18 1479.01 Q1140.01 1475.44 1140.01 1468.33 Q1140.01 1461.2 1138.18 1457.66 Q1136.38 1454.1 1132.74 1454.1 M1132.74 1450.39 Q1138.55 1450.39 1141.61 1455 Q1144.69 1459.58 1144.69 1468.33 Q1144.69 1477.06 1141.61 1481.67 Q1138.55 1486.25 1132.74 1486.25 Q1126.93 1486.25 1123.85 1481.67 Q1120.8 1477.06 1120.8 1468.33 Q1120.8 1459.58 1123.85 1455 Q1126.93 1450.39 1132.74 1450.39 Z\" fill=\"#000000\" fill-rule=\"evenodd\" fill-opacity=\"1\" /><path clip-path=\"url(#clip550)\" d=\"M1477.48 1451.02 L1499.7 1451.02 L1499.7 1453.01 L1487.15 1485.58 L1482.27 1485.58 L1494.07 1454.96 L1477.48 1454.96 L1477.48 1451.02 Z\" fill=\"#000000\" fill-rule=\"evenodd\" fill-opacity=\"1\" /><path clip-path=\"url(#clip550)\" d=\"M1508.82 1479.7 L1513.7 1479.7 L1513.7 1485.58 L1508.82 1485.58 L1508.82 1479.7 Z\" fill=\"#000000\" fill-rule=\"evenodd\" fill-opacity=\"1\" /><path clip-path=\"url(#clip550)\" d=\"M1523.93 1451.02 L1542.29 1451.02 L1542.29 1454.96 L1528.22 1454.96 L1528.22 1463.43 Q1529.23 1463.08 1530.25 1462.92 Q1531.27 1462.73 1532.29 1462.73 Q1538.08 1462.73 1541.46 1465.9 Q1544.84 1469.08 1544.84 1474.49 Q1544.84 1480.07 1541.36 1483.17 Q1537.89 1486.25 1531.57 1486.25 Q1529.4 1486.25 1527.13 1485.88 Q1524.88 1485.51 1522.48 1484.77 L1522.48 1480.07 Q1524.56 1481.2 1526.78 1481.76 Q1529 1482.32 1531.48 1482.32 Q1535.48 1482.32 1537.82 1480.21 Q1540.16 1478.1 1540.16 1474.49 Q1540.16 1470.88 1537.82 1468.77 Q1535.48 1466.67 1531.48 1466.67 Q1529.61 1466.67 1527.73 1467.08 Q1525.88 1467.5 1523.93 1468.38 L1523.93 1451.02 Z\" fill=\"#000000\" fill-rule=\"evenodd\" fill-opacity=\"1\" /><path clip-path=\"url(#clip550)\" d=\"M1863.99 1481.64 L1871.63 1481.64 L1871.63 1455.28 L1863.32 1456.95 L1863.32 1452.69 L1871.58 1451.02 L1876.26 1451.02 L1876.26 1481.64 L1883.9 1481.64 L1883.9 1485.58 L1863.99 1485.58 L1863.99 1481.64 Z\" fill=\"#000000\" fill-rule=\"evenodd\" fill-opacity=\"1\" /><path clip-path=\"url(#clip550)\" d=\"M1903.34 1454.1 Q1899.73 1454.1 1897.9 1457.66 Q1896.1 1461.2 1896.1 1468.33 Q1896.1 1475.44 1897.9 1479.01 Q1899.73 1482.55 1903.34 1482.55 Q1906.98 1482.55 1908.78 1479.01 Q1910.61 1475.44 1910.61 1468.33 Q1910.61 1461.2 1908.78 1457.66 Q1906.98 1454.1 1903.34 1454.1 M1903.34 1450.39 Q1909.15 1450.39 1912.21 1455 Q1915.29 1459.58 1915.29 1468.33 Q1915.29 1477.06 1912.21 1481.67 Q1909.15 1486.25 1903.34 1486.25 Q1897.53 1486.25 1894.45 1481.67 Q1891.4 1477.06 1891.4 1468.33 Q1891.4 1459.58 1894.45 1455 Q1897.53 1450.39 1903.34 1450.39 Z\" fill=\"#000000\" fill-rule=\"evenodd\" fill-opacity=\"1\" /><path clip-path=\"url(#clip550)\" d=\"M1923.5 1479.7 L1928.39 1479.7 L1928.39 1485.58 L1923.5 1485.58 L1923.5 1479.7 Z\" fill=\"#000000\" fill-rule=\"evenodd\" fill-opacity=\"1\" /><path clip-path=\"url(#clip550)\" d=\"M1948.57 1454.1 Q1944.96 1454.1 1943.13 1457.66 Q1941.33 1461.2 1941.33 1468.33 Q1941.33 1475.44 1943.13 1479.01 Q1944.96 1482.55 1948.57 1482.55 Q1952.21 1482.55 1954.01 1479.01 Q1955.84 1475.44 1955.84 1468.33 Q1955.84 1461.2 1954.01 1457.66 Q1952.21 1454.1 1948.57 1454.1 M1948.57 1450.39 Q1954.38 1450.39 1957.44 1455 Q1960.52 1459.58 1960.52 1468.33 Q1960.52 1477.06 1957.44 1481.67 Q1954.38 1486.25 1948.57 1486.25 Q1942.76 1486.25 1939.68 1481.67 Q1936.63 1477.06 1936.63 1468.33 Q1936.63 1459.58 1939.68 1455 Q1942.76 1450.39 1948.57 1450.39 Z\" fill=\"#000000\" fill-rule=\"evenodd\" fill-opacity=\"1\" /><path clip-path=\"url(#clip550)\" d=\"M2265.25 1481.64 L2272.89 1481.64 L2272.89 1455.28 L2264.58 1456.95 L2264.58 1452.69 L2272.84 1451.02 L2277.52 1451.02 L2277.52 1481.64 L2285.16 1481.64 L2285.16 1485.58 L2265.25 1485.58 L2265.25 1481.64 Z\" fill=\"#000000\" fill-rule=\"evenodd\" fill-opacity=\"1\" /><path clip-path=\"url(#clip550)\" d=\"M2298.63 1481.64 L2314.95 1481.64 L2314.95 1485.58 L2293 1485.58 L2293 1481.64 Q2295.67 1478.89 2300.25 1474.26 Q2304.86 1469.61 2306.04 1468.27 Q2308.28 1465.74 2309.16 1464.01 Q2310.06 1462.25 2310.06 1460.56 Q2310.06 1457.8 2308.12 1456.07 Q2306.2 1454.33 2303.1 1454.33 Q2300.9 1454.33 2298.44 1455.09 Q2296.01 1455.86 2293.24 1457.41 L2293.24 1452.69 Q2296.06 1451.55 2298.51 1450.97 Q2300.97 1450.39 2303 1450.39 Q2308.37 1450.39 2311.57 1453.08 Q2314.76 1455.77 2314.76 1460.26 Q2314.76 1462.39 2313.95 1464.31 Q2313.17 1466.2 2311.06 1468.8 Q2310.48 1469.47 2307.38 1472.69 Q2304.28 1475.88 2298.63 1481.64 Z\" fill=\"#000000\" fill-rule=\"evenodd\" fill-opacity=\"1\" /><path clip-path=\"url(#clip550)\" d=\"M2324.76 1479.7 L2329.65 1479.7 L2329.65 1485.58 L2324.76 1485.58 L2324.76 1479.7 Z\" fill=\"#000000\" fill-rule=\"evenodd\" fill-opacity=\"1\" /><path clip-path=\"url(#clip550)\" d=\"M2339.88 1451.02 L2358.24 1451.02 L2358.24 1454.96 L2344.16 1454.96 L2344.16 1463.43 Q2345.18 1463.08 2346.2 1462.92 Q2347.22 1462.73 2348.24 1462.73 Q2354.02 1462.73 2357.4 1465.9 Q2360.78 1469.08 2360.78 1474.49 Q2360.78 1480.07 2357.31 1483.17 Q2353.84 1486.25 2347.52 1486.25 Q2345.34 1486.25 2343.07 1485.88 Q2340.83 1485.51 2338.42 1484.77 L2338.42 1480.07 Q2340.5 1481.2 2342.73 1481.76 Q2344.95 1482.32 2347.42 1482.32 Q2351.43 1482.32 2353.77 1480.21 Q2356.11 1478.1 2356.11 1474.49 Q2356.11 1470.88 2353.77 1468.77 Q2351.43 1466.67 2347.42 1466.67 Q2345.55 1466.67 2343.67 1467.08 Q2341.82 1467.5 2339.88 1468.38 L2339.88 1451.02 Z\" fill=\"#000000\" fill-rule=\"evenodd\" fill-opacity=\"1\" /><path clip-path=\"url(#clip550)\" d=\"M1240.6 1531.91 Q1240.6 1532.81 1240.18 1533.04 Q1239.77 1533.23 1238.61 1533.23 L1232.42 1533.23 L1227.53 1552.69 Q1227.14 1554.39 1227.14 1555.84 Q1227.14 1557.45 1227.62 1558.16 Q1228.14 1558.87 1229.2 1558.87 Q1231.3 1558.87 1233.55 1556.97 Q1235.84 1555.07 1237.77 1550.43 Q1238.03 1549.82 1238.16 1549.69 Q1238.32 1549.53 1238.74 1549.53 Q1239.54 1549.53 1239.54 1550.17 Q1239.54 1550.4 1239.09 1551.43 Q1238.67 1552.46 1237.74 1553.97 Q1236.84 1555.49 1235.64 1556.9 Q1234.48 1558.32 1232.71 1559.35 Q1230.94 1560.35 1229.04 1560.35 Q1226.37 1560.35 1224.66 1558.64 Q1222.99 1556.94 1222.99 1554.26 Q1222.99 1553.39 1223.66 1550.62 Q1224.34 1547.82 1228.01 1533.23 L1222.18 1533.23 Q1221.38 1533.23 1221.05 1533.2 Q1220.76 1533.17 1220.54 1533.01 Q1220.35 1532.81 1220.35 1532.43 Q1220.35 1531.82 1220.6 1531.56 Q1220.86 1531.27 1221.18 1531.24 Q1221.54 1531.17 1222.34 1531.17 L1228.53 1531.17 L1231.1 1520.71 Q1231.36 1519.67 1232 1519.09 Q1232.68 1518.48 1233.07 1518.42 Q1233.45 1518.32 1233.74 1518.32 Q1234.61 1518.32 1235.13 1518.81 Q1235.64 1519.26 1235.64 1520.09 Q1235.64 1520.54 1232.94 1531.17 L1238.74 1531.17 Q1239.48 1531.17 1239.77 1531.2 Q1240.09 1531.24 1240.35 1531.4 Q1240.6 1531.56 1240.6 1531.91 Z\" fill=\"#000000\" fill-rule=\"evenodd\" fill-opacity=\"1\" /><path clip-path=\"url(#clip550)\" d=\"M1270.24 1510.08 L1283.74 1510.08 L1283.74 1514.64 L1276.1 1514.64 L1276.1 1563.65 L1283.74 1563.65 L1283.74 1568.2 L1270.24 1568.2 L1270.24 1510.08 Z\" fill=\"#000000\" fill-rule=\"evenodd\" fill-opacity=\"1\" /><path clip-path=\"url(#clip550)\" d=\"M1325.85 1538.09 L1325.85 1559.61 L1319.99 1559.61 L1319.99 1538.28 Q1319.99 1533.22 1318.02 1530.71 Q1316.04 1528.2 1312.1 1528.2 Q1307.35 1528.2 1304.62 1531.22 Q1301.88 1534.24 1301.88 1539.46 L1301.88 1559.61 L1295.99 1559.61 L1295.99 1523.96 L1301.88 1523.96 L1301.88 1529.5 Q1303.98 1526.29 1306.81 1524.69 Q1309.68 1523.1 1313.4 1523.1 Q1319.54 1523.1 1322.69 1526.92 Q1325.85 1530.71 1325.85 1538.09 Z\" fill=\"#000000\" fill-rule=\"evenodd\" fill-opacity=\"1\" /><path clip-path=\"url(#clip550)\" d=\"M1360.25 1525.01 L1360.25 1530.55 Q1357.77 1529.28 1355.1 1528.64 Q1352.42 1528 1349.56 1528 Q1345.2 1528 1343 1529.34 Q1340.84 1530.68 1340.84 1533.35 Q1340.84 1535.39 1342.4 1536.57 Q1343.96 1537.71 1348.67 1538.76 L1350.67 1539.21 Q1356.91 1540.54 1359.52 1543 Q1362.16 1545.41 1362.16 1549.77 Q1362.16 1554.74 1358.22 1557.64 Q1354.3 1560.53 1347.43 1560.53 Q1344.56 1560.53 1341.44 1559.96 Q1338.35 1559.42 1334.92 1558.3 L1334.92 1552.26 Q1338.16 1553.94 1341.31 1554.8 Q1344.47 1555.63 1347.55 1555.63 Q1351.69 1555.63 1353.92 1554.23 Q1356.15 1552.8 1356.15 1550.22 Q1356.15 1547.83 1354.52 1546.56 Q1352.93 1545.29 1347.49 1544.11 L1345.45 1543.63 Q1340.01 1542.49 1337.59 1540.13 Q1335.17 1537.74 1335.17 1533.61 Q1335.17 1528.58 1338.74 1525.84 Q1342.3 1523.1 1348.86 1523.1 Q1352.1 1523.1 1354.97 1523.58 Q1357.83 1524.06 1360.25 1525.01 Z\" fill=\"#000000\" fill-rule=\"evenodd\" fill-opacity=\"1\" /><path clip-path=\"url(#clip550)\" d=\"M1385.17 1510.08 L1385.17 1568.2 L1371.68 1568.2 L1371.68 1563.65 L1379.29 1563.65 L1379.29 1514.64 L1371.68 1514.64 L1371.68 1510.08 L1385.17 1510.08 Z\" fill=\"#000000\" fill-rule=\"evenodd\" fill-opacity=\"1\" /><polyline clip-path=\"url(#clip552)\" style=\"stroke:#000000; stroke-linecap:round; stroke-linejoin:round; stroke-width:2; stroke-opacity:0.1; fill:none\" points=\"\n  252.764,1423.18 2352.76,1423.18 \n  \"/>\n<polyline clip-path=\"url(#clip552)\" style=\"stroke:#000000; stroke-linecap:round; stroke-linejoin:round; stroke-width:2; stroke-opacity:0.1; fill:none\" points=\"\n  252.764,1163.62 2352.76,1163.62 \n  \"/>\n<polyline clip-path=\"url(#clip552)\" style=\"stroke:#000000; stroke-linecap:round; stroke-linejoin:round; stroke-width:2; stroke-opacity:0.1; fill:none\" points=\"\n  252.764,904.06 2352.76,904.06 \n  \"/>\n<polyline clip-path=\"url(#clip552)\" style=\"stroke:#000000; stroke-linecap:round; stroke-linejoin:round; stroke-width:2; stroke-opacity:0.1; fill:none\" points=\"\n  252.764,644.5 2352.76,644.5 \n  \"/>\n<polyline clip-path=\"url(#clip552)\" style=\"stroke:#000000; stroke-linecap:round; stroke-linejoin:round; stroke-width:2; stroke-opacity:0.1; fill:none\" points=\"\n  252.764,384.94 2352.76,384.94 \n  \"/>\n<polyline clip-path=\"url(#clip552)\" style=\"stroke:#000000; stroke-linecap:round; stroke-linejoin:round; stroke-width:2; stroke-opacity:0.1; fill:none\" points=\"\n  252.764,125.379 2352.76,125.379 \n  \"/>\n<polyline clip-path=\"url(#clip550)\" style=\"stroke:#000000; stroke-linecap:round; stroke-linejoin:round; stroke-width:4; stroke-opacity:1; fill:none\" points=\"\n  252.764,1423.18 252.764,47.2441 \n  \"/>\n<polyline clip-path=\"url(#clip550)\" style=\"stroke:#000000; stroke-linecap:round; stroke-linejoin:round; stroke-width:4; stroke-opacity:1; fill:none\" points=\"\n  252.764,1423.18 271.662,1423.18 \n  \"/>\n<polyline clip-path=\"url(#clip550)\" style=\"stroke:#000000; stroke-linecap:round; stroke-linejoin:round; stroke-width:4; stroke-opacity:1; fill:none\" points=\"\n  252.764,1163.62 271.662,1163.62 \n  \"/>\n<polyline clip-path=\"url(#clip550)\" style=\"stroke:#000000; stroke-linecap:round; stroke-linejoin:round; stroke-width:4; stroke-opacity:1; fill:none\" points=\"\n  252.764,904.06 271.662,904.06 \n  \"/>\n<polyline clip-path=\"url(#clip550)\" style=\"stroke:#000000; stroke-linecap:round; stroke-linejoin:round; stroke-width:4; stroke-opacity:1; fill:none\" points=\"\n  252.764,644.5 271.662,644.5 \n  \"/>\n<polyline clip-path=\"url(#clip550)\" style=\"stroke:#000000; stroke-linecap:round; stroke-linejoin:round; stroke-width:4; stroke-opacity:1; fill:none\" points=\"\n  252.764,384.94 271.662,384.94 \n  \"/>\n<polyline clip-path=\"url(#clip550)\" style=\"stroke:#000000; stroke-linecap:round; stroke-linejoin:round; stroke-width:4; stroke-opacity:1; fill:none\" points=\"\n  252.764,125.379 271.662,125.379 \n  \"/>\n<path clip-path=\"url(#clip550)\" d=\"M116.135 1442.97 L123.774 1442.97 L123.774 1416.61 L115.464 1418.27 L115.464 1414.01 L123.728 1412.35 L128.404 1412.35 L128.404 1442.97 L136.042 1442.97 L136.042 1446.91 L116.135 1446.91 L116.135 1442.97 Z\" fill=\"#000000\" fill-rule=\"evenodd\" fill-opacity=\"1\" /><path clip-path=\"url(#clip550)\" d=\"M155.487 1415.43 Q151.876 1415.43 150.047 1418.99 Q148.241 1422.53 148.241 1429.66 Q148.241 1436.77 150.047 1440.33 Q151.876 1443.88 155.487 1443.88 Q159.121 1443.88 160.927 1440.33 Q162.755 1436.77 162.755 1429.66 Q162.755 1422.53 160.927 1418.99 Q159.121 1415.43 155.487 1415.43 M155.487 1411.72 Q161.297 1411.72 164.352 1416.33 Q167.431 1420.91 167.431 1429.66 Q167.431 1438.39 164.352 1443 Q161.297 1447.58 155.487 1447.58 Q149.677 1447.58 146.598 1443 Q143.542 1438.39 143.542 1429.66 Q143.542 1420.91 146.598 1416.33 Q149.677 1411.72 155.487 1411.72 Z\" fill=\"#000000\" fill-rule=\"evenodd\" fill-opacity=\"1\" /><path clip-path=\"url(#clip550)\" d=\"M167.431 1405.82 L191.543 1405.82 L191.543 1409.02 L167.431 1409.02 L167.431 1405.82 Z\" fill=\"#000000\" fill-rule=\"evenodd\" fill-opacity=\"1\" /><path clip-path=\"url(#clip550)\" d=\"M199.781 1391.42 L214.695 1391.42 L214.695 1394.61 L203.26 1394.61 L203.26 1401.5 Q204.088 1401.22 204.915 1401.08 Q205.743 1400.93 206.57 1400.93 Q211.272 1400.93 214.018 1403.51 Q216.764 1406.09 216.764 1410.49 Q216.764 1415.02 213.943 1417.54 Q211.122 1420.04 205.987 1420.04 Q204.219 1420.04 202.376 1419.74 Q200.552 1419.44 198.596 1418.84 L198.596 1415.02 Q200.288 1415.94 202.094 1416.39 Q203.899 1416.85 205.912 1416.85 Q209.166 1416.85 211.065 1415.13 Q212.965 1413.42 212.965 1410.49 Q212.965 1407.55 211.065 1405.84 Q209.166 1404.13 205.912 1404.13 Q204.388 1404.13 202.865 1404.47 Q201.36 1404.81 199.781 1405.52 L199.781 1391.42 Z\" fill=\"#000000\" fill-rule=\"evenodd\" fill-opacity=\"1\" /><path clip-path=\"url(#clip550)\" d=\"M114.931 1183.41 L122.57 1183.41 L122.57 1157.05 L114.26 1158.71 L114.26 1154.45 L122.524 1152.79 L127.2 1152.79 L127.2 1183.41 L134.839 1183.41 L134.839 1187.35 L114.931 1187.35 L114.931 1183.41 Z\" fill=\"#000000\" fill-rule=\"evenodd\" fill-opacity=\"1\" /><path clip-path=\"url(#clip550)\" d=\"M154.283 1155.87 Q150.672 1155.87 148.843 1159.43 Q147.038 1162.97 147.038 1170.1 Q147.038 1177.21 148.843 1180.77 Q150.672 1184.31 154.283 1184.31 Q157.917 1184.31 159.723 1180.77 Q161.552 1177.21 161.552 1170.1 Q161.552 1162.97 159.723 1159.43 Q157.917 1155.87 154.283 1155.87 M154.283 1152.16 Q160.093 1152.16 163.149 1156.77 Q166.227 1161.35 166.227 1170.1 Q166.227 1178.83 163.149 1183.44 Q160.093 1188.02 154.283 1188.02 Q148.473 1188.02 145.394 1183.44 Q142.339 1178.83 142.339 1170.1 Q142.339 1161.35 145.394 1156.77 Q148.473 1152.16 154.283 1152.16 Z\" fill=\"#000000\" fill-rule=\"evenodd\" fill-opacity=\"1\" /><path clip-path=\"url(#clip550)\" d=\"M166.227 1146.26 L190.339 1146.26 L190.339 1149.46 L166.227 1149.46 L166.227 1146.26 Z\" fill=\"#000000\" fill-rule=\"evenodd\" fill-opacity=\"1\" /><path clip-path=\"url(#clip550)\" d=\"M208.978 1135.17 L199.386 1150.16 L208.978 1150.16 L208.978 1135.17 M207.981 1131.86 L212.758 1131.86 L212.758 1150.16 L216.764 1150.16 L216.764 1153.32 L212.758 1153.32 L212.758 1159.94 L208.978 1159.94 L208.978 1153.32 L196.301 1153.32 L196.301 1149.65 L207.981 1131.86 Z\" fill=\"#000000\" fill-rule=\"evenodd\" fill-opacity=\"1\" /><path clip-path=\"url(#clip550)\" d=\"M115.853 923.852 L123.492 923.852 L123.492 897.487 L115.182 899.153 L115.182 894.894 L123.446 893.227 L128.121 893.227 L128.121 923.852 L135.76 923.852 L135.76 927.787 L115.853 927.787 L115.853 923.852 Z\" fill=\"#000000\" fill-rule=\"evenodd\" fill-opacity=\"1\" /><path clip-path=\"url(#clip550)\" d=\"M155.205 896.306 Q151.594 896.306 149.765 899.871 Q147.959 903.412 147.959 910.542 Q147.959 917.648 149.765 921.213 Q151.594 924.755 155.205 924.755 Q158.839 924.755 160.644 921.213 Q162.473 917.648 162.473 910.542 Q162.473 903.412 160.644 899.871 Q158.839 896.306 155.205 896.306 M155.205 892.602 Q161.015 892.602 164.07 897.209 Q167.149 901.792 167.149 910.542 Q167.149 919.269 164.07 923.875 Q161.015 928.459 155.205 928.459 Q149.395 928.459 146.316 923.875 Q143.26 919.269 143.26 910.542 Q143.26 901.792 146.316 897.209 Q149.395 892.602 155.205 892.602 Z\" fill=\"#000000\" fill-rule=\"evenodd\" fill-opacity=\"1\" /><path clip-path=\"url(#clip550)\" d=\"M167.149 886.704 L191.261 886.704 L191.261 889.901 L167.149 889.901 L167.149 886.704 Z\" fill=\"#000000\" fill-rule=\"evenodd\" fill-opacity=\"1\" /><path clip-path=\"url(#clip550)\" d=\"M210.971 885.237 Q213.698 885.82 215.222 887.663 Q216.764 889.506 216.764 892.214 Q216.764 896.371 213.905 898.647 Q211.046 900.922 205.78 900.922 Q204.012 900.922 202.132 900.565 Q200.27 900.226 198.276 899.531 L198.276 895.863 Q199.856 896.785 201.737 897.255 Q203.617 897.725 205.667 897.725 Q209.241 897.725 211.103 896.314 Q212.984 894.904 212.984 892.214 Q212.984 889.732 211.234 888.34 Q209.504 886.929 206.401 886.929 L203.128 886.929 L203.128 883.807 L206.551 883.807 Q209.354 883.807 210.84 882.698 Q212.325 881.569 212.325 879.463 Q212.325 877.3 210.783 876.152 Q209.26 874.986 206.401 874.986 Q204.84 874.986 203.053 875.325 Q201.266 875.663 199.122 876.378 L199.122 872.993 Q201.285 872.391 203.166 872.09 Q205.066 871.789 206.739 871.789 Q211.065 871.789 213.585 873.764 Q216.106 875.72 216.106 879.068 Q216.106 881.4 214.77 883.017 Q213.435 884.616 210.971 885.237 Z\" fill=\"#000000\" fill-rule=\"evenodd\" fill-opacity=\"1\" /><path clip-path=\"url(#clip550)\" d=\"M116.624 664.292 L124.263 664.292 L124.263 637.926 L115.953 639.593 L115.953 635.334 L124.217 633.667 L128.893 633.667 L128.893 664.292 L136.531 664.292 L136.531 668.227 L116.624 668.227 L116.624 664.292 Z\" fill=\"#000000\" fill-rule=\"evenodd\" fill-opacity=\"1\" /><path clip-path=\"url(#clip550)\" d=\"M155.976 636.746 Q152.365 636.746 150.536 640.311 Q148.73 643.852 148.73 650.982 Q148.73 658.088 150.536 661.653 Q152.365 665.195 155.976 665.195 Q159.61 665.195 161.416 661.653 Q163.244 658.088 163.244 650.982 Q163.244 643.852 161.416 640.311 Q159.61 636.746 155.976 636.746 M155.976 633.042 Q161.786 633.042 164.841 637.649 Q167.92 642.232 167.92 650.982 Q167.92 659.709 164.841 664.315 Q161.786 668.899 155.976 668.899 Q150.166 668.899 147.087 664.315 Q144.031 659.709 144.031 650.982 Q144.031 642.232 147.087 637.649 Q150.166 633.042 155.976 633.042 Z\" fill=\"#000000\" fill-rule=\"evenodd\" fill-opacity=\"1\" /><path clip-path=\"url(#clip550)\" d=\"M167.92 627.144 L192.032 627.144 L192.032 630.341 L167.92 630.341 L167.92 627.144 Z\" fill=\"#000000\" fill-rule=\"evenodd\" fill-opacity=\"1\" /><path clip-path=\"url(#clip550)\" d=\"M203.504 637.619 L216.764 637.619 L216.764 640.817 L198.934 640.817 L198.934 637.619 Q201.097 635.381 204.821 631.62 Q208.564 627.839 209.523 626.749 Q211.347 624.699 212.062 623.288 Q212.796 621.859 212.796 620.486 Q212.796 618.247 211.216 616.837 Q209.655 615.426 207.134 615.426 Q205.348 615.426 203.354 616.047 Q201.379 616.668 199.122 617.928 L199.122 614.091 Q201.417 613.169 203.41 612.699 Q205.404 612.229 207.059 612.229 Q211.423 612.229 214.018 614.411 Q216.613 616.592 216.613 620.241 Q216.613 621.971 215.955 623.532 Q215.316 625.075 213.604 627.181 Q213.134 627.727 210.614 630.341 Q208.094 632.936 203.504 637.619 Z\" fill=\"#000000\" fill-rule=\"evenodd\" fill-opacity=\"1\" /><path clip-path=\"url(#clip550)\" d=\"M116.323 404.732 L123.962 404.732 L123.962 378.366 L115.652 380.033 L115.652 375.774 L123.916 374.107 L128.592 374.107 L128.592 404.732 L136.231 404.732 L136.231 408.667 L116.323 408.667 L116.323 404.732 Z\" fill=\"#000000\" fill-rule=\"evenodd\" fill-opacity=\"1\" /><path clip-path=\"url(#clip550)\" d=\"M155.675 377.186 Q152.064 377.186 150.235 380.751 Q148.43 384.292 148.43 391.422 Q148.43 398.528 150.235 402.093 Q152.064 405.635 155.675 405.635 Q159.309 405.635 161.115 402.093 Q162.943 398.528 162.943 391.422 Q162.943 384.292 161.115 380.751 Q159.309 377.186 155.675 377.186 M155.675 373.482 Q161.485 373.482 164.541 378.089 Q167.619 382.672 167.619 391.422 Q167.619 400.149 164.541 404.755 Q161.485 409.338 155.675 409.338 Q149.865 409.338 146.786 404.755 Q143.73 400.149 143.73 391.422 Q143.73 382.672 146.786 378.089 Q149.865 373.482 155.675 373.482 Z\" fill=\"#000000\" fill-rule=\"evenodd\" fill-opacity=\"1\" /><path clip-path=\"url(#clip550)\" d=\"M167.619 367.583 L191.731 367.583 L191.731 370.781 L167.619 370.781 L167.619 367.583 Z\" fill=\"#000000\" fill-rule=\"evenodd\" fill-opacity=\"1\" /><path clip-path=\"url(#clip550)\" d=\"M200.589 378.059 L206.796 378.059 L206.796 356.637 L200.044 357.992 L200.044 354.531 L206.758 353.177 L210.557 353.177 L210.557 378.059 L216.764 378.059 L216.764 381.257 L200.589 381.257 L200.589 378.059 Z\" fill=\"#000000\" fill-rule=\"evenodd\" fill-opacity=\"1\" /><path clip-path=\"url(#clip550)\" d=\"M146.058 145.172 L153.697 145.172 L153.697 118.806 L145.387 120.473 L145.387 116.214 L153.651 114.547 L158.327 114.547 L158.327 145.172 L165.966 145.172 L165.966 149.107 L146.058 149.107 L146.058 145.172 Z\" fill=\"#000000\" fill-rule=\"evenodd\" fill-opacity=\"1\" /><path clip-path=\"url(#clip550)\" d=\"M185.41 117.626 Q181.799 117.626 179.97 121.191 Q178.165 124.732 178.165 131.862 Q178.165 138.968 179.97 142.533 Q181.799 146.075 185.41 146.075 Q189.044 146.075 190.85 142.533 Q192.678 138.968 192.678 131.862 Q192.678 124.732 190.85 121.191 Q189.044 117.626 185.41 117.626 M185.41 113.922 Q191.22 113.922 194.276 118.529 Q197.354 123.112 197.354 131.862 Q197.354 140.589 194.276 145.195 Q191.22 149.778 185.41 149.778 Q179.6 149.778 176.521 145.195 Q173.466 140.589 173.466 131.862 Q173.466 123.112 176.521 118.529 Q179.6 113.922 185.41 113.922 Z\" fill=\"#000000\" fill-rule=\"evenodd\" fill-opacity=\"1\" /><path clip-path=\"url(#clip550)\" d=\"M207.059 96.1181 Q204.125 96.1181 202.639 99.0145 Q201.172 101.892 201.172 107.685 Q201.172 113.459 202.639 116.355 Q204.125 119.233 207.059 119.233 Q210.012 119.233 211.479 116.355 Q212.965 113.459 212.965 107.685 Q212.965 101.892 211.479 99.0145 Q210.012 96.1181 207.059 96.1181 M207.059 93.1089 Q211.78 93.1089 214.263 96.8516 Q216.764 100.576 216.764 107.685 Q216.764 114.775 214.263 118.518 Q211.78 122.242 207.059 122.242 Q202.338 122.242 199.837 118.518 Q197.354 114.775 197.354 107.685 Q197.354 100.576 199.837 96.8516 Q202.338 93.1089 207.059 93.1089 Z\" fill=\"#000000\" fill-rule=\"evenodd\" fill-opacity=\"1\" /><path clip-path=\"url(#clip550)\" d=\"M18.0438 956.5 L24.314 956.5 Q22.5634 960.16 21.704 963.407 Q20.8447 966.653 20.8447 969.677 Q20.8447 974.929 22.8817 977.793 Q24.9187 980.626 28.6745 980.626 Q31.8255 980.626 33.4488 978.748 Q35.0402 976.838 36.0269 971.555 L36.8226 967.672 Q38.1912 960.478 41.6605 957.073 Q45.098 953.635 50.8908 953.635 Q57.7976 953.635 61.3624 958.282 Q64.9272 962.897 64.9272 971.841 Q64.9272 975.215 64.1633 979.034 Q63.3994 982.822 61.9035 986.896 L55.2831 986.896 Q57.4793 982.981 58.5933 979.225 Q59.7073 975.47 59.7073 971.841 Q59.7073 966.335 57.543 963.343 Q55.3786 960.351 51.3682 960.351 Q47.8671 960.351 45.8937 962.515 Q43.9204 964.648 42.9337 969.55 L42.1698 973.464 Q40.7375 980.658 37.682 983.872 Q34.6264 987.087 29.1837 987.087 Q22.8817 987.087 19.2532 982.663 Q15.6248 978.207 15.6248 970.409 Q15.6248 967.067 16.2295 963.598 Q16.8343 960.128 18.0438 956.5 Z\" fill=\"#000000\" fill-rule=\"evenodd\" fill-opacity=\"1\" /><path clip-path=\"url(#clip550)\" d=\"M58.657 938.198 L77.5631 938.198 L77.5631 944.087 L28.3562 944.087 L28.3562 938.198 L33.7671 938.198 Q30.5842 936.352 29.0564 933.551 Q27.4968 930.719 27.4968 926.804 Q27.4968 920.311 32.6531 916.269 Q37.8093 912.195 46.212 912.195 Q54.6147 912.195 59.771 916.269 Q64.9272 920.311 64.9272 926.804 Q64.9272 930.719 63.3994 933.551 Q61.8398 936.352 58.657 938.198 M46.212 918.274 Q39.7508 918.274 36.0905 920.947 Q32.3984 923.589 32.3984 928.236 Q32.3984 932.883 36.0905 935.557 Q39.7508 938.198 46.212 938.198 Q52.6732 938.198 56.3653 935.557 Q60.0256 932.883 60.0256 928.236 Q60.0256 923.589 56.3653 920.947 Q52.6732 918.274 46.212 918.274 Z\" fill=\"#000000\" fill-rule=\"evenodd\" fill-opacity=\"1\" /><path clip-path=\"url(#clip550)\" d=\"M44.7161 871.995 L47.5806 871.995 L47.5806 898.922 Q53.6281 898.54 56.8109 895.294 Q59.9619 892.015 59.9619 886.191 Q59.9619 882.817 59.1344 879.666 Q58.3069 876.483 56.6518 873.364 L62.1899 873.364 Q63.5267 876.515 64.227 879.825 Q64.9272 883.135 64.9272 886.541 Q64.9272 895.071 59.9619 900.068 Q54.9967 905.033 46.5303 905.033 Q37.7774 905.033 32.6531 900.322 Q27.4968 895.58 27.4968 887.559 Q27.4968 880.366 32.1438 876.196 Q36.7589 871.995 44.7161 871.995 M42.9973 877.852 Q38.1912 877.915 35.3266 880.557 Q32.4621 883.167 32.4621 887.496 Q32.4621 892.397 35.2312 895.357 Q38.0002 898.285 43.0292 898.731 L42.9973 877.852 Z\" fill=\"#000000\" fill-rule=\"evenodd\" fill-opacity=\"1\" /><path clip-path=\"url(#clip550)\" d=\"M29.7248 836.729 L35.1993 836.729 Q33.8307 839.212 33.1623 841.726 Q32.4621 844.209 32.4621 846.755 Q32.4621 852.452 36.0905 855.603 Q39.6872 858.754 46.212 858.754 Q52.7369 858.754 56.3653 855.603 Q59.9619 852.452 59.9619 846.755 Q59.9619 844.209 59.2935 841.726 Q58.5933 839.212 57.2247 836.729 L62.6355 836.729 Q63.7814 839.18 64.3543 841.822 Q64.9272 844.432 64.9272 847.392 Q64.9272 855.444 59.8664 860.187 Q54.8057 864.929 46.212 864.929 Q37.491 864.929 32.4939 860.155 Q27.4968 855.349 27.4968 847.01 Q27.4968 844.304 28.0697 841.726 Q28.6108 839.148 29.7248 836.729 Z\" fill=\"#000000\" fill-rule=\"evenodd\" fill-opacity=\"1\" /><path clip-path=\"url(#clip550)\" d=\"M18.2347 820.751 L28.3562 820.751 L28.3562 808.688 L32.9077 808.688 L32.9077 820.751 L52.2594 820.751 Q56.6199 820.751 57.8613 819.573 Q59.1026 818.364 59.1026 814.704 L59.1026 808.688 L64.0042 808.688 L64.0042 814.704 Q64.0042 821.483 61.4897 824.061 Q58.9434 826.639 52.2594 826.639 L32.9077 826.639 L32.9077 830.936 L28.3562 830.936 L28.3562 826.639 L18.2347 826.639 L18.2347 820.751 Z\" fill=\"#000000\" fill-rule=\"evenodd\" fill-opacity=\"1\" /><path clip-path=\"url(#clip550)\" d=\"M33.8307 780.329 Q33.2578 781.316 33.0032 782.493 Q32.7167 783.639 32.7167 785.04 Q32.7167 790.005 35.9632 792.678 Q39.1779 795.32 45.2253 795.32 L64.0042 795.32 L64.0042 801.208 L28.3562 801.208 L28.3562 795.32 L33.8944 795.32 Q30.6479 793.474 29.0883 790.514 Q27.4968 787.554 27.4968 783.321 Q27.4968 782.716 27.5923 781.984 Q27.656 781.252 27.8151 780.361 L33.8307 780.329 Z\" fill=\"#000000\" fill-rule=\"evenodd\" fill-opacity=\"1\" /><path clip-path=\"url(#clip550)\" d=\"M46.0847 757.985 Q46.0847 765.083 47.7079 767.82 Q49.3312 770.558 53.2461 770.558 Q56.3653 770.558 58.2114 768.521 Q60.0256 766.452 60.0256 762.919 Q60.0256 758.049 56.5881 755.121 Q53.1188 752.161 47.3897 752.161 L46.0847 752.161 L46.0847 757.985 M43.6657 746.304 L64.0042 746.304 L64.0042 752.161 L58.5933 752.161 Q61.8398 754.166 63.3994 757.158 Q64.9272 760.15 64.9272 764.478 Q64.9272 769.953 61.8716 773.199 Q58.7843 776.414 53.6281 776.414 Q47.6125 776.414 44.5569 772.404 Q41.5014 768.361 41.5014 760.372 L41.5014 752.161 L40.9285 752.161 Q36.8862 752.161 34.6901 754.834 Q32.4621 757.476 32.4621 762.282 Q32.4621 765.338 33.1941 768.234 Q33.9262 771.13 35.3903 773.804 L29.9795 773.804 Q28.7381 770.589 28.1334 767.566 Q27.4968 764.542 27.4968 761.677 Q27.4968 753.943 31.5072 750.124 Q35.5176 746.304 43.6657 746.304 Z\" fill=\"#000000\" fill-rule=\"evenodd\" fill-opacity=\"1\" /><path clip-path=\"url(#clip550)\" d=\"M14.479 734.241 L14.479 728.385 L64.0042 728.385 L64.0042 734.241 L14.479 734.241 Z\" fill=\"#000000\" fill-rule=\"evenodd\" fill-opacity=\"1\" /><path clip-path=\"url(#clip550)\" d=\"M28.3562 698.816 L28.3562 692.96 L56.1743 685.639 L28.3562 678.35 L28.3562 671.444 L56.1743 664.123 L28.3562 656.834 L28.3562 650.978 L64.0042 660.304 L64.0042 667.21 L34.7856 674.881 L64.0042 682.583 L64.0042 689.49 L28.3562 698.816 Z\" fill=\"#000000\" fill-rule=\"evenodd\" fill-opacity=\"1\" /><path clip-path=\"url(#clip550)\" d=\"M44.7161 611.606 L47.5806 611.606 L47.5806 638.533 Q53.6281 638.151 56.8109 634.904 Q59.9619 631.626 59.9619 625.801 Q59.9619 622.428 59.1344 619.277 Q58.3069 616.094 56.6518 612.974 L62.1899 612.974 Q63.5267 616.126 64.227 619.436 Q64.9272 622.746 64.9272 626.151 Q64.9272 634.682 59.9619 639.679 Q54.9967 644.644 46.5303 644.644 Q37.7774 644.644 32.6531 639.933 Q27.4968 635.191 27.4968 627.17 Q27.4968 619.977 32.1438 615.807 Q36.7589 611.606 44.7161 611.606 M42.9973 617.462 Q38.1912 617.526 35.3266 620.168 Q32.4621 622.778 32.4621 627.106 Q32.4621 632.008 35.2312 634.968 Q38.0002 637.896 43.0292 638.342 L42.9973 617.462 Z\" fill=\"#000000\" fill-rule=\"evenodd\" fill-opacity=\"1\" /><path clip-path=\"url(#clip550)\" d=\"M28.3562 601.994 L28.3562 596.137 L64.0042 596.137 L64.0042 601.994 L28.3562 601.994 M14.479 601.994 L14.479 596.137 L21.895 596.137 L21.895 601.994 L14.479 601.994 Z\" fill=\"#000000\" fill-rule=\"evenodd\" fill-opacity=\"1\" /><path clip-path=\"url(#clip550)\" d=\"M45.7664 560.426 Q39.4007 560.426 35.8996 563.067 Q32.3984 565.677 32.3984 570.42 Q32.3984 575.13 35.8996 577.772 Q39.4007 580.382 45.7664 580.382 Q52.1003 580.382 55.6014 577.772 Q59.1026 575.13 59.1026 570.42 Q59.1026 565.677 55.6014 563.067 Q52.1003 560.426 45.7664 560.426 M59.58 554.569 Q68.683 554.569 73.1071 558.611 Q77.5631 562.654 77.5631 570.993 Q77.5631 574.08 77.0857 576.817 Q76.6401 579.555 75.6852 582.133 L69.9879 582.133 Q71.3884 579.555 72.0568 577.04 Q72.7252 574.526 72.7252 571.916 Q72.7252 566.155 69.7015 563.29 Q66.7096 560.426 60.6303 560.426 L57.7339 560.426 Q60.885 562.24 62.4446 565.073 Q64.0042 567.905 64.0042 571.852 Q64.0042 578.409 59.0071 582.419 Q54.01 586.429 45.7664 586.429 Q37.491 586.429 32.4939 582.419 Q27.4968 578.409 27.4968 571.852 Q27.4968 567.905 29.0564 565.073 Q30.616 562.24 33.7671 560.426 L28.3562 560.426 L28.3562 554.569 L59.58 554.569 Z\" fill=\"#000000\" fill-rule=\"evenodd\" fill-opacity=\"1\" /><path clip-path=\"url(#clip550)\" d=\"M42.4881 512.874 L64.0042 512.874 L64.0042 518.73 L42.679 518.73 Q37.6183 518.73 35.1038 520.704 Q32.5894 522.677 32.5894 526.624 Q32.5894 531.366 35.6131 534.103 Q38.6368 536.841 43.8567 536.841 L64.0042 536.841 L64.0042 542.729 L14.479 542.729 L14.479 536.841 L33.8944 536.841 Q30.6797 534.74 29.0883 531.907 Q27.4968 529.043 27.4968 525.319 Q27.4968 519.176 31.3163 516.025 Q35.1038 512.874 42.4881 512.874 Z\" fill=\"#000000\" fill-rule=\"evenodd\" fill-opacity=\"1\" /><path clip-path=\"url(#clip550)\" d=\"M18.2347 495.4 L28.3562 495.4 L28.3562 483.337 L32.9077 483.337 L32.9077 495.4 L52.2594 495.4 Q56.6199 495.4 57.8613 494.222 Q59.1026 493.013 59.1026 489.352 L59.1026 483.337 L64.0042 483.337 L64.0042 489.352 Q64.0042 496.132 61.4897 498.71 Q58.9434 501.288 52.2594 501.288 L32.9077 501.288 L32.9077 505.585 L28.3562 505.585 L28.3562 501.288 L18.2347 501.288 L18.2347 495.4 Z\" fill=\"#000000\" fill-rule=\"evenodd\" fill-opacity=\"1\" /><polyline clip-path=\"url(#clip552)\" style=\"stroke:#009af9; stroke-linecap:round; stroke-linejoin:round; stroke-width:8; stroke-opacity:1; fill:none\" points=\"\n  308.871,125.379 309.826,125.38 310.782,125.381 311.737,125.382 312.693,125.385 313.648,125.388 314.604,125.391 315.559,125.395 316.515,125.4 317.471,125.405 \n  318.426,125.411 319.382,125.416 320.337,125.423 321.293,125.429 322.248,125.436 323.204,125.443 324.159,125.449 325.115,125.456 326.071,125.463 327.026,125.47 \n  327.982,125.476 328.937,125.483 329.893,125.489 330.848,125.494 331.804,125.499 332.759,125.504 333.715,125.509 334.67,125.513 335.626,125.516 336.582,125.519 \n  337.537,125.521 338.493,125.523 339.448,125.525 340.404,125.526 341.359,125.526 342.315,125.526 343.27,125.526 344.226,125.525 345.182,125.524 346.137,125.523 \n  347.093,125.521 348.048,125.52 349.004,125.518 349.959,125.516 350.915,125.515 351.87,125.513 352.826,125.511 353.782,125.51 354.737,125.509 355.693,125.509 \n  356.648,125.508 357.604,125.509 358.559,125.51 359.515,125.511 360.47,125.513 361.426,125.516 362.381,125.519 363.337,125.523 364.293,125.528 365.248,125.534 \n  366.204,125.541 367.159,125.549 368.115,125.557 369.07,125.567 370.026,125.577 370.981,125.588 371.937,125.6 372.893,125.613 373.848,125.627 374.804,125.642 \n  375.759,125.658 376.715,125.675 377.67,125.692 378.626,125.71 379.581,125.729 380.537,125.749 381.493,125.769 382.448,125.79 383.404,125.812 384.359,125.834 \n  385.315,125.857 386.27,125.88 387.226,125.904 388.181,125.928 389.137,125.953 390.092,125.978 391.048,126.004 392.004,126.03 392.959,126.056 393.915,126.083 \n  394.87,126.11 395.826,126.138 396.781,126.165 397.737,126.194 398.692,126.222 399.648,126.251 400.604,126.281 401.559,126.31 402.515,126.341 403.47,126.371 \n  404.426,126.403 405.381,126.435 406.337,126.467 407.292,126.5 408.248,126.534 409.204,126.569 410.159,126.604 411.115,126.641 412.07,126.678 413.026,126.716 \n  413.981,126.755 414.937,126.796 415.892,126.837 416.848,126.88 417.803,126.925 418.759,126.97 419.715,127.017 420.67,127.066 421.626,127.116 422.581,127.168 \n  423.537,127.222 424.492,127.277 425.448,127.335 426.403,127.394 427.359,127.455 428.315,127.519 429.27,127.584 430.226,127.652 431.181,127.722 432.137,127.795 \n  433.092,127.87 434.048,127.947 435.003,128.027 435.959,128.109 436.915,128.194 437.87,128.282 438.826,128.373 439.781,128.466 440.737,128.562 441.692,128.661 \n  442.648,128.763 443.603,128.868 444.559,128.976 445.514,129.087 446.47,129.202 447.426,129.319 448.381,129.439 449.337,129.563 450.292,129.69 451.248,129.82 \n  452.203,129.954 453.159,130.09 454.114,130.23 455.07,130.373 456.026,130.52 456.981,130.67 457.937,130.823 458.892,130.979 459.848,131.139 460.803,131.302 \n  461.759,131.468 462.714,131.637 463.67,131.81 464.626,131.986 465.581,132.164 466.537,132.346 467.492,132.531 468.448,132.719 469.403,132.909 470.359,133.103 \n  471.314,133.299 472.27,133.498 473.225,133.7 474.181,133.904 475.137,134.111 476.092,134.32 477.048,134.531 478.003,134.745 478.959,134.961 479.914,135.179 \n  480.87,135.399 481.825,135.62 482.781,135.844 483.737,136.069 484.692,136.296 485.648,136.525 486.603,136.754 487.559,136.986 488.514,137.218 489.47,137.452 \n  490.425,137.687 491.381,137.922 492.337,138.159 493.292,138.397 494.248,138.635 495.203,138.874 496.159,139.114 497.114,139.354 498.07,139.595 499.025,139.836 \n  499.981,140.078 500.936,140.32 501.892,140.562 502.848,140.804 503.803,141.047 504.759,141.29 505.714,141.532 506.67,141.775 507.625,142.017 508.581,142.26 \n  509.536,142.502 510.492,142.744 511.448,142.985 512.403,143.226 513.359,143.467 514.314,143.707 515.27,143.946 516.225,144.185 517.181,144.423 518.136,144.66 \n  519.092,144.896 520.048,145.131 521.003,145.365 521.959,145.597 522.914,145.829 523.87,146.059 524.825,146.288 525.781,146.514 526.736,146.74 527.692,146.963 \n  528.647,147.185 529.603,147.404 530.559,147.622 531.514,147.837 532.47,148.05 533.425,148.26 534.381,148.468 535.336,148.673 536.292,148.875 537.247,149.074 \n  538.203,149.271 539.159,149.464 540.114,149.654 541.07,149.84 542.025,150.023 542.981,150.202 543.936,150.378 544.892,150.549 545.847,150.717 546.803,150.881 \n  547.759,151.04 548.714,151.195 549.67,151.346 550.625,151.493 551.581,151.635 552.536,151.773 553.492,151.906 554.447,152.034 555.403,152.157 556.358,152.276 \n  557.314,152.39 558.27,152.498 559.225,152.602 560.181,152.701 561.136,152.795 562.092,152.884 563.047,152.968 564.003,153.046 564.958,153.12 565.914,153.189 \n  566.87,153.252 567.825,153.311 568.781,153.364 569.736,153.413 570.692,153.457 571.647,153.495 572.603,153.529 573.558,153.558 574.514,153.582 575.47,153.601 \n  576.425,153.616 577.381,153.626 578.336,153.632 579.292,153.633 580.247,153.63 581.203,153.623 582.158,153.62 583.114,153.62 584.069,153.62 585.025,153.62 \n  585.981,153.62 586.936,153.62 587.892,153.619 588.847,153.619 589.803,153.618 590.758,153.618 591.714,153.617 592.669,153.616 593.625,153.615 594.581,153.613 \n  595.536,153.611 596.492,153.608 597.447,153.606 598.403,153.602 599.358,153.598 600.314,153.594 601.269,153.589 602.225,153.583 603.181,153.576 604.136,153.569 \n  605.092,153.56 606.047,153.551 607.003,153.541 607.958,153.529 608.914,153.517 609.869,153.503 610.825,153.488 611.78,153.472 612.736,153.454 613.692,153.435 \n  614.647,153.414 615.603,153.392 616.558,153.368 617.514,153.342 618.469,153.315 619.425,153.286 620.38,153.255 621.336,153.222 622.292,153.188 623.247,153.151 \n  624.203,153.112 625.158,153.071 626.114,153.028 627.069,152.983 628.025,152.935 628.98,152.886 629.936,152.834 630.892,152.78 631.847,152.723 632.803,152.664 \n  633.758,152.602 634.714,152.538 635.669,152.472 636.625,152.403 637.58,152.331 638.536,152.257 639.491,152.181 640.447,152.101 641.403,152.019 642.358,151.934 \n  643.314,151.846 644.269,151.756 645.225,151.663 646.18,151.567 647.136,151.468 648.091,151.366 649.047,151.261 650.003,151.153 650.958,151.043 651.914,150.929 \n  652.869,150.813 653.825,150.693 654.78,150.571 655.736,150.446 656.691,150.318 657.647,150.187 658.603,150.053 659.558,149.917 660.514,149.778 661.469,149.636 \n  662.425,149.492 663.38,149.345 664.336,149.197 665.291,149.046 666.247,148.892 667.202,148.737 668.158,148.581 669.114,148.422 670.069,148.263 671.025,148.101 \n  671.98,147.939 672.936,147.776 673.891,147.612 674.847,147.448 675.802,147.283 676.758,147.118 677.714,146.954 678.669,146.79 679.625,146.626 680.58,146.463 \n  681.536,146.301 682.491,146.14 683.447,145.981 684.402,145.823 685.358,145.668 686.314,145.514 687.269,145.363 688.225,145.214 689.18,145.068 690.136,144.924 \n  691.091,144.784 692.047,144.647 693.002,144.514 693.958,144.384 694.913,144.257 695.869,144.134 696.825,144.016 697.78,143.901 698.736,143.79 699.691,143.684 \n  700.647,143.581 701.602,143.483 702.558,143.39 703.513,143.3 704.469,143.216 705.425,143.135 706.38,143.06 707.336,142.988 708.291,142.922 709.247,142.86 \n  710.202,142.802 711.158,142.75 712.113,142.702 713.069,142.658 714.024,142.62 714.98,142.586 715.936,142.557 716.891,142.533 717.847,142.514 718.802,142.5 \n  719.758,142.49 720.713,142.486 721.669,142.487 722.624,142.492 723.58,142.503 724.536,142.519 725.491,142.54 726.447,142.566 727.402,142.597 728.358,142.633 \n  729.313,142.674 730.269,142.72 731.224,142.771 732.18,142.827 733.136,142.887 734.091,142.953 735.047,143.023 736.002,143.098 736.958,143.177 737.913,143.261 \n  738.869,143.349 739.824,143.441 740.78,143.538 741.735,143.638 742.691,143.743 743.647,143.851 744.602,143.963 745.558,144.078 746.513,144.197 747.469,144.32 \n  748.424,144.445 749.38,144.574 750.335,144.706 751.291,144.841 752.247,144.979 753.202,145.119 754.158,145.262 755.113,145.408 756.069,145.556 757.024,145.707 \n  757.98,145.86 758.935,146.015 759.891,146.173 760.847,146.332 761.802,146.494 762.758,146.658 763.713,146.823 764.669,146.99 765.624,147.159 766.58,147.329 \n  767.535,147.5 768.491,147.673 769.446,147.848 770.402,148.023 771.358,148.199 772.313,148.376 773.269,148.554 774.224,148.732 775.18,148.911 776.135,149.09 \n  777.091,149.268 778.046,149.447 779.002,149.626 779.958,149.804 780.913,149.982 781.869,150.159 782.824,150.335 783.78,150.509 784.735,150.683 785.691,150.854 \n  786.646,151.025 787.602,151.193 788.558,151.359 789.513,151.522 790.469,151.684 791.424,151.842 792.38,151.998 793.335,152.15 794.291,152.299 795.246,152.445 \n  796.202,152.586 797.157,152.724 798.113,152.858 799.069,152.988 800.024,153.113 800.98,153.234 801.935,153.351 802.891,153.462 803.846,153.569 804.802,153.671 \n  805.757,153.768 806.713,153.86 807.669,153.947 808.624,154.029 809.58,154.106 810.535,154.177 811.491,154.244 812.446,154.305 813.402,154.361 814.357,154.412 \n  815.313,154.459 816.269,154.5 817.224,154.536 818.18,154.568 819.135,154.595 820.091,154.617 821.046,154.634 822.002,154.647 822.957,154.656 823.913,154.661 \n  824.868,154.661 825.824,154.657 826.78,154.647 827.735,154.632 828.691,154.611 829.646,154.586 830.602,154.557 831.557,154.523 832.513,154.485 833.468,154.443 \n  834.424,154.399 835.38,154.351 836.335,154.3 837.291,154.247 838.246,154.192 839.202,154.136 840.157,154.078 841.113,154.019 842.068,153.96 843.024,153.901 \n  843.98,153.841 844.935,153.783 845.891,153.725 846.846,153.668 847.802,153.613 848.757,153.56 849.713,153.509 850.668,153.46 851.624,153.415 852.579,153.372 \n  853.535,153.333 854.491,153.298 855.446,153.266 856.402,153.239 857.357,153.216 858.313,153.197 859.268,153.183 860.224,153.175 861.179,153.171 862.135,153.172 \n  863.091,153.179 864.046,153.192 865.002,153.21 865.957,153.233 866.913,153.263 867.868,153.298 868.824,153.339 869.779,153.387 870.735,153.44 871.691,153.499 \n  872.646,153.564 873.602,153.635 874.557,153.712 875.513,153.796 876.468,153.885 877.424,153.981 878.379,154.082 879.335,154.19 880.29,154.304 881.246,154.424 \n  882.202,154.55 883.157,154.682 884.113,154.82 885.068,154.965 886.024,155.116 886.979,155.274 887.935,155.438 888.89,155.608 889.846,155.785 890.802,155.969 \n  891.757,156.16 892.713,156.358 893.668,156.563 894.624,156.775 895.579,156.994 896.535,157.22 897.49,157.454 898.446,157.696 899.402,157.945 900.357,158.202 \n  901.313,158.466 902.268,158.738 903.224,159.018 904.179,159.306 905.135,159.602 906.09,159.905 907.046,160.216 908.001,160.534 908.957,160.86 909.913,161.194 \n  910.868,161.535 911.824,161.882 912.779,162.237 913.735,162.599 914.69,162.967 915.646,163.342 916.601,163.723 917.557,164.109 918.513,164.502 919.468,164.9 \n  920.424,165.303 921.379,165.711 922.335,166.124 923.29,166.541 924.246,166.962 925.201,167.387 926.157,167.815 927.113,168.246 928.068,168.68 929.024,169.116 \n  929.979,169.554 930.935,169.993 931.89,170.434 932.846,170.876 933.801,171.318 934.757,171.76 935.712,172.202 936.668,172.642 937.624,173.082 938.579,173.52 \n  939.535,173.956 940.49,174.389 941.446,174.819 942.401,175.246 943.357,175.668 944.312,176.087 945.268,176.5 946.224,176.909 947.179,177.312 948.135,177.708 \n  949.09,178.099 950.046,178.482 951.001,178.858 951.957,179.226 952.912,179.587 953.868,179.939 954.824,180.282 955.779,180.615 956.735,180.94 957.69,181.255 \n  958.646,181.559 959.601,181.854 960.557,182.138 961.512,182.411 962.468,182.674 963.423,182.925 964.379,183.165 965.335,183.394 966.29,183.612 967.246,183.818 \n  968.201,184.013 969.157,184.196 970.112,184.369 971.068,184.529 972.023,184.679 972.979,184.818 973.935,184.946 974.89,185.063 975.846,185.169 976.801,185.266 \n  977.757,185.352 978.712,185.429 979.668,185.496 980.623,185.554 981.579,185.604 982.535,185.645 983.49,185.679 984.446,185.704 985.401,185.723 986.357,185.735 \n  987.312,185.741 988.268,185.741 989.223,185.735 990.179,185.725 991.134,185.71 992.09,185.692 993.046,185.669 994.001,185.644 994.957,185.616 995.912,185.586 \n  996.868,185.555 997.823,185.522 998.779,185.489 999.734,185.455 1000.69,185.422 1001.65,185.389 1002.6,185.358 1003.56,185.328 1004.51,185.3 1005.47,185.274 \n  1006.42,185.252 1007.38,185.233 1008.33,185.218 1009.29,185.207 1010.25,185.201 1011.2,185.2 1012.16,185.204 1013.11,185.215 1014.07,185.231 1015.02,185.255 \n  1015.98,185.285 1016.93,185.323 1017.89,185.369 1018.85,185.423 1019.8,185.486 1020.76,185.557 1021.71,185.638 1022.67,185.729 1023.62,185.829 1024.58,185.94 \n  1025.53,186.062 1026.49,186.195 1027.45,186.339 1028.4,186.494 1029.36,186.661 1030.31,186.841 1031.27,187.033 1032.22,187.238 1033.18,187.456 1034.13,187.687 \n  1035.09,187.931 1036.05,188.189 1037,188.461 1037.96,188.746 1038.91,189.046 1039.87,189.36 1040.82,189.689 1041.78,190.032 1042.73,190.39 1043.69,190.762 \n  1044.65,191.15 1045.6,191.552 1046.56,191.968 1047.51,192.4 1048.47,192.846 1049.42,193.307 1050.38,193.783 1051.33,194.274 1052.29,194.779 1053.25,195.298 \n  1054.2,195.832 1055.16,196.38 1056.11,196.942 1057.07,197.518 1058.02,198.108 1058.98,198.711 1059.93,199.327 1060.89,199.956 1061.85,200.598 1062.8,201.252 \n  1063.76,201.919 1064.71,202.597 1065.67,203.286 1066.62,203.986 1067.58,204.696 1068.53,205.417 1069.49,206.147 1070.45,206.886 1071.4,207.633 1072.36,208.388 \n  1073.31,209.15 1074.27,209.919 1075.22,210.694 1076.18,211.474 1077.13,212.259 1078.09,213.048 1079.05,213.84 1080,214.634 1080.96,215.431 1081.91,216.228 \n  1082.87,217.026 1083.82,217.824 1084.78,218.621 1085.73,219.416 1086.69,220.208 1087.65,220.998 1088.6,221.784 1089.56,222.566 1090.51,223.343 1091.47,224.115 \n  1092.42,224.881 1093.38,225.64 1094.33,226.392 1095.29,227.137 1096.25,227.874 1097.2,228.603 1098.16,229.324 1099.11,230.035 1100.07,230.737 1101.02,231.429 \n  1101.98,232.111 1102.93,232.783 1103.89,233.445 1104.85,234.095 1105.8,234.735 1106.76,235.363 1107.71,235.979 1108.67,236.584 1109.62,237.177 1110.58,237.757 \n  1111.53,238.325 1112.49,238.88 1113.45,239.422 1114.4,239.951 1115.36,240.467 1116.31,240.969 1117.27,241.457 1118.22,241.932 1119.18,242.392 1120.13,242.838 \n  1121.09,243.27 1122.05,243.687 1123,244.089 1123.96,244.476 1124.91,244.848 1125.87,245.204 1126.82,245.546 1127.78,245.872 1128.73,246.182 1129.69,246.477 \n  1130.65,246.756 1131.6,247.019 1132.56,247.267 1133.51,247.5 1134.47,247.717 1135.42,247.918 1136.38,248.105 1137.33,248.276 1138.29,248.433 1139.24,248.575 \n  1140.2,248.703 1141.16,248.818 1142.11,248.919 1143.07,249.007 1144.02,249.083 1144.98,249.147 1145.93,249.2 1146.89,249.242 1147.84,249.274 1148.8,249.296 \n  1149.76,249.31 1150.71,249.316 1151.67,249.314 1152.62,249.306 1153.58,249.292 1154.53,249.273 1155.49,249.25 1156.44,249.224 1157.4,249.194 1158.36,249.163 \n  1159.31,249.131 1160.27,249.099 1161.22,249.067 1162.18,249.036 1163.13,249.007 1164.09,248.981 1165.04,248.958 1166,248.94 1166.96,248.926 1167.91,248.918 \n  1168.87,248.917 1169.82,248.922 1170.78,248.934 1171.73,248.955 1172.69,248.985 1173.64,249.024 1174.6,249.073 1175.56,249.133 1176.51,249.203 1177.47,249.285 \n  1178.42,249.379 1179.38,249.486 1180.33,249.606 1181.29,249.739 1182.24,249.886 1183.2,250.047 1184.16,250.223 1185.11,250.414 1186.07,250.621 1187.02,250.843 \n  1187.98,251.082 1188.93,251.337 1189.89,251.609 1190.84,251.898 1191.8,252.204 1192.76,252.528 1193.71,252.871 1194.67,253.231 1195.62,253.611 1196.58,254.009 \n  1197.53,254.426 1198.49,254.863 1199.44,255.319 1200.4,255.796 1201.36,256.292 1202.31,256.809 1203.27,257.346 1204.22,257.904 1205.18,258.484 1206.13,259.084 \n  1207.09,259.705 1208.04,260.348 1209,261.012 1209.96,261.698 1210.91,262.406 1211.87,263.136 1212.82,263.887 1213.78,264.66 1214.73,265.454 1215.69,266.271 \n  1216.64,267.109 1217.6,267.968 1218.56,268.849 1219.51,269.751 1220.47,270.674 1221.42,271.618 1222.38,272.583 1223.33,273.568 1224.29,274.573 1225.24,275.598 \n  1226.2,276.642 1227.16,277.706 1228.11,278.788 1229.07,279.889 1230.02,281.009 1230.98,282.145 1231.93,283.3 1232.89,284.471 1233.84,285.658 1234.8,286.861 \n  1235.76,288.08 1236.71,289.314 1237.67,290.562 1238.62,291.823 1239.58,293.098 1240.53,294.385 1241.49,295.685 1242.44,296.995 1243.4,298.316 1244.36,299.647 \n  1245.31,300.987 1246.27,302.335 1247.22,303.691 1248.18,305.053 1249.13,306.421 1250.09,307.794 1251.04,309.17 1252,310.55 1252.96,311.932 1253.91,313.315 \n  1254.87,314.699 1255.82,316.081 1256.78,317.462 1257.73,318.84 1258.69,320.215 1259.64,321.585 1260.6,322.949 1261.56,324.307 1262.51,325.658 1263.47,327 \n  1264.42,328.332 1265.38,329.654 1266.33,330.965 1267.29,332.263 1268.24,333.549 1269.2,334.82 1270.16,336.075 1271.11,337.315 1272.07,338.538 1273.02,339.742 \n  1273.98,340.928 1274.93,342.093 1275.89,343.238 1276.84,344.36 1277.8,345.46 1278.76,346.535 1279.71,347.586 1280.67,348.611 1281.62,349.61 1282.58,350.58 \n  1283.53,351.522 1284.49,352.435 1285.44,353.318 1286.4,354.169 1287.36,354.989 1288.31,355.776 1289.27,356.531 1290.22,357.251 1291.18,357.938 1292.13,358.591 \n  1293.09,359.209 1294.04,359.792 1295,360.34 1295.96,360.854 1296.91,361.332 1297.87,361.777 1298.82,362.187 1299.78,362.564 1300.73,362.907 1301.69,363.219 \n  1302.64,363.499 1303.6,363.748 1304.56,363.969 1305.51,364.161 1306.47,364.326 1307.42,364.466 1308.38,364.582 1309.33,364.675 1310.29,364.748 1311.24,364.801 \n  1312.2,364.837 1313.16,364.858 1314.11,364.865 1315.07,364.86 1316.02,364.845 1316.98,364.822 1317.93,364.793 1318.89,364.76 1319.84,364.725 1320.8,364.688 \n  1321.76,364.653 1322.71,364.621 1323.67,364.594 1324.62,364.572 1325.58,364.559 1326.53,364.555 1327.49,364.562 1328.44,364.581 1329.4,364.613 1330.36,364.66 \n  1331.31,364.722 1332.27,364.802 1333.22,364.899 1334.18,365.015 1335.13,365.15 1336.09,365.306 1337.04,365.484 1338,365.683 1338.96,365.904 1339.91,366.148 \n  1340.87,366.416 1341.82,366.708 1342.78,367.025 1343.73,367.366 1344.69,367.733 1345.64,368.125 1346.6,368.543 1347.56,368.988 1348.51,369.459 1349.47,369.958 \n  1350.42,370.483 1351.38,371.036 1352.33,371.617 1353.29,372.225 1354.24,372.863 1355.2,373.529 1356.16,374.224 1357.11,374.948 1358.07,375.702 1359.02,376.487 \n  1359.98,377.301 1360.93,378.147 1361.89,379.024 1362.84,379.934 1363.8,380.875 1364.76,381.85 1365.71,382.858 1366.67,383.9 1367.62,384.977 1368.58,386.09 \n  1369.53,387.239 1370.49,388.424 1371.44,389.647 1372.4,390.909 1373.36,392.209 1374.31,393.55 1375.27,394.931 1376.22,396.354 1377.18,397.819 1378.13,399.327 \n  1379.09,400.879 1380.04,402.475 1381,404.117 1381.96,405.805 1382.91,407.539 1383.87,409.321 1384.82,411.152 1385.78,413.031 1386.73,414.959 1387.69,416.937 \n  1388.64,418.966 1389.6,421.045 1390.56,423.176 1391.51,425.358 1392.47,427.593 1393.42,429.88 1394.38,432.219 1395.33,434.612 1396.29,437.057 1397.24,439.556 \n  1398.2,442.108 1399.16,444.713 1400.11,447.372 1401.07,450.084 1402.02,452.848 1402.98,455.666 1403.93,458.537 1404.89,461.46 1405.84,464.435 1406.8,467.462 \n  1407.75,470.539 1408.71,473.668 1409.67,476.846 1410.62,480.073 1411.58,483.348 1412.53,486.671 1413.49,490.04 1414.44,493.454 1415.4,496.912 1416.35,500.413 \n  1417.31,503.954 1418.27,507.535 1419.22,511.154 1420.18,514.808 1421.13,518.497 1422.09,522.217 1423.04,525.967 1424,529.744 1424.95,533.547 1425.91,537.371 \n  1426.87,541.216 1427.82,545.077 1428.78,548.952 1429.73,552.839 1430.69,556.733 1431.64,560.632 1432.6,564.533 1433.55,568.432 1434.51,572.326 1435.47,576.21 \n  1436.42,580.082 1437.38,583.938 1438.33,587.773 1439.29,591.584 1440.24,595.367 1441.2,599.117 1442.15,602.83 1443.11,606.503 1444.07,610.13 1445.02,613.707 \n  1445.98,617.229 1446.93,620.692 1447.89,624.091 1448.84,627.421 1449.8,630.678 1450.75,633.857 1451.71,636.952 1452.67,639.959 1453.62,642.874 1454.58,645.693 \n  1455.53,648.41 1456.49,651.021 1457.44,653.524 1458.4,655.913 1459.35,658.186 1460.31,660.341 1461.27,662.373 1462.22,664.282 1463.18,666.065 1464.13,667.721 \n  1465.09,669.25 1466.04,670.652 1467,671.926 1467.95,673.074 1468.91,674.097 1469.87,674.997 1470.82,675.775 1471.78,676.436 1472.73,676.982 1473.69,677.417 \n  1474.64,677.744 1475.6,677.969 1476.55,678.095 1477.51,678.127 1478.47,678.069 1479.42,677.928 1480.38,677.708 1481.33,677.414 1482.29,677.051 1483.24,676.624 \n  1484.2,676.137 1485.15,675.596 1486.11,675.004 1487.07,674.367 1488.02,673.687 1488.98,672.969 1489.93,672.216 1490.89,671.43 1491.84,670.616 1492.8,669.775 \n  1493.75,668.91 1494.71,668.021 1495.67,667.112 1496.62,666.182 1497.58,665.234 1498.53,664.267 1499.49,663.282 1500.44,662.279 1501.4,661.258 1502.35,660.218 \n  1503.31,659.16 1504.27,658.082 1505.22,656.983 1506.18,655.862 1507.13,654.719 1508.09,653.551 1509.04,652.359 1510,651.139 1510.95,649.892 1511.91,648.615 \n  1512.87,647.308 1513.82,645.968 1514.78,644.595 1515.73,643.187 1516.69,641.744 1517.64,640.265 1518.6,638.747 1519.55,637.191 1520.51,635.597 1521.47,633.962 \n  1522.42,632.288 1523.38,630.574 1524.33,628.819 1525.29,627.025 1526.24,625.19 1527.2,623.316 1528.15,621.404 1529.11,619.453 1530.07,617.464 1531.02,615.44 \n  1531.98,613.38 1532.93,611.287 1533.89,609.161 1534.84,607.004 1535.8,604.818 1536.75,602.605 1537.71,600.366 1538.67,598.104 1539.62,595.82 1540.58,593.516 \n  1541.53,591.196 1542.49,588.86 1543.44,586.512 1544.4,584.154 1545.35,581.788 1546.31,579.416 1547.27,577.041 1548.22,574.666 1549.18,572.293 1550.13,569.924 \n  1551.09,567.561 1552.04,565.207 1553,562.864 1553.95,560.535 1554.91,558.221 1555.87,555.925 1556.82,553.649 1557.78,551.394 1558.73,549.162 1559.69,546.955 \n  1560.64,544.775 1561.6,542.624 1562.55,540.502 1563.51,538.411 1564.47,536.352 1565.42,534.327 1566.38,532.336 1567.33,530.38 1568.29,528.461 1569.24,526.578 \n  1570.2,524.732 1571.15,522.925 1572.11,521.156 1573.07,519.426 1574.02,517.735 1574.98,516.083 1575.93,514.471 1576.89,512.899 1577.84,511.366 1578.8,509.872 \n  1579.75,508.419 1580.71,507.004 1581.67,505.629 1582.62,504.294 1583.58,502.997 1584.53,501.739 1585.49,500.519 1586.44,499.338 1587.4,498.194 1588.35,497.088 \n  1589.31,496.019 1590.27,494.987 1591.22,493.991 1592.18,493.032 1593.13,492.107 1594.09,491.218 1595.04,490.363 1596,489.542 1596.95,488.756 1597.91,488.002 \n  1598.87,487.281 1599.82,486.593 1600.78,485.936 1601.73,485.311 1602.69,484.716 1603.64,484.153 1604.6,483.619 1605.55,483.115 1606.51,482.641 1607.47,482.195 \n  1608.42,481.778 1609.38,481.388 1610.33,481.027 1611.29,480.692 1612.24,480.385 1613.2,480.104 1614.15,479.848 1615.11,479.618 1616.07,479.413 1617.02,479.233 \n  1617.98,479.076 1618.93,478.943 1619.89,478.831 1620.84,478.742 1621.8,478.673 1622.75,478.625 1623.71,478.595 1624.67,478.583 1625.62,478.587 1626.58,478.607 \n  1627.53,478.641 1628.49,478.687 1629.44,478.743 1630.4,478.809 1631.35,478.881 1632.31,478.958 1633.27,479.037 1634.22,479.116 1635.18,479.193 1636.13,479.265 \n  1637.09,479.329 1638.04,479.382 1639,479.421 1639.95,479.444 1640.91,479.447 1641.87,479.427 1642.82,479.38 1643.78,479.304 1644.73,479.195 1645.69,479.049 \n  1646.64,478.864 1647.6,478.636 1648.55,478.363 1649.51,478.041 1650.47,477.668 1651.42,477.241 1652.38,476.758 1653.33,476.216 1654.29,475.614 1655.24,474.95 \n  1656.2,474.223 1657.15,473.432 1658.11,472.575 1659.07,471.654 1660.02,470.667 1660.98,469.615 1661.93,468.498 1662.89,467.318 1663.84,466.076 1664.8,464.772 \n  1665.75,463.41 1666.71,461.99 1667.67,460.515 1668.62,458.988 1669.58,457.41 1670.53,455.784 1671.49,454.114 1672.44,452.401 1673.4,450.648 1674.35,448.859 \n  1675.31,447.036 1676.26,445.182 1677.22,443.299 1678.18,441.39 1679.13,439.458 1680.09,437.505 1681.04,435.533 1682,433.545 1682.95,431.543 1683.91,429.529 \n  1684.86,427.504 1685.82,425.471 1686.78,423.431 1687.73,421.385 1688.69,419.336 1689.64,417.284 1690.6,415.231 1691.55,413.177 1692.51,411.125 1693.46,409.074 \n  1694.42,407.026 1695.38,404.982 1696.33,402.943 1697.29,400.908 1698.24,398.879 1699.2,396.857 1700.15,394.842 1701.11,392.834 1702.06,390.835 1703.02,388.845 \n  1703.98,386.866 1704.93,384.9 1705.89,382.949 1706.84,381.012 1707.8,379.089 1708.75,377.181 1709.71,375.287 1710.66,373.409 1711.62,371.547 1712.58,369.7 \n  1713.53,367.87 1714.49,366.056 1715.44,364.26 1716.4,362.481 1717.35,360.72 1718.31,358.978 1719.26,357.256 1720.22,355.553 1721.18,353.87 1722.13,352.209 \n  1723.09,350.569 1724.04,348.951 1725,347.356 1725.95,345.785 1726.91,344.237 1727.86,342.714 1728.82,341.216 1729.78,339.744 1730.73,338.298 1731.69,336.878 \n  1732.64,335.485 1733.6,334.12 1734.55,332.782 1735.51,331.473 1736.46,330.192 1737.42,328.939 1738.38,327.715 1739.33,326.521 1740.29,325.355 1741.24,324.219 \n  1742.2,323.112 1743.15,322.034 1744.11,320.986 1745.06,319.967 1746.02,318.977 1746.98,318.016 1747.93,317.084 1748.89,316.18 1749.84,315.305 1750.8,314.459 \n  1751.75,313.64 1752.71,312.849 1753.66,312.086 1754.62,311.349 1755.58,310.64 1756.53,309.957 1757.49,309.301 1758.44,308.67 1759.4,308.065 1760.35,307.486 \n  1761.31,306.931 1762.26,306.4 1763.22,305.893 1764.18,305.411 1765.13,304.951 1766.09,304.514 1767.04,304.1 1768,303.708 1768.95,303.337 1769.91,302.988 \n  1770.86,302.659 1771.82,302.351 1772.78,302.063 1773.73,301.794 1774.69,301.544 1775.64,301.313 1776.6,301.101 1777.55,300.906 1778.51,300.729 1779.46,300.568 \n  1780.42,300.425 1781.38,300.298 1782.33,300.186 1783.29,300.091 1784.24,300.01 1785.2,299.944 1786.15,299.893 1787.11,299.856 1788.06,299.833 1789.02,299.823 \n  1789.98,299.827 1790.93,299.843 1791.89,299.871 1792.84,299.912 1793.8,299.964 1794.75,300.028 1795.71,300.103 1796.66,300.188 1797.62,300.284 1798.58,300.39 \n  1799.53,300.505 1800.49,300.63 1801.44,300.763 1802.4,300.904 1803.35,301.053 1804.31,301.21 1805.26,301.374 1806.22,301.544 1807.18,301.72 1808.13,301.902 \n  1809.09,302.089 1810.04,302.281 1811,302.477 1811.95,302.676 1812.91,302.879 1813.86,303.085 1814.82,303.292 1815.78,303.502 1816.73,303.712 1817.69,303.923 \n  1818.64,304.135 1819.6,304.346 1820.55,304.556 1821.51,304.765 1822.46,304.972 1823.42,305.177 1824.38,305.38 1825.33,305.579 1826.29,305.774 1827.24,305.966 \n  1828.2,306.153 1829.15,306.335 1830.11,306.512 1831.06,306.684 1832.02,306.849 1832.98,307.008 1833.93,307.16 1834.89,307.306 1835.84,307.444 1836.8,307.574 \n  1837.75,307.697 1838.71,307.812 1839.66,307.919 1840.62,308.017 1841.58,308.107 1842.53,308.189 1843.49,308.261 1844.44,308.325 1845.4,308.38 1846.35,308.426 \n  1847.31,308.463 1848.26,308.491 1849.22,308.51 1850.18,308.52 1851.13,308.521 1852.09,308.513 1853.04,308.496 1854,308.47 1854.95,308.436 1855.91,308.393 \n  1856.86,308.342 1857.82,308.282 1858.78,308.214 1859.73,308.138 1860.69,308.053 1861.64,307.961 1862.6,307.861 1863.55,307.753 1864.51,307.638 1865.46,307.516 \n  1866.42,307.386 1867.38,307.25 1868.33,307.107 1869.29,306.957 1870.24,306.801 1871.2,306.639 1872.15,306.471 1873.11,306.297 1874.06,306.118 1875.02,305.934 \n  1875.98,305.744 1876.93,305.551 1877.89,305.353 1878.84,305.151 1879.8,304.945 1880.75,304.736 1881.71,304.524 1882.66,304.309 1883.62,304.092 1884.58,303.873 \n  1885.53,303.652 1886.49,303.43 1887.44,303.207 1888.4,302.984 1889.35,302.76 1890.31,302.537 1891.26,302.314 1892.22,302.092 1893.18,301.871 1894.13,301.652 \n  1895.09,301.435 1896.04,301.22 1897,301.008 1897.95,300.799 1898.91,300.593 1899.86,300.39 1900.82,300.192 1901.78,299.997 1902.73,299.807 1903.69,299.621 \n  1904.64,299.441 1905.6,299.265 1906.55,299.094 1907.51,298.929 1908.46,298.769 1909.42,298.615 1910.38,298.466 1911.33,298.323 1912.29,298.187 1913.24,298.055 \n  1914.2,297.93 1915.15,297.811 1916.11,297.697 1917.06,297.59 1918.02,297.488 1918.98,297.392 1919.93,297.302 1920.89,297.217 1921.84,297.138 1922.8,297.064 \n  1923.75,296.995 1924.71,296.931 1925.66,296.873 1926.62,296.819 1927.58,296.77 1928.53,296.725 1929.49,296.684 1930.44,296.648 1931.4,296.615 1932.35,296.586 \n  1933.31,296.56 1934.26,296.538 1935.22,296.519 1936.18,296.503 1937.13,296.489 1938.09,296.477 1939.04,296.468 1940,296.461 1940.95,296.456 1941.91,296.452 \n  1942.86,296.449 1943.82,296.447 1944.78,296.446 1945.73,296.446 1946.69,296.452 1947.64,296.479 1948.6,296.518 1949.55,296.569 1950.51,296.631 1951.46,296.705 \n  1952.42,296.791 1953.37,296.889 1954.33,296.999 1955.29,297.121 1956.24,297.256 1957.2,297.404 1958.15,297.565 1959.11,297.739 1960.06,297.926 1961.02,298.127 \n  1961.97,298.341 1962.93,298.57 1963.89,298.813 1964.84,299.071 1965.8,299.343 1966.75,299.631 1967.71,299.935 1968.66,300.254 1969.62,300.589 1970.57,300.941 \n  1971.53,301.31 1972.49,301.696 1973.44,302.1 1974.4,302.521 1975.35,302.961 1976.31,303.42 1977.26,303.898 1978.22,304.395 1979.17,304.912 1980.13,305.45 \n  1981.09,306.008 1982.04,306.587 1983,307.188 1983.95,307.81 1984.91,308.455 1985.86,309.122 1986.82,309.812 1987.77,310.525 1988.73,311.262 1989.69,312.023 \n  1990.64,312.809 1991.6,313.619 1992.55,314.453 1993.51,315.313 1994.46,316.199 1995.42,317.11 1996.37,318.048 1997.33,319.012 1998.29,320.002 1999.24,321.019 \n  2000.2,322.064 2001.15,323.135 2002.11,324.234 2003.06,325.36 2004.02,326.514 2004.97,327.696 2005.93,328.907 2006.89,330.145 2007.84,331.411 2008.8,332.706 \n  2009.75,334.03 2010.71,335.382 2011.66,336.762 2012.62,338.172 2013.57,339.61 2014.53,341.076 2015.49,342.572 2016.44,344.096 2017.4,345.649 2018.35,347.231 \n  2019.31,348.842 2020.26,350.482 2021.22,352.15 2022.17,353.847 2023.13,355.573 2024.09,357.327 2025.04,359.11 2026,360.922 2026.95,362.762 2027.91,364.63 \n  2028.86,366.527 2029.82,368.451 2030.77,370.404 2031.73,372.385 2032.69,374.394 2033.64,376.431 2034.6,378.496 2035.55,380.588 2036.51,382.707 2037.46,384.854 \n  2038.42,387.028 2039.37,389.229 2040.33,391.457 2041.29,393.712 2042.24,395.994 2043.2,398.301 2044.15,400.636 2045.11,402.996 2046.06,405.382 2047.02,407.794 \n  2047.97,410.231 2048.93,412.694 2049.89,415.182 2050.84,417.694 2051.8,420.231 2052.75,422.793 2053.71,425.379 2054.66,427.988 2055.62,430.621 2056.57,433.278 \n  2057.53,435.958 2058.49,438.66 2059.44,441.386 2060.4,444.133 2061.35,446.903 2062.31,449.695 2063.26,452.509 2064.22,455.344 2065.17,458.2 2066.13,461.078 \n  2067.09,463.977 2068.04,466.896 2069,469.837 2069.95,472.798 2070.91,475.779 2071.86,478.781 2072.82,481.804 2073.77,484.848 2074.73,487.912 2075.69,490.996 \n  2076.64,494.102 2077.6,497.228 2078.55,500.376 2079.51,503.544 2080.46,506.735 2081.42,509.947 2082.37,513.181 2083.33,516.437 2084.29,519.717 2085.24,523.019 \n  2086.2,526.344 2087.15,529.694 2088.11,533.067 2089.06,536.465 2090.02,539.889 2090.97,543.337 2091.93,546.811 2092.89,550.312 2093.84,553.839 2094.8,557.393 \n  2095.75,560.974 2096.71,564.583 2097.66,568.22 2098.62,571.885 2099.57,575.579 2100.53,579.302 2101.49,583.053 2102.44,586.834 2103.4,590.644 2104.35,594.483 \n  2105.31,598.352 2106.26,602.25 2107.22,606.177 2108.17,610.133 2109.13,614.119 2110.09,618.133 2111.04,622.175 2112,626.245 2112.95,630.343 2113.91,634.468 \n  2114.86,638.62 2115.82,642.798 2116.77,647.001 2117.73,651.229 2118.69,655.481 2119.64,659.756 2120.6,664.054 2121.55,668.373 2122.51,672.714 2123.46,677.074 \n  2124.42,681.454 2125.37,685.852 2126.33,690.268 2127.29,694.701 2128.24,699.149 2129.2,703.613 2130.15,708.092 2131.11,712.585 2132.06,717.092 2133.02,721.613 \n  2133.97,726.146 2134.93,730.693 2135.89,735.252 2136.84,739.824 2137.8,744.41 2138.75,749.01 2139.71,753.624 2140.66,758.253 2141.62,762.899 2142.57,767.562 \n  2143.53,772.244 2144.49,776.947 2145.44,781.671 2146.4,786.42 2147.35,791.196 2148.31,796 2149.26,800.835 2150.22,805.704 2151.17,810.611 2152.13,815.557 \n  2153.09,820.546 2154.04,825.582 2155,830.668 2155.95,835.808 2156.91,841.005 2157.86,846.263 2158.82,851.586 2159.77,856.979 2160.73,862.444 2161.69,867.986 \n  2162.64,873.61 2163.6,879.319 2164.55,885.118 2165.51,891.011 2166.46,897.002 2167.42,903.095 2168.37,909.296 2169.33,915.608 2170.29,922.035 2171.24,928.582 \n  2172.2,935.254 2173.15,942.054 2174.11,948.988 2175.06,956.059 2176.02,963.273 2176.97,970.634 2177.93,978.147 2178.89,985.816 2179.84,993.647 2180.8,1001.65 \n  2181.75,1009.82 2182.71,1018.16 2183.66,1026.7 2184.62,1035.42 2185.57,1044.34 2186.53,1053.46 2187.49,1062.79 2188.44,1072.35 2189.4,1082.13 2190.35,1092.15 \n  2191.31,1102.42 2192.26,1112.95 2193.22,1123.75 2194.17,1134.84 2195.13,1146.23 2196.09,1157.95 2197.04,1170 2198,1182.42 2198.95,1195.22 2199.91,1208.43 \n  2200.86,1222.08 2201.82,1236.21 2202.77,1250.85 2203.73,1266.05 2204.69,1281.83 2205.64,1298.25 2206.6,1315.35 2207.55,1333.16 2208.51,1351.71 2209.46,1371.01 \n  2210.42,1391 2211.37,1411.58 2212.33,1432.5 2213.29,1453.32 2214.24,1473.32 2215.2,1491.42 2216.15,1506.2 2217.11,1516.09 2218.06,1519.87 2219.02,1517.13 \n  \n  \"/>\n<polyline clip-path=\"url(#clip552)\" style=\"stroke:#e26f46; stroke-linecap:round; stroke-linejoin:round; stroke-width:8; stroke-opacity:1; fill:none\" points=\"\n  308.871,6814.22 309.826,1904.26 310.782,1746.08 311.737,1652.76 312.693,1585.99 313.648,1533.77 314.604,1490.75 315.559,1454.08 316.515,1422.06 317.471,1393.59 \n  318.426,1367.92 319.382,1344.51 320.337,1322.98 321.293,1303.01 322.248,1284.39 323.204,1266.92 324.159,1250.45 325.115,1234.86 326.071,1220.06 327.026,1205.96 \n  327.982,1192.48 328.937,1179.57 329.893,1167.17 330.848,1155.24 331.804,1143.74 332.759,1132.63 333.715,1121.89 334.67,1111.49 335.626,1101.4 336.582,1091.6 \n  337.537,1082.07 338.493,1072.8 339.448,1063.76 340.404,1054.96 341.359,1046.36 342.315,1037.96 343.27,1029.76 344.226,1021.73 345.182,1013.87 346.137,1006.17 \n  347.093,998.619 348.048,991.216 349.004,983.952 349.959,976.818 350.915,969.808 351.87,962.918 352.826,956.141 353.782,949.471 354.737,942.905 355.693,936.436 \n  356.648,930.061 357.604,923.774 358.559,917.573 359.515,911.452 360.47,905.409 361.426,899.439 362.381,893.538 363.337,887.705 364.293,881.935 365.248,876.225 \n  366.204,870.573 367.159,864.976 368.115,859.432 369.07,853.937 370.026,848.491 370.981,843.09 371.937,837.734 372.893,832.419 373.848,827.145 374.804,821.911 \n  375.759,816.714 376.715,811.553 377.67,806.428 378.626,801.337 379.581,796.28 380.537,791.256 381.493,786.263 382.448,781.303 383.404,776.373 384.359,771.474 \n  385.315,766.606 386.27,761.767 387.226,756.959 388.181,752.18 389.137,747.431 390.092,742.711 391.048,738.021 392.004,733.361 392.959,728.73 393.915,724.129 \n  394.87,719.557 395.826,715.014 396.781,710.502 397.737,706.019 398.692,701.565 399.648,697.142 400.604,692.747 401.559,688.383 402.515,684.048 403.47,679.742 \n  404.426,675.466 405.381,671.218 406.337,667 407.292,662.81 408.248,658.649 409.204,654.517 410.159,650.412 411.115,646.335 412.07,642.286 413.026,638.263 \n  413.981,634.268 414.937,630.298 415.892,626.355 416.848,622.437 417.803,618.544 418.759,614.676 419.715,610.831 420.67,607.01 421.626,603.213 422.581,599.438 \n  423.537,595.685 424.492,591.954 425.448,588.243 426.403,584.554 427.359,580.885 428.315,577.235 429.27,573.605 430.226,569.994 431.181,566.401 432.137,562.826 \n  433.092,559.269 434.048,555.73 435.003,552.208 435.959,548.704 436.915,545.216 437.87,541.744 438.826,538.29 439.781,534.852 440.737,531.431 441.692,528.026 \n  442.648,524.638 443.603,521.267 444.559,517.913 445.514,514.576 446.47,511.257 447.426,507.955 448.381,504.671 449.337,501.405 450.292,498.159 451.248,494.931 \n  452.203,491.723 453.159,488.535 454.114,485.367 455.07,482.22 456.026,479.095 456.981,475.991 457.937,472.91 458.892,469.852 459.848,466.817 460.803,463.806 \n  461.759,460.82 462.714,457.858 463.67,454.922 464.626,452.012 465.581,449.127 466.537,446.269 467.492,443.439 468.448,440.635 469.403,437.86 470.359,435.112 \n  471.314,432.393 472.27,429.702 473.225,427.04 474.181,424.407 475.137,421.803 476.092,419.229 477.048,416.684 478.003,414.168 478.959,411.683 479.914,409.227 \n  480.87,406.801 481.825,404.405 482.781,402.038 483.737,399.701 484.692,397.395 485.648,395.117 486.603,392.87 487.559,390.652 488.514,388.464 489.47,386.305 \n  490.425,384.176 491.381,382.076 492.337,380.005 493.292,377.963 494.248,375.95 495.203,373.966 496.159,372.01 497.114,370.084 498.07,368.185 499.025,366.316 \n  499.981,364.474 500.936,362.661 501.892,360.876 502.848,359.118 503.803,357.389 504.759,355.687 505.714,354.014 506.67,352.368 507.625,350.749 508.581,349.158 \n  509.536,347.594 510.492,346.058 511.448,344.548 512.403,343.066 513.359,341.611 514.314,340.183 515.27,338.782 516.225,337.408 517.181,336.06 518.136,334.739 \n  519.092,333.444 520.048,332.176 521.003,330.934 521.959,329.718 522.914,328.528 523.87,327.364 524.825,326.226 525.781,325.114 526.736,324.026 527.692,322.964 \n  528.647,321.927 529.603,320.915 530.559,319.928 531.514,318.965 532.47,318.026 533.425,317.111 534.381,316.221 535.336,315.353 536.292,314.509 537.247,313.688 \n  538.203,312.89 539.159,312.114 540.114,311.361 541.07,310.629 542.025,309.919 542.981,309.231 543.936,308.563 544.892,307.917 545.847,307.291 546.803,306.686 \n  547.759,306.1 548.714,305.534 549.67,304.988 550.625,304.461 551.581,303.952 552.536,303.463 553.492,302.992 554.447,302.539 555.403,302.104 556.358,301.686 \n  557.314,301.286 558.27,300.904 559.225,300.538 560.181,300.19 561.136,299.858 562.092,299.542 563.047,299.243 564.003,298.96 564.958,298.693 565.914,298.442 \n  566.87,298.207 567.825,297.988 568.781,297.783 569.736,297.595 570.692,297.421 571.647,297.263 572.603,297.12 573.558,296.991 574.514,296.878 575.47,296.779 \n  576.425,296.695 577.381,296.625 578.336,296.569 579.292,296.528 580.247,296.501 581.203,296.488 582.158,296.487 583.114,296.487 584.069,296.487 585.025,296.487 \n  585.981,296.488 586.936,296.489 587.892,296.49 588.847,296.492 589.803,296.494 590.758,296.497 591.714,296.501 592.669,296.506 593.625,296.512 594.581,296.519 \n  595.536,296.528 596.492,296.538 597.447,296.549 598.403,296.563 599.358,296.578 600.314,296.596 601.269,296.615 602.225,296.637 603.181,296.662 604.136,296.689 \n  605.092,296.72 606.047,296.753 607.003,296.79 607.958,296.83 608.914,296.874 609.869,296.922 610.825,296.973 611.78,297.029 612.736,297.09 613.692,297.155 \n  614.647,297.225 615.603,297.3 616.558,297.381 617.514,297.467 618.469,297.559 619.425,297.656 620.38,297.76 621.336,297.87 622.292,297.987 623.247,298.111 \n  624.203,298.242 625.158,298.38 626.114,298.526 627.069,298.68 628.025,298.842 628.98,299.012 629.936,299.191 630.892,299.379 631.847,299.576 632.803,299.782 \n  633.758,299.999 634.714,300.225 635.669,300.461 636.625,300.708 637.58,300.966 638.536,301.234 639.491,301.515 640.447,301.807 641.403,302.111 642.358,302.427 \n  643.314,302.756 644.269,303.097 645.225,303.452 646.18,303.82 647.136,304.202 648.091,304.598 649.047,305.009 650.003,305.433 650.958,305.873 651.914,306.327 \n  652.869,306.797 653.825,307.282 654.78,307.783 655.736,308.3 656.691,308.833 657.647,309.381 658.603,309.946 659.558,310.528 660.514,311.125 661.469,311.739 \n  662.425,312.37 663.38,313.017 664.336,313.68 665.291,314.36 666.247,315.055 667.202,315.767 668.158,316.495 669.114,317.238 670.069,317.997 671.025,318.771 \n  671.98,319.56 672.936,320.363 673.891,321.18 674.847,322.011 675.802,322.855 676.758,323.712 677.714,324.581 678.669,325.461 679.625,326.352 680.58,327.254 \n  681.536,328.165 682.491,329.084 683.447,330.012 684.402,330.947 685.358,331.887 686.314,332.833 687.269,333.783 688.225,334.737 689.18,335.692 690.136,336.648 \n  691.091,337.605 692.047,338.559 693.002,339.511 693.958,340.458 694.913,341.401 695.869,342.336 696.825,343.263 697.78,344.18 698.736,345.086 699.691,345.979 \n  700.647,346.857 701.602,347.72 702.558,348.565 703.513,349.391 704.469,350.196 705.425,350.978 706.38,351.737 707.336,352.47 708.291,353.176 709.247,353.854 \n  710.202,354.501 711.158,355.117 712.113,355.699 713.069,356.248 714.024,356.76 714.98,357.236 715.936,357.673 716.891,358.071 717.847,358.428 718.802,358.745 \n  719.758,359.018 720.713,359.249 721.669,359.436 722.624,359.579 723.58,359.677 724.536,359.729 725.491,359.736 726.447,359.697 727.402,359.612 728.358,359.481 \n  729.313,359.304 730.269,359.081 731.224,358.812 732.18,358.499 733.136,358.141 734.091,357.738 735.047,357.293 736.002,356.805 736.958,356.275 737.913,355.705 \n  738.869,355.094 739.824,354.445 740.78,353.759 741.735,353.037 742.691,352.28 743.647,351.489 744.602,350.667 745.558,349.814 746.513,348.932 747.469,348.023 \n  748.424,347.088 749.38,346.129 750.335,345.148 751.291,344.147 752.247,343.127 753.202,342.089 754.158,341.036 755.113,339.97 756.069,338.892 757.024,337.803 \n  757.98,336.706 758.935,335.602 759.891,334.493 760.847,333.38 761.802,332.264 762.758,331.149 763.713,330.034 764.669,328.921 765.624,327.811 766.58,326.707 \n  767.535,325.609 768.491,324.518 769.446,323.435 770.402,322.362 771.358,321.3 772.313,320.25 773.269,319.212 774.224,318.187 775.18,317.177 776.135,316.182 \n  777.091,315.203 778.046,314.241 779.002,313.296 779.958,312.368 780.913,311.46 781.869,310.57 782.824,309.699 783.78,308.849 784.735,308.019 785.691,307.209 \n  786.646,306.421 787.602,305.654 788.558,304.908 789.513,304.184 790.469,303.483 791.424,302.803 792.38,302.146 793.335,301.511 794.291,300.898 795.246,300.308 \n  796.202,299.74 797.157,299.194 798.113,298.671 799.069,298.17 800.024,297.691 800.98,297.234 801.935,296.799 802.891,296.385 803.846,295.993 804.802,295.621 \n  805.757,295.271 806.713,294.941 807.669,294.631 808.624,294.342 809.58,294.072 810.535,293.821 811.491,293.589 812.446,293.376 813.402,293.182 814.357,293.005 \n  815.313,292.846 816.269,292.705 817.224,292.58 818.18,292.472 819.135,292.38 820.091,292.304 821.046,292.244 822.002,292.199 822.957,292.168 823.913,292.152 \n  824.868,292.15 825.824,292.166 826.78,292.201 827.735,292.255 828.691,292.326 829.646,292.416 830.602,292.522 831.557,292.645 832.513,292.785 833.468,292.94 \n  834.424,293.11 835.38,293.294 836.335,293.493 837.291,293.705 838.246,293.93 839.202,294.168 840.157,294.417 841.113,294.677 842.068,294.948 843.024,295.229 \n  843.98,295.518 844.935,295.817 845.891,296.123 846.846,296.435 847.802,296.754 848.757,297.079 849.713,297.407 850.668,297.74 851.624,298.074 852.579,298.411 \n  853.535,298.748 854.491,299.085 855.446,299.421 856.402,299.754 857.357,300.083 858.313,300.408 859.268,300.727 860.224,301.04 861.179,301.344 862.135,301.639 \n  863.091,301.923 864.046,302.196 865.002,302.456 865.957,302.702 866.913,302.932 867.868,303.147 868.824,303.343 869.779,303.521 870.735,303.679 871.691,303.816 \n  872.646,303.931 873.602,304.023 874.557,304.091 875.513,304.133 876.468,304.15 877.424,304.14 878.379,304.102 879.335,304.035 880.29,303.94 881.246,303.815 \n  882.202,303.659 883.157,303.472 884.113,303.254 885.068,303.004 886.024,302.722 886.979,302.408 887.935,302.061 888.89,301.681 889.846,301.268 890.802,300.823 \n  891.757,300.345 892.713,299.834 893.668,299.291 894.624,298.716 895.579,298.109 896.535,297.47 897.49,296.801 898.446,296.101 899.402,295.371 900.357,294.611 \n  901.313,293.823 902.268,293.006 903.224,292.163 904.179,291.292 905.135,290.396 906.09,289.475 907.046,288.531 908.001,287.563 908.957,286.573 909.913,285.562 \n  910.868,284.531 911.824,283.482 912.779,282.415 913.735,281.331 914.69,280.232 915.646,279.119 916.601,277.992 917.557,276.855 918.513,275.706 919.468,274.549 \n  920.424,273.383 921.379,272.211 922.335,271.034 923.29,269.852 924.246,268.668 925.201,267.483 926.157,266.297 927.113,265.112 928.068,263.929 929.024,262.75 \n  929.979,261.575 930.935,260.406 931.89,259.244 932.846,258.091 933.801,256.946 934.757,255.812 935.712,254.69 936.668,253.58 937.624,252.483 938.579,251.4 \n  939.535,250.333 940.49,249.283 941.446,248.249 942.401,247.233 943.357,246.236 944.312,245.259 945.268,244.301 946.224,243.365 947.179,242.45 948.135,241.557 \n  949.09,240.686 950.046,239.839 951.001,239.016 951.957,238.216 952.912,237.441 953.868,236.69 954.824,235.964 955.779,235.264 956.735,234.589 957.69,233.94 \n  958.646,233.316 959.601,232.718 960.557,232.145 961.512,231.599 962.468,231.078 963.423,230.582 964.379,230.112 965.335,229.667 966.29,229.247 967.246,228.851 \n  968.201,228.479 969.157,228.131 970.112,227.807 971.068,227.505 972.023,227.226 972.979,226.969 973.935,226.733 974.89,226.518 975.846,226.323 976.801,226.148 \n  977.757,225.991 978.712,225.852 979.668,225.731 980.623,225.626 981.579,225.538 982.535,225.464 983.49,225.405 984.446,225.359 985.401,225.326 986.357,225.305 \n  987.312,225.295 988.268,225.295 989.223,225.304 990.179,225.322 991.134,225.348 992.09,225.381 993.046,225.42 994.001,225.464 994.957,225.513 995.912,225.566 \n  996.868,225.621 997.823,225.679 998.779,225.739 999.734,225.799 1000.69,225.859 1001.65,225.919 1002.6,225.978 1003.56,226.034 1004.51,226.089 1005.47,226.14 \n  1006.42,226.187 1007.38,226.231 1008.33,226.269 1009.29,226.303 1010.25,226.331 1011.2,226.352 1012.16,226.367 1013.11,226.375 1014.07,226.376 1015.02,226.369 \n  1015.98,226.354 1016.93,226.33 1017.89,226.297 1018.85,226.256 1019.8,226.205 1020.76,226.144 1021.71,226.074 1022.67,225.994 1023.62,225.903 1024.58,225.802 \n  1025.53,225.691 1026.49,225.569 1027.45,225.436 1028.4,225.292 1029.36,225.137 1030.31,224.971 1031.27,224.793 1032.22,224.605 1033.18,224.406 1034.13,224.195 \n  1035.09,223.973 1036.05,223.74 1037,223.496 1037.96,223.241 1038.91,222.975 1039.87,222.699 1040.82,222.411 1041.78,222.113 1042.73,221.805 1043.69,221.486 \n  1044.65,221.157 1045.6,220.818 1046.56,220.469 1047.51,220.11 1048.47,219.742 1049.42,219.364 1050.38,218.977 1051.33,218.58 1052.29,218.175 1053.25,217.76 \n  1054.2,217.337 1055.16,216.905 1056.11,216.464 1057.07,216.015 1058.02,215.558 1058.98,215.092 1059.93,214.619 1060.89,214.137 1061.85,213.647 1062.8,213.15 \n  1063.76,212.645 1064.71,212.132 1065.67,211.612 1066.62,211.085 1067.58,210.55 1068.53,210.009 1069.49,209.46 1070.45,208.905 1071.4,208.343 1072.36,207.775 \n  1073.31,207.2 1074.27,206.619 1075.22,206.033 1076.18,205.44 1077.13,204.843 1078.09,204.24 1079.05,203.632 1080,203.019 1080.96,202.402 1081.91,201.78 \n  1082.87,201.155 1083.82,200.526 1084.78,199.894 1085.73,199.259 1086.69,198.621 1087.65,197.981 1088.6,197.339 1089.56,196.696 1090.51,196.052 1091.47,195.408 \n  1092.42,194.763 1093.38,194.118 1094.33,193.475 1095.29,192.832 1096.25,192.192 1097.2,191.554 1098.16,190.918 1099.11,190.286 1100.07,189.658 1101.02,189.035 \n  1101.98,188.416 1102.93,187.803 1103.89,187.196 1104.85,186.595 1105.8,186.002 1106.76,185.417 1107.71,184.84 1108.67,184.271 1109.62,183.712 1110.58,183.163 \n  1111.53,182.625 1112.49,182.097 1113.45,181.58 1114.4,181.075 1115.36,180.583 1116.31,180.103 1117.27,179.636 1118.22,179.182 1119.18,178.742 1120.13,178.316 \n  1121.09,177.904 1122.05,177.507 1123,177.124 1123.96,176.756 1124.91,176.403 1125.87,176.065 1126.82,175.742 1127.78,175.435 1128.73,175.143 1129.69,174.866 \n  1130.65,174.604 1131.6,174.358 1132.56,174.126 1133.51,173.91 1134.47,173.708 1135.42,173.52 1136.38,173.347 1137.33,173.189 1138.29,173.043 1139.24,172.912 \n  1140.2,172.793 1141.16,172.687 1142.11,172.593 1143.07,172.511 1144.02,172.441 1144.98,172.381 1145.93,172.332 1146.89,172.293 1147.84,172.263 1148.8,172.241 \n  1149.76,172.228 1150.71,172.223 1151.67,172.224 1152.62,172.232 1153.58,172.246 1154.53,172.264 1155.49,172.288 1156.44,172.314 1157.4,172.344 1158.36,172.377 \n  1159.31,172.411 1160.27,172.447 1161.22,172.484 1162.18,172.52 1163.13,172.556 1164.09,172.591 1165.04,172.624 1166,172.655 1166.96,172.683 1167.91,172.708 \n  1168.87,172.73 1169.82,172.747 1170.78,172.76 1171.73,172.768 1172.69,172.771 1173.64,172.768 1174.6,172.759 1175.56,172.744 1176.51,172.722 1177.47,172.694 \n  1178.42,172.659 1179.38,172.616 1180.33,172.567 1181.29,172.509 1182.24,172.445 1183.2,172.372 1184.16,172.292 1185.11,172.204 1186.07,172.109 1187.02,172.005 \n  1187.98,171.894 1188.93,171.775 1189.89,171.649 1190.84,171.515 1191.8,171.373 1192.76,171.224 1193.71,171.068 1194.67,170.905 1195.62,170.735 1196.58,170.558 \n  1197.53,170.375 1198.49,170.186 1199.44,169.99 1200.4,169.789 1201.36,169.582 1202.31,169.371 1203.27,169.154 1204.22,168.932 1205.18,168.706 1206.13,168.475 \n  1207.09,168.241 1208.04,168.003 1209,167.762 1209.96,167.517 1210.91,167.27 1211.87,167.019 1212.82,166.767 1213.78,166.512 1214.73,166.255 1215.69,165.996 \n  1216.64,165.735 1217.6,165.473 1218.56,165.209 1219.51,164.944 1220.47,164.678 1221.42,164.411 1222.38,164.143 1223.33,163.875 1224.29,163.605 1225.24,163.335 \n  1226.2,163.064 1227.16,162.792 1228.11,162.52 1229.07,162.248 1230.02,161.974 1230.98,161.7 1231.93,161.426 1232.89,161.151 1233.84,160.875 1234.8,160.598 \n  1235.76,160.321 1236.71,160.043 1237.67,159.764 1238.62,159.484 1239.58,159.203 1240.53,158.921 1241.49,158.637 1242.44,158.353 1243.4,158.067 1244.36,157.78 \n  1245.31,157.491 1246.27,157.201 1247.22,156.909 1248.18,156.616 1249.13,156.321 1250.09,156.025 1251.04,155.727 1252,155.427 1252.96,155.125 1253.91,154.822 \n  1254.87,154.517 1255.82,154.211 1256.78,153.904 1257.73,153.595 1258.69,153.285 1259.64,152.973 1260.6,152.661 1261.56,152.348 1262.51,152.035 1263.47,151.721 \n  1264.42,151.407 1265.38,151.092 1266.33,150.779 1267.29,150.465 1268.24,150.153 1269.2,149.841 1270.16,149.531 1271.11,149.223 1272.07,148.917 1273.02,148.613 \n  1273.98,148.312 1274.93,148.014 1275.89,147.719 1276.84,147.428 1277.8,147.141 1278.76,146.858 1279.71,146.58 1280.67,146.307 1281.62,146.04 1282.58,145.778 \n  1283.53,145.522 1284.49,145.272 1285.44,145.029 1286.4,144.792 1287.36,144.563 1288.31,144.341 1289.27,144.126 1290.22,143.919 1291.18,143.72 1292.13,143.529 \n  1293.09,143.346 1294.04,143.172 1295,143.006 1295.96,142.848 1296.91,142.7 1297.87,142.559 1298.82,142.428 1299.78,142.306 1300.73,142.192 1301.69,142.087 \n  1302.64,141.991 1303.6,141.903 1304.56,141.824 1305.51,141.753 1306.47,141.691 1307.42,141.637 1308.38,141.59 1309.33,141.552 1310.29,141.521 1311.24,141.497 \n  1312.2,141.48 1313.16,141.47 1314.11,141.467 1315.07,141.47 1316.02,141.478 1316.98,141.492 1317.93,141.511 1318.89,141.534 1319.84,141.562 1320.8,141.594 \n  1321.76,141.629 1322.71,141.667 1323.67,141.708 1324.62,141.751 1325.58,141.796 1326.53,141.842 1327.49,141.889 1328.44,141.936 1329.4,141.983 1330.36,142.03 \n  1331.31,142.076 1332.27,142.12 1333.22,142.163 1334.18,142.203 1335.13,142.241 1336.09,142.275 1337.04,142.307 1338,142.334 1338.96,142.358 1339.91,142.377 \n  1340.87,142.391 1341.82,142.4 1342.78,142.404 1343.73,142.403 1344.69,142.395 1345.64,142.382 1346.6,142.362 1347.56,142.337 1348.51,142.305 1349.47,142.266 \n  1350.42,142.221 1351.38,142.169 1352.33,142.11 1353.29,142.045 1354.24,141.973 1355.2,141.895 1356.16,141.81 1357.11,141.719 1358.07,141.621 1359.02,141.518 \n  1359.98,141.408 1360.93,141.293 1361.89,141.172 1362.84,141.046 1363.8,140.915 1364.76,140.779 1365.71,140.639 1366.67,140.494 1367.62,140.346 1368.58,140.193 \n  1369.53,140.038 1370.49,139.88 1371.44,139.718 1372.4,139.555 1373.36,139.39 1374.31,139.223 1375.27,139.054 1376.22,138.885 1377.18,138.716 1378.13,138.546 \n  1379.09,138.376 1380.04,138.206 1381,138.038 1381.96,137.87 1382.91,137.704 1383.87,137.539 1384.82,137.376 1385.78,137.215 1386.73,137.057 1387.69,136.901 \n  1388.64,136.748 1389.6,136.598 1390.56,136.451 1391.51,136.307 1392.47,136.166 1393.42,136.029 1394.38,135.895 1395.33,135.765 1396.29,135.638 1397.24,135.514 \n  1398.2,135.394 1399.16,135.277 1400.11,135.163 1401.07,135.053 1402.02,134.946 1402.98,134.841 1403.93,134.739 1404.89,134.64 1405.84,134.544 1406.8,134.449 \n  1407.75,134.357 1408.71,134.266 1409.67,134.178 1410.62,134.09 1411.58,134.004 1412.53,133.919 1413.49,133.834 1414.44,133.75 1415.4,133.667 1416.35,133.583 \n  1417.31,133.5 1418.27,133.416 1419.22,133.332 1420.18,133.247 1421.13,133.161 1422.09,133.074 1423.04,132.986 1424,132.896 1424.95,132.805 1425.91,132.713 \n  1426.87,132.619 1427.82,132.523 1428.78,132.426 1429.73,132.327 1430.69,132.226 1431.64,132.123 1432.6,132.018 1433.55,131.912 1434.51,131.804 1435.47,131.694 \n  1436.42,131.583 1437.38,131.47 1438.33,131.356 1439.29,131.241 1440.24,131.125 1441.2,131.009 1442.15,130.891 1443.11,130.773 1444.07,130.655 1445.02,130.537 \n  1445.98,130.419 1446.93,130.301 1447.89,130.184 1448.84,130.067 1449.8,129.952 1450.75,129.838 1451.71,129.725 1452.67,129.615 1453.62,129.506 1454.58,129.399 \n  1455.53,129.295 1456.49,129.194 1457.44,129.095 1458.4,129 1459.35,128.908 1460.31,128.819 1461.27,128.734 1462.22,128.653 1463.18,128.576 1464.13,128.504 \n  1465.09,128.436 1466.04,128.372 1467,128.313 1467.95,128.259 1468.91,128.21 1469.87,128.165 1470.82,128.126 1471.78,128.093 1472.73,128.064 1473.69,128.041 \n  1474.64,128.023 1475.6,128.01 1476.55,128.003 1477.51,128.001 1478.47,128.004 1479.42,128.013 1480.38,128.027 1481.33,128.046 1482.29,128.071 1483.24,128.1 \n  1484.2,128.134 1485.15,128.173 1486.11,128.217 1487.07,128.265 1488.02,128.317 1488.98,128.374 1489.93,128.434 1490.89,128.498 1491.84,128.566 1492.8,128.637 \n  1493.75,128.711 1494.71,128.788 1495.67,128.867 1496.62,128.948 1497.58,129.032 1498.53,129.117 1499.49,129.203 1500.44,129.29 1501.4,129.379 1502.35,129.467 \n  1503.31,129.556 1504.27,129.645 1505.22,129.733 1506.18,129.821 1507.13,129.907 1508.09,129.992 1509.04,130.076 1510,130.158 1510.95,130.237 1511.91,130.315 \n  1512.87,130.389 1513.82,130.461 1514.78,130.53 1515.73,130.596 1516.69,130.659 1517.64,130.718 1518.6,130.773 1519.55,130.825 1520.51,130.873 1521.47,130.917 \n  1522.42,130.957 1523.38,130.993 1524.33,131.026 1525.29,131.054 1526.24,131.079 1527.2,131.1 1528.15,131.117 1529.11,131.13 1530.07,131.14 1531.02,131.146 \n  1531.98,131.15 1532.93,131.15 1533.89,131.147 1534.84,131.142 1535.8,131.134 1536.75,131.124 1537.71,131.112 1538.67,131.099 1539.62,131.084 1540.58,131.067 \n  1541.53,131.05 1542.49,131.032 1543.44,131.014 1544.4,130.995 1545.35,130.977 1546.31,130.959 1547.27,130.943 1548.22,130.927 1549.18,130.912 1550.13,130.899 \n  1551.09,130.888 1552.04,130.879 1553,130.872 1553.95,130.868 1554.91,130.867 1555.87,130.868 1556.82,130.873 1557.78,130.881 1558.73,130.892 1559.69,130.907 \n  1560.64,130.925 1561.6,130.947 1562.55,130.973 1563.51,131.003 1564.47,131.036 1565.42,131.072 1566.38,131.113 1567.33,131.157 1568.29,131.204 1569.24,131.254 \n  1570.2,131.308 1571.15,131.364 1572.11,131.423 1573.07,131.485 1574.02,131.548 1574.98,131.614 1575.93,131.682 1576.89,131.751 1577.84,131.821 1578.8,131.892 \n  1579.75,131.964 1580.71,132.036 1581.67,132.108 1582.62,132.179 1583.58,132.25 1584.53,132.321 1585.49,132.39 1586.44,132.457 1587.4,132.523 1588.35,132.587 \n  1589.31,132.648 1590.27,132.707 1591.22,132.764 1592.18,132.817 1593.13,132.867 1594.09,132.914 1595.04,132.958 1596,132.997 1596.95,133.033 1597.91,133.065 \n  1598.87,133.093 1599.82,133.117 1600.78,133.137 1601.73,133.153 1602.69,133.164 1603.64,133.171 1604.6,133.174 1605.55,133.173 1606.51,133.168 1607.47,133.159 \n  1608.42,133.146 1609.38,133.129 1610.33,133.109 1611.29,133.085 1612.24,133.058 1613.2,133.027 1614.15,132.994 1615.11,132.958 1616.07,132.92 1617.02,132.879 \n  1617.98,132.837 1618.93,132.793 1619.89,132.747 1620.84,132.701 1621.8,132.653 1622.75,132.605 1623.71,132.557 1624.67,132.508 1625.62,132.461 1626.58,132.413 \n  1627.53,132.367 1628.49,132.322 1629.44,132.279 1630.4,132.238 1631.35,132.198 1632.31,132.162 1633.27,132.128 1634.22,132.097 1635.18,132.07 1636.13,132.047 \n  1637.09,132.027 1638.04,132.012 1639,132.002 1639.95,131.996 1640.91,131.995 1641.87,132 1642.82,132.01 1643.78,132.026 1644.73,132.048 1645.69,132.076 \n  1646.64,132.11 1647.6,132.151 1648.55,132.199 1649.51,132.254 1650.47,132.316 1651.42,132.384 1652.38,132.46 1653.33,132.543 1654.29,132.634 1655.24,132.732 \n  1656.2,132.837 1657.15,132.949 1658.11,133.069 1659.07,133.196 1660.02,133.331 1660.98,133.472 1661.93,133.62 1662.89,133.775 1663.84,133.937 1664.8,134.105 \n  1665.75,134.28 1666.71,134.46 1667.67,134.646 1668.62,134.838 1669.58,135.035 1670.53,135.237 1671.49,135.443 1672.44,135.654 1673.4,135.869 1674.35,136.087 \n  1675.31,136.309 1676.26,136.533 1677.22,136.76 1678.18,136.989 1679.13,137.22 1680.09,137.452 1681.04,137.685 1682,137.919 1682.95,138.153 1683.91,138.387 \n  1684.86,138.62 1685.82,138.853 1686.78,139.085 1687.73,139.315 1688.69,139.543 1689.64,139.769 1690.6,139.993 1691.55,140.215 1692.51,140.434 1693.46,140.649 \n  1694.42,140.862 1695.38,141.071 1696.33,141.277 1697.29,141.48 1698.24,141.679 1699.2,141.874 1700.15,142.066 1701.11,142.254 1702.06,142.438 1703.02,142.619 \n  1703.98,142.797 1704.93,142.97 1705.89,143.14 1706.84,143.307 1707.8,143.47 1708.75,143.63 1709.71,143.787 1710.66,143.941 1711.62,144.092 1712.58,144.241 \n  1713.53,144.388 1714.49,144.533 1715.44,144.677 1716.4,144.819 1717.35,144.96 1718.31,145.1 1719.26,145.24 1720.22,145.379 1721.18,145.518 1722.13,145.658 \n  1723.09,145.798 1724.04,145.938 1725,146.08 1725.95,146.222 1726.91,146.366 1727.86,146.512 1728.82,146.659 1729.78,146.808 1730.73,146.959 1731.69,147.111 \n  1732.64,147.266 1733.6,147.423 1734.55,147.583 1735.51,147.744 1736.46,147.908 1737.42,148.074 1738.38,148.242 1739.33,148.412 1740.29,148.584 1741.24,148.758 \n  1742.2,148.934 1743.15,149.111 1744.11,149.29 1745.06,149.471 1746.02,149.652 1746.98,149.835 1747.93,150.018 1748.89,150.202 1749.84,150.386 1750.8,150.569 \n  1751.75,150.753 1752.71,150.936 1753.66,151.118 1754.62,151.3 1755.58,151.479 1756.53,151.657 1757.49,151.833 1758.44,152.007 1759.4,152.178 1760.35,152.346 \n  1761.31,152.511 1762.26,152.672 1763.22,152.829 1764.18,152.983 1765.13,153.132 1766.09,153.277 1767.04,153.416 1768,153.551 1768.95,153.681 1769.91,153.805 \n  1770.86,153.923 1771.82,154.036 1772.78,154.143 1773.73,154.243 1774.69,154.338 1775.64,154.426 1776.6,154.508 1777.55,154.584 1778.51,154.653 1779.46,154.715 \n  1780.42,154.771 1781.38,154.821 1782.33,154.864 1783.29,154.901 1784.24,154.931 1785.2,154.955 1786.15,154.973 1787.11,154.984 1788.06,154.99 1789.02,154.989 \n  1789.98,154.983 1790.93,154.971 1791.89,154.953 1792.84,154.93 1793.8,154.902 1794.75,154.869 1795.71,154.831 1796.66,154.788 1797.62,154.74 1798.58,154.688 \n  1799.53,154.632 1800.49,154.572 1801.44,154.508 1802.4,154.44 1803.35,154.369 1804.31,154.295 1805.26,154.218 1806.22,154.139 1807.18,154.056 1808.13,153.972 \n  1809.09,153.885 1810.04,153.797 1811,153.706 1811.95,153.615 1812.91,153.522 1813.86,153.429 1814.82,153.334 1815.78,153.239 1816.73,153.144 1817.69,153.049 \n  1818.64,152.954 1819.6,152.86 1820.55,152.766 1821.51,152.673 1822.46,152.581 1823.42,152.49 1824.38,152.401 1825.33,152.314 1826.29,152.228 1827.24,152.144 \n  1828.2,152.063 1829.15,151.984 1830.11,151.907 1831.06,151.834 1832.02,151.763 1832.98,151.695 1833.93,151.63 1834.89,151.569 1835.84,151.51 1836.8,151.456 \n  1837.75,151.404 1838.71,151.357 1839.66,151.313 1840.62,151.272 1841.58,151.236 1842.53,151.203 1843.49,151.174 1844.44,151.148 1845.4,151.126 1846.35,151.108 \n  1847.31,151.094 1848.26,151.083 1849.22,151.076 1850.18,151.072 1851.13,151.072 1852.09,151.075 1853.04,151.081 1854,151.09 1854.95,151.102 1855.91,151.117 \n  1856.86,151.135 1857.82,151.155 1858.78,151.178 1859.73,151.203 1860.69,151.23 1861.64,151.26 1862.6,151.291 1863.55,151.324 1864.51,151.358 1865.46,151.394 \n  1866.42,151.431 1867.38,151.469 1868.33,151.508 1869.29,151.548 1870.24,151.589 1871.2,151.631 1872.15,151.673 1873.11,151.715 1874.06,151.757 1875.02,151.8 \n  1875.98,151.843 1876.93,151.885 1877.89,151.928 1878.84,151.97 1879.8,152.012 1880.75,152.054 1881.71,152.095 1882.66,152.136 1883.62,152.176 1884.58,152.216 \n  1885.53,152.255 1886.49,152.294 1887.44,152.332 1888.4,152.37 1889.35,152.407 1890.31,152.443 1891.26,152.479 1892.22,152.514 1893.18,152.548 1894.13,152.582 \n  1895.09,152.616 1896.04,152.648 1897,152.681 1897.95,152.712 1898.91,152.744 1899.86,152.774 1900.82,152.805 1901.78,152.834 1902.73,152.864 1903.69,152.893 \n  1904.64,152.921 1905.6,152.949 1906.55,152.977 1907.51,153.004 1908.46,153.031 1909.42,153.058 1910.38,153.084 1911.33,153.109 1912.29,153.135 1913.24,153.159 \n  1914.2,153.184 1915.15,153.207 1916.11,153.231 1917.06,153.253 1918.02,153.276 1918.98,153.297 1919.93,153.318 1920.89,153.339 1921.84,153.358 1922.8,153.377 \n  1923.75,153.396 1924.71,153.413 1925.66,153.43 1926.62,153.446 1927.58,153.461 1928.53,153.475 1929.49,153.489 1930.44,153.502 1931.4,153.513 1932.35,153.524 \n  1933.31,153.534 1934.26,153.543 1935.22,153.551 1936.18,153.559 1937.13,153.565 1938.09,153.571 1939.04,153.576 1940,153.58 1940.95,153.584 1941.91,153.586 \n  1942.86,153.588 1943.82,153.59 1944.78,153.591 1945.73,153.591 1946.69,153.591 1947.64,153.587 1948.6,153.58 1949.55,153.57 1950.51,153.557 1951.46,153.54 \n  1952.42,153.521 1953.37,153.498 1954.33,153.471 1955.29,153.442 1956.24,153.408 1957.2,153.371 1958.15,153.33 1959.11,153.285 1960.06,153.236 1961.02,153.183 \n  1961.97,153.126 1962.93,153.064 1963.89,152.998 1964.84,152.928 1965.8,152.853 1966.75,152.773 1967.71,152.689 1968.66,152.6 1969.62,152.506 1970.57,152.407 \n  1971.53,152.303 1972.49,152.194 1973.44,152.08 1974.4,151.961 1975.35,151.837 1976.31,151.708 1977.26,151.574 1978.22,151.435 1979.17,151.291 1980.13,151.143 \n  1981.09,150.99 1982.04,150.832 1983,150.669 1983.95,150.502 1984.91,150.331 1985.86,150.155 1986.82,149.976 1987.77,149.792 1988.73,149.604 1989.69,149.413 \n  1990.64,149.219 1991.6,149.021 1992.55,148.819 1993.51,148.615 1994.46,148.408 1995.42,148.198 1996.37,147.985 1997.33,147.771 1998.29,147.553 1999.24,147.334 \n  2000.2,147.113 2001.15,146.89 2002.11,146.665 2003.06,146.439 2004.02,146.212 2004.97,145.983 2005.93,145.753 2006.89,145.522 2007.84,145.29 2008.8,145.057 \n  2009.75,144.823 2010.71,144.589 2011.66,144.354 2012.62,144.119 2013.57,143.882 2014.53,143.646 2015.49,143.409 2016.44,143.171 2017.4,142.934 2018.35,142.696 \n  2019.31,142.457 2020.26,142.219 2021.22,141.98 2022.17,141.741 2023.13,141.501 2024.09,141.262 2025.04,141.022 2026,140.782 2026.95,140.542 2027.91,140.302 \n  2028.86,140.062 2029.82,139.822 2030.77,139.582 2031.73,139.341 2032.69,139.101 2033.64,138.862 2034.6,138.622 2035.55,138.383 2036.51,138.144 2037.46,137.905 \n  2038.42,137.667 2039.37,137.43 2040.33,137.193 2041.29,136.957 2042.24,136.723 2043.2,136.489 2044.15,136.256 2045.11,136.025 2046.06,135.795 2047.02,135.567 \n  2047.97,135.341 2048.93,135.116 2049.89,134.894 2050.84,134.673 2051.8,134.455 2052.75,134.239 2053.71,134.026 2054.66,133.815 2055.62,133.607 2056.57,133.402 \n  2057.53,133.2 2058.49,133.001 2059.44,132.806 2060.4,132.613 2061.35,132.424 2062.31,132.238 2063.26,132.056 2064.22,131.878 2065.17,131.703 2066.13,131.531 \n  2067.09,131.364 2068.04,131.2 2069,131.04 2069.95,130.884 2070.91,130.731 2071.86,130.582 2072.82,130.437 2073.77,130.296 2074.73,130.158 2075.69,130.024 \n  2076.64,129.893 2077.6,129.766 2078.55,129.643 2079.51,129.522 2080.46,129.406 2081.42,129.292 2082.37,129.182 2083.33,129.075 2084.29,128.97 2085.24,128.869 \n  2086.2,128.771 2087.15,128.675 2088.11,128.582 2089.06,128.492 2090.02,128.404 2090.97,128.319 2091.93,128.236 2092.89,128.156 2093.84,128.077 2094.8,128.001 \n  2095.75,127.927 2096.71,127.855 2097.66,127.784 2098.62,127.716 2099.57,127.649 2100.53,127.585 2101.49,127.522 2102.44,127.46 2103.4,127.401 2104.35,127.342 \n  2105.31,127.286 2106.26,127.231 2107.22,127.177 2108.17,127.125 2109.13,127.075 2110.09,127.026 2111.04,126.978 2112,126.931 2112.95,126.887 2113.91,126.843 \n  2114.86,126.801 2115.82,126.76 2116.77,126.72 2117.73,126.682 2118.69,126.645 2119.64,126.609 2120.6,126.574 2121.55,126.54 2122.51,126.508 2123.46,126.477 \n  2124.42,126.447 2125.37,126.418 2126.33,126.389 2127.29,126.362 2128.24,126.336 2129.2,126.31 2130.15,126.286 2131.11,126.262 2132.06,126.239 2133.02,126.216 \n  2133.97,126.194 2134.93,126.173 2135.89,126.152 2136.84,126.132 2137.8,126.111 2138.75,126.092 2139.71,126.072 2140.66,126.053 2141.62,126.034 2142.57,126.015 \n  2143.53,125.996 2144.49,125.978 2145.44,125.959 2146.4,125.941 2147.35,125.923 2148.31,125.904 2149.26,125.886 2150.22,125.868 2151.17,125.85 2152.13,125.832 \n  2153.09,125.814 2154.04,125.796 2155,125.779 2155.95,125.761 2156.91,125.744 2157.86,125.728 2158.82,125.711 2159.77,125.695 2160.73,125.679 2161.69,125.664 \n  2162.64,125.649 2163.6,125.635 2164.55,125.621 2165.51,125.609 2166.46,125.596 2167.42,125.585 2168.37,125.574 2169.33,125.565 2170.29,125.556 2171.24,125.548 \n  2172.2,125.541 2173.15,125.535 2174.11,125.529 2175.06,125.525 2176.02,125.522 2176.97,125.52 2177.93,125.518 2178.89,125.518 2179.84,125.518 2180.8,125.519 \n  2181.75,125.521 2182.71,125.524 2183.66,125.528 2184.62,125.532 2185.57,125.536 2186.53,125.541 2187.49,125.547 2188.44,125.553 2189.4,125.559 2190.35,125.565 \n  2191.31,125.572 2192.26,125.578 2193.22,125.584 2194.17,125.59 2195.13,125.596 2196.09,125.602 2197.04,125.607 2198,125.611 2198.95,125.615 2199.91,125.619 \n  2200.86,125.621 2201.82,125.623 2202.77,125.625 2203.73,125.625 2204.69,125.624 2205.64,125.623 2206.6,125.621 2207.55,125.618 2208.51,125.614 2209.46,125.609 \n  2210.42,125.604 2211.37,125.598 2212.33,125.591 2213.29,125.584 2214.24,125.576 2215.2,125.568 2216.15,125.559 2217.11,125.55 2218.06,125.541 2219.02,125.532 \n  \n  \"/>\n<polyline clip-path=\"url(#clip552)\" style=\"stroke:#3da44d; stroke-linecap:round; stroke-linejoin:round; stroke-width:8; stroke-opacity:1; fill:none\" points=\"\n  308.871,3940.74 309.826,1566.69 310.782,1410.41 311.737,1319.3 312.693,1254.96 313.648,1205.39 314.604,1165.26 315.559,1131.71 316.515,1103.04 317.471,1078.14 \n  318.426,1056.28 319.382,1036.92 320.337,1019.65 321.293,1004.19 322.248,990.308 323.204,977.81 324.159,966.556 325.115,956.425 326.071,947.32 327.026,939.159 \n  327.982,931.876 328.937,925.414 329.893,919.725 330.848,914.768 331.804,910.511 332.759,906.925 333.715,903.986 334.67,901.674 335.626,899.974 336.582,898.874 \n  337.537,898.363 338.493,898.435 339.448,899.087 340.404,900.317 341.359,902.127 342.315,904.521 343.27,907.506 344.226,911.09 345.182,915.288 346.137,920.113 \n  347.093,925.586 348.048,931.727 349.004,938.563 349.959,946.123 350.915,954.442 351.87,963.556 352.826,973.508 353.782,984.342 354.737,996.108 355.693,1008.85 \n  356.648,1022.62 357.604,1037.44 358.559,1053.33 359.515,1070.24 360.47,1088.07 361.426,1106.56 362.381,1125.24 363.337,1143.32 364.293,1159.61 365.248,1172.52 \n  366.204,1180.31 367.159,1181.68 368.115,1176.36 369.07,1165.22 370.026,1149.88 370.981,1132.04 371.937,1113.08 372.893,1093.99 373.848,1075.36 374.804,1057.52 \n  375.759,1040.65 376.715,1024.81 377.67,1010 378.626,996.2 379.581,983.36 380.537,971.431 381.493,960.359 382.448,950.094 383.404,940.586 384.359,931.79 \n  385.315,923.664 386.27,916.171 387.226,909.277 388.181,902.949 389.137,897.161 390.092,891.887 391.048,887.105 392.004,882.794 392.959,878.935 393.915,875.511 \n  394.87,872.508 395.826,869.912 396.781,867.709 397.737,865.888 398.692,864.439 399.648,863.352 400.604,862.617 401.559,862.226 402.515,862.172 403.47,862.447 \n  404.426,863.044 405.381,863.956 406.337,865.178 407.292,866.702 408.248,868.522 409.204,870.633 410.159,873.028 411.115,875.701 412.07,878.643 413.026,881.847 \n  413.981,885.305 414.937,889.005 415.892,892.938 416.848,897.089 417.803,901.444 418.759,905.985 419.715,910.69 420.67,915.536 421.626,920.494 422.581,925.533 \n  423.537,930.613 424.492,935.694 425.448,940.725 426.403,945.654 427.359,950.421 428.315,954.961 429.27,959.207 430.226,963.088 431.181,966.532 432.137,969.473 \n  433.092,971.847 434.048,973.599 435.003,974.687 435.959,975.08 436.915,974.767 437.87,973.749 438.826,972.047 439.781,969.694 440.737,966.735 441.692,963.226 \n  442.648,959.229 443.603,954.808 444.559,950.028 445.514,944.954 446.47,939.645 447.426,934.158 448.381,928.541 449.337,922.842 450.292,917.098 451.248,911.345 \n  452.203,905.611 453.159,899.923 454.114,894.3 455.07,888.76 456.026,883.318 456.981,877.986 457.937,872.774 458.892,867.689 459.848,862.738 460.803,857.926 \n  461.759,853.256 462.714,848.733 463.67,844.359 464.626,840.136 465.581,836.065 466.537,832.15 467.492,828.391 468.448,824.789 469.403,821.347 470.359,818.066 \n  471.314,814.948 472.27,811.994 473.225,809.206 474.181,806.587 475.137,804.138 476.092,801.862 477.048,799.76 478.003,797.836 478.959,796.091 479.914,794.528 \n  480.87,793.15 481.825,791.959 482.781,790.957 483.737,790.147 484.692,789.532 485.648,789.114 486.603,788.896 487.559,788.88 488.514,789.07 489.47,789.468 \n  490.425,790.076 491.381,790.897 492.337,791.934 493.292,793.188 494.248,794.662 495.203,796.359 496.159,798.279 497.114,800.424 498.07,802.795 499.025,805.392 \n  499.981,808.216 500.936,811.265 501.892,814.538 502.848,818.032 503.803,821.743 504.759,825.665 505.714,829.791 506.67,834.111 507.625,838.613 508.581,843.282 \n  509.536,848.099 510.492,853.042 511.448,858.083 512.403,863.189 513.359,868.322 514.314,873.437 515.27,878.484 516.225,883.402 517.181,888.129 518.136,892.593 \n  519.092,896.72 520.048,900.432 521.003,903.652 521.959,906.308 522.914,908.334 523.87,909.674 524.825,910.289 525.781,910.158 526.736,909.278 527.692,907.666 \n  528.647,905.356 529.603,902.4 530.559,898.86 531.514,894.81 532.47,890.325 533.425,885.483 534.381,880.36 535.336,875.029 536.292,869.555 537.247,863.999 \n  538.203,858.415 539.159,852.848 540.114,847.34 541.07,841.924 542.025,836.63 542.981,831.48 543.936,826.496 544.892,821.692 545.847,817.082 546.803,812.677 \n  547.759,808.484 548.714,804.51 549.67,800.76 550.625,797.236 551.581,793.943 552.536,790.88 553.492,788.049 554.447,785.451 555.403,783.085 556.358,780.95 \n  557.314,779.046 558.27,777.371 559.225,775.925 560.181,774.706 561.136,773.712 562.092,772.942 563.047,772.394 564.003,772.067 564.958,771.96 565.914,772.07 \n  566.87,772.397 567.825,772.939 568.781,773.696 569.736,774.665 570.692,775.846 571.647,777.238 572.603,778.84 573.558,780.651 574.514,782.672 575.47,784.9 \n  576.425,787.335 577.381,789.977 578.336,792.825 579.292,795.879 580.247,799.137 581.203,802.6 582.158,803.643 583.114,803.635 584.069,803.625 585.025,803.608 \n  585.981,803.583 586.936,803.548 587.892,803.504 588.847,803.45 589.803,803.385 590.758,803.31 591.714,803.225 592.669,803.13 593.625,803.026 594.581,802.916 \n  595.536,802.799 596.492,802.678 597.447,802.554 598.403,802.431 599.358,802.31 600.314,802.193 601.269,802.085 602.225,801.988 603.181,801.904 604.136,801.838 \n  605.092,801.792 606.047,801.771 607.003,801.778 607.958,801.815 608.914,801.887 609.869,801.997 610.825,802.148 611.78,802.343 612.736,802.585 613.692,802.877 \n  614.647,803.221 615.603,803.618 616.558,804.071 617.514,804.58 618.469,805.146 619.425,805.769 620.38,806.449 621.336,807.184 622.292,807.974 623.247,808.817 \n  624.203,809.708 625.158,810.645 626.114,811.624 627.069,812.641 628.025,813.689 628.98,814.763 629.936,815.857 630.892,816.964 631.847,818.076 632.803,819.185 \n  633.758,820.283 634.714,821.362 635.669,822.412 636.625,823.425 637.58,824.392 638.536,825.305 639.491,826.154 640.447,826.932 641.403,827.63 642.358,828.241 \n  643.314,828.759 644.269,829.176 645.225,829.489 646.18,829.691 647.136,829.78 648.091,829.751 649.047,829.603 650.003,829.334 650.958,828.942 651.914,828.428 \n  652.869,827.79 653.825,827.03 654.78,826.147 655.736,825.143 656.691,824.017 657.647,822.77 658.603,821.402 659.558,819.914 660.514,818.305 661.469,816.574 \n  662.425,814.721 663.38,812.743 664.336,810.64 665.291,808.409 666.247,806.05 667.202,803.559 668.158,800.935 669.114,798.176 670.069,795.281 671.025,792.248 \n  671.98,789.078 672.936,785.77 673.891,782.325 674.847,778.744 675.802,775.03 676.758,771.187 677.714,767.218 678.669,763.129 679.625,758.925 680.58,754.615 \n  681.536,750.205 682.491,745.705 683.447,741.125 684.402,736.474 685.358,731.763 686.314,727.004 687.269,722.208 688.225,717.386 689.18,712.55 690.136,707.713 \n  691.091,702.885 692.047,698.078 693.002,693.303 693.958,688.57 694.913,683.89 695.869,679.273 696.825,674.726 697.78,670.26 698.736,665.88 699.691,661.595 \n  700.647,657.411 701.602,653.333 702.558,649.366 703.513,645.515 704.469,641.783 705.425,638.173 706.38,634.688 707.336,631.328 708.291,628.095 709.247,624.989 \n  710.202,622.01 711.158,619.159 712.113,616.433 713.069,613.832 714.024,611.353 714.98,608.996 715.936,606.758 716.891,604.637 717.847,602.63 718.802,600.735 \n  719.758,598.95 720.713,597.273 721.669,595.701 722.624,594.232 723.58,592.865 724.536,591.597 725.491,590.429 726.447,589.357 727.402,588.383 728.358,587.505 \n  729.313,586.723 730.269,586.038 731.224,585.45 732.18,584.96 733.136,584.569 734.091,584.279 735.047,584.092 736.002,584.008 736.958,584.032 737.913,584.164 \n  738.869,584.408 739.824,584.767 740.78,585.243 741.735,585.838 742.691,586.558 743.647,587.403 744.602,588.379 745.558,589.486 746.513,590.73 747.469,592.112 \n  748.424,593.636 749.38,595.304 750.335,597.12 751.291,599.085 752.247,601.203 753.202,603.477 754.158,605.907 755.113,608.497 756.069,611.249 757.024,614.164 \n  757.98,617.244 758.935,620.492 759.891,623.908 760.847,627.495 761.802,631.253 762.758,635.185 763.713,639.291 764.669,643.572 765.624,648.03 766.58,652.665 \n  767.535,657.478 768.491,662.47 769.446,667.641 770.402,672.991 771.358,678.521 772.313,684.228 773.269,690.113 774.224,696.174 775.18,702.407 776.135,708.811 \n  777.091,715.38 778.046,722.11 779.002,728.992 779.958,736.02 780.913,743.183 781.869,750.468 782.824,757.862 783.78,765.346 784.735,772.902 785.691,780.507 \n  786.646,788.135 787.602,795.758 788.558,803.343 789.513,810.855 790.469,818.259 791.424,825.513 792.38,832.578 793.335,839.412 794.291,845.974 795.246,852.227 \n  796.202,858.134 797.157,863.664 798.113,868.793 799.069,873.502 800.024,877.782 800.98,881.629 801.935,885.048 802.891,888.055 803.846,890.667 804.802,892.91 \n  805.757,894.815 806.713,896.414 807.669,897.741 808.624,898.832 809.58,899.72 810.535,900.438 811.491,901.016 812.446,901.483 813.402,901.861 814.357,902.173 \n  815.313,902.436 816.269,902.664 817.224,902.867 818.18,903.054 819.135,903.228 820.091,903.39 821.046,903.538 822.002,903.667 822.957,903.768 823.913,903.829 \n  824.868,903.836 825.824,903.752 826.78,903.532 827.735,903.133 828.691,902.502 829.646,901.578 830.602,900.296 831.557,898.585 832.513,896.377 833.468,893.61 \n  834.424,890.227 835.38,886.188 836.335,881.466 837.291,876.053 838.246,869.963 839.202,863.223 840.157,855.882 841.113,847.997 842.068,839.638 843.024,830.879 \n  843.98,821.796 844.935,812.465 845.891,802.957 846.846,793.337 847.802,783.666 848.757,773.996 849.713,764.373 850.668,754.837 851.624,745.421 852.579,736.152 \n  853.535,727.052 854.491,718.14 855.446,709.43 856.402,700.932 857.357,692.655 858.313,684.604 859.268,676.784 860.224,669.196 861.179,661.842 862.135,654.72 \n  863.091,647.831 864.046,641.172 865.002,634.74 865.957,628.534 866.913,622.55 867.868,616.785 868.824,611.235 869.779,605.896 870.735,600.765 871.691,595.837 \n  872.646,591.108 873.602,586.576 874.557,582.234 875.513,578.08 876.468,574.109 877.424,570.316 878.379,566.698 879.335,563.25 880.29,559.968 881.246,556.847 \n  882.202,553.884 883.157,551.072 884.113,548.408 885.068,545.888 886.024,543.507 886.979,541.259 887.935,539.142 888.89,537.149 889.846,535.278 890.802,533.523 \n  891.757,531.88 892.713,530.346 893.668,528.916 894.624,527.587 895.579,526.354 896.535,525.216 897.49,524.168 898.446,523.209 899.402,522.336 900.357,521.545 \n  901.313,520.837 902.268,520.209 903.224,519.66 904.179,519.19 905.135,518.797 906.09,518.482 907.046,518.244 908.001,518.084 908.957,518.003 909.913,518.002 \n  910.868,518.081 911.824,518.241 912.779,518.485 913.735,518.814 914.69,519.229 915.646,519.732 916.601,520.325 917.557,521.009 918.513,521.787 919.468,522.66 \n  920.424,523.631 921.379,524.7 922.335,525.871 923.29,527.144 924.246,528.521 925.201,530.004 926.157,531.596 927.113,533.297 928.068,535.11 929.024,537.036 \n  929.979,539.076 930.935,541.234 931.89,543.51 932.846,545.906 933.801,548.424 934.757,551.065 935.712,553.832 936.668,556.726 937.624,559.749 938.579,562.902 \n  939.535,566.188 940.49,569.607 941.446,573.162 942.401,576.853 943.357,580.683 944.312,584.652 945.268,588.761 946.224,593.011 947.179,597.404 948.135,601.939 \n  949.09,606.617 950.046,611.437 951.001,616.4 951.957,621.504 952.912,626.748 953.868,632.129 954.824,637.646 955.779,643.294 956.735,649.07 957.69,654.969 \n  958.646,660.983 959.601,667.106 960.557,673.329 961.512,679.642 962.468,686.033 963.423,692.488 964.379,698.991 965.335,705.525 966.29,712.071 967.246,718.605 \n  968.201,725.104 969.157,731.541 970.112,737.887 971.068,744.111 972.023,750.18 972.979,756.059 973.935,761.715 974.89,767.111 975.846,772.214 976.801,776.991 \n  977.757,781.411 978.712,785.449 979.668,789.081 980.623,792.293 981.579,795.072 982.535,797.416 983.49,799.328 984.446,800.816 985.401,801.896 986.357,802.588 \n  987.312,802.919 988.268,802.916 989.223,802.61 990.179,802.034 991.134,801.22 992.09,800.199 993.046,799.003 994.001,797.658 994.957,796.191 995.912,794.625 \n  996.868,792.98 997.823,791.272 998.779,789.515 999.734,787.719 1000.69,785.891 1001.65,784.035 1002.6,782.154 1003.56,780.246 1004.51,778.308 1005.47,776.335 \n  1006.42,774.32 1007.38,772.255 1008.33,770.129 1009.29,767.932 1010.25,765.654 1011.2,763.281 1012.16,760.804 1013.11,758.209 1014.07,755.487 1015.02,752.628 \n  1015.98,749.621 1016.93,746.461 1017.89,743.139 1018.85,739.652 1019.8,735.996 1020.76,732.171 1021.71,728.176 1022.67,724.014 1023.62,719.688 1024.58,715.205 \n  1025.53,710.572 1026.49,705.795 1027.45,700.886 1028.4,695.855 1029.36,690.712 1030.31,685.47 1031.27,680.14 1032.22,674.735 1033.18,669.266 1034.13,663.748 \n  1035.09,658.191 1036.05,652.607 1037,647.008 1037.96,641.404 1038.91,635.806 1039.87,630.225 1040.82,624.668 1041.78,619.145 1042.73,613.665 1043.69,608.234 \n  1044.65,602.859 1045.6,597.548 1046.56,592.306 1047.51,587.139 1048.47,582.051 1049.42,577.047 1050.38,572.131 1051.33,567.308 1052.29,562.58 1053.25,557.951 \n  1054.2,553.423 1055.16,549 1056.11,544.683 1057.07,540.474 1058.02,536.376 1058.98,532.39 1059.93,528.517 1060.89,524.76 1061.85,521.12 1062.8,517.597 \n  1063.76,514.193 1064.71,510.91 1065.67,507.747 1066.62,504.707 1067.58,501.79 1068.53,498.998 1069.49,496.33 1070.45,493.789 1071.4,491.375 1072.36,489.09 \n  1073.31,486.934 1074.27,484.908 1075.22,483.014 1076.18,481.252 1077.13,479.624 1078.09,478.131 1079.05,476.773 1080,475.552 1080.96,474.469 1081.91,473.525 \n  1082.87,472.721 1083.82,472.058 1084.78,471.536 1085.73,471.157 1086.69,470.922 1087.65,470.831 1088.6,470.885 1089.56,471.085 1090.51,471.432 1091.47,471.926 \n  1092.42,472.567 1093.38,473.357 1094.33,474.296 1095.29,475.383 1096.25,476.621 1097.2,478.008 1098.16,479.546 1099.11,481.234 1100.07,483.072 1101.02,485.061 \n  1101.98,487.201 1102.93,489.492 1103.89,491.933 1104.85,494.524 1105.8,497.266 1106.76,500.157 1107.71,503.197 1108.67,506.385 1109.62,509.721 1110.58,513.203 \n  1111.53,516.83 1112.49,520.601 1113.45,524.513 1114.4,528.564 1115.36,532.753 1116.31,537.075 1117.27,541.528 1118.22,546.107 1119.18,550.808 1120.13,555.626 \n  1121.09,560.555 1122.05,565.588 1123,570.718 1123.96,575.935 1124.91,581.229 1125.87,586.591 1126.82,592.007 1127.78,597.464 1128.73,602.946 1129.69,608.437 \n  1130.65,613.918 1131.6,619.368 1132.56,624.767 1133.51,630.09 1134.47,635.312 1135.42,640.408 1136.38,645.349 1137.33,650.108 1138.29,654.656 1139.24,658.966 \n  1140.2,663.01 1141.16,666.764 1142.11,670.203 1143.07,673.309 1144.02,676.065 1144.98,678.458 1145.93,680.482 1146.89,682.135 1147.84,683.419 1148.8,684.341 \n  1149.76,684.916 1150.71,685.16 1151.67,685.093 1152.62,684.739 1153.58,684.124 1154.53,683.275 1155.49,682.22 1156.44,680.988 1157.4,679.607 1158.36,678.104 \n  1159.31,676.504 1160.27,674.832 1161.22,673.109 1162.18,671.356 1163.13,669.591 1164.09,667.831 1165.04,666.09 1166,664.381 1166.96,662.714 1167.91,661.098 \n  1168.87,659.54 1169.82,658.047 1170.78,656.622 1171.73,655.269 1172.69,653.99 1173.64,652.787 1174.6,651.658 1175.56,650.603 1176.51,649.621 1177.47,648.71 \n  1178.42,647.866 1179.38,647.085 1180.33,646.364 1181.29,645.697 1182.24,645.079 1183.2,644.504 1184.16,643.967 1185.11,643.459 1186.07,642.973 1187.02,642.502 \n  1187.98,642.037 1188.93,641.569 1189.89,641.088 1190.84,640.586 1191.8,640.051 1192.76,639.473 1193.71,638.841 1194.67,638.144 1195.62,637.372 1196.58,636.512 \n  1197.53,635.555 1198.49,634.49 1199.44,633.307 1200.4,631.997 1201.36,630.551 1202.31,628.963 1203.27,627.228 1204.22,625.341 1205.18,623.299 1206.13,621.101 \n  1207.09,618.749 1208.04,616.245 1209,613.593 1209.96,610.799 1210.91,607.871 1211.87,604.816 1212.82,601.646 1213.78,598.37 1214.73,595.001 1215.69,591.549 \n  1216.64,588.027 1217.6,584.448 1218.56,580.824 1219.51,577.167 1220.47,573.488 1221.42,569.799 1222.38,566.112 1223.33,562.435 1224.29,558.779 1225.24,555.152 \n  1226.2,551.564 1227.16,548.021 1228.11,544.531 1229.07,541.101 1230.02,537.736 1230.98,534.442 1231.93,531.224 1232.89,528.086 1233.84,525.033 1234.8,522.068 \n  1235.76,519.196 1236.71,516.419 1237.67,513.74 1238.62,511.161 1239.58,508.686 1240.53,506.317 1241.49,504.055 1242.44,501.903 1243.4,499.863 1244.36,497.936 \n  1245.31,496.124 1246.27,494.428 1247.22,492.851 1248.18,491.392 1249.13,490.053 1250.09,488.836 1251.04,487.741 1252,486.77 1252.96,485.922 1253.91,485.199 \n  1254.87,484.602 1255.82,484.131 1256.78,483.786 1257.73,483.569 1258.69,483.478 1259.64,483.514 1260.6,483.678 1261.56,483.97 1262.51,484.388 1263.47,484.933 \n  1264.42,485.605 1265.38,486.403 1266.33,487.326 1267.29,488.374 1268.24,489.546 1269.2,490.841 1270.16,492.258 1271.11,493.796 1272.07,495.453 1273.02,497.229 \n  1273.98,499.121 1274.93,501.128 1275.89,503.248 1276.84,505.479 1277.8,507.819 1278.76,510.266 1279.71,512.816 1280.67,515.468 1281.62,518.217 1282.58,521.062 \n  1283.53,523.997 1284.49,527.02 1285.44,530.125 1286.4,533.307 1287.36,536.562 1288.31,539.883 1289.27,543.263 1290.22,546.695 1291.18,550.171 1292.13,553.682 \n  1293.09,557.217 1294.04,560.767 1295,564.32 1295.96,567.861 1296.91,571.378 1297.87,574.855 1298.82,578.276 1299.78,581.624 1300.73,584.882 1301.69,588.029 \n  1302.64,591.047 1303.6,593.916 1304.56,596.615 1305.51,599.127 1306.47,601.431 1307.42,603.509 1308.38,605.345 1309.33,606.924 1310.29,608.234 1311.24,609.265 \n  1312.2,610.009 1313.16,610.463 1314.11,610.626 1315.07,610.5 1316.02,610.093 1316.98,609.412 1317.93,608.469 1318.89,607.28 1319.84,605.86 1320.8,604.228 \n  1321.76,602.403 1322.71,600.406 1323.67,598.258 1324.62,595.981 1325.58,593.595 1326.53,591.12 1327.49,588.578 1328.44,585.987 1329.4,583.365 1330.36,580.729 \n  1331.31,578.094 1332.27,575.477 1333.22,572.889 1334.18,570.343 1335.13,567.851 1336.09,565.423 1337.04,563.067 1338,560.792 1338.96,558.604 1339.91,556.511 \n  1340.87,554.517 1341.82,552.628 1342.78,550.847 1343.73,549.178 1344.69,547.624 1345.64,546.186 1346.6,544.867 1347.56,543.668 1348.51,542.59 1349.47,541.633 \n  1350.42,540.797 1351.38,540.082 1352.33,539.486 1353.29,539.009 1354.24,538.65 1355.2,538.405 1356.16,538.274 1357.11,538.252 1358.07,538.338 1359.02,538.528 \n  1359.98,538.818 1360.93,539.203 1361.89,539.68 1362.84,540.241 1363.8,540.883 1364.76,541.598 1365.71,542.38 1366.67,543.221 1367.62,544.113 1368.58,545.049 \n  1369.53,546.018 1370.49,547.011 1371.44,548.018 1372.4,549.028 1373.36,550.03 1374.31,551.013 1375.27,551.964 1376.22,552.872 1377.18,553.724 1378.13,554.508 \n  1379.09,555.212 1380.04,555.825 1381,556.334 1381.96,556.731 1382.91,557.005 1383.87,557.147 1384.82,557.15 1385.78,557.009 1386.73,556.719 1387.69,556.277 \n  1388.64,555.682 1389.6,554.934 1390.56,554.036 1391.51,552.992 1392.47,551.806 1393.42,550.486 1394.38,549.039 1395.33,547.475 1396.29,545.804 1397.24,544.037 \n  1398.2,542.185 1399.16,540.259 1400.11,538.273 1401.07,536.237 1402.02,534.165 1402.98,532.067 1403.93,529.955 1404.89,527.84 1405.84,525.733 1406.8,523.645 \n  1407.75,521.583 1408.71,519.559 1409.67,517.579 1410.62,515.653 1411.58,513.787 1412.53,511.988 1413.49,510.264 1414.44,508.618 1415.4,507.058 1416.35,505.588 \n  1417.31,504.212 1418.27,502.935 1419.22,501.761 1420.18,500.692 1421.13,499.732 1422.09,498.884 1423.04,498.15 1424,497.532 1424.95,497.032 1425.91,496.652 \n  1426.87,496.393 1427.82,496.256 1428.78,496.243 1429.73,496.353 1430.69,496.589 1431.64,496.949 1432.6,497.434 1433.55,498.044 1434.51,498.78 1435.47,499.639 \n  1436.42,500.623 1437.38,501.73 1438.33,502.96 1439.29,504.31 1440.24,505.781 1441.2,507.371 1442.15,509.077 1443.11,510.898 1444.07,512.832 1445.02,514.877 \n  1445.98,517.029 1446.93,519.286 1447.89,521.645 1448.84,524.1 1449.8,526.648 1450.75,529.284 1451.71,532.003 1452.67,534.798 1453.62,537.663 1454.58,540.59 \n  1455.53,543.57 1456.49,546.596 1457.44,549.656 1458.4,552.739 1459.35,555.834 1460.31,558.927 1461.27,562.004 1462.22,565.049 1463.18,568.047 1464.13,570.979 \n  1465.09,573.828 1466.04,576.574 1467,579.198 1467.95,581.68 1468.91,583.999 1469.87,586.136 1470.82,588.07 1471.78,589.784 1472.73,591.26 1473.69,592.483 \n  1474.64,593.439 1475.6,594.118 1476.55,594.511 1477.51,594.613 1478.47,594.423 1479.42,593.942 1480.38,593.176 1481.33,592.131 1482.29,590.818 1483.24,589.251 \n  1484.2,587.446 1485.15,585.419 1486.11,583.19 1487.07,580.779 1488.02,578.205 1488.98,575.49 1489.93,572.654 1490.89,569.718 1491.84,566.702 1492.8,563.623 \n  1493.75,560.501 1494.71,557.353 1495.67,554.193 1496.62,551.038 1497.58,547.901 1498.53,544.794 1499.49,541.729 1500.44,538.716 1501.4,535.765 1502.35,532.884 \n  1503.31,530.081 1504.27,527.362 1505.22,524.734 1506.18,522.202 1507.13,519.771 1508.09,517.444 1509.04,515.226 1510,513.119 1510.95,511.126 1511.91,509.25 \n  1512.87,507.491 1513.82,505.853 1514.78,504.335 1515.73,502.939 1516.69,501.666 1517.64,500.516 1518.6,499.489 1519.55,498.586 1520.51,497.807 1521.47,497.151 \n  1522.42,496.618 1523.38,496.207 1524.33,495.919 1525.29,495.751 1526.24,495.703 1527.2,495.775 1528.15,495.964 1529.11,496.27 1530.07,496.691 1531.02,497.224 \n  1531.98,497.87 1532.93,498.624 1533.89,499.486 1534.84,500.452 1535.8,501.519 1536.75,502.685 1537.71,503.947 1538.67,505.3 1539.62,506.741 1540.58,508.265 \n  1541.53,509.868 1542.49,511.544 1543.44,513.288 1544.4,515.093 1545.35,516.953 1546.31,518.861 1547.27,520.808 1548.22,522.788 1549.18,524.79 1550.13,526.806 \n  1551.09,528.826 1552.04,530.839 1553,532.834 1553.95,534.802 1554.91,536.729 1555.87,538.605 1556.82,540.418 1557.78,542.157 1558.73,543.811 1559.69,545.368 \n  1560.64,546.821 1561.6,548.158 1562.55,549.372 1563.51,550.457 1564.47,551.406 1565.42,552.215 1566.38,552.881 1567.33,553.403 1568.29,553.782 1569.24,554.02 \n  1570.2,554.119 1571.15,554.086 1572.11,553.926 1573.07,553.647 1574.02,553.258 1574.98,552.768 1575.93,552.187 1576.89,551.526 1577.84,550.797 1578.8,550.01 \n  1579.75,549.177 1580.71,548.309 1581.67,547.418 1582.62,546.514 1583.58,545.609 1584.53,544.712 1585.49,543.833 1586.44,542.982 1587.4,542.166 1588.35,541.395 \n  1589.31,540.675 1590.27,540.014 1591.22,539.419 1592.18,538.895 1593.13,538.449 1594.09,538.084 1595.04,537.807 1596,537.621 1596.95,537.53 1597.91,537.537 \n  1598.87,537.647 1599.82,537.861 1600.78,538.182 1601.73,538.612 1602.69,539.152 1603.64,539.805 1604.6,540.572 1605.55,541.452 1606.51,542.447 1607.47,543.556 \n  1608.42,544.779 1609.38,546.116 1610.33,547.564 1611.29,549.122 1612.24,550.788 1613.2,552.56 1614.15,554.433 1615.11,556.404 1616.07,558.468 1617.02,560.62 \n  1617.98,562.854 1618.93,565.162 1619.89,567.538 1620.84,569.971 1621.8,572.453 1622.75,574.972 1623.71,577.517 1624.67,580.074 1625.62,582.631 1626.58,585.17 \n  1627.53,587.676 1628.49,590.132 1629.44,592.519 1630.4,594.817 1631.35,597.007 1632.31,599.068 1633.27,600.979 1634.22,602.719 1635.18,604.267 1636.13,605.605 \n  1637.09,606.713 1638.04,607.573 1639,608.173 1639.95,608.497 1640.91,608.537 1641.87,608.285 1642.82,607.738 1643.78,606.894 1644.73,605.758 1645.69,604.334 \n  1646.64,602.632 1647.6,600.664 1648.55,598.443 1649.51,595.987 1650.47,593.313 1651.42,590.44 1652.38,587.388 1653.33,584.178 1654.29,580.83 1655.24,577.365 \n  1656.2,573.802 1657.15,570.16 1658.11,566.457 1659.07,562.711 1660.02,558.939 1660.98,555.154 1661.93,551.371 1662.89,547.604 1663.84,543.862 1664.8,540.158 \n  1665.75,536.501 1666.71,532.9 1667.67,529.363 1668.62,525.896 1669.58,522.507 1670.53,519.2 1671.49,515.982 1672.44,512.855 1673.4,509.825 1674.35,506.896 \n  1675.31,504.069 1676.26,501.349 1677.22,498.738 1678.18,496.237 1679.13,493.85 1680.09,491.577 1681.04,489.422 1682,487.385 1682.95,485.467 1683.91,483.67 \n  1684.86,481.995 1685.82,480.444 1686.78,479.017 1687.73,477.715 1688.69,476.539 1689.64,475.489 1690.6,474.567 1691.55,473.773 1692.51,473.108 1693.46,472.571 \n  1694.42,472.165 1695.38,471.888 1696.33,471.742 1697.29,471.727 1698.24,471.843 1699.2,472.09 1700.15,472.469 1701.11,472.98 1702.06,473.623 1703.02,474.397 \n  1703.98,475.303 1704.93,476.339 1705.89,477.506 1706.84,478.804 1707.8,480.234 1708.75,481.796 1709.71,483.489 1710.66,485.315 1711.62,487.272 1712.58,489.361 \n  1713.53,491.579 1714.49,493.928 1715.44,496.405 1716.4,499.008 1717.35,501.737 1718.31,504.587 1719.26,507.558 1720.22,510.645 1721.18,513.845 1722.13,517.154 \n  1723.09,520.566 1724.04,524.076 1725,527.678 1725.95,531.363 1726.91,535.125 1727.86,538.954 1728.82,542.841 1729.78,546.773 1730.73,550.74 1731.69,554.727 \n  1732.64,558.72 1733.6,562.704 1734.55,566.661 1735.51,570.575 1736.46,574.425 1737.42,578.192 1738.38,581.856 1739.33,585.395 1740.29,588.79 1741.24,592.019 \n  1742.2,595.063 1743.15,597.902 1744.11,600.518 1745.06,602.897 1746.02,605.025 1746.98,606.89 1747.93,608.487 1748.89,609.81 1749.84,610.857 1750.8,611.633 \n  1751.75,612.141 1752.71,612.39 1753.66,612.393 1754.62,612.162 1755.58,611.714 1756.53,611.066 1757.49,610.237 1758.44,609.247 1759.4,608.115 1760.35,606.861 \n  1761.31,605.504 1762.26,604.065 1763.22,602.562 1764.18,601.011 1765.13,599.429 1766.09,597.831 1767.04,596.233 1768,594.645 1768.95,593.081 1769.91,591.552 \n  1770.86,590.065 1771.82,588.631 1772.78,587.256 1773.73,585.948 1774.69,584.712 1775.64,583.553 1776.6,582.475 1777.55,581.483 1778.51,580.578 1779.46,579.763 \n  1780.42,579.041 1781.38,578.413 1782.33,577.879 1783.29,577.441 1784.24,577.099 1785.2,576.853 1786.15,576.702 1787.11,576.647 1788.06,576.687 1789.02,576.82 \n  1789.98,577.047 1790.93,577.367 1791.89,577.777 1792.84,578.278 1793.8,578.869 1794.75,579.547 1795.71,580.312 1796.66,581.164 1797.62,582.1 1798.58,583.12 \n  1799.53,584.223 1800.49,585.408 1801.44,586.673 1802.4,588.019 1803.35,589.444 1804.31,590.947 1805.26,592.527 1806.22,594.184 1807.18,595.916 1808.13,597.722 \n  1809.09,599.601 1810.04,601.551 1811,603.573 1811.95,605.662 1812.91,607.819 1813.86,610.041 1814.82,612.326 1815.78,614.672 1816.73,617.074 1817.69,619.532 \n  1818.64,622.04 1819.6,624.596 1820.55,627.194 1821.51,629.83 1822.46,632.5 1823.42,635.196 1824.38,637.913 1825.33,640.644 1826.29,643.382 1827.24,646.119 \n  1828.2,648.846 1829.15,651.555 1830.11,654.236 1831.06,656.879 1832.02,659.475 1832.98,662.012 1833.93,664.48 1834.89,666.868 1835.84,669.165 1836.8,671.361 \n  1837.75,673.446 1838.71,675.41 1839.66,677.243 1840.62,678.938 1841.58,680.488 1842.53,681.886 1843.49,683.128 1844.44,684.211 1845.4,685.133 1846.35,685.894 \n  1847.31,686.496 1848.26,686.942 1849.22,687.238 1850.18,687.389 1851.13,687.404 1852.09,687.292 1853.04,687.064 1854,686.731 1854.95,686.306 1855.91,685.8 \n  1856.86,685.229 1857.82,684.604 1858.78,683.941 1859.73,683.253 1860.69,682.553 1861.64,681.855 1862.6,681.173 1863.55,680.517 1864.51,679.902 1865.46,679.337 \n  1866.42,678.835 1867.38,678.405 1868.33,678.058 1869.29,677.802 1870.24,677.646 1871.2,677.599 1872.15,677.667 1873.11,677.858 1874.06,678.179 1875.02,678.634 \n  1875.98,679.23 1876.93,679.971 1877.89,680.862 1878.84,681.907 1879.8,683.111 1880.75,684.475 1881.71,686.004 1882.66,687.7 1883.62,689.564 1884.58,691.599 \n  1885.53,693.806 1886.49,696.185 1887.44,698.738 1888.4,701.464 1889.35,704.363 1890.31,707.433 1891.26,710.673 1892.22,714.081 1893.18,717.652 1894.13,721.383 \n  1895.09,725.268 1896.04,729.302 1897,733.477 1897.95,737.785 1898.91,742.215 1899.86,746.756 1900.82,751.395 1901.78,756.116 1902.73,760.903 1903.69,765.736 \n  1904.64,770.596 1905.6,775.458 1906.55,780.297 1907.51,785.088 1908.46,789.801 1909.42,794.407 1910.38,798.875 1911.33,803.173 1912.29,807.272 1913.24,811.141 \n  1914.2,814.752 1915.15,818.079 1916.11,821.102 1917.06,823.801 1918.02,826.164 1918.98,828.184 1919.93,829.859 1920.89,831.192 1921.84,832.194 1922.8,832.878 \n  1923.75,833.264 1924.71,833.374 1925.66,833.234 1926.62,832.873 1927.58,832.319 1928.53,831.603 1929.49,830.754 1930.44,829.801 1931.4,828.771 1932.35,827.691 \n  1933.31,826.585 1934.26,825.475 1935.22,824.382 1936.18,823.322 1937.13,822.313 1938.09,821.368 1939.04,820.5 1940,819.717 1940.95,819.029 1941.91,818.443 \n  1942.86,817.963 1943.82,817.595 1944.78,817.34 1945.73,817.2 1946.69,816.793 1947.64,815.442 1948.6,814.033 1949.55,812.579 1950.51,811.092 1951.46,809.586 \n  1952.42,808.078 1953.37,806.584 1954.33,805.121 1955.29,803.705 1956.24,802.354 1957.2,801.086 1958.15,799.916 1959.11,798.862 1960.06,797.938 1961.02,797.162 \n  1961.97,796.547 1962.93,796.108 1963.89,795.858 1964.84,795.812 1965.8,795.981 1966.75,796.378 1967.71,797.015 1968.66,797.903 1969.62,799.054 1970.57,800.478 \n  1971.53,802.186 1972.49,804.187 1973.44,806.493 1974.4,809.113 1975.35,812.055 1976.31,815.33 1977.26,818.946 1978.22,822.91 1979.17,827.23 1980.13,831.911 \n  1981.09,836.957 1982.04,842.371 1983,848.152 1983.95,854.293 1984.91,860.786 1985.86,867.612 1986.82,874.747 1987.77,882.151 1988.73,889.772 1989.69,897.54 \n  1990.64,905.362 1991.6,913.117 1992.55,920.658 1993.51,927.804 1994.46,934.345 1995.42,940.049 1996.37,944.672 1997.33,947.982 1998.29,949.779 1999.24,949.924 \n  2000.2,948.356 2001.15,945.103 2002.11,940.28 2003.06,934.067 2004.02,926.687 2004.97,918.383 2005.93,909.393 2006.89,899.935 2007.84,890.201 2008.8,880.35 \n  2009.75,870.512 2010.71,860.789 2011.66,851.261 2012.62,841.985 2013.57,833.004 2014.53,824.35 2015.49,816.042 2016.44,808.095 2017.4,800.514 2018.35,793.305 \n  2019.31,786.467 2020.26,779.998 2021.22,773.895 2022.17,768.151 2023.13,762.764 2024.09,757.725 2025.04,753.029 2026,748.671 2026.95,744.643 2027.91,740.941 \n  2028.86,737.558 2029.82,734.488 2030.77,731.727 2031.73,729.269 2032.69,727.11 2033.64,725.245 2034.6,723.669 2035.55,722.38 2036.51,721.373 2037.46,720.645 \n  2038.42,720.193 2039.37,720.013 2040.33,720.102 2041.29,720.458 2042.24,721.079 2043.2,721.962 2044.15,723.105 2045.11,724.505 2046.06,726.16 2047.02,728.07 \n  2047.97,730.231 2048.93,732.641 2049.89,735.299 2050.84,738.202 2051.8,741.348 2052.75,744.734 2053.71,748.357 2054.66,752.213 2055.62,756.299 2056.57,760.611 \n  2057.53,765.141 2058.49,769.885 2059.44,774.833 2060.4,779.978 2061.35,785.308 2062.31,790.81 2063.26,796.47 2064.22,802.27 2065.17,808.19 2066.13,814.206 \n  2067.09,820.291 2068.04,826.414 2069,832.54 2069.95,838.629 2070.91,844.637 2071.86,850.518 2072.82,856.221 2073.77,861.691 2074.73,866.873 2075.69,871.712 \n  2076.64,876.155 2077.6,880.151 2078.55,883.657 2079.51,886.637 2080.46,889.063 2081.42,890.923 2082.37,892.212 2083.33,892.941 2084.29,893.129 2085.24,892.808 \n  2086.2,892.017 2087.15,890.803 2088.11,889.214 2089.06,887.304 2090.02,885.124 2090.97,882.725 2091.93,880.156 2092.89,877.461 2093.84,874.68 2094.8,871.85 \n  2095.75,869.002 2096.71,866.162 2097.66,863.353 2098.62,860.593 2099.57,857.898 2100.53,855.279 2101.49,852.744 2102.44,850.298 2103.4,847.946 2104.35,845.688 \n  2105.31,843.524 2106.26,841.454 2107.22,839.473 2108.17,837.579 2109.13,835.766 2110.09,834.031 2111.04,832.368 2112,830.771 2112.95,829.236 2113.91,827.757 \n  2114.86,826.329 2115.82,824.949 2116.77,823.611 2117.73,822.314 2118.69,821.055 2119.64,819.831 2120.6,818.643 2121.55,817.49 2122.51,816.374 2123.46,815.296 \n  2124.42,814.259 2125.37,813.268 2126.33,812.327 2127.29,811.442 2128.24,810.62 2129.2,809.868 2130.15,809.194 2131.11,808.606 2132.06,808.113 2133.02,807.725 \n  2133.97,807.451 2134.93,807.302 2135.89,807.287 2136.84,807.416 2137.8,807.7 2138.75,808.149 2139.71,808.772 2140.66,809.58 2141.62,810.582 2142.57,811.788 \n  2143.53,813.207 2144.49,814.848 2145.44,816.721 2146.4,818.833 2147.35,821.192 2148.31,823.807 2149.26,826.685 2150.22,829.831 2151.17,833.251 2152.13,836.951 \n  2153.09,840.934 2154.04,845.201 2155,849.754 2155.95,854.589 2156.91,859.704 2157.86,865.089 2158.82,870.731 2159.77,876.613 2160.73,882.711 2161.69,888.991 \n  2162.64,895.413 2163.6,901.922 2164.55,908.452 2165.51,914.924 2166.46,921.241 2167.42,927.293 2168.37,932.955 2169.33,938.089 2170.29,942.555 2171.24,946.214 \n  2172.2,948.937 2173.15,950.621 2174.11,951.194 2175.06,950.626 2176.02,948.929 2176.97,946.162 2177.93,942.416 2178.89,937.813 2179.84,932.491 2180.8,926.596 \n  2181.75,920.269 2182.71,913.645 2183.66,906.846 2184.62,899.977 2185.57,893.131 2186.53,886.384 2187.49,879.8 2188.44,873.43 2189.4,867.317 2190.35,861.493 \n  2191.31,855.985 2192.26,850.813 2193.22,845.995 2194.17,841.543 2195.13,837.466 2196.09,833.773 2197.04,830.47 2198,827.562 2198.95,825.053 2199.91,822.946 \n  2200.86,821.244 2201.82,819.951 2202.77,819.069 2203.73,818.602 2204.69,818.551 2205.64,818.922 2206.6,819.716 2207.55,820.939 2208.51,822.593 2209.46,824.685 \n  2210.42,827.217 2211.37,830.194 2212.33,833.621 2213.29,837.501 2214.24,841.839 2215.2,846.635 2216.15,851.891 2217.11,857.604 2218.06,863.77 2219.02,870.377 \n  \n  \"/>\n<path clip-path=\"url(#clip550)\" d=\"\nM322.764 1377.32 L795.533 1377.32 L795.533 1002.95 L322.764 1002.95  Z\n  \" fill=\"#000000\" fill-rule=\"evenodd\" fill-opacity=\"0\"/>\n<polyline clip-path=\"url(#clip550)\" style=\"stroke:#000000; stroke-linecap:round; stroke-linejoin:round; stroke-width:4; stroke-opacity:0; fill:none\" points=\"\n  322.764,1377.32 795.533,1377.32 795.533,1002.95 322.764,1002.95 322.764,1377.32 \n  \"/>\n<polyline clip-path=\"url(#clip550)\" style=\"stroke:#009af9; stroke-linecap:round; stroke-linejoin:round; stroke-width:5; stroke-opacity:1; fill:none\" points=\"\n  346.097,1096.54 486.096,1096.54 \n  \"/>\n<path clip-path=\"url(#clip550)\" d=\"M509.43 1126.76 L509.43 1070.92 Q509.43 1068.7 510.63 1068.7 Q511.83 1068.7 511.83 1070.48 L511.83 1126.32 Q511.83 1128.54 510.63 1128.54 Q509.43 1128.54 509.43 1126.76 Z\" fill=\"#000000\" fill-rule=\"evenodd\" fill-opacity=\"1\" /><path clip-path=\"url(#clip550)\" d=\"M570.515 1091.3 Q570.515 1093.06 569.841 1096.13 Q569.197 1099.21 568.67 1100.67 Q567.206 1104.56 564.278 1107.84 Q562.668 1109.66 560.911 1110.98 Q559.184 1112.26 557.896 1112.91 Q556.608 1113.52 555.085 1113.85 Q553.563 1114.2 552.86 1114.23 Q552.157 1114.28 551.162 1114.28 L548.878 1123.21 Q548.41 1125.53 548.175 1125.67 Q548.117 1125.79 547.971 1125.85 Q547.853 1125.91 547.736 1125.91 L547.619 1125.91 Q547.297 1125.91 547.121 1125.76 Q546.946 1125.62 546.917 1125.44 L546.917 1125.29 Q546.917 1124.88 548.293 1119.61 Q548.995 1116.92 549.61 1114.14 Q544.926 1113.85 542.027 1111.77 Q539.158 1109.69 539.158 1105.65 Q539.158 1103.16 542.056 1095.52 Q543.432 1091.86 543.432 1090.34 Q543.432 1089.66 543.286 1089.25 Q543.14 1088.81 542.847 1088.67 Q542.554 1088.49 542.378 1088.46 Q542.232 1088.43 541.939 1088.43 Q540.212 1088.43 538.602 1090.16 Q536.991 1091.89 535.879 1095.87 Q535.644 1096.6 535.498 1096.78 Q535.352 1096.95 534.912 1096.95 Q534.181 1096.92 534.181 1096.34 Q534.181 1096.1 534.444 1095.2 Q534.708 1094.26 535.322 1092.88 Q535.967 1091.48 536.845 1090.22 Q537.723 1088.93 539.099 1088.02 Q540.505 1087.11 542.115 1087.11 Q544.311 1087.11 545.658 1088.55 Q547.034 1089.95 547.034 1092.03 Q547.034 1092.44 546.946 1092.91 Q546.858 1093.38 546.77 1093.64 Q546.712 1093.91 546.536 1094.41 Q546.389 1094.87 546.36 1094.96 Q544.867 1098.83 544.106 1101.34 Q543.345 1103.83 543.227 1104.56 Q543.14 1105.27 543.14 1106.12 Q543.14 1112.03 549.961 1112.82 L559.916 1073.21 Q560.092 1072.39 560.238 1072.21 Q560.384 1072.01 560.824 1072.01 Q561.526 1072.01 561.526 1072.65 Q561.526 1072.86 561.351 1073.56 L551.455 1112.94 Q552.391 1112.94 552.977 1112.91 Q553.563 1112.88 554.792 1112.62 Q556.051 1112.32 557.105 1111.8 Q558.189 1111.27 559.711 1110.22 Q561.233 1109.13 562.727 1107.61 Q564.6 1105.71 566.269 1102.52 Q567.938 1099.32 567.938 1096.69 Q567.938 1093.73 565.801 1091.59 Q565.479 1091.3 565.303 1091.13 Q565.157 1090.95 565.01 1090.66 Q564.893 1090.36 564.893 1089.98 Q564.893 1088.99 565.83 1088.05 Q566.767 1087.11 567.88 1087.11 Q568.875 1087.11 569.695 1088.08 Q570.515 1089.05 570.515 1091.3 Z\" fill=\"#000000\" fill-rule=\"evenodd\" fill-opacity=\"1\" /><path clip-path=\"url(#clip550)\" d=\"M576.565 1128.99 Q576.565 1122.82 578.123 1119.46 Q580.295 1114.46 585.419 1114.46 Q586.505 1114.46 587.632 1114.77 Q588.78 1115.05 590.214 1116.18 Q591.669 1117.31 592.551 1119.15 Q594.231 1122.72 594.231 1128.99 Q594.231 1135.12 592.674 1138.46 Q590.399 1143.34 585.378 1143.34 Q583.492 1143.34 581.566 1142.37 Q579.66 1141.41 578.45 1139.1 Q576.565 1135.63 576.565 1128.99 M580.049 1128.48 Q580.049 1134.81 580.5 1137.33 Q581.012 1140.06 582.406 1141.25 Q583.82 1142.42 585.378 1142.42 Q587.058 1142.42 588.452 1141.17 Q589.866 1139.89 590.296 1137.17 Q590.768 1134.48 590.747 1128.48 Q590.747 1122.64 590.337 1120.3 Q589.784 1117.58 588.308 1116.49 Q586.853 1115.38 585.378 1115.38 Q584.824 1115.38 584.23 1115.55 Q583.656 1115.71 582.816 1116.18 Q581.976 1116.65 581.32 1117.82 Q580.684 1118.99 580.377 1120.75 Q580.049 1123.03 580.049 1128.48 Z\" fill=\"#000000\" fill-rule=\"evenodd\" fill-opacity=\"1\" /><path clip-path=\"url(#clip550)\" d=\"M600.454 1126.76 L600.454 1070.92 Q600.454 1068.7 601.654 1068.7 Q602.855 1068.7 602.855 1070.48 L602.855 1126.32 Q602.855 1128.54 601.654 1128.54 Q600.454 1128.54 600.454 1126.76 Z\" fill=\"#000000\" fill-rule=\"evenodd\" fill-opacity=\"1\" /><path clip-path=\"url(#clip550)\" d=\"M609.229 1077.44 Q609.229 1076.68 609.29 1076.45 Q609.372 1076.23 609.7 1075.88 L617.755 1066.9 Q622.161 1061.94 622.161 1057.62 Q622.161 1054.81 620.685 1052.8 Q619.23 1050.79 616.546 1050.79 Q614.701 1050.79 613.143 1051.92 Q611.586 1053.05 610.869 1055.06 Q610.992 1055.01 611.422 1055.01 Q612.467 1055.01 613.041 1055.67 Q613.635 1056.33 613.635 1057.21 Q613.635 1058.33 612.898 1058.89 Q612.18 1059.42 611.463 1059.42 Q611.176 1059.42 610.787 1059.36 Q610.418 1059.3 609.823 1058.72 Q609.229 1058.13 609.229 1057.08 Q609.229 1054.15 611.442 1051.82 Q613.676 1049.48 617.078 1049.48 Q620.931 1049.48 623.452 1051.78 Q625.994 1054.05 625.994 1057.62 Q625.994 1058.87 625.604 1060.01 Q625.235 1061.14 624.723 1062.02 Q624.231 1062.9 622.878 1064.32 Q621.526 1065.73 620.44 1066.74 Q619.353 1067.74 616.914 1069.87 L612.467 1074.2 L620.03 1074.2 Q623.719 1074.2 624.006 1073.87 Q624.416 1073.27 624.928 1070.14 L625.994 1070.14 L624.805 1077.44 L609.229 1077.44 Z\" fill=\"#000000\" fill-rule=\"evenodd\" fill-opacity=\"1\" /><polyline clip-path=\"url(#clip550)\" style=\"stroke:#e26f46; stroke-linecap:round; stroke-linejoin:round; stroke-width:5; stroke-opacity:1; fill:none\" points=\"\n  346.097,1190.13 486.096,1190.13 \n  \"/>\n<path clip-path=\"url(#clip550)\" d=\"M509.43 1220.81 L509.43 1164.98 Q509.43 1162.75 510.63 1162.75 Q511.83 1162.75 511.83 1164.54 L511.83 1220.37 Q511.83 1222.6 510.63 1222.6 Q509.43 1222.6 509.43 1220.81 Z\" fill=\"#000000\" fill-rule=\"evenodd\" fill-opacity=\"1\" /><path clip-path=\"url(#clip550)\" d=\"M570.515 1185.35 Q570.515 1187.11 569.841 1190.18 Q569.197 1193.26 568.67 1194.72 Q567.206 1198.62 564.278 1201.9 Q562.668 1203.71 560.911 1205.03 Q559.184 1206.32 557.896 1206.96 Q556.608 1207.58 555.085 1207.9 Q553.563 1208.25 552.86 1208.28 Q552.157 1208.34 551.162 1208.34 L548.878 1217.27 Q548.41 1219.58 548.175 1219.73 Q548.117 1219.84 547.971 1219.9 Q547.853 1219.96 547.736 1219.96 L547.619 1219.96 Q547.297 1219.96 547.121 1219.81 Q546.946 1219.67 546.917 1219.49 L546.917 1219.35 Q546.917 1218.94 548.293 1213.67 Q548.995 1210.97 549.61 1208.19 Q544.926 1207.9 542.027 1205.82 Q539.158 1203.74 539.158 1199.7 Q539.158 1197.21 542.056 1189.57 Q543.432 1185.91 543.432 1184.39 Q543.432 1183.71 543.286 1183.3 Q543.14 1182.86 542.847 1182.72 Q542.554 1182.54 542.378 1182.51 Q542.232 1182.48 541.939 1182.48 Q540.212 1182.48 538.602 1184.21 Q536.991 1185.94 535.879 1189.92 Q535.644 1190.65 535.498 1190.83 Q535.352 1191 534.912 1191 Q534.181 1190.97 534.181 1190.39 Q534.181 1190.16 534.444 1189.25 Q534.708 1188.31 535.322 1186.93 Q535.967 1185.53 536.845 1184.27 Q537.723 1182.98 539.099 1182.07 Q540.505 1181.17 542.115 1181.17 Q544.311 1181.17 545.658 1182.6 Q547.034 1184.01 547.034 1186.09 Q547.034 1186.5 546.946 1186.96 Q546.858 1187.43 546.77 1187.7 Q546.712 1187.96 546.536 1188.46 Q546.389 1188.93 546.36 1189.01 Q544.867 1192.88 544.106 1195.4 Q543.345 1197.88 543.227 1198.62 Q543.14 1199.32 543.14 1200.17 Q543.14 1206.08 549.961 1206.87 L559.916 1167.26 Q560.092 1166.44 560.238 1166.26 Q560.384 1166.06 560.824 1166.06 Q561.526 1166.06 561.526 1166.7 Q561.526 1166.91 561.351 1167.61 L551.455 1206.99 Q552.391 1206.99 552.977 1206.96 Q553.563 1206.93 554.792 1206.67 Q556.051 1206.38 557.105 1205.85 Q558.189 1205.32 559.711 1204.27 Q561.233 1203.18 562.727 1201.66 Q564.6 1199.76 566.269 1196.57 Q567.938 1193.38 567.938 1190.74 Q567.938 1187.78 565.801 1185.65 Q565.479 1185.35 565.303 1185.18 Q565.157 1185 565.01 1184.71 Q564.893 1184.42 564.893 1184.04 Q564.893 1183.04 565.83 1182.1 Q566.767 1181.17 567.88 1181.17 Q568.875 1181.17 569.695 1182.13 Q570.515 1183.1 570.515 1185.35 Z\" fill=\"#000000\" fill-rule=\"evenodd\" fill-opacity=\"1\" /><path clip-path=\"url(#clip550)\" d=\"M576.565 1212.51 L576.565 1211.2 Q581.607 1211.2 584.209 1208.51 Q584.927 1208.51 585.05 1208.68 Q585.173 1208.84 585.173 1209.6 L585.173 1233.15 Q585.173 1234.4 585.788 1234.79 Q586.402 1235.18 589.087 1235.18 L590.419 1235.18 L590.419 1236.47 Q588.944 1236.34 583.615 1236.34 Q578.286 1236.34 576.831 1236.47 L576.831 1235.18 L578.164 1235.18 Q580.807 1235.18 581.443 1234.81 Q582.078 1234.42 582.078 1233.15 L582.078 1211.4 Q579.885 1212.51 576.565 1212.51 Z\" fill=\"#000000\" fill-rule=\"evenodd\" fill-opacity=\"1\" /><path clip-path=\"url(#clip550)\" d=\"M596.681 1220.81 L596.681 1164.98 Q596.681 1162.75 597.881 1162.75 Q599.081 1162.75 599.081 1164.54 L599.081 1220.37 Q599.081 1222.6 597.881 1222.6 Q596.681 1222.6 596.681 1220.81 Z\" fill=\"#000000\" fill-rule=\"evenodd\" fill-opacity=\"1\" /><path clip-path=\"url(#clip550)\" d=\"M605.456 1171.49 Q605.456 1170.73 605.517 1170.5 Q605.599 1170.28 605.927 1169.93 L613.981 1160.95 Q618.388 1155.99 618.388 1151.67 Q618.388 1148.86 616.912 1146.85 Q615.457 1144.84 612.772 1144.84 Q610.928 1144.84 609.37 1145.97 Q607.812 1147.1 607.095 1149.11 Q607.218 1149.07 607.648 1149.07 Q608.694 1149.07 609.268 1149.72 Q609.862 1150.38 609.862 1151.26 Q609.862 1152.39 609.124 1152.94 Q608.407 1153.47 607.689 1153.47 Q607.403 1153.47 607.013 1153.41 Q606.644 1153.35 606.05 1152.78 Q605.456 1152.18 605.456 1151.14 Q605.456 1148.21 607.669 1145.87 Q609.903 1143.53 613.305 1143.53 Q617.158 1143.53 619.679 1145.83 Q622.22 1148.1 622.22 1151.67 Q622.22 1152.92 621.831 1154.07 Q621.462 1155.19 620.949 1156.08 Q620.458 1156.96 619.105 1158.37 Q617.752 1159.78 616.666 1160.79 Q615.58 1161.79 613.141 1163.92 L608.694 1168.25 L616.256 1168.25 Q619.945 1168.25 620.232 1167.92 Q620.642 1167.33 621.154 1164.19 L622.22 1164.19 L621.031 1171.49 L605.456 1171.49 Z\" fill=\"#000000\" fill-rule=\"evenodd\" fill-opacity=\"1\" /><polyline clip-path=\"url(#clip550)\" style=\"stroke:#3da44d; stroke-linecap:round; stroke-linejoin:round; stroke-width:5; stroke-opacity:1; fill:none\" points=\"\n  346.097,1283.72 486.096,1283.72 \n  \"/>\n<path clip-path=\"url(#clip550)\" d=\"M509.43 1262.12 L515.275 1262.12 L515.275 1300.4 L536.31 1300.4 L536.31 1305.32 L509.43 1305.32 L509.43 1262.12 Z\" fill=\"#000000\" fill-rule=\"evenodd\" fill-opacity=\"1\" /><path clip-path=\"url(#clip550)\" d=\"M568.891 1287.79 L568.891 1290.39 L544.412 1290.39 Q544.759 1295.89 547.711 1298.78 Q550.691 1301.65 555.986 1301.65 Q559.053 1301.65 561.918 1300.9 Q564.811 1300.14 567.647 1298.64 L567.647 1303.67 Q564.782 1304.89 561.773 1305.53 Q558.764 1306.16 555.668 1306.16 Q547.913 1306.16 543.37 1301.65 Q538.857 1297.13 538.857 1289.44 Q538.857 1281.48 543.139 1276.82 Q547.45 1272.13 554.742 1272.13 Q561.281 1272.13 565.072 1276.36 Q568.891 1280.55 568.891 1287.79 M563.567 1286.23 Q563.509 1281.86 561.108 1279.25 Q558.735 1276.65 554.8 1276.65 Q550.344 1276.65 547.653 1279.17 Q544.991 1281.68 544.586 1286.25 L563.567 1286.23 Z\" fill=\"#000000\" fill-rule=\"evenodd\" fill-opacity=\"1\" /><path clip-path=\"url(#clip550)\" d=\"M592.357 1289.03 Q585.905 1289.03 583.417 1290.51 Q580.928 1291.98 580.928 1295.54 Q580.928 1298.38 582.78 1300.06 Q584.661 1301.71 587.872 1301.71 Q592.3 1301.71 594.962 1298.58 Q597.653 1295.43 597.653 1290.22 L597.653 1289.03 L592.357 1289.03 M602.977 1286.83 L602.977 1305.32 L597.653 1305.32 L597.653 1300.4 Q595.83 1303.36 593.11 1304.77 Q590.39 1306.16 586.455 1306.16 Q581.478 1306.16 578.526 1303.38 Q575.604 1300.58 575.604 1295.89 Q575.604 1290.42 579.25 1287.64 Q582.925 1284.87 590.187 1284.87 L597.653 1284.87 L597.653 1284.34 Q597.653 1280.67 595.222 1278.67 Q592.82 1276.65 588.451 1276.65 Q585.673 1276.65 583.04 1277.31 Q580.407 1277.98 577.977 1279.31 L577.977 1274.39 Q580.899 1273.26 583.648 1272.71 Q586.397 1272.13 589.001 1272.13 Q596.032 1272.13 599.504 1275.78 Q602.977 1279.43 602.977 1286.83 Z\" fill=\"#000000\" fill-rule=\"evenodd\" fill-opacity=\"1\" /><path clip-path=\"url(#clip550)\" d=\"M613.74 1260.3 L619.093 1260.3 L619.093 1286.89 L634.979 1272.92 L641.778 1272.92 L624.591 1288.08 L642.502 1305.32 L635.557 1305.32 L619.093 1289.5 L619.093 1305.32 L613.74 1305.32 L613.74 1260.3 Z\" fill=\"#000000\" fill-rule=\"evenodd\" fill-opacity=\"1\" /><path clip-path=\"url(#clip550)\" d=\"M661.946 1289.03 Q655.494 1289.03 653.005 1290.51 Q650.517 1291.98 650.517 1295.54 Q650.517 1298.38 652.369 1300.06 Q654.249 1301.71 657.461 1301.71 Q661.888 1301.71 664.55 1298.58 Q667.241 1295.43 667.241 1290.22 L667.241 1289.03 L661.946 1289.03 M672.565 1286.83 L672.565 1305.32 L667.241 1305.32 L667.241 1300.4 Q665.418 1303.36 662.698 1304.77 Q659.979 1306.16 656.043 1306.16 Q651.067 1306.16 648.115 1303.38 Q645.193 1300.58 645.193 1295.89 Q645.193 1290.42 648.839 1287.64 Q652.513 1284.87 659.776 1284.87 L667.241 1284.87 L667.241 1284.34 Q667.241 1280.67 664.811 1278.67 Q662.409 1276.65 658.04 1276.65 Q655.262 1276.65 652.629 1277.31 Q649.996 1277.98 647.565 1279.31 L647.565 1274.39 Q650.488 1273.26 653.237 1272.71 Q655.986 1272.13 658.59 1272.13 Q665.621 1272.13 669.093 1275.78 Q672.565 1279.43 672.565 1286.83 Z\" fill=\"#000000\" fill-rule=\"evenodd\" fill-opacity=\"1\" /><path clip-path=\"url(#clip550)\" d=\"M704.857 1288.74 Q704.857 1282.96 702.455 1279.77 Q700.083 1276.59 695.771 1276.59 Q691.489 1276.59 689.087 1279.77 Q686.715 1282.96 686.715 1288.74 Q686.715 1294.5 689.087 1297.68 Q691.489 1300.87 695.771 1300.87 Q700.083 1300.87 702.455 1297.68 Q704.857 1294.5 704.857 1288.74 M710.181 1301.3 Q710.181 1309.58 706.506 1313.6 Q702.831 1317.65 695.25 1317.65 Q692.444 1317.65 689.955 1317.22 Q687.467 1316.81 685.123 1315.94 L685.123 1310.76 Q687.467 1312.04 689.753 1312.64 Q692.039 1313.25 694.411 1313.25 Q699.649 1313.25 702.253 1310.5 Q704.857 1307.78 704.857 1302.26 L704.857 1299.62 Q703.208 1302.49 700.632 1303.91 Q698.057 1305.32 694.469 1305.32 Q688.509 1305.32 684.863 1300.78 Q681.217 1296.24 681.217 1288.74 Q681.217 1281.22 684.863 1276.68 Q688.509 1272.13 694.469 1272.13 Q698.057 1272.13 700.632 1273.55 Q703.208 1274.97 704.857 1277.83 L704.857 1272.92 L710.181 1272.92 L710.181 1301.3 Z\" fill=\"#000000\" fill-rule=\"evenodd\" fill-opacity=\"1\" /><path clip-path=\"url(#clip550)\" d=\"M748.867 1287.79 L748.867 1290.39 L724.388 1290.39 Q724.735 1295.89 727.687 1298.78 Q730.667 1301.65 735.962 1301.65 Q739.029 1301.65 741.894 1300.9 Q744.787 1300.14 747.623 1298.64 L747.623 1303.67 Q744.758 1304.89 741.749 1305.53 Q738.74 1306.16 735.644 1306.16 Q727.889 1306.16 723.346 1301.65 Q718.832 1297.13 718.832 1289.44 Q718.832 1281.48 723.115 1276.82 Q727.426 1272.13 734.718 1272.13 Q741.257 1272.13 745.048 1276.36 Q748.867 1280.55 748.867 1287.79 M743.543 1286.23 Q743.485 1281.86 741.083 1279.25 Q738.711 1276.65 734.776 1276.65 Q730.32 1276.65 727.629 1279.17 Q724.967 1281.68 724.562 1286.25 L743.543 1286.23 Z\" fill=\"#000000\" fill-rule=\"evenodd\" fill-opacity=\"1\" /></svg>\n",
      "text/html": [
       "<?xml version=\"1.0\" encoding=\"utf-8\"?>\n",
       "<svg xmlns=\"http://www.w3.org/2000/svg\" xmlns:xlink=\"http://www.w3.org/1999/xlink\" width=\"600\" height=\"400\" viewBox=\"0 0 2400 1600\">\n",
       "<defs>\n",
       "  <clipPath id=\"clip600\">\n",
       "    <rect x=\"0\" y=\"0\" width=\"2400\" height=\"1600\"/>\n",
       "  </clipPath>\n",
       "</defs>\n",
       "<path clip-path=\"url(#clip600)\" d=\"\n",
       "M0 1600 L2400 1600 L2400 0 L0 0  Z\n",
       "  \" fill=\"#ffffff\" fill-rule=\"evenodd\" fill-opacity=\"1\"/>\n",
       "<defs>\n",
       "  <clipPath id=\"clip601\">\n",
       "    <rect x=\"480\" y=\"0\" width=\"1681\" height=\"1600\"/>\n",
       "  </clipPath>\n",
       "</defs>\n",
       "<defs>\n",
       "  <clipPath id=\"clip602\">\n",
       "    <rect x=\"252\" y=\"47\" width=\"2101\" height=\"1377\"/>\n",
       "  </clipPath>\n",
       "</defs>\n",
       "<path clip-path=\"url(#clip600)\" d=\"\n",
       "M252.764 1423.18 L2352.76 1423.18 L2352.76 47.2441 L252.764 47.2441  Z\n",
       "  \" fill=\"#ffffff\" fill-rule=\"evenodd\" fill-opacity=\"1\"/>\n",
       "<polyline clip-path=\"url(#clip602)\" style=\"stroke:#000000; stroke-linecap:round; stroke-linejoin:round; stroke-width:2; stroke-opacity:0.1; fill:none\" points=\"\n",
       "  308.871,1423.18 308.871,47.2441 \n",
       "  \"/>\n",
       "<polyline clip-path=\"url(#clip602)\" style=\"stroke:#000000; stroke-linecap:round; stroke-linejoin:round; stroke-width:2; stroke-opacity:0.1; fill:none\" points=\"\n",
       "  709.632,1423.18 709.632,47.2441 \n",
       "  \"/>\n",
       "<polyline clip-path=\"url(#clip602)\" style=\"stroke:#000000; stroke-linecap:round; stroke-linejoin:round; stroke-width:2; stroke-opacity:0.1; fill:none\" points=\"\n",
       "  1110.39,1423.18 1110.39,47.2441 \n",
       "  \"/>\n",
       "<polyline clip-path=\"url(#clip602)\" style=\"stroke:#000000; stroke-linecap:round; stroke-linejoin:round; stroke-width:2; stroke-opacity:0.1; fill:none\" points=\"\n",
       "  1511.16,1423.18 1511.16,47.2441 \n",
       "  \"/>\n",
       "<polyline clip-path=\"url(#clip602)\" style=\"stroke:#000000; stroke-linecap:round; stroke-linejoin:round; stroke-width:2; stroke-opacity:0.1; fill:none\" points=\"\n",
       "  1911.92,1423.18 1911.92,47.2441 \n",
       "  \"/>\n",
       "<polyline clip-path=\"url(#clip602)\" style=\"stroke:#000000; stroke-linecap:round; stroke-linejoin:round; stroke-width:2; stroke-opacity:0.1; fill:none\" points=\"\n",
       "  2312.68,1423.18 2312.68,47.2441 \n",
       "  \"/>\n",
       "<polyline clip-path=\"url(#clip600)\" style=\"stroke:#000000; stroke-linecap:round; stroke-linejoin:round; stroke-width:4; stroke-opacity:1; fill:none\" points=\"\n",
       "  252.764,1423.18 2352.76,1423.18 \n",
       "  \"/>\n",
       "<polyline clip-path=\"url(#clip600)\" style=\"stroke:#000000; stroke-linecap:round; stroke-linejoin:round; stroke-width:4; stroke-opacity:1; fill:none\" points=\"\n",
       "  308.871,1423.18 308.871,1404.28 \n",
       "  \"/>\n",
       "<polyline clip-path=\"url(#clip600)\" style=\"stroke:#000000; stroke-linecap:round; stroke-linejoin:round; stroke-width:4; stroke-opacity:1; fill:none\" points=\"\n",
       "  709.632,1423.18 709.632,1404.28 \n",
       "  \"/>\n",
       "<polyline clip-path=\"url(#clip600)\" style=\"stroke:#000000; stroke-linecap:round; stroke-linejoin:round; stroke-width:4; stroke-opacity:1; fill:none\" points=\"\n",
       "  1110.39,1423.18 1110.39,1404.28 \n",
       "  \"/>\n",
       "<polyline clip-path=\"url(#clip600)\" style=\"stroke:#000000; stroke-linecap:round; stroke-linejoin:round; stroke-width:4; stroke-opacity:1; fill:none\" points=\"\n",
       "  1511.16,1423.18 1511.16,1404.28 \n",
       "  \"/>\n",
       "<polyline clip-path=\"url(#clip600)\" style=\"stroke:#000000; stroke-linecap:round; stroke-linejoin:round; stroke-width:4; stroke-opacity:1; fill:none\" points=\"\n",
       "  1911.92,1423.18 1911.92,1404.28 \n",
       "  \"/>\n",
       "<polyline clip-path=\"url(#clip600)\" style=\"stroke:#000000; stroke-linecap:round; stroke-linejoin:round; stroke-width:4; stroke-opacity:1; fill:none\" points=\"\n",
       "  2312.68,1423.18 2312.68,1404.28 \n",
       "  \"/>\n",
       "<path clip-path=\"url(#clip600)\" d=\"M286.255 1454.1 Q282.644 1454.1 280.815 1457.66 Q279.01 1461.2 279.01 1468.33 Q279.01 1475.44 280.815 1479.01 Q282.644 1482.55 286.255 1482.55 Q289.889 1482.55 291.695 1479.01 Q293.523 1475.44 293.523 1468.33 Q293.523 1461.2 291.695 1457.66 Q289.889 1454.1 286.255 1454.1 M286.255 1450.39 Q292.065 1450.39 295.121 1455 Q298.199 1459.58 298.199 1468.33 Q298.199 1477.06 295.121 1481.67 Q292.065 1486.25 286.255 1486.25 Q280.445 1486.25 277.366 1481.67 Q274.311 1477.06 274.311 1468.33 Q274.311 1459.58 277.366 1455 Q280.445 1450.39 286.255 1450.39 Z\" fill=\"#000000\" fill-rule=\"evenodd\" fill-opacity=\"1\" /><path clip-path=\"url(#clip600)\" d=\"M306.417 1479.7 L311.301 1479.7 L311.301 1485.58 L306.417 1485.58 L306.417 1479.7 Z\" fill=\"#000000\" fill-rule=\"evenodd\" fill-opacity=\"1\" /><path clip-path=\"url(#clip600)\" d=\"M331.486 1454.1 Q327.875 1454.1 326.046 1457.66 Q324.241 1461.2 324.241 1468.33 Q324.241 1475.44 326.046 1479.01 Q327.875 1482.55 331.486 1482.55 Q335.12 1482.55 336.926 1479.01 Q338.755 1475.44 338.755 1468.33 Q338.755 1461.2 336.926 1457.66 Q335.12 1454.1 331.486 1454.1 M331.486 1450.39 Q337.296 1450.39 340.352 1455 Q343.431 1459.58 343.431 1468.33 Q343.431 1477.06 340.352 1481.67 Q337.296 1486.25 331.486 1486.25 Q325.676 1486.25 322.597 1481.67 Q319.542 1477.06 319.542 1468.33 Q319.542 1459.58 322.597 1455 Q325.676 1450.39 331.486 1450.39 Z\" fill=\"#000000\" fill-rule=\"evenodd\" fill-opacity=\"1\" /><path clip-path=\"url(#clip600)\" d=\"M681.369 1481.64 L697.688 1481.64 L697.688 1485.58 L675.744 1485.58 L675.744 1481.64 Q678.406 1478.89 682.989 1474.26 Q687.596 1469.61 688.776 1468.27 Q691.021 1465.74 691.901 1464.01 Q692.804 1462.25 692.804 1460.56 Q692.804 1457.8 690.859 1456.07 Q688.938 1454.33 685.836 1454.33 Q683.637 1454.33 681.184 1455.09 Q678.753 1455.86 675.975 1457.41 L675.975 1452.69 Q678.799 1451.55 681.253 1450.97 Q683.707 1450.39 685.744 1450.39 Q691.114 1450.39 694.308 1453.08 Q697.503 1455.77 697.503 1460.26 Q697.503 1462.39 696.693 1464.31 Q695.906 1466.2 693.799 1468.8 Q693.22 1469.47 690.119 1472.69 Q687.017 1475.88 681.369 1481.64 Z\" fill=\"#000000\" fill-rule=\"evenodd\" fill-opacity=\"1\" /><path clip-path=\"url(#clip600)\" d=\"M707.503 1479.7 L712.387 1479.7 L712.387 1485.58 L707.503 1485.58 L707.503 1479.7 Z\" fill=\"#000000\" fill-rule=\"evenodd\" fill-opacity=\"1\" /><path clip-path=\"url(#clip600)\" d=\"M722.618 1451.02 L740.975 1451.02 L740.975 1454.96 L726.901 1454.96 L726.901 1463.43 Q727.919 1463.08 728.938 1462.92 Q729.956 1462.73 730.975 1462.73 Q736.762 1462.73 740.142 1465.9 Q743.521 1469.08 743.521 1474.49 Q743.521 1480.07 740.049 1483.17 Q736.577 1486.25 730.257 1486.25 Q728.081 1486.25 725.813 1485.88 Q723.568 1485.51 721.16 1484.77 L721.16 1480.07 Q723.243 1481.2 725.466 1481.76 Q727.688 1482.32 730.165 1482.32 Q734.169 1482.32 736.507 1480.21 Q738.845 1478.1 738.845 1474.49 Q738.845 1470.88 736.507 1468.77 Q734.169 1466.67 730.165 1466.67 Q728.29 1466.67 726.415 1467.08 Q724.563 1467.5 722.618 1468.38 L722.618 1451.02 Z\" fill=\"#000000\" fill-rule=\"evenodd\" fill-opacity=\"1\" /><path clip-path=\"url(#clip600)\" d=\"M1077.56 1451.02 L1095.92 1451.02 L1095.92 1454.96 L1081.84 1454.96 L1081.84 1463.43 Q1082.86 1463.08 1083.88 1462.92 Q1084.9 1462.73 1085.92 1462.73 Q1091.7 1462.73 1095.08 1465.9 Q1098.46 1469.08 1098.46 1474.49 Q1098.46 1480.07 1094.99 1483.17 Q1091.52 1486.25 1085.2 1486.25 Q1083.02 1486.25 1080.75 1485.88 Q1078.51 1485.51 1076.1 1484.77 L1076.1 1480.07 Q1078.18 1481.2 1080.41 1481.76 Q1082.63 1482.32 1085.11 1482.32 Q1089.11 1482.32 1091.45 1480.21 Q1093.79 1478.1 1093.79 1474.49 Q1093.79 1470.88 1091.45 1468.77 Q1089.11 1466.67 1085.11 1466.67 Q1083.23 1466.67 1081.36 1467.08 Q1079.5 1467.5 1077.56 1468.38 L1077.56 1451.02 Z\" fill=\"#000000\" fill-rule=\"evenodd\" fill-opacity=\"1\" /><path clip-path=\"url(#clip600)\" d=\"M1107.67 1479.7 L1112.56 1479.7 L1112.56 1485.58 L1107.67 1485.58 L1107.67 1479.7 Z\" fill=\"#000000\" fill-rule=\"evenodd\" fill-opacity=\"1\" /><path clip-path=\"url(#clip600)\" d=\"M1132.74 1454.1 Q1129.13 1454.1 1127.3 1457.66 Q1125.5 1461.2 1125.5 1468.33 Q1125.5 1475.44 1127.3 1479.01 Q1129.13 1482.55 1132.74 1482.55 Q1136.38 1482.55 1138.18 1479.01 Q1140.01 1475.44 1140.01 1468.33 Q1140.01 1461.2 1138.18 1457.66 Q1136.38 1454.1 1132.74 1454.1 M1132.74 1450.39 Q1138.55 1450.39 1141.61 1455 Q1144.69 1459.58 1144.69 1468.33 Q1144.69 1477.06 1141.61 1481.67 Q1138.55 1486.25 1132.74 1486.25 Q1126.93 1486.25 1123.85 1481.67 Q1120.8 1477.06 1120.8 1468.33 Q1120.8 1459.58 1123.85 1455 Q1126.93 1450.39 1132.74 1450.39 Z\" fill=\"#000000\" fill-rule=\"evenodd\" fill-opacity=\"1\" /><path clip-path=\"url(#clip600)\" d=\"M1477.48 1451.02 L1499.7 1451.02 L1499.7 1453.01 L1487.15 1485.58 L1482.27 1485.58 L1494.07 1454.96 L1477.48 1454.96 L1477.48 1451.02 Z\" fill=\"#000000\" fill-rule=\"evenodd\" fill-opacity=\"1\" /><path clip-path=\"url(#clip600)\" d=\"M1508.82 1479.7 L1513.7 1479.7 L1513.7 1485.58 L1508.82 1485.58 L1508.82 1479.7 Z\" fill=\"#000000\" fill-rule=\"evenodd\" fill-opacity=\"1\" /><path clip-path=\"url(#clip600)\" d=\"M1523.93 1451.02 L1542.29 1451.02 L1542.29 1454.96 L1528.22 1454.96 L1528.22 1463.43 Q1529.23 1463.08 1530.25 1462.92 Q1531.27 1462.73 1532.29 1462.73 Q1538.08 1462.73 1541.46 1465.9 Q1544.84 1469.08 1544.84 1474.49 Q1544.84 1480.07 1541.36 1483.17 Q1537.89 1486.25 1531.57 1486.25 Q1529.4 1486.25 1527.13 1485.88 Q1524.88 1485.51 1522.48 1484.77 L1522.48 1480.07 Q1524.56 1481.2 1526.78 1481.76 Q1529 1482.32 1531.48 1482.32 Q1535.48 1482.32 1537.82 1480.21 Q1540.16 1478.1 1540.16 1474.49 Q1540.16 1470.88 1537.82 1468.77 Q1535.48 1466.67 1531.48 1466.67 Q1529.61 1466.67 1527.73 1467.08 Q1525.88 1467.5 1523.93 1468.38 L1523.93 1451.02 Z\" fill=\"#000000\" fill-rule=\"evenodd\" fill-opacity=\"1\" /><path clip-path=\"url(#clip600)\" d=\"M1863.99 1481.64 L1871.63 1481.64 L1871.63 1455.28 L1863.32 1456.95 L1863.32 1452.69 L1871.58 1451.02 L1876.26 1451.02 L1876.26 1481.64 L1883.9 1481.64 L1883.9 1485.58 L1863.99 1485.58 L1863.99 1481.64 Z\" fill=\"#000000\" fill-rule=\"evenodd\" fill-opacity=\"1\" /><path clip-path=\"url(#clip600)\" d=\"M1903.34 1454.1 Q1899.73 1454.1 1897.9 1457.66 Q1896.1 1461.2 1896.1 1468.33 Q1896.1 1475.44 1897.9 1479.01 Q1899.73 1482.55 1903.34 1482.55 Q1906.98 1482.55 1908.78 1479.01 Q1910.61 1475.44 1910.61 1468.33 Q1910.61 1461.2 1908.78 1457.66 Q1906.98 1454.1 1903.34 1454.1 M1903.34 1450.39 Q1909.15 1450.39 1912.21 1455 Q1915.29 1459.58 1915.29 1468.33 Q1915.29 1477.06 1912.21 1481.67 Q1909.15 1486.25 1903.34 1486.25 Q1897.53 1486.25 1894.45 1481.67 Q1891.4 1477.06 1891.4 1468.33 Q1891.4 1459.58 1894.45 1455 Q1897.53 1450.39 1903.34 1450.39 Z\" fill=\"#000000\" fill-rule=\"evenodd\" fill-opacity=\"1\" /><path clip-path=\"url(#clip600)\" d=\"M1923.5 1479.7 L1928.39 1479.7 L1928.39 1485.58 L1923.5 1485.58 L1923.5 1479.7 Z\" fill=\"#000000\" fill-rule=\"evenodd\" fill-opacity=\"1\" /><path clip-path=\"url(#clip600)\" d=\"M1948.57 1454.1 Q1944.96 1454.1 1943.13 1457.66 Q1941.33 1461.2 1941.33 1468.33 Q1941.33 1475.44 1943.13 1479.01 Q1944.96 1482.55 1948.57 1482.55 Q1952.21 1482.55 1954.01 1479.01 Q1955.84 1475.44 1955.84 1468.33 Q1955.84 1461.2 1954.01 1457.66 Q1952.21 1454.1 1948.57 1454.1 M1948.57 1450.39 Q1954.38 1450.39 1957.44 1455 Q1960.52 1459.58 1960.52 1468.33 Q1960.52 1477.06 1957.44 1481.67 Q1954.38 1486.25 1948.57 1486.25 Q1942.76 1486.25 1939.68 1481.67 Q1936.63 1477.06 1936.63 1468.33 Q1936.63 1459.58 1939.68 1455 Q1942.76 1450.39 1948.57 1450.39 Z\" fill=\"#000000\" fill-rule=\"evenodd\" fill-opacity=\"1\" /><path clip-path=\"url(#clip600)\" d=\"M2265.25 1481.64 L2272.89 1481.64 L2272.89 1455.28 L2264.58 1456.95 L2264.58 1452.69 L2272.84 1451.02 L2277.52 1451.02 L2277.52 1481.64 L2285.16 1481.64 L2285.16 1485.58 L2265.25 1485.58 L2265.25 1481.64 Z\" fill=\"#000000\" fill-rule=\"evenodd\" fill-opacity=\"1\" /><path clip-path=\"url(#clip600)\" d=\"M2298.63 1481.64 L2314.95 1481.64 L2314.95 1485.58 L2293 1485.58 L2293 1481.64 Q2295.67 1478.89 2300.25 1474.26 Q2304.86 1469.61 2306.04 1468.27 Q2308.28 1465.74 2309.16 1464.01 Q2310.06 1462.25 2310.06 1460.56 Q2310.06 1457.8 2308.12 1456.07 Q2306.2 1454.33 2303.1 1454.33 Q2300.9 1454.33 2298.44 1455.09 Q2296.01 1455.86 2293.24 1457.41 L2293.24 1452.69 Q2296.06 1451.55 2298.51 1450.97 Q2300.97 1450.39 2303 1450.39 Q2308.37 1450.39 2311.57 1453.08 Q2314.76 1455.77 2314.76 1460.26 Q2314.76 1462.39 2313.95 1464.31 Q2313.17 1466.2 2311.06 1468.8 Q2310.48 1469.47 2307.38 1472.69 Q2304.28 1475.88 2298.63 1481.64 Z\" fill=\"#000000\" fill-rule=\"evenodd\" fill-opacity=\"1\" /><path clip-path=\"url(#clip600)\" d=\"M2324.76 1479.7 L2329.65 1479.7 L2329.65 1485.58 L2324.76 1485.58 L2324.76 1479.7 Z\" fill=\"#000000\" fill-rule=\"evenodd\" fill-opacity=\"1\" /><path clip-path=\"url(#clip600)\" d=\"M2339.88 1451.02 L2358.24 1451.02 L2358.24 1454.96 L2344.16 1454.96 L2344.16 1463.43 Q2345.18 1463.08 2346.2 1462.92 Q2347.22 1462.73 2348.24 1462.73 Q2354.02 1462.73 2357.4 1465.9 Q2360.78 1469.08 2360.78 1474.49 Q2360.78 1480.07 2357.31 1483.17 Q2353.84 1486.25 2347.52 1486.25 Q2345.34 1486.25 2343.07 1485.88 Q2340.83 1485.51 2338.42 1484.77 L2338.42 1480.07 Q2340.5 1481.2 2342.73 1481.76 Q2344.95 1482.32 2347.42 1482.32 Q2351.43 1482.32 2353.77 1480.21 Q2356.11 1478.1 2356.11 1474.49 Q2356.11 1470.88 2353.77 1468.77 Q2351.43 1466.67 2347.42 1466.67 Q2345.55 1466.67 2343.67 1467.08 Q2341.82 1467.5 2339.88 1468.38 L2339.88 1451.02 Z\" fill=\"#000000\" fill-rule=\"evenodd\" fill-opacity=\"1\" /><path clip-path=\"url(#clip600)\" d=\"M1240.6 1531.91 Q1240.6 1532.81 1240.18 1533.04 Q1239.77 1533.23 1238.61 1533.23 L1232.42 1533.23 L1227.53 1552.69 Q1227.14 1554.39 1227.14 1555.84 Q1227.14 1557.45 1227.62 1558.16 Q1228.14 1558.87 1229.2 1558.87 Q1231.3 1558.87 1233.55 1556.97 Q1235.84 1555.07 1237.77 1550.43 Q1238.03 1549.82 1238.16 1549.69 Q1238.32 1549.53 1238.74 1549.53 Q1239.54 1549.53 1239.54 1550.17 Q1239.54 1550.4 1239.09 1551.43 Q1238.67 1552.46 1237.74 1553.97 Q1236.84 1555.49 1235.64 1556.9 Q1234.48 1558.32 1232.71 1559.35 Q1230.94 1560.35 1229.04 1560.35 Q1226.37 1560.35 1224.66 1558.64 Q1222.99 1556.94 1222.99 1554.26 Q1222.99 1553.39 1223.66 1550.62 Q1224.34 1547.82 1228.01 1533.23 L1222.18 1533.23 Q1221.38 1533.23 1221.05 1533.2 Q1220.76 1533.17 1220.54 1533.01 Q1220.35 1532.81 1220.35 1532.43 Q1220.35 1531.82 1220.6 1531.56 Q1220.86 1531.27 1221.18 1531.24 Q1221.54 1531.17 1222.34 1531.17 L1228.53 1531.17 L1231.1 1520.71 Q1231.36 1519.67 1232 1519.09 Q1232.68 1518.48 1233.07 1518.42 Q1233.45 1518.32 1233.74 1518.32 Q1234.61 1518.32 1235.13 1518.81 Q1235.64 1519.26 1235.64 1520.09 Q1235.64 1520.54 1232.94 1531.17 L1238.74 1531.17 Q1239.48 1531.17 1239.77 1531.2 Q1240.09 1531.24 1240.35 1531.4 Q1240.6 1531.56 1240.6 1531.91 Z\" fill=\"#000000\" fill-rule=\"evenodd\" fill-opacity=\"1\" /><path clip-path=\"url(#clip600)\" d=\"M1270.24 1510.08 L1283.74 1510.08 L1283.74 1514.64 L1276.1 1514.64 L1276.1 1563.65 L1283.74 1563.65 L1283.74 1568.2 L1270.24 1568.2 L1270.24 1510.08 Z\" fill=\"#000000\" fill-rule=\"evenodd\" fill-opacity=\"1\" /><path clip-path=\"url(#clip600)\" d=\"M1325.85 1538.09 L1325.85 1559.61 L1319.99 1559.61 L1319.99 1538.28 Q1319.99 1533.22 1318.02 1530.71 Q1316.04 1528.2 1312.1 1528.2 Q1307.35 1528.2 1304.62 1531.22 Q1301.88 1534.24 1301.88 1539.46 L1301.88 1559.61 L1295.99 1559.61 L1295.99 1523.96 L1301.88 1523.96 L1301.88 1529.5 Q1303.98 1526.29 1306.81 1524.69 Q1309.68 1523.1 1313.4 1523.1 Q1319.54 1523.1 1322.69 1526.92 Q1325.85 1530.71 1325.85 1538.09 Z\" fill=\"#000000\" fill-rule=\"evenodd\" fill-opacity=\"1\" /><path clip-path=\"url(#clip600)\" d=\"M1360.25 1525.01 L1360.25 1530.55 Q1357.77 1529.28 1355.1 1528.64 Q1352.42 1528 1349.56 1528 Q1345.2 1528 1343 1529.34 Q1340.84 1530.68 1340.84 1533.35 Q1340.84 1535.39 1342.4 1536.57 Q1343.96 1537.71 1348.67 1538.76 L1350.67 1539.21 Q1356.91 1540.54 1359.52 1543 Q1362.16 1545.41 1362.16 1549.77 Q1362.16 1554.74 1358.22 1557.64 Q1354.3 1560.53 1347.43 1560.53 Q1344.56 1560.53 1341.44 1559.96 Q1338.35 1559.42 1334.92 1558.3 L1334.92 1552.26 Q1338.16 1553.94 1341.31 1554.8 Q1344.47 1555.63 1347.55 1555.63 Q1351.69 1555.63 1353.92 1554.23 Q1356.15 1552.8 1356.15 1550.22 Q1356.15 1547.83 1354.52 1546.56 Q1352.93 1545.29 1347.49 1544.11 L1345.45 1543.63 Q1340.01 1542.49 1337.59 1540.13 Q1335.17 1537.74 1335.17 1533.61 Q1335.17 1528.58 1338.74 1525.84 Q1342.3 1523.1 1348.86 1523.1 Q1352.1 1523.1 1354.97 1523.58 Q1357.83 1524.06 1360.25 1525.01 Z\" fill=\"#000000\" fill-rule=\"evenodd\" fill-opacity=\"1\" /><path clip-path=\"url(#clip600)\" d=\"M1385.17 1510.08 L1385.17 1568.2 L1371.68 1568.2 L1371.68 1563.65 L1379.29 1563.65 L1379.29 1514.64 L1371.68 1514.64 L1371.68 1510.08 L1385.17 1510.08 Z\" fill=\"#000000\" fill-rule=\"evenodd\" fill-opacity=\"1\" /><polyline clip-path=\"url(#clip602)\" style=\"stroke:#000000; stroke-linecap:round; stroke-linejoin:round; stroke-width:2; stroke-opacity:0.1; fill:none\" points=\"\n",
       "  252.764,1423.18 2352.76,1423.18 \n",
       "  \"/>\n",
       "<polyline clip-path=\"url(#clip602)\" style=\"stroke:#000000; stroke-linecap:round; stroke-linejoin:round; stroke-width:2; stroke-opacity:0.1; fill:none\" points=\"\n",
       "  252.764,1163.62 2352.76,1163.62 \n",
       "  \"/>\n",
       "<polyline clip-path=\"url(#clip602)\" style=\"stroke:#000000; stroke-linecap:round; stroke-linejoin:round; stroke-width:2; stroke-opacity:0.1; fill:none\" points=\"\n",
       "  252.764,904.06 2352.76,904.06 \n",
       "  \"/>\n",
       "<polyline clip-path=\"url(#clip602)\" style=\"stroke:#000000; stroke-linecap:round; stroke-linejoin:round; stroke-width:2; stroke-opacity:0.1; fill:none\" points=\"\n",
       "  252.764,644.5 2352.76,644.5 \n",
       "  \"/>\n",
       "<polyline clip-path=\"url(#clip602)\" style=\"stroke:#000000; stroke-linecap:round; stroke-linejoin:round; stroke-width:2; stroke-opacity:0.1; fill:none\" points=\"\n",
       "  252.764,384.94 2352.76,384.94 \n",
       "  \"/>\n",
       "<polyline clip-path=\"url(#clip602)\" style=\"stroke:#000000; stroke-linecap:round; stroke-linejoin:round; stroke-width:2; stroke-opacity:0.1; fill:none\" points=\"\n",
       "  252.764,125.379 2352.76,125.379 \n",
       "  \"/>\n",
       "<polyline clip-path=\"url(#clip600)\" style=\"stroke:#000000; stroke-linecap:round; stroke-linejoin:round; stroke-width:4; stroke-opacity:1; fill:none\" points=\"\n",
       "  252.764,1423.18 252.764,47.2441 \n",
       "  \"/>\n",
       "<polyline clip-path=\"url(#clip600)\" style=\"stroke:#000000; stroke-linecap:round; stroke-linejoin:round; stroke-width:4; stroke-opacity:1; fill:none\" points=\"\n",
       "  252.764,1423.18 271.662,1423.18 \n",
       "  \"/>\n",
       "<polyline clip-path=\"url(#clip600)\" style=\"stroke:#000000; stroke-linecap:round; stroke-linejoin:round; stroke-width:4; stroke-opacity:1; fill:none\" points=\"\n",
       "  252.764,1163.62 271.662,1163.62 \n",
       "  \"/>\n",
       "<polyline clip-path=\"url(#clip600)\" style=\"stroke:#000000; stroke-linecap:round; stroke-linejoin:round; stroke-width:4; stroke-opacity:1; fill:none\" points=\"\n",
       "  252.764,904.06 271.662,904.06 \n",
       "  \"/>\n",
       "<polyline clip-path=\"url(#clip600)\" style=\"stroke:#000000; stroke-linecap:round; stroke-linejoin:round; stroke-width:4; stroke-opacity:1; fill:none\" points=\"\n",
       "  252.764,644.5 271.662,644.5 \n",
       "  \"/>\n",
       "<polyline clip-path=\"url(#clip600)\" style=\"stroke:#000000; stroke-linecap:round; stroke-linejoin:round; stroke-width:4; stroke-opacity:1; fill:none\" points=\"\n",
       "  252.764,384.94 271.662,384.94 \n",
       "  \"/>\n",
       "<polyline clip-path=\"url(#clip600)\" style=\"stroke:#000000; stroke-linecap:round; stroke-linejoin:round; stroke-width:4; stroke-opacity:1; fill:none\" points=\"\n",
       "  252.764,125.379 271.662,125.379 \n",
       "  \"/>\n",
       "<path clip-path=\"url(#clip600)\" d=\"M116.135 1442.97 L123.774 1442.97 L123.774 1416.61 L115.464 1418.27 L115.464 1414.01 L123.728 1412.35 L128.404 1412.35 L128.404 1442.97 L136.042 1442.97 L136.042 1446.91 L116.135 1446.91 L116.135 1442.97 Z\" fill=\"#000000\" fill-rule=\"evenodd\" fill-opacity=\"1\" /><path clip-path=\"url(#clip600)\" d=\"M155.487 1415.43 Q151.876 1415.43 150.047 1418.99 Q148.241 1422.53 148.241 1429.66 Q148.241 1436.77 150.047 1440.33 Q151.876 1443.88 155.487 1443.88 Q159.121 1443.88 160.927 1440.33 Q162.755 1436.77 162.755 1429.66 Q162.755 1422.53 160.927 1418.99 Q159.121 1415.43 155.487 1415.43 M155.487 1411.72 Q161.297 1411.72 164.352 1416.33 Q167.431 1420.91 167.431 1429.66 Q167.431 1438.39 164.352 1443 Q161.297 1447.58 155.487 1447.58 Q149.677 1447.58 146.598 1443 Q143.542 1438.39 143.542 1429.66 Q143.542 1420.91 146.598 1416.33 Q149.677 1411.72 155.487 1411.72 Z\" fill=\"#000000\" fill-rule=\"evenodd\" fill-opacity=\"1\" /><path clip-path=\"url(#clip600)\" d=\"M167.431 1405.82 L191.543 1405.82 L191.543 1409.02 L167.431 1409.02 L167.431 1405.82 Z\" fill=\"#000000\" fill-rule=\"evenodd\" fill-opacity=\"1\" /><path clip-path=\"url(#clip600)\" d=\"M199.781 1391.42 L214.695 1391.42 L214.695 1394.61 L203.26 1394.61 L203.26 1401.5 Q204.088 1401.22 204.915 1401.08 Q205.743 1400.93 206.57 1400.93 Q211.272 1400.93 214.018 1403.51 Q216.764 1406.09 216.764 1410.49 Q216.764 1415.02 213.943 1417.54 Q211.122 1420.04 205.987 1420.04 Q204.219 1420.04 202.376 1419.74 Q200.552 1419.44 198.596 1418.84 L198.596 1415.02 Q200.288 1415.94 202.094 1416.39 Q203.899 1416.85 205.912 1416.85 Q209.166 1416.85 211.065 1415.13 Q212.965 1413.42 212.965 1410.49 Q212.965 1407.55 211.065 1405.84 Q209.166 1404.13 205.912 1404.13 Q204.388 1404.13 202.865 1404.47 Q201.36 1404.81 199.781 1405.52 L199.781 1391.42 Z\" fill=\"#000000\" fill-rule=\"evenodd\" fill-opacity=\"1\" /><path clip-path=\"url(#clip600)\" d=\"M114.931 1183.41 L122.57 1183.41 L122.57 1157.05 L114.26 1158.71 L114.26 1154.45 L122.524 1152.79 L127.2 1152.79 L127.2 1183.41 L134.839 1183.41 L134.839 1187.35 L114.931 1187.35 L114.931 1183.41 Z\" fill=\"#000000\" fill-rule=\"evenodd\" fill-opacity=\"1\" /><path clip-path=\"url(#clip600)\" d=\"M154.283 1155.87 Q150.672 1155.87 148.843 1159.43 Q147.038 1162.97 147.038 1170.1 Q147.038 1177.21 148.843 1180.77 Q150.672 1184.31 154.283 1184.31 Q157.917 1184.31 159.723 1180.77 Q161.552 1177.21 161.552 1170.1 Q161.552 1162.97 159.723 1159.43 Q157.917 1155.87 154.283 1155.87 M154.283 1152.16 Q160.093 1152.16 163.149 1156.77 Q166.227 1161.35 166.227 1170.1 Q166.227 1178.83 163.149 1183.44 Q160.093 1188.02 154.283 1188.02 Q148.473 1188.02 145.394 1183.44 Q142.339 1178.83 142.339 1170.1 Q142.339 1161.35 145.394 1156.77 Q148.473 1152.16 154.283 1152.16 Z\" fill=\"#000000\" fill-rule=\"evenodd\" fill-opacity=\"1\" /><path clip-path=\"url(#clip600)\" d=\"M166.227 1146.26 L190.339 1146.26 L190.339 1149.46 L166.227 1149.46 L166.227 1146.26 Z\" fill=\"#000000\" fill-rule=\"evenodd\" fill-opacity=\"1\" /><path clip-path=\"url(#clip600)\" d=\"M208.978 1135.17 L199.386 1150.16 L208.978 1150.16 L208.978 1135.17 M207.981 1131.86 L212.758 1131.86 L212.758 1150.16 L216.764 1150.16 L216.764 1153.32 L212.758 1153.32 L212.758 1159.94 L208.978 1159.94 L208.978 1153.32 L196.301 1153.32 L196.301 1149.65 L207.981 1131.86 Z\" fill=\"#000000\" fill-rule=\"evenodd\" fill-opacity=\"1\" /><path clip-path=\"url(#clip600)\" d=\"M115.853 923.852 L123.492 923.852 L123.492 897.487 L115.182 899.153 L115.182 894.894 L123.446 893.227 L128.121 893.227 L128.121 923.852 L135.76 923.852 L135.76 927.787 L115.853 927.787 L115.853 923.852 Z\" fill=\"#000000\" fill-rule=\"evenodd\" fill-opacity=\"1\" /><path clip-path=\"url(#clip600)\" d=\"M155.205 896.306 Q151.594 896.306 149.765 899.871 Q147.959 903.412 147.959 910.542 Q147.959 917.648 149.765 921.213 Q151.594 924.755 155.205 924.755 Q158.839 924.755 160.644 921.213 Q162.473 917.648 162.473 910.542 Q162.473 903.412 160.644 899.871 Q158.839 896.306 155.205 896.306 M155.205 892.602 Q161.015 892.602 164.07 897.209 Q167.149 901.792 167.149 910.542 Q167.149 919.269 164.07 923.875 Q161.015 928.459 155.205 928.459 Q149.395 928.459 146.316 923.875 Q143.26 919.269 143.26 910.542 Q143.26 901.792 146.316 897.209 Q149.395 892.602 155.205 892.602 Z\" fill=\"#000000\" fill-rule=\"evenodd\" fill-opacity=\"1\" /><path clip-path=\"url(#clip600)\" d=\"M167.149 886.704 L191.261 886.704 L191.261 889.901 L167.149 889.901 L167.149 886.704 Z\" fill=\"#000000\" fill-rule=\"evenodd\" fill-opacity=\"1\" /><path clip-path=\"url(#clip600)\" d=\"M210.971 885.237 Q213.698 885.82 215.222 887.663 Q216.764 889.506 216.764 892.214 Q216.764 896.371 213.905 898.647 Q211.046 900.922 205.78 900.922 Q204.012 900.922 202.132 900.565 Q200.27 900.226 198.276 899.531 L198.276 895.863 Q199.856 896.785 201.737 897.255 Q203.617 897.725 205.667 897.725 Q209.241 897.725 211.103 896.314 Q212.984 894.904 212.984 892.214 Q212.984 889.732 211.234 888.34 Q209.504 886.929 206.401 886.929 L203.128 886.929 L203.128 883.807 L206.551 883.807 Q209.354 883.807 210.84 882.698 Q212.325 881.569 212.325 879.463 Q212.325 877.3 210.783 876.152 Q209.26 874.986 206.401 874.986 Q204.84 874.986 203.053 875.325 Q201.266 875.663 199.122 876.378 L199.122 872.993 Q201.285 872.391 203.166 872.09 Q205.066 871.789 206.739 871.789 Q211.065 871.789 213.585 873.764 Q216.106 875.72 216.106 879.068 Q216.106 881.4 214.77 883.017 Q213.435 884.616 210.971 885.237 Z\" fill=\"#000000\" fill-rule=\"evenodd\" fill-opacity=\"1\" /><path clip-path=\"url(#clip600)\" d=\"M116.624 664.292 L124.263 664.292 L124.263 637.926 L115.953 639.593 L115.953 635.334 L124.217 633.667 L128.893 633.667 L128.893 664.292 L136.531 664.292 L136.531 668.227 L116.624 668.227 L116.624 664.292 Z\" fill=\"#000000\" fill-rule=\"evenodd\" fill-opacity=\"1\" /><path clip-path=\"url(#clip600)\" d=\"M155.976 636.746 Q152.365 636.746 150.536 640.311 Q148.73 643.852 148.73 650.982 Q148.73 658.088 150.536 661.653 Q152.365 665.195 155.976 665.195 Q159.61 665.195 161.416 661.653 Q163.244 658.088 163.244 650.982 Q163.244 643.852 161.416 640.311 Q159.61 636.746 155.976 636.746 M155.976 633.042 Q161.786 633.042 164.841 637.649 Q167.92 642.232 167.92 650.982 Q167.92 659.709 164.841 664.315 Q161.786 668.899 155.976 668.899 Q150.166 668.899 147.087 664.315 Q144.031 659.709 144.031 650.982 Q144.031 642.232 147.087 637.649 Q150.166 633.042 155.976 633.042 Z\" fill=\"#000000\" fill-rule=\"evenodd\" fill-opacity=\"1\" /><path clip-path=\"url(#clip600)\" d=\"M167.92 627.144 L192.032 627.144 L192.032 630.341 L167.92 630.341 L167.92 627.144 Z\" fill=\"#000000\" fill-rule=\"evenodd\" fill-opacity=\"1\" /><path clip-path=\"url(#clip600)\" d=\"M203.504 637.619 L216.764 637.619 L216.764 640.817 L198.934 640.817 L198.934 637.619 Q201.097 635.381 204.821 631.62 Q208.564 627.839 209.523 626.749 Q211.347 624.699 212.062 623.288 Q212.796 621.859 212.796 620.486 Q212.796 618.247 211.216 616.837 Q209.655 615.426 207.134 615.426 Q205.348 615.426 203.354 616.047 Q201.379 616.668 199.122 617.928 L199.122 614.091 Q201.417 613.169 203.41 612.699 Q205.404 612.229 207.059 612.229 Q211.423 612.229 214.018 614.411 Q216.613 616.592 216.613 620.241 Q216.613 621.971 215.955 623.532 Q215.316 625.075 213.604 627.181 Q213.134 627.727 210.614 630.341 Q208.094 632.936 203.504 637.619 Z\" fill=\"#000000\" fill-rule=\"evenodd\" fill-opacity=\"1\" /><path clip-path=\"url(#clip600)\" d=\"M116.323 404.732 L123.962 404.732 L123.962 378.366 L115.652 380.033 L115.652 375.774 L123.916 374.107 L128.592 374.107 L128.592 404.732 L136.231 404.732 L136.231 408.667 L116.323 408.667 L116.323 404.732 Z\" fill=\"#000000\" fill-rule=\"evenodd\" fill-opacity=\"1\" /><path clip-path=\"url(#clip600)\" d=\"M155.675 377.186 Q152.064 377.186 150.235 380.751 Q148.43 384.292 148.43 391.422 Q148.43 398.528 150.235 402.093 Q152.064 405.635 155.675 405.635 Q159.309 405.635 161.115 402.093 Q162.943 398.528 162.943 391.422 Q162.943 384.292 161.115 380.751 Q159.309 377.186 155.675 377.186 M155.675 373.482 Q161.485 373.482 164.541 378.089 Q167.619 382.672 167.619 391.422 Q167.619 400.149 164.541 404.755 Q161.485 409.338 155.675 409.338 Q149.865 409.338 146.786 404.755 Q143.73 400.149 143.73 391.422 Q143.73 382.672 146.786 378.089 Q149.865 373.482 155.675 373.482 Z\" fill=\"#000000\" fill-rule=\"evenodd\" fill-opacity=\"1\" /><path clip-path=\"url(#clip600)\" d=\"M167.619 367.583 L191.731 367.583 L191.731 370.781 L167.619 370.781 L167.619 367.583 Z\" fill=\"#000000\" fill-rule=\"evenodd\" fill-opacity=\"1\" /><path clip-path=\"url(#clip600)\" d=\"M200.589 378.059 L206.796 378.059 L206.796 356.637 L200.044 357.992 L200.044 354.531 L206.758 353.177 L210.557 353.177 L210.557 378.059 L216.764 378.059 L216.764 381.257 L200.589 381.257 L200.589 378.059 Z\" fill=\"#000000\" fill-rule=\"evenodd\" fill-opacity=\"1\" /><path clip-path=\"url(#clip600)\" d=\"M146.058 145.172 L153.697 145.172 L153.697 118.806 L145.387 120.473 L145.387 116.214 L153.651 114.547 L158.327 114.547 L158.327 145.172 L165.966 145.172 L165.966 149.107 L146.058 149.107 L146.058 145.172 Z\" fill=\"#000000\" fill-rule=\"evenodd\" fill-opacity=\"1\" /><path clip-path=\"url(#clip600)\" d=\"M185.41 117.626 Q181.799 117.626 179.97 121.191 Q178.165 124.732 178.165 131.862 Q178.165 138.968 179.97 142.533 Q181.799 146.075 185.41 146.075 Q189.044 146.075 190.85 142.533 Q192.678 138.968 192.678 131.862 Q192.678 124.732 190.85 121.191 Q189.044 117.626 185.41 117.626 M185.41 113.922 Q191.22 113.922 194.276 118.529 Q197.354 123.112 197.354 131.862 Q197.354 140.589 194.276 145.195 Q191.22 149.778 185.41 149.778 Q179.6 149.778 176.521 145.195 Q173.466 140.589 173.466 131.862 Q173.466 123.112 176.521 118.529 Q179.6 113.922 185.41 113.922 Z\" fill=\"#000000\" fill-rule=\"evenodd\" fill-opacity=\"1\" /><path clip-path=\"url(#clip600)\" d=\"M207.059 96.1181 Q204.125 96.1181 202.639 99.0145 Q201.172 101.892 201.172 107.685 Q201.172 113.459 202.639 116.355 Q204.125 119.233 207.059 119.233 Q210.012 119.233 211.479 116.355 Q212.965 113.459 212.965 107.685 Q212.965 101.892 211.479 99.0145 Q210.012 96.1181 207.059 96.1181 M207.059 93.1089 Q211.78 93.1089 214.263 96.8516 Q216.764 100.576 216.764 107.685 Q216.764 114.775 214.263 118.518 Q211.78 122.242 207.059 122.242 Q202.338 122.242 199.837 118.518 Q197.354 114.775 197.354 107.685 Q197.354 100.576 199.837 96.8516 Q202.338 93.1089 207.059 93.1089 Z\" fill=\"#000000\" fill-rule=\"evenodd\" fill-opacity=\"1\" /><path clip-path=\"url(#clip600)\" d=\"M18.0438 956.5 L24.314 956.5 Q22.5634 960.16 21.704 963.407 Q20.8447 966.653 20.8447 969.677 Q20.8447 974.929 22.8817 977.793 Q24.9187 980.626 28.6745 980.626 Q31.8255 980.626 33.4488 978.748 Q35.0402 976.838 36.0269 971.555 L36.8226 967.672 Q38.1912 960.478 41.6605 957.073 Q45.098 953.635 50.8908 953.635 Q57.7976 953.635 61.3624 958.282 Q64.9272 962.897 64.9272 971.841 Q64.9272 975.215 64.1633 979.034 Q63.3994 982.822 61.9035 986.896 L55.2831 986.896 Q57.4793 982.981 58.5933 979.225 Q59.7073 975.47 59.7073 971.841 Q59.7073 966.335 57.543 963.343 Q55.3786 960.351 51.3682 960.351 Q47.8671 960.351 45.8937 962.515 Q43.9204 964.648 42.9337 969.55 L42.1698 973.464 Q40.7375 980.658 37.682 983.872 Q34.6264 987.087 29.1837 987.087 Q22.8817 987.087 19.2532 982.663 Q15.6248 978.207 15.6248 970.409 Q15.6248 967.067 16.2295 963.598 Q16.8343 960.128 18.0438 956.5 Z\" fill=\"#000000\" fill-rule=\"evenodd\" fill-opacity=\"1\" /><path clip-path=\"url(#clip600)\" d=\"M58.657 938.198 L77.5631 938.198 L77.5631 944.087 L28.3562 944.087 L28.3562 938.198 L33.7671 938.198 Q30.5842 936.352 29.0564 933.551 Q27.4968 930.719 27.4968 926.804 Q27.4968 920.311 32.6531 916.269 Q37.8093 912.195 46.212 912.195 Q54.6147 912.195 59.771 916.269 Q64.9272 920.311 64.9272 926.804 Q64.9272 930.719 63.3994 933.551 Q61.8398 936.352 58.657 938.198 M46.212 918.274 Q39.7508 918.274 36.0905 920.947 Q32.3984 923.589 32.3984 928.236 Q32.3984 932.883 36.0905 935.557 Q39.7508 938.198 46.212 938.198 Q52.6732 938.198 56.3653 935.557 Q60.0256 932.883 60.0256 928.236 Q60.0256 923.589 56.3653 920.947 Q52.6732 918.274 46.212 918.274 Z\" fill=\"#000000\" fill-rule=\"evenodd\" fill-opacity=\"1\" /><path clip-path=\"url(#clip600)\" d=\"M44.7161 871.995 L47.5806 871.995 L47.5806 898.922 Q53.6281 898.54 56.8109 895.294 Q59.9619 892.015 59.9619 886.191 Q59.9619 882.817 59.1344 879.666 Q58.3069 876.483 56.6518 873.364 L62.1899 873.364 Q63.5267 876.515 64.227 879.825 Q64.9272 883.135 64.9272 886.541 Q64.9272 895.071 59.9619 900.068 Q54.9967 905.033 46.5303 905.033 Q37.7774 905.033 32.6531 900.322 Q27.4968 895.58 27.4968 887.559 Q27.4968 880.366 32.1438 876.196 Q36.7589 871.995 44.7161 871.995 M42.9973 877.852 Q38.1912 877.915 35.3266 880.557 Q32.4621 883.167 32.4621 887.496 Q32.4621 892.397 35.2312 895.357 Q38.0002 898.285 43.0292 898.731 L42.9973 877.852 Z\" fill=\"#000000\" fill-rule=\"evenodd\" fill-opacity=\"1\" /><path clip-path=\"url(#clip600)\" d=\"M29.7248 836.729 L35.1993 836.729 Q33.8307 839.212 33.1623 841.726 Q32.4621 844.209 32.4621 846.755 Q32.4621 852.452 36.0905 855.603 Q39.6872 858.754 46.212 858.754 Q52.7369 858.754 56.3653 855.603 Q59.9619 852.452 59.9619 846.755 Q59.9619 844.209 59.2935 841.726 Q58.5933 839.212 57.2247 836.729 L62.6355 836.729 Q63.7814 839.18 64.3543 841.822 Q64.9272 844.432 64.9272 847.392 Q64.9272 855.444 59.8664 860.187 Q54.8057 864.929 46.212 864.929 Q37.491 864.929 32.4939 860.155 Q27.4968 855.349 27.4968 847.01 Q27.4968 844.304 28.0697 841.726 Q28.6108 839.148 29.7248 836.729 Z\" fill=\"#000000\" fill-rule=\"evenodd\" fill-opacity=\"1\" /><path clip-path=\"url(#clip600)\" d=\"M18.2347 820.751 L28.3562 820.751 L28.3562 808.688 L32.9077 808.688 L32.9077 820.751 L52.2594 820.751 Q56.6199 820.751 57.8613 819.573 Q59.1026 818.364 59.1026 814.704 L59.1026 808.688 L64.0042 808.688 L64.0042 814.704 Q64.0042 821.483 61.4897 824.061 Q58.9434 826.639 52.2594 826.639 L32.9077 826.639 L32.9077 830.936 L28.3562 830.936 L28.3562 826.639 L18.2347 826.639 L18.2347 820.751 Z\" fill=\"#000000\" fill-rule=\"evenodd\" fill-opacity=\"1\" /><path clip-path=\"url(#clip600)\" d=\"M33.8307 780.329 Q33.2578 781.316 33.0032 782.493 Q32.7167 783.639 32.7167 785.04 Q32.7167 790.005 35.9632 792.678 Q39.1779 795.32 45.2253 795.32 L64.0042 795.32 L64.0042 801.208 L28.3562 801.208 L28.3562 795.32 L33.8944 795.32 Q30.6479 793.474 29.0883 790.514 Q27.4968 787.554 27.4968 783.321 Q27.4968 782.716 27.5923 781.984 Q27.656 781.252 27.8151 780.361 L33.8307 780.329 Z\" fill=\"#000000\" fill-rule=\"evenodd\" fill-opacity=\"1\" /><path clip-path=\"url(#clip600)\" d=\"M46.0847 757.985 Q46.0847 765.083 47.7079 767.82 Q49.3312 770.558 53.2461 770.558 Q56.3653 770.558 58.2114 768.521 Q60.0256 766.452 60.0256 762.919 Q60.0256 758.049 56.5881 755.121 Q53.1188 752.161 47.3897 752.161 L46.0847 752.161 L46.0847 757.985 M43.6657 746.304 L64.0042 746.304 L64.0042 752.161 L58.5933 752.161 Q61.8398 754.166 63.3994 757.158 Q64.9272 760.15 64.9272 764.478 Q64.9272 769.953 61.8716 773.199 Q58.7843 776.414 53.6281 776.414 Q47.6125 776.414 44.5569 772.404 Q41.5014 768.361 41.5014 760.372 L41.5014 752.161 L40.9285 752.161 Q36.8862 752.161 34.6901 754.834 Q32.4621 757.476 32.4621 762.282 Q32.4621 765.338 33.1941 768.234 Q33.9262 771.13 35.3903 773.804 L29.9795 773.804 Q28.7381 770.589 28.1334 767.566 Q27.4968 764.542 27.4968 761.677 Q27.4968 753.943 31.5072 750.124 Q35.5176 746.304 43.6657 746.304 Z\" fill=\"#000000\" fill-rule=\"evenodd\" fill-opacity=\"1\" /><path clip-path=\"url(#clip600)\" d=\"M14.479 734.241 L14.479 728.385 L64.0042 728.385 L64.0042 734.241 L14.479 734.241 Z\" fill=\"#000000\" fill-rule=\"evenodd\" fill-opacity=\"1\" /><path clip-path=\"url(#clip600)\" d=\"M28.3562 698.816 L28.3562 692.96 L56.1743 685.639 L28.3562 678.35 L28.3562 671.444 L56.1743 664.123 L28.3562 656.834 L28.3562 650.978 L64.0042 660.304 L64.0042 667.21 L34.7856 674.881 L64.0042 682.583 L64.0042 689.49 L28.3562 698.816 Z\" fill=\"#000000\" fill-rule=\"evenodd\" fill-opacity=\"1\" /><path clip-path=\"url(#clip600)\" d=\"M44.7161 611.606 L47.5806 611.606 L47.5806 638.533 Q53.6281 638.151 56.8109 634.904 Q59.9619 631.626 59.9619 625.801 Q59.9619 622.428 59.1344 619.277 Q58.3069 616.094 56.6518 612.974 L62.1899 612.974 Q63.5267 616.126 64.227 619.436 Q64.9272 622.746 64.9272 626.151 Q64.9272 634.682 59.9619 639.679 Q54.9967 644.644 46.5303 644.644 Q37.7774 644.644 32.6531 639.933 Q27.4968 635.191 27.4968 627.17 Q27.4968 619.977 32.1438 615.807 Q36.7589 611.606 44.7161 611.606 M42.9973 617.462 Q38.1912 617.526 35.3266 620.168 Q32.4621 622.778 32.4621 627.106 Q32.4621 632.008 35.2312 634.968 Q38.0002 637.896 43.0292 638.342 L42.9973 617.462 Z\" fill=\"#000000\" fill-rule=\"evenodd\" fill-opacity=\"1\" /><path clip-path=\"url(#clip600)\" d=\"M28.3562 601.994 L28.3562 596.137 L64.0042 596.137 L64.0042 601.994 L28.3562 601.994 M14.479 601.994 L14.479 596.137 L21.895 596.137 L21.895 601.994 L14.479 601.994 Z\" fill=\"#000000\" fill-rule=\"evenodd\" fill-opacity=\"1\" /><path clip-path=\"url(#clip600)\" d=\"M45.7664 560.426 Q39.4007 560.426 35.8996 563.067 Q32.3984 565.677 32.3984 570.42 Q32.3984 575.13 35.8996 577.772 Q39.4007 580.382 45.7664 580.382 Q52.1003 580.382 55.6014 577.772 Q59.1026 575.13 59.1026 570.42 Q59.1026 565.677 55.6014 563.067 Q52.1003 560.426 45.7664 560.426 M59.58 554.569 Q68.683 554.569 73.1071 558.611 Q77.5631 562.654 77.5631 570.993 Q77.5631 574.08 77.0857 576.817 Q76.6401 579.555 75.6852 582.133 L69.9879 582.133 Q71.3884 579.555 72.0568 577.04 Q72.7252 574.526 72.7252 571.916 Q72.7252 566.155 69.7015 563.29 Q66.7096 560.426 60.6303 560.426 L57.7339 560.426 Q60.885 562.24 62.4446 565.073 Q64.0042 567.905 64.0042 571.852 Q64.0042 578.409 59.0071 582.419 Q54.01 586.429 45.7664 586.429 Q37.491 586.429 32.4939 582.419 Q27.4968 578.409 27.4968 571.852 Q27.4968 567.905 29.0564 565.073 Q30.616 562.24 33.7671 560.426 L28.3562 560.426 L28.3562 554.569 L59.58 554.569 Z\" fill=\"#000000\" fill-rule=\"evenodd\" fill-opacity=\"1\" /><path clip-path=\"url(#clip600)\" d=\"M42.4881 512.874 L64.0042 512.874 L64.0042 518.73 L42.679 518.73 Q37.6183 518.73 35.1038 520.704 Q32.5894 522.677 32.5894 526.624 Q32.5894 531.366 35.6131 534.103 Q38.6368 536.841 43.8567 536.841 L64.0042 536.841 L64.0042 542.729 L14.479 542.729 L14.479 536.841 L33.8944 536.841 Q30.6797 534.74 29.0883 531.907 Q27.4968 529.043 27.4968 525.319 Q27.4968 519.176 31.3163 516.025 Q35.1038 512.874 42.4881 512.874 Z\" fill=\"#000000\" fill-rule=\"evenodd\" fill-opacity=\"1\" /><path clip-path=\"url(#clip600)\" d=\"M18.2347 495.4 L28.3562 495.4 L28.3562 483.337 L32.9077 483.337 L32.9077 495.4 L52.2594 495.4 Q56.6199 495.4 57.8613 494.222 Q59.1026 493.013 59.1026 489.352 L59.1026 483.337 L64.0042 483.337 L64.0042 489.352 Q64.0042 496.132 61.4897 498.71 Q58.9434 501.288 52.2594 501.288 L32.9077 501.288 L32.9077 505.585 L28.3562 505.585 L28.3562 501.288 L18.2347 501.288 L18.2347 495.4 Z\" fill=\"#000000\" fill-rule=\"evenodd\" fill-opacity=\"1\" /><polyline clip-path=\"url(#clip602)\" style=\"stroke:#009af9; stroke-linecap:round; stroke-linejoin:round; stroke-width:8; stroke-opacity:1; fill:none\" points=\"\n",
       "  308.871,125.379 309.826,125.38 310.782,125.381 311.737,125.382 312.693,125.385 313.648,125.388 314.604,125.391 315.559,125.395 316.515,125.4 317.471,125.405 \n",
       "  318.426,125.411 319.382,125.416 320.337,125.423 321.293,125.429 322.248,125.436 323.204,125.443 324.159,125.449 325.115,125.456 326.071,125.463 327.026,125.47 \n",
       "  327.982,125.476 328.937,125.483 329.893,125.489 330.848,125.494 331.804,125.499 332.759,125.504 333.715,125.509 334.67,125.513 335.626,125.516 336.582,125.519 \n",
       "  337.537,125.521 338.493,125.523 339.448,125.525 340.404,125.526 341.359,125.526 342.315,125.526 343.27,125.526 344.226,125.525 345.182,125.524 346.137,125.523 \n",
       "  347.093,125.521 348.048,125.52 349.004,125.518 349.959,125.516 350.915,125.515 351.87,125.513 352.826,125.511 353.782,125.51 354.737,125.509 355.693,125.509 \n",
       "  356.648,125.508 357.604,125.509 358.559,125.51 359.515,125.511 360.47,125.513 361.426,125.516 362.381,125.519 363.337,125.523 364.293,125.528 365.248,125.534 \n",
       "  366.204,125.541 367.159,125.549 368.115,125.557 369.07,125.567 370.026,125.577 370.981,125.588 371.937,125.6 372.893,125.613 373.848,125.627 374.804,125.642 \n",
       "  375.759,125.658 376.715,125.675 377.67,125.692 378.626,125.71 379.581,125.729 380.537,125.749 381.493,125.769 382.448,125.79 383.404,125.812 384.359,125.834 \n",
       "  385.315,125.857 386.27,125.88 387.226,125.904 388.181,125.928 389.137,125.953 390.092,125.978 391.048,126.004 392.004,126.03 392.959,126.056 393.915,126.083 \n",
       "  394.87,126.11 395.826,126.138 396.781,126.165 397.737,126.194 398.692,126.222 399.648,126.251 400.604,126.281 401.559,126.31 402.515,126.341 403.47,126.371 \n",
       "  404.426,126.403 405.381,126.435 406.337,126.467 407.292,126.5 408.248,126.534 409.204,126.569 410.159,126.604 411.115,126.641 412.07,126.678 413.026,126.716 \n",
       "  413.981,126.755 414.937,126.796 415.892,126.837 416.848,126.88 417.803,126.925 418.759,126.97 419.715,127.017 420.67,127.066 421.626,127.116 422.581,127.168 \n",
       "  423.537,127.222 424.492,127.277 425.448,127.335 426.403,127.394 427.359,127.455 428.315,127.519 429.27,127.584 430.226,127.652 431.181,127.722 432.137,127.795 \n",
       "  433.092,127.87 434.048,127.947 435.003,128.027 435.959,128.109 436.915,128.194 437.87,128.282 438.826,128.373 439.781,128.466 440.737,128.562 441.692,128.661 \n",
       "  442.648,128.763 443.603,128.868 444.559,128.976 445.514,129.087 446.47,129.202 447.426,129.319 448.381,129.439 449.337,129.563 450.292,129.69 451.248,129.82 \n",
       "  452.203,129.954 453.159,130.09 454.114,130.23 455.07,130.373 456.026,130.52 456.981,130.67 457.937,130.823 458.892,130.979 459.848,131.139 460.803,131.302 \n",
       "  461.759,131.468 462.714,131.637 463.67,131.81 464.626,131.986 465.581,132.164 466.537,132.346 467.492,132.531 468.448,132.719 469.403,132.909 470.359,133.103 \n",
       "  471.314,133.299 472.27,133.498 473.225,133.7 474.181,133.904 475.137,134.111 476.092,134.32 477.048,134.531 478.003,134.745 478.959,134.961 479.914,135.179 \n",
       "  480.87,135.399 481.825,135.62 482.781,135.844 483.737,136.069 484.692,136.296 485.648,136.525 486.603,136.754 487.559,136.986 488.514,137.218 489.47,137.452 \n",
       "  490.425,137.687 491.381,137.922 492.337,138.159 493.292,138.397 494.248,138.635 495.203,138.874 496.159,139.114 497.114,139.354 498.07,139.595 499.025,139.836 \n",
       "  499.981,140.078 500.936,140.32 501.892,140.562 502.848,140.804 503.803,141.047 504.759,141.29 505.714,141.532 506.67,141.775 507.625,142.017 508.581,142.26 \n",
       "  509.536,142.502 510.492,142.744 511.448,142.985 512.403,143.226 513.359,143.467 514.314,143.707 515.27,143.946 516.225,144.185 517.181,144.423 518.136,144.66 \n",
       "  519.092,144.896 520.048,145.131 521.003,145.365 521.959,145.597 522.914,145.829 523.87,146.059 524.825,146.288 525.781,146.514 526.736,146.74 527.692,146.963 \n",
       "  528.647,147.185 529.603,147.404 530.559,147.622 531.514,147.837 532.47,148.05 533.425,148.26 534.381,148.468 535.336,148.673 536.292,148.875 537.247,149.074 \n",
       "  538.203,149.271 539.159,149.464 540.114,149.654 541.07,149.84 542.025,150.023 542.981,150.202 543.936,150.378 544.892,150.549 545.847,150.717 546.803,150.881 \n",
       "  547.759,151.04 548.714,151.195 549.67,151.346 550.625,151.493 551.581,151.635 552.536,151.773 553.492,151.906 554.447,152.034 555.403,152.157 556.358,152.276 \n",
       "  557.314,152.39 558.27,152.498 559.225,152.602 560.181,152.701 561.136,152.795 562.092,152.884 563.047,152.968 564.003,153.046 564.958,153.12 565.914,153.189 \n",
       "  566.87,153.252 567.825,153.311 568.781,153.364 569.736,153.413 570.692,153.457 571.647,153.495 572.603,153.529 573.558,153.558 574.514,153.582 575.47,153.601 \n",
       "  576.425,153.616 577.381,153.626 578.336,153.632 579.292,153.633 580.247,153.63 581.203,153.623 582.158,153.62 583.114,153.62 584.069,153.62 585.025,153.62 \n",
       "  585.981,153.62 586.936,153.62 587.892,153.619 588.847,153.619 589.803,153.618 590.758,153.618 591.714,153.617 592.669,153.616 593.625,153.615 594.581,153.613 \n",
       "  595.536,153.611 596.492,153.608 597.447,153.606 598.403,153.602 599.358,153.598 600.314,153.594 601.269,153.589 602.225,153.583 603.181,153.576 604.136,153.569 \n",
       "  605.092,153.56 606.047,153.551 607.003,153.541 607.958,153.529 608.914,153.517 609.869,153.503 610.825,153.488 611.78,153.472 612.736,153.454 613.692,153.435 \n",
       "  614.647,153.414 615.603,153.392 616.558,153.368 617.514,153.342 618.469,153.315 619.425,153.286 620.38,153.255 621.336,153.222 622.292,153.188 623.247,153.151 \n",
       "  624.203,153.112 625.158,153.071 626.114,153.028 627.069,152.983 628.025,152.935 628.98,152.886 629.936,152.834 630.892,152.78 631.847,152.723 632.803,152.664 \n",
       "  633.758,152.602 634.714,152.538 635.669,152.472 636.625,152.403 637.58,152.331 638.536,152.257 639.491,152.181 640.447,152.101 641.403,152.019 642.358,151.934 \n",
       "  643.314,151.846 644.269,151.756 645.225,151.663 646.18,151.567 647.136,151.468 648.091,151.366 649.047,151.261 650.003,151.153 650.958,151.043 651.914,150.929 \n",
       "  652.869,150.813 653.825,150.693 654.78,150.571 655.736,150.446 656.691,150.318 657.647,150.187 658.603,150.053 659.558,149.917 660.514,149.778 661.469,149.636 \n",
       "  662.425,149.492 663.38,149.345 664.336,149.197 665.291,149.046 666.247,148.892 667.202,148.737 668.158,148.581 669.114,148.422 670.069,148.263 671.025,148.101 \n",
       "  671.98,147.939 672.936,147.776 673.891,147.612 674.847,147.448 675.802,147.283 676.758,147.118 677.714,146.954 678.669,146.79 679.625,146.626 680.58,146.463 \n",
       "  681.536,146.301 682.491,146.14 683.447,145.981 684.402,145.823 685.358,145.668 686.314,145.514 687.269,145.363 688.225,145.214 689.18,145.068 690.136,144.924 \n",
       "  691.091,144.784 692.047,144.647 693.002,144.514 693.958,144.384 694.913,144.257 695.869,144.134 696.825,144.016 697.78,143.901 698.736,143.79 699.691,143.684 \n",
       "  700.647,143.581 701.602,143.483 702.558,143.39 703.513,143.3 704.469,143.216 705.425,143.135 706.38,143.06 707.336,142.988 708.291,142.922 709.247,142.86 \n",
       "  710.202,142.802 711.158,142.75 712.113,142.702 713.069,142.658 714.024,142.62 714.98,142.586 715.936,142.557 716.891,142.533 717.847,142.514 718.802,142.5 \n",
       "  719.758,142.49 720.713,142.486 721.669,142.487 722.624,142.492 723.58,142.503 724.536,142.519 725.491,142.54 726.447,142.566 727.402,142.597 728.358,142.633 \n",
       "  729.313,142.674 730.269,142.72 731.224,142.771 732.18,142.827 733.136,142.887 734.091,142.953 735.047,143.023 736.002,143.098 736.958,143.177 737.913,143.261 \n",
       "  738.869,143.349 739.824,143.441 740.78,143.538 741.735,143.638 742.691,143.743 743.647,143.851 744.602,143.963 745.558,144.078 746.513,144.197 747.469,144.32 \n",
       "  748.424,144.445 749.38,144.574 750.335,144.706 751.291,144.841 752.247,144.979 753.202,145.119 754.158,145.262 755.113,145.408 756.069,145.556 757.024,145.707 \n",
       "  757.98,145.86 758.935,146.015 759.891,146.173 760.847,146.332 761.802,146.494 762.758,146.658 763.713,146.823 764.669,146.99 765.624,147.159 766.58,147.329 \n",
       "  767.535,147.5 768.491,147.673 769.446,147.848 770.402,148.023 771.358,148.199 772.313,148.376 773.269,148.554 774.224,148.732 775.18,148.911 776.135,149.09 \n",
       "  777.091,149.268 778.046,149.447 779.002,149.626 779.958,149.804 780.913,149.982 781.869,150.159 782.824,150.335 783.78,150.509 784.735,150.683 785.691,150.854 \n",
       "  786.646,151.025 787.602,151.193 788.558,151.359 789.513,151.522 790.469,151.684 791.424,151.842 792.38,151.998 793.335,152.15 794.291,152.299 795.246,152.445 \n",
       "  796.202,152.586 797.157,152.724 798.113,152.858 799.069,152.988 800.024,153.113 800.98,153.234 801.935,153.351 802.891,153.462 803.846,153.569 804.802,153.671 \n",
       "  805.757,153.768 806.713,153.86 807.669,153.947 808.624,154.029 809.58,154.106 810.535,154.177 811.491,154.244 812.446,154.305 813.402,154.361 814.357,154.412 \n",
       "  815.313,154.459 816.269,154.5 817.224,154.536 818.18,154.568 819.135,154.595 820.091,154.617 821.046,154.634 822.002,154.647 822.957,154.656 823.913,154.661 \n",
       "  824.868,154.661 825.824,154.657 826.78,154.647 827.735,154.632 828.691,154.611 829.646,154.586 830.602,154.557 831.557,154.523 832.513,154.485 833.468,154.443 \n",
       "  834.424,154.399 835.38,154.351 836.335,154.3 837.291,154.247 838.246,154.192 839.202,154.136 840.157,154.078 841.113,154.019 842.068,153.96 843.024,153.901 \n",
       "  843.98,153.841 844.935,153.783 845.891,153.725 846.846,153.668 847.802,153.613 848.757,153.56 849.713,153.509 850.668,153.46 851.624,153.415 852.579,153.372 \n",
       "  853.535,153.333 854.491,153.298 855.446,153.266 856.402,153.239 857.357,153.216 858.313,153.197 859.268,153.183 860.224,153.175 861.179,153.171 862.135,153.172 \n",
       "  863.091,153.179 864.046,153.192 865.002,153.21 865.957,153.233 866.913,153.263 867.868,153.298 868.824,153.339 869.779,153.387 870.735,153.44 871.691,153.499 \n",
       "  872.646,153.564 873.602,153.635 874.557,153.712 875.513,153.796 876.468,153.885 877.424,153.981 878.379,154.082 879.335,154.19 880.29,154.304 881.246,154.424 \n",
       "  882.202,154.55 883.157,154.682 884.113,154.82 885.068,154.965 886.024,155.116 886.979,155.274 887.935,155.438 888.89,155.608 889.846,155.785 890.802,155.969 \n",
       "  891.757,156.16 892.713,156.358 893.668,156.563 894.624,156.775 895.579,156.994 896.535,157.22 897.49,157.454 898.446,157.696 899.402,157.945 900.357,158.202 \n",
       "  901.313,158.466 902.268,158.738 903.224,159.018 904.179,159.306 905.135,159.602 906.09,159.905 907.046,160.216 908.001,160.534 908.957,160.86 909.913,161.194 \n",
       "  910.868,161.535 911.824,161.882 912.779,162.237 913.735,162.599 914.69,162.967 915.646,163.342 916.601,163.723 917.557,164.109 918.513,164.502 919.468,164.9 \n",
       "  920.424,165.303 921.379,165.711 922.335,166.124 923.29,166.541 924.246,166.962 925.201,167.387 926.157,167.815 927.113,168.246 928.068,168.68 929.024,169.116 \n",
       "  929.979,169.554 930.935,169.993 931.89,170.434 932.846,170.876 933.801,171.318 934.757,171.76 935.712,172.202 936.668,172.642 937.624,173.082 938.579,173.52 \n",
       "  939.535,173.956 940.49,174.389 941.446,174.819 942.401,175.246 943.357,175.668 944.312,176.087 945.268,176.5 946.224,176.909 947.179,177.312 948.135,177.708 \n",
       "  949.09,178.099 950.046,178.482 951.001,178.858 951.957,179.226 952.912,179.587 953.868,179.939 954.824,180.282 955.779,180.615 956.735,180.94 957.69,181.255 \n",
       "  958.646,181.559 959.601,181.854 960.557,182.138 961.512,182.411 962.468,182.674 963.423,182.925 964.379,183.165 965.335,183.394 966.29,183.612 967.246,183.818 \n",
       "  968.201,184.013 969.157,184.196 970.112,184.369 971.068,184.529 972.023,184.679 972.979,184.818 973.935,184.946 974.89,185.063 975.846,185.169 976.801,185.266 \n",
       "  977.757,185.352 978.712,185.429 979.668,185.496 980.623,185.554 981.579,185.604 982.535,185.645 983.49,185.679 984.446,185.704 985.401,185.723 986.357,185.735 \n",
       "  987.312,185.741 988.268,185.741 989.223,185.735 990.179,185.725 991.134,185.71 992.09,185.692 993.046,185.669 994.001,185.644 994.957,185.616 995.912,185.586 \n",
       "  996.868,185.555 997.823,185.522 998.779,185.489 999.734,185.455 1000.69,185.422 1001.65,185.389 1002.6,185.358 1003.56,185.328 1004.51,185.3 1005.47,185.274 \n",
       "  1006.42,185.252 1007.38,185.233 1008.33,185.218 1009.29,185.207 1010.25,185.201 1011.2,185.2 1012.16,185.204 1013.11,185.215 1014.07,185.231 1015.02,185.255 \n",
       "  1015.98,185.285 1016.93,185.323 1017.89,185.369 1018.85,185.423 1019.8,185.486 1020.76,185.557 1021.71,185.638 1022.67,185.729 1023.62,185.829 1024.58,185.94 \n",
       "  1025.53,186.062 1026.49,186.195 1027.45,186.339 1028.4,186.494 1029.36,186.661 1030.31,186.841 1031.27,187.033 1032.22,187.238 1033.18,187.456 1034.13,187.687 \n",
       "  1035.09,187.931 1036.05,188.189 1037,188.461 1037.96,188.746 1038.91,189.046 1039.87,189.36 1040.82,189.689 1041.78,190.032 1042.73,190.39 1043.69,190.762 \n",
       "  1044.65,191.15 1045.6,191.552 1046.56,191.968 1047.51,192.4 1048.47,192.846 1049.42,193.307 1050.38,193.783 1051.33,194.274 1052.29,194.779 1053.25,195.298 \n",
       "  1054.2,195.832 1055.16,196.38 1056.11,196.942 1057.07,197.518 1058.02,198.108 1058.98,198.711 1059.93,199.327 1060.89,199.956 1061.85,200.598 1062.8,201.252 \n",
       "  1063.76,201.919 1064.71,202.597 1065.67,203.286 1066.62,203.986 1067.58,204.696 1068.53,205.417 1069.49,206.147 1070.45,206.886 1071.4,207.633 1072.36,208.388 \n",
       "  1073.31,209.15 1074.27,209.919 1075.22,210.694 1076.18,211.474 1077.13,212.259 1078.09,213.048 1079.05,213.84 1080,214.634 1080.96,215.431 1081.91,216.228 \n",
       "  1082.87,217.026 1083.82,217.824 1084.78,218.621 1085.73,219.416 1086.69,220.208 1087.65,220.998 1088.6,221.784 1089.56,222.566 1090.51,223.343 1091.47,224.115 \n",
       "  1092.42,224.881 1093.38,225.64 1094.33,226.392 1095.29,227.137 1096.25,227.874 1097.2,228.603 1098.16,229.324 1099.11,230.035 1100.07,230.737 1101.02,231.429 \n",
       "  1101.98,232.111 1102.93,232.783 1103.89,233.445 1104.85,234.095 1105.8,234.735 1106.76,235.363 1107.71,235.979 1108.67,236.584 1109.62,237.177 1110.58,237.757 \n",
       "  1111.53,238.325 1112.49,238.88 1113.45,239.422 1114.4,239.951 1115.36,240.467 1116.31,240.969 1117.27,241.457 1118.22,241.932 1119.18,242.392 1120.13,242.838 \n",
       "  1121.09,243.27 1122.05,243.687 1123,244.089 1123.96,244.476 1124.91,244.848 1125.87,245.204 1126.82,245.546 1127.78,245.872 1128.73,246.182 1129.69,246.477 \n",
       "  1130.65,246.756 1131.6,247.019 1132.56,247.267 1133.51,247.5 1134.47,247.717 1135.42,247.918 1136.38,248.105 1137.33,248.276 1138.29,248.433 1139.24,248.575 \n",
       "  1140.2,248.703 1141.16,248.818 1142.11,248.919 1143.07,249.007 1144.02,249.083 1144.98,249.147 1145.93,249.2 1146.89,249.242 1147.84,249.274 1148.8,249.296 \n",
       "  1149.76,249.31 1150.71,249.316 1151.67,249.314 1152.62,249.306 1153.58,249.292 1154.53,249.273 1155.49,249.25 1156.44,249.224 1157.4,249.194 1158.36,249.163 \n",
       "  1159.31,249.131 1160.27,249.099 1161.22,249.067 1162.18,249.036 1163.13,249.007 1164.09,248.981 1165.04,248.958 1166,248.94 1166.96,248.926 1167.91,248.918 \n",
       "  1168.87,248.917 1169.82,248.922 1170.78,248.934 1171.73,248.955 1172.69,248.985 1173.64,249.024 1174.6,249.073 1175.56,249.133 1176.51,249.203 1177.47,249.285 \n",
       "  1178.42,249.379 1179.38,249.486 1180.33,249.606 1181.29,249.739 1182.24,249.886 1183.2,250.047 1184.16,250.223 1185.11,250.414 1186.07,250.621 1187.02,250.843 \n",
       "  1187.98,251.082 1188.93,251.337 1189.89,251.609 1190.84,251.898 1191.8,252.204 1192.76,252.528 1193.71,252.871 1194.67,253.231 1195.62,253.611 1196.58,254.009 \n",
       "  1197.53,254.426 1198.49,254.863 1199.44,255.319 1200.4,255.796 1201.36,256.292 1202.31,256.809 1203.27,257.346 1204.22,257.904 1205.18,258.484 1206.13,259.084 \n",
       "  1207.09,259.705 1208.04,260.348 1209,261.012 1209.96,261.698 1210.91,262.406 1211.87,263.136 1212.82,263.887 1213.78,264.66 1214.73,265.454 1215.69,266.271 \n",
       "  1216.64,267.109 1217.6,267.968 1218.56,268.849 1219.51,269.751 1220.47,270.674 1221.42,271.618 1222.38,272.583 1223.33,273.568 1224.29,274.573 1225.24,275.598 \n",
       "  1226.2,276.642 1227.16,277.706 1228.11,278.788 1229.07,279.889 1230.02,281.009 1230.98,282.145 1231.93,283.3 1232.89,284.471 1233.84,285.658 1234.8,286.861 \n",
       "  1235.76,288.08 1236.71,289.314 1237.67,290.562 1238.62,291.823 1239.58,293.098 1240.53,294.385 1241.49,295.685 1242.44,296.995 1243.4,298.316 1244.36,299.647 \n",
       "  1245.31,300.987 1246.27,302.335 1247.22,303.691 1248.18,305.053 1249.13,306.421 1250.09,307.794 1251.04,309.17 1252,310.55 1252.96,311.932 1253.91,313.315 \n",
       "  1254.87,314.699 1255.82,316.081 1256.78,317.462 1257.73,318.84 1258.69,320.215 1259.64,321.585 1260.6,322.949 1261.56,324.307 1262.51,325.658 1263.47,327 \n",
       "  1264.42,328.332 1265.38,329.654 1266.33,330.965 1267.29,332.263 1268.24,333.549 1269.2,334.82 1270.16,336.075 1271.11,337.315 1272.07,338.538 1273.02,339.742 \n",
       "  1273.98,340.928 1274.93,342.093 1275.89,343.238 1276.84,344.36 1277.8,345.46 1278.76,346.535 1279.71,347.586 1280.67,348.611 1281.62,349.61 1282.58,350.58 \n",
       "  1283.53,351.522 1284.49,352.435 1285.44,353.318 1286.4,354.169 1287.36,354.989 1288.31,355.776 1289.27,356.531 1290.22,357.251 1291.18,357.938 1292.13,358.591 \n",
       "  1293.09,359.209 1294.04,359.792 1295,360.34 1295.96,360.854 1296.91,361.332 1297.87,361.777 1298.82,362.187 1299.78,362.564 1300.73,362.907 1301.69,363.219 \n",
       "  1302.64,363.499 1303.6,363.748 1304.56,363.969 1305.51,364.161 1306.47,364.326 1307.42,364.466 1308.38,364.582 1309.33,364.675 1310.29,364.748 1311.24,364.801 \n",
       "  1312.2,364.837 1313.16,364.858 1314.11,364.865 1315.07,364.86 1316.02,364.845 1316.98,364.822 1317.93,364.793 1318.89,364.76 1319.84,364.725 1320.8,364.688 \n",
       "  1321.76,364.653 1322.71,364.621 1323.67,364.594 1324.62,364.572 1325.58,364.559 1326.53,364.555 1327.49,364.562 1328.44,364.581 1329.4,364.613 1330.36,364.66 \n",
       "  1331.31,364.722 1332.27,364.802 1333.22,364.899 1334.18,365.015 1335.13,365.15 1336.09,365.306 1337.04,365.484 1338,365.683 1338.96,365.904 1339.91,366.148 \n",
       "  1340.87,366.416 1341.82,366.708 1342.78,367.025 1343.73,367.366 1344.69,367.733 1345.64,368.125 1346.6,368.543 1347.56,368.988 1348.51,369.459 1349.47,369.958 \n",
       "  1350.42,370.483 1351.38,371.036 1352.33,371.617 1353.29,372.225 1354.24,372.863 1355.2,373.529 1356.16,374.224 1357.11,374.948 1358.07,375.702 1359.02,376.487 \n",
       "  1359.98,377.301 1360.93,378.147 1361.89,379.024 1362.84,379.934 1363.8,380.875 1364.76,381.85 1365.71,382.858 1366.67,383.9 1367.62,384.977 1368.58,386.09 \n",
       "  1369.53,387.239 1370.49,388.424 1371.44,389.647 1372.4,390.909 1373.36,392.209 1374.31,393.55 1375.27,394.931 1376.22,396.354 1377.18,397.819 1378.13,399.327 \n",
       "  1379.09,400.879 1380.04,402.475 1381,404.117 1381.96,405.805 1382.91,407.539 1383.87,409.321 1384.82,411.152 1385.78,413.031 1386.73,414.959 1387.69,416.937 \n",
       "  1388.64,418.966 1389.6,421.045 1390.56,423.176 1391.51,425.358 1392.47,427.593 1393.42,429.88 1394.38,432.219 1395.33,434.612 1396.29,437.057 1397.24,439.556 \n",
       "  1398.2,442.108 1399.16,444.713 1400.11,447.372 1401.07,450.084 1402.02,452.848 1402.98,455.666 1403.93,458.537 1404.89,461.46 1405.84,464.435 1406.8,467.462 \n",
       "  1407.75,470.539 1408.71,473.668 1409.67,476.846 1410.62,480.073 1411.58,483.348 1412.53,486.671 1413.49,490.04 1414.44,493.454 1415.4,496.912 1416.35,500.413 \n",
       "  1417.31,503.954 1418.27,507.535 1419.22,511.154 1420.18,514.808 1421.13,518.497 1422.09,522.217 1423.04,525.967 1424,529.744 1424.95,533.547 1425.91,537.371 \n",
       "  1426.87,541.216 1427.82,545.077 1428.78,548.952 1429.73,552.839 1430.69,556.733 1431.64,560.632 1432.6,564.533 1433.55,568.432 1434.51,572.326 1435.47,576.21 \n",
       "  1436.42,580.082 1437.38,583.938 1438.33,587.773 1439.29,591.584 1440.24,595.367 1441.2,599.117 1442.15,602.83 1443.11,606.503 1444.07,610.13 1445.02,613.707 \n",
       "  1445.98,617.229 1446.93,620.692 1447.89,624.091 1448.84,627.421 1449.8,630.678 1450.75,633.857 1451.71,636.952 1452.67,639.959 1453.62,642.874 1454.58,645.693 \n",
       "  1455.53,648.41 1456.49,651.021 1457.44,653.524 1458.4,655.913 1459.35,658.186 1460.31,660.341 1461.27,662.373 1462.22,664.282 1463.18,666.065 1464.13,667.721 \n",
       "  1465.09,669.25 1466.04,670.652 1467,671.926 1467.95,673.074 1468.91,674.097 1469.87,674.997 1470.82,675.775 1471.78,676.436 1472.73,676.982 1473.69,677.417 \n",
       "  1474.64,677.744 1475.6,677.969 1476.55,678.095 1477.51,678.127 1478.47,678.069 1479.42,677.928 1480.38,677.708 1481.33,677.414 1482.29,677.051 1483.24,676.624 \n",
       "  1484.2,676.137 1485.15,675.596 1486.11,675.004 1487.07,674.367 1488.02,673.687 1488.98,672.969 1489.93,672.216 1490.89,671.43 1491.84,670.616 1492.8,669.775 \n",
       "  1493.75,668.91 1494.71,668.021 1495.67,667.112 1496.62,666.182 1497.58,665.234 1498.53,664.267 1499.49,663.282 1500.44,662.279 1501.4,661.258 1502.35,660.218 \n",
       "  1503.31,659.16 1504.27,658.082 1505.22,656.983 1506.18,655.862 1507.13,654.719 1508.09,653.551 1509.04,652.359 1510,651.139 1510.95,649.892 1511.91,648.615 \n",
       "  1512.87,647.308 1513.82,645.968 1514.78,644.595 1515.73,643.187 1516.69,641.744 1517.64,640.265 1518.6,638.747 1519.55,637.191 1520.51,635.597 1521.47,633.962 \n",
       "  1522.42,632.288 1523.38,630.574 1524.33,628.819 1525.29,627.025 1526.24,625.19 1527.2,623.316 1528.15,621.404 1529.11,619.453 1530.07,617.464 1531.02,615.44 \n",
       "  1531.98,613.38 1532.93,611.287 1533.89,609.161 1534.84,607.004 1535.8,604.818 1536.75,602.605 1537.71,600.366 1538.67,598.104 1539.62,595.82 1540.58,593.516 \n",
       "  1541.53,591.196 1542.49,588.86 1543.44,586.512 1544.4,584.154 1545.35,581.788 1546.31,579.416 1547.27,577.041 1548.22,574.666 1549.18,572.293 1550.13,569.924 \n",
       "  1551.09,567.561 1552.04,565.207 1553,562.864 1553.95,560.535 1554.91,558.221 1555.87,555.925 1556.82,553.649 1557.78,551.394 1558.73,549.162 1559.69,546.955 \n",
       "  1560.64,544.775 1561.6,542.624 1562.55,540.502 1563.51,538.411 1564.47,536.352 1565.42,534.327 1566.38,532.336 1567.33,530.38 1568.29,528.461 1569.24,526.578 \n",
       "  1570.2,524.732 1571.15,522.925 1572.11,521.156 1573.07,519.426 1574.02,517.735 1574.98,516.083 1575.93,514.471 1576.89,512.899 1577.84,511.366 1578.8,509.872 \n",
       "  1579.75,508.419 1580.71,507.004 1581.67,505.629 1582.62,504.294 1583.58,502.997 1584.53,501.739 1585.49,500.519 1586.44,499.338 1587.4,498.194 1588.35,497.088 \n",
       "  1589.31,496.019 1590.27,494.987 1591.22,493.991 1592.18,493.032 1593.13,492.107 1594.09,491.218 1595.04,490.363 1596,489.542 1596.95,488.756 1597.91,488.002 \n",
       "  1598.87,487.281 1599.82,486.593 1600.78,485.936 1601.73,485.311 1602.69,484.716 1603.64,484.153 1604.6,483.619 1605.55,483.115 1606.51,482.641 1607.47,482.195 \n",
       "  1608.42,481.778 1609.38,481.388 1610.33,481.027 1611.29,480.692 1612.24,480.385 1613.2,480.104 1614.15,479.848 1615.11,479.618 1616.07,479.413 1617.02,479.233 \n",
       "  1617.98,479.076 1618.93,478.943 1619.89,478.831 1620.84,478.742 1621.8,478.673 1622.75,478.625 1623.71,478.595 1624.67,478.583 1625.62,478.587 1626.58,478.607 \n",
       "  1627.53,478.641 1628.49,478.687 1629.44,478.743 1630.4,478.809 1631.35,478.881 1632.31,478.958 1633.27,479.037 1634.22,479.116 1635.18,479.193 1636.13,479.265 \n",
       "  1637.09,479.329 1638.04,479.382 1639,479.421 1639.95,479.444 1640.91,479.447 1641.87,479.427 1642.82,479.38 1643.78,479.304 1644.73,479.195 1645.69,479.049 \n",
       "  1646.64,478.864 1647.6,478.636 1648.55,478.363 1649.51,478.041 1650.47,477.668 1651.42,477.241 1652.38,476.758 1653.33,476.216 1654.29,475.614 1655.24,474.95 \n",
       "  1656.2,474.223 1657.15,473.432 1658.11,472.575 1659.07,471.654 1660.02,470.667 1660.98,469.615 1661.93,468.498 1662.89,467.318 1663.84,466.076 1664.8,464.772 \n",
       "  1665.75,463.41 1666.71,461.99 1667.67,460.515 1668.62,458.988 1669.58,457.41 1670.53,455.784 1671.49,454.114 1672.44,452.401 1673.4,450.648 1674.35,448.859 \n",
       "  1675.31,447.036 1676.26,445.182 1677.22,443.299 1678.18,441.39 1679.13,439.458 1680.09,437.505 1681.04,435.533 1682,433.545 1682.95,431.543 1683.91,429.529 \n",
       "  1684.86,427.504 1685.82,425.471 1686.78,423.431 1687.73,421.385 1688.69,419.336 1689.64,417.284 1690.6,415.231 1691.55,413.177 1692.51,411.125 1693.46,409.074 \n",
       "  1694.42,407.026 1695.38,404.982 1696.33,402.943 1697.29,400.908 1698.24,398.879 1699.2,396.857 1700.15,394.842 1701.11,392.834 1702.06,390.835 1703.02,388.845 \n",
       "  1703.98,386.866 1704.93,384.9 1705.89,382.949 1706.84,381.012 1707.8,379.089 1708.75,377.181 1709.71,375.287 1710.66,373.409 1711.62,371.547 1712.58,369.7 \n",
       "  1713.53,367.87 1714.49,366.056 1715.44,364.26 1716.4,362.481 1717.35,360.72 1718.31,358.978 1719.26,357.256 1720.22,355.553 1721.18,353.87 1722.13,352.209 \n",
       "  1723.09,350.569 1724.04,348.951 1725,347.356 1725.95,345.785 1726.91,344.237 1727.86,342.714 1728.82,341.216 1729.78,339.744 1730.73,338.298 1731.69,336.878 \n",
       "  1732.64,335.485 1733.6,334.12 1734.55,332.782 1735.51,331.473 1736.46,330.192 1737.42,328.939 1738.38,327.715 1739.33,326.521 1740.29,325.355 1741.24,324.219 \n",
       "  1742.2,323.112 1743.15,322.034 1744.11,320.986 1745.06,319.967 1746.02,318.977 1746.98,318.016 1747.93,317.084 1748.89,316.18 1749.84,315.305 1750.8,314.459 \n",
       "  1751.75,313.64 1752.71,312.849 1753.66,312.086 1754.62,311.349 1755.58,310.64 1756.53,309.957 1757.49,309.301 1758.44,308.67 1759.4,308.065 1760.35,307.486 \n",
       "  1761.31,306.931 1762.26,306.4 1763.22,305.893 1764.18,305.411 1765.13,304.951 1766.09,304.514 1767.04,304.1 1768,303.708 1768.95,303.337 1769.91,302.988 \n",
       "  1770.86,302.659 1771.82,302.351 1772.78,302.063 1773.73,301.794 1774.69,301.544 1775.64,301.313 1776.6,301.101 1777.55,300.906 1778.51,300.729 1779.46,300.568 \n",
       "  1780.42,300.425 1781.38,300.298 1782.33,300.186 1783.29,300.091 1784.24,300.01 1785.2,299.944 1786.15,299.893 1787.11,299.856 1788.06,299.833 1789.02,299.823 \n",
       "  1789.98,299.827 1790.93,299.843 1791.89,299.871 1792.84,299.912 1793.8,299.964 1794.75,300.028 1795.71,300.103 1796.66,300.188 1797.62,300.284 1798.58,300.39 \n",
       "  1799.53,300.505 1800.49,300.63 1801.44,300.763 1802.4,300.904 1803.35,301.053 1804.31,301.21 1805.26,301.374 1806.22,301.544 1807.18,301.72 1808.13,301.902 \n",
       "  1809.09,302.089 1810.04,302.281 1811,302.477 1811.95,302.676 1812.91,302.879 1813.86,303.085 1814.82,303.292 1815.78,303.502 1816.73,303.712 1817.69,303.923 \n",
       "  1818.64,304.135 1819.6,304.346 1820.55,304.556 1821.51,304.765 1822.46,304.972 1823.42,305.177 1824.38,305.38 1825.33,305.579 1826.29,305.774 1827.24,305.966 \n",
       "  1828.2,306.153 1829.15,306.335 1830.11,306.512 1831.06,306.684 1832.02,306.849 1832.98,307.008 1833.93,307.16 1834.89,307.306 1835.84,307.444 1836.8,307.574 \n",
       "  1837.75,307.697 1838.71,307.812 1839.66,307.919 1840.62,308.017 1841.58,308.107 1842.53,308.189 1843.49,308.261 1844.44,308.325 1845.4,308.38 1846.35,308.426 \n",
       "  1847.31,308.463 1848.26,308.491 1849.22,308.51 1850.18,308.52 1851.13,308.521 1852.09,308.513 1853.04,308.496 1854,308.47 1854.95,308.436 1855.91,308.393 \n",
       "  1856.86,308.342 1857.82,308.282 1858.78,308.214 1859.73,308.138 1860.69,308.053 1861.64,307.961 1862.6,307.861 1863.55,307.753 1864.51,307.638 1865.46,307.516 \n",
       "  1866.42,307.386 1867.38,307.25 1868.33,307.107 1869.29,306.957 1870.24,306.801 1871.2,306.639 1872.15,306.471 1873.11,306.297 1874.06,306.118 1875.02,305.934 \n",
       "  1875.98,305.744 1876.93,305.551 1877.89,305.353 1878.84,305.151 1879.8,304.945 1880.75,304.736 1881.71,304.524 1882.66,304.309 1883.62,304.092 1884.58,303.873 \n",
       "  1885.53,303.652 1886.49,303.43 1887.44,303.207 1888.4,302.984 1889.35,302.76 1890.31,302.537 1891.26,302.314 1892.22,302.092 1893.18,301.871 1894.13,301.652 \n",
       "  1895.09,301.435 1896.04,301.22 1897,301.008 1897.95,300.799 1898.91,300.593 1899.86,300.39 1900.82,300.192 1901.78,299.997 1902.73,299.807 1903.69,299.621 \n",
       "  1904.64,299.441 1905.6,299.265 1906.55,299.094 1907.51,298.929 1908.46,298.769 1909.42,298.615 1910.38,298.466 1911.33,298.323 1912.29,298.187 1913.24,298.055 \n",
       "  1914.2,297.93 1915.15,297.811 1916.11,297.697 1917.06,297.59 1918.02,297.488 1918.98,297.392 1919.93,297.302 1920.89,297.217 1921.84,297.138 1922.8,297.064 \n",
       "  1923.75,296.995 1924.71,296.931 1925.66,296.873 1926.62,296.819 1927.58,296.77 1928.53,296.725 1929.49,296.684 1930.44,296.648 1931.4,296.615 1932.35,296.586 \n",
       "  1933.31,296.56 1934.26,296.538 1935.22,296.519 1936.18,296.503 1937.13,296.489 1938.09,296.477 1939.04,296.468 1940,296.461 1940.95,296.456 1941.91,296.452 \n",
       "  1942.86,296.449 1943.82,296.447 1944.78,296.446 1945.73,296.446 1946.69,296.452 1947.64,296.479 1948.6,296.518 1949.55,296.569 1950.51,296.631 1951.46,296.705 \n",
       "  1952.42,296.791 1953.37,296.889 1954.33,296.999 1955.29,297.121 1956.24,297.256 1957.2,297.404 1958.15,297.565 1959.11,297.739 1960.06,297.926 1961.02,298.127 \n",
       "  1961.97,298.341 1962.93,298.57 1963.89,298.813 1964.84,299.071 1965.8,299.343 1966.75,299.631 1967.71,299.935 1968.66,300.254 1969.62,300.589 1970.57,300.941 \n",
       "  1971.53,301.31 1972.49,301.696 1973.44,302.1 1974.4,302.521 1975.35,302.961 1976.31,303.42 1977.26,303.898 1978.22,304.395 1979.17,304.912 1980.13,305.45 \n",
       "  1981.09,306.008 1982.04,306.587 1983,307.188 1983.95,307.81 1984.91,308.455 1985.86,309.122 1986.82,309.812 1987.77,310.525 1988.73,311.262 1989.69,312.023 \n",
       "  1990.64,312.809 1991.6,313.619 1992.55,314.453 1993.51,315.313 1994.46,316.199 1995.42,317.11 1996.37,318.048 1997.33,319.012 1998.29,320.002 1999.24,321.019 \n",
       "  2000.2,322.064 2001.15,323.135 2002.11,324.234 2003.06,325.36 2004.02,326.514 2004.97,327.696 2005.93,328.907 2006.89,330.145 2007.84,331.411 2008.8,332.706 \n",
       "  2009.75,334.03 2010.71,335.382 2011.66,336.762 2012.62,338.172 2013.57,339.61 2014.53,341.076 2015.49,342.572 2016.44,344.096 2017.4,345.649 2018.35,347.231 \n",
       "  2019.31,348.842 2020.26,350.482 2021.22,352.15 2022.17,353.847 2023.13,355.573 2024.09,357.327 2025.04,359.11 2026,360.922 2026.95,362.762 2027.91,364.63 \n",
       "  2028.86,366.527 2029.82,368.451 2030.77,370.404 2031.73,372.385 2032.69,374.394 2033.64,376.431 2034.6,378.496 2035.55,380.588 2036.51,382.707 2037.46,384.854 \n",
       "  2038.42,387.028 2039.37,389.229 2040.33,391.457 2041.29,393.712 2042.24,395.994 2043.2,398.301 2044.15,400.636 2045.11,402.996 2046.06,405.382 2047.02,407.794 \n",
       "  2047.97,410.231 2048.93,412.694 2049.89,415.182 2050.84,417.694 2051.8,420.231 2052.75,422.793 2053.71,425.379 2054.66,427.988 2055.62,430.621 2056.57,433.278 \n",
       "  2057.53,435.958 2058.49,438.66 2059.44,441.386 2060.4,444.133 2061.35,446.903 2062.31,449.695 2063.26,452.509 2064.22,455.344 2065.17,458.2 2066.13,461.078 \n",
       "  2067.09,463.977 2068.04,466.896 2069,469.837 2069.95,472.798 2070.91,475.779 2071.86,478.781 2072.82,481.804 2073.77,484.848 2074.73,487.912 2075.69,490.996 \n",
       "  2076.64,494.102 2077.6,497.228 2078.55,500.376 2079.51,503.544 2080.46,506.735 2081.42,509.947 2082.37,513.181 2083.33,516.437 2084.29,519.717 2085.24,523.019 \n",
       "  2086.2,526.344 2087.15,529.694 2088.11,533.067 2089.06,536.465 2090.02,539.889 2090.97,543.337 2091.93,546.811 2092.89,550.312 2093.84,553.839 2094.8,557.393 \n",
       "  2095.75,560.974 2096.71,564.583 2097.66,568.22 2098.62,571.885 2099.57,575.579 2100.53,579.302 2101.49,583.053 2102.44,586.834 2103.4,590.644 2104.35,594.483 \n",
       "  2105.31,598.352 2106.26,602.25 2107.22,606.177 2108.17,610.133 2109.13,614.119 2110.09,618.133 2111.04,622.175 2112,626.245 2112.95,630.343 2113.91,634.468 \n",
       "  2114.86,638.62 2115.82,642.798 2116.77,647.001 2117.73,651.229 2118.69,655.481 2119.64,659.756 2120.6,664.054 2121.55,668.373 2122.51,672.714 2123.46,677.074 \n",
       "  2124.42,681.454 2125.37,685.852 2126.33,690.268 2127.29,694.701 2128.24,699.149 2129.2,703.613 2130.15,708.092 2131.11,712.585 2132.06,717.092 2133.02,721.613 \n",
       "  2133.97,726.146 2134.93,730.693 2135.89,735.252 2136.84,739.824 2137.8,744.41 2138.75,749.01 2139.71,753.624 2140.66,758.253 2141.62,762.899 2142.57,767.562 \n",
       "  2143.53,772.244 2144.49,776.947 2145.44,781.671 2146.4,786.42 2147.35,791.196 2148.31,796 2149.26,800.835 2150.22,805.704 2151.17,810.611 2152.13,815.557 \n",
       "  2153.09,820.546 2154.04,825.582 2155,830.668 2155.95,835.808 2156.91,841.005 2157.86,846.263 2158.82,851.586 2159.77,856.979 2160.73,862.444 2161.69,867.986 \n",
       "  2162.64,873.61 2163.6,879.319 2164.55,885.118 2165.51,891.011 2166.46,897.002 2167.42,903.095 2168.37,909.296 2169.33,915.608 2170.29,922.035 2171.24,928.582 \n",
       "  2172.2,935.254 2173.15,942.054 2174.11,948.988 2175.06,956.059 2176.02,963.273 2176.97,970.634 2177.93,978.147 2178.89,985.816 2179.84,993.647 2180.8,1001.65 \n",
       "  2181.75,1009.82 2182.71,1018.16 2183.66,1026.7 2184.62,1035.42 2185.57,1044.34 2186.53,1053.46 2187.49,1062.79 2188.44,1072.35 2189.4,1082.13 2190.35,1092.15 \n",
       "  2191.31,1102.42 2192.26,1112.95 2193.22,1123.75 2194.17,1134.84 2195.13,1146.23 2196.09,1157.95 2197.04,1170 2198,1182.42 2198.95,1195.22 2199.91,1208.43 \n",
       "  2200.86,1222.08 2201.82,1236.21 2202.77,1250.85 2203.73,1266.05 2204.69,1281.83 2205.64,1298.25 2206.6,1315.35 2207.55,1333.16 2208.51,1351.71 2209.46,1371.01 \n",
       "  2210.42,1391 2211.37,1411.58 2212.33,1432.5 2213.29,1453.32 2214.24,1473.32 2215.2,1491.42 2216.15,1506.2 2217.11,1516.09 2218.06,1519.87 2219.02,1517.13 \n",
       "  \n",
       "  \"/>\n",
       "<polyline clip-path=\"url(#clip602)\" style=\"stroke:#e26f46; stroke-linecap:round; stroke-linejoin:round; stroke-width:8; stroke-opacity:1; fill:none\" points=\"\n",
       "  308.871,6814.22 309.826,1904.26 310.782,1746.08 311.737,1652.76 312.693,1585.99 313.648,1533.77 314.604,1490.75 315.559,1454.08 316.515,1422.06 317.471,1393.59 \n",
       "  318.426,1367.92 319.382,1344.51 320.337,1322.98 321.293,1303.01 322.248,1284.39 323.204,1266.92 324.159,1250.45 325.115,1234.86 326.071,1220.06 327.026,1205.96 \n",
       "  327.982,1192.48 328.937,1179.57 329.893,1167.17 330.848,1155.24 331.804,1143.74 332.759,1132.63 333.715,1121.89 334.67,1111.49 335.626,1101.4 336.582,1091.6 \n",
       "  337.537,1082.07 338.493,1072.8 339.448,1063.76 340.404,1054.96 341.359,1046.36 342.315,1037.96 343.27,1029.76 344.226,1021.73 345.182,1013.87 346.137,1006.17 \n",
       "  347.093,998.619 348.048,991.216 349.004,983.952 349.959,976.818 350.915,969.808 351.87,962.918 352.826,956.141 353.782,949.471 354.737,942.905 355.693,936.436 \n",
       "  356.648,930.061 357.604,923.774 358.559,917.573 359.515,911.452 360.47,905.409 361.426,899.439 362.381,893.538 363.337,887.705 364.293,881.935 365.248,876.225 \n",
       "  366.204,870.573 367.159,864.976 368.115,859.432 369.07,853.937 370.026,848.491 370.981,843.09 371.937,837.734 372.893,832.419 373.848,827.145 374.804,821.911 \n",
       "  375.759,816.714 376.715,811.553 377.67,806.428 378.626,801.337 379.581,796.28 380.537,791.256 381.493,786.263 382.448,781.303 383.404,776.373 384.359,771.474 \n",
       "  385.315,766.606 386.27,761.767 387.226,756.959 388.181,752.18 389.137,747.431 390.092,742.711 391.048,738.021 392.004,733.361 392.959,728.73 393.915,724.129 \n",
       "  394.87,719.557 395.826,715.014 396.781,710.502 397.737,706.019 398.692,701.565 399.648,697.142 400.604,692.747 401.559,688.383 402.515,684.048 403.47,679.742 \n",
       "  404.426,675.466 405.381,671.218 406.337,667 407.292,662.81 408.248,658.649 409.204,654.517 410.159,650.412 411.115,646.335 412.07,642.286 413.026,638.263 \n",
       "  413.981,634.268 414.937,630.298 415.892,626.355 416.848,622.437 417.803,618.544 418.759,614.676 419.715,610.831 420.67,607.01 421.626,603.213 422.581,599.438 \n",
       "  423.537,595.685 424.492,591.954 425.448,588.243 426.403,584.554 427.359,580.885 428.315,577.235 429.27,573.605 430.226,569.994 431.181,566.401 432.137,562.826 \n",
       "  433.092,559.269 434.048,555.73 435.003,552.208 435.959,548.704 436.915,545.216 437.87,541.744 438.826,538.29 439.781,534.852 440.737,531.431 441.692,528.026 \n",
       "  442.648,524.638 443.603,521.267 444.559,517.913 445.514,514.576 446.47,511.257 447.426,507.955 448.381,504.671 449.337,501.405 450.292,498.159 451.248,494.931 \n",
       "  452.203,491.723 453.159,488.535 454.114,485.367 455.07,482.22 456.026,479.095 456.981,475.991 457.937,472.91 458.892,469.852 459.848,466.817 460.803,463.806 \n",
       "  461.759,460.82 462.714,457.858 463.67,454.922 464.626,452.012 465.581,449.127 466.537,446.269 467.492,443.439 468.448,440.635 469.403,437.86 470.359,435.112 \n",
       "  471.314,432.393 472.27,429.702 473.225,427.04 474.181,424.407 475.137,421.803 476.092,419.229 477.048,416.684 478.003,414.168 478.959,411.683 479.914,409.227 \n",
       "  480.87,406.801 481.825,404.405 482.781,402.038 483.737,399.701 484.692,397.395 485.648,395.117 486.603,392.87 487.559,390.652 488.514,388.464 489.47,386.305 \n",
       "  490.425,384.176 491.381,382.076 492.337,380.005 493.292,377.963 494.248,375.95 495.203,373.966 496.159,372.01 497.114,370.084 498.07,368.185 499.025,366.316 \n",
       "  499.981,364.474 500.936,362.661 501.892,360.876 502.848,359.118 503.803,357.389 504.759,355.687 505.714,354.014 506.67,352.368 507.625,350.749 508.581,349.158 \n",
       "  509.536,347.594 510.492,346.058 511.448,344.548 512.403,343.066 513.359,341.611 514.314,340.183 515.27,338.782 516.225,337.408 517.181,336.06 518.136,334.739 \n",
       "  519.092,333.444 520.048,332.176 521.003,330.934 521.959,329.718 522.914,328.528 523.87,327.364 524.825,326.226 525.781,325.114 526.736,324.026 527.692,322.964 \n",
       "  528.647,321.927 529.603,320.915 530.559,319.928 531.514,318.965 532.47,318.026 533.425,317.111 534.381,316.221 535.336,315.353 536.292,314.509 537.247,313.688 \n",
       "  538.203,312.89 539.159,312.114 540.114,311.361 541.07,310.629 542.025,309.919 542.981,309.231 543.936,308.563 544.892,307.917 545.847,307.291 546.803,306.686 \n",
       "  547.759,306.1 548.714,305.534 549.67,304.988 550.625,304.461 551.581,303.952 552.536,303.463 553.492,302.992 554.447,302.539 555.403,302.104 556.358,301.686 \n",
       "  557.314,301.286 558.27,300.904 559.225,300.538 560.181,300.19 561.136,299.858 562.092,299.542 563.047,299.243 564.003,298.96 564.958,298.693 565.914,298.442 \n",
       "  566.87,298.207 567.825,297.988 568.781,297.783 569.736,297.595 570.692,297.421 571.647,297.263 572.603,297.12 573.558,296.991 574.514,296.878 575.47,296.779 \n",
       "  576.425,296.695 577.381,296.625 578.336,296.569 579.292,296.528 580.247,296.501 581.203,296.488 582.158,296.487 583.114,296.487 584.069,296.487 585.025,296.487 \n",
       "  585.981,296.488 586.936,296.489 587.892,296.49 588.847,296.492 589.803,296.494 590.758,296.497 591.714,296.501 592.669,296.506 593.625,296.512 594.581,296.519 \n",
       "  595.536,296.528 596.492,296.538 597.447,296.549 598.403,296.563 599.358,296.578 600.314,296.596 601.269,296.615 602.225,296.637 603.181,296.662 604.136,296.689 \n",
       "  605.092,296.72 606.047,296.753 607.003,296.79 607.958,296.83 608.914,296.874 609.869,296.922 610.825,296.973 611.78,297.029 612.736,297.09 613.692,297.155 \n",
       "  614.647,297.225 615.603,297.3 616.558,297.381 617.514,297.467 618.469,297.559 619.425,297.656 620.38,297.76 621.336,297.87 622.292,297.987 623.247,298.111 \n",
       "  624.203,298.242 625.158,298.38 626.114,298.526 627.069,298.68 628.025,298.842 628.98,299.012 629.936,299.191 630.892,299.379 631.847,299.576 632.803,299.782 \n",
       "  633.758,299.999 634.714,300.225 635.669,300.461 636.625,300.708 637.58,300.966 638.536,301.234 639.491,301.515 640.447,301.807 641.403,302.111 642.358,302.427 \n",
       "  643.314,302.756 644.269,303.097 645.225,303.452 646.18,303.82 647.136,304.202 648.091,304.598 649.047,305.009 650.003,305.433 650.958,305.873 651.914,306.327 \n",
       "  652.869,306.797 653.825,307.282 654.78,307.783 655.736,308.3 656.691,308.833 657.647,309.381 658.603,309.946 659.558,310.528 660.514,311.125 661.469,311.739 \n",
       "  662.425,312.37 663.38,313.017 664.336,313.68 665.291,314.36 666.247,315.055 667.202,315.767 668.158,316.495 669.114,317.238 670.069,317.997 671.025,318.771 \n",
       "  671.98,319.56 672.936,320.363 673.891,321.18 674.847,322.011 675.802,322.855 676.758,323.712 677.714,324.581 678.669,325.461 679.625,326.352 680.58,327.254 \n",
       "  681.536,328.165 682.491,329.084 683.447,330.012 684.402,330.947 685.358,331.887 686.314,332.833 687.269,333.783 688.225,334.737 689.18,335.692 690.136,336.648 \n",
       "  691.091,337.605 692.047,338.559 693.002,339.511 693.958,340.458 694.913,341.401 695.869,342.336 696.825,343.263 697.78,344.18 698.736,345.086 699.691,345.979 \n",
       "  700.647,346.857 701.602,347.72 702.558,348.565 703.513,349.391 704.469,350.196 705.425,350.978 706.38,351.737 707.336,352.47 708.291,353.176 709.247,353.854 \n",
       "  710.202,354.501 711.158,355.117 712.113,355.699 713.069,356.248 714.024,356.76 714.98,357.236 715.936,357.673 716.891,358.071 717.847,358.428 718.802,358.745 \n",
       "  719.758,359.018 720.713,359.249 721.669,359.436 722.624,359.579 723.58,359.677 724.536,359.729 725.491,359.736 726.447,359.697 727.402,359.612 728.358,359.481 \n",
       "  729.313,359.304 730.269,359.081 731.224,358.812 732.18,358.499 733.136,358.141 734.091,357.738 735.047,357.293 736.002,356.805 736.958,356.275 737.913,355.705 \n",
       "  738.869,355.094 739.824,354.445 740.78,353.759 741.735,353.037 742.691,352.28 743.647,351.489 744.602,350.667 745.558,349.814 746.513,348.932 747.469,348.023 \n",
       "  748.424,347.088 749.38,346.129 750.335,345.148 751.291,344.147 752.247,343.127 753.202,342.089 754.158,341.036 755.113,339.97 756.069,338.892 757.024,337.803 \n",
       "  757.98,336.706 758.935,335.602 759.891,334.493 760.847,333.38 761.802,332.264 762.758,331.149 763.713,330.034 764.669,328.921 765.624,327.811 766.58,326.707 \n",
       "  767.535,325.609 768.491,324.518 769.446,323.435 770.402,322.362 771.358,321.3 772.313,320.25 773.269,319.212 774.224,318.187 775.18,317.177 776.135,316.182 \n",
       "  777.091,315.203 778.046,314.241 779.002,313.296 779.958,312.368 780.913,311.46 781.869,310.57 782.824,309.699 783.78,308.849 784.735,308.019 785.691,307.209 \n",
       "  786.646,306.421 787.602,305.654 788.558,304.908 789.513,304.184 790.469,303.483 791.424,302.803 792.38,302.146 793.335,301.511 794.291,300.898 795.246,300.308 \n",
       "  796.202,299.74 797.157,299.194 798.113,298.671 799.069,298.17 800.024,297.691 800.98,297.234 801.935,296.799 802.891,296.385 803.846,295.993 804.802,295.621 \n",
       "  805.757,295.271 806.713,294.941 807.669,294.631 808.624,294.342 809.58,294.072 810.535,293.821 811.491,293.589 812.446,293.376 813.402,293.182 814.357,293.005 \n",
       "  815.313,292.846 816.269,292.705 817.224,292.58 818.18,292.472 819.135,292.38 820.091,292.304 821.046,292.244 822.002,292.199 822.957,292.168 823.913,292.152 \n",
       "  824.868,292.15 825.824,292.166 826.78,292.201 827.735,292.255 828.691,292.326 829.646,292.416 830.602,292.522 831.557,292.645 832.513,292.785 833.468,292.94 \n",
       "  834.424,293.11 835.38,293.294 836.335,293.493 837.291,293.705 838.246,293.93 839.202,294.168 840.157,294.417 841.113,294.677 842.068,294.948 843.024,295.229 \n",
       "  843.98,295.518 844.935,295.817 845.891,296.123 846.846,296.435 847.802,296.754 848.757,297.079 849.713,297.407 850.668,297.74 851.624,298.074 852.579,298.411 \n",
       "  853.535,298.748 854.491,299.085 855.446,299.421 856.402,299.754 857.357,300.083 858.313,300.408 859.268,300.727 860.224,301.04 861.179,301.344 862.135,301.639 \n",
       "  863.091,301.923 864.046,302.196 865.002,302.456 865.957,302.702 866.913,302.932 867.868,303.147 868.824,303.343 869.779,303.521 870.735,303.679 871.691,303.816 \n",
       "  872.646,303.931 873.602,304.023 874.557,304.091 875.513,304.133 876.468,304.15 877.424,304.14 878.379,304.102 879.335,304.035 880.29,303.94 881.246,303.815 \n",
       "  882.202,303.659 883.157,303.472 884.113,303.254 885.068,303.004 886.024,302.722 886.979,302.408 887.935,302.061 888.89,301.681 889.846,301.268 890.802,300.823 \n",
       "  891.757,300.345 892.713,299.834 893.668,299.291 894.624,298.716 895.579,298.109 896.535,297.47 897.49,296.801 898.446,296.101 899.402,295.371 900.357,294.611 \n",
       "  901.313,293.823 902.268,293.006 903.224,292.163 904.179,291.292 905.135,290.396 906.09,289.475 907.046,288.531 908.001,287.563 908.957,286.573 909.913,285.562 \n",
       "  910.868,284.531 911.824,283.482 912.779,282.415 913.735,281.331 914.69,280.232 915.646,279.119 916.601,277.992 917.557,276.855 918.513,275.706 919.468,274.549 \n",
       "  920.424,273.383 921.379,272.211 922.335,271.034 923.29,269.852 924.246,268.668 925.201,267.483 926.157,266.297 927.113,265.112 928.068,263.929 929.024,262.75 \n",
       "  929.979,261.575 930.935,260.406 931.89,259.244 932.846,258.091 933.801,256.946 934.757,255.812 935.712,254.69 936.668,253.58 937.624,252.483 938.579,251.4 \n",
       "  939.535,250.333 940.49,249.283 941.446,248.249 942.401,247.233 943.357,246.236 944.312,245.259 945.268,244.301 946.224,243.365 947.179,242.45 948.135,241.557 \n",
       "  949.09,240.686 950.046,239.839 951.001,239.016 951.957,238.216 952.912,237.441 953.868,236.69 954.824,235.964 955.779,235.264 956.735,234.589 957.69,233.94 \n",
       "  958.646,233.316 959.601,232.718 960.557,232.145 961.512,231.599 962.468,231.078 963.423,230.582 964.379,230.112 965.335,229.667 966.29,229.247 967.246,228.851 \n",
       "  968.201,228.479 969.157,228.131 970.112,227.807 971.068,227.505 972.023,227.226 972.979,226.969 973.935,226.733 974.89,226.518 975.846,226.323 976.801,226.148 \n",
       "  977.757,225.991 978.712,225.852 979.668,225.731 980.623,225.626 981.579,225.538 982.535,225.464 983.49,225.405 984.446,225.359 985.401,225.326 986.357,225.305 \n",
       "  987.312,225.295 988.268,225.295 989.223,225.304 990.179,225.322 991.134,225.348 992.09,225.381 993.046,225.42 994.001,225.464 994.957,225.513 995.912,225.566 \n",
       "  996.868,225.621 997.823,225.679 998.779,225.739 999.734,225.799 1000.69,225.859 1001.65,225.919 1002.6,225.978 1003.56,226.034 1004.51,226.089 1005.47,226.14 \n",
       "  1006.42,226.187 1007.38,226.231 1008.33,226.269 1009.29,226.303 1010.25,226.331 1011.2,226.352 1012.16,226.367 1013.11,226.375 1014.07,226.376 1015.02,226.369 \n",
       "  1015.98,226.354 1016.93,226.33 1017.89,226.297 1018.85,226.256 1019.8,226.205 1020.76,226.144 1021.71,226.074 1022.67,225.994 1023.62,225.903 1024.58,225.802 \n",
       "  1025.53,225.691 1026.49,225.569 1027.45,225.436 1028.4,225.292 1029.36,225.137 1030.31,224.971 1031.27,224.793 1032.22,224.605 1033.18,224.406 1034.13,224.195 \n",
       "  1035.09,223.973 1036.05,223.74 1037,223.496 1037.96,223.241 1038.91,222.975 1039.87,222.699 1040.82,222.411 1041.78,222.113 1042.73,221.805 1043.69,221.486 \n",
       "  1044.65,221.157 1045.6,220.818 1046.56,220.469 1047.51,220.11 1048.47,219.742 1049.42,219.364 1050.38,218.977 1051.33,218.58 1052.29,218.175 1053.25,217.76 \n",
       "  1054.2,217.337 1055.16,216.905 1056.11,216.464 1057.07,216.015 1058.02,215.558 1058.98,215.092 1059.93,214.619 1060.89,214.137 1061.85,213.647 1062.8,213.15 \n",
       "  1063.76,212.645 1064.71,212.132 1065.67,211.612 1066.62,211.085 1067.58,210.55 1068.53,210.009 1069.49,209.46 1070.45,208.905 1071.4,208.343 1072.36,207.775 \n",
       "  1073.31,207.2 1074.27,206.619 1075.22,206.033 1076.18,205.44 1077.13,204.843 1078.09,204.24 1079.05,203.632 1080,203.019 1080.96,202.402 1081.91,201.78 \n",
       "  1082.87,201.155 1083.82,200.526 1084.78,199.894 1085.73,199.259 1086.69,198.621 1087.65,197.981 1088.6,197.339 1089.56,196.696 1090.51,196.052 1091.47,195.408 \n",
       "  1092.42,194.763 1093.38,194.118 1094.33,193.475 1095.29,192.832 1096.25,192.192 1097.2,191.554 1098.16,190.918 1099.11,190.286 1100.07,189.658 1101.02,189.035 \n",
       "  1101.98,188.416 1102.93,187.803 1103.89,187.196 1104.85,186.595 1105.8,186.002 1106.76,185.417 1107.71,184.84 1108.67,184.271 1109.62,183.712 1110.58,183.163 \n",
       "  1111.53,182.625 1112.49,182.097 1113.45,181.58 1114.4,181.075 1115.36,180.583 1116.31,180.103 1117.27,179.636 1118.22,179.182 1119.18,178.742 1120.13,178.316 \n",
       "  1121.09,177.904 1122.05,177.507 1123,177.124 1123.96,176.756 1124.91,176.403 1125.87,176.065 1126.82,175.742 1127.78,175.435 1128.73,175.143 1129.69,174.866 \n",
       "  1130.65,174.604 1131.6,174.358 1132.56,174.126 1133.51,173.91 1134.47,173.708 1135.42,173.52 1136.38,173.347 1137.33,173.189 1138.29,173.043 1139.24,172.912 \n",
       "  1140.2,172.793 1141.16,172.687 1142.11,172.593 1143.07,172.511 1144.02,172.441 1144.98,172.381 1145.93,172.332 1146.89,172.293 1147.84,172.263 1148.8,172.241 \n",
       "  1149.76,172.228 1150.71,172.223 1151.67,172.224 1152.62,172.232 1153.58,172.246 1154.53,172.264 1155.49,172.288 1156.44,172.314 1157.4,172.344 1158.36,172.377 \n",
       "  1159.31,172.411 1160.27,172.447 1161.22,172.484 1162.18,172.52 1163.13,172.556 1164.09,172.591 1165.04,172.624 1166,172.655 1166.96,172.683 1167.91,172.708 \n",
       "  1168.87,172.73 1169.82,172.747 1170.78,172.76 1171.73,172.768 1172.69,172.771 1173.64,172.768 1174.6,172.759 1175.56,172.744 1176.51,172.722 1177.47,172.694 \n",
       "  1178.42,172.659 1179.38,172.616 1180.33,172.567 1181.29,172.509 1182.24,172.445 1183.2,172.372 1184.16,172.292 1185.11,172.204 1186.07,172.109 1187.02,172.005 \n",
       "  1187.98,171.894 1188.93,171.775 1189.89,171.649 1190.84,171.515 1191.8,171.373 1192.76,171.224 1193.71,171.068 1194.67,170.905 1195.62,170.735 1196.58,170.558 \n",
       "  1197.53,170.375 1198.49,170.186 1199.44,169.99 1200.4,169.789 1201.36,169.582 1202.31,169.371 1203.27,169.154 1204.22,168.932 1205.18,168.706 1206.13,168.475 \n",
       "  1207.09,168.241 1208.04,168.003 1209,167.762 1209.96,167.517 1210.91,167.27 1211.87,167.019 1212.82,166.767 1213.78,166.512 1214.73,166.255 1215.69,165.996 \n",
       "  1216.64,165.735 1217.6,165.473 1218.56,165.209 1219.51,164.944 1220.47,164.678 1221.42,164.411 1222.38,164.143 1223.33,163.875 1224.29,163.605 1225.24,163.335 \n",
       "  1226.2,163.064 1227.16,162.792 1228.11,162.52 1229.07,162.248 1230.02,161.974 1230.98,161.7 1231.93,161.426 1232.89,161.151 1233.84,160.875 1234.8,160.598 \n",
       "  1235.76,160.321 1236.71,160.043 1237.67,159.764 1238.62,159.484 1239.58,159.203 1240.53,158.921 1241.49,158.637 1242.44,158.353 1243.4,158.067 1244.36,157.78 \n",
       "  1245.31,157.491 1246.27,157.201 1247.22,156.909 1248.18,156.616 1249.13,156.321 1250.09,156.025 1251.04,155.727 1252,155.427 1252.96,155.125 1253.91,154.822 \n",
       "  1254.87,154.517 1255.82,154.211 1256.78,153.904 1257.73,153.595 1258.69,153.285 1259.64,152.973 1260.6,152.661 1261.56,152.348 1262.51,152.035 1263.47,151.721 \n",
       "  1264.42,151.407 1265.38,151.092 1266.33,150.779 1267.29,150.465 1268.24,150.153 1269.2,149.841 1270.16,149.531 1271.11,149.223 1272.07,148.917 1273.02,148.613 \n",
       "  1273.98,148.312 1274.93,148.014 1275.89,147.719 1276.84,147.428 1277.8,147.141 1278.76,146.858 1279.71,146.58 1280.67,146.307 1281.62,146.04 1282.58,145.778 \n",
       "  1283.53,145.522 1284.49,145.272 1285.44,145.029 1286.4,144.792 1287.36,144.563 1288.31,144.341 1289.27,144.126 1290.22,143.919 1291.18,143.72 1292.13,143.529 \n",
       "  1293.09,143.346 1294.04,143.172 1295,143.006 1295.96,142.848 1296.91,142.7 1297.87,142.559 1298.82,142.428 1299.78,142.306 1300.73,142.192 1301.69,142.087 \n",
       "  1302.64,141.991 1303.6,141.903 1304.56,141.824 1305.51,141.753 1306.47,141.691 1307.42,141.637 1308.38,141.59 1309.33,141.552 1310.29,141.521 1311.24,141.497 \n",
       "  1312.2,141.48 1313.16,141.47 1314.11,141.467 1315.07,141.47 1316.02,141.478 1316.98,141.492 1317.93,141.511 1318.89,141.534 1319.84,141.562 1320.8,141.594 \n",
       "  1321.76,141.629 1322.71,141.667 1323.67,141.708 1324.62,141.751 1325.58,141.796 1326.53,141.842 1327.49,141.889 1328.44,141.936 1329.4,141.983 1330.36,142.03 \n",
       "  1331.31,142.076 1332.27,142.12 1333.22,142.163 1334.18,142.203 1335.13,142.241 1336.09,142.275 1337.04,142.307 1338,142.334 1338.96,142.358 1339.91,142.377 \n",
       "  1340.87,142.391 1341.82,142.4 1342.78,142.404 1343.73,142.403 1344.69,142.395 1345.64,142.382 1346.6,142.362 1347.56,142.337 1348.51,142.305 1349.47,142.266 \n",
       "  1350.42,142.221 1351.38,142.169 1352.33,142.11 1353.29,142.045 1354.24,141.973 1355.2,141.895 1356.16,141.81 1357.11,141.719 1358.07,141.621 1359.02,141.518 \n",
       "  1359.98,141.408 1360.93,141.293 1361.89,141.172 1362.84,141.046 1363.8,140.915 1364.76,140.779 1365.71,140.639 1366.67,140.494 1367.62,140.346 1368.58,140.193 \n",
       "  1369.53,140.038 1370.49,139.88 1371.44,139.718 1372.4,139.555 1373.36,139.39 1374.31,139.223 1375.27,139.054 1376.22,138.885 1377.18,138.716 1378.13,138.546 \n",
       "  1379.09,138.376 1380.04,138.206 1381,138.038 1381.96,137.87 1382.91,137.704 1383.87,137.539 1384.82,137.376 1385.78,137.215 1386.73,137.057 1387.69,136.901 \n",
       "  1388.64,136.748 1389.6,136.598 1390.56,136.451 1391.51,136.307 1392.47,136.166 1393.42,136.029 1394.38,135.895 1395.33,135.765 1396.29,135.638 1397.24,135.514 \n",
       "  1398.2,135.394 1399.16,135.277 1400.11,135.163 1401.07,135.053 1402.02,134.946 1402.98,134.841 1403.93,134.739 1404.89,134.64 1405.84,134.544 1406.8,134.449 \n",
       "  1407.75,134.357 1408.71,134.266 1409.67,134.178 1410.62,134.09 1411.58,134.004 1412.53,133.919 1413.49,133.834 1414.44,133.75 1415.4,133.667 1416.35,133.583 \n",
       "  1417.31,133.5 1418.27,133.416 1419.22,133.332 1420.18,133.247 1421.13,133.161 1422.09,133.074 1423.04,132.986 1424,132.896 1424.95,132.805 1425.91,132.713 \n",
       "  1426.87,132.619 1427.82,132.523 1428.78,132.426 1429.73,132.327 1430.69,132.226 1431.64,132.123 1432.6,132.018 1433.55,131.912 1434.51,131.804 1435.47,131.694 \n",
       "  1436.42,131.583 1437.38,131.47 1438.33,131.356 1439.29,131.241 1440.24,131.125 1441.2,131.009 1442.15,130.891 1443.11,130.773 1444.07,130.655 1445.02,130.537 \n",
       "  1445.98,130.419 1446.93,130.301 1447.89,130.184 1448.84,130.067 1449.8,129.952 1450.75,129.838 1451.71,129.725 1452.67,129.615 1453.62,129.506 1454.58,129.399 \n",
       "  1455.53,129.295 1456.49,129.194 1457.44,129.095 1458.4,129 1459.35,128.908 1460.31,128.819 1461.27,128.734 1462.22,128.653 1463.18,128.576 1464.13,128.504 \n",
       "  1465.09,128.436 1466.04,128.372 1467,128.313 1467.95,128.259 1468.91,128.21 1469.87,128.165 1470.82,128.126 1471.78,128.093 1472.73,128.064 1473.69,128.041 \n",
       "  1474.64,128.023 1475.6,128.01 1476.55,128.003 1477.51,128.001 1478.47,128.004 1479.42,128.013 1480.38,128.027 1481.33,128.046 1482.29,128.071 1483.24,128.1 \n",
       "  1484.2,128.134 1485.15,128.173 1486.11,128.217 1487.07,128.265 1488.02,128.317 1488.98,128.374 1489.93,128.434 1490.89,128.498 1491.84,128.566 1492.8,128.637 \n",
       "  1493.75,128.711 1494.71,128.788 1495.67,128.867 1496.62,128.948 1497.58,129.032 1498.53,129.117 1499.49,129.203 1500.44,129.29 1501.4,129.379 1502.35,129.467 \n",
       "  1503.31,129.556 1504.27,129.645 1505.22,129.733 1506.18,129.821 1507.13,129.907 1508.09,129.992 1509.04,130.076 1510,130.158 1510.95,130.237 1511.91,130.315 \n",
       "  1512.87,130.389 1513.82,130.461 1514.78,130.53 1515.73,130.596 1516.69,130.659 1517.64,130.718 1518.6,130.773 1519.55,130.825 1520.51,130.873 1521.47,130.917 \n",
       "  1522.42,130.957 1523.38,130.993 1524.33,131.026 1525.29,131.054 1526.24,131.079 1527.2,131.1 1528.15,131.117 1529.11,131.13 1530.07,131.14 1531.02,131.146 \n",
       "  1531.98,131.15 1532.93,131.15 1533.89,131.147 1534.84,131.142 1535.8,131.134 1536.75,131.124 1537.71,131.112 1538.67,131.099 1539.62,131.084 1540.58,131.067 \n",
       "  1541.53,131.05 1542.49,131.032 1543.44,131.014 1544.4,130.995 1545.35,130.977 1546.31,130.959 1547.27,130.943 1548.22,130.927 1549.18,130.912 1550.13,130.899 \n",
       "  1551.09,130.888 1552.04,130.879 1553,130.872 1553.95,130.868 1554.91,130.867 1555.87,130.868 1556.82,130.873 1557.78,130.881 1558.73,130.892 1559.69,130.907 \n",
       "  1560.64,130.925 1561.6,130.947 1562.55,130.973 1563.51,131.003 1564.47,131.036 1565.42,131.072 1566.38,131.113 1567.33,131.157 1568.29,131.204 1569.24,131.254 \n",
       "  1570.2,131.308 1571.15,131.364 1572.11,131.423 1573.07,131.485 1574.02,131.548 1574.98,131.614 1575.93,131.682 1576.89,131.751 1577.84,131.821 1578.8,131.892 \n",
       "  1579.75,131.964 1580.71,132.036 1581.67,132.108 1582.62,132.179 1583.58,132.25 1584.53,132.321 1585.49,132.39 1586.44,132.457 1587.4,132.523 1588.35,132.587 \n",
       "  1589.31,132.648 1590.27,132.707 1591.22,132.764 1592.18,132.817 1593.13,132.867 1594.09,132.914 1595.04,132.958 1596,132.997 1596.95,133.033 1597.91,133.065 \n",
       "  1598.87,133.093 1599.82,133.117 1600.78,133.137 1601.73,133.153 1602.69,133.164 1603.64,133.171 1604.6,133.174 1605.55,133.173 1606.51,133.168 1607.47,133.159 \n",
       "  1608.42,133.146 1609.38,133.129 1610.33,133.109 1611.29,133.085 1612.24,133.058 1613.2,133.027 1614.15,132.994 1615.11,132.958 1616.07,132.92 1617.02,132.879 \n",
       "  1617.98,132.837 1618.93,132.793 1619.89,132.747 1620.84,132.701 1621.8,132.653 1622.75,132.605 1623.71,132.557 1624.67,132.508 1625.62,132.461 1626.58,132.413 \n",
       "  1627.53,132.367 1628.49,132.322 1629.44,132.279 1630.4,132.238 1631.35,132.198 1632.31,132.162 1633.27,132.128 1634.22,132.097 1635.18,132.07 1636.13,132.047 \n",
       "  1637.09,132.027 1638.04,132.012 1639,132.002 1639.95,131.996 1640.91,131.995 1641.87,132 1642.82,132.01 1643.78,132.026 1644.73,132.048 1645.69,132.076 \n",
       "  1646.64,132.11 1647.6,132.151 1648.55,132.199 1649.51,132.254 1650.47,132.316 1651.42,132.384 1652.38,132.46 1653.33,132.543 1654.29,132.634 1655.24,132.732 \n",
       "  1656.2,132.837 1657.15,132.949 1658.11,133.069 1659.07,133.196 1660.02,133.331 1660.98,133.472 1661.93,133.62 1662.89,133.775 1663.84,133.937 1664.8,134.105 \n",
       "  1665.75,134.28 1666.71,134.46 1667.67,134.646 1668.62,134.838 1669.58,135.035 1670.53,135.237 1671.49,135.443 1672.44,135.654 1673.4,135.869 1674.35,136.087 \n",
       "  1675.31,136.309 1676.26,136.533 1677.22,136.76 1678.18,136.989 1679.13,137.22 1680.09,137.452 1681.04,137.685 1682,137.919 1682.95,138.153 1683.91,138.387 \n",
       "  1684.86,138.62 1685.82,138.853 1686.78,139.085 1687.73,139.315 1688.69,139.543 1689.64,139.769 1690.6,139.993 1691.55,140.215 1692.51,140.434 1693.46,140.649 \n",
       "  1694.42,140.862 1695.38,141.071 1696.33,141.277 1697.29,141.48 1698.24,141.679 1699.2,141.874 1700.15,142.066 1701.11,142.254 1702.06,142.438 1703.02,142.619 \n",
       "  1703.98,142.797 1704.93,142.97 1705.89,143.14 1706.84,143.307 1707.8,143.47 1708.75,143.63 1709.71,143.787 1710.66,143.941 1711.62,144.092 1712.58,144.241 \n",
       "  1713.53,144.388 1714.49,144.533 1715.44,144.677 1716.4,144.819 1717.35,144.96 1718.31,145.1 1719.26,145.24 1720.22,145.379 1721.18,145.518 1722.13,145.658 \n",
       "  1723.09,145.798 1724.04,145.938 1725,146.08 1725.95,146.222 1726.91,146.366 1727.86,146.512 1728.82,146.659 1729.78,146.808 1730.73,146.959 1731.69,147.111 \n",
       "  1732.64,147.266 1733.6,147.423 1734.55,147.583 1735.51,147.744 1736.46,147.908 1737.42,148.074 1738.38,148.242 1739.33,148.412 1740.29,148.584 1741.24,148.758 \n",
       "  1742.2,148.934 1743.15,149.111 1744.11,149.29 1745.06,149.471 1746.02,149.652 1746.98,149.835 1747.93,150.018 1748.89,150.202 1749.84,150.386 1750.8,150.569 \n",
       "  1751.75,150.753 1752.71,150.936 1753.66,151.118 1754.62,151.3 1755.58,151.479 1756.53,151.657 1757.49,151.833 1758.44,152.007 1759.4,152.178 1760.35,152.346 \n",
       "  1761.31,152.511 1762.26,152.672 1763.22,152.829 1764.18,152.983 1765.13,153.132 1766.09,153.277 1767.04,153.416 1768,153.551 1768.95,153.681 1769.91,153.805 \n",
       "  1770.86,153.923 1771.82,154.036 1772.78,154.143 1773.73,154.243 1774.69,154.338 1775.64,154.426 1776.6,154.508 1777.55,154.584 1778.51,154.653 1779.46,154.715 \n",
       "  1780.42,154.771 1781.38,154.821 1782.33,154.864 1783.29,154.901 1784.24,154.931 1785.2,154.955 1786.15,154.973 1787.11,154.984 1788.06,154.99 1789.02,154.989 \n",
       "  1789.98,154.983 1790.93,154.971 1791.89,154.953 1792.84,154.93 1793.8,154.902 1794.75,154.869 1795.71,154.831 1796.66,154.788 1797.62,154.74 1798.58,154.688 \n",
       "  1799.53,154.632 1800.49,154.572 1801.44,154.508 1802.4,154.44 1803.35,154.369 1804.31,154.295 1805.26,154.218 1806.22,154.139 1807.18,154.056 1808.13,153.972 \n",
       "  1809.09,153.885 1810.04,153.797 1811,153.706 1811.95,153.615 1812.91,153.522 1813.86,153.429 1814.82,153.334 1815.78,153.239 1816.73,153.144 1817.69,153.049 \n",
       "  1818.64,152.954 1819.6,152.86 1820.55,152.766 1821.51,152.673 1822.46,152.581 1823.42,152.49 1824.38,152.401 1825.33,152.314 1826.29,152.228 1827.24,152.144 \n",
       "  1828.2,152.063 1829.15,151.984 1830.11,151.907 1831.06,151.834 1832.02,151.763 1832.98,151.695 1833.93,151.63 1834.89,151.569 1835.84,151.51 1836.8,151.456 \n",
       "  1837.75,151.404 1838.71,151.357 1839.66,151.313 1840.62,151.272 1841.58,151.236 1842.53,151.203 1843.49,151.174 1844.44,151.148 1845.4,151.126 1846.35,151.108 \n",
       "  1847.31,151.094 1848.26,151.083 1849.22,151.076 1850.18,151.072 1851.13,151.072 1852.09,151.075 1853.04,151.081 1854,151.09 1854.95,151.102 1855.91,151.117 \n",
       "  1856.86,151.135 1857.82,151.155 1858.78,151.178 1859.73,151.203 1860.69,151.23 1861.64,151.26 1862.6,151.291 1863.55,151.324 1864.51,151.358 1865.46,151.394 \n",
       "  1866.42,151.431 1867.38,151.469 1868.33,151.508 1869.29,151.548 1870.24,151.589 1871.2,151.631 1872.15,151.673 1873.11,151.715 1874.06,151.757 1875.02,151.8 \n",
       "  1875.98,151.843 1876.93,151.885 1877.89,151.928 1878.84,151.97 1879.8,152.012 1880.75,152.054 1881.71,152.095 1882.66,152.136 1883.62,152.176 1884.58,152.216 \n",
       "  1885.53,152.255 1886.49,152.294 1887.44,152.332 1888.4,152.37 1889.35,152.407 1890.31,152.443 1891.26,152.479 1892.22,152.514 1893.18,152.548 1894.13,152.582 \n",
       "  1895.09,152.616 1896.04,152.648 1897,152.681 1897.95,152.712 1898.91,152.744 1899.86,152.774 1900.82,152.805 1901.78,152.834 1902.73,152.864 1903.69,152.893 \n",
       "  1904.64,152.921 1905.6,152.949 1906.55,152.977 1907.51,153.004 1908.46,153.031 1909.42,153.058 1910.38,153.084 1911.33,153.109 1912.29,153.135 1913.24,153.159 \n",
       "  1914.2,153.184 1915.15,153.207 1916.11,153.231 1917.06,153.253 1918.02,153.276 1918.98,153.297 1919.93,153.318 1920.89,153.339 1921.84,153.358 1922.8,153.377 \n",
       "  1923.75,153.396 1924.71,153.413 1925.66,153.43 1926.62,153.446 1927.58,153.461 1928.53,153.475 1929.49,153.489 1930.44,153.502 1931.4,153.513 1932.35,153.524 \n",
       "  1933.31,153.534 1934.26,153.543 1935.22,153.551 1936.18,153.559 1937.13,153.565 1938.09,153.571 1939.04,153.576 1940,153.58 1940.95,153.584 1941.91,153.586 \n",
       "  1942.86,153.588 1943.82,153.59 1944.78,153.591 1945.73,153.591 1946.69,153.591 1947.64,153.587 1948.6,153.58 1949.55,153.57 1950.51,153.557 1951.46,153.54 \n",
       "  1952.42,153.521 1953.37,153.498 1954.33,153.471 1955.29,153.442 1956.24,153.408 1957.2,153.371 1958.15,153.33 1959.11,153.285 1960.06,153.236 1961.02,153.183 \n",
       "  1961.97,153.126 1962.93,153.064 1963.89,152.998 1964.84,152.928 1965.8,152.853 1966.75,152.773 1967.71,152.689 1968.66,152.6 1969.62,152.506 1970.57,152.407 \n",
       "  1971.53,152.303 1972.49,152.194 1973.44,152.08 1974.4,151.961 1975.35,151.837 1976.31,151.708 1977.26,151.574 1978.22,151.435 1979.17,151.291 1980.13,151.143 \n",
       "  1981.09,150.99 1982.04,150.832 1983,150.669 1983.95,150.502 1984.91,150.331 1985.86,150.155 1986.82,149.976 1987.77,149.792 1988.73,149.604 1989.69,149.413 \n",
       "  1990.64,149.219 1991.6,149.021 1992.55,148.819 1993.51,148.615 1994.46,148.408 1995.42,148.198 1996.37,147.985 1997.33,147.771 1998.29,147.553 1999.24,147.334 \n",
       "  2000.2,147.113 2001.15,146.89 2002.11,146.665 2003.06,146.439 2004.02,146.212 2004.97,145.983 2005.93,145.753 2006.89,145.522 2007.84,145.29 2008.8,145.057 \n",
       "  2009.75,144.823 2010.71,144.589 2011.66,144.354 2012.62,144.119 2013.57,143.882 2014.53,143.646 2015.49,143.409 2016.44,143.171 2017.4,142.934 2018.35,142.696 \n",
       "  2019.31,142.457 2020.26,142.219 2021.22,141.98 2022.17,141.741 2023.13,141.501 2024.09,141.262 2025.04,141.022 2026,140.782 2026.95,140.542 2027.91,140.302 \n",
       "  2028.86,140.062 2029.82,139.822 2030.77,139.582 2031.73,139.341 2032.69,139.101 2033.64,138.862 2034.6,138.622 2035.55,138.383 2036.51,138.144 2037.46,137.905 \n",
       "  2038.42,137.667 2039.37,137.43 2040.33,137.193 2041.29,136.957 2042.24,136.723 2043.2,136.489 2044.15,136.256 2045.11,136.025 2046.06,135.795 2047.02,135.567 \n",
       "  2047.97,135.341 2048.93,135.116 2049.89,134.894 2050.84,134.673 2051.8,134.455 2052.75,134.239 2053.71,134.026 2054.66,133.815 2055.62,133.607 2056.57,133.402 \n",
       "  2057.53,133.2 2058.49,133.001 2059.44,132.806 2060.4,132.613 2061.35,132.424 2062.31,132.238 2063.26,132.056 2064.22,131.878 2065.17,131.703 2066.13,131.531 \n",
       "  2067.09,131.364 2068.04,131.2 2069,131.04 2069.95,130.884 2070.91,130.731 2071.86,130.582 2072.82,130.437 2073.77,130.296 2074.73,130.158 2075.69,130.024 \n",
       "  2076.64,129.893 2077.6,129.766 2078.55,129.643 2079.51,129.522 2080.46,129.406 2081.42,129.292 2082.37,129.182 2083.33,129.075 2084.29,128.97 2085.24,128.869 \n",
       "  2086.2,128.771 2087.15,128.675 2088.11,128.582 2089.06,128.492 2090.02,128.404 2090.97,128.319 2091.93,128.236 2092.89,128.156 2093.84,128.077 2094.8,128.001 \n",
       "  2095.75,127.927 2096.71,127.855 2097.66,127.784 2098.62,127.716 2099.57,127.649 2100.53,127.585 2101.49,127.522 2102.44,127.46 2103.4,127.401 2104.35,127.342 \n",
       "  2105.31,127.286 2106.26,127.231 2107.22,127.177 2108.17,127.125 2109.13,127.075 2110.09,127.026 2111.04,126.978 2112,126.931 2112.95,126.887 2113.91,126.843 \n",
       "  2114.86,126.801 2115.82,126.76 2116.77,126.72 2117.73,126.682 2118.69,126.645 2119.64,126.609 2120.6,126.574 2121.55,126.54 2122.51,126.508 2123.46,126.477 \n",
       "  2124.42,126.447 2125.37,126.418 2126.33,126.389 2127.29,126.362 2128.24,126.336 2129.2,126.31 2130.15,126.286 2131.11,126.262 2132.06,126.239 2133.02,126.216 \n",
       "  2133.97,126.194 2134.93,126.173 2135.89,126.152 2136.84,126.132 2137.8,126.111 2138.75,126.092 2139.71,126.072 2140.66,126.053 2141.62,126.034 2142.57,126.015 \n",
       "  2143.53,125.996 2144.49,125.978 2145.44,125.959 2146.4,125.941 2147.35,125.923 2148.31,125.904 2149.26,125.886 2150.22,125.868 2151.17,125.85 2152.13,125.832 \n",
       "  2153.09,125.814 2154.04,125.796 2155,125.779 2155.95,125.761 2156.91,125.744 2157.86,125.728 2158.82,125.711 2159.77,125.695 2160.73,125.679 2161.69,125.664 \n",
       "  2162.64,125.649 2163.6,125.635 2164.55,125.621 2165.51,125.609 2166.46,125.596 2167.42,125.585 2168.37,125.574 2169.33,125.565 2170.29,125.556 2171.24,125.548 \n",
       "  2172.2,125.541 2173.15,125.535 2174.11,125.529 2175.06,125.525 2176.02,125.522 2176.97,125.52 2177.93,125.518 2178.89,125.518 2179.84,125.518 2180.8,125.519 \n",
       "  2181.75,125.521 2182.71,125.524 2183.66,125.528 2184.62,125.532 2185.57,125.536 2186.53,125.541 2187.49,125.547 2188.44,125.553 2189.4,125.559 2190.35,125.565 \n",
       "  2191.31,125.572 2192.26,125.578 2193.22,125.584 2194.17,125.59 2195.13,125.596 2196.09,125.602 2197.04,125.607 2198,125.611 2198.95,125.615 2199.91,125.619 \n",
       "  2200.86,125.621 2201.82,125.623 2202.77,125.625 2203.73,125.625 2204.69,125.624 2205.64,125.623 2206.6,125.621 2207.55,125.618 2208.51,125.614 2209.46,125.609 \n",
       "  2210.42,125.604 2211.37,125.598 2212.33,125.591 2213.29,125.584 2214.24,125.576 2215.2,125.568 2216.15,125.559 2217.11,125.55 2218.06,125.541 2219.02,125.532 \n",
       "  \n",
       "  \"/>\n",
       "<polyline clip-path=\"url(#clip602)\" style=\"stroke:#3da44d; stroke-linecap:round; stroke-linejoin:round; stroke-width:8; stroke-opacity:1; fill:none\" points=\"\n",
       "  308.871,3940.74 309.826,1566.69 310.782,1410.41 311.737,1319.3 312.693,1254.96 313.648,1205.39 314.604,1165.26 315.559,1131.71 316.515,1103.04 317.471,1078.14 \n",
       "  318.426,1056.28 319.382,1036.92 320.337,1019.65 321.293,1004.19 322.248,990.308 323.204,977.81 324.159,966.556 325.115,956.425 326.071,947.32 327.026,939.159 \n",
       "  327.982,931.876 328.937,925.414 329.893,919.725 330.848,914.768 331.804,910.511 332.759,906.925 333.715,903.986 334.67,901.674 335.626,899.974 336.582,898.874 \n",
       "  337.537,898.363 338.493,898.435 339.448,899.087 340.404,900.317 341.359,902.127 342.315,904.521 343.27,907.506 344.226,911.09 345.182,915.288 346.137,920.113 \n",
       "  347.093,925.586 348.048,931.727 349.004,938.563 349.959,946.123 350.915,954.442 351.87,963.556 352.826,973.508 353.782,984.342 354.737,996.108 355.693,1008.85 \n",
       "  356.648,1022.62 357.604,1037.44 358.559,1053.33 359.515,1070.24 360.47,1088.07 361.426,1106.56 362.381,1125.24 363.337,1143.32 364.293,1159.61 365.248,1172.52 \n",
       "  366.204,1180.31 367.159,1181.68 368.115,1176.36 369.07,1165.22 370.026,1149.88 370.981,1132.04 371.937,1113.08 372.893,1093.99 373.848,1075.36 374.804,1057.52 \n",
       "  375.759,1040.65 376.715,1024.81 377.67,1010 378.626,996.2 379.581,983.36 380.537,971.431 381.493,960.359 382.448,950.094 383.404,940.586 384.359,931.79 \n",
       "  385.315,923.664 386.27,916.171 387.226,909.277 388.181,902.949 389.137,897.161 390.092,891.887 391.048,887.105 392.004,882.794 392.959,878.935 393.915,875.511 \n",
       "  394.87,872.508 395.826,869.912 396.781,867.709 397.737,865.888 398.692,864.439 399.648,863.352 400.604,862.617 401.559,862.226 402.515,862.172 403.47,862.447 \n",
       "  404.426,863.044 405.381,863.956 406.337,865.178 407.292,866.702 408.248,868.522 409.204,870.633 410.159,873.028 411.115,875.701 412.07,878.643 413.026,881.847 \n",
       "  413.981,885.305 414.937,889.005 415.892,892.938 416.848,897.089 417.803,901.444 418.759,905.985 419.715,910.69 420.67,915.536 421.626,920.494 422.581,925.533 \n",
       "  423.537,930.613 424.492,935.694 425.448,940.725 426.403,945.654 427.359,950.421 428.315,954.961 429.27,959.207 430.226,963.088 431.181,966.532 432.137,969.473 \n",
       "  433.092,971.847 434.048,973.599 435.003,974.687 435.959,975.08 436.915,974.767 437.87,973.749 438.826,972.047 439.781,969.694 440.737,966.735 441.692,963.226 \n",
       "  442.648,959.229 443.603,954.808 444.559,950.028 445.514,944.954 446.47,939.645 447.426,934.158 448.381,928.541 449.337,922.842 450.292,917.098 451.248,911.345 \n",
       "  452.203,905.611 453.159,899.923 454.114,894.3 455.07,888.76 456.026,883.318 456.981,877.986 457.937,872.774 458.892,867.689 459.848,862.738 460.803,857.926 \n",
       "  461.759,853.256 462.714,848.733 463.67,844.359 464.626,840.136 465.581,836.065 466.537,832.15 467.492,828.391 468.448,824.789 469.403,821.347 470.359,818.066 \n",
       "  471.314,814.948 472.27,811.994 473.225,809.206 474.181,806.587 475.137,804.138 476.092,801.862 477.048,799.76 478.003,797.836 478.959,796.091 479.914,794.528 \n",
       "  480.87,793.15 481.825,791.959 482.781,790.957 483.737,790.147 484.692,789.532 485.648,789.114 486.603,788.896 487.559,788.88 488.514,789.07 489.47,789.468 \n",
       "  490.425,790.076 491.381,790.897 492.337,791.934 493.292,793.188 494.248,794.662 495.203,796.359 496.159,798.279 497.114,800.424 498.07,802.795 499.025,805.392 \n",
       "  499.981,808.216 500.936,811.265 501.892,814.538 502.848,818.032 503.803,821.743 504.759,825.665 505.714,829.791 506.67,834.111 507.625,838.613 508.581,843.282 \n",
       "  509.536,848.099 510.492,853.042 511.448,858.083 512.403,863.189 513.359,868.322 514.314,873.437 515.27,878.484 516.225,883.402 517.181,888.129 518.136,892.593 \n",
       "  519.092,896.72 520.048,900.432 521.003,903.652 521.959,906.308 522.914,908.334 523.87,909.674 524.825,910.289 525.781,910.158 526.736,909.278 527.692,907.666 \n",
       "  528.647,905.356 529.603,902.4 530.559,898.86 531.514,894.81 532.47,890.325 533.425,885.483 534.381,880.36 535.336,875.029 536.292,869.555 537.247,863.999 \n",
       "  538.203,858.415 539.159,852.848 540.114,847.34 541.07,841.924 542.025,836.63 542.981,831.48 543.936,826.496 544.892,821.692 545.847,817.082 546.803,812.677 \n",
       "  547.759,808.484 548.714,804.51 549.67,800.76 550.625,797.236 551.581,793.943 552.536,790.88 553.492,788.049 554.447,785.451 555.403,783.085 556.358,780.95 \n",
       "  557.314,779.046 558.27,777.371 559.225,775.925 560.181,774.706 561.136,773.712 562.092,772.942 563.047,772.394 564.003,772.067 564.958,771.96 565.914,772.07 \n",
       "  566.87,772.397 567.825,772.939 568.781,773.696 569.736,774.665 570.692,775.846 571.647,777.238 572.603,778.84 573.558,780.651 574.514,782.672 575.47,784.9 \n",
       "  576.425,787.335 577.381,789.977 578.336,792.825 579.292,795.879 580.247,799.137 581.203,802.6 582.158,803.643 583.114,803.635 584.069,803.625 585.025,803.608 \n",
       "  585.981,803.583 586.936,803.548 587.892,803.504 588.847,803.45 589.803,803.385 590.758,803.31 591.714,803.225 592.669,803.13 593.625,803.026 594.581,802.916 \n",
       "  595.536,802.799 596.492,802.678 597.447,802.554 598.403,802.431 599.358,802.31 600.314,802.193 601.269,802.085 602.225,801.988 603.181,801.904 604.136,801.838 \n",
       "  605.092,801.792 606.047,801.771 607.003,801.778 607.958,801.815 608.914,801.887 609.869,801.997 610.825,802.148 611.78,802.343 612.736,802.585 613.692,802.877 \n",
       "  614.647,803.221 615.603,803.618 616.558,804.071 617.514,804.58 618.469,805.146 619.425,805.769 620.38,806.449 621.336,807.184 622.292,807.974 623.247,808.817 \n",
       "  624.203,809.708 625.158,810.645 626.114,811.624 627.069,812.641 628.025,813.689 628.98,814.763 629.936,815.857 630.892,816.964 631.847,818.076 632.803,819.185 \n",
       "  633.758,820.283 634.714,821.362 635.669,822.412 636.625,823.425 637.58,824.392 638.536,825.305 639.491,826.154 640.447,826.932 641.403,827.63 642.358,828.241 \n",
       "  643.314,828.759 644.269,829.176 645.225,829.489 646.18,829.691 647.136,829.78 648.091,829.751 649.047,829.603 650.003,829.334 650.958,828.942 651.914,828.428 \n",
       "  652.869,827.79 653.825,827.03 654.78,826.147 655.736,825.143 656.691,824.017 657.647,822.77 658.603,821.402 659.558,819.914 660.514,818.305 661.469,816.574 \n",
       "  662.425,814.721 663.38,812.743 664.336,810.64 665.291,808.409 666.247,806.05 667.202,803.559 668.158,800.935 669.114,798.176 670.069,795.281 671.025,792.248 \n",
       "  671.98,789.078 672.936,785.77 673.891,782.325 674.847,778.744 675.802,775.03 676.758,771.187 677.714,767.218 678.669,763.129 679.625,758.925 680.58,754.615 \n",
       "  681.536,750.205 682.491,745.705 683.447,741.125 684.402,736.474 685.358,731.763 686.314,727.004 687.269,722.208 688.225,717.386 689.18,712.55 690.136,707.713 \n",
       "  691.091,702.885 692.047,698.078 693.002,693.303 693.958,688.57 694.913,683.89 695.869,679.273 696.825,674.726 697.78,670.26 698.736,665.88 699.691,661.595 \n",
       "  700.647,657.411 701.602,653.333 702.558,649.366 703.513,645.515 704.469,641.783 705.425,638.173 706.38,634.688 707.336,631.328 708.291,628.095 709.247,624.989 \n",
       "  710.202,622.01 711.158,619.159 712.113,616.433 713.069,613.832 714.024,611.353 714.98,608.996 715.936,606.758 716.891,604.637 717.847,602.63 718.802,600.735 \n",
       "  719.758,598.95 720.713,597.273 721.669,595.701 722.624,594.232 723.58,592.865 724.536,591.597 725.491,590.429 726.447,589.357 727.402,588.383 728.358,587.505 \n",
       "  729.313,586.723 730.269,586.038 731.224,585.45 732.18,584.96 733.136,584.569 734.091,584.279 735.047,584.092 736.002,584.008 736.958,584.032 737.913,584.164 \n",
       "  738.869,584.408 739.824,584.767 740.78,585.243 741.735,585.838 742.691,586.558 743.647,587.403 744.602,588.379 745.558,589.486 746.513,590.73 747.469,592.112 \n",
       "  748.424,593.636 749.38,595.304 750.335,597.12 751.291,599.085 752.247,601.203 753.202,603.477 754.158,605.907 755.113,608.497 756.069,611.249 757.024,614.164 \n",
       "  757.98,617.244 758.935,620.492 759.891,623.908 760.847,627.495 761.802,631.253 762.758,635.185 763.713,639.291 764.669,643.572 765.624,648.03 766.58,652.665 \n",
       "  767.535,657.478 768.491,662.47 769.446,667.641 770.402,672.991 771.358,678.521 772.313,684.228 773.269,690.113 774.224,696.174 775.18,702.407 776.135,708.811 \n",
       "  777.091,715.38 778.046,722.11 779.002,728.992 779.958,736.02 780.913,743.183 781.869,750.468 782.824,757.862 783.78,765.346 784.735,772.902 785.691,780.507 \n",
       "  786.646,788.135 787.602,795.758 788.558,803.343 789.513,810.855 790.469,818.259 791.424,825.513 792.38,832.578 793.335,839.412 794.291,845.974 795.246,852.227 \n",
       "  796.202,858.134 797.157,863.664 798.113,868.793 799.069,873.502 800.024,877.782 800.98,881.629 801.935,885.048 802.891,888.055 803.846,890.667 804.802,892.91 \n",
       "  805.757,894.815 806.713,896.414 807.669,897.741 808.624,898.832 809.58,899.72 810.535,900.438 811.491,901.016 812.446,901.483 813.402,901.861 814.357,902.173 \n",
       "  815.313,902.436 816.269,902.664 817.224,902.867 818.18,903.054 819.135,903.228 820.091,903.39 821.046,903.538 822.002,903.667 822.957,903.768 823.913,903.829 \n",
       "  824.868,903.836 825.824,903.752 826.78,903.532 827.735,903.133 828.691,902.502 829.646,901.578 830.602,900.296 831.557,898.585 832.513,896.377 833.468,893.61 \n",
       "  834.424,890.227 835.38,886.188 836.335,881.466 837.291,876.053 838.246,869.963 839.202,863.223 840.157,855.882 841.113,847.997 842.068,839.638 843.024,830.879 \n",
       "  843.98,821.796 844.935,812.465 845.891,802.957 846.846,793.337 847.802,783.666 848.757,773.996 849.713,764.373 850.668,754.837 851.624,745.421 852.579,736.152 \n",
       "  853.535,727.052 854.491,718.14 855.446,709.43 856.402,700.932 857.357,692.655 858.313,684.604 859.268,676.784 860.224,669.196 861.179,661.842 862.135,654.72 \n",
       "  863.091,647.831 864.046,641.172 865.002,634.74 865.957,628.534 866.913,622.55 867.868,616.785 868.824,611.235 869.779,605.896 870.735,600.765 871.691,595.837 \n",
       "  872.646,591.108 873.602,586.576 874.557,582.234 875.513,578.08 876.468,574.109 877.424,570.316 878.379,566.698 879.335,563.25 880.29,559.968 881.246,556.847 \n",
       "  882.202,553.884 883.157,551.072 884.113,548.408 885.068,545.888 886.024,543.507 886.979,541.259 887.935,539.142 888.89,537.149 889.846,535.278 890.802,533.523 \n",
       "  891.757,531.88 892.713,530.346 893.668,528.916 894.624,527.587 895.579,526.354 896.535,525.216 897.49,524.168 898.446,523.209 899.402,522.336 900.357,521.545 \n",
       "  901.313,520.837 902.268,520.209 903.224,519.66 904.179,519.19 905.135,518.797 906.09,518.482 907.046,518.244 908.001,518.084 908.957,518.003 909.913,518.002 \n",
       "  910.868,518.081 911.824,518.241 912.779,518.485 913.735,518.814 914.69,519.229 915.646,519.732 916.601,520.325 917.557,521.009 918.513,521.787 919.468,522.66 \n",
       "  920.424,523.631 921.379,524.7 922.335,525.871 923.29,527.144 924.246,528.521 925.201,530.004 926.157,531.596 927.113,533.297 928.068,535.11 929.024,537.036 \n",
       "  929.979,539.076 930.935,541.234 931.89,543.51 932.846,545.906 933.801,548.424 934.757,551.065 935.712,553.832 936.668,556.726 937.624,559.749 938.579,562.902 \n",
       "  939.535,566.188 940.49,569.607 941.446,573.162 942.401,576.853 943.357,580.683 944.312,584.652 945.268,588.761 946.224,593.011 947.179,597.404 948.135,601.939 \n",
       "  949.09,606.617 950.046,611.437 951.001,616.4 951.957,621.504 952.912,626.748 953.868,632.129 954.824,637.646 955.779,643.294 956.735,649.07 957.69,654.969 \n",
       "  958.646,660.983 959.601,667.106 960.557,673.329 961.512,679.642 962.468,686.033 963.423,692.488 964.379,698.991 965.335,705.525 966.29,712.071 967.246,718.605 \n",
       "  968.201,725.104 969.157,731.541 970.112,737.887 971.068,744.111 972.023,750.18 972.979,756.059 973.935,761.715 974.89,767.111 975.846,772.214 976.801,776.991 \n",
       "  977.757,781.411 978.712,785.449 979.668,789.081 980.623,792.293 981.579,795.072 982.535,797.416 983.49,799.328 984.446,800.816 985.401,801.896 986.357,802.588 \n",
       "  987.312,802.919 988.268,802.916 989.223,802.61 990.179,802.034 991.134,801.22 992.09,800.199 993.046,799.003 994.001,797.658 994.957,796.191 995.912,794.625 \n",
       "  996.868,792.98 997.823,791.272 998.779,789.515 999.734,787.719 1000.69,785.891 1001.65,784.035 1002.6,782.154 1003.56,780.246 1004.51,778.308 1005.47,776.335 \n",
       "  1006.42,774.32 1007.38,772.255 1008.33,770.129 1009.29,767.932 1010.25,765.654 1011.2,763.281 1012.16,760.804 1013.11,758.209 1014.07,755.487 1015.02,752.628 \n",
       "  1015.98,749.621 1016.93,746.461 1017.89,743.139 1018.85,739.652 1019.8,735.996 1020.76,732.171 1021.71,728.176 1022.67,724.014 1023.62,719.688 1024.58,715.205 \n",
       "  1025.53,710.572 1026.49,705.795 1027.45,700.886 1028.4,695.855 1029.36,690.712 1030.31,685.47 1031.27,680.14 1032.22,674.735 1033.18,669.266 1034.13,663.748 \n",
       "  1035.09,658.191 1036.05,652.607 1037,647.008 1037.96,641.404 1038.91,635.806 1039.87,630.225 1040.82,624.668 1041.78,619.145 1042.73,613.665 1043.69,608.234 \n",
       "  1044.65,602.859 1045.6,597.548 1046.56,592.306 1047.51,587.139 1048.47,582.051 1049.42,577.047 1050.38,572.131 1051.33,567.308 1052.29,562.58 1053.25,557.951 \n",
       "  1054.2,553.423 1055.16,549 1056.11,544.683 1057.07,540.474 1058.02,536.376 1058.98,532.39 1059.93,528.517 1060.89,524.76 1061.85,521.12 1062.8,517.597 \n",
       "  1063.76,514.193 1064.71,510.91 1065.67,507.747 1066.62,504.707 1067.58,501.79 1068.53,498.998 1069.49,496.33 1070.45,493.789 1071.4,491.375 1072.36,489.09 \n",
       "  1073.31,486.934 1074.27,484.908 1075.22,483.014 1076.18,481.252 1077.13,479.624 1078.09,478.131 1079.05,476.773 1080,475.552 1080.96,474.469 1081.91,473.525 \n",
       "  1082.87,472.721 1083.82,472.058 1084.78,471.536 1085.73,471.157 1086.69,470.922 1087.65,470.831 1088.6,470.885 1089.56,471.085 1090.51,471.432 1091.47,471.926 \n",
       "  1092.42,472.567 1093.38,473.357 1094.33,474.296 1095.29,475.383 1096.25,476.621 1097.2,478.008 1098.16,479.546 1099.11,481.234 1100.07,483.072 1101.02,485.061 \n",
       "  1101.98,487.201 1102.93,489.492 1103.89,491.933 1104.85,494.524 1105.8,497.266 1106.76,500.157 1107.71,503.197 1108.67,506.385 1109.62,509.721 1110.58,513.203 \n",
       "  1111.53,516.83 1112.49,520.601 1113.45,524.513 1114.4,528.564 1115.36,532.753 1116.31,537.075 1117.27,541.528 1118.22,546.107 1119.18,550.808 1120.13,555.626 \n",
       "  1121.09,560.555 1122.05,565.588 1123,570.718 1123.96,575.935 1124.91,581.229 1125.87,586.591 1126.82,592.007 1127.78,597.464 1128.73,602.946 1129.69,608.437 \n",
       "  1130.65,613.918 1131.6,619.368 1132.56,624.767 1133.51,630.09 1134.47,635.312 1135.42,640.408 1136.38,645.349 1137.33,650.108 1138.29,654.656 1139.24,658.966 \n",
       "  1140.2,663.01 1141.16,666.764 1142.11,670.203 1143.07,673.309 1144.02,676.065 1144.98,678.458 1145.93,680.482 1146.89,682.135 1147.84,683.419 1148.8,684.341 \n",
       "  1149.76,684.916 1150.71,685.16 1151.67,685.093 1152.62,684.739 1153.58,684.124 1154.53,683.275 1155.49,682.22 1156.44,680.988 1157.4,679.607 1158.36,678.104 \n",
       "  1159.31,676.504 1160.27,674.832 1161.22,673.109 1162.18,671.356 1163.13,669.591 1164.09,667.831 1165.04,666.09 1166,664.381 1166.96,662.714 1167.91,661.098 \n",
       "  1168.87,659.54 1169.82,658.047 1170.78,656.622 1171.73,655.269 1172.69,653.99 1173.64,652.787 1174.6,651.658 1175.56,650.603 1176.51,649.621 1177.47,648.71 \n",
       "  1178.42,647.866 1179.38,647.085 1180.33,646.364 1181.29,645.697 1182.24,645.079 1183.2,644.504 1184.16,643.967 1185.11,643.459 1186.07,642.973 1187.02,642.502 \n",
       "  1187.98,642.037 1188.93,641.569 1189.89,641.088 1190.84,640.586 1191.8,640.051 1192.76,639.473 1193.71,638.841 1194.67,638.144 1195.62,637.372 1196.58,636.512 \n",
       "  1197.53,635.555 1198.49,634.49 1199.44,633.307 1200.4,631.997 1201.36,630.551 1202.31,628.963 1203.27,627.228 1204.22,625.341 1205.18,623.299 1206.13,621.101 \n",
       "  1207.09,618.749 1208.04,616.245 1209,613.593 1209.96,610.799 1210.91,607.871 1211.87,604.816 1212.82,601.646 1213.78,598.37 1214.73,595.001 1215.69,591.549 \n",
       "  1216.64,588.027 1217.6,584.448 1218.56,580.824 1219.51,577.167 1220.47,573.488 1221.42,569.799 1222.38,566.112 1223.33,562.435 1224.29,558.779 1225.24,555.152 \n",
       "  1226.2,551.564 1227.16,548.021 1228.11,544.531 1229.07,541.101 1230.02,537.736 1230.98,534.442 1231.93,531.224 1232.89,528.086 1233.84,525.033 1234.8,522.068 \n",
       "  1235.76,519.196 1236.71,516.419 1237.67,513.74 1238.62,511.161 1239.58,508.686 1240.53,506.317 1241.49,504.055 1242.44,501.903 1243.4,499.863 1244.36,497.936 \n",
       "  1245.31,496.124 1246.27,494.428 1247.22,492.851 1248.18,491.392 1249.13,490.053 1250.09,488.836 1251.04,487.741 1252,486.77 1252.96,485.922 1253.91,485.199 \n",
       "  1254.87,484.602 1255.82,484.131 1256.78,483.786 1257.73,483.569 1258.69,483.478 1259.64,483.514 1260.6,483.678 1261.56,483.97 1262.51,484.388 1263.47,484.933 \n",
       "  1264.42,485.605 1265.38,486.403 1266.33,487.326 1267.29,488.374 1268.24,489.546 1269.2,490.841 1270.16,492.258 1271.11,493.796 1272.07,495.453 1273.02,497.229 \n",
       "  1273.98,499.121 1274.93,501.128 1275.89,503.248 1276.84,505.479 1277.8,507.819 1278.76,510.266 1279.71,512.816 1280.67,515.468 1281.62,518.217 1282.58,521.062 \n",
       "  1283.53,523.997 1284.49,527.02 1285.44,530.125 1286.4,533.307 1287.36,536.562 1288.31,539.883 1289.27,543.263 1290.22,546.695 1291.18,550.171 1292.13,553.682 \n",
       "  1293.09,557.217 1294.04,560.767 1295,564.32 1295.96,567.861 1296.91,571.378 1297.87,574.855 1298.82,578.276 1299.78,581.624 1300.73,584.882 1301.69,588.029 \n",
       "  1302.64,591.047 1303.6,593.916 1304.56,596.615 1305.51,599.127 1306.47,601.431 1307.42,603.509 1308.38,605.345 1309.33,606.924 1310.29,608.234 1311.24,609.265 \n",
       "  1312.2,610.009 1313.16,610.463 1314.11,610.626 1315.07,610.5 1316.02,610.093 1316.98,609.412 1317.93,608.469 1318.89,607.28 1319.84,605.86 1320.8,604.228 \n",
       "  1321.76,602.403 1322.71,600.406 1323.67,598.258 1324.62,595.981 1325.58,593.595 1326.53,591.12 1327.49,588.578 1328.44,585.987 1329.4,583.365 1330.36,580.729 \n",
       "  1331.31,578.094 1332.27,575.477 1333.22,572.889 1334.18,570.343 1335.13,567.851 1336.09,565.423 1337.04,563.067 1338,560.792 1338.96,558.604 1339.91,556.511 \n",
       "  1340.87,554.517 1341.82,552.628 1342.78,550.847 1343.73,549.178 1344.69,547.624 1345.64,546.186 1346.6,544.867 1347.56,543.668 1348.51,542.59 1349.47,541.633 \n",
       "  1350.42,540.797 1351.38,540.082 1352.33,539.486 1353.29,539.009 1354.24,538.65 1355.2,538.405 1356.16,538.274 1357.11,538.252 1358.07,538.338 1359.02,538.528 \n",
       "  1359.98,538.818 1360.93,539.203 1361.89,539.68 1362.84,540.241 1363.8,540.883 1364.76,541.598 1365.71,542.38 1366.67,543.221 1367.62,544.113 1368.58,545.049 \n",
       "  1369.53,546.018 1370.49,547.011 1371.44,548.018 1372.4,549.028 1373.36,550.03 1374.31,551.013 1375.27,551.964 1376.22,552.872 1377.18,553.724 1378.13,554.508 \n",
       "  1379.09,555.212 1380.04,555.825 1381,556.334 1381.96,556.731 1382.91,557.005 1383.87,557.147 1384.82,557.15 1385.78,557.009 1386.73,556.719 1387.69,556.277 \n",
       "  1388.64,555.682 1389.6,554.934 1390.56,554.036 1391.51,552.992 1392.47,551.806 1393.42,550.486 1394.38,549.039 1395.33,547.475 1396.29,545.804 1397.24,544.037 \n",
       "  1398.2,542.185 1399.16,540.259 1400.11,538.273 1401.07,536.237 1402.02,534.165 1402.98,532.067 1403.93,529.955 1404.89,527.84 1405.84,525.733 1406.8,523.645 \n",
       "  1407.75,521.583 1408.71,519.559 1409.67,517.579 1410.62,515.653 1411.58,513.787 1412.53,511.988 1413.49,510.264 1414.44,508.618 1415.4,507.058 1416.35,505.588 \n",
       "  1417.31,504.212 1418.27,502.935 1419.22,501.761 1420.18,500.692 1421.13,499.732 1422.09,498.884 1423.04,498.15 1424,497.532 1424.95,497.032 1425.91,496.652 \n",
       "  1426.87,496.393 1427.82,496.256 1428.78,496.243 1429.73,496.353 1430.69,496.589 1431.64,496.949 1432.6,497.434 1433.55,498.044 1434.51,498.78 1435.47,499.639 \n",
       "  1436.42,500.623 1437.38,501.73 1438.33,502.96 1439.29,504.31 1440.24,505.781 1441.2,507.371 1442.15,509.077 1443.11,510.898 1444.07,512.832 1445.02,514.877 \n",
       "  1445.98,517.029 1446.93,519.286 1447.89,521.645 1448.84,524.1 1449.8,526.648 1450.75,529.284 1451.71,532.003 1452.67,534.798 1453.62,537.663 1454.58,540.59 \n",
       "  1455.53,543.57 1456.49,546.596 1457.44,549.656 1458.4,552.739 1459.35,555.834 1460.31,558.927 1461.27,562.004 1462.22,565.049 1463.18,568.047 1464.13,570.979 \n",
       "  1465.09,573.828 1466.04,576.574 1467,579.198 1467.95,581.68 1468.91,583.999 1469.87,586.136 1470.82,588.07 1471.78,589.784 1472.73,591.26 1473.69,592.483 \n",
       "  1474.64,593.439 1475.6,594.118 1476.55,594.511 1477.51,594.613 1478.47,594.423 1479.42,593.942 1480.38,593.176 1481.33,592.131 1482.29,590.818 1483.24,589.251 \n",
       "  1484.2,587.446 1485.15,585.419 1486.11,583.19 1487.07,580.779 1488.02,578.205 1488.98,575.49 1489.93,572.654 1490.89,569.718 1491.84,566.702 1492.8,563.623 \n",
       "  1493.75,560.501 1494.71,557.353 1495.67,554.193 1496.62,551.038 1497.58,547.901 1498.53,544.794 1499.49,541.729 1500.44,538.716 1501.4,535.765 1502.35,532.884 \n",
       "  1503.31,530.081 1504.27,527.362 1505.22,524.734 1506.18,522.202 1507.13,519.771 1508.09,517.444 1509.04,515.226 1510,513.119 1510.95,511.126 1511.91,509.25 \n",
       "  1512.87,507.491 1513.82,505.853 1514.78,504.335 1515.73,502.939 1516.69,501.666 1517.64,500.516 1518.6,499.489 1519.55,498.586 1520.51,497.807 1521.47,497.151 \n",
       "  1522.42,496.618 1523.38,496.207 1524.33,495.919 1525.29,495.751 1526.24,495.703 1527.2,495.775 1528.15,495.964 1529.11,496.27 1530.07,496.691 1531.02,497.224 \n",
       "  1531.98,497.87 1532.93,498.624 1533.89,499.486 1534.84,500.452 1535.8,501.519 1536.75,502.685 1537.71,503.947 1538.67,505.3 1539.62,506.741 1540.58,508.265 \n",
       "  1541.53,509.868 1542.49,511.544 1543.44,513.288 1544.4,515.093 1545.35,516.953 1546.31,518.861 1547.27,520.808 1548.22,522.788 1549.18,524.79 1550.13,526.806 \n",
       "  1551.09,528.826 1552.04,530.839 1553,532.834 1553.95,534.802 1554.91,536.729 1555.87,538.605 1556.82,540.418 1557.78,542.157 1558.73,543.811 1559.69,545.368 \n",
       "  1560.64,546.821 1561.6,548.158 1562.55,549.372 1563.51,550.457 1564.47,551.406 1565.42,552.215 1566.38,552.881 1567.33,553.403 1568.29,553.782 1569.24,554.02 \n",
       "  1570.2,554.119 1571.15,554.086 1572.11,553.926 1573.07,553.647 1574.02,553.258 1574.98,552.768 1575.93,552.187 1576.89,551.526 1577.84,550.797 1578.8,550.01 \n",
       "  1579.75,549.177 1580.71,548.309 1581.67,547.418 1582.62,546.514 1583.58,545.609 1584.53,544.712 1585.49,543.833 1586.44,542.982 1587.4,542.166 1588.35,541.395 \n",
       "  1589.31,540.675 1590.27,540.014 1591.22,539.419 1592.18,538.895 1593.13,538.449 1594.09,538.084 1595.04,537.807 1596,537.621 1596.95,537.53 1597.91,537.537 \n",
       "  1598.87,537.647 1599.82,537.861 1600.78,538.182 1601.73,538.612 1602.69,539.152 1603.64,539.805 1604.6,540.572 1605.55,541.452 1606.51,542.447 1607.47,543.556 \n",
       "  1608.42,544.779 1609.38,546.116 1610.33,547.564 1611.29,549.122 1612.24,550.788 1613.2,552.56 1614.15,554.433 1615.11,556.404 1616.07,558.468 1617.02,560.62 \n",
       "  1617.98,562.854 1618.93,565.162 1619.89,567.538 1620.84,569.971 1621.8,572.453 1622.75,574.972 1623.71,577.517 1624.67,580.074 1625.62,582.631 1626.58,585.17 \n",
       "  1627.53,587.676 1628.49,590.132 1629.44,592.519 1630.4,594.817 1631.35,597.007 1632.31,599.068 1633.27,600.979 1634.22,602.719 1635.18,604.267 1636.13,605.605 \n",
       "  1637.09,606.713 1638.04,607.573 1639,608.173 1639.95,608.497 1640.91,608.537 1641.87,608.285 1642.82,607.738 1643.78,606.894 1644.73,605.758 1645.69,604.334 \n",
       "  1646.64,602.632 1647.6,600.664 1648.55,598.443 1649.51,595.987 1650.47,593.313 1651.42,590.44 1652.38,587.388 1653.33,584.178 1654.29,580.83 1655.24,577.365 \n",
       "  1656.2,573.802 1657.15,570.16 1658.11,566.457 1659.07,562.711 1660.02,558.939 1660.98,555.154 1661.93,551.371 1662.89,547.604 1663.84,543.862 1664.8,540.158 \n",
       "  1665.75,536.501 1666.71,532.9 1667.67,529.363 1668.62,525.896 1669.58,522.507 1670.53,519.2 1671.49,515.982 1672.44,512.855 1673.4,509.825 1674.35,506.896 \n",
       "  1675.31,504.069 1676.26,501.349 1677.22,498.738 1678.18,496.237 1679.13,493.85 1680.09,491.577 1681.04,489.422 1682,487.385 1682.95,485.467 1683.91,483.67 \n",
       "  1684.86,481.995 1685.82,480.444 1686.78,479.017 1687.73,477.715 1688.69,476.539 1689.64,475.489 1690.6,474.567 1691.55,473.773 1692.51,473.108 1693.46,472.571 \n",
       "  1694.42,472.165 1695.38,471.888 1696.33,471.742 1697.29,471.727 1698.24,471.843 1699.2,472.09 1700.15,472.469 1701.11,472.98 1702.06,473.623 1703.02,474.397 \n",
       "  1703.98,475.303 1704.93,476.339 1705.89,477.506 1706.84,478.804 1707.8,480.234 1708.75,481.796 1709.71,483.489 1710.66,485.315 1711.62,487.272 1712.58,489.361 \n",
       "  1713.53,491.579 1714.49,493.928 1715.44,496.405 1716.4,499.008 1717.35,501.737 1718.31,504.587 1719.26,507.558 1720.22,510.645 1721.18,513.845 1722.13,517.154 \n",
       "  1723.09,520.566 1724.04,524.076 1725,527.678 1725.95,531.363 1726.91,535.125 1727.86,538.954 1728.82,542.841 1729.78,546.773 1730.73,550.74 1731.69,554.727 \n",
       "  1732.64,558.72 1733.6,562.704 1734.55,566.661 1735.51,570.575 1736.46,574.425 1737.42,578.192 1738.38,581.856 1739.33,585.395 1740.29,588.79 1741.24,592.019 \n",
       "  1742.2,595.063 1743.15,597.902 1744.11,600.518 1745.06,602.897 1746.02,605.025 1746.98,606.89 1747.93,608.487 1748.89,609.81 1749.84,610.857 1750.8,611.633 \n",
       "  1751.75,612.141 1752.71,612.39 1753.66,612.393 1754.62,612.162 1755.58,611.714 1756.53,611.066 1757.49,610.237 1758.44,609.247 1759.4,608.115 1760.35,606.861 \n",
       "  1761.31,605.504 1762.26,604.065 1763.22,602.562 1764.18,601.011 1765.13,599.429 1766.09,597.831 1767.04,596.233 1768,594.645 1768.95,593.081 1769.91,591.552 \n",
       "  1770.86,590.065 1771.82,588.631 1772.78,587.256 1773.73,585.948 1774.69,584.712 1775.64,583.553 1776.6,582.475 1777.55,581.483 1778.51,580.578 1779.46,579.763 \n",
       "  1780.42,579.041 1781.38,578.413 1782.33,577.879 1783.29,577.441 1784.24,577.099 1785.2,576.853 1786.15,576.702 1787.11,576.647 1788.06,576.687 1789.02,576.82 \n",
       "  1789.98,577.047 1790.93,577.367 1791.89,577.777 1792.84,578.278 1793.8,578.869 1794.75,579.547 1795.71,580.312 1796.66,581.164 1797.62,582.1 1798.58,583.12 \n",
       "  1799.53,584.223 1800.49,585.408 1801.44,586.673 1802.4,588.019 1803.35,589.444 1804.31,590.947 1805.26,592.527 1806.22,594.184 1807.18,595.916 1808.13,597.722 \n",
       "  1809.09,599.601 1810.04,601.551 1811,603.573 1811.95,605.662 1812.91,607.819 1813.86,610.041 1814.82,612.326 1815.78,614.672 1816.73,617.074 1817.69,619.532 \n",
       "  1818.64,622.04 1819.6,624.596 1820.55,627.194 1821.51,629.83 1822.46,632.5 1823.42,635.196 1824.38,637.913 1825.33,640.644 1826.29,643.382 1827.24,646.119 \n",
       "  1828.2,648.846 1829.15,651.555 1830.11,654.236 1831.06,656.879 1832.02,659.475 1832.98,662.012 1833.93,664.48 1834.89,666.868 1835.84,669.165 1836.8,671.361 \n",
       "  1837.75,673.446 1838.71,675.41 1839.66,677.243 1840.62,678.938 1841.58,680.488 1842.53,681.886 1843.49,683.128 1844.44,684.211 1845.4,685.133 1846.35,685.894 \n",
       "  1847.31,686.496 1848.26,686.942 1849.22,687.238 1850.18,687.389 1851.13,687.404 1852.09,687.292 1853.04,687.064 1854,686.731 1854.95,686.306 1855.91,685.8 \n",
       "  1856.86,685.229 1857.82,684.604 1858.78,683.941 1859.73,683.253 1860.69,682.553 1861.64,681.855 1862.6,681.173 1863.55,680.517 1864.51,679.902 1865.46,679.337 \n",
       "  1866.42,678.835 1867.38,678.405 1868.33,678.058 1869.29,677.802 1870.24,677.646 1871.2,677.599 1872.15,677.667 1873.11,677.858 1874.06,678.179 1875.02,678.634 \n",
       "  1875.98,679.23 1876.93,679.971 1877.89,680.862 1878.84,681.907 1879.8,683.111 1880.75,684.475 1881.71,686.004 1882.66,687.7 1883.62,689.564 1884.58,691.599 \n",
       "  1885.53,693.806 1886.49,696.185 1887.44,698.738 1888.4,701.464 1889.35,704.363 1890.31,707.433 1891.26,710.673 1892.22,714.081 1893.18,717.652 1894.13,721.383 \n",
       "  1895.09,725.268 1896.04,729.302 1897,733.477 1897.95,737.785 1898.91,742.215 1899.86,746.756 1900.82,751.395 1901.78,756.116 1902.73,760.903 1903.69,765.736 \n",
       "  1904.64,770.596 1905.6,775.458 1906.55,780.297 1907.51,785.088 1908.46,789.801 1909.42,794.407 1910.38,798.875 1911.33,803.173 1912.29,807.272 1913.24,811.141 \n",
       "  1914.2,814.752 1915.15,818.079 1916.11,821.102 1917.06,823.801 1918.02,826.164 1918.98,828.184 1919.93,829.859 1920.89,831.192 1921.84,832.194 1922.8,832.878 \n",
       "  1923.75,833.264 1924.71,833.374 1925.66,833.234 1926.62,832.873 1927.58,832.319 1928.53,831.603 1929.49,830.754 1930.44,829.801 1931.4,828.771 1932.35,827.691 \n",
       "  1933.31,826.585 1934.26,825.475 1935.22,824.382 1936.18,823.322 1937.13,822.313 1938.09,821.368 1939.04,820.5 1940,819.717 1940.95,819.029 1941.91,818.443 \n",
       "  1942.86,817.963 1943.82,817.595 1944.78,817.34 1945.73,817.2 1946.69,816.793 1947.64,815.442 1948.6,814.033 1949.55,812.579 1950.51,811.092 1951.46,809.586 \n",
       "  1952.42,808.078 1953.37,806.584 1954.33,805.121 1955.29,803.705 1956.24,802.354 1957.2,801.086 1958.15,799.916 1959.11,798.862 1960.06,797.938 1961.02,797.162 \n",
       "  1961.97,796.547 1962.93,796.108 1963.89,795.858 1964.84,795.812 1965.8,795.981 1966.75,796.378 1967.71,797.015 1968.66,797.903 1969.62,799.054 1970.57,800.478 \n",
       "  1971.53,802.186 1972.49,804.187 1973.44,806.493 1974.4,809.113 1975.35,812.055 1976.31,815.33 1977.26,818.946 1978.22,822.91 1979.17,827.23 1980.13,831.911 \n",
       "  1981.09,836.957 1982.04,842.371 1983,848.152 1983.95,854.293 1984.91,860.786 1985.86,867.612 1986.82,874.747 1987.77,882.151 1988.73,889.772 1989.69,897.54 \n",
       "  1990.64,905.362 1991.6,913.117 1992.55,920.658 1993.51,927.804 1994.46,934.345 1995.42,940.049 1996.37,944.672 1997.33,947.982 1998.29,949.779 1999.24,949.924 \n",
       "  2000.2,948.356 2001.15,945.103 2002.11,940.28 2003.06,934.067 2004.02,926.687 2004.97,918.383 2005.93,909.393 2006.89,899.935 2007.84,890.201 2008.8,880.35 \n",
       "  2009.75,870.512 2010.71,860.789 2011.66,851.261 2012.62,841.985 2013.57,833.004 2014.53,824.35 2015.49,816.042 2016.44,808.095 2017.4,800.514 2018.35,793.305 \n",
       "  2019.31,786.467 2020.26,779.998 2021.22,773.895 2022.17,768.151 2023.13,762.764 2024.09,757.725 2025.04,753.029 2026,748.671 2026.95,744.643 2027.91,740.941 \n",
       "  2028.86,737.558 2029.82,734.488 2030.77,731.727 2031.73,729.269 2032.69,727.11 2033.64,725.245 2034.6,723.669 2035.55,722.38 2036.51,721.373 2037.46,720.645 \n",
       "  2038.42,720.193 2039.37,720.013 2040.33,720.102 2041.29,720.458 2042.24,721.079 2043.2,721.962 2044.15,723.105 2045.11,724.505 2046.06,726.16 2047.02,728.07 \n",
       "  2047.97,730.231 2048.93,732.641 2049.89,735.299 2050.84,738.202 2051.8,741.348 2052.75,744.734 2053.71,748.357 2054.66,752.213 2055.62,756.299 2056.57,760.611 \n",
       "  2057.53,765.141 2058.49,769.885 2059.44,774.833 2060.4,779.978 2061.35,785.308 2062.31,790.81 2063.26,796.47 2064.22,802.27 2065.17,808.19 2066.13,814.206 \n",
       "  2067.09,820.291 2068.04,826.414 2069,832.54 2069.95,838.629 2070.91,844.637 2071.86,850.518 2072.82,856.221 2073.77,861.691 2074.73,866.873 2075.69,871.712 \n",
       "  2076.64,876.155 2077.6,880.151 2078.55,883.657 2079.51,886.637 2080.46,889.063 2081.42,890.923 2082.37,892.212 2083.33,892.941 2084.29,893.129 2085.24,892.808 \n",
       "  2086.2,892.017 2087.15,890.803 2088.11,889.214 2089.06,887.304 2090.02,885.124 2090.97,882.725 2091.93,880.156 2092.89,877.461 2093.84,874.68 2094.8,871.85 \n",
       "  2095.75,869.002 2096.71,866.162 2097.66,863.353 2098.62,860.593 2099.57,857.898 2100.53,855.279 2101.49,852.744 2102.44,850.298 2103.4,847.946 2104.35,845.688 \n",
       "  2105.31,843.524 2106.26,841.454 2107.22,839.473 2108.17,837.579 2109.13,835.766 2110.09,834.031 2111.04,832.368 2112,830.771 2112.95,829.236 2113.91,827.757 \n",
       "  2114.86,826.329 2115.82,824.949 2116.77,823.611 2117.73,822.314 2118.69,821.055 2119.64,819.831 2120.6,818.643 2121.55,817.49 2122.51,816.374 2123.46,815.296 \n",
       "  2124.42,814.259 2125.37,813.268 2126.33,812.327 2127.29,811.442 2128.24,810.62 2129.2,809.868 2130.15,809.194 2131.11,808.606 2132.06,808.113 2133.02,807.725 \n",
       "  2133.97,807.451 2134.93,807.302 2135.89,807.287 2136.84,807.416 2137.8,807.7 2138.75,808.149 2139.71,808.772 2140.66,809.58 2141.62,810.582 2142.57,811.788 \n",
       "  2143.53,813.207 2144.49,814.848 2145.44,816.721 2146.4,818.833 2147.35,821.192 2148.31,823.807 2149.26,826.685 2150.22,829.831 2151.17,833.251 2152.13,836.951 \n",
       "  2153.09,840.934 2154.04,845.201 2155,849.754 2155.95,854.589 2156.91,859.704 2157.86,865.089 2158.82,870.731 2159.77,876.613 2160.73,882.711 2161.69,888.991 \n",
       "  2162.64,895.413 2163.6,901.922 2164.55,908.452 2165.51,914.924 2166.46,921.241 2167.42,927.293 2168.37,932.955 2169.33,938.089 2170.29,942.555 2171.24,946.214 \n",
       "  2172.2,948.937 2173.15,950.621 2174.11,951.194 2175.06,950.626 2176.02,948.929 2176.97,946.162 2177.93,942.416 2178.89,937.813 2179.84,932.491 2180.8,926.596 \n",
       "  2181.75,920.269 2182.71,913.645 2183.66,906.846 2184.62,899.977 2185.57,893.131 2186.53,886.384 2187.49,879.8 2188.44,873.43 2189.4,867.317 2190.35,861.493 \n",
       "  2191.31,855.985 2192.26,850.813 2193.22,845.995 2194.17,841.543 2195.13,837.466 2196.09,833.773 2197.04,830.47 2198,827.562 2198.95,825.053 2199.91,822.946 \n",
       "  2200.86,821.244 2201.82,819.951 2202.77,819.069 2203.73,818.602 2204.69,818.551 2205.64,818.922 2206.6,819.716 2207.55,820.939 2208.51,822.593 2209.46,824.685 \n",
       "  2210.42,827.217 2211.37,830.194 2212.33,833.621 2213.29,837.501 2214.24,841.839 2215.2,846.635 2216.15,851.891 2217.11,857.604 2218.06,863.77 2219.02,870.377 \n",
       "  \n",
       "  \"/>\n",
       "<path clip-path=\"url(#clip600)\" d=\"\n",
       "M322.764 1377.32 L795.533 1377.32 L795.533 1002.95 L322.764 1002.95  Z\n",
       "  \" fill=\"#000000\" fill-rule=\"evenodd\" fill-opacity=\"0\"/>\n",
       "<polyline clip-path=\"url(#clip600)\" style=\"stroke:#000000; stroke-linecap:round; stroke-linejoin:round; stroke-width:4; stroke-opacity:0; fill:none\" points=\"\n",
       "  322.764,1377.32 795.533,1377.32 795.533,1002.95 322.764,1002.95 322.764,1377.32 \n",
       "  \"/>\n",
       "<polyline clip-path=\"url(#clip600)\" style=\"stroke:#009af9; stroke-linecap:round; stroke-linejoin:round; stroke-width:5; stroke-opacity:1; fill:none\" points=\"\n",
       "  346.097,1096.54 486.096,1096.54 \n",
       "  \"/>\n",
       "<path clip-path=\"url(#clip600)\" d=\"M509.43 1126.76 L509.43 1070.92 Q509.43 1068.7 510.63 1068.7 Q511.83 1068.7 511.83 1070.48 L511.83 1126.32 Q511.83 1128.54 510.63 1128.54 Q509.43 1128.54 509.43 1126.76 Z\" fill=\"#000000\" fill-rule=\"evenodd\" fill-opacity=\"1\" /><path clip-path=\"url(#clip600)\" d=\"M570.515 1091.3 Q570.515 1093.06 569.841 1096.13 Q569.197 1099.21 568.67 1100.67 Q567.206 1104.56 564.278 1107.84 Q562.668 1109.66 560.911 1110.98 Q559.184 1112.26 557.896 1112.91 Q556.608 1113.52 555.085 1113.85 Q553.563 1114.2 552.86 1114.23 Q552.157 1114.28 551.162 1114.28 L548.878 1123.21 Q548.41 1125.53 548.175 1125.67 Q548.117 1125.79 547.971 1125.85 Q547.853 1125.91 547.736 1125.91 L547.619 1125.91 Q547.297 1125.91 547.121 1125.76 Q546.946 1125.62 546.917 1125.44 L546.917 1125.29 Q546.917 1124.88 548.293 1119.61 Q548.995 1116.92 549.61 1114.14 Q544.926 1113.85 542.027 1111.77 Q539.158 1109.69 539.158 1105.65 Q539.158 1103.16 542.056 1095.52 Q543.432 1091.86 543.432 1090.34 Q543.432 1089.66 543.286 1089.25 Q543.14 1088.81 542.847 1088.67 Q542.554 1088.49 542.378 1088.46 Q542.232 1088.43 541.939 1088.43 Q540.212 1088.43 538.602 1090.16 Q536.991 1091.89 535.879 1095.87 Q535.644 1096.6 535.498 1096.78 Q535.352 1096.95 534.912 1096.95 Q534.181 1096.92 534.181 1096.34 Q534.181 1096.1 534.444 1095.2 Q534.708 1094.26 535.322 1092.88 Q535.967 1091.48 536.845 1090.22 Q537.723 1088.93 539.099 1088.02 Q540.505 1087.11 542.115 1087.11 Q544.311 1087.11 545.658 1088.55 Q547.034 1089.95 547.034 1092.03 Q547.034 1092.44 546.946 1092.91 Q546.858 1093.38 546.77 1093.64 Q546.712 1093.91 546.536 1094.41 Q546.389 1094.87 546.36 1094.96 Q544.867 1098.83 544.106 1101.34 Q543.345 1103.83 543.227 1104.56 Q543.14 1105.27 543.14 1106.12 Q543.14 1112.03 549.961 1112.82 L559.916 1073.21 Q560.092 1072.39 560.238 1072.21 Q560.384 1072.01 560.824 1072.01 Q561.526 1072.01 561.526 1072.65 Q561.526 1072.86 561.351 1073.56 L551.455 1112.94 Q552.391 1112.94 552.977 1112.91 Q553.563 1112.88 554.792 1112.62 Q556.051 1112.32 557.105 1111.8 Q558.189 1111.27 559.711 1110.22 Q561.233 1109.13 562.727 1107.61 Q564.6 1105.71 566.269 1102.52 Q567.938 1099.32 567.938 1096.69 Q567.938 1093.73 565.801 1091.59 Q565.479 1091.3 565.303 1091.13 Q565.157 1090.95 565.01 1090.66 Q564.893 1090.36 564.893 1089.98 Q564.893 1088.99 565.83 1088.05 Q566.767 1087.11 567.88 1087.11 Q568.875 1087.11 569.695 1088.08 Q570.515 1089.05 570.515 1091.3 Z\" fill=\"#000000\" fill-rule=\"evenodd\" fill-opacity=\"1\" /><path clip-path=\"url(#clip600)\" d=\"M576.565 1128.99 Q576.565 1122.82 578.123 1119.46 Q580.295 1114.46 585.419 1114.46 Q586.505 1114.46 587.632 1114.77 Q588.78 1115.05 590.214 1116.18 Q591.669 1117.31 592.551 1119.15 Q594.231 1122.72 594.231 1128.99 Q594.231 1135.12 592.674 1138.46 Q590.399 1143.34 585.378 1143.34 Q583.492 1143.34 581.566 1142.37 Q579.66 1141.41 578.45 1139.1 Q576.565 1135.63 576.565 1128.99 M580.049 1128.48 Q580.049 1134.81 580.5 1137.33 Q581.012 1140.06 582.406 1141.25 Q583.82 1142.42 585.378 1142.42 Q587.058 1142.42 588.452 1141.17 Q589.866 1139.89 590.296 1137.17 Q590.768 1134.48 590.747 1128.48 Q590.747 1122.64 590.337 1120.3 Q589.784 1117.58 588.308 1116.49 Q586.853 1115.38 585.378 1115.38 Q584.824 1115.38 584.23 1115.55 Q583.656 1115.71 582.816 1116.18 Q581.976 1116.65 581.32 1117.82 Q580.684 1118.99 580.377 1120.75 Q580.049 1123.03 580.049 1128.48 Z\" fill=\"#000000\" fill-rule=\"evenodd\" fill-opacity=\"1\" /><path clip-path=\"url(#clip600)\" d=\"M600.454 1126.76 L600.454 1070.92 Q600.454 1068.7 601.654 1068.7 Q602.855 1068.7 602.855 1070.48 L602.855 1126.32 Q602.855 1128.54 601.654 1128.54 Q600.454 1128.54 600.454 1126.76 Z\" fill=\"#000000\" fill-rule=\"evenodd\" fill-opacity=\"1\" /><path clip-path=\"url(#clip600)\" d=\"M609.229 1077.44 Q609.229 1076.68 609.29 1076.45 Q609.372 1076.23 609.7 1075.88 L617.755 1066.9 Q622.161 1061.94 622.161 1057.62 Q622.161 1054.81 620.685 1052.8 Q619.23 1050.79 616.546 1050.79 Q614.701 1050.79 613.143 1051.92 Q611.586 1053.05 610.869 1055.06 Q610.992 1055.01 611.422 1055.01 Q612.467 1055.01 613.041 1055.67 Q613.635 1056.33 613.635 1057.21 Q613.635 1058.33 612.898 1058.89 Q612.18 1059.42 611.463 1059.42 Q611.176 1059.42 610.787 1059.36 Q610.418 1059.3 609.823 1058.72 Q609.229 1058.13 609.229 1057.08 Q609.229 1054.15 611.442 1051.82 Q613.676 1049.48 617.078 1049.48 Q620.931 1049.48 623.452 1051.78 Q625.994 1054.05 625.994 1057.62 Q625.994 1058.87 625.604 1060.01 Q625.235 1061.14 624.723 1062.02 Q624.231 1062.9 622.878 1064.32 Q621.526 1065.73 620.44 1066.74 Q619.353 1067.74 616.914 1069.87 L612.467 1074.2 L620.03 1074.2 Q623.719 1074.2 624.006 1073.87 Q624.416 1073.27 624.928 1070.14 L625.994 1070.14 L624.805 1077.44 L609.229 1077.44 Z\" fill=\"#000000\" fill-rule=\"evenodd\" fill-opacity=\"1\" /><polyline clip-path=\"url(#clip600)\" style=\"stroke:#e26f46; stroke-linecap:round; stroke-linejoin:round; stroke-width:5; stroke-opacity:1; fill:none\" points=\"\n",
       "  346.097,1190.13 486.096,1190.13 \n",
       "  \"/>\n",
       "<path clip-path=\"url(#clip600)\" d=\"M509.43 1220.81 L509.43 1164.98 Q509.43 1162.75 510.63 1162.75 Q511.83 1162.75 511.83 1164.54 L511.83 1220.37 Q511.83 1222.6 510.63 1222.6 Q509.43 1222.6 509.43 1220.81 Z\" fill=\"#000000\" fill-rule=\"evenodd\" fill-opacity=\"1\" /><path clip-path=\"url(#clip600)\" d=\"M570.515 1185.35 Q570.515 1187.11 569.841 1190.18 Q569.197 1193.26 568.67 1194.72 Q567.206 1198.62 564.278 1201.9 Q562.668 1203.71 560.911 1205.03 Q559.184 1206.32 557.896 1206.96 Q556.608 1207.58 555.085 1207.9 Q553.563 1208.25 552.86 1208.28 Q552.157 1208.34 551.162 1208.34 L548.878 1217.27 Q548.41 1219.58 548.175 1219.73 Q548.117 1219.84 547.971 1219.9 Q547.853 1219.96 547.736 1219.96 L547.619 1219.96 Q547.297 1219.96 547.121 1219.81 Q546.946 1219.67 546.917 1219.49 L546.917 1219.35 Q546.917 1218.94 548.293 1213.67 Q548.995 1210.97 549.61 1208.19 Q544.926 1207.9 542.027 1205.82 Q539.158 1203.74 539.158 1199.7 Q539.158 1197.21 542.056 1189.57 Q543.432 1185.91 543.432 1184.39 Q543.432 1183.71 543.286 1183.3 Q543.14 1182.86 542.847 1182.72 Q542.554 1182.54 542.378 1182.51 Q542.232 1182.48 541.939 1182.48 Q540.212 1182.48 538.602 1184.21 Q536.991 1185.94 535.879 1189.92 Q535.644 1190.65 535.498 1190.83 Q535.352 1191 534.912 1191 Q534.181 1190.97 534.181 1190.39 Q534.181 1190.16 534.444 1189.25 Q534.708 1188.31 535.322 1186.93 Q535.967 1185.53 536.845 1184.27 Q537.723 1182.98 539.099 1182.07 Q540.505 1181.17 542.115 1181.17 Q544.311 1181.17 545.658 1182.6 Q547.034 1184.01 547.034 1186.09 Q547.034 1186.5 546.946 1186.96 Q546.858 1187.43 546.77 1187.7 Q546.712 1187.96 546.536 1188.46 Q546.389 1188.93 546.36 1189.01 Q544.867 1192.88 544.106 1195.4 Q543.345 1197.88 543.227 1198.62 Q543.14 1199.32 543.14 1200.17 Q543.14 1206.08 549.961 1206.87 L559.916 1167.26 Q560.092 1166.44 560.238 1166.26 Q560.384 1166.06 560.824 1166.06 Q561.526 1166.06 561.526 1166.7 Q561.526 1166.91 561.351 1167.61 L551.455 1206.99 Q552.391 1206.99 552.977 1206.96 Q553.563 1206.93 554.792 1206.67 Q556.051 1206.38 557.105 1205.85 Q558.189 1205.32 559.711 1204.27 Q561.233 1203.18 562.727 1201.66 Q564.6 1199.76 566.269 1196.57 Q567.938 1193.38 567.938 1190.74 Q567.938 1187.78 565.801 1185.65 Q565.479 1185.35 565.303 1185.18 Q565.157 1185 565.01 1184.71 Q564.893 1184.42 564.893 1184.04 Q564.893 1183.04 565.83 1182.1 Q566.767 1181.17 567.88 1181.17 Q568.875 1181.17 569.695 1182.13 Q570.515 1183.1 570.515 1185.35 Z\" fill=\"#000000\" fill-rule=\"evenodd\" fill-opacity=\"1\" /><path clip-path=\"url(#clip600)\" d=\"M576.565 1212.51 L576.565 1211.2 Q581.607 1211.2 584.209 1208.51 Q584.927 1208.51 585.05 1208.68 Q585.173 1208.84 585.173 1209.6 L585.173 1233.15 Q585.173 1234.4 585.788 1234.79 Q586.402 1235.18 589.087 1235.18 L590.419 1235.18 L590.419 1236.47 Q588.944 1236.34 583.615 1236.34 Q578.286 1236.34 576.831 1236.47 L576.831 1235.18 L578.164 1235.18 Q580.807 1235.18 581.443 1234.81 Q582.078 1234.42 582.078 1233.15 L582.078 1211.4 Q579.885 1212.51 576.565 1212.51 Z\" fill=\"#000000\" fill-rule=\"evenodd\" fill-opacity=\"1\" /><path clip-path=\"url(#clip600)\" d=\"M596.681 1220.81 L596.681 1164.98 Q596.681 1162.75 597.881 1162.75 Q599.081 1162.75 599.081 1164.54 L599.081 1220.37 Q599.081 1222.6 597.881 1222.6 Q596.681 1222.6 596.681 1220.81 Z\" fill=\"#000000\" fill-rule=\"evenodd\" fill-opacity=\"1\" /><path clip-path=\"url(#clip600)\" d=\"M605.456 1171.49 Q605.456 1170.73 605.517 1170.5 Q605.599 1170.28 605.927 1169.93 L613.981 1160.95 Q618.388 1155.99 618.388 1151.67 Q618.388 1148.86 616.912 1146.85 Q615.457 1144.84 612.772 1144.84 Q610.928 1144.84 609.37 1145.97 Q607.812 1147.1 607.095 1149.11 Q607.218 1149.07 607.648 1149.07 Q608.694 1149.07 609.268 1149.72 Q609.862 1150.38 609.862 1151.26 Q609.862 1152.39 609.124 1152.94 Q608.407 1153.47 607.689 1153.47 Q607.403 1153.47 607.013 1153.41 Q606.644 1153.35 606.05 1152.78 Q605.456 1152.18 605.456 1151.14 Q605.456 1148.21 607.669 1145.87 Q609.903 1143.53 613.305 1143.53 Q617.158 1143.53 619.679 1145.83 Q622.22 1148.1 622.22 1151.67 Q622.22 1152.92 621.831 1154.07 Q621.462 1155.19 620.949 1156.08 Q620.458 1156.96 619.105 1158.37 Q617.752 1159.78 616.666 1160.79 Q615.58 1161.79 613.141 1163.92 L608.694 1168.25 L616.256 1168.25 Q619.945 1168.25 620.232 1167.92 Q620.642 1167.33 621.154 1164.19 L622.22 1164.19 L621.031 1171.49 L605.456 1171.49 Z\" fill=\"#000000\" fill-rule=\"evenodd\" fill-opacity=\"1\" /><polyline clip-path=\"url(#clip600)\" style=\"stroke:#3da44d; stroke-linecap:round; stroke-linejoin:round; stroke-width:5; stroke-opacity:1; fill:none\" points=\"\n",
       "  346.097,1283.72 486.096,1283.72 \n",
       "  \"/>\n",
       "<path clip-path=\"url(#clip600)\" d=\"M509.43 1262.12 L515.275 1262.12 L515.275 1300.4 L536.31 1300.4 L536.31 1305.32 L509.43 1305.32 L509.43 1262.12 Z\" fill=\"#000000\" fill-rule=\"evenodd\" fill-opacity=\"1\" /><path clip-path=\"url(#clip600)\" d=\"M568.891 1287.79 L568.891 1290.39 L544.412 1290.39 Q544.759 1295.89 547.711 1298.78 Q550.691 1301.65 555.986 1301.65 Q559.053 1301.65 561.918 1300.9 Q564.811 1300.14 567.647 1298.64 L567.647 1303.67 Q564.782 1304.89 561.773 1305.53 Q558.764 1306.16 555.668 1306.16 Q547.913 1306.16 543.37 1301.65 Q538.857 1297.13 538.857 1289.44 Q538.857 1281.48 543.139 1276.82 Q547.45 1272.13 554.742 1272.13 Q561.281 1272.13 565.072 1276.36 Q568.891 1280.55 568.891 1287.79 M563.567 1286.23 Q563.509 1281.86 561.108 1279.25 Q558.735 1276.65 554.8 1276.65 Q550.344 1276.65 547.653 1279.17 Q544.991 1281.68 544.586 1286.25 L563.567 1286.23 Z\" fill=\"#000000\" fill-rule=\"evenodd\" fill-opacity=\"1\" /><path clip-path=\"url(#clip600)\" d=\"M592.357 1289.03 Q585.905 1289.03 583.417 1290.51 Q580.928 1291.98 580.928 1295.54 Q580.928 1298.38 582.78 1300.06 Q584.661 1301.71 587.872 1301.71 Q592.3 1301.71 594.962 1298.58 Q597.653 1295.43 597.653 1290.22 L597.653 1289.03 L592.357 1289.03 M602.977 1286.83 L602.977 1305.32 L597.653 1305.32 L597.653 1300.4 Q595.83 1303.36 593.11 1304.77 Q590.39 1306.16 586.455 1306.16 Q581.478 1306.16 578.526 1303.38 Q575.604 1300.58 575.604 1295.89 Q575.604 1290.42 579.25 1287.64 Q582.925 1284.87 590.187 1284.87 L597.653 1284.87 L597.653 1284.34 Q597.653 1280.67 595.222 1278.67 Q592.82 1276.65 588.451 1276.65 Q585.673 1276.65 583.04 1277.31 Q580.407 1277.98 577.977 1279.31 L577.977 1274.39 Q580.899 1273.26 583.648 1272.71 Q586.397 1272.13 589.001 1272.13 Q596.032 1272.13 599.504 1275.78 Q602.977 1279.43 602.977 1286.83 Z\" fill=\"#000000\" fill-rule=\"evenodd\" fill-opacity=\"1\" /><path clip-path=\"url(#clip600)\" d=\"M613.74 1260.3 L619.093 1260.3 L619.093 1286.89 L634.979 1272.92 L641.778 1272.92 L624.591 1288.08 L642.502 1305.32 L635.557 1305.32 L619.093 1289.5 L619.093 1305.32 L613.74 1305.32 L613.74 1260.3 Z\" fill=\"#000000\" fill-rule=\"evenodd\" fill-opacity=\"1\" /><path clip-path=\"url(#clip600)\" d=\"M661.946 1289.03 Q655.494 1289.03 653.005 1290.51 Q650.517 1291.98 650.517 1295.54 Q650.517 1298.38 652.369 1300.06 Q654.249 1301.71 657.461 1301.71 Q661.888 1301.71 664.55 1298.58 Q667.241 1295.43 667.241 1290.22 L667.241 1289.03 L661.946 1289.03 M672.565 1286.83 L672.565 1305.32 L667.241 1305.32 L667.241 1300.4 Q665.418 1303.36 662.698 1304.77 Q659.979 1306.16 656.043 1306.16 Q651.067 1306.16 648.115 1303.38 Q645.193 1300.58 645.193 1295.89 Q645.193 1290.42 648.839 1287.64 Q652.513 1284.87 659.776 1284.87 L667.241 1284.87 L667.241 1284.34 Q667.241 1280.67 664.811 1278.67 Q662.409 1276.65 658.04 1276.65 Q655.262 1276.65 652.629 1277.31 Q649.996 1277.98 647.565 1279.31 L647.565 1274.39 Q650.488 1273.26 653.237 1272.71 Q655.986 1272.13 658.59 1272.13 Q665.621 1272.13 669.093 1275.78 Q672.565 1279.43 672.565 1286.83 Z\" fill=\"#000000\" fill-rule=\"evenodd\" fill-opacity=\"1\" /><path clip-path=\"url(#clip600)\" d=\"M704.857 1288.74 Q704.857 1282.96 702.455 1279.77 Q700.083 1276.59 695.771 1276.59 Q691.489 1276.59 689.087 1279.77 Q686.715 1282.96 686.715 1288.74 Q686.715 1294.5 689.087 1297.68 Q691.489 1300.87 695.771 1300.87 Q700.083 1300.87 702.455 1297.68 Q704.857 1294.5 704.857 1288.74 M710.181 1301.3 Q710.181 1309.58 706.506 1313.6 Q702.831 1317.65 695.25 1317.65 Q692.444 1317.65 689.955 1317.22 Q687.467 1316.81 685.123 1315.94 L685.123 1310.76 Q687.467 1312.04 689.753 1312.64 Q692.039 1313.25 694.411 1313.25 Q699.649 1313.25 702.253 1310.5 Q704.857 1307.78 704.857 1302.26 L704.857 1299.62 Q703.208 1302.49 700.632 1303.91 Q698.057 1305.32 694.469 1305.32 Q688.509 1305.32 684.863 1300.78 Q681.217 1296.24 681.217 1288.74 Q681.217 1281.22 684.863 1276.68 Q688.509 1272.13 694.469 1272.13 Q698.057 1272.13 700.632 1273.55 Q703.208 1274.97 704.857 1277.83 L704.857 1272.92 L710.181 1272.92 L710.181 1301.3 Z\" fill=\"#000000\" fill-rule=\"evenodd\" fill-opacity=\"1\" /><path clip-path=\"url(#clip600)\" d=\"M748.867 1287.79 L748.867 1290.39 L724.388 1290.39 Q724.735 1295.89 727.687 1298.78 Q730.667 1301.65 735.962 1301.65 Q739.029 1301.65 741.894 1300.9 Q744.787 1300.14 747.623 1298.64 L747.623 1303.67 Q744.758 1304.89 741.749 1305.53 Q738.74 1306.16 735.644 1306.16 Q727.889 1306.16 723.346 1301.65 Q718.832 1297.13 718.832 1289.44 Q718.832 1281.48 723.115 1276.82 Q727.426 1272.13 734.718 1272.13 Q741.257 1272.13 745.048 1276.36 Q748.867 1280.55 748.867 1287.79 M743.543 1286.23 Q743.485 1281.86 741.083 1279.25 Q738.711 1276.65 734.776 1276.65 Q730.32 1276.65 727.629 1279.17 Q724.967 1281.68 724.562 1286.25 L743.543 1286.23 Z\" fill=\"#000000\" fill-rule=\"evenodd\" fill-opacity=\"1\" /></svg>\n"
      ]
     },
     "metadata": {},
     "output_type": "display_data"
    }
   ],
   "source": [
    "using LaTeXStrings\n",
    "plt = plot(sol_f.t,\n",
    "     [occs[:,1,1], occs[:,2,1], abs.(1 .- (occs[:,1,1] + occs[:,2,1]))],\n",
    "     yaxis=:log10,\n",
    "     ylim=(1e-5,2),\n",
    "     linewidth=2,\n",
    "     yticks=[10^i for i=-5.:0],#(append!([i*10^j for i = 1:9 for j = -5.:-1],[1]),tmp)\n",
    "     xlabel=L\"$t$ [ns]\",\n",
    "     ylabel=\"Spectral weight\",\n",
    "     label=[L\"$|\\psi_0|^2$\" L\"|\\psi_1|^2\" \"Leakage\"],\n",
    "     legend=:bottomleft,\n",
    "     background_color_legend = nothing,\n",
    "     foreground_color_legend = nothing,\n",
    "     legendfontsize=10,\n",
    "     xticks=0:2.5:12.5,\n",
    "     xlim=(-0.35,12.75)\n",
    ")"
   ]
  },
  {
   "cell_type": "code",
   "execution_count": 77,
   "metadata": {},
   "outputs": [
    {
     "data": {
      "text/plain": [
       "\"c:\\\\Users\\\\jv97\\\\github\\\\Quantum-Optimal-Control\\\\Production\\\\FastGate\\\\FastSwapOccupation.png\""
      ]
     },
     "metadata": {},
     "output_type": "display_data"
    }
   ],
   "source": [
    "# savefig(plt,\"FastSwapOccupation.png\")"
   ]
  },
  {
   "cell_type": "code",
   "execution_count": 123,
   "metadata": {},
   "outputs": [
    {
     "data": {
      "image/png": "[encoded data removed]",
      "image/svg+xml": "<?xml version=\"1.0\" encoding=\"utf-8\"?>\n<svg xmlns=\"http://www.w3.org/2000/svg\" xmlns:xlink=\"http://www.w3.org/1999/xlink\" width=\"600\" height=\"400\" viewBox=\"0 0 2400 1600\">\n<defs>\n  <clipPath id=\"clip940\">\n    <rect x=\"0\" y=\"0\" width=\"2400\" height=\"1600\"/>\n  </clipPath>\n</defs>\n<path clip-path=\"url(#clip940)\" d=\"\nM0 1600 L2400 1600 L2400 0 L0 0  Z\n  \" fill=\"#ffffff\" fill-rule=\"evenodd\" fill-opacity=\"1\"/>\n<defs>\n  <clipPath id=\"clip941\">\n    <rect x=\"480\" y=\"0\" width=\"1681\" height=\"1600\"/>\n  </clipPath>\n</defs>\n<defs>\n  <clipPath id=\"clip942\">\n    <rect x=\"258\" y=\"47\" width=\"1995\" height=\"1440\"/>\n  </clipPath>\n</defs>\n<path clip-path=\"url(#clip940)\" d=\"\nM258.422 1486.45 L2252.52 1486.45 L2252.52 47.2441 L258.422 47.2441  Z\n  \" fill=\"#ffffff\" fill-rule=\"evenodd\" fill-opacity=\"1\"/>\n<polyline clip-path=\"url(#clip942)\" style=\"stroke:#000000; stroke-linecap:round; stroke-linejoin:round; stroke-width:2; stroke-opacity:0.1; fill:none\" points=\"\n  314.859,1486.45 314.859,47.2441 \n  \"/>\n<polyline clip-path=\"url(#clip942)\" style=\"stroke:#000000; stroke-linecap:round; stroke-linejoin:round; stroke-width:2; stroke-opacity:0.1; fill:none\" points=\"\n  709.553,1486.45 709.553,47.2441 \n  \"/>\n<polyline clip-path=\"url(#clip942)\" style=\"stroke:#000000; stroke-linecap:round; stroke-linejoin:round; stroke-width:2; stroke-opacity:0.1; fill:none\" points=\"\n  1104.25,1486.45 1104.25,47.2441 \n  \"/>\n<polyline clip-path=\"url(#clip942)\" style=\"stroke:#000000; stroke-linecap:round; stroke-linejoin:round; stroke-width:2; stroke-opacity:0.1; fill:none\" points=\"\n  1498.94,1486.45 1498.94,47.2441 \n  \"/>\n<polyline clip-path=\"url(#clip942)\" style=\"stroke:#000000; stroke-linecap:round; stroke-linejoin:round; stroke-width:2; stroke-opacity:0.1; fill:none\" points=\"\n  1893.63,1486.45 1893.63,47.2441 \n  \"/>\n<polyline clip-path=\"url(#clip940)\" style=\"stroke:#000000; stroke-linecap:round; stroke-linejoin:round; stroke-width:4; stroke-opacity:1; fill:none\" points=\"\n  258.422,1486.45 2252.52,1486.45 \n  \"/>\n<polyline clip-path=\"url(#clip940)\" style=\"stroke:#000000; stroke-linecap:round; stroke-linejoin:round; stroke-width:4; stroke-opacity:1; fill:none\" points=\"\n  314.859,1486.45 314.859,1467.55 \n  \"/>\n<polyline clip-path=\"url(#clip940)\" style=\"stroke:#000000; stroke-linecap:round; stroke-linejoin:round; stroke-width:4; stroke-opacity:1; fill:none\" points=\"\n  709.553,1486.45 709.553,1467.55 \n  \"/>\n<polyline clip-path=\"url(#clip940)\" style=\"stroke:#000000; stroke-linecap:round; stroke-linejoin:round; stroke-width:4; stroke-opacity:1; fill:none\" points=\"\n  1104.25,1486.45 1104.25,1467.55 \n  \"/>\n<polyline clip-path=\"url(#clip940)\" style=\"stroke:#000000; stroke-linecap:round; stroke-linejoin:round; stroke-width:4; stroke-opacity:1; fill:none\" points=\"\n  1498.94,1486.45 1498.94,1467.55 \n  \"/>\n<polyline clip-path=\"url(#clip940)\" style=\"stroke:#000000; stroke-linecap:round; stroke-linejoin:round; stroke-width:4; stroke-opacity:1; fill:none\" points=\"\n  1893.63,1486.45 1893.63,1467.55 \n  \"/>\n<path clip-path=\"url(#clip940)\" d=\"M292.243 1517.37 Q288.632 1517.37 286.804 1520.93 Q284.998 1524.47 284.998 1531.6 Q284.998 1538.71 286.804 1542.27 Q288.632 1545.82 292.243 1545.82 Q295.878 1545.82 297.683 1542.27 Q299.512 1538.71 299.512 1531.6 Q299.512 1524.47 297.683 1520.93 Q295.878 1517.37 292.243 1517.37 M292.243 1513.66 Q298.054 1513.66 301.109 1518.27 Q304.188 1522.85 304.188 1531.6 Q304.188 1540.33 301.109 1544.94 Q298.054 1549.52 292.243 1549.52 Q286.433 1549.52 283.355 1544.94 Q280.299 1540.33 280.299 1531.6 Q280.299 1522.85 283.355 1518.27 Q286.433 1513.66 292.243 1513.66 Z\" fill=\"#000000\" fill-rule=\"evenodd\" fill-opacity=\"1\" /><path clip-path=\"url(#clip940)\" d=\"M312.405 1542.97 L317.29 1542.97 L317.29 1548.85 L312.405 1548.85 L312.405 1542.97 Z\" fill=\"#000000\" fill-rule=\"evenodd\" fill-opacity=\"1\" /><path clip-path=\"url(#clip940)\" d=\"M337.475 1517.37 Q333.864 1517.37 332.035 1520.93 Q330.229 1524.47 330.229 1531.6 Q330.229 1538.71 332.035 1542.27 Q333.864 1545.82 337.475 1545.82 Q341.109 1545.82 342.914 1542.27 Q344.743 1538.71 344.743 1531.6 Q344.743 1524.47 342.914 1520.93 Q341.109 1517.37 337.475 1517.37 M337.475 1513.66 Q343.285 1513.66 346.34 1518.27 Q349.419 1522.85 349.419 1531.6 Q349.419 1540.33 346.34 1544.94 Q343.285 1549.52 337.475 1549.52 Q331.664 1549.52 328.586 1544.94 Q325.53 1540.33 325.53 1531.6 Q325.53 1522.85 328.586 1518.27 Q331.664 1513.66 337.475 1513.66 Z\" fill=\"#000000\" fill-rule=\"evenodd\" fill-opacity=\"1\" /><path clip-path=\"url(#clip940)\" d=\"M681.289 1544.91 L697.609 1544.91 L697.609 1548.85 L675.664 1548.85 L675.664 1544.91 Q678.326 1542.16 682.91 1537.53 Q687.516 1532.88 688.697 1531.53 Q690.942 1529.01 691.822 1527.27 Q692.724 1525.51 692.724 1523.82 Q692.724 1521.07 690.78 1519.33 Q688.859 1517.6 685.757 1517.6 Q683.558 1517.6 681.104 1518.36 Q678.673 1519.13 675.896 1520.68 L675.896 1515.95 Q678.72 1514.82 681.173 1514.24 Q683.627 1513.66 685.664 1513.66 Q691.034 1513.66 694.229 1516.35 Q697.423 1519.03 697.423 1523.52 Q697.423 1525.65 696.613 1527.57 Q695.826 1529.47 693.72 1532.07 Q693.141 1532.74 690.039 1535.95 Q686.937 1539.15 681.289 1544.91 Z\" fill=\"#000000\" fill-rule=\"evenodd\" fill-opacity=\"1\" /><path clip-path=\"url(#clip940)\" d=\"M707.423 1542.97 L712.308 1542.97 L712.308 1548.85 L707.423 1548.85 L707.423 1542.97 Z\" fill=\"#000000\" fill-rule=\"evenodd\" fill-opacity=\"1\" /><path clip-path=\"url(#clip940)\" d=\"M722.539 1514.29 L740.895 1514.29 L740.895 1518.22 L726.821 1518.22 L726.821 1526.7 Q727.84 1526.35 728.858 1526.19 Q729.877 1526 730.895 1526 Q736.682 1526 740.062 1529.17 Q743.442 1532.34 743.442 1537.76 Q743.442 1543.34 739.969 1546.44 Q736.497 1549.52 730.178 1549.52 Q728.002 1549.52 725.733 1549.15 Q723.488 1548.78 721.081 1548.04 L721.081 1543.34 Q723.164 1544.47 725.386 1545.03 Q727.608 1545.58 730.085 1545.58 Q734.09 1545.58 736.428 1543.48 Q738.766 1541.37 738.766 1537.76 Q738.766 1534.15 736.428 1532.04 Q734.09 1529.94 730.085 1529.94 Q728.21 1529.94 726.335 1530.35 Q724.483 1530.77 722.539 1531.65 L722.539 1514.29 Z\" fill=\"#000000\" fill-rule=\"evenodd\" fill-opacity=\"1\" /><path clip-path=\"url(#clip940)\" d=\"M1071.41 1514.29 L1089.77 1514.29 L1089.77 1518.22 L1075.69 1518.22 L1075.69 1526.7 Q1076.71 1526.35 1077.73 1526.19 Q1078.75 1526 1079.77 1526 Q1085.55 1526 1088.93 1529.17 Q1092.31 1532.34 1092.31 1537.76 Q1092.31 1543.34 1088.84 1546.44 Q1085.37 1549.52 1079.05 1549.52 Q1076.87 1549.52 1074.61 1549.15 Q1072.36 1548.78 1069.95 1548.04 L1069.95 1543.34 Q1072.04 1544.47 1074.26 1545.03 Q1076.48 1545.58 1078.96 1545.58 Q1082.96 1545.58 1085.3 1543.48 Q1087.64 1541.37 1087.64 1537.76 Q1087.64 1534.15 1085.3 1532.04 Q1082.96 1529.94 1078.96 1529.94 Q1077.08 1529.94 1075.21 1530.35 Q1073.36 1530.77 1071.41 1531.65 L1071.41 1514.29 Z\" fill=\"#000000\" fill-rule=\"evenodd\" fill-opacity=\"1\" /><path clip-path=\"url(#clip940)\" d=\"M1101.53 1542.97 L1106.41 1542.97 L1106.41 1548.85 L1101.53 1548.85 L1101.53 1542.97 Z\" fill=\"#000000\" fill-rule=\"evenodd\" fill-opacity=\"1\" /><path clip-path=\"url(#clip940)\" d=\"M1126.6 1517.37 Q1122.99 1517.37 1121.16 1520.93 Q1119.35 1524.47 1119.35 1531.6 Q1119.35 1538.71 1121.16 1542.27 Q1122.99 1545.82 1126.6 1545.82 Q1130.23 1545.82 1132.04 1542.27 Q1133.86 1538.71 1133.86 1531.6 Q1133.86 1524.47 1132.04 1520.93 Q1130.23 1517.37 1126.6 1517.37 M1126.6 1513.66 Q1132.41 1513.66 1135.46 1518.27 Q1138.54 1522.85 1138.54 1531.6 Q1138.54 1540.33 1135.46 1544.94 Q1132.41 1549.52 1126.6 1549.52 Q1120.79 1549.52 1117.71 1544.94 Q1114.65 1540.33 1114.65 1531.6 Q1114.65 1522.85 1117.71 1518.27 Q1120.79 1513.66 1126.6 1513.66 Z\" fill=\"#000000\" fill-rule=\"evenodd\" fill-opacity=\"1\" /><path clip-path=\"url(#clip940)\" d=\"M1465.26 1514.29 L1487.48 1514.29 L1487.48 1516.28 L1474.94 1548.85 L1470.05 1548.85 L1481.86 1518.22 L1465.26 1518.22 L1465.26 1514.29 Z\" fill=\"#000000\" fill-rule=\"evenodd\" fill-opacity=\"1\" /><path clip-path=\"url(#clip940)\" d=\"M1496.6 1542.97 L1501.49 1542.97 L1501.49 1548.85 L1496.6 1548.85 L1496.6 1542.97 Z\" fill=\"#000000\" fill-rule=\"evenodd\" fill-opacity=\"1\" /><path clip-path=\"url(#clip940)\" d=\"M1511.72 1514.29 L1530.07 1514.29 L1530.07 1518.22 L1516 1518.22 L1516 1526.7 Q1517.02 1526.35 1518.04 1526.19 Q1519.06 1526 1520.07 1526 Q1525.86 1526 1529.24 1529.17 Q1532.62 1532.34 1532.62 1537.76 Q1532.62 1543.34 1529.15 1546.44 Q1525.68 1549.52 1519.36 1549.52 Q1517.18 1549.52 1514.91 1549.15 Q1512.67 1548.78 1510.26 1548.04 L1510.26 1543.34 Q1512.34 1544.47 1514.57 1545.03 Q1516.79 1545.58 1519.26 1545.58 Q1523.27 1545.58 1525.61 1543.48 Q1527.95 1541.37 1527.95 1537.76 Q1527.95 1534.15 1525.61 1532.04 Q1523.27 1529.94 1519.26 1529.94 Q1517.39 1529.94 1515.51 1530.35 Q1513.66 1530.77 1511.72 1531.65 L1511.72 1514.29 Z\" fill=\"#000000\" fill-rule=\"evenodd\" fill-opacity=\"1\" /><path clip-path=\"url(#clip940)\" d=\"M1845.71 1544.91 L1853.35 1544.91 L1853.35 1518.55 L1845.04 1520.21 L1845.04 1515.95 L1853.3 1514.29 L1857.98 1514.29 L1857.98 1544.91 L1865.61 1544.91 L1865.61 1548.85 L1845.71 1548.85 L1845.71 1544.91 Z\" fill=\"#000000\" fill-rule=\"evenodd\" fill-opacity=\"1\" /><path clip-path=\"url(#clip940)\" d=\"M1885.06 1517.37 Q1881.45 1517.37 1879.62 1520.93 Q1877.81 1524.47 1877.81 1531.6 Q1877.81 1538.71 1879.62 1542.27 Q1881.45 1545.82 1885.06 1545.82 Q1888.69 1545.82 1890.5 1542.27 Q1892.33 1538.71 1892.33 1531.6 Q1892.33 1524.47 1890.5 1520.93 Q1888.69 1517.37 1885.06 1517.37 M1885.06 1513.66 Q1890.87 1513.66 1893.92 1518.27 Q1897 1522.85 1897 1531.6 Q1897 1540.33 1893.92 1544.94 Q1890.87 1549.52 1885.06 1549.52 Q1879.25 1549.52 1876.17 1544.94 Q1873.11 1540.33 1873.11 1531.6 Q1873.11 1522.85 1876.17 1518.27 Q1879.25 1513.66 1885.06 1513.66 Z\" fill=\"#000000\" fill-rule=\"evenodd\" fill-opacity=\"1\" /><path clip-path=\"url(#clip940)\" d=\"M1905.22 1542.97 L1910.1 1542.97 L1910.1 1548.85 L1905.22 1548.85 L1905.22 1542.97 Z\" fill=\"#000000\" fill-rule=\"evenodd\" fill-opacity=\"1\" /><path clip-path=\"url(#clip940)\" d=\"M1930.29 1517.37 Q1926.68 1517.37 1924.85 1520.93 Q1923.04 1524.47 1923.04 1531.6 Q1923.04 1538.71 1924.85 1542.27 Q1926.68 1545.82 1930.29 1545.82 Q1933.92 1545.82 1935.73 1542.27 Q1937.56 1538.71 1937.56 1531.6 Q1937.56 1524.47 1935.73 1520.93 Q1933.92 1517.37 1930.29 1517.37 M1930.29 1513.66 Q1936.1 1513.66 1939.16 1518.27 Q1942.23 1522.85 1942.23 1531.6 Q1942.23 1540.33 1939.16 1544.94 Q1936.1 1549.52 1930.29 1549.52 Q1924.48 1549.52 1921.4 1544.94 Q1918.35 1540.33 1918.35 1531.6 Q1918.35 1522.85 1921.4 1518.27 Q1924.48 1513.66 1930.29 1513.66 Z\" fill=\"#000000\" fill-rule=\"evenodd\" fill-opacity=\"1\" /><polyline clip-path=\"url(#clip942)\" style=\"stroke:#000000; stroke-linecap:round; stroke-linejoin:round; stroke-width:2; stroke-opacity:0.1; fill:none\" points=\"\n  258.422,1486.45 2252.52,1486.45 \n  \"/>\n<polyline clip-path=\"url(#clip942)\" style=\"stroke:#000000; stroke-linecap:round; stroke-linejoin:round; stroke-width:2; stroke-opacity:0.1; fill:none\" points=\"\n  258.422,1135.42 2252.52,1135.42 \n  \"/>\n<polyline clip-path=\"url(#clip942)\" style=\"stroke:#000000; stroke-linecap:round; stroke-linejoin:round; stroke-width:2; stroke-opacity:0.1; fill:none\" points=\"\n  258.422,784.397 2252.52,784.397 \n  \"/>\n<polyline clip-path=\"url(#clip942)\" style=\"stroke:#000000; stroke-linecap:round; stroke-linejoin:round; stroke-width:2; stroke-opacity:0.1; fill:none\" points=\"\n  258.422,433.372 2252.52,433.372 \n  \"/>\n<polyline clip-path=\"url(#clip942)\" style=\"stroke:#000000; stroke-linecap:round; stroke-linejoin:round; stroke-width:2; stroke-opacity:0.1; fill:none\" points=\"\n  258.422,82.3466 2252.52,82.3466 \n  \"/>\n<polyline clip-path=\"url(#clip940)\" style=\"stroke:#000000; stroke-linecap:round; stroke-linejoin:round; stroke-width:4; stroke-opacity:1; fill:none\" points=\"\n  258.422,1486.45 258.422,47.2441 \n  \"/>\n<polyline clip-path=\"url(#clip940)\" style=\"stroke:#000000; stroke-linecap:round; stroke-linejoin:round; stroke-width:4; stroke-opacity:1; fill:none\" points=\"\n  258.422,1486.45 277.32,1486.45 \n  \"/>\n<polyline clip-path=\"url(#clip940)\" style=\"stroke:#000000; stroke-linecap:round; stroke-linejoin:round; stroke-width:4; stroke-opacity:1; fill:none\" points=\"\n  258.422,1135.42 277.32,1135.42 \n  \"/>\n<polyline clip-path=\"url(#clip940)\" style=\"stroke:#000000; stroke-linecap:round; stroke-linejoin:round; stroke-width:4; stroke-opacity:1; fill:none\" points=\"\n  258.422,784.397 277.32,784.397 \n  \"/>\n<polyline clip-path=\"url(#clip940)\" style=\"stroke:#000000; stroke-linecap:round; stroke-linejoin:round; stroke-width:4; stroke-opacity:1; fill:none\" points=\"\n  258.422,433.372 277.32,433.372 \n  \"/>\n<polyline clip-path=\"url(#clip940)\" style=\"stroke:#000000; stroke-linecap:round; stroke-linejoin:round; stroke-width:4; stroke-opacity:1; fill:none\" points=\"\n  258.422,82.3466 277.32,82.3466 \n  \"/>\n<path clip-path=\"url(#clip940)\" d=\"M165.085 1472.25 Q161.473 1472.25 159.645 1475.81 Q157.839 1479.35 157.839 1486.48 Q157.839 1493.59 159.645 1497.15 Q161.473 1500.7 165.085 1500.7 Q168.719 1500.7 170.524 1497.15 Q172.353 1493.59 172.353 1486.48 Q172.353 1479.35 170.524 1475.81 Q168.719 1472.25 165.085 1472.25 M165.085 1468.54 Q170.895 1468.54 173.95 1473.15 Q177.029 1477.73 177.029 1486.48 Q177.029 1495.21 173.95 1499.82 Q170.895 1504.4 165.085 1504.4 Q159.274 1504.4 156.196 1499.82 Q153.14 1495.21 153.14 1486.48 Q153.14 1477.73 156.196 1473.15 Q159.274 1468.54 165.085 1468.54 Z\" fill=\"#000000\" fill-rule=\"evenodd\" fill-opacity=\"1\" /><path clip-path=\"url(#clip940)\" d=\"M185.246 1497.85 L190.131 1497.85 L190.131 1503.73 L185.246 1503.73 L185.246 1497.85 Z\" fill=\"#000000\" fill-rule=\"evenodd\" fill-opacity=\"1\" /><path clip-path=\"url(#clip940)\" d=\"M210.894 1484.58 Q207.746 1484.58 205.895 1486.74 Q204.066 1488.89 204.066 1492.64 Q204.066 1496.37 205.895 1498.54 Q207.746 1500.7 210.894 1500.7 Q214.043 1500.7 215.871 1498.54 Q217.723 1496.37 217.723 1492.64 Q217.723 1488.89 215.871 1486.74 Q214.043 1484.58 210.894 1484.58 M220.177 1469.93 L220.177 1474.19 Q218.418 1473.36 216.612 1472.92 Q214.83 1472.48 213.07 1472.48 Q208.441 1472.48 205.987 1475.6 Q203.557 1478.73 203.209 1485.05 Q204.575 1483.03 206.635 1481.97 Q208.695 1480.88 211.172 1480.88 Q216.381 1480.88 219.39 1484.05 Q222.422 1487.2 222.422 1492.64 Q222.422 1497.96 219.274 1501.18 Q216.126 1504.4 210.894 1504.4 Q204.899 1504.4 201.728 1499.82 Q198.557 1495.21 198.557 1486.48 Q198.557 1478.29 202.445 1473.43 Q206.334 1468.54 212.885 1468.54 Q214.644 1468.54 216.427 1468.89 Q218.232 1469.24 220.177 1469.93 Z\" fill=\"#000000\" fill-rule=\"evenodd\" fill-opacity=\"1\" /><path clip-path=\"url(#clip940)\" d=\"M166.149 1121.22 Q162.538 1121.22 160.71 1124.79 Q158.904 1128.33 158.904 1135.46 Q158.904 1142.56 160.71 1146.13 Q162.538 1149.67 166.149 1149.67 Q169.784 1149.67 171.589 1146.13 Q173.418 1142.56 173.418 1135.46 Q173.418 1128.33 171.589 1124.79 Q169.784 1121.22 166.149 1121.22 M166.149 1117.52 Q171.96 1117.52 175.015 1122.12 Q178.094 1126.71 178.094 1135.46 Q178.094 1144.18 175.015 1148.79 Q171.96 1153.37 166.149 1153.37 Q160.339 1153.37 157.261 1148.79 Q154.205 1144.18 154.205 1135.46 Q154.205 1126.71 157.261 1122.12 Q160.339 1117.52 166.149 1117.52 Z\" fill=\"#000000\" fill-rule=\"evenodd\" fill-opacity=\"1\" /><path clip-path=\"url(#clip940)\" d=\"M186.311 1146.82 L191.196 1146.82 L191.196 1152.7 L186.311 1152.7 L186.311 1146.82 Z\" fill=\"#000000\" fill-rule=\"evenodd\" fill-opacity=\"1\" /><path clip-path=\"url(#clip940)\" d=\"M200.2 1118.14 L222.422 1118.14 L222.422 1120.13 L209.876 1152.7 L204.992 1152.7 L216.797 1122.08 L200.2 1122.08 L200.2 1118.14 Z\" fill=\"#000000\" fill-rule=\"evenodd\" fill-opacity=\"1\" /><path clip-path=\"url(#clip940)\" d=\"M165.339 770.196 Q161.728 770.196 159.899 773.761 Q158.094 777.302 158.094 784.432 Q158.094 791.538 159.899 795.103 Q161.728 798.645 165.339 798.645 Q168.973 798.645 170.779 795.103 Q172.608 791.538 172.608 784.432 Q172.608 777.302 170.779 773.761 Q168.973 770.196 165.339 770.196 M165.339 766.492 Q171.149 766.492 174.205 771.099 Q177.284 775.682 177.284 784.432 Q177.284 793.159 174.205 797.765 Q171.149 802.349 165.339 802.349 Q159.529 802.349 156.45 797.765 Q153.395 793.159 153.395 784.432 Q153.395 775.682 156.45 771.099 Q159.529 766.492 165.339 766.492 Z\" fill=\"#000000\" fill-rule=\"evenodd\" fill-opacity=\"1\" /><path clip-path=\"url(#clip940)\" d=\"M185.501 795.798 L190.385 795.798 L190.385 801.677 L185.501 801.677 L185.501 795.798 Z\" fill=\"#000000\" fill-rule=\"evenodd\" fill-opacity=\"1\" /><path clip-path=\"url(#clip940)\" d=\"M210.57 785.265 Q207.237 785.265 205.316 787.048 Q203.418 788.83 203.418 791.955 Q203.418 795.08 205.316 796.862 Q207.237 798.645 210.57 798.645 Q213.904 798.645 215.825 796.862 Q217.746 795.057 217.746 791.955 Q217.746 788.83 215.825 787.048 Q213.927 785.265 210.57 785.265 M205.895 783.275 Q202.885 782.534 201.195 780.474 Q199.529 778.413 199.529 775.451 Q199.529 771.307 202.469 768.9 Q205.432 766.492 210.57 766.492 Q215.732 766.492 218.672 768.9 Q221.612 771.307 221.612 775.451 Q221.612 778.413 219.922 780.474 Q218.256 782.534 215.269 783.275 Q218.649 784.062 220.524 786.353 Q222.422 788.645 222.422 791.955 Q222.422 796.978 219.344 799.663 Q216.288 802.349 210.57 802.349 Q204.853 802.349 201.774 799.663 Q198.719 796.978 198.719 791.955 Q198.719 788.645 200.617 786.353 Q202.515 784.062 205.895 783.275 M204.182 775.89 Q204.182 778.576 205.848 780.08 Q207.538 781.585 210.57 781.585 Q213.58 781.585 215.269 780.08 Q216.982 778.576 216.982 775.89 Q216.982 773.205 215.269 771.701 Q213.58 770.196 210.57 770.196 Q207.538 770.196 205.848 771.701 Q204.182 773.205 204.182 775.89 Z\" fill=\"#000000\" fill-rule=\"evenodd\" fill-opacity=\"1\" /><path clip-path=\"url(#clip940)\" d=\"M165.432 419.171 Q161.821 419.171 159.992 422.735 Q158.186 426.277 158.186 433.407 Q158.186 440.513 159.992 444.078 Q161.821 447.62 165.432 447.62 Q169.066 447.62 170.872 444.078 Q172.7 440.513 172.7 433.407 Q172.7 426.277 170.872 422.735 Q169.066 419.171 165.432 419.171 M165.432 415.467 Q171.242 415.467 174.297 420.073 Q177.376 424.657 177.376 433.407 Q177.376 442.133 174.297 446.74 Q171.242 451.323 165.432 451.323 Q159.622 451.323 156.543 446.74 Q153.487 442.133 153.487 433.407 Q153.487 424.657 156.543 420.073 Q159.622 415.467 165.432 415.467 Z\" fill=\"#000000\" fill-rule=\"evenodd\" fill-opacity=\"1\" /><path clip-path=\"url(#clip940)\" d=\"M185.594 444.772 L190.478 444.772 L190.478 450.652 L185.594 450.652 L185.594 444.772 Z\" fill=\"#000000\" fill-rule=\"evenodd\" fill-opacity=\"1\" /><path clip-path=\"url(#clip940)\" d=\"M200.802 449.934 L200.802 445.675 Q202.561 446.508 204.367 446.948 Q206.172 447.388 207.908 447.388 Q212.538 447.388 214.969 444.286 Q217.422 441.161 217.769 434.819 Q216.427 436.809 214.367 437.874 Q212.307 438.939 209.807 438.939 Q204.621 438.939 201.589 435.814 Q198.58 432.666 198.58 427.226 Q198.58 421.902 201.728 418.685 Q204.876 415.467 210.107 415.467 Q216.103 415.467 219.251 420.073 Q222.422 424.657 222.422 433.407 Q222.422 441.578 218.533 446.462 Q214.668 451.323 208.117 451.323 Q206.357 451.323 204.552 450.976 Q202.746 450.629 200.802 449.934 M210.107 435.282 Q213.256 435.282 215.084 433.129 Q216.936 430.976 216.936 427.226 Q216.936 423.499 215.084 421.347 Q213.256 419.171 210.107 419.171 Q206.959 419.171 205.107 421.347 Q203.279 423.499 203.279 427.226 Q203.279 430.976 205.107 433.129 Q206.959 435.282 210.107 435.282 Z\" fill=\"#000000\" fill-rule=\"evenodd\" fill-opacity=\"1\" /><path clip-path=\"url(#clip940)\" d=\"M156.057 95.6915 L163.696 95.6915 L163.696 69.3259 L155.386 70.9925 L155.386 66.7333 L163.649 65.0666 L168.325 65.0666 L168.325 95.6915 L175.964 95.6915 L175.964 99.6266 L156.057 99.6266 L156.057 95.6915 Z\" fill=\"#000000\" fill-rule=\"evenodd\" fill-opacity=\"1\" /><path clip-path=\"url(#clip940)\" d=\"M185.409 93.747 L190.293 93.747 L190.293 99.6266 L185.409 99.6266 L185.409 93.747 Z\" fill=\"#000000\" fill-rule=\"evenodd\" fill-opacity=\"1\" /><path clip-path=\"url(#clip940)\" d=\"M210.478 68.1453 Q206.867 68.1453 205.038 71.7101 Q203.232 75.2518 203.232 82.3813 Q203.232 89.4878 205.038 93.0526 Q206.867 96.5942 210.478 96.5942 Q214.112 96.5942 215.918 93.0526 Q217.746 89.4878 217.746 82.3813 Q217.746 75.2518 215.918 71.7101 Q214.112 68.1453 210.478 68.1453 M210.478 64.4416 Q216.288 64.4416 219.344 69.0481 Q222.422 73.6314 222.422 82.3813 Q222.422 91.1082 219.344 95.7146 Q216.288 100.298 210.478 100.298 Q204.668 100.298 201.589 95.7146 Q198.533 91.1082 198.533 82.3813 Q198.533 73.6314 201.589 69.0481 Q204.668 64.4416 210.478 64.4416 Z\" fill=\"#000000\" fill-rule=\"evenodd\" fill-opacity=\"1\" /><path clip-path=\"url(#clip940)\" d=\"M44.9703 737.554 Q45.5559 737.671 46.6099 737.905 Q47.6053 738.14 50.7673 739.194 Q53.9294 740.248 57.15 741.653 Q60.312 743 64.7623 745.635 Q69.154 748.211 73.1358 751.373 Q74.1898 752.252 74.8339 752.427 Q75.4195 752.544 77.3518 752.544 Q89.5315 752.544 89.5315 748.855 Q89.5315 748.68 89.5315 748.387 Q89.4729 748.036 89.1802 747.157 Q88.8288 746.22 88.3018 745.401 Q87.7163 744.581 86.5451 743.644 Q85.3155 742.707 83.6759 742.122 Q82.5048 741.595 82.5048 740.54 Q82.5048 739.135 83.6759 739.135 Q85.7839 739.135 89.0045 742.063 Q92.2251 744.991 92.2251 749.207 Q92.2251 753.247 89.59 756.116 Q86.8965 758.927 82.0949 760.098 Q92.2251 772.746 92.2251 785.394 Q92.2251 794.295 86.428 799.565 Q80.5724 804.835 71.9061 804.835 Q63.5911 804.835 55.6861 800.268 Q47.781 795.642 42.8623 788.147 Q37.885 780.593 37.885 772.571 Q37.885 769.76 38.6462 767.066 Q39.3489 764.373 41.1641 761.679 Q42.9794 758.986 45.7315 756.995 Q48.4837 755.004 52.8168 753.774 Q57.15 752.544 62.5957 752.544 L70.0323 752.544 Q60.2534 744.815 46.2585 740.775 Q44.1505 740.189 43.9163 739.838 Q43.7406 739.604 43.7406 739.018 Q43.7406 738.432 44.0919 738.081 Q44.3847 737.671 44.6775 737.613 L44.9703 737.554 M78.9914 760.567 Q76.9419 760.801 65.582 760.801 Q63.4155 760.801 62.2443 760.801 Q61.0147 760.801 58.6724 760.918 Q56.3302 761.035 54.8663 761.269 Q53.4024 761.445 51.2944 761.855 Q49.1863 762.265 47.8395 762.85 Q46.4927 763.436 44.9703 764.373 Q43.4478 765.251 42.5695 766.422 Q41.6911 767.535 41.1056 769.174 Q40.52 770.755 40.52 772.688 Q40.52 775.089 41.3984 777.607 Q42.2182 780.066 44.8532 783.228 Q47.4296 786.39 51.5286 789.025 Q55.8617 791.777 63.8254 793.885 Q71.7304 795.935 76.4735 795.935 Q82.4462 795.935 86.0181 793.182 Q89.5315 790.43 89.5315 785.16 Q89.5315 772.571 78.9914 760.567 Z\" fill=\"#000000\" fill-rule=\"evenodd\" fill-opacity=\"1\" /><polyline clip-path=\"url(#clip942)\" style=\"stroke:#000000; stroke-linecap:round; stroke-linejoin:round; stroke-width:8; stroke-opacity:1; fill:none\" points=\"\n  314.859,82.3466 315.8,86.5966 316.741,90.8465 317.682,95.0964 318.623,99.3464 319.564,103.596 320.505,107.846 321.447,112.096 322.388,116.346 323.329,120.596 \n  324.27,124.846 325.211,129.096 326.152,133.346 327.093,137.596 328.034,141.846 328.975,146.096 329.916,150.346 330.857,154.596 331.798,158.845 332.74,163.095 \n  333.681,167.345 334.622,171.595 335.563,175.845 336.504,180.095 337.445,184.345 338.386,188.595 339.327,192.845 340.268,197.095 341.209,201.345 342.15,205.595 \n  343.091,209.845 344.033,214.095 344.974,218.345 345.915,222.594 346.856,226.844 347.797,231.094 348.738,235.344 349.679,239.594 350.62,243.844 351.561,248.094 \n  352.502,252.344 353.443,256.594 354.384,260.844 355.326,265.094 356.267,269.344 357.208,273.594 358.149,277.844 359.09,282.094 360.031,286.344 360.972,290.593 \n  361.913,294.843 362.854,299.093 363.795,303.343 364.736,307.593 365.678,311.843 366.619,316.093 367.56,320.343 368.501,324.593 369.442,328.843 370.383,333.093 \n  371.324,337.343 372.265,341.593 373.206,345.843 374.147,350.093 375.088,354.342 376.029,358.592 376.971,362.842 377.912,367.092 378.853,371.342 379.794,375.592 \n  380.735,379.842 381.676,384.092 382.617,388.342 383.558,392.592 384.499,396.842 385.44,401.092 386.381,405.342 387.322,409.592 388.264,413.842 389.205,418.092 \n  390.146,422.341 391.087,426.591 392.028,430.841 392.969,435.091 393.91,439.341 394.851,443.591 395.792,447.841 396.733,452.091 397.674,456.341 398.615,460.591 \n  399.557,464.841 400.498,469.091 401.439,473.341 402.38,477.591 403.321,481.841 404.262,486.09 405.203,490.34 406.144,494.59 407.085,498.84 408.026,503.09 \n  408.967,507.34 409.908,511.59 410.85,515.84 411.791,520.09 412.732,524.34 413.673,528.59 414.614,532.84 415.555,537.09 416.496,541.34 417.437,545.59 \n  418.378,549.84 419.319,554.089 420.26,558.339 421.201,562.589 422.143,566.839 423.084,571.089 424.025,575.339 424.966,579.589 425.907,583.839 426.848,588.089 \n  427.789,592.339 428.73,596.589 429.671,600.839 430.612,605.089 431.553,609.339 432.494,613.589 433.436,617.838 434.377,622.088 435.318,626.338 436.259,630.588 \n  437.2,634.838 438.141,639.088 439.082,643.338 440.023,647.588 440.964,651.838 441.905,656.088 442.846,660.338 443.787,664.588 444.729,668.838 445.67,673.088 \n  446.611,677.338 447.552,681.588 448.493,685.837 449.434,690.087 450.375,694.337 451.316,698.587 452.257,702.837 453.198,707.087 454.139,711.337 455.08,715.587 \n  456.022,719.837 456.963,724.087 457.904,728.337 458.845,732.587 459.786,736.837 460.727,741.087 461.668,745.337 462.609,749.586 463.55,753.836 464.491,758.086 \n  465.432,762.336 466.373,766.586 467.315,770.836 468.256,775.086 469.197,779.336 470.138,783.586 471.079,787.836 472.02,792.086 472.961,796.336 473.902,800.586 \n  474.843,804.836 475.784,809.086 476.725,813.336 477.666,817.585 478.608,821.835 479.549,826.085 480.49,830.335 481.431,834.585 482.372,838.835 483.313,843.085 \n  484.254,847.335 485.195,851.585 486.136,855.835 487.077,860.085 488.018,864.335 488.959,868.585 489.901,872.835 490.842,877.085 491.783,881.334 492.724,885.584 \n  493.665,889.834 494.606,894.084 495.547,898.334 496.488,902.584 497.429,906.834 498.37,911.084 499.311,915.334 500.252,919.584 501.194,923.834 502.135,928.084 \n  503.076,932.334 504.017,936.584 504.958,940.834 505.899,945.084 506.84,949.333 507.781,953.583 508.722,957.833 509.663,962.083 510.604,966.333 511.545,970.583 \n  512.487,974.833 513.428,979.083 514.369,983.333 515.31,987.583 516.251,991.833 517.192,996.083 518.133,1000.33 519.074,1004.58 520.015,1008.83 520.956,1013.08 \n  521.897,1017.33 522.838,1021.58 523.78,1025.83 524.721,1030.08 525.662,1034.33 526.603,1038.58 527.544,1042.83 528.485,1047.08 529.426,1051.33 530.367,1055.58 \n  531.308,1059.83 532.249,1064.08 533.19,1068.33 534.131,1072.58 535.073,1076.83 536.014,1081.08 536.955,1085.33 537.896,1089.58 538.837,1093.83 539.778,1098.08 \n  540.719,1102.33 541.66,1106.58 542.601,1110.83 543.542,1115.08 544.483,1119.33 545.424,1123.58 546.366,1127.83 547.307,1132.08 548.248,1136.33 549.189,1140.58 \n  550.13,1144.83 551.071,1149.08 552.012,1153.33 552.953,1157.58 553.894,1161.83 554.835,1166.08 555.776,1170.33 556.717,1174.58 557.659,1178.83 558.6,1183.08 \n  559.541,1187.33 560.482,1191.58 561.423,1195.83 562.364,1200.08 563.305,1204.33 564.246,1208.58 565.187,1212.83 566.128,1217.08 567.069,1221.33 568.01,1225.58 \n  568.952,1229.83 569.893,1234.08 570.834,1238.33 571.775,1242.58 572.716,1246.83 573.657,1251.08 574.598,1255.33 575.539,1259.58 576.48,1263.83 577.421,1268.08 \n  578.362,1272.33 579.304,1276.58 580.245,1280.83 581.186,1285.08 582.127,1289.33 583.068,1293.58 584.009,1294.81 584.95,1294.81 585.891,1294.81 586.832,1294.81 \n  587.773,1294.81 588.714,1294.81 589.655,1294.81 590.597,1294.81 591.538,1294.81 592.479,1294.81 593.42,1294.81 594.361,1294.81 595.302,1294.81 596.243,1294.81 \n  597.184,1294.81 598.125,1294.81 599.066,1294.81 600.007,1294.81 600.948,1294.81 601.89,1294.81 602.831,1294.81 603.772,1294.81 604.713,1294.81 605.654,1294.81 \n  606.595,1294.81 607.536,1294.81 608.477,1294.81 609.418,1294.81 610.359,1294.81 611.3,1294.81 612.241,1294.81 613.183,1294.81 614.124,1294.81 615.065,1294.81 \n  616.006,1294.81 616.947,1294.81 617.888,1294.81 618.829,1294.81 619.77,1294.81 620.711,1294.81 621.652,1294.81 622.593,1294.81 623.534,1294.81 624.476,1294.81 \n  625.417,1294.81 626.358,1294.81 627.299,1294.81 628.24,1294.81 629.181,1294.81 630.122,1294.81 631.063,1294.81 632.004,1294.81 632.945,1294.81 633.886,1294.81 \n  634.827,1294.81 635.769,1294.81 636.71,1294.81 637.651,1294.81 638.592,1294.81 639.533,1294.81 640.474,1294.81 641.415,1294.81 642.356,1294.81 643.297,1294.81 \n  644.238,1294.81 645.179,1294.81 646.12,1294.81 647.062,1294.81 648.003,1294.81 648.944,1294.81 649.885,1294.81 650.826,1294.81 651.767,1294.81 652.708,1294.81 \n  653.649,1294.81 654.59,1294.81 655.531,1294.81 656.472,1294.81 657.413,1294.81 658.355,1294.81 659.296,1294.81 660.237,1294.81 661.178,1294.81 662.119,1294.81 \n  663.06,1294.81 664.001,1294.81 664.942,1294.81 665.883,1294.81 666.824,1294.81 667.765,1294.81 668.706,1294.81 669.648,1294.81 670.589,1294.81 671.53,1294.81 \n  672.471,1294.81 673.412,1294.81 674.353,1294.81 675.294,1294.81 676.235,1294.81 677.176,1294.81 678.117,1294.81 679.058,1294.81 679.999,1294.81 680.941,1294.81 \n  681.882,1294.81 682.823,1294.81 683.764,1294.81 684.705,1294.81 685.646,1294.81 686.587,1294.81 687.528,1294.81 688.469,1294.81 689.41,1294.81 690.351,1294.81 \n  691.292,1294.81 692.234,1294.81 693.175,1294.81 694.116,1294.81 695.057,1294.81 695.998,1294.81 696.939,1294.81 697.88,1294.81 698.821,1294.81 699.762,1294.81 \n  700.703,1294.81 701.644,1294.81 702.585,1294.81 703.527,1294.81 704.468,1294.81 705.409,1294.81 706.35,1294.81 707.291,1294.81 708.232,1294.81 709.173,1294.81 \n  710.114,1294.81 711.055,1294.81 711.996,1294.81 712.937,1294.81 713.878,1294.81 714.82,1294.81 715.761,1294.81 716.702,1294.81 717.643,1294.81 718.584,1294.81 \n  719.525,1294.81 720.466,1294.81 721.407,1294.81 722.348,1294.81 723.289,1294.81 724.23,1294.81 725.171,1294.81 726.113,1294.81 727.054,1294.81 727.995,1294.81 \n  728.936,1294.81 729.877,1294.81 730.818,1294.81 731.759,1294.81 732.7,1294.81 733.641,1294.81 734.582,1294.81 735.523,1294.81 736.464,1294.81 737.406,1294.81 \n  738.347,1294.81 739.288,1294.81 740.229,1294.81 741.17,1294.81 742.111,1294.81 743.052,1294.81 743.993,1294.81 744.934,1294.81 745.875,1294.81 746.816,1294.81 \n  747.757,1294.81 748.699,1294.81 749.64,1294.81 750.581,1294.81 751.522,1294.81 752.463,1294.81 753.404,1294.81 754.345,1294.81 755.286,1294.81 756.227,1294.81 \n  757.168,1294.81 758.109,1294.81 759.05,1294.81 759.992,1294.81 760.933,1294.81 761.874,1294.81 762.815,1294.81 763.756,1294.81 764.697,1294.81 765.638,1294.81 \n  766.579,1294.81 767.52,1294.81 768.461,1294.81 769.402,1294.81 770.343,1294.81 771.285,1294.81 772.226,1294.81 773.167,1294.81 774.108,1294.81 775.049,1294.81 \n  775.99,1294.81 776.931,1294.81 777.872,1294.81 778.813,1294.81 779.754,1294.81 780.695,1294.81 781.636,1294.81 782.578,1294.81 783.519,1294.81 784.46,1294.81 \n  785.401,1294.81 786.342,1294.81 787.283,1294.81 788.224,1294.81 789.165,1294.81 790.106,1294.81 791.047,1294.81 791.988,1294.81 792.93,1294.81 793.871,1294.81 \n  794.812,1294.81 795.753,1294.81 796.694,1294.81 797.635,1294.81 798.576,1294.81 799.517,1294.81 800.458,1294.81 801.399,1294.81 802.34,1294.81 803.281,1294.81 \n  804.223,1294.81 805.164,1294.81 806.105,1294.81 807.046,1294.81 807.987,1294.81 808.928,1294.81 809.869,1294.81 810.81,1294.81 811.751,1294.81 812.692,1294.81 \n  813.633,1294.81 814.574,1294.81 815.516,1294.81 816.457,1294.81 817.398,1294.81 818.339,1294.81 819.28,1294.81 820.221,1294.81 821.162,1294.81 822.103,1294.81 \n  823.044,1294.81 823.985,1294.81 824.926,1294.81 825.867,1294.81 826.809,1294.81 827.75,1294.81 828.691,1294.81 829.632,1294.81 830.573,1294.81 831.514,1294.81 \n  832.455,1294.81 833.396,1294.81 834.337,1294.81 835.278,1294.81 836.219,1294.81 837.16,1294.81 838.102,1294.81 839.043,1294.81 839.984,1294.81 840.925,1294.81 \n  841.866,1294.81 842.807,1294.81 843.748,1294.81 844.689,1294.81 845.63,1294.81 846.571,1294.81 847.512,1294.81 848.453,1294.81 849.395,1294.81 850.336,1294.81 \n  851.277,1294.81 852.218,1294.81 853.159,1294.81 854.1,1294.81 855.041,1294.81 855.982,1294.81 856.923,1294.81 857.864,1294.81 858.805,1294.81 859.746,1294.81 \n  860.688,1294.81 861.629,1294.81 862.57,1294.81 863.511,1294.81 864.452,1294.81 865.393,1294.81 866.334,1294.81 867.275,1294.81 868.216,1294.81 869.157,1294.81 \n  870.098,1294.81 871.039,1294.81 871.981,1294.81 872.922,1294.81 873.863,1294.81 874.804,1294.81 875.745,1294.81 876.686,1294.81 877.627,1294.81 878.568,1294.81 \n  879.509,1294.81 880.45,1294.81 881.391,1294.81 882.332,1294.81 883.274,1294.81 884.215,1294.81 885.156,1294.81 886.097,1294.81 887.038,1294.81 887.979,1294.81 \n  888.92,1294.81 889.861,1294.81 890.802,1294.81 891.743,1294.81 892.684,1294.81 893.625,1294.81 894.567,1294.81 895.508,1294.81 896.449,1294.81 897.39,1294.81 \n  898.331,1294.81 899.272,1294.81 900.213,1294.81 901.154,1294.81 902.095,1294.81 903.036,1294.81 903.977,1294.81 904.918,1294.81 905.86,1294.81 906.801,1294.81 \n  907.742,1294.81 908.683,1294.81 909.624,1294.81 910.565,1294.81 911.506,1294.81 912.447,1294.81 913.388,1294.81 914.329,1294.81 915.27,1294.81 916.211,1294.81 \n  917.153,1294.81 918.094,1294.81 919.035,1294.81 919.976,1294.81 920.917,1294.81 921.858,1294.81 922.799,1294.81 923.74,1294.81 924.681,1294.81 925.622,1294.81 \n  926.563,1294.81 927.504,1294.81 928.446,1294.81 929.387,1294.81 930.328,1294.81 931.269,1294.81 932.21,1294.81 933.151,1294.81 934.092,1294.81 935.033,1294.81 \n  935.974,1294.81 936.915,1294.81 937.856,1294.81 938.797,1294.81 939.739,1294.81 940.68,1294.81 941.621,1294.81 942.562,1294.81 943.503,1294.81 944.444,1294.81 \n  945.385,1294.81 946.326,1294.81 947.267,1294.81 948.208,1294.81 949.149,1294.81 950.09,1294.81 951.032,1294.81 951.973,1294.81 952.914,1294.81 953.855,1294.81 \n  954.796,1294.81 955.737,1294.81 956.678,1294.81 957.619,1294.81 958.56,1294.81 959.501,1294.81 960.442,1294.81 961.383,1294.81 962.325,1294.81 963.266,1294.81 \n  964.207,1294.81 965.148,1294.81 966.089,1294.81 967.03,1294.81 967.971,1294.81 968.912,1294.81 969.853,1294.81 970.794,1294.81 971.735,1294.81 972.676,1294.81 \n  973.618,1294.81 974.559,1294.81 975.5,1294.81 976.441,1294.81 977.382,1294.81 978.323,1294.81 979.264,1294.81 980.205,1294.81 981.146,1294.81 982.087,1294.81 \n  983.028,1294.81 983.969,1294.81 984.911,1294.81 985.852,1294.81 986.793,1294.81 987.734,1294.81 988.675,1294.81 989.616,1294.81 990.557,1294.81 991.498,1294.81 \n  992.439,1294.81 993.38,1294.81 994.321,1294.81 995.262,1294.81 996.204,1294.81 997.145,1294.81 998.086,1294.81 999.027,1294.81 999.968,1294.81 1000.91,1294.81 \n  1001.85,1294.81 1002.79,1294.81 1003.73,1294.81 1004.67,1294.81 1005.61,1294.81 1006.56,1294.81 1007.5,1294.81 1008.44,1294.81 1009.38,1294.81 1010.32,1294.81 \n  1011.26,1294.81 1012.2,1294.81 1013.14,1294.81 1014.08,1294.81 1015.03,1294.81 1015.97,1294.81 1016.91,1294.81 1017.85,1294.81 1018.79,1294.81 1019.73,1294.81 \n  1020.67,1294.81 1021.61,1294.81 1022.55,1294.81 1023.5,1294.81 1024.44,1294.81 1025.38,1294.81 1026.32,1294.81 1027.26,1294.81 1028.2,1294.81 1029.14,1294.81 \n  1030.08,1294.81 1031.02,1294.81 1031.96,1294.81 1032.91,1294.81 1033.85,1294.81 1034.79,1294.81 1035.73,1294.81 1036.67,1294.81 1037.61,1294.81 1038.55,1294.81 \n  1039.49,1294.81 1040.43,1294.81 1041.38,1294.81 1042.32,1294.81 1043.26,1294.81 1044.2,1294.81 1045.14,1294.81 1046.08,1294.81 1047.02,1294.81 1047.96,1294.81 \n  1048.9,1294.81 1049.85,1294.81 1050.79,1294.81 1051.73,1294.81 1052.67,1294.81 1053.61,1294.81 1054.55,1294.81 1055.49,1294.81 1056.43,1294.81 1057.37,1294.81 \n  1058.32,1294.81 1059.26,1294.81 1060.2,1294.81 1061.14,1294.81 1062.08,1294.81 1063.02,1294.81 1063.96,1294.81 1064.9,1294.81 1065.84,1294.81 1066.78,1294.81 \n  1067.73,1294.81 1068.67,1294.81 1069.61,1294.81 1070.55,1294.81 1071.49,1294.81 1072.43,1294.81 1073.37,1294.81 1074.31,1294.81 1075.25,1294.81 1076.2,1294.81 \n  1077.14,1294.81 1078.08,1294.81 1079.02,1294.81 1079.96,1294.81 1080.9,1294.81 1081.84,1294.81 1082.78,1294.81 1083.72,1294.81 1084.67,1294.81 1085.61,1294.81 \n  1086.55,1294.81 1087.49,1294.81 1088.43,1294.81 1089.37,1294.81 1090.31,1294.81 1091.25,1294.81 1092.19,1294.81 1093.14,1294.81 1094.08,1294.81 1095.02,1294.81 \n  1095.96,1294.81 1096.9,1294.81 1097.84,1294.81 1098.78,1294.81 1099.72,1294.81 1100.66,1294.81 1101.6,1294.81 1102.55,1294.81 1103.49,1294.81 1104.43,1294.81 \n  1105.37,1294.81 1106.31,1294.81 1107.25,1294.81 1108.19,1294.81 1109.13,1294.81 1110.07,1294.81 1111.02,1294.81 1111.96,1294.81 1112.9,1294.81 1113.84,1294.81 \n  1114.78,1294.81 1115.72,1294.81 1116.66,1294.81 1117.6,1294.81 1118.54,1294.81 1119.49,1294.81 1120.43,1294.81 1121.37,1294.81 1122.31,1294.81 1123.25,1294.81 \n  1124.19,1294.81 1125.13,1294.81 1126.07,1294.81 1127.01,1294.81 1127.96,1294.81 1128.9,1294.81 1129.84,1294.81 1130.78,1294.81 1131.72,1294.81 1132.66,1294.81 \n  1133.6,1294.81 1134.54,1294.81 1135.48,1294.81 1136.43,1294.81 1137.37,1294.81 1138.31,1294.81 1139.25,1294.81 1140.19,1294.81 1141.13,1294.81 1142.07,1294.81 \n  1143.01,1294.81 1143.95,1294.81 1144.89,1294.81 1145.84,1294.81 1146.78,1294.81 1147.72,1294.81 1148.66,1294.81 1149.6,1294.81 1150.54,1294.81 1151.48,1294.81 \n  1152.42,1294.81 1153.36,1294.81 1154.31,1294.81 1155.25,1294.81 1156.19,1294.81 1157.13,1294.81 1158.07,1294.81 1159.01,1294.81 1159.95,1294.81 1160.89,1294.81 \n  1161.83,1294.81 1162.78,1294.81 1163.72,1294.81 1164.66,1294.81 1165.6,1294.81 1166.54,1294.81 1167.48,1294.81 1168.42,1294.81 1169.36,1294.81 1170.3,1294.81 \n  1171.25,1294.81 1172.19,1294.81 1173.13,1294.81 1174.07,1294.81 1175.01,1294.81 1175.95,1294.81 1176.89,1294.81 1177.83,1294.81 1178.77,1294.81 1179.71,1294.81 \n  1180.66,1294.81 1181.6,1294.81 1182.54,1294.81 1183.48,1294.81 1184.42,1294.81 1185.36,1294.81 1186.3,1294.81 1187.24,1294.81 1188.18,1294.81 1189.13,1294.81 \n  1190.07,1294.81 1191.01,1294.81 1191.95,1294.81 1192.89,1294.81 1193.83,1294.81 1194.77,1294.81 1195.71,1294.81 1196.65,1294.81 1197.6,1294.81 1198.54,1294.81 \n  1199.48,1294.81 1200.42,1294.81 1201.36,1294.81 1202.3,1294.81 1203.24,1294.81 1204.18,1294.81 1205.12,1294.81 1206.07,1294.81 1207.01,1294.81 1207.95,1294.81 \n  1208.89,1294.81 1209.83,1294.81 1210.77,1294.81 1211.71,1294.81 1212.65,1294.81 1213.59,1294.81 1214.53,1294.81 1215.48,1294.81 1216.42,1294.81 1217.36,1294.81 \n  1218.3,1294.81 1219.24,1294.81 1220.18,1294.81 1221.12,1294.81 1222.06,1294.81 1223,1294.81 1223.95,1294.81 1224.89,1294.81 1225.83,1294.81 1226.77,1294.81 \n  1227.71,1294.81 1228.65,1294.81 1229.59,1294.81 1230.53,1294.81 1231.47,1294.81 1232.42,1294.81 1233.36,1294.81 1234.3,1294.81 1235.24,1294.81 1236.18,1294.81 \n  1237.12,1294.81 1238.06,1294.81 1239,1294.81 1239.94,1294.81 1240.89,1294.81 1241.83,1294.81 1242.77,1294.81 1243.71,1294.81 1244.65,1294.81 1245.59,1294.81 \n  1246.53,1294.81 1247.47,1294.81 1248.41,1294.81 1249.36,1294.81 1250.3,1294.81 1251.24,1294.81 1252.18,1294.81 1253.12,1294.81 1254.06,1294.81 1255,1294.81 \n  1255.94,1294.81 1256.88,1294.81 1257.82,1294.81 1258.77,1294.81 1259.71,1294.81 1260.65,1294.81 1261.59,1294.81 1262.53,1294.81 1263.47,1294.81 1264.41,1294.81 \n  1265.35,1294.81 1266.29,1294.81 1267.24,1294.81 1268.18,1294.81 1269.12,1294.81 1270.06,1294.81 1271,1294.81 1271.94,1294.81 1272.88,1294.81 1273.82,1294.81 \n  1274.76,1294.81 1275.71,1294.81 1276.65,1294.81 1277.59,1294.81 1278.53,1294.81 1279.47,1294.81 1280.41,1294.81 1281.35,1294.81 1282.29,1294.81 1283.23,1294.81 \n  1284.18,1294.81 1285.12,1294.81 1286.06,1294.81 1287,1294.81 1287.94,1294.81 1288.88,1294.81 1289.82,1294.81 1290.76,1294.81 1291.7,1294.81 1292.64,1294.81 \n  1293.59,1294.81 1294.53,1294.81 1295.47,1294.81 1296.41,1294.81 1297.35,1294.81 1298.29,1294.81 1299.23,1294.81 1300.17,1294.81 1301.11,1294.81 1302.06,1294.81 \n  1303,1294.81 1303.94,1294.81 1304.88,1294.81 1305.82,1294.81 1306.76,1294.81 1307.7,1294.81 1308.64,1294.81 1309.58,1294.81 1310.53,1294.81 1311.47,1294.81 \n  1312.41,1294.81 1313.35,1294.81 1314.29,1294.81 1315.23,1294.81 1316.17,1294.81 1317.11,1294.81 1318.05,1294.81 1319,1294.81 1319.94,1294.81 1320.88,1294.81 \n  1321.82,1294.81 1322.76,1294.81 1323.7,1294.81 1324.64,1294.81 1325.58,1294.81 1326.52,1294.81 1327.47,1294.81 1328.41,1294.81 1329.35,1294.81 1330.29,1294.81 \n  1331.23,1294.81 1332.17,1294.81 1333.11,1294.81 1334.05,1294.81 1334.99,1294.81 1335.93,1294.81 1336.88,1294.81 1337.82,1294.81 1338.76,1294.81 1339.7,1294.81 \n  1340.64,1294.81 1341.58,1294.81 1342.52,1294.81 1343.46,1294.81 1344.4,1294.81 1345.35,1294.81 1346.29,1294.81 1347.23,1294.81 1348.17,1294.81 1349.11,1294.81 \n  1350.05,1294.81 1350.99,1294.81 1351.93,1294.81 1352.87,1294.81 1353.82,1294.81 1354.76,1294.81 1355.7,1294.81 1356.64,1294.81 1357.58,1294.81 1358.52,1294.81 \n  1359.46,1294.81 1360.4,1294.81 1361.34,1294.81 1362.29,1294.81 1363.23,1294.81 1364.17,1294.81 1365.11,1294.81 1366.05,1294.81 1366.99,1294.81 1367.93,1294.81 \n  1368.87,1294.81 1369.81,1294.81 1370.75,1294.81 1371.7,1294.81 1372.64,1294.81 1373.58,1294.81 1374.52,1294.81 1375.46,1294.81 1376.4,1294.81 1377.34,1294.81 \n  1378.28,1294.81 1379.22,1294.81 1380.17,1294.81 1381.11,1294.81 1382.05,1294.81 1382.99,1294.81 1383.93,1294.81 1384.87,1294.81 1385.81,1294.81 1386.75,1294.81 \n  1387.69,1294.81 1388.64,1294.81 1389.58,1294.81 1390.52,1294.81 1391.46,1294.81 1392.4,1294.81 1393.34,1294.81 1394.28,1294.81 1395.22,1294.81 1396.16,1294.81 \n  1397.11,1294.81 1398.05,1294.81 1398.99,1294.81 1399.93,1294.81 1400.87,1294.81 1401.81,1294.81 1402.75,1294.81 1403.69,1294.81 1404.63,1294.81 1405.57,1294.81 \n  1406.52,1294.81 1407.46,1294.81 1408.4,1294.81 1409.34,1294.81 1410.28,1294.81 1411.22,1294.81 1412.16,1294.81 1413.1,1294.81 1414.04,1294.81 1414.99,1294.81 \n  1415.93,1294.81 1416.87,1294.81 1417.81,1294.81 1418.75,1294.81 1419.69,1294.81 1420.63,1294.81 1421.57,1294.81 1422.51,1294.81 1423.46,1294.81 1424.4,1294.81 \n  1425.34,1294.81 1426.28,1294.81 1427.22,1294.81 1428.16,1294.81 1429.1,1294.81 1430.04,1294.81 1430.98,1294.81 1431.93,1294.81 1432.87,1294.81 1433.81,1294.81 \n  1434.75,1294.81 1435.69,1294.81 1436.63,1294.81 1437.57,1294.81 1438.51,1294.81 1439.45,1294.81 1440.4,1294.81 1441.34,1294.81 1442.28,1294.81 1443.22,1294.81 \n  1444.16,1294.81 1445.1,1294.81 1446.04,1294.81 1446.98,1294.81 1447.92,1294.81 1448.86,1294.81 1449.81,1294.81 1450.75,1294.81 1451.69,1294.81 1452.63,1294.81 \n  1453.57,1294.81 1454.51,1294.81 1455.45,1294.81 1456.39,1294.81 1457.33,1294.81 1458.28,1294.81 1459.22,1294.81 1460.16,1294.81 1461.1,1294.81 1462.04,1294.81 \n  1462.98,1294.81 1463.92,1294.81 1464.86,1294.81 1465.8,1294.81 1466.75,1294.81 1467.69,1294.81 1468.63,1294.81 1469.57,1294.81 1470.51,1294.81 1471.45,1294.81 \n  1472.39,1294.81 1473.33,1294.81 1474.27,1294.81 1475.22,1294.81 1476.16,1294.81 1477.1,1294.81 1478.04,1294.81 1478.98,1294.81 1479.92,1294.81 1480.86,1294.81 \n  1481.8,1294.81 1482.74,1294.81 1483.68,1294.81 1484.63,1294.81 1485.57,1294.81 1486.51,1294.81 1487.45,1294.81 1488.39,1294.81 1489.33,1294.81 1490.27,1294.81 \n  1491.21,1294.81 1492.15,1294.81 1493.1,1294.81 1494.04,1294.81 1494.98,1294.81 1495.92,1294.81 1496.86,1294.81 1497.8,1294.81 1498.74,1294.81 1499.68,1294.81 \n  1500.62,1294.81 1501.57,1294.81 1502.51,1294.81 1503.45,1294.81 1504.39,1294.81 1505.33,1294.81 1506.27,1294.81 1507.21,1294.81 1508.15,1294.81 1509.09,1294.81 \n  1510.04,1294.81 1510.98,1294.81 1511.92,1294.81 1512.86,1294.81 1513.8,1294.81 1514.74,1294.81 1515.68,1294.81 1516.62,1294.81 1517.56,1294.81 1518.51,1294.81 \n  1519.45,1294.81 1520.39,1294.81 1521.33,1294.81 1522.27,1294.81 1523.21,1294.81 1524.15,1294.81 1525.09,1294.81 1526.03,1294.81 1526.97,1294.81 1527.92,1294.81 \n  1528.86,1294.81 1529.8,1294.81 1530.74,1294.81 1531.68,1294.81 1532.62,1294.81 1533.56,1294.81 1534.5,1294.81 1535.44,1294.81 1536.39,1294.81 1537.33,1294.81 \n  1538.27,1294.81 1539.21,1294.81 1540.15,1294.81 1541.09,1294.81 1542.03,1294.81 1542.97,1294.81 1543.91,1294.81 1544.86,1294.81 1545.8,1294.81 1546.74,1294.81 \n  1547.68,1294.81 1548.62,1294.81 1549.56,1294.81 1550.5,1294.81 1551.44,1294.81 1552.38,1294.81 1553.33,1294.81 1554.27,1294.81 1555.21,1294.81 1556.15,1294.81 \n  1557.09,1294.81 1558.03,1294.81 1558.97,1294.81 1559.91,1294.81 1560.85,1294.81 1561.79,1294.81 1562.74,1294.81 1563.68,1294.81 1564.62,1294.81 1565.56,1294.81 \n  1566.5,1294.81 1567.44,1294.81 1568.38,1294.81 1569.32,1294.81 1570.26,1294.81 1571.21,1294.81 1572.15,1294.81 1573.09,1294.81 1574.03,1294.81 1574.97,1294.81 \n  1575.91,1294.81 1576.85,1294.81 1577.79,1294.81 1578.73,1294.81 1579.68,1294.81 1580.62,1294.81 1581.56,1294.81 1582.5,1294.81 1583.44,1294.81 1584.38,1294.81 \n  1585.32,1294.81 1586.26,1294.81 1587.2,1294.81 1588.15,1294.81 1589.09,1294.81 1590.03,1294.81 1590.97,1294.81 1591.91,1294.81 1592.85,1294.81 1593.79,1294.81 \n  1594.73,1294.81 1595.67,1294.81 1596.61,1294.81 1597.56,1294.81 1598.5,1294.81 1599.44,1294.81 1600.38,1294.81 1601.32,1294.81 1602.26,1294.81 1603.2,1294.81 \n  1604.14,1294.81 1605.08,1294.81 1606.03,1294.81 1606.97,1294.81 1607.91,1294.81 1608.85,1294.81 1609.79,1294.81 1610.73,1294.81 1611.67,1294.81 1612.61,1294.81 \n  1613.55,1294.81 1614.5,1294.81 1615.44,1294.81 1616.38,1294.81 1617.32,1294.81 1618.26,1294.81 1619.2,1294.81 1620.14,1294.81 1621.08,1294.81 1622.02,1294.81 \n  1622.97,1294.81 1623.91,1294.81 1624.85,1294.81 1625.79,1294.81 1626.73,1294.81 1627.67,1294.81 1628.61,1294.81 1629.55,1294.81 1630.49,1294.81 1631.44,1294.81 \n  1632.38,1294.81 1633.32,1294.81 1634.26,1294.81 1635.2,1294.81 1636.14,1294.81 1637.08,1294.81 1638.02,1294.81 1638.96,1294.81 1639.9,1294.81 1640.85,1294.81 \n  1641.79,1294.81 1642.73,1294.81 1643.67,1294.81 1644.61,1294.81 1645.55,1294.81 1646.49,1294.81 1647.43,1294.81 1648.37,1294.81 1649.32,1294.81 1650.26,1294.81 \n  1651.2,1294.81 1652.14,1294.81 1653.08,1294.81 1654.02,1294.81 1654.96,1294.81 1655.9,1294.81 1656.84,1294.81 1657.79,1294.81 1658.73,1294.81 1659.67,1294.81 \n  1660.61,1294.81 1661.55,1294.81 1662.49,1294.81 1663.43,1294.81 1664.37,1294.81 1665.31,1294.81 1666.26,1294.81 1667.2,1294.81 1668.14,1294.81 1669.08,1294.81 \n  1670.02,1294.81 1670.96,1294.81 1671.9,1294.81 1672.84,1294.81 1673.78,1294.81 1674.72,1294.81 1675.67,1294.81 1676.61,1294.81 1677.55,1294.81 1678.49,1294.81 \n  1679.43,1294.81 1680.37,1294.81 1681.31,1294.81 1682.25,1294.81 1683.19,1294.81 1684.14,1294.81 1685.08,1294.81 1686.02,1294.81 1686.96,1294.81 1687.9,1294.81 \n  1688.84,1294.81 1689.78,1294.81 1690.72,1294.81 1691.66,1294.81 1692.61,1294.81 1693.55,1294.81 1694.49,1294.81 1695.43,1294.81 1696.37,1294.81 1697.31,1294.81 \n  1698.25,1294.81 1699.19,1294.81 1700.13,1294.81 1701.08,1294.81 1702.02,1294.81 1702.96,1294.81 1703.9,1294.81 1704.84,1294.81 1705.78,1294.81 1706.72,1294.81 \n  1707.66,1294.81 1708.6,1294.81 1709.55,1294.81 1710.49,1294.81 1711.43,1294.81 1712.37,1294.81 1713.31,1294.81 1714.25,1294.81 1715.19,1294.81 1716.13,1294.81 \n  1717.07,1294.81 1718.01,1294.81 1718.96,1294.81 1719.9,1294.81 1720.84,1294.81 1721.78,1294.81 1722.72,1294.81 1723.66,1294.81 1724.6,1294.81 1725.54,1294.81 \n  1726.48,1294.81 1727.43,1294.81 1728.37,1294.81 1729.31,1294.81 1730.25,1294.81 1731.19,1294.81 1732.13,1294.81 1733.07,1294.81 1734.01,1294.81 1734.95,1294.81 \n  1735.9,1294.81 1736.84,1294.81 1737.78,1294.81 1738.72,1294.81 1739.66,1294.81 1740.6,1294.81 1741.54,1294.81 1742.48,1294.81 1743.42,1294.81 1744.37,1294.81 \n  1745.31,1294.81 1746.25,1294.81 1747.19,1294.81 1748.13,1294.81 1749.07,1294.81 1750.01,1294.81 1750.95,1294.81 1751.89,1294.81 1752.83,1294.81 1753.78,1294.81 \n  1754.72,1294.81 1755.66,1294.81 1756.6,1294.81 1757.54,1294.81 1758.48,1294.81 1759.42,1294.81 1760.36,1294.81 1761.3,1294.81 1762.25,1294.81 1763.19,1294.81 \n  1764.13,1294.81 1765.07,1294.81 1766.01,1294.81 1766.95,1294.81 1767.89,1294.81 1768.83,1294.81 1769.77,1294.81 1770.72,1294.81 1771.66,1294.81 1772.6,1294.81 \n  1773.54,1294.81 1774.48,1294.81 1775.42,1294.81 1776.36,1294.81 1777.3,1294.81 1778.24,1294.81 1779.19,1294.81 1780.13,1294.81 1781.07,1294.81 1782.01,1294.81 \n  1782.95,1294.81 1783.89,1294.81 1784.83,1294.81 1785.77,1294.81 1786.71,1294.81 1787.65,1294.81 1788.6,1294.81 1789.54,1294.81 1790.48,1294.81 1791.42,1294.81 \n  1792.36,1294.81 1793.3,1294.81 1794.24,1294.81 1795.18,1294.81 1796.12,1294.81 1797.07,1294.81 1798.01,1294.81 1798.95,1294.81 1799.89,1294.81 1800.83,1294.81 \n  1801.77,1294.81 1802.71,1294.81 1803.65,1294.81 1804.59,1294.81 1805.54,1294.81 1806.48,1294.81 1807.42,1294.81 1808.36,1294.81 1809.3,1294.81 1810.24,1294.81 \n  1811.18,1294.81 1812.12,1294.81 1813.06,1294.81 1814.01,1294.81 1814.95,1294.81 1815.89,1294.81 1816.83,1294.81 1817.77,1294.81 1818.71,1294.81 1819.65,1294.81 \n  1820.59,1294.81 1821.53,1294.81 1822.48,1294.81 1823.42,1294.81 1824.36,1294.81 1825.3,1294.81 1826.24,1294.81 1827.18,1294.81 1828.12,1294.81 1829.06,1294.81 \n  1830,1294.81 1830.94,1294.81 1831.89,1294.81 1832.83,1294.81 1833.77,1294.81 1834.71,1294.81 1835.65,1294.81 1836.59,1294.81 1837.53,1294.81 1838.47,1294.81 \n  1839.41,1294.81 1840.36,1294.81 1841.3,1294.81 1842.24,1294.81 1843.18,1294.81 1844.12,1294.81 1845.06,1294.81 1846,1294.81 1846.94,1294.81 1847.88,1294.81 \n  1848.83,1294.81 1849.77,1294.81 1850.71,1294.81 1851.65,1294.81 1852.59,1294.81 1853.53,1294.81 1854.47,1294.81 1855.41,1294.81 1856.35,1294.81 1857.3,1294.81 \n  1858.24,1294.81 1859.18,1294.81 1860.12,1294.81 1861.06,1294.81 1862,1294.81 1862.94,1294.81 1863.88,1294.81 1864.82,1294.81 1865.76,1294.81 1866.71,1294.81 \n  1867.65,1294.81 1868.59,1294.81 1869.53,1294.81 1870.47,1294.81 1871.41,1294.81 1872.35,1294.81 1873.29,1294.81 1874.23,1294.81 1875.18,1294.81 1876.12,1294.81 \n  1877.06,1294.81 1878,1294.81 1878.94,1294.81 1879.88,1294.81 1880.82,1294.81 1881.76,1294.81 1882.7,1294.81 1883.65,1294.81 1884.59,1294.81 1885.53,1294.81 \n  1886.47,1294.81 1887.41,1294.81 1888.35,1294.81 1889.29,1294.81 1890.23,1294.81 1891.17,1294.81 1892.12,1294.81 1893.06,1294.81 1894,1294.81 1894.94,1294.81 \n  1895.88,1294.81 1896.82,1294.81 1897.76,1294.81 1898.7,1294.81 1899.64,1294.81 1900.59,1294.81 1901.53,1294.81 1902.47,1294.81 1903.41,1294.81 1904.35,1294.81 \n  1905.29,1294.81 1906.23,1294.81 1907.17,1294.81 1908.11,1294.81 1909.05,1294.81 1910,1294.81 1910.94,1294.81 1911.88,1294.81 1912.82,1294.81 1913.76,1294.81 \n  1914.7,1294.81 1915.64,1294.81 1916.58,1294.81 1917.52,1294.81 1918.47,1294.81 1919.41,1294.81 1920.35,1294.81 1921.29,1294.81 1922.23,1294.81 1923.17,1294.81 \n  1924.11,1294.81 1925.05,1294.81 1925.99,1294.81 1926.94,1294.81 1927.88,1293.58 1928.82,1289.33 1929.76,1285.08 1930.7,1280.83 1931.64,1276.58 1932.58,1272.33 \n  1933.52,1268.08 1934.46,1263.83 1935.41,1259.58 1936.35,1255.33 1937.29,1251.08 1938.23,1246.83 1939.17,1242.58 1940.11,1238.33 1941.05,1234.08 1941.99,1229.83 \n  1942.93,1225.58 1943.87,1221.33 1944.82,1217.08 1945.76,1212.83 1946.7,1208.58 1947.64,1204.33 1948.58,1200.08 1949.52,1195.83 1950.46,1191.58 1951.4,1187.33 \n  1952.34,1183.08 1953.29,1178.83 1954.23,1174.58 1955.17,1170.33 1956.11,1166.08 1957.05,1161.83 1957.99,1157.58 1958.93,1153.33 1959.87,1149.08 1960.81,1144.83 \n  1961.76,1140.58 1962.7,1136.33 1963.64,1132.08 1964.58,1127.83 1965.52,1123.58 1966.46,1119.33 1967.4,1115.08 1968.34,1110.83 1969.28,1106.58 1970.23,1102.33 \n  1971.17,1098.08 1972.11,1093.83 1973.05,1089.58 1973.99,1085.33 1974.93,1081.08 1975.87,1076.83 1976.81,1072.58 1977.75,1068.33 1978.69,1064.08 1979.64,1059.83 \n  1980.58,1055.58 1981.52,1051.33 1982.46,1047.08 1983.4,1042.83 1984.34,1038.58 1985.28,1034.33 1986.22,1030.08 1987.16,1025.83 1988.11,1021.58 1989.05,1017.33 \n  1989.99,1013.08 1990.93,1008.83 1991.87,1004.58 1992.81,1000.33 1993.75,996.083 1994.69,991.833 1995.63,987.583 1996.58,983.333 1997.52,979.083 1998.46,974.833 \n  1999.4,970.583 2000.34,966.333 2001.28,962.083 2002.22,957.833 2003.16,953.583 2004.1,949.333 2005.05,945.084 2005.99,940.834 2006.93,936.584 2007.87,932.334 \n  2008.81,928.084 2009.75,923.834 2010.69,919.584 2011.63,915.334 2012.57,911.084 2013.52,906.834 2014.46,902.584 2015.4,898.334 2016.34,894.084 2017.28,889.834 \n  2018.22,885.584 2019.16,881.334 2020.1,877.085 2021.04,872.835 2021.98,868.585 2022.93,864.335 2023.87,860.085 2024.81,855.835 2025.75,851.585 2026.69,847.335 \n  2027.63,843.085 2028.57,838.835 2029.51,834.585 2030.45,830.335 2031.4,826.085 2032.34,821.835 2033.28,817.585 2034.22,813.336 2035.16,809.086 2036.1,804.836 \n  2037.04,800.586 2037.98,796.336 2038.92,792.086 2039.87,787.836 2040.81,783.586 2041.75,779.336 2042.69,775.086 2043.63,770.836 2044.57,766.586 2045.51,762.336 \n  2046.45,758.086 2047.39,753.836 2048.34,749.586 2049.28,745.337 2050.22,741.087 2051.16,736.837 2052.1,732.587 2053.04,728.337 2053.98,724.087 2054.92,719.837 \n  2055.86,715.587 2056.8,711.337 2057.75,707.087 2058.69,702.837 2059.63,698.587 2060.57,694.337 2061.51,690.087 2062.45,685.837 2063.39,681.588 2064.33,677.338 \n  2065.27,673.088 2066.22,668.838 2067.16,664.588 2068.1,660.338 2069.04,656.088 2069.98,651.838 2070.92,647.588 2071.86,643.338 2072.8,639.088 2073.74,634.838 \n  2074.69,630.588 2075.63,626.338 2076.57,622.088 2077.51,617.838 2078.45,613.589 2079.39,609.339 2080.33,605.089 2081.27,600.839 2082.21,596.589 2083.16,592.339 \n  2084.1,588.089 2085.04,583.839 2085.98,579.589 2086.92,575.339 2087.86,571.089 2088.8,566.839 2089.74,562.589 2090.68,558.339 2091.63,554.089 2092.57,549.84 \n  2093.51,545.59 2094.45,541.34 2095.39,537.09 2096.33,532.84 2097.27,528.59 2098.21,524.34 2099.15,520.09 2100.09,515.84 2101.04,511.59 2101.98,507.34 \n  2102.92,503.09 2103.86,498.84 2104.8,494.59 2105.74,490.34 2106.68,486.09 2107.62,481.841 2108.56,477.591 2109.51,473.341 2110.45,469.091 2111.39,464.841 \n  2112.33,460.591 2113.27,456.341 2114.21,452.091 2115.15,447.841 2116.09,443.591 2117.03,439.341 2117.98,435.091 2118.92,430.841 2119.86,426.591 2120.8,422.341 \n  2121.74,418.092 2122.68,413.842 2123.62,409.592 2124.56,405.342 2125.5,401.092 2126.45,396.842 2127.39,392.592 2128.33,388.342 2129.27,384.092 2130.21,379.842 \n  2131.15,375.592 2132.09,371.342 2133.03,367.092 2133.97,362.842 2134.91,358.592 2135.86,354.342 2136.8,350.093 2137.74,345.843 2138.68,341.593 2139.62,337.343 \n  2140.56,333.093 2141.5,328.843 2142.44,324.593 2143.38,320.343 2144.33,316.093 2145.27,311.843 2146.21,307.593 2147.15,303.343 2148.09,299.093 2149.03,294.843 \n  2149.97,290.593 2150.91,286.344 2151.85,282.094 2152.8,277.844 2153.74,273.594 2154.68,269.344 2155.62,265.094 2156.56,260.844 2157.5,256.594 2158.44,252.344 \n  2159.38,248.094 2160.32,243.844 2161.27,239.594 2162.21,235.344 2163.15,231.094 2164.09,226.844 2165.03,222.594 2165.97,218.345 2166.91,214.095 2167.85,209.845 \n  2168.79,205.595 2169.73,201.345 2170.68,197.095 2171.62,192.845 2172.56,188.595 2173.5,184.345 2174.44,180.095 2175.38,175.845 2176.32,171.595 2177.26,167.345 \n  2178.2,163.095 2179.15,158.845 2180.09,154.596 2181.03,150.346 2181.97,146.096 2182.91,141.846 2183.85,137.596 2184.79,133.346 2185.73,129.096 2186.67,124.846 \n  2187.62,120.596 2188.56,116.346 2189.5,112.096 2190.44,107.846 2191.38,103.596 2192.32,99.3464 2193.26,95.0964 2194.2,90.8465 2195.14,86.5966 2196.09,82.3466 \n  \n  \"/>\n<path clip-path=\"url(#clip940)\" d=\"\nM258.422 1486.45 L2252.52 1486.45 L2252.52 47.2441 L258.422 47.2441  Z\n  \" fill=\"#000000\" fill-rule=\"evenodd\" fill-opacity=\"0\"/>\n<path clip-path=\"url(#clip940)\" d=\"M1198.97 1541.44 Q1198.97 1542.26 1198.59 1542.46 Q1198.2 1542.64 1197.15 1542.64 L1191.53 1542.64 L1187.08 1560.32 Q1186.73 1561.87 1186.73 1563.19 Q1186.73 1564.66 1187.17 1565.3 Q1187.64 1565.94 1188.6 1565.94 Q1190.5 1565.94 1192.55 1564.22 Q1194.63 1562.49 1196.39 1558.27 Q1196.62 1557.72 1196.74 1557.6 Q1196.89 1557.45 1197.27 1557.45 Q1198 1557.45 1198 1558.04 Q1198 1558.24 1197.59 1559.18 Q1197.21 1560.12 1196.36 1561.49 Q1195.54 1562.87 1194.46 1564.16 Q1193.4 1565.45 1191.79 1566.38 Q1190.18 1567.29 1188.46 1567.29 Q1186.03 1567.29 1184.47 1565.74 Q1182.95 1564.19 1182.95 1561.76 Q1182.95 1560.97 1183.57 1558.45 Q1184.18 1555.9 1187.52 1542.64 L1182.22 1542.64 Q1181.49 1542.64 1181.19 1542.61 Q1180.93 1542.58 1180.73 1542.43 Q1180.55 1542.26 1180.55 1541.91 Q1180.55 1541.35 1180.78 1541.12 Q1181.02 1540.85 1181.31 1540.82 Q1181.63 1540.77 1182.37 1540.77 L1187.99 1540.77 L1190.33 1531.25 Q1190.56 1530.31 1191.15 1529.79 Q1191.76 1529.23 1192.11 1529.17 Q1192.47 1529.08 1192.73 1529.08 Q1193.52 1529.08 1193.99 1529.52 Q1194.46 1529.93 1194.46 1530.69 Q1194.46 1531.1 1192 1540.77 L1197.27 1540.77 Q1197.94 1540.77 1198.2 1540.79 Q1198.5 1540.82 1198.73 1540.97 Q1198.97 1541.12 1198.97 1541.44 Z\" fill=\"#000000\" fill-rule=\"evenodd\" fill-opacity=\"1\" /><path clip-path=\"url(#clip940)\" d=\"M1225.91 1521.59 L1238.18 1521.59 L1238.18 1525.73 L1231.23 1525.73 L1231.23 1570.29 L1238.18 1570.29 L1238.18 1574.43 L1225.91 1574.43 L1225.91 1521.59 Z\" fill=\"#000000\" fill-rule=\"evenodd\" fill-opacity=\"1\" /><path clip-path=\"url(#clip940)\" d=\"M1276.46 1547.06 L1276.46 1566.62 L1271.14 1566.62 L1271.14 1547.23 Q1271.14 1542.63 1269.34 1540.34 Q1267.55 1538.06 1263.96 1538.06 Q1259.65 1538.06 1257.16 1540.81 Q1254.67 1543.56 1254.67 1548.3 L1254.67 1566.62 L1249.32 1566.62 L1249.32 1534.21 L1254.67 1534.21 L1254.67 1539.25 Q1256.58 1536.32 1259.16 1534.88 Q1261.76 1533.43 1265.15 1533.43 Q1270.73 1533.43 1273.59 1536.9 Q1276.46 1540.34 1276.46 1547.06 Z\" fill=\"#000000\" fill-rule=\"evenodd\" fill-opacity=\"1\" /><path clip-path=\"url(#clip940)\" d=\"M1307.74 1535.17 L1307.74 1540.2 Q1305.48 1539.04 1303.05 1538.46 Q1300.62 1537.89 1298.02 1537.89 Q1294.05 1537.89 1292.06 1539.1 Q1290.09 1540.32 1290.09 1542.75 Q1290.09 1544.6 1291.51 1545.67 Q1292.92 1546.71 1297.21 1547.67 L1299.03 1548.07 Q1304.7 1549.29 1307.07 1551.51 Q1309.47 1553.71 1309.47 1557.68 Q1309.47 1562.19 1305.89 1564.82 Q1302.33 1567.46 1296.08 1567.46 Q1293.47 1567.46 1290.64 1566.94 Q1287.83 1566.44 1284.71 1565.43 L1284.71 1559.93 Q1287.66 1561.47 1290.52 1562.25 Q1293.39 1563 1296.19 1563 Q1299.95 1563 1301.98 1561.73 Q1304.01 1560.43 1304.01 1558.08 Q1304.01 1555.91 1302.53 1554.75 Q1301.08 1553.6 1296.14 1552.53 L1294.28 1552.09 Q1289.34 1551.05 1287.14 1548.91 Q1284.94 1546.74 1284.94 1542.98 Q1284.94 1538.41 1288.18 1535.92 Q1291.42 1533.43 1297.38 1533.43 Q1300.33 1533.43 1302.93 1533.86 Q1305.54 1534.3 1307.74 1535.17 Z\" fill=\"#000000\" fill-rule=\"evenodd\" fill-opacity=\"1\" /><path clip-path=\"url(#clip940)\" d=\"M1330.39 1521.59 L1330.39 1574.43 L1318.13 1574.43 L1318.13 1570.29 L1325.04 1570.29 L1325.04 1525.73 L1318.13 1525.73 L1318.13 1521.59 L1330.39 1521.59 Z\" fill=\"#000000\" fill-rule=\"evenodd\" fill-opacity=\"1\" /><polyline clip-path=\"url(#clip940)\" style=\"stroke:#000000; stroke-linecap:round; stroke-linejoin:round; stroke-width:4; stroke-opacity:1; fill:none\" points=\"\n  2252.52,1486.45 2252.52,47.2441 \n  \"/>\n<polyline clip-path=\"url(#clip940)\" style=\"stroke:#000000; stroke-linecap:round; stroke-linejoin:round; stroke-width:4; stroke-opacity:1; fill:none\" points=\"\n  2252.52,1342.53 2233.62,1342.53 \n  \"/>\n<polyline clip-path=\"url(#clip940)\" style=\"stroke:#000000; stroke-linecap:round; stroke-linejoin:round; stroke-width:4; stroke-opacity:1; fill:none\" points=\"\n  2252.52,1054.69 2233.62,1054.69 \n  \"/>\n<polyline clip-path=\"url(#clip940)\" style=\"stroke:#000000; stroke-linecap:round; stroke-linejoin:round; stroke-width:4; stroke-opacity:1; fill:none\" points=\"\n  2252.52,766.846 2233.62,766.846 \n  \"/>\n<polyline clip-path=\"url(#clip940)\" style=\"stroke:#000000; stroke-linecap:round; stroke-linejoin:round; stroke-width:4; stroke-opacity:1; fill:none\" points=\"\n  2252.52,479.005 2233.62,479.005 \n  \"/>\n<polyline clip-path=\"url(#clip940)\" style=\"stroke:#000000; stroke-linecap:round; stroke-linejoin:round; stroke-width:4; stroke-opacity:1; fill:none\" points=\"\n  2252.52,191.164 2233.62,191.164 \n  \"/>\n<path clip-path=\"url(#clip940)\" d=\"M2288.52 1342.98 L2318.2 1342.98 L2318.2 1346.91 L2288.52 1346.91 L2288.52 1342.98 Z\" fill=\"#000000\" fill-rule=\"evenodd\" fill-opacity=\"1\" /><path clip-path=\"url(#clip940)\" d=\"M2332.32 1355.87 L2348.64 1355.87 L2348.64 1359.81 L2326.69 1359.81 L2326.69 1355.87 Q2329.36 1353.12 2333.94 1348.49 Q2338.54 1343.84 2339.73 1342.49 Q2341.97 1339.97 2342.85 1338.23 Q2343.75 1336.47 2343.75 1334.78 Q2343.75 1332.03 2341.81 1330.29 Q2339.89 1328.56 2336.79 1328.56 Q2334.59 1328.56 2332.13 1329.32 Q2329.7 1330.09 2326.92 1331.64 L2326.92 1326.91 Q2329.75 1325.78 2332.2 1325.2 Q2334.66 1324.62 2336.69 1324.62 Q2342.06 1324.62 2345.26 1327.31 Q2348.45 1329.99 2348.45 1334.48 Q2348.45 1336.61 2347.64 1338.53 Q2346.86 1340.43 2344.75 1343.03 Q2344.17 1343.7 2341.07 1346.91 Q2337.97 1350.11 2332.32 1355.87 Z\" fill=\"#000000\" fill-rule=\"evenodd\" fill-opacity=\"1\" /><path clip-path=\"url(#clip940)\" d=\"M2288.52 1055.14 L2318.2 1055.14 L2318.2 1059.07 L2288.52 1059.07 L2288.52 1055.14 Z\" fill=\"#000000\" fill-rule=\"evenodd\" fill-opacity=\"1\" /><path clip-path=\"url(#clip940)\" d=\"M2329.1 1068.03 L2336.74 1068.03 L2336.74 1041.67 L2328.43 1043.33 L2328.43 1039.07 L2336.69 1037.41 L2341.37 1037.41 L2341.37 1068.03 L2349.01 1068.03 L2349.01 1071.97 L2329.1 1071.97 L2329.1 1068.03 Z\" fill=\"#000000\" fill-rule=\"evenodd\" fill-opacity=\"1\" /><path clip-path=\"url(#clip940)\" d=\"M2300.47 752.645 Q2296.86 752.645 2295.03 756.209 Q2293.22 759.751 2293.22 766.881 Q2293.22 773.987 2295.03 777.552 Q2296.86 781.094 2300.47 781.094 Q2304.1 781.094 2305.91 777.552 Q2307.73 773.987 2307.73 766.881 Q2307.73 759.751 2305.91 756.209 Q2304.1 752.645 2300.47 752.645 M2300.47 748.941 Q2306.28 748.941 2309.33 753.547 Q2312.41 758.131 2312.41 766.881 Q2312.41 775.608 2309.33 780.214 Q2306.28 784.797 2300.47 784.797 Q2294.66 784.797 2291.58 780.214 Q2288.52 775.608 2288.52 766.881 Q2288.52 758.131 2291.58 753.547 Q2294.66 748.941 2300.47 748.941 Z\" fill=\"#000000\" fill-rule=\"evenodd\" fill-opacity=\"1\" /><path clip-path=\"url(#clip940)\" d=\"M2289.19 492.35 L2296.83 492.35 L2296.83 465.984 L2288.52 467.651 L2288.52 463.392 L2296.79 461.725 L2301.46 461.725 L2301.46 492.35 L2309.1 492.35 L2309.1 496.285 L2289.19 496.285 L2289.19 492.35 Z\" fill=\"#000000\" fill-rule=\"evenodd\" fill-opacity=\"1\" /><path clip-path=\"url(#clip940)\" d=\"M2294.15 204.509 L2310.47 204.509 L2310.47 208.444 L2288.52 208.444 L2288.52 204.509 Q2291.18 201.755 2295.77 197.125 Q2300.37 192.472 2301.55 191.13 Q2303.8 188.607 2304.68 186.871 Q2305.58 185.111 2305.58 183.421 Q2305.58 180.667 2303.64 178.931 Q2301.72 177.195 2298.61 177.195 Q2296.42 177.195 2293.96 177.959 Q2291.53 178.722 2288.75 180.273 L2288.75 175.551 Q2291.58 174.417 2294.03 173.838 Q2296.49 173.259 2298.52 173.259 Q2303.89 173.259 2307.09 175.945 Q2310.28 178.63 2310.28 183.121 Q2310.28 185.25 2309.47 187.171 Q2308.68 189.07 2306.58 191.662 Q2306 192.333 2302.9 195.551 Q2299.8 198.745 2294.15 204.509 Z\" fill=\"#000000\" fill-rule=\"evenodd\" fill-opacity=\"1\" /><polyline clip-path=\"url(#clip942)\" style=\"stroke:#ff0000; stroke-linecap:round; stroke-linejoin:round; stroke-width:8; stroke-opacity:1; fill:none\" points=\"\n  577.421,766.846 578.362,766.846 579.304,766.846 580.245,766.846 581.186,766.846 582.127,766.846 583.068,766.846 584.009,766.918 584.95,767.068 585.891,767.276 \n  586.832,767.54 587.773,767.862 588.714,768.241 589.655,768.677 590.597,769.17 591.538,769.719 592.479,770.324 593.42,770.986 594.361,771.705 595.302,772.479 \n  596.243,773.308 597.184,774.193 598.125,775.134 599.066,776.129 600.007,777.178 600.948,778.283 601.89,779.441 602.831,780.652 603.772,781.917 604.713,783.235 \n  605.654,784.606 606.595,786.029 607.536,787.503 608.477,789.029 609.418,790.606 610.359,792.233 611.3,793.91 612.241,795.637 613.183,797.412 614.124,799.236 \n  615.065,801.108 616.006,803.028 616.947,804.994 617.888,807.006 618.829,809.064 619.77,811.167 620.711,813.315 621.652,815.506 622.593,817.74 623.534,820.017 \n  624.476,822.335 625.417,824.695 626.358,827.094 627.299,829.534 628.24,832.012 629.181,834.528 630.122,837.081 631.063,839.671 632.004,842.297 632.945,844.958 \n  633.886,847.652 634.827,850.38 635.769,853.14 636.71,855.932 637.651,858.754 638.592,861.606 639.533,864.486 640.474,867.395 641.415,870.33 642.356,873.291 \n  643.297,876.278 644.238,879.288 645.179,882.321 646.12,885.376 647.062,888.452 648.003,891.548 648.944,894.662 649.885,897.795 650.826,900.944 651.767,904.109 \n  652.708,907.288 653.649,910.481 654.59,913.686 655.531,916.903 656.472,920.129 657.413,923.365 658.355,926.608 659.296,929.858 660.237,933.113 661.178,936.373 \n  662.119,939.636 663.06,942.9 664.001,946.165 664.942,949.43 665.883,952.693 666.824,955.953 667.765,959.209 668.706,962.459 669.648,965.703 670.589,968.939 \n  671.53,972.165 672.471,975.381 673.412,978.585 674.353,981.777 675.294,984.954 676.235,988.115 677.176,991.26 678.117,994.386 679.058,997.493 679.999,1000.58 \n  680.941,1003.64 681.882,1006.69 682.823,1009.7 683.764,1012.69 684.705,1015.66 685.646,1018.59 686.587,1021.5 687.528,1024.37 688.469,1027.22 689.41,1030.02 \n  690.351,1032.8 691.292,1035.54 692.234,1038.24 693.175,1040.9 694.116,1043.52 695.057,1046.11 695.998,1048.64 696.939,1051.14 697.88,1053.59 698.821,1056 \n  699.762,1058.35 700.703,1060.66 701.644,1062.92 702.585,1065.13 703.527,1067.29 704.468,1069.4 705.409,1071.45 706.35,1073.44 707.291,1075.38 708.232,1077.26 \n  709.173,1079.09 710.114,1080.85 711.055,1082.55 711.996,1084.19 712.937,1085.77 713.878,1087.28 714.82,1088.73 715.761,1090.12 716.702,1091.44 717.643,1092.68 \n  718.584,1093.87 719.525,1094.98 720.466,1096.02 721.407,1096.99 722.348,1097.89 723.289,1098.71 724.23,1099.47 725.171,1100.14 726.113,1100.75 727.054,1101.27 \n  727.995,1101.72 728.936,1102.1 729.877,1102.39 730.818,1102.61 731.759,1102.75 732.7,1102.81 733.641,1102.78 734.582,1102.68 735.523,1102.5 736.464,1102.23 \n  737.406,1101.89 738.347,1101.46 739.288,1100.95 740.229,1100.35 741.17,1099.67 742.111,1098.91 743.052,1098.06 743.993,1097.13 744.934,1096.12 745.875,1095.02 \n  746.816,1093.84 747.757,1092.57 748.699,1091.22 749.64,1089.78 750.581,1088.26 751.522,1086.65 752.463,1084.96 753.404,1083.18 754.345,1081.32 755.286,1079.37 \n  756.227,1077.34 757.168,1075.23 758.109,1073.03 759.05,1070.75 759.992,1068.38 760.933,1065.94 761.874,1063.41 762.815,1060.79 763.756,1058.1 764.697,1055.33 \n  765.638,1052.47 766.579,1049.54 767.52,1046.52 768.461,1043.43 769.402,1040.26 770.343,1037.01 771.285,1033.68 772.226,1030.28 773.167,1026.81 774.108,1023.26 \n  775.049,1019.63 775.99,1015.93 776.931,1012.16 777.872,1008.32 778.813,1004.41 779.754,1000.43 780.695,996.383 781.636,992.268 782.578,988.087 783.519,983.841 \n  784.46,979.531 785.401,975.159 786.342,970.725 787.283,966.231 788.224,961.678 789.165,957.067 790.106,952.399 791.047,947.676 791.988,942.9 792.93,938.07 \n  793.871,933.19 794.812,928.259 795.753,923.281 796.694,918.255 797.635,913.183 798.576,908.068 799.517,902.91 800.458,897.711 801.399,892.472 802.34,887.195 \n  803.281,881.882 804.223,876.534 805.164,871.152 806.105,865.739 807.046,860.296 807.987,854.824 808.928,849.325 809.869,843.801 810.81,838.254 811.751,832.685 \n  812.692,827.096 813.633,821.488 814.574,815.863 815.516,810.224 816.457,804.571 817.398,798.906 818.339,793.231 819.28,787.549 820.221,781.86 821.162,776.166 \n  822.103,770.469 823.044,764.382 823.985,756.205 824.926,748.031 825.867,739.864 826.809,731.706 827.75,723.559 828.691,715.428 829.632,707.313 830.573,699.219 \n  831.514,691.148 832.455,683.102 833.396,675.085 834.337,667.098 835.278,659.146 836.219,651.23 837.16,643.353 838.102,635.518 839.043,627.727 839.984,619.983 \n  840.925,612.289 841.866,604.647 842.807,597.061 843.748,589.531 844.689,582.062 845.63,574.655 846.571,567.313 847.512,560.039 848.453,552.835 849.395,545.703 \n  850.336,538.646 851.277,531.666 852.218,524.765 853.159,517.947 854.1,511.213 855.041,504.565 855.982,498.006 856.923,491.538 857.864,485.163 858.805,478.884 \n  859.746,472.702 860.688,466.619 861.629,460.638 862.57,454.761 863.511,448.989 864.452,443.325 865.393,437.77 866.334,432.326 867.275,426.996 868.216,421.781 \n  869.157,416.682 870.098,411.702 871.039,406.843 871.981,402.105 872.922,397.49 873.863,393 874.804,388.637 875.745,384.402 876.686,380.296 877.627,376.321 \n  878.568,372.478 879.509,368.769 880.45,365.194 881.391,361.755 882.332,358.454 883.274,355.29 884.215,352.266 885.156,349.382 886.097,346.639 887.038,344.038 \n  887.979,341.581 888.92,339.267 889.861,337.098 890.802,335.074 891.743,333.197 892.684,331.466 893.625,329.882 894.567,328.447 895.508,327.16 896.449,326.021 \n  897.39,325.032 898.331,324.192 899.272,323.502 900.213,322.962 901.154,322.572 902.095,322.332 903.036,322.243 903.977,322.304 904.918,322.516 905.86,322.878 \n  906.801,323.39 907.742,324.053 908.683,324.865 909.624,325.826 910.565,326.937 911.506,328.197 912.447,329.605 913.388,331.161 914.329,332.865 915.27,334.715 \n  916.211,336.711 917.153,338.854 918.094,341.14 919.035,343.571 919.976,346.146 920.917,348.862 921.858,351.72 922.799,354.718 923.74,357.856 924.681,361.132 \n  925.622,364.546 926.563,368.096 927.504,371.78 928.446,375.598 929.387,379.549 930.328,383.631 931.269,387.842 932.21,392.181 933.151,396.648 934.092,401.239 \n  935.033,405.955 935.974,410.792 936.915,415.75 937.856,420.826 938.797,426.02 939.739,431.329 940.68,436.752 941.621,442.286 942.562,447.93 943.503,453.682 \n  944.444,459.54 945.385,465.502 946.326,471.566 947.267,477.73 948.208,483.991 949.149,490.349 950.09,496.799 951.032,503.342 951.973,509.973 952.914,516.691 \n  953.855,523.494 954.796,530.38 955.737,537.345 956.678,544.388 957.619,551.506 958.56,558.697 959.501,565.959 960.442,573.288 961.383,580.683 962.325,588.141 \n  963.266,595.66 964.207,603.236 965.148,610.868 966.089,618.552 967.03,626.287 967.971,634.069 968.912,641.896 969.853,649.766 970.794,657.675 971.735,665.621 \n  972.676,673.601 973.618,681.613 974.559,689.653 975.5,697.72 976.441,705.81 977.382,713.921 978.323,722.05 979.264,730.194 980.205,738.35 981.146,746.516 \n  982.087,754.688 983.028,762.865 983.969,771.044 984.911,779.22 985.852,787.393 986.793,795.559 987.734,803.715 988.675,811.858 989.616,819.986 990.557,828.097 \n  991.498,836.186 992.439,844.252 993.38,852.292 994.321,860.303 995.262,868.283 996.204,876.228 997.145,884.136 998.086,892.004 999.027,899.83 999.968,907.611 \n  1000.91,915.344 1001.85,923.027 1002.79,930.658 1003.73,938.233 1004.67,945.749 1005.61,953.206 1006.56,960.599 1007.5,967.927 1008.44,975.186 1009.38,982.376 \n  1010.32,989.492 1011.26,996.533 1012.2,1003.5 1013.14,1010.38 1014.08,1017.18 1015.03,1023.9 1015.97,1030.53 1016.91,1037.06 1017.85,1043.51 1018.79,1049.87 \n  1019.73,1056.13 1020.67,1062.29 1021.61,1068.35 1022.55,1074.31 1023.5,1080.16 1024.44,1085.91 1025.38,1091.55 1026.32,1097.09 1027.26,1102.51 1028.2,1107.81 \n  1029.14,1113 1030.08,1118.08 1031.02,1123.03 1031.96,1127.86 1032.91,1132.58 1033.85,1137.16 1034.79,1141.63 1035.73,1145.96 1036.67,1150.17 1037.61,1154.25 \n  1038.55,1158.2 1039.49,1162.01 1040.43,1165.69 1041.38,1169.24 1042.32,1172.65 1043.26,1175.92 1044.2,1179.05 1045.14,1182.05 1046.08,1184.9 1047.02,1187.62 \n  1047.96,1190.19 1048.9,1192.61 1049.85,1194.9 1050.79,1197.04 1051.73,1199.03 1052.67,1200.87 1053.61,1202.57 1054.55,1204.13 1055.49,1205.53 1056.43,1206.79 \n  1057.37,1207.89 1058.32,1208.85 1059.26,1209.66 1060.2,1210.32 1061.14,1210.83 1062.08,1211.18 1063.02,1211.39 1063.96,1211.45 1064.9,1211.36 1065.84,1211.11 \n  1066.78,1210.72 1067.73,1210.17 1068.67,1209.48 1069.61,1208.64 1070.55,1207.64 1071.49,1206.5 1072.43,1205.21 1073.37,1203.77 1074.31,1202.18 1075.25,1200.45 \n  1076.2,1198.57 1077.14,1196.54 1078.08,1194.37 1079.02,1192.05 1079.96,1189.59 1080.9,1186.98 1081.84,1184.24 1082.78,1181.35 1083.72,1178.32 1084.67,1175.15 \n  1085.61,1171.85 1086.55,1168.4 1087.49,1164.83 1088.43,1161.11 1089.37,1157.27 1090.31,1153.29 1091.25,1149.18 1092.19,1144.94 1093.14,1140.57 1094.08,1136.08 \n  1095.02,1131.46 1095.96,1126.72 1096.9,1121.86 1097.84,1116.88 1098.78,1111.77 1099.72,1106.56 1100.66,1101.22 1101.6,1095.78 1102.55,1090.22 1103.49,1084.55 \n  1104.43,1078.78 1105.37,1072.9 1106.31,1066.91 1107.25,1060.83 1108.19,1054.64 1109.13,1048.36 1110.07,1041.98 1111.02,1035.51 1111.96,1028.95 1112.9,1022.3 \n  1113.84,1015.57 1114.78,1008.74 1115.72,1001.84 1116.66,994.86 1117.6,987.801 1118.54,980.667 1119.49,973.461 1120.43,966.185 1121.37,958.841 1122.31,951.433 \n  1123.25,943.962 1124.19,936.431 1125.13,928.842 1126.07,921.199 1127.01,913.504 1127.96,905.759 1128.9,897.967 1129.84,890.131 1130.78,882.253 1131.72,874.336 \n  1132.66,866.382 1133.6,858.395 1134.54,850.377 1135.48,842.33 1136.43,834.258 1137.37,826.164 1138.31,818.049 1139.25,809.917 1140.19,801.77 1141.13,793.612 \n  1142.07,785.444 1143.01,777.27 1143.95,769.093 1144.89,760.914 1145.84,752.738 1146.78,744.567 1147.72,736.403 1148.66,728.25 1149.6,720.109 1150.54,711.984 \n  1151.48,703.878 1152.42,695.794 1153.36,687.733 1154.31,679.699 1155.25,671.694 1156.19,663.722 1157.13,655.785 1158.07,647.885 1159.01,640.025 1159.95,632.208 \n  1160.89,624.437 1161.83,616.714 1162.78,609.042 1163.72,601.423 1164.66,593.861 1165.6,586.356 1166.54,578.913 1167.48,571.534 1168.42,564.22 1169.36,556.975 \n  1170.3,549.801 1171.25,542.701 1172.19,535.676 1173.13,528.73 1174.07,521.864 1175.01,515.081 1175.95,508.383 1176.89,501.773 1177.83,495.252 1178.77,488.823 \n  1179.71,482.489 1180.66,476.25 1181.6,470.11 1182.54,464.07 1183.48,458.133 1184.42,452.3 1185.36,446.574 1186.3,440.956 1187.24,435.448 1188.18,430.052 \n  1189.13,424.771 1190.07,419.605 1191.01,414.556 1191.95,409.627 1192.89,404.819 1193.83,400.133 1194.77,395.571 1195.71,391.135 1196.65,386.826 1197.6,382.645 \n  1198.54,378.595 1199.48,374.675 1200.42,370.889 1201.36,367.237 1202.3,363.719 1203.24,360.338 1204.18,357.095 1205.12,353.99 1206.07,351.025 1207.01,348.201 \n  1207.95,345.519 1208.89,342.978 1209.83,340.582 1210.77,338.329 1211.71,336.222 1212.65,334.26 1213.59,332.445 1214.53,330.776 1215.48,329.256 1216.42,327.883 \n  1217.36,326.659 1218.3,325.583 1219.24,324.657 1220.18,323.881 1221.12,323.254 1222.06,322.778 1223,322.452 1223.95,322.276 1224.89,322.251 1225.83,322.376 \n  1226.77,322.651 1227.71,323.077 1228.65,323.653 1229.59,324.379 1230.53,325.254 1231.47,326.279 1232.42,327.453 1233.36,328.776 1234.3,330.247 1235.24,331.865 \n  1236.18,333.631 1237.12,335.544 1238.06,337.602 1239,339.806 1239.94,342.154 1240.89,344.646 1241.83,347.28 1242.77,350.057 1243.71,352.974 1244.65,356.032 \n  1245.59,359.229 1246.53,362.563 1247.47,366.035 1248.41,369.642 1249.36,373.383 1250.3,377.257 1251.24,381.264 1252.18,385.401 1253.12,389.666 1254.06,394.06 \n  1255,398.58 1255.94,403.224 1256.88,407.991 1257.82,412.88 1258.77,417.888 1259.71,423.015 1260.65,428.257 1261.59,433.615 1262.53,439.085 1263.47,444.666 \n  1264.41,450.356 1265.35,456.153 1266.29,462.056 1267.24,468.061 1268.18,474.167 1269.12,480.373 1270.06,486.675 1271,493.073 1271.94,499.563 1272.88,506.143 \n  1273.82,512.811 1274.76,519.566 1275.71,526.404 1276.65,533.324 1277.59,540.322 1278.53,547.397 1279.47,554.547 1280.41,561.768 1281.35,569.059 1282.29,576.416 \n  1283.23,583.838 1284.18,591.322 1285.12,598.865 1286.06,606.466 1287,614.12 1287.94,621.826 1288.88,629.581 1289.82,637.383 1290.76,645.228 1291.7,653.115 \n  1292.64,661.04 1293.59,669.001 1294.53,676.995 1295.47,685.019 1296.41,693.071 1297.35,701.148 1298.29,709.247 1299.23,717.366 1300.17,725.501 1301.11,733.651 \n  1302.06,741.811 1303,749.981 1303.94,758.155 1304.88,766.333 1305.82,774.511 1306.76,782.687 1307.7,790.857 1308.64,799.019 1309.58,807.17 1310.53,815.307 \n  1311.47,823.428 1312.41,831.53 1313.35,839.61 1314.29,847.665 1315.23,855.693 1316.17,863.691 1317.11,871.656 1318.05,879.586 1319,887.477 1319.94,895.328 \n  1320.88,903.135 1321.82,910.896 1322.76,918.609 1323.7,926.27 1324.64,933.877 1325.58,941.427 1326.52,948.919 1327.47,956.349 1328.41,963.714 1329.35,971.014 \n  1330.29,978.244 1331.23,985.402 1332.17,992.487 1333.11,999.495 1334.05,1006.42 1334.99,1013.27 1335.93,1020.04 1336.88,1026.72 1337.82,1033.31 1338.76,1039.81 \n  1339.7,1046.22 1340.64,1052.53 1341.58,1058.75 1342.52,1064.87 1343.46,1070.89 1344.4,1076.8 1345.35,1082.61 1346.29,1088.32 1347.23,1093.91 1348.17,1099.4 \n  1349.11,1104.77 1350.05,1110.03 1350.99,1115.17 1351.93,1120.19 1352.87,1125.09 1353.82,1129.88 1354.76,1134.54 1355.7,1139.07 1356.64,1143.48 1357.58,1147.76 \n  1358.52,1151.92 1359.46,1155.94 1360.4,1159.83 1361.34,1163.59 1362.29,1167.21 1363.23,1170.7 1364.17,1174.05 1365.11,1177.27 1366.05,1180.34 1366.99,1183.28 \n  1367.93,1186.07 1368.87,1188.72 1369.81,1191.23 1370.75,1193.6 1371.7,1195.82 1372.64,1197.9 1373.58,1199.83 1374.52,1201.61 1375.46,1203.25 1376.4,1204.74 \n  1377.34,1206.08 1378.28,1207.27 1379.22,1208.32 1380.17,1209.21 1381.11,1209.96 1382.05,1210.55 1382.99,1211 1383.93,1211.29 1384.87,1211.43 1385.81,1211.43 \n  1386.75,1211.27 1387.69,1210.96 1388.64,1210.51 1389.58,1209.9 1390.52,1209.14 1391.46,1208.23 1392.4,1207.18 1393.34,1205.97 1394.28,1204.62 1395.22,1203.11 \n  1396.16,1201.46 1397.11,1199.67 1398.05,1197.72 1398.99,1195.63 1399.93,1193.4 1400.87,1191.02 1401.81,1188.5 1402.75,1185.83 1403.69,1183.03 1404.63,1180.08 \n  1405.57,1176.99 1406.52,1173.77 1407.46,1170.4 1408.4,1166.9 1409.34,1163.27 1410.28,1159.5 1411.22,1155.6 1412.16,1151.56 1413.1,1147.4 1414.04,1143.1 \n  1414.99,1138.68 1415.93,1134.14 1416.87,1129.47 1417.81,1124.67 1418.75,1119.76 1419.69,1114.73 1420.63,1109.58 1421.57,1104.31 1422.51,1098.93 1423.46,1093.43 \n  1424.4,1087.83 1425.34,1082.12 1426.28,1076.3 1427.22,1070.37 1428.16,1064.34 1429.1,1058.22 1430.04,1051.99 1430.98,1045.67 1431.93,1039.25 1432.87,1032.74 \n  1433.81,1026.14 1434.75,1019.46 1435.69,1012.68 1436.63,1005.83 1437.57,998.891 1438.51,991.876 1439.45,984.785 1440.4,977.62 1441.34,970.384 1442.28,963.079 \n  1443.22,955.707 1444.16,948.272 1445.1,940.775 1446.04,933.22 1446.98,925.608 1447.92,917.942 1448.86,910.226 1449.81,902.46 1450.75,894.649 1451.69,886.795 \n  1452.63,878.9 1453.57,870.967 1454.51,862.999 1455.45,854.998 1456.39,846.968 1457.33,838.91 1458.28,830.829 1459.22,822.725 1460.16,814.602 1461.1,806.464 \n  1462.04,798.312 1462.98,790.149 1463.92,781.978 1464.86,773.803 1465.8,765.625 1466.75,757.447 1467.69,749.273 1468.63,741.104 1469.57,732.944 1470.51,724.796 \n  1471.45,716.662 1472.39,708.545 1473.33,700.447 1474.27,692.372 1475.22,684.323 1476.16,676.301 1477.1,668.31 1478.04,660.352 1478.98,652.43 1479.92,644.547 \n  1480.86,636.705 1481.8,628.907 1482.74,621.156 1483.68,613.455 1484.63,605.805 1485.57,598.21 1486.51,590.671 1487.45,583.193 1488.39,575.776 1489.33,568.424 \n  1490.27,561.14 1491.21,553.924 1492.15,546.781 1493.1,539.713 1494.04,532.721 1494.98,525.808 1495.92,518.977 1496.86,512.23 1497.8,505.569 1498.74,498.997 \n  1499.68,492.515 1500.62,486.126 1501.57,479.831 1502.51,473.634 1503.45,467.537 1504.39,461.54 1505.33,455.647 1506.27,449.859 1507.21,444.178 1508.15,438.607 \n  1509.09,433.146 1510.04,427.799 1510.98,422.566 1511.92,417.449 1512.86,412.451 1513.8,407.573 1514.74,402.816 1515.68,398.183 1516.62,393.674 1517.56,389.292 \n  1518.51,385.037 1519.45,380.911 1520.39,376.917 1521.33,373.054 1522.27,369.324 1523.21,365.728 1524.15,362.269 1525.09,358.946 1526.03,355.762 1526.97,352.716 \n  1527.92,349.811 1528.86,347.046 1529.8,344.424 1530.74,341.945 1531.68,339.609 1532.62,337.418 1533.56,335.372 1534.5,333.473 1535.44,331.719 1536.39,330.114 \n  1537.33,328.655 1538.27,327.346 1539.21,326.184 1540.15,325.172 1541.09,324.31 1542.03,323.597 1542.97,323.034 1543.91,322.621 1544.86,322.359 1545.8,322.247 \n  1546.74,322.285 1547.68,322.474 1548.62,322.813 1549.56,323.303 1550.5,323.942 1551.44,324.732 1552.38,325.671 1553.33,326.759 1554.27,327.996 1555.21,329.382 \n  1556.15,330.915 1557.09,332.596 1558.03,334.424 1558.97,336.399 1559.91,338.519 1560.85,340.784 1561.79,343.193 1562.74,345.745 1563.68,348.44 1564.62,351.277 \n  1565.56,354.254 1566.5,357.371 1567.44,360.626 1568.38,364.019 1569.32,367.548 1570.26,371.212 1571.21,375.01 1572.15,378.94 1573.09,383.002 1574.03,387.194 \n  1574.97,391.514 1575.91,395.961 1576.85,400.534 1577.79,405.23 1578.73,410.049 1579.68,414.989 1580.62,420.048 1581.56,425.224 1582.5,430.515 1583.44,435.921 \n  1584.38,441.438 1585.32,447.066 1586.26,452.801 1587.2,458.643 1588.15,464.59 1589.09,470.638 1590.03,476.787 1590.97,483.034 1591.91,489.377 1592.85,495.813 \n  1593.79,502.342 1594.73,508.96 1595.67,515.665 1596.61,522.455 1597.56,529.328 1598.5,536.282 1599.44,543.313 1600.38,550.42 1601.32,557.6 1602.26,564.851 \n  1603.2,572.17 1604.14,579.556 1605.08,587.004 1606.03,594.514 1606.97,602.081 1607.91,609.705 1608.85,617.382 1609.79,625.109 1610.73,632.884 1611.67,640.704 \n  1612.61,648.568 1613.55,656.471 1614.5,664.411 1615.44,672.387 1616.38,680.394 1617.32,688.43 1618.26,696.493 1619.2,704.58 1620.14,712.688 1621.08,720.814 \n  1622.02,728.956 1622.97,737.11 1623.91,745.275 1624.85,753.447 1625.79,761.623 1626.73,769.801 1627.67,777.978 1628.61,786.152 1629.55,794.319 1630.49,802.476 \n  1631.44,810.622 1632.38,818.753 1633.32,826.866 1634.26,834.959 1635.2,843.029 1636.14,851.073 1637.08,859.088 1638.02,867.072 1638.96,875.023 1639.9,882.937 \n  1640.85,890.811 1641.79,898.644 1642.73,906.432 1643.67,914.173 1644.61,921.864 1645.55,929.502 1646.49,937.086 1647.43,944.611 1648.37,952.077 1649.32,959.48 \n  1650.26,966.818 1651.2,974.088 1652.14,981.288 1653.08,988.416 1654.02,995.468 1654.96,1002.44 1655.9,1009.34 1656.84,1016.15 1657.79,1022.88 1658.73,1029.52 \n  1659.67,1036.08 1660.61,1042.54 1661.55,1048.91 1662.49,1055.18 1663.43,1061.36 1664.37,1067.44 1665.31,1073.41 1666.26,1079.28 1667.2,1085.05 1668.14,1090.7 \n  1669.08,1096.25 1670.02,1101.69 1670.96,1107.01 1671.9,1112.22 1672.84,1117.31 1673.78,1122.29 1674.72,1127.14 1675.67,1131.87 1676.61,1136.48 1677.55,1140.96 \n  1678.49,1145.31 1679.43,1149.54 1680.37,1153.64 1681.31,1157.61 1682.25,1161.44 1683.19,1165.14 1684.14,1168.71 1685.08,1172.14 1686.02,1175.43 1686.96,1178.59 \n  1687.9,1181.6 1688.84,1183.75 1689.78,1185.67 1690.72,1187.5 1691.66,1189.25 1692.61,1190.9 1693.55,1192.46 1694.49,1193.94 1695.43,1195.32 1696.37,1196.62 \n  1697.31,1197.82 1698.25,1198.93 1699.19,1199.95 1700.13,1200.88 1701.08,1201.71 1702.02,1202.46 1702.96,1203.11 1703.9,1203.67 1704.84,1204.13 1705.78,1204.51 \n  1706.72,1204.79 1707.66,1204.98 1708.6,1205.07 1709.55,1205.07 1710.49,1204.99 1711.43,1204.81 1712.37,1204.53 1713.31,1204.17 1714.25,1203.71 1715.19,1203.17 \n  1716.13,1202.53 1717.07,1201.8 1718.01,1200.99 1718.96,1200.08 1719.9,1199.09 1720.84,1198 1721.78,1196.83 1722.72,1195.58 1723.66,1194.23 1724.6,1192.8 \n  1725.54,1191.29 1726.48,1189.69 1727.43,1188 1728.37,1186.24 1729.31,1184.39 1730.25,1182.46 1731.19,1180.45 1732.13,1178.36 1733.07,1176.19 1734.01,1173.94 \n  1734.95,1171.62 1735.9,1169.22 1736.84,1166.75 1737.78,1164.2 1738.72,1161.58 1739.66,1158.89 1740.6,1156.13 1741.54,1153.29 1742.48,1150.39 1743.42,1147.43 \n  1744.37,1144.4 1745.31,1141.3 1746.25,1138.14 1747.19,1134.92 1748.13,1131.63 1749.07,1128.29 1750.01,1124.89 1750.95,1121.43 1751.89,1117.92 1752.83,1114.36 \n  1753.78,1110.74 1754.72,1107.07 1755.66,1103.35 1756.6,1099.58 1757.54,1095.76 1758.48,1091.9 1759.42,1088 1760.36,1084.05 1761.3,1080.06 1762.25,1076.03 \n  1763.19,1071.96 1764.13,1067.86 1765.07,1063.72 1766.01,1059.55 1766.95,1055.34 1767.89,1051.11 1768.83,1046.85 1769.77,1042.56 1770.72,1038.24 1771.66,1033.9 \n  1772.6,1029.53 1773.54,1025.15 1774.48,1020.74 1775.42,1016.32 1776.36,1011.88 1777.3,1007.42 1778.24,1002.95 1779.19,998.473 1780.13,993.982 1781.07,989.481 \n  1782.01,984.974 1782.95,980.46 1783.89,975.942 1784.83,971.421 1785.77,966.899 1786.71,962.376 1787.65,957.856 1788.6,953.338 1789.54,948.826 1790.48,944.319 \n  1791.42,939.819 1792.36,935.329 1793.3,930.848 1794.24,926.38 1795.18,921.925 1796.12,917.484 1797.07,913.059 1798.01,908.651 1798.95,904.262 1799.89,899.893 \n  1800.83,895.545 1801.77,891.22 1802.71,886.919 1803.65,882.643 1804.59,878.393 1805.54,874.171 1806.48,869.978 1807.42,865.815 1808.36,861.683 1809.3,857.583 \n  1810.24,853.517 1811.18,849.486 1812.12,845.491 1813.06,841.532 1814.01,837.611 1814.95,833.73 1815.89,829.888 1816.83,826.088 1817.77,822.329 1818.71,818.614 \n  1819.65,814.943 1820.59,811.316 1821.53,807.735 1822.48,804.201 1823.42,800.715 1824.36,797.276 1825.3,793.887 1826.24,790.548 1827.18,787.26 1828.12,784.023 \n  1829.06,780.839 1830,777.707 1830.94,774.629 1831.89,771.605 1832.83,768.636 1833.77,765.723 1834.71,762.866 1835.65,760.065 1836.59,757.322 1837.53,754.636 \n  1838.47,752.009 1839.41,749.44 1840.36,746.931 1841.3,744.481 1842.24,742.091 1843.18,739.762 1844.12,737.493 1845.06,735.285 1846,733.139 1846.94,731.054 \n  1847.88,729.032 1848.83,727.072 1849.77,725.174 1850.71,723.338 1851.65,721.566 1852.59,719.857 1853.53,718.21 1854.47,716.627 1855.41,715.108 1856.35,713.652 \n  1857.3,712.259 1858.24,710.93 1859.18,709.664 1860.12,708.462 1861.06,707.324 1862,706.249 1862.94,705.237 1863.88,704.289 1864.82,703.404 1865.76,702.582 \n  1866.71,701.823 1867.65,701.127 1868.59,700.493 1869.53,699.922 1870.47,699.413 1871.41,698.966 1872.35,698.581 1873.29,698.257 1874.23,697.994 1875.18,697.792 \n  1876.12,697.651 1877.06,697.57 1878,697.548 1878.94,697.586 1879.88,697.684 1880.82,697.839 1881.76,698.054 1882.7,698.325 1883.65,698.655 1884.59,699.041 \n  1885.53,699.483 1886.47,699.982 1887.41,700.536 1888.35,701.145 1889.29,701.808 1890.23,702.525 1891.17,703.295 1892.12,704.117 1893.06,704.992 1894,705.919 \n  1894.94,706.896 1895.88,707.923 1896.82,709 1897.76,710.126 1898.7,711.3 1899.64,712.521 1900.59,713.79 1901.53,715.105 1902.47,716.465 1903.41,717.87 \n  1904.35,719.319 1905.29,720.811 1906.23,722.345 1907.17,723.922 1908.11,725.539 1909.05,727.197 1910,728.894 1910.94,730.63 1911.88,732.403 1912.82,734.214 \n  1913.76,736.061 1914.7,737.942 1915.64,739.859 1916.58,741.809 1917.52,743.792 1918.47,745.806 1919.41,747.852 1920.35,749.928 1921.29,752.033 1922.23,754.166 \n  1923.17,756.327 1924.11,758.514 1925.05,760.727 1925.99,762.965 1926.94,765.226 1927.88,766.846 1928.82,766.846 1929.76,766.846 1930.7,766.846 1931.64,766.846 \n  1932.58,766.846 \n  \"/>\n<polyline clip-path=\"url(#clip942)\" style=\"stroke:#ff0000; stroke-linecap:round; stroke-linejoin:round; stroke-width:8; stroke-opacity:1; fill:none\" stroke-dasharray=\"32, 20\" points=\"\n  314.859,766.846 315.8,766.846 316.741,766.846 317.682,766.846 318.623,766.846 319.564,766.846 320.505,766.846 321.447,766.846 322.388,766.846 323.329,766.846 \n  324.27,766.846 325.211,766.846 326.152,766.846 327.093,766.846 328.034,766.846 328.975,766.846 329.916,766.846 330.857,766.846 331.798,766.846 332.74,766.846 \n  333.681,766.846 334.622,766.846 335.563,766.846 336.504,766.846 337.445,766.846 338.386,766.846 339.327,766.846 340.268,766.846 341.209,766.846 342.15,766.846 \n  343.091,766.846 344.033,766.846 344.974,766.846 345.915,766.846 346.856,766.846 347.797,766.846 348.738,766.846 349.679,766.846 350.62,766.846 351.561,766.846 \n  352.502,766.846 353.443,766.846 354.384,766.846 355.326,766.846 356.267,766.846 357.208,766.846 358.149,766.846 359.09,766.846 360.031,766.846 360.972,766.846 \n  361.913,766.846 362.854,766.846 363.795,766.846 364.736,766.846 365.678,766.846 366.619,766.846 367.56,766.846 368.501,766.846 369.442,766.846 370.383,766.846 \n  371.324,766.846 372.265,766.846 373.206,766.846 374.147,766.846 375.088,766.846 376.029,766.846 376.971,766.846 377.912,766.846 378.853,766.846 379.794,766.846 \n  380.735,766.846 381.676,766.846 382.617,766.846 383.558,766.846 384.499,766.846 385.44,766.846 386.381,766.846 387.322,766.846 388.264,766.846 389.205,766.846 \n  390.146,766.846 391.087,766.846 392.028,766.846 392.969,766.846 393.91,766.846 394.851,766.846 395.792,766.846 396.733,766.846 397.674,766.846 398.615,766.846 \n  399.557,766.846 400.498,766.846 401.439,766.846 402.38,766.846 403.321,766.846 404.262,766.846 405.203,766.846 406.144,766.846 407.085,766.846 408.026,766.846 \n  408.967,766.846 409.908,766.846 410.85,766.846 411.791,766.846 412.732,766.846 413.673,766.846 414.614,766.846 415.555,766.846 416.496,766.846 417.437,766.846 \n  418.378,766.846 419.319,766.846 420.26,766.846 421.201,766.846 422.143,766.846 423.084,766.846 424.025,766.846 424.966,766.846 425.907,766.846 426.848,766.846 \n  427.789,766.846 428.73,766.846 429.671,766.846 430.612,766.846 431.553,766.846 432.494,766.846 433.436,766.846 434.377,766.846 435.318,766.846 436.259,766.846 \n  437.2,766.846 438.141,766.846 439.082,766.846 440.023,766.846 440.964,766.846 441.905,766.846 442.846,766.846 443.787,766.846 444.729,766.846 445.67,766.846 \n  446.611,766.846 447.552,766.846 448.493,766.846 449.434,766.846 450.375,766.846 451.316,766.846 452.257,766.846 453.198,766.846 454.139,766.846 455.08,766.846 \n  456.022,766.846 456.963,766.846 457.904,766.846 458.845,766.846 459.786,766.846 460.727,766.846 461.668,766.846 462.609,766.846 463.55,766.846 464.491,766.846 \n  465.432,766.846 466.373,766.846 467.315,766.846 468.256,766.846 469.197,766.846 470.138,766.846 471.079,766.846 472.02,766.846 472.961,766.846 473.902,766.846 \n  474.843,766.846 475.784,766.846 476.725,766.846 477.666,766.846 478.608,766.846 479.549,766.846 480.49,766.846 481.431,766.846 482.372,766.846 483.313,766.846 \n  484.254,766.846 485.195,766.846 486.136,766.846 487.077,766.846 488.018,766.846 488.959,766.846 489.901,766.846 490.842,766.846 491.783,766.846 492.724,766.846 \n  493.665,766.846 494.606,766.846 495.547,766.846 496.488,766.846 497.429,766.846 498.37,766.846 499.311,766.846 500.252,766.846 501.194,766.846 502.135,766.846 \n  503.076,766.846 504.017,766.846 504.958,766.846 505.899,766.846 506.84,766.846 507.781,766.846 508.722,766.846 509.663,766.846 510.604,766.846 511.545,766.846 \n  512.487,766.846 513.428,766.846 514.369,766.846 515.31,766.846 516.251,766.846 517.192,766.846 518.133,766.846 519.074,766.846 520.015,766.846 520.956,766.846 \n  521.897,766.846 522.838,766.846 523.78,766.846 524.721,766.846 525.662,766.846 526.603,766.846 527.544,766.846 528.485,766.846 529.426,766.846 530.367,766.846 \n  531.308,766.846 532.249,766.846 533.19,766.846 534.131,766.846 535.073,766.846 536.014,766.846 536.955,766.846 537.896,766.846 538.837,766.846 539.778,766.846 \n  540.719,766.846 541.66,766.846 542.601,766.846 543.542,766.846 544.483,766.846 545.424,766.846 546.366,766.846 547.307,766.846 548.248,766.846 549.189,766.846 \n  550.13,766.846 551.071,766.846 552.012,766.846 552.953,766.846 553.894,766.846 554.835,766.846 555.776,766.846 556.717,766.846 557.659,766.846 558.6,766.846 \n  559.541,766.846 560.482,766.846 561.423,766.846 562.364,766.846 563.305,766.846 564.246,766.846 565.187,766.846 566.128,766.846 567.069,766.846 568.01,766.846 \n  568.952,766.846 569.893,766.846 570.834,766.846 571.775,766.846 572.716,766.846 573.657,766.846 574.598,766.846 575.539,766.846 576.48,766.846 577.421,766.846 \n  578.362,766.846 579.304,766.846 580.245,766.846 581.186,766.846 582.127,766.846 583.068,766.846 584.009,765.084 584.95,762.604 585.891,760.124 586.832,757.644 \n  587.773,755.164 588.714,752.684 589.655,750.204 590.597,747.725 591.538,745.245 592.479,742.767 593.42,740.288 594.361,737.81 595.302,735.332 596.243,732.854 \n  597.184,730.377 598.125,727.9 599.066,725.424 600.007,722.949 600.948,720.474 601.89,717.999 602.831,715.526 603.772,713.052 604.713,710.58 605.654,708.109 \n  606.595,705.638 607.536,703.168 608.477,700.699 609.418,698.23 610.359,695.763 611.3,693.297 612.241,690.831 613.183,688.367 614.124,685.904 615.065,683.442 \n  616.006,680.981 616.947,678.522 617.888,676.064 618.829,673.607 619.77,671.151 620.711,668.697 621.652,666.244 622.593,663.793 623.534,661.344 624.476,658.896 \n  625.417,656.449 626.358,654.005 627.299,651.562 628.24,649.121 629.181,646.682 630.122,644.245 631.063,641.809 632.004,639.376 632.945,636.945 633.886,634.516 \n  634.827,632.09 635.769,629.665 636.71,627.243 637.651,624.824 638.592,622.407 639.533,619.992 640.474,617.58 641.415,615.171 642.356,612.764 643.297,610.361 \n  644.238,607.96 645.179,605.562 646.12,603.167 647.062,600.775 648.003,598.387 648.944,596.001 649.885,593.619 650.826,591.241 651.767,588.866 652.708,586.494 \n  653.649,584.126 654.59,581.762 655.531,579.401 656.472,577.045 657.413,574.692 658.355,572.344 659.296,569.999 660.237,567.659 661.178,565.323 662.119,562.992 \n  663.06,560.665 664.001,558.342 664.942,556.025 665.883,553.712 666.824,551.404 667.765,549.101 668.706,546.803 669.648,544.51 670.589,542.222 671.53,539.94 \n  672.471,537.663 673.412,535.392 674.353,533.126 675.294,530.866 676.235,528.612 677.176,526.364 678.117,524.122 679.058,521.887 679.999,519.657 680.941,517.434 \n  681.882,515.217 682.823,513.007 683.764,510.804 684.705,508.608 685.646,506.418 686.587,504.235 687.528,502.06 688.469,499.892 689.41,497.731 690.351,495.578 \n  691.292,493.433 692.234,491.295 693.175,489.165 694.116,487.043 695.057,484.929 695.998,482.823 696.939,480.726 697.88,478.637 698.821,476.557 699.762,474.485 \n  700.703,472.422 701.644,470.368 702.585,468.323 703.527,466.287 704.468,464.261 705.409,462.244 706.35,460.236 707.291,458.238 708.232,456.25 709.173,454.272 \n  710.114,452.304 711.055,450.345 711.996,448.398 712.937,446.46 713.878,444.533 714.82,442.617 715.761,440.712 716.702,438.817 717.643,436.933 718.584,435.061 \n  719.525,433.2 720.466,431.35 721.407,429.512 722.348,427.685 723.289,425.87 724.23,424.067 725.171,422.276 726.113,420.498 727.054,418.731 727.995,416.977 \n  728.936,415.235 729.877,413.506 730.818,411.79 731.759,410.086 732.7,408.396 733.641,406.718 734.582,405.054 735.523,403.404 736.464,401.766 737.406,400.143 \n  738.347,398.533 739.288,396.937 740.229,395.354 741.17,393.786 742.111,392.232 743.052,390.693 743.993,389.168 744.934,387.657 745.875,386.161 746.816,384.68 \n  747.757,383.214 748.699,381.762 749.64,380.326 750.581,378.905 751.522,377.499 752.463,376.109 753.404,374.734 754.345,373.375 755.286,372.032 756.227,370.704 \n  757.168,369.393 758.109,368.098 759.05,366.818 759.992,365.555 760.933,364.309 761.874,363.079 762.815,361.865 763.756,360.668 764.697,359.488 765.638,358.325 \n  766.579,357.179 767.52,356.05 768.461,354.938 769.402,353.843 770.343,352.766 771.285,351.706 772.226,350.663 773.167,349.638 774.108,348.631 775.049,347.642 \n  775.99,346.67 776.931,345.717 777.872,344.781 778.813,343.863 779.754,342.964 780.695,342.083 781.636,341.22 782.578,340.375 783.519,339.549 784.46,338.742 \n  785.401,337.953 786.342,337.183 787.283,336.431 788.224,335.699 789.165,334.985 790.106,334.29 791.047,333.614 791.988,332.957 792.93,332.319 793.871,331.701 \n  794.812,331.101 795.753,330.521 796.694,329.96 797.635,329.419 798.576,328.896 799.517,328.394 800.458,327.91 801.399,327.447 802.34,327.003 803.281,326.578 \n  804.223,326.173 805.164,325.788 806.105,325.422 807.046,325.077 807.987,324.751 808.928,324.445 809.869,324.158 810.81,323.892 811.751,323.645 812.692,323.418 \n  813.633,323.212 814.574,323.025 815.516,322.858 816.457,322.711 817.398,322.584 818.339,322.477 819.28,322.39 820.221,322.323 821.162,322.276 822.103,322.25 \n  823.044,322.242 823.985,322.242 824.926,322.242 825.867,322.242 826.809,322.242 827.75,322.242 828.691,322.242 829.632,322.242 830.573,322.242 831.514,322.242 \n  832.455,322.242 833.396,322.242 834.337,322.242 835.278,322.242 836.219,322.242 837.16,322.242 838.102,322.242 839.043,322.242 839.984,322.242 840.925,322.242 \n  841.866,322.242 842.807,322.242 843.748,322.242 844.689,322.242 845.63,322.242 846.571,322.242 847.512,322.242 848.453,322.242 849.395,322.242 850.336,322.242 \n  851.277,322.242 852.218,322.242 853.159,322.242 854.1,322.242 855.041,322.242 855.982,322.242 856.923,322.242 857.864,322.242 858.805,322.242 859.746,322.242 \n  860.688,322.242 861.629,322.242 862.57,322.242 863.511,322.242 864.452,322.242 865.393,322.242 866.334,322.242 867.275,322.242 868.216,322.242 869.157,322.242 \n  870.098,322.242 871.039,322.242 871.981,322.242 872.922,322.242 873.863,322.242 874.804,322.242 875.745,322.242 876.686,322.242 877.627,322.242 878.568,322.242 \n  879.509,322.242 880.45,322.242 881.391,322.242 882.332,322.242 883.274,322.242 884.215,322.242 885.156,322.242 886.097,322.242 887.038,322.242 887.979,322.242 \n  888.92,322.242 889.861,322.242 890.802,322.242 891.743,322.242 892.684,322.242 893.625,322.242 894.567,322.242 895.508,322.242 896.449,322.242 897.39,322.242 \n  898.331,322.242 899.272,322.242 900.213,322.242 901.154,322.242 902.095,322.242 903.036,322.242 903.977,322.242 904.918,322.242 905.86,322.242 906.801,322.242 \n  907.742,322.242 908.683,322.242 909.624,322.242 910.565,322.242 911.506,322.242 912.447,322.242 913.388,322.242 914.329,322.242 915.27,322.242 916.211,322.242 \n  917.153,322.242 918.094,322.242 919.035,322.242 919.976,322.242 920.917,322.242 921.858,322.242 922.799,322.242 923.74,322.242 924.681,322.242 925.622,322.242 \n  926.563,322.242 927.504,322.242 928.446,322.242 929.387,322.242 930.328,322.242 931.269,322.242 932.21,322.242 933.151,322.242 934.092,322.242 935.033,322.242 \n  935.974,322.242 936.915,322.242 937.856,322.242 938.797,322.242 939.739,322.242 940.68,322.242 941.621,322.242 942.562,322.242 943.503,322.242 944.444,322.242 \n  945.385,322.242 946.326,322.242 947.267,322.242 948.208,322.242 949.149,322.242 950.09,322.242 951.032,322.242 951.973,322.242 952.914,322.242 953.855,322.242 \n  954.796,322.242 955.737,322.242 956.678,322.242 957.619,322.242 958.56,322.242 959.501,322.242 960.442,322.242 961.383,322.242 962.325,322.242 963.266,322.242 \n  964.207,322.242 965.148,322.242 966.089,322.242 967.03,322.242 967.971,322.242 968.912,322.242 969.853,322.242 970.794,322.242 971.735,322.242 972.676,322.242 \n  973.618,322.242 974.559,322.242 975.5,322.242 976.441,322.242 977.382,322.242 978.323,322.242 979.264,322.242 980.205,322.242 981.146,322.242 982.087,322.242 \n  983.028,322.242 983.969,322.242 984.911,322.242 985.852,322.242 986.793,322.242 987.734,322.242 988.675,322.242 989.616,322.242 990.557,322.242 991.498,322.242 \n  992.439,322.242 993.38,322.242 994.321,322.242 995.262,322.242 996.204,322.242 997.145,322.242 998.086,322.242 999.027,322.242 999.968,322.242 1000.91,322.242 \n  1001.85,322.242 1002.79,322.242 1003.73,322.242 1004.67,322.242 1005.61,322.242 1006.56,322.242 1007.5,322.242 1008.44,322.242 1009.38,322.242 1010.32,322.242 \n  1011.26,322.242 1012.2,322.242 1013.14,322.242 1014.08,322.242 1015.03,322.242 1015.97,322.242 1016.91,322.242 1017.85,322.242 1018.79,322.242 1019.73,322.242 \n  1020.67,322.242 1021.61,322.242 1022.55,322.242 1023.5,322.242 1024.44,322.242 1025.38,322.242 1026.32,322.242 1027.26,322.242 1028.2,322.242 1029.14,322.242 \n  1030.08,322.242 1031.02,322.242 1031.96,322.242 1032.91,322.242 1033.85,322.242 1034.79,322.242 1035.73,322.242 1036.67,322.242 1037.61,322.242 1038.55,322.242 \n  1039.49,322.242 1040.43,322.242 1041.38,322.242 1042.32,322.242 1043.26,322.242 1044.2,322.242 1045.14,322.242 1046.08,322.242 1047.02,322.242 1047.96,322.242 \n  1048.9,322.242 1049.85,322.242 1050.79,322.242 1051.73,322.242 1052.67,322.242 1053.61,322.242 1054.55,322.242 1055.49,322.242 1056.43,322.242 1057.37,322.242 \n  1058.32,322.242 1059.26,322.242 1060.2,322.242 1061.14,322.242 1062.08,322.242 1063.02,322.242 1063.96,322.242 1064.9,322.242 1065.84,322.242 1066.78,322.242 \n  1067.73,322.242 1068.67,322.242 1069.61,322.242 1070.55,322.242 1071.49,322.242 1072.43,322.242 1073.37,322.242 1074.31,322.242 1075.25,322.242 1076.2,322.242 \n  1077.14,322.242 1078.08,322.242 1079.02,322.242 1079.96,322.242 1080.9,322.242 1081.84,322.242 1082.78,322.242 1083.72,322.242 1084.67,322.242 1085.61,322.242 \n  1086.55,322.242 1087.49,322.242 1088.43,322.242 1089.37,322.242 1090.31,322.242 1091.25,322.242 1092.19,322.242 1093.14,322.242 1094.08,322.242 1095.02,322.242 \n  1095.96,322.242 1096.9,322.242 1097.84,322.242 1098.78,322.242 1099.72,322.242 1100.66,322.242 1101.6,322.242 1102.55,322.242 1103.49,322.242 1104.43,322.242 \n  1105.37,322.242 1106.31,322.242 1107.25,322.242 1108.19,322.242 1109.13,322.242 1110.07,322.242 1111.02,322.242 1111.96,322.242 1112.9,322.242 1113.84,322.242 \n  1114.78,322.242 1115.72,322.242 1116.66,322.242 1117.6,322.242 1118.54,322.242 1119.49,322.242 1120.43,322.242 1121.37,322.242 1122.31,322.242 1123.25,322.242 \n  1124.19,322.242 1125.13,322.242 1126.07,322.242 1127.01,322.242 1127.96,322.242 1128.9,322.242 1129.84,322.242 1130.78,322.242 1131.72,322.242 1132.66,322.242 \n  1133.6,322.242 1134.54,322.242 1135.48,322.242 1136.43,322.242 1137.37,322.242 1138.31,322.242 1139.25,322.242 1140.19,322.242 1141.13,322.242 1142.07,322.242 \n  1143.01,322.242 1143.95,322.242 1144.89,322.242 1145.84,322.242 1146.78,322.242 1147.72,322.242 1148.66,322.242 1149.6,322.242 1150.54,322.242 1151.48,322.242 \n  1152.42,322.242 1153.36,322.242 1154.31,322.242 1155.25,322.242 1156.19,322.242 1157.13,322.242 1158.07,322.242 1159.01,322.242 1159.95,322.242 1160.89,322.242 \n  1161.83,322.242 1162.78,322.242 1163.72,322.242 1164.66,322.242 1165.6,322.242 1166.54,322.242 1167.48,322.242 1168.42,322.242 1169.36,322.242 1170.3,322.242 \n  1171.25,322.242 1172.19,322.242 1173.13,322.242 1174.07,322.242 1175.01,322.242 1175.95,322.242 1176.89,322.242 1177.83,322.242 1178.77,322.242 1179.71,322.242 \n  1180.66,322.242 1181.6,322.242 1182.54,322.242 1183.48,322.242 1184.42,322.242 1185.36,322.242 1186.3,322.242 1187.24,322.242 1188.18,322.242 1189.13,322.242 \n  1190.07,322.242 1191.01,322.242 1191.95,322.242 1192.89,322.242 1193.83,322.242 1194.77,322.242 1195.71,322.242 1196.65,322.242 1197.6,322.242 1198.54,322.242 \n  1199.48,322.242 1200.42,322.242 1201.36,322.242 1202.3,322.242 1203.24,322.242 1204.18,322.242 1205.12,322.242 1206.07,322.242 1207.01,322.242 1207.95,322.242 \n  1208.89,322.242 1209.83,322.242 1210.77,322.242 1211.71,322.242 1212.65,322.242 1213.59,322.242 1214.53,322.242 1215.48,322.242 1216.42,322.242 1217.36,322.242 \n  1218.3,322.242 1219.24,322.242 1220.18,322.242 1221.12,322.242 1222.06,322.242 1223,322.242 1223.95,322.242 1224.89,322.242 1225.83,322.242 1226.77,322.242 \n  1227.71,322.242 1228.65,322.242 1229.59,322.242 1230.53,322.242 1231.47,322.242 1232.42,322.242 1233.36,322.242 1234.3,322.242 1235.24,322.242 1236.18,322.242 \n  1237.12,322.242 1238.06,322.242 1239,322.242 1239.94,322.242 1240.89,322.242 1241.83,322.242 1242.77,322.242 1243.71,322.242 1244.65,322.242 1245.59,322.242 \n  1246.53,322.242 1247.47,322.242 1248.41,322.242 1249.36,322.242 1250.3,322.242 1251.24,322.242 1252.18,322.242 1253.12,322.242 1254.06,322.242 1255,322.242 \n  1255.94,322.242 1256.88,322.242 1257.82,322.242 1258.77,322.242 1259.71,322.242 1260.65,322.242 1261.59,322.242 1262.53,322.242 1263.47,322.242 1264.41,322.242 \n  1265.35,322.242 1266.29,322.242 1267.24,322.242 1268.18,322.242 1269.12,322.242 1270.06,322.242 1271,322.242 1271.94,322.242 1272.88,322.242 1273.82,322.242 \n  1274.76,322.242 1275.71,322.242 1276.65,322.242 1277.59,322.242 1278.53,322.242 1279.47,322.242 1280.41,322.242 1281.35,322.242 1282.29,322.242 1283.23,322.242 \n  1284.18,322.242 1285.12,322.242 1286.06,322.242 1287,322.242 1287.94,322.242 1288.88,322.242 1289.82,322.242 1290.76,322.242 1291.7,322.242 1292.64,322.242 \n  1293.59,322.242 1294.53,322.242 1295.47,322.242 1296.41,322.242 1297.35,322.242 1298.29,322.242 1299.23,322.242 1300.17,322.242 1301.11,322.242 1302.06,322.242 \n  1303,322.242 1303.94,322.242 1304.88,322.242 1305.82,322.242 1306.76,322.242 1307.7,322.242 1308.64,322.242 1309.58,322.242 1310.53,322.242 1311.47,322.242 \n  1312.41,322.242 1313.35,322.242 1314.29,322.242 1315.23,322.242 1316.17,322.242 1317.11,322.242 1318.05,322.242 1319,322.242 1319.94,322.242 1320.88,322.242 \n  1321.82,322.242 1322.76,322.242 1323.7,322.242 1324.64,322.242 1325.58,322.242 1326.52,322.242 1327.47,322.242 1328.41,322.242 1329.35,322.242 1330.29,322.242 \n  1331.23,322.242 1332.17,322.242 1333.11,322.242 1334.05,322.242 1334.99,322.242 1335.93,322.242 1336.88,322.242 1337.82,322.242 1338.76,322.242 1339.7,322.242 \n  1340.64,322.242 1341.58,322.242 1342.52,322.242 1343.46,322.242 1344.4,322.242 1345.35,322.242 1346.29,322.242 1347.23,322.242 1348.17,322.242 1349.11,322.242 \n  1350.05,322.242 1350.99,322.242 1351.93,322.242 1352.87,322.242 1353.82,322.242 1354.76,322.242 1355.7,322.242 1356.64,322.242 1357.58,322.242 1358.52,322.242 \n  1359.46,322.242 1360.4,322.242 1361.34,322.242 1362.29,322.242 1363.23,322.242 1364.17,322.242 1365.11,322.242 1366.05,322.242 1366.99,322.242 1367.93,322.242 \n  1368.87,322.242 1369.81,322.242 1370.75,322.242 1371.7,322.242 1372.64,322.242 1373.58,322.242 1374.52,322.242 1375.46,322.242 1376.4,322.242 1377.34,322.242 \n  1378.28,322.242 1379.22,322.242 1380.17,322.242 1381.11,322.242 1382.05,322.242 1382.99,322.242 1383.93,322.242 1384.87,322.242 1385.81,322.242 1386.75,322.242 \n  1387.69,322.242 1388.64,322.242 1389.58,322.242 1390.52,322.242 1391.46,322.242 1392.4,322.242 1393.34,322.242 1394.28,322.242 1395.22,322.242 1396.16,322.242 \n  1397.11,322.242 1398.05,322.242 1398.99,322.242 1399.93,322.242 1400.87,322.242 1401.81,322.242 1402.75,322.242 1403.69,322.242 1404.63,322.242 1405.57,322.242 \n  1406.52,322.242 1407.46,322.242 1408.4,322.242 1409.34,322.242 1410.28,322.242 1411.22,322.242 1412.16,322.242 1413.1,322.242 1414.04,322.242 1414.99,322.242 \n  1415.93,322.242 1416.87,322.242 1417.81,322.242 1418.75,322.242 1419.69,322.242 1420.63,322.242 1421.57,322.242 1422.51,322.242 1423.46,322.242 1424.4,322.242 \n  1425.34,322.242 1426.28,322.242 1427.22,322.242 1428.16,322.242 1429.1,322.242 1430.04,322.242 1430.98,322.242 1431.93,322.242 1432.87,322.242 1433.81,322.242 \n  1434.75,322.242 1435.69,322.242 1436.63,322.242 1437.57,322.242 1438.51,322.242 1439.45,322.242 1440.4,322.242 1441.34,322.242 1442.28,322.242 1443.22,322.242 \n  1444.16,322.242 1445.1,322.242 1446.04,322.242 1446.98,322.242 1447.92,322.242 1448.86,322.242 1449.81,322.242 1450.75,322.242 1451.69,322.242 1452.63,322.242 \n  1453.57,322.242 1454.51,322.242 1455.45,322.242 1456.39,322.242 1457.33,322.242 1458.28,322.242 1459.22,322.242 1460.16,322.242 1461.1,322.242 1462.04,322.242 \n  1462.98,322.242 1463.92,322.242 1464.86,322.242 1465.8,322.242 1466.75,322.242 1467.69,322.242 1468.63,322.242 1469.57,322.242 1470.51,322.242 1471.45,322.242 \n  1472.39,322.242 1473.33,322.242 1474.27,322.242 1475.22,322.242 1476.16,322.242 1477.1,322.242 1478.04,322.242 1478.98,322.242 1479.92,322.242 1480.86,322.242 \n  1481.8,322.242 1482.74,322.242 1483.68,322.242 1484.63,322.242 1485.57,322.242 1486.51,322.242 1487.45,322.242 1488.39,322.242 1489.33,322.242 1490.27,322.242 \n  1491.21,322.242 1492.15,322.242 1493.1,322.242 1494.04,322.242 1494.98,322.242 1495.92,322.242 1496.86,322.242 1497.8,322.242 1498.74,322.242 1499.68,322.242 \n  1500.62,322.242 1501.57,322.242 1502.51,322.242 1503.45,322.242 1504.39,322.242 1505.33,322.242 1506.27,322.242 1507.21,322.242 1508.15,322.242 1509.09,322.242 \n  1510.04,322.242 1510.98,322.242 1511.92,322.242 1512.86,322.242 1513.8,322.242 1514.74,322.242 1515.68,322.242 1516.62,322.242 1517.56,322.242 1518.51,322.242 \n  1519.45,322.242 1520.39,322.242 1521.33,322.242 1522.27,322.242 1523.21,322.242 1524.15,322.242 1525.09,322.242 1526.03,322.242 1526.97,322.242 1527.92,322.242 \n  1528.86,322.242 1529.8,322.242 1530.74,322.242 1531.68,322.242 1532.62,322.242 1533.56,322.242 1534.5,322.242 1535.44,322.242 1536.39,322.242 1537.33,322.242 \n  1538.27,322.242 1539.21,322.242 1540.15,322.242 1541.09,322.242 1542.03,322.242 1542.97,322.242 1543.91,322.242 1544.86,322.242 1545.8,322.242 1546.74,322.242 \n  1547.68,322.242 1548.62,322.242 1549.56,322.242 1550.5,322.242 1551.44,322.242 1552.38,322.242 1553.33,322.242 1554.27,322.242 1555.21,322.242 1556.15,322.242 \n  1557.09,322.242 1558.03,322.242 1558.97,322.242 1559.91,322.242 1560.85,322.242 1561.79,322.242 1562.74,322.242 1563.68,322.242 1564.62,322.242 1565.56,322.242 \n  1566.5,322.242 1567.44,322.242 1568.38,322.242 1569.32,322.242 1570.26,322.242 1571.21,322.242 1572.15,322.242 1573.09,322.242 1574.03,322.242 1574.97,322.242 \n  1575.91,322.242 1576.85,322.242 1577.79,322.242 1578.73,322.242 1579.68,322.242 1580.62,322.242 1581.56,322.242 1582.5,322.242 1583.44,322.242 1584.38,322.242 \n  1585.32,322.242 1586.26,322.242 1587.2,322.242 1588.15,322.242 1589.09,322.242 1590.03,322.242 1590.97,322.242 1591.91,322.242 1592.85,322.242 1593.79,322.242 \n  1594.73,322.242 1595.67,322.242 1596.61,322.242 1597.56,322.242 1598.5,322.242 1599.44,322.242 1600.38,322.242 1601.32,322.242 1602.26,322.242 1603.2,322.242 \n  1604.14,322.242 1605.08,322.242 1606.03,322.242 1606.97,322.242 1607.91,322.242 1608.85,322.242 1609.79,322.242 1610.73,322.242 1611.67,322.242 1612.61,322.242 \n  1613.55,322.242 1614.5,322.242 1615.44,322.242 1616.38,322.242 1617.32,322.242 1618.26,322.242 1619.2,322.242 1620.14,322.242 1621.08,322.242 1622.02,322.242 \n  1622.97,322.242 1623.91,322.242 1624.85,322.242 1625.79,322.242 1626.73,322.242 1627.67,322.242 1628.61,322.242 1629.55,322.242 1630.49,322.242 1631.44,322.242 \n  1632.38,322.242 1633.32,322.242 1634.26,322.242 1635.2,322.242 1636.14,322.242 1637.08,322.242 1638.02,322.242 1638.96,322.242 1639.9,322.242 1640.85,322.242 \n  1641.79,322.242 1642.73,322.242 1643.67,322.242 1644.61,322.242 1645.55,322.242 1646.49,322.242 1647.43,322.242 1648.37,322.242 1649.32,322.242 1650.26,322.242 \n  1651.2,322.242 1652.14,322.242 1653.08,322.242 1654.02,322.242 1654.96,322.242 1655.9,322.242 1656.84,322.242 1657.79,322.242 1658.73,322.242 1659.67,322.242 \n  1660.61,322.242 1661.55,322.242 1662.49,322.242 1663.43,322.242 1664.37,322.242 1665.31,322.242 1666.26,322.242 1667.2,322.242 1668.14,322.242 1669.08,322.242 \n  1670.02,322.242 1670.96,322.242 1671.9,322.242 1672.84,322.242 1673.78,322.242 1674.72,322.242 1675.67,322.242 1676.61,322.242 1677.55,322.242 1678.49,322.242 \n  1679.43,322.242 1680.37,322.242 1681.31,322.242 1682.25,322.242 1683.19,322.242 1684.14,322.242 1685.08,322.242 1686.02,322.242 1686.96,322.242 1687.9,322.242 \n  1688.84,322.25 1689.78,322.276 1690.72,322.323 1691.66,322.39 1692.61,322.477 1693.55,322.584 1694.49,322.711 1695.43,322.858 1696.37,323.025 1697.31,323.212 \n  1698.25,323.418 1699.19,323.645 1700.13,323.892 1701.08,324.158 1702.02,324.445 1702.96,324.751 1703.9,325.077 1704.84,325.422 1705.78,325.788 1706.72,326.173 \n  1707.66,326.578 1708.6,327.003 1709.55,327.447 1710.49,327.91 1711.43,328.394 1712.37,328.896 1713.31,329.419 1714.25,329.96 1715.19,330.521 1716.13,331.101 \n  1717.07,331.701 1718.01,332.319 1718.96,332.957 1719.9,333.614 1720.84,334.29 1721.78,334.985 1722.72,335.699 1723.66,336.431 1724.6,337.183 1725.54,337.953 \n  1726.48,338.742 1727.43,339.549 1728.37,340.375 1729.31,341.22 1730.25,342.083 1731.19,342.964 1732.13,343.863 1733.07,344.781 1734.01,345.717 1734.95,346.67 \n  1735.9,347.642 1736.84,348.631 1737.78,349.638 1738.72,350.663 1739.66,351.706 1740.6,352.766 1741.54,353.843 1742.48,354.938 1743.42,356.05 1744.37,357.179 \n  1745.31,358.325 1746.25,359.488 1747.19,360.668 1748.13,361.865 1749.07,363.079 1750.01,364.309 1750.95,365.555 1751.89,366.818 1752.83,368.098 1753.78,369.393 \n  1754.72,370.704 1755.66,372.032 1756.6,373.375 1757.54,374.734 1758.48,376.109 1759.42,377.499 1760.36,378.905 1761.3,380.326 1762.25,381.762 1763.19,383.214 \n  1764.13,384.68 1765.07,386.161 1766.01,387.657 1766.95,389.168 1767.89,390.693 1768.83,392.232 1769.77,393.786 1770.72,395.354 1771.66,396.937 1772.6,398.533 \n  1773.54,400.143 1774.48,401.766 1775.42,403.404 1776.36,405.054 1777.3,406.718 1778.24,408.396 1779.19,410.086 1780.13,411.79 1781.07,413.506 1782.01,415.235 \n  1782.95,416.977 1783.89,418.731 1784.83,420.498 1785.77,422.276 1786.71,424.067 1787.65,425.87 1788.6,427.685 1789.54,429.512 1790.48,431.35 1791.42,433.2 \n  1792.36,435.061 1793.3,436.933 1794.24,438.817 1795.18,440.712 1796.12,442.617 1797.07,444.533 1798.01,446.46 1798.95,448.398 1799.89,450.345 1800.83,452.304 \n  1801.77,454.272 1802.71,456.25 1803.65,458.238 1804.59,460.236 1805.54,462.244 1806.48,464.261 1807.42,466.287 1808.36,468.323 1809.3,470.368 1810.24,472.422 \n  1811.18,474.485 1812.12,476.557 1813.06,478.637 1814.01,480.726 1814.95,482.823 1815.89,484.929 1816.83,487.043 1817.77,489.165 1818.71,491.295 1819.65,493.433 \n  1820.59,495.578 1821.53,497.731 1822.48,499.892 1823.42,502.06 1824.36,504.235 1825.3,506.418 1826.24,508.608 1827.18,510.804 1828.12,513.007 1829.06,515.217 \n  1830,517.434 1830.94,519.657 1831.89,521.887 1832.83,524.122 1833.77,526.364 1834.71,528.612 1835.65,530.866 1836.59,533.126 1837.53,535.392 1838.47,537.663 \n  1839.41,539.94 1840.36,542.222 1841.3,544.51 1842.24,546.803 1843.18,549.101 1844.12,551.404 1845.06,553.712 1846,556.025 1846.94,558.342 1847.88,560.665 \n  1848.83,562.992 1849.77,565.323 1850.71,567.659 1851.65,569.999 1852.59,572.344 1853.53,574.692 1854.47,577.045 1855.41,579.401 1856.35,581.762 1857.3,584.126 \n  1858.24,586.494 1859.18,588.866 1860.12,591.241 1861.06,593.619 1862,596.001 1862.94,598.387 1863.88,600.775 1864.82,603.167 1865.76,605.562 1866.71,607.96 \n  1867.65,610.361 1868.59,612.764 1869.53,615.171 1870.47,617.58 1871.41,619.992 1872.35,622.407 1873.29,624.824 1874.23,627.243 1875.18,629.665 1876.12,632.09 \n  1877.06,634.516 1878,636.945 1878.94,639.376 1879.88,641.809 1880.82,644.245 1881.76,646.682 1882.7,649.121 1883.65,651.562 1884.59,654.005 1885.53,656.449 \n  1886.47,658.896 1887.41,661.344 1888.35,663.793 1889.29,666.244 1890.23,668.697 1891.17,671.151 1892.12,673.607 1893.06,676.064 1894,678.522 1894.94,680.981 \n  1895.88,683.442 1896.82,685.904 1897.76,688.367 1898.7,690.831 1899.64,693.297 1900.59,695.763 1901.53,698.23 1902.47,700.699 1903.41,703.168 1904.35,705.638 \n  1905.29,708.109 1906.23,710.58 1907.17,713.052 1908.11,715.526 1909.05,717.999 1910,720.474 1910.94,722.949 1911.88,725.424 1912.82,727.9 1913.76,730.377 \n  1914.7,732.854 1915.64,735.332 1916.58,737.81 1917.52,740.288 1918.47,742.767 1919.41,745.245 1920.35,747.725 1921.29,750.204 1922.23,752.684 1923.17,755.164 \n  1924.11,757.644 1925.05,760.124 1925.99,762.604 1926.94,765.084 1927.88,766.846 1928.82,766.846 1929.76,766.846 1930.7,766.846 1931.64,766.846 1932.58,766.846 \n  1933.52,766.846 1934.46,766.846 1935.41,766.846 1936.35,766.846 1937.29,766.846 1938.23,766.846 1939.17,766.846 1940.11,766.846 1941.05,766.846 1941.99,766.846 \n  1942.93,766.846 1943.87,766.846 1944.82,766.846 1945.76,766.846 1946.7,766.846 1947.64,766.846 1948.58,766.846 1949.52,766.846 1950.46,766.846 1951.4,766.846 \n  1952.34,766.846 1953.29,766.846 1954.23,766.846 1955.17,766.846 1956.11,766.846 1957.05,766.846 1957.99,766.846 1958.93,766.846 1959.87,766.846 1960.81,766.846 \n  1961.76,766.846 1962.7,766.846 1963.64,766.846 1964.58,766.846 1965.52,766.846 1966.46,766.846 1967.4,766.846 1968.34,766.846 1969.28,766.846 1970.23,766.846 \n  1971.17,766.846 1972.11,766.846 1973.05,766.846 1973.99,766.846 1974.93,766.846 1975.87,766.846 1976.81,766.846 1977.75,766.846 1978.69,766.846 1979.64,766.846 \n  1980.58,766.846 1981.52,766.846 1982.46,766.846 1983.4,766.846 1984.34,766.846 1985.28,766.846 1986.22,766.846 1987.16,766.846 1988.11,766.846 1989.05,766.846 \n  1989.99,766.846 1990.93,766.846 1991.87,766.846 1992.81,766.846 1993.75,766.846 1994.69,766.846 1995.63,766.846 1996.58,766.846 1997.52,766.846 1998.46,766.846 \n  1999.4,766.846 2000.34,766.846 2001.28,766.846 2002.22,766.846 2003.16,766.846 2004.1,766.846 2005.05,766.846 2005.99,766.846 2006.93,766.846 2007.87,766.846 \n  2008.81,766.846 2009.75,766.846 2010.69,766.846 2011.63,766.846 2012.57,766.846 2013.52,766.846 2014.46,766.846 2015.4,766.846 2016.34,766.846 2017.28,766.846 \n  2018.22,766.846 2019.16,766.846 2020.1,766.846 2021.04,766.846 2021.98,766.846 2022.93,766.846 2023.87,766.846 2024.81,766.846 2025.75,766.846 2026.69,766.846 \n  2027.63,766.846 2028.57,766.846 2029.51,766.846 2030.45,766.846 2031.4,766.846 2032.34,766.846 2033.28,766.846 2034.22,766.846 2035.16,766.846 2036.1,766.846 \n  2037.04,766.846 2037.98,766.846 2038.92,766.846 2039.87,766.846 2040.81,766.846 2041.75,766.846 2042.69,766.846 2043.63,766.846 2044.57,766.846 2045.51,766.846 \n  2046.45,766.846 2047.39,766.846 2048.34,766.846 2049.28,766.846 2050.22,766.846 2051.16,766.846 2052.1,766.846 2053.04,766.846 2053.98,766.846 2054.92,766.846 \n  2055.86,766.846 2056.8,766.846 2057.75,766.846 2058.69,766.846 2059.63,766.846 2060.57,766.846 2061.51,766.846 2062.45,766.846 2063.39,766.846 2064.33,766.846 \n  2065.27,766.846 2066.22,766.846 2067.16,766.846 2068.1,766.846 2069.04,766.846 2069.98,766.846 2070.92,766.846 2071.86,766.846 2072.8,766.846 2073.74,766.846 \n  2074.69,766.846 2075.63,766.846 2076.57,766.846 2077.51,766.846 2078.45,766.846 2079.39,766.846 2080.33,766.846 2081.27,766.846 2082.21,766.846 2083.16,766.846 \n  2084.1,766.846 2085.04,766.846 2085.98,766.846 2086.92,766.846 2087.86,766.846 2088.8,766.846 2089.74,766.846 2090.68,766.846 2091.63,766.846 2092.57,766.846 \n  2093.51,766.846 2094.45,766.846 2095.39,766.846 2096.33,766.846 2097.27,766.846 2098.21,766.846 2099.15,766.846 2100.09,766.846 2101.04,766.846 2101.98,766.846 \n  2102.92,766.846 2103.86,766.846 2104.8,766.846 2105.74,766.846 2106.68,766.846 2107.62,766.846 2108.56,766.846 2109.51,766.846 2110.45,766.846 2111.39,766.846 \n  2112.33,766.846 2113.27,766.846 2114.21,766.846 2115.15,766.846 2116.09,766.846 2117.03,766.846 2117.98,766.846 2118.92,766.846 2119.86,766.846 2120.8,766.846 \n  2121.74,766.846 2122.68,766.846 2123.62,766.846 2124.56,766.846 2125.5,766.846 2126.45,766.846 2127.39,766.846 2128.33,766.846 2129.27,766.846 2130.21,766.846 \n  2131.15,766.846 2132.09,766.846 2133.03,766.846 2133.97,766.846 2134.91,766.846 2135.86,766.846 2136.8,766.846 2137.74,766.846 2138.68,766.846 2139.62,766.846 \n  2140.56,766.846 2141.5,766.846 2142.44,766.846 2143.38,766.846 2144.33,766.846 2145.27,766.846 2146.21,766.846 2147.15,766.846 2148.09,766.846 2149.03,766.846 \n  2149.97,766.846 2150.91,766.846 2151.85,766.846 2152.8,766.846 2153.74,766.846 2154.68,766.846 2155.62,766.846 2156.56,766.846 2157.5,766.846 2158.44,766.846 \n  2159.38,766.846 2160.32,766.846 2161.27,766.846 2162.21,766.846 2163.15,766.846 2164.09,766.846 2165.03,766.846 2165.97,766.846 2166.91,766.846 2167.85,766.846 \n  2168.79,766.846 2169.73,766.846 2170.68,766.846 2171.62,766.846 2172.56,766.846 2173.5,766.846 2174.44,766.846 2175.38,766.846 2176.32,766.846 2177.26,766.846 \n  2178.2,766.846 2179.15,766.846 2180.09,766.846 2181.03,766.846 2181.97,766.846 2182.91,766.846 2183.85,766.846 2184.79,766.846 2185.73,766.846 2186.67,766.846 \n  2187.62,766.846 2188.56,766.846 2189.5,766.846 2190.44,766.846 2191.38,766.846 2192.32,766.846 2193.26,766.846 2194.2,766.846 2195.14,766.846 2196.09,766.846 \n  \n  \"/>\n<polyline clip-path=\"url(#clip942)\" style=\"stroke:#ff0000; stroke-linecap:round; stroke-linejoin:round; stroke-width:8; stroke-opacity:1; fill:none\" stroke-dasharray=\"32, 20\" points=\"\n  314.859,766.846 315.8,766.846 316.741,766.846 317.682,766.846 318.623,766.846 319.564,766.846 320.505,766.846 321.447,766.846 322.388,766.846 323.329,766.846 \n  324.27,766.846 325.211,766.846 326.152,766.846 327.093,766.846 328.034,766.846 328.975,766.846 329.916,766.846 330.857,766.846 331.798,766.846 332.74,766.846 \n  333.681,766.846 334.622,766.846 335.563,766.846 336.504,766.846 337.445,766.846 338.386,766.846 339.327,766.846 340.268,766.846 341.209,766.846 342.15,766.846 \n  343.091,766.846 344.033,766.846 344.974,766.846 345.915,766.846 346.856,766.846 347.797,766.846 348.738,766.846 349.679,766.846 350.62,766.846 351.561,766.846 \n  352.502,766.846 353.443,766.846 354.384,766.846 355.326,766.846 356.267,766.846 357.208,766.846 358.149,766.846 359.09,766.846 360.031,766.846 360.972,766.846 \n  361.913,766.846 362.854,766.846 363.795,766.846 364.736,766.846 365.678,766.846 366.619,766.846 367.56,766.846 368.501,766.846 369.442,766.846 370.383,766.846 \n  371.324,766.846 372.265,766.846 373.206,766.846 374.147,766.846 375.088,766.846 376.029,766.846 376.971,766.846 377.912,766.846 378.853,766.846 379.794,766.846 \n  380.735,766.846 381.676,766.846 382.617,766.846 383.558,766.846 384.499,766.846 385.44,766.846 386.381,766.846 387.322,766.846 388.264,766.846 389.205,766.846 \n  390.146,766.846 391.087,766.846 392.028,766.846 392.969,766.846 393.91,766.846 394.851,766.846 395.792,766.846 396.733,766.846 397.674,766.846 398.615,766.846 \n  399.557,766.846 400.498,766.846 401.439,766.846 402.38,766.846 403.321,766.846 404.262,766.846 405.203,766.846 406.144,766.846 407.085,766.846 408.026,766.846 \n  408.967,766.846 409.908,766.846 410.85,766.846 411.791,766.846 412.732,766.846 413.673,766.846 414.614,766.846 415.555,766.846 416.496,766.846 417.437,766.846 \n  418.378,766.846 419.319,766.846 420.26,766.846 421.201,766.846 422.143,766.846 423.084,766.846 424.025,766.846 424.966,766.846 425.907,766.846 426.848,766.846 \n  427.789,766.846 428.73,766.846 429.671,766.846 430.612,766.846 431.553,766.846 432.494,766.846 433.436,766.846 434.377,766.846 435.318,766.846 436.259,766.846 \n  437.2,766.846 438.141,766.846 439.082,766.846 440.023,766.846 440.964,766.846 441.905,766.846 442.846,766.846 443.787,766.846 444.729,766.846 445.67,766.846 \n  446.611,766.846 447.552,766.846 448.493,766.846 449.434,766.846 450.375,766.846 451.316,766.846 452.257,766.846 453.198,766.846 454.139,766.846 455.08,766.846 \n  456.022,766.846 456.963,766.846 457.904,766.846 458.845,766.846 459.786,766.846 460.727,766.846 461.668,766.846 462.609,766.846 463.55,766.846 464.491,766.846 \n  465.432,766.846 466.373,766.846 467.315,766.846 468.256,766.846 469.197,766.846 470.138,766.846 471.079,766.846 472.02,766.846 472.961,766.846 473.902,766.846 \n  474.843,766.846 475.784,766.846 476.725,766.846 477.666,766.846 478.608,766.846 479.549,766.846 480.49,766.846 481.431,766.846 482.372,766.846 483.313,766.846 \n  484.254,766.846 485.195,766.846 486.136,766.846 487.077,766.846 488.018,766.846 488.959,766.846 489.901,766.846 490.842,766.846 491.783,766.846 492.724,766.846 \n  493.665,766.846 494.606,766.846 495.547,766.846 496.488,766.846 497.429,766.846 498.37,766.846 499.311,766.846 500.252,766.846 501.194,766.846 502.135,766.846 \n  503.076,766.846 504.017,766.846 504.958,766.846 505.899,766.846 506.84,766.846 507.781,766.846 508.722,766.846 509.663,766.846 510.604,766.846 511.545,766.846 \n  512.487,766.846 513.428,766.846 514.369,766.846 515.31,766.846 516.251,766.846 517.192,766.846 518.133,766.846 519.074,766.846 520.015,766.846 520.956,766.846 \n  521.897,766.846 522.838,766.846 523.78,766.846 524.721,766.846 525.662,766.846 526.603,766.846 527.544,766.846 528.485,766.846 529.426,766.846 530.367,766.846 \n  531.308,766.846 532.249,766.846 533.19,766.846 534.131,766.846 535.073,766.846 536.014,766.846 536.955,766.846 537.896,766.846 538.837,766.846 539.778,766.846 \n  540.719,766.846 541.66,766.846 542.601,766.846 543.542,766.846 544.483,766.846 545.424,766.846 546.366,766.846 547.307,766.846 548.248,766.846 549.189,766.846 \n  550.13,766.846 551.071,766.846 552.012,766.846 552.953,766.846 553.894,766.846 554.835,766.846 555.776,766.846 556.717,766.846 557.659,766.846 558.6,766.846 \n  559.541,766.846 560.482,766.846 561.423,766.846 562.364,766.846 563.305,766.846 564.246,766.846 565.187,766.846 566.128,766.846 567.069,766.846 568.01,766.846 \n  568.952,766.846 569.893,766.846 570.834,766.846 571.775,766.846 572.716,766.846 573.657,766.846 574.598,766.846 575.539,766.846 576.48,766.846 577.421,766.846 \n  578.362,766.846 579.304,766.846 580.245,766.846 581.186,766.846 582.127,766.846 583.068,766.846 584.009,768.608 584.95,771.088 585.891,773.568 586.832,776.048 \n  587.773,778.528 588.714,781.008 589.655,783.488 590.597,785.967 591.538,788.446 592.479,790.925 593.42,793.404 594.361,795.882 595.302,798.36 596.243,800.838 \n  597.184,803.315 598.125,805.792 599.066,808.268 600.007,810.743 600.948,813.218 601.89,815.693 602.831,818.166 603.772,820.639 604.713,823.112 605.654,825.583 \n  606.595,828.054 607.536,830.524 608.477,832.993 609.418,835.462 610.359,837.929 611.3,840.395 612.241,842.861 613.183,845.325 614.124,847.788 615.065,850.25 \n  616.006,852.711 616.947,855.17 617.888,857.628 618.829,860.085 619.77,862.541 620.711,864.995 621.652,867.448 622.593,869.899 623.534,872.348 624.476,874.796 \n  625.417,877.243 626.358,879.687 627.299,882.13 628.24,884.571 629.181,887.01 630.122,889.447 631.063,891.883 632.004,894.316 632.945,896.747 633.886,899.176 \n  634.827,901.602 635.769,904.027 636.71,906.449 637.651,908.868 638.592,911.285 639.533,913.7 640.474,916.112 641.415,918.521 642.356,920.928 643.297,923.331 \n  644.238,925.732 645.179,928.13 646.12,930.525 647.062,932.917 648.003,935.305 648.944,937.691 649.885,940.073 650.826,942.451 651.767,944.826 652.708,947.198 \n  653.649,949.566 654.59,951.93 655.531,954.291 656.472,956.647 657.413,959 658.355,961.348 659.296,963.693 660.237,966.033 661.178,968.369 662.119,970.7 \n  663.06,973.027 664.001,975.35 664.942,977.667 665.883,979.98 666.824,982.288 667.765,984.591 668.706,986.889 669.648,989.182 670.589,991.47 671.53,993.752 \n  672.471,996.029 673.412,998.3 674.353,1000.57 675.294,1002.83 676.235,1005.08 677.176,1007.33 678.117,1009.57 679.058,1011.81 679.999,1014.03 680.941,1016.26 \n  681.882,1018.47 682.823,1020.68 683.764,1022.89 684.705,1025.08 685.646,1027.27 686.587,1029.46 687.528,1031.63 688.469,1033.8 689.41,1035.96 690.351,1038.11 \n  691.292,1040.26 692.234,1042.4 693.175,1044.53 694.116,1046.65 695.057,1048.76 695.998,1050.87 696.939,1052.97 697.88,1055.06 698.821,1057.14 699.762,1059.21 \n  700.703,1061.27 701.644,1063.32 702.585,1065.37 703.527,1067.4 704.468,1069.43 705.409,1071.45 706.35,1073.46 707.291,1075.45 708.232,1077.44 709.173,1079.42 \n  710.114,1081.39 711.055,1083.35 711.996,1085.29 712.937,1087.23 713.878,1089.16 714.82,1091.07 715.761,1092.98 716.702,1094.87 717.643,1096.76 718.584,1098.63 \n  719.525,1100.49 720.466,1102.34 721.407,1104.18 722.348,1106.01 723.289,1107.82 724.23,1109.62 725.171,1111.42 726.113,1113.19 727.054,1114.96 727.995,1116.72 \n  728.936,1118.46 729.877,1120.19 730.818,1121.9 731.759,1123.61 732.7,1125.3 733.641,1126.97 734.582,1128.64 735.523,1130.29 736.464,1131.93 737.406,1133.55 \n  738.347,1135.16 739.288,1136.76 740.229,1138.34 741.17,1139.91 742.111,1141.46 743.052,1143 743.993,1144.52 744.934,1146.03 745.875,1147.53 746.816,1149.01 \n  747.757,1150.48 748.699,1151.93 749.64,1153.37 750.581,1154.79 751.522,1156.19 752.463,1157.58 753.404,1158.96 754.345,1160.32 755.286,1161.66 756.227,1162.99 \n  757.168,1164.3 758.109,1165.59 759.05,1166.87 759.992,1168.14 760.933,1169.38 761.874,1170.61 762.815,1171.83 763.756,1173.02 764.697,1174.2 765.638,1175.37 \n  766.579,1176.51 767.52,1177.64 768.461,1178.75 769.402,1179.85 770.343,1180.93 771.285,1181.99 772.226,1183.03 773.167,1184.05 774.108,1185.06 775.049,1186.05 \n  775.99,1187.02 776.931,1187.98 777.872,1188.91 778.813,1189.83 779.754,1190.73 780.695,1191.61 781.636,1192.47 782.578,1193.32 783.519,1194.14 784.46,1194.95 \n  785.401,1195.74 786.342,1196.51 787.283,1197.26 788.224,1197.99 789.165,1198.71 790.106,1199.4 791.047,1200.08 791.988,1200.73 792.93,1201.37 793.871,1201.99 \n  794.812,1202.59 795.753,1203.17 796.694,1203.73 797.635,1204.27 798.576,1204.8 799.517,1205.3 800.458,1205.78 801.399,1206.25 802.34,1206.69 803.281,1207.11 \n  804.223,1207.52 805.164,1207.9 806.105,1208.27 807.046,1208.62 807.987,1208.94 808.928,1209.25 809.869,1209.53 810.81,1209.8 811.751,1210.05 812.692,1210.27 \n  813.633,1210.48 814.574,1210.67 815.516,1210.83 816.457,1210.98 817.398,1211.11 818.339,1211.21 819.28,1211.3 820.221,1211.37 821.162,1211.42 822.103,1211.44 \n  823.044,1211.45 823.985,1211.45 824.926,1211.45 825.867,1211.45 826.809,1211.45 827.75,1211.45 828.691,1211.45 829.632,1211.45 830.573,1211.45 831.514,1211.45 \n  832.455,1211.45 833.396,1211.45 834.337,1211.45 835.278,1211.45 836.219,1211.45 837.16,1211.45 838.102,1211.45 839.043,1211.45 839.984,1211.45 840.925,1211.45 \n  841.866,1211.45 842.807,1211.45 843.748,1211.45 844.689,1211.45 845.63,1211.45 846.571,1211.45 847.512,1211.45 848.453,1211.45 849.395,1211.45 850.336,1211.45 \n  851.277,1211.45 852.218,1211.45 853.159,1211.45 854.1,1211.45 855.041,1211.45 855.982,1211.45 856.923,1211.45 857.864,1211.45 858.805,1211.45 859.746,1211.45 \n  860.688,1211.45 861.629,1211.45 862.57,1211.45 863.511,1211.45 864.452,1211.45 865.393,1211.45 866.334,1211.45 867.275,1211.45 868.216,1211.45 869.157,1211.45 \n  870.098,1211.45 871.039,1211.45 871.981,1211.45 872.922,1211.45 873.863,1211.45 874.804,1211.45 875.745,1211.45 876.686,1211.45 877.627,1211.45 878.568,1211.45 \n  879.509,1211.45 880.45,1211.45 881.391,1211.45 882.332,1211.45 883.274,1211.45 884.215,1211.45 885.156,1211.45 886.097,1211.45 887.038,1211.45 887.979,1211.45 \n  888.92,1211.45 889.861,1211.45 890.802,1211.45 891.743,1211.45 892.684,1211.45 893.625,1211.45 894.567,1211.45 895.508,1211.45 896.449,1211.45 897.39,1211.45 \n  898.331,1211.45 899.272,1211.45 900.213,1211.45 901.154,1211.45 902.095,1211.45 903.036,1211.45 903.977,1211.45 904.918,1211.45 905.86,1211.45 906.801,1211.45 \n  907.742,1211.45 908.683,1211.45 909.624,1211.45 910.565,1211.45 911.506,1211.45 912.447,1211.45 913.388,1211.45 914.329,1211.45 915.27,1211.45 916.211,1211.45 \n  917.153,1211.45 918.094,1211.45 919.035,1211.45 919.976,1211.45 920.917,1211.45 921.858,1211.45 922.799,1211.45 923.74,1211.45 924.681,1211.45 925.622,1211.45 \n  926.563,1211.45 927.504,1211.45 928.446,1211.45 929.387,1211.45 930.328,1211.45 931.269,1211.45 932.21,1211.45 933.151,1211.45 934.092,1211.45 935.033,1211.45 \n  935.974,1211.45 936.915,1211.45 937.856,1211.45 938.797,1211.45 939.739,1211.45 940.68,1211.45 941.621,1211.45 942.562,1211.45 943.503,1211.45 944.444,1211.45 \n  945.385,1211.45 946.326,1211.45 947.267,1211.45 948.208,1211.45 949.149,1211.45 950.09,1211.45 951.032,1211.45 951.973,1211.45 952.914,1211.45 953.855,1211.45 \n  954.796,1211.45 955.737,1211.45 956.678,1211.45 957.619,1211.45 958.56,1211.45 959.501,1211.45 960.442,1211.45 961.383,1211.45 962.325,1211.45 963.266,1211.45 \n  964.207,1211.45 965.148,1211.45 966.089,1211.45 967.03,1211.45 967.971,1211.45 968.912,1211.45 969.853,1211.45 970.794,1211.45 971.735,1211.45 972.676,1211.45 \n  973.618,1211.45 974.559,1211.45 975.5,1211.45 976.441,1211.45 977.382,1211.45 978.323,1211.45 979.264,1211.45 980.205,1211.45 981.146,1211.45 982.087,1211.45 \n  983.028,1211.45 983.969,1211.45 984.911,1211.45 985.852,1211.45 986.793,1211.45 987.734,1211.45 988.675,1211.45 989.616,1211.45 990.557,1211.45 991.498,1211.45 \n  992.439,1211.45 993.38,1211.45 994.321,1211.45 995.262,1211.45 996.204,1211.45 997.145,1211.45 998.086,1211.45 999.027,1211.45 999.968,1211.45 1000.91,1211.45 \n  1001.85,1211.45 1002.79,1211.45 1003.73,1211.45 1004.67,1211.45 1005.61,1211.45 1006.56,1211.45 1007.5,1211.45 1008.44,1211.45 1009.38,1211.45 1010.32,1211.45 \n  1011.26,1211.45 1012.2,1211.45 1013.14,1211.45 1014.08,1211.45 1015.03,1211.45 1015.97,1211.45 1016.91,1211.45 1017.85,1211.45 1018.79,1211.45 1019.73,1211.45 \n  1020.67,1211.45 1021.61,1211.45 1022.55,1211.45 1023.5,1211.45 1024.44,1211.45 1025.38,1211.45 1026.32,1211.45 1027.26,1211.45 1028.2,1211.45 1029.14,1211.45 \n  1030.08,1211.45 1031.02,1211.45 1031.96,1211.45 1032.91,1211.45 1033.85,1211.45 1034.79,1211.45 1035.73,1211.45 1036.67,1211.45 1037.61,1211.45 1038.55,1211.45 \n  1039.49,1211.45 1040.43,1211.45 1041.38,1211.45 1042.32,1211.45 1043.26,1211.45 1044.2,1211.45 1045.14,1211.45 1046.08,1211.45 1047.02,1211.45 1047.96,1211.45 \n  1048.9,1211.45 1049.85,1211.45 1050.79,1211.45 1051.73,1211.45 1052.67,1211.45 1053.61,1211.45 1054.55,1211.45 1055.49,1211.45 1056.43,1211.45 1057.37,1211.45 \n  1058.32,1211.45 1059.26,1211.45 1060.2,1211.45 1061.14,1211.45 1062.08,1211.45 1063.02,1211.45 1063.96,1211.45 1064.9,1211.45 1065.84,1211.45 1066.78,1211.45 \n  1067.73,1211.45 1068.67,1211.45 1069.61,1211.45 1070.55,1211.45 1071.49,1211.45 1072.43,1211.45 1073.37,1211.45 1074.31,1211.45 1075.25,1211.45 1076.2,1211.45 \n  1077.14,1211.45 1078.08,1211.45 1079.02,1211.45 1079.96,1211.45 1080.9,1211.45 1081.84,1211.45 1082.78,1211.45 1083.72,1211.45 1084.67,1211.45 1085.61,1211.45 \n  1086.55,1211.45 1087.49,1211.45 1088.43,1211.45 1089.37,1211.45 1090.31,1211.45 1091.25,1211.45 1092.19,1211.45 1093.14,1211.45 1094.08,1211.45 1095.02,1211.45 \n  1095.96,1211.45 1096.9,1211.45 1097.84,1211.45 1098.78,1211.45 1099.72,1211.45 1100.66,1211.45 1101.6,1211.45 1102.55,1211.45 1103.49,1211.45 1104.43,1211.45 \n  1105.37,1211.45 1106.31,1211.45 1107.25,1211.45 1108.19,1211.45 1109.13,1211.45 1110.07,1211.45 1111.02,1211.45 1111.96,1211.45 1112.9,1211.45 1113.84,1211.45 \n  1114.78,1211.45 1115.72,1211.45 1116.66,1211.45 1117.6,1211.45 1118.54,1211.45 1119.49,1211.45 1120.43,1211.45 1121.37,1211.45 1122.31,1211.45 1123.25,1211.45 \n  1124.19,1211.45 1125.13,1211.45 1126.07,1211.45 1127.01,1211.45 1127.96,1211.45 1128.9,1211.45 1129.84,1211.45 1130.78,1211.45 1131.72,1211.45 1132.66,1211.45 \n  1133.6,1211.45 1134.54,1211.45 1135.48,1211.45 1136.43,1211.45 1137.37,1211.45 1138.31,1211.45 1139.25,1211.45 1140.19,1211.45 1141.13,1211.45 1142.07,1211.45 \n  1143.01,1211.45 1143.95,1211.45 1144.89,1211.45 1145.84,1211.45 1146.78,1211.45 1147.72,1211.45 1148.66,1211.45 1149.6,1211.45 1150.54,1211.45 1151.48,1211.45 \n  1152.42,1211.45 1153.36,1211.45 1154.31,1211.45 1155.25,1211.45 1156.19,1211.45 1157.13,1211.45 1158.07,1211.45 1159.01,1211.45 1159.95,1211.45 1160.89,1211.45 \n  1161.83,1211.45 1162.78,1211.45 1163.72,1211.45 1164.66,1211.45 1165.6,1211.45 1166.54,1211.45 1167.48,1211.45 1168.42,1211.45 1169.36,1211.45 1170.3,1211.45 \n  1171.25,1211.45 1172.19,1211.45 1173.13,1211.45 1174.07,1211.45 1175.01,1211.45 1175.95,1211.45 1176.89,1211.45 1177.83,1211.45 1178.77,1211.45 1179.71,1211.45 \n  1180.66,1211.45 1181.6,1211.45 1182.54,1211.45 1183.48,1211.45 1184.42,1211.45 1185.36,1211.45 1186.3,1211.45 1187.24,1211.45 1188.18,1211.45 1189.13,1211.45 \n  1190.07,1211.45 1191.01,1211.45 1191.95,1211.45 1192.89,1211.45 1193.83,1211.45 1194.77,1211.45 1195.71,1211.45 1196.65,1211.45 1197.6,1211.45 1198.54,1211.45 \n  1199.48,1211.45 1200.42,1211.45 1201.36,1211.45 1202.3,1211.45 1203.24,1211.45 1204.18,1211.45 1205.12,1211.45 1206.07,1211.45 1207.01,1211.45 1207.95,1211.45 \n  1208.89,1211.45 1209.83,1211.45 1210.77,1211.45 1211.71,1211.45 1212.65,1211.45 1213.59,1211.45 1214.53,1211.45 1215.48,1211.45 1216.42,1211.45 1217.36,1211.45 \n  1218.3,1211.45 1219.24,1211.45 1220.18,1211.45 1221.12,1211.45 1222.06,1211.45 1223,1211.45 1223.95,1211.45 1224.89,1211.45 1225.83,1211.45 1226.77,1211.45 \n  1227.71,1211.45 1228.65,1211.45 1229.59,1211.45 1230.53,1211.45 1231.47,1211.45 1232.42,1211.45 1233.36,1211.45 1234.3,1211.45 1235.24,1211.45 1236.18,1211.45 \n  1237.12,1211.45 1238.06,1211.45 1239,1211.45 1239.94,1211.45 1240.89,1211.45 1241.83,1211.45 1242.77,1211.45 1243.71,1211.45 1244.65,1211.45 1245.59,1211.45 \n  1246.53,1211.45 1247.47,1211.45 1248.41,1211.45 1249.36,1211.45 1250.3,1211.45 1251.24,1211.45 1252.18,1211.45 1253.12,1211.45 1254.06,1211.45 1255,1211.45 \n  1255.94,1211.45 1256.88,1211.45 1257.82,1211.45 1258.77,1211.45 1259.71,1211.45 1260.65,1211.45 1261.59,1211.45 1262.53,1211.45 1263.47,1211.45 1264.41,1211.45 \n  1265.35,1211.45 1266.29,1211.45 1267.24,1211.45 1268.18,1211.45 1269.12,1211.45 1270.06,1211.45 1271,1211.45 1271.94,1211.45 1272.88,1211.45 1273.82,1211.45 \n  1274.76,1211.45 1275.71,1211.45 1276.65,1211.45 1277.59,1211.45 1278.53,1211.45 1279.47,1211.45 1280.41,1211.45 1281.35,1211.45 1282.29,1211.45 1283.23,1211.45 \n  1284.18,1211.45 1285.12,1211.45 1286.06,1211.45 1287,1211.45 1287.94,1211.45 1288.88,1211.45 1289.82,1211.45 1290.76,1211.45 1291.7,1211.45 1292.64,1211.45 \n  1293.59,1211.45 1294.53,1211.45 1295.47,1211.45 1296.41,1211.45 1297.35,1211.45 1298.29,1211.45 1299.23,1211.45 1300.17,1211.45 1301.11,1211.45 1302.06,1211.45 \n  1303,1211.45 1303.94,1211.45 1304.88,1211.45 1305.82,1211.45 1306.76,1211.45 1307.7,1211.45 1308.64,1211.45 1309.58,1211.45 1310.53,1211.45 1311.47,1211.45 \n  1312.41,1211.45 1313.35,1211.45 1314.29,1211.45 1315.23,1211.45 1316.17,1211.45 1317.11,1211.45 1318.05,1211.45 1319,1211.45 1319.94,1211.45 1320.88,1211.45 \n  1321.82,1211.45 1322.76,1211.45 1323.7,1211.45 1324.64,1211.45 1325.58,1211.45 1326.52,1211.45 1327.47,1211.45 1328.41,1211.45 1329.35,1211.45 1330.29,1211.45 \n  1331.23,1211.45 1332.17,1211.45 1333.11,1211.45 1334.05,1211.45 1334.99,1211.45 1335.93,1211.45 1336.88,1211.45 1337.82,1211.45 1338.76,1211.45 1339.7,1211.45 \n  1340.64,1211.45 1341.58,1211.45 1342.52,1211.45 1343.46,1211.45 1344.4,1211.45 1345.35,1211.45 1346.29,1211.45 1347.23,1211.45 1348.17,1211.45 1349.11,1211.45 \n  1350.05,1211.45 1350.99,1211.45 1351.93,1211.45 1352.87,1211.45 1353.82,1211.45 1354.76,1211.45 1355.7,1211.45 1356.64,1211.45 1357.58,1211.45 1358.52,1211.45 \n  1359.46,1211.45 1360.4,1211.45 1361.34,1211.45 1362.29,1211.45 1363.23,1211.45 1364.17,1211.45 1365.11,1211.45 1366.05,1211.45 1366.99,1211.45 1367.93,1211.45 \n  1368.87,1211.45 1369.81,1211.45 1370.75,1211.45 1371.7,1211.45 1372.64,1211.45 1373.58,1211.45 1374.52,1211.45 1375.46,1211.45 1376.4,1211.45 1377.34,1211.45 \n  1378.28,1211.45 1379.22,1211.45 1380.17,1211.45 1381.11,1211.45 1382.05,1211.45 1382.99,1211.45 1383.93,1211.45 1384.87,1211.45 1385.81,1211.45 1386.75,1211.45 \n  1387.69,1211.45 1388.64,1211.45 1389.58,1211.45 1390.52,1211.45 1391.46,1211.45 1392.4,1211.45 1393.34,1211.45 1394.28,1211.45 1395.22,1211.45 1396.16,1211.45 \n  1397.11,1211.45 1398.05,1211.45 1398.99,1211.45 1399.93,1211.45 1400.87,1211.45 1401.81,1211.45 1402.75,1211.45 1403.69,1211.45 1404.63,1211.45 1405.57,1211.45 \n  1406.52,1211.45 1407.46,1211.45 1408.4,1211.45 1409.34,1211.45 1410.28,1211.45 1411.22,1211.45 1412.16,1211.45 1413.1,1211.45 1414.04,1211.45 1414.99,1211.45 \n  1415.93,1211.45 1416.87,1211.45 1417.81,1211.45 1418.75,1211.45 1419.69,1211.45 1420.63,1211.45 1421.57,1211.45 1422.51,1211.45 1423.46,1211.45 1424.4,1211.45 \n  1425.34,1211.45 1426.28,1211.45 1427.22,1211.45 1428.16,1211.45 1429.1,1211.45 1430.04,1211.45 1430.98,1211.45 1431.93,1211.45 1432.87,1211.45 1433.81,1211.45 \n  1434.75,1211.45 1435.69,1211.45 1436.63,1211.45 1437.57,1211.45 1438.51,1211.45 1439.45,1211.45 1440.4,1211.45 1441.34,1211.45 1442.28,1211.45 1443.22,1211.45 \n  1444.16,1211.45 1445.1,1211.45 1446.04,1211.45 1446.98,1211.45 1447.92,1211.45 1448.86,1211.45 1449.81,1211.45 1450.75,1211.45 1451.69,1211.45 1452.63,1211.45 \n  1453.57,1211.45 1454.51,1211.45 1455.45,1211.45 1456.39,1211.45 1457.33,1211.45 1458.28,1211.45 1459.22,1211.45 1460.16,1211.45 1461.1,1211.45 1462.04,1211.45 \n  1462.98,1211.45 1463.92,1211.45 1464.86,1211.45 1465.8,1211.45 1466.75,1211.45 1467.69,1211.45 1468.63,1211.45 1469.57,1211.45 1470.51,1211.45 1471.45,1211.45 \n  1472.39,1211.45 1473.33,1211.45 1474.27,1211.45 1475.22,1211.45 1476.16,1211.45 1477.1,1211.45 1478.04,1211.45 1478.98,1211.45 1479.92,1211.45 1480.86,1211.45 \n  1481.8,1211.45 1482.74,1211.45 1483.68,1211.45 1484.63,1211.45 1485.57,1211.45 1486.51,1211.45 1487.45,1211.45 1488.39,1211.45 1489.33,1211.45 1490.27,1211.45 \n  1491.21,1211.45 1492.15,1211.45 1493.1,1211.45 1494.04,1211.45 1494.98,1211.45 1495.92,1211.45 1496.86,1211.45 1497.8,1211.45 1498.74,1211.45 1499.68,1211.45 \n  1500.62,1211.45 1501.57,1211.45 1502.51,1211.45 1503.45,1211.45 1504.39,1211.45 1505.33,1211.45 1506.27,1211.45 1507.21,1211.45 1508.15,1211.45 1509.09,1211.45 \n  1510.04,1211.45 1510.98,1211.45 1511.92,1211.45 1512.86,1211.45 1513.8,1211.45 1514.74,1211.45 1515.68,1211.45 1516.62,1211.45 1517.56,1211.45 1518.51,1211.45 \n  1519.45,1211.45 1520.39,1211.45 1521.33,1211.45 1522.27,1211.45 1523.21,1211.45 1524.15,1211.45 1525.09,1211.45 1526.03,1211.45 1526.97,1211.45 1527.92,1211.45 \n  1528.86,1211.45 1529.8,1211.45 1530.74,1211.45 1531.68,1211.45 1532.62,1211.45 1533.56,1211.45 1534.5,1211.45 1535.44,1211.45 1536.39,1211.45 1537.33,1211.45 \n  1538.27,1211.45 1539.21,1211.45 1540.15,1211.45 1541.09,1211.45 1542.03,1211.45 1542.97,1211.45 1543.91,1211.45 1544.86,1211.45 1545.8,1211.45 1546.74,1211.45 \n  1547.68,1211.45 1548.62,1211.45 1549.56,1211.45 1550.5,1211.45 1551.44,1211.45 1552.38,1211.45 1553.33,1211.45 1554.27,1211.45 1555.21,1211.45 1556.15,1211.45 \n  1557.09,1211.45 1558.03,1211.45 1558.97,1211.45 1559.91,1211.45 1560.85,1211.45 1561.79,1211.45 1562.74,1211.45 1563.68,1211.45 1564.62,1211.45 1565.56,1211.45 \n  1566.5,1211.45 1567.44,1211.45 1568.38,1211.45 1569.32,1211.45 1570.26,1211.45 1571.21,1211.45 1572.15,1211.45 1573.09,1211.45 1574.03,1211.45 1574.97,1211.45 \n  1575.91,1211.45 1576.85,1211.45 1577.79,1211.45 1578.73,1211.45 1579.68,1211.45 1580.62,1211.45 1581.56,1211.45 1582.5,1211.45 1583.44,1211.45 1584.38,1211.45 \n  1585.32,1211.45 1586.26,1211.45 1587.2,1211.45 1588.15,1211.45 1589.09,1211.45 1590.03,1211.45 1590.97,1211.45 1591.91,1211.45 1592.85,1211.45 1593.79,1211.45 \n  1594.73,1211.45 1595.67,1211.45 1596.61,1211.45 1597.56,1211.45 1598.5,1211.45 1599.44,1211.45 1600.38,1211.45 1601.32,1211.45 1602.26,1211.45 1603.2,1211.45 \n  1604.14,1211.45 1605.08,1211.45 1606.03,1211.45 1606.97,1211.45 1607.91,1211.45 1608.85,1211.45 1609.79,1211.45 1610.73,1211.45 1611.67,1211.45 1612.61,1211.45 \n  1613.55,1211.45 1614.5,1211.45 1615.44,1211.45 1616.38,1211.45 1617.32,1211.45 1618.26,1211.45 1619.2,1211.45 1620.14,1211.45 1621.08,1211.45 1622.02,1211.45 \n  1622.97,1211.45 1623.91,1211.45 1624.85,1211.45 1625.79,1211.45 1626.73,1211.45 1627.67,1211.45 1628.61,1211.45 1629.55,1211.45 1630.49,1211.45 1631.44,1211.45 \n  1632.38,1211.45 1633.32,1211.45 1634.26,1211.45 1635.2,1211.45 1636.14,1211.45 1637.08,1211.45 1638.02,1211.45 1638.96,1211.45 1639.9,1211.45 1640.85,1211.45 \n  1641.79,1211.45 1642.73,1211.45 1643.67,1211.45 1644.61,1211.45 1645.55,1211.45 1646.49,1211.45 1647.43,1211.45 1648.37,1211.45 1649.32,1211.45 1650.26,1211.45 \n  1651.2,1211.45 1652.14,1211.45 1653.08,1211.45 1654.02,1211.45 1654.96,1211.45 1655.9,1211.45 1656.84,1211.45 1657.79,1211.45 1658.73,1211.45 1659.67,1211.45 \n  1660.61,1211.45 1661.55,1211.45 1662.49,1211.45 1663.43,1211.45 1664.37,1211.45 1665.31,1211.45 1666.26,1211.45 1667.2,1211.45 1668.14,1211.45 1669.08,1211.45 \n  1670.02,1211.45 1670.96,1211.45 1671.9,1211.45 1672.84,1211.45 1673.78,1211.45 1674.72,1211.45 1675.67,1211.45 1676.61,1211.45 1677.55,1211.45 1678.49,1211.45 \n  1679.43,1211.45 1680.37,1211.45 1681.31,1211.45 1682.25,1211.45 1683.19,1211.45 1684.14,1211.45 1685.08,1211.45 1686.02,1211.45 1686.96,1211.45 1687.9,1211.45 \n  1688.84,1211.44 1689.78,1211.42 1690.72,1211.37 1691.66,1211.3 1692.61,1211.21 1693.55,1211.11 1694.49,1210.98 1695.43,1210.83 1696.37,1210.67 1697.31,1210.48 \n  1698.25,1210.27 1699.19,1210.05 1700.13,1209.8 1701.08,1209.53 1702.02,1209.25 1702.96,1208.94 1703.9,1208.62 1704.84,1208.27 1705.78,1207.9 1706.72,1207.52 \n  1707.66,1207.11 1708.6,1206.69 1709.55,1206.25 1710.49,1205.78 1711.43,1205.3 1712.37,1204.8 1713.31,1204.27 1714.25,1203.73 1715.19,1203.17 1716.13,1202.59 \n  1717.07,1201.99 1718.01,1201.37 1718.96,1200.73 1719.9,1200.08 1720.84,1199.4 1721.78,1198.71 1722.72,1197.99 1723.66,1197.26 1724.6,1196.51 1725.54,1195.74 \n  1726.48,1194.95 1727.43,1194.14 1728.37,1193.32 1729.31,1192.47 1730.25,1191.61 1731.19,1190.73 1732.13,1189.83 1733.07,1188.91 1734.01,1187.98 1734.95,1187.02 \n  1735.9,1186.05 1736.84,1185.06 1737.78,1184.05 1738.72,1183.03 1739.66,1181.99 1740.6,1180.93 1741.54,1179.85 1742.48,1178.75 1743.42,1177.64 1744.37,1176.51 \n  1745.31,1175.37 1746.25,1174.2 1747.19,1173.02 1748.13,1171.83 1749.07,1170.61 1750.01,1169.38 1750.95,1168.14 1751.89,1166.87 1752.83,1165.59 1753.78,1164.3 \n  1754.72,1162.99 1755.66,1161.66 1756.6,1160.32 1757.54,1158.96 1758.48,1157.58 1759.42,1156.19 1760.36,1154.79 1761.3,1153.37 1762.25,1151.93 1763.19,1150.48 \n  1764.13,1149.01 1765.07,1147.53 1766.01,1146.03 1766.95,1144.52 1767.89,1143 1768.83,1141.46 1769.77,1139.91 1770.72,1138.34 1771.66,1136.76 1772.6,1135.16 \n  1773.54,1133.55 1774.48,1131.93 1775.42,1130.29 1776.36,1128.64 1777.3,1126.97 1778.24,1125.3 1779.19,1123.61 1780.13,1121.9 1781.07,1120.19 1782.01,1118.46 \n  1782.95,1116.72 1783.89,1114.96 1784.83,1113.19 1785.77,1111.42 1786.71,1109.62 1787.65,1107.82 1788.6,1106.01 1789.54,1104.18 1790.48,1102.34 1791.42,1100.49 \n  1792.36,1098.63 1793.3,1096.76 1794.24,1094.87 1795.18,1092.98 1796.12,1091.07 1797.07,1089.16 1798.01,1087.23 1798.95,1085.29 1799.89,1083.35 1800.83,1081.39 \n  1801.77,1079.42 1802.71,1077.44 1803.65,1075.45 1804.59,1073.46 1805.54,1071.45 1806.48,1069.43 1807.42,1067.4 1808.36,1065.37 1809.3,1063.32 1810.24,1061.27 \n  1811.18,1059.21 1812.12,1057.14 1813.06,1055.06 1814.01,1052.97 1814.95,1050.87 1815.89,1048.76 1816.83,1046.65 1817.77,1044.53 1818.71,1042.4 1819.65,1040.26 \n  1820.59,1038.11 1821.53,1035.96 1822.48,1033.8 1823.42,1031.63 1824.36,1029.46 1825.3,1027.27 1826.24,1025.08 1827.18,1022.89 1828.12,1020.68 1829.06,1018.47 \n  1830,1016.26 1830.94,1014.03 1831.89,1011.81 1832.83,1009.57 1833.77,1007.33 1834.71,1005.08 1835.65,1002.83 1836.59,1000.57 1837.53,998.3 1838.47,996.029 \n  1839.41,993.752 1840.36,991.47 1841.3,989.182 1842.24,986.889 1843.18,984.591 1844.12,982.288 1845.06,979.98 1846,977.667 1846.94,975.35 1847.88,973.027 \n  1848.83,970.7 1849.77,968.369 1850.71,966.033 1851.65,963.693 1852.59,961.348 1853.53,959 1854.47,956.647 1855.41,954.291 1856.35,951.93 1857.3,949.566 \n  1858.24,947.198 1859.18,944.826 1860.12,942.451 1861.06,940.073 1862,937.691 1862.94,935.305 1863.88,932.917 1864.82,930.525 1865.76,928.13 1866.71,925.732 \n  1867.65,923.331 1868.59,920.928 1869.53,918.521 1870.47,916.112 1871.41,913.7 1872.35,911.285 1873.29,908.868 1874.23,906.449 1875.18,904.027 1876.12,901.602 \n  1877.06,899.176 1878,896.747 1878.94,894.316 1879.88,891.883 1880.82,889.447 1881.76,887.01 1882.7,884.571 1883.65,882.13 1884.59,879.687 1885.53,877.243 \n  1886.47,874.796 1887.41,872.348 1888.35,869.899 1889.29,867.448 1890.23,864.995 1891.17,862.541 1892.12,860.085 1893.06,857.628 1894,855.17 1894.94,852.711 \n  1895.88,850.25 1896.82,847.788 1897.76,845.325 1898.7,842.861 1899.64,840.395 1900.59,837.929 1901.53,835.462 1902.47,832.993 1903.41,830.524 1904.35,828.054 \n  1905.29,825.583 1906.23,823.112 1907.17,820.639 1908.11,818.166 1909.05,815.693 1910,813.218 1910.94,810.743 1911.88,808.268 1912.82,805.792 1913.76,803.315 \n  1914.7,800.838 1915.64,798.36 1916.58,795.882 1917.52,793.404 1918.47,790.925 1919.41,788.446 1920.35,785.967 1921.29,783.488 1922.23,781.008 1923.17,778.528 \n  1924.11,776.048 1925.05,773.568 1925.99,771.088 1926.94,768.608 1927.88,766.846 1928.82,766.846 1929.76,766.846 1930.7,766.846 1931.64,766.846 1932.58,766.846 \n  1933.52,766.846 1934.46,766.846 1935.41,766.846 1936.35,766.846 1937.29,766.846 1938.23,766.846 1939.17,766.846 1940.11,766.846 1941.05,766.846 1941.99,766.846 \n  1942.93,766.846 1943.87,766.846 1944.82,766.846 1945.76,766.846 1946.7,766.846 1947.64,766.846 1948.58,766.846 1949.52,766.846 1950.46,766.846 1951.4,766.846 \n  1952.34,766.846 1953.29,766.846 1954.23,766.846 1955.17,766.846 1956.11,766.846 1957.05,766.846 1957.99,766.846 1958.93,766.846 1959.87,766.846 1960.81,766.846 \n  1961.76,766.846 1962.7,766.846 1963.64,766.846 1964.58,766.846 1965.52,766.846 1966.46,766.846 1967.4,766.846 1968.34,766.846 1969.28,766.846 1970.23,766.846 \n  1971.17,766.846 1972.11,766.846 1973.05,766.846 1973.99,766.846 1974.93,766.846 1975.87,766.846 1976.81,766.846 1977.75,766.846 1978.69,766.846 1979.64,766.846 \n  1980.58,766.846 1981.52,766.846 1982.46,766.846 1983.4,766.846 1984.34,766.846 1985.28,766.846 1986.22,766.846 1987.16,766.846 1988.11,766.846 1989.05,766.846 \n  1989.99,766.846 1990.93,766.846 1991.87,766.846 1992.81,766.846 1993.75,766.846 1994.69,766.846 1995.63,766.846 1996.58,766.846 1997.52,766.846 1998.46,766.846 \n  1999.4,766.846 2000.34,766.846 2001.28,766.846 2002.22,766.846 2003.16,766.846 2004.1,766.846 2005.05,766.846 2005.99,766.846 2006.93,766.846 2007.87,766.846 \n  2008.81,766.846 2009.75,766.846 2010.69,766.846 2011.63,766.846 2012.57,766.846 2013.52,766.846 2014.46,766.846 2015.4,766.846 2016.34,766.846 2017.28,766.846 \n  2018.22,766.846 2019.16,766.846 2020.1,766.846 2021.04,766.846 2021.98,766.846 2022.93,766.846 2023.87,766.846 2024.81,766.846 2025.75,766.846 2026.69,766.846 \n  2027.63,766.846 2028.57,766.846 2029.51,766.846 2030.45,766.846 2031.4,766.846 2032.34,766.846 2033.28,766.846 2034.22,766.846 2035.16,766.846 2036.1,766.846 \n  2037.04,766.846 2037.98,766.846 2038.92,766.846 2039.87,766.846 2040.81,766.846 2041.75,766.846 2042.69,766.846 2043.63,766.846 2044.57,766.846 2045.51,766.846 \n  2046.45,766.846 2047.39,766.846 2048.34,766.846 2049.28,766.846 2050.22,766.846 2051.16,766.846 2052.1,766.846 2053.04,766.846 2053.98,766.846 2054.92,766.846 \n  2055.86,766.846 2056.8,766.846 2057.75,766.846 2058.69,766.846 2059.63,766.846 2060.57,766.846 2061.51,766.846 2062.45,766.846 2063.39,766.846 2064.33,766.846 \n  2065.27,766.846 2066.22,766.846 2067.16,766.846 2068.1,766.846 2069.04,766.846 2069.98,766.846 2070.92,766.846 2071.86,766.846 2072.8,766.846 2073.74,766.846 \n  2074.69,766.846 2075.63,766.846 2076.57,766.846 2077.51,766.846 2078.45,766.846 2079.39,766.846 2080.33,766.846 2081.27,766.846 2082.21,766.846 2083.16,766.846 \n  2084.1,766.846 2085.04,766.846 2085.98,766.846 2086.92,766.846 2087.86,766.846 2088.8,766.846 2089.74,766.846 2090.68,766.846 2091.63,766.846 2092.57,766.846 \n  2093.51,766.846 2094.45,766.846 2095.39,766.846 2096.33,766.846 2097.27,766.846 2098.21,766.846 2099.15,766.846 2100.09,766.846 2101.04,766.846 2101.98,766.846 \n  2102.92,766.846 2103.86,766.846 2104.8,766.846 2105.74,766.846 2106.68,766.846 2107.62,766.846 2108.56,766.846 2109.51,766.846 2110.45,766.846 2111.39,766.846 \n  2112.33,766.846 2113.27,766.846 2114.21,766.846 2115.15,766.846 2116.09,766.846 2117.03,766.846 2117.98,766.846 2118.92,766.846 2119.86,766.846 2120.8,766.846 \n  2121.74,766.846 2122.68,766.846 2123.62,766.846 2124.56,766.846 2125.5,766.846 2126.45,766.846 2127.39,766.846 2128.33,766.846 2129.27,766.846 2130.21,766.846 \n  2131.15,766.846 2132.09,766.846 2133.03,766.846 2133.97,766.846 2134.91,766.846 2135.86,766.846 2136.8,766.846 2137.74,766.846 2138.68,766.846 2139.62,766.846 \n  2140.56,766.846 2141.5,766.846 2142.44,766.846 2143.38,766.846 2144.33,766.846 2145.27,766.846 2146.21,766.846 2147.15,766.846 2148.09,766.846 2149.03,766.846 \n  2149.97,766.846 2150.91,766.846 2151.85,766.846 2152.8,766.846 2153.74,766.846 2154.68,766.846 2155.62,766.846 2156.56,766.846 2157.5,766.846 2158.44,766.846 \n  2159.38,766.846 2160.32,766.846 2161.27,766.846 2162.21,766.846 2163.15,766.846 2164.09,766.846 2165.03,766.846 2165.97,766.846 2166.91,766.846 2167.85,766.846 \n  2168.79,766.846 2169.73,766.846 2170.68,766.846 2171.62,766.846 2172.56,766.846 2173.5,766.846 2174.44,766.846 2175.38,766.846 2176.32,766.846 2177.26,766.846 \n  2178.2,766.846 2179.15,766.846 2180.09,766.846 2181.03,766.846 2181.97,766.846 2182.91,766.846 2183.85,766.846 2184.79,766.846 2185.73,766.846 2186.67,766.846 \n  2187.62,766.846 2188.56,766.846 2189.5,766.846 2190.44,766.846 2191.38,766.846 2192.32,766.846 2193.26,766.846 2194.2,766.846 2195.14,766.846 2196.09,766.846 \n  \n  \"/>\n<path clip-path=\"url(#clip940)\" d=\"\nM324.892 289.618 L810.809 289.618 L810.809 95.2176 L324.892 95.2176  Z\n  \" fill=\"#000000\" fill-rule=\"evenodd\" fill-opacity=\"0\"/>\n<polyline clip-path=\"url(#clip940)\" style=\"stroke:#000000; stroke-linecap:round; stroke-linejoin:round; stroke-width:4; stroke-opacity:0; fill:none\" points=\"\n  324.892,289.618 810.809,289.618 810.809,95.2176 324.892,95.2176 324.892,289.618 \n  \"/>\n<polyline clip-path=\"url(#clip940)\" style=\"stroke:#ff0000; stroke-linecap:round; stroke-linejoin:round; stroke-width:5; stroke-opacity:1; fill:none\" points=\"\n  347.049,160.018 479.989,160.018 \n  \"/>\n<path clip-path=\"url(#clip940)\" d=\"M507.99 143.221 L507.99 159.453 L515.34 159.453 Q519.42 159.453 521.648 157.341 Q523.876 155.229 523.876 151.323 Q523.876 147.445 521.648 145.333 Q519.42 143.221 515.34 143.221 L507.99 143.221 M502.146 138.418 L515.34 138.418 Q522.603 138.418 526.306 141.716 Q530.039 144.986 530.039 151.323 Q530.039 157.717 526.306 160.987 Q522.603 164.257 515.34 164.257 L507.99 164.257 L507.99 181.618 L502.146 181.618 L502.146 138.418 Z\" fill=\"#000000\" fill-rule=\"evenodd\" fill-opacity=\"1\" /><path clip-path=\"url(#clip940)\" d=\"M536.057 168.828 L536.057 149.21 L541.381 149.21 L541.381 168.626 Q541.381 173.226 543.175 175.541 Q544.969 177.827 548.557 177.827 Q552.869 177.827 555.357 175.078 Q557.874 172.329 557.874 167.584 L557.874 149.21 L563.198 149.21 L563.198 181.618 L557.874 181.618 L557.874 176.641 Q555.936 179.592 553.361 181.039 Q550.814 182.457 547.429 182.457 Q541.844 182.457 538.951 178.984 Q536.057 175.512 536.057 168.828 M549.454 148.429 L549.454 148.429 Z\" fill=\"#000000\" fill-rule=\"evenodd\" fill-opacity=\"1\" /><path clip-path=\"url(#clip940)\" d=\"M574.165 136.595 L579.489 136.595 L579.489 181.618 L574.165 181.618 L574.165 136.595 Z\" fill=\"#000000\" fill-rule=\"evenodd\" fill-opacity=\"1\" /><path clip-path=\"url(#clip940)\" d=\"M611.288 150.165 L611.288 155.2 Q609.032 154.042 606.601 153.464 Q604.17 152.885 601.566 152.885 Q597.602 152.885 595.606 154.1 Q593.638 155.316 593.638 157.746 Q593.638 159.598 595.056 160.669 Q596.474 161.71 600.756 162.665 L602.579 163.07 Q608.25 164.285 610.623 166.513 Q613.025 168.713 613.025 172.677 Q613.025 177.19 609.437 179.824 Q605.878 182.457 599.628 182.457 Q597.023 182.457 594.188 181.936 Q591.381 181.444 588.256 180.431 L588.256 174.934 Q591.208 176.467 594.072 177.248 Q596.937 178.001 599.743 178.001 Q603.505 178.001 605.53 176.728 Q607.556 175.425 607.556 173.082 Q607.556 170.912 606.08 169.754 Q604.633 168.597 599.686 167.526 L597.834 167.092 Q592.886 166.051 590.687 163.909 Q588.488 161.739 588.488 157.978 Q588.488 153.406 591.728 150.917 Q594.969 148.429 600.93 148.429 Q603.881 148.429 606.485 148.863 Q609.089 149.297 611.288 150.165 Z\" fill=\"#000000\" fill-rule=\"evenodd\" fill-opacity=\"1\" /><path clip-path=\"url(#clip940)\" d=\"M649.222 164.083 L649.222 166.687 L624.743 166.687 Q625.09 172.185 628.042 175.078 Q631.022 177.943 636.317 177.943 Q639.384 177.943 642.249 177.19 Q645.142 176.438 647.978 174.934 L647.978 179.968 Q645.113 181.184 642.104 181.82 Q639.095 182.457 635.999 182.457 Q628.244 182.457 623.702 177.943 Q619.188 173.429 619.188 165.732 Q619.188 157.775 623.47 153.117 Q627.781 148.429 635.073 148.429 Q641.612 148.429 645.403 152.654 Q649.222 156.849 649.222 164.083 M643.898 162.52 Q643.84 158.151 641.439 155.547 Q639.066 152.943 635.131 152.943 Q630.675 152.943 627.984 155.46 Q625.322 157.978 624.917 162.549 L643.898 162.52 Z\" fill=\"#000000\" fill-rule=\"evenodd\" fill-opacity=\"1\" /><polyline clip-path=\"url(#clip940)\" style=\"stroke:#ff0000; stroke-linecap:round; stroke-linejoin:round; stroke-width:5; stroke-opacity:1; fill:none\" stroke-dasharray=\"20, 13\" points=\"\n  347.049,224.818 479.989,224.818 \n  \"/>\n<path clip-path=\"url(#clip940)\" d=\"M502.146 203.218 L529.46 203.218 L529.46 208.137 L507.99 208.137 L507.99 220.926 L528.563 220.926 L528.563 225.845 L507.99 225.845 L507.99 241.499 L529.981 241.499 L529.981 246.418 L502.146 246.418 L502.146 203.218 Z\" fill=\"#000000\" fill-rule=\"evenodd\" fill-opacity=\"1\" /><path clip-path=\"url(#clip940)\" d=\"M566.294 226.857 L566.294 246.418 L560.97 246.418 L560.97 227.031 Q560.97 222.43 559.176 220.145 Q557.382 217.859 553.795 217.859 Q549.483 217.859 546.995 220.608 Q544.506 223.356 544.506 228.102 L544.506 246.418 L539.153 246.418 L539.153 214.01 L544.506 214.01 L544.506 219.045 Q546.416 216.123 548.991 214.676 Q551.595 213.229 554.981 213.229 Q560.565 213.229 563.43 216.701 Q566.294 220.145 566.294 226.857 Z\" fill=\"#000000\" fill-rule=\"evenodd\" fill-opacity=\"1\" /><path clip-path=\"url(#clip940)\" d=\"M573.094 214.01 L578.737 214.01 L588.864 241.209 L598.991 214.01 L604.633 214.01 L592.481 246.418 L585.247 246.418 L573.094 214.01 Z\" fill=\"#000000\" fill-rule=\"evenodd\" fill-opacity=\"1\" /><path clip-path=\"url(#clip940)\" d=\"M639.703 228.883 L639.703 231.487 L615.224 231.487 Q615.571 236.985 618.522 239.878 Q621.503 242.743 626.798 242.743 Q629.865 242.743 632.729 241.99 Q635.623 241.238 638.458 239.734 L638.458 244.768 Q635.594 245.984 632.585 246.62 Q629.575 247.257 626.479 247.257 Q618.725 247.257 614.182 242.743 Q609.668 238.229 609.668 230.532 Q609.668 222.575 613.95 217.917 Q618.262 213.229 625.553 213.229 Q632.093 213.229 635.883 217.454 Q639.703 221.649 639.703 228.883 M634.379 227.32 Q634.321 222.951 631.919 220.347 Q629.546 217.743 625.611 217.743 Q621.155 217.743 618.464 220.26 Q615.802 222.778 615.397 227.349 L634.379 227.32 Z\" fill=\"#000000\" fill-rule=\"evenodd\" fill-opacity=\"1\" /><path clip-path=\"url(#clip940)\" d=\"M648.441 201.395 L653.765 201.395 L653.765 246.418 L648.441 246.418 L648.441 201.395 Z\" fill=\"#000000\" fill-rule=\"evenodd\" fill-opacity=\"1\" /><path clip-path=\"url(#clip940)\" d=\"M677.463 217.743 Q673.18 217.743 670.692 221.099 Q668.204 224.427 668.204 230.243 Q668.204 236.059 670.663 239.415 Q673.152 242.743 677.463 242.743 Q681.716 242.743 684.205 239.386 Q686.693 236.03 686.693 230.243 Q686.693 224.485 684.205 221.128 Q681.716 217.743 677.463 217.743 M677.463 213.229 Q684.407 213.229 688.371 217.743 Q692.335 222.257 692.335 230.243 Q692.335 238.2 688.371 242.743 Q684.407 247.257 677.463 247.257 Q670.49 247.257 666.525 242.743 Q662.59 238.2 662.59 230.243 Q662.59 222.257 666.525 217.743 Q670.49 213.229 677.463 213.229 Z\" fill=\"#000000\" fill-rule=\"evenodd\" fill-opacity=\"1\" /><path clip-path=\"url(#clip940)\" d=\"M706.311 241.556 L706.311 258.744 L700.958 258.744 L700.958 214.01 L706.311 214.01 L706.311 218.929 Q707.989 216.036 710.536 214.647 Q713.111 213.229 716.67 213.229 Q722.573 213.229 726.247 217.917 Q729.951 222.604 729.951 230.243 Q729.951 237.882 726.247 242.569 Q722.573 247.257 716.67 247.257 Q713.111 247.257 710.536 245.868 Q707.989 244.45 706.311 241.556 M724.424 230.243 Q724.424 224.369 721.994 221.042 Q719.592 217.685 715.368 217.685 Q711.143 217.685 708.713 221.042 Q706.311 224.369 706.311 230.243 Q706.311 236.117 708.713 239.473 Q711.143 242.801 715.368 242.801 Q719.592 242.801 721.994 239.473 Q724.424 236.117 724.424 230.243 Z\" fill=\"#000000\" fill-rule=\"evenodd\" fill-opacity=\"1\" /><path clip-path=\"url(#clip940)\" d=\"M766.496 228.883 L766.496 231.487 L742.017 231.487 Q742.364 236.985 745.316 239.878 Q748.296 242.743 753.591 242.743 Q756.658 242.743 759.523 241.99 Q762.416 241.238 765.252 239.734 L765.252 244.768 Q762.387 245.984 759.378 246.62 Q756.369 247.257 753.273 247.257 Q745.518 247.257 740.975 242.743 Q736.461 238.229 736.461 230.532 Q736.461 222.575 740.744 217.917 Q745.055 213.229 752.347 213.229 Q758.886 213.229 762.677 217.454 Q766.496 221.649 766.496 228.883 M761.172 227.32 Q761.114 222.951 758.712 220.347 Q756.34 217.743 752.405 217.743 Q747.949 217.743 745.258 220.26 Q742.596 222.778 742.191 227.349 L761.172 227.32 Z\" fill=\"#000000\" fill-rule=\"evenodd\" fill-opacity=\"1\" /></svg>\n",
      "text/html": [
       "<?xml version=\"1.0\" encoding=\"utf-8\"?>\n",
       "<svg xmlns=\"http://www.w3.org/2000/svg\" xmlns:xlink=\"http://www.w3.org/1999/xlink\" width=\"600\" height=\"400\" viewBox=\"0 0 2400 1600\">\n",
       "<defs>\n",
       "  <clipPath id=\"clip990\">\n",
       "    <rect x=\"0\" y=\"0\" width=\"2400\" height=\"1600\"/>\n",
       "  </clipPath>\n",
       "</defs>\n",
       "<path clip-path=\"url(#clip990)\" d=\"\n",
       "M0 1600 L2400 1600 L2400 0 L0 0  Z\n",
       "  \" fill=\"#ffffff\" fill-rule=\"evenodd\" fill-opacity=\"1\"/>\n",
       "<defs>\n",
       "  <clipPath id=\"clip991\">\n",
       "    <rect x=\"480\" y=\"0\" width=\"1681\" height=\"1600\"/>\n",
       "  </clipPath>\n",
       "</defs>\n",
       "<defs>\n",
       "  <clipPath id=\"clip992\">\n",
       "    <rect x=\"258\" y=\"47\" width=\"1995\" height=\"1440\"/>\n",
       "  </clipPath>\n",
       "</defs>\n",
       "<path clip-path=\"url(#clip990)\" d=\"\n",
       "M258.422 1486.45 L2252.52 1486.45 L2252.52 47.2441 L258.422 47.2441  Z\n",
       "  \" fill=\"#ffffff\" fill-rule=\"evenodd\" fill-opacity=\"1\"/>\n",
       "<polyline clip-path=\"url(#clip992)\" style=\"stroke:#000000; stroke-linecap:round; stroke-linejoin:round; stroke-width:2; stroke-opacity:0.1; fill:none\" points=\"\n",
       "  314.859,1486.45 314.859,47.2441 \n",
       "  \"/>\n",
       "<polyline clip-path=\"url(#clip992)\" style=\"stroke:#000000; stroke-linecap:round; stroke-linejoin:round; stroke-width:2; stroke-opacity:0.1; fill:none\" points=\"\n",
       "  709.553,1486.45 709.553,47.2441 \n",
       "  \"/>\n",
       "<polyline clip-path=\"url(#clip992)\" style=\"stroke:#000000; stroke-linecap:round; stroke-linejoin:round; stroke-width:2; stroke-opacity:0.1; fill:none\" points=\"\n",
       "  1104.25,1486.45 1104.25,47.2441 \n",
       "  \"/>\n",
       "<polyline clip-path=\"url(#clip992)\" style=\"stroke:#000000; stroke-linecap:round; stroke-linejoin:round; stroke-width:2; stroke-opacity:0.1; fill:none\" points=\"\n",
       "  1498.94,1486.45 1498.94,47.2441 \n",
       "  \"/>\n",
       "<polyline clip-path=\"url(#clip992)\" style=\"stroke:#000000; stroke-linecap:round; stroke-linejoin:round; stroke-width:2; stroke-opacity:0.1; fill:none\" points=\"\n",
       "  1893.63,1486.45 1893.63,47.2441 \n",
       "  \"/>\n",
       "<polyline clip-path=\"url(#clip990)\" style=\"stroke:#000000; stroke-linecap:round; stroke-linejoin:round; stroke-width:4; stroke-opacity:1; fill:none\" points=\"\n",
       "  258.422,1486.45 2252.52,1486.45 \n",
       "  \"/>\n",
       "<polyline clip-path=\"url(#clip990)\" style=\"stroke:#000000; stroke-linecap:round; stroke-linejoin:round; stroke-width:4; stroke-opacity:1; fill:none\" points=\"\n",
       "  314.859,1486.45 314.859,1467.55 \n",
       "  \"/>\n",
       "<polyline clip-path=\"url(#clip990)\" style=\"stroke:#000000; stroke-linecap:round; stroke-linejoin:round; stroke-width:4; stroke-opacity:1; fill:none\" points=\"\n",
       "  709.553,1486.45 709.553,1467.55 \n",
       "  \"/>\n",
       "<polyline clip-path=\"url(#clip990)\" style=\"stroke:#000000; stroke-linecap:round; stroke-linejoin:round; stroke-width:4; stroke-opacity:1; fill:none\" points=\"\n",
       "  1104.25,1486.45 1104.25,1467.55 \n",
       "  \"/>\n",
       "<polyline clip-path=\"url(#clip990)\" style=\"stroke:#000000; stroke-linecap:round; stroke-linejoin:round; stroke-width:4; stroke-opacity:1; fill:none\" points=\"\n",
       "  1498.94,1486.45 1498.94,1467.55 \n",
       "  \"/>\n",
       "<polyline clip-path=\"url(#clip990)\" style=\"stroke:#000000; stroke-linecap:round; stroke-linejoin:round; stroke-width:4; stroke-opacity:1; fill:none\" points=\"\n",
       "  1893.63,1486.45 1893.63,1467.55 \n",
       "  \"/>\n",
       "<path clip-path=\"url(#clip990)\" d=\"M292.243 1517.37 Q288.632 1517.37 286.804 1520.93 Q284.998 1524.47 284.998 1531.6 Q284.998 1538.71 286.804 1542.27 Q288.632 1545.82 292.243 1545.82 Q295.878 1545.82 297.683 1542.27 Q299.512 1538.71 299.512 1531.6 Q299.512 1524.47 297.683 1520.93 Q295.878 1517.37 292.243 1517.37 M292.243 1513.66 Q298.054 1513.66 301.109 1518.27 Q304.188 1522.85 304.188 1531.6 Q304.188 1540.33 301.109 1544.94 Q298.054 1549.52 292.243 1549.52 Q286.433 1549.52 283.355 1544.94 Q280.299 1540.33 280.299 1531.6 Q280.299 1522.85 283.355 1518.27 Q286.433 1513.66 292.243 1513.66 Z\" fill=\"#000000\" fill-rule=\"evenodd\" fill-opacity=\"1\" /><path clip-path=\"url(#clip990)\" d=\"M312.405 1542.97 L317.29 1542.97 L317.29 1548.85 L312.405 1548.85 L312.405 1542.97 Z\" fill=\"#000000\" fill-rule=\"evenodd\" fill-opacity=\"1\" /><path clip-path=\"url(#clip990)\" d=\"M337.475 1517.37 Q333.864 1517.37 332.035 1520.93 Q330.229 1524.47 330.229 1531.6 Q330.229 1538.71 332.035 1542.27 Q333.864 1545.82 337.475 1545.82 Q341.109 1545.82 342.914 1542.27 Q344.743 1538.71 344.743 1531.6 Q344.743 1524.47 342.914 1520.93 Q341.109 1517.37 337.475 1517.37 M337.475 1513.66 Q343.285 1513.66 346.34 1518.27 Q349.419 1522.85 349.419 1531.6 Q349.419 1540.33 346.34 1544.94 Q343.285 1549.52 337.475 1549.52 Q331.664 1549.52 328.586 1544.94 Q325.53 1540.33 325.53 1531.6 Q325.53 1522.85 328.586 1518.27 Q331.664 1513.66 337.475 1513.66 Z\" fill=\"#000000\" fill-rule=\"evenodd\" fill-opacity=\"1\" /><path clip-path=\"url(#clip990)\" d=\"M681.289 1544.91 L697.609 1544.91 L697.609 1548.85 L675.664 1548.85 L675.664 1544.91 Q678.326 1542.16 682.91 1537.53 Q687.516 1532.88 688.697 1531.53 Q690.942 1529.01 691.822 1527.27 Q692.724 1525.51 692.724 1523.82 Q692.724 1521.07 690.78 1519.33 Q688.859 1517.6 685.757 1517.6 Q683.558 1517.6 681.104 1518.36 Q678.673 1519.13 675.896 1520.68 L675.896 1515.95 Q678.72 1514.82 681.173 1514.24 Q683.627 1513.66 685.664 1513.66 Q691.034 1513.66 694.229 1516.35 Q697.423 1519.03 697.423 1523.52 Q697.423 1525.65 696.613 1527.57 Q695.826 1529.47 693.72 1532.07 Q693.141 1532.74 690.039 1535.95 Q686.937 1539.15 681.289 1544.91 Z\" fill=\"#000000\" fill-rule=\"evenodd\" fill-opacity=\"1\" /><path clip-path=\"url(#clip990)\" d=\"M707.423 1542.97 L712.308 1542.97 L712.308 1548.85 L707.423 1548.85 L707.423 1542.97 Z\" fill=\"#000000\" fill-rule=\"evenodd\" fill-opacity=\"1\" /><path clip-path=\"url(#clip990)\" d=\"M722.539 1514.29 L740.895 1514.29 L740.895 1518.22 L726.821 1518.22 L726.821 1526.7 Q727.84 1526.35 728.858 1526.19 Q729.877 1526 730.895 1526 Q736.682 1526 740.062 1529.17 Q743.442 1532.34 743.442 1537.76 Q743.442 1543.34 739.969 1546.44 Q736.497 1549.52 730.178 1549.52 Q728.002 1549.52 725.733 1549.15 Q723.488 1548.78 721.081 1548.04 L721.081 1543.34 Q723.164 1544.47 725.386 1545.03 Q727.608 1545.58 730.085 1545.58 Q734.09 1545.58 736.428 1543.48 Q738.766 1541.37 738.766 1537.76 Q738.766 1534.15 736.428 1532.04 Q734.09 1529.94 730.085 1529.94 Q728.21 1529.94 726.335 1530.35 Q724.483 1530.77 722.539 1531.65 L722.539 1514.29 Z\" fill=\"#000000\" fill-rule=\"evenodd\" fill-opacity=\"1\" /><path clip-path=\"url(#clip990)\" d=\"M1071.41 1514.29 L1089.77 1514.29 L1089.77 1518.22 L1075.69 1518.22 L1075.69 1526.7 Q1076.71 1526.35 1077.73 1526.19 Q1078.75 1526 1079.77 1526 Q1085.55 1526 1088.93 1529.17 Q1092.31 1532.34 1092.31 1537.76 Q1092.31 1543.34 1088.84 1546.44 Q1085.37 1549.52 1079.05 1549.52 Q1076.87 1549.52 1074.61 1549.15 Q1072.36 1548.78 1069.95 1548.04 L1069.95 1543.34 Q1072.04 1544.47 1074.26 1545.03 Q1076.48 1545.58 1078.96 1545.58 Q1082.96 1545.58 1085.3 1543.48 Q1087.64 1541.37 1087.64 1537.76 Q1087.64 1534.15 1085.3 1532.04 Q1082.96 1529.94 1078.96 1529.94 Q1077.08 1529.94 1075.21 1530.35 Q1073.36 1530.77 1071.41 1531.65 L1071.41 1514.29 Z\" fill=\"#000000\" fill-rule=\"evenodd\" fill-opacity=\"1\" /><path clip-path=\"url(#clip990)\" d=\"M1101.53 1542.97 L1106.41 1542.97 L1106.41 1548.85 L1101.53 1548.85 L1101.53 1542.97 Z\" fill=\"#000000\" fill-rule=\"evenodd\" fill-opacity=\"1\" /><path clip-path=\"url(#clip990)\" d=\"M1126.6 1517.37 Q1122.99 1517.37 1121.16 1520.93 Q1119.35 1524.47 1119.35 1531.6 Q1119.35 1538.71 1121.16 1542.27 Q1122.99 1545.82 1126.6 1545.82 Q1130.23 1545.82 1132.04 1542.27 Q1133.86 1538.71 1133.86 1531.6 Q1133.86 1524.47 1132.04 1520.93 Q1130.23 1517.37 1126.6 1517.37 M1126.6 1513.66 Q1132.41 1513.66 1135.46 1518.27 Q1138.54 1522.85 1138.54 1531.6 Q1138.54 1540.33 1135.46 1544.94 Q1132.41 1549.52 1126.6 1549.52 Q1120.79 1549.52 1117.71 1544.94 Q1114.65 1540.33 1114.65 1531.6 Q1114.65 1522.85 1117.71 1518.27 Q1120.79 1513.66 1126.6 1513.66 Z\" fill=\"#000000\" fill-rule=\"evenodd\" fill-opacity=\"1\" /><path clip-path=\"url(#clip990)\" d=\"M1465.26 1514.29 L1487.48 1514.29 L1487.48 1516.28 L1474.94 1548.85 L1470.05 1548.85 L1481.86 1518.22 L1465.26 1518.22 L1465.26 1514.29 Z\" fill=\"#000000\" fill-rule=\"evenodd\" fill-opacity=\"1\" /><path clip-path=\"url(#clip990)\" d=\"M1496.6 1542.97 L1501.49 1542.97 L1501.49 1548.85 L1496.6 1548.85 L1496.6 1542.97 Z\" fill=\"#000000\" fill-rule=\"evenodd\" fill-opacity=\"1\" /><path clip-path=\"url(#clip990)\" d=\"M1511.72 1514.29 L1530.07 1514.29 L1530.07 1518.22 L1516 1518.22 L1516 1526.7 Q1517.02 1526.35 1518.04 1526.19 Q1519.06 1526 1520.07 1526 Q1525.86 1526 1529.24 1529.17 Q1532.62 1532.34 1532.62 1537.76 Q1532.62 1543.34 1529.15 1546.44 Q1525.68 1549.52 1519.36 1549.52 Q1517.18 1549.52 1514.91 1549.15 Q1512.67 1548.78 1510.26 1548.04 L1510.26 1543.34 Q1512.34 1544.47 1514.57 1545.03 Q1516.79 1545.58 1519.26 1545.58 Q1523.27 1545.58 1525.61 1543.48 Q1527.95 1541.37 1527.95 1537.76 Q1527.95 1534.15 1525.61 1532.04 Q1523.27 1529.94 1519.26 1529.94 Q1517.39 1529.94 1515.51 1530.35 Q1513.66 1530.77 1511.72 1531.65 L1511.72 1514.29 Z\" fill=\"#000000\" fill-rule=\"evenodd\" fill-opacity=\"1\" /><path clip-path=\"url(#clip990)\" d=\"M1845.71 1544.91 L1853.35 1544.91 L1853.35 1518.55 L1845.04 1520.21 L1845.04 1515.95 L1853.3 1514.29 L1857.98 1514.29 L1857.98 1544.91 L1865.61 1544.91 L1865.61 1548.85 L1845.71 1548.85 L1845.71 1544.91 Z\" fill=\"#000000\" fill-rule=\"evenodd\" fill-opacity=\"1\" /><path clip-path=\"url(#clip990)\" d=\"M1885.06 1517.37 Q1881.45 1517.37 1879.62 1520.93 Q1877.81 1524.47 1877.81 1531.6 Q1877.81 1538.71 1879.62 1542.27 Q1881.45 1545.82 1885.06 1545.82 Q1888.69 1545.82 1890.5 1542.27 Q1892.33 1538.71 1892.33 1531.6 Q1892.33 1524.47 1890.5 1520.93 Q1888.69 1517.37 1885.06 1517.37 M1885.06 1513.66 Q1890.87 1513.66 1893.92 1518.27 Q1897 1522.85 1897 1531.6 Q1897 1540.33 1893.92 1544.94 Q1890.87 1549.52 1885.06 1549.52 Q1879.25 1549.52 1876.17 1544.94 Q1873.11 1540.33 1873.11 1531.6 Q1873.11 1522.85 1876.17 1518.27 Q1879.25 1513.66 1885.06 1513.66 Z\" fill=\"#000000\" fill-rule=\"evenodd\" fill-opacity=\"1\" /><path clip-path=\"url(#clip990)\" d=\"M1905.22 1542.97 L1910.1 1542.97 L1910.1 1548.85 L1905.22 1548.85 L1905.22 1542.97 Z\" fill=\"#000000\" fill-rule=\"evenodd\" fill-opacity=\"1\" /><path clip-path=\"url(#clip990)\" d=\"M1930.29 1517.37 Q1926.68 1517.37 1924.85 1520.93 Q1923.04 1524.47 1923.04 1531.6 Q1923.04 1538.71 1924.85 1542.27 Q1926.68 1545.82 1930.29 1545.82 Q1933.92 1545.82 1935.73 1542.27 Q1937.56 1538.71 1937.56 1531.6 Q1937.56 1524.47 1935.73 1520.93 Q1933.92 1517.37 1930.29 1517.37 M1930.29 1513.66 Q1936.1 1513.66 1939.16 1518.27 Q1942.23 1522.85 1942.23 1531.6 Q1942.23 1540.33 1939.16 1544.94 Q1936.1 1549.52 1930.29 1549.52 Q1924.48 1549.52 1921.4 1544.94 Q1918.35 1540.33 1918.35 1531.6 Q1918.35 1522.85 1921.4 1518.27 Q1924.48 1513.66 1930.29 1513.66 Z\" fill=\"#000000\" fill-rule=\"evenodd\" fill-opacity=\"1\" /><polyline clip-path=\"url(#clip992)\" style=\"stroke:#000000; stroke-linecap:round; stroke-linejoin:round; stroke-width:2; stroke-opacity:0.1; fill:none\" points=\"\n",
       "  258.422,1486.45 2252.52,1486.45 \n",
       "  \"/>\n",
       "<polyline clip-path=\"url(#clip992)\" style=\"stroke:#000000; stroke-linecap:round; stroke-linejoin:round; stroke-width:2; stroke-opacity:0.1; fill:none\" points=\"\n",
       "  258.422,1135.42 2252.52,1135.42 \n",
       "  \"/>\n",
       "<polyline clip-path=\"url(#clip992)\" style=\"stroke:#000000; stroke-linecap:round; stroke-linejoin:round; stroke-width:2; stroke-opacity:0.1; fill:none\" points=\"\n",
       "  258.422,784.397 2252.52,784.397 \n",
       "  \"/>\n",
       "<polyline clip-path=\"url(#clip992)\" style=\"stroke:#000000; stroke-linecap:round; stroke-linejoin:round; stroke-width:2; stroke-opacity:0.1; fill:none\" points=\"\n",
       "  258.422,433.372 2252.52,433.372 \n",
       "  \"/>\n",
       "<polyline clip-path=\"url(#clip992)\" style=\"stroke:#000000; stroke-linecap:round; stroke-linejoin:round; stroke-width:2; stroke-opacity:0.1; fill:none\" points=\"\n",
       "  258.422,82.3466 2252.52,82.3466 \n",
       "  \"/>\n",
       "<polyline clip-path=\"url(#clip990)\" style=\"stroke:#000000; stroke-linecap:round; stroke-linejoin:round; stroke-width:4; stroke-opacity:1; fill:none\" points=\"\n",
       "  258.422,1486.45 258.422,47.2441 \n",
       "  \"/>\n",
       "<polyline clip-path=\"url(#clip990)\" style=\"stroke:#000000; stroke-linecap:round; stroke-linejoin:round; stroke-width:4; stroke-opacity:1; fill:none\" points=\"\n",
       "  258.422,1486.45 277.32,1486.45 \n",
       "  \"/>\n",
       "<polyline clip-path=\"url(#clip990)\" style=\"stroke:#000000; stroke-linecap:round; stroke-linejoin:round; stroke-width:4; stroke-opacity:1; fill:none\" points=\"\n",
       "  258.422,1135.42 277.32,1135.42 \n",
       "  \"/>\n",
       "<polyline clip-path=\"url(#clip990)\" style=\"stroke:#000000; stroke-linecap:round; stroke-linejoin:round; stroke-width:4; stroke-opacity:1; fill:none\" points=\"\n",
       "  258.422,784.397 277.32,784.397 \n",
       "  \"/>\n",
       "<polyline clip-path=\"url(#clip990)\" style=\"stroke:#000000; stroke-linecap:round; stroke-linejoin:round; stroke-width:4; stroke-opacity:1; fill:none\" points=\"\n",
       "  258.422,433.372 277.32,433.372 \n",
       "  \"/>\n",
       "<polyline clip-path=\"url(#clip990)\" style=\"stroke:#000000; stroke-linecap:round; stroke-linejoin:round; stroke-width:4; stroke-opacity:1; fill:none\" points=\"\n",
       "  258.422,82.3466 277.32,82.3466 \n",
       "  \"/>\n",
       "<path clip-path=\"url(#clip990)\" d=\"M165.085 1472.25 Q161.473 1472.25 159.645 1475.81 Q157.839 1479.35 157.839 1486.48 Q157.839 1493.59 159.645 1497.15 Q161.473 1500.7 165.085 1500.7 Q168.719 1500.7 170.524 1497.15 Q172.353 1493.59 172.353 1486.48 Q172.353 1479.35 170.524 1475.81 Q168.719 1472.25 165.085 1472.25 M165.085 1468.54 Q170.895 1468.54 173.95 1473.15 Q177.029 1477.73 177.029 1486.48 Q177.029 1495.21 173.95 1499.82 Q170.895 1504.4 165.085 1504.4 Q159.274 1504.4 156.196 1499.82 Q153.14 1495.21 153.14 1486.48 Q153.14 1477.73 156.196 1473.15 Q159.274 1468.54 165.085 1468.54 Z\" fill=\"#000000\" fill-rule=\"evenodd\" fill-opacity=\"1\" /><path clip-path=\"url(#clip990)\" d=\"M185.246 1497.85 L190.131 1497.85 L190.131 1503.73 L185.246 1503.73 L185.246 1497.85 Z\" fill=\"#000000\" fill-rule=\"evenodd\" fill-opacity=\"1\" /><path clip-path=\"url(#clip990)\" d=\"M210.894 1484.58 Q207.746 1484.58 205.895 1486.74 Q204.066 1488.89 204.066 1492.64 Q204.066 1496.37 205.895 1498.54 Q207.746 1500.7 210.894 1500.7 Q214.043 1500.7 215.871 1498.54 Q217.723 1496.37 217.723 1492.64 Q217.723 1488.89 215.871 1486.74 Q214.043 1484.58 210.894 1484.58 M220.177 1469.93 L220.177 1474.19 Q218.418 1473.36 216.612 1472.92 Q214.83 1472.48 213.07 1472.48 Q208.441 1472.48 205.987 1475.6 Q203.557 1478.73 203.209 1485.05 Q204.575 1483.03 206.635 1481.97 Q208.695 1480.88 211.172 1480.88 Q216.381 1480.88 219.39 1484.05 Q222.422 1487.2 222.422 1492.64 Q222.422 1497.96 219.274 1501.18 Q216.126 1504.4 210.894 1504.4 Q204.899 1504.4 201.728 1499.82 Q198.557 1495.21 198.557 1486.48 Q198.557 1478.29 202.445 1473.43 Q206.334 1468.54 212.885 1468.54 Q214.644 1468.54 216.427 1468.89 Q218.232 1469.24 220.177 1469.93 Z\" fill=\"#000000\" fill-rule=\"evenodd\" fill-opacity=\"1\" /><path clip-path=\"url(#clip990)\" d=\"M166.149 1121.22 Q162.538 1121.22 160.71 1124.79 Q158.904 1128.33 158.904 1135.46 Q158.904 1142.56 160.71 1146.13 Q162.538 1149.67 166.149 1149.67 Q169.784 1149.67 171.589 1146.13 Q173.418 1142.56 173.418 1135.46 Q173.418 1128.33 171.589 1124.79 Q169.784 1121.22 166.149 1121.22 M166.149 1117.52 Q171.96 1117.52 175.015 1122.12 Q178.094 1126.71 178.094 1135.46 Q178.094 1144.18 175.015 1148.79 Q171.96 1153.37 166.149 1153.37 Q160.339 1153.37 157.261 1148.79 Q154.205 1144.18 154.205 1135.46 Q154.205 1126.71 157.261 1122.12 Q160.339 1117.52 166.149 1117.52 Z\" fill=\"#000000\" fill-rule=\"evenodd\" fill-opacity=\"1\" /><path clip-path=\"url(#clip990)\" d=\"M186.311 1146.82 L191.196 1146.82 L191.196 1152.7 L186.311 1152.7 L186.311 1146.82 Z\" fill=\"#000000\" fill-rule=\"evenodd\" fill-opacity=\"1\" /><path clip-path=\"url(#clip990)\" d=\"M200.2 1118.14 L222.422 1118.14 L222.422 1120.13 L209.876 1152.7 L204.992 1152.7 L216.797 1122.08 L200.2 1122.08 L200.2 1118.14 Z\" fill=\"#000000\" fill-rule=\"evenodd\" fill-opacity=\"1\" /><path clip-path=\"url(#clip990)\" d=\"M165.339 770.196 Q161.728 770.196 159.899 773.761 Q158.094 777.302 158.094 784.432 Q158.094 791.538 159.899 795.103 Q161.728 798.645 165.339 798.645 Q168.973 798.645 170.779 795.103 Q172.608 791.538 172.608 784.432 Q172.608 777.302 170.779 773.761 Q168.973 770.196 165.339 770.196 M165.339 766.492 Q171.149 766.492 174.205 771.099 Q177.284 775.682 177.284 784.432 Q177.284 793.159 174.205 797.765 Q171.149 802.349 165.339 802.349 Q159.529 802.349 156.45 797.765 Q153.395 793.159 153.395 784.432 Q153.395 775.682 156.45 771.099 Q159.529 766.492 165.339 766.492 Z\" fill=\"#000000\" fill-rule=\"evenodd\" fill-opacity=\"1\" /><path clip-path=\"url(#clip990)\" d=\"M185.501 795.798 L190.385 795.798 L190.385 801.677 L185.501 801.677 L185.501 795.798 Z\" fill=\"#000000\" fill-rule=\"evenodd\" fill-opacity=\"1\" /><path clip-path=\"url(#clip990)\" d=\"M210.57 785.265 Q207.237 785.265 205.316 787.048 Q203.418 788.83 203.418 791.955 Q203.418 795.08 205.316 796.862 Q207.237 798.645 210.57 798.645 Q213.904 798.645 215.825 796.862 Q217.746 795.057 217.746 791.955 Q217.746 788.83 215.825 787.048 Q213.927 785.265 210.57 785.265 M205.895 783.275 Q202.885 782.534 201.195 780.474 Q199.529 778.413 199.529 775.451 Q199.529 771.307 202.469 768.9 Q205.432 766.492 210.57 766.492 Q215.732 766.492 218.672 768.9 Q221.612 771.307 221.612 775.451 Q221.612 778.413 219.922 780.474 Q218.256 782.534 215.269 783.275 Q218.649 784.062 220.524 786.353 Q222.422 788.645 222.422 791.955 Q222.422 796.978 219.344 799.663 Q216.288 802.349 210.57 802.349 Q204.853 802.349 201.774 799.663 Q198.719 796.978 198.719 791.955 Q198.719 788.645 200.617 786.353 Q202.515 784.062 205.895 783.275 M204.182 775.89 Q204.182 778.576 205.848 780.08 Q207.538 781.585 210.57 781.585 Q213.58 781.585 215.269 780.08 Q216.982 778.576 216.982 775.89 Q216.982 773.205 215.269 771.701 Q213.58 770.196 210.57 770.196 Q207.538 770.196 205.848 771.701 Q204.182 773.205 204.182 775.89 Z\" fill=\"#000000\" fill-rule=\"evenodd\" fill-opacity=\"1\" /><path clip-path=\"url(#clip990)\" d=\"M165.432 419.171 Q161.821 419.171 159.992 422.735 Q158.186 426.277 158.186 433.407 Q158.186 440.513 159.992 444.078 Q161.821 447.62 165.432 447.62 Q169.066 447.62 170.872 444.078 Q172.7 440.513 172.7 433.407 Q172.7 426.277 170.872 422.735 Q169.066 419.171 165.432 419.171 M165.432 415.467 Q171.242 415.467 174.297 420.073 Q177.376 424.657 177.376 433.407 Q177.376 442.133 174.297 446.74 Q171.242 451.323 165.432 451.323 Q159.622 451.323 156.543 446.74 Q153.487 442.133 153.487 433.407 Q153.487 424.657 156.543 420.073 Q159.622 415.467 165.432 415.467 Z\" fill=\"#000000\" fill-rule=\"evenodd\" fill-opacity=\"1\" /><path clip-path=\"url(#clip990)\" d=\"M185.594 444.772 L190.478 444.772 L190.478 450.652 L185.594 450.652 L185.594 444.772 Z\" fill=\"#000000\" fill-rule=\"evenodd\" fill-opacity=\"1\" /><path clip-path=\"url(#clip990)\" d=\"M200.802 449.934 L200.802 445.675 Q202.561 446.508 204.367 446.948 Q206.172 447.388 207.908 447.388 Q212.538 447.388 214.969 444.286 Q217.422 441.161 217.769 434.819 Q216.427 436.809 214.367 437.874 Q212.307 438.939 209.807 438.939 Q204.621 438.939 201.589 435.814 Q198.58 432.666 198.58 427.226 Q198.58 421.902 201.728 418.685 Q204.876 415.467 210.107 415.467 Q216.103 415.467 219.251 420.073 Q222.422 424.657 222.422 433.407 Q222.422 441.578 218.533 446.462 Q214.668 451.323 208.117 451.323 Q206.357 451.323 204.552 450.976 Q202.746 450.629 200.802 449.934 M210.107 435.282 Q213.256 435.282 215.084 433.129 Q216.936 430.976 216.936 427.226 Q216.936 423.499 215.084 421.347 Q213.256 419.171 210.107 419.171 Q206.959 419.171 205.107 421.347 Q203.279 423.499 203.279 427.226 Q203.279 430.976 205.107 433.129 Q206.959 435.282 210.107 435.282 Z\" fill=\"#000000\" fill-rule=\"evenodd\" fill-opacity=\"1\" /><path clip-path=\"url(#clip990)\" d=\"M156.057 95.6915 L163.696 95.6915 L163.696 69.3259 L155.386 70.9925 L155.386 66.7333 L163.649 65.0666 L168.325 65.0666 L168.325 95.6915 L175.964 95.6915 L175.964 99.6266 L156.057 99.6266 L156.057 95.6915 Z\" fill=\"#000000\" fill-rule=\"evenodd\" fill-opacity=\"1\" /><path clip-path=\"url(#clip990)\" d=\"M185.409 93.747 L190.293 93.747 L190.293 99.6266 L185.409 99.6266 L185.409 93.747 Z\" fill=\"#000000\" fill-rule=\"evenodd\" fill-opacity=\"1\" /><path clip-path=\"url(#clip990)\" d=\"M210.478 68.1453 Q206.867 68.1453 205.038 71.7101 Q203.232 75.2518 203.232 82.3813 Q203.232 89.4878 205.038 93.0526 Q206.867 96.5942 210.478 96.5942 Q214.112 96.5942 215.918 93.0526 Q217.746 89.4878 217.746 82.3813 Q217.746 75.2518 215.918 71.7101 Q214.112 68.1453 210.478 68.1453 M210.478 64.4416 Q216.288 64.4416 219.344 69.0481 Q222.422 73.6314 222.422 82.3813 Q222.422 91.1082 219.344 95.7146 Q216.288 100.298 210.478 100.298 Q204.668 100.298 201.589 95.7146 Q198.533 91.1082 198.533 82.3813 Q198.533 73.6314 201.589 69.0481 Q204.668 64.4416 210.478 64.4416 Z\" fill=\"#000000\" fill-rule=\"evenodd\" fill-opacity=\"1\" /><path clip-path=\"url(#clip990)\" d=\"M44.9703 737.554 Q45.5559 737.671 46.6099 737.905 Q47.6053 738.14 50.7673 739.194 Q53.9294 740.248 57.15 741.653 Q60.312 743 64.7623 745.635 Q69.154 748.211 73.1358 751.373 Q74.1898 752.252 74.8339 752.427 Q75.4195 752.544 77.3518 752.544 Q89.5315 752.544 89.5315 748.855 Q89.5315 748.68 89.5315 748.387 Q89.4729 748.036 89.1802 747.157 Q88.8288 746.22 88.3018 745.401 Q87.7163 744.581 86.5451 743.644 Q85.3155 742.707 83.6759 742.122 Q82.5048 741.595 82.5048 740.54 Q82.5048 739.135 83.6759 739.135 Q85.7839 739.135 89.0045 742.063 Q92.2251 744.991 92.2251 749.207 Q92.2251 753.247 89.59 756.116 Q86.8965 758.927 82.0949 760.098 Q92.2251 772.746 92.2251 785.394 Q92.2251 794.295 86.428 799.565 Q80.5724 804.835 71.9061 804.835 Q63.5911 804.835 55.6861 800.268 Q47.781 795.642 42.8623 788.147 Q37.885 780.593 37.885 772.571 Q37.885 769.76 38.6462 767.066 Q39.3489 764.373 41.1641 761.679 Q42.9794 758.986 45.7315 756.995 Q48.4837 755.004 52.8168 753.774 Q57.15 752.544 62.5957 752.544 L70.0323 752.544 Q60.2534 744.815 46.2585 740.775 Q44.1505 740.189 43.9163 739.838 Q43.7406 739.604 43.7406 739.018 Q43.7406 738.432 44.0919 738.081 Q44.3847 737.671 44.6775 737.613 L44.9703 737.554 M78.9914 760.567 Q76.9419 760.801 65.582 760.801 Q63.4155 760.801 62.2443 760.801 Q61.0147 760.801 58.6724 760.918 Q56.3302 761.035 54.8663 761.269 Q53.4024 761.445 51.2944 761.855 Q49.1863 762.265 47.8395 762.85 Q46.4927 763.436 44.9703 764.373 Q43.4478 765.251 42.5695 766.422 Q41.6911 767.535 41.1056 769.174 Q40.52 770.755 40.52 772.688 Q40.52 775.089 41.3984 777.607 Q42.2182 780.066 44.8532 783.228 Q47.4296 786.39 51.5286 789.025 Q55.8617 791.777 63.8254 793.885 Q71.7304 795.935 76.4735 795.935 Q82.4462 795.935 86.0181 793.182 Q89.5315 790.43 89.5315 785.16 Q89.5315 772.571 78.9914 760.567 Z\" fill=\"#000000\" fill-rule=\"evenodd\" fill-opacity=\"1\" /><polyline clip-path=\"url(#clip992)\" style=\"stroke:#000000; stroke-linecap:round; stroke-linejoin:round; stroke-width:8; stroke-opacity:1; fill:none\" points=\"\n",
       "  314.859,82.3466 315.8,86.5966 316.741,90.8465 317.682,95.0964 318.623,99.3464 319.564,103.596 320.505,107.846 321.447,112.096 322.388,116.346 323.329,120.596 \n",
       "  324.27,124.846 325.211,129.096 326.152,133.346 327.093,137.596 328.034,141.846 328.975,146.096 329.916,150.346 330.857,154.596 331.798,158.845 332.74,163.095 \n",
       "  333.681,167.345 334.622,171.595 335.563,175.845 336.504,180.095 337.445,184.345 338.386,188.595 339.327,192.845 340.268,197.095 341.209,201.345 342.15,205.595 \n",
       "  343.091,209.845 344.033,214.095 344.974,218.345 345.915,222.594 346.856,226.844 347.797,231.094 348.738,235.344 349.679,239.594 350.62,243.844 351.561,248.094 \n",
       "  352.502,252.344 353.443,256.594 354.384,260.844 355.326,265.094 356.267,269.344 357.208,273.594 358.149,277.844 359.09,282.094 360.031,286.344 360.972,290.593 \n",
       "  361.913,294.843 362.854,299.093 363.795,303.343 364.736,307.593 365.678,311.843 366.619,316.093 367.56,320.343 368.501,324.593 369.442,328.843 370.383,333.093 \n",
       "  371.324,337.343 372.265,341.593 373.206,345.843 374.147,350.093 375.088,354.342 376.029,358.592 376.971,362.842 377.912,367.092 378.853,371.342 379.794,375.592 \n",
       "  380.735,379.842 381.676,384.092 382.617,388.342 383.558,392.592 384.499,396.842 385.44,401.092 386.381,405.342 387.322,409.592 388.264,413.842 389.205,418.092 \n",
       "  390.146,422.341 391.087,426.591 392.028,430.841 392.969,435.091 393.91,439.341 394.851,443.591 395.792,447.841 396.733,452.091 397.674,456.341 398.615,460.591 \n",
       "  399.557,464.841 400.498,469.091 401.439,473.341 402.38,477.591 403.321,481.841 404.262,486.09 405.203,490.34 406.144,494.59 407.085,498.84 408.026,503.09 \n",
       "  408.967,507.34 409.908,511.59 410.85,515.84 411.791,520.09 412.732,524.34 413.673,528.59 414.614,532.84 415.555,537.09 416.496,541.34 417.437,545.59 \n",
       "  418.378,549.84 419.319,554.089 420.26,558.339 421.201,562.589 422.143,566.839 423.084,571.089 424.025,575.339 424.966,579.589 425.907,583.839 426.848,588.089 \n",
       "  427.789,592.339 428.73,596.589 429.671,600.839 430.612,605.089 431.553,609.339 432.494,613.589 433.436,617.838 434.377,622.088 435.318,626.338 436.259,630.588 \n",
       "  437.2,634.838 438.141,639.088 439.082,643.338 440.023,647.588 440.964,651.838 441.905,656.088 442.846,660.338 443.787,664.588 444.729,668.838 445.67,673.088 \n",
       "  446.611,677.338 447.552,681.588 448.493,685.837 449.434,690.087 450.375,694.337 451.316,698.587 452.257,702.837 453.198,707.087 454.139,711.337 455.08,715.587 \n",
       "  456.022,719.837 456.963,724.087 457.904,728.337 458.845,732.587 459.786,736.837 460.727,741.087 461.668,745.337 462.609,749.586 463.55,753.836 464.491,758.086 \n",
       "  465.432,762.336 466.373,766.586 467.315,770.836 468.256,775.086 469.197,779.336 470.138,783.586 471.079,787.836 472.02,792.086 472.961,796.336 473.902,800.586 \n",
       "  474.843,804.836 475.784,809.086 476.725,813.336 477.666,817.585 478.608,821.835 479.549,826.085 480.49,830.335 481.431,834.585 482.372,838.835 483.313,843.085 \n",
       "  484.254,847.335 485.195,851.585 486.136,855.835 487.077,860.085 488.018,864.335 488.959,868.585 489.901,872.835 490.842,877.085 491.783,881.334 492.724,885.584 \n",
       "  493.665,889.834 494.606,894.084 495.547,898.334 496.488,902.584 497.429,906.834 498.37,911.084 499.311,915.334 500.252,919.584 501.194,923.834 502.135,928.084 \n",
       "  503.076,932.334 504.017,936.584 504.958,940.834 505.899,945.084 506.84,949.333 507.781,953.583 508.722,957.833 509.663,962.083 510.604,966.333 511.545,970.583 \n",
       "  512.487,974.833 513.428,979.083 514.369,983.333 515.31,987.583 516.251,991.833 517.192,996.083 518.133,1000.33 519.074,1004.58 520.015,1008.83 520.956,1013.08 \n",
       "  521.897,1017.33 522.838,1021.58 523.78,1025.83 524.721,1030.08 525.662,1034.33 526.603,1038.58 527.544,1042.83 528.485,1047.08 529.426,1051.33 530.367,1055.58 \n",
       "  531.308,1059.83 532.249,1064.08 533.19,1068.33 534.131,1072.58 535.073,1076.83 536.014,1081.08 536.955,1085.33 537.896,1089.58 538.837,1093.83 539.778,1098.08 \n",
       "  540.719,1102.33 541.66,1106.58 542.601,1110.83 543.542,1115.08 544.483,1119.33 545.424,1123.58 546.366,1127.83 547.307,1132.08 548.248,1136.33 549.189,1140.58 \n",
       "  550.13,1144.83 551.071,1149.08 552.012,1153.33 552.953,1157.58 553.894,1161.83 554.835,1166.08 555.776,1170.33 556.717,1174.58 557.659,1178.83 558.6,1183.08 \n",
       "  559.541,1187.33 560.482,1191.58 561.423,1195.83 562.364,1200.08 563.305,1204.33 564.246,1208.58 565.187,1212.83 566.128,1217.08 567.069,1221.33 568.01,1225.58 \n",
       "  568.952,1229.83 569.893,1234.08 570.834,1238.33 571.775,1242.58 572.716,1246.83 573.657,1251.08 574.598,1255.33 575.539,1259.58 576.48,1263.83 577.421,1268.08 \n",
       "  578.362,1272.33 579.304,1276.58 580.245,1280.83 581.186,1285.08 582.127,1289.33 583.068,1293.58 584.009,1294.81 584.95,1294.81 585.891,1294.81 586.832,1294.81 \n",
       "  587.773,1294.81 588.714,1294.81 589.655,1294.81 590.597,1294.81 591.538,1294.81 592.479,1294.81 593.42,1294.81 594.361,1294.81 595.302,1294.81 596.243,1294.81 \n",
       "  597.184,1294.81 598.125,1294.81 599.066,1294.81 600.007,1294.81 600.948,1294.81 601.89,1294.81 602.831,1294.81 603.772,1294.81 604.713,1294.81 605.654,1294.81 \n",
       "  606.595,1294.81 607.536,1294.81 608.477,1294.81 609.418,1294.81 610.359,1294.81 611.3,1294.81 612.241,1294.81 613.183,1294.81 614.124,1294.81 615.065,1294.81 \n",
       "  616.006,1294.81 616.947,1294.81 617.888,1294.81 618.829,1294.81 619.77,1294.81 620.711,1294.81 621.652,1294.81 622.593,1294.81 623.534,1294.81 624.476,1294.81 \n",
       "  625.417,1294.81 626.358,1294.81 627.299,1294.81 628.24,1294.81 629.181,1294.81 630.122,1294.81 631.063,1294.81 632.004,1294.81 632.945,1294.81 633.886,1294.81 \n",
       "  634.827,1294.81 635.769,1294.81 636.71,1294.81 637.651,1294.81 638.592,1294.81 639.533,1294.81 640.474,1294.81 641.415,1294.81 642.356,1294.81 643.297,1294.81 \n",
       "  644.238,1294.81 645.179,1294.81 646.12,1294.81 647.062,1294.81 648.003,1294.81 648.944,1294.81 649.885,1294.81 650.826,1294.81 651.767,1294.81 652.708,1294.81 \n",
       "  653.649,1294.81 654.59,1294.81 655.531,1294.81 656.472,1294.81 657.413,1294.81 658.355,1294.81 659.296,1294.81 660.237,1294.81 661.178,1294.81 662.119,1294.81 \n",
       "  663.06,1294.81 664.001,1294.81 664.942,1294.81 665.883,1294.81 666.824,1294.81 667.765,1294.81 668.706,1294.81 669.648,1294.81 670.589,1294.81 671.53,1294.81 \n",
       "  672.471,1294.81 673.412,1294.81 674.353,1294.81 675.294,1294.81 676.235,1294.81 677.176,1294.81 678.117,1294.81 679.058,1294.81 679.999,1294.81 680.941,1294.81 \n",
       "  681.882,1294.81 682.823,1294.81 683.764,1294.81 684.705,1294.81 685.646,1294.81 686.587,1294.81 687.528,1294.81 688.469,1294.81 689.41,1294.81 690.351,1294.81 \n",
       "  691.292,1294.81 692.234,1294.81 693.175,1294.81 694.116,1294.81 695.057,1294.81 695.998,1294.81 696.939,1294.81 697.88,1294.81 698.821,1294.81 699.762,1294.81 \n",
       "  700.703,1294.81 701.644,1294.81 702.585,1294.81 703.527,1294.81 704.468,1294.81 705.409,1294.81 706.35,1294.81 707.291,1294.81 708.232,1294.81 709.173,1294.81 \n",
       "  710.114,1294.81 711.055,1294.81 711.996,1294.81 712.937,1294.81 713.878,1294.81 714.82,1294.81 715.761,1294.81 716.702,1294.81 717.643,1294.81 718.584,1294.81 \n",
       "  719.525,1294.81 720.466,1294.81 721.407,1294.81 722.348,1294.81 723.289,1294.81 724.23,1294.81 725.171,1294.81 726.113,1294.81 727.054,1294.81 727.995,1294.81 \n",
       "  728.936,1294.81 729.877,1294.81 730.818,1294.81 731.759,1294.81 732.7,1294.81 733.641,1294.81 734.582,1294.81 735.523,1294.81 736.464,1294.81 737.406,1294.81 \n",
       "  738.347,1294.81 739.288,1294.81 740.229,1294.81 741.17,1294.81 742.111,1294.81 743.052,1294.81 743.993,1294.81 744.934,1294.81 745.875,1294.81 746.816,1294.81 \n",
       "  747.757,1294.81 748.699,1294.81 749.64,1294.81 750.581,1294.81 751.522,1294.81 752.463,1294.81 753.404,1294.81 754.345,1294.81 755.286,1294.81 756.227,1294.81 \n",
       "  757.168,1294.81 758.109,1294.81 759.05,1294.81 759.992,1294.81 760.933,1294.81 761.874,1294.81 762.815,1294.81 763.756,1294.81 764.697,1294.81 765.638,1294.81 \n",
       "  766.579,1294.81 767.52,1294.81 768.461,1294.81 769.402,1294.81 770.343,1294.81 771.285,1294.81 772.226,1294.81 773.167,1294.81 774.108,1294.81 775.049,1294.81 \n",
       "  775.99,1294.81 776.931,1294.81 777.872,1294.81 778.813,1294.81 779.754,1294.81 780.695,1294.81 781.636,1294.81 782.578,1294.81 783.519,1294.81 784.46,1294.81 \n",
       "  785.401,1294.81 786.342,1294.81 787.283,1294.81 788.224,1294.81 789.165,1294.81 790.106,1294.81 791.047,1294.81 791.988,1294.81 792.93,1294.81 793.871,1294.81 \n",
       "  794.812,1294.81 795.753,1294.81 796.694,1294.81 797.635,1294.81 798.576,1294.81 799.517,1294.81 800.458,1294.81 801.399,1294.81 802.34,1294.81 803.281,1294.81 \n",
       "  804.223,1294.81 805.164,1294.81 806.105,1294.81 807.046,1294.81 807.987,1294.81 808.928,1294.81 809.869,1294.81 810.81,1294.81 811.751,1294.81 812.692,1294.81 \n",
       "  813.633,1294.81 814.574,1294.81 815.516,1294.81 816.457,1294.81 817.398,1294.81 818.339,1294.81 819.28,1294.81 820.221,1294.81 821.162,1294.81 822.103,1294.81 \n",
       "  823.044,1294.81 823.985,1294.81 824.926,1294.81 825.867,1294.81 826.809,1294.81 827.75,1294.81 828.691,1294.81 829.632,1294.81 830.573,1294.81 831.514,1294.81 \n",
       "  832.455,1294.81 833.396,1294.81 834.337,1294.81 835.278,1294.81 836.219,1294.81 837.16,1294.81 838.102,1294.81 839.043,1294.81 839.984,1294.81 840.925,1294.81 \n",
       "  841.866,1294.81 842.807,1294.81 843.748,1294.81 844.689,1294.81 845.63,1294.81 846.571,1294.81 847.512,1294.81 848.453,1294.81 849.395,1294.81 850.336,1294.81 \n",
       "  851.277,1294.81 852.218,1294.81 853.159,1294.81 854.1,1294.81 855.041,1294.81 855.982,1294.81 856.923,1294.81 857.864,1294.81 858.805,1294.81 859.746,1294.81 \n",
       "  860.688,1294.81 861.629,1294.81 862.57,1294.81 863.511,1294.81 864.452,1294.81 865.393,1294.81 866.334,1294.81 867.275,1294.81 868.216,1294.81 869.157,1294.81 \n",
       "  870.098,1294.81 871.039,1294.81 871.981,1294.81 872.922,1294.81 873.863,1294.81 874.804,1294.81 875.745,1294.81 876.686,1294.81 877.627,1294.81 878.568,1294.81 \n",
       "  879.509,1294.81 880.45,1294.81 881.391,1294.81 882.332,1294.81 883.274,1294.81 884.215,1294.81 885.156,1294.81 886.097,1294.81 887.038,1294.81 887.979,1294.81 \n",
       "  888.92,1294.81 889.861,1294.81 890.802,1294.81 891.743,1294.81 892.684,1294.81 893.625,1294.81 894.567,1294.81 895.508,1294.81 896.449,1294.81 897.39,1294.81 \n",
       "  898.331,1294.81 899.272,1294.81 900.213,1294.81 901.154,1294.81 902.095,1294.81 903.036,1294.81 903.977,1294.81 904.918,1294.81 905.86,1294.81 906.801,1294.81 \n",
       "  907.742,1294.81 908.683,1294.81 909.624,1294.81 910.565,1294.81 911.506,1294.81 912.447,1294.81 913.388,1294.81 914.329,1294.81 915.27,1294.81 916.211,1294.81 \n",
       "  917.153,1294.81 918.094,1294.81 919.035,1294.81 919.976,1294.81 920.917,1294.81 921.858,1294.81 922.799,1294.81 923.74,1294.81 924.681,1294.81 925.622,1294.81 \n",
       "  926.563,1294.81 927.504,1294.81 928.446,1294.81 929.387,1294.81 930.328,1294.81 931.269,1294.81 932.21,1294.81 933.151,1294.81 934.092,1294.81 935.033,1294.81 \n",
       "  935.974,1294.81 936.915,1294.81 937.856,1294.81 938.797,1294.81 939.739,1294.81 940.68,1294.81 941.621,1294.81 942.562,1294.81 943.503,1294.81 944.444,1294.81 \n",
       "  945.385,1294.81 946.326,1294.81 947.267,1294.81 948.208,1294.81 949.149,1294.81 950.09,1294.81 951.032,1294.81 951.973,1294.81 952.914,1294.81 953.855,1294.81 \n",
       "  954.796,1294.81 955.737,1294.81 956.678,1294.81 957.619,1294.81 958.56,1294.81 959.501,1294.81 960.442,1294.81 961.383,1294.81 962.325,1294.81 963.266,1294.81 \n",
       "  964.207,1294.81 965.148,1294.81 966.089,1294.81 967.03,1294.81 967.971,1294.81 968.912,1294.81 969.853,1294.81 970.794,1294.81 971.735,1294.81 972.676,1294.81 \n",
       "  973.618,1294.81 974.559,1294.81 975.5,1294.81 976.441,1294.81 977.382,1294.81 978.323,1294.81 979.264,1294.81 980.205,1294.81 981.146,1294.81 982.087,1294.81 \n",
       "  983.028,1294.81 983.969,1294.81 984.911,1294.81 985.852,1294.81 986.793,1294.81 987.734,1294.81 988.675,1294.81 989.616,1294.81 990.557,1294.81 991.498,1294.81 \n",
       "  992.439,1294.81 993.38,1294.81 994.321,1294.81 995.262,1294.81 996.204,1294.81 997.145,1294.81 998.086,1294.81 999.027,1294.81 999.968,1294.81 1000.91,1294.81 \n",
       "  1001.85,1294.81 1002.79,1294.81 1003.73,1294.81 1004.67,1294.81 1005.61,1294.81 1006.56,1294.81 1007.5,1294.81 1008.44,1294.81 1009.38,1294.81 1010.32,1294.81 \n",
       "  1011.26,1294.81 1012.2,1294.81 1013.14,1294.81 1014.08,1294.81 1015.03,1294.81 1015.97,1294.81 1016.91,1294.81 1017.85,1294.81 1018.79,1294.81 1019.73,1294.81 \n",
       "  1020.67,1294.81 1021.61,1294.81 1022.55,1294.81 1023.5,1294.81 1024.44,1294.81 1025.38,1294.81 1026.32,1294.81 1027.26,1294.81 1028.2,1294.81 1029.14,1294.81 \n",
       "  1030.08,1294.81 1031.02,1294.81 1031.96,1294.81 1032.91,1294.81 1033.85,1294.81 1034.79,1294.81 1035.73,1294.81 1036.67,1294.81 1037.61,1294.81 1038.55,1294.81 \n",
       "  1039.49,1294.81 1040.43,1294.81 1041.38,1294.81 1042.32,1294.81 1043.26,1294.81 1044.2,1294.81 1045.14,1294.81 1046.08,1294.81 1047.02,1294.81 1047.96,1294.81 \n",
       "  1048.9,1294.81 1049.85,1294.81 1050.79,1294.81 1051.73,1294.81 1052.67,1294.81 1053.61,1294.81 1054.55,1294.81 1055.49,1294.81 1056.43,1294.81 1057.37,1294.81 \n",
       "  1058.32,1294.81 1059.26,1294.81 1060.2,1294.81 1061.14,1294.81 1062.08,1294.81 1063.02,1294.81 1063.96,1294.81 1064.9,1294.81 1065.84,1294.81 1066.78,1294.81 \n",
       "  1067.73,1294.81 1068.67,1294.81 1069.61,1294.81 1070.55,1294.81 1071.49,1294.81 1072.43,1294.81 1073.37,1294.81 1074.31,1294.81 1075.25,1294.81 1076.2,1294.81 \n",
       "  1077.14,1294.81 1078.08,1294.81 1079.02,1294.81 1079.96,1294.81 1080.9,1294.81 1081.84,1294.81 1082.78,1294.81 1083.72,1294.81 1084.67,1294.81 1085.61,1294.81 \n",
       "  1086.55,1294.81 1087.49,1294.81 1088.43,1294.81 1089.37,1294.81 1090.31,1294.81 1091.25,1294.81 1092.19,1294.81 1093.14,1294.81 1094.08,1294.81 1095.02,1294.81 \n",
       "  1095.96,1294.81 1096.9,1294.81 1097.84,1294.81 1098.78,1294.81 1099.72,1294.81 1100.66,1294.81 1101.6,1294.81 1102.55,1294.81 1103.49,1294.81 1104.43,1294.81 \n",
       "  1105.37,1294.81 1106.31,1294.81 1107.25,1294.81 1108.19,1294.81 1109.13,1294.81 1110.07,1294.81 1111.02,1294.81 1111.96,1294.81 1112.9,1294.81 1113.84,1294.81 \n",
       "  1114.78,1294.81 1115.72,1294.81 1116.66,1294.81 1117.6,1294.81 1118.54,1294.81 1119.49,1294.81 1120.43,1294.81 1121.37,1294.81 1122.31,1294.81 1123.25,1294.81 \n",
       "  1124.19,1294.81 1125.13,1294.81 1126.07,1294.81 1127.01,1294.81 1127.96,1294.81 1128.9,1294.81 1129.84,1294.81 1130.78,1294.81 1131.72,1294.81 1132.66,1294.81 \n",
       "  1133.6,1294.81 1134.54,1294.81 1135.48,1294.81 1136.43,1294.81 1137.37,1294.81 1138.31,1294.81 1139.25,1294.81 1140.19,1294.81 1141.13,1294.81 1142.07,1294.81 \n",
       "  1143.01,1294.81 1143.95,1294.81 1144.89,1294.81 1145.84,1294.81 1146.78,1294.81 1147.72,1294.81 1148.66,1294.81 1149.6,1294.81 1150.54,1294.81 1151.48,1294.81 \n",
       "  1152.42,1294.81 1153.36,1294.81 1154.31,1294.81 1155.25,1294.81 1156.19,1294.81 1157.13,1294.81 1158.07,1294.81 1159.01,1294.81 1159.95,1294.81 1160.89,1294.81 \n",
       "  1161.83,1294.81 1162.78,1294.81 1163.72,1294.81 1164.66,1294.81 1165.6,1294.81 1166.54,1294.81 1167.48,1294.81 1168.42,1294.81 1169.36,1294.81 1170.3,1294.81 \n",
       "  1171.25,1294.81 1172.19,1294.81 1173.13,1294.81 1174.07,1294.81 1175.01,1294.81 1175.95,1294.81 1176.89,1294.81 1177.83,1294.81 1178.77,1294.81 1179.71,1294.81 \n",
       "  1180.66,1294.81 1181.6,1294.81 1182.54,1294.81 1183.48,1294.81 1184.42,1294.81 1185.36,1294.81 1186.3,1294.81 1187.24,1294.81 1188.18,1294.81 1189.13,1294.81 \n",
       "  1190.07,1294.81 1191.01,1294.81 1191.95,1294.81 1192.89,1294.81 1193.83,1294.81 1194.77,1294.81 1195.71,1294.81 1196.65,1294.81 1197.6,1294.81 1198.54,1294.81 \n",
       "  1199.48,1294.81 1200.42,1294.81 1201.36,1294.81 1202.3,1294.81 1203.24,1294.81 1204.18,1294.81 1205.12,1294.81 1206.07,1294.81 1207.01,1294.81 1207.95,1294.81 \n",
       "  1208.89,1294.81 1209.83,1294.81 1210.77,1294.81 1211.71,1294.81 1212.65,1294.81 1213.59,1294.81 1214.53,1294.81 1215.48,1294.81 1216.42,1294.81 1217.36,1294.81 \n",
       "  1218.3,1294.81 1219.24,1294.81 1220.18,1294.81 1221.12,1294.81 1222.06,1294.81 1223,1294.81 1223.95,1294.81 1224.89,1294.81 1225.83,1294.81 1226.77,1294.81 \n",
       "  1227.71,1294.81 1228.65,1294.81 1229.59,1294.81 1230.53,1294.81 1231.47,1294.81 1232.42,1294.81 1233.36,1294.81 1234.3,1294.81 1235.24,1294.81 1236.18,1294.81 \n",
       "  1237.12,1294.81 1238.06,1294.81 1239,1294.81 1239.94,1294.81 1240.89,1294.81 1241.83,1294.81 1242.77,1294.81 1243.71,1294.81 1244.65,1294.81 1245.59,1294.81 \n",
       "  1246.53,1294.81 1247.47,1294.81 1248.41,1294.81 1249.36,1294.81 1250.3,1294.81 1251.24,1294.81 1252.18,1294.81 1253.12,1294.81 1254.06,1294.81 1255,1294.81 \n",
       "  1255.94,1294.81 1256.88,1294.81 1257.82,1294.81 1258.77,1294.81 1259.71,1294.81 1260.65,1294.81 1261.59,1294.81 1262.53,1294.81 1263.47,1294.81 1264.41,1294.81 \n",
       "  1265.35,1294.81 1266.29,1294.81 1267.24,1294.81 1268.18,1294.81 1269.12,1294.81 1270.06,1294.81 1271,1294.81 1271.94,1294.81 1272.88,1294.81 1273.82,1294.81 \n",
       "  1274.76,1294.81 1275.71,1294.81 1276.65,1294.81 1277.59,1294.81 1278.53,1294.81 1279.47,1294.81 1280.41,1294.81 1281.35,1294.81 1282.29,1294.81 1283.23,1294.81 \n",
       "  1284.18,1294.81 1285.12,1294.81 1286.06,1294.81 1287,1294.81 1287.94,1294.81 1288.88,1294.81 1289.82,1294.81 1290.76,1294.81 1291.7,1294.81 1292.64,1294.81 \n",
       "  1293.59,1294.81 1294.53,1294.81 1295.47,1294.81 1296.41,1294.81 1297.35,1294.81 1298.29,1294.81 1299.23,1294.81 1300.17,1294.81 1301.11,1294.81 1302.06,1294.81 \n",
       "  1303,1294.81 1303.94,1294.81 1304.88,1294.81 1305.82,1294.81 1306.76,1294.81 1307.7,1294.81 1308.64,1294.81 1309.58,1294.81 1310.53,1294.81 1311.47,1294.81 \n",
       "  1312.41,1294.81 1313.35,1294.81 1314.29,1294.81 1315.23,1294.81 1316.17,1294.81 1317.11,1294.81 1318.05,1294.81 1319,1294.81 1319.94,1294.81 1320.88,1294.81 \n",
       "  1321.82,1294.81 1322.76,1294.81 1323.7,1294.81 1324.64,1294.81 1325.58,1294.81 1326.52,1294.81 1327.47,1294.81 1328.41,1294.81 1329.35,1294.81 1330.29,1294.81 \n",
       "  1331.23,1294.81 1332.17,1294.81 1333.11,1294.81 1334.05,1294.81 1334.99,1294.81 1335.93,1294.81 1336.88,1294.81 1337.82,1294.81 1338.76,1294.81 1339.7,1294.81 \n",
       "  1340.64,1294.81 1341.58,1294.81 1342.52,1294.81 1343.46,1294.81 1344.4,1294.81 1345.35,1294.81 1346.29,1294.81 1347.23,1294.81 1348.17,1294.81 1349.11,1294.81 \n",
       "  1350.05,1294.81 1350.99,1294.81 1351.93,1294.81 1352.87,1294.81 1353.82,1294.81 1354.76,1294.81 1355.7,1294.81 1356.64,1294.81 1357.58,1294.81 1358.52,1294.81 \n",
       "  1359.46,1294.81 1360.4,1294.81 1361.34,1294.81 1362.29,1294.81 1363.23,1294.81 1364.17,1294.81 1365.11,1294.81 1366.05,1294.81 1366.99,1294.81 1367.93,1294.81 \n",
       "  1368.87,1294.81 1369.81,1294.81 1370.75,1294.81 1371.7,1294.81 1372.64,1294.81 1373.58,1294.81 1374.52,1294.81 1375.46,1294.81 1376.4,1294.81 1377.34,1294.81 \n",
       "  1378.28,1294.81 1379.22,1294.81 1380.17,1294.81 1381.11,1294.81 1382.05,1294.81 1382.99,1294.81 1383.93,1294.81 1384.87,1294.81 1385.81,1294.81 1386.75,1294.81 \n",
       "  1387.69,1294.81 1388.64,1294.81 1389.58,1294.81 1390.52,1294.81 1391.46,1294.81 1392.4,1294.81 1393.34,1294.81 1394.28,1294.81 1395.22,1294.81 1396.16,1294.81 \n",
       "  1397.11,1294.81 1398.05,1294.81 1398.99,1294.81 1399.93,1294.81 1400.87,1294.81 1401.81,1294.81 1402.75,1294.81 1403.69,1294.81 1404.63,1294.81 1405.57,1294.81 \n",
       "  1406.52,1294.81 1407.46,1294.81 1408.4,1294.81 1409.34,1294.81 1410.28,1294.81 1411.22,1294.81 1412.16,1294.81 1413.1,1294.81 1414.04,1294.81 1414.99,1294.81 \n",
       "  1415.93,1294.81 1416.87,1294.81 1417.81,1294.81 1418.75,1294.81 1419.69,1294.81 1420.63,1294.81 1421.57,1294.81 1422.51,1294.81 1423.46,1294.81 1424.4,1294.81 \n",
       "  1425.34,1294.81 1426.28,1294.81 1427.22,1294.81 1428.16,1294.81 1429.1,1294.81 1430.04,1294.81 1430.98,1294.81 1431.93,1294.81 1432.87,1294.81 1433.81,1294.81 \n",
       "  1434.75,1294.81 1435.69,1294.81 1436.63,1294.81 1437.57,1294.81 1438.51,1294.81 1439.45,1294.81 1440.4,1294.81 1441.34,1294.81 1442.28,1294.81 1443.22,1294.81 \n",
       "  1444.16,1294.81 1445.1,1294.81 1446.04,1294.81 1446.98,1294.81 1447.92,1294.81 1448.86,1294.81 1449.81,1294.81 1450.75,1294.81 1451.69,1294.81 1452.63,1294.81 \n",
       "  1453.57,1294.81 1454.51,1294.81 1455.45,1294.81 1456.39,1294.81 1457.33,1294.81 1458.28,1294.81 1459.22,1294.81 1460.16,1294.81 1461.1,1294.81 1462.04,1294.81 \n",
       "  1462.98,1294.81 1463.92,1294.81 1464.86,1294.81 1465.8,1294.81 1466.75,1294.81 1467.69,1294.81 1468.63,1294.81 1469.57,1294.81 1470.51,1294.81 1471.45,1294.81 \n",
       "  1472.39,1294.81 1473.33,1294.81 1474.27,1294.81 1475.22,1294.81 1476.16,1294.81 1477.1,1294.81 1478.04,1294.81 1478.98,1294.81 1479.92,1294.81 1480.86,1294.81 \n",
       "  1481.8,1294.81 1482.74,1294.81 1483.68,1294.81 1484.63,1294.81 1485.57,1294.81 1486.51,1294.81 1487.45,1294.81 1488.39,1294.81 1489.33,1294.81 1490.27,1294.81 \n",
       "  1491.21,1294.81 1492.15,1294.81 1493.1,1294.81 1494.04,1294.81 1494.98,1294.81 1495.92,1294.81 1496.86,1294.81 1497.8,1294.81 1498.74,1294.81 1499.68,1294.81 \n",
       "  1500.62,1294.81 1501.57,1294.81 1502.51,1294.81 1503.45,1294.81 1504.39,1294.81 1505.33,1294.81 1506.27,1294.81 1507.21,1294.81 1508.15,1294.81 1509.09,1294.81 \n",
       "  1510.04,1294.81 1510.98,1294.81 1511.92,1294.81 1512.86,1294.81 1513.8,1294.81 1514.74,1294.81 1515.68,1294.81 1516.62,1294.81 1517.56,1294.81 1518.51,1294.81 \n",
       "  1519.45,1294.81 1520.39,1294.81 1521.33,1294.81 1522.27,1294.81 1523.21,1294.81 1524.15,1294.81 1525.09,1294.81 1526.03,1294.81 1526.97,1294.81 1527.92,1294.81 \n",
       "  1528.86,1294.81 1529.8,1294.81 1530.74,1294.81 1531.68,1294.81 1532.62,1294.81 1533.56,1294.81 1534.5,1294.81 1535.44,1294.81 1536.39,1294.81 1537.33,1294.81 \n",
       "  1538.27,1294.81 1539.21,1294.81 1540.15,1294.81 1541.09,1294.81 1542.03,1294.81 1542.97,1294.81 1543.91,1294.81 1544.86,1294.81 1545.8,1294.81 1546.74,1294.81 \n",
       "  1547.68,1294.81 1548.62,1294.81 1549.56,1294.81 1550.5,1294.81 1551.44,1294.81 1552.38,1294.81 1553.33,1294.81 1554.27,1294.81 1555.21,1294.81 1556.15,1294.81 \n",
       "  1557.09,1294.81 1558.03,1294.81 1558.97,1294.81 1559.91,1294.81 1560.85,1294.81 1561.79,1294.81 1562.74,1294.81 1563.68,1294.81 1564.62,1294.81 1565.56,1294.81 \n",
       "  1566.5,1294.81 1567.44,1294.81 1568.38,1294.81 1569.32,1294.81 1570.26,1294.81 1571.21,1294.81 1572.15,1294.81 1573.09,1294.81 1574.03,1294.81 1574.97,1294.81 \n",
       "  1575.91,1294.81 1576.85,1294.81 1577.79,1294.81 1578.73,1294.81 1579.68,1294.81 1580.62,1294.81 1581.56,1294.81 1582.5,1294.81 1583.44,1294.81 1584.38,1294.81 \n",
       "  1585.32,1294.81 1586.26,1294.81 1587.2,1294.81 1588.15,1294.81 1589.09,1294.81 1590.03,1294.81 1590.97,1294.81 1591.91,1294.81 1592.85,1294.81 1593.79,1294.81 \n",
       "  1594.73,1294.81 1595.67,1294.81 1596.61,1294.81 1597.56,1294.81 1598.5,1294.81 1599.44,1294.81 1600.38,1294.81 1601.32,1294.81 1602.26,1294.81 1603.2,1294.81 \n",
       "  1604.14,1294.81 1605.08,1294.81 1606.03,1294.81 1606.97,1294.81 1607.91,1294.81 1608.85,1294.81 1609.79,1294.81 1610.73,1294.81 1611.67,1294.81 1612.61,1294.81 \n",
       "  1613.55,1294.81 1614.5,1294.81 1615.44,1294.81 1616.38,1294.81 1617.32,1294.81 1618.26,1294.81 1619.2,1294.81 1620.14,1294.81 1621.08,1294.81 1622.02,1294.81 \n",
       "  1622.97,1294.81 1623.91,1294.81 1624.85,1294.81 1625.79,1294.81 1626.73,1294.81 1627.67,1294.81 1628.61,1294.81 1629.55,1294.81 1630.49,1294.81 1631.44,1294.81 \n",
       "  1632.38,1294.81 1633.32,1294.81 1634.26,1294.81 1635.2,1294.81 1636.14,1294.81 1637.08,1294.81 1638.02,1294.81 1638.96,1294.81 1639.9,1294.81 1640.85,1294.81 \n",
       "  1641.79,1294.81 1642.73,1294.81 1643.67,1294.81 1644.61,1294.81 1645.55,1294.81 1646.49,1294.81 1647.43,1294.81 1648.37,1294.81 1649.32,1294.81 1650.26,1294.81 \n",
       "  1651.2,1294.81 1652.14,1294.81 1653.08,1294.81 1654.02,1294.81 1654.96,1294.81 1655.9,1294.81 1656.84,1294.81 1657.79,1294.81 1658.73,1294.81 1659.67,1294.81 \n",
       "  1660.61,1294.81 1661.55,1294.81 1662.49,1294.81 1663.43,1294.81 1664.37,1294.81 1665.31,1294.81 1666.26,1294.81 1667.2,1294.81 1668.14,1294.81 1669.08,1294.81 \n",
       "  1670.02,1294.81 1670.96,1294.81 1671.9,1294.81 1672.84,1294.81 1673.78,1294.81 1674.72,1294.81 1675.67,1294.81 1676.61,1294.81 1677.55,1294.81 1678.49,1294.81 \n",
       "  1679.43,1294.81 1680.37,1294.81 1681.31,1294.81 1682.25,1294.81 1683.19,1294.81 1684.14,1294.81 1685.08,1294.81 1686.02,1294.81 1686.96,1294.81 1687.9,1294.81 \n",
       "  1688.84,1294.81 1689.78,1294.81 1690.72,1294.81 1691.66,1294.81 1692.61,1294.81 1693.55,1294.81 1694.49,1294.81 1695.43,1294.81 1696.37,1294.81 1697.31,1294.81 \n",
       "  1698.25,1294.81 1699.19,1294.81 1700.13,1294.81 1701.08,1294.81 1702.02,1294.81 1702.96,1294.81 1703.9,1294.81 1704.84,1294.81 1705.78,1294.81 1706.72,1294.81 \n",
       "  1707.66,1294.81 1708.6,1294.81 1709.55,1294.81 1710.49,1294.81 1711.43,1294.81 1712.37,1294.81 1713.31,1294.81 1714.25,1294.81 1715.19,1294.81 1716.13,1294.81 \n",
       "  1717.07,1294.81 1718.01,1294.81 1718.96,1294.81 1719.9,1294.81 1720.84,1294.81 1721.78,1294.81 1722.72,1294.81 1723.66,1294.81 1724.6,1294.81 1725.54,1294.81 \n",
       "  1726.48,1294.81 1727.43,1294.81 1728.37,1294.81 1729.31,1294.81 1730.25,1294.81 1731.19,1294.81 1732.13,1294.81 1733.07,1294.81 1734.01,1294.81 1734.95,1294.81 \n",
       "  1735.9,1294.81 1736.84,1294.81 1737.78,1294.81 1738.72,1294.81 1739.66,1294.81 1740.6,1294.81 1741.54,1294.81 1742.48,1294.81 1743.42,1294.81 1744.37,1294.81 \n",
       "  1745.31,1294.81 1746.25,1294.81 1747.19,1294.81 1748.13,1294.81 1749.07,1294.81 1750.01,1294.81 1750.95,1294.81 1751.89,1294.81 1752.83,1294.81 1753.78,1294.81 \n",
       "  1754.72,1294.81 1755.66,1294.81 1756.6,1294.81 1757.54,1294.81 1758.48,1294.81 1759.42,1294.81 1760.36,1294.81 1761.3,1294.81 1762.25,1294.81 1763.19,1294.81 \n",
       "  1764.13,1294.81 1765.07,1294.81 1766.01,1294.81 1766.95,1294.81 1767.89,1294.81 1768.83,1294.81 1769.77,1294.81 1770.72,1294.81 1771.66,1294.81 1772.6,1294.81 \n",
       "  1773.54,1294.81 1774.48,1294.81 1775.42,1294.81 1776.36,1294.81 1777.3,1294.81 1778.24,1294.81 1779.19,1294.81 1780.13,1294.81 1781.07,1294.81 1782.01,1294.81 \n",
       "  1782.95,1294.81 1783.89,1294.81 1784.83,1294.81 1785.77,1294.81 1786.71,1294.81 1787.65,1294.81 1788.6,1294.81 1789.54,1294.81 1790.48,1294.81 1791.42,1294.81 \n",
       "  1792.36,1294.81 1793.3,1294.81 1794.24,1294.81 1795.18,1294.81 1796.12,1294.81 1797.07,1294.81 1798.01,1294.81 1798.95,1294.81 1799.89,1294.81 1800.83,1294.81 \n",
       "  1801.77,1294.81 1802.71,1294.81 1803.65,1294.81 1804.59,1294.81 1805.54,1294.81 1806.48,1294.81 1807.42,1294.81 1808.36,1294.81 1809.3,1294.81 1810.24,1294.81 \n",
       "  1811.18,1294.81 1812.12,1294.81 1813.06,1294.81 1814.01,1294.81 1814.95,1294.81 1815.89,1294.81 1816.83,1294.81 1817.77,1294.81 1818.71,1294.81 1819.65,1294.81 \n",
       "  1820.59,1294.81 1821.53,1294.81 1822.48,1294.81 1823.42,1294.81 1824.36,1294.81 1825.3,1294.81 1826.24,1294.81 1827.18,1294.81 1828.12,1294.81 1829.06,1294.81 \n",
       "  1830,1294.81 1830.94,1294.81 1831.89,1294.81 1832.83,1294.81 1833.77,1294.81 1834.71,1294.81 1835.65,1294.81 1836.59,1294.81 1837.53,1294.81 1838.47,1294.81 \n",
       "  1839.41,1294.81 1840.36,1294.81 1841.3,1294.81 1842.24,1294.81 1843.18,1294.81 1844.12,1294.81 1845.06,1294.81 1846,1294.81 1846.94,1294.81 1847.88,1294.81 \n",
       "  1848.83,1294.81 1849.77,1294.81 1850.71,1294.81 1851.65,1294.81 1852.59,1294.81 1853.53,1294.81 1854.47,1294.81 1855.41,1294.81 1856.35,1294.81 1857.3,1294.81 \n",
       "  1858.24,1294.81 1859.18,1294.81 1860.12,1294.81 1861.06,1294.81 1862,1294.81 1862.94,1294.81 1863.88,1294.81 1864.82,1294.81 1865.76,1294.81 1866.71,1294.81 \n",
       "  1867.65,1294.81 1868.59,1294.81 1869.53,1294.81 1870.47,1294.81 1871.41,1294.81 1872.35,1294.81 1873.29,1294.81 1874.23,1294.81 1875.18,1294.81 1876.12,1294.81 \n",
       "  1877.06,1294.81 1878,1294.81 1878.94,1294.81 1879.88,1294.81 1880.82,1294.81 1881.76,1294.81 1882.7,1294.81 1883.65,1294.81 1884.59,1294.81 1885.53,1294.81 \n",
       "  1886.47,1294.81 1887.41,1294.81 1888.35,1294.81 1889.29,1294.81 1890.23,1294.81 1891.17,1294.81 1892.12,1294.81 1893.06,1294.81 1894,1294.81 1894.94,1294.81 \n",
       "  1895.88,1294.81 1896.82,1294.81 1897.76,1294.81 1898.7,1294.81 1899.64,1294.81 1900.59,1294.81 1901.53,1294.81 1902.47,1294.81 1903.41,1294.81 1904.35,1294.81 \n",
       "  1905.29,1294.81 1906.23,1294.81 1907.17,1294.81 1908.11,1294.81 1909.05,1294.81 1910,1294.81 1910.94,1294.81 1911.88,1294.81 1912.82,1294.81 1913.76,1294.81 \n",
       "  1914.7,1294.81 1915.64,1294.81 1916.58,1294.81 1917.52,1294.81 1918.47,1294.81 1919.41,1294.81 1920.35,1294.81 1921.29,1294.81 1922.23,1294.81 1923.17,1294.81 \n",
       "  1924.11,1294.81 1925.05,1294.81 1925.99,1294.81 1926.94,1294.81 1927.88,1293.58 1928.82,1289.33 1929.76,1285.08 1930.7,1280.83 1931.64,1276.58 1932.58,1272.33 \n",
       "  1933.52,1268.08 1934.46,1263.83 1935.41,1259.58 1936.35,1255.33 1937.29,1251.08 1938.23,1246.83 1939.17,1242.58 1940.11,1238.33 1941.05,1234.08 1941.99,1229.83 \n",
       "  1942.93,1225.58 1943.87,1221.33 1944.82,1217.08 1945.76,1212.83 1946.7,1208.58 1947.64,1204.33 1948.58,1200.08 1949.52,1195.83 1950.46,1191.58 1951.4,1187.33 \n",
       "  1952.34,1183.08 1953.29,1178.83 1954.23,1174.58 1955.17,1170.33 1956.11,1166.08 1957.05,1161.83 1957.99,1157.58 1958.93,1153.33 1959.87,1149.08 1960.81,1144.83 \n",
       "  1961.76,1140.58 1962.7,1136.33 1963.64,1132.08 1964.58,1127.83 1965.52,1123.58 1966.46,1119.33 1967.4,1115.08 1968.34,1110.83 1969.28,1106.58 1970.23,1102.33 \n",
       "  1971.17,1098.08 1972.11,1093.83 1973.05,1089.58 1973.99,1085.33 1974.93,1081.08 1975.87,1076.83 1976.81,1072.58 1977.75,1068.33 1978.69,1064.08 1979.64,1059.83 \n",
       "  1980.58,1055.58 1981.52,1051.33 1982.46,1047.08 1983.4,1042.83 1984.34,1038.58 1985.28,1034.33 1986.22,1030.08 1987.16,1025.83 1988.11,1021.58 1989.05,1017.33 \n",
       "  1989.99,1013.08 1990.93,1008.83 1991.87,1004.58 1992.81,1000.33 1993.75,996.083 1994.69,991.833 1995.63,987.583 1996.58,983.333 1997.52,979.083 1998.46,974.833 \n",
       "  1999.4,970.583 2000.34,966.333 2001.28,962.083 2002.22,957.833 2003.16,953.583 2004.1,949.333 2005.05,945.084 2005.99,940.834 2006.93,936.584 2007.87,932.334 \n",
       "  2008.81,928.084 2009.75,923.834 2010.69,919.584 2011.63,915.334 2012.57,911.084 2013.52,906.834 2014.46,902.584 2015.4,898.334 2016.34,894.084 2017.28,889.834 \n",
       "  2018.22,885.584 2019.16,881.334 2020.1,877.085 2021.04,872.835 2021.98,868.585 2022.93,864.335 2023.87,860.085 2024.81,855.835 2025.75,851.585 2026.69,847.335 \n",
       "  2027.63,843.085 2028.57,838.835 2029.51,834.585 2030.45,830.335 2031.4,826.085 2032.34,821.835 2033.28,817.585 2034.22,813.336 2035.16,809.086 2036.1,804.836 \n",
       "  2037.04,800.586 2037.98,796.336 2038.92,792.086 2039.87,787.836 2040.81,783.586 2041.75,779.336 2042.69,775.086 2043.63,770.836 2044.57,766.586 2045.51,762.336 \n",
       "  2046.45,758.086 2047.39,753.836 2048.34,749.586 2049.28,745.337 2050.22,741.087 2051.16,736.837 2052.1,732.587 2053.04,728.337 2053.98,724.087 2054.92,719.837 \n",
       "  2055.86,715.587 2056.8,711.337 2057.75,707.087 2058.69,702.837 2059.63,698.587 2060.57,694.337 2061.51,690.087 2062.45,685.837 2063.39,681.588 2064.33,677.338 \n",
       "  2065.27,673.088 2066.22,668.838 2067.16,664.588 2068.1,660.338 2069.04,656.088 2069.98,651.838 2070.92,647.588 2071.86,643.338 2072.8,639.088 2073.74,634.838 \n",
       "  2074.69,630.588 2075.63,626.338 2076.57,622.088 2077.51,617.838 2078.45,613.589 2079.39,609.339 2080.33,605.089 2081.27,600.839 2082.21,596.589 2083.16,592.339 \n",
       "  2084.1,588.089 2085.04,583.839 2085.98,579.589 2086.92,575.339 2087.86,571.089 2088.8,566.839 2089.74,562.589 2090.68,558.339 2091.63,554.089 2092.57,549.84 \n",
       "  2093.51,545.59 2094.45,541.34 2095.39,537.09 2096.33,532.84 2097.27,528.59 2098.21,524.34 2099.15,520.09 2100.09,515.84 2101.04,511.59 2101.98,507.34 \n",
       "  2102.92,503.09 2103.86,498.84 2104.8,494.59 2105.74,490.34 2106.68,486.09 2107.62,481.841 2108.56,477.591 2109.51,473.341 2110.45,469.091 2111.39,464.841 \n",
       "  2112.33,460.591 2113.27,456.341 2114.21,452.091 2115.15,447.841 2116.09,443.591 2117.03,439.341 2117.98,435.091 2118.92,430.841 2119.86,426.591 2120.8,422.341 \n",
       "  2121.74,418.092 2122.68,413.842 2123.62,409.592 2124.56,405.342 2125.5,401.092 2126.45,396.842 2127.39,392.592 2128.33,388.342 2129.27,384.092 2130.21,379.842 \n",
       "  2131.15,375.592 2132.09,371.342 2133.03,367.092 2133.97,362.842 2134.91,358.592 2135.86,354.342 2136.8,350.093 2137.74,345.843 2138.68,341.593 2139.62,337.343 \n",
       "  2140.56,333.093 2141.5,328.843 2142.44,324.593 2143.38,320.343 2144.33,316.093 2145.27,311.843 2146.21,307.593 2147.15,303.343 2148.09,299.093 2149.03,294.843 \n",
       "  2149.97,290.593 2150.91,286.344 2151.85,282.094 2152.8,277.844 2153.74,273.594 2154.68,269.344 2155.62,265.094 2156.56,260.844 2157.5,256.594 2158.44,252.344 \n",
       "  2159.38,248.094 2160.32,243.844 2161.27,239.594 2162.21,235.344 2163.15,231.094 2164.09,226.844 2165.03,222.594 2165.97,218.345 2166.91,214.095 2167.85,209.845 \n",
       "  2168.79,205.595 2169.73,201.345 2170.68,197.095 2171.62,192.845 2172.56,188.595 2173.5,184.345 2174.44,180.095 2175.38,175.845 2176.32,171.595 2177.26,167.345 \n",
       "  2178.2,163.095 2179.15,158.845 2180.09,154.596 2181.03,150.346 2181.97,146.096 2182.91,141.846 2183.85,137.596 2184.79,133.346 2185.73,129.096 2186.67,124.846 \n",
       "  2187.62,120.596 2188.56,116.346 2189.5,112.096 2190.44,107.846 2191.38,103.596 2192.32,99.3464 2193.26,95.0964 2194.2,90.8465 2195.14,86.5966 2196.09,82.3466 \n",
       "  \n",
       "  \"/>\n",
       "<path clip-path=\"url(#clip990)\" d=\"\n",
       "M258.422 1486.45 L2252.52 1486.45 L2252.52 47.2441 L258.422 47.2441  Z\n",
       "  \" fill=\"#000000\" fill-rule=\"evenodd\" fill-opacity=\"0\"/>\n",
       "<path clip-path=\"url(#clip990)\" d=\"M1198.97 1541.44 Q1198.97 1542.26 1198.59 1542.46 Q1198.2 1542.64 1197.15 1542.64 L1191.53 1542.64 L1187.08 1560.32 Q1186.73 1561.87 1186.73 1563.19 Q1186.73 1564.66 1187.17 1565.3 Q1187.64 1565.94 1188.6 1565.94 Q1190.5 1565.94 1192.55 1564.22 Q1194.63 1562.49 1196.39 1558.27 Q1196.62 1557.72 1196.74 1557.6 Q1196.89 1557.45 1197.27 1557.45 Q1198 1557.45 1198 1558.04 Q1198 1558.24 1197.59 1559.18 Q1197.21 1560.12 1196.36 1561.49 Q1195.54 1562.87 1194.46 1564.16 Q1193.4 1565.45 1191.79 1566.38 Q1190.18 1567.29 1188.46 1567.29 Q1186.03 1567.29 1184.47 1565.74 Q1182.95 1564.19 1182.95 1561.76 Q1182.95 1560.97 1183.57 1558.45 Q1184.18 1555.9 1187.52 1542.64 L1182.22 1542.64 Q1181.49 1542.64 1181.19 1542.61 Q1180.93 1542.58 1180.73 1542.43 Q1180.55 1542.26 1180.55 1541.91 Q1180.55 1541.35 1180.78 1541.12 Q1181.02 1540.85 1181.31 1540.82 Q1181.63 1540.77 1182.37 1540.77 L1187.99 1540.77 L1190.33 1531.25 Q1190.56 1530.31 1191.15 1529.79 Q1191.76 1529.23 1192.11 1529.17 Q1192.47 1529.08 1192.73 1529.08 Q1193.52 1529.08 1193.99 1529.52 Q1194.46 1529.93 1194.46 1530.69 Q1194.46 1531.1 1192 1540.77 L1197.27 1540.77 Q1197.94 1540.77 1198.2 1540.79 Q1198.5 1540.82 1198.73 1540.97 Q1198.97 1541.12 1198.97 1541.44 Z\" fill=\"#000000\" fill-rule=\"evenodd\" fill-opacity=\"1\" /><path clip-path=\"url(#clip990)\" d=\"M1225.91 1521.59 L1238.18 1521.59 L1238.18 1525.73 L1231.23 1525.73 L1231.23 1570.29 L1238.18 1570.29 L1238.18 1574.43 L1225.91 1574.43 L1225.91 1521.59 Z\" fill=\"#000000\" fill-rule=\"evenodd\" fill-opacity=\"1\" /><path clip-path=\"url(#clip990)\" d=\"M1276.46 1547.06 L1276.46 1566.62 L1271.14 1566.62 L1271.14 1547.23 Q1271.14 1542.63 1269.34 1540.34 Q1267.55 1538.06 1263.96 1538.06 Q1259.65 1538.06 1257.16 1540.81 Q1254.67 1543.56 1254.67 1548.3 L1254.67 1566.62 L1249.32 1566.62 L1249.32 1534.21 L1254.67 1534.21 L1254.67 1539.25 Q1256.58 1536.32 1259.16 1534.88 Q1261.76 1533.43 1265.15 1533.43 Q1270.73 1533.43 1273.59 1536.9 Q1276.46 1540.34 1276.46 1547.06 Z\" fill=\"#000000\" fill-rule=\"evenodd\" fill-opacity=\"1\" /><path clip-path=\"url(#clip990)\" d=\"M1307.74 1535.17 L1307.74 1540.2 Q1305.48 1539.04 1303.05 1538.46 Q1300.62 1537.89 1298.02 1537.89 Q1294.05 1537.89 1292.06 1539.1 Q1290.09 1540.32 1290.09 1542.75 Q1290.09 1544.6 1291.51 1545.67 Q1292.92 1546.71 1297.21 1547.67 L1299.03 1548.07 Q1304.7 1549.29 1307.07 1551.51 Q1309.47 1553.71 1309.47 1557.68 Q1309.47 1562.19 1305.89 1564.82 Q1302.33 1567.46 1296.08 1567.46 Q1293.47 1567.46 1290.64 1566.94 Q1287.83 1566.44 1284.71 1565.43 L1284.71 1559.93 Q1287.66 1561.47 1290.52 1562.25 Q1293.39 1563 1296.19 1563 Q1299.95 1563 1301.98 1561.73 Q1304.01 1560.43 1304.01 1558.08 Q1304.01 1555.91 1302.53 1554.75 Q1301.08 1553.6 1296.14 1552.53 L1294.28 1552.09 Q1289.34 1551.05 1287.14 1548.91 Q1284.94 1546.74 1284.94 1542.98 Q1284.94 1538.41 1288.18 1535.92 Q1291.42 1533.43 1297.38 1533.43 Q1300.33 1533.43 1302.93 1533.86 Q1305.54 1534.3 1307.74 1535.17 Z\" fill=\"#000000\" fill-rule=\"evenodd\" fill-opacity=\"1\" /><path clip-path=\"url(#clip990)\" d=\"M1330.39 1521.59 L1330.39 1574.43 L1318.13 1574.43 L1318.13 1570.29 L1325.04 1570.29 L1325.04 1525.73 L1318.13 1525.73 L1318.13 1521.59 L1330.39 1521.59 Z\" fill=\"#000000\" fill-rule=\"evenodd\" fill-opacity=\"1\" /><polyline clip-path=\"url(#clip990)\" style=\"stroke:#000000; stroke-linecap:round; stroke-linejoin:round; stroke-width:4; stroke-opacity:1; fill:none\" points=\"\n",
       "  2252.52,1486.45 2252.52,47.2441 \n",
       "  \"/>\n",
       "<polyline clip-path=\"url(#clip990)\" style=\"stroke:#000000; stroke-linecap:round; stroke-linejoin:round; stroke-width:4; stroke-opacity:1; fill:none\" points=\"\n",
       "  2252.52,1342.53 2233.62,1342.53 \n",
       "  \"/>\n",
       "<polyline clip-path=\"url(#clip990)\" style=\"stroke:#000000; stroke-linecap:round; stroke-linejoin:round; stroke-width:4; stroke-opacity:1; fill:none\" points=\"\n",
       "  2252.52,1054.69 2233.62,1054.69 \n",
       "  \"/>\n",
       "<polyline clip-path=\"url(#clip990)\" style=\"stroke:#000000; stroke-linecap:round; stroke-linejoin:round; stroke-width:4; stroke-opacity:1; fill:none\" points=\"\n",
       "  2252.52,766.846 2233.62,766.846 \n",
       "  \"/>\n",
       "<polyline clip-path=\"url(#clip990)\" style=\"stroke:#000000; stroke-linecap:round; stroke-linejoin:round; stroke-width:4; stroke-opacity:1; fill:none\" points=\"\n",
       "  2252.52,479.005 2233.62,479.005 \n",
       "  \"/>\n",
       "<polyline clip-path=\"url(#clip990)\" style=\"stroke:#000000; stroke-linecap:round; stroke-linejoin:round; stroke-width:4; stroke-opacity:1; fill:none\" points=\"\n",
       "  2252.52,191.164 2233.62,191.164 \n",
       "  \"/>\n",
       "<path clip-path=\"url(#clip990)\" d=\"M2288.52 1342.98 L2318.2 1342.98 L2318.2 1346.91 L2288.52 1346.91 L2288.52 1342.98 Z\" fill=\"#000000\" fill-rule=\"evenodd\" fill-opacity=\"1\" /><path clip-path=\"url(#clip990)\" d=\"M2332.32 1355.87 L2348.64 1355.87 L2348.64 1359.81 L2326.69 1359.81 L2326.69 1355.87 Q2329.36 1353.12 2333.94 1348.49 Q2338.54 1343.84 2339.73 1342.49 Q2341.97 1339.97 2342.85 1338.23 Q2343.75 1336.47 2343.75 1334.78 Q2343.75 1332.03 2341.81 1330.29 Q2339.89 1328.56 2336.79 1328.56 Q2334.59 1328.56 2332.13 1329.32 Q2329.7 1330.09 2326.92 1331.64 L2326.92 1326.91 Q2329.75 1325.78 2332.2 1325.2 Q2334.66 1324.62 2336.69 1324.62 Q2342.06 1324.62 2345.26 1327.31 Q2348.45 1329.99 2348.45 1334.48 Q2348.45 1336.61 2347.64 1338.53 Q2346.86 1340.43 2344.75 1343.03 Q2344.17 1343.7 2341.07 1346.91 Q2337.97 1350.11 2332.32 1355.87 Z\" fill=\"#000000\" fill-rule=\"evenodd\" fill-opacity=\"1\" /><path clip-path=\"url(#clip990)\" d=\"M2288.52 1055.14 L2318.2 1055.14 L2318.2 1059.07 L2288.52 1059.07 L2288.52 1055.14 Z\" fill=\"#000000\" fill-rule=\"evenodd\" fill-opacity=\"1\" /><path clip-path=\"url(#clip990)\" d=\"M2329.1 1068.03 L2336.74 1068.03 L2336.74 1041.67 L2328.43 1043.33 L2328.43 1039.07 L2336.69 1037.41 L2341.37 1037.41 L2341.37 1068.03 L2349.01 1068.03 L2349.01 1071.97 L2329.1 1071.97 L2329.1 1068.03 Z\" fill=\"#000000\" fill-rule=\"evenodd\" fill-opacity=\"1\" /><path clip-path=\"url(#clip990)\" d=\"M2300.47 752.645 Q2296.86 752.645 2295.03 756.209 Q2293.22 759.751 2293.22 766.881 Q2293.22 773.987 2295.03 777.552 Q2296.86 781.094 2300.47 781.094 Q2304.1 781.094 2305.91 777.552 Q2307.73 773.987 2307.73 766.881 Q2307.73 759.751 2305.91 756.209 Q2304.1 752.645 2300.47 752.645 M2300.47 748.941 Q2306.28 748.941 2309.33 753.547 Q2312.41 758.131 2312.41 766.881 Q2312.41 775.608 2309.33 780.214 Q2306.28 784.797 2300.47 784.797 Q2294.66 784.797 2291.58 780.214 Q2288.52 775.608 2288.52 766.881 Q2288.52 758.131 2291.58 753.547 Q2294.66 748.941 2300.47 748.941 Z\" fill=\"#000000\" fill-rule=\"evenodd\" fill-opacity=\"1\" /><path clip-path=\"url(#clip990)\" d=\"M2289.19 492.35 L2296.83 492.35 L2296.83 465.984 L2288.52 467.651 L2288.52 463.392 L2296.79 461.725 L2301.46 461.725 L2301.46 492.35 L2309.1 492.35 L2309.1 496.285 L2289.19 496.285 L2289.19 492.35 Z\" fill=\"#000000\" fill-rule=\"evenodd\" fill-opacity=\"1\" /><path clip-path=\"url(#clip990)\" d=\"M2294.15 204.509 L2310.47 204.509 L2310.47 208.444 L2288.52 208.444 L2288.52 204.509 Q2291.18 201.755 2295.77 197.125 Q2300.37 192.472 2301.55 191.13 Q2303.8 188.607 2304.68 186.871 Q2305.58 185.111 2305.58 183.421 Q2305.58 180.667 2303.64 178.931 Q2301.72 177.195 2298.61 177.195 Q2296.42 177.195 2293.96 177.959 Q2291.53 178.722 2288.75 180.273 L2288.75 175.551 Q2291.58 174.417 2294.03 173.838 Q2296.49 173.259 2298.52 173.259 Q2303.89 173.259 2307.09 175.945 Q2310.28 178.63 2310.28 183.121 Q2310.28 185.25 2309.47 187.171 Q2308.68 189.07 2306.58 191.662 Q2306 192.333 2302.9 195.551 Q2299.8 198.745 2294.15 204.509 Z\" fill=\"#000000\" fill-rule=\"evenodd\" fill-opacity=\"1\" /><polyline clip-path=\"url(#clip992)\" style=\"stroke:#ff0000; stroke-linecap:round; stroke-linejoin:round; stroke-width:8; stroke-opacity:1; fill:none\" points=\"\n",
       "  577.421,766.846 578.362,766.846 579.304,766.846 580.245,766.846 581.186,766.846 582.127,766.846 583.068,766.846 584.009,766.918 584.95,767.068 585.891,767.276 \n",
       "  586.832,767.54 587.773,767.862 588.714,768.241 589.655,768.677 590.597,769.17 591.538,769.719 592.479,770.324 593.42,770.986 594.361,771.705 595.302,772.479 \n",
       "  596.243,773.308 597.184,774.193 598.125,775.134 599.066,776.129 600.007,777.178 600.948,778.283 601.89,779.441 602.831,780.652 603.772,781.917 604.713,783.235 \n",
       "  605.654,784.606 606.595,786.029 607.536,787.503 608.477,789.029 609.418,790.606 610.359,792.233 611.3,793.91 612.241,795.637 613.183,797.412 614.124,799.236 \n",
       "  615.065,801.108 616.006,803.028 616.947,804.994 617.888,807.006 618.829,809.064 619.77,811.167 620.711,813.315 621.652,815.506 622.593,817.74 623.534,820.017 \n",
       "  624.476,822.335 625.417,824.695 626.358,827.094 627.299,829.534 628.24,832.012 629.181,834.528 630.122,837.081 631.063,839.671 632.004,842.297 632.945,844.958 \n",
       "  633.886,847.652 634.827,850.38 635.769,853.14 636.71,855.932 637.651,858.754 638.592,861.606 639.533,864.486 640.474,867.395 641.415,870.33 642.356,873.291 \n",
       "  643.297,876.278 644.238,879.288 645.179,882.321 646.12,885.376 647.062,888.452 648.003,891.548 648.944,894.662 649.885,897.795 650.826,900.944 651.767,904.109 \n",
       "  652.708,907.288 653.649,910.481 654.59,913.686 655.531,916.903 656.472,920.129 657.413,923.365 658.355,926.608 659.296,929.858 660.237,933.113 661.178,936.373 \n",
       "  662.119,939.636 663.06,942.9 664.001,946.165 664.942,949.43 665.883,952.693 666.824,955.953 667.765,959.209 668.706,962.459 669.648,965.703 670.589,968.939 \n",
       "  671.53,972.165 672.471,975.381 673.412,978.585 674.353,981.777 675.294,984.954 676.235,988.115 677.176,991.26 678.117,994.386 679.058,997.493 679.999,1000.58 \n",
       "  680.941,1003.64 681.882,1006.69 682.823,1009.7 683.764,1012.69 684.705,1015.66 685.646,1018.59 686.587,1021.5 687.528,1024.37 688.469,1027.22 689.41,1030.02 \n",
       "  690.351,1032.8 691.292,1035.54 692.234,1038.24 693.175,1040.9 694.116,1043.52 695.057,1046.11 695.998,1048.64 696.939,1051.14 697.88,1053.59 698.821,1056 \n",
       "  699.762,1058.35 700.703,1060.66 701.644,1062.92 702.585,1065.13 703.527,1067.29 704.468,1069.4 705.409,1071.45 706.35,1073.44 707.291,1075.38 708.232,1077.26 \n",
       "  709.173,1079.09 710.114,1080.85 711.055,1082.55 711.996,1084.19 712.937,1085.77 713.878,1087.28 714.82,1088.73 715.761,1090.12 716.702,1091.44 717.643,1092.68 \n",
       "  718.584,1093.87 719.525,1094.98 720.466,1096.02 721.407,1096.99 722.348,1097.89 723.289,1098.71 724.23,1099.47 725.171,1100.14 726.113,1100.75 727.054,1101.27 \n",
       "  727.995,1101.72 728.936,1102.1 729.877,1102.39 730.818,1102.61 731.759,1102.75 732.7,1102.81 733.641,1102.78 734.582,1102.68 735.523,1102.5 736.464,1102.23 \n",
       "  737.406,1101.89 738.347,1101.46 739.288,1100.95 740.229,1100.35 741.17,1099.67 742.111,1098.91 743.052,1098.06 743.993,1097.13 744.934,1096.12 745.875,1095.02 \n",
       "  746.816,1093.84 747.757,1092.57 748.699,1091.22 749.64,1089.78 750.581,1088.26 751.522,1086.65 752.463,1084.96 753.404,1083.18 754.345,1081.32 755.286,1079.37 \n",
       "  756.227,1077.34 757.168,1075.23 758.109,1073.03 759.05,1070.75 759.992,1068.38 760.933,1065.94 761.874,1063.41 762.815,1060.79 763.756,1058.1 764.697,1055.33 \n",
       "  765.638,1052.47 766.579,1049.54 767.52,1046.52 768.461,1043.43 769.402,1040.26 770.343,1037.01 771.285,1033.68 772.226,1030.28 773.167,1026.81 774.108,1023.26 \n",
       "  775.049,1019.63 775.99,1015.93 776.931,1012.16 777.872,1008.32 778.813,1004.41 779.754,1000.43 780.695,996.383 781.636,992.268 782.578,988.087 783.519,983.841 \n",
       "  784.46,979.531 785.401,975.159 786.342,970.725 787.283,966.231 788.224,961.678 789.165,957.067 790.106,952.399 791.047,947.676 791.988,942.9 792.93,938.07 \n",
       "  793.871,933.19 794.812,928.259 795.753,923.281 796.694,918.255 797.635,913.183 798.576,908.068 799.517,902.91 800.458,897.711 801.399,892.472 802.34,887.195 \n",
       "  803.281,881.882 804.223,876.534 805.164,871.152 806.105,865.739 807.046,860.296 807.987,854.824 808.928,849.325 809.869,843.801 810.81,838.254 811.751,832.685 \n",
       "  812.692,827.096 813.633,821.488 814.574,815.863 815.516,810.224 816.457,804.571 817.398,798.906 818.339,793.231 819.28,787.549 820.221,781.86 821.162,776.166 \n",
       "  822.103,770.469 823.044,764.382 823.985,756.205 824.926,748.031 825.867,739.864 826.809,731.706 827.75,723.559 828.691,715.428 829.632,707.313 830.573,699.219 \n",
       "  831.514,691.148 832.455,683.102 833.396,675.085 834.337,667.098 835.278,659.146 836.219,651.23 837.16,643.353 838.102,635.518 839.043,627.727 839.984,619.983 \n",
       "  840.925,612.289 841.866,604.647 842.807,597.061 843.748,589.531 844.689,582.062 845.63,574.655 846.571,567.313 847.512,560.039 848.453,552.835 849.395,545.703 \n",
       "  850.336,538.646 851.277,531.666 852.218,524.765 853.159,517.947 854.1,511.213 855.041,504.565 855.982,498.006 856.923,491.538 857.864,485.163 858.805,478.884 \n",
       "  859.746,472.702 860.688,466.619 861.629,460.638 862.57,454.761 863.511,448.989 864.452,443.325 865.393,437.77 866.334,432.326 867.275,426.996 868.216,421.781 \n",
       "  869.157,416.682 870.098,411.702 871.039,406.843 871.981,402.105 872.922,397.49 873.863,393 874.804,388.637 875.745,384.402 876.686,380.296 877.627,376.321 \n",
       "  878.568,372.478 879.509,368.769 880.45,365.194 881.391,361.755 882.332,358.454 883.274,355.29 884.215,352.266 885.156,349.382 886.097,346.639 887.038,344.038 \n",
       "  887.979,341.581 888.92,339.267 889.861,337.098 890.802,335.074 891.743,333.197 892.684,331.466 893.625,329.882 894.567,328.447 895.508,327.16 896.449,326.021 \n",
       "  897.39,325.032 898.331,324.192 899.272,323.502 900.213,322.962 901.154,322.572 902.095,322.332 903.036,322.243 903.977,322.304 904.918,322.516 905.86,322.878 \n",
       "  906.801,323.39 907.742,324.053 908.683,324.865 909.624,325.826 910.565,326.937 911.506,328.197 912.447,329.605 913.388,331.161 914.329,332.865 915.27,334.715 \n",
       "  916.211,336.711 917.153,338.854 918.094,341.14 919.035,343.571 919.976,346.146 920.917,348.862 921.858,351.72 922.799,354.718 923.74,357.856 924.681,361.132 \n",
       "  925.622,364.546 926.563,368.096 927.504,371.78 928.446,375.598 929.387,379.549 930.328,383.631 931.269,387.842 932.21,392.181 933.151,396.648 934.092,401.239 \n",
       "  935.033,405.955 935.974,410.792 936.915,415.75 937.856,420.826 938.797,426.02 939.739,431.329 940.68,436.752 941.621,442.286 942.562,447.93 943.503,453.682 \n",
       "  944.444,459.54 945.385,465.502 946.326,471.566 947.267,477.73 948.208,483.991 949.149,490.349 950.09,496.799 951.032,503.342 951.973,509.973 952.914,516.691 \n",
       "  953.855,523.494 954.796,530.38 955.737,537.345 956.678,544.388 957.619,551.506 958.56,558.697 959.501,565.959 960.442,573.288 961.383,580.683 962.325,588.141 \n",
       "  963.266,595.66 964.207,603.236 965.148,610.868 966.089,618.552 967.03,626.287 967.971,634.069 968.912,641.896 969.853,649.766 970.794,657.675 971.735,665.621 \n",
       "  972.676,673.601 973.618,681.613 974.559,689.653 975.5,697.72 976.441,705.81 977.382,713.921 978.323,722.05 979.264,730.194 980.205,738.35 981.146,746.516 \n",
       "  982.087,754.688 983.028,762.865 983.969,771.044 984.911,779.22 985.852,787.393 986.793,795.559 987.734,803.715 988.675,811.858 989.616,819.986 990.557,828.097 \n",
       "  991.498,836.186 992.439,844.252 993.38,852.292 994.321,860.303 995.262,868.283 996.204,876.228 997.145,884.136 998.086,892.004 999.027,899.83 999.968,907.611 \n",
       "  1000.91,915.344 1001.85,923.027 1002.79,930.658 1003.73,938.233 1004.67,945.749 1005.61,953.206 1006.56,960.599 1007.5,967.927 1008.44,975.186 1009.38,982.376 \n",
       "  1010.32,989.492 1011.26,996.533 1012.2,1003.5 1013.14,1010.38 1014.08,1017.18 1015.03,1023.9 1015.97,1030.53 1016.91,1037.06 1017.85,1043.51 1018.79,1049.87 \n",
       "  1019.73,1056.13 1020.67,1062.29 1021.61,1068.35 1022.55,1074.31 1023.5,1080.16 1024.44,1085.91 1025.38,1091.55 1026.32,1097.09 1027.26,1102.51 1028.2,1107.81 \n",
       "  1029.14,1113 1030.08,1118.08 1031.02,1123.03 1031.96,1127.86 1032.91,1132.58 1033.85,1137.16 1034.79,1141.63 1035.73,1145.96 1036.67,1150.17 1037.61,1154.25 \n",
       "  1038.55,1158.2 1039.49,1162.01 1040.43,1165.69 1041.38,1169.24 1042.32,1172.65 1043.26,1175.92 1044.2,1179.05 1045.14,1182.05 1046.08,1184.9 1047.02,1187.62 \n",
       "  1047.96,1190.19 1048.9,1192.61 1049.85,1194.9 1050.79,1197.04 1051.73,1199.03 1052.67,1200.87 1053.61,1202.57 1054.55,1204.13 1055.49,1205.53 1056.43,1206.79 \n",
       "  1057.37,1207.89 1058.32,1208.85 1059.26,1209.66 1060.2,1210.32 1061.14,1210.83 1062.08,1211.18 1063.02,1211.39 1063.96,1211.45 1064.9,1211.36 1065.84,1211.11 \n",
       "  1066.78,1210.72 1067.73,1210.17 1068.67,1209.48 1069.61,1208.64 1070.55,1207.64 1071.49,1206.5 1072.43,1205.21 1073.37,1203.77 1074.31,1202.18 1075.25,1200.45 \n",
       "  1076.2,1198.57 1077.14,1196.54 1078.08,1194.37 1079.02,1192.05 1079.96,1189.59 1080.9,1186.98 1081.84,1184.24 1082.78,1181.35 1083.72,1178.32 1084.67,1175.15 \n",
       "  1085.61,1171.85 1086.55,1168.4 1087.49,1164.83 1088.43,1161.11 1089.37,1157.27 1090.31,1153.29 1091.25,1149.18 1092.19,1144.94 1093.14,1140.57 1094.08,1136.08 \n",
       "  1095.02,1131.46 1095.96,1126.72 1096.9,1121.86 1097.84,1116.88 1098.78,1111.77 1099.72,1106.56 1100.66,1101.22 1101.6,1095.78 1102.55,1090.22 1103.49,1084.55 \n",
       "  1104.43,1078.78 1105.37,1072.9 1106.31,1066.91 1107.25,1060.83 1108.19,1054.64 1109.13,1048.36 1110.07,1041.98 1111.02,1035.51 1111.96,1028.95 1112.9,1022.3 \n",
       "  1113.84,1015.57 1114.78,1008.74 1115.72,1001.84 1116.66,994.86 1117.6,987.801 1118.54,980.667 1119.49,973.461 1120.43,966.185 1121.37,958.841 1122.31,951.433 \n",
       "  1123.25,943.962 1124.19,936.431 1125.13,928.842 1126.07,921.199 1127.01,913.504 1127.96,905.759 1128.9,897.967 1129.84,890.131 1130.78,882.253 1131.72,874.336 \n",
       "  1132.66,866.382 1133.6,858.395 1134.54,850.377 1135.48,842.33 1136.43,834.258 1137.37,826.164 1138.31,818.049 1139.25,809.917 1140.19,801.77 1141.13,793.612 \n",
       "  1142.07,785.444 1143.01,777.27 1143.95,769.093 1144.89,760.914 1145.84,752.738 1146.78,744.567 1147.72,736.403 1148.66,728.25 1149.6,720.109 1150.54,711.984 \n",
       "  1151.48,703.878 1152.42,695.794 1153.36,687.733 1154.31,679.699 1155.25,671.694 1156.19,663.722 1157.13,655.785 1158.07,647.885 1159.01,640.025 1159.95,632.208 \n",
       "  1160.89,624.437 1161.83,616.714 1162.78,609.042 1163.72,601.423 1164.66,593.861 1165.6,586.356 1166.54,578.913 1167.48,571.534 1168.42,564.22 1169.36,556.975 \n",
       "  1170.3,549.801 1171.25,542.701 1172.19,535.676 1173.13,528.73 1174.07,521.864 1175.01,515.081 1175.95,508.383 1176.89,501.773 1177.83,495.252 1178.77,488.823 \n",
       "  1179.71,482.489 1180.66,476.25 1181.6,470.11 1182.54,464.07 1183.48,458.133 1184.42,452.3 1185.36,446.574 1186.3,440.956 1187.24,435.448 1188.18,430.052 \n",
       "  1189.13,424.771 1190.07,419.605 1191.01,414.556 1191.95,409.627 1192.89,404.819 1193.83,400.133 1194.77,395.571 1195.71,391.135 1196.65,386.826 1197.6,382.645 \n",
       "  1198.54,378.595 1199.48,374.675 1200.42,370.889 1201.36,367.237 1202.3,363.719 1203.24,360.338 1204.18,357.095 1205.12,353.99 1206.07,351.025 1207.01,348.201 \n",
       "  1207.95,345.519 1208.89,342.978 1209.83,340.582 1210.77,338.329 1211.71,336.222 1212.65,334.26 1213.59,332.445 1214.53,330.776 1215.48,329.256 1216.42,327.883 \n",
       "  1217.36,326.659 1218.3,325.583 1219.24,324.657 1220.18,323.881 1221.12,323.254 1222.06,322.778 1223,322.452 1223.95,322.276 1224.89,322.251 1225.83,322.376 \n",
       "  1226.77,322.651 1227.71,323.077 1228.65,323.653 1229.59,324.379 1230.53,325.254 1231.47,326.279 1232.42,327.453 1233.36,328.776 1234.3,330.247 1235.24,331.865 \n",
       "  1236.18,333.631 1237.12,335.544 1238.06,337.602 1239,339.806 1239.94,342.154 1240.89,344.646 1241.83,347.28 1242.77,350.057 1243.71,352.974 1244.65,356.032 \n",
       "  1245.59,359.229 1246.53,362.563 1247.47,366.035 1248.41,369.642 1249.36,373.383 1250.3,377.257 1251.24,381.264 1252.18,385.401 1253.12,389.666 1254.06,394.06 \n",
       "  1255,398.58 1255.94,403.224 1256.88,407.991 1257.82,412.88 1258.77,417.888 1259.71,423.015 1260.65,428.257 1261.59,433.615 1262.53,439.085 1263.47,444.666 \n",
       "  1264.41,450.356 1265.35,456.153 1266.29,462.056 1267.24,468.061 1268.18,474.167 1269.12,480.373 1270.06,486.675 1271,493.073 1271.94,499.563 1272.88,506.143 \n",
       "  1273.82,512.811 1274.76,519.566 1275.71,526.404 1276.65,533.324 1277.59,540.322 1278.53,547.397 1279.47,554.547 1280.41,561.768 1281.35,569.059 1282.29,576.416 \n",
       "  1283.23,583.838 1284.18,591.322 1285.12,598.865 1286.06,606.466 1287,614.12 1287.94,621.826 1288.88,629.581 1289.82,637.383 1290.76,645.228 1291.7,653.115 \n",
       "  1292.64,661.04 1293.59,669.001 1294.53,676.995 1295.47,685.019 1296.41,693.071 1297.35,701.148 1298.29,709.247 1299.23,717.366 1300.17,725.501 1301.11,733.651 \n",
       "  1302.06,741.811 1303,749.981 1303.94,758.155 1304.88,766.333 1305.82,774.511 1306.76,782.687 1307.7,790.857 1308.64,799.019 1309.58,807.17 1310.53,815.307 \n",
       "  1311.47,823.428 1312.41,831.53 1313.35,839.61 1314.29,847.665 1315.23,855.693 1316.17,863.691 1317.11,871.656 1318.05,879.586 1319,887.477 1319.94,895.328 \n",
       "  1320.88,903.135 1321.82,910.896 1322.76,918.609 1323.7,926.27 1324.64,933.877 1325.58,941.427 1326.52,948.919 1327.47,956.349 1328.41,963.714 1329.35,971.014 \n",
       "  1330.29,978.244 1331.23,985.402 1332.17,992.487 1333.11,999.495 1334.05,1006.42 1334.99,1013.27 1335.93,1020.04 1336.88,1026.72 1337.82,1033.31 1338.76,1039.81 \n",
       "  1339.7,1046.22 1340.64,1052.53 1341.58,1058.75 1342.52,1064.87 1343.46,1070.89 1344.4,1076.8 1345.35,1082.61 1346.29,1088.32 1347.23,1093.91 1348.17,1099.4 \n",
       "  1349.11,1104.77 1350.05,1110.03 1350.99,1115.17 1351.93,1120.19 1352.87,1125.09 1353.82,1129.88 1354.76,1134.54 1355.7,1139.07 1356.64,1143.48 1357.58,1147.76 \n",
       "  1358.52,1151.92 1359.46,1155.94 1360.4,1159.83 1361.34,1163.59 1362.29,1167.21 1363.23,1170.7 1364.17,1174.05 1365.11,1177.27 1366.05,1180.34 1366.99,1183.28 \n",
       "  1367.93,1186.07 1368.87,1188.72 1369.81,1191.23 1370.75,1193.6 1371.7,1195.82 1372.64,1197.9 1373.58,1199.83 1374.52,1201.61 1375.46,1203.25 1376.4,1204.74 \n",
       "  1377.34,1206.08 1378.28,1207.27 1379.22,1208.32 1380.17,1209.21 1381.11,1209.96 1382.05,1210.55 1382.99,1211 1383.93,1211.29 1384.87,1211.43 1385.81,1211.43 \n",
       "  1386.75,1211.27 1387.69,1210.96 1388.64,1210.51 1389.58,1209.9 1390.52,1209.14 1391.46,1208.23 1392.4,1207.18 1393.34,1205.97 1394.28,1204.62 1395.22,1203.11 \n",
       "  1396.16,1201.46 1397.11,1199.67 1398.05,1197.72 1398.99,1195.63 1399.93,1193.4 1400.87,1191.02 1401.81,1188.5 1402.75,1185.83 1403.69,1183.03 1404.63,1180.08 \n",
       "  1405.57,1176.99 1406.52,1173.77 1407.46,1170.4 1408.4,1166.9 1409.34,1163.27 1410.28,1159.5 1411.22,1155.6 1412.16,1151.56 1413.1,1147.4 1414.04,1143.1 \n",
       "  1414.99,1138.68 1415.93,1134.14 1416.87,1129.47 1417.81,1124.67 1418.75,1119.76 1419.69,1114.73 1420.63,1109.58 1421.57,1104.31 1422.51,1098.93 1423.46,1093.43 \n",
       "  1424.4,1087.83 1425.34,1082.12 1426.28,1076.3 1427.22,1070.37 1428.16,1064.34 1429.1,1058.22 1430.04,1051.99 1430.98,1045.67 1431.93,1039.25 1432.87,1032.74 \n",
       "  1433.81,1026.14 1434.75,1019.46 1435.69,1012.68 1436.63,1005.83 1437.57,998.891 1438.51,991.876 1439.45,984.785 1440.4,977.62 1441.34,970.384 1442.28,963.079 \n",
       "  1443.22,955.707 1444.16,948.272 1445.1,940.775 1446.04,933.22 1446.98,925.608 1447.92,917.942 1448.86,910.226 1449.81,902.46 1450.75,894.649 1451.69,886.795 \n",
       "  1452.63,878.9 1453.57,870.967 1454.51,862.999 1455.45,854.998 1456.39,846.968 1457.33,838.91 1458.28,830.829 1459.22,822.725 1460.16,814.602 1461.1,806.464 \n",
       "  1462.04,798.312 1462.98,790.149 1463.92,781.978 1464.86,773.803 1465.8,765.625 1466.75,757.447 1467.69,749.273 1468.63,741.104 1469.57,732.944 1470.51,724.796 \n",
       "  1471.45,716.662 1472.39,708.545 1473.33,700.447 1474.27,692.372 1475.22,684.323 1476.16,676.301 1477.1,668.31 1478.04,660.352 1478.98,652.43 1479.92,644.547 \n",
       "  1480.86,636.705 1481.8,628.907 1482.74,621.156 1483.68,613.455 1484.63,605.805 1485.57,598.21 1486.51,590.671 1487.45,583.193 1488.39,575.776 1489.33,568.424 \n",
       "  1490.27,561.14 1491.21,553.924 1492.15,546.781 1493.1,539.713 1494.04,532.721 1494.98,525.808 1495.92,518.977 1496.86,512.23 1497.8,505.569 1498.74,498.997 \n",
       "  1499.68,492.515 1500.62,486.126 1501.57,479.831 1502.51,473.634 1503.45,467.537 1504.39,461.54 1505.33,455.647 1506.27,449.859 1507.21,444.178 1508.15,438.607 \n",
       "  1509.09,433.146 1510.04,427.799 1510.98,422.566 1511.92,417.449 1512.86,412.451 1513.8,407.573 1514.74,402.816 1515.68,398.183 1516.62,393.674 1517.56,389.292 \n",
       "  1518.51,385.037 1519.45,380.911 1520.39,376.917 1521.33,373.054 1522.27,369.324 1523.21,365.728 1524.15,362.269 1525.09,358.946 1526.03,355.762 1526.97,352.716 \n",
       "  1527.92,349.811 1528.86,347.046 1529.8,344.424 1530.74,341.945 1531.68,339.609 1532.62,337.418 1533.56,335.372 1534.5,333.473 1535.44,331.719 1536.39,330.114 \n",
       "  1537.33,328.655 1538.27,327.346 1539.21,326.184 1540.15,325.172 1541.09,324.31 1542.03,323.597 1542.97,323.034 1543.91,322.621 1544.86,322.359 1545.8,322.247 \n",
       "  1546.74,322.285 1547.68,322.474 1548.62,322.813 1549.56,323.303 1550.5,323.942 1551.44,324.732 1552.38,325.671 1553.33,326.759 1554.27,327.996 1555.21,329.382 \n",
       "  1556.15,330.915 1557.09,332.596 1558.03,334.424 1558.97,336.399 1559.91,338.519 1560.85,340.784 1561.79,343.193 1562.74,345.745 1563.68,348.44 1564.62,351.277 \n",
       "  1565.56,354.254 1566.5,357.371 1567.44,360.626 1568.38,364.019 1569.32,367.548 1570.26,371.212 1571.21,375.01 1572.15,378.94 1573.09,383.002 1574.03,387.194 \n",
       "  1574.97,391.514 1575.91,395.961 1576.85,400.534 1577.79,405.23 1578.73,410.049 1579.68,414.989 1580.62,420.048 1581.56,425.224 1582.5,430.515 1583.44,435.921 \n",
       "  1584.38,441.438 1585.32,447.066 1586.26,452.801 1587.2,458.643 1588.15,464.59 1589.09,470.638 1590.03,476.787 1590.97,483.034 1591.91,489.377 1592.85,495.813 \n",
       "  1593.79,502.342 1594.73,508.96 1595.67,515.665 1596.61,522.455 1597.56,529.328 1598.5,536.282 1599.44,543.313 1600.38,550.42 1601.32,557.6 1602.26,564.851 \n",
       "  1603.2,572.17 1604.14,579.556 1605.08,587.004 1606.03,594.514 1606.97,602.081 1607.91,609.705 1608.85,617.382 1609.79,625.109 1610.73,632.884 1611.67,640.704 \n",
       "  1612.61,648.568 1613.55,656.471 1614.5,664.411 1615.44,672.387 1616.38,680.394 1617.32,688.43 1618.26,696.493 1619.2,704.58 1620.14,712.688 1621.08,720.814 \n",
       "  1622.02,728.956 1622.97,737.11 1623.91,745.275 1624.85,753.447 1625.79,761.623 1626.73,769.801 1627.67,777.978 1628.61,786.152 1629.55,794.319 1630.49,802.476 \n",
       "  1631.44,810.622 1632.38,818.753 1633.32,826.866 1634.26,834.959 1635.2,843.029 1636.14,851.073 1637.08,859.088 1638.02,867.072 1638.96,875.023 1639.9,882.937 \n",
       "  1640.85,890.811 1641.79,898.644 1642.73,906.432 1643.67,914.173 1644.61,921.864 1645.55,929.502 1646.49,937.086 1647.43,944.611 1648.37,952.077 1649.32,959.48 \n",
       "  1650.26,966.818 1651.2,974.088 1652.14,981.288 1653.08,988.416 1654.02,995.468 1654.96,1002.44 1655.9,1009.34 1656.84,1016.15 1657.79,1022.88 1658.73,1029.52 \n",
       "  1659.67,1036.08 1660.61,1042.54 1661.55,1048.91 1662.49,1055.18 1663.43,1061.36 1664.37,1067.44 1665.31,1073.41 1666.26,1079.28 1667.2,1085.05 1668.14,1090.7 \n",
       "  1669.08,1096.25 1670.02,1101.69 1670.96,1107.01 1671.9,1112.22 1672.84,1117.31 1673.78,1122.29 1674.72,1127.14 1675.67,1131.87 1676.61,1136.48 1677.55,1140.96 \n",
       "  1678.49,1145.31 1679.43,1149.54 1680.37,1153.64 1681.31,1157.61 1682.25,1161.44 1683.19,1165.14 1684.14,1168.71 1685.08,1172.14 1686.02,1175.43 1686.96,1178.59 \n",
       "  1687.9,1181.6 1688.84,1183.75 1689.78,1185.67 1690.72,1187.5 1691.66,1189.25 1692.61,1190.9 1693.55,1192.46 1694.49,1193.94 1695.43,1195.32 1696.37,1196.62 \n",
       "  1697.31,1197.82 1698.25,1198.93 1699.19,1199.95 1700.13,1200.88 1701.08,1201.71 1702.02,1202.46 1702.96,1203.11 1703.9,1203.67 1704.84,1204.13 1705.78,1204.51 \n",
       "  1706.72,1204.79 1707.66,1204.98 1708.6,1205.07 1709.55,1205.07 1710.49,1204.99 1711.43,1204.81 1712.37,1204.53 1713.31,1204.17 1714.25,1203.71 1715.19,1203.17 \n",
       "  1716.13,1202.53 1717.07,1201.8 1718.01,1200.99 1718.96,1200.08 1719.9,1199.09 1720.84,1198 1721.78,1196.83 1722.72,1195.58 1723.66,1194.23 1724.6,1192.8 \n",
       "  1725.54,1191.29 1726.48,1189.69 1727.43,1188 1728.37,1186.24 1729.31,1184.39 1730.25,1182.46 1731.19,1180.45 1732.13,1178.36 1733.07,1176.19 1734.01,1173.94 \n",
       "  1734.95,1171.62 1735.9,1169.22 1736.84,1166.75 1737.78,1164.2 1738.72,1161.58 1739.66,1158.89 1740.6,1156.13 1741.54,1153.29 1742.48,1150.39 1743.42,1147.43 \n",
       "  1744.37,1144.4 1745.31,1141.3 1746.25,1138.14 1747.19,1134.92 1748.13,1131.63 1749.07,1128.29 1750.01,1124.89 1750.95,1121.43 1751.89,1117.92 1752.83,1114.36 \n",
       "  1753.78,1110.74 1754.72,1107.07 1755.66,1103.35 1756.6,1099.58 1757.54,1095.76 1758.48,1091.9 1759.42,1088 1760.36,1084.05 1761.3,1080.06 1762.25,1076.03 \n",
       "  1763.19,1071.96 1764.13,1067.86 1765.07,1063.72 1766.01,1059.55 1766.95,1055.34 1767.89,1051.11 1768.83,1046.85 1769.77,1042.56 1770.72,1038.24 1771.66,1033.9 \n",
       "  1772.6,1029.53 1773.54,1025.15 1774.48,1020.74 1775.42,1016.32 1776.36,1011.88 1777.3,1007.42 1778.24,1002.95 1779.19,998.473 1780.13,993.982 1781.07,989.481 \n",
       "  1782.01,984.974 1782.95,980.46 1783.89,975.942 1784.83,971.421 1785.77,966.899 1786.71,962.376 1787.65,957.856 1788.6,953.338 1789.54,948.826 1790.48,944.319 \n",
       "  1791.42,939.819 1792.36,935.329 1793.3,930.848 1794.24,926.38 1795.18,921.925 1796.12,917.484 1797.07,913.059 1798.01,908.651 1798.95,904.262 1799.89,899.893 \n",
       "  1800.83,895.545 1801.77,891.22 1802.71,886.919 1803.65,882.643 1804.59,878.393 1805.54,874.171 1806.48,869.978 1807.42,865.815 1808.36,861.683 1809.3,857.583 \n",
       "  1810.24,853.517 1811.18,849.486 1812.12,845.491 1813.06,841.532 1814.01,837.611 1814.95,833.73 1815.89,829.888 1816.83,826.088 1817.77,822.329 1818.71,818.614 \n",
       "  1819.65,814.943 1820.59,811.316 1821.53,807.735 1822.48,804.201 1823.42,800.715 1824.36,797.276 1825.3,793.887 1826.24,790.548 1827.18,787.26 1828.12,784.023 \n",
       "  1829.06,780.839 1830,777.707 1830.94,774.629 1831.89,771.605 1832.83,768.636 1833.77,765.723 1834.71,762.866 1835.65,760.065 1836.59,757.322 1837.53,754.636 \n",
       "  1838.47,752.009 1839.41,749.44 1840.36,746.931 1841.3,744.481 1842.24,742.091 1843.18,739.762 1844.12,737.493 1845.06,735.285 1846,733.139 1846.94,731.054 \n",
       "  1847.88,729.032 1848.83,727.072 1849.77,725.174 1850.71,723.338 1851.65,721.566 1852.59,719.857 1853.53,718.21 1854.47,716.627 1855.41,715.108 1856.35,713.652 \n",
       "  1857.3,712.259 1858.24,710.93 1859.18,709.664 1860.12,708.462 1861.06,707.324 1862,706.249 1862.94,705.237 1863.88,704.289 1864.82,703.404 1865.76,702.582 \n",
       "  1866.71,701.823 1867.65,701.127 1868.59,700.493 1869.53,699.922 1870.47,699.413 1871.41,698.966 1872.35,698.581 1873.29,698.257 1874.23,697.994 1875.18,697.792 \n",
       "  1876.12,697.651 1877.06,697.57 1878,697.548 1878.94,697.586 1879.88,697.684 1880.82,697.839 1881.76,698.054 1882.7,698.325 1883.65,698.655 1884.59,699.041 \n",
       "  1885.53,699.483 1886.47,699.982 1887.41,700.536 1888.35,701.145 1889.29,701.808 1890.23,702.525 1891.17,703.295 1892.12,704.117 1893.06,704.992 1894,705.919 \n",
       "  1894.94,706.896 1895.88,707.923 1896.82,709 1897.76,710.126 1898.7,711.3 1899.64,712.521 1900.59,713.79 1901.53,715.105 1902.47,716.465 1903.41,717.87 \n",
       "  1904.35,719.319 1905.29,720.811 1906.23,722.345 1907.17,723.922 1908.11,725.539 1909.05,727.197 1910,728.894 1910.94,730.63 1911.88,732.403 1912.82,734.214 \n",
       "  1913.76,736.061 1914.7,737.942 1915.64,739.859 1916.58,741.809 1917.52,743.792 1918.47,745.806 1919.41,747.852 1920.35,749.928 1921.29,752.033 1922.23,754.166 \n",
       "  1923.17,756.327 1924.11,758.514 1925.05,760.727 1925.99,762.965 1926.94,765.226 1927.88,766.846 1928.82,766.846 1929.76,766.846 1930.7,766.846 1931.64,766.846 \n",
       "  1932.58,766.846 \n",
       "  \"/>\n",
       "<polyline clip-path=\"url(#clip992)\" style=\"stroke:#ff0000; stroke-linecap:round; stroke-linejoin:round; stroke-width:8; stroke-opacity:1; fill:none\" stroke-dasharray=\"32, 20\" points=\"\n",
       "  314.859,766.846 315.8,766.846 316.741,766.846 317.682,766.846 318.623,766.846 319.564,766.846 320.505,766.846 321.447,766.846 322.388,766.846 323.329,766.846 \n",
       "  324.27,766.846 325.211,766.846 326.152,766.846 327.093,766.846 328.034,766.846 328.975,766.846 329.916,766.846 330.857,766.846 331.798,766.846 332.74,766.846 \n",
       "  333.681,766.846 334.622,766.846 335.563,766.846 336.504,766.846 337.445,766.846 338.386,766.846 339.327,766.846 340.268,766.846 341.209,766.846 342.15,766.846 \n",
       "  343.091,766.846 344.033,766.846 344.974,766.846 345.915,766.846 346.856,766.846 347.797,766.846 348.738,766.846 349.679,766.846 350.62,766.846 351.561,766.846 \n",
       "  352.502,766.846 353.443,766.846 354.384,766.846 355.326,766.846 356.267,766.846 357.208,766.846 358.149,766.846 359.09,766.846 360.031,766.846 360.972,766.846 \n",
       "  361.913,766.846 362.854,766.846 363.795,766.846 364.736,766.846 365.678,766.846 366.619,766.846 367.56,766.846 368.501,766.846 369.442,766.846 370.383,766.846 \n",
       "  371.324,766.846 372.265,766.846 373.206,766.846 374.147,766.846 375.088,766.846 376.029,766.846 376.971,766.846 377.912,766.846 378.853,766.846 379.794,766.846 \n",
       "  380.735,766.846 381.676,766.846 382.617,766.846 383.558,766.846 384.499,766.846 385.44,766.846 386.381,766.846 387.322,766.846 388.264,766.846 389.205,766.846 \n",
       "  390.146,766.846 391.087,766.846 392.028,766.846 392.969,766.846 393.91,766.846 394.851,766.846 395.792,766.846 396.733,766.846 397.674,766.846 398.615,766.846 \n",
       "  399.557,766.846 400.498,766.846 401.439,766.846 402.38,766.846 403.321,766.846 404.262,766.846 405.203,766.846 406.144,766.846 407.085,766.846 408.026,766.846 \n",
       "  408.967,766.846 409.908,766.846 410.85,766.846 411.791,766.846 412.732,766.846 413.673,766.846 414.614,766.846 415.555,766.846 416.496,766.846 417.437,766.846 \n",
       "  418.378,766.846 419.319,766.846 420.26,766.846 421.201,766.846 422.143,766.846 423.084,766.846 424.025,766.846 424.966,766.846 425.907,766.846 426.848,766.846 \n",
       "  427.789,766.846 428.73,766.846 429.671,766.846 430.612,766.846 431.553,766.846 432.494,766.846 433.436,766.846 434.377,766.846 435.318,766.846 436.259,766.846 \n",
       "  437.2,766.846 438.141,766.846 439.082,766.846 440.023,766.846 440.964,766.846 441.905,766.846 442.846,766.846 443.787,766.846 444.729,766.846 445.67,766.846 \n",
       "  446.611,766.846 447.552,766.846 448.493,766.846 449.434,766.846 450.375,766.846 451.316,766.846 452.257,766.846 453.198,766.846 454.139,766.846 455.08,766.846 \n",
       "  456.022,766.846 456.963,766.846 457.904,766.846 458.845,766.846 459.786,766.846 460.727,766.846 461.668,766.846 462.609,766.846 463.55,766.846 464.491,766.846 \n",
       "  465.432,766.846 466.373,766.846 467.315,766.846 468.256,766.846 469.197,766.846 470.138,766.846 471.079,766.846 472.02,766.846 472.961,766.846 473.902,766.846 \n",
       "  474.843,766.846 475.784,766.846 476.725,766.846 477.666,766.846 478.608,766.846 479.549,766.846 480.49,766.846 481.431,766.846 482.372,766.846 483.313,766.846 \n",
       "  484.254,766.846 485.195,766.846 486.136,766.846 487.077,766.846 488.018,766.846 488.959,766.846 489.901,766.846 490.842,766.846 491.783,766.846 492.724,766.846 \n",
       "  493.665,766.846 494.606,766.846 495.547,766.846 496.488,766.846 497.429,766.846 498.37,766.846 499.311,766.846 500.252,766.846 501.194,766.846 502.135,766.846 \n",
       "  503.076,766.846 504.017,766.846 504.958,766.846 505.899,766.846 506.84,766.846 507.781,766.846 508.722,766.846 509.663,766.846 510.604,766.846 511.545,766.846 \n",
       "  512.487,766.846 513.428,766.846 514.369,766.846 515.31,766.846 516.251,766.846 517.192,766.846 518.133,766.846 519.074,766.846 520.015,766.846 520.956,766.846 \n",
       "  521.897,766.846 522.838,766.846 523.78,766.846 524.721,766.846 525.662,766.846 526.603,766.846 527.544,766.846 528.485,766.846 529.426,766.846 530.367,766.846 \n",
       "  531.308,766.846 532.249,766.846 533.19,766.846 534.131,766.846 535.073,766.846 536.014,766.846 536.955,766.846 537.896,766.846 538.837,766.846 539.778,766.846 \n",
       "  540.719,766.846 541.66,766.846 542.601,766.846 543.542,766.846 544.483,766.846 545.424,766.846 546.366,766.846 547.307,766.846 548.248,766.846 549.189,766.846 \n",
       "  550.13,766.846 551.071,766.846 552.012,766.846 552.953,766.846 553.894,766.846 554.835,766.846 555.776,766.846 556.717,766.846 557.659,766.846 558.6,766.846 \n",
       "  559.541,766.846 560.482,766.846 561.423,766.846 562.364,766.846 563.305,766.846 564.246,766.846 565.187,766.846 566.128,766.846 567.069,766.846 568.01,766.846 \n",
       "  568.952,766.846 569.893,766.846 570.834,766.846 571.775,766.846 572.716,766.846 573.657,766.846 574.598,766.846 575.539,766.846 576.48,766.846 577.421,766.846 \n",
       "  578.362,766.846 579.304,766.846 580.245,766.846 581.186,766.846 582.127,766.846 583.068,766.846 584.009,765.084 584.95,762.604 585.891,760.124 586.832,757.644 \n",
       "  587.773,755.164 588.714,752.684 589.655,750.204 590.597,747.725 591.538,745.245 592.479,742.767 593.42,740.288 594.361,737.81 595.302,735.332 596.243,732.854 \n",
       "  597.184,730.377 598.125,727.9 599.066,725.424 600.007,722.949 600.948,720.474 601.89,717.999 602.831,715.526 603.772,713.052 604.713,710.58 605.654,708.109 \n",
       "  606.595,705.638 607.536,703.168 608.477,700.699 609.418,698.23 610.359,695.763 611.3,693.297 612.241,690.831 613.183,688.367 614.124,685.904 615.065,683.442 \n",
       "  616.006,680.981 616.947,678.522 617.888,676.064 618.829,673.607 619.77,671.151 620.711,668.697 621.652,666.244 622.593,663.793 623.534,661.344 624.476,658.896 \n",
       "  625.417,656.449 626.358,654.005 627.299,651.562 628.24,649.121 629.181,646.682 630.122,644.245 631.063,641.809 632.004,639.376 632.945,636.945 633.886,634.516 \n",
       "  634.827,632.09 635.769,629.665 636.71,627.243 637.651,624.824 638.592,622.407 639.533,619.992 640.474,617.58 641.415,615.171 642.356,612.764 643.297,610.361 \n",
       "  644.238,607.96 645.179,605.562 646.12,603.167 647.062,600.775 648.003,598.387 648.944,596.001 649.885,593.619 650.826,591.241 651.767,588.866 652.708,586.494 \n",
       "  653.649,584.126 654.59,581.762 655.531,579.401 656.472,577.045 657.413,574.692 658.355,572.344 659.296,569.999 660.237,567.659 661.178,565.323 662.119,562.992 \n",
       "  663.06,560.665 664.001,558.342 664.942,556.025 665.883,553.712 666.824,551.404 667.765,549.101 668.706,546.803 669.648,544.51 670.589,542.222 671.53,539.94 \n",
       "  672.471,537.663 673.412,535.392 674.353,533.126 675.294,530.866 676.235,528.612 677.176,526.364 678.117,524.122 679.058,521.887 679.999,519.657 680.941,517.434 \n",
       "  681.882,515.217 682.823,513.007 683.764,510.804 684.705,508.608 685.646,506.418 686.587,504.235 687.528,502.06 688.469,499.892 689.41,497.731 690.351,495.578 \n",
       "  691.292,493.433 692.234,491.295 693.175,489.165 694.116,487.043 695.057,484.929 695.998,482.823 696.939,480.726 697.88,478.637 698.821,476.557 699.762,474.485 \n",
       "  700.703,472.422 701.644,470.368 702.585,468.323 703.527,466.287 704.468,464.261 705.409,462.244 706.35,460.236 707.291,458.238 708.232,456.25 709.173,454.272 \n",
       "  710.114,452.304 711.055,450.345 711.996,448.398 712.937,446.46 713.878,444.533 714.82,442.617 715.761,440.712 716.702,438.817 717.643,436.933 718.584,435.061 \n",
       "  719.525,433.2 720.466,431.35 721.407,429.512 722.348,427.685 723.289,425.87 724.23,424.067 725.171,422.276 726.113,420.498 727.054,418.731 727.995,416.977 \n",
       "  728.936,415.235 729.877,413.506 730.818,411.79 731.759,410.086 732.7,408.396 733.641,406.718 734.582,405.054 735.523,403.404 736.464,401.766 737.406,400.143 \n",
       "  738.347,398.533 739.288,396.937 740.229,395.354 741.17,393.786 742.111,392.232 743.052,390.693 743.993,389.168 744.934,387.657 745.875,386.161 746.816,384.68 \n",
       "  747.757,383.214 748.699,381.762 749.64,380.326 750.581,378.905 751.522,377.499 752.463,376.109 753.404,374.734 754.345,373.375 755.286,372.032 756.227,370.704 \n",
       "  757.168,369.393 758.109,368.098 759.05,366.818 759.992,365.555 760.933,364.309 761.874,363.079 762.815,361.865 763.756,360.668 764.697,359.488 765.638,358.325 \n",
       "  766.579,357.179 767.52,356.05 768.461,354.938 769.402,353.843 770.343,352.766 771.285,351.706 772.226,350.663 773.167,349.638 774.108,348.631 775.049,347.642 \n",
       "  775.99,346.67 776.931,345.717 777.872,344.781 778.813,343.863 779.754,342.964 780.695,342.083 781.636,341.22 782.578,340.375 783.519,339.549 784.46,338.742 \n",
       "  785.401,337.953 786.342,337.183 787.283,336.431 788.224,335.699 789.165,334.985 790.106,334.29 791.047,333.614 791.988,332.957 792.93,332.319 793.871,331.701 \n",
       "  794.812,331.101 795.753,330.521 796.694,329.96 797.635,329.419 798.576,328.896 799.517,328.394 800.458,327.91 801.399,327.447 802.34,327.003 803.281,326.578 \n",
       "  804.223,326.173 805.164,325.788 806.105,325.422 807.046,325.077 807.987,324.751 808.928,324.445 809.869,324.158 810.81,323.892 811.751,323.645 812.692,323.418 \n",
       "  813.633,323.212 814.574,323.025 815.516,322.858 816.457,322.711 817.398,322.584 818.339,322.477 819.28,322.39 820.221,322.323 821.162,322.276 822.103,322.25 \n",
       "  823.044,322.242 823.985,322.242 824.926,322.242 825.867,322.242 826.809,322.242 827.75,322.242 828.691,322.242 829.632,322.242 830.573,322.242 831.514,322.242 \n",
       "  832.455,322.242 833.396,322.242 834.337,322.242 835.278,322.242 836.219,322.242 837.16,322.242 838.102,322.242 839.043,322.242 839.984,322.242 840.925,322.242 \n",
       "  841.866,322.242 842.807,322.242 843.748,322.242 844.689,322.242 845.63,322.242 846.571,322.242 847.512,322.242 848.453,322.242 849.395,322.242 850.336,322.242 \n",
       "  851.277,322.242 852.218,322.242 853.159,322.242 854.1,322.242 855.041,322.242 855.982,322.242 856.923,322.242 857.864,322.242 858.805,322.242 859.746,322.242 \n",
       "  860.688,322.242 861.629,322.242 862.57,322.242 863.511,322.242 864.452,322.242 865.393,322.242 866.334,322.242 867.275,322.242 868.216,322.242 869.157,322.242 \n",
       "  870.098,322.242 871.039,322.242 871.981,322.242 872.922,322.242 873.863,322.242 874.804,322.242 875.745,322.242 876.686,322.242 877.627,322.242 878.568,322.242 \n",
       "  879.509,322.242 880.45,322.242 881.391,322.242 882.332,322.242 883.274,322.242 884.215,322.242 885.156,322.242 886.097,322.242 887.038,322.242 887.979,322.242 \n",
       "  888.92,322.242 889.861,322.242 890.802,322.242 891.743,322.242 892.684,322.242 893.625,322.242 894.567,322.242 895.508,322.242 896.449,322.242 897.39,322.242 \n",
       "  898.331,322.242 899.272,322.242 900.213,322.242 901.154,322.242 902.095,322.242 903.036,322.242 903.977,322.242 904.918,322.242 905.86,322.242 906.801,322.242 \n",
       "  907.742,322.242 908.683,322.242 909.624,322.242 910.565,322.242 911.506,322.242 912.447,322.242 913.388,322.242 914.329,322.242 915.27,322.242 916.211,322.242 \n",
       "  917.153,322.242 918.094,322.242 919.035,322.242 919.976,322.242 920.917,322.242 921.858,322.242 922.799,322.242 923.74,322.242 924.681,322.242 925.622,322.242 \n",
       "  926.563,322.242 927.504,322.242 928.446,322.242 929.387,322.242 930.328,322.242 931.269,322.242 932.21,322.242 933.151,322.242 934.092,322.242 935.033,322.242 \n",
       "  935.974,322.242 936.915,322.242 937.856,322.242 938.797,322.242 939.739,322.242 940.68,322.242 941.621,322.242 942.562,322.242 943.503,322.242 944.444,322.242 \n",
       "  945.385,322.242 946.326,322.242 947.267,322.242 948.208,322.242 949.149,322.242 950.09,322.242 951.032,322.242 951.973,322.242 952.914,322.242 953.855,322.242 \n",
       "  954.796,322.242 955.737,322.242 956.678,322.242 957.619,322.242 958.56,322.242 959.501,322.242 960.442,322.242 961.383,322.242 962.325,322.242 963.266,322.242 \n",
       "  964.207,322.242 965.148,322.242 966.089,322.242 967.03,322.242 967.971,322.242 968.912,322.242 969.853,322.242 970.794,322.242 971.735,322.242 972.676,322.242 \n",
       "  973.618,322.242 974.559,322.242 975.5,322.242 976.441,322.242 977.382,322.242 978.323,322.242 979.264,322.242 980.205,322.242 981.146,322.242 982.087,322.242 \n",
       "  983.028,322.242 983.969,322.242 984.911,322.242 985.852,322.242 986.793,322.242 987.734,322.242 988.675,322.242 989.616,322.242 990.557,322.242 991.498,322.242 \n",
       "  992.439,322.242 993.38,322.242 994.321,322.242 995.262,322.242 996.204,322.242 997.145,322.242 998.086,322.242 999.027,322.242 999.968,322.242 1000.91,322.242 \n",
       "  1001.85,322.242 1002.79,322.242 1003.73,322.242 1004.67,322.242 1005.61,322.242 1006.56,322.242 1007.5,322.242 1008.44,322.242 1009.38,322.242 1010.32,322.242 \n",
       "  1011.26,322.242 1012.2,322.242 1013.14,322.242 1014.08,322.242 1015.03,322.242 1015.97,322.242 1016.91,322.242 1017.85,322.242 1018.79,322.242 1019.73,322.242 \n",
       "  1020.67,322.242 1021.61,322.242 1022.55,322.242 1023.5,322.242 1024.44,322.242 1025.38,322.242 1026.32,322.242 1027.26,322.242 1028.2,322.242 1029.14,322.242 \n",
       "  1030.08,322.242 1031.02,322.242 1031.96,322.242 1032.91,322.242 1033.85,322.242 1034.79,322.242 1035.73,322.242 1036.67,322.242 1037.61,322.242 1038.55,322.242 \n",
       "  1039.49,322.242 1040.43,322.242 1041.38,322.242 1042.32,322.242 1043.26,322.242 1044.2,322.242 1045.14,322.242 1046.08,322.242 1047.02,322.242 1047.96,322.242 \n",
       "  1048.9,322.242 1049.85,322.242 1050.79,322.242 1051.73,322.242 1052.67,322.242 1053.61,322.242 1054.55,322.242 1055.49,322.242 1056.43,322.242 1057.37,322.242 \n",
       "  1058.32,322.242 1059.26,322.242 1060.2,322.242 1061.14,322.242 1062.08,322.242 1063.02,322.242 1063.96,322.242 1064.9,322.242 1065.84,322.242 1066.78,322.242 \n",
       "  1067.73,322.242 1068.67,322.242 1069.61,322.242 1070.55,322.242 1071.49,322.242 1072.43,322.242 1073.37,322.242 1074.31,322.242 1075.25,322.242 1076.2,322.242 \n",
       "  1077.14,322.242 1078.08,322.242 1079.02,322.242 1079.96,322.242 1080.9,322.242 1081.84,322.242 1082.78,322.242 1083.72,322.242 1084.67,322.242 1085.61,322.242 \n",
       "  1086.55,322.242 1087.49,322.242 1088.43,322.242 1089.37,322.242 1090.31,322.242 1091.25,322.242 1092.19,322.242 1093.14,322.242 1094.08,322.242 1095.02,322.242 \n",
       "  1095.96,322.242 1096.9,322.242 1097.84,322.242 1098.78,322.242 1099.72,322.242 1100.66,322.242 1101.6,322.242 1102.55,322.242 1103.49,322.242 1104.43,322.242 \n",
       "  1105.37,322.242 1106.31,322.242 1107.25,322.242 1108.19,322.242 1109.13,322.242 1110.07,322.242 1111.02,322.242 1111.96,322.242 1112.9,322.242 1113.84,322.242 \n",
       "  1114.78,322.242 1115.72,322.242 1116.66,322.242 1117.6,322.242 1118.54,322.242 1119.49,322.242 1120.43,322.242 1121.37,322.242 1122.31,322.242 1123.25,322.242 \n",
       "  1124.19,322.242 1125.13,322.242 1126.07,322.242 1127.01,322.242 1127.96,322.242 1128.9,322.242 1129.84,322.242 1130.78,322.242 1131.72,322.242 1132.66,322.242 \n",
       "  1133.6,322.242 1134.54,322.242 1135.48,322.242 1136.43,322.242 1137.37,322.242 1138.31,322.242 1139.25,322.242 1140.19,322.242 1141.13,322.242 1142.07,322.242 \n",
       "  1143.01,322.242 1143.95,322.242 1144.89,322.242 1145.84,322.242 1146.78,322.242 1147.72,322.242 1148.66,322.242 1149.6,322.242 1150.54,322.242 1151.48,322.242 \n",
       "  1152.42,322.242 1153.36,322.242 1154.31,322.242 1155.25,322.242 1156.19,322.242 1157.13,322.242 1158.07,322.242 1159.01,322.242 1159.95,322.242 1160.89,322.242 \n",
       "  1161.83,322.242 1162.78,322.242 1163.72,322.242 1164.66,322.242 1165.6,322.242 1166.54,322.242 1167.48,322.242 1168.42,322.242 1169.36,322.242 1170.3,322.242 \n",
       "  1171.25,322.242 1172.19,322.242 1173.13,322.242 1174.07,322.242 1175.01,322.242 1175.95,322.242 1176.89,322.242 1177.83,322.242 1178.77,322.242 1179.71,322.242 \n",
       "  1180.66,322.242 1181.6,322.242 1182.54,322.242 1183.48,322.242 1184.42,322.242 1185.36,322.242 1186.3,322.242 1187.24,322.242 1188.18,322.242 1189.13,322.242 \n",
       "  1190.07,322.242 1191.01,322.242 1191.95,322.242 1192.89,322.242 1193.83,322.242 1194.77,322.242 1195.71,322.242 1196.65,322.242 1197.6,322.242 1198.54,322.242 \n",
       "  1199.48,322.242 1200.42,322.242 1201.36,322.242 1202.3,322.242 1203.24,322.242 1204.18,322.242 1205.12,322.242 1206.07,322.242 1207.01,322.242 1207.95,322.242 \n",
       "  1208.89,322.242 1209.83,322.242 1210.77,322.242 1211.71,322.242 1212.65,322.242 1213.59,322.242 1214.53,322.242 1215.48,322.242 1216.42,322.242 1217.36,322.242 \n",
       "  1218.3,322.242 1219.24,322.242 1220.18,322.242 1221.12,322.242 1222.06,322.242 1223,322.242 1223.95,322.242 1224.89,322.242 1225.83,322.242 1226.77,322.242 \n",
       "  1227.71,322.242 1228.65,322.242 1229.59,322.242 1230.53,322.242 1231.47,322.242 1232.42,322.242 1233.36,322.242 1234.3,322.242 1235.24,322.242 1236.18,322.242 \n",
       "  1237.12,322.242 1238.06,322.242 1239,322.242 1239.94,322.242 1240.89,322.242 1241.83,322.242 1242.77,322.242 1243.71,322.242 1244.65,322.242 1245.59,322.242 \n",
       "  1246.53,322.242 1247.47,322.242 1248.41,322.242 1249.36,322.242 1250.3,322.242 1251.24,322.242 1252.18,322.242 1253.12,322.242 1254.06,322.242 1255,322.242 \n",
       "  1255.94,322.242 1256.88,322.242 1257.82,322.242 1258.77,322.242 1259.71,322.242 1260.65,322.242 1261.59,322.242 1262.53,322.242 1263.47,322.242 1264.41,322.242 \n",
       "  1265.35,322.242 1266.29,322.242 1267.24,322.242 1268.18,322.242 1269.12,322.242 1270.06,322.242 1271,322.242 1271.94,322.242 1272.88,322.242 1273.82,322.242 \n",
       "  1274.76,322.242 1275.71,322.242 1276.65,322.242 1277.59,322.242 1278.53,322.242 1279.47,322.242 1280.41,322.242 1281.35,322.242 1282.29,322.242 1283.23,322.242 \n",
       "  1284.18,322.242 1285.12,322.242 1286.06,322.242 1287,322.242 1287.94,322.242 1288.88,322.242 1289.82,322.242 1290.76,322.242 1291.7,322.242 1292.64,322.242 \n",
       "  1293.59,322.242 1294.53,322.242 1295.47,322.242 1296.41,322.242 1297.35,322.242 1298.29,322.242 1299.23,322.242 1300.17,322.242 1301.11,322.242 1302.06,322.242 \n",
       "  1303,322.242 1303.94,322.242 1304.88,322.242 1305.82,322.242 1306.76,322.242 1307.7,322.242 1308.64,322.242 1309.58,322.242 1310.53,322.242 1311.47,322.242 \n",
       "  1312.41,322.242 1313.35,322.242 1314.29,322.242 1315.23,322.242 1316.17,322.242 1317.11,322.242 1318.05,322.242 1319,322.242 1319.94,322.242 1320.88,322.242 \n",
       "  1321.82,322.242 1322.76,322.242 1323.7,322.242 1324.64,322.242 1325.58,322.242 1326.52,322.242 1327.47,322.242 1328.41,322.242 1329.35,322.242 1330.29,322.242 \n",
       "  1331.23,322.242 1332.17,322.242 1333.11,322.242 1334.05,322.242 1334.99,322.242 1335.93,322.242 1336.88,322.242 1337.82,322.242 1338.76,322.242 1339.7,322.242 \n",
       "  1340.64,322.242 1341.58,322.242 1342.52,322.242 1343.46,322.242 1344.4,322.242 1345.35,322.242 1346.29,322.242 1347.23,322.242 1348.17,322.242 1349.11,322.242 \n",
       "  1350.05,322.242 1350.99,322.242 1351.93,322.242 1352.87,322.242 1353.82,322.242 1354.76,322.242 1355.7,322.242 1356.64,322.242 1357.58,322.242 1358.52,322.242 \n",
       "  1359.46,322.242 1360.4,322.242 1361.34,322.242 1362.29,322.242 1363.23,322.242 1364.17,322.242 1365.11,322.242 1366.05,322.242 1366.99,322.242 1367.93,322.242 \n",
       "  1368.87,322.242 1369.81,322.242 1370.75,322.242 1371.7,322.242 1372.64,322.242 1373.58,322.242 1374.52,322.242 1375.46,322.242 1376.4,322.242 1377.34,322.242 \n",
       "  1378.28,322.242 1379.22,322.242 1380.17,322.242 1381.11,322.242 1382.05,322.242 1382.99,322.242 1383.93,322.242 1384.87,322.242 1385.81,322.242 1386.75,322.242 \n",
       "  1387.69,322.242 1388.64,322.242 1389.58,322.242 1390.52,322.242 1391.46,322.242 1392.4,322.242 1393.34,322.242 1394.28,322.242 1395.22,322.242 1396.16,322.242 \n",
       "  1397.11,322.242 1398.05,322.242 1398.99,322.242 1399.93,322.242 1400.87,322.242 1401.81,322.242 1402.75,322.242 1403.69,322.242 1404.63,322.242 1405.57,322.242 \n",
       "  1406.52,322.242 1407.46,322.242 1408.4,322.242 1409.34,322.242 1410.28,322.242 1411.22,322.242 1412.16,322.242 1413.1,322.242 1414.04,322.242 1414.99,322.242 \n",
       "  1415.93,322.242 1416.87,322.242 1417.81,322.242 1418.75,322.242 1419.69,322.242 1420.63,322.242 1421.57,322.242 1422.51,322.242 1423.46,322.242 1424.4,322.242 \n",
       "  1425.34,322.242 1426.28,322.242 1427.22,322.242 1428.16,322.242 1429.1,322.242 1430.04,322.242 1430.98,322.242 1431.93,322.242 1432.87,322.242 1433.81,322.242 \n",
       "  1434.75,322.242 1435.69,322.242 1436.63,322.242 1437.57,322.242 1438.51,322.242 1439.45,322.242 1440.4,322.242 1441.34,322.242 1442.28,322.242 1443.22,322.242 \n",
       "  1444.16,322.242 1445.1,322.242 1446.04,322.242 1446.98,322.242 1447.92,322.242 1448.86,322.242 1449.81,322.242 1450.75,322.242 1451.69,322.242 1452.63,322.242 \n",
       "  1453.57,322.242 1454.51,322.242 1455.45,322.242 1456.39,322.242 1457.33,322.242 1458.28,322.242 1459.22,322.242 1460.16,322.242 1461.1,322.242 1462.04,322.242 \n",
       "  1462.98,322.242 1463.92,322.242 1464.86,322.242 1465.8,322.242 1466.75,322.242 1467.69,322.242 1468.63,322.242 1469.57,322.242 1470.51,322.242 1471.45,322.242 \n",
       "  1472.39,322.242 1473.33,322.242 1474.27,322.242 1475.22,322.242 1476.16,322.242 1477.1,322.242 1478.04,322.242 1478.98,322.242 1479.92,322.242 1480.86,322.242 \n",
       "  1481.8,322.242 1482.74,322.242 1483.68,322.242 1484.63,322.242 1485.57,322.242 1486.51,322.242 1487.45,322.242 1488.39,322.242 1489.33,322.242 1490.27,322.242 \n",
       "  1491.21,322.242 1492.15,322.242 1493.1,322.242 1494.04,322.242 1494.98,322.242 1495.92,322.242 1496.86,322.242 1497.8,322.242 1498.74,322.242 1499.68,322.242 \n",
       "  1500.62,322.242 1501.57,322.242 1502.51,322.242 1503.45,322.242 1504.39,322.242 1505.33,322.242 1506.27,322.242 1507.21,322.242 1508.15,322.242 1509.09,322.242 \n",
       "  1510.04,322.242 1510.98,322.242 1511.92,322.242 1512.86,322.242 1513.8,322.242 1514.74,322.242 1515.68,322.242 1516.62,322.242 1517.56,322.242 1518.51,322.242 \n",
       "  1519.45,322.242 1520.39,322.242 1521.33,322.242 1522.27,322.242 1523.21,322.242 1524.15,322.242 1525.09,322.242 1526.03,322.242 1526.97,322.242 1527.92,322.242 \n",
       "  1528.86,322.242 1529.8,322.242 1530.74,322.242 1531.68,322.242 1532.62,322.242 1533.56,322.242 1534.5,322.242 1535.44,322.242 1536.39,322.242 1537.33,322.242 \n",
       "  1538.27,322.242 1539.21,322.242 1540.15,322.242 1541.09,322.242 1542.03,322.242 1542.97,322.242 1543.91,322.242 1544.86,322.242 1545.8,322.242 1546.74,322.242 \n",
       "  1547.68,322.242 1548.62,322.242 1549.56,322.242 1550.5,322.242 1551.44,322.242 1552.38,322.242 1553.33,322.242 1554.27,322.242 1555.21,322.242 1556.15,322.242 \n",
       "  1557.09,322.242 1558.03,322.242 1558.97,322.242 1559.91,322.242 1560.85,322.242 1561.79,322.242 1562.74,322.242 1563.68,322.242 1564.62,322.242 1565.56,322.242 \n",
       "  1566.5,322.242 1567.44,322.242 1568.38,322.242 1569.32,322.242 1570.26,322.242 1571.21,322.242 1572.15,322.242 1573.09,322.242 1574.03,322.242 1574.97,322.242 \n",
       "  1575.91,322.242 1576.85,322.242 1577.79,322.242 1578.73,322.242 1579.68,322.242 1580.62,322.242 1581.56,322.242 1582.5,322.242 1583.44,322.242 1584.38,322.242 \n",
       "  1585.32,322.242 1586.26,322.242 1587.2,322.242 1588.15,322.242 1589.09,322.242 1590.03,322.242 1590.97,322.242 1591.91,322.242 1592.85,322.242 1593.79,322.242 \n",
       "  1594.73,322.242 1595.67,322.242 1596.61,322.242 1597.56,322.242 1598.5,322.242 1599.44,322.242 1600.38,322.242 1601.32,322.242 1602.26,322.242 1603.2,322.242 \n",
       "  1604.14,322.242 1605.08,322.242 1606.03,322.242 1606.97,322.242 1607.91,322.242 1608.85,322.242 1609.79,322.242 1610.73,322.242 1611.67,322.242 1612.61,322.242 \n",
       "  1613.55,322.242 1614.5,322.242 1615.44,322.242 1616.38,322.242 1617.32,322.242 1618.26,322.242 1619.2,322.242 1620.14,322.242 1621.08,322.242 1622.02,322.242 \n",
       "  1622.97,322.242 1623.91,322.242 1624.85,322.242 1625.79,322.242 1626.73,322.242 1627.67,322.242 1628.61,322.242 1629.55,322.242 1630.49,322.242 1631.44,322.242 \n",
       "  1632.38,322.242 1633.32,322.242 1634.26,322.242 1635.2,322.242 1636.14,322.242 1637.08,322.242 1638.02,322.242 1638.96,322.242 1639.9,322.242 1640.85,322.242 \n",
       "  1641.79,322.242 1642.73,322.242 1643.67,322.242 1644.61,322.242 1645.55,322.242 1646.49,322.242 1647.43,322.242 1648.37,322.242 1649.32,322.242 1650.26,322.242 \n",
       "  1651.2,322.242 1652.14,322.242 1653.08,322.242 1654.02,322.242 1654.96,322.242 1655.9,322.242 1656.84,322.242 1657.79,322.242 1658.73,322.242 1659.67,322.242 \n",
       "  1660.61,322.242 1661.55,322.242 1662.49,322.242 1663.43,322.242 1664.37,322.242 1665.31,322.242 1666.26,322.242 1667.2,322.242 1668.14,322.242 1669.08,322.242 \n",
       "  1670.02,322.242 1670.96,322.242 1671.9,322.242 1672.84,322.242 1673.78,322.242 1674.72,322.242 1675.67,322.242 1676.61,322.242 1677.55,322.242 1678.49,322.242 \n",
       "  1679.43,322.242 1680.37,322.242 1681.31,322.242 1682.25,322.242 1683.19,322.242 1684.14,322.242 1685.08,322.242 1686.02,322.242 1686.96,322.242 1687.9,322.242 \n",
       "  1688.84,322.25 1689.78,322.276 1690.72,322.323 1691.66,322.39 1692.61,322.477 1693.55,322.584 1694.49,322.711 1695.43,322.858 1696.37,323.025 1697.31,323.212 \n",
       "  1698.25,323.418 1699.19,323.645 1700.13,323.892 1701.08,324.158 1702.02,324.445 1702.96,324.751 1703.9,325.077 1704.84,325.422 1705.78,325.788 1706.72,326.173 \n",
       "  1707.66,326.578 1708.6,327.003 1709.55,327.447 1710.49,327.91 1711.43,328.394 1712.37,328.896 1713.31,329.419 1714.25,329.96 1715.19,330.521 1716.13,331.101 \n",
       "  1717.07,331.701 1718.01,332.319 1718.96,332.957 1719.9,333.614 1720.84,334.29 1721.78,334.985 1722.72,335.699 1723.66,336.431 1724.6,337.183 1725.54,337.953 \n",
       "  1726.48,338.742 1727.43,339.549 1728.37,340.375 1729.31,341.22 1730.25,342.083 1731.19,342.964 1732.13,343.863 1733.07,344.781 1734.01,345.717 1734.95,346.67 \n",
       "  1735.9,347.642 1736.84,348.631 1737.78,349.638 1738.72,350.663 1739.66,351.706 1740.6,352.766 1741.54,353.843 1742.48,354.938 1743.42,356.05 1744.37,357.179 \n",
       "  1745.31,358.325 1746.25,359.488 1747.19,360.668 1748.13,361.865 1749.07,363.079 1750.01,364.309 1750.95,365.555 1751.89,366.818 1752.83,368.098 1753.78,369.393 \n",
       "  1754.72,370.704 1755.66,372.032 1756.6,373.375 1757.54,374.734 1758.48,376.109 1759.42,377.499 1760.36,378.905 1761.3,380.326 1762.25,381.762 1763.19,383.214 \n",
       "  1764.13,384.68 1765.07,386.161 1766.01,387.657 1766.95,389.168 1767.89,390.693 1768.83,392.232 1769.77,393.786 1770.72,395.354 1771.66,396.937 1772.6,398.533 \n",
       "  1773.54,400.143 1774.48,401.766 1775.42,403.404 1776.36,405.054 1777.3,406.718 1778.24,408.396 1779.19,410.086 1780.13,411.79 1781.07,413.506 1782.01,415.235 \n",
       "  1782.95,416.977 1783.89,418.731 1784.83,420.498 1785.77,422.276 1786.71,424.067 1787.65,425.87 1788.6,427.685 1789.54,429.512 1790.48,431.35 1791.42,433.2 \n",
       "  1792.36,435.061 1793.3,436.933 1794.24,438.817 1795.18,440.712 1796.12,442.617 1797.07,444.533 1798.01,446.46 1798.95,448.398 1799.89,450.345 1800.83,452.304 \n",
       "  1801.77,454.272 1802.71,456.25 1803.65,458.238 1804.59,460.236 1805.54,462.244 1806.48,464.261 1807.42,466.287 1808.36,468.323 1809.3,470.368 1810.24,472.422 \n",
       "  1811.18,474.485 1812.12,476.557 1813.06,478.637 1814.01,480.726 1814.95,482.823 1815.89,484.929 1816.83,487.043 1817.77,489.165 1818.71,491.295 1819.65,493.433 \n",
       "  1820.59,495.578 1821.53,497.731 1822.48,499.892 1823.42,502.06 1824.36,504.235 1825.3,506.418 1826.24,508.608 1827.18,510.804 1828.12,513.007 1829.06,515.217 \n",
       "  1830,517.434 1830.94,519.657 1831.89,521.887 1832.83,524.122 1833.77,526.364 1834.71,528.612 1835.65,530.866 1836.59,533.126 1837.53,535.392 1838.47,537.663 \n",
       "  1839.41,539.94 1840.36,542.222 1841.3,544.51 1842.24,546.803 1843.18,549.101 1844.12,551.404 1845.06,553.712 1846,556.025 1846.94,558.342 1847.88,560.665 \n",
       "  1848.83,562.992 1849.77,565.323 1850.71,567.659 1851.65,569.999 1852.59,572.344 1853.53,574.692 1854.47,577.045 1855.41,579.401 1856.35,581.762 1857.3,584.126 \n",
       "  1858.24,586.494 1859.18,588.866 1860.12,591.241 1861.06,593.619 1862,596.001 1862.94,598.387 1863.88,600.775 1864.82,603.167 1865.76,605.562 1866.71,607.96 \n",
       "  1867.65,610.361 1868.59,612.764 1869.53,615.171 1870.47,617.58 1871.41,619.992 1872.35,622.407 1873.29,624.824 1874.23,627.243 1875.18,629.665 1876.12,632.09 \n",
       "  1877.06,634.516 1878,636.945 1878.94,639.376 1879.88,641.809 1880.82,644.245 1881.76,646.682 1882.7,649.121 1883.65,651.562 1884.59,654.005 1885.53,656.449 \n",
       "  1886.47,658.896 1887.41,661.344 1888.35,663.793 1889.29,666.244 1890.23,668.697 1891.17,671.151 1892.12,673.607 1893.06,676.064 1894,678.522 1894.94,680.981 \n",
       "  1895.88,683.442 1896.82,685.904 1897.76,688.367 1898.7,690.831 1899.64,693.297 1900.59,695.763 1901.53,698.23 1902.47,700.699 1903.41,703.168 1904.35,705.638 \n",
       "  1905.29,708.109 1906.23,710.58 1907.17,713.052 1908.11,715.526 1909.05,717.999 1910,720.474 1910.94,722.949 1911.88,725.424 1912.82,727.9 1913.76,730.377 \n",
       "  1914.7,732.854 1915.64,735.332 1916.58,737.81 1917.52,740.288 1918.47,742.767 1919.41,745.245 1920.35,747.725 1921.29,750.204 1922.23,752.684 1923.17,755.164 \n",
       "  1924.11,757.644 1925.05,760.124 1925.99,762.604 1926.94,765.084 1927.88,766.846 1928.82,766.846 1929.76,766.846 1930.7,766.846 1931.64,766.846 1932.58,766.846 \n",
       "  1933.52,766.846 1934.46,766.846 1935.41,766.846 1936.35,766.846 1937.29,766.846 1938.23,766.846 1939.17,766.846 1940.11,766.846 1941.05,766.846 1941.99,766.846 \n",
       "  1942.93,766.846 1943.87,766.846 1944.82,766.846 1945.76,766.846 1946.7,766.846 1947.64,766.846 1948.58,766.846 1949.52,766.846 1950.46,766.846 1951.4,766.846 \n",
       "  1952.34,766.846 1953.29,766.846 1954.23,766.846 1955.17,766.846 1956.11,766.846 1957.05,766.846 1957.99,766.846 1958.93,766.846 1959.87,766.846 1960.81,766.846 \n",
       "  1961.76,766.846 1962.7,766.846 1963.64,766.846 1964.58,766.846 1965.52,766.846 1966.46,766.846 1967.4,766.846 1968.34,766.846 1969.28,766.846 1970.23,766.846 \n",
       "  1971.17,766.846 1972.11,766.846 1973.05,766.846 1973.99,766.846 1974.93,766.846 1975.87,766.846 1976.81,766.846 1977.75,766.846 1978.69,766.846 1979.64,766.846 \n",
       "  1980.58,766.846 1981.52,766.846 1982.46,766.846 1983.4,766.846 1984.34,766.846 1985.28,766.846 1986.22,766.846 1987.16,766.846 1988.11,766.846 1989.05,766.846 \n",
       "  1989.99,766.846 1990.93,766.846 1991.87,766.846 1992.81,766.846 1993.75,766.846 1994.69,766.846 1995.63,766.846 1996.58,766.846 1997.52,766.846 1998.46,766.846 \n",
       "  1999.4,766.846 2000.34,766.846 2001.28,766.846 2002.22,766.846 2003.16,766.846 2004.1,766.846 2005.05,766.846 2005.99,766.846 2006.93,766.846 2007.87,766.846 \n",
       "  2008.81,766.846 2009.75,766.846 2010.69,766.846 2011.63,766.846 2012.57,766.846 2013.52,766.846 2014.46,766.846 2015.4,766.846 2016.34,766.846 2017.28,766.846 \n",
       "  2018.22,766.846 2019.16,766.846 2020.1,766.846 2021.04,766.846 2021.98,766.846 2022.93,766.846 2023.87,766.846 2024.81,766.846 2025.75,766.846 2026.69,766.846 \n",
       "  2027.63,766.846 2028.57,766.846 2029.51,766.846 2030.45,766.846 2031.4,766.846 2032.34,766.846 2033.28,766.846 2034.22,766.846 2035.16,766.846 2036.1,766.846 \n",
       "  2037.04,766.846 2037.98,766.846 2038.92,766.846 2039.87,766.846 2040.81,766.846 2041.75,766.846 2042.69,766.846 2043.63,766.846 2044.57,766.846 2045.51,766.846 \n",
       "  2046.45,766.846 2047.39,766.846 2048.34,766.846 2049.28,766.846 2050.22,766.846 2051.16,766.846 2052.1,766.846 2053.04,766.846 2053.98,766.846 2054.92,766.846 \n",
       "  2055.86,766.846 2056.8,766.846 2057.75,766.846 2058.69,766.846 2059.63,766.846 2060.57,766.846 2061.51,766.846 2062.45,766.846 2063.39,766.846 2064.33,766.846 \n",
       "  2065.27,766.846 2066.22,766.846 2067.16,766.846 2068.1,766.846 2069.04,766.846 2069.98,766.846 2070.92,766.846 2071.86,766.846 2072.8,766.846 2073.74,766.846 \n",
       "  2074.69,766.846 2075.63,766.846 2076.57,766.846 2077.51,766.846 2078.45,766.846 2079.39,766.846 2080.33,766.846 2081.27,766.846 2082.21,766.846 2083.16,766.846 \n",
       "  2084.1,766.846 2085.04,766.846 2085.98,766.846 2086.92,766.846 2087.86,766.846 2088.8,766.846 2089.74,766.846 2090.68,766.846 2091.63,766.846 2092.57,766.846 \n",
       "  2093.51,766.846 2094.45,766.846 2095.39,766.846 2096.33,766.846 2097.27,766.846 2098.21,766.846 2099.15,766.846 2100.09,766.846 2101.04,766.846 2101.98,766.846 \n",
       "  2102.92,766.846 2103.86,766.846 2104.8,766.846 2105.74,766.846 2106.68,766.846 2107.62,766.846 2108.56,766.846 2109.51,766.846 2110.45,766.846 2111.39,766.846 \n",
       "  2112.33,766.846 2113.27,766.846 2114.21,766.846 2115.15,766.846 2116.09,766.846 2117.03,766.846 2117.98,766.846 2118.92,766.846 2119.86,766.846 2120.8,766.846 \n",
       "  2121.74,766.846 2122.68,766.846 2123.62,766.846 2124.56,766.846 2125.5,766.846 2126.45,766.846 2127.39,766.846 2128.33,766.846 2129.27,766.846 2130.21,766.846 \n",
       "  2131.15,766.846 2132.09,766.846 2133.03,766.846 2133.97,766.846 2134.91,766.846 2135.86,766.846 2136.8,766.846 2137.74,766.846 2138.68,766.846 2139.62,766.846 \n",
       "  2140.56,766.846 2141.5,766.846 2142.44,766.846 2143.38,766.846 2144.33,766.846 2145.27,766.846 2146.21,766.846 2147.15,766.846 2148.09,766.846 2149.03,766.846 \n",
       "  2149.97,766.846 2150.91,766.846 2151.85,766.846 2152.8,766.846 2153.74,766.846 2154.68,766.846 2155.62,766.846 2156.56,766.846 2157.5,766.846 2158.44,766.846 \n",
       "  2159.38,766.846 2160.32,766.846 2161.27,766.846 2162.21,766.846 2163.15,766.846 2164.09,766.846 2165.03,766.846 2165.97,766.846 2166.91,766.846 2167.85,766.846 \n",
       "  2168.79,766.846 2169.73,766.846 2170.68,766.846 2171.62,766.846 2172.56,766.846 2173.5,766.846 2174.44,766.846 2175.38,766.846 2176.32,766.846 2177.26,766.846 \n",
       "  2178.2,766.846 2179.15,766.846 2180.09,766.846 2181.03,766.846 2181.97,766.846 2182.91,766.846 2183.85,766.846 2184.79,766.846 2185.73,766.846 2186.67,766.846 \n",
       "  2187.62,766.846 2188.56,766.846 2189.5,766.846 2190.44,766.846 2191.38,766.846 2192.32,766.846 2193.26,766.846 2194.2,766.846 2195.14,766.846 2196.09,766.846 \n",
       "  \n",
       "  \"/>\n",
       "<polyline clip-path=\"url(#clip992)\" style=\"stroke:#ff0000; stroke-linecap:round; stroke-linejoin:round; stroke-width:8; stroke-opacity:1; fill:none\" stroke-dasharray=\"32, 20\" points=\"\n",
       "  314.859,766.846 315.8,766.846 316.741,766.846 317.682,766.846 318.623,766.846 319.564,766.846 320.505,766.846 321.447,766.846 322.388,766.846 323.329,766.846 \n",
       "  324.27,766.846 325.211,766.846 326.152,766.846 327.093,766.846 328.034,766.846 328.975,766.846 329.916,766.846 330.857,766.846 331.798,766.846 332.74,766.846 \n",
       "  333.681,766.846 334.622,766.846 335.563,766.846 336.504,766.846 337.445,766.846 338.386,766.846 339.327,766.846 340.268,766.846 341.209,766.846 342.15,766.846 \n",
       "  343.091,766.846 344.033,766.846 344.974,766.846 345.915,766.846 346.856,766.846 347.797,766.846 348.738,766.846 349.679,766.846 350.62,766.846 351.561,766.846 \n",
       "  352.502,766.846 353.443,766.846 354.384,766.846 355.326,766.846 356.267,766.846 357.208,766.846 358.149,766.846 359.09,766.846 360.031,766.846 360.972,766.846 \n",
       "  361.913,766.846 362.854,766.846 363.795,766.846 364.736,766.846 365.678,766.846 366.619,766.846 367.56,766.846 368.501,766.846 369.442,766.846 370.383,766.846 \n",
       "  371.324,766.846 372.265,766.846 373.206,766.846 374.147,766.846 375.088,766.846 376.029,766.846 376.971,766.846 377.912,766.846 378.853,766.846 379.794,766.846 \n",
       "  380.735,766.846 381.676,766.846 382.617,766.846 383.558,766.846 384.499,766.846 385.44,766.846 386.381,766.846 387.322,766.846 388.264,766.846 389.205,766.846 \n",
       "  390.146,766.846 391.087,766.846 392.028,766.846 392.969,766.846 393.91,766.846 394.851,766.846 395.792,766.846 396.733,766.846 397.674,766.846 398.615,766.846 \n",
       "  399.557,766.846 400.498,766.846 401.439,766.846 402.38,766.846 403.321,766.846 404.262,766.846 405.203,766.846 406.144,766.846 407.085,766.846 408.026,766.846 \n",
       "  408.967,766.846 409.908,766.846 410.85,766.846 411.791,766.846 412.732,766.846 413.673,766.846 414.614,766.846 415.555,766.846 416.496,766.846 417.437,766.846 \n",
       "  418.378,766.846 419.319,766.846 420.26,766.846 421.201,766.846 422.143,766.846 423.084,766.846 424.025,766.846 424.966,766.846 425.907,766.846 426.848,766.846 \n",
       "  427.789,766.846 428.73,766.846 429.671,766.846 430.612,766.846 431.553,766.846 432.494,766.846 433.436,766.846 434.377,766.846 435.318,766.846 436.259,766.846 \n",
       "  437.2,766.846 438.141,766.846 439.082,766.846 440.023,766.846 440.964,766.846 441.905,766.846 442.846,766.846 443.787,766.846 444.729,766.846 445.67,766.846 \n",
       "  446.611,766.846 447.552,766.846 448.493,766.846 449.434,766.846 450.375,766.846 451.316,766.846 452.257,766.846 453.198,766.846 454.139,766.846 455.08,766.846 \n",
       "  456.022,766.846 456.963,766.846 457.904,766.846 458.845,766.846 459.786,766.846 460.727,766.846 461.668,766.846 462.609,766.846 463.55,766.846 464.491,766.846 \n",
       "  465.432,766.846 466.373,766.846 467.315,766.846 468.256,766.846 469.197,766.846 470.138,766.846 471.079,766.846 472.02,766.846 472.961,766.846 473.902,766.846 \n",
       "  474.843,766.846 475.784,766.846 476.725,766.846 477.666,766.846 478.608,766.846 479.549,766.846 480.49,766.846 481.431,766.846 482.372,766.846 483.313,766.846 \n",
       "  484.254,766.846 485.195,766.846 486.136,766.846 487.077,766.846 488.018,766.846 488.959,766.846 489.901,766.846 490.842,766.846 491.783,766.846 492.724,766.846 \n",
       "  493.665,766.846 494.606,766.846 495.547,766.846 496.488,766.846 497.429,766.846 498.37,766.846 499.311,766.846 500.252,766.846 501.194,766.846 502.135,766.846 \n",
       "  503.076,766.846 504.017,766.846 504.958,766.846 505.899,766.846 506.84,766.846 507.781,766.846 508.722,766.846 509.663,766.846 510.604,766.846 511.545,766.846 \n",
       "  512.487,766.846 513.428,766.846 514.369,766.846 515.31,766.846 516.251,766.846 517.192,766.846 518.133,766.846 519.074,766.846 520.015,766.846 520.956,766.846 \n",
       "  521.897,766.846 522.838,766.846 523.78,766.846 524.721,766.846 525.662,766.846 526.603,766.846 527.544,766.846 528.485,766.846 529.426,766.846 530.367,766.846 \n",
       "  531.308,766.846 532.249,766.846 533.19,766.846 534.131,766.846 535.073,766.846 536.014,766.846 536.955,766.846 537.896,766.846 538.837,766.846 539.778,766.846 \n",
       "  540.719,766.846 541.66,766.846 542.601,766.846 543.542,766.846 544.483,766.846 545.424,766.846 546.366,766.846 547.307,766.846 548.248,766.846 549.189,766.846 \n",
       "  550.13,766.846 551.071,766.846 552.012,766.846 552.953,766.846 553.894,766.846 554.835,766.846 555.776,766.846 556.717,766.846 557.659,766.846 558.6,766.846 \n",
       "  559.541,766.846 560.482,766.846 561.423,766.846 562.364,766.846 563.305,766.846 564.246,766.846 565.187,766.846 566.128,766.846 567.069,766.846 568.01,766.846 \n",
       "  568.952,766.846 569.893,766.846 570.834,766.846 571.775,766.846 572.716,766.846 573.657,766.846 574.598,766.846 575.539,766.846 576.48,766.846 577.421,766.846 \n",
       "  578.362,766.846 579.304,766.846 580.245,766.846 581.186,766.846 582.127,766.846 583.068,766.846 584.009,768.608 584.95,771.088 585.891,773.568 586.832,776.048 \n",
       "  587.773,778.528 588.714,781.008 589.655,783.488 590.597,785.967 591.538,788.446 592.479,790.925 593.42,793.404 594.361,795.882 595.302,798.36 596.243,800.838 \n",
       "  597.184,803.315 598.125,805.792 599.066,808.268 600.007,810.743 600.948,813.218 601.89,815.693 602.831,818.166 603.772,820.639 604.713,823.112 605.654,825.583 \n",
       "  606.595,828.054 607.536,830.524 608.477,832.993 609.418,835.462 610.359,837.929 611.3,840.395 612.241,842.861 613.183,845.325 614.124,847.788 615.065,850.25 \n",
       "  616.006,852.711 616.947,855.17 617.888,857.628 618.829,860.085 619.77,862.541 620.711,864.995 621.652,867.448 622.593,869.899 623.534,872.348 624.476,874.796 \n",
       "  625.417,877.243 626.358,879.687 627.299,882.13 628.24,884.571 629.181,887.01 630.122,889.447 631.063,891.883 632.004,894.316 632.945,896.747 633.886,899.176 \n",
       "  634.827,901.602 635.769,904.027 636.71,906.449 637.651,908.868 638.592,911.285 639.533,913.7 640.474,916.112 641.415,918.521 642.356,920.928 643.297,923.331 \n",
       "  644.238,925.732 645.179,928.13 646.12,930.525 647.062,932.917 648.003,935.305 648.944,937.691 649.885,940.073 650.826,942.451 651.767,944.826 652.708,947.198 \n",
       "  653.649,949.566 654.59,951.93 655.531,954.291 656.472,956.647 657.413,959 658.355,961.348 659.296,963.693 660.237,966.033 661.178,968.369 662.119,970.7 \n",
       "  663.06,973.027 664.001,975.35 664.942,977.667 665.883,979.98 666.824,982.288 667.765,984.591 668.706,986.889 669.648,989.182 670.589,991.47 671.53,993.752 \n",
       "  672.471,996.029 673.412,998.3 674.353,1000.57 675.294,1002.83 676.235,1005.08 677.176,1007.33 678.117,1009.57 679.058,1011.81 679.999,1014.03 680.941,1016.26 \n",
       "  681.882,1018.47 682.823,1020.68 683.764,1022.89 684.705,1025.08 685.646,1027.27 686.587,1029.46 687.528,1031.63 688.469,1033.8 689.41,1035.96 690.351,1038.11 \n",
       "  691.292,1040.26 692.234,1042.4 693.175,1044.53 694.116,1046.65 695.057,1048.76 695.998,1050.87 696.939,1052.97 697.88,1055.06 698.821,1057.14 699.762,1059.21 \n",
       "  700.703,1061.27 701.644,1063.32 702.585,1065.37 703.527,1067.4 704.468,1069.43 705.409,1071.45 706.35,1073.46 707.291,1075.45 708.232,1077.44 709.173,1079.42 \n",
       "  710.114,1081.39 711.055,1083.35 711.996,1085.29 712.937,1087.23 713.878,1089.16 714.82,1091.07 715.761,1092.98 716.702,1094.87 717.643,1096.76 718.584,1098.63 \n",
       "  719.525,1100.49 720.466,1102.34 721.407,1104.18 722.348,1106.01 723.289,1107.82 724.23,1109.62 725.171,1111.42 726.113,1113.19 727.054,1114.96 727.995,1116.72 \n",
       "  728.936,1118.46 729.877,1120.19 730.818,1121.9 731.759,1123.61 732.7,1125.3 733.641,1126.97 734.582,1128.64 735.523,1130.29 736.464,1131.93 737.406,1133.55 \n",
       "  738.347,1135.16 739.288,1136.76 740.229,1138.34 741.17,1139.91 742.111,1141.46 743.052,1143 743.993,1144.52 744.934,1146.03 745.875,1147.53 746.816,1149.01 \n",
       "  747.757,1150.48 748.699,1151.93 749.64,1153.37 750.581,1154.79 751.522,1156.19 752.463,1157.58 753.404,1158.96 754.345,1160.32 755.286,1161.66 756.227,1162.99 \n",
       "  757.168,1164.3 758.109,1165.59 759.05,1166.87 759.992,1168.14 760.933,1169.38 761.874,1170.61 762.815,1171.83 763.756,1173.02 764.697,1174.2 765.638,1175.37 \n",
       "  766.579,1176.51 767.52,1177.64 768.461,1178.75 769.402,1179.85 770.343,1180.93 771.285,1181.99 772.226,1183.03 773.167,1184.05 774.108,1185.06 775.049,1186.05 \n",
       "  775.99,1187.02 776.931,1187.98 777.872,1188.91 778.813,1189.83 779.754,1190.73 780.695,1191.61 781.636,1192.47 782.578,1193.32 783.519,1194.14 784.46,1194.95 \n",
       "  785.401,1195.74 786.342,1196.51 787.283,1197.26 788.224,1197.99 789.165,1198.71 790.106,1199.4 791.047,1200.08 791.988,1200.73 792.93,1201.37 793.871,1201.99 \n",
       "  794.812,1202.59 795.753,1203.17 796.694,1203.73 797.635,1204.27 798.576,1204.8 799.517,1205.3 800.458,1205.78 801.399,1206.25 802.34,1206.69 803.281,1207.11 \n",
       "  804.223,1207.52 805.164,1207.9 806.105,1208.27 807.046,1208.62 807.987,1208.94 808.928,1209.25 809.869,1209.53 810.81,1209.8 811.751,1210.05 812.692,1210.27 \n",
       "  813.633,1210.48 814.574,1210.67 815.516,1210.83 816.457,1210.98 817.398,1211.11 818.339,1211.21 819.28,1211.3 820.221,1211.37 821.162,1211.42 822.103,1211.44 \n",
       "  823.044,1211.45 823.985,1211.45 824.926,1211.45 825.867,1211.45 826.809,1211.45 827.75,1211.45 828.691,1211.45 829.632,1211.45 830.573,1211.45 831.514,1211.45 \n",
       "  832.455,1211.45 833.396,1211.45 834.337,1211.45 835.278,1211.45 836.219,1211.45 837.16,1211.45 838.102,1211.45 839.043,1211.45 839.984,1211.45 840.925,1211.45 \n",
       "  841.866,1211.45 842.807,1211.45 843.748,1211.45 844.689,1211.45 845.63,1211.45 846.571,1211.45 847.512,1211.45 848.453,1211.45 849.395,1211.45 850.336,1211.45 \n",
       "  851.277,1211.45 852.218,1211.45 853.159,1211.45 854.1,1211.45 855.041,1211.45 855.982,1211.45 856.923,1211.45 857.864,1211.45 858.805,1211.45 859.746,1211.45 \n",
       "  860.688,1211.45 861.629,1211.45 862.57,1211.45 863.511,1211.45 864.452,1211.45 865.393,1211.45 866.334,1211.45 867.275,1211.45 868.216,1211.45 869.157,1211.45 \n",
       "  870.098,1211.45 871.039,1211.45 871.981,1211.45 872.922,1211.45 873.863,1211.45 874.804,1211.45 875.745,1211.45 876.686,1211.45 877.627,1211.45 878.568,1211.45 \n",
       "  879.509,1211.45 880.45,1211.45 881.391,1211.45 882.332,1211.45 883.274,1211.45 884.215,1211.45 885.156,1211.45 886.097,1211.45 887.038,1211.45 887.979,1211.45 \n",
       "  888.92,1211.45 889.861,1211.45 890.802,1211.45 891.743,1211.45 892.684,1211.45 893.625,1211.45 894.567,1211.45 895.508,1211.45 896.449,1211.45 897.39,1211.45 \n",
       "  898.331,1211.45 899.272,1211.45 900.213,1211.45 901.154,1211.45 902.095,1211.45 903.036,1211.45 903.977,1211.45 904.918,1211.45 905.86,1211.45 906.801,1211.45 \n",
       "  907.742,1211.45 908.683,1211.45 909.624,1211.45 910.565,1211.45 911.506,1211.45 912.447,1211.45 913.388,1211.45 914.329,1211.45 915.27,1211.45 916.211,1211.45 \n",
       "  917.153,1211.45 918.094,1211.45 919.035,1211.45 919.976,1211.45 920.917,1211.45 921.858,1211.45 922.799,1211.45 923.74,1211.45 924.681,1211.45 925.622,1211.45 \n",
       "  926.563,1211.45 927.504,1211.45 928.446,1211.45 929.387,1211.45 930.328,1211.45 931.269,1211.45 932.21,1211.45 933.151,1211.45 934.092,1211.45 935.033,1211.45 \n",
       "  935.974,1211.45 936.915,1211.45 937.856,1211.45 938.797,1211.45 939.739,1211.45 940.68,1211.45 941.621,1211.45 942.562,1211.45 943.503,1211.45 944.444,1211.45 \n",
       "  945.385,1211.45 946.326,1211.45 947.267,1211.45 948.208,1211.45 949.149,1211.45 950.09,1211.45 951.032,1211.45 951.973,1211.45 952.914,1211.45 953.855,1211.45 \n",
       "  954.796,1211.45 955.737,1211.45 956.678,1211.45 957.619,1211.45 958.56,1211.45 959.501,1211.45 960.442,1211.45 961.383,1211.45 962.325,1211.45 963.266,1211.45 \n",
       "  964.207,1211.45 965.148,1211.45 966.089,1211.45 967.03,1211.45 967.971,1211.45 968.912,1211.45 969.853,1211.45 970.794,1211.45 971.735,1211.45 972.676,1211.45 \n",
       "  973.618,1211.45 974.559,1211.45 975.5,1211.45 976.441,1211.45 977.382,1211.45 978.323,1211.45 979.264,1211.45 980.205,1211.45 981.146,1211.45 982.087,1211.45 \n",
       "  983.028,1211.45 983.969,1211.45 984.911,1211.45 985.852,1211.45 986.793,1211.45 987.734,1211.45 988.675,1211.45 989.616,1211.45 990.557,1211.45 991.498,1211.45 \n",
       "  992.439,1211.45 993.38,1211.45 994.321,1211.45 995.262,1211.45 996.204,1211.45 997.145,1211.45 998.086,1211.45 999.027,1211.45 999.968,1211.45 1000.91,1211.45 \n",
       "  1001.85,1211.45 1002.79,1211.45 1003.73,1211.45 1004.67,1211.45 1005.61,1211.45 1006.56,1211.45 1007.5,1211.45 1008.44,1211.45 1009.38,1211.45 1010.32,1211.45 \n",
       "  1011.26,1211.45 1012.2,1211.45 1013.14,1211.45 1014.08,1211.45 1015.03,1211.45 1015.97,1211.45 1016.91,1211.45 1017.85,1211.45 1018.79,1211.45 1019.73,1211.45 \n",
       "  1020.67,1211.45 1021.61,1211.45 1022.55,1211.45 1023.5,1211.45 1024.44,1211.45 1025.38,1211.45 1026.32,1211.45 1027.26,1211.45 1028.2,1211.45 1029.14,1211.45 \n",
       "  1030.08,1211.45 1031.02,1211.45 1031.96,1211.45 1032.91,1211.45 1033.85,1211.45 1034.79,1211.45 1035.73,1211.45 1036.67,1211.45 1037.61,1211.45 1038.55,1211.45 \n",
       "  1039.49,1211.45 1040.43,1211.45 1041.38,1211.45 1042.32,1211.45 1043.26,1211.45 1044.2,1211.45 1045.14,1211.45 1046.08,1211.45 1047.02,1211.45 1047.96,1211.45 \n",
       "  1048.9,1211.45 1049.85,1211.45 1050.79,1211.45 1051.73,1211.45 1052.67,1211.45 1053.61,1211.45 1054.55,1211.45 1055.49,1211.45 1056.43,1211.45 1057.37,1211.45 \n",
       "  1058.32,1211.45 1059.26,1211.45 1060.2,1211.45 1061.14,1211.45 1062.08,1211.45 1063.02,1211.45 1063.96,1211.45 1064.9,1211.45 1065.84,1211.45 1066.78,1211.45 \n",
       "  1067.73,1211.45 1068.67,1211.45 1069.61,1211.45 1070.55,1211.45 1071.49,1211.45 1072.43,1211.45 1073.37,1211.45 1074.31,1211.45 1075.25,1211.45 1076.2,1211.45 \n",
       "  1077.14,1211.45 1078.08,1211.45 1079.02,1211.45 1079.96,1211.45 1080.9,1211.45 1081.84,1211.45 1082.78,1211.45 1083.72,1211.45 1084.67,1211.45 1085.61,1211.45 \n",
       "  1086.55,1211.45 1087.49,1211.45 1088.43,1211.45 1089.37,1211.45 1090.31,1211.45 1091.25,1211.45 1092.19,1211.45 1093.14,1211.45 1094.08,1211.45 1095.02,1211.45 \n",
       "  1095.96,1211.45 1096.9,1211.45 1097.84,1211.45 1098.78,1211.45 1099.72,1211.45 1100.66,1211.45 1101.6,1211.45 1102.55,1211.45 1103.49,1211.45 1104.43,1211.45 \n",
       "  1105.37,1211.45 1106.31,1211.45 1107.25,1211.45 1108.19,1211.45 1109.13,1211.45 1110.07,1211.45 1111.02,1211.45 1111.96,1211.45 1112.9,1211.45 1113.84,1211.45 \n",
       "  1114.78,1211.45 1115.72,1211.45 1116.66,1211.45 1117.6,1211.45 1118.54,1211.45 1119.49,1211.45 1120.43,1211.45 1121.37,1211.45 1122.31,1211.45 1123.25,1211.45 \n",
       "  1124.19,1211.45 1125.13,1211.45 1126.07,1211.45 1127.01,1211.45 1127.96,1211.45 1128.9,1211.45 1129.84,1211.45 1130.78,1211.45 1131.72,1211.45 1132.66,1211.45 \n",
       "  1133.6,1211.45 1134.54,1211.45 1135.48,1211.45 1136.43,1211.45 1137.37,1211.45 1138.31,1211.45 1139.25,1211.45 1140.19,1211.45 1141.13,1211.45 1142.07,1211.45 \n",
       "  1143.01,1211.45 1143.95,1211.45 1144.89,1211.45 1145.84,1211.45 1146.78,1211.45 1147.72,1211.45 1148.66,1211.45 1149.6,1211.45 1150.54,1211.45 1151.48,1211.45 \n",
       "  1152.42,1211.45 1153.36,1211.45 1154.31,1211.45 1155.25,1211.45 1156.19,1211.45 1157.13,1211.45 1158.07,1211.45 1159.01,1211.45 1159.95,1211.45 1160.89,1211.45 \n",
       "  1161.83,1211.45 1162.78,1211.45 1163.72,1211.45 1164.66,1211.45 1165.6,1211.45 1166.54,1211.45 1167.48,1211.45 1168.42,1211.45 1169.36,1211.45 1170.3,1211.45 \n",
       "  1171.25,1211.45 1172.19,1211.45 1173.13,1211.45 1174.07,1211.45 1175.01,1211.45 1175.95,1211.45 1176.89,1211.45 1177.83,1211.45 1178.77,1211.45 1179.71,1211.45 \n",
       "  1180.66,1211.45 1181.6,1211.45 1182.54,1211.45 1183.48,1211.45 1184.42,1211.45 1185.36,1211.45 1186.3,1211.45 1187.24,1211.45 1188.18,1211.45 1189.13,1211.45 \n",
       "  1190.07,1211.45 1191.01,1211.45 1191.95,1211.45 1192.89,1211.45 1193.83,1211.45 1194.77,1211.45 1195.71,1211.45 1196.65,1211.45 1197.6,1211.45 1198.54,1211.45 \n",
       "  1199.48,1211.45 1200.42,1211.45 1201.36,1211.45 1202.3,1211.45 1203.24,1211.45 1204.18,1211.45 1205.12,1211.45 1206.07,1211.45 1207.01,1211.45 1207.95,1211.45 \n",
       "  1208.89,1211.45 1209.83,1211.45 1210.77,1211.45 1211.71,1211.45 1212.65,1211.45 1213.59,1211.45 1214.53,1211.45 1215.48,1211.45 1216.42,1211.45 1217.36,1211.45 \n",
       "  1218.3,1211.45 1219.24,1211.45 1220.18,1211.45 1221.12,1211.45 1222.06,1211.45 1223,1211.45 1223.95,1211.45 1224.89,1211.45 1225.83,1211.45 1226.77,1211.45 \n",
       "  1227.71,1211.45 1228.65,1211.45 1229.59,1211.45 1230.53,1211.45 1231.47,1211.45 1232.42,1211.45 1233.36,1211.45 1234.3,1211.45 1235.24,1211.45 1236.18,1211.45 \n",
       "  1237.12,1211.45 1238.06,1211.45 1239,1211.45 1239.94,1211.45 1240.89,1211.45 1241.83,1211.45 1242.77,1211.45 1243.71,1211.45 1244.65,1211.45 1245.59,1211.45 \n",
       "  1246.53,1211.45 1247.47,1211.45 1248.41,1211.45 1249.36,1211.45 1250.3,1211.45 1251.24,1211.45 1252.18,1211.45 1253.12,1211.45 1254.06,1211.45 1255,1211.45 \n",
       "  1255.94,1211.45 1256.88,1211.45 1257.82,1211.45 1258.77,1211.45 1259.71,1211.45 1260.65,1211.45 1261.59,1211.45 1262.53,1211.45 1263.47,1211.45 1264.41,1211.45 \n",
       "  1265.35,1211.45 1266.29,1211.45 1267.24,1211.45 1268.18,1211.45 1269.12,1211.45 1270.06,1211.45 1271,1211.45 1271.94,1211.45 1272.88,1211.45 1273.82,1211.45 \n",
       "  1274.76,1211.45 1275.71,1211.45 1276.65,1211.45 1277.59,1211.45 1278.53,1211.45 1279.47,1211.45 1280.41,1211.45 1281.35,1211.45 1282.29,1211.45 1283.23,1211.45 \n",
       "  1284.18,1211.45 1285.12,1211.45 1286.06,1211.45 1287,1211.45 1287.94,1211.45 1288.88,1211.45 1289.82,1211.45 1290.76,1211.45 1291.7,1211.45 1292.64,1211.45 \n",
       "  1293.59,1211.45 1294.53,1211.45 1295.47,1211.45 1296.41,1211.45 1297.35,1211.45 1298.29,1211.45 1299.23,1211.45 1300.17,1211.45 1301.11,1211.45 1302.06,1211.45 \n",
       "  1303,1211.45 1303.94,1211.45 1304.88,1211.45 1305.82,1211.45 1306.76,1211.45 1307.7,1211.45 1308.64,1211.45 1309.58,1211.45 1310.53,1211.45 1311.47,1211.45 \n",
       "  1312.41,1211.45 1313.35,1211.45 1314.29,1211.45 1315.23,1211.45 1316.17,1211.45 1317.11,1211.45 1318.05,1211.45 1319,1211.45 1319.94,1211.45 1320.88,1211.45 \n",
       "  1321.82,1211.45 1322.76,1211.45 1323.7,1211.45 1324.64,1211.45 1325.58,1211.45 1326.52,1211.45 1327.47,1211.45 1328.41,1211.45 1329.35,1211.45 1330.29,1211.45 \n",
       "  1331.23,1211.45 1332.17,1211.45 1333.11,1211.45 1334.05,1211.45 1334.99,1211.45 1335.93,1211.45 1336.88,1211.45 1337.82,1211.45 1338.76,1211.45 1339.7,1211.45 \n",
       "  1340.64,1211.45 1341.58,1211.45 1342.52,1211.45 1343.46,1211.45 1344.4,1211.45 1345.35,1211.45 1346.29,1211.45 1347.23,1211.45 1348.17,1211.45 1349.11,1211.45 \n",
       "  1350.05,1211.45 1350.99,1211.45 1351.93,1211.45 1352.87,1211.45 1353.82,1211.45 1354.76,1211.45 1355.7,1211.45 1356.64,1211.45 1357.58,1211.45 1358.52,1211.45 \n",
       "  1359.46,1211.45 1360.4,1211.45 1361.34,1211.45 1362.29,1211.45 1363.23,1211.45 1364.17,1211.45 1365.11,1211.45 1366.05,1211.45 1366.99,1211.45 1367.93,1211.45 \n",
       "  1368.87,1211.45 1369.81,1211.45 1370.75,1211.45 1371.7,1211.45 1372.64,1211.45 1373.58,1211.45 1374.52,1211.45 1375.46,1211.45 1376.4,1211.45 1377.34,1211.45 \n",
       "  1378.28,1211.45 1379.22,1211.45 1380.17,1211.45 1381.11,1211.45 1382.05,1211.45 1382.99,1211.45 1383.93,1211.45 1384.87,1211.45 1385.81,1211.45 1386.75,1211.45 \n",
       "  1387.69,1211.45 1388.64,1211.45 1389.58,1211.45 1390.52,1211.45 1391.46,1211.45 1392.4,1211.45 1393.34,1211.45 1394.28,1211.45 1395.22,1211.45 1396.16,1211.45 \n",
       "  1397.11,1211.45 1398.05,1211.45 1398.99,1211.45 1399.93,1211.45 1400.87,1211.45 1401.81,1211.45 1402.75,1211.45 1403.69,1211.45 1404.63,1211.45 1405.57,1211.45 \n",
       "  1406.52,1211.45 1407.46,1211.45 1408.4,1211.45 1409.34,1211.45 1410.28,1211.45 1411.22,1211.45 1412.16,1211.45 1413.1,1211.45 1414.04,1211.45 1414.99,1211.45 \n",
       "  1415.93,1211.45 1416.87,1211.45 1417.81,1211.45 1418.75,1211.45 1419.69,1211.45 1420.63,1211.45 1421.57,1211.45 1422.51,1211.45 1423.46,1211.45 1424.4,1211.45 \n",
       "  1425.34,1211.45 1426.28,1211.45 1427.22,1211.45 1428.16,1211.45 1429.1,1211.45 1430.04,1211.45 1430.98,1211.45 1431.93,1211.45 1432.87,1211.45 1433.81,1211.45 \n",
       "  1434.75,1211.45 1435.69,1211.45 1436.63,1211.45 1437.57,1211.45 1438.51,1211.45 1439.45,1211.45 1440.4,1211.45 1441.34,1211.45 1442.28,1211.45 1443.22,1211.45 \n",
       "  1444.16,1211.45 1445.1,1211.45 1446.04,1211.45 1446.98,1211.45 1447.92,1211.45 1448.86,1211.45 1449.81,1211.45 1450.75,1211.45 1451.69,1211.45 1452.63,1211.45 \n",
       "  1453.57,1211.45 1454.51,1211.45 1455.45,1211.45 1456.39,1211.45 1457.33,1211.45 1458.28,1211.45 1459.22,1211.45 1460.16,1211.45 1461.1,1211.45 1462.04,1211.45 \n",
       "  1462.98,1211.45 1463.92,1211.45 1464.86,1211.45 1465.8,1211.45 1466.75,1211.45 1467.69,1211.45 1468.63,1211.45 1469.57,1211.45 1470.51,1211.45 1471.45,1211.45 \n",
       "  1472.39,1211.45 1473.33,1211.45 1474.27,1211.45 1475.22,1211.45 1476.16,1211.45 1477.1,1211.45 1478.04,1211.45 1478.98,1211.45 1479.92,1211.45 1480.86,1211.45 \n",
       "  1481.8,1211.45 1482.74,1211.45 1483.68,1211.45 1484.63,1211.45 1485.57,1211.45 1486.51,1211.45 1487.45,1211.45 1488.39,1211.45 1489.33,1211.45 1490.27,1211.45 \n",
       "  1491.21,1211.45 1492.15,1211.45 1493.1,1211.45 1494.04,1211.45 1494.98,1211.45 1495.92,1211.45 1496.86,1211.45 1497.8,1211.45 1498.74,1211.45 1499.68,1211.45 \n",
       "  1500.62,1211.45 1501.57,1211.45 1502.51,1211.45 1503.45,1211.45 1504.39,1211.45 1505.33,1211.45 1506.27,1211.45 1507.21,1211.45 1508.15,1211.45 1509.09,1211.45 \n",
       "  1510.04,1211.45 1510.98,1211.45 1511.92,1211.45 1512.86,1211.45 1513.8,1211.45 1514.74,1211.45 1515.68,1211.45 1516.62,1211.45 1517.56,1211.45 1518.51,1211.45 \n",
       "  1519.45,1211.45 1520.39,1211.45 1521.33,1211.45 1522.27,1211.45 1523.21,1211.45 1524.15,1211.45 1525.09,1211.45 1526.03,1211.45 1526.97,1211.45 1527.92,1211.45 \n",
       "  1528.86,1211.45 1529.8,1211.45 1530.74,1211.45 1531.68,1211.45 1532.62,1211.45 1533.56,1211.45 1534.5,1211.45 1535.44,1211.45 1536.39,1211.45 1537.33,1211.45 \n",
       "  1538.27,1211.45 1539.21,1211.45 1540.15,1211.45 1541.09,1211.45 1542.03,1211.45 1542.97,1211.45 1543.91,1211.45 1544.86,1211.45 1545.8,1211.45 1546.74,1211.45 \n",
       "  1547.68,1211.45 1548.62,1211.45 1549.56,1211.45 1550.5,1211.45 1551.44,1211.45 1552.38,1211.45 1553.33,1211.45 1554.27,1211.45 1555.21,1211.45 1556.15,1211.45 \n",
       "  1557.09,1211.45 1558.03,1211.45 1558.97,1211.45 1559.91,1211.45 1560.85,1211.45 1561.79,1211.45 1562.74,1211.45 1563.68,1211.45 1564.62,1211.45 1565.56,1211.45 \n",
       "  1566.5,1211.45 1567.44,1211.45 1568.38,1211.45 1569.32,1211.45 1570.26,1211.45 1571.21,1211.45 1572.15,1211.45 1573.09,1211.45 1574.03,1211.45 1574.97,1211.45 \n",
       "  1575.91,1211.45 1576.85,1211.45 1577.79,1211.45 1578.73,1211.45 1579.68,1211.45 1580.62,1211.45 1581.56,1211.45 1582.5,1211.45 1583.44,1211.45 1584.38,1211.45 \n",
       "  1585.32,1211.45 1586.26,1211.45 1587.2,1211.45 1588.15,1211.45 1589.09,1211.45 1590.03,1211.45 1590.97,1211.45 1591.91,1211.45 1592.85,1211.45 1593.79,1211.45 \n",
       "  1594.73,1211.45 1595.67,1211.45 1596.61,1211.45 1597.56,1211.45 1598.5,1211.45 1599.44,1211.45 1600.38,1211.45 1601.32,1211.45 1602.26,1211.45 1603.2,1211.45 \n",
       "  1604.14,1211.45 1605.08,1211.45 1606.03,1211.45 1606.97,1211.45 1607.91,1211.45 1608.85,1211.45 1609.79,1211.45 1610.73,1211.45 1611.67,1211.45 1612.61,1211.45 \n",
       "  1613.55,1211.45 1614.5,1211.45 1615.44,1211.45 1616.38,1211.45 1617.32,1211.45 1618.26,1211.45 1619.2,1211.45 1620.14,1211.45 1621.08,1211.45 1622.02,1211.45 \n",
       "  1622.97,1211.45 1623.91,1211.45 1624.85,1211.45 1625.79,1211.45 1626.73,1211.45 1627.67,1211.45 1628.61,1211.45 1629.55,1211.45 1630.49,1211.45 1631.44,1211.45 \n",
       "  1632.38,1211.45 1633.32,1211.45 1634.26,1211.45 1635.2,1211.45 1636.14,1211.45 1637.08,1211.45 1638.02,1211.45 1638.96,1211.45 1639.9,1211.45 1640.85,1211.45 \n",
       "  1641.79,1211.45 1642.73,1211.45 1643.67,1211.45 1644.61,1211.45 1645.55,1211.45 1646.49,1211.45 1647.43,1211.45 1648.37,1211.45 1649.32,1211.45 1650.26,1211.45 \n",
       "  1651.2,1211.45 1652.14,1211.45 1653.08,1211.45 1654.02,1211.45 1654.96,1211.45 1655.9,1211.45 1656.84,1211.45 1657.79,1211.45 1658.73,1211.45 1659.67,1211.45 \n",
       "  1660.61,1211.45 1661.55,1211.45 1662.49,1211.45 1663.43,1211.45 1664.37,1211.45 1665.31,1211.45 1666.26,1211.45 1667.2,1211.45 1668.14,1211.45 1669.08,1211.45 \n",
       "  1670.02,1211.45 1670.96,1211.45 1671.9,1211.45 1672.84,1211.45 1673.78,1211.45 1674.72,1211.45 1675.67,1211.45 1676.61,1211.45 1677.55,1211.45 1678.49,1211.45 \n",
       "  1679.43,1211.45 1680.37,1211.45 1681.31,1211.45 1682.25,1211.45 1683.19,1211.45 1684.14,1211.45 1685.08,1211.45 1686.02,1211.45 1686.96,1211.45 1687.9,1211.45 \n",
       "  1688.84,1211.44 1689.78,1211.42 1690.72,1211.37 1691.66,1211.3 1692.61,1211.21 1693.55,1211.11 1694.49,1210.98 1695.43,1210.83 1696.37,1210.67 1697.31,1210.48 \n",
       "  1698.25,1210.27 1699.19,1210.05 1700.13,1209.8 1701.08,1209.53 1702.02,1209.25 1702.96,1208.94 1703.9,1208.62 1704.84,1208.27 1705.78,1207.9 1706.72,1207.52 \n",
       "  1707.66,1207.11 1708.6,1206.69 1709.55,1206.25 1710.49,1205.78 1711.43,1205.3 1712.37,1204.8 1713.31,1204.27 1714.25,1203.73 1715.19,1203.17 1716.13,1202.59 \n",
       "  1717.07,1201.99 1718.01,1201.37 1718.96,1200.73 1719.9,1200.08 1720.84,1199.4 1721.78,1198.71 1722.72,1197.99 1723.66,1197.26 1724.6,1196.51 1725.54,1195.74 \n",
       "  1726.48,1194.95 1727.43,1194.14 1728.37,1193.32 1729.31,1192.47 1730.25,1191.61 1731.19,1190.73 1732.13,1189.83 1733.07,1188.91 1734.01,1187.98 1734.95,1187.02 \n",
       "  1735.9,1186.05 1736.84,1185.06 1737.78,1184.05 1738.72,1183.03 1739.66,1181.99 1740.6,1180.93 1741.54,1179.85 1742.48,1178.75 1743.42,1177.64 1744.37,1176.51 \n",
       "  1745.31,1175.37 1746.25,1174.2 1747.19,1173.02 1748.13,1171.83 1749.07,1170.61 1750.01,1169.38 1750.95,1168.14 1751.89,1166.87 1752.83,1165.59 1753.78,1164.3 \n",
       "  1754.72,1162.99 1755.66,1161.66 1756.6,1160.32 1757.54,1158.96 1758.48,1157.58 1759.42,1156.19 1760.36,1154.79 1761.3,1153.37 1762.25,1151.93 1763.19,1150.48 \n",
       "  1764.13,1149.01 1765.07,1147.53 1766.01,1146.03 1766.95,1144.52 1767.89,1143 1768.83,1141.46 1769.77,1139.91 1770.72,1138.34 1771.66,1136.76 1772.6,1135.16 \n",
       "  1773.54,1133.55 1774.48,1131.93 1775.42,1130.29 1776.36,1128.64 1777.3,1126.97 1778.24,1125.3 1779.19,1123.61 1780.13,1121.9 1781.07,1120.19 1782.01,1118.46 \n",
       "  1782.95,1116.72 1783.89,1114.96 1784.83,1113.19 1785.77,1111.42 1786.71,1109.62 1787.65,1107.82 1788.6,1106.01 1789.54,1104.18 1790.48,1102.34 1791.42,1100.49 \n",
       "  1792.36,1098.63 1793.3,1096.76 1794.24,1094.87 1795.18,1092.98 1796.12,1091.07 1797.07,1089.16 1798.01,1087.23 1798.95,1085.29 1799.89,1083.35 1800.83,1081.39 \n",
       "  1801.77,1079.42 1802.71,1077.44 1803.65,1075.45 1804.59,1073.46 1805.54,1071.45 1806.48,1069.43 1807.42,1067.4 1808.36,1065.37 1809.3,1063.32 1810.24,1061.27 \n",
       "  1811.18,1059.21 1812.12,1057.14 1813.06,1055.06 1814.01,1052.97 1814.95,1050.87 1815.89,1048.76 1816.83,1046.65 1817.77,1044.53 1818.71,1042.4 1819.65,1040.26 \n",
       "  1820.59,1038.11 1821.53,1035.96 1822.48,1033.8 1823.42,1031.63 1824.36,1029.46 1825.3,1027.27 1826.24,1025.08 1827.18,1022.89 1828.12,1020.68 1829.06,1018.47 \n",
       "  1830,1016.26 1830.94,1014.03 1831.89,1011.81 1832.83,1009.57 1833.77,1007.33 1834.71,1005.08 1835.65,1002.83 1836.59,1000.57 1837.53,998.3 1838.47,996.029 \n",
       "  1839.41,993.752 1840.36,991.47 1841.3,989.182 1842.24,986.889 1843.18,984.591 1844.12,982.288 1845.06,979.98 1846,977.667 1846.94,975.35 1847.88,973.027 \n",
       "  1848.83,970.7 1849.77,968.369 1850.71,966.033 1851.65,963.693 1852.59,961.348 1853.53,959 1854.47,956.647 1855.41,954.291 1856.35,951.93 1857.3,949.566 \n",
       "  1858.24,947.198 1859.18,944.826 1860.12,942.451 1861.06,940.073 1862,937.691 1862.94,935.305 1863.88,932.917 1864.82,930.525 1865.76,928.13 1866.71,925.732 \n",
       "  1867.65,923.331 1868.59,920.928 1869.53,918.521 1870.47,916.112 1871.41,913.7 1872.35,911.285 1873.29,908.868 1874.23,906.449 1875.18,904.027 1876.12,901.602 \n",
       "  1877.06,899.176 1878,896.747 1878.94,894.316 1879.88,891.883 1880.82,889.447 1881.76,887.01 1882.7,884.571 1883.65,882.13 1884.59,879.687 1885.53,877.243 \n",
       "  1886.47,874.796 1887.41,872.348 1888.35,869.899 1889.29,867.448 1890.23,864.995 1891.17,862.541 1892.12,860.085 1893.06,857.628 1894,855.17 1894.94,852.711 \n",
       "  1895.88,850.25 1896.82,847.788 1897.76,845.325 1898.7,842.861 1899.64,840.395 1900.59,837.929 1901.53,835.462 1902.47,832.993 1903.41,830.524 1904.35,828.054 \n",
       "  1905.29,825.583 1906.23,823.112 1907.17,820.639 1908.11,818.166 1909.05,815.693 1910,813.218 1910.94,810.743 1911.88,808.268 1912.82,805.792 1913.76,803.315 \n",
       "  1914.7,800.838 1915.64,798.36 1916.58,795.882 1917.52,793.404 1918.47,790.925 1919.41,788.446 1920.35,785.967 1921.29,783.488 1922.23,781.008 1923.17,778.528 \n",
       "  1924.11,776.048 1925.05,773.568 1925.99,771.088 1926.94,768.608 1927.88,766.846 1928.82,766.846 1929.76,766.846 1930.7,766.846 1931.64,766.846 1932.58,766.846 \n",
       "  1933.52,766.846 1934.46,766.846 1935.41,766.846 1936.35,766.846 1937.29,766.846 1938.23,766.846 1939.17,766.846 1940.11,766.846 1941.05,766.846 1941.99,766.846 \n",
       "  1942.93,766.846 1943.87,766.846 1944.82,766.846 1945.76,766.846 1946.7,766.846 1947.64,766.846 1948.58,766.846 1949.52,766.846 1950.46,766.846 1951.4,766.846 \n",
       "  1952.34,766.846 1953.29,766.846 1954.23,766.846 1955.17,766.846 1956.11,766.846 1957.05,766.846 1957.99,766.846 1958.93,766.846 1959.87,766.846 1960.81,766.846 \n",
       "  1961.76,766.846 1962.7,766.846 1963.64,766.846 1964.58,766.846 1965.52,766.846 1966.46,766.846 1967.4,766.846 1968.34,766.846 1969.28,766.846 1970.23,766.846 \n",
       "  1971.17,766.846 1972.11,766.846 1973.05,766.846 1973.99,766.846 1974.93,766.846 1975.87,766.846 1976.81,766.846 1977.75,766.846 1978.69,766.846 1979.64,766.846 \n",
       "  1980.58,766.846 1981.52,766.846 1982.46,766.846 1983.4,766.846 1984.34,766.846 1985.28,766.846 1986.22,766.846 1987.16,766.846 1988.11,766.846 1989.05,766.846 \n",
       "  1989.99,766.846 1990.93,766.846 1991.87,766.846 1992.81,766.846 1993.75,766.846 1994.69,766.846 1995.63,766.846 1996.58,766.846 1997.52,766.846 1998.46,766.846 \n",
       "  1999.4,766.846 2000.34,766.846 2001.28,766.846 2002.22,766.846 2003.16,766.846 2004.1,766.846 2005.05,766.846 2005.99,766.846 2006.93,766.846 2007.87,766.846 \n",
       "  2008.81,766.846 2009.75,766.846 2010.69,766.846 2011.63,766.846 2012.57,766.846 2013.52,766.846 2014.46,766.846 2015.4,766.846 2016.34,766.846 2017.28,766.846 \n",
       "  2018.22,766.846 2019.16,766.846 2020.1,766.846 2021.04,766.846 2021.98,766.846 2022.93,766.846 2023.87,766.846 2024.81,766.846 2025.75,766.846 2026.69,766.846 \n",
       "  2027.63,766.846 2028.57,766.846 2029.51,766.846 2030.45,766.846 2031.4,766.846 2032.34,766.846 2033.28,766.846 2034.22,766.846 2035.16,766.846 2036.1,766.846 \n",
       "  2037.04,766.846 2037.98,766.846 2038.92,766.846 2039.87,766.846 2040.81,766.846 2041.75,766.846 2042.69,766.846 2043.63,766.846 2044.57,766.846 2045.51,766.846 \n",
       "  2046.45,766.846 2047.39,766.846 2048.34,766.846 2049.28,766.846 2050.22,766.846 2051.16,766.846 2052.1,766.846 2053.04,766.846 2053.98,766.846 2054.92,766.846 \n",
       "  2055.86,766.846 2056.8,766.846 2057.75,766.846 2058.69,766.846 2059.63,766.846 2060.57,766.846 2061.51,766.846 2062.45,766.846 2063.39,766.846 2064.33,766.846 \n",
       "  2065.27,766.846 2066.22,766.846 2067.16,766.846 2068.1,766.846 2069.04,766.846 2069.98,766.846 2070.92,766.846 2071.86,766.846 2072.8,766.846 2073.74,766.846 \n",
       "  2074.69,766.846 2075.63,766.846 2076.57,766.846 2077.51,766.846 2078.45,766.846 2079.39,766.846 2080.33,766.846 2081.27,766.846 2082.21,766.846 2083.16,766.846 \n",
       "  2084.1,766.846 2085.04,766.846 2085.98,766.846 2086.92,766.846 2087.86,766.846 2088.8,766.846 2089.74,766.846 2090.68,766.846 2091.63,766.846 2092.57,766.846 \n",
       "  2093.51,766.846 2094.45,766.846 2095.39,766.846 2096.33,766.846 2097.27,766.846 2098.21,766.846 2099.15,766.846 2100.09,766.846 2101.04,766.846 2101.98,766.846 \n",
       "  2102.92,766.846 2103.86,766.846 2104.8,766.846 2105.74,766.846 2106.68,766.846 2107.62,766.846 2108.56,766.846 2109.51,766.846 2110.45,766.846 2111.39,766.846 \n",
       "  2112.33,766.846 2113.27,766.846 2114.21,766.846 2115.15,766.846 2116.09,766.846 2117.03,766.846 2117.98,766.846 2118.92,766.846 2119.86,766.846 2120.8,766.846 \n",
       "  2121.74,766.846 2122.68,766.846 2123.62,766.846 2124.56,766.846 2125.5,766.846 2126.45,766.846 2127.39,766.846 2128.33,766.846 2129.27,766.846 2130.21,766.846 \n",
       "  2131.15,766.846 2132.09,766.846 2133.03,766.846 2133.97,766.846 2134.91,766.846 2135.86,766.846 2136.8,766.846 2137.74,766.846 2138.68,766.846 2139.62,766.846 \n",
       "  2140.56,766.846 2141.5,766.846 2142.44,766.846 2143.38,766.846 2144.33,766.846 2145.27,766.846 2146.21,766.846 2147.15,766.846 2148.09,766.846 2149.03,766.846 \n",
       "  2149.97,766.846 2150.91,766.846 2151.85,766.846 2152.8,766.846 2153.74,766.846 2154.68,766.846 2155.62,766.846 2156.56,766.846 2157.5,766.846 2158.44,766.846 \n",
       "  2159.38,766.846 2160.32,766.846 2161.27,766.846 2162.21,766.846 2163.15,766.846 2164.09,766.846 2165.03,766.846 2165.97,766.846 2166.91,766.846 2167.85,766.846 \n",
       "  2168.79,766.846 2169.73,766.846 2170.68,766.846 2171.62,766.846 2172.56,766.846 2173.5,766.846 2174.44,766.846 2175.38,766.846 2176.32,766.846 2177.26,766.846 \n",
       "  2178.2,766.846 2179.15,766.846 2180.09,766.846 2181.03,766.846 2181.97,766.846 2182.91,766.846 2183.85,766.846 2184.79,766.846 2185.73,766.846 2186.67,766.846 \n",
       "  2187.62,766.846 2188.56,766.846 2189.5,766.846 2190.44,766.846 2191.38,766.846 2192.32,766.846 2193.26,766.846 2194.2,766.846 2195.14,766.846 2196.09,766.846 \n",
       "  \n",
       "  \"/>\n",
       "<path clip-path=\"url(#clip990)\" d=\"\n",
       "M324.892 289.618 L810.809 289.618 L810.809 95.2176 L324.892 95.2176  Z\n",
       "  \" fill=\"#000000\" fill-rule=\"evenodd\" fill-opacity=\"0\"/>\n",
       "<polyline clip-path=\"url(#clip990)\" style=\"stroke:#000000; stroke-linecap:round; stroke-linejoin:round; stroke-width:4; stroke-opacity:0; fill:none\" points=\"\n",
       "  324.892,289.618 810.809,289.618 810.809,95.2176 324.892,95.2176 324.892,289.618 \n",
       "  \"/>\n",
       "<polyline clip-path=\"url(#clip990)\" style=\"stroke:#ff0000; stroke-linecap:round; stroke-linejoin:round; stroke-width:5; stroke-opacity:1; fill:none\" points=\"\n",
       "  347.049,160.018 479.989,160.018 \n",
       "  \"/>\n",
       "<path clip-path=\"url(#clip990)\" d=\"M507.99 143.221 L507.99 159.453 L515.34 159.453 Q519.42 159.453 521.648 157.341 Q523.876 155.229 523.876 151.323 Q523.876 147.445 521.648 145.333 Q519.42 143.221 515.34 143.221 L507.99 143.221 M502.146 138.418 L515.34 138.418 Q522.603 138.418 526.306 141.716 Q530.039 144.986 530.039 151.323 Q530.039 157.717 526.306 160.987 Q522.603 164.257 515.34 164.257 L507.99 164.257 L507.99 181.618 L502.146 181.618 L502.146 138.418 Z\" fill=\"#000000\" fill-rule=\"evenodd\" fill-opacity=\"1\" /><path clip-path=\"url(#clip990)\" d=\"M536.057 168.828 L536.057 149.21 L541.381 149.21 L541.381 168.626 Q541.381 173.226 543.175 175.541 Q544.969 177.827 548.557 177.827 Q552.869 177.827 555.357 175.078 Q557.874 172.329 557.874 167.584 L557.874 149.21 L563.198 149.21 L563.198 181.618 L557.874 181.618 L557.874 176.641 Q555.936 179.592 553.361 181.039 Q550.814 182.457 547.429 182.457 Q541.844 182.457 538.951 178.984 Q536.057 175.512 536.057 168.828 M549.454 148.429 L549.454 148.429 Z\" fill=\"#000000\" fill-rule=\"evenodd\" fill-opacity=\"1\" /><path clip-path=\"url(#clip990)\" d=\"M574.165 136.595 L579.489 136.595 L579.489 181.618 L574.165 181.618 L574.165 136.595 Z\" fill=\"#000000\" fill-rule=\"evenodd\" fill-opacity=\"1\" /><path clip-path=\"url(#clip990)\" d=\"M611.288 150.165 L611.288 155.2 Q609.032 154.042 606.601 153.464 Q604.17 152.885 601.566 152.885 Q597.602 152.885 595.606 154.1 Q593.638 155.316 593.638 157.746 Q593.638 159.598 595.056 160.669 Q596.474 161.71 600.756 162.665 L602.579 163.07 Q608.25 164.285 610.623 166.513 Q613.025 168.713 613.025 172.677 Q613.025 177.19 609.437 179.824 Q605.878 182.457 599.628 182.457 Q597.023 182.457 594.188 181.936 Q591.381 181.444 588.256 180.431 L588.256 174.934 Q591.208 176.467 594.072 177.248 Q596.937 178.001 599.743 178.001 Q603.505 178.001 605.53 176.728 Q607.556 175.425 607.556 173.082 Q607.556 170.912 606.08 169.754 Q604.633 168.597 599.686 167.526 L597.834 167.092 Q592.886 166.051 590.687 163.909 Q588.488 161.739 588.488 157.978 Q588.488 153.406 591.728 150.917 Q594.969 148.429 600.93 148.429 Q603.881 148.429 606.485 148.863 Q609.089 149.297 611.288 150.165 Z\" fill=\"#000000\" fill-rule=\"evenodd\" fill-opacity=\"1\" /><path clip-path=\"url(#clip990)\" d=\"M649.222 164.083 L649.222 166.687 L624.743 166.687 Q625.09 172.185 628.042 175.078 Q631.022 177.943 636.317 177.943 Q639.384 177.943 642.249 177.19 Q645.142 176.438 647.978 174.934 L647.978 179.968 Q645.113 181.184 642.104 181.82 Q639.095 182.457 635.999 182.457 Q628.244 182.457 623.702 177.943 Q619.188 173.429 619.188 165.732 Q619.188 157.775 623.47 153.117 Q627.781 148.429 635.073 148.429 Q641.612 148.429 645.403 152.654 Q649.222 156.849 649.222 164.083 M643.898 162.52 Q643.84 158.151 641.439 155.547 Q639.066 152.943 635.131 152.943 Q630.675 152.943 627.984 155.46 Q625.322 157.978 624.917 162.549 L643.898 162.52 Z\" fill=\"#000000\" fill-rule=\"evenodd\" fill-opacity=\"1\" /><polyline clip-path=\"url(#clip990)\" style=\"stroke:#ff0000; stroke-linecap:round; stroke-linejoin:round; stroke-width:5; stroke-opacity:1; fill:none\" stroke-dasharray=\"20, 13\" points=\"\n",
       "  347.049,224.818 479.989,224.818 \n",
       "  \"/>\n",
       "<path clip-path=\"url(#clip990)\" d=\"M502.146 203.218 L529.46 203.218 L529.46 208.137 L507.99 208.137 L507.99 220.926 L528.563 220.926 L528.563 225.845 L507.99 225.845 L507.99 241.499 L529.981 241.499 L529.981 246.418 L502.146 246.418 L502.146 203.218 Z\" fill=\"#000000\" fill-rule=\"evenodd\" fill-opacity=\"1\" /><path clip-path=\"url(#clip990)\" d=\"M566.294 226.857 L566.294 246.418 L560.97 246.418 L560.97 227.031 Q560.97 222.43 559.176 220.145 Q557.382 217.859 553.795 217.859 Q549.483 217.859 546.995 220.608 Q544.506 223.356 544.506 228.102 L544.506 246.418 L539.153 246.418 L539.153 214.01 L544.506 214.01 L544.506 219.045 Q546.416 216.123 548.991 214.676 Q551.595 213.229 554.981 213.229 Q560.565 213.229 563.43 216.701 Q566.294 220.145 566.294 226.857 Z\" fill=\"#000000\" fill-rule=\"evenodd\" fill-opacity=\"1\" /><path clip-path=\"url(#clip990)\" d=\"M573.094 214.01 L578.737 214.01 L588.864 241.209 L598.991 214.01 L604.633 214.01 L592.481 246.418 L585.247 246.418 L573.094 214.01 Z\" fill=\"#000000\" fill-rule=\"evenodd\" fill-opacity=\"1\" /><path clip-path=\"url(#clip990)\" d=\"M639.703 228.883 L639.703 231.487 L615.224 231.487 Q615.571 236.985 618.522 239.878 Q621.503 242.743 626.798 242.743 Q629.865 242.743 632.729 241.99 Q635.623 241.238 638.458 239.734 L638.458 244.768 Q635.594 245.984 632.585 246.62 Q629.575 247.257 626.479 247.257 Q618.725 247.257 614.182 242.743 Q609.668 238.229 609.668 230.532 Q609.668 222.575 613.95 217.917 Q618.262 213.229 625.553 213.229 Q632.093 213.229 635.883 217.454 Q639.703 221.649 639.703 228.883 M634.379 227.32 Q634.321 222.951 631.919 220.347 Q629.546 217.743 625.611 217.743 Q621.155 217.743 618.464 220.26 Q615.802 222.778 615.397 227.349 L634.379 227.32 Z\" fill=\"#000000\" fill-rule=\"evenodd\" fill-opacity=\"1\" /><path clip-path=\"url(#clip990)\" d=\"M648.441 201.395 L653.765 201.395 L653.765 246.418 L648.441 246.418 L648.441 201.395 Z\" fill=\"#000000\" fill-rule=\"evenodd\" fill-opacity=\"1\" /><path clip-path=\"url(#clip990)\" d=\"M677.463 217.743 Q673.18 217.743 670.692 221.099 Q668.204 224.427 668.204 230.243 Q668.204 236.059 670.663 239.415 Q673.152 242.743 677.463 242.743 Q681.716 242.743 684.205 239.386 Q686.693 236.03 686.693 230.243 Q686.693 224.485 684.205 221.128 Q681.716 217.743 677.463 217.743 M677.463 213.229 Q684.407 213.229 688.371 217.743 Q692.335 222.257 692.335 230.243 Q692.335 238.2 688.371 242.743 Q684.407 247.257 677.463 247.257 Q670.49 247.257 666.525 242.743 Q662.59 238.2 662.59 230.243 Q662.59 222.257 666.525 217.743 Q670.49 213.229 677.463 213.229 Z\" fill=\"#000000\" fill-rule=\"evenodd\" fill-opacity=\"1\" /><path clip-path=\"url(#clip990)\" d=\"M706.311 241.556 L706.311 258.744 L700.958 258.744 L700.958 214.01 L706.311 214.01 L706.311 218.929 Q707.989 216.036 710.536 214.647 Q713.111 213.229 716.67 213.229 Q722.573 213.229 726.247 217.917 Q729.951 222.604 729.951 230.243 Q729.951 237.882 726.247 242.569 Q722.573 247.257 716.67 247.257 Q713.111 247.257 710.536 245.868 Q707.989 244.45 706.311 241.556 M724.424 230.243 Q724.424 224.369 721.994 221.042 Q719.592 217.685 715.368 217.685 Q711.143 217.685 708.713 221.042 Q706.311 224.369 706.311 230.243 Q706.311 236.117 708.713 239.473 Q711.143 242.801 715.368 242.801 Q719.592 242.801 721.994 239.473 Q724.424 236.117 724.424 230.243 Z\" fill=\"#000000\" fill-rule=\"evenodd\" fill-opacity=\"1\" /><path clip-path=\"url(#clip990)\" d=\"M766.496 228.883 L766.496 231.487 L742.017 231.487 Q742.364 236.985 745.316 239.878 Q748.296 242.743 753.591 242.743 Q756.658 242.743 759.523 241.99 Q762.416 241.238 765.252 239.734 L765.252 244.768 Q762.387 245.984 759.378 246.62 Q756.369 247.257 753.273 247.257 Q745.518 247.257 740.975 242.743 Q736.461 238.229 736.461 230.532 Q736.461 222.575 740.744 217.917 Q745.055 213.229 752.347 213.229 Q758.886 213.229 762.677 217.454 Q766.496 221.649 766.496 228.883 M761.172 227.32 Q761.114 222.951 758.712 220.347 Q756.34 217.743 752.405 217.743 Q747.949 217.743 745.258 220.26 Q742.596 222.778 742.191 227.349 L761.172 227.32 Z\" fill=\"#000000\" fill-rule=\"evenodd\" fill-opacity=\"1\" /></svg>\n"
      ]
     },
     "metadata": {},
     "output_type": "display_data"
    }
   ],
   "source": [
    "tmp_p = copy(p_new)\n",
    "tmp_p[6] = 0\n",
    "# tmp_p[9] = 0\n",
    "tmp_p[5] = 0\n",
    "\n",
    "tmp_p2 = copy(p_new)\n",
    "tmp_p2[6] = 0\n",
    "# tmp_p2[9] = 0\n",
    "tmp_p2[5] = pi/2\n",
    "\n",
    "plt = plot(times,\n",
    "     [alpha(p_new,t) for t in times],\n",
    "     ylim=(0.6,1.01),\n",
    "     linewidth=2,\n",
    "     color=\"black\",label=nothing,\n",
    "     labelfontsize=20,ticklabelfontsize=20,\n",
    "      ylabel=L\"$\\alpha$\")\n",
    "\n",
    "plot!(twinx(),\n",
    "      [times[280:1720],times, times],\n",
    "      [[pulse(p_new,t) for t in times[280:1720]],\n",
    "       [sqrt(pulse(tmp_p,t)^2 + pulse(tmp_p2,t)^2) for t in times],\n",
    "       [-sqrt(pulse(tmp_p,t)^2 + pulse(tmp_p2,t)^2) for t in times]],\n",
    "      linewidth=2,\n",
    "      color=[:red :red :red],\n",
    "      ylim=(-2.5,2.5),\n",
    "      ls = [:solid :dash :dash],\n",
    "      label=[\"Pulse\" \"Envelope\" \"\"],\n",
    "      legend=:topleft,\n",
    "      background_color_legend = nothing,\n",
    "      foreground_color_legend = nothing,\n",
    "      legendfontsize=10,\n",
    "      labelfontsize=10,\n",
    "      ticklabelfontsize=20,\n",
    "      xlabel=L\"$t$ [ns]\")"
   ]
  },
  {
   "cell_type": "code",
   "execution_count": null,
   "metadata": {},
   "outputs": [],
   "source": []
  },
  {
   "cell_type": "code",
   "execution_count": 124,
   "metadata": {},
   "outputs": [
    {
     "data": {
      "text/plain": [
       "\"c:\\\\Users\\\\jv97\\\\github\\\\Quantum-Optimal-Control\\\\Production\\\\FastGate\\\\FastSwapGatePulse.png\""
      ]
     },
     "metadata": {},
     "output_type": "display_data"
    }
   ],
   "source": [
    "# savefig(plt,\"FastSwapGatePulse.png\")"
   ]
  },
  {
   "cell_type": "code",
   "execution_count": 82,
   "metadata": {},
   "outputs": [
    {
     "data": {
      "text/plain": [
       "283.42792589724627"
      ]
     },
     "metadata": {},
     "output_type": "display_data"
    }
   ],
   "source": [
    "limit_func_abs(p_new[2])/12*2000"
   ]
  },
  {
   "cell_type": "code",
   "execution_count": 51,
   "metadata": {},
   "outputs": [
    {
     "data": {
      "text/plain": [
       "(11.915729066780163, 0.9983094692769721)"
      ]
     },
     "metadata": {},
     "output_type": "display_data"
    }
   ],
   "source": [
    "get_T(p_new), 0.5 * (occs[end,1,2] + occs[end,2,1])"
   ]
  },
  {
   "cell_type": "code",
   "execution_count": 192,
   "metadata": {},
   "outputs": [
    {
     "data": {
      "text/plain": [
       "9-element Vector{Float64}:\n",
       " 3.858659226461246e-12\n",
       " 8.6282243323741e-12\n",
       " 3.3416969146626496e-12\n",
       " 0.0\n",
       " 0.0\n",
       " 0.0\n",
       " 0.0\n",
       " 0.0\n",
       " 0.0"
      ]
     },
     "metadata": {},
     "output_type": "display_data"
    }
   ],
   "source": [
    "real(tr(dLdT))*dTdp(p)"
   ]
  },
  {
   "cell_type": "code",
   "execution_count": 189,
   "metadata": {},
   "outputs": [
    {
     "data": {
      "text/plain": [
       "0.04760061503113408"
      ]
     },
     "metadata": {},
     "output_type": "display_data"
    }
   ],
   "source": [
    "dp = zeros(Float64,size(p))\n",
    "dp[1] = 1e-4\n",
    "res1 = f(p - dp)\n",
    "res2 = f(p + dp)"
   ]
  },
  {
   "cell_type": "code",
   "execution_count": 190,
   "metadata": {},
   "outputs": [
    {
     "data": {
      "text/plain": [
       "(-0.6874293750433121, -0.6868060220392537)"
      ]
     },
     "metadata": {},
     "output_type": "display_data"
    }
   ],
   "source": [
    "(res2 - res1)/(2*dp[1]), -0.6868060220392537"
   ]
  },
  {
   "cell_type": "code",
   "execution_count": 61,
   "metadata": {},
   "outputs": [
    {
     "data": {
      "text/plain": [
       "(0.0011102906094517806, 0.0011102195813677887)"
      ]
     },
     "metadata": {},
     "output_type": "display_data"
    }
   ],
   "source": [
    "(res2 - res1)/(2*dp[1]), 0.0011102195813677887"
   ]
  },
  {
   "cell_type": "code",
   "execution_count": 63,
   "metadata": {},
   "outputs": [
    {
     "data": {
      "text/plain": [
       "(-0.00014696657779644795, -0.0001487009444301983)"
      ]
     },
     "metadata": {},
     "output_type": "display_data"
    }
   ],
   "source": [
    "(res2 - res1)/(2*dp[2]), -0.0001487009444301983"
   ]
  },
  {
   "cell_type": "code",
   "execution_count": 65,
   "metadata": {},
   "outputs": [
    {
     "data": {
      "text/plain": [
       "(0.0012170017771317987, 0.001216524164690993)"
      ]
     },
     "metadata": {},
     "output_type": "display_data"
    }
   ],
   "source": [
    "(res2 - res1)/(2*dp[3]), 0.001216524164690993"
   ]
  }
 ],
 "metadata": {
  "kernelspec": {
   "display_name": "Julia 1.8.2",
   "language": "julia",
   "name": "julia-1.8"
  },
  "language_info": {
   "file_extension": ".jl",
   "mimetype": "application/julia",
   "name": "julia",
   "version": "1.8.2"
  },
  "orig_nbformat": 4,
  "vscode": {
   "interpreter": {
    "hash": "babb3d48d00b411cad3380fd983ba3264d4afc20254ee7a105a5601b2e0eddf5"
   }
  }
 },
 "nbformat": 4,
 "nbformat_minor": 2
}
