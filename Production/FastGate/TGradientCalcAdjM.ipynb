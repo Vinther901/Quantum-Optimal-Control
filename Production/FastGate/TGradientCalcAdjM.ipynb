{
 "cells": [
  {
   "cell_type": "code",
   "execution_count": 1,
   "metadata": {},
   "outputs": [],
   "source": [
    "using LinearAlgebra\n",
    "using Plots\n",
    "using SparseArrays\n",
    "using Arpack #Eigenvalues of sparse arrays with eigs()\n",
    "using DifferentialEquations\n",
    "# using DiffEqFlux\n",
    "using Optim\n",
    "using ForwardDiff\n",
    "using DelimitedFiles"
   ]
  },
  {
   "cell_type": "code",
   "execution_count": 3,
   "metadata": {},
   "outputs": [],
   "source": [
    "#Def parameters\n",
    "n_cutoff = 8\n",
    "N = 2 * n_cutoff + 1\n",
    "NHilbert = N^2\n",
    "n = sparse(Diagonal(LinRange(-n_cutoff, n_cutoff, N))) #Perhaps implement using StaticArrays\n",
    "Id = sparse(I, N, N)\n",
    "exp_iPhi = spdiagm(-1 => ones(N - 1));\n",
    "\n",
    "#Def Hamiltonian parameters\n",
    "E_J_GHz = 10.0 #scale of E_J in units of h*GHz, h-bar = 1, h = 2pi\n",
    "E_C = 1/100  #Charging energies\n",
    "E_J = 1.0 #Josephson energies\n",
    "phi_ext = 0.995pi\n",
    "\n",
    "prefactor = 4 * E_C\n",
    "Kinetic = 2pi * E_J_GHz * prefactor * (kron(n^2, Id) .+ kron(Id, n^2))\n",
    "\n",
    "Potential1 = -2pi * E_J_GHz * kron(1 / 2 * (exp_iPhi .+ exp_iPhi'), Id) # -E_J1 cos(phi1)\n",
    "Potential2 = -2pi * E_J_GHz * kron(Id, 1 / 2 * (exp_iPhi .+ exp_iPhi')) # -E_J2 cos(phi2)\n",
    "Pot3Mat = kron(exp_iPhi, exp_iPhi')\n",
    "Pot3Const = -2pi * E_J_GHz * E_J / 2\n",
    "\n",
    "function get_Pot3(Φ_ext = phi_ext)\n",
    "    M = exp(im * Φ_ext) * Pot3Mat\n",
    "    return Pot3Const .* (M + M')\n",
    "end\n",
    "\n",
    "function dPot3_dphi(Φ_ext = phi_ext)\n",
    "    M = exp(im * Φ_ext) * Pot3Mat\n",
    "    return (im * Pot3Const) .* (M - M')\n",
    "end\n",
    "\n",
    "Potential3 =  get_Pot3() #-E_J3 cos(phi1 - phi2 + phi_ext)\n",
    "Potential12 = E_J * (Potential1 + Potential2)\n",
    "KinPot12 = Kinetic + Potential12\n",
    "chargecoupling = kron(n, Id);"
   ]
  },
  {
   "cell_type": "code",
   "execution_count": 7,
   "metadata": {},
   "outputs": [
    {
     "data": {
      "text/plain": [
       "limit_func_abs (generic function with 1 method)"
      ]
     },
     "metadata": {},
     "output_type": "display_data"
    }
   ],
   "source": [
    "# function limit_func(param,pmin,pmax)\n",
    "#     if pmin < param < pmax\n",
    "#         return param\n",
    "#     elseif param <= pmin\n",
    "#         return pmin\n",
    "#     else\n",
    "#         return pmax\n",
    "#     end\n",
    "# end\n",
    "\n",
    "function limit_func(param,pmin,pmax)\n",
    "    (pmax - pmin) * (1/(1 + exp(-param))) + pmin\n",
    "end\n",
    "\n",
    "function inv_limit_func(param,pmin,pmax)\n",
    "    # -log( (pmax - pmin  + 2e-8) / (param - pmin + 1e-8) - 1)\n",
    "    -log( (pmax - pmin) / (param - pmin) - 1)\n",
    "end\n",
    "\n",
    "function limit_func_abs(param)\n",
    "    param^2\n",
    "end"
   ]
  },
  {
   "cell_type": "code",
   "execution_count": 171,
   "metadata": {},
   "outputs": [
    {
     "data": {
      "text/plain": [
       "dpulsedp (generic function with 1 method)"
      ]
     },
     "metadata": {},
     "output_type": "display_data"
    }
   ],
   "source": [
    "#[Tᵣ, Tₐ, Tₚ, αmin, ϕ, f, A, Φ_ext, λ]\n",
    "p = [2, 10, 6, 0.7, 0.5418, 0.9763*2.482542369189332, 1.01556/0.2949509890806259, 0.995pi, 0.05289]\n",
    "p[1] = sqrt(p[1])\n",
    "p[2] = sqrt(p[2])#inv_limit_func(p[2],0,15)\n",
    "p[3] = sqrt(p[3])\n",
    "p[4] = inv_limit_func(p[4],0.5,1)\n",
    "\n",
    "function alpha(p, t)\n",
    "    Tᵣ = limit_func_abs(p[1])\n",
    "    Tₐ = limit_func_abs(p[2])\n",
    "    Tₚ = limit_func_abs(p[3]) + 2*Tᵣ\n",
    "    αmin = limit_func(p[4],0.5,1)\n",
    "    abs_slope = (1 - αmin)/Tₐ\n",
    "    if t < Tₐ\n",
    "        return 1 - abs_slope * t\n",
    "    elseif t > Tₐ + Tₚ\n",
    "        return αmin + abs_slope * (t - Tₐ - Tₚ)\n",
    "    else\n",
    "        return αmin\n",
    "    end\n",
    "end\n",
    "\n",
    "dalphadp(p, t) = ForwardDiff.gradient(p̃ -> alpha(p̃,t), p)\n",
    "\n",
    "function envelopes!(E, Edot, Tᵣ, Tₐ, Tₚ, t)\n",
    "    if Tₐ < t < Tₐ + Tᵣ\n",
    "        arg = pi / 2 * (t - Tₐ) / Tᵣ\n",
    "        E *= sin(arg)^2\n",
    "        Edot *= 2*sin(arg)*cos(arg)*pi/(2*Tᵣ)\n",
    "    elseif Tₐ + Tᵣ <= t <= Tₐ + Tₚ - Tᵣ\n",
    "        E *= 1\n",
    "        Edot *= 0\n",
    "    elseif Tₐ + Tₚ - Tᵣ < t < Tₐ + Tₚ\n",
    "        arg = pi / 2 * (Tₐ + Tₚ - t) / Tᵣ\n",
    "        E *= sin(arg)^2\n",
    "        Edot *= 2*sin(arg)*cos(arg)*(-pi)/(2*Tᵣ)\n",
    "    else\n",
    "        E *= 0\n",
    "        Edot *= 0\n",
    "    end\n",
    "    return (E, Edot)\n",
    "end\n",
    "\n",
    "function pulse(p, t)\n",
    "    Tᵣ = limit_func_abs(p[1])\n",
    "    Tₐ = limit_func_abs(p[2])\n",
    "    Tₚ = limit_func_abs(p[3]) + 2*Tᵣ\n",
    "    # αmin = p[4]\n",
    "    ϕ = p[5]\n",
    "    f = p[6]\n",
    "    A = p[7]\n",
    "    # Φ_ext = limit_func(p[8],0.961pi,1.039pi)\n",
    "    λ = p[9]\n",
    "\n",
    "    amp = pi * A / (Tₚ - Tᵣ)\n",
    "    E = amp\n",
    "    Edot = copy(amp)\n",
    "    E, Edot = envelopes!(E, Edot, Tᵣ, Tₐ, Tₚ, t)\n",
    "    arg = f*(t - Tₐ) + ϕ\n",
    "    return E*cos(arg) + Edot*λ*sin(arg)\n",
    "end\n",
    "\n",
    "dpulsedp(p, t) = ForwardDiff.gradient(p̃ -> pulse(p̃, t), p)"
   ]
  },
  {
   "cell_type": "code",
   "execution_count": 172,
   "metadata": {},
   "outputs": [
    {
     "data": {
      "text/plain": [
       "b! (generic function with 1 method)"
      ]
     },
     "metadata": {},
     "output_type": "display_data"
    }
   ],
   "source": [
    "Es = eigvals(Matrix(KinPot12 + Potential3))\n",
    "ψs = eigvecs(Matrix(KinPot12 + Potential3))\n",
    "ψ0 = ψs[:,1:2]\n",
    "sizep = length(p);\n",
    "\n",
    "function f!(du, u, p, t)\n",
    "    x = u[:,1:2]\n",
    "    H = KinPot12 + alpha(p,t) .* Potential3 + pulse(p,t) .* chargecoupling\n",
    "\n",
    "    du[:,1:2] = -im .* (H * x)\n",
    "end\n",
    "\n",
    "function b!(du, u, p, t)\n",
    "    x = u[:,1:2]\n",
    "    λ = u[:,3:4]\n",
    "    ps = u[:,5]\n",
    "\n",
    "    miH = -im .* (KinPot12 + alpha(p,t) .* Potential3 + pulse(p,t) .* chargecoupling)\n",
    "\n",
    "    du[:,1:2] = miH * x\n",
    "    du[:,3:4] = miH * λ\n",
    "    \n",
    "    du[1:sizep,5] = (- real(im * tr(λ' * chargecoupling * x)) .* dpulsedp(p, t)\n",
    "                     - real(im * tr(λ' * Potential3 * x)) .* dalphadp(p,t))\n",
    "end"
   ]
  },
  {
   "cell_type": "code",
   "execution_count": 173,
   "metadata": {},
   "outputs": [
    {
     "data": {
      "text/plain": [
       "dTdp (generic function with 1 method)"
      ]
     },
     "metadata": {},
     "output_type": "display_data"
    }
   ],
   "source": [
    "function get_T(p)\n",
    "    Tᵣ = limit_func_abs(p[1])\n",
    "    Tₐ = limit_func_abs(p[2])\n",
    "    Tₚ = limit_func_abs(p[3]) + 2*Tᵣ\n",
    "    2*Tₐ + Tₚ\n",
    "end\n",
    "dTdp(p) = ForwardDiff.gradient(p̃ -> get_T(p̃), p)"
   ]
  },
  {
   "cell_type": "code",
   "execution_count": 183,
   "metadata": {},
   "outputs": [
    {
     "data": {
      "text/plain": [
       "b (generic function with 1 method)"
      ]
     },
     "metadata": {},
     "output_type": "display_data"
    }
   ],
   "source": [
    "function wT(L)\n",
    "    σ = 75e5\n",
    "    log(L)^4/σ\n",
    "end\n",
    "function dwTdL(L)\n",
    "    σ = 75e5\n",
    "    4* log(L)^3 /(σ*L)\n",
    "end\n",
    "\n",
    "function f(p)\n",
    "    T = get_T(p)\n",
    "\n",
    "    forward_prob = ODEProblem(f!, ψs[:,1:2], (0.0, T), p)\n",
    "    sol = solve(forward_prob, p=p, save_everystep=false, reltol=1e-12, abstol=1e-12)\n",
    "\n",
    "    UT = abs2.(ψs[:,1:2]'*sol.u[end])\n",
    "    L = 0.5 * (2 - UT[1,2] - UT[2,1])\n",
    "    return L + wT(L) * T#L, wT(L) * T\n",
    "end\n",
    "\n",
    "function b(p)\n",
    "    T = get_T(p)\n",
    "\n",
    "    forward_prob = ODEProblem(f!, ψs[:,1:2], (0.0, T), p)\n",
    "    sol_f = solve(forward_prob, p=p, save_everystep=false, reltol=1e-8, abstol=1e-8)\n",
    "\n",
    "    xT = sol_f.u[end][:,1:2]\n",
    "\n",
    "    UT = abs2.(ψs[:,1:2]'*xT)\n",
    "    L = 0.5 * (2 - UT[1,2] - UT[2,1])\n",
    "\n",
    "    λ = (1 + dwTdL(L) * T) .* cat(ψ0[:,2]*ψ0[:,2]'*xT[:,1],ψ0[:,1]*ψ0[:,1]'*xT[:,2],dims=2)\n",
    "\n",
    "    ps = zeros(289,1) #only 2*length(p) are possibly used\n",
    "    bu0 = cat(xT,λ,ps,dims=2)#cat(xT,ψT,λ,ϕ,ps,dims=2);\n",
    "\n",
    "    backward_prob = ODEProblem(b!, bu0, (T, 0.0), p)\n",
    "    sol_b = solve(backward_prob, p=p, save_everystep=false, reltol=1e-8, abstol=1e-8)\n",
    "    \n",
    "    grad = real(sol_b.u[end][1:sizep,5])\n",
    "    h̃ = -im .* ((KinPot12 + alpha(p, get_T(p)) .* Potential3 + pulse(p,get_T(p)) .* chargecoupling) * xT)\n",
    "\n",
    "    grad, - λ'*h̃, L\n",
    "end\n",
    "    # UT = abs2.(ψ0'*xT)\n",
    "    # infidelity = 0.5 * (2 - UT[1,2] - UT[2,1])\n",
    "\n",
    "    # loss[1] = infidelity\n",
    "    # grad[:] = real(sol_b.u[end][1:sizep,5])"
   ]
  },
  {
   "cell_type": "code",
   "execution_count": 175,
   "metadata": {},
   "outputs": [],
   "source": [
    "# sol_b, λ, xT = b(p) ;\n",
    "grad, dLdT, L = b(p) ;"
   ]
  },
  {
   "cell_type": "code",
   "execution_count": 182,
   "metadata": {},
   "outputs": [
    {
     "data": {
      "text/plain": [
       "9-element Vector{Float64}:\n",
       " -0.6868060220392537\n",
       "  0.09123105200142848\n",
       " -0.7525547481946666\n",
       " -0.23498950990022424\n",
       "  0.00032513374429069496\n",
       " -0.04608649511307297\n",
       " -0.00019338873144828588\n",
       "  0.0\n",
       " -0.007291418513880498"
      ]
     },
     "metadata": {},
     "output_type": "display_data"
    }
   ],
   "source": [
    "grad"
   ]
  },
  {
   "cell_type": "code",
   "execution_count": 192,
   "metadata": {},
   "outputs": [
    {
     "data": {
      "text/plain": [
       "9-element Vector{Float64}:\n",
       " 3.858659226461246e-12\n",
       " 8.6282243323741e-12\n",
       " 3.3416969146626496e-12\n",
       " 0.0\n",
       " 0.0\n",
       " 0.0\n",
       " 0.0\n",
       " 0.0\n",
       " 0.0"
      ]
     },
     "metadata": {},
     "output_type": "display_data"
    }
   ],
   "source": [
    "real(tr(dLdT))*dTdp(p)"
   ]
  },
  {
   "cell_type": "code",
   "execution_count": 195,
   "metadata": {},
   "outputs": [
    {
     "data": {
      "text/plain": [
       "9-element Vector{Float64}:\n",
       " 0.00894611171208815\n",
       " 0.02000411392253613\n",
       " 0.007747560007761834\n",
       " 0.0\n",
       " 0.0\n",
       " 0.0\n",
       " 0.0\n",
       " 0.0\n",
       " 0.0"
      ]
     },
     "metadata": {},
     "output_type": "display_data"
    }
   ],
   "source": [
    "wT(L).*dTdp(p)"
   ]
  },
  {
   "cell_type": "code",
   "execution_count": 199,
   "metadata": {},
   "outputs": [
    {
     "data": {
      "text/plain": [
       "0.04767151822682967"
      ]
     },
     "metadata": {},
     "output_type": "display_data"
    }
   ],
   "source": [
    "dp = zeros(Float64,size(p))\n",
    "dp[2] = 1e-6\n",
    "res1 = f(p - dp)\n",
    "res2 = f(p + dp)"
   ]
  },
  {
   "cell_type": "code",
   "execution_count": 201,
   "metadata": {},
   "outputs": [
    {
     "data": {
      "text/plain": [
       "(0.11225675201551044, 0.11123516592396461)"
      ]
     },
     "metadata": {},
     "output_type": "display_data"
    }
   ],
   "source": [
    "(res2 - res1)/(2*dp[2]), 0.09123105200142848 + 0.02000411392253613"
   ]
  },
  {
   "cell_type": "code",
   "execution_count": 198,
   "metadata": {},
   "outputs": [
    {
     "data": {
      "text/plain": [
       "(-0.6874293750433121, -0.6778599103271655)"
      ]
     },
     "metadata": {},
     "output_type": "display_data"
    }
   ],
   "source": [
    "(res2 - res1)/(2*dp[1]), -0.6868060220392537 + 0.00894611171208815"
   ]
  },
  {
   "cell_type": "code",
   "execution_count": 61,
   "metadata": {},
   "outputs": [
    {
     "data": {
      "text/plain": [
       "(0.0011102906094517806, 0.0011102195813677887)"
      ]
     },
     "metadata": {},
     "output_type": "display_data"
    }
   ],
   "source": [
    "(res2 - res1)/(2*dp[1]), 0.0011102195813677887"
   ]
  },
  {
   "cell_type": "code",
   "execution_count": 63,
   "metadata": {},
   "outputs": [
    {
     "data": {
      "text/plain": [
       "(-0.00014696657779644795, -0.0001487009444301983)"
      ]
     },
     "metadata": {},
     "output_type": "display_data"
    }
   ],
   "source": [
    "(res2 - res1)/(2*dp[2]), -0.0001487009444301983"
   ]
  },
  {
   "cell_type": "code",
   "execution_count": 65,
   "metadata": {},
   "outputs": [
    {
     "data": {
      "text/plain": [
       "(0.0012170017771317987, 0.001216524164690993)"
      ]
     },
     "metadata": {},
     "output_type": "display_data"
    }
   ],
   "source": [
    "(res2 - res1)/(2*dp[3]), 0.001216524164690993"
   ]
  }
 ],
 "metadata": {
  "kernelspec": {
   "display_name": "Julia 1.8.2",
   "language": "julia",
   "name": "julia-1.8"
  },
  "language_info": {
   "file_extension": ".jl",
   "mimetype": "application/julia",
   "name": "julia",
   "version": "1.8.2"
  },
  "orig_nbformat": 4,
  "vscode": {
   "interpreter": {
    "hash": "babb3d48d00b411cad3380fd983ba3264d4afc20254ee7a105a5601b2e0eddf5"
   }
  }
 },
 "nbformat": 4,
 "nbformat_minor": 2
}
