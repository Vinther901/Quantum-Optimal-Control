{
 "cells": [
  {
   "cell_type": "code",
   "execution_count": 1,
   "metadata": {},
   "outputs": [],
   "source": [
    "using LinearAlgebra\n",
    "using Plots\n",
    "using SparseArrays\n",
    "using Arpack #Eigenvalues of sparse arrays with eigs()\n",
    "using DifferentialEquations\n",
    "# using DiffEqFlux\n",
    "using Optim\n",
    "using ForwardDiff\n",
    "using DelimitedFiles\n",
    "using LineSearches"
   ]
  },
  {
   "cell_type": "code",
   "execution_count": 2,
   "metadata": {},
   "outputs": [],
   "source": [
    "#Def parameters\n",
    "n_cutoff = 8\n",
    "N = 2 * n_cutoff + 1\n",
    "NHilbert = N^2\n",
    "n = sparse(Diagonal(LinRange(-n_cutoff, n_cutoff, N))) #Perhaps implement using StaticArrays\n",
    "# n = sparse(Diagonal(LinRange(n_cutoff, 3*n_cutoff+1, N))) #Perhaps implement using StaticArrays\n",
    "\n",
    "Id = sparse(I, N, N)\n",
    "exp_iPhi = spdiagm(-1 => ones(N - 1));\n",
    "\n",
    "#Def Hamiltonian parameters\n",
    "E_J_GHz = 10.0 #scale of E_J in units of h*GHz, h-bar = 1, h = 2pi\n",
    "E_C = 1/100  #Charging energies\n",
    "E_J = 1.0 #Josephson energies\n",
    "phi_ext = 0.995pi\n",
    "\n",
    "prefactor = 4 * E_C\n",
    "Kinetic = 2pi * E_J_GHz * prefactor * (kron(n^2, Id) .+ kron(Id, n^2))\n",
    "\n",
    "Potential1 = -2pi * E_J_GHz * kron(1 / 2 * (exp_iPhi .+ exp_iPhi'), Id) # -E_J1 cos(phi1)\n",
    "Potential2 = -2pi * E_J_GHz * kron(Id, 1 / 2 * (exp_iPhi .+ exp_iPhi')) # -E_J2 cos(phi2)\n",
    "Pot3Mat = kron(exp_iPhi, exp_iPhi')\n",
    "Pot3Const = -2pi * E_J_GHz * E_J / 2\n",
    "\n",
    "function get_Pot3(Φ_ext = phi_ext)\n",
    "    M = exp(im * Φ_ext) * Pot3Mat\n",
    "    return Pot3Const * (M + M')\n",
    "end\n",
    "\n",
    "function dPot3_dphi(Φ_ext = phi_ext)\n",
    "    M = exp(im * Φ_ext) * Pot3Mat\n",
    "    return (im * Pot3Const) .* (M - M')\n",
    "end\n",
    "\n",
    "Potential3 =  get_Pot3() #-E_J3 cos(phi1 - phi2 + phi_ext)\n",
    "Potential12 = E_J * (Potential1 + Potential2)\n",
    "KinPot12 = Kinetic + Potential12\n",
    "chargecoupling = kron(n, Id);"
   ]
  },
  {
   "cell_type": "code",
   "execution_count": 3,
   "metadata": {},
   "outputs": [
    {
     "data": {
      "text/plain": [
       "dpulsedp (generic function with 1 method)"
      ]
     },
     "metadata": {},
     "output_type": "display_data"
    }
   ],
   "source": [
    "function limit_func(param,pmin,pmax)\n",
    "    (pmax - pmin) * (1/(1 + exp(-param))) + pmin\n",
    "end\n",
    "\n",
    "function inv_limit_func(param,pmin,pmax)\n",
    "    # -log( (pmax - pmin  + 2e-8) / (param - pmin + 1e-8) - 1)\n",
    "    -log( (pmax - pmin) / (param - pmin) - 1)\n",
    "end\n",
    "\n",
    "function alpha(p, t)\n",
    "    Tₐ = 10#limit_func(p[2],0,15)\n",
    "    Tₚ = 30 - 2*Tₐ#p[3]\n",
    "    αmin = limit_func(p[1],0.5,1)\n",
    "    abs_slope = (1 - αmin)/Tₐ\n",
    "    if t < Tₐ\n",
    "        return 1 - abs_slope * t\n",
    "    elseif t > Tₐ + Tₚ\n",
    "        return αmin + abs_slope * (t - Tₐ - Tₚ)\n",
    "    else\n",
    "        return αmin\n",
    "    end\n",
    "end\n",
    "\n",
    "dalphadp(p, t) = ForwardDiff.gradient(p̃ -> alpha(p̃,t), p)\n",
    "\n",
    "h_times = LinRange(10,20,50+2)[2:end-1]\n",
    "dt = h_times[2] - h_times[1]\n",
    "function pulse(p, t)\n",
    "    if  t < 10 || t > 20\n",
    "        return 0\n",
    "    end\n",
    "    out = 0\n",
    "    w_start = exp( - 5/(2*dt^2) * (t - 10)^2)\n",
    "    w_end = exp( - 5/(2*dt^2) * (t - 20)^2)\n",
    "    w_sum = w_start + w_end\n",
    "    for (i, ht) in enumerate(h_times)\n",
    "        w = exp( - 5/(2*dt^2) * (t - ht)^2)\n",
    "        out += p[i+1] * w\n",
    "        w_sum += w\n",
    "    end\n",
    "    # envelope(t)*out/w_sum\n",
    "    out/w_sum\n",
    "end\n",
    "\n",
    "dpulsedp(p, t) = ForwardDiff.gradient(p̃ -> pulse(p̃, t), p)"
   ]
  },
  {
   "cell_type": "code",
   "execution_count": 69,
   "metadata": {},
   "outputs": [],
   "source": [
    "randp = 1 .* (rand(50) .- 0.5)\n",
    "p = cat([inv_limit_func(0.55,0.5,1)],randp,dims=1) ;"
   ]
  },
  {
   "cell_type": "code",
   "execution_count": 70,
   "metadata": {},
   "outputs": [
    {
     "data": {
      "text/plain": [
       "3.183098861837907e-6"
      ]
     },
     "metadata": {},
     "output_type": "display_data"
    }
   ],
   "source": [
    "Es = eigvals(Matrix(KinPot12 + Potential3))\n",
    "ψs = eigvecs(Matrix(KinPot12 + Potential3));\n",
    "\n",
    "M = Pot3Const * exp(im * phi_ext) * Pot3Mat\n",
    "\n",
    "ψ0 = ψs[:,1:2]\n",
    "\n",
    "Es = real.(Es) ;\n",
    "proj = zeros(ComplexF64,NHilbert,2)\n",
    "Hphimærke = dPot3_dphi(phi_ext)\n",
    "for i in 2:NHilbert\n",
    "    if i != 1\n",
    "        proj[:,1] += ψs[:,i]'*Hphimærke*ψs[:,1]/(Es[1] - Es[i])*ψs[:,i]\n",
    "    end\n",
    "    if i != 2\n",
    "        proj[:,2] += ψs[:,i]'*Hphimærke*ψs[:,2]/(Es[2] - Es[i])*ψs[:,i]\n",
    "    end\n",
    "end\n",
    "\n",
    "fu0 = cat(ψ0,-proj,dims=2)\n",
    "\n",
    "sizep = length(p)\n",
    "m = 0.00001/pi"
   ]
  },
  {
   "cell_type": "code",
   "execution_count": 71,
   "metadata": {},
   "outputs": [
    {
     "data": {
      "text/plain": [
       "b! (generic function with 1 method)"
      ]
     },
     "metadata": {},
     "output_type": "display_data"
    }
   ],
   "source": [
    "function f!(du, u, p, t)\n",
    "    x = u[:,1:2]\n",
    "    ψ = u[:,3:4]\n",
    "    H = KinPot12 + alpha(p,t) .* Potential3 + pulse(p,t) .* chargecoupling\n",
    "\n",
    "    du[:,1:2] = -im .* (H * x)\n",
    "    du[:,3:4] = -im .* (H * ψ) - alpha(p,t) .* ((M - M') * x)\n",
    "end\n",
    "\n",
    "Uv = chargecoupling\n",
    "Ua = Potential3#Um + Um'\n",
    "dUa = M - M'\n",
    "\n",
    "l1sscale = m\n",
    "\n",
    "function b!(du, u, p, t)\n",
    "    x = u[:,1:2]\n",
    "    ψ = u[:,3:4]\n",
    "    λ = u[:,5:6]\n",
    "    ϕ = u[:,7:8]\n",
    "    ps = u[:,9]\n",
    "    α = alpha(p,t)\n",
    "    dαdp = dalphadp(p,t)\n",
    "    dpdp = dpulsedp(p,t)\n",
    "\n",
    "    miH = -im .* (KinPot12 + α .* Potential3 + pulse(p,t) .* chargecoupling)\n",
    "\n",
    "    du[:,1:2] = miH * x\n",
    "    du[:,3:4] = miH * ψ - α * dUa * x\n",
    "    du[:,5:6] = miH * λ\n",
    "    du[:,7:8] = miH * ϕ + α * dUa * λ\n",
    "    \n",
    "    du[1:sizep,9] = 2 .* (\n",
    "    - real(im * tr(λ' * Uv * x)) .* dpdp\n",
    "    - real(im * tr(λ' * Ua * x)) .* dαdp )\n",
    "    \n",
    "    du[end,9] = 2 * real(tr(λ' * dUa * x) * α)\n",
    "    \n",
    "    du[sizep+1:2*sizep,9] = 2 .* (\n",
    "    - real(im * (tr(ϕ' * Uv * x) + tr(ψ' * Uv * λ))) .* dpdp \n",
    "    - real(im * (tr(ϕ' * Ua * x) + tr(ψ' * Ua * λ))) .* dαdp \n",
    "    # + real(tr(ϕ' * (F .* Ua) * x) + tr(ψ' * (F .* Ua) * λ)) .* ddalphadpdt(p,t) \n",
    "    - real(tr(x' * dUa * λ)) .* dαdp )\n",
    "    # - real(im * tr(x' * (F .* dUa)' * λ)) .* ddalphadpdt(p,t)\n",
    "end"
   ]
  },
  {
   "cell_type": "code",
   "execution_count": 134,
   "metadata": {},
   "outputs": [
    {
     "data": {
      "text/plain": [
       "0.9858407997149834"
      ]
     },
     "metadata": {},
     "output_type": "display_data"
    }
   ],
   "source": [
    "forward_prob = ODEProblem(f!, fu0, (0.0, 30.0), p)\n",
    "sol_f = solve(forward_prob, p=p, save_everystep=false, reltol=1e-8, abstol=1e-8)\n",
    "\n",
    "# DT = sol_f.u[end][:,1]\n",
    "# UmT = sol_f.u[end][:,2:N+1] #Ua = Um + Um'\n",
    "# UvT = sol_f.u[end][:,N+2:2*N+1]\n",
    "xT = sol_f.u[end][:,1:2]\n",
    "ψT = sol_f.u[end][:,3:4]\n",
    "\n",
    "ϕcorrection = cat(\n",
    "    -xT[:,1]'*proj[:,2]*ψ0[:,2]' -xT[:,1]'*ψ0[:,2]*proj[:,2]',\n",
    "    -xT[:,2]'*proj[:,1]*ψ0[:,1]' -xT[:,2]'*ψ0[:,1]*proj[:,1]',dims=1\n",
    ")'\n",
    "# ϕcorrection = -cat(\n",
    "#     (ψ0[:,2]*proj[:,2]' + proj[:,2]*ψ0[:,2]')*xT[:,1],\n",
    "#     (ψ0[:,1]*proj[:,1]' + proj[:,1]*ψ0[:,1]')*xT[:,2],dims=2\n",
    "# )\n",
    "\n",
    "λ = 0.5 .* cat(ψ0[:,2]*ψ0[:,2]'*xT[:,1],ψ0[:,1]*ψ0[:,1]'*xT[:,2],dims=2)\n",
    "ϕ = -0.5 .* ϕcorrection + 0.5 .* cat(-ψ0[:,2]*ψ0[:,2]'*ψT[:,1],-ψ0[:,1]*ψ0[:,1]'*ψT[:,2],dims=2)\n",
    "# ϕ = zeros(NHilbert,2)\n",
    "\n",
    "ps = zeros(289,1) #only 2*length(p) are possibly used\n",
    "bu0 = cat(xT,ψT,λ,ϕ,ps,dims=2);\n",
    "\n",
    "backward_prob = ODEProblem(b!, bu0, (30.0, 0.0), p)\n",
    "sol_b = solve(backward_prob, p=p, save_everystep=false, reltol=1e-8, abstol=1e-8)\n",
    "\n",
    "UT = abs2.(ψ0'*xT)\n",
    "infidelity = 0.5 * (2 - UT[1,2] - UT[2,1])\n",
    "# grad_phi = real(sol_b.u[end][sizep,9])"
   ]
  },
  {
   "cell_type": "code",
   "execution_count": null,
   "metadata": {},
   "outputs": [],
   "source": [
    "# solve()"
   ]
  },
  {
   "cell_type": "code",
   "execution_count": 73,
   "metadata": {},
   "outputs": [],
   "source": [
    "grad_phi = real(sol_b.u[end][end,9]) + real(-xT[:,1]'*proj[:,2]*ψ0[:,2]'*xT[:,1] -xT[:,1]'*ψ0[:,2]*proj[:,2]'*xT[:,1]) - 2*real(tr(sol_b.u[end][:,5:6]'*proj))\n",
    "grad = real(sol_b.u[end][1:sizep,9])\n",
    "Dgrad = real(sol_b.u[end][sizep+1:2*sizep,9])\n",
    ";"
   ]
  },
  {
   "cell_type": "code",
   "execution_count": 74,
   "metadata": {},
   "outputs": [],
   "source": [
    "function fidel(phi_ext,ps)\n",
    "    Potential3 = get_Pot3(phi_ext)\n",
    "    # Es, ψs = eigs(KinPot12 + Potential3, nev=2, which=:SR, tol=0.0, maxiter=10000);\n",
    "    ψs = eigvecs(Matrix(KinPot12 + Potential3))\n",
    "\n",
    "    function H!(du, u, p, t)\n",
    "        du[:] = - im * (KinPot12 + alpha(p,t) .* Potential3 + pulse(p,t) .* chargecoupling) * u\n",
    "    end\n",
    "\n",
    "    forward_prob = ODEProblem(H!, ψs[:,1:2], (0.0, 30.0), ps)\n",
    "    sol = solve(forward_prob, p=ps, save_everystep=false, reltol=1e-10, abstol=1e-10)\n",
    "\n",
    "    UT = abs2.(ψs[:,1:2]'*sol.u[end])\n",
    "    return 0.5 * (2 - UT[1,2] - UT[2,1])\n",
    "end\n",
    "dp = 7e-4\n",
    "# dpp = zeros(Float64,size(p))\n",
    "# dpp[26] = dp\n",
    "\n",
    "FD_phigrads = []\n",
    "FD_Dgrads = []\n",
    "FD_grads = []\n",
    "# for dp in [1e-2,1e-3,1e-4,1e-5,1e-6,1e-7,1e-8]\n",
    "for i in 1:51\n",
    "    dpp = zeros(Float64,size(p))\n",
    "    dpp[i] = dp\n",
    "    pp = fidel(0.995pi+dp,p+dpp)\n",
    "    pm = fidel(0.995pi+dp,p-dpp)\n",
    "    mp = fidel(0.995pi-dp,p+dpp)\n",
    "    mm = fidel(0.995pi-dp,p-dpp)\n",
    "    push!(FD_phigrads,((pp - mp)/(2*dp) + (pm - mm)/(2*dp))/2)\n",
    "    push!(FD_grads,((pp - pm)/(2*dp) + (mp - mm)/(2*dp))/2)\n",
    "    push!(FD_Dgrads,(pp - pm - mp + mm)/(4*dp*dp))\n",
    "    end"
   ]
  },
  {
   "cell_type": "code",
   "execution_count": 144,
   "metadata": {},
   "outputs": [],
   "source": [
    "tmp_phigrads = []\n",
    "for dp in [1e-2,1e-3,1e-4,1e-5,1e-6,1e-7,1e-8]\n",
    "    ptmp = fidel(0.995pi+dp,p)\n",
    "    mtmp = fidel(0.995pi-dp,p)\n",
    "    push!(tmp_phigrads,(ptmp-mtmp)/(2dp))\n",
    "end"
   ]
  },
  {
   "cell_type": "code",
   "execution_count": 145,
   "metadata": {},
   "outputs": [
    {
     "data": {
      "text/plain": [
       "7-element Vector{Any}:\n",
       " -1.40659615314912\n",
       "  1.0834128874759874\n",
       "  1.0613613182669512\n",
       "  1.0611936702709102\n",
       "  1.06206946942633\n",
       "  1.060964691101951\n",
       "  1.0705260677923434"
      ]
     },
     "metadata": {},
     "output_type": "display_data"
    }
   ],
   "source": [
    "tmp_phigrads"
   ]
  },
  {
   "cell_type": "code",
   "execution_count": 157,
   "metadata": {},
   "outputs": [
    {
     "data": {
      "text/plain": [
       "(1.116511578792393, 0.18272814995154762, -0.12478339372682763, 0.9935313651741791)"
      ]
     },
     "metadata": {},
     "output_type": "display_data"
    }
   ],
   "source": [
    "real(sol_b.u[end][end,9]), 2*real(-xT[:,1]'*proj[:,2]*ψ0[:,2]'*xT[:,1] -xT[:,2]'*proj[:,1]*ψ0[:,1]'*xT[:,2]), - 2*real(tr(sol_b.u[end][:,5:6]'*proj)),grad_phi"
   ]
  },
  {
   "cell_type": "code",
   "execution_count": 131,
   "metadata": {},
   "outputs": [
    {
     "data": {
      "text/plain": [
       "-0.02675457480066676"
      ]
     },
     "metadata": {},
     "output_type": "display_data"
    }
   ],
   "source": [
    "-2*real((sol_b.u[end][:,5:6]'*proj)[1,2] + (sol_b.u[end][:,5:6]'*proj)[2,1])"
   ]
  },
  {
   "cell_type": "code",
   "execution_count": 153,
   "metadata": {},
   "outputs": [
    {
     "data": {
      "text/plain": [
       "0.9003689151415125 + 0.7703773477361188im"
      ]
     },
     "metadata": {},
     "output_type": "display_data"
    }
   ],
   "source": [
    "2*(\n",
    "# ψT[:,1]'*ψ0[:,2]*ψ0[:,2]'*xT[:,1]\n",
    "+xT[:,1]'*proj[:,2]*ψ0[:,2]'*xT[:,1]\n",
    "# +xT[:,1]'*ψ0[:,2]*proj[:,2]'*xT[:,1]\n",
    "+xT[:,1]'*ψ0[:,2]*ψ0[:,2]'*ψT[:,1]\n",
    "# +ψT[:,2]'*ψ0[:,1]*ψ0[:,1]'*xT[:,2]\n",
    "+xT[:,2]'*proj[:,1]*ψ0[:,1]'*xT[:,2]\n",
    "# +xT[:,2]'*ψ0[:,1]*proj[:,1]'*xT[:,2]\n",
    "+xT[:,2]'*ψ0[:,1]*ψ0[:,1]'*ψT[:,2]\n",
    ")/2"
   ]
  },
  {
   "cell_type": "code",
   "execution_count": 162,
   "metadata": {},
   "outputs": [
    {
     "data": {
      "text/plain": [
       "(1.0720848574829183, 1.058566822567673)"
      ]
     },
     "metadata": {},
     "output_type": "display_data"
    }
   ],
   "source": [
    "sum(FD_phigrads)/51, (real(sol_b.u[end][end,9])+\n",
    "2*real(xT[:,1]'*proj[:,2]*ψ0[:,2]'*xT[:,1] +xT[:,2]'*proj[:,1]*ψ0[:,1]'*xT[:,2]) + \n",
    "2*real(tr(sol_b.u[end][:,5:6]'*proj)))#[1,2] + (sol_b.u[end][:,5:6]'*proj)[2,1]))"
   ]
  },
  {
   "cell_type": "code",
   "execution_count": 64,
   "metadata": {},
   "outputs": [
    {
     "data": {
      "text/plain": [
       "(-0.016278925429880076, [0.3871975167598391, 0.06588718825529044, -0.337534676302388], 0.007208886437515272, 0.007204560046521143)"
      ]
     },
     "metadata": {},
     "output_type": "display_data"
    }
   ],
   "source": [
    "(pp - pm - mp + mm)/(4*dp*dp), Dgrad[25:27], ((pp - pm)/(2*dp) + (mp - mm)/(2*dp))/2, grad[26]"
   ]
  },
  {
   "cell_type": "code",
   "execution_count": 89,
   "metadata": {},
   "outputs": [],
   "source": [
    "headers = [\"adj_grad\",\"adj_Dgrad\",\"adj_phigrad\",\"FD_grad\",\"FD_Dgrad\",\"FD_phigrad\"]\n",
    "res = cat(headers,cat(grad,Dgrad,[grad_phi for i in 1:51],FD_grads,FD_Dgrads,FD_phigrads,dims=2)',dims=2)\n",
    "# writedlm(\"grad_comparisonBest.txt\",res)"
   ]
  },
  {
   "cell_type": "code",
   "execution_count": 81,
   "metadata": {},
   "outputs": [
    {
     "data": {
      "text/plain": [
       "(1.9569653791217905, Any[-0.1339202260990697, 0.35265424293925135, 1.0900778442033818, 0.5103677241595637, -0.6542715365519061, -1.0687141791147006, -0.14931091142389896, 0.8694197585224394, 0.832986204842777, -0.16198744885136715  …  0.4090022295334191, -0.39746507831038363, -0.6951348295167022, -0.26432698835854535, 0.48651590007231743, 0.7582753608121794, 0.055198170694079125, -0.7848253408271333, -0.6241267906687565, 0.3052459778704892])"
      ]
     },
     "metadata": {},
     "output_type": "display_data"
    }
   ],
   "source": [
    "# Dgrad[1], FD_Dgrads"
   ]
  },
  {
   "cell_type": "code",
   "execution_count": 88,
   "metadata": {},
   "outputs": [
    {
     "data": {
      "text/plain": [
       "(0.9924147902529528, 1.0348646368114636, 0.9267282885739371)"
      ]
     },
     "metadata": {},
     "output_type": "display_data"
    }
   ],
   "source": [
    "sum(grad./FD_grads)/51,sum((Dgrad ./ FD_Dgrads)[2:end])/50, sum(grad_phi ./ FD_phigrads)/51"
   ]
  },
  {
   "cell_type": "code",
   "execution_count": 85,
   "metadata": {},
   "outputs": [
    {
     "data": {
      "image/png": "[encoded data removed]",
      "image/svg+xml": [
       "<?xml version=\"1.0\" encoding=\"utf-8\"?>\n",
       "<svg xmlns=\"http://www.w3.org/2000/svg\" xmlns:xlink=\"http://www.w3.org/1999/xlink\" width=\"600\" height=\"400\" viewBox=\"0 0 2400 1600\">\n",
       "<defs>\n",
       "  <clipPath id=\"clip790\">\n",
       "    <rect x=\"0\" y=\"0\" width=\"2400\" height=\"1600\"/>\n",
       "  </clipPath>\n",
       "</defs>\n",
       "<path clip-path=\"url(#clip790)\" d=\"\n",
       "M0 1600 L2400 1600 L2400 0 L0 0  Z\n",
       "  \" fill=\"#ffffff\" fill-rule=\"evenodd\" fill-opacity=\"1\"/>\n",
       "<defs>\n",
       "  <clipPath id=\"clip791\">\n",
       "    <rect x=\"480\" y=\"0\" width=\"1681\" height=\"1600\"/>\n",
       "  </clipPath>\n",
       "</defs>\n",
       "<path clip-path=\"url(#clip790)\" d=\"\n",
       "M154.029 1486.45 L2352.76 1486.45 L2352.76 47.2441 L154.029 47.2441  Z\n",
       "  \" fill=\"#ffffff\" fill-rule=\"evenodd\" fill-opacity=\"1\"/>\n",
       "<defs>\n",
       "  <clipPath id=\"clip792\">\n",
       "    <rect x=\"154\" y=\"47\" width=\"2200\" height=\"1440\"/>\n",
       "  </clipPath>\n",
       "</defs>\n",
       "<polyline clip-path=\"url(#clip792)\" style=\"stroke:#000000; stroke-linecap:round; stroke-linejoin:round; stroke-width:2; stroke-opacity:0.1; fill:none\" points=\"\n",
       "  174.772,1486.45 174.772,47.2441 \n",
       "  \"/>\n",
       "<polyline clip-path=\"url(#clip792)\" style=\"stroke:#000000; stroke-linecap:round; stroke-linejoin:round; stroke-width:2; stroke-opacity:0.1; fill:none\" points=\"\n",
       "  589.626,1486.45 589.626,47.2441 \n",
       "  \"/>\n",
       "<polyline clip-path=\"url(#clip792)\" style=\"stroke:#000000; stroke-linecap:round; stroke-linejoin:round; stroke-width:2; stroke-opacity:0.1; fill:none\" points=\"\n",
       "  1004.48,1486.45 1004.48,47.2441 \n",
       "  \"/>\n",
       "<polyline clip-path=\"url(#clip792)\" style=\"stroke:#000000; stroke-linecap:round; stroke-linejoin:round; stroke-width:2; stroke-opacity:0.1; fill:none\" points=\"\n",
       "  1419.33,1486.45 1419.33,47.2441 \n",
       "  \"/>\n",
       "<polyline clip-path=\"url(#clip792)\" style=\"stroke:#000000; stroke-linecap:round; stroke-linejoin:round; stroke-width:2; stroke-opacity:0.1; fill:none\" points=\"\n",
       "  1834.19,1486.45 1834.19,47.2441 \n",
       "  \"/>\n",
       "<polyline clip-path=\"url(#clip792)\" style=\"stroke:#000000; stroke-linecap:round; stroke-linejoin:round; stroke-width:2; stroke-opacity:0.1; fill:none\" points=\"\n",
       "  2249.04,1486.45 2249.04,47.2441 \n",
       "  \"/>\n",
       "<polyline clip-path=\"url(#clip790)\" style=\"stroke:#000000; stroke-linecap:round; stroke-linejoin:round; stroke-width:4; stroke-opacity:1; fill:none\" points=\"\n",
       "  154.029,1486.45 2352.76,1486.45 \n",
       "  \"/>\n",
       "<polyline clip-path=\"url(#clip790)\" style=\"stroke:#000000; stroke-linecap:round; stroke-linejoin:round; stroke-width:4; stroke-opacity:1; fill:none\" points=\"\n",
       "  174.772,1486.45 174.772,1467.55 \n",
       "  \"/>\n",
       "<polyline clip-path=\"url(#clip790)\" style=\"stroke:#000000; stroke-linecap:round; stroke-linejoin:round; stroke-width:4; stroke-opacity:1; fill:none\" points=\"\n",
       "  589.626,1486.45 589.626,1467.55 \n",
       "  \"/>\n",
       "<polyline clip-path=\"url(#clip790)\" style=\"stroke:#000000; stroke-linecap:round; stroke-linejoin:round; stroke-width:4; stroke-opacity:1; fill:none\" points=\"\n",
       "  1004.48,1486.45 1004.48,1467.55 \n",
       "  \"/>\n",
       "<polyline clip-path=\"url(#clip790)\" style=\"stroke:#000000; stroke-linecap:round; stroke-linejoin:round; stroke-width:4; stroke-opacity:1; fill:none\" points=\"\n",
       "  1419.33,1486.45 1419.33,1467.55 \n",
       "  \"/>\n",
       "<polyline clip-path=\"url(#clip790)\" style=\"stroke:#000000; stroke-linecap:round; stroke-linejoin:round; stroke-width:4; stroke-opacity:1; fill:none\" points=\"\n",
       "  1834.19,1486.45 1834.19,1467.55 \n",
       "  \"/>\n",
       "<polyline clip-path=\"url(#clip790)\" style=\"stroke:#000000; stroke-linecap:round; stroke-linejoin:round; stroke-width:4; stroke-opacity:1; fill:none\" points=\"\n",
       "  2249.04,1486.45 2249.04,1467.55 \n",
       "  \"/>\n",
       "<path clip-path=\"url(#clip790)\" d=\"M174.772 1517.37 Q171.16 1517.37 169.332 1520.93 Q167.526 1524.47 167.526 1531.6 Q167.526 1538.71 169.332 1542.27 Q171.16 1545.82 174.772 1545.82 Q178.406 1545.82 180.211 1542.27 Q182.04 1538.71 182.04 1531.6 Q182.04 1524.47 180.211 1520.93 Q178.406 1517.37 174.772 1517.37 M174.772 1513.66 Q180.582 1513.66 183.637 1518.27 Q186.716 1522.85 186.716 1531.6 Q186.716 1540.33 183.637 1544.94 Q180.582 1549.52 174.772 1549.52 Q168.961 1549.52 165.883 1544.94 Q162.827 1540.33 162.827 1531.6 Q162.827 1522.85 165.883 1518.27 Q168.961 1513.66 174.772 1513.66 Z\" fill=\"#000000\" fill-rule=\"evenodd\" fill-opacity=\"1\" /><path clip-path=\"url(#clip790)\" d=\"M564.313 1544.91 L571.952 1544.91 L571.952 1518.55 L563.642 1520.21 L563.642 1515.95 L571.906 1514.29 L576.582 1514.29 L576.582 1544.91 L584.221 1544.91 L584.221 1548.85 L564.313 1548.85 L564.313 1544.91 Z\" fill=\"#000000\" fill-rule=\"evenodd\" fill-opacity=\"1\" /><path clip-path=\"url(#clip790)\" d=\"M603.665 1517.37 Q600.054 1517.37 598.225 1520.93 Q596.42 1524.47 596.42 1531.6 Q596.42 1538.71 598.225 1542.27 Q600.054 1545.82 603.665 1545.82 Q607.299 1545.82 609.105 1542.27 Q610.933 1538.71 610.933 1531.6 Q610.933 1524.47 609.105 1520.93 Q607.299 1517.37 603.665 1517.37 M603.665 1513.66 Q609.475 1513.66 612.531 1518.27 Q615.609 1522.85 615.609 1531.6 Q615.609 1540.33 612.531 1544.94 Q609.475 1549.52 603.665 1549.52 Q597.855 1549.52 594.776 1544.94 Q591.721 1540.33 591.721 1531.6 Q591.721 1522.85 594.776 1518.27 Q597.855 1513.66 603.665 1513.66 Z\" fill=\"#000000\" fill-rule=\"evenodd\" fill-opacity=\"1\" /><path clip-path=\"url(#clip790)\" d=\"M983.253 1544.91 L999.572 1544.91 L999.572 1548.85 L977.628 1548.85 L977.628 1544.91 Q980.29 1542.16 984.873 1537.53 Q989.48 1532.88 990.66 1531.53 Q992.906 1529.01 993.785 1527.27 Q994.688 1525.51 994.688 1523.82 Q994.688 1521.07 992.744 1519.33 Q990.823 1517.6 987.721 1517.6 Q985.522 1517.6 983.068 1518.36 Q980.637 1519.13 977.86 1520.68 L977.86 1515.95 Q980.684 1514.82 983.137 1514.24 Q985.591 1513.66 987.628 1513.66 Q992.998 1513.66 996.193 1516.35 Q999.387 1519.03 999.387 1523.52 Q999.387 1525.65 998.577 1527.57 Q997.79 1529.47 995.684 1532.07 Q995.105 1532.74 992.003 1535.95 Q988.901 1539.15 983.253 1544.91 Z\" fill=\"#000000\" fill-rule=\"evenodd\" fill-opacity=\"1\" /><path clip-path=\"url(#clip790)\" d=\"M1019.39 1517.37 Q1015.78 1517.37 1013.95 1520.93 Q1012.14 1524.47 1012.14 1531.6 Q1012.14 1538.71 1013.95 1542.27 Q1015.78 1545.82 1019.39 1545.82 Q1023.02 1545.82 1024.83 1542.27 Q1026.66 1538.71 1026.66 1531.6 Q1026.66 1524.47 1024.83 1520.93 Q1023.02 1517.37 1019.39 1517.37 M1019.39 1513.66 Q1025.2 1513.66 1028.25 1518.27 Q1031.33 1522.85 1031.33 1531.6 Q1031.33 1540.33 1028.25 1544.94 Q1025.2 1549.52 1019.39 1549.52 Q1013.58 1549.52 1010.5 1544.94 Q1007.44 1540.33 1007.44 1531.6 Q1007.44 1522.85 1010.5 1518.27 Q1013.58 1513.66 1019.39 1513.66 Z\" fill=\"#000000\" fill-rule=\"evenodd\" fill-opacity=\"1\" /><path clip-path=\"url(#clip790)\" d=\"M1408.18 1530.21 Q1411.53 1530.93 1413.41 1533.2 Q1415.31 1535.47 1415.31 1538.8 Q1415.31 1543.92 1411.79 1546.72 Q1408.27 1549.52 1401.79 1549.52 Q1399.61 1549.52 1397.3 1549.08 Q1395.01 1548.66 1392.55 1547.81 L1392.55 1543.29 Q1394.5 1544.43 1396.81 1545.01 Q1399.13 1545.58 1401.65 1545.58 Q1406.05 1545.58 1408.34 1543.85 Q1410.65 1542.11 1410.65 1538.8 Q1410.65 1535.75 1408.5 1534.03 Q1406.37 1532.3 1402.55 1532.3 L1398.52 1532.3 L1398.52 1528.45 L1402.74 1528.45 Q1406.19 1528.45 1408.01 1527.09 Q1409.84 1525.7 1409.84 1523.11 Q1409.84 1520.45 1407.95 1519.03 Q1406.07 1517.6 1402.55 1517.6 Q1400.63 1517.6 1398.43 1518.01 Q1396.23 1518.43 1393.59 1519.31 L1393.59 1515.14 Q1396.26 1514.4 1398.57 1514.03 Q1400.91 1513.66 1402.97 1513.66 Q1408.29 1513.66 1411.39 1516.09 Q1414.5 1518.5 1414.5 1522.62 Q1414.5 1525.49 1412.85 1527.48 Q1411.21 1529.45 1408.18 1530.21 Z\" fill=\"#000000\" fill-rule=\"evenodd\" fill-opacity=\"1\" /><path clip-path=\"url(#clip790)\" d=\"M1434.17 1517.37 Q1430.56 1517.37 1428.73 1520.93 Q1426.93 1524.47 1426.93 1531.6 Q1426.93 1538.71 1428.73 1542.27 Q1430.56 1545.82 1434.17 1545.82 Q1437.81 1545.82 1439.61 1542.27 Q1441.44 1538.71 1441.44 1531.6 Q1441.44 1524.47 1439.61 1520.93 Q1437.81 1517.37 1434.17 1517.37 M1434.17 1513.66 Q1439.98 1513.66 1443.04 1518.27 Q1446.12 1522.85 1446.12 1531.6 Q1446.12 1540.33 1443.04 1544.94 Q1439.98 1549.52 1434.17 1549.52 Q1428.36 1549.52 1425.28 1544.94 Q1422.23 1540.33 1422.23 1531.6 Q1422.23 1522.85 1425.28 1518.27 Q1428.36 1513.66 1434.17 1513.66 Z\" fill=\"#000000\" fill-rule=\"evenodd\" fill-opacity=\"1\" /><path clip-path=\"url(#clip790)\" d=\"M1822.36 1518.36 L1810.55 1536.81 L1822.36 1536.81 L1822.36 1518.36 M1821.13 1514.29 L1827.01 1514.29 L1827.01 1536.81 L1831.94 1536.81 L1831.94 1540.7 L1827.01 1540.7 L1827.01 1548.85 L1822.36 1548.85 L1822.36 1540.7 L1806.76 1540.7 L1806.76 1536.19 L1821.13 1514.29 Z\" fill=\"#000000\" fill-rule=\"evenodd\" fill-opacity=\"1\" /><path clip-path=\"url(#clip790)\" d=\"M1849.67 1517.37 Q1846.06 1517.37 1844.23 1520.93 Q1842.43 1524.47 1842.43 1531.6 Q1842.43 1538.71 1844.23 1542.27 Q1846.06 1545.82 1849.67 1545.82 Q1853.31 1545.82 1855.11 1542.27 Q1856.94 1538.71 1856.94 1531.6 Q1856.94 1524.47 1855.11 1520.93 Q1853.31 1517.37 1849.67 1517.37 M1849.67 1513.66 Q1855.48 1513.66 1858.54 1518.27 Q1861.62 1522.85 1861.62 1531.6 Q1861.62 1540.33 1858.54 1544.94 Q1855.48 1549.52 1849.67 1549.52 Q1843.86 1549.52 1840.79 1544.94 Q1837.73 1540.33 1837.73 1531.6 Q1837.73 1522.85 1840.79 1518.27 Q1843.86 1513.66 1849.67 1513.66 Z\" fill=\"#000000\" fill-rule=\"evenodd\" fill-opacity=\"1\" /><path clip-path=\"url(#clip790)\" d=\"M2223.74 1514.29 L2242.1 1514.29 L2242.1 1518.22 L2228.02 1518.22 L2228.02 1526.7 Q2229.04 1526.35 2230.06 1526.19 Q2231.08 1526 2232.1 1526 Q2237.89 1526 2241.26 1529.17 Q2244.64 1532.34 2244.64 1537.76 Q2244.64 1543.34 2241.17 1546.44 Q2237.7 1549.52 2231.38 1549.52 Q2229.2 1549.52 2226.94 1549.15 Q2224.69 1548.78 2222.28 1548.04 L2222.28 1543.34 Q2224.37 1544.47 2226.59 1545.03 Q2228.81 1545.58 2231.29 1545.58 Q2235.29 1545.58 2237.63 1543.48 Q2239.97 1541.37 2239.97 1537.76 Q2239.97 1534.15 2237.63 1532.04 Q2235.29 1529.94 2231.29 1529.94 Q2229.41 1529.94 2227.54 1530.35 Q2225.69 1530.77 2223.74 1531.65 L2223.74 1514.29 Z\" fill=\"#000000\" fill-rule=\"evenodd\" fill-opacity=\"1\" /><path clip-path=\"url(#clip790)\" d=\"M2263.86 1517.37 Q2260.25 1517.37 2258.42 1520.93 Q2256.61 1524.47 2256.61 1531.6 Q2256.61 1538.71 2258.42 1542.27 Q2260.25 1545.82 2263.86 1545.82 Q2267.49 1545.82 2269.3 1542.27 Q2271.13 1538.71 2271.13 1531.6 Q2271.13 1524.47 2269.3 1520.93 Q2267.49 1517.37 2263.86 1517.37 M2263.86 1513.66 Q2269.67 1513.66 2272.72 1518.27 Q2275.8 1522.85 2275.8 1531.6 Q2275.8 1540.33 2272.72 1544.94 Q2269.67 1549.52 2263.86 1549.52 Q2258.05 1549.52 2254.97 1544.94 Q2251.91 1540.33 2251.91 1531.6 Q2251.91 1522.85 2254.97 1518.27 Q2258.05 1513.66 2263.86 1513.66 Z\" fill=\"#000000\" fill-rule=\"evenodd\" fill-opacity=\"1\" /><polyline clip-path=\"url(#clip792)\" style=\"stroke:#000000; stroke-linecap:round; stroke-linejoin:round; stroke-width:2; stroke-opacity:0.1; fill:none\" points=\"\n",
       "  154.029,1178.12 2352.76,1178.12 \n",
       "  \"/>\n",
       "<polyline clip-path=\"url(#clip792)\" style=\"stroke:#000000; stroke-linecap:round; stroke-linejoin:round; stroke-width:2; stroke-opacity:0.1; fill:none\" points=\"\n",
       "  154.029,862.127 2352.76,862.127 \n",
       "  \"/>\n",
       "<polyline clip-path=\"url(#clip792)\" style=\"stroke:#000000; stroke-linecap:round; stroke-linejoin:round; stroke-width:2; stroke-opacity:0.1; fill:none\" points=\"\n",
       "  154.029,546.137 2352.76,546.137 \n",
       "  \"/>\n",
       "<polyline clip-path=\"url(#clip792)\" style=\"stroke:#000000; stroke-linecap:round; stroke-linejoin:round; stroke-width:2; stroke-opacity:0.1; fill:none\" points=\"\n",
       "  154.029,230.146 2352.76,230.146 \n",
       "  \"/>\n",
       "<polyline clip-path=\"url(#clip790)\" style=\"stroke:#000000; stroke-linecap:round; stroke-linejoin:round; stroke-width:4; stroke-opacity:1; fill:none\" points=\"\n",
       "  154.029,1486.45 154.029,47.2441 \n",
       "  \"/>\n",
       "<polyline clip-path=\"url(#clip790)\" style=\"stroke:#000000; stroke-linecap:round; stroke-linejoin:round; stroke-width:4; stroke-opacity:1; fill:none\" points=\"\n",
       "  154.029,1178.12 172.926,1178.12 \n",
       "  \"/>\n",
       "<polyline clip-path=\"url(#clip790)\" style=\"stroke:#000000; stroke-linecap:round; stroke-linejoin:round; stroke-width:4; stroke-opacity:1; fill:none\" points=\"\n",
       "  154.029,862.127 172.926,862.127 \n",
       "  \"/>\n",
       "<polyline clip-path=\"url(#clip790)\" style=\"stroke:#000000; stroke-linecap:round; stroke-linejoin:round; stroke-width:4; stroke-opacity:1; fill:none\" points=\"\n",
       "  154.029,546.137 172.926,546.137 \n",
       "  \"/>\n",
       "<polyline clip-path=\"url(#clip790)\" style=\"stroke:#000000; stroke-linecap:round; stroke-linejoin:round; stroke-width:4; stroke-opacity:1; fill:none\" points=\"\n",
       "  154.029,230.146 172.926,230.146 \n",
       "  \"/>\n",
       "<path clip-path=\"url(#clip790)\" d=\"M51.6634 1191.46 L59.3023 1191.46 L59.3023 1165.1 L50.9921 1166.76 L50.9921 1162.5 L59.256 1160.84 L63.9319 1160.84 L63.9319 1191.46 L71.5707 1191.46 L71.5707 1195.4 L51.6634 1195.4 L51.6634 1191.46 Z\" fill=\"#000000\" fill-rule=\"evenodd\" fill-opacity=\"1\" /><path clip-path=\"url(#clip790)\" d=\"M81.0151 1189.52 L85.8993 1189.52 L85.8993 1195.4 L81.0151 1195.4 L81.0151 1189.52 Z\" fill=\"#000000\" fill-rule=\"evenodd\" fill-opacity=\"1\" /><path clip-path=\"url(#clip790)\" d=\"M106.084 1163.92 Q102.473 1163.92 100.645 1167.48 Q98.8391 1171.02 98.8391 1178.15 Q98.8391 1185.26 100.645 1188.82 Q102.473 1192.37 106.084 1192.37 Q109.719 1192.37 111.524 1188.82 Q113.353 1185.26 113.353 1178.15 Q113.353 1171.02 111.524 1167.48 Q109.719 1163.92 106.084 1163.92 M106.084 1160.21 Q111.895 1160.21 114.95 1164.82 Q118.029 1169.4 118.029 1178.15 Q118.029 1186.88 114.95 1191.49 Q111.895 1196.07 106.084 1196.07 Q100.274 1196.07 97.1956 1191.49 Q94.14 1186.88 94.14 1178.15 Q94.14 1169.4 97.1956 1164.82 Q100.274 1160.21 106.084 1160.21 Z\" fill=\"#000000\" fill-rule=\"evenodd\" fill-opacity=\"1\" /><path clip-path=\"url(#clip790)\" d=\"M52.8903 875.472 L60.5291 875.472 L60.5291 849.106 L52.219 850.773 L52.219 846.514 L60.4828 844.847 L65.1587 844.847 L65.1587 875.472 L72.7976 875.472 L72.7976 879.407 L52.8903 879.407 L52.8903 875.472 Z\" fill=\"#000000\" fill-rule=\"evenodd\" fill-opacity=\"1\" /><path clip-path=\"url(#clip790)\" d=\"M82.242 873.528 L87.1262 873.528 L87.1262 879.407 L82.242 879.407 L82.242 873.528 Z\" fill=\"#000000\" fill-rule=\"evenodd\" fill-opacity=\"1\" /><path clip-path=\"url(#clip790)\" d=\"M98.1215 875.472 L105.76 875.472 L105.76 849.106 L97.4502 850.773 L97.4502 846.514 L105.714 844.847 L110.39 844.847 L110.39 875.472 L118.029 875.472 L118.029 879.407 L98.1215 879.407 L98.1215 875.472 Z\" fill=\"#000000\" fill-rule=\"evenodd\" fill-opacity=\"1\" /><path clip-path=\"url(#clip790)\" d=\"M53.2606 559.482 L60.8995 559.482 L60.8995 533.116 L52.5893 534.783 L52.5893 530.523 L60.8532 528.857 L65.5291 528.857 L65.5291 559.482 L73.1679 559.482 L73.1679 563.417 L53.2606 563.417 L53.2606 559.482 Z\" fill=\"#000000\" fill-rule=\"evenodd\" fill-opacity=\"1\" /><path clip-path=\"url(#clip790)\" d=\"M82.6123 557.537 L87.4966 557.537 L87.4966 563.417 L82.6123 563.417 L82.6123 557.537 Z\" fill=\"#000000\" fill-rule=\"evenodd\" fill-opacity=\"1\" /><path clip-path=\"url(#clip790)\" d=\"M101.709 559.482 L118.029 559.482 L118.029 563.417 L96.0845 563.417 L96.0845 559.482 Q98.7465 556.727 103.33 552.097 Q107.936 547.445 109.117 546.102 Q111.362 543.579 112.242 541.843 Q113.145 540.084 113.145 538.394 Q113.145 535.639 111.2 533.903 Q109.279 532.167 106.177 532.167 Q103.978 532.167 101.524 532.931 Q99.0937 533.695 96.316 535.246 L96.316 530.523 Q99.14 529.389 101.594 528.81 Q104.047 528.232 106.084 528.232 Q111.455 528.232 114.649 530.917 Q117.844 533.602 117.844 538.093 Q117.844 540.222 117.033 542.144 Q116.246 544.042 114.14 546.634 Q113.561 547.306 110.459 550.523 Q107.358 553.718 101.709 559.482 Z\" fill=\"#000000\" fill-rule=\"evenodd\" fill-opacity=\"1\" /><path clip-path=\"url(#clip790)\" d=\"M52.3116 243.491 L59.9504 243.491 L59.9504 217.126 L51.6403 218.792 L51.6403 214.533 L59.9041 212.866 L64.58 212.866 L64.58 243.491 L72.2189 243.491 L72.2189 247.426 L52.3116 247.426 L52.3116 243.491 Z\" fill=\"#000000\" fill-rule=\"evenodd\" fill-opacity=\"1\" /><path clip-path=\"url(#clip790)\" d=\"M81.6633 241.547 L86.5475 241.547 L86.5475 247.426 L81.6633 247.426 L81.6633 241.547 Z\" fill=\"#000000\" fill-rule=\"evenodd\" fill-opacity=\"1\" /><path clip-path=\"url(#clip790)\" d=\"M110.899 228.792 Q114.256 229.51 116.131 231.778 Q118.029 234.047 118.029 237.38 Q118.029 242.496 114.51 245.297 Q110.992 248.098 104.51 248.098 Q102.334 248.098 100.02 247.658 Q97.728 247.241 95.2743 246.385 L95.2743 241.871 Q97.2187 243.005 99.5335 243.584 Q101.848 244.162 104.371 244.162 Q108.77 244.162 111.061 242.426 Q113.376 240.69 113.376 237.38 Q113.376 234.324 111.223 232.612 Q109.094 230.875 105.274 230.875 L101.246 230.875 L101.246 227.033 L105.459 227.033 Q108.908 227.033 110.737 225.667 Q112.566 224.278 112.566 221.686 Q112.566 219.024 110.668 217.612 Q108.793 216.176 105.274 216.176 Q103.353 216.176 101.154 216.593 Q98.9548 217.01 96.316 217.889 L96.316 213.723 Q98.978 212.982 101.293 212.612 Q103.631 212.241 105.691 212.241 Q111.015 212.241 114.117 214.672 Q117.219 217.079 117.219 221.2 Q117.219 224.07 115.575 226.061 Q113.932 228.028 110.899 228.792 Z\" fill=\"#000000\" fill-rule=\"evenodd\" fill-opacity=\"1\" /><polyline clip-path=\"url(#clip792)\" style=\"stroke:#009af9; stroke-linecap:round; stroke-linejoin:round; stroke-width:4; stroke-opacity:1; fill:none\" points=\"\n",
       "  216.257,1236 257.742,1188.57 299.228,1211.68 340.713,1133.67 382.199,1194.62 423.684,1221.45 465.169,1171.43 506.655,1199.59 548.14,1246.76 589.626,1181.99 \n",
       "  631.111,1203.77 672.597,1382.24 714.082,1187.75 755.567,1209.95 797.053,1107.68 838.538,1194.16 880.024,1218.64 921.509,1168.12 962.994,1198.31 1004.48,1231.32 \n",
       "  1045.97,1179.91 1087.45,1201.18 1128.94,1287.54 1170.42,1185.32 1211.91,1206.44 1253.39,976.884 1294.88,1192.37 1336.36,1213.2 1377.85,1161.84 1419.33,1196.99 \n",
       "  1460.82,1223.01 1502.3,1177.97 1543.79,1199.71 1585.28,1249.76 1626.76,1183.97 1668.25,1204.41 1709.73,1445.72 1751.22,1191.67 1792.7,1208.97 1834.19,1148.04 \n",
       "  1875.67,1195.74 1917.16,1215.82 1958.64,1174.52 2000.13,1198.43 2041.62,1234.18 2083.1,1181.8 2124.59,1203.37 2166.07,1274.76 2207.56,1191.25 2249.04,1205.96 \n",
       "  2290.53,1107.98 \n",
       "  \"/>\n",
       "<polyline clip-path=\"url(#clip792)\" style=\"stroke:#e26f46; stroke-linecap:round; stroke-linejoin:round; stroke-width:4; stroke-opacity:1; fill:none\" points=\"\n",
       "  216.257,1128.94 257.742,1069.83 299.228,1093.41 340.713,1075.34 382.199,1054.43 423.684,1360.13 465.169,1078.73 506.655,1106.52 548.14,995.429 589.626,1128.58 \n",
       "  631.111,1060.63 672.597,1104.38 714.082,1094.15 755.567,1048.46 797.053,1048.2 838.538,1109.26 880.024,1131.87 921.509,1081.43 962.994,1123.52 1004.48,1168.66 \n",
       "  1045.97,1077.47 1087.45,1064.97 1128.94,1134.8 1170.42,1040.68 1211.91,1053.93 1253.39,1067.68 1294.88,1051.21 1336.36,1108.01 1377.85,1086.42 1419.33,1045.44 \n",
       "  1460.82,1123.63 1502.3,1079.54 1543.79,976.663 1585.28,1110.5 1626.76,1050.49 1668.25,838.511 1709.73,1074.24 1751.22,1058.34 1792.7,1280.35 1834.19,1103.07 \n",
       "  1875.67,1017.91 1917.16,1282.62 1958.64,1073.16 2000.13,789.231 2041.62,1178.98 2083.1,1012.13 2124.59,87.9763 2166.07,1109.08 2207.56,1060.66 2249.04,1297.84 \n",
       "  \n",
       "  \"/>\n",
       "<polyline clip-path=\"url(#clip792)\" style=\"stroke:#3da44d; stroke-linecap:round; stroke-linejoin:round; stroke-width:4; stroke-opacity:1; fill:none\" points=\"\n",
       "  216.257,1409.6 257.742,1409.65 299.228,1409.65 340.713,1409.65 382.199,1409.65 423.684,1409.65 465.169,1409.65 506.655,1409.65 548.14,1409.65 589.626,1409.65 \n",
       "  631.111,1409.65 672.597,1409.65 714.082,1409.65 755.567,1409.65 797.053,1409.65 838.538,1409.65 880.024,1409.65 921.509,1409.65 962.994,1409.65 1004.48,1409.65 \n",
       "  1045.97,1409.65 1087.45,1409.65 1128.94,1409.65 1170.42,1409.65 1211.91,1409.65 1253.39,1409.65 1294.88,1409.65 1336.36,1409.65 1377.85,1409.65 1419.33,1409.65 \n",
       "  1460.82,1409.65 1502.3,1409.65 1543.79,1409.65 1585.28,1409.65 1626.76,1409.65 1668.25,1409.65 1709.73,1409.65 1751.22,1409.65 1792.7,1409.65 1834.19,1409.65 \n",
       "  1875.67,1409.65 1917.16,1409.65 1958.64,1409.65 2000.13,1409.65 2041.62,1409.65 2083.1,1409.65 2124.59,1409.65 2166.07,1409.65 2207.56,1409.65 2249.04,1409.65 \n",
       "  2290.53,1409.65 \n",
       "  \"/>\n",
       "<path clip-path=\"url(#clip790)\" d=\"\n",
       "M1982.15 302.578 L2279.47 302.578 L2279.47 95.2176 L1982.15 95.2176  Z\n",
       "  \" fill=\"#ffffff\" fill-rule=\"evenodd\" fill-opacity=\"1\"/>\n",
       "<polyline clip-path=\"url(#clip790)\" style=\"stroke:#000000; stroke-linecap:round; stroke-linejoin:round; stroke-width:4; stroke-opacity:1; fill:none\" points=\"\n",
       "  1982.15,302.578 2279.47,302.578 2279.47,95.2176 1982.15,95.2176 1982.15,302.578 \n",
       "  \"/>\n",
       "<polyline clip-path=\"url(#clip790)\" style=\"stroke:#009af9; stroke-linecap:round; stroke-linejoin:round; stroke-width:4; stroke-opacity:1; fill:none\" points=\"\n",
       "  2006.58,147.058 2153.17,147.058 \n",
       "  \"/>\n",
       "<path clip-path=\"url(#clip790)\" d=\"M2191.44 166.745 Q2189.63 171.375 2187.92 172.787 Q2186.21 174.199 2183.34 174.199 L2179.93 174.199 L2179.93 170.634 L2182.43 170.634 Q2184.19 170.634 2185.16 169.8 Q2186.14 168.967 2187.32 165.865 L2188.08 163.921 L2177.6 138.412 L2182.11 138.412 L2190.21 158.689 L2198.31 138.412 L2202.83 138.412 L2191.44 166.745 Z\" fill=\"#000000\" fill-rule=\"evenodd\" fill-opacity=\"1\" /><path clip-path=\"url(#clip790)\" d=\"M2210.12 160.402 L2217.76 160.402 L2217.76 134.037 L2209.45 135.703 L2209.45 131.444 L2217.71 129.778 L2222.39 129.778 L2222.39 160.402 L2230.03 160.402 L2230.03 164.338 L2210.12 164.338 L2210.12 160.402 Z\" fill=\"#000000\" fill-rule=\"evenodd\" fill-opacity=\"1\" /><polyline clip-path=\"url(#clip790)\" style=\"stroke:#e26f46; stroke-linecap:round; stroke-linejoin:round; stroke-width:4; stroke-opacity:1; fill:none\" points=\"\n",
       "  2006.58,198.898 2153.17,198.898 \n",
       "  \"/>\n",
       "<path clip-path=\"url(#clip790)\" d=\"M2191.44 218.585 Q2189.63 223.215 2187.92 224.627 Q2186.21 226.039 2183.34 226.039 L2179.93 226.039 L2179.93 222.474 L2182.43 222.474 Q2184.19 222.474 2185.16 221.64 Q2186.14 220.807 2187.32 217.705 L2188.08 215.761 L2177.6 190.252 L2182.11 190.252 L2190.21 210.529 L2198.31 190.252 L2202.83 190.252 L2191.44 218.585 Z\" fill=\"#000000\" fill-rule=\"evenodd\" fill-opacity=\"1\" /><path clip-path=\"url(#clip790)\" d=\"M2213.34 212.242 L2229.66 212.242 L2229.66 216.178 L2207.71 216.178 L2207.71 212.242 Q2210.37 209.488 2214.96 204.858 Q2219.56 200.205 2220.74 198.863 Q2222.99 196.34 2223.87 194.604 Q2224.77 192.844 2224.77 191.155 Q2224.77 188.4 2222.83 186.664 Q2220.91 184.928 2217.8 184.928 Q2215.6 184.928 2213.15 185.692 Q2210.72 186.455 2207.94 188.006 L2207.94 183.284 Q2210.77 182.15 2213.22 181.571 Q2215.67 180.993 2217.71 180.993 Q2223.08 180.993 2226.28 183.678 Q2229.47 186.363 2229.47 190.854 Q2229.47 192.983 2228.66 194.905 Q2227.87 196.803 2225.77 199.395 Q2225.19 200.067 2222.09 203.284 Q2218.98 206.479 2213.34 212.242 Z\" fill=\"#000000\" fill-rule=\"evenodd\" fill-opacity=\"1\" /><polyline clip-path=\"url(#clip790)\" style=\"stroke:#3da44d; stroke-linecap:round; stroke-linejoin:round; stroke-width:4; stroke-opacity:1; fill:none\" points=\"\n",
       "  2006.58,250.738 2153.17,250.738 \n",
       "  \"/>\n",
       "<path clip-path=\"url(#clip790)\" d=\"M2191.44 270.425 Q2189.63 275.055 2187.92 276.467 Q2186.21 277.879 2183.34 277.879 L2179.93 277.879 L2179.93 274.314 L2182.43 274.314 Q2184.19 274.314 2185.16 273.48 Q2186.14 272.647 2187.32 269.545 L2188.08 267.601 L2177.6 242.092 L2182.11 242.092 L2190.21 262.369 L2198.31 242.092 L2202.83 242.092 L2191.44 270.425 Z\" fill=\"#000000\" fill-rule=\"evenodd\" fill-opacity=\"1\" /><path clip-path=\"url(#clip790)\" d=\"M2223.47 249.383 Q2226.83 250.101 2228.71 252.369 Q2230.6 254.638 2230.6 257.971 Q2230.6 263.087 2227.09 265.888 Q2223.57 268.689 2217.09 268.689 Q2214.91 268.689 2212.6 268.249 Q2210.3 267.832 2207.85 266.976 L2207.85 262.462 Q2209.79 263.596 2212.11 264.175 Q2214.42 264.754 2216.95 264.754 Q2221.35 264.754 2223.64 263.018 Q2225.95 261.281 2225.95 257.971 Q2225.95 254.916 2223.8 253.203 Q2221.67 251.467 2217.85 251.467 L2213.82 251.467 L2213.82 247.624 L2218.04 247.624 Q2221.48 247.624 2223.31 246.258 Q2225.14 244.87 2225.14 242.277 Q2225.14 239.615 2223.24 238.203 Q2221.37 236.768 2217.85 236.768 Q2215.93 236.768 2213.73 237.184 Q2211.53 237.601 2208.89 238.481 L2208.89 234.314 Q2211.55 233.573 2213.87 233.203 Q2216.21 232.833 2218.27 232.833 Q2223.59 232.833 2226.69 235.263 Q2229.79 237.67 2229.79 241.791 Q2229.79 244.661 2228.15 246.652 Q2226.51 248.62 2223.47 249.383 Z\" fill=\"#000000\" fill-rule=\"evenodd\" fill-opacity=\"1\" /></svg>\n"
      ],
      "text/html": [
       "<?xml version=\"1.0\" encoding=\"utf-8\"?>\n",
       "<svg xmlns=\"http://www.w3.org/2000/svg\" xmlns:xlink=\"http://www.w3.org/1999/xlink\" width=\"600\" height=\"400\" viewBox=\"0 0 2400 1600\">\n",
       "<defs>\n",
       "  <clipPath id=\"clip840\">\n",
       "    <rect x=\"0\" y=\"0\" width=\"2400\" height=\"1600\"/>\n",
       "  </clipPath>\n",
       "</defs>\n",
       "<path clip-path=\"url(#clip840)\" d=\"\n",
       "M0 1600 L2400 1600 L2400 0 L0 0  Z\n",
       "  \" fill=\"#ffffff\" fill-rule=\"evenodd\" fill-opacity=\"1\"/>\n",
       "<defs>\n",
       "  <clipPath id=\"clip841\">\n",
       "    <rect x=\"480\" y=\"0\" width=\"1681\" height=\"1600\"/>\n",
       "  </clipPath>\n",
       "</defs>\n",
       "<path clip-path=\"url(#clip840)\" d=\"\n",
       "M154.029 1486.45 L2352.76 1486.45 L2352.76 47.2441 L154.029 47.2441  Z\n",
       "  \" fill=\"#ffffff\" fill-rule=\"evenodd\" fill-opacity=\"1\"/>\n",
       "<defs>\n",
       "  <clipPath id=\"clip842\">\n",
       "    <rect x=\"154\" y=\"47\" width=\"2200\" height=\"1440\"/>\n",
       "  </clipPath>\n",
       "</defs>\n",
       "<polyline clip-path=\"url(#clip842)\" style=\"stroke:#000000; stroke-linecap:round; stroke-linejoin:round; stroke-width:2; stroke-opacity:0.1; fill:none\" points=\"\n",
       "  174.772,1486.45 174.772,47.2441 \n",
       "  \"/>\n",
       "<polyline clip-path=\"url(#clip842)\" style=\"stroke:#000000; stroke-linecap:round; stroke-linejoin:round; stroke-width:2; stroke-opacity:0.1; fill:none\" points=\"\n",
       "  589.626,1486.45 589.626,47.2441 \n",
       "  \"/>\n",
       "<polyline clip-path=\"url(#clip842)\" style=\"stroke:#000000; stroke-linecap:round; stroke-linejoin:round; stroke-width:2; stroke-opacity:0.1; fill:none\" points=\"\n",
       "  1004.48,1486.45 1004.48,47.2441 \n",
       "  \"/>\n",
       "<polyline clip-path=\"url(#clip842)\" style=\"stroke:#000000; stroke-linecap:round; stroke-linejoin:round; stroke-width:2; stroke-opacity:0.1; fill:none\" points=\"\n",
       "  1419.33,1486.45 1419.33,47.2441 \n",
       "  \"/>\n",
       "<polyline clip-path=\"url(#clip842)\" style=\"stroke:#000000; stroke-linecap:round; stroke-linejoin:round; stroke-width:2; stroke-opacity:0.1; fill:none\" points=\"\n",
       "  1834.19,1486.45 1834.19,47.2441 \n",
       "  \"/>\n",
       "<polyline clip-path=\"url(#clip842)\" style=\"stroke:#000000; stroke-linecap:round; stroke-linejoin:round; stroke-width:2; stroke-opacity:0.1; fill:none\" points=\"\n",
       "  2249.04,1486.45 2249.04,47.2441 \n",
       "  \"/>\n",
       "<polyline clip-path=\"url(#clip840)\" style=\"stroke:#000000; stroke-linecap:round; stroke-linejoin:round; stroke-width:4; stroke-opacity:1; fill:none\" points=\"\n",
       "  154.029,1486.45 2352.76,1486.45 \n",
       "  \"/>\n",
       "<polyline clip-path=\"url(#clip840)\" style=\"stroke:#000000; stroke-linecap:round; stroke-linejoin:round; stroke-width:4; stroke-opacity:1; fill:none\" points=\"\n",
       "  174.772,1486.45 174.772,1467.55 \n",
       "  \"/>\n",
       "<polyline clip-path=\"url(#clip840)\" style=\"stroke:#000000; stroke-linecap:round; stroke-linejoin:round; stroke-width:4; stroke-opacity:1; fill:none\" points=\"\n",
       "  589.626,1486.45 589.626,1467.55 \n",
       "  \"/>\n",
       "<polyline clip-path=\"url(#clip840)\" style=\"stroke:#000000; stroke-linecap:round; stroke-linejoin:round; stroke-width:4; stroke-opacity:1; fill:none\" points=\"\n",
       "  1004.48,1486.45 1004.48,1467.55 \n",
       "  \"/>\n",
       "<polyline clip-path=\"url(#clip840)\" style=\"stroke:#000000; stroke-linecap:round; stroke-linejoin:round; stroke-width:4; stroke-opacity:1; fill:none\" points=\"\n",
       "  1419.33,1486.45 1419.33,1467.55 \n",
       "  \"/>\n",
       "<polyline clip-path=\"url(#clip840)\" style=\"stroke:#000000; stroke-linecap:round; stroke-linejoin:round; stroke-width:4; stroke-opacity:1; fill:none\" points=\"\n",
       "  1834.19,1486.45 1834.19,1467.55 \n",
       "  \"/>\n",
       "<polyline clip-path=\"url(#clip840)\" style=\"stroke:#000000; stroke-linecap:round; stroke-linejoin:round; stroke-width:4; stroke-opacity:1; fill:none\" points=\"\n",
       "  2249.04,1486.45 2249.04,1467.55 \n",
       "  \"/>\n",
       "<path clip-path=\"url(#clip840)\" d=\"M174.772 1517.37 Q171.16 1517.37 169.332 1520.93 Q167.526 1524.47 167.526 1531.6 Q167.526 1538.71 169.332 1542.27 Q171.16 1545.82 174.772 1545.82 Q178.406 1545.82 180.211 1542.27 Q182.04 1538.71 182.04 1531.6 Q182.04 1524.47 180.211 1520.93 Q178.406 1517.37 174.772 1517.37 M174.772 1513.66 Q180.582 1513.66 183.637 1518.27 Q186.716 1522.85 186.716 1531.6 Q186.716 1540.33 183.637 1544.94 Q180.582 1549.52 174.772 1549.52 Q168.961 1549.52 165.883 1544.94 Q162.827 1540.33 162.827 1531.6 Q162.827 1522.85 165.883 1518.27 Q168.961 1513.66 174.772 1513.66 Z\" fill=\"#000000\" fill-rule=\"evenodd\" fill-opacity=\"1\" /><path clip-path=\"url(#clip840)\" d=\"M564.313 1544.91 L571.952 1544.91 L571.952 1518.55 L563.642 1520.21 L563.642 1515.95 L571.906 1514.29 L576.582 1514.29 L576.582 1544.91 L584.221 1544.91 L584.221 1548.85 L564.313 1548.85 L564.313 1544.91 Z\" fill=\"#000000\" fill-rule=\"evenodd\" fill-opacity=\"1\" /><path clip-path=\"url(#clip840)\" d=\"M603.665 1517.37 Q600.054 1517.37 598.225 1520.93 Q596.42 1524.47 596.42 1531.6 Q596.42 1538.71 598.225 1542.27 Q600.054 1545.82 603.665 1545.82 Q607.299 1545.82 609.105 1542.27 Q610.933 1538.71 610.933 1531.6 Q610.933 1524.47 609.105 1520.93 Q607.299 1517.37 603.665 1517.37 M603.665 1513.66 Q609.475 1513.66 612.531 1518.27 Q615.609 1522.85 615.609 1531.6 Q615.609 1540.33 612.531 1544.94 Q609.475 1549.52 603.665 1549.52 Q597.855 1549.52 594.776 1544.94 Q591.721 1540.33 591.721 1531.6 Q591.721 1522.85 594.776 1518.27 Q597.855 1513.66 603.665 1513.66 Z\" fill=\"#000000\" fill-rule=\"evenodd\" fill-opacity=\"1\" /><path clip-path=\"url(#clip840)\" d=\"M983.253 1544.91 L999.572 1544.91 L999.572 1548.85 L977.628 1548.85 L977.628 1544.91 Q980.29 1542.16 984.873 1537.53 Q989.48 1532.88 990.66 1531.53 Q992.906 1529.01 993.785 1527.27 Q994.688 1525.51 994.688 1523.82 Q994.688 1521.07 992.744 1519.33 Q990.823 1517.6 987.721 1517.6 Q985.522 1517.6 983.068 1518.36 Q980.637 1519.13 977.86 1520.68 L977.86 1515.95 Q980.684 1514.82 983.137 1514.24 Q985.591 1513.66 987.628 1513.66 Q992.998 1513.66 996.193 1516.35 Q999.387 1519.03 999.387 1523.52 Q999.387 1525.65 998.577 1527.57 Q997.79 1529.47 995.684 1532.07 Q995.105 1532.74 992.003 1535.95 Q988.901 1539.15 983.253 1544.91 Z\" fill=\"#000000\" fill-rule=\"evenodd\" fill-opacity=\"1\" /><path clip-path=\"url(#clip840)\" d=\"M1019.39 1517.37 Q1015.78 1517.37 1013.95 1520.93 Q1012.14 1524.47 1012.14 1531.6 Q1012.14 1538.71 1013.95 1542.27 Q1015.78 1545.82 1019.39 1545.82 Q1023.02 1545.82 1024.83 1542.27 Q1026.66 1538.71 1026.66 1531.6 Q1026.66 1524.47 1024.83 1520.93 Q1023.02 1517.37 1019.39 1517.37 M1019.39 1513.66 Q1025.2 1513.66 1028.25 1518.27 Q1031.33 1522.85 1031.33 1531.6 Q1031.33 1540.33 1028.25 1544.94 Q1025.2 1549.52 1019.39 1549.52 Q1013.58 1549.52 1010.5 1544.94 Q1007.44 1540.33 1007.44 1531.6 Q1007.44 1522.85 1010.5 1518.27 Q1013.58 1513.66 1019.39 1513.66 Z\" fill=\"#000000\" fill-rule=\"evenodd\" fill-opacity=\"1\" /><path clip-path=\"url(#clip840)\" d=\"M1408.18 1530.21 Q1411.53 1530.93 1413.41 1533.2 Q1415.31 1535.47 1415.31 1538.8 Q1415.31 1543.92 1411.79 1546.72 Q1408.27 1549.52 1401.79 1549.52 Q1399.61 1549.52 1397.3 1549.08 Q1395.01 1548.66 1392.55 1547.81 L1392.55 1543.29 Q1394.5 1544.43 1396.81 1545.01 Q1399.13 1545.58 1401.65 1545.58 Q1406.05 1545.58 1408.34 1543.85 Q1410.65 1542.11 1410.65 1538.8 Q1410.65 1535.75 1408.5 1534.03 Q1406.37 1532.3 1402.55 1532.3 L1398.52 1532.3 L1398.52 1528.45 L1402.74 1528.45 Q1406.19 1528.45 1408.01 1527.09 Q1409.84 1525.7 1409.84 1523.11 Q1409.84 1520.45 1407.95 1519.03 Q1406.07 1517.6 1402.55 1517.6 Q1400.63 1517.6 1398.43 1518.01 Q1396.23 1518.43 1393.59 1519.31 L1393.59 1515.14 Q1396.26 1514.4 1398.57 1514.03 Q1400.91 1513.66 1402.97 1513.66 Q1408.29 1513.66 1411.39 1516.09 Q1414.5 1518.5 1414.5 1522.62 Q1414.5 1525.49 1412.85 1527.48 Q1411.21 1529.45 1408.18 1530.21 Z\" fill=\"#000000\" fill-rule=\"evenodd\" fill-opacity=\"1\" /><path clip-path=\"url(#clip840)\" d=\"M1434.17 1517.37 Q1430.56 1517.37 1428.73 1520.93 Q1426.93 1524.47 1426.93 1531.6 Q1426.93 1538.71 1428.73 1542.27 Q1430.56 1545.82 1434.17 1545.82 Q1437.81 1545.82 1439.61 1542.27 Q1441.44 1538.71 1441.44 1531.6 Q1441.44 1524.47 1439.61 1520.93 Q1437.81 1517.37 1434.17 1517.37 M1434.17 1513.66 Q1439.98 1513.66 1443.04 1518.27 Q1446.12 1522.85 1446.12 1531.6 Q1446.12 1540.33 1443.04 1544.94 Q1439.98 1549.52 1434.17 1549.52 Q1428.36 1549.52 1425.28 1544.94 Q1422.23 1540.33 1422.23 1531.6 Q1422.23 1522.85 1425.28 1518.27 Q1428.36 1513.66 1434.17 1513.66 Z\" fill=\"#000000\" fill-rule=\"evenodd\" fill-opacity=\"1\" /><path clip-path=\"url(#clip840)\" d=\"M1822.36 1518.36 L1810.55 1536.81 L1822.36 1536.81 L1822.36 1518.36 M1821.13 1514.29 L1827.01 1514.29 L1827.01 1536.81 L1831.94 1536.81 L1831.94 1540.7 L1827.01 1540.7 L1827.01 1548.85 L1822.36 1548.85 L1822.36 1540.7 L1806.76 1540.7 L1806.76 1536.19 L1821.13 1514.29 Z\" fill=\"#000000\" fill-rule=\"evenodd\" fill-opacity=\"1\" /><path clip-path=\"url(#clip840)\" d=\"M1849.67 1517.37 Q1846.06 1517.37 1844.23 1520.93 Q1842.43 1524.47 1842.43 1531.6 Q1842.43 1538.71 1844.23 1542.27 Q1846.06 1545.82 1849.67 1545.82 Q1853.31 1545.82 1855.11 1542.27 Q1856.94 1538.71 1856.94 1531.6 Q1856.94 1524.47 1855.11 1520.93 Q1853.31 1517.37 1849.67 1517.37 M1849.67 1513.66 Q1855.48 1513.66 1858.54 1518.27 Q1861.62 1522.85 1861.62 1531.6 Q1861.62 1540.33 1858.54 1544.94 Q1855.48 1549.52 1849.67 1549.52 Q1843.86 1549.52 1840.79 1544.94 Q1837.73 1540.33 1837.73 1531.6 Q1837.73 1522.85 1840.79 1518.27 Q1843.86 1513.66 1849.67 1513.66 Z\" fill=\"#000000\" fill-rule=\"evenodd\" fill-opacity=\"1\" /><path clip-path=\"url(#clip840)\" d=\"M2223.74 1514.29 L2242.1 1514.29 L2242.1 1518.22 L2228.02 1518.22 L2228.02 1526.7 Q2229.04 1526.35 2230.06 1526.19 Q2231.08 1526 2232.1 1526 Q2237.89 1526 2241.26 1529.17 Q2244.64 1532.34 2244.64 1537.76 Q2244.64 1543.34 2241.17 1546.44 Q2237.7 1549.52 2231.38 1549.52 Q2229.2 1549.52 2226.94 1549.15 Q2224.69 1548.78 2222.28 1548.04 L2222.28 1543.34 Q2224.37 1544.47 2226.59 1545.03 Q2228.81 1545.58 2231.29 1545.58 Q2235.29 1545.58 2237.63 1543.48 Q2239.97 1541.37 2239.97 1537.76 Q2239.97 1534.15 2237.63 1532.04 Q2235.29 1529.94 2231.29 1529.94 Q2229.41 1529.94 2227.54 1530.35 Q2225.69 1530.77 2223.74 1531.65 L2223.74 1514.29 Z\" fill=\"#000000\" fill-rule=\"evenodd\" fill-opacity=\"1\" /><path clip-path=\"url(#clip840)\" d=\"M2263.86 1517.37 Q2260.25 1517.37 2258.42 1520.93 Q2256.61 1524.47 2256.61 1531.6 Q2256.61 1538.71 2258.42 1542.27 Q2260.25 1545.82 2263.86 1545.82 Q2267.49 1545.82 2269.3 1542.27 Q2271.13 1538.71 2271.13 1531.6 Q2271.13 1524.47 2269.3 1520.93 Q2267.49 1517.37 2263.86 1517.37 M2263.86 1513.66 Q2269.67 1513.66 2272.72 1518.27 Q2275.8 1522.85 2275.8 1531.6 Q2275.8 1540.33 2272.72 1544.94 Q2269.67 1549.52 2263.86 1549.52 Q2258.05 1549.52 2254.97 1544.94 Q2251.91 1540.33 2251.91 1531.6 Q2251.91 1522.85 2254.97 1518.27 Q2258.05 1513.66 2263.86 1513.66 Z\" fill=\"#000000\" fill-rule=\"evenodd\" fill-opacity=\"1\" /><polyline clip-path=\"url(#clip842)\" style=\"stroke:#000000; stroke-linecap:round; stroke-linejoin:round; stroke-width:2; stroke-opacity:0.1; fill:none\" points=\"\n",
       "  154.029,1178.12 2352.76,1178.12 \n",
       "  \"/>\n",
       "<polyline clip-path=\"url(#clip842)\" style=\"stroke:#000000; stroke-linecap:round; stroke-linejoin:round; stroke-width:2; stroke-opacity:0.1; fill:none\" points=\"\n",
       "  154.029,862.127 2352.76,862.127 \n",
       "  \"/>\n",
       "<polyline clip-path=\"url(#clip842)\" style=\"stroke:#000000; stroke-linecap:round; stroke-linejoin:round; stroke-width:2; stroke-opacity:0.1; fill:none\" points=\"\n",
       "  154.029,546.137 2352.76,546.137 \n",
       "  \"/>\n",
       "<polyline clip-path=\"url(#clip842)\" style=\"stroke:#000000; stroke-linecap:round; stroke-linejoin:round; stroke-width:2; stroke-opacity:0.1; fill:none\" points=\"\n",
       "  154.029,230.146 2352.76,230.146 \n",
       "  \"/>\n",
       "<polyline clip-path=\"url(#clip840)\" style=\"stroke:#000000; stroke-linecap:round; stroke-linejoin:round; stroke-width:4; stroke-opacity:1; fill:none\" points=\"\n",
       "  154.029,1486.45 154.029,47.2441 \n",
       "  \"/>\n",
       "<polyline clip-path=\"url(#clip840)\" style=\"stroke:#000000; stroke-linecap:round; stroke-linejoin:round; stroke-width:4; stroke-opacity:1; fill:none\" points=\"\n",
       "  154.029,1178.12 172.926,1178.12 \n",
       "  \"/>\n",
       "<polyline clip-path=\"url(#clip840)\" style=\"stroke:#000000; stroke-linecap:round; stroke-linejoin:round; stroke-width:4; stroke-opacity:1; fill:none\" points=\"\n",
       "  154.029,862.127 172.926,862.127 \n",
       "  \"/>\n",
       "<polyline clip-path=\"url(#clip840)\" style=\"stroke:#000000; stroke-linecap:round; stroke-linejoin:round; stroke-width:4; stroke-opacity:1; fill:none\" points=\"\n",
       "  154.029,546.137 172.926,546.137 \n",
       "  \"/>\n",
       "<polyline clip-path=\"url(#clip840)\" style=\"stroke:#000000; stroke-linecap:round; stroke-linejoin:round; stroke-width:4; stroke-opacity:1; fill:none\" points=\"\n",
       "  154.029,230.146 172.926,230.146 \n",
       "  \"/>\n",
       "<path clip-path=\"url(#clip840)\" d=\"M51.6634 1191.46 L59.3023 1191.46 L59.3023 1165.1 L50.9921 1166.76 L50.9921 1162.5 L59.256 1160.84 L63.9319 1160.84 L63.9319 1191.46 L71.5707 1191.46 L71.5707 1195.4 L51.6634 1195.4 L51.6634 1191.46 Z\" fill=\"#000000\" fill-rule=\"evenodd\" fill-opacity=\"1\" /><path clip-path=\"url(#clip840)\" d=\"M81.0151 1189.52 L85.8993 1189.52 L85.8993 1195.4 L81.0151 1195.4 L81.0151 1189.52 Z\" fill=\"#000000\" fill-rule=\"evenodd\" fill-opacity=\"1\" /><path clip-path=\"url(#clip840)\" d=\"M106.084 1163.92 Q102.473 1163.92 100.645 1167.48 Q98.8391 1171.02 98.8391 1178.15 Q98.8391 1185.26 100.645 1188.82 Q102.473 1192.37 106.084 1192.37 Q109.719 1192.37 111.524 1188.82 Q113.353 1185.26 113.353 1178.15 Q113.353 1171.02 111.524 1167.48 Q109.719 1163.92 106.084 1163.92 M106.084 1160.21 Q111.895 1160.21 114.95 1164.82 Q118.029 1169.4 118.029 1178.15 Q118.029 1186.88 114.95 1191.49 Q111.895 1196.07 106.084 1196.07 Q100.274 1196.07 97.1956 1191.49 Q94.14 1186.88 94.14 1178.15 Q94.14 1169.4 97.1956 1164.82 Q100.274 1160.21 106.084 1160.21 Z\" fill=\"#000000\" fill-rule=\"evenodd\" fill-opacity=\"1\" /><path clip-path=\"url(#clip840)\" d=\"M52.8903 875.472 L60.5291 875.472 L60.5291 849.106 L52.219 850.773 L52.219 846.514 L60.4828 844.847 L65.1587 844.847 L65.1587 875.472 L72.7976 875.472 L72.7976 879.407 L52.8903 879.407 L52.8903 875.472 Z\" fill=\"#000000\" fill-rule=\"evenodd\" fill-opacity=\"1\" /><path clip-path=\"url(#clip840)\" d=\"M82.242 873.528 L87.1262 873.528 L87.1262 879.407 L82.242 879.407 L82.242 873.528 Z\" fill=\"#000000\" fill-rule=\"evenodd\" fill-opacity=\"1\" /><path clip-path=\"url(#clip840)\" d=\"M98.1215 875.472 L105.76 875.472 L105.76 849.106 L97.4502 850.773 L97.4502 846.514 L105.714 844.847 L110.39 844.847 L110.39 875.472 L118.029 875.472 L118.029 879.407 L98.1215 879.407 L98.1215 875.472 Z\" fill=\"#000000\" fill-rule=\"evenodd\" fill-opacity=\"1\" /><path clip-path=\"url(#clip840)\" d=\"M53.2606 559.482 L60.8995 559.482 L60.8995 533.116 L52.5893 534.783 L52.5893 530.523 L60.8532 528.857 L65.5291 528.857 L65.5291 559.482 L73.1679 559.482 L73.1679 563.417 L53.2606 563.417 L53.2606 559.482 Z\" fill=\"#000000\" fill-rule=\"evenodd\" fill-opacity=\"1\" /><path clip-path=\"url(#clip840)\" d=\"M82.6123 557.537 L87.4966 557.537 L87.4966 563.417 L82.6123 563.417 L82.6123 557.537 Z\" fill=\"#000000\" fill-rule=\"evenodd\" fill-opacity=\"1\" /><path clip-path=\"url(#clip840)\" d=\"M101.709 559.482 L118.029 559.482 L118.029 563.417 L96.0845 563.417 L96.0845 559.482 Q98.7465 556.727 103.33 552.097 Q107.936 547.445 109.117 546.102 Q111.362 543.579 112.242 541.843 Q113.145 540.084 113.145 538.394 Q113.145 535.639 111.2 533.903 Q109.279 532.167 106.177 532.167 Q103.978 532.167 101.524 532.931 Q99.0937 533.695 96.316 535.246 L96.316 530.523 Q99.14 529.389 101.594 528.81 Q104.047 528.232 106.084 528.232 Q111.455 528.232 114.649 530.917 Q117.844 533.602 117.844 538.093 Q117.844 540.222 117.033 542.144 Q116.246 544.042 114.14 546.634 Q113.561 547.306 110.459 550.523 Q107.358 553.718 101.709 559.482 Z\" fill=\"#000000\" fill-rule=\"evenodd\" fill-opacity=\"1\" /><path clip-path=\"url(#clip840)\" d=\"M52.3116 243.491 L59.9504 243.491 L59.9504 217.126 L51.6403 218.792 L51.6403 214.533 L59.9041 212.866 L64.58 212.866 L64.58 243.491 L72.2189 243.491 L72.2189 247.426 L52.3116 247.426 L52.3116 243.491 Z\" fill=\"#000000\" fill-rule=\"evenodd\" fill-opacity=\"1\" /><path clip-path=\"url(#clip840)\" d=\"M81.6633 241.547 L86.5475 241.547 L86.5475 247.426 L81.6633 247.426 L81.6633 241.547 Z\" fill=\"#000000\" fill-rule=\"evenodd\" fill-opacity=\"1\" /><path clip-path=\"url(#clip840)\" d=\"M110.899 228.792 Q114.256 229.51 116.131 231.778 Q118.029 234.047 118.029 237.38 Q118.029 242.496 114.51 245.297 Q110.992 248.098 104.51 248.098 Q102.334 248.098 100.02 247.658 Q97.728 247.241 95.2743 246.385 L95.2743 241.871 Q97.2187 243.005 99.5335 243.584 Q101.848 244.162 104.371 244.162 Q108.77 244.162 111.061 242.426 Q113.376 240.69 113.376 237.38 Q113.376 234.324 111.223 232.612 Q109.094 230.875 105.274 230.875 L101.246 230.875 L101.246 227.033 L105.459 227.033 Q108.908 227.033 110.737 225.667 Q112.566 224.278 112.566 221.686 Q112.566 219.024 110.668 217.612 Q108.793 216.176 105.274 216.176 Q103.353 216.176 101.154 216.593 Q98.9548 217.01 96.316 217.889 L96.316 213.723 Q98.978 212.982 101.293 212.612 Q103.631 212.241 105.691 212.241 Q111.015 212.241 114.117 214.672 Q117.219 217.079 117.219 221.2 Q117.219 224.07 115.575 226.061 Q113.932 228.028 110.899 228.792 Z\" fill=\"#000000\" fill-rule=\"evenodd\" fill-opacity=\"1\" /><polyline clip-path=\"url(#clip842)\" style=\"stroke:#009af9; stroke-linecap:round; stroke-linejoin:round; stroke-width:4; stroke-opacity:1; fill:none\" points=\"\n",
       "  216.257,1236 257.742,1188.57 299.228,1211.68 340.713,1133.67 382.199,1194.62 423.684,1221.45 465.169,1171.43 506.655,1199.59 548.14,1246.76 589.626,1181.99 \n",
       "  631.111,1203.77 672.597,1382.24 714.082,1187.75 755.567,1209.95 797.053,1107.68 838.538,1194.16 880.024,1218.64 921.509,1168.12 962.994,1198.31 1004.48,1231.32 \n",
       "  1045.97,1179.91 1087.45,1201.18 1128.94,1287.54 1170.42,1185.32 1211.91,1206.44 1253.39,976.884 1294.88,1192.37 1336.36,1213.2 1377.85,1161.84 1419.33,1196.99 \n",
       "  1460.82,1223.01 1502.3,1177.97 1543.79,1199.71 1585.28,1249.76 1626.76,1183.97 1668.25,1204.41 1709.73,1445.72 1751.22,1191.67 1792.7,1208.97 1834.19,1148.04 \n",
       "  1875.67,1195.74 1917.16,1215.82 1958.64,1174.52 2000.13,1198.43 2041.62,1234.18 2083.1,1181.8 2124.59,1203.37 2166.07,1274.76 2207.56,1191.25 2249.04,1205.96 \n",
       "  2290.53,1107.98 \n",
       "  \"/>\n",
       "<polyline clip-path=\"url(#clip842)\" style=\"stroke:#e26f46; stroke-linecap:round; stroke-linejoin:round; stroke-width:4; stroke-opacity:1; fill:none\" points=\"\n",
       "  216.257,1128.94 257.742,1069.83 299.228,1093.41 340.713,1075.34 382.199,1054.43 423.684,1360.13 465.169,1078.73 506.655,1106.52 548.14,995.429 589.626,1128.58 \n",
       "  631.111,1060.63 672.597,1104.38 714.082,1094.15 755.567,1048.46 797.053,1048.2 838.538,1109.26 880.024,1131.87 921.509,1081.43 962.994,1123.52 1004.48,1168.66 \n",
       "  1045.97,1077.47 1087.45,1064.97 1128.94,1134.8 1170.42,1040.68 1211.91,1053.93 1253.39,1067.68 1294.88,1051.21 1336.36,1108.01 1377.85,1086.42 1419.33,1045.44 \n",
       "  1460.82,1123.63 1502.3,1079.54 1543.79,976.663 1585.28,1110.5 1626.76,1050.49 1668.25,838.511 1709.73,1074.24 1751.22,1058.34 1792.7,1280.35 1834.19,1103.07 \n",
       "  1875.67,1017.91 1917.16,1282.62 1958.64,1073.16 2000.13,789.231 2041.62,1178.98 2083.1,1012.13 2124.59,87.9763 2166.07,1109.08 2207.56,1060.66 2249.04,1297.84 \n",
       "  \n",
       "  \"/>\n",
       "<polyline clip-path=\"url(#clip842)\" style=\"stroke:#3da44d; stroke-linecap:round; stroke-linejoin:round; stroke-width:4; stroke-opacity:1; fill:none\" points=\"\n",
       "  216.257,1409.6 257.742,1409.65 299.228,1409.65 340.713,1409.65 382.199,1409.65 423.684,1409.65 465.169,1409.65 506.655,1409.65 548.14,1409.65 589.626,1409.65 \n",
       "  631.111,1409.65 672.597,1409.65 714.082,1409.65 755.567,1409.65 797.053,1409.65 838.538,1409.65 880.024,1409.65 921.509,1409.65 962.994,1409.65 1004.48,1409.65 \n",
       "  1045.97,1409.65 1087.45,1409.65 1128.94,1409.65 1170.42,1409.65 1211.91,1409.65 1253.39,1409.65 1294.88,1409.65 1336.36,1409.65 1377.85,1409.65 1419.33,1409.65 \n",
       "  1460.82,1409.65 1502.3,1409.65 1543.79,1409.65 1585.28,1409.65 1626.76,1409.65 1668.25,1409.65 1709.73,1409.65 1751.22,1409.65 1792.7,1409.65 1834.19,1409.65 \n",
       "  1875.67,1409.65 1917.16,1409.65 1958.64,1409.65 2000.13,1409.65 2041.62,1409.65 2083.1,1409.65 2124.59,1409.65 2166.07,1409.65 2207.56,1409.65 2249.04,1409.65 \n",
       "  2290.53,1409.65 \n",
       "  \"/>\n",
       "<path clip-path=\"url(#clip840)\" d=\"\n",
       "M1982.15 302.578 L2279.47 302.578 L2279.47 95.2176 L1982.15 95.2176  Z\n",
       "  \" fill=\"#ffffff\" fill-rule=\"evenodd\" fill-opacity=\"1\"/>\n",
       "<polyline clip-path=\"url(#clip840)\" style=\"stroke:#000000; stroke-linecap:round; stroke-linejoin:round; stroke-width:4; stroke-opacity:1; fill:none\" points=\"\n",
       "  1982.15,302.578 2279.47,302.578 2279.47,95.2176 1982.15,95.2176 1982.15,302.578 \n",
       "  \"/>\n",
       "<polyline clip-path=\"url(#clip840)\" style=\"stroke:#009af9; stroke-linecap:round; stroke-linejoin:round; stroke-width:4; stroke-opacity:1; fill:none\" points=\"\n",
       "  2006.58,147.058 2153.17,147.058 \n",
       "  \"/>\n",
       "<path clip-path=\"url(#clip840)\" d=\"M2191.44 166.745 Q2189.63 171.375 2187.92 172.787 Q2186.21 174.199 2183.34 174.199 L2179.93 174.199 L2179.93 170.634 L2182.43 170.634 Q2184.19 170.634 2185.16 169.8 Q2186.14 168.967 2187.32 165.865 L2188.08 163.921 L2177.6 138.412 L2182.11 138.412 L2190.21 158.689 L2198.31 138.412 L2202.83 138.412 L2191.44 166.745 Z\" fill=\"#000000\" fill-rule=\"evenodd\" fill-opacity=\"1\" /><path clip-path=\"url(#clip840)\" d=\"M2210.12 160.402 L2217.76 160.402 L2217.76 134.037 L2209.45 135.703 L2209.45 131.444 L2217.71 129.778 L2222.39 129.778 L2222.39 160.402 L2230.03 160.402 L2230.03 164.338 L2210.12 164.338 L2210.12 160.402 Z\" fill=\"#000000\" fill-rule=\"evenodd\" fill-opacity=\"1\" /><polyline clip-path=\"url(#clip840)\" style=\"stroke:#e26f46; stroke-linecap:round; stroke-linejoin:round; stroke-width:4; stroke-opacity:1; fill:none\" points=\"\n",
       "  2006.58,198.898 2153.17,198.898 \n",
       "  \"/>\n",
       "<path clip-path=\"url(#clip840)\" d=\"M2191.44 218.585 Q2189.63 223.215 2187.92 224.627 Q2186.21 226.039 2183.34 226.039 L2179.93 226.039 L2179.93 222.474 L2182.43 222.474 Q2184.19 222.474 2185.16 221.64 Q2186.14 220.807 2187.32 217.705 L2188.08 215.761 L2177.6 190.252 L2182.11 190.252 L2190.21 210.529 L2198.31 190.252 L2202.83 190.252 L2191.44 218.585 Z\" fill=\"#000000\" fill-rule=\"evenodd\" fill-opacity=\"1\" /><path clip-path=\"url(#clip840)\" d=\"M2213.34 212.242 L2229.66 212.242 L2229.66 216.178 L2207.71 216.178 L2207.71 212.242 Q2210.37 209.488 2214.96 204.858 Q2219.56 200.205 2220.74 198.863 Q2222.99 196.34 2223.87 194.604 Q2224.77 192.844 2224.77 191.155 Q2224.77 188.4 2222.83 186.664 Q2220.91 184.928 2217.8 184.928 Q2215.6 184.928 2213.15 185.692 Q2210.72 186.455 2207.94 188.006 L2207.94 183.284 Q2210.77 182.15 2213.22 181.571 Q2215.67 180.993 2217.71 180.993 Q2223.08 180.993 2226.28 183.678 Q2229.47 186.363 2229.47 190.854 Q2229.47 192.983 2228.66 194.905 Q2227.87 196.803 2225.77 199.395 Q2225.19 200.067 2222.09 203.284 Q2218.98 206.479 2213.34 212.242 Z\" fill=\"#000000\" fill-rule=\"evenodd\" fill-opacity=\"1\" /><polyline clip-path=\"url(#clip840)\" style=\"stroke:#3da44d; stroke-linecap:round; stroke-linejoin:round; stroke-width:4; stroke-opacity:1; fill:none\" points=\"\n",
       "  2006.58,250.738 2153.17,250.738 \n",
       "  \"/>\n",
       "<path clip-path=\"url(#clip840)\" d=\"M2191.44 270.425 Q2189.63 275.055 2187.92 276.467 Q2186.21 277.879 2183.34 277.879 L2179.93 277.879 L2179.93 274.314 L2182.43 274.314 Q2184.19 274.314 2185.16 273.48 Q2186.14 272.647 2187.32 269.545 L2188.08 267.601 L2177.6 242.092 L2182.11 242.092 L2190.21 262.369 L2198.31 242.092 L2202.83 242.092 L2191.44 270.425 Z\" fill=\"#000000\" fill-rule=\"evenodd\" fill-opacity=\"1\" /><path clip-path=\"url(#clip840)\" d=\"M2223.47 249.383 Q2226.83 250.101 2228.71 252.369 Q2230.6 254.638 2230.6 257.971 Q2230.6 263.087 2227.09 265.888 Q2223.57 268.689 2217.09 268.689 Q2214.91 268.689 2212.6 268.249 Q2210.3 267.832 2207.85 266.976 L2207.85 262.462 Q2209.79 263.596 2212.11 264.175 Q2214.42 264.754 2216.95 264.754 Q2221.35 264.754 2223.64 263.018 Q2225.95 261.281 2225.95 257.971 Q2225.95 254.916 2223.8 253.203 Q2221.67 251.467 2217.85 251.467 L2213.82 251.467 L2213.82 247.624 L2218.04 247.624 Q2221.48 247.624 2223.31 246.258 Q2225.14 244.87 2225.14 242.277 Q2225.14 239.615 2223.24 238.203 Q2221.37 236.768 2217.85 236.768 Q2215.93 236.768 2213.73 237.184 Q2211.53 237.601 2208.89 238.481 L2208.89 234.314 Q2211.55 233.573 2213.87 233.203 Q2216.21 232.833 2218.27 232.833 Q2223.59 232.833 2226.69 235.263 Q2229.79 237.67 2229.79 241.791 Q2229.79 244.661 2228.15 246.652 Q2226.51 248.62 2223.47 249.383 Z\" fill=\"#000000\" fill-rule=\"evenodd\" fill-opacity=\"1\" /></svg>\n"
      ]
     },
     "metadata": {},
     "output_type": "display_data"
    }
   ],
   "source": [
    "plot((grad./FD_grads))\n",
    "plot!((Dgrad ./ FD_Dgrads)[2:end])\n",
    "plot!(grad_phi ./ FD_phigrads)#,ylim=(0.95,1.05))\n",
    "# FD_grads, \n",
    "# grad[end]"
   ]
  },
  {
   "cell_type": "code",
   "execution_count": 9,
   "metadata": {},
   "outputs": [
    {
     "data": {
      "text/plain": [
       "0.6048066880648406"
      ]
     },
     "metadata": {},
     "output_type": "display_data"
    }
   ],
   "source": []
  },
  {
   "cell_type": "code",
   "execution_count": 15,
   "metadata": {},
   "outputs": [
    {
     "data": {
      "text/plain": [
       "(-3.0234258462047414, -3.0413874632803406)"
      ]
     },
     "metadata": {},
     "output_type": "display_data"
    }
   ],
   "source": [
    "FD_phigrad, grad_phi"
   ]
  },
  {
   "cell_type": "code",
   "execution_count": 17,
   "metadata": {},
   "outputs": [
    {
     "data": {
      "text/plain": [
       "(0.010773033081168393, 0.010770361064885407)"
      ]
     },
     "metadata": {},
     "output_type": "display_data"
    }
   ],
   "source": [
    "FD_grad, grad[26]"
   ]
  },
  {
   "cell_type": "code",
   "execution_count": 20,
   "metadata": {},
   "outputs": [
    {
     "data": {
      "text/plain": [
       "(0.6048066880648406, 0.592927707518696)"
      ]
     },
     "metadata": {},
     "output_type": "display_data"
    }
   ],
   "source": [
    "FD_Dgrad, Dgrad[26]"
   ]
  }
 ],
 "metadata": {
  "kernelspec": {
   "display_name": "Julia 1.8.2",
   "language": "julia",
   "name": "julia-1.8"
  },
  "language_info": {
   "file_extension": ".jl",
   "mimetype": "application/julia",
   "name": "julia",
   "version": "1.8.2"
  },
  "orig_nbformat": 4
 },
 "nbformat": 4,
 "nbformat_minor": 2
}
