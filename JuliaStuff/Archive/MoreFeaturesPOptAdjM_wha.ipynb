{
 "cells": [
  {
   "cell_type": "code",
   "execution_count": 1,
   "metadata": {},
   "outputs": [],
   "source": [
    "using LinearAlgebra\n",
    "using Plots\n",
    "using SparseArrays\n",
    "using Arpack #Eigenvalues of sparse arrays with eigs()\n",
    "using DifferentialEquations\n",
    "using DiffEqFlux\n",
    "using Optim\n",
    "using ForwardDiff"
   ]
  },
  {
   "cell_type": "code",
   "execution_count": 2,
   "metadata": {},
   "outputs": [],
   "source": [
    "#Def parameters\n",
    "n_cutoff = 8\n",
    "N = 2 * n_cutoff + 1\n",
    "NHilbert = N^2\n",
    "n = sparse(Diagonal(LinRange(-n_cutoff, n_cutoff, N))) #Perhaps implement using StaticArrays\n",
    "Id = sparse(I, N, N)\n",
    "exp_iPhi = spdiagm(-1 => ones(N - 1));\n",
    "\n",
    "#Def Hamiltonian parameters\n",
    "E_J_GHz = 10.0 #scale of E_J in units of h*GHz, h-bar = 1, h = 2pi\n",
    "E_C = 1/100  #Charging energies\n",
    "E_J = 1.0 #Josephson energies\n",
    "phi_ext = 0.995pi\n",
    "\n",
    "prefactor = 4 * E_C\n",
    "Kinetic = 2pi * E_J_GHz * prefactor * (kron(n^2, Id) .+ kron(Id, n^2))\n",
    "\n",
    "Potential1 = -2pi * E_J_GHz * kron(1 / 2 * (exp_iPhi .+ exp_iPhi'), Id) # -E_J1 cos(phi1)\n",
    "Potential2 = -2pi * E_J_GHz * kron(Id, 1 / 2 * (exp_iPhi .+ exp_iPhi')) # -E_J2 cos(phi2)\n",
    "Pot3Mat = kron(exp_iPhi, exp_iPhi')\n",
    "Pot3Const = -2pi * E_J_GHz * E_J / 2\n",
    "\n",
    "function get_Pot3(Φ_ext = phi_ext)\n",
    "    M = exp(im * Φ_ext) * Pot3Mat\n",
    "    return Pot3Const * (M + M')\n",
    "end\n",
    "\n",
    "Potential3 =  get_Pot3() #-E_J3 cos(phi1 - phi2 + phi_ext)\n",
    "Potential12 = E_J * (Potential1 + Potential2)\n",
    "KinPot12 = Kinetic + Potential12\n",
    "chargecoupling = kron(n, Id);"
   ]
  },
  {
   "cell_type": "code",
   "execution_count": 3,
   "metadata": {},
   "outputs": [
    {
     "data": {
      "text/plain": [
       "limit_func (generic function with 1 method)"
      ]
     },
     "metadata": {},
     "output_type": "display_data"
    }
   ],
   "source": [
    "# function limit_func(param,pmin,pmax)\n",
    "#     PL = pmax - pmin\n",
    "#     offset = 0.5*(pmax + pmin)\n",
    "#     PL/2 * (sin(pi * (param - offset)/PL) + 1) + pmin\n",
    "# end\n",
    "function limit_func(param,pmin,pmax)\n",
    "    if pmin < param < pmax\n",
    "        return param\n",
    "    elseif param <= pmin\n",
    "        return pmin\n",
    "    else\n",
    "        return pmax\n",
    "    end\n",
    "end"
   ]
  },
  {
   "cell_type": "code",
   "execution_count": 4,
   "metadata": {},
   "outputs": [
    {
     "data": {
      "image/png": "[encoded data removed]",
      "image/svg+xml": "<?xml version=\"1.0\" encoding=\"utf-8\"?>\n<svg xmlns=\"http://www.w3.org/2000/svg\" xmlns:xlink=\"http://www.w3.org/1999/xlink\" width=\"600\" height=\"400\" viewBox=\"0 0 2400 1600\">\n<defs>\n  <clipPath id=\"clip920\">\n    <rect x=\"0\" y=\"0\" width=\"2400\" height=\"1600\"/>\n  </clipPath>\n</defs>\n<path clip-path=\"url(#clip920)\" d=\"\nM0 1600 L2400 1600 L2400 0 L0 0  Z\n  \" fill=\"#ffffff\" fill-rule=\"evenodd\" fill-opacity=\"1\"/>\n<defs>\n  <clipPath id=\"clip921\">\n    <rect x=\"480\" y=\"0\" width=\"1681\" height=\"1600\"/>\n  </clipPath>\n</defs>\n<path clip-path=\"url(#clip920)\" d=\"\nM138.959 1486.45 L2352.76 1486.45 L2352.76 47.2441 L138.959 47.2441  Z\n  \" fill=\"#ffffff\" fill-rule=\"evenodd\" fill-opacity=\"1\"/>\n<defs>\n  <clipPath id=\"clip922\">\n    <rect x=\"138\" y=\"47\" width=\"2215\" height=\"1440\"/>\n  </clipPath>\n</defs>\n<polyline clip-path=\"url(#clip922)\" style=\"stroke:#000000; stroke-linecap:round; stroke-linejoin:round; stroke-width:2; stroke-opacity:0.1; fill:none\" points=\"\n  268.985,1486.45 268.985,47.2441 \n  \"/>\n<polyline clip-path=\"url(#clip922)\" style=\"stroke:#000000; stroke-linecap:round; stroke-linejoin:round; stroke-width:2; stroke-opacity:0.1; fill:none\" points=\"\n  942.69,1486.45 942.69,47.2441 \n  \"/>\n<polyline clip-path=\"url(#clip922)\" style=\"stroke:#000000; stroke-linecap:round; stroke-linejoin:round; stroke-width:2; stroke-opacity:0.1; fill:none\" points=\"\n  1616.4,1486.45 1616.4,47.2441 \n  \"/>\n<polyline clip-path=\"url(#clip922)\" style=\"stroke:#000000; stroke-linecap:round; stroke-linejoin:round; stroke-width:2; stroke-opacity:0.1; fill:none\" points=\"\n  2290.1,1486.45 2290.1,47.2441 \n  \"/>\n<polyline clip-path=\"url(#clip920)\" style=\"stroke:#000000; stroke-linecap:round; stroke-linejoin:round; stroke-width:4; stroke-opacity:1; fill:none\" points=\"\n  138.959,1486.45 2352.76,1486.45 \n  \"/>\n<polyline clip-path=\"url(#clip920)\" style=\"stroke:#000000; stroke-linecap:round; stroke-linejoin:round; stroke-width:4; stroke-opacity:1; fill:none\" points=\"\n  268.985,1486.45 268.985,1467.55 \n  \"/>\n<polyline clip-path=\"url(#clip920)\" style=\"stroke:#000000; stroke-linecap:round; stroke-linejoin:round; stroke-width:4; stroke-opacity:1; fill:none\" points=\"\n  942.69,1486.45 942.69,1467.55 \n  \"/>\n<polyline clip-path=\"url(#clip920)\" style=\"stroke:#000000; stroke-linecap:round; stroke-linejoin:round; stroke-width:4; stroke-opacity:1; fill:none\" points=\"\n  1616.4,1486.45 1616.4,1467.55 \n  \"/>\n<polyline clip-path=\"url(#clip920)\" style=\"stroke:#000000; stroke-linecap:round; stroke-linejoin:round; stroke-width:4; stroke-opacity:1; fill:none\" points=\"\n  2290.1,1486.45 2290.1,1467.55 \n  \"/>\n<path clip-path=\"url(#clip920)\" d=\"M268.985 1517.37 Q265.374 1517.37 263.545 1520.93 Q261.739 1524.47 261.739 1531.6 Q261.739 1538.71 263.545 1542.27 Q265.374 1545.82 268.985 1545.82 Q272.619 1545.82 274.424 1542.27 Q276.253 1538.71 276.253 1531.6 Q276.253 1524.47 274.424 1520.93 Q272.619 1517.37 268.985 1517.37 M268.985 1513.66 Q274.795 1513.66 277.85 1518.27 Q280.929 1522.85 280.929 1531.6 Q280.929 1540.33 277.85 1544.94 Q274.795 1549.52 268.985 1549.52 Q263.174 1549.52 260.096 1544.94 Q257.04 1540.33 257.04 1531.6 Q257.04 1522.85 260.096 1518.27 Q263.174 1513.66 268.985 1513.66 Z\" fill=\"#000000\" fill-rule=\"evenodd\" fill-opacity=\"1\" /><path clip-path=\"url(#clip920)\" d=\"M917.378 1544.91 L925.017 1544.91 L925.017 1518.55 L916.707 1520.21 L916.707 1515.95 L924.97 1514.29 L929.646 1514.29 L929.646 1544.91 L937.285 1544.91 L937.285 1548.85 L917.378 1548.85 L917.378 1544.91 Z\" fill=\"#000000\" fill-rule=\"evenodd\" fill-opacity=\"1\" /><path clip-path=\"url(#clip920)\" d=\"M956.729 1517.37 Q953.118 1517.37 951.29 1520.93 Q949.484 1524.47 949.484 1531.6 Q949.484 1538.71 951.29 1542.27 Q953.118 1545.82 956.729 1545.82 Q960.364 1545.82 962.169 1542.27 Q963.998 1538.71 963.998 1531.6 Q963.998 1524.47 962.169 1520.93 Q960.364 1517.37 956.729 1517.37 M956.729 1513.66 Q962.54 1513.66 965.595 1518.27 Q968.674 1522.85 968.674 1531.6 Q968.674 1540.33 965.595 1544.94 Q962.54 1549.52 956.729 1549.52 Q950.919 1549.52 947.841 1544.94 Q944.785 1540.33 944.785 1531.6 Q944.785 1522.85 947.841 1518.27 Q950.919 1513.66 956.729 1513.66 Z\" fill=\"#000000\" fill-rule=\"evenodd\" fill-opacity=\"1\" /><path clip-path=\"url(#clip920)\" d=\"M1595.17 1544.91 L1611.49 1544.91 L1611.49 1548.85 L1589.54 1548.85 L1589.54 1544.91 Q1592.21 1542.16 1596.79 1537.53 Q1601.4 1532.88 1602.58 1531.53 Q1604.82 1529.01 1605.7 1527.27 Q1606.6 1525.51 1606.6 1523.82 Q1606.6 1521.07 1604.66 1519.33 Q1602.74 1517.6 1599.64 1517.6 Q1597.44 1517.6 1594.98 1518.36 Q1592.55 1519.13 1589.78 1520.68 L1589.78 1515.95 Q1592.6 1514.82 1595.05 1514.24 Q1597.51 1513.66 1599.54 1513.66 Q1604.91 1513.66 1608.11 1516.35 Q1611.3 1519.03 1611.3 1523.52 Q1611.3 1525.65 1610.49 1527.57 Q1609.71 1529.47 1607.6 1532.07 Q1607.02 1532.74 1603.92 1535.95 Q1600.82 1539.15 1595.17 1544.91 Z\" fill=\"#000000\" fill-rule=\"evenodd\" fill-opacity=\"1\" /><path clip-path=\"url(#clip920)\" d=\"M1631.3 1517.37 Q1627.69 1517.37 1625.86 1520.93 Q1624.06 1524.47 1624.06 1531.6 Q1624.06 1538.71 1625.86 1542.27 Q1627.69 1545.82 1631.3 1545.82 Q1634.94 1545.82 1636.74 1542.27 Q1638.57 1538.71 1638.57 1531.6 Q1638.57 1524.47 1636.74 1520.93 Q1634.94 1517.37 1631.3 1517.37 M1631.3 1513.66 Q1637.11 1513.66 1640.17 1518.27 Q1643.25 1522.85 1643.25 1531.6 Q1643.25 1540.33 1640.17 1544.94 Q1637.11 1549.52 1631.3 1549.52 Q1625.49 1549.52 1622.41 1544.94 Q1619.36 1540.33 1619.36 1531.6 Q1619.36 1522.85 1622.41 1518.27 Q1625.49 1513.66 1631.3 1513.66 Z\" fill=\"#000000\" fill-rule=\"evenodd\" fill-opacity=\"1\" /><path clip-path=\"url(#clip920)\" d=\"M2278.94 1530.21 Q2282.3 1530.93 2284.18 1533.2 Q2286.07 1535.47 2286.07 1538.8 Q2286.07 1543.92 2282.56 1546.72 Q2279.04 1549.52 2272.56 1549.52 Q2270.38 1549.52 2268.06 1549.08 Q2265.77 1548.66 2263.32 1547.81 L2263.32 1543.29 Q2265.26 1544.43 2267.58 1545.01 Q2269.89 1545.58 2272.42 1545.58 Q2276.81 1545.58 2279.11 1543.85 Q2281.42 1542.11 2281.42 1538.8 Q2281.42 1535.75 2279.27 1534.03 Q2277.14 1532.3 2273.32 1532.3 L2269.29 1532.3 L2269.29 1528.45 L2273.5 1528.45 Q2276.95 1528.45 2278.78 1527.09 Q2280.61 1525.7 2280.61 1523.11 Q2280.61 1520.45 2278.71 1519.03 Q2276.84 1517.6 2273.32 1517.6 Q2271.4 1517.6 2269.2 1518.01 Q2267 1518.43 2264.36 1519.31 L2264.36 1515.14 Q2267.02 1514.4 2269.34 1514.03 Q2271.68 1513.66 2273.74 1513.66 Q2279.06 1513.66 2282.16 1516.09 Q2285.26 1518.5 2285.26 1522.62 Q2285.26 1525.49 2283.62 1527.48 Q2281.98 1529.45 2278.94 1530.21 Z\" fill=\"#000000\" fill-rule=\"evenodd\" fill-opacity=\"1\" /><path clip-path=\"url(#clip920)\" d=\"M2304.94 1517.37 Q2301.33 1517.37 2299.5 1520.93 Q2297.69 1524.47 2297.69 1531.6 Q2297.69 1538.71 2299.5 1542.27 Q2301.33 1545.82 2304.94 1545.82 Q2308.57 1545.82 2310.38 1542.27 Q2312.21 1538.71 2312.21 1531.6 Q2312.21 1524.47 2310.38 1520.93 Q2308.57 1517.37 2304.94 1517.37 M2304.94 1513.66 Q2310.75 1513.66 2313.8 1518.27 Q2316.88 1522.85 2316.88 1531.6 Q2316.88 1540.33 2313.8 1544.94 Q2310.75 1549.52 2304.94 1549.52 Q2299.13 1549.52 2296.05 1544.94 Q2292.99 1540.33 2292.99 1531.6 Q2292.99 1522.85 2296.05 1518.27 Q2299.13 1513.66 2304.94 1513.66 Z\" fill=\"#000000\" fill-rule=\"evenodd\" fill-opacity=\"1\" /><polyline clip-path=\"url(#clip922)\" style=\"stroke:#000000; stroke-linecap:round; stroke-linejoin:round; stroke-width:2; stroke-opacity:0.1; fill:none\" points=\"\n  138.959,1445.72 2352.76,1445.72 \n  \"/>\n<polyline clip-path=\"url(#clip922)\" style=\"stroke:#000000; stroke-linecap:round; stroke-linejoin:round; stroke-width:2; stroke-opacity:0.1; fill:none\" points=\"\n  138.959,993.136 2352.76,993.136 \n  \"/>\n<polyline clip-path=\"url(#clip922)\" style=\"stroke:#000000; stroke-linecap:round; stroke-linejoin:round; stroke-width:2; stroke-opacity:0.1; fill:none\" points=\"\n  138.959,540.556 2352.76,540.556 \n  \"/>\n<polyline clip-path=\"url(#clip922)\" style=\"stroke:#000000; stroke-linecap:round; stroke-linejoin:round; stroke-width:2; stroke-opacity:0.1; fill:none\" points=\"\n  138.959,87.9763 2352.76,87.9763 \n  \"/>\n<polyline clip-path=\"url(#clip920)\" style=\"stroke:#000000; stroke-linecap:round; stroke-linejoin:round; stroke-width:4; stroke-opacity:1; fill:none\" points=\"\n  138.959,1486.45 138.959,47.2441 \n  \"/>\n<polyline clip-path=\"url(#clip920)\" style=\"stroke:#000000; stroke-linecap:round; stroke-linejoin:round; stroke-width:4; stroke-opacity:1; fill:none\" points=\"\n  138.959,1445.72 157.857,1445.72 \n  \"/>\n<polyline clip-path=\"url(#clip920)\" style=\"stroke:#000000; stroke-linecap:round; stroke-linejoin:round; stroke-width:4; stroke-opacity:1; fill:none\" points=\"\n  138.959,993.136 157.857,993.136 \n  \"/>\n<polyline clip-path=\"url(#clip920)\" style=\"stroke:#000000; stroke-linecap:round; stroke-linejoin:round; stroke-width:4; stroke-opacity:1; fill:none\" points=\"\n  138.959,540.556 157.857,540.556 \n  \"/>\n<polyline clip-path=\"url(#clip920)\" style=\"stroke:#000000; stroke-linecap:round; stroke-linejoin:round; stroke-width:4; stroke-opacity:1; fill:none\" points=\"\n  138.959,87.9763 157.857,87.9763 \n  \"/>\n<path clip-path=\"url(#clip920)\" d=\"M91.0151 1431.51 Q87.404 1431.51 85.5753 1435.08 Q83.7697 1438.62 83.7697 1445.75 Q83.7697 1452.86 85.5753 1456.42 Q87.404 1459.96 91.0151 1459.96 Q94.6493 1459.96 96.4548 1456.42 Q98.2835 1452.86 98.2835 1445.75 Q98.2835 1438.62 96.4548 1435.08 Q94.6493 1431.51 91.0151 1431.51 M91.0151 1427.81 Q96.8252 1427.81 99.8808 1432.42 Q102.959 1437 102.959 1445.75 Q102.959 1454.48 99.8808 1459.08 Q96.8252 1463.67 91.0151 1463.67 Q85.2049 1463.67 82.1262 1459.08 Q79.0707 1454.48 79.0707 1445.75 Q79.0707 1437 82.1262 1432.42 Q85.2049 1427.81 91.0151 1427.81 Z\" fill=\"#000000\" fill-rule=\"evenodd\" fill-opacity=\"1\" /><path clip-path=\"url(#clip920)\" d=\"M82.0568 975.856 L100.413 975.856 L100.413 979.791 L86.3392 979.791 L86.3392 988.263 Q87.3577 987.916 88.3762 987.754 Q89.3947 987.569 90.4132 987.569 Q96.2002 987.569 99.5798 990.74 Q102.959 993.911 102.959 999.328 Q102.959 1004.91 99.4872 1008.01 Q96.015 1011.09 89.6956 1011.09 Q87.5197 1011.09 85.2512 1010.72 Q83.0058 1010.35 80.5984 1009.61 L80.5984 1004.91 Q82.6818 1006.04 84.904 1006.6 Q87.1262 1007.15 89.603 1007.15 Q93.6076 1007.15 95.9456 1005.05 Q98.2835 1002.94 98.2835 999.328 Q98.2835 995.717 95.9456 993.61 Q93.6076 991.504 89.603 991.504 Q87.728 991.504 85.8531 991.921 Q84.0012 992.337 82.0568 993.217 L82.0568 975.856 Z\" fill=\"#000000\" fill-rule=\"evenodd\" fill-opacity=\"1\" /><path clip-path=\"url(#clip920)\" d=\"M51.6634 553.901 L59.3023 553.901 L59.3023 527.535 L50.9921 529.202 L50.9921 524.943 L59.256 523.276 L63.9319 523.276 L63.9319 553.901 L71.5707 553.901 L71.5707 557.836 L51.6634 557.836 L51.6634 553.901 Z\" fill=\"#000000\" fill-rule=\"evenodd\" fill-opacity=\"1\" /><path clip-path=\"url(#clip920)\" d=\"M91.0151 526.355 Q87.404 526.355 85.5753 529.92 Q83.7697 533.461 83.7697 540.591 Q83.7697 547.697 85.5753 551.262 Q87.404 554.804 91.0151 554.804 Q94.6493 554.804 96.4548 551.262 Q98.2835 547.697 98.2835 540.591 Q98.2835 533.461 96.4548 529.92 Q94.6493 526.355 91.0151 526.355 M91.0151 522.651 Q96.8252 522.651 99.8808 527.258 Q102.959 531.841 102.959 540.591 Q102.959 549.318 99.8808 553.924 Q96.8252 558.507 91.0151 558.507 Q85.2049 558.507 82.1262 553.924 Q79.0707 549.318 79.0707 540.591 Q79.0707 531.841 82.1262 527.258 Q85.2049 522.651 91.0151 522.651 Z\" fill=\"#000000\" fill-rule=\"evenodd\" fill-opacity=\"1\" /><path clip-path=\"url(#clip920)\" d=\"M52.6588 101.321 L60.2976 101.321 L60.2976 74.9555 L51.9875 76.6222 L51.9875 72.3629 L60.2513 70.6963 L64.9272 70.6963 L64.9272 101.321 L72.5661 101.321 L72.5661 105.256 L52.6588 105.256 L52.6588 101.321 Z\" fill=\"#000000\" fill-rule=\"evenodd\" fill-opacity=\"1\" /><path clip-path=\"url(#clip920)\" d=\"M82.0568 70.6963 L100.413 70.6963 L100.413 74.6314 L86.3392 74.6314 L86.3392 83.1036 Q87.3577 82.7564 88.3762 82.5944 Q89.3947 82.4092 90.4132 82.4092 Q96.2002 82.4092 99.5798 85.5805 Q102.959 88.7517 102.959 94.1684 Q102.959 99.747 99.4872 102.849 Q96.015 105.928 89.6956 105.928 Q87.5197 105.928 85.2512 105.557 Q83.0058 105.187 80.5984 104.446 L80.5984 99.747 Q82.6818 100.881 84.904 101.437 Q87.1262 101.992 89.603 101.992 Q93.6076 101.992 95.9456 99.8859 Q98.2835 97.7795 98.2835 94.1684 Q98.2835 90.5573 95.9456 88.4508 Q93.6076 86.3443 89.603 86.3443 Q87.728 86.3443 85.8531 86.761 Q84.0012 87.1777 82.0568 88.0573 L82.0568 70.6963 Z\" fill=\"#000000\" fill-rule=\"evenodd\" fill-opacity=\"1\" /><polyline clip-path=\"url(#clip922)\" style=\"stroke:#009af9; stroke-linecap:round; stroke-linejoin:round; stroke-width:4; stroke-opacity:1; fill:none\" points=\"\n  201.614,1445.72 222.71,1445.72 243.806,1445.72 264.902,1445.72 285.997,1422.86 307.093,1394.51 328.189,1366.17 349.285,1337.83 370.381,1309.48 391.477,1281.14 \n  412.572,1252.8 433.668,1224.45 454.764,1196.11 475.86,1167.77 496.956,1139.42 518.052,1111.08 539.147,1082.74 560.243,1054.39 581.339,1026.05 602.435,997.707 \n  623.531,969.364 644.627,941.021 665.722,912.677 686.818,884.334 707.914,855.99 729.01,827.647 750.106,799.304 771.201,770.96 792.297,742.617 813.393,714.274 \n  834.489,685.93 855.585,657.587 876.681,629.243 897.776,600.9 918.872,572.557 939.968,544.213 961.064,515.87 982.16,487.527 1003.26,459.183 1024.35,430.84 \n  1045.45,402.496 1066.54,374.153 1087.64,345.81 1108.73,317.466 1129.83,289.123 1150.93,260.779 1172.02,232.436 1193.12,204.093 1214.21,175.749 1235.31,147.406 \n  1256.41,119.063 1277.5,90.7192 1298.6,87.9763 1319.69,87.9763 1340.79,87.9763 1361.88,87.9763 1382.98,87.9763 1404.08,87.9763 1425.17,87.9763 1446.27,87.9763 \n  1467.36,87.9763 1488.46,87.9763 1509.56,87.9763 1530.65,87.9763 1551.75,87.9763 1572.84,87.9763 1593.94,87.9763 1615.03,87.9763 1636.13,87.9763 1657.23,87.9763 \n  1678.32,87.9763 1699.42,87.9763 1720.51,87.9763 1741.61,87.9763 1762.71,87.9763 1783.8,87.9763 1804.9,87.9763 1825.99,87.9763 1847.09,87.9763 1868.18,87.9763 \n  1889.28,87.9763 1910.38,87.9763 1931.47,87.9763 1952.57,87.9763 1973.66,87.9763 1994.76,87.9763 2015.86,87.9763 2036.95,87.9763 2058.05,87.9763 2079.14,87.9763 \n  2100.24,87.9763 2121.33,87.9763 2142.43,87.9763 2163.53,87.9763 2184.62,87.9763 2205.72,87.9763 2226.81,87.9763 2247.91,87.9763 2269.01,87.9763 2290.1,87.9763 \n  \n  \"/>\n<path clip-path=\"url(#clip920)\" d=\"\nM1980.56 198.898 L2278.96 198.898 L2278.96 95.2176 L1980.56 95.2176  Z\n  \" fill=\"#ffffff\" fill-rule=\"evenodd\" fill-opacity=\"1\"/>\n<polyline clip-path=\"url(#clip920)\" style=\"stroke:#000000; stroke-linecap:round; stroke-linejoin:round; stroke-width:4; stroke-opacity:1; fill:none\" points=\"\n  1980.56,198.898 2278.96,198.898 2278.96,95.2176 1980.56,95.2176 1980.56,198.898 \n  \"/>\n<polyline clip-path=\"url(#clip920)\" style=\"stroke:#009af9; stroke-linecap:round; stroke-linejoin:round; stroke-width:4; stroke-opacity:1; fill:none\" points=\"\n  2005.15,147.058 2152.74,147.058 \n  \"/>\n<path clip-path=\"url(#clip920)\" d=\"M2191.18 166.745 Q2189.37 171.375 2187.66 172.787 Q2185.95 174.199 2183.08 174.199 L2179.67 174.199 L2179.67 170.634 L2182.17 170.634 Q2183.93 170.634 2184.91 169.8 Q2185.88 168.967 2187.06 165.865 L2187.82 163.921 L2177.34 138.412 L2181.85 138.412 L2189.95 158.689 L2198.05 138.412 L2202.57 138.412 L2191.18 166.745 Z\" fill=\"#000000\" fill-rule=\"evenodd\" fill-opacity=\"1\" /><path clip-path=\"url(#clip920)\" d=\"M2209.86 160.402 L2217.5 160.402 L2217.5 134.037 L2209.19 135.703 L2209.19 131.444 L2217.45 129.778 L2222.13 129.778 L2222.13 160.402 L2229.77 160.402 L2229.77 164.338 L2209.86 164.338 L2209.86 160.402 Z\" fill=\"#000000\" fill-rule=\"evenodd\" fill-opacity=\"1\" /></svg>\n",
      "text/html": [
       "<?xml version=\"1.0\" encoding=\"utf-8\"?>\n",
       "<svg xmlns=\"http://www.w3.org/2000/svg\" xmlns:xlink=\"http://www.w3.org/1999/xlink\" width=\"600\" height=\"400\" viewBox=\"0 0 2400 1600\">\n",
       "<defs>\n",
       "  <clipPath id=\"clip970\">\n",
       "    <rect x=\"0\" y=\"0\" width=\"2400\" height=\"1600\"/>\n",
       "  </clipPath>\n",
       "</defs>\n",
       "<path clip-path=\"url(#clip970)\" d=\"\n",
       "M0 1600 L2400 1600 L2400 0 L0 0  Z\n",
       "  \" fill=\"#ffffff\" fill-rule=\"evenodd\" fill-opacity=\"1\"/>\n",
       "<defs>\n",
       "  <clipPath id=\"clip971\">\n",
       "    <rect x=\"480\" y=\"0\" width=\"1681\" height=\"1600\"/>\n",
       "  </clipPath>\n",
       "</defs>\n",
       "<path clip-path=\"url(#clip970)\" d=\"\n",
       "M138.959 1486.45 L2352.76 1486.45 L2352.76 47.2441 L138.959 47.2441  Z\n",
       "  \" fill=\"#ffffff\" fill-rule=\"evenodd\" fill-opacity=\"1\"/>\n",
       "<defs>\n",
       "  <clipPath id=\"clip972\">\n",
       "    <rect x=\"138\" y=\"47\" width=\"2215\" height=\"1440\"/>\n",
       "  </clipPath>\n",
       "</defs>\n",
       "<polyline clip-path=\"url(#clip972)\" style=\"stroke:#000000; stroke-linecap:round; stroke-linejoin:round; stroke-width:2; stroke-opacity:0.1; fill:none\" points=\"\n",
       "  268.985,1486.45 268.985,47.2441 \n",
       "  \"/>\n",
       "<polyline clip-path=\"url(#clip972)\" style=\"stroke:#000000; stroke-linecap:round; stroke-linejoin:round; stroke-width:2; stroke-opacity:0.1; fill:none\" points=\"\n",
       "  942.69,1486.45 942.69,47.2441 \n",
       "  \"/>\n",
       "<polyline clip-path=\"url(#clip972)\" style=\"stroke:#000000; stroke-linecap:round; stroke-linejoin:round; stroke-width:2; stroke-opacity:0.1; fill:none\" points=\"\n",
       "  1616.4,1486.45 1616.4,47.2441 \n",
       "  \"/>\n",
       "<polyline clip-path=\"url(#clip972)\" style=\"stroke:#000000; stroke-linecap:round; stroke-linejoin:round; stroke-width:2; stroke-opacity:0.1; fill:none\" points=\"\n",
       "  2290.1,1486.45 2290.1,47.2441 \n",
       "  \"/>\n",
       "<polyline clip-path=\"url(#clip970)\" style=\"stroke:#000000; stroke-linecap:round; stroke-linejoin:round; stroke-width:4; stroke-opacity:1; fill:none\" points=\"\n",
       "  138.959,1486.45 2352.76,1486.45 \n",
       "  \"/>\n",
       "<polyline clip-path=\"url(#clip970)\" style=\"stroke:#000000; stroke-linecap:round; stroke-linejoin:round; stroke-width:4; stroke-opacity:1; fill:none\" points=\"\n",
       "  268.985,1486.45 268.985,1467.55 \n",
       "  \"/>\n",
       "<polyline clip-path=\"url(#clip970)\" style=\"stroke:#000000; stroke-linecap:round; stroke-linejoin:round; stroke-width:4; stroke-opacity:1; fill:none\" points=\"\n",
       "  942.69,1486.45 942.69,1467.55 \n",
       "  \"/>\n",
       "<polyline clip-path=\"url(#clip970)\" style=\"stroke:#000000; stroke-linecap:round; stroke-linejoin:round; stroke-width:4; stroke-opacity:1; fill:none\" points=\"\n",
       "  1616.4,1486.45 1616.4,1467.55 \n",
       "  \"/>\n",
       "<polyline clip-path=\"url(#clip970)\" style=\"stroke:#000000; stroke-linecap:round; stroke-linejoin:round; stroke-width:4; stroke-opacity:1; fill:none\" points=\"\n",
       "  2290.1,1486.45 2290.1,1467.55 \n",
       "  \"/>\n",
       "<path clip-path=\"url(#clip970)\" d=\"M268.985 1517.37 Q265.374 1517.37 263.545 1520.93 Q261.739 1524.47 261.739 1531.6 Q261.739 1538.71 263.545 1542.27 Q265.374 1545.82 268.985 1545.82 Q272.619 1545.82 274.424 1542.27 Q276.253 1538.71 276.253 1531.6 Q276.253 1524.47 274.424 1520.93 Q272.619 1517.37 268.985 1517.37 M268.985 1513.66 Q274.795 1513.66 277.85 1518.27 Q280.929 1522.85 280.929 1531.6 Q280.929 1540.33 277.85 1544.94 Q274.795 1549.52 268.985 1549.52 Q263.174 1549.52 260.096 1544.94 Q257.04 1540.33 257.04 1531.6 Q257.04 1522.85 260.096 1518.27 Q263.174 1513.66 268.985 1513.66 Z\" fill=\"#000000\" fill-rule=\"evenodd\" fill-opacity=\"1\" /><path clip-path=\"url(#clip970)\" d=\"M917.378 1544.91 L925.017 1544.91 L925.017 1518.55 L916.707 1520.21 L916.707 1515.95 L924.97 1514.29 L929.646 1514.29 L929.646 1544.91 L937.285 1544.91 L937.285 1548.85 L917.378 1548.85 L917.378 1544.91 Z\" fill=\"#000000\" fill-rule=\"evenodd\" fill-opacity=\"1\" /><path clip-path=\"url(#clip970)\" d=\"M956.729 1517.37 Q953.118 1517.37 951.29 1520.93 Q949.484 1524.47 949.484 1531.6 Q949.484 1538.71 951.29 1542.27 Q953.118 1545.82 956.729 1545.82 Q960.364 1545.82 962.169 1542.27 Q963.998 1538.71 963.998 1531.6 Q963.998 1524.47 962.169 1520.93 Q960.364 1517.37 956.729 1517.37 M956.729 1513.66 Q962.54 1513.66 965.595 1518.27 Q968.674 1522.85 968.674 1531.6 Q968.674 1540.33 965.595 1544.94 Q962.54 1549.52 956.729 1549.52 Q950.919 1549.52 947.841 1544.94 Q944.785 1540.33 944.785 1531.6 Q944.785 1522.85 947.841 1518.27 Q950.919 1513.66 956.729 1513.66 Z\" fill=\"#000000\" fill-rule=\"evenodd\" fill-opacity=\"1\" /><path clip-path=\"url(#clip970)\" d=\"M1595.17 1544.91 L1611.49 1544.91 L1611.49 1548.85 L1589.54 1548.85 L1589.54 1544.91 Q1592.21 1542.16 1596.79 1537.53 Q1601.4 1532.88 1602.58 1531.53 Q1604.82 1529.01 1605.7 1527.27 Q1606.6 1525.51 1606.6 1523.82 Q1606.6 1521.07 1604.66 1519.33 Q1602.74 1517.6 1599.64 1517.6 Q1597.44 1517.6 1594.98 1518.36 Q1592.55 1519.13 1589.78 1520.68 L1589.78 1515.95 Q1592.6 1514.82 1595.05 1514.24 Q1597.51 1513.66 1599.54 1513.66 Q1604.91 1513.66 1608.11 1516.35 Q1611.3 1519.03 1611.3 1523.52 Q1611.3 1525.65 1610.49 1527.57 Q1609.71 1529.47 1607.6 1532.07 Q1607.02 1532.74 1603.92 1535.95 Q1600.82 1539.15 1595.17 1544.91 Z\" fill=\"#000000\" fill-rule=\"evenodd\" fill-opacity=\"1\" /><path clip-path=\"url(#clip970)\" d=\"M1631.3 1517.37 Q1627.69 1517.37 1625.86 1520.93 Q1624.06 1524.47 1624.06 1531.6 Q1624.06 1538.71 1625.86 1542.27 Q1627.69 1545.82 1631.3 1545.82 Q1634.94 1545.82 1636.74 1542.27 Q1638.57 1538.71 1638.57 1531.6 Q1638.57 1524.47 1636.74 1520.93 Q1634.94 1517.37 1631.3 1517.37 M1631.3 1513.66 Q1637.11 1513.66 1640.17 1518.27 Q1643.25 1522.85 1643.25 1531.6 Q1643.25 1540.33 1640.17 1544.94 Q1637.11 1549.52 1631.3 1549.52 Q1625.49 1549.52 1622.41 1544.94 Q1619.36 1540.33 1619.36 1531.6 Q1619.36 1522.85 1622.41 1518.27 Q1625.49 1513.66 1631.3 1513.66 Z\" fill=\"#000000\" fill-rule=\"evenodd\" fill-opacity=\"1\" /><path clip-path=\"url(#clip970)\" d=\"M2278.94 1530.21 Q2282.3 1530.93 2284.18 1533.2 Q2286.07 1535.47 2286.07 1538.8 Q2286.07 1543.92 2282.56 1546.72 Q2279.04 1549.52 2272.56 1549.52 Q2270.38 1549.52 2268.06 1549.08 Q2265.77 1548.66 2263.32 1547.81 L2263.32 1543.29 Q2265.26 1544.43 2267.58 1545.01 Q2269.89 1545.58 2272.42 1545.58 Q2276.81 1545.58 2279.11 1543.85 Q2281.42 1542.11 2281.42 1538.8 Q2281.42 1535.75 2279.27 1534.03 Q2277.14 1532.3 2273.32 1532.3 L2269.29 1532.3 L2269.29 1528.45 L2273.5 1528.45 Q2276.95 1528.45 2278.78 1527.09 Q2280.61 1525.7 2280.61 1523.11 Q2280.61 1520.45 2278.71 1519.03 Q2276.84 1517.6 2273.32 1517.6 Q2271.4 1517.6 2269.2 1518.01 Q2267 1518.43 2264.36 1519.31 L2264.36 1515.14 Q2267.02 1514.4 2269.34 1514.03 Q2271.68 1513.66 2273.74 1513.66 Q2279.06 1513.66 2282.16 1516.09 Q2285.26 1518.5 2285.26 1522.62 Q2285.26 1525.49 2283.62 1527.48 Q2281.98 1529.45 2278.94 1530.21 Z\" fill=\"#000000\" fill-rule=\"evenodd\" fill-opacity=\"1\" /><path clip-path=\"url(#clip970)\" d=\"M2304.94 1517.37 Q2301.33 1517.37 2299.5 1520.93 Q2297.69 1524.47 2297.69 1531.6 Q2297.69 1538.71 2299.5 1542.27 Q2301.33 1545.82 2304.94 1545.82 Q2308.57 1545.82 2310.38 1542.27 Q2312.21 1538.71 2312.21 1531.6 Q2312.21 1524.47 2310.38 1520.93 Q2308.57 1517.37 2304.94 1517.37 M2304.94 1513.66 Q2310.75 1513.66 2313.8 1518.27 Q2316.88 1522.85 2316.88 1531.6 Q2316.88 1540.33 2313.8 1544.94 Q2310.75 1549.52 2304.94 1549.52 Q2299.13 1549.52 2296.05 1544.94 Q2292.99 1540.33 2292.99 1531.6 Q2292.99 1522.85 2296.05 1518.27 Q2299.13 1513.66 2304.94 1513.66 Z\" fill=\"#000000\" fill-rule=\"evenodd\" fill-opacity=\"1\" /><polyline clip-path=\"url(#clip972)\" style=\"stroke:#000000; stroke-linecap:round; stroke-linejoin:round; stroke-width:2; stroke-opacity:0.1; fill:none\" points=\"\n",
       "  138.959,1445.72 2352.76,1445.72 \n",
       "  \"/>\n",
       "<polyline clip-path=\"url(#clip972)\" style=\"stroke:#000000; stroke-linecap:round; stroke-linejoin:round; stroke-width:2; stroke-opacity:0.1; fill:none\" points=\"\n",
       "  138.959,993.136 2352.76,993.136 \n",
       "  \"/>\n",
       "<polyline clip-path=\"url(#clip972)\" style=\"stroke:#000000; stroke-linecap:round; stroke-linejoin:round; stroke-width:2; stroke-opacity:0.1; fill:none\" points=\"\n",
       "  138.959,540.556 2352.76,540.556 \n",
       "  \"/>\n",
       "<polyline clip-path=\"url(#clip972)\" style=\"stroke:#000000; stroke-linecap:round; stroke-linejoin:round; stroke-width:2; stroke-opacity:0.1; fill:none\" points=\"\n",
       "  138.959,87.9763 2352.76,87.9763 \n",
       "  \"/>\n",
       "<polyline clip-path=\"url(#clip970)\" style=\"stroke:#000000; stroke-linecap:round; stroke-linejoin:round; stroke-width:4; stroke-opacity:1; fill:none\" points=\"\n",
       "  138.959,1486.45 138.959,47.2441 \n",
       "  \"/>\n",
       "<polyline clip-path=\"url(#clip970)\" style=\"stroke:#000000; stroke-linecap:round; stroke-linejoin:round; stroke-width:4; stroke-opacity:1; fill:none\" points=\"\n",
       "  138.959,1445.72 157.857,1445.72 \n",
       "  \"/>\n",
       "<polyline clip-path=\"url(#clip970)\" style=\"stroke:#000000; stroke-linecap:round; stroke-linejoin:round; stroke-width:4; stroke-opacity:1; fill:none\" points=\"\n",
       "  138.959,993.136 157.857,993.136 \n",
       "  \"/>\n",
       "<polyline clip-path=\"url(#clip970)\" style=\"stroke:#000000; stroke-linecap:round; stroke-linejoin:round; stroke-width:4; stroke-opacity:1; fill:none\" points=\"\n",
       "  138.959,540.556 157.857,540.556 \n",
       "  \"/>\n",
       "<polyline clip-path=\"url(#clip970)\" style=\"stroke:#000000; stroke-linecap:round; stroke-linejoin:round; stroke-width:4; stroke-opacity:1; fill:none\" points=\"\n",
       "  138.959,87.9763 157.857,87.9763 \n",
       "  \"/>\n",
       "<path clip-path=\"url(#clip970)\" d=\"M91.0151 1431.51 Q87.404 1431.51 85.5753 1435.08 Q83.7697 1438.62 83.7697 1445.75 Q83.7697 1452.86 85.5753 1456.42 Q87.404 1459.96 91.0151 1459.96 Q94.6493 1459.96 96.4548 1456.42 Q98.2835 1452.86 98.2835 1445.75 Q98.2835 1438.62 96.4548 1435.08 Q94.6493 1431.51 91.0151 1431.51 M91.0151 1427.81 Q96.8252 1427.81 99.8808 1432.42 Q102.959 1437 102.959 1445.75 Q102.959 1454.48 99.8808 1459.08 Q96.8252 1463.67 91.0151 1463.67 Q85.2049 1463.67 82.1262 1459.08 Q79.0707 1454.48 79.0707 1445.75 Q79.0707 1437 82.1262 1432.42 Q85.2049 1427.81 91.0151 1427.81 Z\" fill=\"#000000\" fill-rule=\"evenodd\" fill-opacity=\"1\" /><path clip-path=\"url(#clip970)\" d=\"M82.0568 975.856 L100.413 975.856 L100.413 979.791 L86.3392 979.791 L86.3392 988.263 Q87.3577 987.916 88.3762 987.754 Q89.3947 987.569 90.4132 987.569 Q96.2002 987.569 99.5798 990.74 Q102.959 993.911 102.959 999.328 Q102.959 1004.91 99.4872 1008.01 Q96.015 1011.09 89.6956 1011.09 Q87.5197 1011.09 85.2512 1010.72 Q83.0058 1010.35 80.5984 1009.61 L80.5984 1004.91 Q82.6818 1006.04 84.904 1006.6 Q87.1262 1007.15 89.603 1007.15 Q93.6076 1007.15 95.9456 1005.05 Q98.2835 1002.94 98.2835 999.328 Q98.2835 995.717 95.9456 993.61 Q93.6076 991.504 89.603 991.504 Q87.728 991.504 85.8531 991.921 Q84.0012 992.337 82.0568 993.217 L82.0568 975.856 Z\" fill=\"#000000\" fill-rule=\"evenodd\" fill-opacity=\"1\" /><path clip-path=\"url(#clip970)\" d=\"M51.6634 553.901 L59.3023 553.901 L59.3023 527.535 L50.9921 529.202 L50.9921 524.943 L59.256 523.276 L63.9319 523.276 L63.9319 553.901 L71.5707 553.901 L71.5707 557.836 L51.6634 557.836 L51.6634 553.901 Z\" fill=\"#000000\" fill-rule=\"evenodd\" fill-opacity=\"1\" /><path clip-path=\"url(#clip970)\" d=\"M91.0151 526.355 Q87.404 526.355 85.5753 529.92 Q83.7697 533.461 83.7697 540.591 Q83.7697 547.697 85.5753 551.262 Q87.404 554.804 91.0151 554.804 Q94.6493 554.804 96.4548 551.262 Q98.2835 547.697 98.2835 540.591 Q98.2835 533.461 96.4548 529.92 Q94.6493 526.355 91.0151 526.355 M91.0151 522.651 Q96.8252 522.651 99.8808 527.258 Q102.959 531.841 102.959 540.591 Q102.959 549.318 99.8808 553.924 Q96.8252 558.507 91.0151 558.507 Q85.2049 558.507 82.1262 553.924 Q79.0707 549.318 79.0707 540.591 Q79.0707 531.841 82.1262 527.258 Q85.2049 522.651 91.0151 522.651 Z\" fill=\"#000000\" fill-rule=\"evenodd\" fill-opacity=\"1\" /><path clip-path=\"url(#clip970)\" d=\"M52.6588 101.321 L60.2976 101.321 L60.2976 74.9555 L51.9875 76.6222 L51.9875 72.3629 L60.2513 70.6963 L64.9272 70.6963 L64.9272 101.321 L72.5661 101.321 L72.5661 105.256 L52.6588 105.256 L52.6588 101.321 Z\" fill=\"#000000\" fill-rule=\"evenodd\" fill-opacity=\"1\" /><path clip-path=\"url(#clip970)\" d=\"M82.0568 70.6963 L100.413 70.6963 L100.413 74.6314 L86.3392 74.6314 L86.3392 83.1036 Q87.3577 82.7564 88.3762 82.5944 Q89.3947 82.4092 90.4132 82.4092 Q96.2002 82.4092 99.5798 85.5805 Q102.959 88.7517 102.959 94.1684 Q102.959 99.747 99.4872 102.849 Q96.015 105.928 89.6956 105.928 Q87.5197 105.928 85.2512 105.557 Q83.0058 105.187 80.5984 104.446 L80.5984 99.747 Q82.6818 100.881 84.904 101.437 Q87.1262 101.992 89.603 101.992 Q93.6076 101.992 95.9456 99.8859 Q98.2835 97.7795 98.2835 94.1684 Q98.2835 90.5573 95.9456 88.4508 Q93.6076 86.3443 89.603 86.3443 Q87.728 86.3443 85.8531 86.761 Q84.0012 87.1777 82.0568 88.0573 L82.0568 70.6963 Z\" fill=\"#000000\" fill-rule=\"evenodd\" fill-opacity=\"1\" /><polyline clip-path=\"url(#clip972)\" style=\"stroke:#009af9; stroke-linecap:round; stroke-linejoin:round; stroke-width:4; stroke-opacity:1; fill:none\" points=\"\n",
       "  201.614,1445.72 222.71,1445.72 243.806,1445.72 264.902,1445.72 285.997,1422.86 307.093,1394.51 328.189,1366.17 349.285,1337.83 370.381,1309.48 391.477,1281.14 \n",
       "  412.572,1252.8 433.668,1224.45 454.764,1196.11 475.86,1167.77 496.956,1139.42 518.052,1111.08 539.147,1082.74 560.243,1054.39 581.339,1026.05 602.435,997.707 \n",
       "  623.531,969.364 644.627,941.021 665.722,912.677 686.818,884.334 707.914,855.99 729.01,827.647 750.106,799.304 771.201,770.96 792.297,742.617 813.393,714.274 \n",
       "  834.489,685.93 855.585,657.587 876.681,629.243 897.776,600.9 918.872,572.557 939.968,544.213 961.064,515.87 982.16,487.527 1003.26,459.183 1024.35,430.84 \n",
       "  1045.45,402.496 1066.54,374.153 1087.64,345.81 1108.73,317.466 1129.83,289.123 1150.93,260.779 1172.02,232.436 1193.12,204.093 1214.21,175.749 1235.31,147.406 \n",
       "  1256.41,119.063 1277.5,90.7192 1298.6,87.9763 1319.69,87.9763 1340.79,87.9763 1361.88,87.9763 1382.98,87.9763 1404.08,87.9763 1425.17,87.9763 1446.27,87.9763 \n",
       "  1467.36,87.9763 1488.46,87.9763 1509.56,87.9763 1530.65,87.9763 1551.75,87.9763 1572.84,87.9763 1593.94,87.9763 1615.03,87.9763 1636.13,87.9763 1657.23,87.9763 \n",
       "  1678.32,87.9763 1699.42,87.9763 1720.51,87.9763 1741.61,87.9763 1762.71,87.9763 1783.8,87.9763 1804.9,87.9763 1825.99,87.9763 1847.09,87.9763 1868.18,87.9763 \n",
       "  1889.28,87.9763 1910.38,87.9763 1931.47,87.9763 1952.57,87.9763 1973.66,87.9763 1994.76,87.9763 2015.86,87.9763 2036.95,87.9763 2058.05,87.9763 2079.14,87.9763 \n",
       "  2100.24,87.9763 2121.33,87.9763 2142.43,87.9763 2163.53,87.9763 2184.62,87.9763 2205.72,87.9763 2226.81,87.9763 2247.91,87.9763 2269.01,87.9763 2290.1,87.9763 \n",
       "  \n",
       "  \"/>\n",
       "<path clip-path=\"url(#clip970)\" d=\"\n",
       "M1980.56 198.898 L2278.96 198.898 L2278.96 95.2176 L1980.56 95.2176  Z\n",
       "  \" fill=\"#ffffff\" fill-rule=\"evenodd\" fill-opacity=\"1\"/>\n",
       "<polyline clip-path=\"url(#clip970)\" style=\"stroke:#000000; stroke-linecap:round; stroke-linejoin:round; stroke-width:4; stroke-opacity:1; fill:none\" points=\"\n",
       "  1980.56,198.898 2278.96,198.898 2278.96,95.2176 1980.56,95.2176 1980.56,198.898 \n",
       "  \"/>\n",
       "<polyline clip-path=\"url(#clip970)\" style=\"stroke:#009af9; stroke-linecap:round; stroke-linejoin:round; stroke-width:4; stroke-opacity:1; fill:none\" points=\"\n",
       "  2005.15,147.058 2152.74,147.058 \n",
       "  \"/>\n",
       "<path clip-path=\"url(#clip970)\" d=\"M2191.18 166.745 Q2189.37 171.375 2187.66 172.787 Q2185.95 174.199 2183.08 174.199 L2179.67 174.199 L2179.67 170.634 L2182.17 170.634 Q2183.93 170.634 2184.91 169.8 Q2185.88 168.967 2187.06 165.865 L2187.82 163.921 L2177.34 138.412 L2181.85 138.412 L2189.95 158.689 L2198.05 138.412 L2202.57 138.412 L2191.18 166.745 Z\" fill=\"#000000\" fill-rule=\"evenodd\" fill-opacity=\"1\" /><path clip-path=\"url(#clip970)\" d=\"M2209.86 160.402 L2217.5 160.402 L2217.5 134.037 L2209.19 135.703 L2209.19 131.444 L2217.45 129.778 L2222.13 129.778 L2222.13 160.402 L2229.77 160.402 L2229.77 164.338 L2209.86 164.338 L2209.86 160.402 Z\" fill=\"#000000\" fill-rule=\"evenodd\" fill-opacity=\"1\" /></svg>\n"
      ]
     },
     "metadata": {},
     "output_type": "display_data"
    }
   ],
   "source": [
    "lims = (0,15)\n",
    "tmpx = LinRange(lims[1]-1, 2*lims[2], 100)\n",
    "plot(tmpx, [limit_func(x,lims[1],lims[2]) for x in tmpx])"
   ]
  },
  {
   "cell_type": "code",
   "execution_count": 5,
   "metadata": {},
   "outputs": [
    {
     "data": {
      "text/plain": [
       "dpulsedp (generic function with 1 method)"
      ]
     },
     "metadata": {},
     "output_type": "display_data"
    }
   ],
   "source": [
    "#[Tᵣ, Tₐ, Tₚ, αmin, ϕ, f, A, Φ_ext, λ]\n",
    "p = [2, 10, 10, 0.7, 0.5418, 0.9763, 1.01556, 0.995pi, 0.05289]\n",
    "\n",
    "function alpha(p, t)\n",
    "    Tₐ = limit_func(p[2],0,15)\n",
    "    Tₚ = 30 - 2*Tₐ#p[3]\n",
    "    αmin = limit_func(p[4],0.5,1)\n",
    "    abs_slope = (1 - αmin)/Tₐ\n",
    "    if t < Tₐ\n",
    "        return 1 - abs_slope * t\n",
    "    elseif t > Tₐ + Tₚ\n",
    "        return αmin + abs_slope * (t - Tₐ - Tₚ)\n",
    "    else\n",
    "        return αmin\n",
    "    end\n",
    "end\n",
    "\n",
    "dalphadp(p, t) = ForwardDiff.gradient(p̃ -> alpha(p̃,t), p)\n",
    "\n",
    "function envelopes!(E, Edot, Tᵣ, Tₐ, Tₚ, t)\n",
    "    if Tₐ < t < Tₐ + Tᵣ\n",
    "        arg = pi / 2 * (t - Tₐ) / Tᵣ\n",
    "        E *= sin(arg)^2\n",
    "        Edot *= 2*sin(arg)*cos(arg)*pi/(2*Tᵣ)\n",
    "    elseif Tₐ + Tᵣ < t < Tₐ + Tₚ - Tᵣ\n",
    "        E *= 1\n",
    "        Edot *= 0\n",
    "    elseif Tₐ + Tₚ - Tᵣ < t < Tₐ + Tₚ\n",
    "        arg = pi / 2 * (Tₐ + Tₚ - t) / Tᵣ\n",
    "        E *= sin(arg)^2\n",
    "        Edot *= 2*sin(arg)*cos(arg)*(-pi)/(2*Tᵣ)\n",
    "    else\n",
    "        E *= 0\n",
    "        Edot *= 0\n",
    "    end\n",
    "    return (E, Edot)\n",
    "end\n",
    "\n",
    "function pulse(p, t, ω_qubit, overlap_scale)\n",
    "    Tₐ = limit_func(p[2],0,15)\n",
    "    Tₚ = 30 - 2*Tₐ#p[3]\n",
    "    Tᵣ = limit_func(p[1],0,Tₚ/2)\n",
    "    # αmin = p[4]\n",
    "    ϕ = p[5]\n",
    "    f = p[6]\n",
    "    A = p[7]\n",
    "    # Φ_ext = p[8]\n",
    "    λ = p[9]\n",
    "\n",
    "    amp = pi * A / ((Tₚ - Tᵣ) * overlap_scale)\n",
    "    E = amp\n",
    "    Edot = amp\n",
    "    E, Edot = envelopes!(E, Edot, Tᵣ, Tₐ, Tₚ, t)\n",
    "    arg = f*ω_qubit*(t - Tₐ) + ϕ\n",
    "    return E*cos(arg) + Edot*λ*sin(arg)\n",
    "end\n",
    "\n",
    "dpulsedp(p, t, ω_qubit, overlap_scale) = ForwardDiff.gradient(p̃ -> pulse(p̃, t, ω_qubit, overlap_scale), p)"
   ]
  },
  {
   "cell_type": "code",
   "execution_count": 6,
   "metadata": {},
   "outputs": [],
   "source": [
    "# Es, ψs = eigs(KinPot12 + p[4] .* get_Pot3(p[8]), nev=2, which=:SR)\n",
    "# ω_qubit = real(Es[2] - Es[1])\n",
    "# overlap_scale = abs(ψs[:,2]' * chargecoupling * ψs[:,1])"
   ]
  },
  {
   "cell_type": "code",
   "execution_count": 7,
   "metadata": {},
   "outputs": [
    {
     "data": {
      "image/png": "[encoded data removed]",
      "image/svg+xml": "<?xml version=\"1.0\" encoding=\"utf-8\"?>\n<svg xmlns=\"http://www.w3.org/2000/svg\" xmlns:xlink=\"http://www.w3.org/1999/xlink\" width=\"600\" height=\"400\" viewBox=\"0 0 2400 1600\">\n<defs>\n  <clipPath id=\"clip010\">\n    <rect x=\"0\" y=\"0\" width=\"2400\" height=\"1600\"/>\n  </clipPath>\n</defs>\n<path clip-path=\"url(#clip010)\" d=\"\nM0 1600 L2400 1600 L2400 0 L0 0  Z\n  \" fill=\"#ffffff\" fill-rule=\"evenodd\" fill-opacity=\"1\"/>\n<defs>\n  <clipPath id=\"clip011\">\n    <rect x=\"480\" y=\"0\" width=\"1681\" height=\"1600\"/>\n  </clipPath>\n</defs>\n<path clip-path=\"url(#clip010)\" d=\"\nM138.959 1486.45 L2352.76 1486.45 L2352.76 47.2441 L138.959 47.2441  Z\n  \" fill=\"#ffffff\" fill-rule=\"evenodd\" fill-opacity=\"1\"/>\n<defs>\n  <clipPath id=\"clip012\">\n    <rect x=\"138\" y=\"47\" width=\"2215\" height=\"1440\"/>\n  </clipPath>\n</defs>\n<polyline clip-path=\"url(#clip012)\" style=\"stroke:#000000; stroke-linecap:round; stroke-linejoin:round; stroke-width:2; stroke-opacity:0.1; fill:none\" points=\"\n  201.614,1486.45 201.614,47.2441 \n  \"/>\n<polyline clip-path=\"url(#clip012)\" style=\"stroke:#000000; stroke-linecap:round; stroke-linejoin:round; stroke-width:2; stroke-opacity:0.1; fill:none\" points=\"\n  897.776,1486.45 897.776,47.2441 \n  \"/>\n<polyline clip-path=\"url(#clip012)\" style=\"stroke:#000000; stroke-linecap:round; stroke-linejoin:round; stroke-width:2; stroke-opacity:0.1; fill:none\" points=\"\n  1593.94,1486.45 1593.94,47.2441 \n  \"/>\n<polyline clip-path=\"url(#clip012)\" style=\"stroke:#000000; stroke-linecap:round; stroke-linejoin:round; stroke-width:2; stroke-opacity:0.1; fill:none\" points=\"\n  2290.1,1486.45 2290.1,47.2441 \n  \"/>\n<polyline clip-path=\"url(#clip010)\" style=\"stroke:#000000; stroke-linecap:round; stroke-linejoin:round; stroke-width:4; stroke-opacity:1; fill:none\" points=\"\n  138.959,1486.45 2352.76,1486.45 \n  \"/>\n<polyline clip-path=\"url(#clip010)\" style=\"stroke:#000000; stroke-linecap:round; stroke-linejoin:round; stroke-width:4; stroke-opacity:1; fill:none\" points=\"\n  201.614,1486.45 201.614,1467.55 \n  \"/>\n<polyline clip-path=\"url(#clip010)\" style=\"stroke:#000000; stroke-linecap:round; stroke-linejoin:round; stroke-width:4; stroke-opacity:1; fill:none\" points=\"\n  897.776,1486.45 897.776,1467.55 \n  \"/>\n<polyline clip-path=\"url(#clip010)\" style=\"stroke:#000000; stroke-linecap:round; stroke-linejoin:round; stroke-width:4; stroke-opacity:1; fill:none\" points=\"\n  1593.94,1486.45 1593.94,1467.55 \n  \"/>\n<polyline clip-path=\"url(#clip010)\" style=\"stroke:#000000; stroke-linecap:round; stroke-linejoin:round; stroke-width:4; stroke-opacity:1; fill:none\" points=\"\n  2290.1,1486.45 2290.1,1467.55 \n  \"/>\n<path clip-path=\"url(#clip010)\" d=\"M201.614 1517.37 Q198.003 1517.37 196.174 1520.93 Q194.369 1524.47 194.369 1531.6 Q194.369 1538.71 196.174 1542.27 Q198.003 1545.82 201.614 1545.82 Q205.248 1545.82 207.054 1542.27 Q208.883 1538.71 208.883 1531.6 Q208.883 1524.47 207.054 1520.93 Q205.248 1517.37 201.614 1517.37 M201.614 1513.66 Q207.424 1513.66 210.48 1518.27 Q213.558 1522.85 213.558 1531.6 Q213.558 1540.33 210.48 1544.94 Q207.424 1549.52 201.614 1549.52 Q195.804 1549.52 192.725 1544.94 Q189.67 1540.33 189.67 1531.6 Q189.67 1522.85 192.725 1518.27 Q195.804 1513.66 201.614 1513.66 Z\" fill=\"#000000\" fill-rule=\"evenodd\" fill-opacity=\"1\" /><path clip-path=\"url(#clip010)\" d=\"M872.464 1544.91 L880.103 1544.91 L880.103 1518.55 L871.793 1520.21 L871.793 1515.95 L880.057 1514.29 L884.733 1514.29 L884.733 1544.91 L892.371 1544.91 L892.371 1548.85 L872.464 1548.85 L872.464 1544.91 Z\" fill=\"#000000\" fill-rule=\"evenodd\" fill-opacity=\"1\" /><path clip-path=\"url(#clip010)\" d=\"M911.816 1517.37 Q908.205 1517.37 906.376 1520.93 Q904.57 1524.47 904.57 1531.6 Q904.57 1538.71 906.376 1542.27 Q908.205 1545.82 911.816 1545.82 Q915.45 1545.82 917.256 1542.27 Q919.084 1538.71 919.084 1531.6 Q919.084 1524.47 917.256 1520.93 Q915.45 1517.37 911.816 1517.37 M911.816 1513.66 Q917.626 1513.66 920.681 1518.27 Q923.76 1522.85 923.76 1531.6 Q923.76 1540.33 920.681 1544.94 Q917.626 1549.52 911.816 1549.52 Q906.006 1549.52 902.927 1544.94 Q899.871 1540.33 899.871 1531.6 Q899.871 1522.85 902.927 1518.27 Q906.006 1513.66 911.816 1513.66 Z\" fill=\"#000000\" fill-rule=\"evenodd\" fill-opacity=\"1\" /><path clip-path=\"url(#clip010)\" d=\"M1572.71 1544.91 L1589.03 1544.91 L1589.03 1548.85 L1567.09 1548.85 L1567.09 1544.91 Q1569.75 1542.16 1574.33 1537.53 Q1578.94 1532.88 1580.12 1531.53 Q1582.36 1529.01 1583.24 1527.27 Q1584.15 1525.51 1584.15 1523.82 Q1584.15 1521.07 1582.2 1519.33 Q1580.28 1517.6 1577.18 1517.6 Q1574.98 1517.6 1572.53 1518.36 Q1570.1 1519.13 1567.32 1520.68 L1567.32 1515.95 Q1570.14 1514.82 1572.6 1514.24 Q1575.05 1513.66 1577.09 1513.66 Q1582.46 1513.66 1585.65 1516.35 Q1588.85 1519.03 1588.85 1523.52 Q1588.85 1525.65 1588.04 1527.57 Q1587.25 1529.47 1585.14 1532.07 Q1584.56 1532.74 1581.46 1535.95 Q1578.36 1539.15 1572.71 1544.91 Z\" fill=\"#000000\" fill-rule=\"evenodd\" fill-opacity=\"1\" /><path clip-path=\"url(#clip010)\" d=\"M1608.85 1517.37 Q1605.24 1517.37 1603.41 1520.93 Q1601.6 1524.47 1601.6 1531.6 Q1601.6 1538.71 1603.41 1542.27 Q1605.24 1545.82 1608.85 1545.82 Q1612.48 1545.82 1614.29 1542.27 Q1616.11 1538.71 1616.11 1531.6 Q1616.11 1524.47 1614.29 1520.93 Q1612.48 1517.37 1608.85 1517.37 M1608.85 1513.66 Q1614.66 1513.66 1617.71 1518.27 Q1620.79 1522.85 1620.79 1531.6 Q1620.79 1540.33 1617.71 1544.94 Q1614.66 1549.52 1608.85 1549.52 Q1603.04 1549.52 1599.96 1544.94 Q1596.9 1540.33 1596.9 1531.6 Q1596.9 1522.85 1599.96 1518.27 Q1603.04 1513.66 1608.85 1513.66 Z\" fill=\"#000000\" fill-rule=\"evenodd\" fill-opacity=\"1\" /><path clip-path=\"url(#clip010)\" d=\"M2278.94 1530.21 Q2282.3 1530.93 2284.18 1533.2 Q2286.07 1535.47 2286.07 1538.8 Q2286.07 1543.92 2282.56 1546.72 Q2279.04 1549.52 2272.56 1549.52 Q2270.38 1549.52 2268.06 1549.08 Q2265.77 1548.66 2263.32 1547.81 L2263.32 1543.29 Q2265.26 1544.43 2267.58 1545.01 Q2269.89 1545.58 2272.42 1545.58 Q2276.81 1545.58 2279.11 1543.85 Q2281.42 1542.11 2281.42 1538.8 Q2281.42 1535.75 2279.27 1534.03 Q2277.14 1532.3 2273.32 1532.3 L2269.29 1532.3 L2269.29 1528.45 L2273.5 1528.45 Q2276.95 1528.45 2278.78 1527.09 Q2280.61 1525.7 2280.61 1523.11 Q2280.61 1520.45 2278.71 1519.03 Q2276.84 1517.6 2273.32 1517.6 Q2271.4 1517.6 2269.2 1518.01 Q2267 1518.43 2264.36 1519.31 L2264.36 1515.14 Q2267.02 1514.4 2269.34 1514.03 Q2271.68 1513.66 2273.74 1513.66 Q2279.06 1513.66 2282.16 1516.09 Q2285.26 1518.5 2285.26 1522.62 Q2285.26 1525.49 2283.62 1527.48 Q2281.98 1529.45 2278.94 1530.21 Z\" fill=\"#000000\" fill-rule=\"evenodd\" fill-opacity=\"1\" /><path clip-path=\"url(#clip010)\" d=\"M2304.94 1517.37 Q2301.33 1517.37 2299.5 1520.93 Q2297.69 1524.47 2297.69 1531.6 Q2297.69 1538.71 2299.5 1542.27 Q2301.33 1545.82 2304.94 1545.82 Q2308.57 1545.82 2310.38 1542.27 Q2312.21 1538.71 2312.21 1531.6 Q2312.21 1524.47 2310.38 1520.93 Q2308.57 1517.37 2304.94 1517.37 M2304.94 1513.66 Q2310.75 1513.66 2313.8 1518.27 Q2316.88 1522.85 2316.88 1531.6 Q2316.88 1540.33 2313.8 1544.94 Q2310.75 1549.52 2304.94 1549.52 Q2299.13 1549.52 2296.05 1544.94 Q2292.99 1540.33 2292.99 1531.6 Q2292.99 1522.85 2296.05 1518.27 Q2299.13 1513.66 2304.94 1513.66 Z\" fill=\"#000000\" fill-rule=\"evenodd\" fill-opacity=\"1\" /><polyline clip-path=\"url(#clip012)\" style=\"stroke:#000000; stroke-linecap:round; stroke-linejoin:round; stroke-width:2; stroke-opacity:0.1; fill:none\" points=\"\n  138.959,1445.72 2352.76,1445.72 \n  \"/>\n<polyline clip-path=\"url(#clip012)\" style=\"stroke:#000000; stroke-linecap:round; stroke-linejoin:round; stroke-width:2; stroke-opacity:0.1; fill:none\" points=\"\n  138.959,1038.62 2352.76,1038.62 \n  \"/>\n<polyline clip-path=\"url(#clip012)\" style=\"stroke:#000000; stroke-linecap:round; stroke-linejoin:round; stroke-width:2; stroke-opacity:0.1; fill:none\" points=\"\n  138.959,631.53 2352.76,631.53 \n  \"/>\n<polyline clip-path=\"url(#clip012)\" style=\"stroke:#000000; stroke-linecap:round; stroke-linejoin:round; stroke-width:2; stroke-opacity:0.1; fill:none\" points=\"\n  138.959,224.437 2352.76,224.437 \n  \"/>\n<polyline clip-path=\"url(#clip010)\" style=\"stroke:#000000; stroke-linecap:round; stroke-linejoin:round; stroke-width:4; stroke-opacity:1; fill:none\" points=\"\n  138.959,1486.45 138.959,47.2441 \n  \"/>\n<polyline clip-path=\"url(#clip010)\" style=\"stroke:#000000; stroke-linecap:round; stroke-linejoin:round; stroke-width:4; stroke-opacity:1; fill:none\" points=\"\n  138.959,1445.72 157.857,1445.72 \n  \"/>\n<polyline clip-path=\"url(#clip010)\" style=\"stroke:#000000; stroke-linecap:round; stroke-linejoin:round; stroke-width:4; stroke-opacity:1; fill:none\" points=\"\n  138.959,1038.62 157.857,1038.62 \n  \"/>\n<polyline clip-path=\"url(#clip010)\" style=\"stroke:#000000; stroke-linecap:round; stroke-linejoin:round; stroke-width:4; stroke-opacity:1; fill:none\" points=\"\n  138.959,631.53 157.857,631.53 \n  \"/>\n<polyline clip-path=\"url(#clip010)\" style=\"stroke:#000000; stroke-linecap:round; stroke-linejoin:round; stroke-width:4; stroke-opacity:1; fill:none\" points=\"\n  138.959,224.437 157.857,224.437 \n  \"/>\n<path clip-path=\"url(#clip010)\" d=\"M91.0151 1431.51 Q87.404 1431.51 85.5753 1435.08 Q83.7697 1438.62 83.7697 1445.75 Q83.7697 1452.86 85.5753 1456.42 Q87.404 1459.96 91.0151 1459.96 Q94.6493 1459.96 96.4548 1456.42 Q98.2835 1452.86 98.2835 1445.75 Q98.2835 1438.62 96.4548 1435.08 Q94.6493 1431.51 91.0151 1431.51 M91.0151 1427.81 Q96.8252 1427.81 99.8808 1432.42 Q102.959 1437 102.959 1445.75 Q102.959 1454.48 99.8808 1459.08 Q96.8252 1463.67 91.0151 1463.67 Q85.2049 1463.67 82.1262 1459.08 Q79.0707 1454.48 79.0707 1445.75 Q79.0707 1437 82.1262 1432.42 Q85.2049 1427.81 91.0151 1427.81 Z\" fill=\"#000000\" fill-rule=\"evenodd\" fill-opacity=\"1\" /><path clip-path=\"url(#clip010)\" d=\"M82.0568 1021.34 L100.413 1021.34 L100.413 1025.28 L86.3392 1025.28 L86.3392 1033.75 Q87.3577 1033.4 88.3762 1033.24 Q89.3947 1033.06 90.4132 1033.06 Q96.2002 1033.06 99.5798 1036.23 Q102.959 1039.4 102.959 1044.81 Q102.959 1050.39 99.4872 1053.5 Q96.015 1056.57 89.6956 1056.57 Q87.5197 1056.57 85.2512 1056.2 Q83.0058 1055.83 80.5984 1055.09 L80.5984 1050.39 Q82.6818 1051.53 84.904 1052.08 Q87.1262 1052.64 89.603 1052.64 Q93.6076 1052.64 95.9456 1050.53 Q98.2835 1048.43 98.2835 1044.81 Q98.2835 1041.2 95.9456 1039.1 Q93.6076 1036.99 89.603 1036.99 Q87.728 1036.99 85.8531 1037.41 Q84.0012 1037.82 82.0568 1038.7 L82.0568 1021.34 Z\" fill=\"#000000\" fill-rule=\"evenodd\" fill-opacity=\"1\" /><path clip-path=\"url(#clip010)\" d=\"M51.6634 644.875 L59.3023 644.875 L59.3023 618.509 L50.9921 620.176 L50.9921 615.916 L59.256 614.25 L63.9319 614.25 L63.9319 644.875 L71.5707 644.875 L71.5707 648.81 L51.6634 648.81 L51.6634 644.875 Z\" fill=\"#000000\" fill-rule=\"evenodd\" fill-opacity=\"1\" /><path clip-path=\"url(#clip010)\" d=\"M91.0151 617.328 Q87.404 617.328 85.5753 620.893 Q83.7697 624.435 83.7697 631.565 Q83.7697 638.671 85.5753 642.236 Q87.404 645.777 91.0151 645.777 Q94.6493 645.777 96.4548 642.236 Q98.2835 638.671 98.2835 631.565 Q98.2835 624.435 96.4548 620.893 Q94.6493 617.328 91.0151 617.328 M91.0151 613.625 Q96.8252 613.625 99.8808 618.231 Q102.959 622.815 102.959 631.565 Q102.959 640.291 99.8808 644.898 Q96.8252 649.481 91.0151 649.481 Q85.2049 649.481 82.1262 644.898 Q79.0707 640.291 79.0707 631.565 Q79.0707 622.815 82.1262 618.231 Q85.2049 613.625 91.0151 613.625 Z\" fill=\"#000000\" fill-rule=\"evenodd\" fill-opacity=\"1\" /><path clip-path=\"url(#clip010)\" d=\"M52.6588 237.782 L60.2976 237.782 L60.2976 211.416 L51.9875 213.083 L51.9875 208.824 L60.2513 207.157 L64.9272 207.157 L64.9272 237.782 L72.5661 237.782 L72.5661 241.717 L52.6588 241.717 L52.6588 237.782 Z\" fill=\"#000000\" fill-rule=\"evenodd\" fill-opacity=\"1\" /><path clip-path=\"url(#clip010)\" d=\"M82.0568 207.157 L100.413 207.157 L100.413 211.092 L86.3392 211.092 L86.3392 219.564 Q87.3577 219.217 88.3762 219.055 Q89.3947 218.87 90.4132 218.87 Q96.2002 218.87 99.5798 222.041 Q102.959 225.212 102.959 230.629 Q102.959 236.208 99.4872 239.309 Q96.015 242.388 89.6956 242.388 Q87.5197 242.388 85.2512 242.018 Q83.0058 241.647 80.5984 240.907 L80.5984 236.208 Q82.6818 237.342 84.904 237.897 Q87.1262 238.453 89.603 238.453 Q93.6076 238.453 95.9456 236.347 Q98.2835 234.24 98.2835 230.629 Q98.2835 227.018 95.9456 224.911 Q93.6076 222.805 89.603 222.805 Q87.728 222.805 85.8531 223.222 Q84.0012 223.638 82.0568 224.518 L82.0568 207.157 Z\" fill=\"#000000\" fill-rule=\"evenodd\" fill-opacity=\"1\" /><polyline clip-path=\"url(#clip012)\" style=\"stroke:#009af9; stroke-linecap:round; stroke-linejoin:round; stroke-width:4; stroke-opacity:1; fill:none\" points=\"\n  201.614,1445.72 205.799,1445.72 209.985,1445.72 214.17,1445.72 218.355,1445.72 222.541,1445.72 226.726,1445.72 230.911,1445.72 235.097,1445.72 239.282,1445.72 \n  243.468,1445.72 247.653,1445.72 251.838,1445.72 256.024,1445.72 260.209,1445.72 264.394,1445.72 268.58,1445.72 272.765,1445.72 276.95,1445.72 281.136,1445.72 \n  285.321,1445.72 289.506,1445.72 293.692,1445.72 297.877,1445.72 302.062,1445.72 306.248,1445.72 310.433,1445.72 314.618,1445.72 318.804,1445.72 322.989,1445.72 \n  327.174,1445.72 331.36,1445.72 335.545,1445.72 339.73,1445.72 343.916,1445.72 348.101,1445.72 352.286,1445.72 356.472,1445.72 360.657,1445.72 364.843,1445.72 \n  369.028,1445.72 373.213,1445.72 377.399,1445.72 381.584,1445.72 385.769,1445.72 389.955,1445.72 394.14,1445.72 398.325,1445.72 402.511,1445.72 406.696,1445.72 \n  410.881,1445.72 415.067,1445.72 419.252,1445.72 423.437,1445.72 427.623,1445.72 431.808,1445.72 435.993,1445.72 440.179,1445.72 444.364,1445.72 448.549,1445.72 \n  452.735,1445.72 456.92,1445.72 461.105,1445.72 465.291,1445.72 469.476,1445.72 473.661,1445.72 477.847,1445.72 482.032,1445.72 486.218,1445.72 490.403,1445.72 \n  494.588,1445.72 498.774,1445.72 502.959,1445.72 507.144,1445.72 511.33,1445.72 515.515,1445.72 519.7,1445.72 523.886,1445.72 528.071,1445.72 532.256,1445.72 \n  536.442,1445.72 540.627,1445.72 544.812,1445.72 548.998,1445.72 553.183,1445.72 557.368,1445.72 561.554,1445.72 565.739,1445.72 569.924,1445.72 574.11,1445.72 \n  578.295,1445.72 582.48,1445.72 586.666,1445.72 590.851,1445.72 595.037,1445.72 599.222,1445.72 603.407,1445.72 607.593,1445.72 611.778,1445.72 615.963,1445.72 \n  620.149,1445.72 624.334,1445.72 628.519,1445.72 632.705,1445.72 636.89,1445.72 641.075,1445.72 645.261,1445.72 649.446,1445.72 653.631,1445.72 657.817,1445.72 \n  662.002,1445.72 666.187,1445.72 670.373,1445.72 674.558,1445.72 678.743,1445.72 682.929,1445.72 687.114,1445.72 691.299,1445.72 695.485,1445.72 699.67,1445.72 \n  703.855,1445.72 708.041,1445.72 712.226,1445.72 716.412,1445.72 720.597,1445.72 724.782,1445.72 728.968,1445.72 733.153,1445.72 737.338,1445.72 741.524,1445.72 \n  745.709,1445.72 749.894,1445.72 754.08,1445.72 758.265,1445.72 762.45,1445.72 766.636,1445.72 770.821,1445.72 775.006,1445.72 779.192,1445.72 783.377,1445.72 \n  787.562,1445.72 791.748,1445.72 795.933,1445.72 800.118,1445.72 804.304,1445.72 808.489,1445.72 812.674,1445.72 816.86,1445.72 821.045,1445.72 825.23,1445.72 \n  829.416,1445.72 833.601,1445.72 837.787,1445.72 841.972,1445.72 846.157,1445.72 850.343,1445.72 854.528,1445.72 858.713,1445.72 862.899,1445.72 867.084,1445.72 \n  871.269,1445.72 875.455,1445.72 879.64,1445.72 883.825,1445.72 888.011,1445.72 892.196,1445.72 896.381,1445.72 900.567,1445.72 904.752,1445.72 908.937,1445.72 \n  913.123,1445.72 917.308,1445.72 921.493,1445.72 925.679,1445.72 929.864,1445.72 934.049,1445.72 938.235,1445.72 942.42,1445.72 946.605,1445.72 950.791,1445.72 \n  954.976,1445.72 959.162,1445.72 963.347,1445.72 967.532,1445.72 971.718,1445.72 975.903,1445.72 980.088,1445.72 984.274,1445.72 988.459,1445.72 992.644,1445.72 \n  996.83,1445.72 1001.01,1445.72 1005.2,1445.72 1009.39,1445.72 1013.57,1445.72 1017.76,1445.72 1021.94,1445.72 1026.13,1445.72 1030.31,1445.72 1034.5,1445.72 \n  1038.68,1445.72 1042.87,1445.72 1047.05,1445.72 1051.24,1445.72 1055.42,1445.72 1059.61,1445.72 1063.8,1445.72 1067.98,1445.72 1072.17,1445.72 1076.35,1445.72 \n  1080.54,1445.72 1084.72,1445.72 1088.91,1445.72 1093.09,1445.72 1097.28,1445.72 1101.46,1445.72 1105.65,1445.72 1109.83,1445.72 1114.02,1445.72 1118.2,1445.72 \n  1122.39,1445.72 1126.58,1445.72 1130.76,1445.72 1134.95,1445.72 1139.13,1445.72 1143.32,1445.72 1147.5,1445.72 1151.69,1445.72 1155.87,1445.72 1160.06,1445.72 \n  1164.24,1445.72 1168.43,1445.72 1172.61,1445.72 1176.8,1445.5 1180.98,1430.19 1185.17,1391.23 1189.36,1330.01 1193.54,1248.7 1197.73,1150.2 1201.91,1038.02 \n  1206.1,916.134 1210.28,788.885 1214.47,660.799 1218.65,536.43 1222.84,420.203 1227.02,316.251 1231.21,228.272 1235.39,159.394 1239.58,112.068 1243.77,87.9763 \n  1247.95,87.9763 1252.14,112.068 1256.32,159.394 1260.51,228.272 1264.69,316.251 1268.88,420.203 1273.06,536.43 1277.25,660.799 1281.43,788.885 1285.62,916.134 \n  1289.8,1038.02 1293.99,1150.2 1298.17,1248.7 1302.36,1330.01 1306.55,1391.23 1310.73,1430.19 1314.92,1445.5 1319.1,1445.72 1323.29,1445.72 1327.47,1445.72 \n  1331.66,1445.72 1335.84,1445.72 1340.03,1445.72 1344.21,1445.72 1348.4,1445.72 1352.58,1445.72 1356.77,1445.72 1360.95,1445.72 1365.14,1445.72 1369.33,1445.72 \n  1373.51,1445.72 1377.7,1445.72 1381.88,1445.72 1386.07,1445.72 1390.25,1445.72 1394.44,1445.72 1398.62,1445.72 1402.81,1445.72 1406.99,1445.72 1411.18,1445.72 \n  1415.36,1445.72 1419.55,1445.72 1423.73,1445.72 1427.92,1445.72 1432.11,1445.72 1436.29,1445.72 1440.48,1445.72 1444.66,1445.72 1448.85,1445.72 1453.03,1445.72 \n  1457.22,1445.72 1461.4,1445.72 1465.59,1445.72 1469.77,1445.72 1473.96,1445.72 1478.14,1445.72 1482.33,1445.72 1486.52,1445.72 1490.7,1445.72 1494.89,1445.72 \n  1499.07,1445.72 1503.26,1445.72 1507.44,1445.72 1511.63,1445.72 1515.81,1445.72 1520,1445.72 1524.18,1445.72 1528.37,1445.72 1532.55,1445.72 1536.74,1445.72 \n  1540.92,1445.72 1545.11,1445.72 1549.3,1445.72 1553.48,1445.72 1557.67,1445.72 1561.85,1445.72 1566.04,1445.72 1570.22,1445.72 1574.41,1445.72 1578.59,1445.72 \n  1582.78,1445.72 1586.96,1445.72 1591.15,1445.72 1595.33,1445.72 1599.52,1445.72 1603.7,1445.72 1607.89,1445.72 1612.08,1445.72 1616.26,1445.72 1620.45,1445.72 \n  1624.63,1445.72 1628.82,1445.72 1633,1445.72 1637.19,1445.72 1641.37,1445.72 1645.56,1445.72 1649.74,1445.72 1653.93,1445.72 1658.11,1445.72 1662.3,1445.72 \n  1666.48,1445.72 1670.67,1445.72 1674.86,1445.72 1679.04,1445.72 1683.23,1445.72 1687.41,1445.72 1691.6,1445.72 1695.78,1445.72 1699.97,1445.72 1704.15,1445.72 \n  1708.34,1445.72 1712.52,1445.72 1716.71,1445.72 1720.89,1445.72 1725.08,1445.72 1729.27,1445.72 1733.45,1445.72 1737.64,1445.72 1741.82,1445.72 1746.01,1445.72 \n  1750.19,1445.72 1754.38,1445.72 1758.56,1445.72 1762.75,1445.72 1766.93,1445.72 1771.12,1445.72 1775.3,1445.72 1779.49,1445.72 1783.67,1445.72 1787.86,1445.72 \n  1792.05,1445.72 1796.23,1445.72 1800.42,1445.72 1804.6,1445.72 1808.79,1445.72 1812.97,1445.72 1817.16,1445.72 1821.34,1445.72 1825.53,1445.72 1829.71,1445.72 \n  1833.9,1445.72 1838.08,1445.72 1842.27,1445.72 1846.45,1445.72 1850.64,1445.72 1854.83,1445.72 1859.01,1445.72 1863.2,1445.72 1867.38,1445.72 1871.57,1445.72 \n  1875.75,1445.72 1879.94,1445.72 1884.12,1445.72 1888.31,1445.72 1892.49,1445.72 1896.68,1445.72 1900.86,1445.72 1905.05,1445.72 1909.23,1445.72 1913.42,1445.72 \n  1917.61,1445.72 1921.79,1445.72 1925.98,1445.72 1930.16,1445.72 1934.35,1445.72 1938.53,1445.72 1942.72,1445.72 1946.9,1445.72 1951.09,1445.72 1955.27,1445.72 \n  1959.46,1445.72 1963.64,1445.72 1967.83,1445.72 1972.02,1445.72 1976.2,1445.72 1980.39,1445.72 1984.57,1445.72 1988.76,1445.72 1992.94,1445.72 1997.13,1445.72 \n  2001.31,1445.72 2005.5,1445.72 2009.68,1445.72 2013.87,1445.72 2018.05,1445.72 2022.24,1445.72 2026.42,1445.72 2030.61,1445.72 2034.8,1445.72 2038.98,1445.72 \n  2043.17,1445.72 2047.35,1445.72 2051.54,1445.72 2055.72,1445.72 2059.91,1445.72 2064.09,1445.72 2068.28,1445.72 2072.46,1445.72 2076.65,1445.72 2080.83,1445.72 \n  2085.02,1445.72 2089.2,1445.72 2093.39,1445.72 2097.58,1445.72 2101.76,1445.72 2105.95,1445.72 2110.13,1445.72 2114.32,1445.72 2118.5,1445.72 2122.69,1445.72 \n  2126.87,1445.72 2131.06,1445.72 2135.24,1445.72 2139.43,1445.72 2143.61,1445.72 2147.8,1445.72 2151.98,1445.72 2156.17,1445.72 2160.36,1445.72 2164.54,1445.72 \n  2168.73,1445.72 2172.91,1445.72 2177.1,1445.72 2181.28,1445.72 2185.47,1445.72 2189.65,1445.72 2193.84,1445.72 2198.02,1445.72 2202.21,1445.72 2206.39,1445.72 \n  2210.58,1445.72 2214.77,1445.72 2218.95,1445.72 2223.14,1445.72 2227.32,1445.72 2231.51,1445.72 2235.69,1445.72 2239.88,1445.72 2244.06,1445.72 2248.25,1445.72 \n  2252.43,1445.72 2256.62,1445.72 2260.8,1445.72 2264.99,1445.72 2269.17,1445.72 2273.36,1445.72 2277.55,1445.72 2281.73,1445.72 2285.92,1445.72 2290.1,1445.72 \n  \n  \"/>\n<path clip-path=\"url(#clip010)\" d=\"\nM1980.56 198.898 L2278.96 198.898 L2278.96 95.2176 L1980.56 95.2176  Z\n  \" fill=\"#ffffff\" fill-rule=\"evenodd\" fill-opacity=\"1\"/>\n<polyline clip-path=\"url(#clip010)\" style=\"stroke:#000000; stroke-linecap:round; stroke-linejoin:round; stroke-width:4; stroke-opacity:1; fill:none\" points=\"\n  1980.56,198.898 2278.96,198.898 2278.96,95.2176 1980.56,95.2176 1980.56,198.898 \n  \"/>\n<polyline clip-path=\"url(#clip010)\" style=\"stroke:#009af9; stroke-linecap:round; stroke-linejoin:round; stroke-width:4; stroke-opacity:1; fill:none\" points=\"\n  2005.15,147.058 2152.74,147.058 \n  \"/>\n<path clip-path=\"url(#clip010)\" d=\"M2191.18 166.745 Q2189.37 171.375 2187.66 172.787 Q2185.95 174.199 2183.08 174.199 L2179.67 174.199 L2179.67 170.634 L2182.17 170.634 Q2183.93 170.634 2184.91 169.8 Q2185.88 168.967 2187.06 165.865 L2187.82 163.921 L2177.34 138.412 L2181.85 138.412 L2189.95 158.689 L2198.05 138.412 L2202.57 138.412 L2191.18 166.745 Z\" fill=\"#000000\" fill-rule=\"evenodd\" fill-opacity=\"1\" /><path clip-path=\"url(#clip010)\" d=\"M2209.86 160.402 L2217.5 160.402 L2217.5 134.037 L2209.19 135.703 L2209.19 131.444 L2217.45 129.778 L2222.13 129.778 L2222.13 160.402 L2229.77 160.402 L2229.77 164.338 L2209.86 164.338 L2209.86 160.402 Z\" fill=\"#000000\" fill-rule=\"evenodd\" fill-opacity=\"1\" /></svg>\n",
      "text/html": [
       "<?xml version=\"1.0\" encoding=\"utf-8\"?>\n",
       "<svg xmlns=\"http://www.w3.org/2000/svg\" xmlns:xlink=\"http://www.w3.org/1999/xlink\" width=\"600\" height=\"400\" viewBox=\"0 0 2400 1600\">\n",
       "<defs>\n",
       "  <clipPath id=\"clip060\">\n",
       "    <rect x=\"0\" y=\"0\" width=\"2400\" height=\"1600\"/>\n",
       "  </clipPath>\n",
       "</defs>\n",
       "<path clip-path=\"url(#clip060)\" d=\"\n",
       "M0 1600 L2400 1600 L2400 0 L0 0  Z\n",
       "  \" fill=\"#ffffff\" fill-rule=\"evenodd\" fill-opacity=\"1\"/>\n",
       "<defs>\n",
       "  <clipPath id=\"clip061\">\n",
       "    <rect x=\"480\" y=\"0\" width=\"1681\" height=\"1600\"/>\n",
       "  </clipPath>\n",
       "</defs>\n",
       "<path clip-path=\"url(#clip060)\" d=\"\n",
       "M138.959 1486.45 L2352.76 1486.45 L2352.76 47.2441 L138.959 47.2441  Z\n",
       "  \" fill=\"#ffffff\" fill-rule=\"evenodd\" fill-opacity=\"1\"/>\n",
       "<defs>\n",
       "  <clipPath id=\"clip062\">\n",
       "    <rect x=\"138\" y=\"47\" width=\"2215\" height=\"1440\"/>\n",
       "  </clipPath>\n",
       "</defs>\n",
       "<polyline clip-path=\"url(#clip062)\" style=\"stroke:#000000; stroke-linecap:round; stroke-linejoin:round; stroke-width:2; stroke-opacity:0.1; fill:none\" points=\"\n",
       "  201.614,1486.45 201.614,47.2441 \n",
       "  \"/>\n",
       "<polyline clip-path=\"url(#clip062)\" style=\"stroke:#000000; stroke-linecap:round; stroke-linejoin:round; stroke-width:2; stroke-opacity:0.1; fill:none\" points=\"\n",
       "  897.776,1486.45 897.776,47.2441 \n",
       "  \"/>\n",
       "<polyline clip-path=\"url(#clip062)\" style=\"stroke:#000000; stroke-linecap:round; stroke-linejoin:round; stroke-width:2; stroke-opacity:0.1; fill:none\" points=\"\n",
       "  1593.94,1486.45 1593.94,47.2441 \n",
       "  \"/>\n",
       "<polyline clip-path=\"url(#clip062)\" style=\"stroke:#000000; stroke-linecap:round; stroke-linejoin:round; stroke-width:2; stroke-opacity:0.1; fill:none\" points=\"\n",
       "  2290.1,1486.45 2290.1,47.2441 \n",
       "  \"/>\n",
       "<polyline clip-path=\"url(#clip060)\" style=\"stroke:#000000; stroke-linecap:round; stroke-linejoin:round; stroke-width:4; stroke-opacity:1; fill:none\" points=\"\n",
       "  138.959,1486.45 2352.76,1486.45 \n",
       "  \"/>\n",
       "<polyline clip-path=\"url(#clip060)\" style=\"stroke:#000000; stroke-linecap:round; stroke-linejoin:round; stroke-width:4; stroke-opacity:1; fill:none\" points=\"\n",
       "  201.614,1486.45 201.614,1467.55 \n",
       "  \"/>\n",
       "<polyline clip-path=\"url(#clip060)\" style=\"stroke:#000000; stroke-linecap:round; stroke-linejoin:round; stroke-width:4; stroke-opacity:1; fill:none\" points=\"\n",
       "  897.776,1486.45 897.776,1467.55 \n",
       "  \"/>\n",
       "<polyline clip-path=\"url(#clip060)\" style=\"stroke:#000000; stroke-linecap:round; stroke-linejoin:round; stroke-width:4; stroke-opacity:1; fill:none\" points=\"\n",
       "  1593.94,1486.45 1593.94,1467.55 \n",
       "  \"/>\n",
       "<polyline clip-path=\"url(#clip060)\" style=\"stroke:#000000; stroke-linecap:round; stroke-linejoin:round; stroke-width:4; stroke-opacity:1; fill:none\" points=\"\n",
       "  2290.1,1486.45 2290.1,1467.55 \n",
       "  \"/>\n",
       "<path clip-path=\"url(#clip060)\" d=\"M201.614 1517.37 Q198.003 1517.37 196.174 1520.93 Q194.369 1524.47 194.369 1531.6 Q194.369 1538.71 196.174 1542.27 Q198.003 1545.82 201.614 1545.82 Q205.248 1545.82 207.054 1542.27 Q208.883 1538.71 208.883 1531.6 Q208.883 1524.47 207.054 1520.93 Q205.248 1517.37 201.614 1517.37 M201.614 1513.66 Q207.424 1513.66 210.48 1518.27 Q213.558 1522.85 213.558 1531.6 Q213.558 1540.33 210.48 1544.94 Q207.424 1549.52 201.614 1549.52 Q195.804 1549.52 192.725 1544.94 Q189.67 1540.33 189.67 1531.6 Q189.67 1522.85 192.725 1518.27 Q195.804 1513.66 201.614 1513.66 Z\" fill=\"#000000\" fill-rule=\"evenodd\" fill-opacity=\"1\" /><path clip-path=\"url(#clip060)\" d=\"M872.464 1544.91 L880.103 1544.91 L880.103 1518.55 L871.793 1520.21 L871.793 1515.95 L880.057 1514.29 L884.733 1514.29 L884.733 1544.91 L892.371 1544.91 L892.371 1548.85 L872.464 1548.85 L872.464 1544.91 Z\" fill=\"#000000\" fill-rule=\"evenodd\" fill-opacity=\"1\" /><path clip-path=\"url(#clip060)\" d=\"M911.816 1517.37 Q908.205 1517.37 906.376 1520.93 Q904.57 1524.47 904.57 1531.6 Q904.57 1538.71 906.376 1542.27 Q908.205 1545.82 911.816 1545.82 Q915.45 1545.82 917.256 1542.27 Q919.084 1538.71 919.084 1531.6 Q919.084 1524.47 917.256 1520.93 Q915.45 1517.37 911.816 1517.37 M911.816 1513.66 Q917.626 1513.66 920.681 1518.27 Q923.76 1522.85 923.76 1531.6 Q923.76 1540.33 920.681 1544.94 Q917.626 1549.52 911.816 1549.52 Q906.006 1549.52 902.927 1544.94 Q899.871 1540.33 899.871 1531.6 Q899.871 1522.85 902.927 1518.27 Q906.006 1513.66 911.816 1513.66 Z\" fill=\"#000000\" fill-rule=\"evenodd\" fill-opacity=\"1\" /><path clip-path=\"url(#clip060)\" d=\"M1572.71 1544.91 L1589.03 1544.91 L1589.03 1548.85 L1567.09 1548.85 L1567.09 1544.91 Q1569.75 1542.16 1574.33 1537.53 Q1578.94 1532.88 1580.12 1531.53 Q1582.36 1529.01 1583.24 1527.27 Q1584.15 1525.51 1584.15 1523.82 Q1584.15 1521.07 1582.2 1519.33 Q1580.28 1517.6 1577.18 1517.6 Q1574.98 1517.6 1572.53 1518.36 Q1570.1 1519.13 1567.32 1520.68 L1567.32 1515.95 Q1570.14 1514.82 1572.6 1514.24 Q1575.05 1513.66 1577.09 1513.66 Q1582.46 1513.66 1585.65 1516.35 Q1588.85 1519.03 1588.85 1523.52 Q1588.85 1525.65 1588.04 1527.57 Q1587.25 1529.47 1585.14 1532.07 Q1584.56 1532.74 1581.46 1535.95 Q1578.36 1539.15 1572.71 1544.91 Z\" fill=\"#000000\" fill-rule=\"evenodd\" fill-opacity=\"1\" /><path clip-path=\"url(#clip060)\" d=\"M1608.85 1517.37 Q1605.24 1517.37 1603.41 1520.93 Q1601.6 1524.47 1601.6 1531.6 Q1601.6 1538.71 1603.41 1542.27 Q1605.24 1545.82 1608.85 1545.82 Q1612.48 1545.82 1614.29 1542.27 Q1616.11 1538.71 1616.11 1531.6 Q1616.11 1524.47 1614.29 1520.93 Q1612.48 1517.37 1608.85 1517.37 M1608.85 1513.66 Q1614.66 1513.66 1617.71 1518.27 Q1620.79 1522.85 1620.79 1531.6 Q1620.79 1540.33 1617.71 1544.94 Q1614.66 1549.52 1608.85 1549.52 Q1603.04 1549.52 1599.96 1544.94 Q1596.9 1540.33 1596.9 1531.6 Q1596.9 1522.85 1599.96 1518.27 Q1603.04 1513.66 1608.85 1513.66 Z\" fill=\"#000000\" fill-rule=\"evenodd\" fill-opacity=\"1\" /><path clip-path=\"url(#clip060)\" d=\"M2278.94 1530.21 Q2282.3 1530.93 2284.18 1533.2 Q2286.07 1535.47 2286.07 1538.8 Q2286.07 1543.92 2282.56 1546.72 Q2279.04 1549.52 2272.56 1549.52 Q2270.38 1549.52 2268.06 1549.08 Q2265.77 1548.66 2263.32 1547.81 L2263.32 1543.29 Q2265.26 1544.43 2267.58 1545.01 Q2269.89 1545.58 2272.42 1545.58 Q2276.81 1545.58 2279.11 1543.85 Q2281.42 1542.11 2281.42 1538.8 Q2281.42 1535.75 2279.27 1534.03 Q2277.14 1532.3 2273.32 1532.3 L2269.29 1532.3 L2269.29 1528.45 L2273.5 1528.45 Q2276.95 1528.45 2278.78 1527.09 Q2280.61 1525.7 2280.61 1523.11 Q2280.61 1520.45 2278.71 1519.03 Q2276.84 1517.6 2273.32 1517.6 Q2271.4 1517.6 2269.2 1518.01 Q2267 1518.43 2264.36 1519.31 L2264.36 1515.14 Q2267.02 1514.4 2269.34 1514.03 Q2271.68 1513.66 2273.74 1513.66 Q2279.06 1513.66 2282.16 1516.09 Q2285.26 1518.5 2285.26 1522.62 Q2285.26 1525.49 2283.62 1527.48 Q2281.98 1529.45 2278.94 1530.21 Z\" fill=\"#000000\" fill-rule=\"evenodd\" fill-opacity=\"1\" /><path clip-path=\"url(#clip060)\" d=\"M2304.94 1517.37 Q2301.33 1517.37 2299.5 1520.93 Q2297.69 1524.47 2297.69 1531.6 Q2297.69 1538.71 2299.5 1542.27 Q2301.33 1545.82 2304.94 1545.82 Q2308.57 1545.82 2310.38 1542.27 Q2312.21 1538.71 2312.21 1531.6 Q2312.21 1524.47 2310.38 1520.93 Q2308.57 1517.37 2304.94 1517.37 M2304.94 1513.66 Q2310.75 1513.66 2313.8 1518.27 Q2316.88 1522.85 2316.88 1531.6 Q2316.88 1540.33 2313.8 1544.94 Q2310.75 1549.52 2304.94 1549.52 Q2299.13 1549.52 2296.05 1544.94 Q2292.99 1540.33 2292.99 1531.6 Q2292.99 1522.85 2296.05 1518.27 Q2299.13 1513.66 2304.94 1513.66 Z\" fill=\"#000000\" fill-rule=\"evenodd\" fill-opacity=\"1\" /><polyline clip-path=\"url(#clip062)\" style=\"stroke:#000000; stroke-linecap:round; stroke-linejoin:round; stroke-width:2; stroke-opacity:0.1; fill:none\" points=\"\n",
       "  138.959,1445.72 2352.76,1445.72 \n",
       "  \"/>\n",
       "<polyline clip-path=\"url(#clip062)\" style=\"stroke:#000000; stroke-linecap:round; stroke-linejoin:round; stroke-width:2; stroke-opacity:0.1; fill:none\" points=\"\n",
       "  138.959,1038.62 2352.76,1038.62 \n",
       "  \"/>\n",
       "<polyline clip-path=\"url(#clip062)\" style=\"stroke:#000000; stroke-linecap:round; stroke-linejoin:round; stroke-width:2; stroke-opacity:0.1; fill:none\" points=\"\n",
       "  138.959,631.53 2352.76,631.53 \n",
       "  \"/>\n",
       "<polyline clip-path=\"url(#clip062)\" style=\"stroke:#000000; stroke-linecap:round; stroke-linejoin:round; stroke-width:2; stroke-opacity:0.1; fill:none\" points=\"\n",
       "  138.959,224.437 2352.76,224.437 \n",
       "  \"/>\n",
       "<polyline clip-path=\"url(#clip060)\" style=\"stroke:#000000; stroke-linecap:round; stroke-linejoin:round; stroke-width:4; stroke-opacity:1; fill:none\" points=\"\n",
       "  138.959,1486.45 138.959,47.2441 \n",
       "  \"/>\n",
       "<polyline clip-path=\"url(#clip060)\" style=\"stroke:#000000; stroke-linecap:round; stroke-linejoin:round; stroke-width:4; stroke-opacity:1; fill:none\" points=\"\n",
       "  138.959,1445.72 157.857,1445.72 \n",
       "  \"/>\n",
       "<polyline clip-path=\"url(#clip060)\" style=\"stroke:#000000; stroke-linecap:round; stroke-linejoin:round; stroke-width:4; stroke-opacity:1; fill:none\" points=\"\n",
       "  138.959,1038.62 157.857,1038.62 \n",
       "  \"/>\n",
       "<polyline clip-path=\"url(#clip060)\" style=\"stroke:#000000; stroke-linecap:round; stroke-linejoin:round; stroke-width:4; stroke-opacity:1; fill:none\" points=\"\n",
       "  138.959,631.53 157.857,631.53 \n",
       "  \"/>\n",
       "<polyline clip-path=\"url(#clip060)\" style=\"stroke:#000000; stroke-linecap:round; stroke-linejoin:round; stroke-width:4; stroke-opacity:1; fill:none\" points=\"\n",
       "  138.959,224.437 157.857,224.437 \n",
       "  \"/>\n",
       "<path clip-path=\"url(#clip060)\" d=\"M91.0151 1431.51 Q87.404 1431.51 85.5753 1435.08 Q83.7697 1438.62 83.7697 1445.75 Q83.7697 1452.86 85.5753 1456.42 Q87.404 1459.96 91.0151 1459.96 Q94.6493 1459.96 96.4548 1456.42 Q98.2835 1452.86 98.2835 1445.75 Q98.2835 1438.62 96.4548 1435.08 Q94.6493 1431.51 91.0151 1431.51 M91.0151 1427.81 Q96.8252 1427.81 99.8808 1432.42 Q102.959 1437 102.959 1445.75 Q102.959 1454.48 99.8808 1459.08 Q96.8252 1463.67 91.0151 1463.67 Q85.2049 1463.67 82.1262 1459.08 Q79.0707 1454.48 79.0707 1445.75 Q79.0707 1437 82.1262 1432.42 Q85.2049 1427.81 91.0151 1427.81 Z\" fill=\"#000000\" fill-rule=\"evenodd\" fill-opacity=\"1\" /><path clip-path=\"url(#clip060)\" d=\"M82.0568 1021.34 L100.413 1021.34 L100.413 1025.28 L86.3392 1025.28 L86.3392 1033.75 Q87.3577 1033.4 88.3762 1033.24 Q89.3947 1033.06 90.4132 1033.06 Q96.2002 1033.06 99.5798 1036.23 Q102.959 1039.4 102.959 1044.81 Q102.959 1050.39 99.4872 1053.5 Q96.015 1056.57 89.6956 1056.57 Q87.5197 1056.57 85.2512 1056.2 Q83.0058 1055.83 80.5984 1055.09 L80.5984 1050.39 Q82.6818 1051.53 84.904 1052.08 Q87.1262 1052.64 89.603 1052.64 Q93.6076 1052.64 95.9456 1050.53 Q98.2835 1048.43 98.2835 1044.81 Q98.2835 1041.2 95.9456 1039.1 Q93.6076 1036.99 89.603 1036.99 Q87.728 1036.99 85.8531 1037.41 Q84.0012 1037.82 82.0568 1038.7 L82.0568 1021.34 Z\" fill=\"#000000\" fill-rule=\"evenodd\" fill-opacity=\"1\" /><path clip-path=\"url(#clip060)\" d=\"M51.6634 644.875 L59.3023 644.875 L59.3023 618.509 L50.9921 620.176 L50.9921 615.916 L59.256 614.25 L63.9319 614.25 L63.9319 644.875 L71.5707 644.875 L71.5707 648.81 L51.6634 648.81 L51.6634 644.875 Z\" fill=\"#000000\" fill-rule=\"evenodd\" fill-opacity=\"1\" /><path clip-path=\"url(#clip060)\" d=\"M91.0151 617.328 Q87.404 617.328 85.5753 620.893 Q83.7697 624.435 83.7697 631.565 Q83.7697 638.671 85.5753 642.236 Q87.404 645.777 91.0151 645.777 Q94.6493 645.777 96.4548 642.236 Q98.2835 638.671 98.2835 631.565 Q98.2835 624.435 96.4548 620.893 Q94.6493 617.328 91.0151 617.328 M91.0151 613.625 Q96.8252 613.625 99.8808 618.231 Q102.959 622.815 102.959 631.565 Q102.959 640.291 99.8808 644.898 Q96.8252 649.481 91.0151 649.481 Q85.2049 649.481 82.1262 644.898 Q79.0707 640.291 79.0707 631.565 Q79.0707 622.815 82.1262 618.231 Q85.2049 613.625 91.0151 613.625 Z\" fill=\"#000000\" fill-rule=\"evenodd\" fill-opacity=\"1\" /><path clip-path=\"url(#clip060)\" d=\"M52.6588 237.782 L60.2976 237.782 L60.2976 211.416 L51.9875 213.083 L51.9875 208.824 L60.2513 207.157 L64.9272 207.157 L64.9272 237.782 L72.5661 237.782 L72.5661 241.717 L52.6588 241.717 L52.6588 237.782 Z\" fill=\"#000000\" fill-rule=\"evenodd\" fill-opacity=\"1\" /><path clip-path=\"url(#clip060)\" d=\"M82.0568 207.157 L100.413 207.157 L100.413 211.092 L86.3392 211.092 L86.3392 219.564 Q87.3577 219.217 88.3762 219.055 Q89.3947 218.87 90.4132 218.87 Q96.2002 218.87 99.5798 222.041 Q102.959 225.212 102.959 230.629 Q102.959 236.208 99.4872 239.309 Q96.015 242.388 89.6956 242.388 Q87.5197 242.388 85.2512 242.018 Q83.0058 241.647 80.5984 240.907 L80.5984 236.208 Q82.6818 237.342 84.904 237.897 Q87.1262 238.453 89.603 238.453 Q93.6076 238.453 95.9456 236.347 Q98.2835 234.24 98.2835 230.629 Q98.2835 227.018 95.9456 224.911 Q93.6076 222.805 89.603 222.805 Q87.728 222.805 85.8531 223.222 Q84.0012 223.638 82.0568 224.518 L82.0568 207.157 Z\" fill=\"#000000\" fill-rule=\"evenodd\" fill-opacity=\"1\" /><polyline clip-path=\"url(#clip062)\" style=\"stroke:#009af9; stroke-linecap:round; stroke-linejoin:round; stroke-width:4; stroke-opacity:1; fill:none\" points=\"\n",
       "  201.614,1445.72 205.799,1445.72 209.985,1445.72 214.17,1445.72 218.355,1445.72 222.541,1445.72 226.726,1445.72 230.911,1445.72 235.097,1445.72 239.282,1445.72 \n",
       "  243.468,1445.72 247.653,1445.72 251.838,1445.72 256.024,1445.72 260.209,1445.72 264.394,1445.72 268.58,1445.72 272.765,1445.72 276.95,1445.72 281.136,1445.72 \n",
       "  285.321,1445.72 289.506,1445.72 293.692,1445.72 297.877,1445.72 302.062,1445.72 306.248,1445.72 310.433,1445.72 314.618,1445.72 318.804,1445.72 322.989,1445.72 \n",
       "  327.174,1445.72 331.36,1445.72 335.545,1445.72 339.73,1445.72 343.916,1445.72 348.101,1445.72 352.286,1445.72 356.472,1445.72 360.657,1445.72 364.843,1445.72 \n",
       "  369.028,1445.72 373.213,1445.72 377.399,1445.72 381.584,1445.72 385.769,1445.72 389.955,1445.72 394.14,1445.72 398.325,1445.72 402.511,1445.72 406.696,1445.72 \n",
       "  410.881,1445.72 415.067,1445.72 419.252,1445.72 423.437,1445.72 427.623,1445.72 431.808,1445.72 435.993,1445.72 440.179,1445.72 444.364,1445.72 448.549,1445.72 \n",
       "  452.735,1445.72 456.92,1445.72 461.105,1445.72 465.291,1445.72 469.476,1445.72 473.661,1445.72 477.847,1445.72 482.032,1445.72 486.218,1445.72 490.403,1445.72 \n",
       "  494.588,1445.72 498.774,1445.72 502.959,1445.72 507.144,1445.72 511.33,1445.72 515.515,1445.72 519.7,1445.72 523.886,1445.72 528.071,1445.72 532.256,1445.72 \n",
       "  536.442,1445.72 540.627,1445.72 544.812,1445.72 548.998,1445.72 553.183,1445.72 557.368,1445.72 561.554,1445.72 565.739,1445.72 569.924,1445.72 574.11,1445.72 \n",
       "  578.295,1445.72 582.48,1445.72 586.666,1445.72 590.851,1445.72 595.037,1445.72 599.222,1445.72 603.407,1445.72 607.593,1445.72 611.778,1445.72 615.963,1445.72 \n",
       "  620.149,1445.72 624.334,1445.72 628.519,1445.72 632.705,1445.72 636.89,1445.72 641.075,1445.72 645.261,1445.72 649.446,1445.72 653.631,1445.72 657.817,1445.72 \n",
       "  662.002,1445.72 666.187,1445.72 670.373,1445.72 674.558,1445.72 678.743,1445.72 682.929,1445.72 687.114,1445.72 691.299,1445.72 695.485,1445.72 699.67,1445.72 \n",
       "  703.855,1445.72 708.041,1445.72 712.226,1445.72 716.412,1445.72 720.597,1445.72 724.782,1445.72 728.968,1445.72 733.153,1445.72 737.338,1445.72 741.524,1445.72 \n",
       "  745.709,1445.72 749.894,1445.72 754.08,1445.72 758.265,1445.72 762.45,1445.72 766.636,1445.72 770.821,1445.72 775.006,1445.72 779.192,1445.72 783.377,1445.72 \n",
       "  787.562,1445.72 791.748,1445.72 795.933,1445.72 800.118,1445.72 804.304,1445.72 808.489,1445.72 812.674,1445.72 816.86,1445.72 821.045,1445.72 825.23,1445.72 \n",
       "  829.416,1445.72 833.601,1445.72 837.787,1445.72 841.972,1445.72 846.157,1445.72 850.343,1445.72 854.528,1445.72 858.713,1445.72 862.899,1445.72 867.084,1445.72 \n",
       "  871.269,1445.72 875.455,1445.72 879.64,1445.72 883.825,1445.72 888.011,1445.72 892.196,1445.72 896.381,1445.72 900.567,1445.72 904.752,1445.72 908.937,1445.72 \n",
       "  913.123,1445.72 917.308,1445.72 921.493,1445.72 925.679,1445.72 929.864,1445.72 934.049,1445.72 938.235,1445.72 942.42,1445.72 946.605,1445.72 950.791,1445.72 \n",
       "  954.976,1445.72 959.162,1445.72 963.347,1445.72 967.532,1445.72 971.718,1445.72 975.903,1445.72 980.088,1445.72 984.274,1445.72 988.459,1445.72 992.644,1445.72 \n",
       "  996.83,1445.72 1001.01,1445.72 1005.2,1445.72 1009.39,1445.72 1013.57,1445.72 1017.76,1445.72 1021.94,1445.72 1026.13,1445.72 1030.31,1445.72 1034.5,1445.72 \n",
       "  1038.68,1445.72 1042.87,1445.72 1047.05,1445.72 1051.24,1445.72 1055.42,1445.72 1059.61,1445.72 1063.8,1445.72 1067.98,1445.72 1072.17,1445.72 1076.35,1445.72 \n",
       "  1080.54,1445.72 1084.72,1445.72 1088.91,1445.72 1093.09,1445.72 1097.28,1445.72 1101.46,1445.72 1105.65,1445.72 1109.83,1445.72 1114.02,1445.72 1118.2,1445.72 \n",
       "  1122.39,1445.72 1126.58,1445.72 1130.76,1445.72 1134.95,1445.72 1139.13,1445.72 1143.32,1445.72 1147.5,1445.72 1151.69,1445.72 1155.87,1445.72 1160.06,1445.72 \n",
       "  1164.24,1445.72 1168.43,1445.72 1172.61,1445.72 1176.8,1445.5 1180.98,1430.19 1185.17,1391.23 1189.36,1330.01 1193.54,1248.7 1197.73,1150.2 1201.91,1038.02 \n",
       "  1206.1,916.134 1210.28,788.885 1214.47,660.799 1218.65,536.43 1222.84,420.203 1227.02,316.251 1231.21,228.272 1235.39,159.394 1239.58,112.068 1243.77,87.9763 \n",
       "  1247.95,87.9763 1252.14,112.068 1256.32,159.394 1260.51,228.272 1264.69,316.251 1268.88,420.203 1273.06,536.43 1277.25,660.799 1281.43,788.885 1285.62,916.134 \n",
       "  1289.8,1038.02 1293.99,1150.2 1298.17,1248.7 1302.36,1330.01 1306.55,1391.23 1310.73,1430.19 1314.92,1445.5 1319.1,1445.72 1323.29,1445.72 1327.47,1445.72 \n",
       "  1331.66,1445.72 1335.84,1445.72 1340.03,1445.72 1344.21,1445.72 1348.4,1445.72 1352.58,1445.72 1356.77,1445.72 1360.95,1445.72 1365.14,1445.72 1369.33,1445.72 \n",
       "  1373.51,1445.72 1377.7,1445.72 1381.88,1445.72 1386.07,1445.72 1390.25,1445.72 1394.44,1445.72 1398.62,1445.72 1402.81,1445.72 1406.99,1445.72 1411.18,1445.72 \n",
       "  1415.36,1445.72 1419.55,1445.72 1423.73,1445.72 1427.92,1445.72 1432.11,1445.72 1436.29,1445.72 1440.48,1445.72 1444.66,1445.72 1448.85,1445.72 1453.03,1445.72 \n",
       "  1457.22,1445.72 1461.4,1445.72 1465.59,1445.72 1469.77,1445.72 1473.96,1445.72 1478.14,1445.72 1482.33,1445.72 1486.52,1445.72 1490.7,1445.72 1494.89,1445.72 \n",
       "  1499.07,1445.72 1503.26,1445.72 1507.44,1445.72 1511.63,1445.72 1515.81,1445.72 1520,1445.72 1524.18,1445.72 1528.37,1445.72 1532.55,1445.72 1536.74,1445.72 \n",
       "  1540.92,1445.72 1545.11,1445.72 1549.3,1445.72 1553.48,1445.72 1557.67,1445.72 1561.85,1445.72 1566.04,1445.72 1570.22,1445.72 1574.41,1445.72 1578.59,1445.72 \n",
       "  1582.78,1445.72 1586.96,1445.72 1591.15,1445.72 1595.33,1445.72 1599.52,1445.72 1603.7,1445.72 1607.89,1445.72 1612.08,1445.72 1616.26,1445.72 1620.45,1445.72 \n",
       "  1624.63,1445.72 1628.82,1445.72 1633,1445.72 1637.19,1445.72 1641.37,1445.72 1645.56,1445.72 1649.74,1445.72 1653.93,1445.72 1658.11,1445.72 1662.3,1445.72 \n",
       "  1666.48,1445.72 1670.67,1445.72 1674.86,1445.72 1679.04,1445.72 1683.23,1445.72 1687.41,1445.72 1691.6,1445.72 1695.78,1445.72 1699.97,1445.72 1704.15,1445.72 \n",
       "  1708.34,1445.72 1712.52,1445.72 1716.71,1445.72 1720.89,1445.72 1725.08,1445.72 1729.27,1445.72 1733.45,1445.72 1737.64,1445.72 1741.82,1445.72 1746.01,1445.72 \n",
       "  1750.19,1445.72 1754.38,1445.72 1758.56,1445.72 1762.75,1445.72 1766.93,1445.72 1771.12,1445.72 1775.3,1445.72 1779.49,1445.72 1783.67,1445.72 1787.86,1445.72 \n",
       "  1792.05,1445.72 1796.23,1445.72 1800.42,1445.72 1804.6,1445.72 1808.79,1445.72 1812.97,1445.72 1817.16,1445.72 1821.34,1445.72 1825.53,1445.72 1829.71,1445.72 \n",
       "  1833.9,1445.72 1838.08,1445.72 1842.27,1445.72 1846.45,1445.72 1850.64,1445.72 1854.83,1445.72 1859.01,1445.72 1863.2,1445.72 1867.38,1445.72 1871.57,1445.72 \n",
       "  1875.75,1445.72 1879.94,1445.72 1884.12,1445.72 1888.31,1445.72 1892.49,1445.72 1896.68,1445.72 1900.86,1445.72 1905.05,1445.72 1909.23,1445.72 1913.42,1445.72 \n",
       "  1917.61,1445.72 1921.79,1445.72 1925.98,1445.72 1930.16,1445.72 1934.35,1445.72 1938.53,1445.72 1942.72,1445.72 1946.9,1445.72 1951.09,1445.72 1955.27,1445.72 \n",
       "  1959.46,1445.72 1963.64,1445.72 1967.83,1445.72 1972.02,1445.72 1976.2,1445.72 1980.39,1445.72 1984.57,1445.72 1988.76,1445.72 1992.94,1445.72 1997.13,1445.72 \n",
       "  2001.31,1445.72 2005.5,1445.72 2009.68,1445.72 2013.87,1445.72 2018.05,1445.72 2022.24,1445.72 2026.42,1445.72 2030.61,1445.72 2034.8,1445.72 2038.98,1445.72 \n",
       "  2043.17,1445.72 2047.35,1445.72 2051.54,1445.72 2055.72,1445.72 2059.91,1445.72 2064.09,1445.72 2068.28,1445.72 2072.46,1445.72 2076.65,1445.72 2080.83,1445.72 \n",
       "  2085.02,1445.72 2089.2,1445.72 2093.39,1445.72 2097.58,1445.72 2101.76,1445.72 2105.95,1445.72 2110.13,1445.72 2114.32,1445.72 2118.5,1445.72 2122.69,1445.72 \n",
       "  2126.87,1445.72 2131.06,1445.72 2135.24,1445.72 2139.43,1445.72 2143.61,1445.72 2147.8,1445.72 2151.98,1445.72 2156.17,1445.72 2160.36,1445.72 2164.54,1445.72 \n",
       "  2168.73,1445.72 2172.91,1445.72 2177.1,1445.72 2181.28,1445.72 2185.47,1445.72 2189.65,1445.72 2193.84,1445.72 2198.02,1445.72 2202.21,1445.72 2206.39,1445.72 \n",
       "  2210.58,1445.72 2214.77,1445.72 2218.95,1445.72 2223.14,1445.72 2227.32,1445.72 2231.51,1445.72 2235.69,1445.72 2239.88,1445.72 2244.06,1445.72 2248.25,1445.72 \n",
       "  2252.43,1445.72 2256.62,1445.72 2260.8,1445.72 2264.99,1445.72 2269.17,1445.72 2273.36,1445.72 2277.55,1445.72 2281.73,1445.72 2285.92,1445.72 2290.1,1445.72 \n",
       "  \n",
       "  \"/>\n",
       "<path clip-path=\"url(#clip060)\" d=\"\n",
       "M1980.56 198.898 L2278.96 198.898 L2278.96 95.2176 L1980.56 95.2176  Z\n",
       "  \" fill=\"#ffffff\" fill-rule=\"evenodd\" fill-opacity=\"1\"/>\n",
       "<polyline clip-path=\"url(#clip060)\" style=\"stroke:#000000; stroke-linecap:round; stroke-linejoin:round; stroke-width:4; stroke-opacity:1; fill:none\" points=\"\n",
       "  1980.56,198.898 2278.96,198.898 2278.96,95.2176 1980.56,95.2176 1980.56,198.898 \n",
       "  \"/>\n",
       "<polyline clip-path=\"url(#clip060)\" style=\"stroke:#009af9; stroke-linecap:round; stroke-linejoin:round; stroke-width:4; stroke-opacity:1; fill:none\" points=\"\n",
       "  2005.15,147.058 2152.74,147.058 \n",
       "  \"/>\n",
       "<path clip-path=\"url(#clip060)\" d=\"M2191.18 166.745 Q2189.37 171.375 2187.66 172.787 Q2185.95 174.199 2183.08 174.199 L2179.67 174.199 L2179.67 170.634 L2182.17 170.634 Q2183.93 170.634 2184.91 169.8 Q2185.88 168.967 2187.06 165.865 L2187.82 163.921 L2177.34 138.412 L2181.85 138.412 L2189.95 158.689 L2198.05 138.412 L2202.57 138.412 L2191.18 166.745 Z\" fill=\"#000000\" fill-rule=\"evenodd\" fill-opacity=\"1\" /><path clip-path=\"url(#clip060)\" d=\"M2209.86 160.402 L2217.5 160.402 L2217.5 134.037 L2209.19 135.703 L2209.19 131.444 L2217.45 129.778 L2222.13 129.778 L2222.13 160.402 L2229.77 160.402 L2229.77 164.338 L2209.86 164.338 L2209.86 160.402 Z\" fill=\"#000000\" fill-rule=\"evenodd\" fill-opacity=\"1\" /></svg>\n"
      ]
     },
     "metadata": {},
     "output_type": "display_data"
    }
   ],
   "source": [
    "times = LinRange(0,30.0,500)\n",
    "\n",
    "plot(times,[pulse([10, 14, 0, 0.7, 0.0, 0.0, 1.33, phi_ext, 0],t,1, 0.25) for t in times])"
   ]
  },
  {
   "cell_type": "code",
   "execution_count": 8,
   "metadata": {},
   "outputs": [
    {
     "data": {
      "text/plain": [
       "wrapper_augmented_H_int! (generic function with 1 method)"
      ]
     },
     "metadata": {},
     "output_type": "display_data"
    }
   ],
   "source": [
    "function wrapper_augmented_H_int!(buffer)\n",
    "    Potential3 = buffer[3]\n",
    "    ω_qubit = buffer[1]\n",
    "    overlap_scale = buffer[2]\n",
    "    function augmented_H_int!(du, u, p, t)\n",
    "        H = KinPot12 + alpha(p, t) .* Potential3\n",
    "        V = chargecoupling\n",
    "        hamil = H + pulse(p, t, ω_qubit, overlap_scale) .* V\n",
    "        \n",
    "        a = transpose(reshape(u[1:2*NHilbert],NHilbert,2))\n",
    "        ψT = reshape(u[2*NHilbert+1:4*NHilbert],NHilbert,2)\n",
    "        # a = reshape(u[1:NHilbert],1,:)\n",
    "        # ψT = u[NHilbert+1:2*NHilbert]\n",
    "\n",
    "        du[1:2*NHilbert] = reshape(transpose(im .* a * hamil),:)\n",
    "        du[2*NHilbert+1:4*NHilbert] = reshape(-im .* hamil * ψT,:)\n",
    "        # du[1:NHilbert] = im .* a * hamil\n",
    "        # du[NHilbert+1:2*NHilbert] = -im .* hamil * ψT\n",
    "        \n",
    "        du[4*NHilbert+1:end] = 2*real(im * tr(a * V * ψT)) .* dpulsedp(p, t, ω_qubit, overlap_scale) + 2*real(im * tr(a * Potential3 * ψT)) .* dalphadp(p,t)\n",
    "        # du[2*NHilbert+1:end] = 2*real(im * a * V * ψT) .* dpulsedp(p, t, ω_qubit, overlap_scale) + 2*real(im * a * Potential3 * ψT) .* dalphadp(p,t)\n",
    "    end\n",
    "    return augmented_H_int!\n",
    "end"
   ]
  },
  {
   "cell_type": "code",
   "execution_count": 9,
   "metadata": {},
   "outputs": [
    {
     "data": {
      "text/plain": [
       "g! (generic function with 1 method)"
      ]
     },
     "metadata": {},
     "output_type": "display_data"
    }
   ],
   "source": [
    "#buffer = [ω_qubit, overlap_scale, Potential3, ψ1s, ψT]\n",
    "function wrapper_H_int!(buffer)\n",
    "    Potential3 = buffer[3]\n",
    "    ω_qubit = buffer[1]\n",
    "    overlap_scale = buffer[2]\n",
    "    function H_int!(du, u, p, t)\n",
    "        H = KinPot12 + alpha(p, t) .* Potential3\n",
    "        V = pulse(p, t, ω_qubit, overlap_scale) .* chargecoupling\n",
    "        du[:] = - im * (H + V) * u\n",
    "    end\n",
    "    return H_int!\n",
    "end\n",
    "\n",
    "function calculate_common!(p, last_p, buffer)\n",
    "    if p != last_p\n",
    "        copy!(last_p, p)\n",
    "        println(last_p)\n",
    "        buffer[3] = get_Pot3(0.995pi)#p[8])\n",
    "        Es, ψs = eigs(KinPot12 + p[4] .* buffer[3], nev=2, which=:SR)\n",
    "        buffer[1] = real(Es[2] - Es[1])\n",
    "        buffer[2] = abs(ψs[:,2]' * chargecoupling * ψs[:,1])\n",
    "\n",
    "        E1s, ψ1s = eigs(KinPot12 + buffer[3], nev=2, which=:SR)\n",
    "        buffer[4] = ψ1s\n",
    "        T = 30.0#p[3] + 2*p[2]\n",
    "        forward_prob = ODEProblem(wrapper_H_int!(buffer), ψ1s[:,1:2], (0.0, T), p)\n",
    "        sol = solve(forward_prob, p=p, save_everystep=false, reltol=1e-8, abstol=1e-10)\n",
    "        buffer[5] = sol.u[end]\n",
    "    end\n",
    "end\n",
    "\n",
    "function loss_func(buffer)\n",
    "    UT = abs2.(buffer[4]'*buffer[5])\n",
    "    return 0.5 * (2 - UT[1,2] - UT[2,1])\n",
    "end\n",
    "\n",
    "function f(p, last_p, buffer)\n",
    "    calculate_common!(p, last_p, buffer)\n",
    "    loss_func(buffer)\n",
    "end\n",
    "\n",
    "function g!(storage, p, last_p, buffer)\n",
    "    calculate_common!(p, last_p, buffer)\n",
    "    ψT = buffer[5]\n",
    "    ψ1s = buffer[4]\n",
    "    a1 = - dropdims(ψT[:,1]'*ψ1s[:,2]*ψ1s[:,2]',dims=1)\n",
    "    a2 = - dropdims(ψT[:,2]'*ψ1s[:,1]*ψ1s[:,1]',dims=1)\n",
    "\n",
    "    u0_aug = cat(a1,a2,ψT[:,1],ψT[:,2],zeros(ComplexF64,length(p)),dims=1)\n",
    "    # u0_aug = cat(a1,ψT[:,1],zeros(ComplexF64,length(p)),dims=1)\n",
    "    aug_prob = ODEProblem(wrapper_augmented_H_int!(buffer), u0_aug, (30.0,0.0), p)\n",
    "    aug_sol = solve(aug_prob, p=p, save_everystep=false, reltol=1e-8, abstol=1e-10)\n",
    "\n",
    "    # push!(buffer,aug_sol)\n",
    "    storage[:] = real(aug_sol.u[end][4*NHilbert+1:end])\n",
    "    # storage[:] = real(aug_sol.u[end][2*NHilbert+1:end])\n",
    "end"
   ]
  },
  {
   "cell_type": "code",
   "execution_count": 12,
   "metadata": {},
   "outputs": [],
   "source": [
    "initial_p = copy(p)\n",
    "buffer = [0,0,zeros(ComplexF64,NHilbert,NHilbert),zeros(ComplexF64,NHilbert,2),zeros(ComplexF64,NHilbert,2)]\n",
    "last_p = similar(initial_p);"
   ]
  },
  {
   "cell_type": "code",
   "execution_count": 11,
   "metadata": {},
   "outputs": [
    {
     "name": "stdout",
     "output_type": "stream",
     "text": [
      "[2.0, 10.0, 10.0, 0.7, 0.5418, 0.9763, 1.01556, 3.1258846903218442, 0.05289]\n"
     ]
    },
    {
     "data": {
      "text/plain": [
       "9-element Vector{Float64}:\n",
       " -0.00020829795135391636\n",
       " -0.001040287728119898\n",
       "  0.0\n",
       "  0.006333617663564399\n",
       " -1.051421487891023e-6\n",
       "  0.00037007594173809233\n",
       "  2.1200140831049008e-6\n",
       "  0.0\n",
       "  2.3583576674600797e-5"
      ]
     },
     "metadata": {},
     "output_type": "display_data"
    }
   ],
   "source": [
    "storage = similar(last_p)\n",
    "g!(storage,p,last_p,buffer)"
   ]
  },
  {
   "cell_type": "code",
   "execution_count": 13,
   "metadata": {},
   "outputs": [
    {
     "name": "stdout",
     "output_type": "stream",
     "text": [
      "[2.0, 10.0, 10.0, 0.7, 0.5418, 0.9763, 1.01556, 3.1258846903218442, 0.05289]\n"
     ]
    },
    {
     "name": "stdout",
     "output_type": "stream",
     "text": [
      "[2.0002083068534513, 10.00104030811585, 10.0, 0.6936663816996786, 0.5418010514280106, 0.9759299240462633, 1.015557879993325, 3.1258846903218442, 0.05286641643980978]"
     ]
    },
    {
     "name": "stdout",
     "output_type": "stream",
     "text": [
      "\n",
      "[2.0002083068534513, 10.00104030811585, 10.0, 0.6936663816996786, 0.5418010514280106, 0.9759299240462633, 1.015557879993325, 3.1258846903218442, 0.05286641643980978]"
     ]
    },
    {
     "name": "stdout",
     "output_type": "stream",
     "text": [
      "\n",
      "[2.0000058654406137, 10.000029292677473, 10.0, 0.6998216599147122, 0.541800029605788, 0.9762895795145803, 1.0155599403055011, 3.1258846903218442, 0.05288933594133143]"
     ]
    },
    {
     "name": "stdout",
     "output_type": "stream",
     "text": [
      "\n",
      "[2.0000058654406137, 10.000029292677473, 10.0, 0.6998216599147122, 0.541800029605788, 0.9762895795145803, 1.0155599403055011, 3.1258846903218442, 0.05288933594133143]"
     ]
    },
    {
     "name": "stdout",
     "output_type": "stream",
     "text": [
      "\n",
      "[2.0000005054428396, 10.000002524239024, 10.0, 0.6999846318929666, 0.5418000025512206, 0.9762991020351088, 1.0155599948559437, 3.1258846903218442, 0.0528899427760468]"
     ]
    },
    {
     "name": "stdout",
     "output_type": "stream",
     "text": [
      "\n",
      "[2.0000005054428396, 10.000002524239024, 10.0, 0.6999846318929666, 0.5418000025512206, 0.9762991020351088, 1.0155599948559437, 3.1258846903218442, 0.0528899427760468]\n"
     ]
    },
    {
     "name": "stdout",
     "output_type": "stream",
     "text": [
      "[2.0002201742535064, 10.001156015905055, 10.0, 0.6998091057078664, 0.5417797907837908, 0.9770531007874951, 1.0160062334391886, 3.1258846903218442, 0.052958775017298884]"
     ]
    },
    {
     "name": "stdout",
     "output_type": "stream",
     "text": [
      "\n",
      "[2.0002201742535064, 10.001156015905055, 10.0, 0.6998091057078664, 0.5417797907837908, 0.9770531007874951, 1.0160062334391886, 3.1258846903218442, 0.052958775017298884]"
     ]
    },
    {
     "name": "stdout",
     "output_type": "stream",
     "text": [
      "\n",
      "[2.000110339848173, 10.00057927007204, 10.0, 0.6998968688004165, 0.5417898966675057, 0.976676101411302, 1.0157831141475662, 3.1258846903218442, 0.052924358896672845]\n"
     ]
    },
    {
     "name": "stdout",
     "output_type": "stream",
     "text": [
      "[2.000110339848173, 10.00057927007204, 10.0, 0.6998968688004165, 0.5417898966675057, 0.976676101411302, 1.0157831141475662, 3.1258846903218442, 0.052924358896672845]\n"
     ]
    },
    {
     "name": "stdout",
     "output_type": "stream",
     "text": [
      "[2.0000554226455063, 10.000290897155532, 10.0, 0.6999407503466915, 0.5417949496093631, 0.9764876017232054, 1.015671554501755, 3.1258846903218442, 0.05290715083635982]\n"
     ]
    },
    {
     "name": "stdout",
     "output_type": "stream",
     "text": [
      "[2.0000554226455063, 10.000290897155532, 10.0, 0.6999407503466915, 0.5417949496093631, 0.9764876017232054, 1.015671554501755, 3.1258846903218442, 0.05290715083635982]\n"
     ]
    },
    {
     "name": "stdout",
     "output_type": "stream",
     "text": [
      "[2.0000279640441727, 10.000146710697278, 10.0, 0.699962691119829, 0.5417974760802919, 0.9763933518791571, 1.0156157746788494, 3.1258846903218442, 0.05289854680620331]\n"
     ]
    },
    {
     "name": "stdout",
     "output_type": "stream",
     "text": [
      "[2.0000279640441727, 10.000146710697278, 10.0, 0.699962691119829, 0.5417974760802919, 0.9763933518791571, 1.0156157746788494, 3.1258846903218442, 0.05289854680620331]"
     ]
    },
    {
     "name": "stdout",
     "output_type": "stream",
     "text": [
      "\n",
      "[2.000014234743506, 10.000074617468151, 10.0, 0.6999736615063978, 0.5417987393157563, 0.976346226957133, 1.0155878847673965, 3.1258846903218442, 0.052894244791125054]"
     ]
    },
    {
     "name": "stdout",
     "output_type": "stream",
     "text": [
      "\n",
      "[2.000014234743506, 10.000074617468151, 10.0, 0.6999736615063978, 0.5417987393157563, 0.976346226957133, 1.0155878847673965, 3.1258846903218442, 0.052894244791125054]\n"
     ]
    },
    {
     "name": "stdout",
     "output_type": "stream",
     "text": [
      "[2.0000210993938397, 10.000110664082714, 10.0, 0.6999681763131134, 0.5417981076980241, 0.976369789418145, 1.0156018297231229, 3.1258846903218442, 0.05289639579866418]\n"
     ]
    },
    {
     "name": "stdout",
     "output_type": "stream",
     "text": [
      "[2.0000210993938397, 10.000110664082714, 10.0, 0.6999681763131134, 0.5417981076980241, 0.976369789418145, 1.0156018297231229, 3.1258846903218442, 0.05289639579866418]\n"
     ]
    },
    {
     "name": "stdout",
     "output_type": "stream",
     "text": [
      "[2.000017667068673, 10.000092640775433, 10.0, 0.6999709189097556, 0.5417984235068902, 0.976358008187639, 1.0155948572452598, 3.1258846903218442, 0.05289532029489462]"
     ]
    },
    {
     "name": "stdout",
     "output_type": "stream",
     "text": [
      "\n",
      "[2.000017667068673, 10.000092640775433, 10.0, 0.6999709189097556, 0.5417984235068902, 0.976358008187639, 1.0155948572452598, 3.1258846903218442, 0.05289532029489462]\n"
     ]
    },
    {
     "name": "stdout",
     "output_type": "stream",
     "text": [
      "[2.0000159509060897, 10.000083629121791, 10.0, 0.6999722902080767, 0.5417985814113232, 0.976352117572386, 1.0155913710063282, 3.1258846903218442, 0.05289478254300983]\n"
     ]
    },
    {
     "name": "stdout",
     "output_type": "stream",
     "text": [
      "[2.0000159509060897, 10.000083629121791, 10.0, 0.6999722902080767, 0.5417985814113232, 0.976352117572386, 1.0155913710063282, 3.1258846903218442, 0.05289478254300983]\n"
     ]
    },
    {
     "name": "stdout",
     "output_type": "stream",
     "text": [
      "[2.000015092824798, 10.000079123294972, 10.0, 0.6999729758572373, 0.5417986603635397, 0.9763491722647595, 1.0155896278868624, 3.1258846903218442, 0.05289451366706745]\n"
     ]
    },
    {
     "name": "stdout",
     "output_type": "stream",
     "text": [
      "[2.000015092824798, 10.000079123294972, 10.0, 0.6999729758572373, 0.5417986603635397, 0.9763491722647595, 1.0155896278868624, 3.1258846903218442, 0.05289451366706745]"
     ]
    },
    {
     "name": "stdout",
     "output_type": "stream",
     "text": [
      "\n",
      "[2.0000146637841523, 10.00007687038156, 10.0, 0.6999733186818176, 0.541798699839648, 0.9763476996109463, 1.0155887563271295, 3.1258846903218442, 0.05289437922909625]\n"
     ]
    },
    {
     "name": "stdout",
     "output_type": "stream",
     "text": [
      "[2.0000146637841523, 10.00007687038156, 10.0, 0.6999733186818176, 0.541798699839648, 0.9763476996109463, 1.0155887563271295, 3.1258846903218442, 0.05289437922909625]\n"
     ]
    },
    {
     "name": "stdout",
     "output_type": "stream",
     "text": [
      "[2.000014449263829, 10.000075743924857, 10.0, 0.6999734900941077, 0.5417987195777021, 0.9763469632840396, 1.015588320547263, 3.1258846903218442, 0.052894312010110654]"
     ]
    },
    {
     "name": "stdout",
     "output_type": "stream",
     "text": [
      "\n",
      "[2.000014449263829, 10.000075743924857, 10.0, 0.6999734900941077, 0.5417987195777021, 0.9763469632840396, 1.015588320547263, 3.1258846903218442, 0.052894312010110654]"
     ]
    },
    {
     "name": "stdout",
     "output_type": "stream",
     "text": [
      "\n",
      "[2.000014342003668, 10.000075180696504, 10.0, 0.6999735758002528, 0.5417987294467292, 0.9763465951205863, 1.0155881026573297, 3.1258846903218442, 0.052894278400617854]\n"
     ]
    },
    {
     "name": "stdout",
     "output_type": "stream",
     "text": [
      "[2.000014342003668, 10.000075180696504, 10.0, 0.6999735758002528, 0.5417987294467292, 0.9763465951205863, 1.0155881026573297, 3.1258846903218442, 0.052894278400617854]"
     ]
    },
    {
     "name": "stdout",
     "output_type": "stream",
     "text": [
      "\n",
      "[2.0000143956337486, 10.00007546231068, 10.0, 0.6999735329471802, 0.5417987245122157, 0.9763467792023129, 1.0155882116022963, 3.1258846903218442, 0.052894295205364254]"
     ]
    },
    {
     "name": "stdout",
     "output_type": "stream",
     "text": [
      "\n",
      "[2.0000143956337486, 10.00007546231068, 10.0, 0.6999735329471802, 0.5417987245122157, 0.9763467792023129, 1.0155882116022963, 3.1258846903218442, 0.052894295205364254]\n"
     ]
    },
    {
     "name": "stdout",
     "output_type": "stream",
     "text": [
      "[2.000014422448789, 10.000075603117768, 10.0, 0.6999735115206439, 0.5417987220449589, 0.9763468712431763, 1.0155882660747797, 3.1258846903218442, 0.052894303607737454]\n"
     ]
    },
    {
     "name": "stdout",
     "output_type": "stream",
     "text": [
      "[2.000014422448789, 10.000075603117768, 10.0, 0.6999735115206439, 0.5417987220449589, 0.9763468712431763, 1.0155882660747797, 3.1258846903218442, 0.052894303607737454]\n"
     ]
    },
    {
     "name": "stdout",
     "output_type": "stream",
     "text": [
      "[2.000014435856309, 10.000075673521312, 10.0, 0.6999735008073757, 0.5417987208113305, 0.9763469172636079, 1.0155882933110214, 3.1258846903218442, 0.052894307808924054]\n"
     ]
    },
    {
     "name": "stdout",
     "output_type": "stream",
     "text": [
      "[2.000014435856309, 10.000075673521312, 10.0, 0.6999735008073757, 0.5417987208113305, 0.9763469172636079, 1.0155882933110214, 3.1258846903218442, 0.052894307808924054]\n"
     ]
    },
    {
     "name": "stdout",
     "output_type": "stream",
     "text": [
      "[2.000014442560069, 10.000075708723084, 10.0, 0.6999734954507417, 0.5417987201945164, 0.9763469402738237, 1.0155883069291423, 3.1258846903218442, 0.05289430990951735]"
     ]
    },
    {
     "name": "stdout",
     "output_type": "stream",
     "text": [
      "\n",
      "[2.000014442560069, 10.000075708723084, 10.0, 0.6999734954507417, 0.5417987201945164, 0.9763469402738237, 1.0155883069291423, 3.1258846903218442, 0.05289430990951735]"
     ]
    },
    {
     "name": "stdout",
     "output_type": "stream",
     "text": [
      "\n",
      "[2.0000144459119493, 10.00007572632397, 10.0, 0.6999734927724247, 0.5417987198861093, 0.9763469517789317, 1.0155883137382025, 3.1258846903218442, 0.052894310959814]\n"
     ]
    },
    {
     "name": "stdout",
     "output_type": "stream",
     "text": [
      "[2.0000144459119493, 10.00007572632397, 10.0, 0.6999734927724247, 0.5417987198861093, 0.9763469517789317, 1.0155883137382025, 3.1258846903218442, 0.052894310959814]"
     ]
    },
    {
     "name": "stdout",
     "output_type": "stream",
     "text": [
      "\n",
      "[2.000014444236009, 10.000075717523528, 10.0, 0.6999734941115832, 0.5417987200403128, 0.9763469460263777, 1.0155883103336725, 3.1258846903218442, 0.05289431043466568]\n"
     ]
    },
    {
     "name": "stdout",
     "output_type": "stream",
     "text": [
      "[2.000014444236009, 10.000075717523528, 10.0, 0.6999734941115832, 0.5417987200403128, 0.9763469460263777, 1.0155883103336725, 3.1258846903218442, 0.05289431043466568]"
     ]
    },
    {
     "name": "stdout",
     "output_type": "stream",
     "text": [
      "\n",
      "[2.000014445073979, 10.000075721923748, 10.0, 0.699973493442004, 0.541798719963211, 0.9763469489026547, 1.0155883120359375, 3.1258846903218442, 0.05289431069723984]\n"
     ]
    },
    {
     "name": "stdout",
     "output_type": "stream",
     "text": [
      "[2.000014445073979, 10.000075721923748, 10.0, 0.699973493442004, 0.541798719963211, 0.9763469489026547, 1.0155883120359375, 3.1258846903218442, 0.05289431069723984]\n"
     ]
    },
    {
     "name": "stdout",
     "output_type": "stream",
     "text": [
      "[2.000014445492964, 10.000075724123858, 10.0, 0.6999734931072144, 0.5417987199246601, 0.9763469503407932, 1.01558831288707, 3.1258846903218442, 0.05289431082852692]\n"
     ]
    },
    {
     "name": "stdout",
     "output_type": "stream",
     "text": [
      "[2.000014445492964, 10.000075724123858, 10.0, 0.6999734931072144, 0.5417987199246601, 0.9763469503407932, 1.01558831288707, 3.1258846903218442, 0.05289431082852692]"
     ]
    },
    {
     "name": "stdout",
     "output_type": "stream",
     "text": [
      "\n",
      "[2.0000144457024565, 10.000075725223915, 10.0, 0.6999734929398195, 0.5417987199053846, 0.9763469510598625, 1.0155883133126362, 3.1258846903218442, 0.05289431089417046]"
     ]
    },
    {
     "name": "stdout",
     "output_type": "stream",
     "text": [
      "\n",
      "[2.0000144457024565, 10.000075725223915, 10.0, 0.6999734929398195, 0.5417987199053846, 0.9763469510598625, 1.0155883133126362, 3.1258846903218442, 0.05289431089417046]\n"
     ]
    },
    {
     "name": "stdout",
     "output_type": "stream",
     "text": [
      "[2.0000144455977105, 10.000075724673886, 10.0, 0.699973493023517, 0.5417987199150224, 0.9763469507003278, 1.015588313099853, 3.1258846903218442, 0.052894310861348694]"
     ]
    },
    {
     "name": "stdout",
     "output_type": "stream",
     "text": [
      "\n",
      "[2.0000144455977105, 10.000075724673886, 10.0, 0.699973493023517, 0.5417987199150224, 0.9763469507003278, 1.015588313099853, 3.1258846903218442, 0.052894310861348694]"
     ]
    },
    {
     "name": "stdout",
     "output_type": "stream",
     "text": [
      "\n",
      "[2.0000144455453372, 10.000075724398872, 10.0, 0.6999734930653656, 0.5417987199198413, 0.9763469505205605, 1.0155883129934615, 3.1258846903218442, 0.05289431084493781]\n"
     ]
    },
    {
     "name": "stdout",
     "output_type": "stream",
     "text": [
      "[2.0000144455453372, 10.000075724398872, 10.0, 0.6999734930653656, 0.5417987199198413, 0.9763469505205605, 1.0155883129934615, 3.1258846903218442, 0.05289431084493781]\n"
     ]
    },
    {
     "name": "stdout",
     "output_type": "stream",
     "text": [
      "[2.0000144455191506, 10.000075724261366, 10.0, 0.69997349308629, 0.5417987199222507, 0.9763469504306769, 1.0155883129402659, 3.1258846903218442, 0.052894310836732364]\n"
     ]
    },
    {
     "name": "stdout",
     "output_type": "stream",
     "text": [
      "[2.0000144455191506, 10.000075724261366, 10.0, 0.69997349308629, 0.5417987199222507, 0.9763469504306769, 1.0155883129402659, 3.1258846903218442, 0.052894310836732364]\n"
     ]
    },
    {
     "name": "stdout",
     "output_type": "stream",
     "text": [
      "[2.0000144455060576, 10.000075724192612, 10.0, 0.6999734930967522, 0.5417987199234554, 0.976346950385735, 1.015588312913668, 3.1258846903218442, 0.05289431083262964]\n"
     ]
    },
    {
     "name": "stdout",
     "output_type": "stream",
     "text": [
      "[2.0000144455060576, 10.000075724192612, 10.0, 0.6999734930967522, 0.5417987199234554, 0.976346950385735, 1.015588312913668, 3.1258846903218442, 0.05289431083262964]"
     ]
    },
    {
     "name": "stdout",
     "output_type": "stream",
     "text": [
      "\n",
      "[2.000014445512604, 10.00007572422699, 10.0, 0.699973493091521, 0.541798719922853, 0.976346950408206, 1.015588312926967, 3.1258846903218442, 0.052894310834681005]\n"
     ]
    },
    {
     "name": "stdout",
     "output_type": "stream",
     "text": [
      "[2.000014445512604, 10.00007572422699, 10.0, 0.699973493091521, 0.541798719922853, 0.976346950408206, 1.015588312926967, 3.1258846903218442, 0.052894310834681005]\n"
     ]
    },
    {
     "name": "stdout",
     "output_type": "stream",
     "text": [
      "[2.0000144455158773, 10.000075724244178, 10.0, 0.6999734930889056, 0.5417987199225519, 0.9763469504194414, 1.0155883129336163, 3.1258846903218442, 0.052894310835706684]\n"
     ]
    },
    {
     "name": "stdout",
     "output_type": "stream",
     "text": [
      "[2.0000144455158773, 10.000075724244178, 10.0, 0.6999734930889056, 0.5417987199225519, 0.9763469504194414, 1.0155883129336163, 3.1258846903218442, 0.052894310835706684]"
     ]
    },
    {
     "name": "stdout",
     "output_type": "stream",
     "text": [
      "\n",
      "[2.000014445517514, 10.000075724252772, 10.0, 0.6999734930875977, 0.5417987199224013, 0.9763469504250591, 1.015588312936941, 3.1258846903218442, 0.052894310836219524]"
     ]
    },
    {
     "name": "stdout",
     "output_type": "stream",
     "text": [
      "\n",
      "[2.000014445517514, 10.000075724252772, 10.0, 0.6999734930875977, 0.5417987199224013, 0.9763469504250591, 1.015588312936941, 3.1258846903218442, 0.052894310836219524]\n"
     ]
    },
    {
     "name": "stdout",
     "output_type": "stream",
     "text": [
      "[2.0000144455166957, 10.000075724248475, 10.0, 0.6999734930882516, 0.5417987199224765, 0.9763469504222503, 1.0155883129352787, 3.1258846903218442, 0.052894310835963104]\n"
     ]
    },
    {
     "name": "stdout",
     "output_type": "stream",
     "text": [
      "[2.0000144455166957, 10.000075724248475, 10.0, 0.6999734930882516, 0.5417987199224765, 0.9763469504222503, 1.0155883129352787, 3.1258846903218442, 0.052894310835963104]\n"
     ]
    },
    {
     "name": "stdout",
     "output_type": "stream",
     "text": [
      "[2.0000144455162867, 10.000075724246326, 10.0, 0.6999734930885786, 0.5417987199225142, 0.9763469504208458, 1.0155883129344476, 3.1258846903218442, 0.052894310835834894]\n"
     ]
    },
    {
     "name": "stdout",
     "output_type": "stream",
     "text": [
      "[2.0000144455162867, 10.000075724246326, 10.0, 0.6999734930885786, 0.5417987199225142, 0.9763469504208458, 1.0155883129344476, 3.1258846903218442, 0.052894310835834894]\n"
     ]
    },
    {
     "name": "stdout",
     "output_type": "stream",
     "text": [
      "[2.000014445516082, 10.000075724245253, 10.0, 0.699973493088742, 0.541798719922533, 0.9763469504201436, 1.015588312934032, 3.1258846903218442, 0.052894310835770786]"
     ]
    },
    {
     "name": "stdout",
     "output_type": "stream",
     "text": [
      "\n",
      "[2.000014445516082, 10.000075724245253, 10.0, 0.699973493088742, 0.541798719922533, 0.9763469504201436, 1.015588312934032, 3.1258846903218442, 0.052894310835770786]\n"
     ]
    },
    {
     "name": "stdout",
     "output_type": "stream",
     "text": [
      "[2.00001444551598, 10.000075724244715, 10.0, 0.6999734930888237, 0.5417987199225425, 0.9763469504197925, 1.0155883129338241, 3.1258846903218442, 0.052894310835738735]"
     ]
    },
    {
     "name": "stdout",
     "output_type": "stream",
     "text": [
      "\n",
      "[2.00001444551598, 10.000075724244715, 10.0, 0.6999734930888237, 0.5417987199225425, 0.9763469504197925, 1.0155883129338241, 3.1258846903218442, 0.052894310835738735]\n"
     ]
    },
    {
     "name": "stdout",
     "output_type": "stream",
     "text": [
      "[2.0000144455159283, 10.000075724244446, 10.0, 0.6999734930888647, 0.5417987199225471, 0.9763469504196169, 1.0155883129337202, 3.1258846903218442, 0.052894310835722706]\n"
     ]
    },
    {
     "name": "stdout",
     "output_type": "stream",
     "text": [
      "[2.0000144455159283, 10.000075724244446, 10.0, 0.6999734930888647, 0.5417987199225471, 0.9763469504196169, 1.0155883129337202, 3.1258846903218442, 0.052894310835722706]"
     ]
    },
    {
     "name": "stdout",
     "output_type": "stream",
     "text": [
      "\n",
      "[2.000014445515954, 10.000075724244581, 10.0, 0.6999734930888442, 0.5417987199225448, 0.9763469504197048, 1.0155883129337722, 3.1258846903218442, 0.05289431083573072]\n"
     ]
    },
    {
     "name": "stdout",
     "output_type": "stream",
     "text": [
      "[2.000014445515954, 10.000075724244581, 10.0, 0.6999734930888442, 0.5417987199225448, 0.9763469504197048, 1.0155883129337722, 3.1258846903218442, 0.05289431083573072]\n"
     ]
    },
    {
     "name": "stdout",
     "output_type": "stream",
     "text": [
      "[2.000014445515941, 10.000075724244514, 10.0, 0.6999734930888545, 0.541798719922546, 0.9763469504196608, 1.0155883129337462, 3.1258846903218442, 0.05289431083572672]\n"
     ]
    },
    {
     "name": "stdout",
     "output_type": "stream",
     "text": [
      "[2.000014445515941, 10.000075724244514, 10.0, 0.6999734930888545, 0.541798719922546, 0.9763469504196608, 1.0155883129337462, 3.1258846903218442, 0.05289431083572672]"
     ]
    },
    {
     "name": "stdout",
     "output_type": "stream",
     "text": [
      "\n",
      "[2.000014445515948, 10.000075724244548, 10.0, 0.6999734930888494, 0.5417987199225454, 0.9763469504196828, 1.0155883129337593, 3.1258846903218442, 0.05289431083572872]\n"
     ]
    },
    {
     "name": "stdout",
     "output_type": "stream",
     "text": [
      "[2.000014445515948, 10.000075724244548, 10.0, 0.6999734930888494, 0.5417987199225454, 0.9763469504196828, 1.0155883129337593, 3.1258846903218442, 0.05289431083572872]\n"
     ]
    },
    {
     "name": "stdout",
     "output_type": "stream",
     "text": [
      "[2.000014445515951, 10.000075724244564, 10.0, 0.6999734930888467, 0.5417987199225451, 0.9763469504196938, 1.0155883129337657, 3.1258846903218442, 0.05289431083572972]"
     ]
    },
    {
     "name": "stdout",
     "output_type": "stream",
     "text": [
      "\n",
      "[2.000014445515951, 10.000075724244564, 10.0, 0.6999734930888467, 0.5417987199225451, 0.9763469504196938, 1.0155883129337657, 3.1258846903218442, 0.05289431083572972]\n"
     ]
    },
    {
     "name": "stdout",
     "output_type": "stream",
     "text": [
      "[2.000014445515949, 10.000075724244555, 10.0, 0.699973493088848, 0.5417987199225452, 0.9763469504196882, 1.0155883129337624, 3.1258846903218442, 0.05289431083572922]\n"
     ]
    },
    {
     "name": "stdout",
     "output_type": "stream",
     "text": [
      "[2.000014445515949, 10.000075724244555, 10.0, 0.699973493088848, 0.5417987199225452, 0.9763469504196882, 1.0155883129337624, 3.1258846903218442, 0.05289431083572922]\n"
     ]
    },
    {
     "name": "stdout",
     "output_type": "stream",
     "text": [
      "[2.00001444551595, 10.00007572424456, 10.0, 0.6999734930888474, 0.5417987199225451, 0.976346950419691, 1.0155883129337642, 3.1258846903218442, 0.05289431083572947]\n"
     ]
    },
    {
     "name": "stdout",
     "output_type": "stream",
     "text": [
      "[2.00001444551595, 10.00007572424456, 10.0, 0.6999734930888474, 0.5417987199225451, 0.976346950419691, 1.0155883129337642, 3.1258846903218442, 0.05289431083572947]"
     ]
    },
    {
     "name": "stdout",
     "output_type": "stream",
     "text": [
      "\n",
      "[2.0000144455159496, 10.000075724244558, 10.0, 0.6999734930888477, 0.5417987199225452, 0.9763469504196897, 1.0155883129337633, 3.1258846903218442, 0.05289431083572935]\n"
     ]
    },
    {
     "name": "stdout",
     "output_type": "stream",
     "text": [
      "[2.0000144455159496, 10.000075724244558, 10.0, 0.6999734930888477, 0.5417987199225452, 0.9763469504196897, 1.0155883129337633, 3.1258846903218442, 0.05289431083572935]\n"
     ]
    },
    {
     "name": "stdout",
     "output_type": "stream",
     "text": [
      "[2.00001444551595, 10.000075724244558, 10.0, 0.6999734930888476, 0.5417987199225451, 0.9763469504196903, 1.0155883129337637, 3.1258846903218442, 0.05289431083572941]\n"
     ]
    },
    {
     "name": "stdout",
     "output_type": "stream",
     "text": [
      "[2.00001444551595, 10.000075724244558, 10.0, 0.6999734930888476, 0.5417987199225451, 0.9763469504196903, 1.0155883129337637, 3.1258846903218442, 0.05289431083572941]"
     ]
    },
    {
     "name": "stdout",
     "output_type": "stream",
     "text": [
      "\n",
      "[2.0000144455159496, 10.000075724244558, 10.0, 0.6999734930888476, 0.5417987199225452, 0.97634695041969, 1.0155883129337635, 3.1258846903218442, 0.052894310835729375]\n"
     ]
    },
    {
     "name": "stdout",
     "output_type": "stream",
     "text": [
      "[2.0000144455159496, 10.000075724244558, 10.0, 0.6999734930888476, 0.5417987199225452, 0.97634695041969, 1.0155883129337635, 3.1258846903218442, 0.052894310835729375]"
     ]
    },
    {
     "name": "stdout",
     "output_type": "stream",
     "text": [
      "\n",
      "[2.0000144455159496, 10.000075724244558, 10.0, 0.6999734930888477, 0.5417987199225452, 0.9763469504196898, 1.0155883129337633, 3.1258846903218442, 0.05289431083572936]"
     ]
    },
    {
     "name": "stdout",
     "output_type": "stream",
     "text": [
      "\n",
      "[2.0000144455159496, 10.000075724244558, 10.0, 0.6999734930888477, 0.5417987199225452, 0.9763469504196898, 1.0155883129337633, 3.1258846903218442, 0.05289431083572936]\n"
     ]
    },
    {
     "name": "stdout",
     "output_type": "stream",
     "text": [
      "[2.0000144455159496, 10.000075724244558, 10.0, 0.6999734930888477, 0.5417987199225452, 0.9763469504196899, 1.0155883129337635, 3.1258846903218442, 0.05289431083572937]\n"
     ]
    },
    {
     "name": "stdout",
     "output_type": "stream",
     "text": [
      "[2.0000144455159496, 10.000075724244558, 10.0, 0.6999734930888477, 0.5417987199225452, 0.9763469504196899, 1.0155883129337635, 3.1258846903218442, 0.05289431083572937]\n"
     ]
    },
    {
     "name": "stdout",
     "output_type": "stream",
     "text": [
      "[2.0000144455159496, 10.000075724244558, 10.0, 0.6999734930888476, 0.5417987199225452, 0.97634695041969, 1.0155883129337635, 3.1258846903218442, 0.052894310835729375]\n"
     ]
    },
    {
     "name": "stdout",
     "output_type": "stream",
     "text": [
      "[2.0000144455159496, 10.000075724244558, 10.0, 0.6999734930888476, 0.5417987199225452, 0.97634695041969, 1.0155883129337635, 3.1258846903218442, 0.052894310835729375]\n"
     ]
    },
    {
     "name": "stdout",
     "output_type": "stream",
     "text": [
      "[2.0000144455159496, 10.000075724244558, 10.0, 0.6999734930888477, 0.5417987199225452, 0.9763469504196899, 1.0155883129337635, 3.1258846903218442, 0.05289431083572937]\n"
     ]
    },
    {
     "name": "stdout",
     "output_type": "stream",
     "text": [
      "[2.0000144455159496, 10.000075724244558, 10.0, 0.6999734930888477, 0.5417987199225452, 0.9763469504196899, 1.0155883129337635, 3.1258846903218442, 0.05289431083572937]\n"
     ]
    },
    {
     "name": "stdout",
     "output_type": "stream",
     "text": [
      "[2.00022871169967, 10.001620055169598, 10.0, 0.6992628278063817, 0.5416470942095111, 0.978259060255575, 1.019145367712417, 3.1258846903218442, 0.05318419399522119]\n"
     ]
    },
    {
     "name": "stdout",
     "output_type": "stream",
     "text": [
      "[2.00022871169967, 10.001620055169598, 10.0, 0.6992628278063817, 0.5416470942095111, 0.978259060255575, 1.019145367712417, 3.1258846903218442, 0.05318419399522119]"
     ]
    },
    {
     "name": "stdout",
     "output_type": "stream",
     "text": [
      "\n",
      "[2.00012157860781, 10.000847889707078, 10.0, 0.6996181604476147, 0.5417229070660282, 0.9773030053376324, 1.0173668403230902, 3.1258846903218442, 0.05303925241547528]\n"
     ]
    },
    {
     "name": "stdout",
     "output_type": "stream",
     "text": [
      "[2.00012157860781, 10.000847889707078, 10.0, 0.6996181604476147, 0.5417229070660282, 0.9773030053376324, 1.0173668403230902, 3.1258846903218442, 0.05303925241547528]\n"
     ]
    },
    {
     "name": "stdout",
     "output_type": "stream",
     "text": [
      "[2.0000680120618797, 10.000461806975817, 10.0, 0.6997958267682312, 0.5417608134942867, 0.9768249778786612, 1.0164775766284269, 3.1258846903218442, 0.052966781625602324]\n"
     ]
    },
    {
     "name": "stdout",
     "output_type": "stream",
     "text": [
      "[2.0000680120618797, 10.000461806975817, 10.0, 0.6997958267682312, 0.5417608134942867, 0.9768249778786612, 1.0164775766284269, 3.1258846903218442, 0.052966781625602324]"
     ]
    },
    {
     "name": "stdout",
     "output_type": "stream",
     "text": [
      "\n",
      "[2.000041228788915, 10.000268765610189, 10.0, 0.6998846599285394, 0.541779766708416, 0.9765859641491755, 1.0160329447810952, 3.1258846903218442, 0.05293054623066584]\n"
     ]
    },
    {
     "name": "stdout",
     "output_type": "stream",
     "text": [
      "[2.000041228788915, 10.000268765610189, 10.0, 0.6998846599285394, 0.541779766708416, 0.9765859641491755, 1.0160329447810952, 3.1258846903218442, 0.05293054623066584]\n"
     ]
    },
    {
     "name": "stdout",
     "output_type": "stream",
     "text": [
      "[2.000027837152432, 10.000172244927374, 10.0, 0.6999290765086936, 0.5417892433154806, 0.9764664572844327, 1.0158106288574293, 3.1258846903218442, 0.05291242853319761]\n"
     ]
    },
    {
     "name": "stdout",
     "output_type": "stream",
     "text": [
      "[2.000027837152432, 10.000172244927374, 10.0, 0.6999290765086936, 0.5417892433154806, 0.9764664572844327, 1.0158106288574293, 3.1258846903218442, 0.05291242853319761]\n"
     ]
    },
    {
     "name": "stdout",
     "output_type": "stream",
     "text": [
      "[2.000021141334191, 10.000123984585965, 10.0, 0.6999512847987707, 0.5417939816190129, 0.9764067038520613, 1.0156994708955964, 3.1258846903218442, 0.052903369684463485]"
     ]
    },
    {
     "name": "stdout",
     "output_type": "stream",
     "text": [
      "\n",
      "[2.000021141334191, 10.000123984585965, 10.0, 0.6999512847987707, 0.5417939816190129, 0.9764067038520613, 1.0156994708955964, 3.1258846903218442, 0.052903369684463485]\n"
     ]
    },
    {
     "name": "stdout",
     "output_type": "stream",
     "text": [
      "[2.0000177934250702, 10.000099854415263, 10.0, 0.6999623889438091, 0.541796350770779, 0.9763768271358756, 1.01564389191468, 3.1258846903218442, 0.052898840260096426]\n"
     ]
    },
    {
     "name": "stdout",
     "output_type": "stream",
     "text": [
      "[2.0000177934250702, 10.000099854415263, 10.0, 0.6999623889438091, 0.541796350770779, 0.9763768271358756, 1.01564389191468, 3.1258846903218442, 0.052898840260096426]\n"
     ]
    },
    {
     "name": "stdout",
     "output_type": "stream",
     "text": [
      "[2.00001611947051, 10.00008778932991, 10.0, 0.6999679410163284, 0.5417975353466622, 0.9763618887777827, 1.0156161024242218, 3.1258846903218442, 0.0528965755479129]\n"
     ]
    },
    {
     "name": "stdout",
     "output_type": "stream",
     "text": [
      "[2.00001611947051, 10.00008778932991, 10.0, 0.6999679410163284, 0.5417975353466622, 0.9763618887777827, 1.0156161024242218, 3.1258846903218442, 0.0528965755479129]\n"
     ]
    },
    {
     "name": "stdout",
     "output_type": "stream",
     "text": [
      "[2.00001528249323, 10.000081756787234, 10.0, 0.6999707170525881, 0.5417981276346037, 0.9763544195987363, 1.0156022076789926, 3.1258846903218442, 0.052895443191821136]\n"
     ]
    },
    {
     "name": "stdout",
     "output_type": "stream",
     "text": [
      "[2.00001528249323, 10.000081756787234, 10.0, 0.6999707170525881, 0.5417981276346037, 0.9763544195987363, 1.0156022076789926, 3.1258846903218442, 0.052895443191821136]\n"
     ]
    },
    {
     "name": "stdout",
     "output_type": "stream",
     "text": [
      "[2.00001486400459, 10.000078740515896, 10.0, 0.6999721050707179, 0.5417984237785745, 0.9763506850092131, 1.015595260306378, 3.1258846903218442, 0.05289487701377525]\n"
     ]
    },
    {
     "name": "stdout",
     "output_type": "stream",
     "text": [
      "[2.00001486400459, 10.000078740515896, 10.0, 0.6999721050707179, 0.5417984237785745, 0.9763506850092131, 1.015595260306378, 3.1258846903218442, 0.05289487701377525]\n"
     ]
    },
    {
     "name": "stdout",
     "output_type": "stream",
     "text": [
      "[2.0000146547602697, 10.000077232380228, 10.0, 0.6999727990797828, 0.5417985718505599, 0.9763488177144515, 1.0155917866200708, 3.1258846903218442, 0.052894593924752306]"
     ]
    },
    {
     "name": "stdout",
     "output_type": "stream",
     "text": [
      "\n",
      "[2.0000146547602697, 10.000077232380228, 10.0, 0.6999727990797828, 0.5417985718505599, 0.9763488177144515, 1.0155917866200708, 3.1258846903218442, 0.052894593924752306]"
     ]
    },
    {
     "name": "stdout",
     "output_type": "stream",
     "text": [
      "\n",
      "[2.0000145501381095, 10.000076478312392, 10.0, 0.6999731460843153, 0.5417986458865526, 0.9763478840670707, 1.0155900497769172, 3.1258846903218442, 0.05289445238024084]\n"
     ]
    },
    {
     "name": "stdout",
     "output_type": "stream",
     "text": [
      "[2.0000145501381095, 10.000076478312392, 10.0, 0.6999731460843153, 0.5417986458865526, 0.9763478840670707, 1.0155900497769172, 3.1258846903218442, 0.05289445238024084]"
     ]
    },
    {
     "name": "stdout",
     "output_type": "stream",
     "text": [
      "\n",
      "[2.0000144978270296, 10.000076101278475, 10.0, 0.6999733195865815, 0.5417986829045489, 0.9763474172433803, 1.0155891813553404, 3.1258846903218442, 0.052894381607985104]\n"
     ]
    },
    {
     "name": "stdout",
     "output_type": "stream",
     "text": [
      "[2.0000144978270296, 10.000076101278475, 10.0, 0.6999733195865815, 0.5417986829045489, 0.9763474172433803, 1.0155891813553404, 3.1258846903218442, 0.052894381607985104]\n"
     ]
    },
    {
     "name": "stdout",
     "output_type": "stream",
     "text": [
      "[2.0000144716714896, 10.000075912761517, 10.0, 0.6999734063377145, 0.541798701413547, 0.9763471838315351, 1.015588747144552, 3.1258846903218442, 0.052894346221857236]\n"
     ]
    },
    {
     "name": "stdout",
     "output_type": "stream",
     "text": [
      "[2.0000144716714896, 10.000075912761517, 10.0, 0.6999734063377145, 0.541798701413547, 0.9763471838315351, 1.015588747144552, 3.1258846903218442, 0.052894346221857236]\n"
     ]
    },
    {
     "name": "stdout",
     "output_type": "stream",
     "text": [
      "[2.0000144585937196, 10.000075818503039, 10.0, 0.6999734497132811, 0.5417987106680462, 0.9763470671256125, 1.0155885300391576, 3.1258846903218442, 0.0528943285287933]"
     ]
    },
    {
     "name": "stdout",
     "output_type": "stream",
     "text": [
      "\n",
      "[2.0000144585937196, 10.000075818503039, 10.0, 0.6999734497132811, 0.5417987106680462, 0.9763470671256125, 1.0155885300391576, 3.1258846903218442, 0.0528943285287933]\n"
     ]
    },
    {
     "name": "stdout",
     "output_type": "stream",
     "text": [
      "[2.0000144520548346, 10.000075771373798, 10.0, 0.6999734714010645, 0.5417987152952957, 0.9763470087726512, 1.0155884214864606, 3.1258846903218442, 0.05289431968226133]\n"
     ]
    },
    {
     "name": "stdout",
     "output_type": "stream",
     "text": [
      "[2.0000144520548346, 10.000075771373798, 10.0, 0.6999734714010645, 0.5417987152952957, 0.9763470087726512, 1.0155884214864606, 3.1258846903218442, 0.05289431968226133]\n"
     ]
    },
    {
     "name": "stdout",
     "output_type": "stream",
     "text": [
      "[2.000014448785392, 10.000075747809179, 10.0, 0.699973482244956, 0.5417987176089205, 0.9763469795961706, 1.015588367210112, 3.1258846903218442, 0.05289431525899535]\n"
     ]
    },
    {
     "name": "stdout",
     "output_type": "stream",
     "text": [
      "[2.000014448785392, 10.000075747809179, 10.0, 0.699973482244956, 0.5417987176089205, 0.9763469795961706, 1.015588367210112, 3.1258846903218442, 0.05289431525899535]"
     ]
    },
    {
     "name": "stdout",
     "output_type": "stream",
     "text": [
      "\n",
      "[2.000014447150671, 10.000075736026869, 10.0, 0.6999734876669019, 0.5417987187657328, 0.9763469650079302, 1.0155883400719379, 3.1258846903218442, 0.05289431304736236]\n"
     ]
    },
    {
     "name": "stdout",
     "output_type": "stream",
     "text": [
      "[2.000014447150671, 10.000075736026869, 10.0, 0.6999734876669019, 0.5417987187657328, 0.9763469650079302, 1.0155883400719379, 3.1258846903218442, 0.05289431304736236]\n"
     ]
    },
    {
     "name": "stdout",
     "output_type": "stream",
     "text": [
      "[2.0000144479680317, 10.000075741918023, 10.0, 0.6999734849559289, 0.5417987181873267, 0.9763469723020504, 1.0155883536410248, 3.1258846903218442, 0.052894314153178856]\n"
     ]
    },
    {
     "name": "stdout",
     "output_type": "stream",
     "text": [
      "[2.0000144479680317, 10.000075741918023, 10.0, 0.6999734849559289, 0.5417987181873267, 0.9763469723020504, 1.0155883536410248, 3.1258846903218442, 0.052894314153178856]\n"
     ]
    },
    {
     "name": "stdout",
     "output_type": "stream",
     "text": [
      "[2.000014448376712, 10.0000757448636, 10.0, 0.6999734836004425, 0.5417987178981236, 0.9763469759491105, 1.0155883604255684, 3.1258846903218442, 0.0528943147060871]\n"
     ]
    },
    {
     "name": "stdout",
     "output_type": "stream",
     "text": [
      "[2.000014448376712, 10.0000757448636, 10.0, 0.6999734836004425, 0.5417987178981236, 0.9763469759491105, 1.0155883604255684, 3.1258846903218442, 0.0528943147060871]\n"
     ]
    },
    {
     "name": "stdout",
     "output_type": "stream",
     "text": [
      "[2.000014448581052, 10.000075746336389, 10.0, 0.6999734829226993, 0.5417987177535221, 0.9763469777726405, 1.0155883638178402, 3.1258846903218442, 0.05289431498254123]"
     ]
    },
    {
     "name": "stdout",
     "output_type": "stream",
     "text": [
      "\n",
      "[2.000014448581052, 10.000075746336389, 10.0, 0.6999734829226993, 0.5417987177535221, 0.9763469777726405, 1.0155883638178402, 3.1258846903218442, 0.05289431498254123]\n"
     ]
    },
    {
     "name": "stdout",
     "output_type": "stream",
     "text": [
      "[2.000014448683222, 10.000075747072783, 10.0, 0.6999734825838276, 0.5417987176812212, 0.9763469786844056, 1.0155883655139761, 3.1258846903218442, 0.05289431512076829]\n"
     ]
    },
    {
     "name": "stdout",
     "output_type": "stream",
     "text": [
      "[2.000014448683222, 10.000075747072783, 10.0, 0.6999734825838276, 0.5417987176812212, 0.9763469786844056, 1.0155883655139761, 3.1258846903218442, 0.05289431512076829]\n"
     ]
    },
    {
     "name": "stdout",
     "output_type": "stream",
     "text": [
      "[2.0000144487343072, 10.000075747440981, 10.0, 0.6999734824143918, 0.5417987176450708, 0.976346979140288, 1.0155883663620442, 3.1258846903218442, 0.05289431518988182]"
     ]
    },
    {
     "name": "stdout",
     "output_type": "stream",
     "text": [
      "\n",
      "[2.0000144487343072, 10.000075747440981, 10.0, 0.6999734824143918, 0.5417987176450708, 0.976346979140288, 1.0155883663620442, 3.1258846903218442, 0.05289431518988182]\n"
     ]
    },
    {
     "name": "stdout",
     "output_type": "stream",
     "text": [
      "[2.0000144487598495, 10.000075747625079, 10.0, 0.6999734823296739, 0.5417987176269957, 0.9763469793682292, 1.0155883667860781, 3.1258846903218442, 0.05289431522443858]\n"
     ]
    },
    {
     "name": "stdout",
     "output_type": "stream",
     "text": [
      "[2.0000144487598495, 10.000075747625079, 10.0, 0.6999734823296739, 0.5417987176269957, 0.9763469793682292, 1.0155883667860781, 3.1258846903218442, 0.05289431522443858]\n"
     ]
    },
    {
     "name": "stdout",
     "output_type": "stream",
     "text": [
      "[2.000014448772621, 10.000075747717128, 10.0, 0.699973482287315, 0.5417987176179581, 0.9763469794822, 1.015588366998095, 3.1258846903218442, 0.05289431524171697]\n"
     ]
    },
    {
     "name": "stdout",
     "output_type": "stream",
     "text": [
      "[2.000014448772621, 10.000075747717128, 10.0, 0.699973482287315, 0.5417987176179581, 0.9763469794822, 1.015588366998095, 3.1258846903218442, 0.05289431524171697]\n"
     ]
    },
    {
     "name": "stdout",
     "output_type": "stream",
     "text": [
      "[2.0000144487790066, 10.000075747763153, 10.0, 0.6999734822661355, 0.5417987176134392, 0.9763469795391853, 1.0155883671041035, 3.1258846903218442, 0.05289431525035616]"
     ]
    },
    {
     "name": "stdout",
     "output_type": "stream",
     "text": [
      "\n",
      "[2.0000144487790066, 10.000075747763153, 10.0, 0.6999734822661355, 0.5417987176134392, 0.9763469795391853, 1.0155883671041035, 3.1258846903218442, 0.05289431525035616]\n"
     ]
    },
    {
     "name": "stdout",
     "output_type": "stream",
     "text": [
      "[2.0000144487758136, 10.00007574774014, 10.0, 0.6999734822767253, 0.5417987176156986, 0.9763469795106926, 1.0155883670510992, 3.1258846903218442, 0.05289431524603656]"
     ]
    },
    {
     "name": "stdout",
     "output_type": "stream",
     "text": [
      "\n",
      "[2.0000144487758136, 10.00007574774014, 10.0, 0.6999734822767253, 0.5417987176156986, 0.9763469795106926, 1.0155883670510992, 3.1258846903218442, 0.05289431524603656]\n"
     ]
    },
    {
     "name": "stdout",
     "output_type": "stream",
     "text": [
      "[2.00001444877741, 10.000075747751648, 10.0, 0.6999734822714304, 0.541798717614569, 0.9763469795249389, 1.0155883670776014, 3.1258846903218442, 0.052894315248196364]\n"
     ]
    },
    {
     "name": "stdout",
     "output_type": "stream",
     "text": [
      "[2.00001444877741, 10.000075747751648, 10.0, 0.6999734822714304, 0.541798717614569, 0.9763469795249389, 1.0155883670776014, 3.1258846903218442, 0.052894315248196364]"
     ]
    },
    {
     "name": "stdout",
     "output_type": "stream",
     "text": [
      "\n",
      "[2.000014448776612, 10.000075747745894, 10.0, 0.6999734822740779, 0.5417987176151339, 0.9763469795178157, 1.0155883670643504, 3.1258846903218442, 0.052894315247116463]\n"
     ]
    },
    {
     "name": "stdout",
     "output_type": "stream",
     "text": [
      "[2.000014448776612, 10.000075747745894, 10.0, 0.6999734822740779, 0.5417987176151339, 0.9763469795178157, 1.0155883670643504, 3.1258846903218442, 0.052894315247116463]"
     ]
    },
    {
     "name": "stdout",
     "output_type": "stream",
     "text": [
      "\n",
      "[2.000014448777011, 10.00007574774877, 10.0, 0.6999734822727541, 0.5417987176148514, 0.9763469795213773, 1.015588367070976, 3.1258846903218442, 0.052894315247656414]\n"
     ]
    },
    {
     "name": "stdout",
     "output_type": "stream",
     "text": [
      "[2.000014448777011, 10.00007574774877, 10.0, 0.6999734822727541, 0.5417987176148514, 0.9763469795213773, 1.015588367070976, 3.1258846903218442, 0.052894315247656414]\n"
     ]
    },
    {
     "name": "stdout",
     "output_type": "stream",
     "text": [
      "[2.0000144487768114, 10.000075747747333, 10.0, 0.6999734822734159, 0.5417987176149927, 0.9763469795195965, 1.015588367067663, 3.1258846903218442, 0.052894315247386435]\n"
     ]
    },
    {
     "name": "stdout",
     "output_type": "stream",
     "text": [
      "[2.0000144487768114, 10.000075747747333, 10.0, 0.6999734822734159, 0.5417987176149927, 0.9763469795195965, 1.015588367067663, 3.1258846903218442, 0.052894315247386435]\n"
     ]
    },
    {
     "name": "stdout",
     "output_type": "stream",
     "text": [
      "[2.0000144487767115, 10.000075747746614, 10.0, 0.6999734822737469, 0.5417987176150633, 0.9763469795187061, 1.0155883670660069, 3.1258846903218442, 0.05289431524725145]\n"
     ]
    },
    {
     "name": "stdout",
     "output_type": "stream",
     "text": [
      "[2.0000144487767115, 10.000075747746614, 10.0, 0.6999734822737469, 0.5417987176150633, 0.9763469795187061, 1.0155883670660069, 3.1258846903218442, 0.05289431524725145]\n"
     ]
    },
    {
     "name": "stdout",
     "output_type": "stream",
     "text": [
      "[2.000014448776662, 10.000075747746253, 10.0, 0.6999734822739124, 0.5417987176150986, 0.9763469795182609, 1.0155883670651786, 3.1258846903218442, 0.05289431524718396]\n"
     ]
    },
    {
     "name": "stdout",
     "output_type": "stream",
     "text": [
      "[2.000014448776662, 10.000075747746253, 10.0, 0.6999734822739124, 0.5417987176150986, 0.9763469795182609, 1.0155883670651786, 3.1258846903218442, 0.05289431524718396]"
     ]
    },
    {
     "name": "stdout",
     "output_type": "stream",
     "text": [
      "\n",
      "[2.000014448776637, 10.000075747746074, 10.0, 0.6999734822739951, 0.5417987176151162, 0.9763469795180383, 1.0155883670647645, 3.1258846903218442, 0.05289431524715021]\n"
     ]
    },
    {
     "name": "stdout",
     "output_type": "stream",
     "text": [
      "[2.000014448776637, 10.000075747746074, 10.0, 0.6999734822739951, 0.5417987176151162, 0.9763469795180383, 1.0155883670647645, 3.1258846903218442, 0.05289431524715021]"
     ]
    },
    {
     "name": "stdout",
     "output_type": "stream",
     "text": [
      "\n",
      "[2.0000144487766494, 10.000075747746164, 10.0, 0.6999734822739537, 0.5417987176151073, 0.9763469795181496, 1.0155883670649715, 3.1258846903218442, 0.05289431524716708]"
     ]
    },
    {
     "name": "stdout",
     "output_type": "stream",
     "text": [
      "\n",
      "[2.0000144487766494, 10.000075747746164, 10.0, 0.6999734822739537, 0.5417987176151073, 0.9763469795181496, 1.0155883670649715, 3.1258846903218442, 0.05289431524716708]\n"
     ]
    },
    {
     "name": "stdout",
     "output_type": "stream",
     "text": [
      "[2.000014448776643, 10.000075747746118, 10.0, 0.6999734822739744, 0.5417987176151118, 0.976346979518094, 1.015588367064868, 3.1258846903218442, 0.052894315247158645]\n"
     ]
    },
    {
     "name": "stdout",
     "output_type": "stream",
     "text": [
      "[2.000014448776643, 10.000075747746118, 10.0, 0.6999734822739744, 0.5417987176151118, 0.976346979518094, 1.015588367064868, 3.1258846903218442, 0.052894315247158645]\n"
     ]
    },
    {
     "name": "stdout",
     "output_type": "stream",
     "text": [
      "[2.0000144487766462, 10.000075747746141, 10.0, 0.699973482273964, 0.5417987176151096, 0.9763469795181218, 1.0155883670649197, 3.1258846903218442, 0.052894315247162864]\n"
     ]
    },
    {
     "name": "stdout",
     "output_type": "stream",
     "text": [
      "[2.0000144487766462, 10.000075747746141, 10.0, 0.699973482273964, 0.5417987176151096, 0.9763469795181218, 1.0155883670649197, 3.1258846903218442, 0.052894315247162864]\n"
     ]
    },
    {
     "name": "stdout",
     "output_type": "stream",
     "text": [
      "[2.0000144487766476, 10.000075747746152, 10.0, 0.699973482273959, 0.5417987176151084, 0.9763469795181358, 1.0155883670649457, 3.1258846903218442, 0.05289431524716497]\n"
     ]
    },
    {
     "name": "stdout",
     "output_type": "stream",
     "text": [
      "[2.0000144487766476, 10.000075747746152, 10.0, 0.699973482273959, 0.5417987176151084, 0.9763469795181358, 1.0155883670649457, 3.1258846903218442, 0.05289431524716497]"
     ]
    },
    {
     "name": "stdout",
     "output_type": "stream",
     "text": [
      "\n",
      "[2.0000144487766485, 10.000075747746159, 10.0, 0.6999734822739563, 0.5417987176151079, 0.9763469795181426, 1.0155883670649586, 3.1258846903218442, 0.05289431524716603]\n"
     ]
    },
    {
     "name": "stdout",
     "output_type": "stream",
     "text": [
      "[2.0000144487766485, 10.000075747746159, 10.0, 0.6999734822739563, 0.5417987176151079, 0.9763469795181426, 1.0155883670649586, 3.1258846903218442, 0.05289431524716603]\n"
     ]
    },
    {
     "name": "stdout",
     "output_type": "stream",
     "text": [
      "[2.000014448776648, 10.000075747746155, 10.0, 0.6999734822739576, 0.5417987176151082, 0.9763469795181392, 1.0155883670649521, 3.1258846903218442, 0.0528943152471655]"
     ]
    },
    {
     "name": "stdout",
     "output_type": "stream",
     "text": [
      "\n",
      "[2.000014448776648, 10.000075747746155, 10.0, 0.6999734822739576, 0.5417987176151082, 0.9763469795181392, 1.0155883670649521, 3.1258846903218442, 0.0528943152471655]\n"
     ]
    },
    {
     "name": "stdout",
     "output_type": "stream",
     "text": [
      "[2.0000144487766485, 10.000075747746157, 10.0, 0.699973482273957, 0.541798717615108, 0.976346979518141, 1.0155883670649553, 3.1258846903218442, 0.052894315247165764]"
     ]
    },
    {
     "name": "stdout",
     "output_type": "stream",
     "text": [
      "\n",
      "[2.0000144487766485, 10.000075747746157, 10.0, 0.699973482273957, 0.541798717615108, 0.976346979518141, 1.0155883670649553, 3.1258846903218442, 0.052894315247165764]"
     ]
    },
    {
     "name": "stdout",
     "output_type": "stream",
     "text": [
      "\n",
      "[2.0000144487766485, 10.000075747746157, 10.0, 0.6999734822739566, 0.541798717615108, 0.9763469795181418, 1.015588367064957, 3.1258846903218442, 0.052894315247165896]\n"
     ]
    },
    {
     "name": "stdout",
     "output_type": "stream",
     "text": [
      "[2.0000144487766485, 10.000075747746157, 10.0, 0.6999734822739566, 0.541798717615108, 0.9763469795181418, 1.015588367064957, 3.1258846903218442, 0.052894315247165896]\n"
     ]
    },
    {
     "name": "stdout",
     "output_type": "stream",
     "text": [
      "[2.0000144487766485, 10.000075747746157, 10.0, 0.6999734822739565, 0.5417987176151079, 0.9763469795181422, 1.0155883670649577, 3.1258846903218442, 0.052894315247165966]\n"
     ]
    },
    {
     "name": "stdout",
     "output_type": "stream",
     "text": [
      "[2.0000144487766485, 10.000075747746157, 10.0, 0.6999734822739565, 0.5417987176151079, 0.9763469795181422, 1.0155883670649577, 3.1258846903218442, 0.052894315247165966]"
     ]
    },
    {
     "name": "stdout",
     "output_type": "stream",
     "text": [
      "\n",
      "[2.0000144487766485, 10.000075747746159, 10.0, 0.6999734822739564, 0.5417987176151079, 0.9763469795181424, 1.0155883670649581, 3.1258846903218442, 0.05289431524716599]\n"
     ]
    },
    {
     "name": "stdout",
     "output_type": "stream",
     "text": [
      "[2.0000144487766485, 10.000075747746159, 10.0, 0.6999734822739564, 0.5417987176151079, 0.9763469795181424, 1.0155883670649581, 3.1258846903218442, 0.05289431524716599]"
     ]
    },
    {
     "name": "stdout",
     "output_type": "stream",
     "text": [
      "\n",
      "[2.0000144487766485, 10.000075747746159, 10.0, 0.6999734822739564, 0.5417987176151079, 0.9763469795181425, 1.0155883670649584, 3.1258846903218442, 0.052894315247166014]"
     ]
    },
    {
     "name": "stdout",
     "output_type": "stream",
     "text": [
      "\n",
      "[2.0000144487766485, 10.000075747746159, 10.0, 0.6999734822739564, 0.5417987176151079, 0.9763469795181425, 1.0155883670649584, 3.1258846903218442, 0.052894315247166014]"
     ]
    },
    {
     "name": "stdout",
     "output_type": "stream",
     "text": [
      "\n",
      "[2.0000144487766485, 10.000075747746159, 10.0, 0.6999734822739564, 0.5417987176151079, 0.9763469795181426, 1.0155883670649586, 3.1258846903218442, 0.05289431524716602]\n"
     ]
    },
    {
     "name": "stdout",
     "output_type": "stream",
     "text": [
      "[2.0000144487766485, 10.000075747746159, 10.0, 0.6999734822739564, 0.5417987176151079, 0.9763469795181426, 1.0155883670649586, 3.1258846903218442, 0.05289431524716602]\n"
     ]
    },
    {
     "name": "stdout",
     "output_type": "stream",
     "text": [
      "[2.0000144487766485, 10.000075747746159, 10.0, 0.6999734822739564, 0.5417987176151079, 0.9763469795181426, 1.0155883670649586, 3.1258846903218442, 0.05289431524716603]\n"
     ]
    },
    {
     "name": "stdout",
     "output_type": "stream",
     "text": [
      "[2.0000144487766485, 10.000075747746159, 10.0, 0.6999734822739564, 0.5417987176151079, 0.9763469795181426, 1.0155883670649586, 3.1258846903218442, 0.05289431524716603]\n"
     ]
    },
    {
     "name": "stdout",
     "output_type": "stream",
     "text": [
      "[2.0000144487766485, 10.000075747746159, 10.0, 0.6999734822739563, 0.5417987176151079, 0.9763469795181426, 1.0155883670649586, 3.1258846903218442, 0.05289431524716603]\n"
     ]
    },
    {
     "name": "stdout",
     "output_type": "stream",
     "text": [
      "[2.0000144487766485, 10.000075747746159, 10.0, 0.6999734822739563, 0.5417987176151079, 0.9763469795181426, 1.0155883670649586, 3.1258846903218442, 0.05289431524716603]"
     ]
    },
    {
     "name": "stdout",
     "output_type": "stream",
     "text": [
      "\n",
      "[2.0000144487766485, 10.000075747746159, 10.0, 0.6999734822739564, 0.5417987176151079, 0.9763469795181426, 1.0155883670649586, 3.1258846903218442, 0.05289431524716603]"
     ]
    },
    {
     "name": "stdout",
     "output_type": "stream",
     "text": [
      "\n",
      "[2.0000144487766485, 10.000075747746159, 10.0, 0.6999734822739564, 0.5417987176151079, 0.9763469795181426, 1.0155883670649586, 3.1258846903218442, 0.05289431524716603]\n"
     ]
    },
    {
     "name": "stdout",
     "output_type": "stream",
     "text": [
      "[2.0000144487766485, 10.000075747746159, 10.0, 0.6999734822739563, 0.5417987176151079, 0.9763469795181426, 1.0155883670649586, 3.1258846903218442, 0.05289431524716603]\n"
     ]
    },
    {
     "name": "stdout",
     "output_type": "stream",
     "text": [
      "[2.0000144487766485, 10.000075747746159, 10.0, 0.6999734822739563, 0.5417987176151079, 0.9763469795181426, 1.0155883670649586, 3.1258846903218442, 0.05289431524716603]"
     ]
    },
    {
     "name": "stdout",
     "output_type": "stream",
     "text": [
      "\n",
      "[2.0000144487766485, 10.000075747746159, 10.0, 0.6999734822739564, 0.5417987176151079, 0.9763469795181426, 1.0155883670649586, 3.1258846903218442, 0.05289431524716603]\n"
     ]
    },
    {
     "name": "stdout",
     "output_type": "stream",
     "text": [
      "[2.0000144487766485, 10.000075747746159, 10.0, 0.6999734822739564, 0.5417987176151079, 0.9763469795181426, 1.0155883670649586, 3.1258846903218442, 0.05289431524716603]\n"
     ]
    },
    {
     "name": "stdout",
     "output_type": "stream",
     "text": [
      "[2.000228709318511, 10.001620252106568, 10.0, 0.6992625562610115, 0.5416470276378136, 0.9782596245032363, 1.0191469175998022, 3.1258846903218442, 0.05318430512861621]\n"
     ]
    },
    {
     "name": "stdout",
     "output_type": "stream",
     "text": [
      "[2.000228709318511, 10.001620252106568, 10.0, 0.6992625562610115, 0.5416470276378136, 0.9782596245032363, 1.0191469175998022, 3.1258846903218442, 0.05318430512861621]\n"
     ]
    },
    {
     "name": "stdout",
     "output_type": "stream",
     "text": [
      "[2.0001215790475797, 10.000847999926362, 10.0, 0.6996180192674839, 0.5417228726264608, 0.9773033020106895, 1.0173676423323805, 3.1258846903218442, 0.05303931018789112]"
     ]
    },
    {
     "name": "stdout",
     "output_type": "stream",
     "text": [
      "\n",
      "[2.0001215790475797, 10.000847999926362, 10.0, 0.6996180192674839, 0.5417228726264608, 0.9773033020106895, 1.0173676423323805, 3.1258846903218442, 0.05303931018789112]\n"
     ]
    },
    {
     "name": "stdout",
     "output_type": "stream",
     "text": [
      "[2.000068013912114, 10.000461873836262, 10.0, 0.6997957507707202, 0.5417607951207843, 0.9768251407644161, 1.0164780046986694, 3.1258846903218442, 0.05296681271752857]\n"
     ]
    },
    {
     "name": "stdout",
     "output_type": "stream",
     "text": [
      "[2.000068013912114, 10.000461873836262, 10.0, 0.6997957507707202, 0.5417607951207843, 0.9768251407644161, 1.0164780046986694, 3.1258846903218442, 0.05296681271752857]"
     ]
    },
    {
     "name": "stdout",
     "output_type": "stream",
     "text": [
      "\n",
      "[2.0000412313443814, 10.00026881079121, 10.0, 0.6998846165223382, 0.5417797563679461, 0.9765860601412794, 1.0160331858818141, 3.1258846903218442, 0.0529305639823473]"
     ]
    },
    {
     "name": "stdout",
     "output_type": "stream",
     "text": [
      "\n",
      "[2.0000412313443814, 10.00026881079121, 10.0, 0.6998846165223382, 0.5417797563679461, 0.9765860601412794, 1.0160331858818141, 3.1258846903218442, 0.0529305639823473]"
     ]
    },
    {
     "name": "stdout",
     "output_type": "stream",
     "text": [
      "\n",
      "[2.0000278400605147, 10.000172279268684, 10.0, 0.6999290493981474, 0.541789236991527, 0.976466519829711, 1.0158107764733864, 3.1258846903218442, 0.05291243961475666]\n"
     ]
    },
    {
     "name": "stdout",
     "output_type": "stream",
     "text": [
      "[2.0000278400605147, 10.000172279268684, 10.0, 0.6999290493981474, 0.541789236991527, 0.976466519829711, 1.0158107764733864, 3.1258846903218442, 0.05291243961475666]"
     ]
    },
    {
     "name": "stdout",
     "output_type": "stream",
     "text": [
      "\n",
      "[2.000021144418582, 10.000124013507422, 10.0, 0.6999512658360518, 0.5417939773033175, 0.9764067496739268, 1.0156995717691724, 3.1258846903218442, 0.052903377430961344]\n"
     ]
    },
    {
     "name": "stdout",
     "output_type": "stream",
     "text": [
      "[2.000021144418582, 10.000124013507422, 10.0, 0.6999512658360518, 0.5417939773033175, 0.9764067496739268, 1.0156995717691724, 3.1258846903218442, 0.052903377430961344]\n"
     ]
    },
    {
     "name": "stdout",
     "output_type": "stream",
     "text": [
      "[2.000017796597615, 10.00009988062679, 10.0, 0.6999623740550042, 0.5417963474592127, 0.9763768645960348, 1.0156439694170656, 3.1258846903218442, 0.052898846339063686]\n"
     ]
    },
    {
     "name": "stdout",
     "output_type": "stream",
     "text": [
      "[2.000017796597615, 10.00009988062679, 10.0, 0.6999623740550042, 0.5417963474592127, 0.9763768645960348, 1.0156439694170656, 3.1258846903218442, 0.052898846339063686]\n"
     ]
    },
    {
     "name": "stdout",
     "output_type": "stream",
     "text": [
      "[2.0000161226871316, 10.000087814186475, 10.0, 0.6999679281644803, 0.5417975325371602, 0.9763619220570887, 1.015616168241012, 3.1258846903218442, 0.05289658079311486]\n"
     ]
    },
    {
     "name": "stdout",
     "output_type": "stream",
     "text": [
      "[2.0000161226871316, 10.000087814186475, 10.0, 0.6999679281644803, 0.5417975325371602, 0.9763619220570887, 1.015616168241012, 3.1258846903218442, 0.05289658079311486]"
     ]
    },
    {
     "name": "stdout",
     "output_type": "stream",
     "text": [
      "\n",
      "[2.00001528573189, 10.000081780966317, 10.0, 0.6999707052192183, 0.5417981250761341, 0.9763544507876156, 1.0156022676529852, 3.1258846903218442, 0.05289544802014044]\n"
     ]
    },
    {
     "name": "stdout",
     "output_type": "stream",
     "text": [
      "[2.00001528573189, 10.000081780966317, 10.0, 0.6999707052192183, 0.5417981250761341, 0.9763544507876156, 1.0156022676529852, 3.1258846903218442, 0.05289544802014044]"
     ]
    },
    {
     "name": "stdout",
     "output_type": "stream",
     "text": [
      "\n",
      "[2.0000148672542695, 10.000078764356237, 10.0, 0.6999720937465873, 0.541798421345621, 0.9763507151528792, 1.015595317358972, 3.1258846903218442, 0.05289488163365324]"
     ]
    },
    {
     "name": "stdout",
     "output_type": "stream",
     "text": [
      "\n",
      "[2.0000148672542695, 10.000078764356237, 10.0, 0.6999720937465873, 0.541798421345621, 0.9763507151528792, 1.015595317358972, 3.1258846903218442, 0.05289488163365324]\n"
     ]
    },
    {
     "name": "stdout",
     "output_type": "stream",
     "text": [
      "[2.0000146580154587, 10.000077256051199, 10.0, 0.6999727880102719, 0.5417985694803644, 0.9763488473355109, 1.0155918422119652, 3.1258846903218442, 0.05289459844040963]"
     ]
    },
    {
     "name": "stdout",
     "output_type": "stream",
     "text": [
      "\n",
      "[2.0000146580154587, 10.000077256051199, 10.0, 0.6999727880102719, 0.5417985694803644, 0.9763488473355109, 1.0155918422119652, 3.1258846903218442, 0.05289459844040963]\n"
     ]
    },
    {
     "name": "stdout",
     "output_type": "stream",
     "text": [
      "[2.0000145533960536, 10.000076501898679, 10.0, 0.6999731351421141, 0.5417986435477362, 0.9763479134268268, 1.0155901046384619, 3.1258846903218442, 0.05289445684378783]\n"
     ]
    },
    {
     "name": "stdout",
     "output_type": "stream",
     "text": [
      "[2.0000145533960536, 10.000076501898679, 10.0, 0.6999731351421141, 0.5417986435477362, 0.9763479134268268, 1.0155901046384619, 3.1258846903218442, 0.05289445684378783]\n"
     ]
    },
    {
     "name": "stdout",
     "output_type": "stream",
     "text": [
      "[2.0000145010863513, 10.000076124822419, 10.0, 0.6999733087080353, 0.541798680581422, 0.9763474464724847, 1.0155892358517102, 3.1258846903218442, 0.05289438604547693]\n"
     ]
    },
    {
     "name": "stdout",
     "output_type": "stream",
     "text": [
      "[2.0000145010863513, 10.000076124822419, 10.0, 0.6999733087080353, 0.541798680581422, 0.9763474464724847, 1.0155892358517102, 3.1258846903218442, 0.05289438604547693]\n"
     ]
    },
    {
     "name": "stdout",
     "output_type": "stream",
     "text": [
      "[2.0000144749314996, 10.000075936284288, 10.0, 0.6999733954909958, 0.541798699098265, 0.9763472129953137, 1.0155888014583345, 3.1258846903218442, 0.052894350646321475]"
     ]
    },
    {
     "name": "stdout",
     "output_type": "stream",
     "text": [
      "\n",
      "[2.0000144749314996, 10.000075936284288, 10.0, 0.6999733954909958, 0.541798699098265, 0.9763472129953137, 1.0155888014583345, 3.1258846903218442, 0.052894350646321475]\n"
     ]
    },
    {
     "name": "stdout",
     "output_type": "stream",
     "text": [
      "[2.0000144618540743, 10.000075842015224, 10.0, 0.6999734388824761, 0.5417987083566864, 0.9763470962567281, 1.0155885842616466, 3.1258846903218442, 0.052894332946743755]\n"
     ]
    },
    {
     "name": "stdout",
     "output_type": "stream",
     "text": [
      "[2.0000144618540743, 10.000075842015224, 10.0, 0.6999734388824761, 0.5417987083566864, 0.9763470962567281, 1.0155885842616466, 3.1258846903218442, 0.052894332946743755]"
     ]
    },
    {
     "name": "stdout",
     "output_type": "stream",
     "text": [
      "\n",
      "[2.000014455315361, 10.000075794880692, 10.0, 0.6999734605782163, 0.5417987129858972, 0.9763470378874354, 1.0155884756633025, 3.1258846903218442, 0.05289432409695489]\n"
     ]
    },
    {
     "name": "stdout",
     "output_type": "stream",
     "text": [
      "[2.000014455315361, 10.000075794880692, 10.0, 0.6999734605782163, 0.5417987129858972, 0.9763470378874354, 1.0155884756633025, 3.1258846903218442, 0.05289432409695489]"
     ]
    },
    {
     "name": "stdout",
     "output_type": "stream",
     "text": [
      "\n",
      "[2.000014452046005, 10.000075771313425, 10.0, 0.6999734714260863, 0.5417987153005025, 0.976347008702789, 1.0155884213641306, 3.1258846903218442, 0.05289431967206046]"
     ]
    },
    {
     "name": "stdout",
     "output_type": "stream",
     "text": [
      "\n",
      "[2.000014452046005, 10.000075771313425, 10.0, 0.6999734714260863, 0.5417987153005025, 0.976347008702789, 1.0155884213641306, 3.1258846903218442, 0.05289431967206046]"
     ]
    },
    {
     "name": "stdout",
     "output_type": "stream",
     "text": [
      "\n",
      "[2.000014453680683, 10.000075783097058, 10.0, 0.6999734660021513, 0.5417987141431998, 0.9763470232951122, 1.0155884485137165, 3.1258846903218442, 0.052894321884507677]\n"
     ]
    },
    {
     "name": "stdout",
     "output_type": "stream",
     "text": [
      "[2.000014453680683, 10.000075783097058, 10.0, 0.6999734660021513, 0.5417987141431998, 0.9763470232951122, 1.0155884485137165, 3.1258846903218442, 0.052894321884507677]"
     ]
    },
    {
     "name": "stdout",
     "output_type": "stream",
     "text": [
      "\n",
      "[2.000014454498022, 10.000075788988875, 10.0, 0.6999734632901837, 0.5417987135645485, 0.9763470305912738, 1.0155884620885096, 3.1258846903218442, 0.05289432299073128]\n"
     ]
    },
    {
     "name": "stdout",
     "output_type": "stream",
     "text": [
      "[2.000014454498022, 10.000075788988875, 10.0, 0.6999734632901837, 0.5417987135645485, 0.9763470305912738, 1.0155884620885096, 3.1258846903218442, 0.05289432299073128]"
     ]
    },
    {
     "name": "stdout",
     "output_type": "stream",
     "text": [
      "\n",
      "[2.0000144549066916, 10.000075791934783, 10.0, 0.6999734619342, 0.5417987132752229, 0.9763470342393546, 1.015588468875906, 3.1258846903218442, 0.05289432354384309]\n"
     ]
    },
    {
     "name": "stdout",
     "output_type": "stream",
     "text": [
      "[2.0000144549066916, 10.000075791934783, 10.0, 0.6999734619342, 0.5417987132752229, 0.9763470342393546, 1.015588468875906, 3.1258846903218442, 0.05289432354384309]"
     ]
    },
    {
     "name": "stdout",
     "output_type": "stream",
     "text": [
      "\n",
      "[2.000014454702357, 10.000075790461828, 10.0, 0.6999734626121918, 0.5417987134198856, 0.9763470324153142, 1.0155884654822078, 3.1258846903218442, 0.052894323267287185]"
     ]
    },
    {
     "name": "stdout",
     "output_type": "stream",
     "text": [
      "\n",
      "[2.000014454702357, 10.000075790461828, 10.0, 0.6999734626121918, 0.5417987134198856, 0.9763470324153142, 1.0155884654822078, 3.1258846903218442, 0.052894323267287185]\n"
     ]
    },
    {
     "name": "stdout",
     "output_type": "stream",
     "text": [
      "[2.0000144548045244, 10.000075791198306, 10.0, 0.6999734622731959, 0.5417987133475543, 0.9763470333273344, 1.015588467179057, 3.1258846903218442, 0.05289432340556514]\n"
     ]
    },
    {
     "name": "stdout",
     "output_type": "stream",
     "text": [
      "[2.0000144548045244, 10.000075791198306, 10.0, 0.6999734622731959, 0.5417987133475543, 0.9763470333273344, 1.015588467179057, 3.1258846903218442, 0.05289432340556514]\n"
     ]
    },
    {
     "name": "stdout",
     "output_type": "stream",
     "text": [
      "[2.000014454855608, 10.000075791566545, 10.0, 0.6999734621036979, 0.5417987133113885, 0.9763470337833445, 1.0155884680274816, 3.1258846903218442, 0.05289432347470411]\n"
     ]
    },
    {
     "name": "stdout",
     "output_type": "stream",
     "text": [
      "[2.000014454855608, 10.000075791566545, 10.0, 0.6999734621036979, 0.5417987133113885, 0.9763470337833445, 1.0155884680274816, 3.1258846903218442, 0.05289432347470411]\n"
     ]
    },
    {
     "name": "stdout",
     "output_type": "stream",
     "text": [
      "[2.00001445488115, 10.000075791750664, 10.0, 0.6999734620189489, 0.5417987132933056, 0.9763470340113496, 1.0155884684516938, 3.1258846903218442, 0.052894323509273596]\n"
     ]
    },
    {
     "name": "stdout",
     "output_type": "stream",
     "text": [
      "[2.00001445488115, 10.000075791750664, 10.0, 0.6999734620189489, 0.5417987132933056, 0.9763470340113496, 1.0155884684516938, 3.1258846903218442, 0.052894323509273596]\n"
     ]
    },
    {
     "name": "stdout",
     "output_type": "stream",
     "text": [
      "[2.000014454893921, 10.000075791842724, 10.0, 0.6999734619765745, 0.5417987132842642, 0.9763470341253521, 1.0155884686638, 3.1258846903218442, 0.052894323526558346]\n"
     ]
    },
    {
     "name": "stdout",
     "output_type": "stream",
     "text": [
      "[2.000014454893921, 10.000075791842724, 10.0, 0.6999734619765745, 0.5417987132842642, 0.9763470341253521, 1.0155884686638, 3.1258846903218442, 0.052894323526558346]\n"
     ]
    },
    {
     "name": "stdout",
     "output_type": "stream",
     "text": [
      "[2.0000144548875354, 10.000075791796693, 10.0, 0.6999734619977618, 0.5417987132887849, 0.9763470340683508, 1.0155884685577468, 3.1258846903218442, 0.052894323517915974]\n"
     ]
    },
    {
     "name": "stdout",
     "output_type": "stream",
     "text": [
      "[2.0000144548875354, 10.000075791796693, 10.0, 0.6999734619977618, 0.5417987132887849, 0.9763470340683508, 1.0155884685577468, 3.1258846903218442, 0.052894323517915974]\n"
     ]
    },
    {
     "name": "stdout",
     "output_type": "stream",
     "text": [
      "[2.000014454884343, 10.000075791773678, 10.0, 0.6999734620083554, 0.5417987132910453, 0.9763470340398502, 1.0155884685047203, 3.1258846903218442, 0.052894323513594785]\n"
     ]
    },
    {
     "name": "stdout",
     "output_type": "stream",
     "text": [
      "[2.000014454884343, 10.000075791773678, 10.0, 0.6999734620083554, 0.5417987132910453, 0.9763470340398502, 1.0155884685047203, 3.1258846903218442, 0.052894323513594785]\n"
     ]
    },
    {
     "name": "stdout",
     "output_type": "stream",
     "text": [
      "[2.0000144548827463, 10.000075791762171, 10.0, 0.6999734620136522, 0.5417987132921755, 0.9763470340255999, 1.015588468478207, 3.1258846903218442, 0.052894323511434194]\n"
     ]
    },
    {
     "name": "stdout",
     "output_type": "stream",
     "text": [
      "[2.0000144548827463, 10.000075791762171, 10.0, 0.6999734620136522, 0.5417987132921755, 0.9763470340255999, 1.015588468478207, 3.1258846903218442, 0.052894323511434194]\n"
     ]
    },
    {
     "name": "stdout",
     "output_type": "stream",
     "text": [
      "[2.0000144548835443, 10.000075791767925, 10.0, 0.6999734620110037, 0.5417987132916104, 0.976347034032725, 1.0155884684914636, 3.1258846903218442, 0.05289432351251449]\n"
     ]
    },
    {
     "name": "stdout",
     "output_type": "stream",
     "text": [
      "[2.0000144548835443, 10.000075791767925, 10.0, 0.6999734620110037, 0.5417987132916104, 0.976347034032725, 1.0155884684914636, 3.1258846903218442, 0.05289432351251449]\n"
     ]
    },
    {
     "name": "stdout",
     "output_type": "stream",
     "text": [
      "[2.0000144548839436, 10.000075791770803, 10.0, 0.6999734620096796, 0.5417987132913279, 0.9763470340362876, 1.015588468498092, 3.1258846903218442, 0.052894323513054634]"
     ]
    },
    {
     "name": "stdout",
     "output_type": "stream",
     "text": [
      "\n",
      "[2.0000144548839436, 10.000075791770803, 10.0, 0.6999734620096796, 0.5417987132913279, 0.9763470340362876, 1.015588468498092, 3.1258846903218442, 0.052894323513054634]\n"
     ]
    },
    {
     "name": "stdout",
     "output_type": "stream",
     "text": [
      "[2.000014454884143, 10.00007579177224, 10.0, 0.6999734620090174, 0.5417987132911866, 0.9763470340380689, 1.015588468501406, 3.1258846903218442, 0.05289432351332471]\n"
     ]
    },
    {
     "name": "stdout",
     "output_type": "stream",
     "text": [
      "[2.000014454884143, 10.00007579177224, 10.0, 0.6999734620090174, 0.5417987132911866, 0.9763470340380689, 1.015588468501406, 3.1258846903218442, 0.05289432351332471]\n"
     ]
    },
    {
     "name": "stdout",
     "output_type": "stream",
     "text": [
      "[2.000014454884243, 10.000075791772959, 10.0, 0.6999734620086864, 0.541798713291116, 0.9763470340389595, 1.0155884685030632, 3.1258846903218442, 0.05289432351345975]\n"
     ]
    },
    {
     "name": "stdout",
     "output_type": "stream",
     "text": [
      "[2.000014454884243, 10.000075791772959, 10.0, 0.6999734620086864, 0.541798713291116, 0.9763470340389595, 1.0155884685030632, 3.1258846903218442, 0.05289432351345975]\n"
     ]
    },
    {
     "name": "stdout",
     "output_type": "stream",
     "text": [
      "[2.000014454884193, 10.0000757917726, 10.0, 0.6999734620088519, 0.5417987132911513, 0.9763470340385142, 1.0155884685022347, 3.1258846903218442, 0.05289432351339223]\n"
     ]
    },
    {
     "name": "stdout",
     "output_type": "stream",
     "text": [
      "[2.000014454884193, 10.0000757917726, 10.0, 0.6999734620088519, 0.5417987132911513, 0.9763470340385142, 1.0155884685022347, 3.1258846903218442, 0.05289432351339223]\n"
     ]
    },
    {
     "name": "stdout",
     "output_type": "stream",
     "text": [
      "[2.000014454884168, 10.00007579177242, 10.0, 0.6999734620089347, 0.5417987132911689, 0.9763470340382916, 1.0155884685018204, 3.1258846903218442, 0.05289432351335847]\n"
     ]
    },
    {
     "name": "stdout",
     "output_type": "stream",
     "text": [
      "[2.000014454884168, 10.00007579177242, 10.0, 0.6999734620089347, 0.5417987132911689, 0.9763470340382916, 1.0155884685018204, 3.1258846903218442, 0.05289432351335847]\n"
     ]
    },
    {
     "name": "stdout",
     "output_type": "stream",
     "text": [
      "[2.0000144548841803, 10.00007579177251, 10.0, 0.6999734620088933, 0.5417987132911601, 0.9763470340384028, 1.0155884685020276, 3.1258846903218442, 0.05289432351337535]\n"
     ]
    },
    {
     "name": "stdout",
     "output_type": "stream",
     "text": [
      "[2.0000144548841803, 10.00007579177251, 10.0, 0.6999734620088933, 0.5417987132911601, 0.9763470340384028, 1.0155884685020276, 3.1258846903218442, 0.05289432351337535]\n"
     ]
    },
    {
     "name": "stdout",
     "output_type": "stream",
     "text": [
      "[2.000014454884187, 10.000075791772556, 10.0, 0.6999734620088727, 0.5417987132911557, 0.9763470340384586, 1.015588468502131, 3.1258846903218442, 0.05289432351338379]\n"
     ]
    },
    {
     "name": "stdout",
     "output_type": "stream",
     "text": [
      "[2.000014454884187, 10.000075791772556, 10.0, 0.6999734620088727, 0.5417987132911557, 0.9763470340384586, 1.015588468502131, 3.1258846903218442, 0.05289432351338379]\n"
     ]
    },
    {
     "name": "stdout",
     "output_type": "stream",
     "text": [
      "[2.00001445488419, 10.000075791772577, 10.0, 0.6999734620088623, 0.5417987132911535, 0.9763470340384864, 1.015588468502183, 3.1258846903218442, 0.05289432351338801]\n"
     ]
    },
    {
     "name": "stdout",
     "output_type": "stream",
     "text": [
      "[2.00001445488419, 10.000075791772577, 10.0, 0.6999734620088623, 0.5417987132911535, 0.9763470340384864, 1.015588468502183, 3.1258846903218442, 0.05289432351338801]\n"
     ]
    },
    {
     "name": "stdout",
     "output_type": "stream",
     "text": [
      "[2.0000144548841914, 10.00007579177259, 10.0, 0.6999734620088571, 0.5417987132911524, 0.9763470340385003, 1.0155884685022087, 3.1258846903218442, 0.05289432351339012]"
     ]
    },
    {
     "name": "stdout",
     "output_type": "stream",
     "text": [
      "\n",
      "[2.0000144548841914, 10.00007579177259, 10.0, 0.6999734620088571, 0.5417987132911524, 0.9763470340385003, 1.0155884685022087, 3.1258846903218442, 0.05289432351339012]"
     ]
    },
    {
     "name": "stdout",
     "output_type": "stream",
     "text": [
      "\n",
      "[2.0000144548841905, 10.000075791772582, 10.0, 0.6999734620088597, 0.5417987132911529, 0.9763470340384933, 1.0155884685021959, 3.1258846903218442, 0.05289432351338907]\n"
     ]
    },
    {
     "name": "stdout",
     "output_type": "stream",
     "text": [
      "[2.0000144548841905, 10.000075791772582, 10.0, 0.6999734620088597, 0.5417987132911529, 0.9763470340384933, 1.0155884685021959, 3.1258846903218442, 0.05289432351338907]"
     ]
    },
    {
     "name": "stdout",
     "output_type": "stream",
     "text": [
      "\n",
      "[2.000014454884191, 10.000075791772586, 10.0, 0.6999734620088585, 0.5417987132911527, 0.9763470340384969, 1.0155884685022023, 3.1258846903218442, 0.052894323513389595]"
     ]
    },
    {
     "name": "stdout",
     "output_type": "stream",
     "text": [
      "\n",
      "[2.000014454884191, 10.000075791772586, 10.0, 0.6999734620088585, 0.5417987132911527, 0.9763470340384969, 1.0155884685022023, 3.1258846903218442, 0.052894323513389595]\n"
     ]
    },
    {
     "name": "stdout",
     "output_type": "stream",
     "text": [
      "[2.0000144548841914, 10.000075791772588, 10.0, 0.6999734620088578, 0.5417987132911525, 0.9763470340384985, 1.0155884685022056, 3.1258846903218442, 0.05289432351338986]\n"
     ]
    },
    {
     "name": "stdout",
     "output_type": "stream",
     "text": [
      "[2.0000144548841914, 10.000075791772588, 10.0, 0.6999734620088578, 0.5417987132911525, 0.9763470340384985, 1.0155884685022056, 3.1258846903218442, 0.05289432351338986]"
     ]
    },
    {
     "name": "stdout",
     "output_type": "stream",
     "text": [
      "\n",
      "[2.0000144548841914, 10.000075791772588, 10.0, 0.6999734620088575, 0.5417987132911525, 0.9763470340384994, 1.0155884685022072, 3.1258846903218442, 0.05289432351338999]\n"
     ]
    },
    {
     "name": "stdout",
     "output_type": "stream",
     "text": [
      "[2.0000144548841914, 10.000075791772588, 10.0, 0.6999734620088575, 0.5417987132911525, 0.9763470340384994, 1.0155884685022072, 3.1258846903218442, 0.05289432351338999]"
     ]
    },
    {
     "name": "stdout",
     "output_type": "stream",
     "text": [
      "\n",
      "[2.0000144548841914, 10.000075791772588, 10.0, 0.6999734620088572, 0.5417987132911524, 0.9763470340384999, 1.015588468502208, 3.1258846903218442, 0.05289432351339005]\n"
     ]
    },
    {
     "name": "stdout",
     "output_type": "stream",
     "text": [
      "[2.0000144548841914, 10.000075791772588, 10.0, 0.6999734620088572, 0.5417987132911524, 0.9763470340384999, 1.015588468502208, 3.1258846903218442, 0.05289432351339005]\n"
     ]
    },
    {
     "name": "stdout",
     "output_type": "stream",
     "text": [
      "[2.0000144548841914, 10.000075791772588, 10.0, 0.6999734620088574, 0.5417987132911525, 0.9763470340384997, 1.0155884685022076, 3.1258846903218442, 0.05289432351339002]"
     ]
    },
    {
     "name": "stdout",
     "output_type": "stream",
     "text": [
      "\n",
      "[2.0000144548841914, 10.000075791772588, 10.0, 0.6999734620088574, 0.5417987132911525, 0.9763470340384997, 1.0155884685022076, 3.1258846903218442, 0.05289432351339002]"
     ]
    },
    {
     "name": "stdout",
     "output_type": "stream",
     "text": [
      "\n",
      "[2.0000144548841914, 10.000075791772588, 10.0, 0.6999734620088574, 0.5417987132911525, 0.9763470340384998, 1.0155884685022079, 3.1258846903218442, 0.05289432351339004]\n"
     ]
    },
    {
     "name": "stdout",
     "output_type": "stream",
     "text": [
      "[2.0000144548841914, 10.000075791772588, 10.0, 0.6999734620088574, 0.5417987132911525, 0.9763470340384998, 1.0155884685022079, 3.1258846903218442, 0.05289432351339004]\n"
     ]
    },
    {
     "name": "stdout",
     "output_type": "stream",
     "text": [
      "[2.0000144548841914, 10.000075791772588, 10.0, 0.6999734620088574, 0.5417987132911525, 0.9763470340384997, 1.0155884685022076, 3.1258846903218442, 0.05289432351339003]\n"
     ]
    },
    {
     "name": "stdout",
     "output_type": "stream",
     "text": [
      "[2.0000144548841914, 10.000075791772588, 10.0, 0.6999734620088574, 0.5417987132911525, 0.9763470340384997, 1.0155884685022076, 3.1258846903218442, 0.05289432351339003]"
     ]
    },
    {
     "name": "stdout",
     "output_type": "stream",
     "text": [
      "\n",
      "[2.0000144548841914, 10.000075791772588, 10.0, 0.6999734620088574, 0.5417987132911525, 0.9763470340384998, 1.0155884685022076, 3.1258846903218442, 0.05289432351339003]\n"
     ]
    },
    {
     "name": "stdout",
     "output_type": "stream",
     "text": [
      "[2.0000144548841914, 10.000075791772588, 10.0, 0.6999734620088574, 0.5417987132911525, 0.9763470340384998, 1.0155884685022076, 3.1258846903218442, 0.05289432351339003]"
     ]
    },
    {
     "name": "stdout",
     "output_type": "stream",
     "text": [
      "\n",
      "[2.0000144548841914, 10.000075791772588, 10.0, 0.6999734620088574, 0.5417987132911525, 0.9763470340384998, 1.0155884685022079, 3.1258846903218442, 0.05289432351339003]\n"
     ]
    },
    {
     "name": "stdout",
     "output_type": "stream",
     "text": [
      "[2.0000144548841914, 10.000075791772588, 10.0, 0.6999734620088574, 0.5417987132911525, 0.9763470340384998, 1.0155884685022079, 3.1258846903218442, 0.05289432351339003]\n"
     ]
    },
    {
     "name": "stdout",
     "output_type": "stream",
     "text": [
      "[2.0000144548841914, 10.000075791772588, 10.0, 0.6999734620088574, 0.5417987132911525, 0.9763470340384998, 1.0155884685022079, 3.1258846903218442, 0.05289432351339004]\n"
     ]
    },
    {
     "name": "stdout",
     "output_type": "stream",
     "text": [
      "[2.0000144548841914, 10.000075791772588, 10.0, 0.6999734620088574, 0.5417987132911525, 0.9763470340384998, 1.0155884685022079, 3.1258846903218442, 0.05289432351339004]\n"
     ]
    },
    {
     "name": "stdout",
     "output_type": "stream",
     "text": [
      "[2.0002287122039575, 10.001620692399964, 10.0, 0.6992620339749513, 0.5416468995566185, 0.9782607109463747, 1.0191498942981092, 3.1258846903218442, 0.05318451664133427]\n"
     ]
    },
    {
     "name": "stdout",
     "output_type": "stream",
     "text": [
      "[2.0002287122039575, 10.001620692399964, 10.0, 0.6992620339749513, 0.5416468995566185, 0.9782607109463747, 1.0191498942981092, 3.1258846903218442, 0.05318451664133427]"
     ]
    },
    {
     "name": "stdout",
     "output_type": "stream",
     "text": [
      "\n",
      "[2.0001215835440744, 10.000848242086276, 10.0, 0.6996177479919043, 0.5417228064238855, 0.9773038724924372, 1.0173691814001586, 3.1258846903218442, 0.053039420077362155]"
     ]
    },
    {
     "name": "stdout",
     "output_type": "stream",
     "text": [
      "\n",
      "[2.0001215835440744, 10.000848242086276, 10.0, 0.6996177479919043, 0.5417228064238855, 0.9773038724924372, 1.0173691814001586, 3.1258846903218442, 0.053039420077362155]\n"
     ]
    },
    {
     "name": "stdout",
     "output_type": "stream",
     "text": [
      "[2.0000680192141327, 10.000462016929433, 10.0, 0.6997956050003808, 0.5417607598575189, 0.9768254532654685, 1.0164788249511831, 3.1258846903218442, 0.0529668717953761]\n"
     ]
    },
    {
     "name": "stdout",
     "output_type": "stream",
     "text": [
      "[2.0000680192141327, 10.000462016929433, 10.0, 0.6997956050003808, 0.5417607598575189, 0.9768254532654685, 1.0164788249511831, 3.1258846903218442, 0.0529668717953761]\n"
     ]
    },
    {
     "name": "stdout",
     "output_type": "stream",
     "text": [
      "[2.000041237049162, 10.00026890435101, 10.0, 0.6998845335046191, 0.5417797365743358, 0.9765862436519841, 1.0160336467266955, 3.1258846903218442, 0.05293059765438307]\n"
     ]
    },
    {
     "name": "stdout",
     "output_type": "stream",
     "text": [
      "[2.000041237049162, 10.00026890435101, 10.0, 0.6998845335046191, 0.5417797365743358, 0.9765862436519841, 1.0160336467266955, 3.1258846903218442, 0.05293059765438307]"
     ]
    },
    {
     "name": "stdout",
     "output_type": "stream",
     "text": [
      "\n",
      "[2.000027845966677, 10.000172348061799, 10.0, 0.6999289977567382, 0.5417892249327441, 0.976466638845242, 1.0158110576144517, 3.1258846903218442, 0.05291246058388655]\n"
     ]
    },
    {
     "name": "stdout",
     "output_type": "stream",
     "text": [
      "[2.000027845966677, 10.000172348061799, 10.0, 0.6999289977567382, 0.5417892249327441, 0.976466638845242, 1.0158110576144517, 3.1258846903218442, 0.05291246058388655]\n"
     ]
    },
    {
     "name": "stdout",
     "output_type": "stream",
     "text": [
      "[2.000021150425434, 10.000124069917193, 10.0, 0.6999512298827978, 0.5417939691119483, 0.9764068364418709, 1.0156997630583298, 3.1258846903218442, 0.052903392048638295]"
     ]
    },
    {
     "name": "stdout",
     "output_type": "stream",
     "text": [
      "\n",
      "[2.000021150425434, 10.000124069917193, 10.0, 0.6999512298827978, 0.5417939691119483, 0.9764068364418709, 1.0156997630583298, 3.1258846903218442, 0.052903392048638295]"
     ]
    },
    {
     "name": "stdout",
     "output_type": "stream",
     "text": [
      "\n",
      "[2.0000178026548125, 10.00009993084489, 10.0, 0.6999623459458275, 0.5417963412015504, 0.9763769352401853, 1.015644115780269, 3.1258846903218442, 0.05289885778101417]\n"
     ]
    },
    {
     "name": "stdout",
     "output_type": "stream",
     "text": [
      "[2.0000178026548125, 10.00009993084489, 10.0, 0.6999623459458275, 0.5417963412015504, 0.9763769352401853, 1.015644115780269, 3.1258846903218442, 0.05289885778101417]"
     ]
    },
    {
     "name": "stdout",
     "output_type": "stream",
     "text": [
      "\n",
      "[2.000016128769502, 10.000087861308739, 10.0, 0.6999679039773424, 0.5417975272463514, 0.9763619846393425, 1.0156162921412384, 3.1258846903218442, 0.052896590647202105]\n"
     ]
    },
    {
     "name": "stdout",
     "output_type": "stream",
     "text": [
      "[2.000016128769502, 10.000087861308739, 10.0, 0.6999679039773424, 0.5417975272463514, 0.9763619846393425, 1.0156162921412384, 3.1258846903218442, 0.052896590647202105]\n"
     ]
    },
    {
     "name": "stdout",
     "output_type": "stream",
     "text": [
      "[2.0000152918268466, 10.000081826540663, 10.0, 0.6999706829931, 0.541798120268752, 0.9763545093389211, 1.0156023803217231, 3.1258846903218442, 0.05289545708029607]\n"
     ]
    },
    {
     "name": "stdout",
     "output_type": "stream",
     "text": [
      "[2.0000152918268466, 10.000081826540663, 10.0, 0.6999706829931, 0.541798120268752, 0.9763545093389211, 1.0156023803217231, 3.1258846903218442, 0.05289545708029607]\n"
     ]
    },
    {
     "name": "stdout",
     "output_type": "stream",
     "text": [
      "[2.000014873355519, 10.000078809156626, 10.0, 0.6999720725009786, 0.5417984167799522, 0.9763507716887104, 1.0155954244119654, 3.1258846903218442, 0.05289489029684306]\n"
     ]
    },
    {
     "name": "stdout",
     "output_type": "stream",
     "text": [
      "[2.000014873355519, 10.000078809156626, 10.0, 0.6999720725009786, 0.5417984167799522, 0.9763507716887104, 1.0155954244119654, 3.1258846903218442, 0.05289489029684306]"
     ]
    },
    {
     "name": "stdout",
     "output_type": "stream",
     "text": [
      "\n",
      "[2.0000146641198553, 10.000077300464607, 10.0, 0.699972767254918, 0.5417985650355523, 0.9763489028636051, 1.0155919464570866, 3.1258846903218442, 0.05289460690511655]\n"
     ]
    },
    {
     "name": "stdout",
     "output_type": "stream",
     "text": [
      "[2.0000146641198553, 10.000077300464607, 10.0, 0.699972767254918, 0.5417985650355523, 0.9763489028636051, 1.0155919464570866, 3.1258846903218442, 0.05289460690511655]\n"
     ]
    },
    {
     "name": "stdout",
     "output_type": "stream",
     "text": [
      "[2.000014559502023, 10.000076546118597, 10.0, 0.6999731146318877, 0.5417986391633524, 0.9763479684510524, 1.0155902074796472, 3.1258846903218442, 0.05289446520925329]\n"
     ]
    },
    {
     "name": "stdout",
     "output_type": "stream",
     "text": [
      "[2.000014559502023, 10.000076546118597, 10.0, 0.6999731146318877, 0.5417986391633524, 0.9763479684510524, 1.0155902074796472, 3.1258846903218442, 0.05289446520925329]\n"
     ]
    },
    {
     "name": "stdout",
     "output_type": "stream",
     "text": [
      "[2.0000145071931072, 10.000076168945592, 10.0, 0.6999732883203725, 0.5417986762272524, 0.9763475012447761, 1.0155893379909275, 3.1258846903218442, 0.052894394361321664]"
     ]
    },
    {
     "name": "stdout",
     "output_type": "stream",
     "text": [
      "\n",
      "[2.0000145071931072, 10.000076168945592, 10.0, 0.6999732883203725, 0.5417986762272524, 0.9763475012447761, 1.0155893379909275, 3.1258846903218442, 0.052894394361321664]\n"
     ]
    },
    {
     "name": "stdout",
     "output_type": "stream",
     "text": [
      "[2.0000144810386495, 10.00007598035909, 10.0, 0.6999733751646149, 0.5417986947592025, 0.9763472676416379, 1.0155889032465677, 3.1258846903218442, 0.052894358937355855]"
     ]
    },
    {
     "name": "stdout",
     "output_type": "stream",
     "text": [
      "\n",
      "[2.0000144810386495, 10.00007598035909, 10.0, 0.6999733751646149, 0.5417986947592025, 0.9763472676416379, 1.0155889032465677, 3.1258846903218442, 0.052894358937355855]"
     ]
    },
    {
     "name": "stdout",
     "output_type": "stream",
     "text": [
      "\n",
      "[2.0000144679614205, 10.000075886065838, 10.0, 0.6999734185867361, 0.5417987040251775, 0.9763471508400688, 1.0155886858743879, 3.1258846903218442, 0.05289434122537295]\n"
     ]
    },
    {
     "name": "stdout",
     "output_type": "stream",
     "text": [
      "[2.0000144679614205, 10.000075886065838, 10.0, 0.6999734185867361, 0.5417987040251775, 0.9763471508400688, 1.0155886858743879, 3.1258846903218442, 0.05289434122537295]\n"
     ]
    },
    {
     "name": "stdout",
     "output_type": "stream",
     "text": [
      "[2.000014461422806, 10.000075838919214, 10.0, 0.6999734402977967, 0.5417987086581649, 0.9763470924392843, 1.0155885771882978, 3.1258846903218442, 0.05289433236938149]\n"
     ]
    },
    {
     "name": "stdout",
     "output_type": "stream",
     "text": [
      "[2.000014461422806, 10.000075838919214, 10.0, 0.6999734402977967, 0.5417987086581649, 0.9763470924392843, 1.0155885771882978, 3.1258846903218442, 0.05289433236938149]\n"
     ]
    },
    {
     "name": "stdout",
     "output_type": "stream",
     "text": [
      "[2.0000144581534984, 10.0000758153459, 10.0, 0.6999734511533271, 0.5417987109746587, 0.9763470632388921, 1.0155885228452528, 3.1258846903218442, 0.052894327941385766]"
     ]
    },
    {
     "name": "stdout",
     "output_type": "stream",
     "text": [
      "\n",
      "[2.0000144581534984, 10.0000758153459, 10.0, 0.6999734511533271, 0.5417987109746587, 0.9763470632388921, 1.0155885228452528, 3.1258846903218442, 0.052894327941385766]\n"
     ]
    },
    {
     "name": "stdout",
     "output_type": "stream",
     "text": [
      "[2.000014456518845, 10.000075803559245, 10.0, 0.6999734565810922, 0.5417987121329056, 0.9763470486386959, 1.0155884956737304, 3.1258846903218442, 0.0528943257273879"
     ]
    },
    {
     "name": "stdout",
     "output_type": "stream",
     "text": [
      "]\n",
      "[2.000014456518845, 10.000075803559245, 10.0, 0.6999734565810922, 0.5417987121329056, 0.9763470486386959, 1.0155884956737304, 3.1258846903218442, 0.0528943257273879]"
     ]
    },
    {
     "name": "stdout",
     "output_type": "stream",
     "text": [
      "\n",
      "[2.000014455701518, 10.000075797665916, 10.0, 0.6999734592949748, 0.5417987127120291, 0.9763470413385978, 1.015588482087969, 3.1258846903218442, 0.05289432462038897]"
     ]
    },
    {
     "name": "stdout",
     "output_type": "stream",
     "text": [
      "\n",
      "[2.000014455701518, 10.000075797665916, 10.0, 0.6999734592949748, 0.5417987127120291, 0.9763470413385978, 1.015588482087969, 3.1258846903218442, 0.05289432462038897]"
     ]
    },
    {
     "name": "stdout",
     "output_type": "stream",
     "text": [
      "\n",
      "[2.000014456110182, 10.00007580061258, 10.0, 0.6999734579380334, 0.5417987124224674, 0.9763470449886469, 1.0155884888808497, 3.1258846903218442, 0.05289432517388844]"
     ]
    },
    {
     "name": "stdout",
     "output_type": "stream",
     "text": [
      "\n",
      "[2.000014456110182, 10.00007580061258, 10.0, 0.6999734579380334, 0.5417987124224674, 0.9763470449886469, 1.0155884888808497, 3.1258846903218442, 0.05289432517388844]"
     ]
    },
    {
     "name": "stdout",
     "output_type": "stream",
     "text": [
      "\n",
      "[2.0000144559058497, 10.000075799139248, 10.0, 0.6999734586165042, 0.5417987125672482, 0.9763470431636223, 1.0155884854844095, 3.1258846903218442, 0.0528943248971387]"
     ]
    },
    {
     "name": "stdout",
     "output_type": "stream",
     "text": [
      "\n",
      "[2.0000144559058497, 10.000075799139248, 10.0, 0.6999734586165042, 0.5417987125672482, 0.9763470431636223, 1.0155884854844095, 3.1258846903218442, 0.0528943248971387]"
     ]
    },
    {
     "name": "stdout",
     "output_type": "stream",
     "text": [
      "\n",
      "[2.0000144560080155, 10.000075799875914, 10.0, 0.6999734582772688, 0.5417987124948578, 0.9763470440761346, 1.0155884871826295, 3.1258846903218442, 0.05289432503551357]\n"
     ]
    },
    {
     "name": "stdout",
     "output_type": "stream",
     "text": [
      "[2.0000144560080155, 10.000075799875914, 10.0, 0.6999734582772688, 0.5417987124948578, 0.9763470440761346, 1.0155884871826295, 3.1258846903218442, 0.05289432503551357]\n"
     ]
    },
    {
     "name": "stdout",
     "output_type": "stream",
     "text": [
      "[2.0000144560590987, 10.000075800244247, 10.0, 0.6999734581076511, 0.5417987124586625, 0.9763470445323907, 1.0155884880317396, 3.1258846903218442, 0.052894325104701004]\n"
     ]
    },
    {
     "name": "stdout",
     "output_type": "stream",
     "text": [
      "[2.0000144560590987, 10.000075800244247, 10.0, 0.6999734581076511, 0.5417987124586625, 0.9763470445323907, 1.0155884880317396, 3.1258846903218442, 0.052894325104701004]\n"
     ]
    },
    {
     "name": "stdout",
     "output_type": "stream",
     "text": [
      "[2.00001445608464, 10.000075800428414, 10.0, 0.6999734580228423, 0.5417987124405649, 0.9763470447605188, 1.0155884884562947, 3.1258846903218442, 0.05289432513929472]"
     ]
    },
    {
     "name": "stdout",
     "output_type": "stream",
     "text": [
      "\n",
      "[2.00001445608464, 10.000075800428414, 10.0, 0.6999734580228423, 0.5417987124405649, 0.9763470447605188, 1.0155884884562947, 3.1258846903218442, 0.05289432513929472]\n"
     ]
    },
    {
     "name": "stdout",
     "output_type": "stream",
     "text": [
      "[2.0000144560974107, 10.000075800520497, 10.0, 0.6999734579804379, 0.5417987124315161, 0.9763470448745828, 1.0155884886685722, 3.1258846903218442, 0.05289432515659158]"
     ]
    },
    {
     "name": "stdout",
     "output_type": "stream",
     "text": [
      "\n",
      "[2.0000144560974107, 10.000075800520497, 10.0, 0.6999734579804379, 0.5417987124315161, 0.9763470448745828, 1.0155884886685722, 3.1258846903218442, 0.05289432515659158"
     ]
    },
    {
     "name": "stdout",
     "output_type": "stream",
     "text": [
      "]\n",
      "[2.0000144560910256, 10.000075800474455, 10.0, 0.6999734580016401, 0.5417987124360405, 0.9763470448175509, 1.0155884885624333, 3.1258846903218442, 0.05289432514794315]\n"
     ]
    },
    {
     "name": "stdout",
     "output_type": "stream",
     "text": [
      "[2.0000144560910256, 10.000075800474455, 10.0, 0.6999734580016401, 0.5417987124360405, 0.9763470448175509, 1.0155884885624333, 3.1258846903218442, 0.05289432514794315]\n"
     ]
    },
    {
     "name": "stdout",
     "output_type": "stream",
     "text": [
      "[2.000014456094218, 10.000075800497475, 10.0, 0.699973457991039, 0.5417987124337783, 0.9763470448460668, 1.0155884886155029, 3.1258846903218442, 0.052894325152267364]"
     ]
    },
    {
     "name": "stdout",
     "output_type": "stream",
     "text": [
      "\n",
      "[2.000014456094218, 10.000075800497475, 10.0, 0.699973457991039, 0.5417987124337783, 0.9763470448460668, 1.0155884886155029, 3.1258846903218442, 0.052894325152267364]\n"
     ]
    },
    {
     "name": "stdout",
     "output_type": "stream",
     "text": [
      "[2.0000144560958146, 10.000075800508986, 10.0, 0.6999734579857384, 0.5417987124326472, 0.9763470448603249, 1.0155884886420374, 3.1258846903218442, 0.05289432515442947]"
     ]
    },
    {
     "name": "stdout",
     "output_type": "stream",
     "text": [
      "\n",
      "[2.0000144560958146, 10.000075800508986, 10.0, 0.6999734579857384, 0.5417987124326472, 0.9763470448603249, 1.0155884886420374, 3.1258846903218442, 0.05289432515442947]\n"
     ]
    },
    {
     "name": "stdout",
     "output_type": "stream",
     "text": [
      "[2.0000144560966127, 10.000075800514741, 10.0, 0.6999734579830882, 0.5417987124320817, 0.9763470448674538, 1.0155884886553048, 3.1258846903218442, 0.05289432515551053]\n"
     ]
    },
    {
     "name": "stdout",
     "output_type": "stream",
     "text": [
      "[2.0000144560966127, 10.000075800514741, 10.0, 0.6999734579830882, 0.5417987124320817, 0.9763470448674538, 1.0155884886553048, 3.1258846903218442, 0.05289432515551053]\n"
     ]
    },
    {
     "name": "stdout",
     "output_type": "stream",
     "text": [
      "[2.0000144560962134, 10.000075800511864, 10.0, 0.6999734579844133, 0.5417987124323644, 0.9763470448638893, 1.0155884886486712, 3.1258846903218442, 0.052894325154969994]\n"
     ]
    },
    {
     "name": "stdout",
     "output_type": "stream",
     "text": [
      "[2.0000144560962134, 10.000075800511864, 10.0, 0.6999734579844133, 0.5417987124323644, 0.9763470448638893, 1.0155884886486712, 3.1258846903218442, 0.052894325154969994]\n"
     ]
    },
    {
     "name": "stdout",
     "output_type": "stream",
     "text": [
      "[2.000014456096014, 10.000075800510425, 10.0, 0.6999734579850759, 0.5417987124325059, 0.9763470448621071, 1.0155884886453543, 3.1258846903218442, 0.05289432515469973]\n"
     ]
    },
    {
     "name": "stdout",
     "output_type": "stream",
     "text": [
      "[2.000014456096014, 10.000075800510425, 10.0, 0.6999734579850759, 0.5417987124325059, 0.9763470448621071, 1.0155884886453543, 3.1258846903218442, 0.05289432515469973]"
     ]
    },
    {
     "name": "stdout",
     "output_type": "stream",
     "text": [
      "\n",
      "[2.000014456095914, 10.000075800509705, 10.0, 0.6999734579854072, 0.5417987124325765, 0.9763470448612159, 1.0155884886436959, 3.1258846903218442, 0.0528943251545646]\n"
     ]
    },
    {
     "name": "stdout",
     "output_type": "stream",
     "text": [
      "[2.000014456095914, 10.000075800509705, 10.0, 0.6999734579854072, 0.5417987124325765, 0.9763470448612159, 1.0155884886436959, 3.1258846903218442, 0.0528943251545646]\n"
     ]
    }
   ],
   "source": [
    "res = optimize(p -> f(p, initial_p, buffer),\n",
    "               (storage, p) -> g!(storage, p, last_p, buffer),\n",
    "               initial_p,BFGS())"
   ]
  },
  {
   "cell_type": "code",
   "execution_count": 44,
   "metadata": {},
   "outputs": [],
   "source": [
    "# res = optimize(p -> f(p, initial_p, buffer),\n",
    "#                (storage, p) -> g!(storage, p, last_p, buffer),\n",
    "#                initial_p,BFGS())"
   ]
  },
  {
   "cell_type": "code",
   "execution_count": 247,
   "metadata": {},
   "outputs": [],
   "source": [
    "# res = optimize(p -> f(p, initial_p, buffer),\n",
    "#                (storage, p) -> g!(storage, p, last_p, buffer),\n",
    "#                initial_p,BFGS())"
   ]
  },
  {
   "cell_type": "code",
   "execution_count": null,
   "metadata": {},
   "outputs": [],
   "source": [
    "println(\"oke\")"
   ]
  },
  {
   "cell_type": "code",
   "execution_count": null,
   "metadata": {},
   "outputs": [],
   "source": []
  },
  {
   "cell_type": "code",
   "execution_count": 155,
   "metadata": {},
   "outputs": [
    {
     "data": {
      "text/plain": [
       " * Status: success (objective increased between iterations)\n",
       "\n",
       " * Candidate solution\n",
       "    Final objective value:     2.916013e-05\n",
       "\n",
       " * Found with\n",
       "    Algorithm:     BFGS\n",
       "\n",
       " * Convergence measures\n",
       "    |x - x'|               = 1.02e-06 ≰ 0.0e+00\n",
       "    |x - x'|/|x'|          = 1.02e-07 ≰ 0.0e+00\n",
       "    |f(x) - f(x')|         = 7.77e-16 ≰ 0.0e+00\n",
       "    |f(x) - f(x')|/|f(x')| = 2.67e-11 ≰ 0.0e+00\n",
       "    |g(x)|                 = 1.25e-09 ≤ 1.0e-08\n",
       "\n",
       " * Work counters\n",
       "    Seconds run:   1266  (vs limit Inf)\n",
       "    Iterations:    14\n",
       "    f(x) calls:    43\n",
       "    ∇f(x) calls:   43\n"
      ]
     },
     "metadata": {},
     "output_type": "display_data"
    }
   ],
   "source": [
    "res = optimize(p -> f(p, initial_p, buffer),\n",
    "               (storage, p) -> g!(storage, p, last_p, buffer),\n",
    "               initial_p,BFGS())"
   ]
  },
  {
   "cell_type": "code",
   "execution_count": 157,
   "metadata": {},
   "outputs": [
    {
     "data": {
      "text/plain": [
       "9-element Vector{Float64}:\n",
       "  2.0\n",
       " 10.0\n",
       " 10.0\n",
       "  0.7\n",
       "  0.5418050115404741\n",
       "  0.9762975433042059\n",
       "  1.015560374248532\n",
       "  3.1258846903218442\n",
       "  0.052891229797236636"
      ]
     },
     "metadata": {},
     "output_type": "display_data"
    }
   ],
   "source": [
    "Optim.minimizer(res)"
   ]
  },
  {
   "cell_type": "code",
   "execution_count": 158,
   "metadata": {},
   "outputs": [
    {
     "data": {
      "text/plain": [
       "9-element Vector{Float64}:\n",
       "  2.0\n",
       " 10.0\n",
       " 10.0\n",
       "  0.7\n",
       "  0.5418050115404741\n",
       "  0.9762975433042059\n",
       "  1.015560374248532\n",
       "  3.1258846903218442\n",
       "  0.052891229797236636"
      ]
     },
     "metadata": {},
     "output_type": "display_data"
    }
   ],
   "source": [
    "p_new = copy(Optim.minimizer(res))"
   ]
  },
  {
   "cell_type": "code",
   "execution_count": 164,
   "metadata": {},
   "outputs": [
    {
     "data": {
      "image/png": "[encoded data removed]",
      "image/svg+xml": "<?xml version=\"1.0\" encoding=\"utf-8\"?>\n<svg xmlns=\"http://www.w3.org/2000/svg\" xmlns:xlink=\"http://www.w3.org/1999/xlink\" width=\"600\" height=\"400\" viewBox=\"0 0 2400 1600\">\n<defs>\n  <clipPath id=\"clip170\">\n    <rect x=\"0\" y=\"0\" width=\"2400\" height=\"1600\"/>\n  </clipPath>\n</defs>\n<path clip-path=\"url(#clip170)\" d=\"\nM0 1600 L2400 1600 L2400 0 L0 0  Z\n  \" fill=\"#ffffff\" fill-rule=\"evenodd\" fill-opacity=\"1\"/>\n<defs>\n  <clipPath id=\"clip171\">\n    <rect x=\"480\" y=\"0\" width=\"1681\" height=\"1600\"/>\n  </clipPath>\n</defs>\n<path clip-path=\"url(#clip170)\" d=\"\nM193.936 1486.45 L2352.76 1486.45 L2352.76 47.2441 L193.936 47.2441  Z\n  \" fill=\"#ffffff\" fill-rule=\"evenodd\" fill-opacity=\"1\"/>\n<defs>\n  <clipPath id=\"clip172\">\n    <rect x=\"193\" y=\"47\" width=\"2160\" height=\"1440\"/>\n  </clipPath>\n</defs>\n<polyline clip-path=\"url(#clip172)\" style=\"stroke:#000000; stroke-linecap:round; stroke-linejoin:round; stroke-width:2; stroke-opacity:0.1; fill:none\" points=\"\n  255.035,1486.45 255.035,47.2441 \n  \"/>\n<polyline clip-path=\"url(#clip172)\" style=\"stroke:#000000; stroke-linecap:round; stroke-linejoin:round; stroke-width:2; stroke-opacity:0.1; fill:none\" points=\"\n  933.909,1486.45 933.909,47.2441 \n  \"/>\n<polyline clip-path=\"url(#clip172)\" style=\"stroke:#000000; stroke-linecap:round; stroke-linejoin:round; stroke-width:2; stroke-opacity:0.1; fill:none\" points=\"\n  1612.78,1486.45 1612.78,47.2441 \n  \"/>\n<polyline clip-path=\"url(#clip172)\" style=\"stroke:#000000; stroke-linecap:round; stroke-linejoin:round; stroke-width:2; stroke-opacity:0.1; fill:none\" points=\"\n  2291.66,1486.45 2291.66,47.2441 \n  \"/>\n<polyline clip-path=\"url(#clip170)\" style=\"stroke:#000000; stroke-linecap:round; stroke-linejoin:round; stroke-width:4; stroke-opacity:1; fill:none\" points=\"\n  193.936,1486.45 2352.76,1486.45 \n  \"/>\n<polyline clip-path=\"url(#clip170)\" style=\"stroke:#000000; stroke-linecap:round; stroke-linejoin:round; stroke-width:4; stroke-opacity:1; fill:none\" points=\"\n  255.035,1486.45 255.035,1467.55 \n  \"/>\n<polyline clip-path=\"url(#clip170)\" style=\"stroke:#000000; stroke-linecap:round; stroke-linejoin:round; stroke-width:4; stroke-opacity:1; fill:none\" points=\"\n  933.909,1486.45 933.909,1467.55 \n  \"/>\n<polyline clip-path=\"url(#clip170)\" style=\"stroke:#000000; stroke-linecap:round; stroke-linejoin:round; stroke-width:4; stroke-opacity:1; fill:none\" points=\"\n  1612.78,1486.45 1612.78,1467.55 \n  \"/>\n<polyline clip-path=\"url(#clip170)\" style=\"stroke:#000000; stroke-linecap:round; stroke-linejoin:round; stroke-width:4; stroke-opacity:1; fill:none\" points=\"\n  2291.66,1486.45 2291.66,1467.55 \n  \"/>\n<path clip-path=\"url(#clip170)\" d=\"M255.035 1517.37 Q251.424 1517.37 249.595 1520.93 Q247.789 1524.47 247.789 1531.6 Q247.789 1538.71 249.595 1542.27 Q251.424 1545.82 255.035 1545.82 Q258.669 1545.82 260.474 1542.27 Q262.303 1538.71 262.303 1531.6 Q262.303 1524.47 260.474 1520.93 Q258.669 1517.37 255.035 1517.37 M255.035 1513.66 Q260.845 1513.66 263.9 1518.27 Q266.979 1522.85 266.979 1531.6 Q266.979 1540.33 263.9 1544.94 Q260.845 1549.52 255.035 1549.52 Q249.225 1549.52 246.146 1544.94 Q243.09 1540.33 243.09 1531.6 Q243.09 1522.85 246.146 1518.27 Q249.225 1513.66 255.035 1513.66 Z\" fill=\"#000000\" fill-rule=\"evenodd\" fill-opacity=\"1\" /><path clip-path=\"url(#clip170)\" d=\"M908.596 1544.91 L916.235 1544.91 L916.235 1518.55 L907.925 1520.21 L907.925 1515.95 L916.189 1514.29 L920.865 1514.29 L920.865 1544.91 L928.504 1544.91 L928.504 1548.85 L908.596 1548.85 L908.596 1544.91 Z\" fill=\"#000000\" fill-rule=\"evenodd\" fill-opacity=\"1\" /><path clip-path=\"url(#clip170)\" d=\"M947.948 1517.37 Q944.337 1517.37 942.508 1520.93 Q940.703 1524.47 940.703 1531.6 Q940.703 1538.71 942.508 1542.27 Q944.337 1545.82 947.948 1545.82 Q951.582 1545.82 953.388 1542.27 Q955.217 1538.71 955.217 1531.6 Q955.217 1524.47 953.388 1520.93 Q951.582 1517.37 947.948 1517.37 M947.948 1513.66 Q953.758 1513.66 956.814 1518.27 Q959.893 1522.85 959.893 1531.6 Q959.893 1540.33 956.814 1544.94 Q953.758 1549.52 947.948 1549.52 Q942.138 1549.52 939.059 1544.94 Q936.004 1540.33 936.004 1531.6 Q936.004 1522.85 939.059 1518.27 Q942.138 1513.66 947.948 1513.66 Z\" fill=\"#000000\" fill-rule=\"evenodd\" fill-opacity=\"1\" /><path clip-path=\"url(#clip170)\" d=\"M1591.56 1544.91 L1607.88 1544.91 L1607.88 1548.85 L1585.93 1548.85 L1585.93 1544.91 Q1588.59 1542.16 1593.18 1537.53 Q1597.78 1532.88 1598.96 1531.53 Q1601.21 1529.01 1602.09 1527.27 Q1602.99 1525.51 1602.99 1523.82 Q1602.99 1521.07 1601.05 1519.33 Q1599.13 1517.6 1596.02 1517.6 Q1593.82 1517.6 1591.37 1518.36 Q1588.94 1519.13 1586.16 1520.68 L1586.16 1515.95 Q1588.99 1514.82 1591.44 1514.24 Q1593.89 1513.66 1595.93 1513.66 Q1601.3 1513.66 1604.5 1516.35 Q1607.69 1519.03 1607.69 1523.52 Q1607.69 1525.65 1606.88 1527.57 Q1606.09 1529.47 1603.99 1532.07 Q1603.41 1532.74 1600.31 1535.95 Q1597.2 1539.15 1591.56 1544.91 Z\" fill=\"#000000\" fill-rule=\"evenodd\" fill-opacity=\"1\" /><path clip-path=\"url(#clip170)\" d=\"M1627.69 1517.37 Q1624.08 1517.37 1622.25 1520.93 Q1620.45 1524.47 1620.45 1531.6 Q1620.45 1538.71 1622.25 1542.27 Q1624.08 1545.82 1627.69 1545.82 Q1631.32 1545.82 1633.13 1542.27 Q1634.96 1538.71 1634.96 1531.6 Q1634.96 1524.47 1633.13 1520.93 Q1631.32 1517.37 1627.69 1517.37 M1627.69 1513.66 Q1633.5 1513.66 1636.56 1518.27 Q1639.63 1522.85 1639.63 1531.6 Q1639.63 1540.33 1636.56 1544.94 Q1633.5 1549.52 1627.69 1549.52 Q1621.88 1549.52 1618.8 1544.94 Q1615.75 1540.33 1615.75 1531.6 Q1615.75 1522.85 1618.8 1518.27 Q1621.88 1513.66 1627.69 1513.66 Z\" fill=\"#000000\" fill-rule=\"evenodd\" fill-opacity=\"1\" /><path clip-path=\"url(#clip170)\" d=\"M2280.5 1530.21 Q2283.86 1530.93 2285.73 1533.2 Q2287.63 1535.47 2287.63 1538.8 Q2287.63 1543.92 2284.11 1546.72 Q2280.59 1549.52 2274.11 1549.52 Q2271.94 1549.52 2269.62 1549.08 Q2267.33 1548.66 2264.87 1547.81 L2264.87 1543.29 Q2266.82 1544.43 2269.13 1545.01 Q2271.45 1545.58 2273.97 1545.58 Q2278.37 1545.58 2280.66 1543.85 Q2282.98 1542.11 2282.98 1538.8 Q2282.98 1535.75 2280.82 1534.03 Q2278.69 1532.3 2274.87 1532.3 L2270.85 1532.3 L2270.85 1528.45 L2275.06 1528.45 Q2278.51 1528.45 2280.34 1527.09 Q2282.17 1525.7 2282.17 1523.11 Q2282.17 1520.45 2280.27 1519.03 Q2278.39 1517.6 2274.87 1517.6 Q2272.95 1517.6 2270.75 1518.01 Q2268.56 1518.43 2265.92 1519.31 L2265.92 1515.14 Q2268.58 1514.4 2270.89 1514.03 Q2273.23 1513.66 2275.29 1513.66 Q2280.62 1513.66 2283.72 1516.09 Q2286.82 1518.5 2286.82 1522.62 Q2286.82 1525.49 2285.18 1527.48 Q2283.53 1529.45 2280.5 1530.21 Z\" fill=\"#000000\" fill-rule=\"evenodd\" fill-opacity=\"1\" /><path clip-path=\"url(#clip170)\" d=\"M2306.5 1517.37 Q2302.88 1517.37 2301.06 1520.93 Q2299.25 1524.47 2299.25 1531.6 Q2299.25 1538.71 2301.06 1542.27 Q2302.88 1545.82 2306.5 1545.82 Q2310.13 1545.82 2311.93 1542.27 Q2313.76 1538.71 2313.76 1531.6 Q2313.76 1524.47 2311.93 1520.93 Q2310.13 1517.37 2306.5 1517.37 M2306.5 1513.66 Q2312.31 1513.66 2315.36 1518.27 Q2318.44 1522.85 2318.44 1531.6 Q2318.44 1540.33 2315.36 1544.94 Q2312.31 1549.52 2306.5 1549.52 Q2300.68 1549.52 2297.61 1544.94 Q2294.55 1540.33 2294.55 1531.6 Q2294.55 1522.85 2297.61 1518.27 Q2300.68 1513.66 2306.5 1513.66 Z\" fill=\"#000000\" fill-rule=\"evenodd\" fill-opacity=\"1\" /><polyline clip-path=\"url(#clip172)\" style=\"stroke:#000000; stroke-linecap:round; stroke-linejoin:round; stroke-width:2; stroke-opacity:0.1; fill:none\" points=\"\n  193.936,1269.47 2352.76,1269.47 \n  \"/>\n<polyline clip-path=\"url(#clip172)\" style=\"stroke:#000000; stroke-linecap:round; stroke-linejoin:round; stroke-width:2; stroke-opacity:0.1; fill:none\" points=\"\n  193.936,1018.31 2352.76,1018.31 \n  \"/>\n<polyline clip-path=\"url(#clip172)\" style=\"stroke:#000000; stroke-linecap:round; stroke-linejoin:round; stroke-width:2; stroke-opacity:0.1; fill:none\" points=\"\n  193.936,767.158 2352.76,767.158 \n  \"/>\n<polyline clip-path=\"url(#clip172)\" style=\"stroke:#000000; stroke-linecap:round; stroke-linejoin:round; stroke-width:2; stroke-opacity:0.1; fill:none\" points=\"\n  193.936,516.002 2352.76,516.002 \n  \"/>\n<polyline clip-path=\"url(#clip172)\" style=\"stroke:#000000; stroke-linecap:round; stroke-linejoin:round; stroke-width:2; stroke-opacity:0.1; fill:none\" points=\"\n  193.936,264.847 2352.76,264.847 \n  \"/>\n<polyline clip-path=\"url(#clip170)\" style=\"stroke:#000000; stroke-linecap:round; stroke-linejoin:round; stroke-width:4; stroke-opacity:1; fill:none\" points=\"\n  193.936,1486.45 193.936,47.2441 \n  \"/>\n<polyline clip-path=\"url(#clip170)\" style=\"stroke:#000000; stroke-linecap:round; stroke-linejoin:round; stroke-width:4; stroke-opacity:1; fill:none\" points=\"\n  193.936,1269.47 212.834,1269.47 \n  \"/>\n<polyline clip-path=\"url(#clip170)\" style=\"stroke:#000000; stroke-linecap:round; stroke-linejoin:round; stroke-width:4; stroke-opacity:1; fill:none\" points=\"\n  193.936,1018.31 212.834,1018.31 \n  \"/>\n<polyline clip-path=\"url(#clip170)\" style=\"stroke:#000000; stroke-linecap:round; stroke-linejoin:round; stroke-width:4; stroke-opacity:1; fill:none\" points=\"\n  193.936,767.158 212.834,767.158 \n  \"/>\n<polyline clip-path=\"url(#clip170)\" style=\"stroke:#000000; stroke-linecap:round; stroke-linejoin:round; stroke-width:4; stroke-opacity:1; fill:none\" points=\"\n  193.936,516.002 212.834,516.002 \n  \"/>\n<polyline clip-path=\"url(#clip170)\" style=\"stroke:#000000; stroke-linecap:round; stroke-linejoin:round; stroke-width:4; stroke-opacity:1; fill:none\" points=\"\n  193.936,264.847 212.834,264.847 \n  \"/>\n<path clip-path=\"url(#clip170)\" d=\"M50.9921 1269.92 L80.6679 1269.92 L80.6679 1273.86 L50.9921 1273.86 L50.9921 1269.92 Z\" fill=\"#000000\" fill-rule=\"evenodd\" fill-opacity=\"1\" /><path clip-path=\"url(#clip170)\" d=\"M91.5706 1282.81 L99.2095 1282.81 L99.2095 1256.45 L90.8993 1258.12 L90.8993 1253.86 L99.1632 1252.19 L103.839 1252.19 L103.839 1282.81 L111.478 1282.81 L111.478 1286.75 L91.5706 1286.75 L91.5706 1282.81 Z\" fill=\"#000000\" fill-rule=\"evenodd\" fill-opacity=\"1\" /><path clip-path=\"url(#clip170)\" d=\"M120.922 1280.87 L125.807 1280.87 L125.807 1286.75 L120.922 1286.75 L120.922 1280.87 Z\" fill=\"#000000\" fill-rule=\"evenodd\" fill-opacity=\"1\" /><path clip-path=\"url(#clip170)\" d=\"M145.992 1255.27 Q142.381 1255.27 140.552 1258.83 Q138.746 1262.37 138.746 1269.5 Q138.746 1276.61 140.552 1280.18 Q142.381 1283.72 145.992 1283.72 Q149.626 1283.72 151.431 1280.18 Q153.26 1276.61 153.26 1269.5 Q153.26 1262.37 151.431 1258.83 Q149.626 1255.27 145.992 1255.27 M145.992 1251.56 Q151.802 1251.56 154.857 1256.17 Q157.936 1260.75 157.936 1269.5 Q157.936 1278.23 154.857 1282.84 Q151.802 1287.42 145.992 1287.42 Q140.181 1287.42 137.103 1282.84 Q134.047 1278.23 134.047 1269.5 Q134.047 1260.75 137.103 1256.17 Q140.181 1251.56 145.992 1251.56 Z\" fill=\"#000000\" fill-rule=\"evenodd\" fill-opacity=\"1\" /><path clip-path=\"url(#clip170)\" d=\"M51.9875 1018.77 L81.6633 1018.77 L81.6633 1022.7 L51.9875 1022.7 L51.9875 1018.77 Z\" fill=\"#000000\" fill-rule=\"evenodd\" fill-opacity=\"1\" /><path clip-path=\"url(#clip170)\" d=\"M101.756 1004.11 Q98.1447 1004.11 96.316 1007.68 Q94.5104 1011.22 94.5104 1018.35 Q94.5104 1025.45 96.316 1029.02 Q98.1447 1032.56 101.756 1032.56 Q105.39 1032.56 107.196 1029.02 Q109.024 1025.45 109.024 1018.35 Q109.024 1011.22 107.196 1007.68 Q105.39 1004.11 101.756 1004.11 M101.756 1000.41 Q107.566 1000.41 110.621 1005.02 Q113.7 1009.6 113.7 1018.35 Q113.7 1027.08 110.621 1031.68 Q107.566 1036.27 101.756 1036.27 Q95.9456 1036.27 92.8669 1031.68 Q89.8114 1027.08 89.8114 1018.35 Q89.8114 1009.6 92.8669 1005.02 Q95.9456 1000.41 101.756 1000.41 Z\" fill=\"#000000\" fill-rule=\"evenodd\" fill-opacity=\"1\" /><path clip-path=\"url(#clip170)\" d=\"M121.918 1029.71 L126.802 1029.71 L126.802 1035.59 L121.918 1035.59 L121.918 1029.71 Z\" fill=\"#000000\" fill-rule=\"evenodd\" fill-opacity=\"1\" /><path clip-path=\"url(#clip170)\" d=\"M137.033 1001.03 L155.39 1001.03 L155.39 1004.97 L141.316 1004.97 L141.316 1013.44 Q142.334 1013.09 143.353 1012.93 Q144.371 1012.75 145.39 1012.75 Q151.177 1012.75 154.556 1015.92 Q157.936 1019.09 157.936 1024.51 Q157.936 1030.08 154.464 1033.19 Q150.992 1036.27 144.672 1036.27 Q142.496 1036.27 140.228 1035.89 Q137.982 1035.52 135.575 1034.78 L135.575 1030.08 Q137.658 1031.22 139.881 1031.77 Q142.103 1032.33 144.58 1032.33 Q148.584 1032.33 150.922 1030.22 Q153.26 1028.12 153.26 1024.51 Q153.26 1020.89 150.922 1018.79 Q148.584 1016.68 144.58 1016.68 Q142.705 1016.68 140.83 1017.1 Q138.978 1017.52 137.033 1018.39 L137.033 1001.03 Z\" fill=\"#000000\" fill-rule=\"evenodd\" fill-opacity=\"1\" /><path clip-path=\"url(#clip170)\" d=\"M100.76 752.957 Q97.1493 752.957 95.3206 756.522 Q93.515 760.063 93.515 767.193 Q93.515 774.299 95.3206 777.864 Q97.1493 781.406 100.76 781.406 Q104.395 781.406 106.2 777.864 Q108.029 774.299 108.029 767.193 Q108.029 760.063 106.2 756.522 Q104.395 752.957 100.76 752.957 M100.76 749.253 Q106.571 749.253 109.626 753.86 Q112.705 758.443 112.705 767.193 Q112.705 775.92 109.626 780.526 Q106.571 785.109 100.76 785.109 Q94.9502 785.109 91.8715 780.526 Q88.816 775.92 88.816 767.193 Q88.816 758.443 91.8715 753.86 Q94.9502 749.253 100.76 749.253 Z\" fill=\"#000000\" fill-rule=\"evenodd\" fill-opacity=\"1\" /><path clip-path=\"url(#clip170)\" d=\"M120.922 778.558 L125.807 778.558 L125.807 784.438 L120.922 784.438 L120.922 778.558 Z\" fill=\"#000000\" fill-rule=\"evenodd\" fill-opacity=\"1\" /><path clip-path=\"url(#clip170)\" d=\"M145.992 752.957 Q142.381 752.957 140.552 756.522 Q138.746 760.063 138.746 767.193 Q138.746 774.299 140.552 777.864 Q142.381 781.406 145.992 781.406 Q149.626 781.406 151.431 777.864 Q153.26 774.299 153.26 767.193 Q153.26 760.063 151.431 756.522 Q149.626 752.957 145.992 752.957 M145.992 749.253 Q151.802 749.253 154.857 753.86 Q157.936 758.443 157.936 767.193 Q157.936 775.92 154.857 780.526 Q151.802 785.109 145.992 785.109 Q140.181 785.109 137.103 780.526 Q134.047 775.92 134.047 767.193 Q134.047 758.443 137.103 753.86 Q140.181 749.253 145.992 749.253 Z\" fill=\"#000000\" fill-rule=\"evenodd\" fill-opacity=\"1\" /><path clip-path=\"url(#clip170)\" d=\"M101.756 501.801 Q98.1447 501.801 96.316 505.366 Q94.5104 508.908 94.5104 516.037 Q94.5104 523.144 96.316 526.708 Q98.1447 530.25 101.756 530.25 Q105.39 530.25 107.196 526.708 Q109.024 523.144 109.024 516.037 Q109.024 508.908 107.196 505.366 Q105.39 501.801 101.756 501.801 M101.756 498.097 Q107.566 498.097 110.621 502.704 Q113.7 507.287 113.7 516.037 Q113.7 524.764 110.621 529.37 Q107.566 533.954 101.756 533.954 Q95.9456 533.954 92.8669 529.37 Q89.8114 524.764 89.8114 516.037 Q89.8114 507.287 92.8669 502.704 Q95.9456 498.097 101.756 498.097 Z\" fill=\"#000000\" fill-rule=\"evenodd\" fill-opacity=\"1\" /><path clip-path=\"url(#clip170)\" d=\"M121.918 527.403 L126.802 527.403 L126.802 533.282 L121.918 533.282 L121.918 527.403 Z\" fill=\"#000000\" fill-rule=\"evenodd\" fill-opacity=\"1\" /><path clip-path=\"url(#clip170)\" d=\"M137.033 498.722 L155.39 498.722 L155.39 502.658 L141.316 502.658 L141.316 511.13 Q142.334 510.783 143.353 510.62 Q144.371 510.435 145.39 510.435 Q151.177 510.435 154.556 513.607 Q157.936 516.778 157.936 522.194 Q157.936 527.773 154.464 530.875 Q150.992 533.954 144.672 533.954 Q142.496 533.954 140.228 533.583 Q137.982 533.213 135.575 532.472 L135.575 527.773 Q137.658 528.907 139.881 529.463 Q142.103 530.019 144.58 530.019 Q148.584 530.019 150.922 527.912 Q153.26 525.806 153.26 522.194 Q153.26 518.583 150.922 516.477 Q148.584 514.37 144.58 514.37 Q142.705 514.37 140.83 514.787 Q138.978 515.204 137.033 516.083 L137.033 498.722 Z\" fill=\"#000000\" fill-rule=\"evenodd\" fill-opacity=\"1\" /><path clip-path=\"url(#clip170)\" d=\"M91.5706 278.192 L99.2095 278.192 L99.2095 251.826 L90.8993 253.493 L90.8993 249.233 L99.1632 247.567 L103.839 247.567 L103.839 278.192 L111.478 278.192 L111.478 282.127 L91.5706 282.127 L91.5706 278.192 Z\" fill=\"#000000\" fill-rule=\"evenodd\" fill-opacity=\"1\" /><path clip-path=\"url(#clip170)\" d=\"M120.922 276.247 L125.807 276.247 L125.807 282.127 L120.922 282.127 L120.922 276.247 Z\" fill=\"#000000\" fill-rule=\"evenodd\" fill-opacity=\"1\" /><path clip-path=\"url(#clip170)\" d=\"M145.992 250.645 Q142.381 250.645 140.552 254.21 Q138.746 257.752 138.746 264.881 Q138.746 271.988 140.552 275.553 Q142.381 279.094 145.992 279.094 Q149.626 279.094 151.431 275.553 Q153.26 271.988 153.26 264.881 Q153.26 257.752 151.431 254.21 Q149.626 250.645 145.992 250.645 M145.992 246.942 Q151.802 246.942 154.857 251.548 Q157.936 256.131 157.936 264.881 Q157.936 273.608 154.857 278.215 Q151.802 282.798 145.992 282.798 Q140.181 282.798 137.103 278.215 Q134.047 273.608 134.047 264.881 Q134.047 256.131 137.103 251.548 Q140.181 246.942 145.992 246.942 Z\" fill=\"#000000\" fill-rule=\"evenodd\" fill-opacity=\"1\" /><polyline clip-path=\"url(#clip172)\" style=\"stroke:#009af9; stroke-linecap:round; stroke-linejoin:round; stroke-width:4; stroke-opacity:1; fill:none\" points=\"\n  255.035,767.158 259.116,767.158 263.197,767.158 267.279,767.158 271.36,767.158 275.442,767.158 279.523,767.158 283.605,767.158 287.686,767.158 291.767,767.158 \n  295.849,767.158 299.93,767.158 304.012,767.158 308.093,767.158 312.174,767.158 316.256,767.158 320.337,767.158 324.419,767.158 328.5,767.158 332.581,767.158 \n  336.663,767.158 340.744,767.158 344.826,767.158 348.907,767.158 352.988,767.158 357.07,767.158 361.151,767.158 365.233,767.158 369.314,767.158 373.396,767.158 \n  377.477,767.158 381.558,767.158 385.64,767.158 389.721,767.158 393.803,767.158 397.884,767.158 401.965,767.158 406.047,767.158 410.128,767.158 414.21,767.158 \n  418.291,767.158 422.372,767.158 426.454,767.158 430.535,767.158 434.617,767.158 438.698,767.158 442.779,767.158 446.861,767.158 450.942,767.158 455.024,767.158 \n  459.105,767.158 463.186,767.158 467.268,767.158 471.349,767.158 475.431,767.158 479.512,767.158 483.594,767.158 487.675,767.158 491.756,767.158 495.838,767.158 \n  499.919,767.158 504.001,767.158 508.082,767.158 512.163,767.158 516.245,767.158 520.326,767.158 524.408,767.158 528.489,767.158 532.57,767.158 536.652,767.158 \n  540.733,767.158 544.815,767.158 548.896,767.158 552.977,767.158 557.059,767.158 561.14,767.158 565.222,767.158 569.303,767.158 573.384,767.158 577.466,767.158 \n  581.547,767.158 585.629,767.158 589.71,767.158 593.792,767.158 597.873,767.158 601.954,767.158 606.036,767.158 610.117,767.158 614.199,767.158 618.28,767.158 \n  622.361,767.158 626.443,767.158 630.524,767.158 634.606,767.158 638.687,767.158 642.768,767.158 646.85,767.158 650.931,767.158 655.013,767.158 659.094,767.158 \n  663.175,767.158 667.257,767.158 671.338,767.158 675.42,767.158 679.501,767.158 683.583,767.158 687.664,767.158 691.745,767.158 695.827,767.158 699.908,767.158 \n  703.99,767.158 708.071,767.158 712.152,767.158 716.234,767.158 720.315,767.158 724.397,767.158 728.478,767.158 732.559,767.158 736.641,767.158 740.722,767.158 \n  744.804,767.158 748.885,767.158 752.966,767.158 757.048,767.158 761.129,767.158 765.211,767.158 769.292,767.158 773.373,767.158 777.455,767.158 781.536,767.158 \n  785.618,767.158 789.699,767.158 793.781,767.158 797.862,767.158 801.943,767.158 806.025,767.158 810.106,767.158 814.188,767.158 818.269,767.158 822.35,767.158 \n  826.432,767.158 830.513,767.158 834.595,767.158 838.676,767.158 842.757,767.158 846.839,767.158 850.92,767.158 855.002,767.158 859.083,767.158 863.164,767.158 \n  867.246,767.158 871.327,767.158 875.409,767.158 879.49,767.158 883.571,767.158 887.653,767.158 891.734,767.158 895.816,767.158 899.897,767.158 903.979,767.158 \n  908.06,767.158 912.141,767.158 916.223,767.158 920.304,767.158 924.386,767.158 928.467,767.158 932.548,767.158 936.63,765.559 940.711,761.063 944.793,755.12 \n  948.874,749.161 952.955,744.753 957.037,743.482 961.118,746.827 965.2,756.041 969.281,772.039 973.362,795.311 977.444,825.857 981.525,863.151 985.607,906.14 \n  989.688,953.271 993.77,1002.56 997.851,1051.66 1001.93,1098.03 1006.01,1139 1010.1,1171.96 1014.18,1194.51 1018.26,1204.56 1022.34,1200.52 1026.42,1181.33 \n  1030.5,1146.62 1034.58,1096.69 1038.66,1032.56 1042.75,955.904 1046.83,869.043 1050.91,774.8 1054.99,676.4 1059.07,577.314 1063.15,481.106 1067.23,391.262 \n  1071.32,311.653 1075.4,243.33 1079.48,186.11 1083.56,141.205 1087.64,109.566 1091.72,91.8655 1095.8,88.4775 1099.89,99.474 1103.97,124.622 1108.05,163.388 \n  1112.13,214.952 1116.21,278.219 1120.29,351.849 1124.37,434.282 1128.46,523.77 1132.54,618.416 1136.62,716.215 1140.7,815.094 1144.78,912.957 1148.86,1007.73 \n  1152.94,1097.4 1157.03,1180.08 1161.11,1254 1165.19,1317.6 1169.27,1369.54 1173.35,1408.71 1177.43,1434.28 1181.51,1445.72 1185.6,1442.77 1189.68,1425.5 \n  1193.76,1394.28 1197.84,1349.76 1201.92,1292.9 1206,1224.89 1210.08,1147.19 1214.17,1061.43 1218.25,969.428 1222.33,873.143 1226.41,774.611 1230.49,675.921 \n  1234.57,579.165 1238.65,486.394 1242.74,399.573 1246.82,320.543 1250.9,250.979 1254.98,192.356 1259.06,145.915 1263.14,112.642 1267.22,93.2404 1271.31,88.1228 \n  1275.39,97.3973 1279.47,120.867 1283.55,158.035 1287.63,208.114 1291.71,270.041 1295.79,342.504 1299.88,423.968 1303.96,512.706 1308.04,606.837 1312.12,704.366 \n  1316.2,803.226 1320.28,901.321 1324.36,996.573 1328.44,1086.96 1332.53,1170.57 1336.61,1245.63 1340.69,1310.55 1344.77,1363.96 1348.85,1404.71 1352.93,1431.95 \n  1357.01,1445.1 1361.1,1443.88 1365.18,1428.32 1369.26,1398.75 1373.34,1355.78 1377.42,1300.35 1381.5,1233.61 1385.58,1156.98 1389.67,1072.1 1393.75,980.748 \n  1397.83,884.871 1401.91,786.5 1405.99,687.718 1410.07,590.62 1414.15,497.264 1418.24,409.628 1422.32,329.57 1426.4,258.786 1430.48,198.778 1434.56,150.816 \n  1438.64,115.917 1442.72,94.8218 1446.81,87.9763 1450.89,95.5259 1454.97,117.311 1459.05,152.869 1463.13,201.447 1467.21,262.015 1471.29,333.29 1475.38,413.76 \n  1479.46,503.404 1483.54,600.395 1487.62,700.472 1491.7,800.056 1495.78,895.636 1499.86,983.923 1503.95,1062.01 1508.03,1127.49 1512.11,1178.58 1516.19,1214.14 \n  1520.27,1233.79 1524.35,1237.82 1528.43,1227.19 1532.52,1203.49 1536.6,1168.76 1540.68,1125.44 1544.76,1076.18 1548.84,1023.71 1552.92,970.7 1557,919.616 \n  1561.09,872.586 1565.17,831.319 1569.25,797.026 1573.33,770.382 1577.41,751.525 1581.49,740.081 1585.57,735.224 1589.66,735.756 1593.74,740.221 1597.82,747.014 \n  1601.9,754.513 1605.98,761.201 1610.06,765.779 1614.14,767.158 1618.22,767.158 1622.31,767.158 1626.39,767.158 1630.47,767.158 1634.55,767.158 1638.63,767.158 \n  1642.71,767.158 1646.79,767.158 1650.88,767.158 1654.96,767.158 1659.04,767.158 1663.12,767.158 1667.2,767.158 1671.28,767.158 1675.36,767.158 1679.45,767.158 \n  1683.53,767.158 1687.61,767.158 1691.69,767.158 1695.77,767.158 1699.85,767.158 1703.93,767.158 1708.02,767.158 1712.1,767.158 1716.18,767.158 1720.26,767.158 \n  1724.34,767.158 1728.42,767.158 1732.5,767.158 1736.59,767.158 1740.67,767.158 1744.75,767.158 1748.83,767.158 1752.91,767.158 1756.99,767.158 1761.07,767.158 \n  1765.16,767.158 1769.24,767.158 1773.32,767.158 1777.4,767.158 1781.48,767.158 1785.56,767.158 1789.64,767.158 1793.73,767.158 1797.81,767.158 1801.89,767.158 \n  1805.97,767.158 1810.05,767.158 1814.13,767.158 1818.21,767.158 1822.3,767.158 1826.38,767.158 1830.46,767.158 1834.54,767.158 1838.62,767.158 1842.7,767.158 \n  1846.78,767.158 1850.87,767.158 1854.95,767.158 1859.03,767.158 1863.11,767.158 1867.19,767.158 1871.27,767.158 1875.35,767.158 1879.44,767.158 1883.52,767.158 \n  1887.6,767.158 1891.68,767.158 1895.76,767.158 1899.84,767.158 1903.92,767.158 1908,767.158 1912.09,767.158 1916.17,767.158 1920.25,767.158 1924.33,767.158 \n  1928.41,767.158 1932.49,767.158 1936.57,767.158 1940.66,767.158 1944.74,767.158 1948.82,767.158 1952.9,767.158 1956.98,767.158 1961.06,767.158 1965.14,767.158 \n  1969.23,767.158 1973.31,767.158 1977.39,767.158 1981.47,767.158 1985.55,767.158 1989.63,767.158 1993.71,767.158 1997.8,767.158 2001.88,767.158 2005.96,767.158 \n  2010.04,767.158 2014.12,767.158 2018.2,767.158 2022.28,767.158 2026.37,767.158 2030.45,767.158 2034.53,767.158 2038.61,767.158 2042.69,767.158 2046.77,767.158 \n  2050.85,767.158 2054.94,767.158 2059.02,767.158 2063.1,767.158 2067.18,767.158 2071.26,767.158 2075.34,767.158 2079.42,767.158 2083.51,767.158 2087.59,767.158 \n  2091.67,767.158 2095.75,767.158 2099.83,767.158 2103.91,767.158 2107.99,767.158 2112.08,767.158 2116.16,767.158 2120.24,767.158 2124.32,767.158 2128.4,767.158 \n  2132.48,767.158 2136.56,767.158 2140.65,767.158 2144.73,767.158 2148.81,767.158 2152.89,767.158 2156.97,767.158 2161.05,767.158 2165.13,767.158 2169.21,767.158 \n  2173.3,767.158 2177.38,767.158 2181.46,767.158 2185.54,767.158 2189.62,767.158 2193.7,767.158 2197.78,767.158 2201.87,767.158 2205.95,767.158 2210.03,767.158 \n  2214.11,767.158 2218.19,767.158 2222.27,767.158 2226.35,767.158 2230.44,767.158 2234.52,767.158 2238.6,767.158 2242.68,767.158 2246.76,767.158 2250.84,767.158 \n  2254.92,767.158 2259.01,767.158 2263.09,767.158 2267.17,767.158 2271.25,767.158 2275.33,767.158 2279.41,767.158 2283.49,767.158 2287.58,767.158 2291.66,767.158 \n  \n  \"/>\n<polyline clip-path=\"url(#clip172)\" style=\"stroke:#e26f46; stroke-linecap:round; stroke-linejoin:round; stroke-width:4; stroke-opacity:1; fill:none\" points=\"\n  255.035,767.158 259.116,767.158 263.197,767.158 267.279,767.158 271.36,767.158 275.442,767.158 279.523,767.158 283.605,767.158 287.686,767.158 291.767,767.158 \n  295.849,767.158 299.93,767.158 304.012,767.158 308.093,767.158 312.174,767.158 316.256,767.158 320.337,767.158 324.419,767.158 328.5,767.158 332.581,767.158 \n  336.663,767.158 340.744,767.158 344.826,767.158 348.907,767.158 352.988,767.158 357.07,767.158 361.151,767.158 365.233,767.158 369.314,767.158 373.396,767.158 \n  377.477,767.158 381.558,767.158 385.64,767.158 389.721,767.158 393.803,767.158 397.884,767.158 401.965,767.158 406.047,767.158 410.128,767.158 414.21,767.158 \n  418.291,767.158 422.372,767.158 426.454,767.158 430.535,767.158 434.617,767.158 438.698,767.158 442.779,767.158 446.861,767.158 450.942,767.158 455.024,767.158 \n  459.105,767.158 463.186,767.158 467.268,767.158 471.349,767.158 475.431,767.158 479.512,767.158 483.594,767.158 487.675,767.158 491.756,767.158 495.838,767.158 \n  499.919,767.158 504.001,767.158 508.082,767.158 512.163,767.158 516.245,767.158 520.326,767.158 524.408,767.158 528.489,767.158 532.57,767.158 536.652,767.158 \n  540.733,767.158 544.815,767.158 548.896,767.158 552.977,767.158 557.059,767.158 561.14,767.158 565.222,767.158 569.303,767.158 573.384,767.158 577.466,767.158 \n  581.547,767.158 585.629,767.158 589.71,767.158 593.792,767.158 597.873,767.158 601.954,767.158 606.036,767.158 610.117,767.158 614.199,767.158 618.28,767.158 \n  622.361,767.158 626.443,767.158 630.524,767.158 634.606,767.158 638.687,767.158 642.768,767.158 646.85,767.158 650.931,767.158 655.013,767.158 659.094,767.158 \n  663.175,767.158 667.257,767.158 671.338,767.158 675.42,767.158 679.501,767.158 683.583,767.158 687.664,767.158 691.745,767.158 695.827,767.158 699.908,767.158 \n  703.99,767.158 708.071,767.158 712.152,767.158 716.234,767.158 720.315,767.158 724.397,767.158 728.478,767.158 732.559,767.158 736.641,767.158 740.722,767.158 \n  744.804,767.158 748.885,767.158 752.966,767.158 757.048,767.158 761.129,767.158 765.211,767.158 769.292,767.158 773.373,767.158 777.455,767.158 781.536,767.158 \n  785.618,767.158 789.699,767.158 793.781,767.158 797.862,767.158 801.943,767.158 806.025,767.158 810.106,767.158 814.188,767.158 818.269,767.158 822.35,767.158 \n  826.432,767.158 830.513,767.158 834.595,767.158 838.676,767.158 842.757,767.158 846.839,767.158 850.92,767.158 855.002,767.158 859.083,767.158 863.164,767.158 \n  867.246,767.158 871.327,767.158 875.409,767.158 879.49,767.158 883.571,767.158 887.653,767.158 891.734,767.158 895.816,767.158 899.897,767.158 903.979,767.158 \n  908.06,767.158 912.141,767.158 916.223,767.158 920.304,767.158 924.386,767.158 928.467,767.158 932.548,767.158 936.63,766.499 940.711,763.146 944.793,757.4 \n  948.874,750.086 952.955,742.338 957.037,735.51 961.118,731.081 965.2,730.544 969.281,735.287 973.362,746.488 977.444,765.007 981.525,791.304 985.607,825.374 \n  989.688,866.71 993.77,914.298 997.851,966.64 1001.93,1021.81 1006.01,1077.52 1010.1,1131.26 1014.18,1180.39 1018.26,1222.28 1022.34,1254.47 1026.42,1274.77 \n  1030.5,1281.42 1034.58,1273.18 1038.66,1249.41 1042.75,1210.13 1046.83,1156.02 1050.91,1088.44 1054.99,1009.34 1059.07,921.217 1063.15,826.98 1067.23,729.834 \n  1071.32,633.079 1075.4,539.206 1079.48,450.181 1083.56,367.898 1087.64,294.107 1091.72,230.377 1095.8,178.063 1099.89,138.279 1103.97,111.87 1108.05,99.3984 \n  1112.13,101.129 1116.21,117.026 1120.29,146.749 1124.37,189.668 1128.46,244.87 1132.54,311.18 1136.62,387.188 1140.7,471.277 1144.78,561.66 1148.86,656.413 \n  1152.94,753.522 1157.03,850.92 1161.11,946.537 1165.19,1038.34 1169.27,1124.37 1173.35,1202.81 1177.43,1271.98 1181.51,1330.42 1185.6,1376.87 1189.68,1410.36 \n  1193.76,1430.16 1197.84,1435.87 1201.92,1427.35 1206,1404.79 1210.08,1368.67 1214.17,1319.76 1218.25,1259.09 1222.33,1187.96 1226.41,1107.88 1230.49,1020.55 \n  1234.57,927.839 1238.65,831.706 1242.74,734.2 1246.82,637.394 1250.9,543.349 1254.98,454.064 1259.06,371.438 1263.14,297.229 1267.22,233.014 1271.31,180.16 \n  1275.39,139.79 1279.47,112.764 1283.55,99.6559 1287.63,100.745 1291.71,116.007 1295.79,145.119 1299.88,187.461 1303.96,242.132 1308.04,307.97 1312.12,383.574 \n  1316.2,467.336 1320.28,557.476 1324.36,652.075 1328.44,749.121 1332.53,846.551 1336.61,942.293 1340.69,1034.31 1344.77,1120.64 1348.85,1199.46 1352.93,1269.08 \n  1357.01,1328.03 1361.1,1375.05 1365.18,1409.14 1369.26,1429.57 1373.34,1435.92 1377.42,1428.04 1381.5,1406.11 1385.58,1370.58 1389.67,1322.22 1393.75,1262.06 \n  1397.83,1191.37 1401.91,1111.66 1405.99,1024.62 1410.07,932.108 1414.15,836.086 1418.24,738.597 1422.32,641.715 1426.4,547.502 1430.48,457.961 1434.56,374.995 \n  1438.64,300.371 1442.72,235.674 1446.81,182.282 1450.89,141.329 1454.97,113.686 1459.05,99.9423 1463.13,100.389 1467.21,115.017 1471.29,143.516 1475.38,185.278 \n  1479.46,239.84 1483.54,307.414 1487.62,385.783 1491.7,472.101 1495.78,563.232 1499.86,655.898 1503.95,746.831 1508.03,832.925 1512.11,911.378 1516.19,979.808 \n  1520.27,1036.36 1524.35,1079.77 1528.43,1109.41 1532.52,1125.29 1536.6,1128.01 1540.68,1118.74 1544.76,1099.1 1548.84,1071.06 1552.92,1036.85 1557,998.759 \n  1561.09,959.072 1565.17,919.909 1569.25,883.127 1573.33,850.229 1577.41,822.297 1581.49,799.959 1585.57,783.379 1589.66,772.282 1593.74,766.004 1597.82,763.564 \n  1601.9,763.76 1605.98,765.271 1610.06,766.773 1614.14,767.158 1618.22,767.158 1622.31,767.158 1626.39,767.158 1630.47,767.158 1634.55,767.158 1638.63,767.158 \n  1642.71,767.158 1646.79,767.158 1650.88,767.158 1654.96,767.158 1659.04,767.158 1663.12,767.158 1667.2,767.158 1671.28,767.158 1675.36,767.158 1679.45,767.158 \n  1683.53,767.158 1687.61,767.158 1691.69,767.158 1695.77,767.158 1699.85,767.158 1703.93,767.158 1708.02,767.158 1712.1,767.158 1716.18,767.158 1720.26,767.158 \n  1724.34,767.158 1728.42,767.158 1732.5,767.158 1736.59,767.158 1740.67,767.158 1744.75,767.158 1748.83,767.158 1752.91,767.158 1756.99,767.158 1761.07,767.158 \n  1765.16,767.158 1769.24,767.158 1773.32,767.158 1777.4,767.158 1781.48,767.158 1785.56,767.158 1789.64,767.158 1793.73,767.158 1797.81,767.158 1801.89,767.158 \n  1805.97,767.158 1810.05,767.158 1814.13,767.158 1818.21,767.158 1822.3,767.158 1826.38,767.158 1830.46,767.158 1834.54,767.158 1838.62,767.158 1842.7,767.158 \n  1846.78,767.158 1850.87,767.158 1854.95,767.158 1859.03,767.158 1863.11,767.158 1867.19,767.158 1871.27,767.158 1875.35,767.158 1879.44,767.158 1883.52,767.158 \n  1887.6,767.158 1891.68,767.158 1895.76,767.158 1899.84,767.158 1903.92,767.158 1908,767.158 1912.09,767.158 1916.17,767.158 1920.25,767.158 1924.33,767.158 \n  1928.41,767.158 1932.49,767.158 1936.57,767.158 1940.66,767.158 1944.74,767.158 1948.82,767.158 1952.9,767.158 1956.98,767.158 1961.06,767.158 1965.14,767.158 \n  1969.23,767.158 1973.31,767.158 1977.39,767.158 1981.47,767.158 1985.55,767.158 1989.63,767.158 1993.71,767.158 1997.8,767.158 2001.88,767.158 2005.96,767.158 \n  2010.04,767.158 2014.12,767.158 2018.2,767.158 2022.28,767.158 2026.37,767.158 2030.45,767.158 2034.53,767.158 2038.61,767.158 2042.69,767.158 2046.77,767.158 \n  2050.85,767.158 2054.94,767.158 2059.02,767.158 2063.1,767.158 2067.18,767.158 2071.26,767.158 2075.34,767.158 2079.42,767.158 2083.51,767.158 2087.59,767.158 \n  2091.67,767.158 2095.75,767.158 2099.83,767.158 2103.91,767.158 2107.99,767.158 2112.08,767.158 2116.16,767.158 2120.24,767.158 2124.32,767.158 2128.4,767.158 \n  2132.48,767.158 2136.56,767.158 2140.65,767.158 2144.73,767.158 2148.81,767.158 2152.89,767.158 2156.97,767.158 2161.05,767.158 2165.13,767.158 2169.21,767.158 \n  2173.3,767.158 2177.38,767.158 2181.46,767.158 2185.54,767.158 2189.62,767.158 2193.7,767.158 2197.78,767.158 2201.87,767.158 2205.95,767.158 2210.03,767.158 \n  2214.11,767.158 2218.19,767.158 2222.27,767.158 2226.35,767.158 2230.44,767.158 2234.52,767.158 2238.6,767.158 2242.68,767.158 2246.76,767.158 2250.84,767.158 \n  2254.92,767.158 2259.01,767.158 2263.09,767.158 2267.17,767.158 2271.25,767.158 2275.33,767.158 2279.41,767.158 2283.49,767.158 2287.58,767.158 2291.66,767.158 \n  \n  \"/>\n<path clip-path=\"url(#clip170)\" d=\"\nM1988.5 250.738 L2280.8 250.738 L2280.8 95.2176 L1988.5 95.2176  Z\n  \" fill=\"#ffffff\" fill-rule=\"evenodd\" fill-opacity=\"1\"/>\n<polyline clip-path=\"url(#clip170)\" style=\"stroke:#000000; stroke-linecap:round; stroke-linejoin:round; stroke-width:4; stroke-opacity:1; fill:none\" points=\"\n  1988.5,250.738 2280.8,250.738 2280.8,95.2176 1988.5,95.2176 1988.5,250.738 \n  \"/>\n<polyline clip-path=\"url(#clip170)\" style=\"stroke:#009af9; stroke-linecap:round; stroke-linejoin:round; stroke-width:4; stroke-opacity:1; fill:none\" points=\"\n  2012.48,147.058 2156.4,147.058 \n  \"/>\n<path clip-path=\"url(#clip170)\" d=\"M2194.23 166.745 Q2192.43 171.375 2190.72 172.787 Q2189 174.199 2186.13 174.199 L2182.73 174.199 L2182.73 170.634 L2185.23 170.634 Q2186.99 170.634 2187.96 169.8 Q2188.93 168.967 2190.11 165.865 L2190.88 163.921 L2180.39 138.412 L2184.91 138.412 L2193.01 158.689 L2201.11 138.412 L2205.62 138.412 L2194.23 166.745 Z\" fill=\"#000000\" fill-rule=\"evenodd\" fill-opacity=\"1\" /><path clip-path=\"url(#clip170)\" d=\"M2212.91 160.402 L2220.55 160.402 L2220.55 134.037 L2212.24 135.703 L2212.24 131.444 L2220.51 129.778 L2225.18 129.778 L2225.18 160.402 L2232.82 160.402 L2232.82 164.338 L2212.91 164.338 L2212.91 160.402 Z\" fill=\"#000000\" fill-rule=\"evenodd\" fill-opacity=\"1\" /><polyline clip-path=\"url(#clip170)\" style=\"stroke:#e26f46; stroke-linecap:round; stroke-linejoin:round; stroke-width:4; stroke-opacity:1; fill:none\" points=\"\n  2012.48,198.898 2156.4,198.898 \n  \"/>\n<path clip-path=\"url(#clip170)\" d=\"M2194.23 218.585 Q2192.43 223.215 2190.72 224.627 Q2189 226.039 2186.13 226.039 L2182.73 226.039 L2182.73 222.474 L2185.23 222.474 Q2186.99 222.474 2187.96 221.64 Q2188.93 220.807 2190.11 217.705 L2190.88 215.761 L2180.39 190.252 L2184.91 190.252 L2193.01 210.529 L2201.11 190.252 L2205.62 190.252 L2194.23 218.585 Z\" fill=\"#000000\" fill-rule=\"evenodd\" fill-opacity=\"1\" /><path clip-path=\"url(#clip170)\" d=\"M2216.13 212.242 L2232.45 212.242 L2232.45 216.178 L2210.51 216.178 L2210.51 212.242 Q2213.17 209.488 2217.75 204.858 Q2222.36 200.205 2223.54 198.863 Q2225.78 196.34 2226.66 194.604 Q2227.57 192.844 2227.57 191.155 Q2227.57 188.4 2225.62 186.664 Q2223.7 184.928 2220.6 184.928 Q2218.4 184.928 2215.95 185.692 Q2213.52 186.455 2210.74 188.006 L2210.74 183.284 Q2213.56 182.15 2216.02 181.571 Q2218.47 180.993 2220.51 180.993 Q2225.88 180.993 2229.07 183.678 Q2232.27 186.363 2232.27 190.854 Q2232.27 192.983 2231.46 194.905 Q2230.67 196.803 2228.56 199.395 Q2227.98 200.067 2224.88 203.284 Q2221.78 206.479 2216.13 212.242 Z\" fill=\"#000000\" fill-rule=\"evenodd\" fill-opacity=\"1\" /></svg>\n",
      "text/html": [
       "<?xml version=\"1.0\" encoding=\"utf-8\"?>\n",
       "<svg xmlns=\"http://www.w3.org/2000/svg\" xmlns:xlink=\"http://www.w3.org/1999/xlink\" width=\"600\" height=\"400\" viewBox=\"0 0 2400 1600\">\n",
       "<defs>\n",
       "  <clipPath id=\"clip220\">\n",
       "    <rect x=\"0\" y=\"0\" width=\"2400\" height=\"1600\"/>\n",
       "  </clipPath>\n",
       "</defs>\n",
       "<path clip-path=\"url(#clip220)\" d=\"\n",
       "M0 1600 L2400 1600 L2400 0 L0 0  Z\n",
       "  \" fill=\"#ffffff\" fill-rule=\"evenodd\" fill-opacity=\"1\"/>\n",
       "<defs>\n",
       "  <clipPath id=\"clip221\">\n",
       "    <rect x=\"480\" y=\"0\" width=\"1681\" height=\"1600\"/>\n",
       "  </clipPath>\n",
       "</defs>\n",
       "<path clip-path=\"url(#clip220)\" d=\"\n",
       "M193.936 1486.45 L2352.76 1486.45 L2352.76 47.2441 L193.936 47.2441  Z\n",
       "  \" fill=\"#ffffff\" fill-rule=\"evenodd\" fill-opacity=\"1\"/>\n",
       "<defs>\n",
       "  <clipPath id=\"clip222\">\n",
       "    <rect x=\"193\" y=\"47\" width=\"2160\" height=\"1440\"/>\n",
       "  </clipPath>\n",
       "</defs>\n",
       "<polyline clip-path=\"url(#clip222)\" style=\"stroke:#000000; stroke-linecap:round; stroke-linejoin:round; stroke-width:2; stroke-opacity:0.1; fill:none\" points=\"\n",
       "  255.035,1486.45 255.035,47.2441 \n",
       "  \"/>\n",
       "<polyline clip-path=\"url(#clip222)\" style=\"stroke:#000000; stroke-linecap:round; stroke-linejoin:round; stroke-width:2; stroke-opacity:0.1; fill:none\" points=\"\n",
       "  933.909,1486.45 933.909,47.2441 \n",
       "  \"/>\n",
       "<polyline clip-path=\"url(#clip222)\" style=\"stroke:#000000; stroke-linecap:round; stroke-linejoin:round; stroke-width:2; stroke-opacity:0.1; fill:none\" points=\"\n",
       "  1612.78,1486.45 1612.78,47.2441 \n",
       "  \"/>\n",
       "<polyline clip-path=\"url(#clip222)\" style=\"stroke:#000000; stroke-linecap:round; stroke-linejoin:round; stroke-width:2; stroke-opacity:0.1; fill:none\" points=\"\n",
       "  2291.66,1486.45 2291.66,47.2441 \n",
       "  \"/>\n",
       "<polyline clip-path=\"url(#clip220)\" style=\"stroke:#000000; stroke-linecap:round; stroke-linejoin:round; stroke-width:4; stroke-opacity:1; fill:none\" points=\"\n",
       "  193.936,1486.45 2352.76,1486.45 \n",
       "  \"/>\n",
       "<polyline clip-path=\"url(#clip220)\" style=\"stroke:#000000; stroke-linecap:round; stroke-linejoin:round; stroke-width:4; stroke-opacity:1; fill:none\" points=\"\n",
       "  255.035,1486.45 255.035,1467.55 \n",
       "  \"/>\n",
       "<polyline clip-path=\"url(#clip220)\" style=\"stroke:#000000; stroke-linecap:round; stroke-linejoin:round; stroke-width:4; stroke-opacity:1; fill:none\" points=\"\n",
       "  933.909,1486.45 933.909,1467.55 \n",
       "  \"/>\n",
       "<polyline clip-path=\"url(#clip220)\" style=\"stroke:#000000; stroke-linecap:round; stroke-linejoin:round; stroke-width:4; stroke-opacity:1; fill:none\" points=\"\n",
       "  1612.78,1486.45 1612.78,1467.55 \n",
       "  \"/>\n",
       "<polyline clip-path=\"url(#clip220)\" style=\"stroke:#000000; stroke-linecap:round; stroke-linejoin:round; stroke-width:4; stroke-opacity:1; fill:none\" points=\"\n",
       "  2291.66,1486.45 2291.66,1467.55 \n",
       "  \"/>\n",
       "<path clip-path=\"url(#clip220)\" d=\"M255.035 1517.37 Q251.424 1517.37 249.595 1520.93 Q247.789 1524.47 247.789 1531.6 Q247.789 1538.71 249.595 1542.27 Q251.424 1545.82 255.035 1545.82 Q258.669 1545.82 260.474 1542.27 Q262.303 1538.71 262.303 1531.6 Q262.303 1524.47 260.474 1520.93 Q258.669 1517.37 255.035 1517.37 M255.035 1513.66 Q260.845 1513.66 263.9 1518.27 Q266.979 1522.85 266.979 1531.6 Q266.979 1540.33 263.9 1544.94 Q260.845 1549.52 255.035 1549.52 Q249.225 1549.52 246.146 1544.94 Q243.09 1540.33 243.09 1531.6 Q243.09 1522.85 246.146 1518.27 Q249.225 1513.66 255.035 1513.66 Z\" fill=\"#000000\" fill-rule=\"evenodd\" fill-opacity=\"1\" /><path clip-path=\"url(#clip220)\" d=\"M908.596 1544.91 L916.235 1544.91 L916.235 1518.55 L907.925 1520.21 L907.925 1515.95 L916.189 1514.29 L920.865 1514.29 L920.865 1544.91 L928.504 1544.91 L928.504 1548.85 L908.596 1548.85 L908.596 1544.91 Z\" fill=\"#000000\" fill-rule=\"evenodd\" fill-opacity=\"1\" /><path clip-path=\"url(#clip220)\" d=\"M947.948 1517.37 Q944.337 1517.37 942.508 1520.93 Q940.703 1524.47 940.703 1531.6 Q940.703 1538.71 942.508 1542.27 Q944.337 1545.82 947.948 1545.82 Q951.582 1545.82 953.388 1542.27 Q955.217 1538.71 955.217 1531.6 Q955.217 1524.47 953.388 1520.93 Q951.582 1517.37 947.948 1517.37 M947.948 1513.66 Q953.758 1513.66 956.814 1518.27 Q959.893 1522.85 959.893 1531.6 Q959.893 1540.33 956.814 1544.94 Q953.758 1549.52 947.948 1549.52 Q942.138 1549.52 939.059 1544.94 Q936.004 1540.33 936.004 1531.6 Q936.004 1522.85 939.059 1518.27 Q942.138 1513.66 947.948 1513.66 Z\" fill=\"#000000\" fill-rule=\"evenodd\" fill-opacity=\"1\" /><path clip-path=\"url(#clip220)\" d=\"M1591.56 1544.91 L1607.88 1544.91 L1607.88 1548.85 L1585.93 1548.85 L1585.93 1544.91 Q1588.59 1542.16 1593.18 1537.53 Q1597.78 1532.88 1598.96 1531.53 Q1601.21 1529.01 1602.09 1527.27 Q1602.99 1525.51 1602.99 1523.82 Q1602.99 1521.07 1601.05 1519.33 Q1599.13 1517.6 1596.02 1517.6 Q1593.82 1517.6 1591.37 1518.36 Q1588.94 1519.13 1586.16 1520.68 L1586.16 1515.95 Q1588.99 1514.82 1591.44 1514.24 Q1593.89 1513.66 1595.93 1513.66 Q1601.3 1513.66 1604.5 1516.35 Q1607.69 1519.03 1607.69 1523.52 Q1607.69 1525.65 1606.88 1527.57 Q1606.09 1529.47 1603.99 1532.07 Q1603.41 1532.74 1600.31 1535.95 Q1597.2 1539.15 1591.56 1544.91 Z\" fill=\"#000000\" fill-rule=\"evenodd\" fill-opacity=\"1\" /><path clip-path=\"url(#clip220)\" d=\"M1627.69 1517.37 Q1624.08 1517.37 1622.25 1520.93 Q1620.45 1524.47 1620.45 1531.6 Q1620.45 1538.71 1622.25 1542.27 Q1624.08 1545.82 1627.69 1545.82 Q1631.32 1545.82 1633.13 1542.27 Q1634.96 1538.71 1634.96 1531.6 Q1634.96 1524.47 1633.13 1520.93 Q1631.32 1517.37 1627.69 1517.37 M1627.69 1513.66 Q1633.5 1513.66 1636.56 1518.27 Q1639.63 1522.85 1639.63 1531.6 Q1639.63 1540.33 1636.56 1544.94 Q1633.5 1549.52 1627.69 1549.52 Q1621.88 1549.52 1618.8 1544.94 Q1615.75 1540.33 1615.75 1531.6 Q1615.75 1522.85 1618.8 1518.27 Q1621.88 1513.66 1627.69 1513.66 Z\" fill=\"#000000\" fill-rule=\"evenodd\" fill-opacity=\"1\" /><path clip-path=\"url(#clip220)\" d=\"M2280.5 1530.21 Q2283.86 1530.93 2285.73 1533.2 Q2287.63 1535.47 2287.63 1538.8 Q2287.63 1543.92 2284.11 1546.72 Q2280.59 1549.52 2274.11 1549.52 Q2271.94 1549.52 2269.62 1549.08 Q2267.33 1548.66 2264.87 1547.81 L2264.87 1543.29 Q2266.82 1544.43 2269.13 1545.01 Q2271.45 1545.58 2273.97 1545.58 Q2278.37 1545.58 2280.66 1543.85 Q2282.98 1542.11 2282.98 1538.8 Q2282.98 1535.75 2280.82 1534.03 Q2278.69 1532.3 2274.87 1532.3 L2270.85 1532.3 L2270.85 1528.45 L2275.06 1528.45 Q2278.51 1528.45 2280.34 1527.09 Q2282.17 1525.7 2282.17 1523.11 Q2282.17 1520.45 2280.27 1519.03 Q2278.39 1517.6 2274.87 1517.6 Q2272.95 1517.6 2270.75 1518.01 Q2268.56 1518.43 2265.92 1519.31 L2265.92 1515.14 Q2268.58 1514.4 2270.89 1514.03 Q2273.23 1513.66 2275.29 1513.66 Q2280.62 1513.66 2283.72 1516.09 Q2286.82 1518.5 2286.82 1522.62 Q2286.82 1525.49 2285.18 1527.48 Q2283.53 1529.45 2280.5 1530.21 Z\" fill=\"#000000\" fill-rule=\"evenodd\" fill-opacity=\"1\" /><path clip-path=\"url(#clip220)\" d=\"M2306.5 1517.37 Q2302.88 1517.37 2301.06 1520.93 Q2299.25 1524.47 2299.25 1531.6 Q2299.25 1538.71 2301.06 1542.27 Q2302.88 1545.82 2306.5 1545.82 Q2310.13 1545.82 2311.93 1542.27 Q2313.76 1538.71 2313.76 1531.6 Q2313.76 1524.47 2311.93 1520.93 Q2310.13 1517.37 2306.5 1517.37 M2306.5 1513.66 Q2312.31 1513.66 2315.36 1518.27 Q2318.44 1522.85 2318.44 1531.6 Q2318.44 1540.33 2315.36 1544.94 Q2312.31 1549.52 2306.5 1549.52 Q2300.68 1549.52 2297.61 1544.94 Q2294.55 1540.33 2294.55 1531.6 Q2294.55 1522.85 2297.61 1518.27 Q2300.68 1513.66 2306.5 1513.66 Z\" fill=\"#000000\" fill-rule=\"evenodd\" fill-opacity=\"1\" /><polyline clip-path=\"url(#clip222)\" style=\"stroke:#000000; stroke-linecap:round; stroke-linejoin:round; stroke-width:2; stroke-opacity:0.1; fill:none\" points=\"\n",
       "  193.936,1269.47 2352.76,1269.47 \n",
       "  \"/>\n",
       "<polyline clip-path=\"url(#clip222)\" style=\"stroke:#000000; stroke-linecap:round; stroke-linejoin:round; stroke-width:2; stroke-opacity:0.1; fill:none\" points=\"\n",
       "  193.936,1018.31 2352.76,1018.31 \n",
       "  \"/>\n",
       "<polyline clip-path=\"url(#clip222)\" style=\"stroke:#000000; stroke-linecap:round; stroke-linejoin:round; stroke-width:2; stroke-opacity:0.1; fill:none\" points=\"\n",
       "  193.936,767.158 2352.76,767.158 \n",
       "  \"/>\n",
       "<polyline clip-path=\"url(#clip222)\" style=\"stroke:#000000; stroke-linecap:round; stroke-linejoin:round; stroke-width:2; stroke-opacity:0.1; fill:none\" points=\"\n",
       "  193.936,516.002 2352.76,516.002 \n",
       "  \"/>\n",
       "<polyline clip-path=\"url(#clip222)\" style=\"stroke:#000000; stroke-linecap:round; stroke-linejoin:round; stroke-width:2; stroke-opacity:0.1; fill:none\" points=\"\n",
       "  193.936,264.847 2352.76,264.847 \n",
       "  \"/>\n",
       "<polyline clip-path=\"url(#clip220)\" style=\"stroke:#000000; stroke-linecap:round; stroke-linejoin:round; stroke-width:4; stroke-opacity:1; fill:none\" points=\"\n",
       "  193.936,1486.45 193.936,47.2441 \n",
       "  \"/>\n",
       "<polyline clip-path=\"url(#clip220)\" style=\"stroke:#000000; stroke-linecap:round; stroke-linejoin:round; stroke-width:4; stroke-opacity:1; fill:none\" points=\"\n",
       "  193.936,1269.47 212.834,1269.47 \n",
       "  \"/>\n",
       "<polyline clip-path=\"url(#clip220)\" style=\"stroke:#000000; stroke-linecap:round; stroke-linejoin:round; stroke-width:4; stroke-opacity:1; fill:none\" points=\"\n",
       "  193.936,1018.31 212.834,1018.31 \n",
       "  \"/>\n",
       "<polyline clip-path=\"url(#clip220)\" style=\"stroke:#000000; stroke-linecap:round; stroke-linejoin:round; stroke-width:4; stroke-opacity:1; fill:none\" points=\"\n",
       "  193.936,767.158 212.834,767.158 \n",
       "  \"/>\n",
       "<polyline clip-path=\"url(#clip220)\" style=\"stroke:#000000; stroke-linecap:round; stroke-linejoin:round; stroke-width:4; stroke-opacity:1; fill:none\" points=\"\n",
       "  193.936,516.002 212.834,516.002 \n",
       "  \"/>\n",
       "<polyline clip-path=\"url(#clip220)\" style=\"stroke:#000000; stroke-linecap:round; stroke-linejoin:round; stroke-width:4; stroke-opacity:1; fill:none\" points=\"\n",
       "  193.936,264.847 212.834,264.847 \n",
       "  \"/>\n",
       "<path clip-path=\"url(#clip220)\" d=\"M50.9921 1269.92 L80.6679 1269.92 L80.6679 1273.86 L50.9921 1273.86 L50.9921 1269.92 Z\" fill=\"#000000\" fill-rule=\"evenodd\" fill-opacity=\"1\" /><path clip-path=\"url(#clip220)\" d=\"M91.5706 1282.81 L99.2095 1282.81 L99.2095 1256.45 L90.8993 1258.12 L90.8993 1253.86 L99.1632 1252.19 L103.839 1252.19 L103.839 1282.81 L111.478 1282.81 L111.478 1286.75 L91.5706 1286.75 L91.5706 1282.81 Z\" fill=\"#000000\" fill-rule=\"evenodd\" fill-opacity=\"1\" /><path clip-path=\"url(#clip220)\" d=\"M120.922 1280.87 L125.807 1280.87 L125.807 1286.75 L120.922 1286.75 L120.922 1280.87 Z\" fill=\"#000000\" fill-rule=\"evenodd\" fill-opacity=\"1\" /><path clip-path=\"url(#clip220)\" d=\"M145.992 1255.27 Q142.381 1255.27 140.552 1258.83 Q138.746 1262.37 138.746 1269.5 Q138.746 1276.61 140.552 1280.18 Q142.381 1283.72 145.992 1283.72 Q149.626 1283.72 151.431 1280.18 Q153.26 1276.61 153.26 1269.5 Q153.26 1262.37 151.431 1258.83 Q149.626 1255.27 145.992 1255.27 M145.992 1251.56 Q151.802 1251.56 154.857 1256.17 Q157.936 1260.75 157.936 1269.5 Q157.936 1278.23 154.857 1282.84 Q151.802 1287.42 145.992 1287.42 Q140.181 1287.42 137.103 1282.84 Q134.047 1278.23 134.047 1269.5 Q134.047 1260.75 137.103 1256.17 Q140.181 1251.56 145.992 1251.56 Z\" fill=\"#000000\" fill-rule=\"evenodd\" fill-opacity=\"1\" /><path clip-path=\"url(#clip220)\" d=\"M51.9875 1018.77 L81.6633 1018.77 L81.6633 1022.7 L51.9875 1022.7 L51.9875 1018.77 Z\" fill=\"#000000\" fill-rule=\"evenodd\" fill-opacity=\"1\" /><path clip-path=\"url(#clip220)\" d=\"M101.756 1004.11 Q98.1447 1004.11 96.316 1007.68 Q94.5104 1011.22 94.5104 1018.35 Q94.5104 1025.45 96.316 1029.02 Q98.1447 1032.56 101.756 1032.56 Q105.39 1032.56 107.196 1029.02 Q109.024 1025.45 109.024 1018.35 Q109.024 1011.22 107.196 1007.68 Q105.39 1004.11 101.756 1004.11 M101.756 1000.41 Q107.566 1000.41 110.621 1005.02 Q113.7 1009.6 113.7 1018.35 Q113.7 1027.08 110.621 1031.68 Q107.566 1036.27 101.756 1036.27 Q95.9456 1036.27 92.8669 1031.68 Q89.8114 1027.08 89.8114 1018.35 Q89.8114 1009.6 92.8669 1005.02 Q95.9456 1000.41 101.756 1000.41 Z\" fill=\"#000000\" fill-rule=\"evenodd\" fill-opacity=\"1\" /><path clip-path=\"url(#clip220)\" d=\"M121.918 1029.71 L126.802 1029.71 L126.802 1035.59 L121.918 1035.59 L121.918 1029.71 Z\" fill=\"#000000\" fill-rule=\"evenodd\" fill-opacity=\"1\" /><path clip-path=\"url(#clip220)\" d=\"M137.033 1001.03 L155.39 1001.03 L155.39 1004.97 L141.316 1004.97 L141.316 1013.44 Q142.334 1013.09 143.353 1012.93 Q144.371 1012.75 145.39 1012.75 Q151.177 1012.75 154.556 1015.92 Q157.936 1019.09 157.936 1024.51 Q157.936 1030.08 154.464 1033.19 Q150.992 1036.27 144.672 1036.27 Q142.496 1036.27 140.228 1035.89 Q137.982 1035.52 135.575 1034.78 L135.575 1030.08 Q137.658 1031.22 139.881 1031.77 Q142.103 1032.33 144.58 1032.33 Q148.584 1032.33 150.922 1030.22 Q153.26 1028.12 153.26 1024.51 Q153.26 1020.89 150.922 1018.79 Q148.584 1016.68 144.58 1016.68 Q142.705 1016.68 140.83 1017.1 Q138.978 1017.52 137.033 1018.39 L137.033 1001.03 Z\" fill=\"#000000\" fill-rule=\"evenodd\" fill-opacity=\"1\" /><path clip-path=\"url(#clip220)\" d=\"M100.76 752.957 Q97.1493 752.957 95.3206 756.522 Q93.515 760.063 93.515 767.193 Q93.515 774.299 95.3206 777.864 Q97.1493 781.406 100.76 781.406 Q104.395 781.406 106.2 777.864 Q108.029 774.299 108.029 767.193 Q108.029 760.063 106.2 756.522 Q104.395 752.957 100.76 752.957 M100.76 749.253 Q106.571 749.253 109.626 753.86 Q112.705 758.443 112.705 767.193 Q112.705 775.92 109.626 780.526 Q106.571 785.109 100.76 785.109 Q94.9502 785.109 91.8715 780.526 Q88.816 775.92 88.816 767.193 Q88.816 758.443 91.8715 753.86 Q94.9502 749.253 100.76 749.253 Z\" fill=\"#000000\" fill-rule=\"evenodd\" fill-opacity=\"1\" /><path clip-path=\"url(#clip220)\" d=\"M120.922 778.558 L125.807 778.558 L125.807 784.438 L120.922 784.438 L120.922 778.558 Z\" fill=\"#000000\" fill-rule=\"evenodd\" fill-opacity=\"1\" /><path clip-path=\"url(#clip220)\" d=\"M145.992 752.957 Q142.381 752.957 140.552 756.522 Q138.746 760.063 138.746 767.193 Q138.746 774.299 140.552 777.864 Q142.381 781.406 145.992 781.406 Q149.626 781.406 151.431 777.864 Q153.26 774.299 153.26 767.193 Q153.26 760.063 151.431 756.522 Q149.626 752.957 145.992 752.957 M145.992 749.253 Q151.802 749.253 154.857 753.86 Q157.936 758.443 157.936 767.193 Q157.936 775.92 154.857 780.526 Q151.802 785.109 145.992 785.109 Q140.181 785.109 137.103 780.526 Q134.047 775.92 134.047 767.193 Q134.047 758.443 137.103 753.86 Q140.181 749.253 145.992 749.253 Z\" fill=\"#000000\" fill-rule=\"evenodd\" fill-opacity=\"1\" /><path clip-path=\"url(#clip220)\" d=\"M101.756 501.801 Q98.1447 501.801 96.316 505.366 Q94.5104 508.908 94.5104 516.037 Q94.5104 523.144 96.316 526.708 Q98.1447 530.25 101.756 530.25 Q105.39 530.25 107.196 526.708 Q109.024 523.144 109.024 516.037 Q109.024 508.908 107.196 505.366 Q105.39 501.801 101.756 501.801 M101.756 498.097 Q107.566 498.097 110.621 502.704 Q113.7 507.287 113.7 516.037 Q113.7 524.764 110.621 529.37 Q107.566 533.954 101.756 533.954 Q95.9456 533.954 92.8669 529.37 Q89.8114 524.764 89.8114 516.037 Q89.8114 507.287 92.8669 502.704 Q95.9456 498.097 101.756 498.097 Z\" fill=\"#000000\" fill-rule=\"evenodd\" fill-opacity=\"1\" /><path clip-path=\"url(#clip220)\" d=\"M121.918 527.403 L126.802 527.403 L126.802 533.282 L121.918 533.282 L121.918 527.403 Z\" fill=\"#000000\" fill-rule=\"evenodd\" fill-opacity=\"1\" /><path clip-path=\"url(#clip220)\" d=\"M137.033 498.722 L155.39 498.722 L155.39 502.658 L141.316 502.658 L141.316 511.13 Q142.334 510.783 143.353 510.62 Q144.371 510.435 145.39 510.435 Q151.177 510.435 154.556 513.607 Q157.936 516.778 157.936 522.194 Q157.936 527.773 154.464 530.875 Q150.992 533.954 144.672 533.954 Q142.496 533.954 140.228 533.583 Q137.982 533.213 135.575 532.472 L135.575 527.773 Q137.658 528.907 139.881 529.463 Q142.103 530.019 144.58 530.019 Q148.584 530.019 150.922 527.912 Q153.26 525.806 153.26 522.194 Q153.26 518.583 150.922 516.477 Q148.584 514.37 144.58 514.37 Q142.705 514.37 140.83 514.787 Q138.978 515.204 137.033 516.083 L137.033 498.722 Z\" fill=\"#000000\" fill-rule=\"evenodd\" fill-opacity=\"1\" /><path clip-path=\"url(#clip220)\" d=\"M91.5706 278.192 L99.2095 278.192 L99.2095 251.826 L90.8993 253.493 L90.8993 249.233 L99.1632 247.567 L103.839 247.567 L103.839 278.192 L111.478 278.192 L111.478 282.127 L91.5706 282.127 L91.5706 278.192 Z\" fill=\"#000000\" fill-rule=\"evenodd\" fill-opacity=\"1\" /><path clip-path=\"url(#clip220)\" d=\"M120.922 276.247 L125.807 276.247 L125.807 282.127 L120.922 282.127 L120.922 276.247 Z\" fill=\"#000000\" fill-rule=\"evenodd\" fill-opacity=\"1\" /><path clip-path=\"url(#clip220)\" d=\"M145.992 250.645 Q142.381 250.645 140.552 254.21 Q138.746 257.752 138.746 264.881 Q138.746 271.988 140.552 275.553 Q142.381 279.094 145.992 279.094 Q149.626 279.094 151.431 275.553 Q153.26 271.988 153.26 264.881 Q153.26 257.752 151.431 254.21 Q149.626 250.645 145.992 250.645 M145.992 246.942 Q151.802 246.942 154.857 251.548 Q157.936 256.131 157.936 264.881 Q157.936 273.608 154.857 278.215 Q151.802 282.798 145.992 282.798 Q140.181 282.798 137.103 278.215 Q134.047 273.608 134.047 264.881 Q134.047 256.131 137.103 251.548 Q140.181 246.942 145.992 246.942 Z\" fill=\"#000000\" fill-rule=\"evenodd\" fill-opacity=\"1\" /><polyline clip-path=\"url(#clip222)\" style=\"stroke:#009af9; stroke-linecap:round; stroke-linejoin:round; stroke-width:4; stroke-opacity:1; fill:none\" points=\"\n",
       "  255.035,767.158 259.116,767.158 263.197,767.158 267.279,767.158 271.36,767.158 275.442,767.158 279.523,767.158 283.605,767.158 287.686,767.158 291.767,767.158 \n",
       "  295.849,767.158 299.93,767.158 304.012,767.158 308.093,767.158 312.174,767.158 316.256,767.158 320.337,767.158 324.419,767.158 328.5,767.158 332.581,767.158 \n",
       "  336.663,767.158 340.744,767.158 344.826,767.158 348.907,767.158 352.988,767.158 357.07,767.158 361.151,767.158 365.233,767.158 369.314,767.158 373.396,767.158 \n",
       "  377.477,767.158 381.558,767.158 385.64,767.158 389.721,767.158 393.803,767.158 397.884,767.158 401.965,767.158 406.047,767.158 410.128,767.158 414.21,767.158 \n",
       "  418.291,767.158 422.372,767.158 426.454,767.158 430.535,767.158 434.617,767.158 438.698,767.158 442.779,767.158 446.861,767.158 450.942,767.158 455.024,767.158 \n",
       "  459.105,767.158 463.186,767.158 467.268,767.158 471.349,767.158 475.431,767.158 479.512,767.158 483.594,767.158 487.675,767.158 491.756,767.158 495.838,767.158 \n",
       "  499.919,767.158 504.001,767.158 508.082,767.158 512.163,767.158 516.245,767.158 520.326,767.158 524.408,767.158 528.489,767.158 532.57,767.158 536.652,767.158 \n",
       "  540.733,767.158 544.815,767.158 548.896,767.158 552.977,767.158 557.059,767.158 561.14,767.158 565.222,767.158 569.303,767.158 573.384,767.158 577.466,767.158 \n",
       "  581.547,767.158 585.629,767.158 589.71,767.158 593.792,767.158 597.873,767.158 601.954,767.158 606.036,767.158 610.117,767.158 614.199,767.158 618.28,767.158 \n",
       "  622.361,767.158 626.443,767.158 630.524,767.158 634.606,767.158 638.687,767.158 642.768,767.158 646.85,767.158 650.931,767.158 655.013,767.158 659.094,767.158 \n",
       "  663.175,767.158 667.257,767.158 671.338,767.158 675.42,767.158 679.501,767.158 683.583,767.158 687.664,767.158 691.745,767.158 695.827,767.158 699.908,767.158 \n",
       "  703.99,767.158 708.071,767.158 712.152,767.158 716.234,767.158 720.315,767.158 724.397,767.158 728.478,767.158 732.559,767.158 736.641,767.158 740.722,767.158 \n",
       "  744.804,767.158 748.885,767.158 752.966,767.158 757.048,767.158 761.129,767.158 765.211,767.158 769.292,767.158 773.373,767.158 777.455,767.158 781.536,767.158 \n",
       "  785.618,767.158 789.699,767.158 793.781,767.158 797.862,767.158 801.943,767.158 806.025,767.158 810.106,767.158 814.188,767.158 818.269,767.158 822.35,767.158 \n",
       "  826.432,767.158 830.513,767.158 834.595,767.158 838.676,767.158 842.757,767.158 846.839,767.158 850.92,767.158 855.002,767.158 859.083,767.158 863.164,767.158 \n",
       "  867.246,767.158 871.327,767.158 875.409,767.158 879.49,767.158 883.571,767.158 887.653,767.158 891.734,767.158 895.816,767.158 899.897,767.158 903.979,767.158 \n",
       "  908.06,767.158 912.141,767.158 916.223,767.158 920.304,767.158 924.386,767.158 928.467,767.158 932.548,767.158 936.63,765.559 940.711,761.063 944.793,755.12 \n",
       "  948.874,749.161 952.955,744.753 957.037,743.482 961.118,746.827 965.2,756.041 969.281,772.039 973.362,795.311 977.444,825.857 981.525,863.151 985.607,906.14 \n",
       "  989.688,953.271 993.77,1002.56 997.851,1051.66 1001.93,1098.03 1006.01,1139 1010.1,1171.96 1014.18,1194.51 1018.26,1204.56 1022.34,1200.52 1026.42,1181.33 \n",
       "  1030.5,1146.62 1034.58,1096.69 1038.66,1032.56 1042.75,955.904 1046.83,869.043 1050.91,774.8 1054.99,676.4 1059.07,577.314 1063.15,481.106 1067.23,391.262 \n",
       "  1071.32,311.653 1075.4,243.33 1079.48,186.11 1083.56,141.205 1087.64,109.566 1091.72,91.8655 1095.8,88.4775 1099.89,99.474 1103.97,124.622 1108.05,163.388 \n",
       "  1112.13,214.952 1116.21,278.219 1120.29,351.849 1124.37,434.282 1128.46,523.77 1132.54,618.416 1136.62,716.215 1140.7,815.094 1144.78,912.957 1148.86,1007.73 \n",
       "  1152.94,1097.4 1157.03,1180.08 1161.11,1254 1165.19,1317.6 1169.27,1369.54 1173.35,1408.71 1177.43,1434.28 1181.51,1445.72 1185.6,1442.77 1189.68,1425.5 \n",
       "  1193.76,1394.28 1197.84,1349.76 1201.92,1292.9 1206,1224.89 1210.08,1147.19 1214.17,1061.43 1218.25,969.428 1222.33,873.143 1226.41,774.611 1230.49,675.921 \n",
       "  1234.57,579.165 1238.65,486.394 1242.74,399.573 1246.82,320.543 1250.9,250.979 1254.98,192.356 1259.06,145.915 1263.14,112.642 1267.22,93.2404 1271.31,88.1228 \n",
       "  1275.39,97.3973 1279.47,120.867 1283.55,158.035 1287.63,208.114 1291.71,270.041 1295.79,342.504 1299.88,423.968 1303.96,512.706 1308.04,606.837 1312.12,704.366 \n",
       "  1316.2,803.226 1320.28,901.321 1324.36,996.573 1328.44,1086.96 1332.53,1170.57 1336.61,1245.63 1340.69,1310.55 1344.77,1363.96 1348.85,1404.71 1352.93,1431.95 \n",
       "  1357.01,1445.1 1361.1,1443.88 1365.18,1428.32 1369.26,1398.75 1373.34,1355.78 1377.42,1300.35 1381.5,1233.61 1385.58,1156.98 1389.67,1072.1 1393.75,980.748 \n",
       "  1397.83,884.871 1401.91,786.5 1405.99,687.718 1410.07,590.62 1414.15,497.264 1418.24,409.628 1422.32,329.57 1426.4,258.786 1430.48,198.778 1434.56,150.816 \n",
       "  1438.64,115.917 1442.72,94.8218 1446.81,87.9763 1450.89,95.5259 1454.97,117.311 1459.05,152.869 1463.13,201.447 1467.21,262.015 1471.29,333.29 1475.38,413.76 \n",
       "  1479.46,503.404 1483.54,600.395 1487.62,700.472 1491.7,800.056 1495.78,895.636 1499.86,983.923 1503.95,1062.01 1508.03,1127.49 1512.11,1178.58 1516.19,1214.14 \n",
       "  1520.27,1233.79 1524.35,1237.82 1528.43,1227.19 1532.52,1203.49 1536.6,1168.76 1540.68,1125.44 1544.76,1076.18 1548.84,1023.71 1552.92,970.7 1557,919.616 \n",
       "  1561.09,872.586 1565.17,831.319 1569.25,797.026 1573.33,770.382 1577.41,751.525 1581.49,740.081 1585.57,735.224 1589.66,735.756 1593.74,740.221 1597.82,747.014 \n",
       "  1601.9,754.513 1605.98,761.201 1610.06,765.779 1614.14,767.158 1618.22,767.158 1622.31,767.158 1626.39,767.158 1630.47,767.158 1634.55,767.158 1638.63,767.158 \n",
       "  1642.71,767.158 1646.79,767.158 1650.88,767.158 1654.96,767.158 1659.04,767.158 1663.12,767.158 1667.2,767.158 1671.28,767.158 1675.36,767.158 1679.45,767.158 \n",
       "  1683.53,767.158 1687.61,767.158 1691.69,767.158 1695.77,767.158 1699.85,767.158 1703.93,767.158 1708.02,767.158 1712.1,767.158 1716.18,767.158 1720.26,767.158 \n",
       "  1724.34,767.158 1728.42,767.158 1732.5,767.158 1736.59,767.158 1740.67,767.158 1744.75,767.158 1748.83,767.158 1752.91,767.158 1756.99,767.158 1761.07,767.158 \n",
       "  1765.16,767.158 1769.24,767.158 1773.32,767.158 1777.4,767.158 1781.48,767.158 1785.56,767.158 1789.64,767.158 1793.73,767.158 1797.81,767.158 1801.89,767.158 \n",
       "  1805.97,767.158 1810.05,767.158 1814.13,767.158 1818.21,767.158 1822.3,767.158 1826.38,767.158 1830.46,767.158 1834.54,767.158 1838.62,767.158 1842.7,767.158 \n",
       "  1846.78,767.158 1850.87,767.158 1854.95,767.158 1859.03,767.158 1863.11,767.158 1867.19,767.158 1871.27,767.158 1875.35,767.158 1879.44,767.158 1883.52,767.158 \n",
       "  1887.6,767.158 1891.68,767.158 1895.76,767.158 1899.84,767.158 1903.92,767.158 1908,767.158 1912.09,767.158 1916.17,767.158 1920.25,767.158 1924.33,767.158 \n",
       "  1928.41,767.158 1932.49,767.158 1936.57,767.158 1940.66,767.158 1944.74,767.158 1948.82,767.158 1952.9,767.158 1956.98,767.158 1961.06,767.158 1965.14,767.158 \n",
       "  1969.23,767.158 1973.31,767.158 1977.39,767.158 1981.47,767.158 1985.55,767.158 1989.63,767.158 1993.71,767.158 1997.8,767.158 2001.88,767.158 2005.96,767.158 \n",
       "  2010.04,767.158 2014.12,767.158 2018.2,767.158 2022.28,767.158 2026.37,767.158 2030.45,767.158 2034.53,767.158 2038.61,767.158 2042.69,767.158 2046.77,767.158 \n",
       "  2050.85,767.158 2054.94,767.158 2059.02,767.158 2063.1,767.158 2067.18,767.158 2071.26,767.158 2075.34,767.158 2079.42,767.158 2083.51,767.158 2087.59,767.158 \n",
       "  2091.67,767.158 2095.75,767.158 2099.83,767.158 2103.91,767.158 2107.99,767.158 2112.08,767.158 2116.16,767.158 2120.24,767.158 2124.32,767.158 2128.4,767.158 \n",
       "  2132.48,767.158 2136.56,767.158 2140.65,767.158 2144.73,767.158 2148.81,767.158 2152.89,767.158 2156.97,767.158 2161.05,767.158 2165.13,767.158 2169.21,767.158 \n",
       "  2173.3,767.158 2177.38,767.158 2181.46,767.158 2185.54,767.158 2189.62,767.158 2193.7,767.158 2197.78,767.158 2201.87,767.158 2205.95,767.158 2210.03,767.158 \n",
       "  2214.11,767.158 2218.19,767.158 2222.27,767.158 2226.35,767.158 2230.44,767.158 2234.52,767.158 2238.6,767.158 2242.68,767.158 2246.76,767.158 2250.84,767.158 \n",
       "  2254.92,767.158 2259.01,767.158 2263.09,767.158 2267.17,767.158 2271.25,767.158 2275.33,767.158 2279.41,767.158 2283.49,767.158 2287.58,767.158 2291.66,767.158 \n",
       "  \n",
       "  \"/>\n",
       "<polyline clip-path=\"url(#clip222)\" style=\"stroke:#e26f46; stroke-linecap:round; stroke-linejoin:round; stroke-width:4; stroke-opacity:1; fill:none\" points=\"\n",
       "  255.035,767.158 259.116,767.158 263.197,767.158 267.279,767.158 271.36,767.158 275.442,767.158 279.523,767.158 283.605,767.158 287.686,767.158 291.767,767.158 \n",
       "  295.849,767.158 299.93,767.158 304.012,767.158 308.093,767.158 312.174,767.158 316.256,767.158 320.337,767.158 324.419,767.158 328.5,767.158 332.581,767.158 \n",
       "  336.663,767.158 340.744,767.158 344.826,767.158 348.907,767.158 352.988,767.158 357.07,767.158 361.151,767.158 365.233,767.158 369.314,767.158 373.396,767.158 \n",
       "  377.477,767.158 381.558,767.158 385.64,767.158 389.721,767.158 393.803,767.158 397.884,767.158 401.965,767.158 406.047,767.158 410.128,767.158 414.21,767.158 \n",
       "  418.291,767.158 422.372,767.158 426.454,767.158 430.535,767.158 434.617,767.158 438.698,767.158 442.779,767.158 446.861,767.158 450.942,767.158 455.024,767.158 \n",
       "  459.105,767.158 463.186,767.158 467.268,767.158 471.349,767.158 475.431,767.158 479.512,767.158 483.594,767.158 487.675,767.158 491.756,767.158 495.838,767.158 \n",
       "  499.919,767.158 504.001,767.158 508.082,767.158 512.163,767.158 516.245,767.158 520.326,767.158 524.408,767.158 528.489,767.158 532.57,767.158 536.652,767.158 \n",
       "  540.733,767.158 544.815,767.158 548.896,767.158 552.977,767.158 557.059,767.158 561.14,767.158 565.222,767.158 569.303,767.158 573.384,767.158 577.466,767.158 \n",
       "  581.547,767.158 585.629,767.158 589.71,767.158 593.792,767.158 597.873,767.158 601.954,767.158 606.036,767.158 610.117,767.158 614.199,767.158 618.28,767.158 \n",
       "  622.361,767.158 626.443,767.158 630.524,767.158 634.606,767.158 638.687,767.158 642.768,767.158 646.85,767.158 650.931,767.158 655.013,767.158 659.094,767.158 \n",
       "  663.175,767.158 667.257,767.158 671.338,767.158 675.42,767.158 679.501,767.158 683.583,767.158 687.664,767.158 691.745,767.158 695.827,767.158 699.908,767.158 \n",
       "  703.99,767.158 708.071,767.158 712.152,767.158 716.234,767.158 720.315,767.158 724.397,767.158 728.478,767.158 732.559,767.158 736.641,767.158 740.722,767.158 \n",
       "  744.804,767.158 748.885,767.158 752.966,767.158 757.048,767.158 761.129,767.158 765.211,767.158 769.292,767.158 773.373,767.158 777.455,767.158 781.536,767.158 \n",
       "  785.618,767.158 789.699,767.158 793.781,767.158 797.862,767.158 801.943,767.158 806.025,767.158 810.106,767.158 814.188,767.158 818.269,767.158 822.35,767.158 \n",
       "  826.432,767.158 830.513,767.158 834.595,767.158 838.676,767.158 842.757,767.158 846.839,767.158 850.92,767.158 855.002,767.158 859.083,767.158 863.164,767.158 \n",
       "  867.246,767.158 871.327,767.158 875.409,767.158 879.49,767.158 883.571,767.158 887.653,767.158 891.734,767.158 895.816,767.158 899.897,767.158 903.979,767.158 \n",
       "  908.06,767.158 912.141,767.158 916.223,767.158 920.304,767.158 924.386,767.158 928.467,767.158 932.548,767.158 936.63,766.499 940.711,763.146 944.793,757.4 \n",
       "  948.874,750.086 952.955,742.338 957.037,735.51 961.118,731.081 965.2,730.544 969.281,735.287 973.362,746.488 977.444,765.007 981.525,791.304 985.607,825.374 \n",
       "  989.688,866.71 993.77,914.298 997.851,966.64 1001.93,1021.81 1006.01,1077.52 1010.1,1131.26 1014.18,1180.39 1018.26,1222.28 1022.34,1254.47 1026.42,1274.77 \n",
       "  1030.5,1281.42 1034.58,1273.18 1038.66,1249.41 1042.75,1210.13 1046.83,1156.02 1050.91,1088.44 1054.99,1009.34 1059.07,921.217 1063.15,826.98 1067.23,729.834 \n",
       "  1071.32,633.079 1075.4,539.206 1079.48,450.181 1083.56,367.898 1087.64,294.107 1091.72,230.377 1095.8,178.063 1099.89,138.279 1103.97,111.87 1108.05,99.3984 \n",
       "  1112.13,101.129 1116.21,117.026 1120.29,146.749 1124.37,189.668 1128.46,244.87 1132.54,311.18 1136.62,387.188 1140.7,471.277 1144.78,561.66 1148.86,656.413 \n",
       "  1152.94,753.522 1157.03,850.92 1161.11,946.537 1165.19,1038.34 1169.27,1124.37 1173.35,1202.81 1177.43,1271.98 1181.51,1330.42 1185.6,1376.87 1189.68,1410.36 \n",
       "  1193.76,1430.16 1197.84,1435.87 1201.92,1427.35 1206,1404.79 1210.08,1368.67 1214.17,1319.76 1218.25,1259.09 1222.33,1187.96 1226.41,1107.88 1230.49,1020.55 \n",
       "  1234.57,927.839 1238.65,831.706 1242.74,734.2 1246.82,637.394 1250.9,543.349 1254.98,454.064 1259.06,371.438 1263.14,297.229 1267.22,233.014 1271.31,180.16 \n",
       "  1275.39,139.79 1279.47,112.764 1283.55,99.6559 1287.63,100.745 1291.71,116.007 1295.79,145.119 1299.88,187.461 1303.96,242.132 1308.04,307.97 1312.12,383.574 \n",
       "  1316.2,467.336 1320.28,557.476 1324.36,652.075 1328.44,749.121 1332.53,846.551 1336.61,942.293 1340.69,1034.31 1344.77,1120.64 1348.85,1199.46 1352.93,1269.08 \n",
       "  1357.01,1328.03 1361.1,1375.05 1365.18,1409.14 1369.26,1429.57 1373.34,1435.92 1377.42,1428.04 1381.5,1406.11 1385.58,1370.58 1389.67,1322.22 1393.75,1262.06 \n",
       "  1397.83,1191.37 1401.91,1111.66 1405.99,1024.62 1410.07,932.108 1414.15,836.086 1418.24,738.597 1422.32,641.715 1426.4,547.502 1430.48,457.961 1434.56,374.995 \n",
       "  1438.64,300.371 1442.72,235.674 1446.81,182.282 1450.89,141.329 1454.97,113.686 1459.05,99.9423 1463.13,100.389 1467.21,115.017 1471.29,143.516 1475.38,185.278 \n",
       "  1479.46,239.84 1483.54,307.414 1487.62,385.783 1491.7,472.101 1495.78,563.232 1499.86,655.898 1503.95,746.831 1508.03,832.925 1512.11,911.378 1516.19,979.808 \n",
       "  1520.27,1036.36 1524.35,1079.77 1528.43,1109.41 1532.52,1125.29 1536.6,1128.01 1540.68,1118.74 1544.76,1099.1 1548.84,1071.06 1552.92,1036.85 1557,998.759 \n",
       "  1561.09,959.072 1565.17,919.909 1569.25,883.127 1573.33,850.229 1577.41,822.297 1581.49,799.959 1585.57,783.379 1589.66,772.282 1593.74,766.004 1597.82,763.564 \n",
       "  1601.9,763.76 1605.98,765.271 1610.06,766.773 1614.14,767.158 1618.22,767.158 1622.31,767.158 1626.39,767.158 1630.47,767.158 1634.55,767.158 1638.63,767.158 \n",
       "  1642.71,767.158 1646.79,767.158 1650.88,767.158 1654.96,767.158 1659.04,767.158 1663.12,767.158 1667.2,767.158 1671.28,767.158 1675.36,767.158 1679.45,767.158 \n",
       "  1683.53,767.158 1687.61,767.158 1691.69,767.158 1695.77,767.158 1699.85,767.158 1703.93,767.158 1708.02,767.158 1712.1,767.158 1716.18,767.158 1720.26,767.158 \n",
       "  1724.34,767.158 1728.42,767.158 1732.5,767.158 1736.59,767.158 1740.67,767.158 1744.75,767.158 1748.83,767.158 1752.91,767.158 1756.99,767.158 1761.07,767.158 \n",
       "  1765.16,767.158 1769.24,767.158 1773.32,767.158 1777.4,767.158 1781.48,767.158 1785.56,767.158 1789.64,767.158 1793.73,767.158 1797.81,767.158 1801.89,767.158 \n",
       "  1805.97,767.158 1810.05,767.158 1814.13,767.158 1818.21,767.158 1822.3,767.158 1826.38,767.158 1830.46,767.158 1834.54,767.158 1838.62,767.158 1842.7,767.158 \n",
       "  1846.78,767.158 1850.87,767.158 1854.95,767.158 1859.03,767.158 1863.11,767.158 1867.19,767.158 1871.27,767.158 1875.35,767.158 1879.44,767.158 1883.52,767.158 \n",
       "  1887.6,767.158 1891.68,767.158 1895.76,767.158 1899.84,767.158 1903.92,767.158 1908,767.158 1912.09,767.158 1916.17,767.158 1920.25,767.158 1924.33,767.158 \n",
       "  1928.41,767.158 1932.49,767.158 1936.57,767.158 1940.66,767.158 1944.74,767.158 1948.82,767.158 1952.9,767.158 1956.98,767.158 1961.06,767.158 1965.14,767.158 \n",
       "  1969.23,767.158 1973.31,767.158 1977.39,767.158 1981.47,767.158 1985.55,767.158 1989.63,767.158 1993.71,767.158 1997.8,767.158 2001.88,767.158 2005.96,767.158 \n",
       "  2010.04,767.158 2014.12,767.158 2018.2,767.158 2022.28,767.158 2026.37,767.158 2030.45,767.158 2034.53,767.158 2038.61,767.158 2042.69,767.158 2046.77,767.158 \n",
       "  2050.85,767.158 2054.94,767.158 2059.02,767.158 2063.1,767.158 2067.18,767.158 2071.26,767.158 2075.34,767.158 2079.42,767.158 2083.51,767.158 2087.59,767.158 \n",
       "  2091.67,767.158 2095.75,767.158 2099.83,767.158 2103.91,767.158 2107.99,767.158 2112.08,767.158 2116.16,767.158 2120.24,767.158 2124.32,767.158 2128.4,767.158 \n",
       "  2132.48,767.158 2136.56,767.158 2140.65,767.158 2144.73,767.158 2148.81,767.158 2152.89,767.158 2156.97,767.158 2161.05,767.158 2165.13,767.158 2169.21,767.158 \n",
       "  2173.3,767.158 2177.38,767.158 2181.46,767.158 2185.54,767.158 2189.62,767.158 2193.7,767.158 2197.78,767.158 2201.87,767.158 2205.95,767.158 2210.03,767.158 \n",
       "  2214.11,767.158 2218.19,767.158 2222.27,767.158 2226.35,767.158 2230.44,767.158 2234.52,767.158 2238.6,767.158 2242.68,767.158 2246.76,767.158 2250.84,767.158 \n",
       "  2254.92,767.158 2259.01,767.158 2263.09,767.158 2267.17,767.158 2271.25,767.158 2275.33,767.158 2279.41,767.158 2283.49,767.158 2287.58,767.158 2291.66,767.158 \n",
       "  \n",
       "  \"/>\n",
       "<path clip-path=\"url(#clip220)\" d=\"\n",
       "M1988.5 250.738 L2280.8 250.738 L2280.8 95.2176 L1988.5 95.2176  Z\n",
       "  \" fill=\"#ffffff\" fill-rule=\"evenodd\" fill-opacity=\"1\"/>\n",
       "<polyline clip-path=\"url(#clip220)\" style=\"stroke:#000000; stroke-linecap:round; stroke-linejoin:round; stroke-width:4; stroke-opacity:1; fill:none\" points=\"\n",
       "  1988.5,250.738 2280.8,250.738 2280.8,95.2176 1988.5,95.2176 1988.5,250.738 \n",
       "  \"/>\n",
       "<polyline clip-path=\"url(#clip220)\" style=\"stroke:#009af9; stroke-linecap:round; stroke-linejoin:round; stroke-width:4; stroke-opacity:1; fill:none\" points=\"\n",
       "  2012.48,147.058 2156.4,147.058 \n",
       "  \"/>\n",
       "<path clip-path=\"url(#clip220)\" d=\"M2194.23 166.745 Q2192.43 171.375 2190.72 172.787 Q2189 174.199 2186.13 174.199 L2182.73 174.199 L2182.73 170.634 L2185.23 170.634 Q2186.99 170.634 2187.96 169.8 Q2188.93 168.967 2190.11 165.865 L2190.88 163.921 L2180.39 138.412 L2184.91 138.412 L2193.01 158.689 L2201.11 138.412 L2205.62 138.412 L2194.23 166.745 Z\" fill=\"#000000\" fill-rule=\"evenodd\" fill-opacity=\"1\" /><path clip-path=\"url(#clip220)\" d=\"M2212.91 160.402 L2220.55 160.402 L2220.55 134.037 L2212.24 135.703 L2212.24 131.444 L2220.51 129.778 L2225.18 129.778 L2225.18 160.402 L2232.82 160.402 L2232.82 164.338 L2212.91 164.338 L2212.91 160.402 Z\" fill=\"#000000\" fill-rule=\"evenodd\" fill-opacity=\"1\" /><polyline clip-path=\"url(#clip220)\" style=\"stroke:#e26f46; stroke-linecap:round; stroke-linejoin:round; stroke-width:4; stroke-opacity:1; fill:none\" points=\"\n",
       "  2012.48,198.898 2156.4,198.898 \n",
       "  \"/>\n",
       "<path clip-path=\"url(#clip220)\" d=\"M2194.23 218.585 Q2192.43 223.215 2190.72 224.627 Q2189 226.039 2186.13 226.039 L2182.73 226.039 L2182.73 222.474 L2185.23 222.474 Q2186.99 222.474 2187.96 221.64 Q2188.93 220.807 2190.11 217.705 L2190.88 215.761 L2180.39 190.252 L2184.91 190.252 L2193.01 210.529 L2201.11 190.252 L2205.62 190.252 L2194.23 218.585 Z\" fill=\"#000000\" fill-rule=\"evenodd\" fill-opacity=\"1\" /><path clip-path=\"url(#clip220)\" d=\"M2216.13 212.242 L2232.45 212.242 L2232.45 216.178 L2210.51 216.178 L2210.51 212.242 Q2213.17 209.488 2217.75 204.858 Q2222.36 200.205 2223.54 198.863 Q2225.78 196.34 2226.66 194.604 Q2227.57 192.844 2227.57 191.155 Q2227.57 188.4 2225.62 186.664 Q2223.7 184.928 2220.6 184.928 Q2218.4 184.928 2215.95 185.692 Q2213.52 186.455 2210.74 188.006 L2210.74 183.284 Q2213.56 182.15 2216.02 181.571 Q2218.47 180.993 2220.51 180.993 Q2225.88 180.993 2229.07 183.678 Q2232.27 186.363 2232.27 190.854 Q2232.27 192.983 2231.46 194.905 Q2230.67 196.803 2228.56 199.395 Q2227.98 200.067 2224.88 203.284 Q2221.78 206.479 2216.13 212.242 Z\" fill=\"#000000\" fill-rule=\"evenodd\" fill-opacity=\"1\" /></svg>\n"
      ]
     },
     "metadata": {},
     "output_type": "display_data"
    }
   ],
   "source": [
    "times = LinRange(0,30.0,500)\n",
    "\n",
    "plot(times,[[pulse(p_new,t,buffer[1], buffer[2]) for t in times],\n",
    "            [pulse([2, 10, 10, 0.7, 0.0, 0.978, 1.0, phi_ext, 0],t,buffer[1], buffer[2]) for t in times]])"
   ]
  },
  {
   "cell_type": "code",
   "execution_count": 166,
   "metadata": {},
   "outputs": [
    {
     "data": {
      "text/plain": [
       "retcode: Success\n",
       "Interpolation: 1st order linear\n",
       "t: 1000-element Vector{Float64}:\n",
       "  0.0\n",
       "  0.03003003003003003\n",
       "  0.06006006006006006\n",
       "  0.09009009009009009\n",
       "  0.12012012012012012\n",
       "  0.15015015015015015\n",
       "  0.18018018018018017\n",
       "  0.21021021021021022\n",
       "  0.24024024024024024\n",
       "  0.2702702702702703\n",
       "  ⋮\n",
       " 29.75975975975976\n",
       " 29.78978978978979\n",
       " 29.81981981981982\n",
       " 29.84984984984985\n",
       " 29.87987987987988\n",
       " 29.90990990990991\n",
       " 29.93993993993994\n",
       " 29.96996996996997\n",
       " 30.0\n",
       "u: 1000-element Vector{Matrix{ComplexF64}}:\n",
       " [8.185970273951507e-11 + 7.413378789586579e-10im 6.45528930795241e-10 + 3.109968151302549e-10im; 2.9177749139400264e-9 + 4.456858628671958e-9im 3.0355289001581973e-9 + 4.173048074201297e-9im; … ; -1.875068783929846e-9 + 4.986092315850066e-9im 5.155313967721894e-9 - 2.2694426182649146e-10im; 8.185974837113782e-11 + 7.413378566849499e-10im 6.455291491749273e-10 + 3.109966422412454e-10im]\n",
       " [-5.817039566995249e-10 - 4.665786925253679e-10im -6.64717415711737e-10 + 2.6719464960521127e-10im; -5.212954599209379e-9 - 1.0916292768699752e-9im -5.128850092919442e-9 - 5.707543749870409e-10im; … ; -2.196707992843462e-9 - 4.85326560980016e-9im -3.3068778153529997e-9 + 3.960266647427678e-9im; -5.817039707142031e-10 - 4.665786560774063e-10im -6.647173869868444e-10 + 2.671949102644182e-10im]\n",
       " [7.41391114580103e-10 - 7.757275818784884e-11im 2.5345129406498706e-10 - 6.694296853417917e-10im; 4.462276775518929e-9 - 2.8970987891225095e-9im 3.8882815082972165e-9 - 3.4054632907057355e-9im; … ; 4.990021354793667e-9 + 1.8888590129806717e-9im -6.834766398404275e-10 - 5.1068396325230385e-9im; 7.41391114309183e-10 - 7.757278540132697e-11im 2.534511448700676e-10 - 6.694298105369909e-10im]\n",
       " [-4.729015534686758e-10 + 5.921220627685903e-10im 3.3267615978876655e-10 + 6.486329630235957e-10im; -1.1441929608683106e-9 + 5.239091434135026e-9im -8.880972070326475e-11 + 5.1516400816325445e-9im; … ; -4.842560370176578e-9 + 2.1935207354958424e-9im 4.244264417412329e-9 + 2.988064689563891e-9im; -4.729015480078449e-10 + 5.921220800706397e-10im 3.326762742643659e-10 + 6.486329772586657e-10im]\n",
       " [-7.628805447309127e-11 - 7.168835863848653e-10im -6.711538048165887e-10 - 1.782486045599072e-10im; -2.922306940155438e-9 - 4.4574810266067914e-9im -3.658520450324731e-9 - 3.628732650482579e-9im; … ; 2.001027716814565e-9 - 4.944467408375542e-9im -5.045578832365211e-9 + 1.1826955595424485e-9im; -7.628804574727496e-11 - 7.168835967052347e-10im -6.71153784421194e-10 - 1.7824847913860868e-10im]\n",
       " [5.91011745090769e-10 + 5.128739877279406e-10im 6.483766223204929e-10 - 3.716320698148522e-10im; 5.213569071510205e-9 + 1.2681167210534245e-9im 5.297219909302804e-9 - 3.37120722257495e-10im; … ; 2.2152317872714e-9 + 5.002682853570073e-9im 2.6652512768368746e-9 - 4.433480979053024e-9im; 5.910116906326436e-10 + 5.128739995470512e-10im 6.483763589475939e-10 - 3.71632153389069e-10im]\n",
       " [-7.517438390198866e-10 + 6.94623221797747e-11im -1.3413485700343129e-10 + 7.131930828688959e-10im; -4.629685968451903e-9 + 2.9476730584888333e-9im -3.363688333292026e-9 + 4.118713142253534e-9im; … ; -5.1062020843933496e-9 - 2.0326800725444764e-9im 1.6039831490509602e-9 + 5.0752397947798644e-9im; -7.517437753001635e-10 + 6.946231338527724e-11im -1.3413457782464932e-10 + 7.131929510291175e-10im]\n",
       " [4.859886323010256e-10 - 6.025937965518076e-10im -4.552218249848005e-10 - 5.927908987758171e-10im; 1.2403154181727748e-9 - 5.362997736092971e-9im -8.810167841550367e-10 - 5.305190360506041e-9im; … ; 5.047176668999111e-9 - 2.2731755967083006e-9im -4.812739796100358e-9 - 2.266864984146425e-9im; 4.85988608150459e-10 - 6.025937788662328e-10im -4.552219138346525e-10 - 5.927907250713587e-10im]\n",
       " [7.0590758921351e-11 + 8.131633983834578e-10im 7.737593772240685e-10 + 8.920386062343503e-11im; 3.040477848448892e-9 + 4.749398030762959e-9im 4.612628104122477e-9 + 3.034434301096301e-9im; … ; -2.030828810142982e-9 + 5.327343262416811e-9im 5.033855731053651e-9 - 2.1201937034722377e-9im; 7.059077559365945e-11 + 8.13163360661986e-10im 7.737593155822061e-10 + 8.920369221610919e-11im]\n",
       " [-6.223007067080244e-10 - 4.709275323333002e-10im -5.375555208832396e-10 + 5.363672081415993e-10im; -5.5226290695910326e-9 - 1.1141524151342965e-9im -5.336245927534522e-9 + 1.5891427989974586e-9im; … ; -2.515830776790232e-9 - 5.116194995000891e-9im -1.7206264541447702e-9 + 5.1927333216558746e-9im; -6.223007158205624e-10 - 4.709275272523346e-10im -5.375553516453093e-10 + 5.363672385616704e-10im]\n",
       " ⋮\n",
       " [-6.806287107001109e-10 + 3.301965019560948e-10im 9.02065858711657e-12 - 7.975322659805439e-10im; -5.229205240808251e-9 - 2.7041517566595773e-10im -2.5706497019005396e-9 - 4.844204053232698e-9im; … ; -3.286219219409443e-9 + 4.169247041107905e-9im 2.3326286201754844e-9 - 5.1637200392090865e-9im; -6.605643825574075e-10 + 3.048087009723478e-10im -4.695882555939355e-12 - 7.983626805328611e-10im]\n",
       " [2.3246177789622856e-10 - 6.903977469548973e-10im 5.730175199625229e-10 + 5.173708495455754e-10im; 3.7052447503857277e-9 - 3.6162372093696756e-9im 5.197125379023769e-9 + 1.5717083158494772e-9im; … ; -8.996906971289391e-10 - 5.219835451364378e-9im 2.0433273832783605e-9 + 5.219703984615675e-9im; 2.2721632288242852e-10 - 6.812161753944552e-10im 5.707380603436145e-10 + 5.409983692388047e-10im]\n",
       " [3.6791245181045794e-10 + 6.213786047836556e-10im -7.939003822938474e-10 + 4.5688433742638547e-11im; 5.878349387398709e-11 + 5.127130991922168e-9im -4.920514635858366e-9 + 2.6122801636517595e-9im; … ; 4.582401214314285e-9 + 2.974521547187452e-9im -5.060903595180426e-9 - 2.032484732464943e-9im; 3.7882192537267297e-10 + 6.621857538810365e-10im -7.814037045915317e-10 + 4.3138807094552194e-11im]\n",
       " [-7.140913894682307e-10 - 1.788594203952245e-10im 4.75692498942707e-10 - 5.527562103310322e-10im; -3.956230793694675e-9 - 3.518810801365305e-9im 1.4918658686237277e-9 - 5.193397153877874e-9im; … ; -5.088436151573249e-9 + 1.475765966986311e-9im 4.987844954880402e-9 - 1.9735498407824903e-9im; -7.20653963079483e-10 - 1.4980046058888218e-10im 5.25612257703765e-10 - 5.739994661810313e-10im]\n",
       " [5.715426037632459e-10 - 4.271732270136788e-10im 4.2580200903443275e-11 + 8.001878083799084e-10im; 5.081464781060887e-9 - 5.928850699536278e-10im 2.7021407677924095e-9 + 4.907992785065343e-9im; … ; 2.307018972607044e-9 - 4.747667242784467e-9im -2.07762953209091e-9 + 4.922000332237622e-9im; 5.779780640990238e-10 - 3.9610604260416674e-10im 7.886969370378386e-11 + 7.743761167837487e-10im]\n",
       " [-1.3537291671827398e-10 + 7.2300136865786e-10im -5.513282939381909e-10 - 5.028882347788812e-10im; -3.250083507147946e-9 + 4.273557548422128e-9im -5.381551982076e-9 - 1.5252172868023122e-9im; … ; 1.9880694138679547e-9 + 4.893043389368447e-9im -1.864337170810332e-9 - 4.8086847176776966e-9im; -8.941716551944562e-11 + 7.388596783555885e-10im -5.56300143405363e-10 - 4.872069677818666e-10im]\n",
       " [-4.871744931126219e-10 - 5.533776261031393e-10im 7.406503978315207e-10 - 6.185578905900514e-11im; -1.141954749636251e-9 - 5.180595159739695e-9im 4.687436142907903e-9 - 2.9211073180548303e-9im; … ; -4.830255948330989e-9 - 1.736449613490395e-9im 4.71850526542875e-9 + 2.2507378517995692e-9im; -4.670824745757961e-10 - 5.500019774777858e-10im 7.210740436850366e-10 - 5.323308797781011e-11im]\n",
       " [7.227391058985418e-10 + 2.196508647304616e-11im -4.930916244363426e-10 + 5.779361827367037e-10im; 4.59542803684985e-9 + 2.6647159380671225e-9im -1.2331893473327238e-9 + 5.271816239446686e-9im; … ; 4.481548040783139e-9 - 2.2977096990447952e-9im -5.140549507224667e-9 + 1.7714178502839527e-9im; 7.03352592405883e-10 + 7.442868664904692e-12im -5.097786629200009e-10 + 5.580750555741403e-10im]\n",
       " [-5.021243179201867e-10 + 5.287617580120785e-10im -4.160921372282866e-11 - 7.256047647135394e-10im; -5.019864749477992e-9 + 1.7094981169956513e-9im -2.833318683990958e-9 - 4.432735763021721e-9im; … ; -1.5052525694757886e-9 + 4.9007710063746154e-9im 2.3198613716999525e-9 - 4.961442228023632e-9im; -5.372476061143113e-10 + 5.110209283712351e-10im -1.6933776663204553e-11 - 7.384669631015418e-10im]"
      ]
     },
     "metadata": {},
     "output_type": "display_data"
    }
   ],
   "source": [
    "forward_prob = ODEProblem(wrapper_H_int!(buffer), buffer[4][:,1:2], (0.0, 30.0), p_new)\n",
    "sol_new = solve(forward_prob, p=p_new, saveat=LinRange(0,30.0,1000), reltol=1e-10, abstol=1e-12)"
   ]
  },
  {
   "cell_type": "code",
   "execution_count": 170,
   "metadata": {},
   "outputs": [],
   "source": [
    "occs = zeros(Float64,1000,2,2)\n",
    "tmpPot3 = buffer[3]\n",
    "for (i,t) in enumerate(sol_new.t)\n",
    "    tmpEs, tmpψs = eigs(KinPot12 + alpha(p_new,t) .* buffer[3], nev=2, which=:SR)\n",
    "    occs[i,:,:] = abs2.(tmpψs'*sol_new.u[i])\n",
    "end"
   ]
  },
  {
   "cell_type": "code",
   "execution_count": 206,
   "metadata": {},
   "outputs": [],
   "source": [
    "zero = cat(occs[:,:,1],abs.(1 .- sum(occs,dims=2)[:,1,[1]]),dims=2)\n",
    "one = cat(occs[:,:,2],abs.(1 .- sum(occs,dims=2)[:,1,[2]]),dims=2);"
   ]
  },
  {
   "cell_type": "code",
   "execution_count": null,
   "metadata": {},
   "outputs": [],
   "source": [
    "# The optimized pulse:\n",
    "# [Tᵣ, Tₐ, Tₚ, αmin, ϕ, f, A, Φ_ext, λ]\n",
    "# 2.0\n",
    "# 10.0\n",
    "# 10.0\n",
    "# 0.7\n",
    "# 0.5418050115404741\n",
    "# 0.9762975433042059\n",
    "# 1.015560374248532\n",
    "# 3.1258846903218442\n",
    "# 0.052891229797236636"
   ]
  },
  {
   "cell_type": "code",
   "execution_count": 240,
   "metadata": {},
   "outputs": [
    {
     "data": {
      "image/png": "[encoded data removed]",
      "image/svg+xml": "<?xml version=\"1.0\" encoding=\"utf-8\"?>\n<svg xmlns=\"http://www.w3.org/2000/svg\" xmlns:xlink=\"http://www.w3.org/1999/xlink\" width=\"600\" height=\"400\" viewBox=\"0 0 2400 1600\">\n<defs>\n  <clipPath id=\"clip840\">\n    <rect x=\"0\" y=\"0\" width=\"2400\" height=\"1600\"/>\n  </clipPath>\n</defs>\n<path clip-path=\"url(#clip840)\" d=\"\nM0 1600 L2400 1600 L2400 0 L0 0  Z\n  \" fill=\"#ffffff\" fill-rule=\"evenodd\" fill-opacity=\"1\"/>\n<defs>\n  <clipPath id=\"clip841\">\n    <rect x=\"480\" y=\"0\" width=\"1681\" height=\"1600\"/>\n  </clipPath>\n</defs>\n<path clip-path=\"url(#clip840)\" d=\"\nM276.876 692.928 L2352.76 692.928 L2352.76 123.472 L276.876 123.472  Z\n  \" fill=\"#ffffff\" fill-rule=\"evenodd\" fill-opacity=\"1\"/>\n<defs>\n  <clipPath id=\"clip842\">\n    <rect x=\"276\" y=\"123\" width=\"2077\" height=\"570\"/>\n  </clipPath>\n</defs>\n<polyline clip-path=\"url(#clip842)\" style=\"stroke:#000000; stroke-linecap:round; stroke-linejoin:round; stroke-width:2; stroke-opacity:0.1; fill:none\" points=\"\n  335.627,692.928 335.627,123.472 \n  \"/>\n<polyline clip-path=\"url(#clip842)\" style=\"stroke:#000000; stroke-linecap:round; stroke-linejoin:round; stroke-width:2; stroke-opacity:0.1; fill:none\" points=\"\n  988.419,692.928 988.419,123.472 \n  \"/>\n<polyline clip-path=\"url(#clip842)\" style=\"stroke:#000000; stroke-linecap:round; stroke-linejoin:round; stroke-width:2; stroke-opacity:0.1; fill:none\" points=\"\n  1641.21,692.928 1641.21,123.472 \n  \"/>\n<polyline clip-path=\"url(#clip842)\" style=\"stroke:#000000; stroke-linecap:round; stroke-linejoin:round; stroke-width:2; stroke-opacity:0.1; fill:none\" points=\"\n  2294,692.928 2294,123.472 \n  \"/>\n<polyline clip-path=\"url(#clip840)\" style=\"stroke:#000000; stroke-linecap:round; stroke-linejoin:round; stroke-width:4; stroke-opacity:1; fill:none\" points=\"\n  276.876,692.928 2352.76,692.928 \n  \"/>\n<polyline clip-path=\"url(#clip840)\" style=\"stroke:#000000; stroke-linecap:round; stroke-linejoin:round; stroke-width:4; stroke-opacity:1; fill:none\" points=\"\n  335.627,692.928 335.627,674.03 \n  \"/>\n<polyline clip-path=\"url(#clip840)\" style=\"stroke:#000000; stroke-linecap:round; stroke-linejoin:round; stroke-width:4; stroke-opacity:1; fill:none\" points=\"\n  988.419,692.928 988.419,674.03 \n  \"/>\n<polyline clip-path=\"url(#clip840)\" style=\"stroke:#000000; stroke-linecap:round; stroke-linejoin:round; stroke-width:4; stroke-opacity:1; fill:none\" points=\"\n  1641.21,692.928 1641.21,674.03 \n  \"/>\n<polyline clip-path=\"url(#clip840)\" style=\"stroke:#000000; stroke-linecap:round; stroke-linejoin:round; stroke-width:4; stroke-opacity:1; fill:none\" points=\"\n  2294,692.928 2294,674.03 \n  \"/>\n<path clip-path=\"url(#clip840)\" d=\"M335.627 723.847 Q332.016 723.847 330.187 727.411 Q328.382 730.953 328.382 738.083 Q328.382 745.189 330.187 748.754 Q332.016 752.295 335.627 752.295 Q339.261 752.295 341.067 748.754 Q342.895 745.189 342.895 738.083 Q342.895 730.953 341.067 727.411 Q339.261 723.847 335.627 723.847 M335.627 720.143 Q341.437 720.143 344.493 724.749 Q347.571 729.333 347.571 738.083 Q347.571 746.809 344.493 751.416 Q341.437 755.999 335.627 755.999 Q329.817 755.999 326.738 751.416 Q323.682 746.809 323.682 738.083 Q323.682 729.333 326.738 724.749 Q329.817 720.143 335.627 720.143 Z\" fill=\"#000000\" fill-rule=\"evenodd\" fill-opacity=\"1\" /><path clip-path=\"url(#clip840)\" d=\"M963.107 751.393 L970.746 751.393 L970.746 725.027 L962.436 726.694 L962.436 722.435 L970.7 720.768 L975.376 720.768 L975.376 751.393 L983.014 751.393 L983.014 755.328 L963.107 755.328 L963.107 751.393 Z\" fill=\"#000000\" fill-rule=\"evenodd\" fill-opacity=\"1\" /><path clip-path=\"url(#clip840)\" d=\"M1002.46 723.847 Q998.848 723.847 997.019 727.411 Q995.213 730.953 995.213 738.083 Q995.213 745.189 997.019 748.754 Q998.848 752.295 1002.46 752.295 Q1006.09 752.295 1007.9 748.754 Q1009.73 745.189 1009.73 738.083 Q1009.73 730.953 1007.9 727.411 Q1006.09 723.847 1002.46 723.847 M1002.46 720.143 Q1008.27 720.143 1011.32 724.749 Q1014.4 729.333 1014.4 738.083 Q1014.4 746.809 1011.32 751.416 Q1008.27 755.999 1002.46 755.999 Q996.649 755.999 993.57 751.416 Q990.514 746.809 990.514 738.083 Q990.514 729.333 993.57 724.749 Q996.649 720.143 1002.46 720.143 Z\" fill=\"#000000\" fill-rule=\"evenodd\" fill-opacity=\"1\" /><path clip-path=\"url(#clip840)\" d=\"M1619.99 751.393 L1636.3 751.393 L1636.3 755.328 L1614.36 755.328 L1614.36 751.393 Q1617.02 748.638 1621.61 744.008 Q1626.21 739.356 1627.39 738.013 Q1629.64 735.49 1630.52 733.754 Q1631.42 731.995 1631.42 730.305 Q1631.42 727.55 1629.48 725.814 Q1627.55 724.078 1624.45 724.078 Q1622.25 724.078 1619.8 724.842 Q1617.37 725.606 1614.59 727.157 L1614.59 722.435 Q1617.42 721.3 1619.87 720.722 Q1622.32 720.143 1624.36 720.143 Q1629.73 720.143 1632.93 722.828 Q1636.12 725.513 1636.12 730.004 Q1636.12 732.134 1635.31 734.055 Q1634.52 735.953 1632.42 738.546 Q1631.84 739.217 1628.74 742.434 Q1625.63 745.629 1619.99 751.393 Z\" fill=\"#000000\" fill-rule=\"evenodd\" fill-opacity=\"1\" /><path clip-path=\"url(#clip840)\" d=\"M1656.12 723.847 Q1652.51 723.847 1650.68 727.411 Q1648.87 730.953 1648.87 738.083 Q1648.87 745.189 1650.68 748.754 Q1652.51 752.295 1656.12 752.295 Q1659.75 752.295 1661.56 748.754 Q1663.39 745.189 1663.39 738.083 Q1663.39 730.953 1661.56 727.411 Q1659.75 723.847 1656.12 723.847 M1656.12 720.143 Q1661.93 720.143 1664.99 724.749 Q1668.06 729.333 1668.06 738.083 Q1668.06 746.809 1664.99 751.416 Q1661.93 755.999 1656.12 755.999 Q1650.31 755.999 1647.23 751.416 Q1644.17 746.809 1644.17 738.083 Q1644.17 729.333 1647.23 724.749 Q1650.31 720.143 1656.12 720.143 Z\" fill=\"#000000\" fill-rule=\"evenodd\" fill-opacity=\"1\" /><path clip-path=\"url(#clip840)\" d=\"M2282.85 736.694 Q2286.2 737.411 2288.08 739.68 Q2289.98 741.948 2289.98 745.282 Q2289.98 750.397 2286.46 753.198 Q2282.94 755.999 2276.46 755.999 Q2274.28 755.999 2271.97 755.559 Q2269.68 755.143 2267.22 754.286 L2267.22 749.772 Q2269.17 750.907 2271.48 751.485 Q2273.8 752.064 2276.32 752.064 Q2280.72 752.064 2283.01 750.328 Q2285.32 748.592 2285.32 745.282 Q2285.32 742.226 2283.17 740.513 Q2281.04 738.777 2277.22 738.777 L2273.19 738.777 L2273.19 734.934 L2277.41 734.934 Q2280.86 734.934 2282.69 733.569 Q2284.51 732.18 2284.51 729.587 Q2284.51 726.925 2282.62 725.513 Q2280.74 724.078 2277.22 724.078 Q2275.3 724.078 2273.1 724.495 Q2270.9 724.911 2268.26 725.791 L2268.26 721.624 Q2270.93 720.884 2273.24 720.513 Q2275.58 720.143 2277.64 720.143 Q2282.96 720.143 2286.06 722.573 Q2289.17 724.981 2289.17 729.101 Q2289.17 731.972 2287.52 733.962 Q2285.88 735.93 2282.85 736.694 Z\" fill=\"#000000\" fill-rule=\"evenodd\" fill-opacity=\"1\" /><path clip-path=\"url(#clip840)\" d=\"M2308.84 723.847 Q2305.23 723.847 2303.4 727.411 Q2301.6 730.953 2301.6 738.083 Q2301.6 745.189 2303.4 748.754 Q2305.23 752.295 2308.84 752.295 Q2312.48 752.295 2314.28 748.754 Q2316.11 745.189 2316.11 738.083 Q2316.11 730.953 2314.28 727.411 Q2312.48 723.847 2308.84 723.847 M2308.84 720.143 Q2314.65 720.143 2317.71 724.749 Q2320.79 729.333 2320.79 738.083 Q2320.79 746.809 2317.71 751.416 Q2314.65 755.999 2308.84 755.999 Q2303.03 755.999 2299.95 751.416 Q2296.9 746.809 2296.9 738.083 Q2296.9 729.333 2299.95 724.749 Q2303.03 720.143 2308.84 720.143 Z\" fill=\"#000000\" fill-rule=\"evenodd\" fill-opacity=\"1\" /><polyline clip-path=\"url(#clip842)\" style=\"stroke:#000000; stroke-linecap:round; stroke-linejoin:round; stroke-width:2; stroke-opacity:0.1; fill:none\" points=\"\n  276.876,692.928 2352.76,692.928 \n  \"/>\n<polyline clip-path=\"url(#clip842)\" style=\"stroke:#000000; stroke-linecap:round; stroke-linejoin:round; stroke-width:2; stroke-opacity:0.1; fill:none\" points=\"\n  276.876,409.374 2352.76,409.374 \n  \"/>\n<polyline clip-path=\"url(#clip842)\" style=\"stroke:#000000; stroke-linecap:round; stroke-linejoin:round; stroke-width:2; stroke-opacity:0.1; fill:none\" points=\"\n  276.876,125.82 2352.76,125.82 \n  \"/>\n<polyline clip-path=\"url(#clip840)\" style=\"stroke:#000000; stroke-linecap:round; stroke-linejoin:round; stroke-width:4; stroke-opacity:1; fill:none\" points=\"\n  276.876,692.928 276.876,123.472 \n  \"/>\n<polyline clip-path=\"url(#clip840)\" style=\"stroke:#000000; stroke-linecap:round; stroke-linejoin:round; stroke-width:4; stroke-opacity:1; fill:none\" points=\"\n  276.876,692.928 295.773,692.928 \n  \"/>\n<polyline clip-path=\"url(#clip840)\" style=\"stroke:#000000; stroke-linecap:round; stroke-linejoin:round; stroke-width:4; stroke-opacity:1; fill:none\" points=\"\n  276.876,409.374 295.773,409.374 \n  \"/>\n<polyline clip-path=\"url(#clip840)\" style=\"stroke:#000000; stroke-linecap:round; stroke-linejoin:round; stroke-width:4; stroke-opacity:1; fill:none\" points=\"\n  276.876,125.82 295.773,125.82 \n  \"/>\n<path clip-path=\"url(#clip840)\" d=\"M114.931 712.72 L122.57 712.72 L122.57 686.355 L114.26 688.021 L114.26 683.762 L122.524 682.095 L127.2 682.095 L127.2 712.72 L134.839 712.72 L134.839 716.655 L114.931 716.655 L114.931 712.72 Z\" fill=\"#000000\" fill-rule=\"evenodd\" fill-opacity=\"1\" /><path clip-path=\"url(#clip840)\" d=\"M154.283 685.174 Q150.672 685.174 148.843 688.739 Q147.038 692.281 147.038 699.41 Q147.038 706.517 148.843 710.081 Q150.672 713.623 154.283 713.623 Q157.917 713.623 159.723 710.081 Q161.552 706.517 161.552 699.41 Q161.552 692.281 159.723 688.739 Q157.917 685.174 154.283 685.174 M154.283 681.47 Q160.093 681.47 163.149 686.077 Q166.227 690.66 166.227 699.41 Q166.227 708.137 163.149 712.743 Q160.093 717.327 154.283 717.327 Q148.473 717.327 145.394 712.743 Q142.339 708.137 142.339 699.41 Q142.339 690.66 145.394 686.077 Q148.473 681.47 154.283 681.47 Z\" fill=\"#000000\" fill-rule=\"evenodd\" fill-opacity=\"1\" /><path clip-path=\"url(#clip840)\" d=\"M166.227 675.572 L190.339 675.572 L190.339 678.769 L166.227 678.769 L166.227 675.572 Z\" fill=\"#000000\" fill-rule=\"evenodd\" fill-opacity=\"1\" /><path clip-path=\"url(#clip840)\" d=\"M199.197 686.048 L205.404 686.048 L205.404 664.626 L198.652 665.98 L198.652 662.519 L205.366 661.165 L209.166 661.165 L209.166 686.048 L215.372 686.048 L215.372 689.245 L199.197 689.245 L199.197 686.048 Z\" fill=\"#000000\" fill-rule=\"evenodd\" fill-opacity=\"1\" /><path clip-path=\"url(#clip840)\" d=\"M231.171 663.667 Q228.237 663.667 226.751 666.563 Q225.284 669.44 225.284 675.233 Q225.284 681.007 226.751 683.904 Q228.237 686.781 231.171 686.781 Q234.124 686.781 235.591 683.904 Q237.076 681.007 237.076 675.233 Q237.076 669.44 235.591 666.563 Q234.124 663.667 231.171 663.667 M231.171 660.657 Q235.891 660.657 238.374 664.4 Q240.876 668.124 240.876 675.233 Q240.876 682.324 238.374 686.067 Q235.891 689.79 231.171 689.79 Q226.45 689.79 223.949 686.067 Q221.466 682.324 221.466 675.233 Q221.466 668.124 223.949 664.4 Q226.45 660.657 231.171 660.657 Z\" fill=\"#000000\" fill-rule=\"evenodd\" fill-opacity=\"1\" /><path clip-path=\"url(#clip840)\" d=\"M140.247 429.166 L147.886 429.166 L147.886 402.801 L139.575 404.467 L139.575 400.208 L147.839 398.541 L152.515 398.541 L152.515 429.166 L160.154 429.166 L160.154 433.101 L140.247 433.101 L140.247 429.166 Z\" fill=\"#000000\" fill-rule=\"evenodd\" fill-opacity=\"1\" /><path clip-path=\"url(#clip840)\" d=\"M179.598 401.62 Q175.987 401.62 174.159 405.185 Q172.353 408.726 172.353 415.856 Q172.353 422.962 174.159 426.527 Q175.987 430.069 179.598 430.069 Q183.233 430.069 185.038 426.527 Q186.867 422.962 186.867 415.856 Q186.867 408.726 185.038 405.185 Q183.233 401.62 179.598 401.62 M179.598 397.916 Q185.409 397.916 188.464 402.523 Q191.543 407.106 191.543 415.856 Q191.543 424.583 188.464 429.189 Q185.409 433.773 179.598 433.773 Q173.788 433.773 170.71 429.189 Q167.654 424.583 167.654 415.856 Q167.654 407.106 170.71 402.523 Q173.788 397.916 179.598 397.916 Z\" fill=\"#000000\" fill-rule=\"evenodd\" fill-opacity=\"1\" /><path clip-path=\"url(#clip840)\" d=\"M191.543 392.018 L215.654 392.018 L215.654 395.215 L191.543 395.215 L191.543 392.018 Z\" fill=\"#000000\" fill-rule=\"evenodd\" fill-opacity=\"1\" /><path clip-path=\"url(#clip840)\" d=\"M223.892 377.611 L238.807 377.611 L238.807 380.808 L227.372 380.808 L227.372 387.692 Q228.199 387.41 229.027 387.278 Q229.854 387.128 230.682 387.128 Q235.384 387.128 238.13 389.704 Q240.876 392.281 240.876 396.682 Q240.876 401.215 238.054 403.735 Q235.233 406.236 230.099 406.236 Q228.331 406.236 226.488 405.935 Q224.663 405.634 222.707 405.033 L222.707 401.215 Q224.4 402.136 226.205 402.588 Q228.011 403.039 230.023 403.039 Q233.277 403.039 235.177 401.328 Q237.076 399.616 237.076 396.682 Q237.076 393.748 235.177 392.036 Q233.277 390.325 230.023 390.325 Q228.5 390.325 226.977 390.663 Q225.472 391.002 223.892 391.717 L223.892 377.611 Z\" fill=\"#000000\" fill-rule=\"evenodd\" fill-opacity=\"1\" /><path clip-path=\"url(#clip840)\" d=\"M170.17 145.612 L177.809 145.612 L177.809 119.246 L169.499 120.913 L169.499 116.654 L177.762 114.987 L182.438 114.987 L182.438 145.612 L190.077 145.612 L190.077 149.547 L170.17 149.547 L170.17 145.612 Z\" fill=\"#000000\" fill-rule=\"evenodd\" fill-opacity=\"1\" /><path clip-path=\"url(#clip840)\" d=\"M209.522 118.066 Q205.91 118.066 204.082 121.631 Q202.276 125.172 202.276 132.302 Q202.276 139.408 204.082 142.973 Q205.91 146.515 209.522 146.515 Q213.156 146.515 214.961 142.973 Q216.79 139.408 216.79 132.302 Q216.79 125.172 214.961 121.631 Q213.156 118.066 209.522 118.066 M209.522 114.362 Q215.332 114.362 218.387 118.969 Q221.466 123.552 221.466 132.302 Q221.466 141.029 218.387 145.635 Q215.332 150.218 209.522 150.218 Q203.711 150.218 200.633 145.635 Q197.577 141.029 197.577 132.302 Q197.577 123.552 200.633 118.969 Q203.711 114.362 209.522 114.362 Z\" fill=\"#000000\" fill-rule=\"evenodd\" fill-opacity=\"1\" /><path clip-path=\"url(#clip840)\" d=\"M231.171 96.5582 Q228.237 96.5582 226.751 99.4546 Q225.284 102.332 225.284 108.125 Q225.284 113.899 226.751 116.795 Q228.237 119.673 231.171 119.673 Q234.124 119.673 235.591 116.795 Q237.076 113.899 237.076 108.125 Q237.076 102.332 235.591 99.4546 Q234.124 96.5582 231.171 96.5582 M231.171 93.5489 Q235.891 93.5489 238.374 97.2917 Q240.876 101.016 240.876 108.125 Q240.876 115.215 238.374 118.958 Q235.891 122.682 231.171 122.682 Q226.45 122.682 223.949 118.958 Q221.466 115.215 221.466 108.125 Q221.466 101.016 223.949 97.2917 Q226.45 93.5489 231.171 93.5489 Z\" fill=\"#000000\" fill-rule=\"evenodd\" fill-opacity=\"1\" /><path clip-path=\"url(#clip840)\" d=\"M20.8447 566.817 Q20.8447 573.82 26.0645 577.957 Q31.2844 582.063 40.2919 582.063 Q49.2675 582.063 54.4874 577.957 Q59.7073 573.82 59.7073 566.817 Q59.7073 559.815 54.4874 555.741 Q49.2675 551.635 40.2919 551.635 Q31.2844 551.635 26.0645 555.741 Q20.8447 559.815 20.8447 566.817 M15.6248 566.817 Q15.6248 556.823 22.3406 550.84 Q29.0246 544.856 40.2919 544.856 Q51.5274 544.856 58.2432 550.84 Q64.9272 556.823 64.9272 566.817 Q64.9272 576.843 58.2432 582.859 Q51.5592 588.843 40.2919 588.843 Q29.0246 588.843 22.3406 582.859 Q15.6248 576.843 15.6248 566.817 Z\" fill=\"#000000\" fill-rule=\"evenodd\" fill-opacity=\"1\" /><path clip-path=\"url(#clip840)\" d=\"M29.7248 509.399 L35.1993 509.399 Q33.8307 511.881 33.1623 514.396 Q32.4621 516.879 32.4621 519.425 Q32.4621 525.122 36.0905 528.273 Q39.6872 531.424 46.212 531.424 Q52.7369 531.424 56.3653 528.273 Q59.9619 525.122 59.9619 519.425 Q59.9619 516.879 59.2935 514.396 Q58.5933 511.881 57.2247 509.399 L62.6355 509.399 Q63.7814 511.85 64.3543 514.491 Q64.9272 517.101 64.9272 520.061 Q64.9272 528.114 59.8664 532.856 Q54.8057 537.599 46.212 537.599 Q37.491 537.599 32.4939 532.825 Q27.4968 528.019 27.4968 519.679 Q27.4968 516.974 28.0697 514.396 Q28.6108 511.818 29.7248 509.399 Z\" fill=\"#000000\" fill-rule=\"evenodd\" fill-opacity=\"1\" /><path clip-path=\"url(#clip840)\" d=\"M29.7248 473.56 L35.1993 473.56 Q33.8307 476.043 33.1623 478.557 Q32.4621 481.04 32.4621 483.586 Q32.4621 489.283 36.0905 492.434 Q39.6872 495.585 46.212 495.585 Q52.7369 495.585 56.3653 492.434 Q59.9619 489.283 59.9619 483.586 Q59.9619 481.04 59.2935 478.557 Q58.5933 476.043 57.2247 473.56 L62.6355 473.56 Q63.7814 476.011 64.3543 478.652 Q64.9272 481.262 64.9272 484.222 Q64.9272 492.275 59.8664 497.018 Q54.8057 501.76 46.212 501.76 Q37.491 501.76 32.4939 496.986 Q27.4968 492.18 27.4968 483.841 Q27.4968 481.135 28.0697 478.557 Q28.6108 475.979 29.7248 473.56 Z\" fill=\"#000000\" fill-rule=\"evenodd\" fill-opacity=\"1\" /><path clip-path=\"url(#clip840)\" d=\"M49.9359 463.98 L28.3562 463.98 L28.3562 458.123 L49.7131 458.123 Q54.7739 458.123 57.3202 456.15 Q59.8346 454.176 59.8346 450.23 Q59.8346 445.487 56.8109 442.75 Q53.7872 439.981 48.5673 439.981 L28.3562 439.981 L28.3562 434.124 L64.0042 434.124 L64.0042 439.981 L58.5296 439.981 Q61.7762 442.113 63.3676 444.946 Q64.9272 447.747 64.9272 451.471 Q64.9272 457.614 61.1078 460.797 Q57.2883 463.98 49.9359 463.98 M27.4968 449.243 L27.4968 449.243 Z\" fill=\"#000000\" fill-rule=\"evenodd\" fill-opacity=\"1\" /><path clip-path=\"url(#clip840)\" d=\"M58.657 416.396 L77.5631 416.396 L77.5631 422.284 L28.3562 422.284 L28.3562 416.396 L33.7671 416.396 Q30.5842 414.55 29.0564 411.749 Q27.4968 408.916 27.4968 405.001 Q27.4968 398.508 32.6531 394.466 Q37.8093 390.392 46.212 390.392 Q54.6147 390.392 59.771 394.466 Q64.9272 398.508 64.9272 405.001 Q64.9272 408.916 63.3994 411.749 Q61.8398 414.55 58.657 416.396 M46.212 396.471 Q39.7508 396.471 36.0905 399.145 Q32.3984 401.787 32.3984 406.434 Q32.3984 411.08 36.0905 413.754 Q39.7508 416.396 46.212 416.396 Q52.6732 416.396 56.3653 413.754 Q60.0256 411.08 60.0256 406.434 Q60.0256 401.787 56.3653 399.145 Q52.6732 396.471 46.212 396.471 Z\" fill=\"#000000\" fill-rule=\"evenodd\" fill-opacity=\"1\" /><path clip-path=\"url(#clip840)\" d=\"M46.0847 364.484 Q46.0847 371.581 47.7079 374.319 Q49.3312 377.056 53.2461 377.056 Q56.3653 377.056 58.2114 375.019 Q60.0256 372.95 60.0256 369.417 Q60.0256 364.547 56.5881 361.619 Q53.1188 358.659 47.3897 358.659 L46.0847 358.659 L46.0847 364.484 M43.6657 352.802 L64.0042 352.802 L64.0042 358.659 L58.5933 358.659 Q61.8398 360.664 63.3994 363.656 Q64.9272 366.648 64.9272 370.977 Q64.9272 376.451 61.8716 379.698 Q58.7843 382.912 53.6281 382.912 Q47.6125 382.912 44.5569 378.902 Q41.5014 374.86 41.5014 366.871 L41.5014 358.659 L40.9285 358.659 Q36.8862 358.659 34.6901 361.332 Q32.4621 363.974 32.4621 368.78 Q32.4621 371.836 33.1941 374.732 Q33.9262 377.629 35.3903 380.302 L29.9795 380.302 Q28.7381 377.088 28.1334 374.064 Q27.4968 371.04 27.4968 368.176 Q27.4968 360.441 31.5072 356.622 Q35.5176 352.802 43.6657 352.802 Z\" fill=\"#000000\" fill-rule=\"evenodd\" fill-opacity=\"1\" /><path clip-path=\"url(#clip840)\" d=\"M18.2347 334.947 L28.3562 334.947 L28.3562 322.884 L32.9077 322.884 L32.9077 334.947 L52.2594 334.947 Q56.6199 334.947 57.8613 333.769 Q59.1026 332.559 59.1026 328.899 L59.1026 322.884 L64.0042 322.884 L64.0042 328.899 Q64.0042 335.679 61.4897 338.257 Q58.9434 340.835 52.2594 340.835 L32.9077 340.835 L32.9077 345.132 L28.3562 345.132 L28.3562 340.835 L18.2347 340.835 L18.2347 334.947 Z\" fill=\"#000000\" fill-rule=\"evenodd\" fill-opacity=\"1\" /><path clip-path=\"url(#clip840)\" d=\"M28.3562 315.181 L28.3562 309.325 L64.0042 309.325 L64.0042 315.181 L28.3562 315.181 M14.479 315.181 L14.479 309.325 L21.895 309.325 L21.895 315.181 L14.479 315.181 Z\" fill=\"#000000\" fill-rule=\"evenodd\" fill-opacity=\"1\" /><path clip-path=\"url(#clip840)\" d=\"M32.4621 283.257 Q32.4621 287.968 36.1542 290.705 Q39.8145 293.442 46.212 293.442 Q52.6095 293.442 56.3017 290.737 Q59.9619 288 59.9619 283.257 Q59.9619 278.578 56.2698 275.841 Q52.5777 273.104 46.212 273.104 Q39.8781 273.104 36.186 275.841 Q32.4621 278.578 32.4621 283.257 M27.4968 283.257 Q27.4968 275.618 32.4621 271.258 Q37.4273 266.897 46.212 266.897 Q54.9649 266.897 59.9619 271.258 Q64.9272 275.618 64.9272 283.257 Q64.9272 290.928 59.9619 295.288 Q54.9649 299.617 46.212 299.617 Q37.4273 299.617 32.4621 295.288 Q27.4968 290.928 27.4968 283.257 Z\" fill=\"#000000\" fill-rule=\"evenodd\" fill-opacity=\"1\" /><path clip-path=\"url(#clip840)\" d=\"M42.4881 227.557 L64.0042 227.557 L64.0042 233.414 L42.679 233.414 Q37.6183 233.414 35.1038 235.387 Q32.5894 237.36 32.5894 241.307 Q32.5894 246.05 35.6131 248.787 Q38.6368 251.524 43.8567 251.524 L64.0042 251.524 L64.0042 257.412 L28.3562 257.412 L28.3562 251.524 L33.8944 251.524 Q30.6797 249.423 29.0883 246.591 Q27.4968 243.726 27.4968 240.002 Q27.4968 233.859 31.3163 230.708 Q35.1038 227.557 42.4881 227.557 Z\" fill=\"#000000\" fill-rule=\"evenodd\" fill-opacity=\"1\" /><path clip-path=\"url(#clip840)\" d=\"M782.243 14.0809 L782.243 22.0612 Q777.585 19.8332 773.453 18.7395 Q769.321 17.6457 765.473 17.6457 Q758.789 17.6457 755.143 20.2383 Q751.537 22.8309 751.537 27.611 Q751.537 31.6214 753.928 33.6873 Q756.358 35.7128 763.083 36.9686 L768.025 37.9813 Q777.18 39.7232 781.514 44.1387 Q785.889 48.5136 785.889 55.8863 Q785.889 64.6767 779.975 69.2137 Q774.101 73.7508 762.718 73.7508 Q758.424 73.7508 753.563 72.7785 Q748.742 71.8063 743.557 69.9024 L743.557 61.4765 Q748.54 64.2716 753.32 65.6895 Q758.1 67.1073 762.718 67.1073 Q769.726 67.1073 773.534 64.3527 Q777.342 61.598 777.342 56.4939 Q777.342 52.0379 774.587 49.5264 Q771.873 47.0148 765.635 45.759 L760.652 44.7868 Q751.497 42.9639 747.406 39.075 Q743.314 35.1862 743.314 28.2591 Q743.314 20.2383 748.945 15.6203 Q754.616 11.0023 764.541 11.0023 Q768.794 11.0023 773.21 11.7719 Q777.625 12.5416 782.243 14.0809 Z\" fill=\"#000000\" fill-rule=\"evenodd\" fill-opacity=\"1\" /><path clip-path=\"url(#clip840)\" d=\"M793.991 27.2059 L801.445 27.2059 L810.762 62.6108 L820.038 27.2059 L828.829 27.2059 L838.146 62.6108 L847.422 27.2059 L854.876 27.2059 L843.007 72.576 L834.216 72.576 L824.454 35.3887 L814.651 72.576 L805.86 72.576 L793.991 27.2059 Z\" fill=\"#000000\" fill-rule=\"evenodd\" fill-opacity=\"1\" /><path clip-path=\"url(#clip840)\" d=\"M886.797 49.7694 Q877.764 49.7694 874.28 51.8354 Q870.796 53.9013 870.796 58.8839 Q870.796 62.8538 873.389 65.2034 Q876.022 67.5124 880.518 67.5124 Q886.716 67.5124 890.443 63.1374 Q894.21 58.7219 894.21 51.4303 L894.21 49.7694 L886.797 49.7694 M901.664 46.6907 L901.664 72.576 L894.21 72.576 L894.21 65.6895 Q891.658 69.8214 887.85 71.8063 Q884.043 73.7508 878.533 73.7508 Q871.566 73.7508 867.434 69.8619 Q863.342 65.9325 863.342 59.3701 Q863.342 51.7138 868.447 47.825 Q873.591 43.9361 883.759 43.9361 L894.21 43.9361 L894.21 43.2069 Q894.21 38.0623 890.808 35.2672 Q887.445 32.4315 881.328 32.4315 Q877.44 32.4315 873.753 33.3632 Q870.067 34.295 866.664 36.1584 L866.664 29.2718 Q870.756 27.692 874.604 26.9223 Q878.452 26.1121 882.098 26.1121 Q891.942 26.1121 896.803 31.2163 Q901.664 36.3204 901.664 46.6907 Z\" fill=\"#000000\" fill-rule=\"evenodd\" fill-opacity=\"1\" /><path clip-path=\"url(#clip840)\" d=\"M924.228 65.7705 L924.228 89.8329 L916.733 89.8329 L916.733 27.2059 L924.228 27.2059 L924.228 34.0924 Q926.577 30.0415 930.142 28.0971 Q933.747 26.1121 938.73 26.1121 Q946.994 26.1121 952.138 32.6746 Q957.323 39.2371 957.323 49.9314 Q957.323 60.6258 952.138 67.1883 Q946.994 73.7508 938.73 73.7508 Q933.747 73.7508 930.142 71.8063 Q926.577 69.8214 924.228 65.7705 M949.586 49.9314 Q949.586 41.7081 946.183 37.0496 Q942.821 32.3505 936.907 32.3505 Q930.993 32.3505 927.59 37.0496 Q924.228 41.7081 924.228 49.9314 Q924.228 58.1548 927.59 62.8538 Q930.993 67.5124 936.907 67.5124 Q942.821 67.5124 946.183 62.8538 Q949.586 58.1548 949.586 49.9314 Z\" fill=\"#000000\" fill-rule=\"evenodd\" fill-opacity=\"1\" /><path clip-path=\"url(#clip840)\" d=\"M1025.91 49.3643 Q1025.91 41.2625 1022.54 36.8065 Q1019.22 32.3505 1013.19 32.3505 Q1007.19 32.3505 1003.83 36.8065 Q1000.51 41.2625 1000.51 49.3643 Q1000.51 57.4256 1003.83 61.8816 Q1007.19 66.3376 1013.19 66.3376 Q1019.22 66.3376 1022.54 61.8816 Q1025.91 57.4256 1025.91 49.3643 M1033.36 66.9452 Q1033.36 78.5308 1028.21 84.1616 Q1023.07 89.8329 1012.46 89.8329 Q1008.53 89.8329 1005.04 89.2252 Q1001.56 88.6581 998.278 87.4428 L998.278 80.1917 Q1001.56 81.9741 1004.76 82.8248 Q1007.96 83.6755 1011.28 83.6755 Q1018.61 83.6755 1022.26 79.8271 Q1025.91 76.0193 1025.91 68.282 L1025.91 64.5957 Q1023.6 68.6061 1019.99 70.5911 Q1016.39 72.576 1011.36 72.576 Q1003.02 72.576 997.913 66.2161 Q992.809 59.8562 992.809 49.3643 Q992.809 38.832 997.913 32.472 Q1003.02 26.1121 1011.36 26.1121 Q1016.39 26.1121 1019.99 28.0971 Q1023.6 30.082 1025.91 34.0924 L1025.91 27.2059 L1033.36 27.2059 L1033.36 66.9452 Z\" fill=\"#000000\" fill-rule=\"evenodd\" fill-opacity=\"1\" /><path clip-path=\"url(#clip840)\" d=\"M1069.33 49.7694 Q1060.3 49.7694 1056.81 51.8354 Q1053.33 53.9013 1053.33 58.8839 Q1053.33 62.8538 1055.92 65.2034 Q1058.56 67.5124 1063.05 67.5124 Q1069.25 67.5124 1072.98 63.1374 Q1076.74 58.7219 1076.74 51.4303 L1076.74 49.7694 L1069.33 49.7694 M1084.2 46.6907 L1084.2 72.576 L1076.74 72.576 L1076.74 65.6895 Q1074.19 69.8214 1070.38 71.8063 Q1066.58 73.7508 1061.07 73.7508 Q1054.1 73.7508 1049.97 69.8619 Q1045.88 65.9325 1045.88 59.3701 Q1045.88 51.7138 1050.98 47.825 Q1056.12 43.9361 1066.29 43.9361 L1076.74 43.9361 L1076.74 43.2069 Q1076.74 38.0623 1073.34 35.2672 Q1069.98 32.4315 1063.86 32.4315 Q1059.97 32.4315 1056.29 33.3632 Q1052.6 34.295 1049.2 36.1584 L1049.2 29.2718 Q1053.29 27.692 1057.14 26.9223 Q1060.99 26.1121 1064.63 26.1121 Q1074.48 26.1121 1079.34 31.2163 Q1084.2 36.3204 1084.2 46.6907 Z\" fill=\"#000000\" fill-rule=\"evenodd\" fill-opacity=\"1\" /><path clip-path=\"url(#clip840)\" d=\"M1106.92 14.324 L1106.92 27.2059 L1122.28 27.2059 L1122.28 32.9987 L1106.92 32.9987 L1106.92 57.6282 Q1106.92 63.1779 1108.42 64.7578 Q1109.96 66.3376 1114.62 66.3376 L1122.28 66.3376 L1122.28 72.576 L1114.62 72.576 Q1105.99 72.576 1102.71 69.3758 Q1099.43 66.1351 1099.43 57.6282 L1099.43 32.9987 L1093.96 32.9987 L1093.96 27.2059 L1099.43 27.2059 L1099.43 14.324 L1106.92 14.324 Z\" fill=\"#000000\" fill-rule=\"evenodd\" fill-opacity=\"1\" /><path clip-path=\"url(#clip840)\" d=\"M1170.89 48.0275 L1170.89 51.6733 L1136.62 51.6733 Q1137.1 59.3701 1141.23 63.421 Q1145.41 67.4314 1152.82 67.4314 Q1157.11 67.4314 1161.12 66.3781 Q1165.18 65.3249 1169.15 63.2184 L1169.15 70.267 Q1165.13 71.9684 1160.92 72.8596 Q1156.71 73.7508 1152.37 73.7508 Q1141.52 73.7508 1135.16 67.4314 Q1128.84 61.1119 1128.84 50.3365 Q1128.84 39.1965 1134.83 32.6746 Q1140.87 26.1121 1151.08 26.1121 Q1160.23 26.1121 1165.54 32.0264 Q1170.89 37.9003 1170.89 48.0275 M1163.43 45.84 Q1163.35 39.7232 1159.99 36.0774 Q1156.67 32.4315 1151.16 32.4315 Q1144.92 32.4315 1141.15 35.9558 Q1137.43 39.4801 1136.86 45.8805 L1163.43 45.84 Z\" fill=\"#000000\" fill-rule=\"evenodd\" fill-opacity=\"1\" /><path clip-path=\"url(#clip840)\" d=\"M1205.16 27.2059 L1212.61 27.2059 L1221.93 62.6108 L1231.21 27.2059 L1240 27.2059 L1249.31 62.6108 L1258.59 27.2059 L1266.04 27.2059 L1254.17 72.576 L1245.38 72.576 L1235.62 35.3887 L1225.82 72.576 L1217.03 72.576 L1205.16 27.2059 Z\" fill=\"#000000\" fill-rule=\"evenodd\" fill-opacity=\"1\" /><path clip-path=\"url(#clip840)\" d=\"M1277.34 27.2059 L1284.8 27.2059 L1284.8 72.576 L1277.34 72.576 L1277.34 27.2059 M1277.34 9.54393 L1284.8 9.54393 L1284.8 18.9825 L1277.34 18.9825 L1277.34 9.54393 Z\" fill=\"#000000\" fill-rule=\"evenodd\" fill-opacity=\"1\" /><path clip-path=\"url(#clip840)\" d=\"M1307.77 14.324 L1307.77 27.2059 L1323.12 27.2059 L1323.12 32.9987 L1307.77 32.9987 L1307.77 57.6282 Q1307.77 63.1779 1309.27 64.7578 Q1310.81 66.3376 1315.46 66.3376 L1323.12 66.3376 L1323.12 72.576 L1315.46 72.576 Q1306.84 72.576 1303.55 69.3758 Q1300.27 66.1351 1300.27 57.6282 L1300.27 32.9987 L1294.8 32.9987 L1294.8 27.2059 L1300.27 27.2059 L1300.27 14.324 L1307.77 14.324 Z\" fill=\"#000000\" fill-rule=\"evenodd\" fill-opacity=\"1\" /><path clip-path=\"url(#clip840)\" d=\"M1370.64 45.1919 L1370.64 72.576 L1363.18 72.576 L1363.18 45.4349 Q1363.18 38.994 1360.67 35.7938 Q1358.16 32.5936 1353.14 32.5936 Q1347.1 32.5936 1343.62 36.4419 Q1340.13 40.2903 1340.13 46.9338 L1340.13 72.576 L1332.64 72.576 L1332.64 9.54393 L1340.13 9.54393 L1340.13 34.2544 Q1342.81 30.163 1346.41 28.1376 Q1350.06 26.1121 1354.8 26.1121 Q1362.62 26.1121 1366.63 30.9732 Q1370.64 35.7938 1370.64 45.1919 Z\" fill=\"#000000\" fill-rule=\"evenodd\" fill-opacity=\"1\" /><path clip-path=\"url(#clip840)\" d=\"M1420.38 18.8205 L1420.38 65.8515 L1430.27 65.8515 Q1442.78 65.8515 1448.58 60.1802 Q1454.41 54.509 1454.41 42.2752 Q1454.41 30.1225 1448.58 24.4918 Q1442.78 18.8205 1430.27 18.8205 L1420.38 18.8205 M1412.2 12.096 L1429.01 12.096 Q1446.59 12.096 1454.81 19.4281 Q1463.04 26.7198 1463.04 42.2752 Q1463.04 57.9117 1454.77 65.2439 Q1446.51 72.576 1429.01 72.576 L1412.2 72.576 L1412.2 12.096 Z\" fill=\"#000000\" fill-rule=\"evenodd\" fill-opacity=\"1\" /><path clip-path=\"url(#clip840)\" d=\"M1504.76 44.2197 Q1507.4 45.1109 1509.87 48.0275 Q1512.38 50.9442 1514.89 56.0483 L1523.19 72.576 L1514.4 72.576 L1506.67 57.061 Q1503.67 50.9847 1500.83 48.9997 Q1498.04 47.0148 1493.18 47.0148 L1484.27 47.0148 L1484.27 72.576 L1476.08 72.576 L1476.08 12.096 L1494.55 12.096 Q1504.92 12.096 1510.03 16.4305 Q1515.13 20.7649 1515.13 29.5149 Q1515.13 35.2267 1512.46 38.994 Q1509.83 42.7613 1504.76 44.2197 M1484.27 18.8205 L1484.27 40.2903 L1494.55 40.2903 Q1500.47 40.2903 1503.47 37.5762 Q1506.5 34.8216 1506.5 29.5149 Q1506.5 24.2082 1503.47 21.5346 Q1500.47 18.8205 1494.55 18.8205 L1484.27 18.8205 Z\" fill=\"#000000\" fill-rule=\"evenodd\" fill-opacity=\"1\" /><path clip-path=\"url(#clip840)\" d=\"M1550.58 20.1573 L1539.48 50.2555 L1561.72 50.2555 L1550.58 20.1573 M1545.96 12.096 L1555.24 12.096 L1578.29 72.576 L1569.78 72.576 L1564.27 57.061 L1537.01 57.061 L1531.5 72.576 L1522.87 72.576 L1545.96 12.096 Z\" fill=\"#000000\" fill-rule=\"evenodd\" fill-opacity=\"1\" /><path clip-path=\"url(#clip840)\" d=\"M1626.9 63.9476 L1626.9 47.7034 L1613.53 47.7034 L1613.53 40.9789 L1635 40.9789 L1635 66.9452 Q1630.26 70.3075 1624.55 72.0494 Q1618.84 73.7508 1612.35 73.7508 Q1598.18 73.7508 1590.16 65.4869 Q1582.18 57.1826 1582.18 42.3968 Q1582.18 27.5705 1590.16 19.3066 Q1598.18 11.0023 1612.35 11.0023 Q1618.27 11.0023 1623.58 12.4606 Q1628.92 13.9189 1633.42 16.7545 L1633.42 25.464 Q1628.88 21.6156 1623.78 19.6712 Q1618.67 17.7268 1613.04 17.7268 Q1601.94 17.7268 1596.35 23.9246 Q1590.8 30.1225 1590.8 42.3968 Q1590.8 54.6305 1596.35 60.8284 Q1601.94 67.0263 1613.04 67.0263 Q1617.38 67.0263 1620.78 66.2971 Q1624.18 65.5274 1626.9 63.9476 Z\" fill=\"#000000\" fill-rule=\"evenodd\" fill-opacity=\"1\" /><path clip-path=\"url(#clip840)\" d=\"M1683.2 65.7705 L1683.2 89.8329 L1675.71 89.8329 L1675.71 27.2059 L1683.2 27.2059 L1683.2 34.0924 Q1685.55 30.0415 1689.12 28.0971 Q1692.72 26.1121 1697.71 26.1121 Q1705.97 26.1121 1711.12 32.6746 Q1716.3 39.2371 1716.3 49.9314 Q1716.3 60.6258 1711.12 67.1883 Q1705.97 73.7508 1697.71 73.7508 Q1692.72 73.7508 1689.12 71.8063 Q1685.55 69.8214 1683.2 65.7705 M1708.56 49.9314 Q1708.56 41.7081 1705.16 37.0496 Q1701.8 32.3505 1695.88 32.3505 Q1689.97 32.3505 1686.57 37.0496 Q1683.2 41.7081 1683.2 49.9314 Q1683.2 58.1548 1686.57 62.8538 Q1689.97 67.5124 1695.88 67.5124 Q1701.8 67.5124 1705.16 62.8538 Q1708.56 58.1548 1708.56 49.9314 Z\" fill=\"#000000\" fill-rule=\"evenodd\" fill-opacity=\"1\" /><path clip-path=\"url(#clip840)\" d=\"M1727.89 54.671 L1727.89 27.2059 L1735.34 27.2059 L1735.34 54.3874 Q1735.34 60.8284 1737.85 64.0691 Q1740.36 67.2693 1745.39 67.2693 Q1751.42 67.2693 1754.91 63.421 Q1758.43 59.5726 1758.43 52.9291 L1758.43 27.2059 L1765.88 27.2059 L1765.88 72.576 L1758.43 72.576 L1758.43 65.6084 Q1755.72 69.7404 1752.11 71.7658 Q1748.55 73.7508 1743.81 73.7508 Q1735.99 73.7508 1731.94 68.8897 Q1727.89 64.0286 1727.89 54.671 M1746.64 26.1121 L1746.64 26.1121 Z\" fill=\"#000000\" fill-rule=\"evenodd\" fill-opacity=\"1\" /><path clip-path=\"url(#clip840)\" d=\"M1781.24 9.54393 L1788.69 9.54393 L1788.69 72.576 L1781.24 72.576 L1781.24 9.54393 Z\" fill=\"#000000\" fill-rule=\"evenodd\" fill-opacity=\"1\" /><path clip-path=\"url(#clip840)\" d=\"M1833.21 28.5427 L1833.21 35.5912 Q1830.05 33.9709 1826.65 33.1607 Q1823.24 32.3505 1819.6 32.3505 Q1814.05 32.3505 1811.25 34.0519 Q1808.5 35.7533 1808.5 39.156 Q1808.5 41.7486 1810.48 43.2475 Q1812.47 44.7058 1818.46 46.0426 L1821.02 46.6097 Q1828.96 48.3111 1832.28 51.4303 Q1835.64 54.509 1835.64 60.0587 Q1835.64 66.3781 1830.62 70.0644 Q1825.63 73.7508 1816.88 73.7508 Q1813.24 73.7508 1809.27 73.0216 Q1805.34 72.3329 1800.96 70.9151 L1800.96 63.2184 Q1805.1 65.3654 1809.11 66.4591 Q1813.12 67.5124 1817.05 67.5124 Q1822.31 67.5124 1825.15 65.73 Q1827.98 63.9071 1827.98 60.6258 Q1827.98 57.5877 1825.92 55.9673 Q1823.89 54.3469 1816.97 52.8481 L1814.37 52.2405 Q1807.45 50.7821 1804.37 47.7845 Q1801.29 44.7463 1801.29 39.4801 Q1801.29 33.0797 1805.83 29.5959 Q1810.36 26.1121 1818.71 26.1121 Q1822.84 26.1121 1826.49 26.7198 Q1830.13 27.3274 1833.21 28.5427 Z\" fill=\"#000000\" fill-rule=\"evenodd\" fill-opacity=\"1\" /><path clip-path=\"url(#clip840)\" d=\"M1886.32 48.0275 L1886.32 51.6733 L1852.05 51.6733 Q1852.53 59.3701 1856.66 63.421 Q1860.84 67.4314 1868.25 67.4314 Q1872.54 67.4314 1876.55 66.3781 Q1880.61 65.3249 1884.58 63.2184 L1884.58 70.267 Q1880.56 71.9684 1876.35 72.8596 Q1872.14 73.7508 1867.8 73.7508 Q1856.95 73.7508 1850.59 67.4314 Q1844.27 61.1119 1844.27 50.3365 Q1844.27 39.1965 1850.26 32.6746 Q1856.3 26.1121 1866.51 26.1121 Q1875.66 26.1121 1880.97 32.0264 Q1886.32 37.9003 1886.32 48.0275 M1878.86 45.84 Q1878.78 39.7232 1875.42 36.0774 Q1872.1 32.4315 1866.59 32.4315 Q1860.35 32.4315 1856.58 35.9558 Q1852.86 39.4801 1852.29 45.8805 L1878.86 45.84 Z\" fill=\"#000000\" fill-rule=\"evenodd\" fill-opacity=\"1\" /><polyline clip-path=\"url(#clip842)\" style=\"stroke:#009af9; stroke-linecap:round; stroke-linejoin:round; stroke-width:4; stroke-opacity:1; fill:none\" points=\"\n  335.627,125.82 337.587,125.82 339.548,125.82 341.508,125.82 343.468,125.82 345.429,125.82 347.389,125.82 349.349,125.82 351.31,125.82 353.27,125.82 \n  355.23,125.82 357.191,125.82 359.151,125.82 361.111,125.82 363.072,125.82 365.032,125.82 366.992,125.821 368.953,125.821 370.913,125.821 372.873,125.821 \n  374.834,125.821 376.794,125.821 378.754,125.821 380.715,125.821 382.675,125.821 384.635,125.821 386.596,125.821 388.556,125.822 390.516,125.822 392.477,125.822 \n  394.437,125.822 396.397,125.822 398.358,125.822 400.318,125.822 402.278,125.822 404.239,125.822 406.199,125.823 408.159,125.823 410.12,125.823 412.08,125.823 \n  414.04,125.824 416.001,125.824 417.961,125.824 419.921,125.824 421.882,125.824 423.842,125.824 425.802,125.825 427.763,125.825 429.723,125.825 431.683,125.825 \n  433.644,125.825 435.604,125.825 437.564,125.826 439.525,125.826 441.485,125.826 443.445,125.827 445.406,125.827 447.366,125.827 449.326,125.827 451.287,125.827 \n  453.247,125.827 455.207,125.827 457.168,125.827 459.128,125.828 461.088,125.828 463.049,125.828 465.009,125.828 466.969,125.829 468.93,125.829 470.89,125.829 \n  472.851,125.829 474.811,125.829 476.771,125.829 478.732,125.829 480.692,125.829 482.652,125.829 484.613,125.829 486.573,125.83 488.533,125.83 490.494,125.83 \n  492.454,125.83 494.414,125.831 496.375,125.831 498.335,125.831 500.295,125.83 502.256,125.83 504.216,125.83 506.176,125.83 508.137,125.83 510.097,125.83 \n  512.057,125.831 514.018,125.831 515.978,125.831 517.938,125.831 519.899,125.831 521.859,125.831 523.819,125.831 525.78,125.831 527.74,125.831 529.7,125.831 \n  531.661,125.831 533.621,125.83 535.581,125.83 537.542,125.83 539.502,125.831 541.462,125.831 543.423,125.831 545.383,125.831 547.343,125.831 549.304,125.831 \n  551.264,125.831 553.224,125.831 555.185,125.831 557.145,125.831 559.105,125.83 561.066,125.83 563.026,125.83 564.986,125.83 566.947,125.83 568.907,125.831 \n  570.867,125.831 572.828,125.831 574.788,125.831 576.748,125.831 578.709,125.831 580.669,125.831 582.629,125.831 584.59,125.831 586.55,125.831 588.51,125.831 \n  590.471,125.832 592.431,125.832 594.391,125.832 596.352,125.833 598.312,125.833 600.272,125.833 602.233,125.834 604.193,125.834 606.153,125.835 608.114,125.835 \n  610.074,125.835 612.035,125.835 613.995,125.836 615.955,125.836 617.916,125.837 619.876,125.837 621.836,125.838 623.797,125.838 625.757,125.839 627.717,125.84 \n  629.678,125.841 631.638,125.842 633.598,125.842 635.559,125.843 637.519,125.844 639.479,125.845 641.44,125.845 643.4,125.846 645.36,125.847 647.321,125.848 \n  649.281,125.849 651.241,125.85 653.202,125.851 655.162,125.852 657.122,125.853 659.083,125.855 661.043,125.856 663.003,125.857 664.964,125.858 666.924,125.86 \n  668.884,125.861 670.845,125.862 672.805,125.863 674.765,125.864 676.726,125.865 678.686,125.867 680.646,125.868 682.607,125.87 684.567,125.871 686.527,125.873 \n  688.488,125.874 690.448,125.876 692.408,125.878 694.369,125.879 696.329,125.881 698.289,125.882 700.25,125.884 702.21,125.885 704.17,125.887 706.131,125.888 \n  708.091,125.889 710.051,125.891 712.012,125.892 713.972,125.894 715.932,125.895 717.893,125.897 719.853,125.899 721.813,125.9 723.774,125.902 725.734,125.904 \n  727.694,125.905 729.655,125.907 731.615,125.908 733.575,125.909 735.536,125.91 737.496,125.912 739.456,125.913 741.417,125.914 743.377,125.915 745.337,125.916 \n  747.298,125.917 749.258,125.918 751.219,125.919 753.179,125.921 755.139,125.922 757.1,125.923 759.06,125.924 761.02,125.925 762.981,125.926 764.941,125.926 \n  766.901,125.927 768.862,125.927 770.822,125.928 772.782,125.928 774.743,125.928 776.703,125.928 778.663,125.929 780.624,125.929 782.584,125.929 784.544,125.929 \n  786.505,125.93 788.465,125.93 790.425,125.93 792.386,125.93 794.346,125.93 796.306,125.93 798.267,125.93 800.227,125.929 802.187,125.929 804.148,125.928 \n  806.108,125.927 808.068,125.926 810.029,125.925 811.989,125.924 813.949,125.923 815.91,125.923 817.87,125.922 819.83,125.921 821.791,125.92 823.751,125.919 \n  825.711,125.919 827.672,125.918 829.632,125.917 831.592,125.915 833.553,125.914 835.513,125.913 837.473,125.911 839.434,125.91 841.394,125.908 843.354,125.906 \n  845.315,125.905 847.275,125.903 849.235,125.901 851.196,125.9 853.156,125.898 855.116,125.897 857.077,125.896 859.037,125.894 860.997,125.893 862.958,125.892 \n  864.918,125.89 866.878,125.889 868.839,125.887 870.799,125.886 872.759,125.884 874.72,125.882 876.68,125.88 878.64,125.879 880.601,125.877 882.561,125.875 \n  884.522,125.873 886.482,125.872 888.442,125.871 890.403,125.869 892.363,125.868 894.323,125.867 896.284,125.866 898.244,125.865 900.204,125.864 902.165,125.863 \n  904.125,125.862 906.085,125.861 908.046,125.86 910.006,125.859 911.966,125.858 913.927,125.856 915.887,125.855 917.847,125.854 919.808,125.853 921.768,125.852 \n  923.728,125.852 925.689,125.851 927.649,125.85 929.609,125.85 931.57,125.85 933.53,125.849 935.49,125.849 937.451,125.849 939.411,125.849 941.371,125.848 \n  943.332,125.848 945.292,125.848 947.252,125.847 949.213,125.847 951.173,125.846 953.133,125.846 955.094,125.845 957.054,125.845 959.014,125.845 960.975,125.844 \n  962.935,125.844 964.895,125.844 966.856,125.844 968.816,125.844 970.776,125.844 972.737,125.845 974.697,125.845 976.657,125.845 978.618,125.844 980.578,125.844 \n  982.538,125.844 984.499,125.843 986.459,125.843 988.419,125.842 990.38,125.842 992.34,125.842 994.3,125.843 996.261,125.843 998.221,125.843 1000.18,125.843 \n  1002.14,125.843 1004.1,125.844 1006.06,125.844 1008.02,125.845 1009.98,125.845 1011.94,125.846 1013.9,125.846 1015.86,125.847 1017.82,125.847 1019.78,125.847 \n  1021.75,125.847 1023.71,125.847 1025.67,125.847 1027.63,125.846 1029.59,125.845 1031.55,125.844 1033.51,125.843 1035.47,125.842 1037.43,125.841 1039.39,125.841 \n  1041.35,125.842 1043.31,125.845 1045.27,125.849 1047.23,125.855 1049.19,125.863 1051.15,125.874 1053.11,125.887 1055.07,125.902 1057.03,125.919 1058.99,125.937 \n  1060.95,125.958 1062.91,125.98 1064.87,126.004 1066.83,126.03 1068.79,126.058 1070.75,126.088 1072.71,126.12 1074.67,126.153 1076.63,126.187 1078.59,126.22 \n  1080.56,126.251 1082.52,126.281 1084.48,126.308 1086.44,126.332 1088.4,126.353 1090.36,126.37 1092.32,126.383 1094.28,126.393 1096.24,126.4 1098.2,126.404 \n  1100.16,126.405 1102.12,126.405 1104.08,126.405 1106.04,126.405 1108,126.406 1109.96,126.409 1111.92,126.417 1113.88,126.428 1115.84,126.445 1117.8,126.468 \n  1119.76,126.498 1121.72,126.535 1123.68,126.581 1125.64,126.635 1127.6,126.699 1129.56,126.772 1131.52,126.856 1133.48,126.951 1135.44,127.057 1137.41,127.176 \n  1139.37,127.305 1141.33,127.445 1143.29,127.593 1145.25,127.749 1147.21,127.909 1149.17,128.071 1151.13,128.233 1153.09,128.393 1155.05,128.548 1157.01,128.696 \n  1158.97,128.836 1160.93,128.968 1162.89,129.091 1164.85,129.202 1166.81,129.303 1168.77,129.392 1170.73,129.467 1172.69,129.53 1174.65,129.579 1176.61,129.616 \n  1178.57,129.641 1180.53,129.656 1182.49,129.663 1184.45,129.666 1186.41,129.666 1188.37,129.667 1190.33,129.672 1192.29,129.684 1194.25,129.706 1196.22,129.741 \n  1198.18,129.791 1200.14,129.859 1202.1,129.945 1204.06,130.051 1206.02,130.179 1207.98,130.328 1209.94,130.499 1211.9,130.693 1213.86,130.908 1215.82,131.145 \n  1217.78,131.401 1219.74,131.675 1221.7,131.966 1223.66,132.271 1225.62,132.588 1227.58,132.914 1229.54,133.245 1231.5,133.578 1233.46,133.91 1235.42,134.236 \n  1237.38,134.553 1239.34,134.858 1241.3,135.146 1243.26,135.414 1245.22,135.661 1247.18,135.883 1249.14,136.08 1251.1,136.252 1253.07,136.398 1255.03,136.52 \n  1256.99,136.619 1258.95,136.695 1260.91,136.751 1262.87,136.789 1264.83,136.813 1266.79,136.825 1268.75,136.829 1270.71,136.829 1272.67,136.83 1274.63,136.836 \n  1276.59,136.852 1278.55,136.881 1280.51,136.928 1282.47,136.997 1284.43,137.091 1286.39,137.212 1288.35,137.363 1290.31,137.546 1292.27,137.762 1294.23,138.012 \n  1296.19,138.298 1298.15,138.618 1300.11,138.972 1302.07,139.36 1304.03,139.779 1305.99,140.228 1307.95,140.705 1309.91,141.207 1311.88,141.73 1313.84,142.271 \n  1315.8,142.825 1317.76,143.387 1319.72,143.951 1321.68,144.512 1323.64,145.065 1325.6,145.601 1327.56,146.115 1329.52,146.599 1331.48,147.048 1333.44,147.455 \n  1335.4,147.815 1337.36,148.125 1339.32,148.384 1341.28,148.593 1343.24,148.752 1345.2,148.868 1347.16,148.946 1349.12,148.992 1351.08,149.015 1353.04,149.023 \n  1355,149.023 1356.96,149.026 1358.92,149.038 1360.88,149.069 1362.84,149.127 1364.8,149.22 1366.76,149.353 1368.73,149.535 1370.69,149.771 1372.65,150.063 \n  1374.61,150.416 1376.57,150.83 1378.53,151.307 1380.49,151.845 1382.45,152.443 1384.41,153.099 1386.37,153.808 1388.33,154.569 1390.29,155.375 1392.25,156.223 \n  1394.21,157.109 1396.17,158.026 1398.13,158.968 1400.09,159.929 1402.05,160.898 1404.01,161.867 1405.97,162.824 1407.93,163.757 1409.89,164.654 1411.85,165.502 \n  1413.81,166.289 1415.77,167.007 1417.73,167.648 1419.69,168.206 1421.65,168.68 1423.61,169.07 1425.57,169.38 1427.54,169.614 1429.5,169.78 1431.46,169.888 \n  1433.42,169.95 1435.38,169.977 1437.34,169.984 1439.3,169.984 1441.26,169.989 1443.22,170.013 1445.18,170.066 1447.14,170.16 1449.1,170.304 1451.06,170.505 \n  1453.02,170.772 1454.98,171.113 1456.94,171.532 1458.9,172.038 1460.86,172.634 1462.82,173.327 1464.78,174.12 1466.74,175.017 1468.7,176.023 1470.66,177.138 \n  1472.62,178.365 1474.58,179.704 1476.54,181.153 1478.5,182.71 1480.46,184.371 1482.42,186.13 1484.38,187.981 1486.35,189.916 1488.31,191.924 1490.27,193.993 \n  1492.23,196.105 1494.19,198.24 1496.15,200.373 1498.11,202.475 1500.07,204.508 1502.03,206.434 1503.99,208.209 1505.95,209.794 1507.91,211.157 1509.87,212.274 \n  1511.83,213.141 1513.79,213.764 1515.75,214.172 1517.71,214.405 1519.67,214.509 1521.63,214.536 1523.59,214.536 1525.55,214.553 1527.51,214.627 1529.47,214.792 \n  1531.43,215.076 1533.39,215.499 1535.35,216.079 1537.31,216.827 1539.27,217.752 1541.23,218.858 1543.2,220.151 1545.16,221.632 1547.12,223.303 1549.08,225.165 \n  1551.04,227.215 1553,229.455 1554.96,231.881 1556.92,234.495 1558.88,237.292 1560.84,240.271 1562.8,243.427 1564.76,246.753 1566.72,250.24 1568.68,253.877 \n  1570.64,257.649 1572.6,261.539 1574.56,265.526 1576.52,269.582 1578.48,273.674 1580.44,277.766 1582.4,281.811 1584.36,285.761 1586.32,289.557 1588.28,293.139 \n  1590.24,296.439 1592.2,299.392 1594.16,301.933 1596.12,304.012 1598.08,305.595 1600.04,306.676 1602.01,307.278 1603.97,307.449 1605.93,307.258 1607.89,306.787 \n  1609.85,306.115 1611.81,305.319 1613.77,304.465 1615.73,303.605 1617.69,302.783 1619.65,302.027 1621.61,301.36 1623.57,300.792 1625.53,300.329 1627.49,299.969 \n  1629.45,299.702 1631.41,299.518 1633.37,299.402 1635.33,299.337 1637.29,299.307 1639.25,299.297 1641.21,299.296 1643.17,299.01 1645.13,298.746 1647.09,298.502 \n  1649.05,298.276 1651.01,298.066 1652.97,297.872 1654.93,297.689 1656.89,297.518 1658.86,297.355 1660.82,297.197 1662.78,297.042 1664.74,296.888 1666.7,296.73 \n  1668.66,296.567 1670.62,296.395 1672.58,296.211 1674.54,296.014 1676.5,295.802 1678.46,295.572 1680.42,295.324 1682.38,295.056 1684.34,294.767 1686.3,294.458 \n  1688.26,294.126 1690.22,293.772 1692.18,293.395 1694.14,292.996 1696.1,292.573 1698.06,292.128 1700.02,291.661 1701.98,291.173 1703.94,290.664 1705.9,290.136 \n  1707.86,289.588 1709.82,289.023 1711.78,288.44 1713.74,287.84 1715.7,287.225 1717.67,286.595 1719.63,285.95 1721.59,285.293 1723.55,284.625 1725.51,283.948 \n  1727.47,283.263 1729.43,282.572 1731.39,281.878 1733.35,281.183 1735.31,280.487 1737.27,279.794 1739.23,279.103 1741.19,278.417 1743.15,277.735 1745.11,277.06 \n  1747.07,276.392 1749.03,275.733 1750.99,275.082 1752.95,274.44 1754.91,273.809 1756.87,273.188 1758.83,272.578 1760.79,271.979 1762.75,271.391 1764.71,270.814 \n  1766.67,270.247 1768.63,269.692 1770.59,269.149 1772.55,268.617 1774.51,268.098 1776.48,267.593 1778.44,267.102 1780.4,266.627 1782.36,266.166 1784.32,265.722 \n  1786.28,265.294 1788.24,264.881 1790.2,264.484 1792.16,264.103 1794.12,263.737 1796.08,263.386 1798.04,263.05 1800,262.729 1801.96,262.423 1803.92,262.131 \n  1805.88,261.854 1807.84,261.591 1809.8,261.342 1811.76,261.107 1813.72,260.886 1815.68,260.679 1817.64,260.486 1819.6,260.307 1821.56,260.143 1823.52,259.993 \n  1825.48,259.86 1827.44,259.742 1829.4,259.641 1831.36,259.555 1833.33,259.485 1835.29,259.43 1837.25,259.39 1839.21,259.364 1841.17,259.351 1843.13,259.352 \n  1845.09,259.365 1847.05,259.392 1849.01,259.431 1850.97,259.484 1852.93,259.55 1854.89,259.631 1856.85,259.725 1858.81,259.833 1860.77,259.955 1862.73,260.091 \n  1864.69,260.241 1866.65,260.405 1868.61,260.584 1870.57,260.777 1872.53,260.984 1874.49,261.206 1876.45,261.442 1878.41,261.692 1880.37,261.956 1882.33,262.233 \n  1884.29,262.523 1886.25,262.825 1888.21,263.139 1890.17,263.464 1892.14,263.802 1894.1,264.151 1896.06,264.514 1898.02,264.891 1899.98,265.282 1901.94,265.687 \n  1903.9,266.108 1905.86,266.543 1907.82,266.993 1909.78,267.456 1911.74,267.933 1913.7,268.423 1915.66,268.925 1917.62,269.439 1919.58,269.966 1921.54,270.504 \n  1923.5,271.055 1925.46,271.618 1927.42,272.194 1929.38,272.781 1931.34,273.382 1933.3,273.994 1935.26,274.619 1937.22,275.256 1939.18,275.906 1941.14,276.569 \n  1943.1,277.244 1945.06,277.933 1947.02,278.635 1948.99,279.35 1950.95,280.077 1952.91,280.815 1954.87,281.564 1956.83,282.323 1958.79,283.089 1960.75,283.863 \n  1962.71,284.645 1964.67,285.433 1966.63,286.229 1968.59,287.032 1970.55,287.845 1972.51,288.666 1974.47,289.496 1976.43,290.336 1978.39,291.182 1980.35,292.035 \n  1982.31,292.892 1984.27,293.752 1986.23,294.612 1988.19,295.471 1990.15,296.328 1992.11,297.183 1994.07,298.033 1996.03,298.879 1997.99,299.72 1999.95,300.554 \n  2001.91,301.381 2003.87,302.2 2005.83,303.008 2007.8,303.805 2009.76,304.589 2011.72,305.359 2013.68,306.112 2015.64,306.848 2017.6,307.566 2019.56,308.264 \n  2021.52,308.94 2023.48,309.592 2025.44,310.218 2027.4,310.817 2029.36,311.385 2031.32,311.921 2033.28,312.425 2035.24,312.896 2037.2,313.336 2039.16,313.744 \n  2041.12,314.124 2043.08,314.476 2045.04,314.801 2047,315.1 2048.96,315.374 2050.92,315.621 2052.88,315.841 2054.84,316.032 2056.8,316.195 2058.76,316.329 \n  2060.72,316.436 2062.68,316.518 2064.65,316.578 2066.61,316.618 2068.57,316.644 2070.53,316.656 2072.49,316.659 2074.45,316.653 2076.41,316.641 2078.37,316.622 \n  2080.33,316.597 2082.29,316.565 2084.25,316.528 2086.21,316.486 2088.17,316.44 2090.13,316.391 2092.09,316.343 2094.05,316.296 2096.01,316.253 2097.97,316.214 \n  2099.93,316.181 2101.89,316.155 2103.85,316.136 2105.81,316.127 2107.77,316.127 2109.73,316.137 2111.69,316.159 2113.65,316.192 2115.61,316.237 2117.57,316.295 \n  2119.53,316.364 2121.49,316.445 2123.46,316.538 2125.42,316.642 2127.38,316.757 2129.34,316.886 2131.3,317.028 2133.26,317.187 2135.22,317.364 2137.18,317.56 \n  2139.14,317.777 2141.1,318.014 2143.06,318.27 2145.02,318.544 2146.98,318.834 2148.94,319.137 2150.9,319.455 2152.86,319.786 2154.82,320.132 2156.78,320.496 \n  2158.74,320.881 2160.7,321.289 2162.66,321.722 2164.62,322.18 2166.58,322.664 2168.54,323.171 2170.5,323.7 2172.46,324.247 2174.42,324.812 2176.38,325.395 \n  2178.34,325.996 2180.3,326.618 2182.27,327.262 2184.23,327.932 2186.19,328.631 2188.15,329.359 2190.11,330.119 2192.07,330.909 2194.03,331.729 2195.99,332.576 \n  2197.95,333.45 2199.91,334.349 2201.87,335.274 2203.83,336.226 2205.79,337.208 2207.75,338.222 2209.71,339.272 2211.67,340.361 2213.63,341.491 2215.59,342.662 \n  2217.55,343.875 2219.51,345.131 2221.47,346.429 2223.43,347.77 2225.39,349.156 2227.35,350.587 2229.31,352.067 2231.27,353.6 2233.23,355.188 2235.19,356.836 \n  2237.15,358.547 2239.12,360.326 2241.08,362.179 2243.04,364.109 2245,366.124 2246.96,368.229 2248.92,370.432 2250.88,372.738 2252.84,375.154 2254.8,377.686 \n  2256.76,380.343 2258.72,383.138 2260.68,386.085 2262.64,389.207 2264.6,392.529 2266.56,396.085 2268.52,399.911 2270.48,404.053 2272.44,408.564 2274.4,413.506 \n  2276.36,418.958 2278.32,425.025 2280.28,431.857 2282.24,439.681 2284.2,448.858 2286.16,460.006 2288.12,474.29 2290.08,494.314 2292.04,528.305 2294,666.015 \n  \n  \"/>\n<polyline clip-path=\"url(#clip842)\" style=\"stroke:#e26f46; stroke-linecap:round; stroke-linejoin:round; stroke-width:4; stroke-opacity:1; fill:none\" points=\"\n  335.627,1621.15 337.587,529.154 339.548,494.715 341.508,474.456 343.468,460.01 345.429,448.756 347.389,439.526 349.349,431.699 351.31,424.903 353.27,418.896 \n  355.23,413.512 357.191,408.63 359.151,404.162 361.111,400.039 363.072,396.209 365.032,392.632 366.992,389.277 368.953,386.123 370.913,383.15 372.873,380.342 \n  374.834,377.686 376.794,375.167 378.754,372.772 380.715,370.49 382.675,368.308 384.635,366.216 386.596,364.206 388.556,362.272 390.516,360.409 392.477,358.615 \n  394.437,356.888 396.397,355.227 398.358,353.631 400.318,352.097 402.278,350.622 404.239,349.201 406.199,347.829 408.159,346.501 410.12,345.213 412.08,343.963 \n  414.04,342.749 416.001,341.571 417.961,340.431 419.921,339.33 421.882,338.268 423.842,337.246 425.802,336.261 427.763,335.312 429.723,334.395 431.683,333.506 \n  433.644,332.643 435.604,331.804 437.564,330.99 439.525,330.2 441.485,329.436 443.445,328.699 445.406,327.991 447.366,327.31 449.326,326.657 451.287,326.031 \n  453.247,325.43 455.207,324.851 457.168,324.293 459.128,323.755 461.088,323.236 463.049,322.736 465.009,322.255 466.969,321.795 468.93,321.356 470.89,320.939 \n  472.851,320.543 474.811,320.169 476.771,319.815 478.732,319.48 480.692,319.165 482.652,318.867 484.613,318.586 486.573,318.321 488.533,318.073 490.494,317.84 \n  492.454,317.624 494.414,317.423 496.375,317.238 498.335,317.069 500.295,316.916 502.256,316.778 504.216,316.658 506.176,316.553 508.137,316.463 510.097,316.388 \n  512.057,316.325 514.018,316.274 515.978,316.233 517.938,316.2 519.899,316.176 521.859,316.16 523.819,316.152 525.78,316.154 527.74,316.165 529.7,316.186 \n  531.661,316.217 533.621,316.256 535.581,316.3 537.542,316.349 539.502,316.398 541.462,316.445 543.423,316.489 545.383,316.527 547.343,316.56 549.304,316.588 \n  551.264,316.61 553.224,316.629 555.185,316.642 557.145,316.648 559.105,316.647 561.066,316.633 563.026,316.605 564.986,316.558 566.947,316.49 568.907,316.399 \n  570.867,316.283 572.828,316.143 574.788,315.978 576.748,315.789 578.709,315.574 580.669,315.333 582.629,315.066 584.59,314.772 586.55,314.449 588.51,314.096 \n  590.471,313.712 592.431,313.298 594.391,312.852 596.352,312.374 598.312,311.865 600.272,311.325 602.233,310.756 604.193,310.158 606.153,309.533 608.114,308.883 \n  610.074,308.21 612.035,307.515 613.995,306.802 615.955,306.07 617.916,305.323 619.876,304.56 621.836,303.782 623.797,302.99 625.757,302.183 627.717,301.364 \n  629.678,300.532 631.638,299.691 633.598,298.842 635.559,297.988 637.519,297.133 639.479,296.276 641.44,295.422 643.4,294.569 645.36,293.72 647.321,292.873 \n  649.281,292.029 651.241,291.187 653.202,290.347 655.162,289.511 657.122,288.679 659.083,287.852 661.043,287.032 663.003,286.219 664.964,285.415 666.924,284.621 \n  668.884,283.837 670.845,283.063 672.805,282.3 674.765,281.548 676.726,280.806 678.686,280.076 680.646,279.356 682.607,278.648 684.567,277.951 686.527,277.265 \n  688.488,276.59 690.448,275.927 692.408,275.274 694.369,274.633 696.329,274.003 698.289,273.386 700.25,272.781 702.21,272.19 704.17,271.612 706.131,271.049 \n  708.091,270.5 710.051,269.965 712.012,269.443 713.972,268.934 715.932,268.438 717.893,267.954 719.853,267.481 721.813,267.02 723.774,266.571 725.734,266.135 \n  727.694,265.711 729.655,265.302 731.615,264.906 733.575,264.524 735.536,264.157 737.496,263.803 739.456,263.464 741.417,263.138 743.377,262.825 745.337,262.526 \n  747.298,262.24 749.258,261.968 751.219,261.708 753.179,261.462 755.139,261.229 757.1,261.009 759.06,260.802 761.02,260.608 762.981,260.427 764.941,260.26 \n  766.901,260.106 768.862,259.965 770.822,259.84 772.782,259.729 774.743,259.633 776.703,259.552 778.663,259.486 780.624,259.434 782.584,259.395 784.544,259.371 \n  786.505,259.359 788.465,259.36 790.425,259.375 792.386,259.403 794.346,259.444 796.306,259.5 798.267,259.571 800.227,259.656 802.187,259.756 804.148,259.872 \n  806.108,260.003 808.068,260.148 810.029,260.309 811.989,260.484 813.949,260.674 815.91,260.879 817.87,261.099 819.83,261.334 821.791,261.585 823.751,261.849 \n  825.711,262.129 827.672,262.422 829.632,262.73 831.592,263.051 833.553,263.387 835.513,263.737 837.473,264.102 839.434,264.483 841.394,264.88 843.354,265.292 \n  845.315,265.721 847.275,266.165 849.235,266.625 851.196,267.099 853.156,267.587 855.116,268.088 857.077,268.603 859.037,269.13 860.997,269.67 862.958,270.223 \n  864.918,270.788 866.878,271.366 868.839,271.956 870.799,272.558 872.759,273.171 874.72,273.794 876.68,274.427 878.64,275.07 880.601,275.722 882.561,276.383 \n  884.522,277.052 886.482,277.729 888.442,278.412 890.403,279.1 892.363,279.791 894.323,280.484 896.284,281.177 898.244,281.867 900.204,282.555 902.165,283.238 \n  904.125,283.915 906.085,284.587 908.046,285.251 910.006,285.908 911.966,286.556 913.927,287.192 915.887,287.816 917.847,288.425 919.808,289.018 921.768,289.592 \n  923.728,290.148 925.689,290.683 927.649,291.198 929.609,291.691 931.57,292.161 933.53,292.608 935.49,293.03 937.451,293.427 939.411,293.799 941.371,294.147 \n  943.332,294.47 945.292,294.77 947.252,295.051 949.213,295.313 951.173,295.558 953.133,295.788 955.094,296.005 957.054,296.21 959.014,296.402 960.975,296.585 \n  962.935,296.759 964.895,296.926 966.856,297.089 968.816,297.251 970.776,297.414 972.737,297.582 974.697,297.755 976.657,297.937 978.618,298.129 980.578,298.334 \n  982.538,298.552 984.499,298.787 986.459,299.041 988.419,299.317 990.38,299.315 992.34,299.302 994.3,299.268 996.261,299.199 998.221,299.08 1000.18,298.9 \n  1002.14,298.648 1004.1,298.319 1006.06,297.916 1008.02,297.447 1009.98,296.93 1011.94,296.389 1013.9,295.856 1015.86,295.37 1017.82,294.974 1019.78,294.715 \n  1021.75,294.644 1023.71,294.816 1025.67,295.286 1027.63,296.115 1029.59,297.369 1031.55,299.113 1033.51,301.419 1035.47,304.349 1037.43,307.951 1039.39,312.211 \n  1041.35,316.971 1043.31,321.73 1045.27,325.386 1047.23,326.251 1049.19,323.101 1051.15,316.442 1053.11,307.937 1055.07,299 1057.03,290.369 1058.99,282.333 \n  1060.95,274.963 1062.91,268.246 1064.87,262.138 1066.83,256.588 1068.79,251.552 1070.75,246.989 1072.71,242.864 1074.67,239.148 1076.63,235.817 1078.59,232.846 \n  1080.56,230.213 1082.52,227.897 1084.48,225.88 1086.44,224.144 1088.4,222.674 1090.36,221.455 1092.32,220.475 1094.28,219.719 1096.24,219.174 1098.2,218.827 \n  1100.16,218.659 1102.12,218.651 1104.08,218.775 1106.04,218.999 1108,219.279 1109.96,219.564 1111.92,219.794 1113.88,219.904 1115.84,219.826 1117.8,219.498 \n  1119.76,218.872 1121.72,217.92 1123.68,216.636 1125.64,215.038 1127.6,213.16 1129.56,211.053 1131.52,208.771 1133.48,206.371 1135.44,203.907 1137.41,201.425 \n  1139.37,198.966 1141.33,196.564 1143.29,194.245 1145.25,192.029 1147.21,189.931 1149.17,187.962 1151.13,186.127 1153.09,184.431 1155.05,182.876 1157.01,181.461 \n  1158.97,180.182 1160.93,179.037 1162.89,178.021 1164.85,177.127 1166.81,176.351 1168.77,175.687 1170.73,175.128 1172.69,174.669 1174.65,174.302 1176.61,174.021 \n  1178.57,173.817 1180.53,173.681 1182.49,173.604 1184.45,173.572 1186.41,173.572 1188.37,173.589 1190.33,173.605 1192.29,173.603 1194.25,173.564 1196.22,173.471 \n  1198.18,173.308 1200.14,173.06 1202.1,172.717 1204.06,172.272 1206.02,171.724 1207.98,171.074 1209.94,170.328 1211.9,169.497 1213.86,168.592 1215.82,167.627 \n  1217.78,166.617 1219.74,165.576 1221.7,164.519 1223.66,163.461 1225.62,162.413 1227.58,161.386 1229.54,160.389 1231.5,159.429 1233.46,158.511 1235.42,157.639 \n  1237.38,156.818 1239.34,156.048 1241.3,155.333 1243.26,154.673 1245.22,154.068 1247.18,153.52 1249.14,153.028 1251.1,152.594 1253.07,152.217 1255.03,151.897 \n  1256.99,151.632 1258.95,151.421 1260.91,151.259 1262.87,151.142 1264.83,151.064 1266.79,151.02 1268.75,151.001 1270.71,150.999 1272.67,151.006 1274.63,151.011 \n  1276.59,151.006 1278.55,150.984 1280.51,150.936 1282.47,150.855 1284.43,150.737 1286.39,150.577 1288.35,150.371 1290.31,150.12 1292.27,149.821 1294.23,149.476 \n  1296.19,149.088 1298.15,148.658 1300.11,148.192 1302.07,147.692 1304.03,147.165 1305.99,146.614 1307.95,146.046 1309.91,145.465 1311.88,144.877 1313.84,144.286 \n  1315.8,143.699 1317.76,143.12 1319.72,142.556 1321.68,142.01 1323.64,141.487 1325.6,140.994 1327.56,140.532 1329.52,140.108 1331.48,139.723 1333.44,139.379 \n  1335.4,139.078 1337.36,138.82 1339.32,138.604 1341.28,138.427 1343.24,138.288 1345.2,138.183 1347.16,138.108 1349.12,138.059 1351.08,138.03 1353.04,138.017 \n  1355,138.015 1356.96,138.018 1358.92,138.022 1360.88,138.022 1362.84,138.014 1364.8,137.992 1366.76,137.955 1368.73,137.897 1370.69,137.817 1372.65,137.712 \n  1374.61,137.58 1376.57,137.419 1378.53,137.23 1380.49,137.011 1382.45,136.764 1384.41,136.49 1386.37,136.191 1388.33,135.87 1390.29,135.531 1392.25,135.177 \n  1394.21,134.812 1396.17,134.442 1398.13,134.072 1400.09,133.706 1402.05,133.348 1404.01,133.003 1405.97,132.675 1407.93,132.366 1409.89,132.078 1411.85,131.813 \n  1413.81,131.573 1415.77,131.358 1417.73,131.167 1419.69,131 1421.65,130.856 1423.61,130.733 1425.57,130.631 1427.54,130.548 1429.5,130.483 1431.46,130.434 \n  1433.42,130.398 1435.38,130.375 1437.34,130.363 1439.3,130.36 1441.26,130.363 1443.22,130.371 1445.18,130.38 1447.14,130.387 1449.1,130.391 1451.06,130.389 \n  1453.02,130.377 1454.98,130.353 1456.94,130.316 1458.9,130.263 1460.86,130.194 1462.82,130.108 1464.78,130.006 1466.74,129.888 1468.7,129.756 1470.66,129.611 \n  1472.62,129.457 1474.58,129.295 1476.54,129.129 1478.5,128.959 1480.46,128.788 1482.42,128.618 1484.38,128.45 1486.35,128.285 1488.31,128.125 1490.27,127.969 \n  1492.23,127.818 1494.19,127.674 1496.15,127.536 1498.11,127.404 1500.07,127.28 1502.03,127.163 1503.99,127.055 1505.95,126.956 1507.91,126.867 1509.87,126.789 \n  1511.83,126.723 1513.79,126.667 1515.75,126.624 1517.71,126.592 1519.67,126.57 1521.63,126.559 1523.59,126.555 1525.55,126.559 1527.51,126.568 1529.47,126.579 \n  1531.43,126.593 1533.39,126.606 1535.35,126.617 1537.31,126.625 1539.27,126.629 1541.23,126.628 1543.2,126.622 1545.16,126.611 1547.12,126.595 1549.08,126.574 \n  1551.04,126.549 1553,126.52 1554.96,126.487 1556.92,126.452 1558.88,126.413 1560.84,126.373 1562.8,126.331 1564.76,126.288 1566.72,126.244 1568.68,126.2 \n  1570.64,126.157 1572.6,126.114 1574.56,126.074 1576.52,126.037 1578.48,126.002 1580.44,125.97 1582.4,125.943 1584.36,125.918 1586.32,125.898 1588.28,125.881 \n  1590.24,125.868 1592.2,125.857 1594.16,125.85 1596.12,125.845 1598.08,125.841 1600.04,125.839 1602.01,125.838 1603.97,125.838 1605.93,125.838 1607.89,125.839 \n  1609.85,125.839 1611.81,125.839 1613.77,125.84 1615.73,125.84 1617.69,125.84 1619.65,125.84 1621.61,125.84 1623.57,125.841 1625.53,125.841 1627.49,125.841 \n  1629.45,125.841 1631.41,125.841 1633.37,125.841 1635.33,125.841 1637.29,125.841 1639.25,125.841 1641.21,125.841 1643.17,125.841 1645.13,125.842 1647.09,125.842 \n  1649.05,125.843 1651.01,125.843 1652.97,125.843 1654.93,125.844 1656.89,125.844 1658.86,125.844 1660.82,125.844 1662.78,125.844 1664.74,125.844 1666.7,125.844 \n  1668.66,125.844 1670.62,125.845 1672.58,125.845 1674.54,125.845 1676.5,125.845 1678.46,125.846 1680.42,125.846 1682.38,125.846 1684.34,125.846 1686.3,125.846 \n  1688.26,125.846 1690.22,125.847 1692.18,125.847 1694.14,125.848 1696.1,125.849 1698.06,125.849 1700.02,125.85 1701.98,125.851 1703.94,125.851 1705.9,125.852 \n  1707.86,125.852 1709.82,125.853 1711.78,125.854 1713.74,125.855 1715.7,125.855 1717.67,125.856 1719.63,125.858 1721.59,125.859 1723.55,125.86 1725.51,125.861 \n  1727.47,125.862 1729.43,125.863 1731.39,125.864 1733.35,125.865 1735.31,125.866 1737.27,125.867 1739.23,125.869 1741.19,125.87 1743.15,125.872 1745.11,125.874 \n  1747.07,125.875 1749.03,125.877 1750.99,125.879 1752.95,125.88 1754.91,125.881 1756.87,125.883 1758.83,125.884 1760.79,125.886 1762.75,125.887 1764.71,125.889 \n  1766.67,125.89 1768.63,125.892 1770.59,125.894 1772.55,125.895 1774.51,125.897 1776.48,125.898 1778.44,125.9 1780.4,125.901 1782.36,125.903 1784.32,125.904 \n  1786.28,125.906 1788.24,125.907 1790.2,125.909 1792.16,125.911 1794.12,125.912 1796.08,125.914 1798.04,125.915 1800,125.916 1801.96,125.917 1803.92,125.918 \n  1805.88,125.919 1807.84,125.92 1809.8,125.921 1811.76,125.921 1813.72,125.922 1815.68,125.923 1817.64,125.924 1819.6,125.925 1821.56,125.926 1823.52,125.927 \n  1825.48,125.927 1827.44,125.928 1829.4,125.928 1831.36,125.929 1833.33,125.929 1835.29,125.929 1837.25,125.93 1839.21,125.93 1841.17,125.93 1843.13,125.93 \n  1845.09,125.93 1847.05,125.93 1849.01,125.929 1850.97,125.929 1852.93,125.928 1854.89,125.928 1856.85,125.927 1858.81,125.927 1860.77,125.926 1862.73,125.926 \n  1864.69,125.925 1866.65,125.925 1868.61,125.925 1870.57,125.924 1872.53,125.923 1874.49,125.922 1876.45,125.921 1878.41,125.92 1880.37,125.919 1882.33,125.917 \n  1884.29,125.916 1886.25,125.915 1888.21,125.914 1890.17,125.913 1892.14,125.911 1894.1,125.91 1896.06,125.909 1898.02,125.907 1899.98,125.906 1901.94,125.904 \n  1903.9,125.903 1905.86,125.902 1907.82,125.9 1909.78,125.899 1911.74,125.898 1913.7,125.896 1915.66,125.895 1917.62,125.894 1919.58,125.892 1921.54,125.89 \n  1923.5,125.888 1925.46,125.887 1927.42,125.885 1929.38,125.883 1931.34,125.881 1933.3,125.88 1935.26,125.878 1937.22,125.877 1939.18,125.876 1941.14,125.875 \n  1943.1,125.873 1945.06,125.872 1947.02,125.871 1948.99,125.869 1950.95,125.868 1952.91,125.866 1954.87,125.865 1956.83,125.863 1958.79,125.862 1960.75,125.861 \n  1962.71,125.859 1964.67,125.858 1966.63,125.857 1968.59,125.856 1970.55,125.854 1972.51,125.853 1974.47,125.852 1976.43,125.851 1978.39,125.85 1980.35,125.849 \n  1982.31,125.848 1984.27,125.848 1986.23,125.847 1988.19,125.846 1990.15,125.845 1992.11,125.844 1994.07,125.843 1996.03,125.842 1997.99,125.841 1999.95,125.84 \n  2001.91,125.839 2003.87,125.839 2005.83,125.838 2007.8,125.838 2009.76,125.838 2011.72,125.837 2013.68,125.837 2015.64,125.837 2017.6,125.836 2019.56,125.836 \n  2021.52,125.835 2023.48,125.835 2025.44,125.834 2027.4,125.833 2029.36,125.833 2031.32,125.833 2033.28,125.833 2035.24,125.832 2037.2,125.832 2039.16,125.832 \n  2041.12,125.832 2043.08,125.832 2045.04,125.832 2047,125.832 2048.96,125.831 2050.92,125.831 2052.88,125.831 2054.84,125.831 2056.8,125.831 2058.76,125.831 \n  2060.72,125.831 2062.68,125.831 2064.65,125.831 2066.61,125.831 2068.57,125.831 2070.53,125.83 2072.49,125.83 2074.45,125.83 2076.41,125.831 2078.37,125.831 \n  2080.33,125.831 2082.29,125.831 2084.25,125.831 2086.21,125.831 2088.17,125.831 2090.13,125.831 2092.09,125.831 2094.05,125.831 2096.01,125.831 2097.97,125.83 \n  2099.93,125.83 2101.89,125.831 2103.85,125.831 2105.81,125.831 2107.77,125.831 2109.73,125.831 2111.69,125.832 2113.65,125.831 2115.61,125.831 2117.57,125.831 \n  2119.53,125.831 2121.49,125.831 2123.46,125.83 2125.42,125.83 2127.38,125.83 2129.34,125.831 2131.3,125.831 2133.26,125.831 2135.22,125.831 2137.18,125.831 \n  2139.14,125.831 2141.1,125.83 2143.06,125.83 2145.02,125.83 2146.98,125.83 2148.94,125.83 2150.9,125.829 2152.86,125.829 2154.82,125.829 2156.78,125.829 \n  2158.74,125.829 2160.7,125.829 2162.66,125.829 2164.62,125.829 2166.58,125.828 2168.54,125.828 2170.5,125.828 2172.46,125.828 2174.42,125.828 2176.38,125.828 \n  2178.34,125.828 2180.3,125.827 2182.27,125.827 2184.23,125.827 2186.19,125.826 2188.15,125.826 2190.11,125.826 2192.07,125.826 2194.03,125.826 2195.99,125.826 \n  2197.95,125.826 2199.91,125.826 2201.87,125.825 2203.83,125.825 2205.79,125.825 2207.75,125.824 2209.71,125.824 2211.67,125.824 2213.63,125.824 2215.59,125.823 \n  2217.55,125.823 2219.51,125.823 2221.47,125.823 2223.43,125.823 2225.39,125.823 2227.35,125.823 2229.31,125.823 2231.27,125.822 2233.23,125.822 2235.19,125.822 \n  2237.15,125.822 2239.12,125.821 2241.08,125.821 2243.04,125.822 2245,125.822 2246.96,125.822 2248.92,125.822 2250.88,125.822 2252.84,125.821 2254.8,125.821 \n  2256.76,125.821 2258.72,125.82 2260.68,125.82 2262.64,125.82 2264.6,125.82 2266.56,125.82 2268.52,125.82 2270.48,125.821 2272.44,125.821 2274.4,125.821 \n  2276.36,125.82 2278.32,125.82 2280.28,125.82 2282.24,125.82 2284.2,125.82 2286.16,125.82 2288.12,125.82 2290.08,125.82 2292.04,125.82 2294,125.82 \n  \n  \"/>\n<polyline clip-path=\"url(#clip842)\" style=\"stroke:#3da44d; stroke-linecap:round; stroke-linejoin:round; stroke-width:4; stroke-opacity:1; fill:none\" points=\"\n  335.627,938.562 337.587,455.931 339.548,423.701 341.508,406.981 343.468,397.486 345.429,392.744 347.389,391.835 349.349,394.534 351.31,401.136 353.27,412.616 \n  355.23,431.14 357.191,458.757 359.151,462.876 361.111,435.129 363.072,415.582 365.032,403.442 366.992,396.252 368.953,392.797 370.913,392.546 372.873,395.37 \n  374.834,401.462 376.794,411.33 378.754,425.58 380.715,442.178 382.675,446.058 384.635,431.191 386.596,415.561 388.556,404.279 390.516,396.988 392.477,393.04 \n  394.437,392.069 396.397,393.969 398.358,398.863 400.318,407.057 402.278,418.81 404.239,432.72 406.199,440.027 408.159,431.631 410.12,417.929 412.08,406.668 \n  414.04,398.834 416.001,394.061 417.961,391.985 419.921,392.419 421.882,395.331 423.842,400.819 425.802,409.006 427.763,419.59 429.723,430.067 431.683,433.217 \n  433.644,425.564 435.604,414.278 437.564,404.453 439.525,397.211 441.485,392.534 443.445,390.289 445.406,390.454 447.366,393.153 449.326,398.704 451.287,407.668 \n  453.247,420.729 455.207,436.826 457.168,444.029 459.128,431.218 461.088,414.858 463.049,402.413 465.009,393.941 466.969,388.797 468.93,386.58 470.89,387.17 \n  472.851,390.718 474.811,397.724 476.771,409.295 478.732,427.737 480.692,455.807 482.652,461.551 484.613,432.37 486.573,411.741 488.533,398.662 490.494,390.486 \n  492.454,385.918 494.414,384.349 496.375,385.561 498.335,389.619 500.295,396.894 502.256,408.159 504.216,424.528 506.176,444.158 508.137,446.212 510.097,427.311 \n  512.057,410.402 514.018,398.619 515.978,390.848 517.938,386.203 519.899,384.174 521.859,384.508 523.819,387.136 525.78,392.135 527.74,399.67 529.7,409.759 \n  531.661,421.199 533.621,428.705 535.581,425.283 537.542,414.755 539.502,404.15 541.462,395.772 543.423,389.795 545.383,385.97 547.343,384.049 549.304,383.881 \n  551.264,385.422 553.224,388.739 555.185,393.999 557.145,401.416 559.105,410.964 561.066,421.167 563.026,426.465 564.986,421.143 566.947,409.908 568.907,399.03 \n  570.867,390.474 572.828,384.424 574.788,380.729 576.748,379.262 578.709,379.992 580.669,383.014 582.629,388.588 584.59,397.187 586.55,409.458 588.51,425.224 \n  590.471,437.049 592.431,429.523 594.391,413.168 596.352,399.433 598.312,389.491 600.272,382.725 602.233,378.586 604.193,376.738 606.153,377.017 608.114,379.4 \n  610.074,383.98 612.035,390.927 613.995,400.336 615.955,411.547 617.916,420.941 619.876,421.271 621.836,412.498 623.797,401.81 625.757,392.763 627.717,385.933 \n  629.678,381.126 631.638,378.067 633.598,376.55 635.559,376.456 637.519,377.747 639.479,380.46 641.44,384.689 643.4,390.523 645.36,397.866 647.321,405.918 \n  649.281,412.158 651.241,412.638 653.202,406.665 655.162,397.932 657.122,389.515 659.083,382.573 661.043,377.357 663.003,373.858 664.964,372.036 666.924,371.899 \n  668.884,373.514 670.845,377.01 672.805,382.586 674.765,390.446 676.726,400.508 678.686,411.172 680.646,416.829 682.607,412.042 684.567,401.459 686.527,391.067 \n  688.488,382.728 690.448,376.58 692.408,372.412 694.369,370.006 696.329,369.195 698.289,369.871 700.25,371.968 702.21,375.431 704.17,380.182 706.131,386.016 \n  708.091,392.412 710.051,398.194 712.012,401.427 713.972,400.526 715.932,395.96 717.893,389.666 719.853,383.269 721.813,377.597 723.774,372.979 725.734,369.531 \n  727.694,367.29 729.655,366.279 731.615,366.539 733.575,368.131 735.536,371.143 737.496,375.662 739.456,381.707 741.417,389.011 743.377,396.446 745.337,401.257 \n  747.298,400.317 749.258,394.153 751.219,386.139 753.179,378.629 755.139,372.479 757.1,367.859 759.06,364.723 761.02,362.983 762.981,362.553 764.941,363.372 \n  766.901,365.39 768.862,368.546 770.822,372.733 772.782,377.723 774.743,383.037 776.703,387.782 778.663,390.67 780.624,390.617 782.584,387.648 784.544,382.843 \n  786.505,377.43 788.465,372.245 790.425,367.741 792.386,364.139 794.346,361.541 796.306,360.001 798.267,359.549 800.227,360.216 802.187,362.025 804.148,364.997 \n  806.108,369.12 808.068,374.277 810.029,380.071 811.989,385.517 813.949,388.875 815.91,388.501 817.87,384.527 819.83,378.704 821.791,372.711 823.751,367.446 \n  825.711,363.24 827.672,360.157 829.632,358.159 831.592,357.184 833.553,357.174 835.513,358.084 837.473,359.886 839.434,362.554 841.394,366.035 843.354,370.192 \n  845.315,374.712 847.275,378.982 849.235,382.038 851.196,382.853 853.156,381.025 855.116,377.142 857.077,372.282 859.037,367.366 860.997,362.961 862.958,359.366 \n  864.918,356.721 866.878,355.09 868.839,354.495 870.799,354.936 872.759,356.403 874.72,358.865 876.68,362.255 878.64,366.427 880.601,371.079 882.561,375.635 \n  884.522,379.17 886.482,380.648 888.442,379.559 890.403,376.355 892.363,372.038 894.323,367.519 896.284,363.363 898.244,359.851 900.204,357.101 902.165,355.163 \n  904.125,354.058 906.085,353.812 908.046,354.45 910.006,356.001 911.966,358.484 913.927,361.882 915.887,366.092 917.847,370.832 919.808,375.494 921.768,379.06 \n  923.728,380.365 925.689,378.881 927.649,375.206 929.609,370.514 931.57,365.792 933.53,361.613 935.49,358.239 937.451,355.768 939.411,354.219 941.371,353.576 \n  943.332,353.815 945.292,354.916 947.252,356.859 949.213,359.619 951.173,363.143 953.133,367.303 955.094,371.806 957.054,376.066 959.014,379.151 960.975,380.067 \n  962.935,378.42 964.895,374.774 966.856,370.188 968.816,365.57 970.776,361.475 972.737,358.179 974.697,355.8 976.657,354.383 978.618,353.941 980.578,354.47 \n  982.538,355.962 984.499,358.397 986.459,361.729 988.419,365.844 990.38,365.834 992.34,365.75 994.3,365.477 996.261,364.876 998.221,363.854 1000.18,362.433 \n  1002.14,360.784 1004.1,359.178 1006.06,357.909 1008.02,357.212 1009.98,357.229 1011.94,357.989 1013.9,359.398 1015.86,361.227 1017.82,363.093 1019.78,364.491 \n  1021.75,364.894 1023.71,363.95 1025.67,361.602 1027.63,358.015 1029.59,353.405 1031.55,347.939 1033.51,341.754 1035.47,335.007 1037.43,327.883 1039.39,320.576 \n  1041.35,313.265 1043.31,306.115 1045.27,299.282 1047.23,292.911 1049.19,287.122 1051.15,282.005 1053.11,277.606 1055.07,273.933 1057.03,270.962 1058.99,268.642 \n  1060.95,266.912 1062.91,265.704 1064.87,264.948 1066.83,264.573 1068.79,264.509 1070.75,264.695 1072.71,265.091 1074.67,265.695 1076.63,266.545 1078.59,267.715 \n  1080.56,269.294 1082.52,271.369 1084.48,274.013 1086.44,277.285 1088.4,281.242 1090.36,285.948 1092.32,291.464 1094.28,297.799 1096.24,304.741 1098.2,311.501 \n  1100.16,316.222 1102.12,316.457 1104.08,311.602 1106.04,303.725 1108,295.126 1109.96,287.015 1111.92,279.813 1113.88,273.589 1115.84,268.283 1117.8,263.796 \n  1119.76,260.032 1121.72,256.918 1123.68,254.391 1125.64,252.394 1127.6,250.866 1129.56,249.736 1131.52,248.922 1133.48,248.336 1135.44,247.896 1137.41,247.542 \n  1139.37,247.244 1141.33,247.006 1143.29,246.859 1145.25,246.85 1147.21,247.035 1149.17,247.474 1151.13,248.226 1153.09,249.337 1155.05,250.836 1157.01,252.718 \n  1158.97,254.945 1160.93,257.453 1162.89,260.166 1164.85,263.018 1166.81,265.981 1168.77,269.081 1170.73,272.396 1172.69,276.041 1174.65,280.148 1176.61,284.821 \n  1178.57,290.071 1180.53,295.667 1182.49,300.878 1184.45,304.245 1186.41,304.076 1188.37,299.949 1190.33,293.207 1192.29,285.549 1194.25,278.045 1196.22,271.159 \n  1198.18,265.039 1200.14,259.686 1202.1,255.046 1204.06,251.041 1206.02,247.587 1207.98,244.607 1209.94,242.032 1211.9,239.81 1213.86,237.898 1215.82,236.257 \n  1217.78,234.854 1219.74,233.653 1221.7,232.623 1223.66,231.744 1225.62,231.003 1227.58,230.405 1229.54,229.96 1231.5,229.683 1233.46,229.594 1235.42,229.719 \n  1237.38,230.095 1239.34,230.77 1241.3,231.802 1243.26,233.253 1245.22,235.184 1247.18,237.653 1249.14,240.709 1251.1,244.398 1253.07,248.764 1255.03,253.854 \n  1256.99,259.718 1258.95,266.397 1260.91,273.896 1262.87,282.099 1264.83,290.591 1266.79,298.321 1268.75,303.403 1270.71,304.037 1272.67,300.363 1274.63,294.26 \n  1276.59,287.461 1278.55,280.855 1280.51,274.762 1282.47,269.241 1284.43,264.257 1286.39,259.751 1288.35,255.663 1290.31,251.941 1292.27,248.549 1294.23,245.458 \n  1296.19,242.652 1298.15,240.121 1300.11,237.86 1302.07,235.867 1304.03,234.139 1305.99,232.678 1307.95,231.487 1309.91,230.572 1311.88,229.947 1313.84,229.624 \n  1315.8,229.618 1317.76,229.942 1319.72,230.604 1321.68,231.611 1323.64,232.963 1325.6,234.661 1327.56,236.703 1329.52,239.088 1331.48,241.825 1333.44,244.932 \n  1335.4,248.445 1337.36,252.418 1339.32,256.915 1341.28,262.009 1343.24,267.767 1345.2,274.236 1347.16,281.398 1349.12,289.043 1351.08,296.49 1353.04,302.141 \n  1355,303.656 1356.96,299.946 1358.92,292.561 1360.88,283.796 1362.84,275.033 1364.8,266.82 1366.76,259.311 1368.73,252.523 1370.69,246.435 1372.65,241.016 \n  1374.61,236.236 1376.57,232.06 1378.53,228.452 1380.49,225.375 1382.45,222.797 1384.41,220.693 1386.37,219.04 1388.33,217.818 1390.29,217.006 1392.25,216.578 \n  1394.21,216.501 1396.17,216.741 1398.13,217.266 1400.09,218.044 1402.05,219.054 1404.01,220.278 1405.97,221.702 1407.93,223.319 1409.89,225.125 1411.85,227.121 \n  1413.81,229.319 1415.77,231.738 1417.73,234.407 1419.69,237.362 1421.65,240.644 1423.61,244.298 1425.57,248.37 1427.54,252.904 1429.5,257.918 1431.46,263.363 \n  1433.42,269.021 1435.38,274.354 1437.34,278.366 1439.3,279.814 1441.26,278.04 1443.22,273.605 1445.18,267.759 1447.14,261.573 1449.1,255.659 1451.06,250.286 \n  1453.02,245.535 1454.98,241.404 1456.94,237.851 1458.9,234.82 1460.86,232.253 1462.82,230.092 1464.78,228.284 1466.74,226.776 1468.7,225.521 1470.66,224.472 \n  1472.62,223.59 1474.58,222.843 1476.54,222.21 1478.5,221.682 1480.46,221.261 1482.42,220.957 1484.38,220.784 1486.35,220.762 1488.31,220.907 1490.27,221.239 \n  1492.23,221.783 1494.19,222.568 1496.15,223.631 1498.11,225.013 1500.07,226.761 1502.03,228.92 1503.99,231.537 1505.95,234.657 1507.91,238.331 1509.87,242.606 \n  1511.83,247.52 1513.79,253.059 1515.75,259.124 1517.71,265.407 1519.67,271.228 1521.63,275.456 1523.59,276.891 1525.55,275.155 1527.51,271.05 1529.47,265.818 \n  1531.43,260.405 1533.39,255.325 1535.35,250.797 1537.31,246.879 1539.27,243.549 1541.23,240.754 1543.2,238.431 1545.16,236.526 1547.12,234.998 1549.08,233.823 \n  1551.04,232.986 1553,232.473 1554.96,232.272 1556.92,232.375 1558.88,232.777 1560.84,233.482 1562.8,234.507 1564.76,235.874 1566.72,237.605 1568.68,239.722 \n  1570.64,242.242 1572.6,245.182 1574.56,248.563 1576.52,252.415 1578.48,256.781 1580.44,261.711 1582.4,267.258 1584.36,273.475 1586.32,280.411 1588.28,288.112 \n  1590.24,296.612 1592.2,305.91 1594.16,315.889 1596.12,326.15 1598.08,335.755 1600.04,343.196 1602.01,347.247 1603.97,348.212 1605.93,347.621 1607.89,346.914 \n  1609.85,346.909 1611.81,347.973 1613.77,350.254 1615.73,353.82 1617.69,358.698 1619.65,364.88 1621.61,372.3 1623.57,380.819 1625.53,390.22 1627.49,400.232 \n  1629.45,410.535 1631.41,420.673 1633.37,429.861 1635.33,436.977 1637.29,441.211 1639.25,442.887 1641.21,443.179 1643.17,423.597 1645.13,403.432 1647.09,389.708 \n  1649.05,380.771 1651.01,375.352 1652.97,372.708 1654.93,372.373 1656.89,373.973 1658.86,377.049 1660.82,380.837 1662.78,384.07 1664.74,385.249 1666.7,383.691 \n  1668.66,380.211 1670.62,376.313 1672.58,373.193 1674.54,371.562 1676.5,371.841 1678.46,374.386 1680.42,379.637 1682.38,388.291 1684.34,401.494 1686.3,420.536 \n  1688.26,438.625 1690.22,427.979 1692.18,406.977 1694.14,391.468 1696.1,380.988 1698.06,374.198 1700.02,370.252 1701.98,368.63 1703.94,368.971 1705.9,370.939 \n  1707.86,374.087 1709.82,377.688 1711.78,380.642 1713.74,381.793 1715.7,380.725 1717.67,378.165 1719.63,375.358 1721.59,373.355 1723.55,372.841 1725.51,374.275 \n  1727.47,378.055 1729.43,384.635 1731.39,394.555 1733.35,407.875 1735.31,420.475 1737.27,419.069 1739.23,404.865 1741.19,390.703 1743.15,379.943 1745.11,372.396 \n  1747.07,367.532 1749.03,364.952 1750.99,364.384 1752.95,365.628 1754.91,368.481 1756.87,372.619 1758.83,377.414 1760.79,381.757 1762.75,384.253 1764.71,384.147 \n  1766.67,382.085 1768.63,379.497 1770.59,377.603 1772.55,377.127 1774.51,378.439 1776.48,381.684 1778.44,386.735 1780.4,392.807 1782.36,397.664 1784.32,397.831 \n  1786.28,392.311 1788.24,384.086 1790.2,376.104 1792.16,369.652 1794.12,365.084 1796.08,362.449 1798.04,361.731 1800,362.932 1801.96,366.089 1803.92,371.248 \n  1805.88,378.365 1807.84,386.971 1809.8,395.364 1811.76,399.933 1813.72,398.064 1815.68,392.061 1817.64,385.602 1819.6,380.489 1821.56,377.181 1823.52,375.618 \n  1825.48,375.525 1827.44,376.448 1829.4,377.707 1831.36,378.42 1833.33,377.805 1835.29,375.653 1837.25,372.481 1839.21,369.154 1841.17,366.446 1843.13,364.902 \n  1845.09,364.89 1847.05,366.704 1849.01,370.66 1850.97,377.174 1852.93,386.831 1854.89,400.249 1856.85,416.205 1858.81,423.428 1860.77,411.694 1862.73,395.969 \n  1864.69,383.635 1866.65,374.904 1868.61,369.111 1870.57,365.725 1872.53,364.379 1874.49,364.794 1876.45,366.711 1878.41,369.795 1880.37,373.542 1882.33,377.202 \n  1884.29,379.897 1886.25,381.033 1888.21,380.727 1890.17,379.721 1892.14,378.887 1894.1,378.879 1896.06,380.053 1898.02,382.475 1899.98,385.82 1901.94,389.142 \n  1903.9,390.756 1905.86,389.106 1907.82,384.349 1909.78,378.196 1911.74,372.305 1913.7,367.62 1915.66,364.566 1917.62,363.338 1919.58,364.068 1921.54,366.919 \n  1923.5,372.146 1925.46,380.14 1927.42,391.418 1929.38,406.033 1931.34,419.75 1933.3,418.994 1935.26,405.374 1937.22,391.866 1939.18,381.712 1941.14,374.687 \n  1943.1,370.256 1945.06,368.009 1947.02,367.651 1948.99,368.927 1950.95,371.539 1952.91,375.031 1954.87,378.7 1956.83,381.63 1958.79,383.078 1960.75,382.994 \n  1962.71,382.067 1964.67,381.223 1966.63,381.176 1968.59,382.297 1970.55,384.6 1972.51,387.663 1974.47,390.457 1976.43,391.422 1978.39,389.424 1980.35,384.891 \n  1982.31,379.364 1984.27,374.235 1986.23,370.312 1988.19,368.003 1990.15,367.539 1992.11,369.129 1994.07,373.054 1996.03,379.763 1997.99,389.983 1999.95,404.752 \n  2001.91,423.685 2003.87,432.483 2005.83,416.868 2007.8,398.968 2009.76,385.92 2011.72,377.043 2013.68,371.401 2015.64,368.414 2017.6,367.764 2019.56,369.303 \n  2021.52,372.978 2023.48,378.745 2025.44,386.357 2027.4,394.806 2029.36,401.398 2031.32,402.528 2033.28,398.141 2035.24,391.792 2037.2,386.161 2039.16,382.189 \n  2041.12,379.985 2043.08,379.342 2045.04,379.889 2047,381.117 2048.96,382.39 2050.92,383.081 2052.88,382.837 2054.84,381.783 2056.8,380.442 2058.76,379.463 \n  2060.72,379.427 2062.68,380.784 2064.65,383.861 2066.61,388.82 2068.57,395.419 2070.53,402.236 2072.49,405.698 2074.45,402.484 2076.41,394.539 2078.37,385.984 \n  2080.33,378.971 2082.29,374.138 2084.25,371.606 2086.21,371.42 2088.17,373.702 2090.13,378.742 2092.09,387.117 2094.05,399.851 2096.01,418.233 2097.97,437.443 \n  2099.93,430.433 2101.89,409.561 2103.85,393.638 2105.81,382.924 2107.77,376.138 2109.73,372.487 2111.69,371.562 2113.65,373.209 2115.61,377.462 2117.57,384.496 \n  2119.53,394.474 2121.49,406.762 2123.46,416.979 2125.42,416.157 2127.38,405.886 2129.34,394.952 2131.3,386.58 2133.26,381.059 2135.22,378.133 2137.18,377.533 \n  2139.14,379.022 2141.1,382.308 2143.06,386.87 2145.02,391.695 2146.98,395.202 2148.94,395.999 2150.9,394.184 2152.86,391.209 2154.82,388.532 2156.78,386.959 \n  2158.74,386.743 2160.7,387.752 2162.66,389.534 2164.62,391.317 2166.58,392.16 2168.54,391.433 2170.5,389.279 2172.46,386.502 2174.42,384.029 2176.38,382.575 \n  2178.34,382.611 2180.3,384.438 2182.27,388.227 2184.23,393.912 2186.19,400.748 2188.15,406.379 2190.11,407.009 2192.07,401.686 2194.03,393.839 2195.99,386.607 \n  2197.95,381.275 2199.91,378.208 2201.87,377.521 2203.83,379.346 2205.79,383.954 2207.75,391.81 2209.71,403.504 2211.67,418.509 2213.63,428.401 2215.59,419.63 \n  2217.55,403.914 2219.51,391.262 2221.47,382.661 2223.43,377.604 2225.39,375.693 2227.35,376.788 2229.31,381.023 2231.27,388.85 2233.23,401.127 2235.19,418.668 \n  2237.15,435.587 2239.12,428.68 2241.08,409.788 2243.04,395.155 2245,385.474 2246.96,379.726 2248.92,377.254 2250.88,377.762 2252.84,381.22 2254.8,387.809 \n  2256.76,397.781 2258.72,410.637 2260.68,421.521 2262.64,419.722 2264.6,408.001 2266.56,396.459 2268.52,388.05 2270.48,382.831 2272.44,380.483 2274.4,380.779 \n  2276.36,383.617 2278.32,388.939 2280.28,396.464 2282.24,404.894 2284.2,410.561 2286.16,409.2 2288.12,402.316 2290.08,394.628 2292.04,388.646 2294,385.046 \n  \n  \"/>\n<path clip-path=\"url(#clip840)\" d=\"\nM346.072 673.946 L756.053 673.946 L756.053 466.586 L346.072 466.586  Z\n  \" fill=\"#ffffff\" fill-rule=\"evenodd\" fill-opacity=\"1\"/>\n<polyline clip-path=\"url(#clip840)\" style=\"stroke:#000000; stroke-linecap:round; stroke-linejoin:round; stroke-width:4; stroke-opacity:1; fill:none\" points=\"\n  346.072,673.946 756.053,673.946 756.053,466.586 346.072,466.586 346.072,673.946 \n  \"/>\n<polyline clip-path=\"url(#clip840)\" style=\"stroke:#009af9; stroke-linecap:round; stroke-linejoin:round; stroke-width:4; stroke-opacity:1; fill:none\" points=\"\n  369.137,518.426 507.529,518.426 \n  \"/>\n<path clip-path=\"url(#clip840)\" d=\"M541.451 536.285 Q536.103 535.428 533.627 533.183 Q530.594 530.428 530.594 524.803 L530.594 509.78 L534.9 509.78 L534.9 524.641 Q534.9 528.877 536.867 530.637 Q538.58 532.164 541.451 532.488 L541.451 509.78 L545.687 509.78 L545.687 532.465 Q548.719 532.141 550.27 530.613 Q552.238 528.669 552.238 524.618 L552.238 509.78 L556.543 509.78 L556.543 524.78 Q556.543 530.613 553.511 533.16 Q550.779 535.451 545.687 536.262 L545.687 545.567 L541.451 545.567 L541.451 536.285 Z\" fill=\"#000000\" fill-rule=\"evenodd\" fill-opacity=\"1\" /><path clip-path=\"url(#clip840)\" d=\"M572.469 520.035 Q571.312 518.044 568.974 518.044 Q566.636 518.044 565.478 520.035 Q564.298 522.026 564.298 526.007 Q564.298 530.012 565.478 532.002 Q566.636 533.993 568.974 533.993 Q571.312 533.993 572.469 532.002 Q573.65 530.012 573.65 526.007 Q573.65 522.026 572.469 520.035 M568.974 515.984 Q572.7 515.984 574.668 518.553 Q576.636 521.123 576.636 526.007 Q576.636 530.914 574.668 533.484 Q572.7 536.053 568.974 536.053 Q565.224 536.053 563.256 533.484 Q561.289 530.914 561.289 526.007 Q561.289 521.123 563.256 518.553 Q565.224 515.984 568.974 515.984 Z\" fill=\"#000000\" fill-rule=\"evenodd\" fill-opacity=\"1\" /><polyline clip-path=\"url(#clip840)\" style=\"stroke:#e26f46; stroke-linecap:round; stroke-linejoin:round; stroke-width:4; stroke-opacity:1; fill:none\" points=\"\n  369.137,570.266 507.529,570.266 \n  \"/>\n<path clip-path=\"url(#clip840)\" d=\"M541.451 588.125 Q536.103 587.268 533.627 585.023 Q530.594 582.268 530.594 576.643 L530.594 561.62 L534.9 561.62 L534.9 576.481 Q534.9 580.717 536.867 582.477 Q538.58 584.004 541.451 584.328 L541.451 561.62 L545.687 561.62 L545.687 584.305 Q548.719 583.981 550.27 582.453 Q552.238 580.509 552.238 576.458 L552.238 561.62 L556.543 561.62 L556.543 576.62 Q556.543 582.453 553.511 585 Q550.779 587.291 545.687 588.102 L545.687 597.407 L541.451 597.407 L541.451 588.125 Z\" fill=\"#000000\" fill-rule=\"evenodd\" fill-opacity=\"1\" /><path clip-path=\"url(#clip840)\" d=\"M562.886 585 L567.608 585 L567.608 570.856 L562.446 571.805 L562.446 569.12 L567.77 568.217 L570.941 568.217 L570.941 585 L575.687 585 L575.687 587.546 L562.886 587.546 L562.886 585 Z\" fill=\"#000000\" fill-rule=\"evenodd\" fill-opacity=\"1\" /><polyline clip-path=\"url(#clip840)\" style=\"stroke:#3da44d; stroke-linecap:round; stroke-linejoin:round; stroke-width:4; stroke-opacity:1; fill:none\" points=\"\n  369.137,622.106 507.529,622.106 \n  \"/>\n<path clip-path=\"url(#clip840)\" d=\"M530.594 603.368 L534.853 603.368 L534.853 639.386 L530.594 639.386 L530.594 603.368 Z\" fill=\"#000000\" fill-rule=\"evenodd\" fill-opacity=\"1\" /><path clip-path=\"url(#clip840)\" d=\"M565.941 625.358 L565.941 627.442 L546.358 627.442 Q546.636 631.84 548.997 634.155 Q551.381 636.446 555.617 636.446 Q558.071 636.446 560.363 635.844 Q562.677 635.243 564.946 634.039 L564.946 638.067 Q562.654 639.039 560.247 639.548 Q557.839 640.057 555.363 640.057 Q549.159 640.057 545.525 636.446 Q541.914 632.835 541.914 626.678 Q541.914 620.312 545.34 616.585 Q548.789 612.835 554.622 612.835 Q559.853 612.835 562.886 616.215 Q565.941 619.571 565.941 625.358 M561.682 624.108 Q561.636 620.613 559.714 618.53 Q557.816 616.446 554.668 616.446 Q551.103 616.446 548.951 618.46 Q546.821 620.474 546.497 624.131 L561.682 624.108 Z\" fill=\"#000000\" fill-rule=\"evenodd\" fill-opacity=\"1\" /><path clip-path=\"url(#clip840)\" d=\"M584.714 626.354 Q579.552 626.354 577.562 627.534 Q575.571 628.715 575.571 631.562 Q575.571 633.83 577.052 635.173 Q578.557 636.493 581.126 636.493 Q584.668 636.493 586.798 633.993 Q588.95 631.469 588.95 627.303 L588.95 626.354 L584.714 626.354 M593.21 624.594 L593.21 639.386 L588.95 639.386 L588.95 635.451 Q587.492 637.812 585.316 638.946 Q583.14 640.057 579.992 640.057 Q576.011 640.057 573.65 637.835 Q571.312 635.59 571.312 631.84 Q571.312 627.465 574.228 625.243 Q577.168 623.02 582.978 623.02 L588.95 623.02 L588.95 622.604 Q588.95 619.664 587.006 618.067 Q585.085 616.446 581.589 616.446 Q579.367 616.446 577.261 616.979 Q575.154 617.511 573.21 618.576 L573.21 614.641 Q575.548 613.738 577.747 613.298 Q579.946 612.835 582.029 612.835 Q587.654 612.835 590.432 615.752 Q593.21 618.669 593.21 624.594 Z\" fill=\"#000000\" fill-rule=\"evenodd\" fill-opacity=\"1\" /><path clip-path=\"url(#clip840)\" d=\"M601.821 603.368 L606.103 603.368 L606.103 624.641 L618.811 613.46 L624.251 613.46 L610.501 625.59 L624.83 639.386 L619.274 639.386 L606.103 626.724 L606.103 639.386 L601.821 639.386 L601.821 603.368 Z\" fill=\"#000000\" fill-rule=\"evenodd\" fill-opacity=\"1\" /><path clip-path=\"url(#clip840)\" d=\"M640.385 626.354 Q635.223 626.354 633.233 627.534 Q631.242 628.715 631.242 631.562 Q631.242 633.83 632.723 635.173 Q634.228 636.493 636.797 636.493 Q640.339 636.493 642.469 633.993 Q644.621 631.469 644.621 627.303 L644.621 626.354 L640.385 626.354 M648.881 624.594 L648.881 639.386 L644.621 639.386 L644.621 635.451 Q643.163 637.812 640.987 638.946 Q638.811 640.057 635.663 640.057 Q631.682 640.057 629.321 637.835 Q626.983 635.59 626.983 631.84 Q626.983 627.465 629.899 625.243 Q632.839 623.02 638.649 623.02 L644.621 623.02 L644.621 622.604 Q644.621 619.664 642.677 618.067 Q640.756 616.446 637.26 616.446 Q635.038 616.446 632.932 616.979 Q630.825 617.511 628.881 618.576 L628.881 614.641 Q631.219 613.738 633.418 613.298 Q635.617 612.835 637.7 612.835 Q643.325 612.835 646.103 615.752 Q648.881 618.669 648.881 624.594 Z\" fill=\"#000000\" fill-rule=\"evenodd\" fill-opacity=\"1\" /><path clip-path=\"url(#clip840)\" d=\"M674.714 626.122 Q674.714 621.493 672.793 618.946 Q670.894 616.4 667.445 616.4 Q664.019 616.4 662.098 618.946 Q660.2 621.493 660.2 626.122 Q660.2 630.729 662.098 633.275 Q664.019 635.821 667.445 635.821 Q670.894 635.821 672.793 633.275 Q674.714 630.729 674.714 626.122 M678.973 636.168 Q678.973 642.789 676.033 646.006 Q673.093 649.247 667.029 649.247 Q664.783 649.247 662.793 648.9 Q660.802 648.576 658.927 647.881 L658.927 643.738 Q660.802 644.756 662.631 645.242 Q664.459 645.729 666.357 645.729 Q670.547 645.729 672.631 643.53 Q674.714 641.354 674.714 636.932 L674.714 634.826 Q673.394 637.118 671.334 638.252 Q669.274 639.386 666.404 639.386 Q661.635 639.386 658.719 635.752 Q655.802 632.118 655.802 626.122 Q655.802 620.104 658.719 616.469 Q661.635 612.835 666.404 612.835 Q669.274 612.835 671.334 613.969 Q673.394 615.104 674.714 617.395 L674.714 613.46 L678.973 613.46 L678.973 636.168 Z\" fill=\"#000000\" fill-rule=\"evenodd\" fill-opacity=\"1\" /><path clip-path=\"url(#clip840)\" d=\"M709.922 625.358 L709.922 627.442 L690.339 627.442 Q690.617 631.84 692.978 634.155 Q695.362 636.446 699.598 636.446 Q702.052 636.446 704.343 635.844 Q706.658 635.243 708.927 634.039 L708.927 638.067 Q706.635 639.039 704.228 639.548 Q701.82 640.057 699.343 640.057 Q693.14 640.057 689.505 636.446 Q685.894 632.835 685.894 626.678 Q685.894 620.312 689.32 616.585 Q692.769 612.835 698.603 612.835 Q703.834 612.835 706.866 616.215 Q709.922 619.571 709.922 625.358 M705.663 624.108 Q705.616 620.613 703.695 618.53 Q701.797 616.446 698.649 616.446 Q695.084 616.446 692.931 618.46 Q690.802 620.474 690.478 624.131 L705.663 624.108 Z\" fill=\"#000000\" fill-rule=\"evenodd\" fill-opacity=\"1\" /><path clip-path=\"url(#clip840)\" d=\"\nM276.876 1423.18 L2352.76 1423.18 L2352.76 853.724 L276.876 853.724  Z\n  \" fill=\"#ffffff\" fill-rule=\"evenodd\" fill-opacity=\"1\"/>\n<defs>\n  <clipPath id=\"clip843\">\n    <rect x=\"276\" y=\"853\" width=\"2077\" height=\"570\"/>\n  </clipPath>\n</defs>\n<polyline clip-path=\"url(#clip843)\" style=\"stroke:#000000; stroke-linecap:round; stroke-linejoin:round; stroke-width:2; stroke-opacity:0.1; fill:none\" points=\"\n  335.627,1423.18 335.627,853.724 \n  \"/>\n<polyline clip-path=\"url(#clip843)\" style=\"stroke:#000000; stroke-linecap:round; stroke-linejoin:round; stroke-width:2; stroke-opacity:0.1; fill:none\" points=\"\n  988.419,1423.18 988.419,853.724 \n  \"/>\n<polyline clip-path=\"url(#clip843)\" style=\"stroke:#000000; stroke-linecap:round; stroke-linejoin:round; stroke-width:2; stroke-opacity:0.1; fill:none\" points=\"\n  1641.21,1423.18 1641.21,853.724 \n  \"/>\n<polyline clip-path=\"url(#clip843)\" style=\"stroke:#000000; stroke-linecap:round; stroke-linejoin:round; stroke-width:2; stroke-opacity:0.1; fill:none\" points=\"\n  2294,1423.18 2294,853.724 \n  \"/>\n<polyline clip-path=\"url(#clip840)\" style=\"stroke:#000000; stroke-linecap:round; stroke-linejoin:round; stroke-width:4; stroke-opacity:1; fill:none\" points=\"\n  276.876,1423.18 2352.76,1423.18 \n  \"/>\n<polyline clip-path=\"url(#clip840)\" style=\"stroke:#000000; stroke-linecap:round; stroke-linejoin:round; stroke-width:4; stroke-opacity:1; fill:none\" points=\"\n  335.627,1423.18 335.627,1404.28 \n  \"/>\n<polyline clip-path=\"url(#clip840)\" style=\"stroke:#000000; stroke-linecap:round; stroke-linejoin:round; stroke-width:4; stroke-opacity:1; fill:none\" points=\"\n  988.419,1423.18 988.419,1404.28 \n  \"/>\n<polyline clip-path=\"url(#clip840)\" style=\"stroke:#000000; stroke-linecap:round; stroke-linejoin:round; stroke-width:4; stroke-opacity:1; fill:none\" points=\"\n  1641.21,1423.18 1641.21,1404.28 \n  \"/>\n<polyline clip-path=\"url(#clip840)\" style=\"stroke:#000000; stroke-linecap:round; stroke-linejoin:round; stroke-width:4; stroke-opacity:1; fill:none\" points=\"\n  2294,1423.18 2294,1404.28 \n  \"/>\n<path clip-path=\"url(#clip840)\" d=\"M335.627 1454.1 Q332.016 1454.1 330.187 1457.66 Q328.382 1461.2 328.382 1468.33 Q328.382 1475.44 330.187 1479.01 Q332.016 1482.55 335.627 1482.55 Q339.261 1482.55 341.067 1479.01 Q342.895 1475.44 342.895 1468.33 Q342.895 1461.2 341.067 1457.66 Q339.261 1454.1 335.627 1454.1 M335.627 1450.39 Q341.437 1450.39 344.493 1455 Q347.571 1459.58 347.571 1468.33 Q347.571 1477.06 344.493 1481.67 Q341.437 1486.25 335.627 1486.25 Q329.817 1486.25 326.738 1481.67 Q323.682 1477.06 323.682 1468.33 Q323.682 1459.58 326.738 1455 Q329.817 1450.39 335.627 1450.39 Z\" fill=\"#000000\" fill-rule=\"evenodd\" fill-opacity=\"1\" /><path clip-path=\"url(#clip840)\" d=\"M963.107 1481.64 L970.746 1481.64 L970.746 1455.28 L962.436 1456.95 L962.436 1452.69 L970.7 1451.02 L975.376 1451.02 L975.376 1481.64 L983.014 1481.64 L983.014 1485.58 L963.107 1485.58 L963.107 1481.64 Z\" fill=\"#000000\" fill-rule=\"evenodd\" fill-opacity=\"1\" /><path clip-path=\"url(#clip840)\" d=\"M1002.46 1454.1 Q998.848 1454.1 997.019 1457.66 Q995.213 1461.2 995.213 1468.33 Q995.213 1475.44 997.019 1479.01 Q998.848 1482.55 1002.46 1482.55 Q1006.09 1482.55 1007.9 1479.01 Q1009.73 1475.44 1009.73 1468.33 Q1009.73 1461.2 1007.9 1457.66 Q1006.09 1454.1 1002.46 1454.1 M1002.46 1450.39 Q1008.27 1450.39 1011.32 1455 Q1014.4 1459.58 1014.4 1468.33 Q1014.4 1477.06 1011.32 1481.67 Q1008.27 1486.25 1002.46 1486.25 Q996.649 1486.25 993.57 1481.67 Q990.514 1477.06 990.514 1468.33 Q990.514 1459.58 993.57 1455 Q996.649 1450.39 1002.46 1450.39 Z\" fill=\"#000000\" fill-rule=\"evenodd\" fill-opacity=\"1\" /><path clip-path=\"url(#clip840)\" d=\"M1619.99 1481.64 L1636.3 1481.64 L1636.3 1485.58 L1614.36 1485.58 L1614.36 1481.64 Q1617.02 1478.89 1621.61 1474.26 Q1626.21 1469.61 1627.39 1468.27 Q1629.64 1465.74 1630.52 1464.01 Q1631.42 1462.25 1631.42 1460.56 Q1631.42 1457.8 1629.48 1456.07 Q1627.55 1454.33 1624.45 1454.33 Q1622.25 1454.33 1619.8 1455.09 Q1617.37 1455.86 1614.59 1457.41 L1614.59 1452.69 Q1617.42 1451.55 1619.87 1450.97 Q1622.32 1450.39 1624.36 1450.39 Q1629.73 1450.39 1632.93 1453.08 Q1636.12 1455.77 1636.12 1460.26 Q1636.12 1462.39 1635.31 1464.31 Q1634.52 1466.2 1632.42 1468.8 Q1631.84 1469.47 1628.74 1472.69 Q1625.63 1475.88 1619.99 1481.64 Z\" fill=\"#000000\" fill-rule=\"evenodd\" fill-opacity=\"1\" /><path clip-path=\"url(#clip840)\" d=\"M1656.12 1454.1 Q1652.51 1454.1 1650.68 1457.66 Q1648.87 1461.2 1648.87 1468.33 Q1648.87 1475.44 1650.68 1479.01 Q1652.51 1482.55 1656.12 1482.55 Q1659.75 1482.55 1661.56 1479.01 Q1663.39 1475.44 1663.39 1468.33 Q1663.39 1461.2 1661.56 1457.66 Q1659.75 1454.1 1656.12 1454.1 M1656.12 1450.39 Q1661.93 1450.39 1664.99 1455 Q1668.06 1459.58 1668.06 1468.33 Q1668.06 1477.06 1664.99 1481.67 Q1661.93 1486.25 1656.12 1486.25 Q1650.31 1486.25 1647.23 1481.67 Q1644.17 1477.06 1644.17 1468.33 Q1644.17 1459.58 1647.23 1455 Q1650.31 1450.39 1656.12 1450.39 Z\" fill=\"#000000\" fill-rule=\"evenodd\" fill-opacity=\"1\" /><path clip-path=\"url(#clip840)\" d=\"M2282.85 1466.95 Q2286.2 1467.66 2288.08 1469.93 Q2289.98 1472.2 2289.98 1475.53 Q2289.98 1480.65 2286.46 1483.45 Q2282.94 1486.25 2276.46 1486.25 Q2274.28 1486.25 2271.97 1485.81 Q2269.68 1485.39 2267.22 1484.54 L2267.22 1480.02 Q2269.17 1481.16 2271.48 1481.74 Q2273.8 1482.32 2276.32 1482.32 Q2280.72 1482.32 2283.01 1480.58 Q2285.32 1478.84 2285.32 1475.53 Q2285.32 1472.48 2283.17 1470.77 Q2281.04 1469.03 2277.22 1469.03 L2273.19 1469.03 L2273.19 1465.19 L2277.41 1465.19 Q2280.86 1465.19 2282.69 1463.82 Q2284.51 1462.43 2284.51 1459.84 Q2284.51 1457.18 2282.62 1455.77 Q2280.74 1454.33 2277.22 1454.33 Q2275.3 1454.33 2273.1 1454.75 Q2270.9 1455.16 2268.26 1456.04 L2268.26 1451.88 Q2270.93 1451.14 2273.24 1450.77 Q2275.58 1450.39 2277.64 1450.39 Q2282.96 1450.39 2286.06 1452.83 Q2289.17 1455.23 2289.17 1459.35 Q2289.17 1462.22 2287.52 1464.21 Q2285.88 1466.18 2282.85 1466.95 Z\" fill=\"#000000\" fill-rule=\"evenodd\" fill-opacity=\"1\" /><path clip-path=\"url(#clip840)\" d=\"M2308.84 1454.1 Q2305.23 1454.1 2303.4 1457.66 Q2301.6 1461.2 2301.6 1468.33 Q2301.6 1475.44 2303.4 1479.01 Q2305.23 1482.55 2308.84 1482.55 Q2312.48 1482.55 2314.28 1479.01 Q2316.11 1475.44 2316.11 1468.33 Q2316.11 1461.2 2314.28 1457.66 Q2312.48 1454.1 2308.84 1454.1 M2308.84 1450.39 Q2314.65 1450.39 2317.71 1455 Q2320.79 1459.58 2320.79 1468.33 Q2320.79 1477.06 2317.71 1481.67 Q2314.65 1486.25 2308.84 1486.25 Q2303.03 1486.25 2299.95 1481.67 Q2296.9 1477.06 2296.9 1468.33 Q2296.9 1459.58 2299.95 1455 Q2303.03 1450.39 2308.84 1450.39 Z\" fill=\"#000000\" fill-rule=\"evenodd\" fill-opacity=\"1\" /><path clip-path=\"url(#clip840)\" d=\"M1164.33 1520.52 L1204.53 1520.52 L1204.53 1525.93 L1187.66 1525.93 L1187.66 1568.04 L1181.2 1568.04 L1181.2 1525.93 L1164.33 1525.93 L1164.33 1520.52 Z\" fill=\"#000000\" fill-rule=\"evenodd\" fill-opacity=\"1\" /><path clip-path=\"url(#clip840)\" d=\"M1208.48 1532.4 L1214.33 1532.4 L1214.33 1568.04 L1208.48 1568.04 L1208.48 1532.4 M1208.48 1518.52 L1214.33 1518.52 L1214.33 1525.93 L1208.48 1525.93 L1208.48 1518.52 Z\" fill=\"#000000\" fill-rule=\"evenodd\" fill-opacity=\"1\" /><path clip-path=\"url(#clip840)\" d=\"M1254.34 1539.24 Q1256.54 1535.29 1259.59 1533.41 Q1262.65 1531.54 1266.79 1531.54 Q1272.36 1531.54 1275.38 1535.45 Q1278.4 1539.33 1278.4 1546.53 L1278.4 1568.04 L1272.52 1568.04 L1272.52 1546.72 Q1272.52 1541.59 1270.7 1539.11 Q1268.89 1536.63 1265.16 1536.63 Q1260.61 1536.63 1257.97 1539.65 Q1255.33 1542.68 1255.33 1547.9 L1255.33 1568.04 L1249.44 1568.04 L1249.44 1546.72 Q1249.44 1541.56 1247.63 1539.11 Q1245.81 1536.63 1242.02 1536.63 Q1237.54 1536.63 1234.89 1539.68 Q1232.25 1542.71 1232.25 1547.9 L1232.25 1568.04 L1226.36 1568.04 L1226.36 1532.4 L1232.25 1532.4 L1232.25 1537.93 Q1234.26 1534.66 1237.06 1533.1 Q1239.86 1531.54 1243.71 1531.54 Q1247.59 1531.54 1250.3 1533.51 Q1253.04 1535.48 1254.34 1539.24 Z\" fill=\"#000000\" fill-rule=\"evenodd\" fill-opacity=\"1\" /><path clip-path=\"url(#clip840)\" d=\"M1320.58 1548.76 L1320.58 1551.62 L1293.65 1551.62 Q1294.03 1557.67 1297.28 1560.85 Q1300.56 1564 1306.38 1564 Q1309.75 1564 1312.91 1563.17 Q1316.09 1562.35 1319.21 1560.69 L1319.21 1566.23 Q1316.06 1567.57 1312.75 1568.27 Q1309.44 1568.97 1306.03 1568.97 Q1297.5 1568.97 1292.5 1564 Q1287.54 1559.04 1287.54 1550.57 Q1287.54 1541.82 1292.25 1536.69 Q1296.99 1531.54 1305.01 1531.54 Q1312.21 1531.54 1316.38 1536.18 Q1320.58 1540.8 1320.58 1548.76 M1314.72 1547.04 Q1314.66 1542.23 1312.01 1539.37 Q1309.4 1536.5 1305.08 1536.5 Q1300.17 1536.5 1297.21 1539.27 Q1294.29 1542.04 1293.84 1547.07 L1314.72 1547.04 Z\" fill=\"#000000\" fill-rule=\"evenodd\" fill-opacity=\"1\" /><path clip-path=\"url(#clip840)\" d=\"M1350.37 1518.52 L1363.86 1518.52 L1363.86 1523.07 L1356.22 1523.07 L1356.22 1572.09 L1363.86 1572.09 L1363.86 1576.64 L1350.37 1576.64 L1350.37 1518.52 Z\" fill=\"#000000\" fill-rule=\"evenodd\" fill-opacity=\"1\" /><path clip-path=\"url(#clip840)\" d=\"M1405.97 1546.53 L1405.97 1568.04 L1400.12 1568.04 L1400.12 1546.72 Q1400.12 1541.66 1398.14 1539.14 Q1396.17 1536.63 1392.22 1536.63 Q1387.48 1536.63 1384.74 1539.65 Q1382.01 1542.68 1382.01 1547.9 L1382.01 1568.04 L1376.12 1568.04 L1376.12 1532.4 L1382.01 1532.4 L1382.01 1537.93 Q1384.11 1534.72 1386.94 1533.13 Q1389.8 1531.54 1393.53 1531.54 Q1399.67 1531.54 1402.82 1535.36 Q1405.97 1539.14 1405.97 1546.53 Z\" fill=\"#000000\" fill-rule=\"evenodd\" fill-opacity=\"1\" /><path clip-path=\"url(#clip840)\" d=\"M1440.38 1533.45 L1440.38 1538.98 Q1437.9 1537.71 1435.22 1537.07 Q1432.55 1536.44 1429.68 1536.44 Q1425.32 1536.44 1423.13 1537.77 Q1420.96 1539.11 1420.96 1541.79 Q1420.96 1543.82 1422.52 1545 Q1424.08 1546.15 1428.79 1547.2 L1430.8 1547.64 Q1437.04 1548.98 1439.65 1551.43 Q1442.29 1553.85 1442.29 1558.21 Q1442.29 1563.17 1438.34 1566.07 Q1434.43 1568.97 1427.55 1568.97 Q1424.69 1568.97 1421.57 1568.39 Q1418.48 1567.85 1415.04 1566.74 L1415.04 1560.69 Q1418.29 1562.38 1421.44 1563.24 Q1424.59 1564.07 1427.68 1564.07 Q1431.82 1564.07 1434.05 1562.66 Q1436.27 1561.23 1436.27 1558.65 Q1436.27 1556.27 1434.65 1554.99 Q1433.06 1553.72 1427.62 1552.54 L1425.58 1552.07 Q1420.14 1550.92 1417.72 1548.56 Q1415.3 1546.18 1415.3 1542.04 Q1415.3 1537.01 1418.86 1534.27 Q1422.43 1531.54 1428.98 1531.54 Q1432.23 1531.54 1435.1 1532.01 Q1437.96 1532.49 1440.38 1533.45 Z\" fill=\"#000000\" fill-rule=\"evenodd\" fill-opacity=\"1\" /><path clip-path=\"url(#clip840)\" d=\"M1465.3 1518.52 L1465.3 1576.64 L1451.81 1576.64 L1451.81 1572.09 L1459.41 1572.09 L1459.41 1523.07 L1451.81 1523.07 L1451.81 1518.52 L1465.3 1518.52 Z\" fill=\"#000000\" fill-rule=\"evenodd\" fill-opacity=\"1\" /><polyline clip-path=\"url(#clip843)\" style=\"stroke:#000000; stroke-linecap:round; stroke-linejoin:round; stroke-width:2; stroke-opacity:0.1; fill:none\" points=\"\n  276.876,1423.18 2352.76,1423.18 \n  \"/>\n<polyline clip-path=\"url(#clip843)\" style=\"stroke:#000000; stroke-linecap:round; stroke-linejoin:round; stroke-width:2; stroke-opacity:0.1; fill:none\" points=\"\n  276.876,1139.63 2352.76,1139.63 \n  \"/>\n<polyline clip-path=\"url(#clip843)\" style=\"stroke:#000000; stroke-linecap:round; stroke-linejoin:round; stroke-width:2; stroke-opacity:0.1; fill:none\" points=\"\n  276.876,856.072 2352.76,856.072 \n  \"/>\n<polyline clip-path=\"url(#clip840)\" style=\"stroke:#000000; stroke-linecap:round; stroke-linejoin:round; stroke-width:4; stroke-opacity:1; fill:none\" points=\"\n  276.876,1423.18 276.876,853.724 \n  \"/>\n<polyline clip-path=\"url(#clip840)\" style=\"stroke:#000000; stroke-linecap:round; stroke-linejoin:round; stroke-width:4; stroke-opacity:1; fill:none\" points=\"\n  276.876,1423.18 295.773,1423.18 \n  \"/>\n<polyline clip-path=\"url(#clip840)\" style=\"stroke:#000000; stroke-linecap:round; stroke-linejoin:round; stroke-width:4; stroke-opacity:1; fill:none\" points=\"\n  276.876,1139.63 295.773,1139.63 \n  \"/>\n<polyline clip-path=\"url(#clip840)\" style=\"stroke:#000000; stroke-linecap:round; stroke-linejoin:round; stroke-width:4; stroke-opacity:1; fill:none\" points=\"\n  276.876,856.072 295.773,856.072 \n  \"/>\n<path clip-path=\"url(#clip840)\" d=\"M114.931 1442.97 L122.57 1442.97 L122.57 1416.61 L114.26 1418.27 L114.26 1414.01 L122.524 1412.35 L127.2 1412.35 L127.2 1442.97 L134.839 1442.97 L134.839 1446.91 L114.931 1446.91 L114.931 1442.97 Z\" fill=\"#000000\" fill-rule=\"evenodd\" fill-opacity=\"1\" /><path clip-path=\"url(#clip840)\" d=\"M154.283 1415.43 Q150.672 1415.43 148.843 1418.99 Q147.038 1422.53 147.038 1429.66 Q147.038 1436.77 148.843 1440.33 Q150.672 1443.88 154.283 1443.88 Q157.917 1443.88 159.723 1440.33 Q161.552 1436.77 161.552 1429.66 Q161.552 1422.53 159.723 1418.99 Q157.917 1415.43 154.283 1415.43 M154.283 1411.72 Q160.093 1411.72 163.149 1416.33 Q166.227 1420.91 166.227 1429.66 Q166.227 1438.39 163.149 1443 Q160.093 1447.58 154.283 1447.58 Q148.473 1447.58 145.394 1443 Q142.339 1438.39 142.339 1429.66 Q142.339 1420.91 145.394 1416.33 Q148.473 1411.72 154.283 1411.72 Z\" fill=\"#000000\" fill-rule=\"evenodd\" fill-opacity=\"1\" /><path clip-path=\"url(#clip840)\" d=\"M166.227 1405.82 L190.339 1405.82 L190.339 1409.02 L166.227 1409.02 L166.227 1405.82 Z\" fill=\"#000000\" fill-rule=\"evenodd\" fill-opacity=\"1\" /><path clip-path=\"url(#clip840)\" d=\"M199.197 1416.3 L205.404 1416.3 L205.404 1394.88 L198.652 1396.23 L198.652 1392.77 L205.366 1391.42 L209.166 1391.42 L209.166 1416.3 L215.372 1416.3 L215.372 1419.5 L199.197 1419.5 L199.197 1416.3 Z\" fill=\"#000000\" fill-rule=\"evenodd\" fill-opacity=\"1\" /><path clip-path=\"url(#clip840)\" d=\"M231.171 1393.92 Q228.237 1393.92 226.751 1396.81 Q225.284 1399.69 225.284 1405.49 Q225.284 1411.26 226.751 1414.16 Q228.237 1417.03 231.171 1417.03 Q234.124 1417.03 235.591 1414.16 Q237.076 1411.26 237.076 1405.49 Q237.076 1399.69 235.591 1396.81 Q234.124 1393.92 231.171 1393.92 M231.171 1390.91 Q235.891 1390.91 238.374 1394.65 Q240.876 1398.38 240.876 1405.49 Q240.876 1412.58 238.374 1416.32 Q235.891 1420.04 231.171 1420.04 Q226.45 1420.04 223.949 1416.32 Q221.466 1412.58 221.466 1405.49 Q221.466 1398.38 223.949 1394.65 Q226.45 1390.91 231.171 1390.91 Z\" fill=\"#000000\" fill-rule=\"evenodd\" fill-opacity=\"1\" /><path clip-path=\"url(#clip840)\" d=\"M140.247 1159.42 L147.886 1159.42 L147.886 1133.05 L139.575 1134.72 L139.575 1130.46 L147.839 1128.79 L152.515 1128.79 L152.515 1159.42 L160.154 1159.42 L160.154 1163.35 L140.247 1163.35 L140.247 1159.42 Z\" fill=\"#000000\" fill-rule=\"evenodd\" fill-opacity=\"1\" /><path clip-path=\"url(#clip840)\" d=\"M179.598 1131.87 Q175.987 1131.87 174.159 1135.44 Q172.353 1138.98 172.353 1146.11 Q172.353 1153.21 174.159 1156.78 Q175.987 1160.32 179.598 1160.32 Q183.233 1160.32 185.038 1156.78 Q186.867 1153.21 186.867 1146.11 Q186.867 1138.98 185.038 1135.44 Q183.233 1131.87 179.598 1131.87 M179.598 1128.17 Q185.409 1128.17 188.464 1132.77 Q191.543 1137.36 191.543 1146.11 Q191.543 1154.83 188.464 1159.44 Q185.409 1164.02 179.598 1164.02 Q173.788 1164.02 170.71 1159.44 Q167.654 1154.83 167.654 1146.11 Q167.654 1137.36 170.71 1132.77 Q173.788 1128.17 179.598 1128.17 Z\" fill=\"#000000\" fill-rule=\"evenodd\" fill-opacity=\"1\" /><path clip-path=\"url(#clip840)\" d=\"M191.543 1122.27 L215.654 1122.27 L215.654 1125.47 L191.543 1125.47 L191.543 1122.27 Z\" fill=\"#000000\" fill-rule=\"evenodd\" fill-opacity=\"1\" /><path clip-path=\"url(#clip840)\" d=\"M223.892 1107.86 L238.807 1107.86 L238.807 1111.06 L227.372 1111.06 L227.372 1117.94 Q228.199 1117.66 229.027 1117.53 Q229.854 1117.38 230.682 1117.38 Q235.384 1117.38 238.13 1119.96 Q240.876 1122.53 240.876 1126.93 Q240.876 1131.47 238.054 1133.99 Q235.233 1136.49 230.099 1136.49 Q228.331 1136.49 226.488 1136.19 Q224.663 1135.89 222.707 1135.28 L222.707 1131.47 Q224.4 1132.39 226.205 1132.84 Q228.011 1133.29 230.023 1133.29 Q233.277 1133.29 235.177 1131.58 Q237.076 1129.87 237.076 1126.93 Q237.076 1124 235.177 1122.29 Q233.277 1120.58 230.023 1120.58 Q228.5 1120.58 226.977 1120.92 Q225.472 1121.25 223.892 1121.97 L223.892 1107.86 Z\" fill=\"#000000\" fill-rule=\"evenodd\" fill-opacity=\"1\" /><path clip-path=\"url(#clip840)\" d=\"M170.17 875.864 L177.809 875.864 L177.809 849.498 L169.499 851.165 L169.499 846.906 L177.762 845.239 L182.438 845.239 L182.438 875.864 L190.077 875.864 L190.077 879.799 L170.17 879.799 L170.17 875.864 Z\" fill=\"#000000\" fill-rule=\"evenodd\" fill-opacity=\"1\" /><path clip-path=\"url(#clip840)\" d=\"M209.522 848.318 Q205.91 848.318 204.082 851.883 Q202.276 855.424 202.276 862.554 Q202.276 869.66 204.082 873.225 Q205.91 876.767 209.522 876.767 Q213.156 876.767 214.961 873.225 Q216.79 869.66 216.79 862.554 Q216.79 855.424 214.961 851.883 Q213.156 848.318 209.522 848.318 M209.522 844.614 Q215.332 844.614 218.387 849.221 Q221.466 853.804 221.466 862.554 Q221.466 871.281 218.387 875.887 Q215.332 880.47 209.522 880.47 Q203.711 880.47 200.633 875.887 Q197.577 871.281 197.577 862.554 Q197.577 853.804 200.633 849.221 Q203.711 844.614 209.522 844.614 Z\" fill=\"#000000\" fill-rule=\"evenodd\" fill-opacity=\"1\" /><path clip-path=\"url(#clip840)\" d=\"M231.171 826.81 Q228.237 826.81 226.751 829.707 Q225.284 832.584 225.284 838.377 Q225.284 844.151 226.751 847.047 Q228.237 849.925 231.171 849.925 Q234.124 849.925 235.591 847.047 Q237.076 844.151 237.076 838.377 Q237.076 832.584 235.591 829.707 Q234.124 826.81 231.171 826.81 M231.171 823.801 Q235.891 823.801 238.374 827.544 Q240.876 831.268 240.876 838.377 Q240.876 845.467 238.374 849.21 Q235.891 852.934 231.171 852.934 Q226.45 852.934 223.949 849.21 Q221.466 845.467 221.466 838.377 Q221.466 831.268 223.949 827.544 Q226.45 823.801 231.171 823.801 Z\" fill=\"#000000\" fill-rule=\"evenodd\" fill-opacity=\"1\" /><path clip-path=\"url(#clip840)\" d=\"M20.8447 1297.07 Q20.8447 1304.07 26.0645 1308.21 Q31.2844 1312.32 40.2919 1312.32 Q49.2675 1312.32 54.4874 1308.21 Q59.7073 1304.07 59.7073 1297.07 Q59.7073 1290.07 54.4874 1285.99 Q49.2675 1281.89 40.2919 1281.89 Q31.2844 1281.89 26.0645 1285.99 Q20.8447 1290.07 20.8447 1297.07 M15.6248 1297.07 Q15.6248 1287.08 22.3406 1281.09 Q29.0246 1275.11 40.2919 1275.11 Q51.5274 1275.11 58.2432 1281.09 Q64.9272 1287.08 64.9272 1297.07 Q64.9272 1307.1 58.2432 1313.11 Q51.5592 1319.09 40.2919 1319.09 Q29.0246 1319.09 22.3406 1313.11 Q15.6248 1307.1 15.6248 1297.07 Z\" fill=\"#000000\" fill-rule=\"evenodd\" fill-opacity=\"1\" /><path clip-path=\"url(#clip840)\" d=\"M29.7248 1239.65 L35.1993 1239.65 Q33.8307 1242.13 33.1623 1244.65 Q32.4621 1247.13 32.4621 1249.68 Q32.4621 1255.37 36.0905 1258.53 Q39.6872 1261.68 46.212 1261.68 Q52.7369 1261.68 56.3653 1258.53 Q59.9619 1255.37 59.9619 1249.68 Q59.9619 1247.13 59.2935 1244.65 Q58.5933 1242.13 57.2247 1239.65 L62.6355 1239.65 Q63.7814 1242.1 64.3543 1244.74 Q64.9272 1247.35 64.9272 1250.31 Q64.9272 1258.37 59.8664 1263.11 Q54.8057 1267.85 46.212 1267.85 Q37.491 1267.85 32.4939 1263.08 Q27.4968 1258.27 27.4968 1249.93 Q27.4968 1247.23 28.0697 1244.65 Q28.6108 1242.07 29.7248 1239.65 Z\" fill=\"#000000\" fill-rule=\"evenodd\" fill-opacity=\"1\" /><path clip-path=\"url(#clip840)\" d=\"M29.7248 1203.81 L35.1993 1203.81 Q33.8307 1206.29 33.1623 1208.81 Q32.4621 1211.29 32.4621 1213.84 Q32.4621 1219.54 36.0905 1222.69 Q39.6872 1225.84 46.212 1225.84 Q52.7369 1225.84 56.3653 1222.69 Q59.9619 1219.54 59.9619 1213.84 Q59.9619 1211.29 59.2935 1208.81 Q58.5933 1206.29 57.2247 1203.81 L62.6355 1203.81 Q63.7814 1206.26 64.3543 1208.9 Q64.9272 1211.51 64.9272 1214.47 Q64.9272 1222.53 59.8664 1227.27 Q54.8057 1232.01 46.212 1232.01 Q37.491 1232.01 32.4939 1227.24 Q27.4968 1222.43 27.4968 1214.09 Q27.4968 1211.39 28.0697 1208.81 Q28.6108 1206.23 29.7248 1203.81 Z\" fill=\"#000000\" fill-rule=\"evenodd\" fill-opacity=\"1\" /><path clip-path=\"url(#clip840)\" d=\"M49.9359 1194.23 L28.3562 1194.23 L28.3562 1188.38 L49.7131 1188.38 Q54.7739 1188.38 57.3202 1186.4 Q59.8346 1184.43 59.8346 1180.48 Q59.8346 1175.74 56.8109 1173 Q53.7872 1170.23 48.5673 1170.23 L28.3562 1170.23 L28.3562 1164.38 L64.0042 1164.38 L64.0042 1170.23 L58.5296 1170.23 Q61.7762 1172.37 63.3676 1175.2 Q64.9272 1178 64.9272 1181.72 Q64.9272 1187.87 61.1078 1191.05 Q57.2883 1194.23 49.9359 1194.23 M27.4968 1179.49 L27.4968 1179.49 Z\" fill=\"#000000\" fill-rule=\"evenodd\" fill-opacity=\"1\" /><path clip-path=\"url(#clip840)\" d=\"M58.657 1146.65 L77.5631 1146.65 L77.5631 1152.54 L28.3562 1152.54 L28.3562 1146.65 L33.7671 1146.65 Q30.5842 1144.8 29.0564 1142 Q27.4968 1139.17 27.4968 1135.25 Q27.4968 1128.76 32.6531 1124.72 Q37.8093 1120.64 46.212 1120.64 Q54.6147 1120.64 59.771 1124.72 Q64.9272 1128.76 64.9272 1135.25 Q64.9272 1139.17 63.3994 1142 Q61.8398 1144.8 58.657 1146.65 M46.212 1126.72 Q39.7508 1126.72 36.0905 1129.4 Q32.3984 1132.04 32.3984 1136.69 Q32.3984 1141.33 36.0905 1144.01 Q39.7508 1146.65 46.212 1146.65 Q52.6732 1146.65 56.3653 1144.01 Q60.0256 1141.33 60.0256 1136.69 Q60.0256 1132.04 56.3653 1129.4 Q52.6732 1126.72 46.212 1126.72 Z\" fill=\"#000000\" fill-rule=\"evenodd\" fill-opacity=\"1\" /><path clip-path=\"url(#clip840)\" d=\"M46.0847 1094.74 Q46.0847 1101.83 47.7079 1104.57 Q49.3312 1107.31 53.2461 1107.31 Q56.3653 1107.31 58.2114 1105.27 Q60.0256 1103.2 60.0256 1099.67 Q60.0256 1094.8 56.5881 1091.87 Q53.1188 1088.91 47.3897 1088.91 L46.0847 1088.91 L46.0847 1094.74 M43.6657 1083.05 L64.0042 1083.05 L64.0042 1088.91 L58.5933 1088.91 Q61.8398 1090.92 63.3994 1093.91 Q64.9272 1096.9 64.9272 1101.23 Q64.9272 1106.7 61.8716 1109.95 Q58.7843 1113.16 53.6281 1113.16 Q47.6125 1113.16 44.5569 1109.15 Q41.5014 1105.11 41.5014 1097.12 L41.5014 1088.91 L40.9285 1088.91 Q36.8862 1088.91 34.6901 1091.58 Q32.4621 1094.23 32.4621 1099.03 Q32.4621 1102.09 33.1941 1104.98 Q33.9262 1107.88 35.3903 1110.55 L29.9795 1110.55 Q28.7381 1107.34 28.1334 1104.32 Q27.4968 1101.29 27.4968 1098.43 Q27.4968 1090.69 31.5072 1086.87 Q35.5176 1083.05 43.6657 1083.05 Z\" fill=\"#000000\" fill-rule=\"evenodd\" fill-opacity=\"1\" /><path clip-path=\"url(#clip840)\" d=\"M18.2347 1065.2 L28.3562 1065.2 L28.3562 1053.14 L32.9077 1053.14 L32.9077 1065.2 L52.2594 1065.2 Q56.6199 1065.2 57.8613 1064.02 Q59.1026 1062.81 59.1026 1059.15 L59.1026 1053.14 L64.0042 1053.14 L64.0042 1059.15 Q64.0042 1065.93 61.4897 1068.51 Q58.9434 1071.09 52.2594 1071.09 L32.9077 1071.09 L32.9077 1075.38 L28.3562 1075.38 L28.3562 1071.09 L18.2347 1071.09 L18.2347 1065.2 Z\" fill=\"#000000\" fill-rule=\"evenodd\" fill-opacity=\"1\" /><path clip-path=\"url(#clip840)\" d=\"M28.3562 1045.43 L28.3562 1039.58 L64.0042 1039.58 L64.0042 1045.43 L28.3562 1045.43 M14.479 1045.43 L14.479 1039.58 L21.895 1039.58 L21.895 1045.43 L14.479 1045.43 Z\" fill=\"#000000\" fill-rule=\"evenodd\" fill-opacity=\"1\" /><path clip-path=\"url(#clip840)\" d=\"M32.4621 1013.51 Q32.4621 1018.22 36.1542 1020.96 Q39.8145 1023.69 46.212 1023.69 Q52.6095 1023.69 56.3017 1020.99 Q59.9619 1018.25 59.9619 1013.51 Q59.9619 1008.83 56.2698 1006.09 Q52.5777 1003.36 46.212 1003.36 Q39.8781 1003.36 36.186 1006.09 Q32.4621 1008.83 32.4621 1013.51 M27.4968 1013.51 Q27.4968 1005.87 32.4621 1001.51 Q37.4273 997.149 46.212 997.149 Q54.9649 997.149 59.9619 1001.51 Q64.9272 1005.87 64.9272 1013.51 Q64.9272 1021.18 59.9619 1025.54 Q54.9649 1029.87 46.212 1029.87 Q37.4273 1029.87 32.4621 1025.54 Q27.4968 1021.18 27.4968 1013.51 Z\" fill=\"#000000\" fill-rule=\"evenodd\" fill-opacity=\"1\" /><path clip-path=\"url(#clip840)\" d=\"M42.4881 957.809 L64.0042 957.809 L64.0042 963.666 L42.679 963.666 Q37.6183 963.666 35.1038 965.639 Q32.5894 967.612 32.5894 971.559 Q32.5894 976.302 35.6131 979.039 Q38.6368 981.776 43.8567 981.776 L64.0042 981.776 L64.0042 987.664 L28.3562 987.664 L28.3562 981.776 L33.8944 981.776 Q30.6797 979.675 29.0883 976.843 Q27.4968 973.978 27.4968 970.254 Q27.4968 964.111 31.3163 960.96 Q35.1038 957.809 42.4881 957.809 Z\" fill=\"#000000\" fill-rule=\"evenodd\" fill-opacity=\"1\" /><polyline clip-path=\"url(#clip843)\" style=\"stroke:#009af9; stroke-linecap:round; stroke-linejoin:round; stroke-width:4; stroke-opacity:1; fill:none\" points=\"\n  335.627,2351.84 337.587,1259.44 339.548,1225.04 341.508,1204.81 343.468,1190.39 345.429,1179.15 347.389,1169.93 349.349,1162.1 351.31,1155.28 353.27,1149.24 \n  355.23,1143.82 357.191,1138.9 359.151,1134.4 361.111,1130.27 363.072,1126.43 365.032,1122.87 366.992,1119.54 368.953,1116.41 370.913,1113.46 372.873,1110.67 \n  374.834,1108.01 376.794,1105.48 378.754,1103.06 380.715,1100.75 382.675,1098.55 384.635,1096.44 386.596,1094.43 388.556,1092.5 390.516,1090.65 392.477,1088.88 \n  394.437,1087.17 396.397,1085.53 398.358,1083.94 400.318,1082.4 402.278,1080.91 404.239,1079.47 406.199,1078.07 408.159,1076.73 410.12,1075.43 412.08,1074.19 \n  414.04,1072.98 416.001,1071.82 417.961,1070.7 419.921,1069.62 421.882,1068.57 423.842,1067.54 425.802,1066.55 427.763,1065.58 429.723,1064.64 431.683,1063.74 \n  433.644,1062.87 435.604,1062.03 437.564,1061.22 439.525,1060.45 441.485,1059.7 443.445,1058.97 445.406,1058.27 447.366,1057.59 449.326,1056.94 451.287,1056.3 \n  453.247,1055.69 455.207,1055.1 457.168,1054.53 459.128,1053.99 461.088,1053.47 463.049,1052.97 465.009,1052.5 466.969,1052.05 468.93,1051.62 470.89,1051.21 \n  472.851,1050.81 474.811,1050.44 476.771,1050.08 478.732,1049.74 480.692,1049.42 482.652,1049.11 484.613,1048.83 486.573,1048.56 488.533,1048.31 490.494,1048.08 \n  492.454,1047.87 494.414,1047.67 496.375,1047.49 498.335,1047.32 500.295,1047.17 502.256,1047.04 504.216,1046.92 506.176,1046.82 508.137,1046.72 510.097,1046.64 \n  512.057,1046.57 514.018,1046.51 515.978,1046.47 517.938,1046.43 519.899,1046.41 521.859,1046.4 523.819,1046.4 525.78,1046.41 527.74,1046.43 529.7,1046.45 \n  531.661,1046.49 533.621,1046.52 535.581,1046.56 537.542,1046.6 539.502,1046.64 541.462,1046.68 543.423,1046.72 545.383,1046.75 547.343,1046.79 549.304,1046.83 \n  551.264,1046.86 553.224,1046.89 555.185,1046.91 557.145,1046.92 559.105,1046.91 561.066,1046.9 563.026,1046.86 564.986,1046.81 566.947,1046.73 568.907,1046.64 \n  570.867,1046.52 572.828,1046.38 574.788,1046.22 576.748,1046.04 578.709,1045.83 580.669,1045.59 582.629,1045.32 584.59,1045.03 586.55,1044.71 588.51,1044.35 \n  590.471,1043.97 592.431,1043.55 594.391,1043.1 596.352,1042.62 598.312,1042.12 600.272,1041.58 602.233,1041.01 604.193,1040.42 606.153,1039.79 608.114,1039.15 \n  610.074,1038.47 612.035,1037.78 613.995,1037.06 615.955,1036.33 617.916,1035.58 619.876,1034.81 621.836,1034.03 623.797,1033.24 625.757,1032.43 627.717,1031.62 \n  629.678,1030.79 631.638,1029.96 633.598,1029.11 635.559,1028.26 637.519,1027.41 639.479,1026.55 641.44,1025.69 643.4,1024.83 645.36,1023.97 647.321,1023.12 \n  649.281,1022.27 651.241,1021.43 653.202,1020.59 655.162,1019.76 657.122,1018.93 659.083,1018.11 661.043,1017.3 663.003,1016.49 664.964,1015.68 666.924,1014.89 \n  668.884,1014.11 670.845,1013.33 672.805,1012.57 674.765,1011.81 676.726,1011.07 678.686,1010.33 680.646,1009.61 682.607,1008.9 684.567,1008.2 686.527,1007.51 \n  688.488,1006.84 690.448,1006.17 692.408,1005.53 694.369,1004.89 696.329,1004.26 698.289,1003.65 700.25,1003.05 702.21,1002.46 704.17,1001.89 706.131,1001.32 \n  708.091,1000.77 710.051,1000.23 712.012,999.697 713.972,999.182 715.932,998.681 717.893,998.194 719.853,997.721 721.813,997.263 723.774,996.818 725.734,996.387 \n  727.694,995.969 729.655,995.564 731.615,995.171 733.575,994.791 735.536,994.423 737.496,994.069 739.456,993.727 741.417,993.398 743.377,993.083 745.337,992.781 \n  747.298,992.493 749.258,992.217 751.219,991.956 753.179,991.708 755.139,991.473 757.1,991.253 759.06,991.046 761.02,990.854 762.981,990.676 764.941,990.512 \n  766.901,990.362 768.862,990.226 770.822,990.104 772.782,989.995 774.743,989.899 776.703,989.817 778.663,989.747 780.624,989.69 782.584,989.646 784.544,989.616 \n  786.505,989.601 788.465,989.6 790.425,989.614 792.386,989.643 794.346,989.687 796.306,989.746 798.267,989.819 800.227,989.908 802.187,990.011 804.148,990.128 \n  806.108,990.26 808.068,990.406 810.029,990.566 811.989,990.742 813.949,990.931 815.91,991.135 817.87,991.354 819.83,991.587 821.791,991.834 823.751,992.096 \n  825.711,992.372 827.672,992.663 829.632,992.968 831.592,993.289 833.553,993.626 835.513,993.978 837.473,994.347 839.434,994.731 841.394,995.131 843.354,995.546 \n  845.315,995.977 847.275,996.422 849.235,996.88 851.196,997.353 853.156,997.839 855.116,998.339 857.077,998.852 859.037,999.378 860.997,999.917 862.958,1000.47 \n  864.918,1001.03 866.878,1001.61 868.839,1002.2 870.799,1002.8 872.759,1003.41 874.72,1004.04 876.68,1004.67 878.64,1005.31 880.601,1005.97 882.561,1006.63 \n  884.522,1007.3 886.482,1007.98 888.442,1008.66 890.403,1009.35 892.363,1010.04 894.323,1010.73 896.284,1011.43 898.244,1012.12 900.204,1012.81 902.165,1013.49 \n  904.125,1014.17 906.085,1014.84 908.046,1015.51 910.006,1016.16 911.966,1016.81 913.927,1017.44 915.887,1018.06 917.847,1018.67 919.808,1019.26 921.768,1019.83 \n  923.728,1020.39 925.689,1020.92 927.649,1021.44 929.609,1021.93 931.57,1022.4 933.53,1022.85 935.49,1023.27 937.451,1023.68 939.411,1024.05 941.371,1024.41 \n  943.332,1024.74 945.292,1025.04 947.252,1025.33 949.213,1025.59 951.173,1025.83 953.133,1026.06 955.094,1026.27 957.054,1026.46 959.014,1026.65 960.975,1026.82 \n  962.935,1026.99 964.895,1027.16 966.856,1027.32 968.816,1027.48 970.776,1027.65 972.737,1027.82 974.697,1027.99 976.657,1028.18 978.618,1028.37 980.578,1028.58 \n  982.538,1028.81 984.499,1029.05 986.459,1029.31 988.419,1029.59 990.38,1029.59 992.34,1029.58 994.3,1029.54 996.261,1029.48 998.221,1029.36 1000.18,1029.19 \n  1002.14,1028.93 1004.1,1028.6 1006.06,1028.19 1008.02,1027.7 1009.98,1027.17 1011.94,1026.61 1013.9,1026.06 1015.86,1025.57 1017.82,1025.17 1019.78,1024.91 \n  1021.75,1024.84 1023.71,1025.01 1025.67,1025.48 1027.63,1026.31 1029.59,1027.57 1031.55,1029.32 1033.51,1031.62 1035.47,1034.54 1037.43,1038.11 1039.39,1042.3 \n  1041.35,1046.95 1043.31,1051.52 1045.27,1054.86 1047.23,1055.26 1049.19,1051.58 1051.15,1044.49 1053.11,1035.74 1055.07,1026.72 1057.03,1018.14 1058.99,1010.24 \n  1060.95,1003.07 1062.91,996.605 1064.87,990.762 1066.83,985.475 1068.79,980.681 1070.75,976.327 1072.71,972.375 1074.67,968.794 1076.63,965.566 1078.59,962.674 \n  1080.56,960.105 1082.52,957.843 1084.48,955.873 1086.44,954.179 1088.4,952.743 1090.36,951.552 1092.32,950.592 1094.28,949.851 1096.24,949.319 1098.2,948.982 \n  1100.16,948.821 1102.12,948.813 1104.08,948.927 1106.04,949.126 1108,949.365 1109.96,949.596 1111.92,949.765 1113.88,949.818 1115.84,949.699 1117.8,949.354 \n  1119.76,948.735 1121.72,947.81 1123.68,946.564 1125.64,945.007 1127.6,943.173 1129.56,941.115 1131.52,938.891 1133.48,936.559 1135.44,934.171 1137.41,931.768 \n  1139.37,929.382 1141.33,927.039 1143.29,924.76 1145.25,922.563 1147.21,920.464 1149.17,918.479 1151.13,916.62 1153.09,914.895 1155.05,913.31 1157.01,911.864 \n  1158.97,910.555 1160.93,909.378 1162.89,908.327 1164.85,907.397 1166.81,906.584 1168.77,905.885 1170.73,905.298 1172.69,904.819 1174.65,904.443 1176.61,904.161 \n  1178.57,903.962 1180.53,903.836 1182.49,903.767 1184.45,903.741 1186.41,903.741 1188.37,903.75 1190.33,903.75 1192.29,903.723 1194.25,903.649 1196.22,903.511 \n  1198.18,903.292 1200.14,902.984 1202.1,902.578 1204.06,902.075 1206.02,901.477 1207.98,900.789 1209.94,900.019 1211.9,899.172 1213.86,898.257 1215.82,897.283 \n  1217.78,896.262 1219.74,895.207 1221.7,894.135 1223.66,893.062 1225.62,892.001 1227.58,890.967 1229.54,889.97 1231.5,889.017 1233.46,888.112 1235.42,887.258 \n  1237.38,886.459 1239.34,885.714 1241.3,885.028 1243.26,884.401 1245.22,883.837 1247.18,883.337 1249.14,882.899 1251.1,882.521 1253.07,882.202 1255.03,881.935 \n  1256.99,881.718 1258.95,881.547 1260.91,881.417 1262.87,881.324 1264.83,881.264 1266.79,881.231 1268.75,881.217 1270.71,881.216 1272.67,881.218 1274.63,881.217 \n  1276.59,881.204 1278.55,881.171 1280.51,881.114 1282.47,881.025 1284.43,880.9 1286.39,880.732 1288.35,880.516 1290.31,880.25 1292.27,879.932 1294.23,879.562 \n  1296.19,879.146 1298.15,878.688 1300.11,878.196 1302.07,877.675 1304.03,877.132 1305.99,876.571 1307.95,875.995 1309.91,875.408 1311.88,874.814 1313.84,874.218 \n  1315.8,873.626 1317.76,873.046 1319.72,872.484 1321.68,871.947 1323.64,871.441 1325.6,870.97 1327.56,870.536 1329.52,870.14 1331.48,869.783 1333.44,869.466 \n  1335.4,869.189 1337.36,868.952 1339.32,868.755 1341.28,868.597 1343.24,868.474 1345.2,868.384 1347.16,868.321 1349.12,868.281 1351.08,868.259 1353.04,868.25 \n  1355,868.248 1356.96,868.249 1358.92,868.248 1360.88,868.237 1362.84,868.212 1364.8,868.166 1366.76,868.096 1368.73,867.997 1370.69,867.869 1372.65,867.711 \n  1374.61,867.523 1376.57,867.308 1378.53,867.067 1380.49,866.8 1382.45,866.509 1384.41,866.197 1386.37,865.868 1388.33,865.524 1390.29,865.172 1392.25,864.816 \n  1394.21,864.462 1396.17,864.113 1398.13,863.773 1400.09,863.442 1402.05,863.122 1404.01,862.814 1405.97,862.519 1407.93,862.24 1409.89,861.979 1411.85,861.74 \n  1413.81,861.525 1415.77,861.335 1417.73,861.17 1419.69,861.031 1421.65,860.914 1423.61,860.817 1425.57,860.74 1427.54,860.679 1429.5,860.633 1431.46,860.601 \n  1433.42,860.58 1435.38,860.568 1437.34,860.563 1439.3,860.562 1441.26,860.563 1443.22,860.561 1445.18,860.557 1447.14,860.547 1449.1,860.53 1451.06,860.506 \n  1453.02,860.471 1454.98,860.424 1456.94,860.363 1458.9,860.287 1460.86,860.195 1462.82,860.087 1464.78,859.965 1466.74,859.831 1468.7,859.687 1470.66,859.535 \n  1472.62,859.377 1474.58,859.213 1476.54,859.044 1478.5,858.87 1480.46,858.694 1482.42,858.517 1484.38,858.342 1486.35,858.172 1488.31,858.009 1490.27,857.856 \n  1492.23,857.714 1494.19,857.582 1496.15,857.459 1498.11,857.346 1500.07,857.241 1502.03,857.145 1503.99,857.059 1505.95,856.984 1507.91,856.921 1509.87,856.87 \n  1511.83,856.831 1513.79,856.803 1515.75,856.783 1517.71,856.77 1519.67,856.763 1521.63,856.759 1523.59,856.759 1525.55,856.759 1527.51,856.76 1529.47,856.761 \n  1531.43,856.759 1533.39,856.755 1535.35,856.747 1537.31,856.736 1539.27,856.723 1541.23,856.707 1543.2,856.689 1545.16,856.669 1547.12,856.645 1549.08,856.618 \n  1551.04,856.587 1553,856.552 1554.96,856.514 1556.92,856.474 1558.88,856.433 1560.84,856.395 1562.8,856.36 1564.76,856.328 1566.72,856.299 1568.68,856.274 \n  1570.64,856.25 1572.6,856.228 1574.56,856.206 1576.52,856.186 1578.48,856.168 1580.44,856.152 1582.4,856.138 1584.36,856.127 1586.32,856.119 1588.28,856.112 \n  1590.24,856.106 1592.2,856.101 1594.16,856.097 1596.12,856.094 1598.08,856.092 1600.04,856.09 1602.01,856.09 1603.97,856.09 1605.93,856.09 1607.89,856.09 \n  1609.85,856.09 1611.81,856.091 1613.77,856.091 1615.73,856.092 1617.69,856.092 1619.65,856.093 1621.61,856.094 1623.57,856.094 1625.53,856.094 1627.49,856.094 \n  1629.45,856.095 1631.41,856.095 1633.37,856.095 1635.33,856.095 1637.29,856.095 1639.25,856.095 1641.21,856.095 1643.17,856.095 1645.13,856.095 1647.09,856.096 \n  1649.05,856.096 1651.01,856.096 1652.97,856.096 1654.93,856.097 1656.89,856.097 1658.86,856.097 1660.82,856.097 1662.78,856.097 1664.74,856.097 1666.7,856.098 \n  1668.66,856.098 1670.62,856.098 1672.58,856.098 1674.54,856.098 1676.5,856.098 1678.46,856.098 1680.42,856.099 1682.38,856.099 1684.34,856.099 1686.3,856.1 \n  1688.26,856.1 1690.22,856.101 1692.18,856.101 1694.14,856.101 1696.1,856.102 1698.06,856.102 1700.02,856.103 1701.98,856.103 1703.94,856.104 1705.9,856.105 \n  1707.86,856.105 1709.82,856.106 1711.78,856.107 1713.74,856.108 1715.7,856.108 1717.67,856.109 1719.63,856.11 1721.59,856.111 1723.55,856.113 1725.51,856.114 \n  1727.47,856.115 1729.43,856.116 1731.39,856.117 1733.35,856.119 1735.31,856.12 1737.27,856.121 1739.23,856.122 1741.19,856.124 1743.15,856.125 1745.11,856.126 \n  1747.07,856.128 1749.03,856.129 1750.99,856.131 1752.95,856.133 1754.91,856.134 1756.87,856.136 1758.83,856.137 1760.79,856.139 1762.75,856.14 1764.71,856.142 \n  1766.67,856.144 1768.63,856.145 1770.59,856.147 1772.55,856.149 1774.51,856.15 1776.48,856.152 1778.44,856.153 1780.4,856.154 1782.36,856.156 1784.32,856.157 \n  1786.28,856.159 1788.24,856.16 1790.2,856.162 1792.16,856.163 1794.12,856.165 1796.08,856.166 1798.04,856.167 1800,856.169 1801.96,856.17 1803.92,856.171 \n  1805.88,856.172 1807.84,856.173 1809.8,856.174 1811.76,856.175 1813.72,856.176 1815.68,856.177 1817.64,856.178 1819.6,856.178 1821.56,856.179 1823.52,856.179 \n  1825.48,856.18 1827.44,856.18 1829.4,856.181 1831.36,856.181 1833.33,856.182 1835.29,856.182 1837.25,856.182 1839.21,856.183 1841.17,856.183 1843.13,856.183 \n  1845.09,856.182 1847.05,856.182 1849.01,856.182 1850.97,856.181 1852.93,856.181 1854.89,856.181 1856.85,856.18 1858.81,856.18 1860.77,856.18 1862.73,856.179 \n  1864.69,856.178 1866.65,856.178 1868.61,856.177 1870.57,856.176 1872.53,856.175 1874.49,856.174 1876.45,856.173 1878.41,856.172 1880.37,856.171 1882.33,856.17 \n  1884.29,856.169 1886.25,856.168 1888.21,856.167 1890.17,856.165 1892.14,856.164 1894.1,856.162 1896.06,856.161 1898.02,856.16 1899.98,856.158 1901.94,856.157 \n  1903.9,856.156 1905.86,856.155 1907.82,856.153 1909.78,856.152 1911.74,856.15 1913.7,856.148 1915.66,856.147 1917.62,856.145 1919.58,856.143 1921.54,856.142 \n  1923.5,856.14 1925.46,856.139 1927.42,856.138 1929.38,856.136 1931.34,856.135 1933.3,856.133 1935.26,856.131 1937.22,856.13 1939.18,856.128 1941.14,856.127 \n  1943.1,856.125 1945.06,856.124 1947.02,856.122 1948.99,856.121 1950.95,856.12 1952.91,856.118 1954.87,856.117 1956.83,856.116 1958.79,856.114 1960.75,856.113 \n  1962.71,856.111 1964.67,856.11 1966.63,856.109 1968.59,856.108 1970.55,856.107 1972.51,856.106 1974.47,856.105 1976.43,856.104 1978.39,856.103 1980.35,856.101 \n  1982.31,856.1 1984.27,856.099 1986.23,856.098 1988.19,856.097 1990.15,856.097 1992.11,856.096 1994.07,856.095 1996.03,856.095 1997.99,856.094 1999.95,856.093 \n  2001.91,856.092 2003.87,856.092 2005.83,856.091 2007.8,856.09 2009.76,856.09 2011.72,856.089 2013.68,856.089 2015.64,856.088 2017.6,856.088 2019.56,856.088 \n  2021.52,856.087 2023.48,856.087 2025.44,856.086 2027.4,856.086 2029.36,856.085 2031.32,856.085 2033.28,856.085 2035.24,856.085 2037.2,856.085 2039.16,856.085 \n  2041.12,856.084 2043.08,856.084 2045.04,856.084 2047,856.084 2048.96,856.083 2050.92,856.083 2052.88,856.083 2054.84,856.083 2056.8,856.083 2058.76,856.083 \n  2060.72,856.083 2062.68,856.083 2064.65,856.083 2066.61,856.083 2068.57,856.083 2070.53,856.083 2072.49,856.083 2074.45,856.083 2076.41,856.083 2078.37,856.083 \n  2080.33,856.083 2082.29,856.083 2084.25,856.083 2086.21,856.083 2088.17,856.083 2090.13,856.083 2092.09,856.083 2094.05,856.083 2096.01,856.083 2097.97,856.083 \n  2099.93,856.083 2101.89,856.083 2103.85,856.083 2105.81,856.083 2107.77,856.083 2109.73,856.083 2111.69,856.083 2113.65,856.083 2115.61,856.083 2117.57,856.083 \n  2119.53,856.083 2121.49,856.083 2123.46,856.083 2125.42,856.083 2127.38,856.083 2129.34,856.083 2131.3,856.083 2133.26,856.083 2135.22,856.083 2137.18,856.082 \n  2139.14,856.082 2141.1,856.082 2143.06,856.082 2145.02,856.082 2146.98,856.082 2148.94,856.082 2150.9,856.082 2152.86,856.082 2154.82,856.082 2156.78,856.081 \n  2158.74,856.081 2160.7,856.081 2162.66,856.081 2164.62,856.081 2166.58,856.081 2168.54,856.081 2170.5,856.081 2172.46,856.08 2174.42,856.08 2176.38,856.08 \n  2178.34,856.079 2180.3,856.079 2182.27,856.079 2184.23,856.079 2186.19,856.079 2188.15,856.079 2190.11,856.079 2192.07,856.079 2194.03,856.078 2195.99,856.078 \n  2197.95,856.078 2199.91,856.077 2201.87,856.077 2203.83,856.077 2205.79,856.077 2207.75,856.077 2209.71,856.077 2211.67,856.077 2213.63,856.076 2215.59,856.076 \n  2217.55,856.076 2219.51,856.076 2221.47,856.075 2223.43,856.075 2225.39,856.075 2227.35,856.075 2229.31,856.075 2231.27,856.075 2233.23,856.075 2235.19,856.075 \n  2237.15,856.074 2239.12,856.074 2241.08,856.074 2243.04,856.074 2245,856.073 2246.96,856.073 2248.92,856.073 2250.88,856.073 2252.84,856.073 2254.8,856.073 \n  2256.76,856.073 2258.72,856.073 2260.68,856.073 2262.64,856.073 2264.6,856.073 2266.56,856.072 2268.52,856.072 2270.48,856.072 2272.44,856.072 2274.4,856.073 \n  2276.36,856.073 2278.32,856.072 2280.28,856.072 2282.24,856.072 2284.2,856.072 2286.16,856.072 2288.12,856.072 2290.08,856.072 2292.04,856.072 2294,856.072 \n  \n  \"/>\n<polyline clip-path=\"url(#clip843)\" style=\"stroke:#e26f46; stroke-linecap:round; stroke-linejoin:round; stroke-width:4; stroke-opacity:1; fill:none\" points=\"\n  335.627,856.072 337.587,856.072 339.548,856.072 341.508,856.072 343.468,856.072 345.429,856.072 347.389,856.072 349.349,856.072 351.31,856.072 353.27,856.072 \n  355.23,856.072 357.191,856.072 359.151,856.072 361.111,856.072 363.072,856.072 365.032,856.072 366.992,856.072 368.953,856.073 370.913,856.073 372.873,856.073 \n  374.834,856.073 376.794,856.073 378.754,856.073 380.715,856.073 382.675,856.073 384.635,856.073 386.596,856.073 388.556,856.073 390.516,856.074 392.477,856.074 \n  394.437,856.074 396.397,856.074 398.358,856.074 400.318,856.074 402.278,856.074 404.239,856.075 406.199,856.075 408.159,856.075 410.12,856.075 412.08,856.075 \n  414.04,856.076 416.001,856.076 417.961,856.076 419.921,856.076 421.882,856.076 423.842,856.076 425.802,856.077 427.763,856.077 429.723,856.077 431.683,856.077 \n  433.644,856.077 435.604,856.078 437.564,856.078 439.525,856.078 441.485,856.078 443.445,856.078 445.406,856.078 447.366,856.079 449.326,856.079 451.287,856.079 \n  453.247,856.079 455.207,856.08 457.168,856.08 459.128,856.08 461.088,856.08 463.049,856.08 465.009,856.08 466.969,856.08 468.93,856.08 470.89,856.081 \n  472.851,856.081 474.811,856.081 476.771,856.081 478.732,856.081 480.692,856.082 482.652,856.082 484.613,856.082 486.573,856.082 488.533,856.082 490.494,856.082 \n  492.454,856.082 494.414,856.082 496.375,856.082 498.335,856.082 500.295,856.082 502.256,856.082 504.216,856.083 506.176,856.083 508.137,856.083 510.097,856.083 \n  512.057,856.083 514.018,856.083 515.978,856.083 517.938,856.083 519.899,856.083 521.859,856.083 523.819,856.083 525.78,856.083 527.74,856.083 529.7,856.083 \n  531.661,856.083 533.621,856.083 535.581,856.083 537.542,856.083 539.502,856.083 541.462,856.083 543.423,856.083 545.383,856.083 547.343,856.083 549.304,856.083 \n  551.264,856.083 553.224,856.083 555.185,856.083 557.145,856.083 559.105,856.082 561.066,856.082 563.026,856.082 564.986,856.082 566.947,856.083 568.907,856.083 \n  570.867,856.083 572.828,856.083 574.788,856.083 576.748,856.083 578.709,856.083 580.669,856.083 582.629,856.083 584.59,856.083 586.55,856.083 588.51,856.083 \n  590.471,856.084 592.431,856.084 594.391,856.084 596.352,856.085 598.312,856.085 600.272,856.086 602.233,856.086 604.193,856.086 606.153,856.086 608.114,856.087 \n  610.074,856.087 612.035,856.087 613.995,856.088 615.955,856.088 617.916,856.089 619.876,856.089 621.836,856.09 623.797,856.091 625.757,856.091 627.717,856.092 \n  629.678,856.093 631.638,856.093 633.598,856.094 635.559,856.095 637.519,856.096 639.479,856.096 641.44,856.097 643.4,856.098 645.36,856.099 647.321,856.1 \n  649.281,856.101 651.241,856.102 653.202,856.103 655.162,856.104 657.122,856.105 659.083,856.106 661.043,856.107 663.003,856.108 664.964,856.11 666.924,856.111 \n  668.884,856.113 670.845,856.114 672.805,856.115 674.765,856.117 676.726,856.118 678.686,856.119 680.646,856.12 682.607,856.122 684.567,856.123 686.527,856.124 \n  688.488,856.126 690.448,856.127 692.408,856.129 694.369,856.131 696.329,856.132 698.289,856.134 700.25,856.136 702.21,856.137 704.17,856.139 706.131,856.14 \n  708.091,856.142 710.051,856.143 712.012,856.145 713.972,856.146 715.932,856.148 717.893,856.149 719.853,856.151 721.813,856.152 723.774,856.154 725.734,856.155 \n  727.694,856.156 729.655,856.158 731.615,856.159 733.575,856.16 735.536,856.162 737.496,856.163 739.456,856.165 741.417,856.166 743.377,856.167 745.337,856.169 \n  747.298,856.17 749.258,856.171 751.219,856.172 753.179,856.172 755.139,856.173 757.1,856.174 759.06,856.175 761.02,856.175 762.981,856.176 764.941,856.177 \n  766.901,856.178 768.862,856.179 770.822,856.179 772.782,856.18 774.743,856.18 776.703,856.181 778.663,856.181 780.624,856.181 782.584,856.181 784.544,856.181 \n  786.505,856.181 788.465,856.182 790.425,856.182 792.386,856.181 794.346,856.181 796.306,856.181 798.267,856.18 800.227,856.18 802.187,856.179 804.148,856.179 \n  806.108,856.178 808.068,856.177 810.029,856.177 811.989,856.176 813.949,856.176 815.91,856.175 817.87,856.174 819.83,856.173 821.791,856.172 823.751,856.171 \n  825.711,856.17 827.672,856.169 829.632,856.167 831.592,856.166 833.553,856.165 835.513,856.163 837.473,856.162 839.434,856.161 841.394,856.159 843.354,856.158 \n  845.315,856.156 847.275,856.155 849.235,856.153 851.196,856.152 853.156,856.15 855.116,856.148 857.077,856.147 859.037,856.145 860.997,856.144 862.958,856.143 \n  864.918,856.141 866.878,856.14 868.839,856.138 870.799,856.136 872.759,856.135 874.72,856.133 876.68,856.131 878.64,856.129 880.601,856.128 882.561,856.126 \n  884.522,856.125 886.482,856.124 888.442,856.122 890.403,856.121 892.363,856.12 894.323,856.118 896.284,856.117 898.244,856.116 900.204,856.114 902.165,856.113 \n  904.125,856.112 906.085,856.111 908.046,856.11 910.006,856.109 911.966,856.109 913.927,856.108 915.887,856.107 917.847,856.106 919.808,856.105 921.768,856.104 \n  923.728,856.103 925.689,856.102 927.649,856.102 929.609,856.101 931.57,856.1 933.53,856.1 935.49,856.1 937.451,856.099 939.411,856.099 941.371,856.099 \n  943.332,856.098 945.292,856.098 947.252,856.098 949.213,856.097 951.173,856.097 953.133,856.097 955.094,856.097 957.054,856.096 959.014,856.096 960.975,856.096 \n  962.935,856.096 964.895,856.096 966.856,856.096 968.816,856.096 970.776,856.095 972.737,856.095 974.697,856.095 976.657,856.094 978.618,856.094 980.578,856.094 \n  982.538,856.094 984.499,856.094 986.459,856.094 988.419,856.094 990.38,856.094 992.34,856.094 994.3,856.094 996.261,856.094 998.221,856.094 1000.18,856.094 \n  1002.14,856.094 1004.1,856.095 1006.06,856.095 1008.02,856.096 1009.98,856.097 1011.94,856.097 1013.9,856.098 1015.86,856.098 1017.82,856.099 1019.78,856.099 \n  1021.75,856.099 1023.71,856.099 1025.67,856.099 1027.63,856.099 1029.59,856.099 1031.55,856.1 1033.51,856.102 1035.47,856.105 1037.43,856.11 1039.39,856.118 \n  1041.35,856.128 1043.31,856.142 1045.27,856.16 1047.23,856.18 1049.19,856.205 1051.15,856.232 1053.11,856.261 1055.07,856.293 1057.03,856.325 1058.99,856.358 \n  1060.95,856.391 1062.91,856.424 1064.87,856.456 1066.83,856.488 1068.79,856.519 1070.75,856.548 1072.71,856.575 1074.67,856.599 1076.63,856.622 1078.59,856.641 \n  1080.56,856.658 1082.52,856.672 1084.48,856.683 1086.44,856.691 1088.4,856.696 1090.36,856.699 1092.32,856.7 1094.28,856.698 1096.24,856.695 1098.2,856.692 \n  1100.16,856.69 1102.12,856.69 1104.08,856.693 1106.04,856.701 1108,856.716 1109.96,856.738 1111.92,856.768 1113.88,856.807 1115.84,856.856 1117.8,856.915 \n  1119.76,856.984 1121.72,857.062 1123.68,857.148 1125.64,857.241 1127.6,857.34 1129.56,857.443 1131.52,857.551 1133.48,857.663 1135.44,857.78 1137.41,857.902 \n  1139.37,858.03 1141.33,858.164 1143.29,858.304 1145.25,858.449 1147.21,858.596 1149.17,858.745 1151.13,858.892 1153.09,859.036 1155.05,859.175 1157.01,859.307 \n  1158.97,859.43 1160.93,859.544 1162.89,859.645 1164.85,859.735 1166.81,859.81 1168.77,859.871 1170.73,859.918 1172.69,859.952 1174.65,859.974 1176.61,859.985 \n  1178.57,859.988 1180.53,859.986 1182.49,859.981 1184.45,859.978 1186.41,859.978 1188.37,859.985 1190.33,860.001 1192.29,860.028 1194.25,860.067 1196.22,860.121 \n  1198.18,860.19 1200.14,860.275 1202.1,860.377 1204.06,860.498 1206.02,860.638 1207.98,860.799 1209.94,860.981 1211.9,861.185 1213.86,861.412 1215.82,861.659 \n  1217.78,861.927 1219.74,862.213 1221.7,862.515 1223.66,862.83 1225.62,863.157 1227.58,863.492 1229.54,863.831 1231.5,864.171 1233.46,864.507 1235.42,864.836 \n  1237.38,865.151 1239.34,865.449 1241.3,865.727 1243.26,865.98 1245.22,866.206 1247.18,866.406 1249.14,866.577 1251.1,866.72 1253.07,866.838 1255.03,866.931 \n  1256.99,867.001 1258.95,867.052 1260.91,867.086 1262.87,867.105 1264.83,867.114 1266.79,867.116 1268.75,867.115 1270.71,867.115 1272.67,867.119 1274.63,867.132 \n  1276.59,867.157 1278.55,867.198 1280.51,867.259 1282.47,867.344 1284.43,867.458 1286.39,867.604 1288.35,867.785 1290.31,868.002 1292.27,868.258 1294.23,868.553 \n  1296.19,868.886 1298.15,869.256 1300.11,869.661 1302.07,870.099 1304.03,870.568 1305.99,871.063 1307.95,871.581 1309.91,872.117 1311.88,872.666 1313.84,873.222 \n  1315.8,873.779 1317.76,874.331 1319.72,874.874 1321.68,875.4 1323.64,875.907 1325.6,876.39 1327.56,876.845 1329.52,877.267 1331.48,877.654 1333.44,878.002 \n  1335.4,878.307 1337.36,878.569 1339.32,878.787 1341.28,878.961 1343.24,879.094 1345.2,879.188 1347.16,879.25 1349.12,879.285 1351.08,879.3 1353.04,879.303 \n  1355,879.302 1356.96,879.307 1358.92,879.327 1360.88,879.369 1362.84,879.442 1364.8,879.554 1366.76,879.709 1368.73,879.915 1370.69,880.173 1372.65,880.488 \n  1374.61,880.861 1376.57,881.293 1378.53,881.783 1380.49,882.33 1382.45,882.931 1384.41,883.584 1386.37,884.286 1388.33,885.033 1390.29,885.822 1392.25,886.651 \n  1394.21,887.516 1396.17,888.414 1398.13,889.339 1400.09,890.285 1402.05,891.242 1404.01,892.202 1405.97,893.153 1407.93,894.083 1409.89,894.981 1411.85,895.833 \n  1413.81,896.627 1415.77,897.355 1417.73,898.006 1419.69,898.576 1421.65,899.059 1423.61,899.456 1425.57,899.767 1427.54,899.998 1429.5,900.156 1431.46,900.253 \n  1433.42,900.301 1435.38,900.317 1437.34,900.315 1439.3,900.312 1441.26,900.321 1443.22,900.356 1445.18,900.428 1447.14,900.547 1449.1,900.721 1451.06,900.958 \n  1453.02,901.265 1454.98,901.646 1456.94,902.106 1458.9,902.65 1460.86,903.282 1462.82,904.006 1464.78,904.826 1466.74,905.747 1468.7,906.775 1470.66,907.914 \n  1472.62,909.17 1474.58,910.544 1476.54,912.038 1478.5,913.649 1480.46,915.373 1482.42,917.202 1484.38,919.126 1486.35,921.134 1488.31,923.211 1490.27,925.34 \n  1492.23,927.498 1494.19,929.661 1496.15,931.798 1498.11,933.874 1500.07,935.85 1502.03,937.686 1503.99,939.346 1505.95,940.796 1507.91,942.015 1509.87,942.991 \n  1511.83,943.73 1513.79,944.247 1515.75,944.575 1517.71,944.753 1519.67,944.826 1521.63,944.84 1523.59,944.837 1525.55,944.854 1527.51,944.925 1529.47,945.075 \n  1531.43,945.33 1533.39,945.708 1535.35,946.227 1537.31,946.903 1539.27,947.75 1541.23,948.78 1543.2,950.006 1545.16,951.434 1547.12,953.068 1549.08,954.91 \n  1551.04,956.957 1553,959.205 1554.96,961.653 1556.92,964.294 1558.88,967.125 1560.84,970.138 1562.8,973.325 1564.76,976.674 1566.72,980.171 1568.68,983.799 \n  1570.64,987.54 1572.6,991.375 1574.56,995.286 1576.52,999.255 1578.48,1003.26 1580.44,1007.29 1582.4,1011.31 1584.36,1015.27 1586.32,1019.12 1588.28,1022.78 \n  1590.24,1026.19 1592.2,1029.24 1594.16,1031.87 1596.12,1034.02 1598.08,1035.65 1600.04,1036.76 1602.01,1037.37 1603.97,1037.54 1605.93,1037.35 1607.89,1036.88 \n  1609.85,1036.22 1611.81,1035.44 1613.77,1034.6 1615.73,1033.76 1617.69,1032.96 1619.65,1032.23 1621.61,1031.58 1623.57,1031.03 1625.53,1030.58 1627.49,1030.23 \n  1629.45,1029.96 1631.41,1029.78 1633.37,1029.66 1635.33,1029.59 1637.29,1029.56 1639.25,1029.55 1641.21,1029.55 1643.17,1029.26 1645.13,1028.99 1647.09,1028.74 \n  1649.05,1028.51 1651.01,1028.3 1652.97,1028.11 1654.93,1027.94 1656.89,1027.78 1658.86,1027.63 1660.82,1027.47 1662.78,1027.31 1664.74,1027.14 1666.7,1026.97 \n  1668.66,1026.79 1670.62,1026.6 1672.58,1026.41 1674.54,1026.22 1676.5,1026.02 1678.46,1025.8 1680.42,1025.57 1682.38,1025.31 1684.34,1025.03 1686.3,1024.72 \n  1688.26,1024.38 1690.22,1024.03 1692.18,1023.65 1694.14,1023.26 1696.1,1022.85 1698.06,1022.41 1700.02,1021.96 1701.98,1021.48 1703.94,1020.98 1705.9,1020.44 \n  1707.86,1019.88 1709.82,1019.3 1711.78,1018.7 1713.74,1018.09 1715.7,1017.47 1717.67,1016.84 1719.63,1016.2 1721.59,1015.55 1723.55,1014.89 1725.51,1014.22 \n  1727.47,1013.53 1729.43,1012.84 1731.39,1012.14 1733.35,1011.45 1735.31,1010.75 1737.27,1010.06 1739.23,1009.38 1741.19,1008.7 1743.15,1008.03 1745.11,1007.36 \n  1747.07,1006.69 1749.03,1006.03 1750.99,1005.36 1752.95,1004.71 1754.91,1004.07 1756.87,1003.44 1758.83,1002.82 1760.79,1002.22 1762.75,1001.64 1764.71,1001.06 \n  1766.67,1000.5 1768.63,999.949 1770.59,999.407 1772.55,998.874 1774.51,998.353 1776.48,997.846 1778.44,997.355 1780.4,996.881 1782.36,996.425 1784.32,995.986 \n  1786.28,995.563 1788.24,995.154 1790.2,994.757 1792.16,994.373 1794.12,994 1796.08,993.64 1798.04,993.296 1800,992.967 1801.96,992.656 1803.92,992.363 \n  1805.88,992.088 1807.84,991.829 1809.8,991.585 1811.76,991.354 1813.72,991.136 1815.68,990.929 1817.64,990.734 1819.6,990.553 1821.56,990.387 1823.52,990.238 \n  1825.48,990.106 1827.44,989.991 1829.4,989.893 1831.36,989.811 1833.33,989.742 1835.29,989.686 1837.25,989.641 1839.21,989.609 1841.17,989.588 1843.13,989.582 \n  1845.09,989.591 1847.05,989.616 1849.01,989.657 1850.97,989.715 1852.93,989.788 1854.89,989.875 1856.85,989.974 1858.81,990.085 1860.77,990.207 1862.73,990.34 \n  1864.69,990.487 1866.65,990.647 1868.61,990.823 1870.57,991.016 1872.53,991.224 1874.49,991.449 1876.45,991.688 1878.41,991.94 1880.37,992.203 1882.33,992.477 \n  1884.29,992.761 1886.25,993.056 1888.21,993.365 1890.17,993.688 1892.14,994.026 1894.1,994.381 1896.06,994.752 1898.02,995.138 1899.98,995.537 1901.94,995.949 \n  1903.9,996.371 1905.86,996.804 1907.82,997.247 1909.78,997.703 1911.74,998.171 1913.7,998.655 1915.66,999.154 1917.62,999.67 1919.58,1000.2 1921.54,1000.74 \n  1923.5,1001.3 1925.46,1001.87 1927.42,1002.44 1929.38,1003.03 1931.34,1003.63 1933.3,1004.24 1935.26,1004.86 1937.22,1005.5 1939.18,1006.15 1941.14,1006.82 \n  1943.1,1007.51 1945.06,1008.2 1947.02,1008.91 1948.99,1009.62 1950.95,1010.34 1952.91,1011.07 1954.87,1011.81 1956.83,1012.55 1958.79,1013.31 1960.75,1014.09 \n  1962.71,1014.88 1964.67,1015.68 1966.63,1016.49 1968.59,1017.31 1970.55,1018.13 1972.51,1018.95 1974.47,1019.78 1976.43,1020.61 1978.39,1021.45 1980.35,1022.29 \n  1982.31,1023.14 1984.27,1024 1986.23,1024.86 1988.19,1025.73 1990.15,1026.59 1992.11,1027.45 1994.07,1028.3 1996.03,1029.15 1997.99,1029.98 1999.95,1030.81 \n  2001.91,1031.64 2003.87,1032.46 2005.83,1033.27 2007.8,1034.08 2009.76,1034.88 2011.72,1035.66 2013.68,1036.42 2015.64,1037.15 2017.6,1037.86 2019.56,1038.54 \n  2021.52,1039.2 2023.48,1039.83 2025.44,1040.45 2027.4,1041.05 2029.36,1041.62 2031.32,1042.17 2033.28,1042.7 2035.24,1043.18 2037.2,1043.63 2039.16,1044.04 \n  2041.12,1044.42 2043.08,1044.76 2045.04,1045.07 2047,1045.36 2048.96,1045.62 2050.92,1045.87 2052.88,1046.09 2054.84,1046.28 2056.8,1046.45 2058.76,1046.58 \n  2060.72,1046.68 2062.68,1046.76 2064.65,1046.81 2066.61,1046.85 2068.57,1046.88 2070.53,1046.9 2072.49,1046.91 2074.45,1046.92 2076.41,1046.91 2078.37,1046.89 \n  2080.33,1046.86 2082.29,1046.81 2084.25,1046.76 2086.21,1046.7 2088.17,1046.64 2090.13,1046.59 2092.09,1046.55 2094.05,1046.51 2096.01,1046.48 2097.97,1046.46 \n  2099.93,1046.44 2101.89,1046.41 2103.85,1046.39 2105.81,1046.36 2107.77,1046.35 2109.73,1046.35 2111.69,1046.36 2113.65,1046.4 2115.61,1046.45 2117.57,1046.51 \n  2119.53,1046.59 2121.49,1046.68 2123.46,1046.77 2125.42,1046.87 2127.38,1046.98 2129.34,1047.1 2131.3,1047.24 2133.26,1047.4 2135.22,1047.58 2137.18,1047.78 \n  2139.14,1048.01 2141.1,1048.25 2143.06,1048.51 2145.02,1048.78 2146.98,1049.06 2148.94,1049.35 2150.9,1049.65 2152.86,1049.98 2154.82,1050.32 2156.78,1050.7 \n  2158.74,1051.1 2160.7,1051.52 2162.66,1051.97 2164.62,1052.44 2166.58,1052.92 2168.54,1053.42 2170.5,1053.92 2172.46,1054.45 2174.42,1055 2176.38,1055.57 \n  2178.34,1056.18 2180.3,1056.81 2182.27,1057.48 2184.23,1058.18 2186.19,1058.89 2188.15,1059.63 2190.11,1060.38 2192.07,1061.16 2194.03,1061.95 2195.99,1062.78 \n  2197.95,1063.63 2199.91,1064.53 2201.87,1065.46 2203.83,1066.43 2205.79,1067.44 2207.75,1068.48 2209.71,1069.54 2211.67,1070.64 2213.63,1071.76 2215.59,1072.91 \n  2217.55,1074.1 2219.51,1075.33 2221.47,1076.62 2223.43,1077.96 2225.39,1079.36 2227.35,1080.82 2229.31,1082.32 2231.27,1083.88 2233.23,1085.47 2235.19,1087.11 \n  2237.15,1088.8 2239.12,1090.56 2241.08,1092.39 2243.04,1094.32 2245,1096.34 2246.96,1098.47 2248.92,1100.7 2250.88,1103.03 2252.84,1105.46 2254.8,1107.99 \n  2256.76,1110.63 2258.72,1113.4 2260.68,1116.31 2262.64,1119.42 2264.6,1122.74 2266.56,1126.33 2268.52,1130.22 2270.48,1134.43 2272.44,1139 2274.4,1143.97 \n  2276.36,1149.4 2278.32,1155.41 2280.28,1162.14 2282.24,1169.87 2284.2,1178.99 2286.16,1190.18 2288.12,1204.67 2290.08,1225.21 2292.04,1260.59 2294,1354.38 \n  \n  \"/>\n<polyline clip-path=\"url(#clip843)\" style=\"stroke:#3da44d; stroke-linecap:round; stroke-linejoin:round; stroke-width:4; stroke-opacity:1; fill:none\" points=\"\n  335.627,1650.04 337.587,1184.95 339.548,1152.66 341.508,1135.84 343.468,1126.19 345.429,1121.23 347.389,1120 349.349,1122.22 351.31,1128.05 353.27,1138.21 \n  355.23,1154.06 357.191,1176.28 359.151,1186.38 361.111,1166.1 363.072,1146.99 365.032,1134.36 366.992,1126.57 368.953,1122.48 370.913,1121.5 372.873,1123.39 \n  374.834,1128.1 376.794,1135.7 378.754,1145.87 380.715,1156.41 382.675,1160.68 384.635,1154.47 386.596,1144.12 388.556,1135.04 390.516,1128.62 392.477,1124.93 \n  394.437,1123.81 396.397,1125.12 398.358,1128.71 400.318,1134.23 402.278,1140.63 404.239,1145.48 406.199,1145.89 408.159,1141.83 410.12,1136.18 412.08,1131.33 \n  414.04,1128.33 416.001,1127.46 417.961,1128.63 419.921,1131.49 421.882,1135.26 423.842,1138.47 425.802,1139.33 427.763,1137.13 429.723,1133.06 431.683,1128.92 \n  433.644,1125.97 435.604,1124.88 437.564,1125.93 439.525,1129.27 441.485,1134.84 443.445,1141.88 445.406,1147.94 447.366,1148.81 449.326,1143.29 451.287,1135.14 \n  453.247,1127.72 455.207,1122.3 457.168,1119.19 459.128,1118.47 461.088,1120.24 463.049,1124.71 465.009,1132.36 466.969,1143.8 468.93,1158.87 470.89,1170.16 \n  472.851,1162.38 474.811,1145.96 476.771,1132.36 478.732,1122.83 480.692,1116.82 482.652,1113.91 484.613,1113.88 486.573,1116.81 488.533,1123.08 490.494,1133.54 \n  492.454,1149.89 494.414,1174.03 496.375,1187.15 498.335,1163.77 500.295,1142.84 502.256,1129.19 504.216,1120.56 506.176,1115.61 508.137,1113.65 510.097,1114.35 \n  512.057,1117.55 514.018,1123.17 515.978,1130.97 517.938,1139.88 519.899,1146.77 521.859,1147.26 523.819,1141.58 525.78,1134.11 527.74,1127.68 529.7,1123.15 \n  531.661,1120.58 533.621,1119.8 535.581,1120.55 537.542,1122.46 539.502,1124.92 541.462,1127.09 543.423,1128.06 545.383,1127.39 547.343,1125.47 549.304,1123.26 \n  551.264,1121.69 553.224,1121.41 555.185,1122.79 557.145,1125.95 559.105,1130.64 561.066,1135.77 563.026,1138.9 564.986,1137.45 566.947,1131.78 568.907,1124.67 \n  570.867,1118.32 572.828,1113.67 574.788,1111.06 576.748,1110.61 578.709,1112.45 580.669,1116.8 582.629,1124.07 584.59,1134.79 586.55,1149.01 588.51,1162.01 \n  590.471,1159.46 592.431,1144.67 594.391,1130.73 596.352,1120.42 598.312,1113.42 600.272,1109.2 602.233,1107.43 604.193,1107.92 606.153,1110.59 608.114,1115.44 \n  610.074,1122.41 612.035,1130.94 613.995,1139.05 615.955,1142.57 617.916,1139.11 619.876,1131.87 621.836,1124.72 623.797,1119.24 625.757,1115.78 627.717,1114.21 \n  629.678,1114.25 631.638,1115.45 633.598,1117.21 635.559,1118.73 637.519,1119.27 639.479,1118.55 641.44,1116.92 643.4,1115.12 645.36,1113.84 647.321,1113.6 \n  649.281,1114.74 651.241,1117.45 653.202,1121.78 655.162,1127.46 657.122,1133.36 659.083,1136.93 661.043,1135.32 663.003,1129.01 664.964,1121.09 666.924,1113.87 \n  668.884,1108.32 670.845,1104.7 672.805,1103.09 674.765,1103.53 676.726,1106.08 678.686,1110.87 680.646,1118.01 682.607,1127.37 684.567,1137.6 686.527,1144.2 \n  688.488,1141.87 690.448,1133.29 692.408,1124.13 694.369,1116.77 696.329,1111.58 698.289,1108.43 700.25,1107.06 702.21,1107.23 704.17,1108.61 706.131,1110.78 \n  708.091,1113.1 710.051,1114.87 712.012,1115.49 713.972,1114.91 715.932,1113.61 717.893,1112.33 719.853,1111.76 721.813,1112.36 723.774,1114.41 725.734,1117.99 \n  727.694,1122.8 729.655,1127.82 731.615,1130.88 733.575,1129.66 735.536,1124.33 737.496,1117.35 739.456,1110.78 741.417,1105.6 743.377,1102.13 745.337,1100.47 \n  747.298,1100.63 749.258,1102.63 751.219,1106.52 753.179,1112.29 755.139,1119.74 757.1,1127.96 759.06,1134.42 761.02,1135.55 762.981,1130.93 764.941,1123.96 \n  766.901,1117.46 768.862,1112.54 770.822,1109.41 772.782,1108.01 774.743,1108.1 776.703,1109.33 778.663,1111.12 780.624,1112.71 782.584,1113.27 784.544,1112.42 \n  786.505,1110.43 788.465,1108.1 790.425,1106.2 792.386,1105.34 794.346,1105.9 796.306,1108.16 798.267,1112.32 800.227,1118.55 802.187,1126.71 804.148,1135.64 \n  806.108,1141.48 808.068,1139.36 810.029,1130.88 811.989,1121.27 813.949,1113.17 815.91,1107.19 817.87,1103.34 819.83,1101.47 821.791,1101.47 823.751,1103.18 \n  825.711,1106.4 827.672,1110.73 829.632,1115.38 831.592,1119.15 833.553,1120.77 835.513,1119.94 837.473,1117.59 839.434,1115.07 841.394,1113.36 843.354,1112.99 \n  845.315,1114.2 847.275,1117.03 849.235,1121.24 851.196,1126.02 853.156,1129.6 855.116,1129.66 857.077,1125.55 859.037,1119.11 860.997,1112.56 862.958,1107.17 \n  864.918,1103.43 866.878,1101.51 868.839,1101.48 870.799,1103.37 872.759,1107.21 874.72,1113 876.68,1120.44 878.64,1128.51 880.601,1134.58 882.561,1135.41 \n  884.522,1131.09 886.482,1124.91 888.442,1119.42 890.403,1115.61 892.363,1113.73 894.323,1113.74 896.284,1115.47 898.244,1118.53 900.204,1122.06 902.165,1124.59 \n  904.125,1124.47 906.085,1121.29 908.046,1116.34 910.006,1111.3 911.966,1107.27 913.927,1104.8 915.887,1104.15 917.847,1105.49 919.808,1108.98 921.768,1114.84 \n  923.728,1123.29 925.689,1134.19 927.649,1145.58 929.609,1150.82 931.57,1145.05 933.53,1134.64 935.49,1125.35 937.451,1118.63 939.411,1114.51 941.371,1112.76 \n  943.332,1113.15 945.292,1115.41 947.252,1119.08 949.213,1123.18 951.173,1126.02 953.133,1125.84 955.094,1122.5 957.054,1117.61 959.014,1112.94 960.975,1109.53 \n  962.935,1107.89 964.895,1108.27 966.856,1110.91 968.816,1116.07 970.776,1124.22 972.737,1135.91 974.697,1151.09 976.657,1164.02 978.618,1160.02 980.578,1145.26 \n  982.538,1132.18 984.499,1122.91 986.459,1117.02 988.419,1114.01 990.38,1113.98 992.34,1113.94 994.3,1113.94 996.261,1113.95 998.221,1113.75 1000.18,1113.03 \n  1002.14,1111.42 1004.1,1108.77 1006.06,1105.27 1008.02,1101.42 1009.98,1097.79 1011.94,1094.86 1013.9,1092.91 1015.86,1092.02 1017.82,1092.04 1019.78,1092.58 \n  1021.75,1092.86 1023.71,1091.61 1025.67,1087.44 1027.63,1079.86 1029.59,1069.77 1031.55,1058.67 1033.51,1047.62 1035.47,1037.18 1037.43,1027.55 1039.39,1018.76 \n  1041.35,1010.79 1043.31,1003.6 1045.27,997.141 1047.23,991.406 1049.19,986.369 1051.15,982.003 1053.11,978.272 1055.07,975.13 1057.03,972.523 1058.99,970.398 \n  1060.95,968.708 1062.91,967.416 1064.87,966.5 1066.83,965.945 1068.79,965.749 1070.75,965.912 1072.71,966.438 1074.67,967.335 1076.63,968.615 1078.59,970.29 \n  1080.56,972.374 1082.52,974.879 1084.48,977.819 1086.44,981.212 1088.4,985.085 1090.36,989.476 1092.32,994.409 1094.28,999.834 1096.24,1005.49 1098.2,1010.66 \n  1100.16,1014.06 1102.12,1014.22 1104.08,1010.77 1106.04,1004.77 1108,997.712 1109.96,990.565 1111.92,983.805 1113.88,977.609 1115.84,972.031 1117.8,967.077 \n  1119.76,962.737 1121.72,959 1123.68,955.841 1125.64,953.23 1127.6,951.13 1129.56,949.497 1131.52,948.282 1133.48,947.43 1135.44,946.879 1137.41,946.574 \n  1139.37,946.468 1141.33,946.53 1143.29,946.752 1145.25,947.137 1147.21,947.698 1149.17,948.447 1151.13,949.385 1153.09,950.51 1155.05,951.817 1157.01,953.306 \n  1158.97,954.994 1160.93,956.914 1162.89,959.112 1164.85,961.646 1166.81,964.573 1168.77,967.947 1170.73,971.817 1172.69,976.218 1174.65,981.157 1176.61,986.588 \n  1178.57,992.338 1180.53,997.993 1182.49,1002.77 1184.45,1005.55 1186.41,1005.44 1188.37,1002.53 1190.33,997.835 1192.29,992.481 1194.25,987.243 1196.22,982.505 \n  1198.18,978.393 1200.14,974.897 1202.1,971.936 1204.06,969.398 1206.02,967.176 1207.98,965.182 1209.94,963.366 1211.9,961.711 1213.86,960.232 1215.82,958.953 \n  1217.78,957.897 1219.74,957.071 1221.7,956.457 1223.66,956.02 1225.62,955.715 1227.58,955.501 1229.54,955.36 1231.5,955.306 1233.46,955.385 1235.42,955.664 \n  1237.38,956.215 1239.34,957.105 1241.3,958.38 1243.26,960.068 1245.22,962.178 1247.18,964.715 1249.14,967.683 1251.1,971.105 1253.07,975.025 1255.03,979.51 \n  1256.99,984.649 1258.95,990.531 1260.91,997.209 1262.87,1004.6 1264.83,1012.31 1266.79,1019.32 1268.75,1023.87 1270.71,1024.43 1272.67,1021.18 1274.63,1015.68 \n  1276.59,1009.37 1278.55,1002.97 1280.51,996.756 1282.47,990.841 1284.43,985.291 1286.39,980.167 1288.35,975.515 1290.31,971.354 1292.27,967.67 1294.23,964.421 \n  1296.19,961.549 1298.15,958.993 1300.11,956.704 1302.07,954.66 1304.03,952.864 1305.99,951.35 1307.95,950.162 1309.91,949.354 1311.88,948.97 1313.84,949.039 \n  1315.8,949.575 1317.76,950.567 1319.72,951.99 1321.68,953.805 1323.64,955.974 1325.6,958.474 1327.56,961.302 1329.52,964.48 1331.48,968.053 1333.44,972.074 \n  1335.4,976.587 1337.36,981.612 1339.32,987.142 1341.28,993.143 1343.24,999.575 1345.2,1006.41 1347.16,1013.63 1349.12,1021.1 1351.08,1028.28 1353.04,1033.74 \n  1355,1035.21 1356.96,1031.62 1358.92,1024.64 1360.88,1016.68 1362.84,1009.15 1364.8,1002.54 1366.76,996.88 1368.73,992.033 1370.69,987.809 1372.65,984.046 \n  1374.61,980.645 1376.57,977.585 1378.53,974.906 1380.49,972.679 1382.45,970.97 1384.41,969.813 1386.37,969.192 1388.33,969.038 1390.29,969.232 1392.25,969.625 \n  1394.21,970.073 1396.17,970.482 1398.13,970.835 1400.09,971.205 1402.05,971.718 1404.01,972.516 1405.97,973.711 1407.93,975.352 1409.89,977.416 1411.85,979.81 \n  1413.81,982.39 1415.77,985.007 1417.73,987.566 1419.69,990.072 1421.65,992.646 1423.61,995.494 1425.57,998.856 1427.54,1002.94 1429.5,1007.9 1431.46,1013.71 \n  1433.42,1020.11 1435.38,1026.37 1437.34,1031.16 1439.3,1032.88 1441.26,1030.81 1443.22,1025.69 1445.18,1018.91 1447.14,1011.64 1449.1,1004.55 1451.06,998.045 \n  1453.02,992.327 1454.98,987.488 1456.94,983.536 1458.9,980.415 1460.86,978.014 1462.82,976.179 1464.78,974.732 1466.74,973.496 1468.7,972.331 1470.66,971.165 \n  1472.62,970.007 1474.58,968.931 1476.54,968.041 1478.5,967.436 1480.46,967.178 1482.42,967.273 1484.38,967.676 1486.35,968.302 1488.31,969.06 1490.27,969.889 \n  1492.23,970.798 1494.19,971.876 1496.15,973.272 1498.11,975.157 1500.07,977.693 1502.03,981.003 1503.99,985.162 1505.95,990.198 1507.91,996.092 1509.87,1002.78 \n  1511.83,1010.18 1513.79,1018.18 1515.75,1026.77 1517.71,1035.91 1519.67,1045.21 1521.63,1053.02 1523.59,1056.02 1525.55,1052.37 1527.51,1044.81 1529.47,1036.75 \n  1531.43,1029.71 1533.39,1023.89 1535.35,1018.98 1537.31,1014.53 1539.27,1010.22 1541.23,1005.93 1543.2,1001.8 1545.16,998.08 1547.12,995.018 1549.08,992.805 \n  1551.04,991.537 1553,991.223 1554.96,991.787 1556.92,993.069 1558.88,994.827 1560.84,996.764 1562.8,998.594 1564.76,1000.15 1566.72,1001.48 1568.68,1002.79 \n  1570.64,1004.43 1572.6,1006.7 1574.56,1009.79 1576.52,1013.77 1578.48,1018.55 1580.44,1023.89 1582.4,1029.42 1584.36,1034.79 1586.32,1039.8 1588.28,1044.54 \n  1590.24,1049.36 1592.2,1054.65 1594.16,1060.65 1596.12,1067.26 1598.08,1073.76 1600.04,1078.93 1602.01,1081.73 1603.97,1082.37 1605.93,1082.09 1607.89,1082.09 \n  1609.85,1082.85 1611.81,1084.24 1613.77,1085.65 1615.73,1086.44 1617.69,1086.39 1619.65,1085.83 1621.61,1085.37 1623.57,1085.47 1625.53,1086.26 1627.49,1087.56 \n  1629.45,1088.95 1631.41,1090.01 1633.37,1090.51 1635.33,1090.56 1637.29,1090.4 1639.25,1090.27 1641.21,1090.24 1643.17,1089.35 1645.13,1088.56 1647.09,1088.01 \n  1649.05,1087.73 1651.01,1087.64 1652.97,1087.6 1654.93,1087.46 1656.89,1087.13 1658.86,1086.64 1660.82,1086.13 1662.78,1085.78 1664.74,1085.78 1666.7,1086.23 \n  1668.66,1087.12 1670.62,1088.35 1672.58,1089.67 1674.54,1090.76 1676.5,1091.3 1678.46,1091.11 1680.42,1090.21 1682.38,1088.86 1684.34,1087.41 1686.3,1086.18 \n  1688.26,1085.39 1690.22,1085.12 1692.18,1085.33 1694.14,1085.89 1696.1,1086.58 1698.06,1087.15 1700.02,1087.46 1701.98,1087.47 1703.94,1087.31 1705.9,1087.18 \n  1707.86,1087.27 1709.82,1087.69 1711.78,1088.43 1713.74,1089.35 1715.7,1090.19 1717.67,1090.65 1719.63,1090.49 1721.59,1089.66 1723.55,1088.31 1725.51,1086.79 \n  1727.47,1085.42 1729.43,1084.51 1731.39,1084.24 1733.35,1084.66 1735.31,1085.73 1737.27,1087.22 1739.23,1088.82 1741.19,1090.12 1743.15,1090.81 1745.11,1090.78 \n  1747.07,1090.21 1749.03,1089.41 1750.99,1088.72 1752.95,1088.36 1754.91,1088.4 1756.87,1088.77 1758.83,1089.27 1760.79,1089.65 1762.75,1089.68 1764.71,1089.22 \n  1766.67,1088.36 1768.63,1087.33 1770.59,1086.44 1772.55,1085.99 1774.51,1086.21 1776.48,1087.18 1778.44,1088.85 1780.4,1090.99 1782.36,1093.13 1784.32,1094.68 \n  1786.28,1095.12 1788.24,1094.32 1790.2,1092.63 1792.16,1090.65 1794.12,1088.92 1796.08,1087.79 1798.04,1087.43 1800,1087.83 1801.96,1088.84 1803.92,1090.19 \n  1805.88,1091.49 1807.84,1092.38 1809.8,1092.61 1811.76,1092.23 1813.72,1091.52 1815.68,1090.86 1817.64,1090.62 1819.6,1091.02 1821.56,1092.12 1823.52,1093.74 \n  1825.48,1095.49 1827.44,1096.77 1829.4,1097.01 1831.36,1095.99 1833.33,1094.03 1835.29,1091.77 1837.25,1089.83 1839.21,1088.66 1841.17,1088.5 1843.13,1089.43 \n  1845.09,1091.39 1847.05,1094.11 1849.01,1097.1 1850.97,1099.58 1852.93,1100.76 1854.89,1100.25 1856.85,1098.41 1858.81,1096.03 1860.77,1093.87 1862.73,1092.47 \n  1864.69,1092.06 1866.65,1092.66 1868.61,1094.08 1870.57,1095.94 1872.53,1097.65 1874.49,1098.57 1876.45,1098.37 1878.41,1097.2 1880.37,1095.64 1882.33,1094.33 \n  1884.29,1093.78 1886.25,1094.25 1888.21,1095.82 1890.17,1098.31 1892.14,1101.22 1894.1,1103.71 1896.06,1104.75 1898.02,1103.78 1899.98,1101.18 1901.94,1097.94 \n  1903.9,1095.02 1905.86,1093.04 1907.82,1092.34 1909.78,1093.07 1911.74,1095.22 1913.7,1098.58 1915.66,1102.63 1917.62,1106.35 1919.58,1108.35 1921.54,1107.72 \n  1923.5,1104.93 1925.46,1101.35 1927.42,1098.19 1929.38,1096.15 1931.34,1095.51 1933.3,1096.28 1935.26,1098.27 1937.22,1101 1939.18,1103.71 1941.14,1105.44 \n  1943.1,1105.52 1945.06,1104.03 1947.02,1101.77 1948.99,1099.67 1950.95,1098.38 1952.91,1098.28 1954.87,1099.48 1956.83,1101.89 1958.79,1105.07 1960.75,1108.15 \n  1962.71,1109.86 1964.67,1109.24 1966.63,1106.47 1968.59,1102.75 1970.55,1099.34 1972.51,1097.05 1974.47,1096.31 1976.43,1097.31 1978.39,1100.05 1980.35,1104.33 \n  1982.31,1109.47 1984.27,1113.96 1986.23,1115.68 1988.19,1113.63 1990.15,1109.11 1992.11,1104.23 1994.07,1100.33 1996.03,1098.02 1997.99,1097.49 1999.95,1098.73 \n  2001.91,1101.57 2003.87,1105.62 2005.83,1110 2007.8,1113.24 2009.76,1113.87 2011.72,1111.71 2013.68,1108.07 2015.64,1104.48 2017.6,1101.93 2019.56,1100.87 \n  2021.52,1101.42 2023.48,1103.46 2025.44,1106.58 2027.4,1109.93 2029.36,1112.24 2031.32,1112.34 2033.28,1110.2 2035.24,1106.94 2037.2,1103.88 2039.16,1101.94 \n  2041.12,1101.56 2043.08,1102.9 2045.04,1105.87 2047,1110.02 2048.96,1114.25 2050.92,1116.77 2052.88,1116.06 2054.84,1112.49 2056.8,1107.88 2058.76,1103.82 \n  2060.72,1101.2 2062.68,1100.37 2064.65,1101.47 2066.61,1104.48 2068.57,1109.17 2070.53,1114.78 2072.49,1119.55 2074.45,1120.94 2076.41,1117.99 2078.37,1112.59 \n  2080.33,1107.18 2082.29,1103.14 2084.25,1101.01 2086.21,1100.95 2088.17,1102.98 2090.13,1106.93 2092.09,1112.28 2094.05,1117.67 2096.01,1120.75 2097.97,1119.67 \n  2099.93,1115.32 2101.89,1110.17 2103.85,1105.99 2105.81,1103.54 2107.77,1103.03 2109.73,1104.43 2111.69,1107.51 2113.65,1111.66 2115.61,1115.7 2117.57,1117.92 \n  2119.53,1117.19 2121.49,1114.09 2123.46,1110.3 2125.42,1107.18 2127.38,1105.47 2129.34,1105.43 2131.3,1107.04 2133.26,1110.01 2135.22,1113.66 2137.18,1116.72 \n  2139.14,1117.74 2141.1,1116.12 2143.06,1112.75 2145.02,1109.14 2146.98,1106.44 2148.94,1105.26 2150.9,1105.87 2152.86,1108.28 2154.82,1112.21 2156.78,1116.79 \n  2158.74,1120.3 2160.7,1120.69 2162.66,1117.61 2164.62,1112.83 2166.58,1108.35 2168.54,1105.33 2170.5,1104.26 2172.46,1105.31 2174.42,1108.44 2176.38,1113.33 \n  2178.34,1118.98 2180.3,1123.19 2182.27,1123.38 2184.23,1119.42 2186.19,1113.8 2188.15,1108.79 2190.11,1105.5 2192.07,1104.3 2194.03,1105.28 2195.99,1108.37 \n  2197.95,1113.23 2199.91,1118.91 2201.87,1123.35 2203.83,1123.99 2205.79,1120.46 2207.75,1115.05 2209.71,1110.06 2211.67,1106.66 2213.63,1105.25 2215.59,1105.93 \n  2217.55,1108.62 2219.51,1112.99 2221.47,1118.17 2223.43,1122.35 2225.39,1123.24 2227.35,1120.31 2229.31,1115.46 2231.27,1110.86 2233.23,1107.7 2235.19,1106.47 \n  2237.15,1107.24 2239.12,1109.89 2241.08,1113.96 2243.04,1118.38 2245,1121.37 2246.96,1121.31 2248.92,1118.35 2250.88,1114.27 2252.84,1110.7 2254.8,1108.56 \n  2256.76,1108.17 2258.72,1109.51 2260.68,1112.29 2262.64,1115.79 2264.6,1118.8 2266.56,1119.93 2268.52,1118.63 2270.48,1115.75 2272.44,1112.68 2274.4,1110.46 \n  2276.36,1109.59 2278.32,1110.21 2280.28,1112.13 2282.24,1114.84 2284.2,1117.47 2286.16,1118.93 2288.12,1118.5 2290.08,1116.47 2292.04,1113.83 2294,1111.58 \n  \n  \"/>\n<path clip-path=\"url(#clip840)\" d=\"\nM346.072 1404.2 L756.053 1404.2 L756.053 1196.84 L346.072 1196.84  Z\n  \" fill=\"#ffffff\" fill-rule=\"evenodd\" fill-opacity=\"1\"/>\n<polyline clip-path=\"url(#clip840)\" style=\"stroke:#000000; stroke-linecap:round; stroke-linejoin:round; stroke-width:4; stroke-opacity:1; fill:none\" points=\"\n  346.072,1404.2 756.053,1404.2 756.053,1196.84 346.072,1196.84 346.072,1404.2 \n  \"/>\n<polyline clip-path=\"url(#clip840)\" style=\"stroke:#009af9; stroke-linecap:round; stroke-linejoin:round; stroke-width:4; stroke-opacity:1; fill:none\" points=\"\n  369.137,1248.68 507.529,1248.68 \n  \"/>\n<path clip-path=\"url(#clip840)\" d=\"M541.451 1266.54 Q536.103 1265.68 533.627 1263.43 Q530.594 1260.68 530.594 1255.06 L530.594 1240.03 L534.9 1240.03 L534.9 1254.89 Q534.9 1259.13 536.867 1260.89 Q538.58 1262.42 541.451 1262.74 L541.451 1240.03 L545.687 1240.03 L545.687 1262.72 Q548.719 1262.39 550.27 1260.87 Q552.238 1258.92 552.238 1254.87 L552.238 1240.03 L556.543 1240.03 L556.543 1255.03 Q556.543 1260.87 553.511 1263.41 Q550.779 1265.7 545.687 1266.51 L545.687 1275.82 L541.451 1275.82 L541.451 1266.54 Z\" fill=\"#000000\" fill-rule=\"evenodd\" fill-opacity=\"1\" /><path clip-path=\"url(#clip840)\" d=\"M572.469 1250.29 Q571.312 1248.3 568.974 1248.3 Q566.636 1248.3 565.478 1250.29 Q564.298 1252.28 564.298 1256.26 Q564.298 1260.26 565.478 1262.25 Q566.636 1264.25 568.974 1264.25 Q571.312 1264.25 572.469 1262.25 Q573.65 1260.26 573.65 1256.26 Q573.65 1252.28 572.469 1250.29 M568.974 1246.24 Q572.7 1246.24 574.668 1248.81 Q576.636 1251.37 576.636 1256.26 Q576.636 1261.17 574.668 1263.74 Q572.7 1266.31 568.974 1266.31 Q565.224 1266.31 563.256 1263.74 Q561.289 1261.17 561.289 1256.26 Q561.289 1251.37 563.256 1248.81 Q565.224 1246.24 568.974 1246.24 Z\" fill=\"#000000\" fill-rule=\"evenodd\" fill-opacity=\"1\" /><polyline clip-path=\"url(#clip840)\" style=\"stroke:#e26f46; stroke-linecap:round; stroke-linejoin:round; stroke-width:4; stroke-opacity:1; fill:none\" points=\"\n  369.137,1300.52 507.529,1300.52 \n  \"/>\n<path clip-path=\"url(#clip840)\" d=\"M541.451 1318.38 Q536.103 1317.52 533.627 1315.27 Q530.594 1312.52 530.594 1306.9 L530.594 1291.87 L534.9 1291.87 L534.9 1306.73 Q534.9 1310.97 536.867 1312.73 Q538.58 1314.26 541.451 1314.58 L541.451 1291.87 L545.687 1291.87 L545.687 1314.56 Q548.719 1314.23 550.27 1312.71 Q552.238 1310.76 552.238 1306.71 L552.238 1291.87 L556.543 1291.87 L556.543 1306.87 Q556.543 1312.71 553.511 1315.25 Q550.779 1317.54 545.687 1318.35 L545.687 1327.66 L541.451 1327.66 L541.451 1318.38 Z\" fill=\"#000000\" fill-rule=\"evenodd\" fill-opacity=\"1\" /><path clip-path=\"url(#clip840)\" d=\"M562.886 1315.25 L567.608 1315.25 L567.608 1301.11 L562.446 1302.06 L562.446 1299.37 L567.77 1298.47 L570.941 1298.47 L570.941 1315.25 L575.687 1315.25 L575.687 1317.8 L562.886 1317.8 L562.886 1315.25 Z\" fill=\"#000000\" fill-rule=\"evenodd\" fill-opacity=\"1\" /><polyline clip-path=\"url(#clip840)\" style=\"stroke:#3da44d; stroke-linecap:round; stroke-linejoin:round; stroke-width:4; stroke-opacity:1; fill:none\" points=\"\n  369.137,1352.36 507.529,1352.36 \n  \"/>\n<path clip-path=\"url(#clip840)\" d=\"M530.594 1333.62 L534.853 1333.62 L534.853 1369.64 L530.594 1369.64 L530.594 1333.62 Z\" fill=\"#000000\" fill-rule=\"evenodd\" fill-opacity=\"1\" /><path clip-path=\"url(#clip840)\" d=\"M565.941 1355.61 L565.941 1357.69 L546.358 1357.69 Q546.636 1362.09 548.997 1364.41 Q551.381 1366.7 555.617 1366.7 Q558.071 1366.7 560.363 1366.1 Q562.677 1365.49 564.946 1364.29 L564.946 1368.32 Q562.654 1369.29 560.247 1369.8 Q557.839 1370.31 555.363 1370.31 Q549.159 1370.31 545.525 1366.7 Q541.914 1363.09 541.914 1356.93 Q541.914 1350.56 545.34 1346.84 Q548.789 1343.09 554.622 1343.09 Q559.853 1343.09 562.886 1346.47 Q565.941 1349.82 565.941 1355.61 M561.682 1354.36 Q561.636 1350.86 559.714 1348.78 Q557.816 1346.7 554.668 1346.7 Q551.103 1346.7 548.951 1348.71 Q546.821 1350.73 546.497 1354.38 L561.682 1354.36 Z\" fill=\"#000000\" fill-rule=\"evenodd\" fill-opacity=\"1\" /><path clip-path=\"url(#clip840)\" d=\"M584.714 1356.61 Q579.552 1356.61 577.562 1357.79 Q575.571 1358.97 575.571 1361.81 Q575.571 1364.08 577.052 1365.43 Q578.557 1366.74 581.126 1366.74 Q584.668 1366.74 586.798 1364.24 Q588.95 1361.72 588.95 1357.55 L588.95 1356.61 L584.714 1356.61 M593.21 1354.85 L593.21 1369.64 L588.95 1369.64 L588.95 1365.7 Q587.492 1368.06 585.316 1369.2 Q583.14 1370.31 579.992 1370.31 Q576.011 1370.31 573.65 1368.09 Q571.312 1365.84 571.312 1362.09 Q571.312 1357.72 574.228 1355.49 Q577.168 1353.27 582.978 1353.27 L588.95 1353.27 L588.95 1352.86 Q588.95 1349.92 587.006 1348.32 Q585.085 1346.7 581.589 1346.7 Q579.367 1346.7 577.261 1347.23 Q575.154 1347.76 573.21 1348.83 L573.21 1344.89 Q575.548 1343.99 577.747 1343.55 Q579.946 1343.09 582.029 1343.09 Q587.654 1343.09 590.432 1346 Q593.21 1348.92 593.21 1354.85 Z\" fill=\"#000000\" fill-rule=\"evenodd\" fill-opacity=\"1\" /><path clip-path=\"url(#clip840)\" d=\"M601.821 1333.62 L606.103 1333.62 L606.103 1354.89 L618.811 1343.71 L624.251 1343.71 L610.501 1355.84 L624.83 1369.64 L619.274 1369.64 L606.103 1356.98 L606.103 1369.64 L601.821 1369.64 L601.821 1333.62 Z\" fill=\"#000000\" fill-rule=\"evenodd\" fill-opacity=\"1\" /><path clip-path=\"url(#clip840)\" d=\"M640.385 1356.61 Q635.223 1356.61 633.233 1357.79 Q631.242 1358.97 631.242 1361.81 Q631.242 1364.08 632.723 1365.43 Q634.228 1366.74 636.797 1366.74 Q640.339 1366.74 642.469 1364.24 Q644.621 1361.72 644.621 1357.55 L644.621 1356.61 L640.385 1356.61 M648.881 1354.85 L648.881 1369.64 L644.621 1369.64 L644.621 1365.7 Q643.163 1368.06 640.987 1369.2 Q638.811 1370.31 635.663 1370.31 Q631.682 1370.31 629.321 1368.09 Q626.983 1365.84 626.983 1362.09 Q626.983 1357.72 629.899 1355.49 Q632.839 1353.27 638.649 1353.27 L644.621 1353.27 L644.621 1352.86 Q644.621 1349.92 642.677 1348.32 Q640.756 1346.7 637.26 1346.7 Q635.038 1346.7 632.932 1347.23 Q630.825 1347.76 628.881 1348.83 L628.881 1344.89 Q631.219 1343.99 633.418 1343.55 Q635.617 1343.09 637.7 1343.09 Q643.325 1343.09 646.103 1346 Q648.881 1348.92 648.881 1354.85 Z\" fill=\"#000000\" fill-rule=\"evenodd\" fill-opacity=\"1\" /><path clip-path=\"url(#clip840)\" d=\"M674.714 1356.37 Q674.714 1351.74 672.793 1349.2 Q670.894 1346.65 667.445 1346.65 Q664.019 1346.65 662.098 1349.2 Q660.2 1351.74 660.2 1356.37 Q660.2 1360.98 662.098 1363.53 Q664.019 1366.07 667.445 1366.07 Q670.894 1366.07 672.793 1363.53 Q674.714 1360.98 674.714 1356.37 M678.973 1366.42 Q678.973 1373.04 676.033 1376.26 Q673.093 1379.5 667.029 1379.5 Q664.783 1379.5 662.793 1379.15 Q660.802 1378.83 658.927 1378.13 L658.927 1373.99 Q660.802 1375.01 662.631 1375.49 Q664.459 1375.98 666.357 1375.98 Q670.547 1375.98 672.631 1373.78 Q674.714 1371.61 674.714 1367.18 L674.714 1365.08 Q673.394 1367.37 671.334 1368.5 Q669.274 1369.64 666.404 1369.64 Q661.635 1369.64 658.719 1366 Q655.802 1362.37 655.802 1356.37 Q655.802 1350.36 658.719 1346.72 Q661.635 1343.09 666.404 1343.09 Q669.274 1343.09 671.334 1344.22 Q673.394 1345.36 674.714 1347.65 L674.714 1343.71 L678.973 1343.71 L678.973 1366.42 Z\" fill=\"#000000\" fill-rule=\"evenodd\" fill-opacity=\"1\" /><path clip-path=\"url(#clip840)\" d=\"M709.922 1355.61 L709.922 1357.69 L690.339 1357.69 Q690.617 1362.09 692.978 1364.41 Q695.362 1366.7 699.598 1366.7 Q702.052 1366.7 704.343 1366.1 Q706.658 1365.49 708.927 1364.29 L708.927 1368.32 Q706.635 1369.29 704.228 1369.8 Q701.82 1370.31 699.343 1370.31 Q693.14 1370.31 689.505 1366.7 Q685.894 1363.09 685.894 1356.93 Q685.894 1350.56 689.32 1346.84 Q692.769 1343.09 698.603 1343.09 Q703.834 1343.09 706.866 1346.47 Q709.922 1349.82 709.922 1355.61 M705.663 1354.36 Q705.616 1350.86 703.695 1348.78 Q701.797 1346.7 698.649 1346.7 Q695.084 1346.7 692.931 1348.71 Q690.802 1350.73 690.478 1354.38 L705.663 1354.36 Z\" fill=\"#000000\" fill-rule=\"evenodd\" fill-opacity=\"1\" /></svg>\n",
      "text/html": [
       "<?xml version=\"1.0\" encoding=\"utf-8\"?>\n",
       "<svg xmlns=\"http://www.w3.org/2000/svg\" xmlns:xlink=\"http://www.w3.org/1999/xlink\" width=\"600\" height=\"400\" viewBox=\"0 0 2400 1600\">\n",
       "<defs>\n",
       "  <clipPath id=\"clip890\">\n",
       "    <rect x=\"0\" y=\"0\" width=\"2400\" height=\"1600\"/>\n",
       "  </clipPath>\n",
       "</defs>\n",
       "<path clip-path=\"url(#clip890)\" d=\"\n",
       "M0 1600 L2400 1600 L2400 0 L0 0  Z\n",
       "  \" fill=\"#ffffff\" fill-rule=\"evenodd\" fill-opacity=\"1\"/>\n",
       "<defs>\n",
       "  <clipPath id=\"clip891\">\n",
       "    <rect x=\"480\" y=\"0\" width=\"1681\" height=\"1600\"/>\n",
       "  </clipPath>\n",
       "</defs>\n",
       "<path clip-path=\"url(#clip890)\" d=\"\n",
       "M276.876 692.928 L2352.76 692.928 L2352.76 123.472 L276.876 123.472  Z\n",
       "  \" fill=\"#ffffff\" fill-rule=\"evenodd\" fill-opacity=\"1\"/>\n",
       "<defs>\n",
       "  <clipPath id=\"clip892\">\n",
       "    <rect x=\"276\" y=\"123\" width=\"2077\" height=\"570\"/>\n",
       "  </clipPath>\n",
       "</defs>\n",
       "<polyline clip-path=\"url(#clip892)\" style=\"stroke:#000000; stroke-linecap:round; stroke-linejoin:round; stroke-width:2; stroke-opacity:0.1; fill:none\" points=\"\n",
       "  335.627,692.928 335.627,123.472 \n",
       "  \"/>\n",
       "<polyline clip-path=\"url(#clip892)\" style=\"stroke:#000000; stroke-linecap:round; stroke-linejoin:round; stroke-width:2; stroke-opacity:0.1; fill:none\" points=\"\n",
       "  988.419,692.928 988.419,123.472 \n",
       "  \"/>\n",
       "<polyline clip-path=\"url(#clip892)\" style=\"stroke:#000000; stroke-linecap:round; stroke-linejoin:round; stroke-width:2; stroke-opacity:0.1; fill:none\" points=\"\n",
       "  1641.21,692.928 1641.21,123.472 \n",
       "  \"/>\n",
       "<polyline clip-path=\"url(#clip892)\" style=\"stroke:#000000; stroke-linecap:round; stroke-linejoin:round; stroke-width:2; stroke-opacity:0.1; fill:none\" points=\"\n",
       "  2294,692.928 2294,123.472 \n",
       "  \"/>\n",
       "<polyline clip-path=\"url(#clip890)\" style=\"stroke:#000000; stroke-linecap:round; stroke-linejoin:round; stroke-width:4; stroke-opacity:1; fill:none\" points=\"\n",
       "  276.876,692.928 2352.76,692.928 \n",
       "  \"/>\n",
       "<polyline clip-path=\"url(#clip890)\" style=\"stroke:#000000; stroke-linecap:round; stroke-linejoin:round; stroke-width:4; stroke-opacity:1; fill:none\" points=\"\n",
       "  335.627,692.928 335.627,674.03 \n",
       "  \"/>\n",
       "<polyline clip-path=\"url(#clip890)\" style=\"stroke:#000000; stroke-linecap:round; stroke-linejoin:round; stroke-width:4; stroke-opacity:1; fill:none\" points=\"\n",
       "  988.419,692.928 988.419,674.03 \n",
       "  \"/>\n",
       "<polyline clip-path=\"url(#clip890)\" style=\"stroke:#000000; stroke-linecap:round; stroke-linejoin:round; stroke-width:4; stroke-opacity:1; fill:none\" points=\"\n",
       "  1641.21,692.928 1641.21,674.03 \n",
       "  \"/>\n",
       "<polyline clip-path=\"url(#clip890)\" style=\"stroke:#000000; stroke-linecap:round; stroke-linejoin:round; stroke-width:4; stroke-opacity:1; fill:none\" points=\"\n",
       "  2294,692.928 2294,674.03 \n",
       "  \"/>\n",
       "<path clip-path=\"url(#clip890)\" d=\"M335.627 723.847 Q332.016 723.847 330.187 727.411 Q328.382 730.953 328.382 738.083 Q328.382 745.189 330.187 748.754 Q332.016 752.295 335.627 752.295 Q339.261 752.295 341.067 748.754 Q342.895 745.189 342.895 738.083 Q342.895 730.953 341.067 727.411 Q339.261 723.847 335.627 723.847 M335.627 720.143 Q341.437 720.143 344.493 724.749 Q347.571 729.333 347.571 738.083 Q347.571 746.809 344.493 751.416 Q341.437 755.999 335.627 755.999 Q329.817 755.999 326.738 751.416 Q323.682 746.809 323.682 738.083 Q323.682 729.333 326.738 724.749 Q329.817 720.143 335.627 720.143 Z\" fill=\"#000000\" fill-rule=\"evenodd\" fill-opacity=\"1\" /><path clip-path=\"url(#clip890)\" d=\"M963.107 751.393 L970.746 751.393 L970.746 725.027 L962.436 726.694 L962.436 722.435 L970.7 720.768 L975.376 720.768 L975.376 751.393 L983.014 751.393 L983.014 755.328 L963.107 755.328 L963.107 751.393 Z\" fill=\"#000000\" fill-rule=\"evenodd\" fill-opacity=\"1\" /><path clip-path=\"url(#clip890)\" d=\"M1002.46 723.847 Q998.848 723.847 997.019 727.411 Q995.213 730.953 995.213 738.083 Q995.213 745.189 997.019 748.754 Q998.848 752.295 1002.46 752.295 Q1006.09 752.295 1007.9 748.754 Q1009.73 745.189 1009.73 738.083 Q1009.73 730.953 1007.9 727.411 Q1006.09 723.847 1002.46 723.847 M1002.46 720.143 Q1008.27 720.143 1011.32 724.749 Q1014.4 729.333 1014.4 738.083 Q1014.4 746.809 1011.32 751.416 Q1008.27 755.999 1002.46 755.999 Q996.649 755.999 993.57 751.416 Q990.514 746.809 990.514 738.083 Q990.514 729.333 993.57 724.749 Q996.649 720.143 1002.46 720.143 Z\" fill=\"#000000\" fill-rule=\"evenodd\" fill-opacity=\"1\" /><path clip-path=\"url(#clip890)\" d=\"M1619.99 751.393 L1636.3 751.393 L1636.3 755.328 L1614.36 755.328 L1614.36 751.393 Q1617.02 748.638 1621.61 744.008 Q1626.21 739.356 1627.39 738.013 Q1629.64 735.49 1630.52 733.754 Q1631.42 731.995 1631.42 730.305 Q1631.42 727.55 1629.48 725.814 Q1627.55 724.078 1624.45 724.078 Q1622.25 724.078 1619.8 724.842 Q1617.37 725.606 1614.59 727.157 L1614.59 722.435 Q1617.42 721.3 1619.87 720.722 Q1622.32 720.143 1624.36 720.143 Q1629.73 720.143 1632.93 722.828 Q1636.12 725.513 1636.12 730.004 Q1636.12 732.134 1635.31 734.055 Q1634.52 735.953 1632.42 738.546 Q1631.84 739.217 1628.74 742.434 Q1625.63 745.629 1619.99 751.393 Z\" fill=\"#000000\" fill-rule=\"evenodd\" fill-opacity=\"1\" /><path clip-path=\"url(#clip890)\" d=\"M1656.12 723.847 Q1652.51 723.847 1650.68 727.411 Q1648.87 730.953 1648.87 738.083 Q1648.87 745.189 1650.68 748.754 Q1652.51 752.295 1656.12 752.295 Q1659.75 752.295 1661.56 748.754 Q1663.39 745.189 1663.39 738.083 Q1663.39 730.953 1661.56 727.411 Q1659.75 723.847 1656.12 723.847 M1656.12 720.143 Q1661.93 720.143 1664.99 724.749 Q1668.06 729.333 1668.06 738.083 Q1668.06 746.809 1664.99 751.416 Q1661.93 755.999 1656.12 755.999 Q1650.31 755.999 1647.23 751.416 Q1644.17 746.809 1644.17 738.083 Q1644.17 729.333 1647.23 724.749 Q1650.31 720.143 1656.12 720.143 Z\" fill=\"#000000\" fill-rule=\"evenodd\" fill-opacity=\"1\" /><path clip-path=\"url(#clip890)\" d=\"M2282.85 736.694 Q2286.2 737.411 2288.08 739.68 Q2289.98 741.948 2289.98 745.282 Q2289.98 750.397 2286.46 753.198 Q2282.94 755.999 2276.46 755.999 Q2274.28 755.999 2271.97 755.559 Q2269.68 755.143 2267.22 754.286 L2267.22 749.772 Q2269.17 750.907 2271.48 751.485 Q2273.8 752.064 2276.32 752.064 Q2280.72 752.064 2283.01 750.328 Q2285.32 748.592 2285.32 745.282 Q2285.32 742.226 2283.17 740.513 Q2281.04 738.777 2277.22 738.777 L2273.19 738.777 L2273.19 734.934 L2277.41 734.934 Q2280.86 734.934 2282.69 733.569 Q2284.51 732.18 2284.51 729.587 Q2284.51 726.925 2282.62 725.513 Q2280.74 724.078 2277.22 724.078 Q2275.3 724.078 2273.1 724.495 Q2270.9 724.911 2268.26 725.791 L2268.26 721.624 Q2270.93 720.884 2273.24 720.513 Q2275.58 720.143 2277.64 720.143 Q2282.96 720.143 2286.06 722.573 Q2289.17 724.981 2289.17 729.101 Q2289.17 731.972 2287.52 733.962 Q2285.88 735.93 2282.85 736.694 Z\" fill=\"#000000\" fill-rule=\"evenodd\" fill-opacity=\"1\" /><path clip-path=\"url(#clip890)\" d=\"M2308.84 723.847 Q2305.23 723.847 2303.4 727.411 Q2301.6 730.953 2301.6 738.083 Q2301.6 745.189 2303.4 748.754 Q2305.23 752.295 2308.84 752.295 Q2312.48 752.295 2314.28 748.754 Q2316.11 745.189 2316.11 738.083 Q2316.11 730.953 2314.28 727.411 Q2312.48 723.847 2308.84 723.847 M2308.84 720.143 Q2314.65 720.143 2317.71 724.749 Q2320.79 729.333 2320.79 738.083 Q2320.79 746.809 2317.71 751.416 Q2314.65 755.999 2308.84 755.999 Q2303.03 755.999 2299.95 751.416 Q2296.9 746.809 2296.9 738.083 Q2296.9 729.333 2299.95 724.749 Q2303.03 720.143 2308.84 720.143 Z\" fill=\"#000000\" fill-rule=\"evenodd\" fill-opacity=\"1\" /><polyline clip-path=\"url(#clip892)\" style=\"stroke:#000000; stroke-linecap:round; stroke-linejoin:round; stroke-width:2; stroke-opacity:0.1; fill:none\" points=\"\n",
       "  276.876,692.928 2352.76,692.928 \n",
       "  \"/>\n",
       "<polyline clip-path=\"url(#clip892)\" style=\"stroke:#000000; stroke-linecap:round; stroke-linejoin:round; stroke-width:2; stroke-opacity:0.1; fill:none\" points=\"\n",
       "  276.876,409.374 2352.76,409.374 \n",
       "  \"/>\n",
       "<polyline clip-path=\"url(#clip892)\" style=\"stroke:#000000; stroke-linecap:round; stroke-linejoin:round; stroke-width:2; stroke-opacity:0.1; fill:none\" points=\"\n",
       "  276.876,125.82 2352.76,125.82 \n",
       "  \"/>\n",
       "<polyline clip-path=\"url(#clip890)\" style=\"stroke:#000000; stroke-linecap:round; stroke-linejoin:round; stroke-width:4; stroke-opacity:1; fill:none\" points=\"\n",
       "  276.876,692.928 276.876,123.472 \n",
       "  \"/>\n",
       "<polyline clip-path=\"url(#clip890)\" style=\"stroke:#000000; stroke-linecap:round; stroke-linejoin:round; stroke-width:4; stroke-opacity:1; fill:none\" points=\"\n",
       "  276.876,692.928 295.773,692.928 \n",
       "  \"/>\n",
       "<polyline clip-path=\"url(#clip890)\" style=\"stroke:#000000; stroke-linecap:round; stroke-linejoin:round; stroke-width:4; stroke-opacity:1; fill:none\" points=\"\n",
       "  276.876,409.374 295.773,409.374 \n",
       "  \"/>\n",
       "<polyline clip-path=\"url(#clip890)\" style=\"stroke:#000000; stroke-linecap:round; stroke-linejoin:round; stroke-width:4; stroke-opacity:1; fill:none\" points=\"\n",
       "  276.876,125.82 295.773,125.82 \n",
       "  \"/>\n",
       "<path clip-path=\"url(#clip890)\" d=\"M114.931 712.72 L122.57 712.72 L122.57 686.355 L114.26 688.021 L114.26 683.762 L122.524 682.095 L127.2 682.095 L127.2 712.72 L134.839 712.72 L134.839 716.655 L114.931 716.655 L114.931 712.72 Z\" fill=\"#000000\" fill-rule=\"evenodd\" fill-opacity=\"1\" /><path clip-path=\"url(#clip890)\" d=\"M154.283 685.174 Q150.672 685.174 148.843 688.739 Q147.038 692.281 147.038 699.41 Q147.038 706.517 148.843 710.081 Q150.672 713.623 154.283 713.623 Q157.917 713.623 159.723 710.081 Q161.552 706.517 161.552 699.41 Q161.552 692.281 159.723 688.739 Q157.917 685.174 154.283 685.174 M154.283 681.47 Q160.093 681.47 163.149 686.077 Q166.227 690.66 166.227 699.41 Q166.227 708.137 163.149 712.743 Q160.093 717.327 154.283 717.327 Q148.473 717.327 145.394 712.743 Q142.339 708.137 142.339 699.41 Q142.339 690.66 145.394 686.077 Q148.473 681.47 154.283 681.47 Z\" fill=\"#000000\" fill-rule=\"evenodd\" fill-opacity=\"1\" /><path clip-path=\"url(#clip890)\" d=\"M166.227 675.572 L190.339 675.572 L190.339 678.769 L166.227 678.769 L166.227 675.572 Z\" fill=\"#000000\" fill-rule=\"evenodd\" fill-opacity=\"1\" /><path clip-path=\"url(#clip890)\" d=\"M199.197 686.048 L205.404 686.048 L205.404 664.626 L198.652 665.98 L198.652 662.519 L205.366 661.165 L209.166 661.165 L209.166 686.048 L215.372 686.048 L215.372 689.245 L199.197 689.245 L199.197 686.048 Z\" fill=\"#000000\" fill-rule=\"evenodd\" fill-opacity=\"1\" /><path clip-path=\"url(#clip890)\" d=\"M231.171 663.667 Q228.237 663.667 226.751 666.563 Q225.284 669.44 225.284 675.233 Q225.284 681.007 226.751 683.904 Q228.237 686.781 231.171 686.781 Q234.124 686.781 235.591 683.904 Q237.076 681.007 237.076 675.233 Q237.076 669.44 235.591 666.563 Q234.124 663.667 231.171 663.667 M231.171 660.657 Q235.891 660.657 238.374 664.4 Q240.876 668.124 240.876 675.233 Q240.876 682.324 238.374 686.067 Q235.891 689.79 231.171 689.79 Q226.45 689.79 223.949 686.067 Q221.466 682.324 221.466 675.233 Q221.466 668.124 223.949 664.4 Q226.45 660.657 231.171 660.657 Z\" fill=\"#000000\" fill-rule=\"evenodd\" fill-opacity=\"1\" /><path clip-path=\"url(#clip890)\" d=\"M140.247 429.166 L147.886 429.166 L147.886 402.801 L139.575 404.467 L139.575 400.208 L147.839 398.541 L152.515 398.541 L152.515 429.166 L160.154 429.166 L160.154 433.101 L140.247 433.101 L140.247 429.166 Z\" fill=\"#000000\" fill-rule=\"evenodd\" fill-opacity=\"1\" /><path clip-path=\"url(#clip890)\" d=\"M179.598 401.62 Q175.987 401.62 174.159 405.185 Q172.353 408.726 172.353 415.856 Q172.353 422.962 174.159 426.527 Q175.987 430.069 179.598 430.069 Q183.233 430.069 185.038 426.527 Q186.867 422.962 186.867 415.856 Q186.867 408.726 185.038 405.185 Q183.233 401.62 179.598 401.62 M179.598 397.916 Q185.409 397.916 188.464 402.523 Q191.543 407.106 191.543 415.856 Q191.543 424.583 188.464 429.189 Q185.409 433.773 179.598 433.773 Q173.788 433.773 170.71 429.189 Q167.654 424.583 167.654 415.856 Q167.654 407.106 170.71 402.523 Q173.788 397.916 179.598 397.916 Z\" fill=\"#000000\" fill-rule=\"evenodd\" fill-opacity=\"1\" /><path clip-path=\"url(#clip890)\" d=\"M191.543 392.018 L215.654 392.018 L215.654 395.215 L191.543 395.215 L191.543 392.018 Z\" fill=\"#000000\" fill-rule=\"evenodd\" fill-opacity=\"1\" /><path clip-path=\"url(#clip890)\" d=\"M223.892 377.611 L238.807 377.611 L238.807 380.808 L227.372 380.808 L227.372 387.692 Q228.199 387.41 229.027 387.278 Q229.854 387.128 230.682 387.128 Q235.384 387.128 238.13 389.704 Q240.876 392.281 240.876 396.682 Q240.876 401.215 238.054 403.735 Q235.233 406.236 230.099 406.236 Q228.331 406.236 226.488 405.935 Q224.663 405.634 222.707 405.033 L222.707 401.215 Q224.4 402.136 226.205 402.588 Q228.011 403.039 230.023 403.039 Q233.277 403.039 235.177 401.328 Q237.076 399.616 237.076 396.682 Q237.076 393.748 235.177 392.036 Q233.277 390.325 230.023 390.325 Q228.5 390.325 226.977 390.663 Q225.472 391.002 223.892 391.717 L223.892 377.611 Z\" fill=\"#000000\" fill-rule=\"evenodd\" fill-opacity=\"1\" /><path clip-path=\"url(#clip890)\" d=\"M170.17 145.612 L177.809 145.612 L177.809 119.246 L169.499 120.913 L169.499 116.654 L177.762 114.987 L182.438 114.987 L182.438 145.612 L190.077 145.612 L190.077 149.547 L170.17 149.547 L170.17 145.612 Z\" fill=\"#000000\" fill-rule=\"evenodd\" fill-opacity=\"1\" /><path clip-path=\"url(#clip890)\" d=\"M209.522 118.066 Q205.91 118.066 204.082 121.631 Q202.276 125.172 202.276 132.302 Q202.276 139.408 204.082 142.973 Q205.91 146.515 209.522 146.515 Q213.156 146.515 214.961 142.973 Q216.79 139.408 216.79 132.302 Q216.79 125.172 214.961 121.631 Q213.156 118.066 209.522 118.066 M209.522 114.362 Q215.332 114.362 218.387 118.969 Q221.466 123.552 221.466 132.302 Q221.466 141.029 218.387 145.635 Q215.332 150.218 209.522 150.218 Q203.711 150.218 200.633 145.635 Q197.577 141.029 197.577 132.302 Q197.577 123.552 200.633 118.969 Q203.711 114.362 209.522 114.362 Z\" fill=\"#000000\" fill-rule=\"evenodd\" fill-opacity=\"1\" /><path clip-path=\"url(#clip890)\" d=\"M231.171 96.5582 Q228.237 96.5582 226.751 99.4546 Q225.284 102.332 225.284 108.125 Q225.284 113.899 226.751 116.795 Q228.237 119.673 231.171 119.673 Q234.124 119.673 235.591 116.795 Q237.076 113.899 237.076 108.125 Q237.076 102.332 235.591 99.4546 Q234.124 96.5582 231.171 96.5582 M231.171 93.5489 Q235.891 93.5489 238.374 97.2917 Q240.876 101.016 240.876 108.125 Q240.876 115.215 238.374 118.958 Q235.891 122.682 231.171 122.682 Q226.45 122.682 223.949 118.958 Q221.466 115.215 221.466 108.125 Q221.466 101.016 223.949 97.2917 Q226.45 93.5489 231.171 93.5489 Z\" fill=\"#000000\" fill-rule=\"evenodd\" fill-opacity=\"1\" /><path clip-path=\"url(#clip890)\" d=\"M20.8447 566.817 Q20.8447 573.82 26.0645 577.957 Q31.2844 582.063 40.2919 582.063 Q49.2675 582.063 54.4874 577.957 Q59.7073 573.82 59.7073 566.817 Q59.7073 559.815 54.4874 555.741 Q49.2675 551.635 40.2919 551.635 Q31.2844 551.635 26.0645 555.741 Q20.8447 559.815 20.8447 566.817 M15.6248 566.817 Q15.6248 556.823 22.3406 550.84 Q29.0246 544.856 40.2919 544.856 Q51.5274 544.856 58.2432 550.84 Q64.9272 556.823 64.9272 566.817 Q64.9272 576.843 58.2432 582.859 Q51.5592 588.843 40.2919 588.843 Q29.0246 588.843 22.3406 582.859 Q15.6248 576.843 15.6248 566.817 Z\" fill=\"#000000\" fill-rule=\"evenodd\" fill-opacity=\"1\" /><path clip-path=\"url(#clip890)\" d=\"M29.7248 509.399 L35.1993 509.399 Q33.8307 511.881 33.1623 514.396 Q32.4621 516.879 32.4621 519.425 Q32.4621 525.122 36.0905 528.273 Q39.6872 531.424 46.212 531.424 Q52.7369 531.424 56.3653 528.273 Q59.9619 525.122 59.9619 519.425 Q59.9619 516.879 59.2935 514.396 Q58.5933 511.881 57.2247 509.399 L62.6355 509.399 Q63.7814 511.85 64.3543 514.491 Q64.9272 517.101 64.9272 520.061 Q64.9272 528.114 59.8664 532.856 Q54.8057 537.599 46.212 537.599 Q37.491 537.599 32.4939 532.825 Q27.4968 528.019 27.4968 519.679 Q27.4968 516.974 28.0697 514.396 Q28.6108 511.818 29.7248 509.399 Z\" fill=\"#000000\" fill-rule=\"evenodd\" fill-opacity=\"1\" /><path clip-path=\"url(#clip890)\" d=\"M29.7248 473.56 L35.1993 473.56 Q33.8307 476.043 33.1623 478.557 Q32.4621 481.04 32.4621 483.586 Q32.4621 489.283 36.0905 492.434 Q39.6872 495.585 46.212 495.585 Q52.7369 495.585 56.3653 492.434 Q59.9619 489.283 59.9619 483.586 Q59.9619 481.04 59.2935 478.557 Q58.5933 476.043 57.2247 473.56 L62.6355 473.56 Q63.7814 476.011 64.3543 478.652 Q64.9272 481.262 64.9272 484.222 Q64.9272 492.275 59.8664 497.018 Q54.8057 501.76 46.212 501.76 Q37.491 501.76 32.4939 496.986 Q27.4968 492.18 27.4968 483.841 Q27.4968 481.135 28.0697 478.557 Q28.6108 475.979 29.7248 473.56 Z\" fill=\"#000000\" fill-rule=\"evenodd\" fill-opacity=\"1\" /><path clip-path=\"url(#clip890)\" d=\"M49.9359 463.98 L28.3562 463.98 L28.3562 458.123 L49.7131 458.123 Q54.7739 458.123 57.3202 456.15 Q59.8346 454.176 59.8346 450.23 Q59.8346 445.487 56.8109 442.75 Q53.7872 439.981 48.5673 439.981 L28.3562 439.981 L28.3562 434.124 L64.0042 434.124 L64.0042 439.981 L58.5296 439.981 Q61.7762 442.113 63.3676 444.946 Q64.9272 447.747 64.9272 451.471 Q64.9272 457.614 61.1078 460.797 Q57.2883 463.98 49.9359 463.98 M27.4968 449.243 L27.4968 449.243 Z\" fill=\"#000000\" fill-rule=\"evenodd\" fill-opacity=\"1\" /><path clip-path=\"url(#clip890)\" d=\"M58.657 416.396 L77.5631 416.396 L77.5631 422.284 L28.3562 422.284 L28.3562 416.396 L33.7671 416.396 Q30.5842 414.55 29.0564 411.749 Q27.4968 408.916 27.4968 405.001 Q27.4968 398.508 32.6531 394.466 Q37.8093 390.392 46.212 390.392 Q54.6147 390.392 59.771 394.466 Q64.9272 398.508 64.9272 405.001 Q64.9272 408.916 63.3994 411.749 Q61.8398 414.55 58.657 416.396 M46.212 396.471 Q39.7508 396.471 36.0905 399.145 Q32.3984 401.787 32.3984 406.434 Q32.3984 411.08 36.0905 413.754 Q39.7508 416.396 46.212 416.396 Q52.6732 416.396 56.3653 413.754 Q60.0256 411.08 60.0256 406.434 Q60.0256 401.787 56.3653 399.145 Q52.6732 396.471 46.212 396.471 Z\" fill=\"#000000\" fill-rule=\"evenodd\" fill-opacity=\"1\" /><path clip-path=\"url(#clip890)\" d=\"M46.0847 364.484 Q46.0847 371.581 47.7079 374.319 Q49.3312 377.056 53.2461 377.056 Q56.3653 377.056 58.2114 375.019 Q60.0256 372.95 60.0256 369.417 Q60.0256 364.547 56.5881 361.619 Q53.1188 358.659 47.3897 358.659 L46.0847 358.659 L46.0847 364.484 M43.6657 352.802 L64.0042 352.802 L64.0042 358.659 L58.5933 358.659 Q61.8398 360.664 63.3994 363.656 Q64.9272 366.648 64.9272 370.977 Q64.9272 376.451 61.8716 379.698 Q58.7843 382.912 53.6281 382.912 Q47.6125 382.912 44.5569 378.902 Q41.5014 374.86 41.5014 366.871 L41.5014 358.659 L40.9285 358.659 Q36.8862 358.659 34.6901 361.332 Q32.4621 363.974 32.4621 368.78 Q32.4621 371.836 33.1941 374.732 Q33.9262 377.629 35.3903 380.302 L29.9795 380.302 Q28.7381 377.088 28.1334 374.064 Q27.4968 371.04 27.4968 368.176 Q27.4968 360.441 31.5072 356.622 Q35.5176 352.802 43.6657 352.802 Z\" fill=\"#000000\" fill-rule=\"evenodd\" fill-opacity=\"1\" /><path clip-path=\"url(#clip890)\" d=\"M18.2347 334.947 L28.3562 334.947 L28.3562 322.884 L32.9077 322.884 L32.9077 334.947 L52.2594 334.947 Q56.6199 334.947 57.8613 333.769 Q59.1026 332.559 59.1026 328.899 L59.1026 322.884 L64.0042 322.884 L64.0042 328.899 Q64.0042 335.679 61.4897 338.257 Q58.9434 340.835 52.2594 340.835 L32.9077 340.835 L32.9077 345.132 L28.3562 345.132 L28.3562 340.835 L18.2347 340.835 L18.2347 334.947 Z\" fill=\"#000000\" fill-rule=\"evenodd\" fill-opacity=\"1\" /><path clip-path=\"url(#clip890)\" d=\"M28.3562 315.181 L28.3562 309.325 L64.0042 309.325 L64.0042 315.181 L28.3562 315.181 M14.479 315.181 L14.479 309.325 L21.895 309.325 L21.895 315.181 L14.479 315.181 Z\" fill=\"#000000\" fill-rule=\"evenodd\" fill-opacity=\"1\" /><path clip-path=\"url(#clip890)\" d=\"M32.4621 283.257 Q32.4621 287.968 36.1542 290.705 Q39.8145 293.442 46.212 293.442 Q52.6095 293.442 56.3017 290.737 Q59.9619 288 59.9619 283.257 Q59.9619 278.578 56.2698 275.841 Q52.5777 273.104 46.212 273.104 Q39.8781 273.104 36.186 275.841 Q32.4621 278.578 32.4621 283.257 M27.4968 283.257 Q27.4968 275.618 32.4621 271.258 Q37.4273 266.897 46.212 266.897 Q54.9649 266.897 59.9619 271.258 Q64.9272 275.618 64.9272 283.257 Q64.9272 290.928 59.9619 295.288 Q54.9649 299.617 46.212 299.617 Q37.4273 299.617 32.4621 295.288 Q27.4968 290.928 27.4968 283.257 Z\" fill=\"#000000\" fill-rule=\"evenodd\" fill-opacity=\"1\" /><path clip-path=\"url(#clip890)\" d=\"M42.4881 227.557 L64.0042 227.557 L64.0042 233.414 L42.679 233.414 Q37.6183 233.414 35.1038 235.387 Q32.5894 237.36 32.5894 241.307 Q32.5894 246.05 35.6131 248.787 Q38.6368 251.524 43.8567 251.524 L64.0042 251.524 L64.0042 257.412 L28.3562 257.412 L28.3562 251.524 L33.8944 251.524 Q30.6797 249.423 29.0883 246.591 Q27.4968 243.726 27.4968 240.002 Q27.4968 233.859 31.3163 230.708 Q35.1038 227.557 42.4881 227.557 Z\" fill=\"#000000\" fill-rule=\"evenodd\" fill-opacity=\"1\" /><path clip-path=\"url(#clip890)\" d=\"M782.243 14.0809 L782.243 22.0612 Q777.585 19.8332 773.453 18.7395 Q769.321 17.6457 765.473 17.6457 Q758.789 17.6457 755.143 20.2383 Q751.537 22.8309 751.537 27.611 Q751.537 31.6214 753.928 33.6873 Q756.358 35.7128 763.083 36.9686 L768.025 37.9813 Q777.18 39.7232 781.514 44.1387 Q785.889 48.5136 785.889 55.8863 Q785.889 64.6767 779.975 69.2137 Q774.101 73.7508 762.718 73.7508 Q758.424 73.7508 753.563 72.7785 Q748.742 71.8063 743.557 69.9024 L743.557 61.4765 Q748.54 64.2716 753.32 65.6895 Q758.1 67.1073 762.718 67.1073 Q769.726 67.1073 773.534 64.3527 Q777.342 61.598 777.342 56.4939 Q777.342 52.0379 774.587 49.5264 Q771.873 47.0148 765.635 45.759 L760.652 44.7868 Q751.497 42.9639 747.406 39.075 Q743.314 35.1862 743.314 28.2591 Q743.314 20.2383 748.945 15.6203 Q754.616 11.0023 764.541 11.0023 Q768.794 11.0023 773.21 11.7719 Q777.625 12.5416 782.243 14.0809 Z\" fill=\"#000000\" fill-rule=\"evenodd\" fill-opacity=\"1\" /><path clip-path=\"url(#clip890)\" d=\"M793.991 27.2059 L801.445 27.2059 L810.762 62.6108 L820.038 27.2059 L828.829 27.2059 L838.146 62.6108 L847.422 27.2059 L854.876 27.2059 L843.007 72.576 L834.216 72.576 L824.454 35.3887 L814.651 72.576 L805.86 72.576 L793.991 27.2059 Z\" fill=\"#000000\" fill-rule=\"evenodd\" fill-opacity=\"1\" /><path clip-path=\"url(#clip890)\" d=\"M886.797 49.7694 Q877.764 49.7694 874.28 51.8354 Q870.796 53.9013 870.796 58.8839 Q870.796 62.8538 873.389 65.2034 Q876.022 67.5124 880.518 67.5124 Q886.716 67.5124 890.443 63.1374 Q894.21 58.7219 894.21 51.4303 L894.21 49.7694 L886.797 49.7694 M901.664 46.6907 L901.664 72.576 L894.21 72.576 L894.21 65.6895 Q891.658 69.8214 887.85 71.8063 Q884.043 73.7508 878.533 73.7508 Q871.566 73.7508 867.434 69.8619 Q863.342 65.9325 863.342 59.3701 Q863.342 51.7138 868.447 47.825 Q873.591 43.9361 883.759 43.9361 L894.21 43.9361 L894.21 43.2069 Q894.21 38.0623 890.808 35.2672 Q887.445 32.4315 881.328 32.4315 Q877.44 32.4315 873.753 33.3632 Q870.067 34.295 866.664 36.1584 L866.664 29.2718 Q870.756 27.692 874.604 26.9223 Q878.452 26.1121 882.098 26.1121 Q891.942 26.1121 896.803 31.2163 Q901.664 36.3204 901.664 46.6907 Z\" fill=\"#000000\" fill-rule=\"evenodd\" fill-opacity=\"1\" /><path clip-path=\"url(#clip890)\" d=\"M924.228 65.7705 L924.228 89.8329 L916.733 89.8329 L916.733 27.2059 L924.228 27.2059 L924.228 34.0924 Q926.577 30.0415 930.142 28.0971 Q933.747 26.1121 938.73 26.1121 Q946.994 26.1121 952.138 32.6746 Q957.323 39.2371 957.323 49.9314 Q957.323 60.6258 952.138 67.1883 Q946.994 73.7508 938.73 73.7508 Q933.747 73.7508 930.142 71.8063 Q926.577 69.8214 924.228 65.7705 M949.586 49.9314 Q949.586 41.7081 946.183 37.0496 Q942.821 32.3505 936.907 32.3505 Q930.993 32.3505 927.59 37.0496 Q924.228 41.7081 924.228 49.9314 Q924.228 58.1548 927.59 62.8538 Q930.993 67.5124 936.907 67.5124 Q942.821 67.5124 946.183 62.8538 Q949.586 58.1548 949.586 49.9314 Z\" fill=\"#000000\" fill-rule=\"evenodd\" fill-opacity=\"1\" /><path clip-path=\"url(#clip890)\" d=\"M1025.91 49.3643 Q1025.91 41.2625 1022.54 36.8065 Q1019.22 32.3505 1013.19 32.3505 Q1007.19 32.3505 1003.83 36.8065 Q1000.51 41.2625 1000.51 49.3643 Q1000.51 57.4256 1003.83 61.8816 Q1007.19 66.3376 1013.19 66.3376 Q1019.22 66.3376 1022.54 61.8816 Q1025.91 57.4256 1025.91 49.3643 M1033.36 66.9452 Q1033.36 78.5308 1028.21 84.1616 Q1023.07 89.8329 1012.46 89.8329 Q1008.53 89.8329 1005.04 89.2252 Q1001.56 88.6581 998.278 87.4428 L998.278 80.1917 Q1001.56 81.9741 1004.76 82.8248 Q1007.96 83.6755 1011.28 83.6755 Q1018.61 83.6755 1022.26 79.8271 Q1025.91 76.0193 1025.91 68.282 L1025.91 64.5957 Q1023.6 68.6061 1019.99 70.5911 Q1016.39 72.576 1011.36 72.576 Q1003.02 72.576 997.913 66.2161 Q992.809 59.8562 992.809 49.3643 Q992.809 38.832 997.913 32.472 Q1003.02 26.1121 1011.36 26.1121 Q1016.39 26.1121 1019.99 28.0971 Q1023.6 30.082 1025.91 34.0924 L1025.91 27.2059 L1033.36 27.2059 L1033.36 66.9452 Z\" fill=\"#000000\" fill-rule=\"evenodd\" fill-opacity=\"1\" /><path clip-path=\"url(#clip890)\" d=\"M1069.33 49.7694 Q1060.3 49.7694 1056.81 51.8354 Q1053.33 53.9013 1053.33 58.8839 Q1053.33 62.8538 1055.92 65.2034 Q1058.56 67.5124 1063.05 67.5124 Q1069.25 67.5124 1072.98 63.1374 Q1076.74 58.7219 1076.74 51.4303 L1076.74 49.7694 L1069.33 49.7694 M1084.2 46.6907 L1084.2 72.576 L1076.74 72.576 L1076.74 65.6895 Q1074.19 69.8214 1070.38 71.8063 Q1066.58 73.7508 1061.07 73.7508 Q1054.1 73.7508 1049.97 69.8619 Q1045.88 65.9325 1045.88 59.3701 Q1045.88 51.7138 1050.98 47.825 Q1056.12 43.9361 1066.29 43.9361 L1076.74 43.9361 L1076.74 43.2069 Q1076.74 38.0623 1073.34 35.2672 Q1069.98 32.4315 1063.86 32.4315 Q1059.97 32.4315 1056.29 33.3632 Q1052.6 34.295 1049.2 36.1584 L1049.2 29.2718 Q1053.29 27.692 1057.14 26.9223 Q1060.99 26.1121 1064.63 26.1121 Q1074.48 26.1121 1079.34 31.2163 Q1084.2 36.3204 1084.2 46.6907 Z\" fill=\"#000000\" fill-rule=\"evenodd\" fill-opacity=\"1\" /><path clip-path=\"url(#clip890)\" d=\"M1106.92 14.324 L1106.92 27.2059 L1122.28 27.2059 L1122.28 32.9987 L1106.92 32.9987 L1106.92 57.6282 Q1106.92 63.1779 1108.42 64.7578 Q1109.96 66.3376 1114.62 66.3376 L1122.28 66.3376 L1122.28 72.576 L1114.62 72.576 Q1105.99 72.576 1102.71 69.3758 Q1099.43 66.1351 1099.43 57.6282 L1099.43 32.9987 L1093.96 32.9987 L1093.96 27.2059 L1099.43 27.2059 L1099.43 14.324 L1106.92 14.324 Z\" fill=\"#000000\" fill-rule=\"evenodd\" fill-opacity=\"1\" /><path clip-path=\"url(#clip890)\" d=\"M1170.89 48.0275 L1170.89 51.6733 L1136.62 51.6733 Q1137.1 59.3701 1141.23 63.421 Q1145.41 67.4314 1152.82 67.4314 Q1157.11 67.4314 1161.12 66.3781 Q1165.18 65.3249 1169.15 63.2184 L1169.15 70.267 Q1165.13 71.9684 1160.92 72.8596 Q1156.71 73.7508 1152.37 73.7508 Q1141.52 73.7508 1135.16 67.4314 Q1128.84 61.1119 1128.84 50.3365 Q1128.84 39.1965 1134.83 32.6746 Q1140.87 26.1121 1151.08 26.1121 Q1160.23 26.1121 1165.54 32.0264 Q1170.89 37.9003 1170.89 48.0275 M1163.43 45.84 Q1163.35 39.7232 1159.99 36.0774 Q1156.67 32.4315 1151.16 32.4315 Q1144.92 32.4315 1141.15 35.9558 Q1137.43 39.4801 1136.86 45.8805 L1163.43 45.84 Z\" fill=\"#000000\" fill-rule=\"evenodd\" fill-opacity=\"1\" /><path clip-path=\"url(#clip890)\" d=\"M1205.16 27.2059 L1212.61 27.2059 L1221.93 62.6108 L1231.21 27.2059 L1240 27.2059 L1249.31 62.6108 L1258.59 27.2059 L1266.04 27.2059 L1254.17 72.576 L1245.38 72.576 L1235.62 35.3887 L1225.82 72.576 L1217.03 72.576 L1205.16 27.2059 Z\" fill=\"#000000\" fill-rule=\"evenodd\" fill-opacity=\"1\" /><path clip-path=\"url(#clip890)\" d=\"M1277.34 27.2059 L1284.8 27.2059 L1284.8 72.576 L1277.34 72.576 L1277.34 27.2059 M1277.34 9.54393 L1284.8 9.54393 L1284.8 18.9825 L1277.34 18.9825 L1277.34 9.54393 Z\" fill=\"#000000\" fill-rule=\"evenodd\" fill-opacity=\"1\" /><path clip-path=\"url(#clip890)\" d=\"M1307.77 14.324 L1307.77 27.2059 L1323.12 27.2059 L1323.12 32.9987 L1307.77 32.9987 L1307.77 57.6282 Q1307.77 63.1779 1309.27 64.7578 Q1310.81 66.3376 1315.46 66.3376 L1323.12 66.3376 L1323.12 72.576 L1315.46 72.576 Q1306.84 72.576 1303.55 69.3758 Q1300.27 66.1351 1300.27 57.6282 L1300.27 32.9987 L1294.8 32.9987 L1294.8 27.2059 L1300.27 27.2059 L1300.27 14.324 L1307.77 14.324 Z\" fill=\"#000000\" fill-rule=\"evenodd\" fill-opacity=\"1\" /><path clip-path=\"url(#clip890)\" d=\"M1370.64 45.1919 L1370.64 72.576 L1363.18 72.576 L1363.18 45.4349 Q1363.18 38.994 1360.67 35.7938 Q1358.16 32.5936 1353.14 32.5936 Q1347.1 32.5936 1343.62 36.4419 Q1340.13 40.2903 1340.13 46.9338 L1340.13 72.576 L1332.64 72.576 L1332.64 9.54393 L1340.13 9.54393 L1340.13 34.2544 Q1342.81 30.163 1346.41 28.1376 Q1350.06 26.1121 1354.8 26.1121 Q1362.62 26.1121 1366.63 30.9732 Q1370.64 35.7938 1370.64 45.1919 Z\" fill=\"#000000\" fill-rule=\"evenodd\" fill-opacity=\"1\" /><path clip-path=\"url(#clip890)\" d=\"M1420.38 18.8205 L1420.38 65.8515 L1430.27 65.8515 Q1442.78 65.8515 1448.58 60.1802 Q1454.41 54.509 1454.41 42.2752 Q1454.41 30.1225 1448.58 24.4918 Q1442.78 18.8205 1430.27 18.8205 L1420.38 18.8205 M1412.2 12.096 L1429.01 12.096 Q1446.59 12.096 1454.81 19.4281 Q1463.04 26.7198 1463.04 42.2752 Q1463.04 57.9117 1454.77 65.2439 Q1446.51 72.576 1429.01 72.576 L1412.2 72.576 L1412.2 12.096 Z\" fill=\"#000000\" fill-rule=\"evenodd\" fill-opacity=\"1\" /><path clip-path=\"url(#clip890)\" d=\"M1504.76 44.2197 Q1507.4 45.1109 1509.87 48.0275 Q1512.38 50.9442 1514.89 56.0483 L1523.19 72.576 L1514.4 72.576 L1506.67 57.061 Q1503.67 50.9847 1500.83 48.9997 Q1498.04 47.0148 1493.18 47.0148 L1484.27 47.0148 L1484.27 72.576 L1476.08 72.576 L1476.08 12.096 L1494.55 12.096 Q1504.92 12.096 1510.03 16.4305 Q1515.13 20.7649 1515.13 29.5149 Q1515.13 35.2267 1512.46 38.994 Q1509.83 42.7613 1504.76 44.2197 M1484.27 18.8205 L1484.27 40.2903 L1494.55 40.2903 Q1500.47 40.2903 1503.47 37.5762 Q1506.5 34.8216 1506.5 29.5149 Q1506.5 24.2082 1503.47 21.5346 Q1500.47 18.8205 1494.55 18.8205 L1484.27 18.8205 Z\" fill=\"#000000\" fill-rule=\"evenodd\" fill-opacity=\"1\" /><path clip-path=\"url(#clip890)\" d=\"M1550.58 20.1573 L1539.48 50.2555 L1561.72 50.2555 L1550.58 20.1573 M1545.96 12.096 L1555.24 12.096 L1578.29 72.576 L1569.78 72.576 L1564.27 57.061 L1537.01 57.061 L1531.5 72.576 L1522.87 72.576 L1545.96 12.096 Z\" fill=\"#000000\" fill-rule=\"evenodd\" fill-opacity=\"1\" /><path clip-path=\"url(#clip890)\" d=\"M1626.9 63.9476 L1626.9 47.7034 L1613.53 47.7034 L1613.53 40.9789 L1635 40.9789 L1635 66.9452 Q1630.26 70.3075 1624.55 72.0494 Q1618.84 73.7508 1612.35 73.7508 Q1598.18 73.7508 1590.16 65.4869 Q1582.18 57.1826 1582.18 42.3968 Q1582.18 27.5705 1590.16 19.3066 Q1598.18 11.0023 1612.35 11.0023 Q1618.27 11.0023 1623.58 12.4606 Q1628.92 13.9189 1633.42 16.7545 L1633.42 25.464 Q1628.88 21.6156 1623.78 19.6712 Q1618.67 17.7268 1613.04 17.7268 Q1601.94 17.7268 1596.35 23.9246 Q1590.8 30.1225 1590.8 42.3968 Q1590.8 54.6305 1596.35 60.8284 Q1601.94 67.0263 1613.04 67.0263 Q1617.38 67.0263 1620.78 66.2971 Q1624.18 65.5274 1626.9 63.9476 Z\" fill=\"#000000\" fill-rule=\"evenodd\" fill-opacity=\"1\" /><path clip-path=\"url(#clip890)\" d=\"M1683.2 65.7705 L1683.2 89.8329 L1675.71 89.8329 L1675.71 27.2059 L1683.2 27.2059 L1683.2 34.0924 Q1685.55 30.0415 1689.12 28.0971 Q1692.72 26.1121 1697.71 26.1121 Q1705.97 26.1121 1711.12 32.6746 Q1716.3 39.2371 1716.3 49.9314 Q1716.3 60.6258 1711.12 67.1883 Q1705.97 73.7508 1697.71 73.7508 Q1692.72 73.7508 1689.12 71.8063 Q1685.55 69.8214 1683.2 65.7705 M1708.56 49.9314 Q1708.56 41.7081 1705.16 37.0496 Q1701.8 32.3505 1695.88 32.3505 Q1689.97 32.3505 1686.57 37.0496 Q1683.2 41.7081 1683.2 49.9314 Q1683.2 58.1548 1686.57 62.8538 Q1689.97 67.5124 1695.88 67.5124 Q1701.8 67.5124 1705.16 62.8538 Q1708.56 58.1548 1708.56 49.9314 Z\" fill=\"#000000\" fill-rule=\"evenodd\" fill-opacity=\"1\" /><path clip-path=\"url(#clip890)\" d=\"M1727.89 54.671 L1727.89 27.2059 L1735.34 27.2059 L1735.34 54.3874 Q1735.34 60.8284 1737.85 64.0691 Q1740.36 67.2693 1745.39 67.2693 Q1751.42 67.2693 1754.91 63.421 Q1758.43 59.5726 1758.43 52.9291 L1758.43 27.2059 L1765.88 27.2059 L1765.88 72.576 L1758.43 72.576 L1758.43 65.6084 Q1755.72 69.7404 1752.11 71.7658 Q1748.55 73.7508 1743.81 73.7508 Q1735.99 73.7508 1731.94 68.8897 Q1727.89 64.0286 1727.89 54.671 M1746.64 26.1121 L1746.64 26.1121 Z\" fill=\"#000000\" fill-rule=\"evenodd\" fill-opacity=\"1\" /><path clip-path=\"url(#clip890)\" d=\"M1781.24 9.54393 L1788.69 9.54393 L1788.69 72.576 L1781.24 72.576 L1781.24 9.54393 Z\" fill=\"#000000\" fill-rule=\"evenodd\" fill-opacity=\"1\" /><path clip-path=\"url(#clip890)\" d=\"M1833.21 28.5427 L1833.21 35.5912 Q1830.05 33.9709 1826.65 33.1607 Q1823.24 32.3505 1819.6 32.3505 Q1814.05 32.3505 1811.25 34.0519 Q1808.5 35.7533 1808.5 39.156 Q1808.5 41.7486 1810.48 43.2475 Q1812.47 44.7058 1818.46 46.0426 L1821.02 46.6097 Q1828.96 48.3111 1832.28 51.4303 Q1835.64 54.509 1835.64 60.0587 Q1835.64 66.3781 1830.62 70.0644 Q1825.63 73.7508 1816.88 73.7508 Q1813.24 73.7508 1809.27 73.0216 Q1805.34 72.3329 1800.96 70.9151 L1800.96 63.2184 Q1805.1 65.3654 1809.11 66.4591 Q1813.12 67.5124 1817.05 67.5124 Q1822.31 67.5124 1825.15 65.73 Q1827.98 63.9071 1827.98 60.6258 Q1827.98 57.5877 1825.92 55.9673 Q1823.89 54.3469 1816.97 52.8481 L1814.37 52.2405 Q1807.45 50.7821 1804.37 47.7845 Q1801.29 44.7463 1801.29 39.4801 Q1801.29 33.0797 1805.83 29.5959 Q1810.36 26.1121 1818.71 26.1121 Q1822.84 26.1121 1826.49 26.7198 Q1830.13 27.3274 1833.21 28.5427 Z\" fill=\"#000000\" fill-rule=\"evenodd\" fill-opacity=\"1\" /><path clip-path=\"url(#clip890)\" d=\"M1886.32 48.0275 L1886.32 51.6733 L1852.05 51.6733 Q1852.53 59.3701 1856.66 63.421 Q1860.84 67.4314 1868.25 67.4314 Q1872.54 67.4314 1876.55 66.3781 Q1880.61 65.3249 1884.58 63.2184 L1884.58 70.267 Q1880.56 71.9684 1876.35 72.8596 Q1872.14 73.7508 1867.8 73.7508 Q1856.95 73.7508 1850.59 67.4314 Q1844.27 61.1119 1844.27 50.3365 Q1844.27 39.1965 1850.26 32.6746 Q1856.3 26.1121 1866.51 26.1121 Q1875.66 26.1121 1880.97 32.0264 Q1886.32 37.9003 1886.32 48.0275 M1878.86 45.84 Q1878.78 39.7232 1875.42 36.0774 Q1872.1 32.4315 1866.59 32.4315 Q1860.35 32.4315 1856.58 35.9558 Q1852.86 39.4801 1852.29 45.8805 L1878.86 45.84 Z\" fill=\"#000000\" fill-rule=\"evenodd\" fill-opacity=\"1\" /><polyline clip-path=\"url(#clip892)\" style=\"stroke:#009af9; stroke-linecap:round; stroke-linejoin:round; stroke-width:4; stroke-opacity:1; fill:none\" points=\"\n",
       "  335.627,125.82 337.587,125.82 339.548,125.82 341.508,125.82 343.468,125.82 345.429,125.82 347.389,125.82 349.349,125.82 351.31,125.82 353.27,125.82 \n",
       "  355.23,125.82 357.191,125.82 359.151,125.82 361.111,125.82 363.072,125.82 365.032,125.82 366.992,125.821 368.953,125.821 370.913,125.821 372.873,125.821 \n",
       "  374.834,125.821 376.794,125.821 378.754,125.821 380.715,125.821 382.675,125.821 384.635,125.821 386.596,125.821 388.556,125.822 390.516,125.822 392.477,125.822 \n",
       "  394.437,125.822 396.397,125.822 398.358,125.822 400.318,125.822 402.278,125.822 404.239,125.822 406.199,125.823 408.159,125.823 410.12,125.823 412.08,125.823 \n",
       "  414.04,125.824 416.001,125.824 417.961,125.824 419.921,125.824 421.882,125.824 423.842,125.824 425.802,125.825 427.763,125.825 429.723,125.825 431.683,125.825 \n",
       "  433.644,125.825 435.604,125.825 437.564,125.826 439.525,125.826 441.485,125.826 443.445,125.827 445.406,125.827 447.366,125.827 449.326,125.827 451.287,125.827 \n",
       "  453.247,125.827 455.207,125.827 457.168,125.827 459.128,125.828 461.088,125.828 463.049,125.828 465.009,125.828 466.969,125.829 468.93,125.829 470.89,125.829 \n",
       "  472.851,125.829 474.811,125.829 476.771,125.829 478.732,125.829 480.692,125.829 482.652,125.829 484.613,125.829 486.573,125.83 488.533,125.83 490.494,125.83 \n",
       "  492.454,125.83 494.414,125.831 496.375,125.831 498.335,125.831 500.295,125.83 502.256,125.83 504.216,125.83 506.176,125.83 508.137,125.83 510.097,125.83 \n",
       "  512.057,125.831 514.018,125.831 515.978,125.831 517.938,125.831 519.899,125.831 521.859,125.831 523.819,125.831 525.78,125.831 527.74,125.831 529.7,125.831 \n",
       "  531.661,125.831 533.621,125.83 535.581,125.83 537.542,125.83 539.502,125.831 541.462,125.831 543.423,125.831 545.383,125.831 547.343,125.831 549.304,125.831 \n",
       "  551.264,125.831 553.224,125.831 555.185,125.831 557.145,125.831 559.105,125.83 561.066,125.83 563.026,125.83 564.986,125.83 566.947,125.83 568.907,125.831 \n",
       "  570.867,125.831 572.828,125.831 574.788,125.831 576.748,125.831 578.709,125.831 580.669,125.831 582.629,125.831 584.59,125.831 586.55,125.831 588.51,125.831 \n",
       "  590.471,125.832 592.431,125.832 594.391,125.832 596.352,125.833 598.312,125.833 600.272,125.833 602.233,125.834 604.193,125.834 606.153,125.835 608.114,125.835 \n",
       "  610.074,125.835 612.035,125.835 613.995,125.836 615.955,125.836 617.916,125.837 619.876,125.837 621.836,125.838 623.797,125.838 625.757,125.839 627.717,125.84 \n",
       "  629.678,125.841 631.638,125.842 633.598,125.842 635.559,125.843 637.519,125.844 639.479,125.845 641.44,125.845 643.4,125.846 645.36,125.847 647.321,125.848 \n",
       "  649.281,125.849 651.241,125.85 653.202,125.851 655.162,125.852 657.122,125.853 659.083,125.855 661.043,125.856 663.003,125.857 664.964,125.858 666.924,125.86 \n",
       "  668.884,125.861 670.845,125.862 672.805,125.863 674.765,125.864 676.726,125.865 678.686,125.867 680.646,125.868 682.607,125.87 684.567,125.871 686.527,125.873 \n",
       "  688.488,125.874 690.448,125.876 692.408,125.878 694.369,125.879 696.329,125.881 698.289,125.882 700.25,125.884 702.21,125.885 704.17,125.887 706.131,125.888 \n",
       "  708.091,125.889 710.051,125.891 712.012,125.892 713.972,125.894 715.932,125.895 717.893,125.897 719.853,125.899 721.813,125.9 723.774,125.902 725.734,125.904 \n",
       "  727.694,125.905 729.655,125.907 731.615,125.908 733.575,125.909 735.536,125.91 737.496,125.912 739.456,125.913 741.417,125.914 743.377,125.915 745.337,125.916 \n",
       "  747.298,125.917 749.258,125.918 751.219,125.919 753.179,125.921 755.139,125.922 757.1,125.923 759.06,125.924 761.02,125.925 762.981,125.926 764.941,125.926 \n",
       "  766.901,125.927 768.862,125.927 770.822,125.928 772.782,125.928 774.743,125.928 776.703,125.928 778.663,125.929 780.624,125.929 782.584,125.929 784.544,125.929 \n",
       "  786.505,125.93 788.465,125.93 790.425,125.93 792.386,125.93 794.346,125.93 796.306,125.93 798.267,125.93 800.227,125.929 802.187,125.929 804.148,125.928 \n",
       "  806.108,125.927 808.068,125.926 810.029,125.925 811.989,125.924 813.949,125.923 815.91,125.923 817.87,125.922 819.83,125.921 821.791,125.92 823.751,125.919 \n",
       "  825.711,125.919 827.672,125.918 829.632,125.917 831.592,125.915 833.553,125.914 835.513,125.913 837.473,125.911 839.434,125.91 841.394,125.908 843.354,125.906 \n",
       "  845.315,125.905 847.275,125.903 849.235,125.901 851.196,125.9 853.156,125.898 855.116,125.897 857.077,125.896 859.037,125.894 860.997,125.893 862.958,125.892 \n",
       "  864.918,125.89 866.878,125.889 868.839,125.887 870.799,125.886 872.759,125.884 874.72,125.882 876.68,125.88 878.64,125.879 880.601,125.877 882.561,125.875 \n",
       "  884.522,125.873 886.482,125.872 888.442,125.871 890.403,125.869 892.363,125.868 894.323,125.867 896.284,125.866 898.244,125.865 900.204,125.864 902.165,125.863 \n",
       "  904.125,125.862 906.085,125.861 908.046,125.86 910.006,125.859 911.966,125.858 913.927,125.856 915.887,125.855 917.847,125.854 919.808,125.853 921.768,125.852 \n",
       "  923.728,125.852 925.689,125.851 927.649,125.85 929.609,125.85 931.57,125.85 933.53,125.849 935.49,125.849 937.451,125.849 939.411,125.849 941.371,125.848 \n",
       "  943.332,125.848 945.292,125.848 947.252,125.847 949.213,125.847 951.173,125.846 953.133,125.846 955.094,125.845 957.054,125.845 959.014,125.845 960.975,125.844 \n",
       "  962.935,125.844 964.895,125.844 966.856,125.844 968.816,125.844 970.776,125.844 972.737,125.845 974.697,125.845 976.657,125.845 978.618,125.844 980.578,125.844 \n",
       "  982.538,125.844 984.499,125.843 986.459,125.843 988.419,125.842 990.38,125.842 992.34,125.842 994.3,125.843 996.261,125.843 998.221,125.843 1000.18,125.843 \n",
       "  1002.14,125.843 1004.1,125.844 1006.06,125.844 1008.02,125.845 1009.98,125.845 1011.94,125.846 1013.9,125.846 1015.86,125.847 1017.82,125.847 1019.78,125.847 \n",
       "  1021.75,125.847 1023.71,125.847 1025.67,125.847 1027.63,125.846 1029.59,125.845 1031.55,125.844 1033.51,125.843 1035.47,125.842 1037.43,125.841 1039.39,125.841 \n",
       "  1041.35,125.842 1043.31,125.845 1045.27,125.849 1047.23,125.855 1049.19,125.863 1051.15,125.874 1053.11,125.887 1055.07,125.902 1057.03,125.919 1058.99,125.937 \n",
       "  1060.95,125.958 1062.91,125.98 1064.87,126.004 1066.83,126.03 1068.79,126.058 1070.75,126.088 1072.71,126.12 1074.67,126.153 1076.63,126.187 1078.59,126.22 \n",
       "  1080.56,126.251 1082.52,126.281 1084.48,126.308 1086.44,126.332 1088.4,126.353 1090.36,126.37 1092.32,126.383 1094.28,126.393 1096.24,126.4 1098.2,126.404 \n",
       "  1100.16,126.405 1102.12,126.405 1104.08,126.405 1106.04,126.405 1108,126.406 1109.96,126.409 1111.92,126.417 1113.88,126.428 1115.84,126.445 1117.8,126.468 \n",
       "  1119.76,126.498 1121.72,126.535 1123.68,126.581 1125.64,126.635 1127.6,126.699 1129.56,126.772 1131.52,126.856 1133.48,126.951 1135.44,127.057 1137.41,127.176 \n",
       "  1139.37,127.305 1141.33,127.445 1143.29,127.593 1145.25,127.749 1147.21,127.909 1149.17,128.071 1151.13,128.233 1153.09,128.393 1155.05,128.548 1157.01,128.696 \n",
       "  1158.97,128.836 1160.93,128.968 1162.89,129.091 1164.85,129.202 1166.81,129.303 1168.77,129.392 1170.73,129.467 1172.69,129.53 1174.65,129.579 1176.61,129.616 \n",
       "  1178.57,129.641 1180.53,129.656 1182.49,129.663 1184.45,129.666 1186.41,129.666 1188.37,129.667 1190.33,129.672 1192.29,129.684 1194.25,129.706 1196.22,129.741 \n",
       "  1198.18,129.791 1200.14,129.859 1202.1,129.945 1204.06,130.051 1206.02,130.179 1207.98,130.328 1209.94,130.499 1211.9,130.693 1213.86,130.908 1215.82,131.145 \n",
       "  1217.78,131.401 1219.74,131.675 1221.7,131.966 1223.66,132.271 1225.62,132.588 1227.58,132.914 1229.54,133.245 1231.5,133.578 1233.46,133.91 1235.42,134.236 \n",
       "  1237.38,134.553 1239.34,134.858 1241.3,135.146 1243.26,135.414 1245.22,135.661 1247.18,135.883 1249.14,136.08 1251.1,136.252 1253.07,136.398 1255.03,136.52 \n",
       "  1256.99,136.619 1258.95,136.695 1260.91,136.751 1262.87,136.789 1264.83,136.813 1266.79,136.825 1268.75,136.829 1270.71,136.829 1272.67,136.83 1274.63,136.836 \n",
       "  1276.59,136.852 1278.55,136.881 1280.51,136.928 1282.47,136.997 1284.43,137.091 1286.39,137.212 1288.35,137.363 1290.31,137.546 1292.27,137.762 1294.23,138.012 \n",
       "  1296.19,138.298 1298.15,138.618 1300.11,138.972 1302.07,139.36 1304.03,139.779 1305.99,140.228 1307.95,140.705 1309.91,141.207 1311.88,141.73 1313.84,142.271 \n",
       "  1315.8,142.825 1317.76,143.387 1319.72,143.951 1321.68,144.512 1323.64,145.065 1325.6,145.601 1327.56,146.115 1329.52,146.599 1331.48,147.048 1333.44,147.455 \n",
       "  1335.4,147.815 1337.36,148.125 1339.32,148.384 1341.28,148.593 1343.24,148.752 1345.2,148.868 1347.16,148.946 1349.12,148.992 1351.08,149.015 1353.04,149.023 \n",
       "  1355,149.023 1356.96,149.026 1358.92,149.038 1360.88,149.069 1362.84,149.127 1364.8,149.22 1366.76,149.353 1368.73,149.535 1370.69,149.771 1372.65,150.063 \n",
       "  1374.61,150.416 1376.57,150.83 1378.53,151.307 1380.49,151.845 1382.45,152.443 1384.41,153.099 1386.37,153.808 1388.33,154.569 1390.29,155.375 1392.25,156.223 \n",
       "  1394.21,157.109 1396.17,158.026 1398.13,158.968 1400.09,159.929 1402.05,160.898 1404.01,161.867 1405.97,162.824 1407.93,163.757 1409.89,164.654 1411.85,165.502 \n",
       "  1413.81,166.289 1415.77,167.007 1417.73,167.648 1419.69,168.206 1421.65,168.68 1423.61,169.07 1425.57,169.38 1427.54,169.614 1429.5,169.78 1431.46,169.888 \n",
       "  1433.42,169.95 1435.38,169.977 1437.34,169.984 1439.3,169.984 1441.26,169.989 1443.22,170.013 1445.18,170.066 1447.14,170.16 1449.1,170.304 1451.06,170.505 \n",
       "  1453.02,170.772 1454.98,171.113 1456.94,171.532 1458.9,172.038 1460.86,172.634 1462.82,173.327 1464.78,174.12 1466.74,175.017 1468.7,176.023 1470.66,177.138 \n",
       "  1472.62,178.365 1474.58,179.704 1476.54,181.153 1478.5,182.71 1480.46,184.371 1482.42,186.13 1484.38,187.981 1486.35,189.916 1488.31,191.924 1490.27,193.993 \n",
       "  1492.23,196.105 1494.19,198.24 1496.15,200.373 1498.11,202.475 1500.07,204.508 1502.03,206.434 1503.99,208.209 1505.95,209.794 1507.91,211.157 1509.87,212.274 \n",
       "  1511.83,213.141 1513.79,213.764 1515.75,214.172 1517.71,214.405 1519.67,214.509 1521.63,214.536 1523.59,214.536 1525.55,214.553 1527.51,214.627 1529.47,214.792 \n",
       "  1531.43,215.076 1533.39,215.499 1535.35,216.079 1537.31,216.827 1539.27,217.752 1541.23,218.858 1543.2,220.151 1545.16,221.632 1547.12,223.303 1549.08,225.165 \n",
       "  1551.04,227.215 1553,229.455 1554.96,231.881 1556.92,234.495 1558.88,237.292 1560.84,240.271 1562.8,243.427 1564.76,246.753 1566.72,250.24 1568.68,253.877 \n",
       "  1570.64,257.649 1572.6,261.539 1574.56,265.526 1576.52,269.582 1578.48,273.674 1580.44,277.766 1582.4,281.811 1584.36,285.761 1586.32,289.557 1588.28,293.139 \n",
       "  1590.24,296.439 1592.2,299.392 1594.16,301.933 1596.12,304.012 1598.08,305.595 1600.04,306.676 1602.01,307.278 1603.97,307.449 1605.93,307.258 1607.89,306.787 \n",
       "  1609.85,306.115 1611.81,305.319 1613.77,304.465 1615.73,303.605 1617.69,302.783 1619.65,302.027 1621.61,301.36 1623.57,300.792 1625.53,300.329 1627.49,299.969 \n",
       "  1629.45,299.702 1631.41,299.518 1633.37,299.402 1635.33,299.337 1637.29,299.307 1639.25,299.297 1641.21,299.296 1643.17,299.01 1645.13,298.746 1647.09,298.502 \n",
       "  1649.05,298.276 1651.01,298.066 1652.97,297.872 1654.93,297.689 1656.89,297.518 1658.86,297.355 1660.82,297.197 1662.78,297.042 1664.74,296.888 1666.7,296.73 \n",
       "  1668.66,296.567 1670.62,296.395 1672.58,296.211 1674.54,296.014 1676.5,295.802 1678.46,295.572 1680.42,295.324 1682.38,295.056 1684.34,294.767 1686.3,294.458 \n",
       "  1688.26,294.126 1690.22,293.772 1692.18,293.395 1694.14,292.996 1696.1,292.573 1698.06,292.128 1700.02,291.661 1701.98,291.173 1703.94,290.664 1705.9,290.136 \n",
       "  1707.86,289.588 1709.82,289.023 1711.78,288.44 1713.74,287.84 1715.7,287.225 1717.67,286.595 1719.63,285.95 1721.59,285.293 1723.55,284.625 1725.51,283.948 \n",
       "  1727.47,283.263 1729.43,282.572 1731.39,281.878 1733.35,281.183 1735.31,280.487 1737.27,279.794 1739.23,279.103 1741.19,278.417 1743.15,277.735 1745.11,277.06 \n",
       "  1747.07,276.392 1749.03,275.733 1750.99,275.082 1752.95,274.44 1754.91,273.809 1756.87,273.188 1758.83,272.578 1760.79,271.979 1762.75,271.391 1764.71,270.814 \n",
       "  1766.67,270.247 1768.63,269.692 1770.59,269.149 1772.55,268.617 1774.51,268.098 1776.48,267.593 1778.44,267.102 1780.4,266.627 1782.36,266.166 1784.32,265.722 \n",
       "  1786.28,265.294 1788.24,264.881 1790.2,264.484 1792.16,264.103 1794.12,263.737 1796.08,263.386 1798.04,263.05 1800,262.729 1801.96,262.423 1803.92,262.131 \n",
       "  1805.88,261.854 1807.84,261.591 1809.8,261.342 1811.76,261.107 1813.72,260.886 1815.68,260.679 1817.64,260.486 1819.6,260.307 1821.56,260.143 1823.52,259.993 \n",
       "  1825.48,259.86 1827.44,259.742 1829.4,259.641 1831.36,259.555 1833.33,259.485 1835.29,259.43 1837.25,259.39 1839.21,259.364 1841.17,259.351 1843.13,259.352 \n",
       "  1845.09,259.365 1847.05,259.392 1849.01,259.431 1850.97,259.484 1852.93,259.55 1854.89,259.631 1856.85,259.725 1858.81,259.833 1860.77,259.955 1862.73,260.091 \n",
       "  1864.69,260.241 1866.65,260.405 1868.61,260.584 1870.57,260.777 1872.53,260.984 1874.49,261.206 1876.45,261.442 1878.41,261.692 1880.37,261.956 1882.33,262.233 \n",
       "  1884.29,262.523 1886.25,262.825 1888.21,263.139 1890.17,263.464 1892.14,263.802 1894.1,264.151 1896.06,264.514 1898.02,264.891 1899.98,265.282 1901.94,265.687 \n",
       "  1903.9,266.108 1905.86,266.543 1907.82,266.993 1909.78,267.456 1911.74,267.933 1913.7,268.423 1915.66,268.925 1917.62,269.439 1919.58,269.966 1921.54,270.504 \n",
       "  1923.5,271.055 1925.46,271.618 1927.42,272.194 1929.38,272.781 1931.34,273.382 1933.3,273.994 1935.26,274.619 1937.22,275.256 1939.18,275.906 1941.14,276.569 \n",
       "  1943.1,277.244 1945.06,277.933 1947.02,278.635 1948.99,279.35 1950.95,280.077 1952.91,280.815 1954.87,281.564 1956.83,282.323 1958.79,283.089 1960.75,283.863 \n",
       "  1962.71,284.645 1964.67,285.433 1966.63,286.229 1968.59,287.032 1970.55,287.845 1972.51,288.666 1974.47,289.496 1976.43,290.336 1978.39,291.182 1980.35,292.035 \n",
       "  1982.31,292.892 1984.27,293.752 1986.23,294.612 1988.19,295.471 1990.15,296.328 1992.11,297.183 1994.07,298.033 1996.03,298.879 1997.99,299.72 1999.95,300.554 \n",
       "  2001.91,301.381 2003.87,302.2 2005.83,303.008 2007.8,303.805 2009.76,304.589 2011.72,305.359 2013.68,306.112 2015.64,306.848 2017.6,307.566 2019.56,308.264 \n",
       "  2021.52,308.94 2023.48,309.592 2025.44,310.218 2027.4,310.817 2029.36,311.385 2031.32,311.921 2033.28,312.425 2035.24,312.896 2037.2,313.336 2039.16,313.744 \n",
       "  2041.12,314.124 2043.08,314.476 2045.04,314.801 2047,315.1 2048.96,315.374 2050.92,315.621 2052.88,315.841 2054.84,316.032 2056.8,316.195 2058.76,316.329 \n",
       "  2060.72,316.436 2062.68,316.518 2064.65,316.578 2066.61,316.618 2068.57,316.644 2070.53,316.656 2072.49,316.659 2074.45,316.653 2076.41,316.641 2078.37,316.622 \n",
       "  2080.33,316.597 2082.29,316.565 2084.25,316.528 2086.21,316.486 2088.17,316.44 2090.13,316.391 2092.09,316.343 2094.05,316.296 2096.01,316.253 2097.97,316.214 \n",
       "  2099.93,316.181 2101.89,316.155 2103.85,316.136 2105.81,316.127 2107.77,316.127 2109.73,316.137 2111.69,316.159 2113.65,316.192 2115.61,316.237 2117.57,316.295 \n",
       "  2119.53,316.364 2121.49,316.445 2123.46,316.538 2125.42,316.642 2127.38,316.757 2129.34,316.886 2131.3,317.028 2133.26,317.187 2135.22,317.364 2137.18,317.56 \n",
       "  2139.14,317.777 2141.1,318.014 2143.06,318.27 2145.02,318.544 2146.98,318.834 2148.94,319.137 2150.9,319.455 2152.86,319.786 2154.82,320.132 2156.78,320.496 \n",
       "  2158.74,320.881 2160.7,321.289 2162.66,321.722 2164.62,322.18 2166.58,322.664 2168.54,323.171 2170.5,323.7 2172.46,324.247 2174.42,324.812 2176.38,325.395 \n",
       "  2178.34,325.996 2180.3,326.618 2182.27,327.262 2184.23,327.932 2186.19,328.631 2188.15,329.359 2190.11,330.119 2192.07,330.909 2194.03,331.729 2195.99,332.576 \n",
       "  2197.95,333.45 2199.91,334.349 2201.87,335.274 2203.83,336.226 2205.79,337.208 2207.75,338.222 2209.71,339.272 2211.67,340.361 2213.63,341.491 2215.59,342.662 \n",
       "  2217.55,343.875 2219.51,345.131 2221.47,346.429 2223.43,347.77 2225.39,349.156 2227.35,350.587 2229.31,352.067 2231.27,353.6 2233.23,355.188 2235.19,356.836 \n",
       "  2237.15,358.547 2239.12,360.326 2241.08,362.179 2243.04,364.109 2245,366.124 2246.96,368.229 2248.92,370.432 2250.88,372.738 2252.84,375.154 2254.8,377.686 \n",
       "  2256.76,380.343 2258.72,383.138 2260.68,386.085 2262.64,389.207 2264.6,392.529 2266.56,396.085 2268.52,399.911 2270.48,404.053 2272.44,408.564 2274.4,413.506 \n",
       "  2276.36,418.958 2278.32,425.025 2280.28,431.857 2282.24,439.681 2284.2,448.858 2286.16,460.006 2288.12,474.29 2290.08,494.314 2292.04,528.305 2294,666.015 \n",
       "  \n",
       "  \"/>\n",
       "<polyline clip-path=\"url(#clip892)\" style=\"stroke:#e26f46; stroke-linecap:round; stroke-linejoin:round; stroke-width:4; stroke-opacity:1; fill:none\" points=\"\n",
       "  335.627,1621.15 337.587,529.154 339.548,494.715 341.508,474.456 343.468,460.01 345.429,448.756 347.389,439.526 349.349,431.699 351.31,424.903 353.27,418.896 \n",
       "  355.23,413.512 357.191,408.63 359.151,404.162 361.111,400.039 363.072,396.209 365.032,392.632 366.992,389.277 368.953,386.123 370.913,383.15 372.873,380.342 \n",
       "  374.834,377.686 376.794,375.167 378.754,372.772 380.715,370.49 382.675,368.308 384.635,366.216 386.596,364.206 388.556,362.272 390.516,360.409 392.477,358.615 \n",
       "  394.437,356.888 396.397,355.227 398.358,353.631 400.318,352.097 402.278,350.622 404.239,349.201 406.199,347.829 408.159,346.501 410.12,345.213 412.08,343.963 \n",
       "  414.04,342.749 416.001,341.571 417.961,340.431 419.921,339.33 421.882,338.268 423.842,337.246 425.802,336.261 427.763,335.312 429.723,334.395 431.683,333.506 \n",
       "  433.644,332.643 435.604,331.804 437.564,330.99 439.525,330.2 441.485,329.436 443.445,328.699 445.406,327.991 447.366,327.31 449.326,326.657 451.287,326.031 \n",
       "  453.247,325.43 455.207,324.851 457.168,324.293 459.128,323.755 461.088,323.236 463.049,322.736 465.009,322.255 466.969,321.795 468.93,321.356 470.89,320.939 \n",
       "  472.851,320.543 474.811,320.169 476.771,319.815 478.732,319.48 480.692,319.165 482.652,318.867 484.613,318.586 486.573,318.321 488.533,318.073 490.494,317.84 \n",
       "  492.454,317.624 494.414,317.423 496.375,317.238 498.335,317.069 500.295,316.916 502.256,316.778 504.216,316.658 506.176,316.553 508.137,316.463 510.097,316.388 \n",
       "  512.057,316.325 514.018,316.274 515.978,316.233 517.938,316.2 519.899,316.176 521.859,316.16 523.819,316.152 525.78,316.154 527.74,316.165 529.7,316.186 \n",
       "  531.661,316.217 533.621,316.256 535.581,316.3 537.542,316.349 539.502,316.398 541.462,316.445 543.423,316.489 545.383,316.527 547.343,316.56 549.304,316.588 \n",
       "  551.264,316.61 553.224,316.629 555.185,316.642 557.145,316.648 559.105,316.647 561.066,316.633 563.026,316.605 564.986,316.558 566.947,316.49 568.907,316.399 \n",
       "  570.867,316.283 572.828,316.143 574.788,315.978 576.748,315.789 578.709,315.574 580.669,315.333 582.629,315.066 584.59,314.772 586.55,314.449 588.51,314.096 \n",
       "  590.471,313.712 592.431,313.298 594.391,312.852 596.352,312.374 598.312,311.865 600.272,311.325 602.233,310.756 604.193,310.158 606.153,309.533 608.114,308.883 \n",
       "  610.074,308.21 612.035,307.515 613.995,306.802 615.955,306.07 617.916,305.323 619.876,304.56 621.836,303.782 623.797,302.99 625.757,302.183 627.717,301.364 \n",
       "  629.678,300.532 631.638,299.691 633.598,298.842 635.559,297.988 637.519,297.133 639.479,296.276 641.44,295.422 643.4,294.569 645.36,293.72 647.321,292.873 \n",
       "  649.281,292.029 651.241,291.187 653.202,290.347 655.162,289.511 657.122,288.679 659.083,287.852 661.043,287.032 663.003,286.219 664.964,285.415 666.924,284.621 \n",
       "  668.884,283.837 670.845,283.063 672.805,282.3 674.765,281.548 676.726,280.806 678.686,280.076 680.646,279.356 682.607,278.648 684.567,277.951 686.527,277.265 \n",
       "  688.488,276.59 690.448,275.927 692.408,275.274 694.369,274.633 696.329,274.003 698.289,273.386 700.25,272.781 702.21,272.19 704.17,271.612 706.131,271.049 \n",
       "  708.091,270.5 710.051,269.965 712.012,269.443 713.972,268.934 715.932,268.438 717.893,267.954 719.853,267.481 721.813,267.02 723.774,266.571 725.734,266.135 \n",
       "  727.694,265.711 729.655,265.302 731.615,264.906 733.575,264.524 735.536,264.157 737.496,263.803 739.456,263.464 741.417,263.138 743.377,262.825 745.337,262.526 \n",
       "  747.298,262.24 749.258,261.968 751.219,261.708 753.179,261.462 755.139,261.229 757.1,261.009 759.06,260.802 761.02,260.608 762.981,260.427 764.941,260.26 \n",
       "  766.901,260.106 768.862,259.965 770.822,259.84 772.782,259.729 774.743,259.633 776.703,259.552 778.663,259.486 780.624,259.434 782.584,259.395 784.544,259.371 \n",
       "  786.505,259.359 788.465,259.36 790.425,259.375 792.386,259.403 794.346,259.444 796.306,259.5 798.267,259.571 800.227,259.656 802.187,259.756 804.148,259.872 \n",
       "  806.108,260.003 808.068,260.148 810.029,260.309 811.989,260.484 813.949,260.674 815.91,260.879 817.87,261.099 819.83,261.334 821.791,261.585 823.751,261.849 \n",
       "  825.711,262.129 827.672,262.422 829.632,262.73 831.592,263.051 833.553,263.387 835.513,263.737 837.473,264.102 839.434,264.483 841.394,264.88 843.354,265.292 \n",
       "  845.315,265.721 847.275,266.165 849.235,266.625 851.196,267.099 853.156,267.587 855.116,268.088 857.077,268.603 859.037,269.13 860.997,269.67 862.958,270.223 \n",
       "  864.918,270.788 866.878,271.366 868.839,271.956 870.799,272.558 872.759,273.171 874.72,273.794 876.68,274.427 878.64,275.07 880.601,275.722 882.561,276.383 \n",
       "  884.522,277.052 886.482,277.729 888.442,278.412 890.403,279.1 892.363,279.791 894.323,280.484 896.284,281.177 898.244,281.867 900.204,282.555 902.165,283.238 \n",
       "  904.125,283.915 906.085,284.587 908.046,285.251 910.006,285.908 911.966,286.556 913.927,287.192 915.887,287.816 917.847,288.425 919.808,289.018 921.768,289.592 \n",
       "  923.728,290.148 925.689,290.683 927.649,291.198 929.609,291.691 931.57,292.161 933.53,292.608 935.49,293.03 937.451,293.427 939.411,293.799 941.371,294.147 \n",
       "  943.332,294.47 945.292,294.77 947.252,295.051 949.213,295.313 951.173,295.558 953.133,295.788 955.094,296.005 957.054,296.21 959.014,296.402 960.975,296.585 \n",
       "  962.935,296.759 964.895,296.926 966.856,297.089 968.816,297.251 970.776,297.414 972.737,297.582 974.697,297.755 976.657,297.937 978.618,298.129 980.578,298.334 \n",
       "  982.538,298.552 984.499,298.787 986.459,299.041 988.419,299.317 990.38,299.315 992.34,299.302 994.3,299.268 996.261,299.199 998.221,299.08 1000.18,298.9 \n",
       "  1002.14,298.648 1004.1,298.319 1006.06,297.916 1008.02,297.447 1009.98,296.93 1011.94,296.389 1013.9,295.856 1015.86,295.37 1017.82,294.974 1019.78,294.715 \n",
       "  1021.75,294.644 1023.71,294.816 1025.67,295.286 1027.63,296.115 1029.59,297.369 1031.55,299.113 1033.51,301.419 1035.47,304.349 1037.43,307.951 1039.39,312.211 \n",
       "  1041.35,316.971 1043.31,321.73 1045.27,325.386 1047.23,326.251 1049.19,323.101 1051.15,316.442 1053.11,307.937 1055.07,299 1057.03,290.369 1058.99,282.333 \n",
       "  1060.95,274.963 1062.91,268.246 1064.87,262.138 1066.83,256.588 1068.79,251.552 1070.75,246.989 1072.71,242.864 1074.67,239.148 1076.63,235.817 1078.59,232.846 \n",
       "  1080.56,230.213 1082.52,227.897 1084.48,225.88 1086.44,224.144 1088.4,222.674 1090.36,221.455 1092.32,220.475 1094.28,219.719 1096.24,219.174 1098.2,218.827 \n",
       "  1100.16,218.659 1102.12,218.651 1104.08,218.775 1106.04,218.999 1108,219.279 1109.96,219.564 1111.92,219.794 1113.88,219.904 1115.84,219.826 1117.8,219.498 \n",
       "  1119.76,218.872 1121.72,217.92 1123.68,216.636 1125.64,215.038 1127.6,213.16 1129.56,211.053 1131.52,208.771 1133.48,206.371 1135.44,203.907 1137.41,201.425 \n",
       "  1139.37,198.966 1141.33,196.564 1143.29,194.245 1145.25,192.029 1147.21,189.931 1149.17,187.962 1151.13,186.127 1153.09,184.431 1155.05,182.876 1157.01,181.461 \n",
       "  1158.97,180.182 1160.93,179.037 1162.89,178.021 1164.85,177.127 1166.81,176.351 1168.77,175.687 1170.73,175.128 1172.69,174.669 1174.65,174.302 1176.61,174.021 \n",
       "  1178.57,173.817 1180.53,173.681 1182.49,173.604 1184.45,173.572 1186.41,173.572 1188.37,173.589 1190.33,173.605 1192.29,173.603 1194.25,173.564 1196.22,173.471 \n",
       "  1198.18,173.308 1200.14,173.06 1202.1,172.717 1204.06,172.272 1206.02,171.724 1207.98,171.074 1209.94,170.328 1211.9,169.497 1213.86,168.592 1215.82,167.627 \n",
       "  1217.78,166.617 1219.74,165.576 1221.7,164.519 1223.66,163.461 1225.62,162.413 1227.58,161.386 1229.54,160.389 1231.5,159.429 1233.46,158.511 1235.42,157.639 \n",
       "  1237.38,156.818 1239.34,156.048 1241.3,155.333 1243.26,154.673 1245.22,154.068 1247.18,153.52 1249.14,153.028 1251.1,152.594 1253.07,152.217 1255.03,151.897 \n",
       "  1256.99,151.632 1258.95,151.421 1260.91,151.259 1262.87,151.142 1264.83,151.064 1266.79,151.02 1268.75,151.001 1270.71,150.999 1272.67,151.006 1274.63,151.011 \n",
       "  1276.59,151.006 1278.55,150.984 1280.51,150.936 1282.47,150.855 1284.43,150.737 1286.39,150.577 1288.35,150.371 1290.31,150.12 1292.27,149.821 1294.23,149.476 \n",
       "  1296.19,149.088 1298.15,148.658 1300.11,148.192 1302.07,147.692 1304.03,147.165 1305.99,146.614 1307.95,146.046 1309.91,145.465 1311.88,144.877 1313.84,144.286 \n",
       "  1315.8,143.699 1317.76,143.12 1319.72,142.556 1321.68,142.01 1323.64,141.487 1325.6,140.994 1327.56,140.532 1329.52,140.108 1331.48,139.723 1333.44,139.379 \n",
       "  1335.4,139.078 1337.36,138.82 1339.32,138.604 1341.28,138.427 1343.24,138.288 1345.2,138.183 1347.16,138.108 1349.12,138.059 1351.08,138.03 1353.04,138.017 \n",
       "  1355,138.015 1356.96,138.018 1358.92,138.022 1360.88,138.022 1362.84,138.014 1364.8,137.992 1366.76,137.955 1368.73,137.897 1370.69,137.817 1372.65,137.712 \n",
       "  1374.61,137.58 1376.57,137.419 1378.53,137.23 1380.49,137.011 1382.45,136.764 1384.41,136.49 1386.37,136.191 1388.33,135.87 1390.29,135.531 1392.25,135.177 \n",
       "  1394.21,134.812 1396.17,134.442 1398.13,134.072 1400.09,133.706 1402.05,133.348 1404.01,133.003 1405.97,132.675 1407.93,132.366 1409.89,132.078 1411.85,131.813 \n",
       "  1413.81,131.573 1415.77,131.358 1417.73,131.167 1419.69,131 1421.65,130.856 1423.61,130.733 1425.57,130.631 1427.54,130.548 1429.5,130.483 1431.46,130.434 \n",
       "  1433.42,130.398 1435.38,130.375 1437.34,130.363 1439.3,130.36 1441.26,130.363 1443.22,130.371 1445.18,130.38 1447.14,130.387 1449.1,130.391 1451.06,130.389 \n",
       "  1453.02,130.377 1454.98,130.353 1456.94,130.316 1458.9,130.263 1460.86,130.194 1462.82,130.108 1464.78,130.006 1466.74,129.888 1468.7,129.756 1470.66,129.611 \n",
       "  1472.62,129.457 1474.58,129.295 1476.54,129.129 1478.5,128.959 1480.46,128.788 1482.42,128.618 1484.38,128.45 1486.35,128.285 1488.31,128.125 1490.27,127.969 \n",
       "  1492.23,127.818 1494.19,127.674 1496.15,127.536 1498.11,127.404 1500.07,127.28 1502.03,127.163 1503.99,127.055 1505.95,126.956 1507.91,126.867 1509.87,126.789 \n",
       "  1511.83,126.723 1513.79,126.667 1515.75,126.624 1517.71,126.592 1519.67,126.57 1521.63,126.559 1523.59,126.555 1525.55,126.559 1527.51,126.568 1529.47,126.579 \n",
       "  1531.43,126.593 1533.39,126.606 1535.35,126.617 1537.31,126.625 1539.27,126.629 1541.23,126.628 1543.2,126.622 1545.16,126.611 1547.12,126.595 1549.08,126.574 \n",
       "  1551.04,126.549 1553,126.52 1554.96,126.487 1556.92,126.452 1558.88,126.413 1560.84,126.373 1562.8,126.331 1564.76,126.288 1566.72,126.244 1568.68,126.2 \n",
       "  1570.64,126.157 1572.6,126.114 1574.56,126.074 1576.52,126.037 1578.48,126.002 1580.44,125.97 1582.4,125.943 1584.36,125.918 1586.32,125.898 1588.28,125.881 \n",
       "  1590.24,125.868 1592.2,125.857 1594.16,125.85 1596.12,125.845 1598.08,125.841 1600.04,125.839 1602.01,125.838 1603.97,125.838 1605.93,125.838 1607.89,125.839 \n",
       "  1609.85,125.839 1611.81,125.839 1613.77,125.84 1615.73,125.84 1617.69,125.84 1619.65,125.84 1621.61,125.84 1623.57,125.841 1625.53,125.841 1627.49,125.841 \n",
       "  1629.45,125.841 1631.41,125.841 1633.37,125.841 1635.33,125.841 1637.29,125.841 1639.25,125.841 1641.21,125.841 1643.17,125.841 1645.13,125.842 1647.09,125.842 \n",
       "  1649.05,125.843 1651.01,125.843 1652.97,125.843 1654.93,125.844 1656.89,125.844 1658.86,125.844 1660.82,125.844 1662.78,125.844 1664.74,125.844 1666.7,125.844 \n",
       "  1668.66,125.844 1670.62,125.845 1672.58,125.845 1674.54,125.845 1676.5,125.845 1678.46,125.846 1680.42,125.846 1682.38,125.846 1684.34,125.846 1686.3,125.846 \n",
       "  1688.26,125.846 1690.22,125.847 1692.18,125.847 1694.14,125.848 1696.1,125.849 1698.06,125.849 1700.02,125.85 1701.98,125.851 1703.94,125.851 1705.9,125.852 \n",
       "  1707.86,125.852 1709.82,125.853 1711.78,125.854 1713.74,125.855 1715.7,125.855 1717.67,125.856 1719.63,125.858 1721.59,125.859 1723.55,125.86 1725.51,125.861 \n",
       "  1727.47,125.862 1729.43,125.863 1731.39,125.864 1733.35,125.865 1735.31,125.866 1737.27,125.867 1739.23,125.869 1741.19,125.87 1743.15,125.872 1745.11,125.874 \n",
       "  1747.07,125.875 1749.03,125.877 1750.99,125.879 1752.95,125.88 1754.91,125.881 1756.87,125.883 1758.83,125.884 1760.79,125.886 1762.75,125.887 1764.71,125.889 \n",
       "  1766.67,125.89 1768.63,125.892 1770.59,125.894 1772.55,125.895 1774.51,125.897 1776.48,125.898 1778.44,125.9 1780.4,125.901 1782.36,125.903 1784.32,125.904 \n",
       "  1786.28,125.906 1788.24,125.907 1790.2,125.909 1792.16,125.911 1794.12,125.912 1796.08,125.914 1798.04,125.915 1800,125.916 1801.96,125.917 1803.92,125.918 \n",
       "  1805.88,125.919 1807.84,125.92 1809.8,125.921 1811.76,125.921 1813.72,125.922 1815.68,125.923 1817.64,125.924 1819.6,125.925 1821.56,125.926 1823.52,125.927 \n",
       "  1825.48,125.927 1827.44,125.928 1829.4,125.928 1831.36,125.929 1833.33,125.929 1835.29,125.929 1837.25,125.93 1839.21,125.93 1841.17,125.93 1843.13,125.93 \n",
       "  1845.09,125.93 1847.05,125.93 1849.01,125.929 1850.97,125.929 1852.93,125.928 1854.89,125.928 1856.85,125.927 1858.81,125.927 1860.77,125.926 1862.73,125.926 \n",
       "  1864.69,125.925 1866.65,125.925 1868.61,125.925 1870.57,125.924 1872.53,125.923 1874.49,125.922 1876.45,125.921 1878.41,125.92 1880.37,125.919 1882.33,125.917 \n",
       "  1884.29,125.916 1886.25,125.915 1888.21,125.914 1890.17,125.913 1892.14,125.911 1894.1,125.91 1896.06,125.909 1898.02,125.907 1899.98,125.906 1901.94,125.904 \n",
       "  1903.9,125.903 1905.86,125.902 1907.82,125.9 1909.78,125.899 1911.74,125.898 1913.7,125.896 1915.66,125.895 1917.62,125.894 1919.58,125.892 1921.54,125.89 \n",
       "  1923.5,125.888 1925.46,125.887 1927.42,125.885 1929.38,125.883 1931.34,125.881 1933.3,125.88 1935.26,125.878 1937.22,125.877 1939.18,125.876 1941.14,125.875 \n",
       "  1943.1,125.873 1945.06,125.872 1947.02,125.871 1948.99,125.869 1950.95,125.868 1952.91,125.866 1954.87,125.865 1956.83,125.863 1958.79,125.862 1960.75,125.861 \n",
       "  1962.71,125.859 1964.67,125.858 1966.63,125.857 1968.59,125.856 1970.55,125.854 1972.51,125.853 1974.47,125.852 1976.43,125.851 1978.39,125.85 1980.35,125.849 \n",
       "  1982.31,125.848 1984.27,125.848 1986.23,125.847 1988.19,125.846 1990.15,125.845 1992.11,125.844 1994.07,125.843 1996.03,125.842 1997.99,125.841 1999.95,125.84 \n",
       "  2001.91,125.839 2003.87,125.839 2005.83,125.838 2007.8,125.838 2009.76,125.838 2011.72,125.837 2013.68,125.837 2015.64,125.837 2017.6,125.836 2019.56,125.836 \n",
       "  2021.52,125.835 2023.48,125.835 2025.44,125.834 2027.4,125.833 2029.36,125.833 2031.32,125.833 2033.28,125.833 2035.24,125.832 2037.2,125.832 2039.16,125.832 \n",
       "  2041.12,125.832 2043.08,125.832 2045.04,125.832 2047,125.832 2048.96,125.831 2050.92,125.831 2052.88,125.831 2054.84,125.831 2056.8,125.831 2058.76,125.831 \n",
       "  2060.72,125.831 2062.68,125.831 2064.65,125.831 2066.61,125.831 2068.57,125.831 2070.53,125.83 2072.49,125.83 2074.45,125.83 2076.41,125.831 2078.37,125.831 \n",
       "  2080.33,125.831 2082.29,125.831 2084.25,125.831 2086.21,125.831 2088.17,125.831 2090.13,125.831 2092.09,125.831 2094.05,125.831 2096.01,125.831 2097.97,125.83 \n",
       "  2099.93,125.83 2101.89,125.831 2103.85,125.831 2105.81,125.831 2107.77,125.831 2109.73,125.831 2111.69,125.832 2113.65,125.831 2115.61,125.831 2117.57,125.831 \n",
       "  2119.53,125.831 2121.49,125.831 2123.46,125.83 2125.42,125.83 2127.38,125.83 2129.34,125.831 2131.3,125.831 2133.26,125.831 2135.22,125.831 2137.18,125.831 \n",
       "  2139.14,125.831 2141.1,125.83 2143.06,125.83 2145.02,125.83 2146.98,125.83 2148.94,125.83 2150.9,125.829 2152.86,125.829 2154.82,125.829 2156.78,125.829 \n",
       "  2158.74,125.829 2160.7,125.829 2162.66,125.829 2164.62,125.829 2166.58,125.828 2168.54,125.828 2170.5,125.828 2172.46,125.828 2174.42,125.828 2176.38,125.828 \n",
       "  2178.34,125.828 2180.3,125.827 2182.27,125.827 2184.23,125.827 2186.19,125.826 2188.15,125.826 2190.11,125.826 2192.07,125.826 2194.03,125.826 2195.99,125.826 \n",
       "  2197.95,125.826 2199.91,125.826 2201.87,125.825 2203.83,125.825 2205.79,125.825 2207.75,125.824 2209.71,125.824 2211.67,125.824 2213.63,125.824 2215.59,125.823 \n",
       "  2217.55,125.823 2219.51,125.823 2221.47,125.823 2223.43,125.823 2225.39,125.823 2227.35,125.823 2229.31,125.823 2231.27,125.822 2233.23,125.822 2235.19,125.822 \n",
       "  2237.15,125.822 2239.12,125.821 2241.08,125.821 2243.04,125.822 2245,125.822 2246.96,125.822 2248.92,125.822 2250.88,125.822 2252.84,125.821 2254.8,125.821 \n",
       "  2256.76,125.821 2258.72,125.82 2260.68,125.82 2262.64,125.82 2264.6,125.82 2266.56,125.82 2268.52,125.82 2270.48,125.821 2272.44,125.821 2274.4,125.821 \n",
       "  2276.36,125.82 2278.32,125.82 2280.28,125.82 2282.24,125.82 2284.2,125.82 2286.16,125.82 2288.12,125.82 2290.08,125.82 2292.04,125.82 2294,125.82 \n",
       "  \n",
       "  \"/>\n",
       "<polyline clip-path=\"url(#clip892)\" style=\"stroke:#3da44d; stroke-linecap:round; stroke-linejoin:round; stroke-width:4; stroke-opacity:1; fill:none\" points=\"\n",
       "  335.627,938.562 337.587,455.931 339.548,423.701 341.508,406.981 343.468,397.486 345.429,392.744 347.389,391.835 349.349,394.534 351.31,401.136 353.27,412.616 \n",
       "  355.23,431.14 357.191,458.757 359.151,462.876 361.111,435.129 363.072,415.582 365.032,403.442 366.992,396.252 368.953,392.797 370.913,392.546 372.873,395.37 \n",
       "  374.834,401.462 376.794,411.33 378.754,425.58 380.715,442.178 382.675,446.058 384.635,431.191 386.596,415.561 388.556,404.279 390.516,396.988 392.477,393.04 \n",
       "  394.437,392.069 396.397,393.969 398.358,398.863 400.318,407.057 402.278,418.81 404.239,432.72 406.199,440.027 408.159,431.631 410.12,417.929 412.08,406.668 \n",
       "  414.04,398.834 416.001,394.061 417.961,391.985 419.921,392.419 421.882,395.331 423.842,400.819 425.802,409.006 427.763,419.59 429.723,430.067 431.683,433.217 \n",
       "  433.644,425.564 435.604,414.278 437.564,404.453 439.525,397.211 441.485,392.534 443.445,390.289 445.406,390.454 447.366,393.153 449.326,398.704 451.287,407.668 \n",
       "  453.247,420.729 455.207,436.826 457.168,444.029 459.128,431.218 461.088,414.858 463.049,402.413 465.009,393.941 466.969,388.797 468.93,386.58 470.89,387.17 \n",
       "  472.851,390.718 474.811,397.724 476.771,409.295 478.732,427.737 480.692,455.807 482.652,461.551 484.613,432.37 486.573,411.741 488.533,398.662 490.494,390.486 \n",
       "  492.454,385.918 494.414,384.349 496.375,385.561 498.335,389.619 500.295,396.894 502.256,408.159 504.216,424.528 506.176,444.158 508.137,446.212 510.097,427.311 \n",
       "  512.057,410.402 514.018,398.619 515.978,390.848 517.938,386.203 519.899,384.174 521.859,384.508 523.819,387.136 525.78,392.135 527.74,399.67 529.7,409.759 \n",
       "  531.661,421.199 533.621,428.705 535.581,425.283 537.542,414.755 539.502,404.15 541.462,395.772 543.423,389.795 545.383,385.97 547.343,384.049 549.304,383.881 \n",
       "  551.264,385.422 553.224,388.739 555.185,393.999 557.145,401.416 559.105,410.964 561.066,421.167 563.026,426.465 564.986,421.143 566.947,409.908 568.907,399.03 \n",
       "  570.867,390.474 572.828,384.424 574.788,380.729 576.748,379.262 578.709,379.992 580.669,383.014 582.629,388.588 584.59,397.187 586.55,409.458 588.51,425.224 \n",
       "  590.471,437.049 592.431,429.523 594.391,413.168 596.352,399.433 598.312,389.491 600.272,382.725 602.233,378.586 604.193,376.738 606.153,377.017 608.114,379.4 \n",
       "  610.074,383.98 612.035,390.927 613.995,400.336 615.955,411.547 617.916,420.941 619.876,421.271 621.836,412.498 623.797,401.81 625.757,392.763 627.717,385.933 \n",
       "  629.678,381.126 631.638,378.067 633.598,376.55 635.559,376.456 637.519,377.747 639.479,380.46 641.44,384.689 643.4,390.523 645.36,397.866 647.321,405.918 \n",
       "  649.281,412.158 651.241,412.638 653.202,406.665 655.162,397.932 657.122,389.515 659.083,382.573 661.043,377.357 663.003,373.858 664.964,372.036 666.924,371.899 \n",
       "  668.884,373.514 670.845,377.01 672.805,382.586 674.765,390.446 676.726,400.508 678.686,411.172 680.646,416.829 682.607,412.042 684.567,401.459 686.527,391.067 \n",
       "  688.488,382.728 690.448,376.58 692.408,372.412 694.369,370.006 696.329,369.195 698.289,369.871 700.25,371.968 702.21,375.431 704.17,380.182 706.131,386.016 \n",
       "  708.091,392.412 710.051,398.194 712.012,401.427 713.972,400.526 715.932,395.96 717.893,389.666 719.853,383.269 721.813,377.597 723.774,372.979 725.734,369.531 \n",
       "  727.694,367.29 729.655,366.279 731.615,366.539 733.575,368.131 735.536,371.143 737.496,375.662 739.456,381.707 741.417,389.011 743.377,396.446 745.337,401.257 \n",
       "  747.298,400.317 749.258,394.153 751.219,386.139 753.179,378.629 755.139,372.479 757.1,367.859 759.06,364.723 761.02,362.983 762.981,362.553 764.941,363.372 \n",
       "  766.901,365.39 768.862,368.546 770.822,372.733 772.782,377.723 774.743,383.037 776.703,387.782 778.663,390.67 780.624,390.617 782.584,387.648 784.544,382.843 \n",
       "  786.505,377.43 788.465,372.245 790.425,367.741 792.386,364.139 794.346,361.541 796.306,360.001 798.267,359.549 800.227,360.216 802.187,362.025 804.148,364.997 \n",
       "  806.108,369.12 808.068,374.277 810.029,380.071 811.989,385.517 813.949,388.875 815.91,388.501 817.87,384.527 819.83,378.704 821.791,372.711 823.751,367.446 \n",
       "  825.711,363.24 827.672,360.157 829.632,358.159 831.592,357.184 833.553,357.174 835.513,358.084 837.473,359.886 839.434,362.554 841.394,366.035 843.354,370.192 \n",
       "  845.315,374.712 847.275,378.982 849.235,382.038 851.196,382.853 853.156,381.025 855.116,377.142 857.077,372.282 859.037,367.366 860.997,362.961 862.958,359.366 \n",
       "  864.918,356.721 866.878,355.09 868.839,354.495 870.799,354.936 872.759,356.403 874.72,358.865 876.68,362.255 878.64,366.427 880.601,371.079 882.561,375.635 \n",
       "  884.522,379.17 886.482,380.648 888.442,379.559 890.403,376.355 892.363,372.038 894.323,367.519 896.284,363.363 898.244,359.851 900.204,357.101 902.165,355.163 \n",
       "  904.125,354.058 906.085,353.812 908.046,354.45 910.006,356.001 911.966,358.484 913.927,361.882 915.887,366.092 917.847,370.832 919.808,375.494 921.768,379.06 \n",
       "  923.728,380.365 925.689,378.881 927.649,375.206 929.609,370.514 931.57,365.792 933.53,361.613 935.49,358.239 937.451,355.768 939.411,354.219 941.371,353.576 \n",
       "  943.332,353.815 945.292,354.916 947.252,356.859 949.213,359.619 951.173,363.143 953.133,367.303 955.094,371.806 957.054,376.066 959.014,379.151 960.975,380.067 \n",
       "  962.935,378.42 964.895,374.774 966.856,370.188 968.816,365.57 970.776,361.475 972.737,358.179 974.697,355.8 976.657,354.383 978.618,353.941 980.578,354.47 \n",
       "  982.538,355.962 984.499,358.397 986.459,361.729 988.419,365.844 990.38,365.834 992.34,365.75 994.3,365.477 996.261,364.876 998.221,363.854 1000.18,362.433 \n",
       "  1002.14,360.784 1004.1,359.178 1006.06,357.909 1008.02,357.212 1009.98,357.229 1011.94,357.989 1013.9,359.398 1015.86,361.227 1017.82,363.093 1019.78,364.491 \n",
       "  1021.75,364.894 1023.71,363.95 1025.67,361.602 1027.63,358.015 1029.59,353.405 1031.55,347.939 1033.51,341.754 1035.47,335.007 1037.43,327.883 1039.39,320.576 \n",
       "  1041.35,313.265 1043.31,306.115 1045.27,299.282 1047.23,292.911 1049.19,287.122 1051.15,282.005 1053.11,277.606 1055.07,273.933 1057.03,270.962 1058.99,268.642 \n",
       "  1060.95,266.912 1062.91,265.704 1064.87,264.948 1066.83,264.573 1068.79,264.509 1070.75,264.695 1072.71,265.091 1074.67,265.695 1076.63,266.545 1078.59,267.715 \n",
       "  1080.56,269.294 1082.52,271.369 1084.48,274.013 1086.44,277.285 1088.4,281.242 1090.36,285.948 1092.32,291.464 1094.28,297.799 1096.24,304.741 1098.2,311.501 \n",
       "  1100.16,316.222 1102.12,316.457 1104.08,311.602 1106.04,303.725 1108,295.126 1109.96,287.015 1111.92,279.813 1113.88,273.589 1115.84,268.283 1117.8,263.796 \n",
       "  1119.76,260.032 1121.72,256.918 1123.68,254.391 1125.64,252.394 1127.6,250.866 1129.56,249.736 1131.52,248.922 1133.48,248.336 1135.44,247.896 1137.41,247.542 \n",
       "  1139.37,247.244 1141.33,247.006 1143.29,246.859 1145.25,246.85 1147.21,247.035 1149.17,247.474 1151.13,248.226 1153.09,249.337 1155.05,250.836 1157.01,252.718 \n",
       "  1158.97,254.945 1160.93,257.453 1162.89,260.166 1164.85,263.018 1166.81,265.981 1168.77,269.081 1170.73,272.396 1172.69,276.041 1174.65,280.148 1176.61,284.821 \n",
       "  1178.57,290.071 1180.53,295.667 1182.49,300.878 1184.45,304.245 1186.41,304.076 1188.37,299.949 1190.33,293.207 1192.29,285.549 1194.25,278.045 1196.22,271.159 \n",
       "  1198.18,265.039 1200.14,259.686 1202.1,255.046 1204.06,251.041 1206.02,247.587 1207.98,244.607 1209.94,242.032 1211.9,239.81 1213.86,237.898 1215.82,236.257 \n",
       "  1217.78,234.854 1219.74,233.653 1221.7,232.623 1223.66,231.744 1225.62,231.003 1227.58,230.405 1229.54,229.96 1231.5,229.683 1233.46,229.594 1235.42,229.719 \n",
       "  1237.38,230.095 1239.34,230.77 1241.3,231.802 1243.26,233.253 1245.22,235.184 1247.18,237.653 1249.14,240.709 1251.1,244.398 1253.07,248.764 1255.03,253.854 \n",
       "  1256.99,259.718 1258.95,266.397 1260.91,273.896 1262.87,282.099 1264.83,290.591 1266.79,298.321 1268.75,303.403 1270.71,304.037 1272.67,300.363 1274.63,294.26 \n",
       "  1276.59,287.461 1278.55,280.855 1280.51,274.762 1282.47,269.241 1284.43,264.257 1286.39,259.751 1288.35,255.663 1290.31,251.941 1292.27,248.549 1294.23,245.458 \n",
       "  1296.19,242.652 1298.15,240.121 1300.11,237.86 1302.07,235.867 1304.03,234.139 1305.99,232.678 1307.95,231.487 1309.91,230.572 1311.88,229.947 1313.84,229.624 \n",
       "  1315.8,229.618 1317.76,229.942 1319.72,230.604 1321.68,231.611 1323.64,232.963 1325.6,234.661 1327.56,236.703 1329.52,239.088 1331.48,241.825 1333.44,244.932 \n",
       "  1335.4,248.445 1337.36,252.418 1339.32,256.915 1341.28,262.009 1343.24,267.767 1345.2,274.236 1347.16,281.398 1349.12,289.043 1351.08,296.49 1353.04,302.141 \n",
       "  1355,303.656 1356.96,299.946 1358.92,292.561 1360.88,283.796 1362.84,275.033 1364.8,266.82 1366.76,259.311 1368.73,252.523 1370.69,246.435 1372.65,241.016 \n",
       "  1374.61,236.236 1376.57,232.06 1378.53,228.452 1380.49,225.375 1382.45,222.797 1384.41,220.693 1386.37,219.04 1388.33,217.818 1390.29,217.006 1392.25,216.578 \n",
       "  1394.21,216.501 1396.17,216.741 1398.13,217.266 1400.09,218.044 1402.05,219.054 1404.01,220.278 1405.97,221.702 1407.93,223.319 1409.89,225.125 1411.85,227.121 \n",
       "  1413.81,229.319 1415.77,231.738 1417.73,234.407 1419.69,237.362 1421.65,240.644 1423.61,244.298 1425.57,248.37 1427.54,252.904 1429.5,257.918 1431.46,263.363 \n",
       "  1433.42,269.021 1435.38,274.354 1437.34,278.366 1439.3,279.814 1441.26,278.04 1443.22,273.605 1445.18,267.759 1447.14,261.573 1449.1,255.659 1451.06,250.286 \n",
       "  1453.02,245.535 1454.98,241.404 1456.94,237.851 1458.9,234.82 1460.86,232.253 1462.82,230.092 1464.78,228.284 1466.74,226.776 1468.7,225.521 1470.66,224.472 \n",
       "  1472.62,223.59 1474.58,222.843 1476.54,222.21 1478.5,221.682 1480.46,221.261 1482.42,220.957 1484.38,220.784 1486.35,220.762 1488.31,220.907 1490.27,221.239 \n",
       "  1492.23,221.783 1494.19,222.568 1496.15,223.631 1498.11,225.013 1500.07,226.761 1502.03,228.92 1503.99,231.537 1505.95,234.657 1507.91,238.331 1509.87,242.606 \n",
       "  1511.83,247.52 1513.79,253.059 1515.75,259.124 1517.71,265.407 1519.67,271.228 1521.63,275.456 1523.59,276.891 1525.55,275.155 1527.51,271.05 1529.47,265.818 \n",
       "  1531.43,260.405 1533.39,255.325 1535.35,250.797 1537.31,246.879 1539.27,243.549 1541.23,240.754 1543.2,238.431 1545.16,236.526 1547.12,234.998 1549.08,233.823 \n",
       "  1551.04,232.986 1553,232.473 1554.96,232.272 1556.92,232.375 1558.88,232.777 1560.84,233.482 1562.8,234.507 1564.76,235.874 1566.72,237.605 1568.68,239.722 \n",
       "  1570.64,242.242 1572.6,245.182 1574.56,248.563 1576.52,252.415 1578.48,256.781 1580.44,261.711 1582.4,267.258 1584.36,273.475 1586.32,280.411 1588.28,288.112 \n",
       "  1590.24,296.612 1592.2,305.91 1594.16,315.889 1596.12,326.15 1598.08,335.755 1600.04,343.196 1602.01,347.247 1603.97,348.212 1605.93,347.621 1607.89,346.914 \n",
       "  1609.85,346.909 1611.81,347.973 1613.77,350.254 1615.73,353.82 1617.69,358.698 1619.65,364.88 1621.61,372.3 1623.57,380.819 1625.53,390.22 1627.49,400.232 \n",
       "  1629.45,410.535 1631.41,420.673 1633.37,429.861 1635.33,436.977 1637.29,441.211 1639.25,442.887 1641.21,443.179 1643.17,423.597 1645.13,403.432 1647.09,389.708 \n",
       "  1649.05,380.771 1651.01,375.352 1652.97,372.708 1654.93,372.373 1656.89,373.973 1658.86,377.049 1660.82,380.837 1662.78,384.07 1664.74,385.249 1666.7,383.691 \n",
       "  1668.66,380.211 1670.62,376.313 1672.58,373.193 1674.54,371.562 1676.5,371.841 1678.46,374.386 1680.42,379.637 1682.38,388.291 1684.34,401.494 1686.3,420.536 \n",
       "  1688.26,438.625 1690.22,427.979 1692.18,406.977 1694.14,391.468 1696.1,380.988 1698.06,374.198 1700.02,370.252 1701.98,368.63 1703.94,368.971 1705.9,370.939 \n",
       "  1707.86,374.087 1709.82,377.688 1711.78,380.642 1713.74,381.793 1715.7,380.725 1717.67,378.165 1719.63,375.358 1721.59,373.355 1723.55,372.841 1725.51,374.275 \n",
       "  1727.47,378.055 1729.43,384.635 1731.39,394.555 1733.35,407.875 1735.31,420.475 1737.27,419.069 1739.23,404.865 1741.19,390.703 1743.15,379.943 1745.11,372.396 \n",
       "  1747.07,367.532 1749.03,364.952 1750.99,364.384 1752.95,365.628 1754.91,368.481 1756.87,372.619 1758.83,377.414 1760.79,381.757 1762.75,384.253 1764.71,384.147 \n",
       "  1766.67,382.085 1768.63,379.497 1770.59,377.603 1772.55,377.127 1774.51,378.439 1776.48,381.684 1778.44,386.735 1780.4,392.807 1782.36,397.664 1784.32,397.831 \n",
       "  1786.28,392.311 1788.24,384.086 1790.2,376.104 1792.16,369.652 1794.12,365.084 1796.08,362.449 1798.04,361.731 1800,362.932 1801.96,366.089 1803.92,371.248 \n",
       "  1805.88,378.365 1807.84,386.971 1809.8,395.364 1811.76,399.933 1813.72,398.064 1815.68,392.061 1817.64,385.602 1819.6,380.489 1821.56,377.181 1823.52,375.618 \n",
       "  1825.48,375.525 1827.44,376.448 1829.4,377.707 1831.36,378.42 1833.33,377.805 1835.29,375.653 1837.25,372.481 1839.21,369.154 1841.17,366.446 1843.13,364.902 \n",
       "  1845.09,364.89 1847.05,366.704 1849.01,370.66 1850.97,377.174 1852.93,386.831 1854.89,400.249 1856.85,416.205 1858.81,423.428 1860.77,411.694 1862.73,395.969 \n",
       "  1864.69,383.635 1866.65,374.904 1868.61,369.111 1870.57,365.725 1872.53,364.379 1874.49,364.794 1876.45,366.711 1878.41,369.795 1880.37,373.542 1882.33,377.202 \n",
       "  1884.29,379.897 1886.25,381.033 1888.21,380.727 1890.17,379.721 1892.14,378.887 1894.1,378.879 1896.06,380.053 1898.02,382.475 1899.98,385.82 1901.94,389.142 \n",
       "  1903.9,390.756 1905.86,389.106 1907.82,384.349 1909.78,378.196 1911.74,372.305 1913.7,367.62 1915.66,364.566 1917.62,363.338 1919.58,364.068 1921.54,366.919 \n",
       "  1923.5,372.146 1925.46,380.14 1927.42,391.418 1929.38,406.033 1931.34,419.75 1933.3,418.994 1935.26,405.374 1937.22,391.866 1939.18,381.712 1941.14,374.687 \n",
       "  1943.1,370.256 1945.06,368.009 1947.02,367.651 1948.99,368.927 1950.95,371.539 1952.91,375.031 1954.87,378.7 1956.83,381.63 1958.79,383.078 1960.75,382.994 \n",
       "  1962.71,382.067 1964.67,381.223 1966.63,381.176 1968.59,382.297 1970.55,384.6 1972.51,387.663 1974.47,390.457 1976.43,391.422 1978.39,389.424 1980.35,384.891 \n",
       "  1982.31,379.364 1984.27,374.235 1986.23,370.312 1988.19,368.003 1990.15,367.539 1992.11,369.129 1994.07,373.054 1996.03,379.763 1997.99,389.983 1999.95,404.752 \n",
       "  2001.91,423.685 2003.87,432.483 2005.83,416.868 2007.8,398.968 2009.76,385.92 2011.72,377.043 2013.68,371.401 2015.64,368.414 2017.6,367.764 2019.56,369.303 \n",
       "  2021.52,372.978 2023.48,378.745 2025.44,386.357 2027.4,394.806 2029.36,401.398 2031.32,402.528 2033.28,398.141 2035.24,391.792 2037.2,386.161 2039.16,382.189 \n",
       "  2041.12,379.985 2043.08,379.342 2045.04,379.889 2047,381.117 2048.96,382.39 2050.92,383.081 2052.88,382.837 2054.84,381.783 2056.8,380.442 2058.76,379.463 \n",
       "  2060.72,379.427 2062.68,380.784 2064.65,383.861 2066.61,388.82 2068.57,395.419 2070.53,402.236 2072.49,405.698 2074.45,402.484 2076.41,394.539 2078.37,385.984 \n",
       "  2080.33,378.971 2082.29,374.138 2084.25,371.606 2086.21,371.42 2088.17,373.702 2090.13,378.742 2092.09,387.117 2094.05,399.851 2096.01,418.233 2097.97,437.443 \n",
       "  2099.93,430.433 2101.89,409.561 2103.85,393.638 2105.81,382.924 2107.77,376.138 2109.73,372.487 2111.69,371.562 2113.65,373.209 2115.61,377.462 2117.57,384.496 \n",
       "  2119.53,394.474 2121.49,406.762 2123.46,416.979 2125.42,416.157 2127.38,405.886 2129.34,394.952 2131.3,386.58 2133.26,381.059 2135.22,378.133 2137.18,377.533 \n",
       "  2139.14,379.022 2141.1,382.308 2143.06,386.87 2145.02,391.695 2146.98,395.202 2148.94,395.999 2150.9,394.184 2152.86,391.209 2154.82,388.532 2156.78,386.959 \n",
       "  2158.74,386.743 2160.7,387.752 2162.66,389.534 2164.62,391.317 2166.58,392.16 2168.54,391.433 2170.5,389.279 2172.46,386.502 2174.42,384.029 2176.38,382.575 \n",
       "  2178.34,382.611 2180.3,384.438 2182.27,388.227 2184.23,393.912 2186.19,400.748 2188.15,406.379 2190.11,407.009 2192.07,401.686 2194.03,393.839 2195.99,386.607 \n",
       "  2197.95,381.275 2199.91,378.208 2201.87,377.521 2203.83,379.346 2205.79,383.954 2207.75,391.81 2209.71,403.504 2211.67,418.509 2213.63,428.401 2215.59,419.63 \n",
       "  2217.55,403.914 2219.51,391.262 2221.47,382.661 2223.43,377.604 2225.39,375.693 2227.35,376.788 2229.31,381.023 2231.27,388.85 2233.23,401.127 2235.19,418.668 \n",
       "  2237.15,435.587 2239.12,428.68 2241.08,409.788 2243.04,395.155 2245,385.474 2246.96,379.726 2248.92,377.254 2250.88,377.762 2252.84,381.22 2254.8,387.809 \n",
       "  2256.76,397.781 2258.72,410.637 2260.68,421.521 2262.64,419.722 2264.6,408.001 2266.56,396.459 2268.52,388.05 2270.48,382.831 2272.44,380.483 2274.4,380.779 \n",
       "  2276.36,383.617 2278.32,388.939 2280.28,396.464 2282.24,404.894 2284.2,410.561 2286.16,409.2 2288.12,402.316 2290.08,394.628 2292.04,388.646 2294,385.046 \n",
       "  \n",
       "  \"/>\n",
       "<path clip-path=\"url(#clip890)\" d=\"\n",
       "M346.072 673.946 L756.053 673.946 L756.053 466.586 L346.072 466.586  Z\n",
       "  \" fill=\"#ffffff\" fill-rule=\"evenodd\" fill-opacity=\"1\"/>\n",
       "<polyline clip-path=\"url(#clip890)\" style=\"stroke:#000000; stroke-linecap:round; stroke-linejoin:round; stroke-width:4; stroke-opacity:1; fill:none\" points=\"\n",
       "  346.072,673.946 756.053,673.946 756.053,466.586 346.072,466.586 346.072,673.946 \n",
       "  \"/>\n",
       "<polyline clip-path=\"url(#clip890)\" style=\"stroke:#009af9; stroke-linecap:round; stroke-linejoin:round; stroke-width:4; stroke-opacity:1; fill:none\" points=\"\n",
       "  369.137,518.426 507.529,518.426 \n",
       "  \"/>\n",
       "<path clip-path=\"url(#clip890)\" d=\"M541.451 536.285 Q536.103 535.428 533.627 533.183 Q530.594 530.428 530.594 524.803 L530.594 509.78 L534.9 509.78 L534.9 524.641 Q534.9 528.877 536.867 530.637 Q538.58 532.164 541.451 532.488 L541.451 509.78 L545.687 509.78 L545.687 532.465 Q548.719 532.141 550.27 530.613 Q552.238 528.669 552.238 524.618 L552.238 509.78 L556.543 509.78 L556.543 524.78 Q556.543 530.613 553.511 533.16 Q550.779 535.451 545.687 536.262 L545.687 545.567 L541.451 545.567 L541.451 536.285 Z\" fill=\"#000000\" fill-rule=\"evenodd\" fill-opacity=\"1\" /><path clip-path=\"url(#clip890)\" d=\"M572.469 520.035 Q571.312 518.044 568.974 518.044 Q566.636 518.044 565.478 520.035 Q564.298 522.026 564.298 526.007 Q564.298 530.012 565.478 532.002 Q566.636 533.993 568.974 533.993 Q571.312 533.993 572.469 532.002 Q573.65 530.012 573.65 526.007 Q573.65 522.026 572.469 520.035 M568.974 515.984 Q572.7 515.984 574.668 518.553 Q576.636 521.123 576.636 526.007 Q576.636 530.914 574.668 533.484 Q572.7 536.053 568.974 536.053 Q565.224 536.053 563.256 533.484 Q561.289 530.914 561.289 526.007 Q561.289 521.123 563.256 518.553 Q565.224 515.984 568.974 515.984 Z\" fill=\"#000000\" fill-rule=\"evenodd\" fill-opacity=\"1\" /><polyline clip-path=\"url(#clip890)\" style=\"stroke:#e26f46; stroke-linecap:round; stroke-linejoin:round; stroke-width:4; stroke-opacity:1; fill:none\" points=\"\n",
       "  369.137,570.266 507.529,570.266 \n",
       "  \"/>\n",
       "<path clip-path=\"url(#clip890)\" d=\"M541.451 588.125 Q536.103 587.268 533.627 585.023 Q530.594 582.268 530.594 576.643 L530.594 561.62 L534.9 561.62 L534.9 576.481 Q534.9 580.717 536.867 582.477 Q538.58 584.004 541.451 584.328 L541.451 561.62 L545.687 561.62 L545.687 584.305 Q548.719 583.981 550.27 582.453 Q552.238 580.509 552.238 576.458 L552.238 561.62 L556.543 561.62 L556.543 576.62 Q556.543 582.453 553.511 585 Q550.779 587.291 545.687 588.102 L545.687 597.407 L541.451 597.407 L541.451 588.125 Z\" fill=\"#000000\" fill-rule=\"evenodd\" fill-opacity=\"1\" /><path clip-path=\"url(#clip890)\" d=\"M562.886 585 L567.608 585 L567.608 570.856 L562.446 571.805 L562.446 569.12 L567.77 568.217 L570.941 568.217 L570.941 585 L575.687 585 L575.687 587.546 L562.886 587.546 L562.886 585 Z\" fill=\"#000000\" fill-rule=\"evenodd\" fill-opacity=\"1\" /><polyline clip-path=\"url(#clip890)\" style=\"stroke:#3da44d; stroke-linecap:round; stroke-linejoin:round; stroke-width:4; stroke-opacity:1; fill:none\" points=\"\n",
       "  369.137,622.106 507.529,622.106 \n",
       "  \"/>\n",
       "<path clip-path=\"url(#clip890)\" d=\"M530.594 603.368 L534.853 603.368 L534.853 639.386 L530.594 639.386 L530.594 603.368 Z\" fill=\"#000000\" fill-rule=\"evenodd\" fill-opacity=\"1\" /><path clip-path=\"url(#clip890)\" d=\"M565.941 625.358 L565.941 627.442 L546.358 627.442 Q546.636 631.84 548.997 634.155 Q551.381 636.446 555.617 636.446 Q558.071 636.446 560.363 635.844 Q562.677 635.243 564.946 634.039 L564.946 638.067 Q562.654 639.039 560.247 639.548 Q557.839 640.057 555.363 640.057 Q549.159 640.057 545.525 636.446 Q541.914 632.835 541.914 626.678 Q541.914 620.312 545.34 616.585 Q548.789 612.835 554.622 612.835 Q559.853 612.835 562.886 616.215 Q565.941 619.571 565.941 625.358 M561.682 624.108 Q561.636 620.613 559.714 618.53 Q557.816 616.446 554.668 616.446 Q551.103 616.446 548.951 618.46 Q546.821 620.474 546.497 624.131 L561.682 624.108 Z\" fill=\"#000000\" fill-rule=\"evenodd\" fill-opacity=\"1\" /><path clip-path=\"url(#clip890)\" d=\"M584.714 626.354 Q579.552 626.354 577.562 627.534 Q575.571 628.715 575.571 631.562 Q575.571 633.83 577.052 635.173 Q578.557 636.493 581.126 636.493 Q584.668 636.493 586.798 633.993 Q588.95 631.469 588.95 627.303 L588.95 626.354 L584.714 626.354 M593.21 624.594 L593.21 639.386 L588.95 639.386 L588.95 635.451 Q587.492 637.812 585.316 638.946 Q583.14 640.057 579.992 640.057 Q576.011 640.057 573.65 637.835 Q571.312 635.59 571.312 631.84 Q571.312 627.465 574.228 625.243 Q577.168 623.02 582.978 623.02 L588.95 623.02 L588.95 622.604 Q588.95 619.664 587.006 618.067 Q585.085 616.446 581.589 616.446 Q579.367 616.446 577.261 616.979 Q575.154 617.511 573.21 618.576 L573.21 614.641 Q575.548 613.738 577.747 613.298 Q579.946 612.835 582.029 612.835 Q587.654 612.835 590.432 615.752 Q593.21 618.669 593.21 624.594 Z\" fill=\"#000000\" fill-rule=\"evenodd\" fill-opacity=\"1\" /><path clip-path=\"url(#clip890)\" d=\"M601.821 603.368 L606.103 603.368 L606.103 624.641 L618.811 613.46 L624.251 613.46 L610.501 625.59 L624.83 639.386 L619.274 639.386 L606.103 626.724 L606.103 639.386 L601.821 639.386 L601.821 603.368 Z\" fill=\"#000000\" fill-rule=\"evenodd\" fill-opacity=\"1\" /><path clip-path=\"url(#clip890)\" d=\"M640.385 626.354 Q635.223 626.354 633.233 627.534 Q631.242 628.715 631.242 631.562 Q631.242 633.83 632.723 635.173 Q634.228 636.493 636.797 636.493 Q640.339 636.493 642.469 633.993 Q644.621 631.469 644.621 627.303 L644.621 626.354 L640.385 626.354 M648.881 624.594 L648.881 639.386 L644.621 639.386 L644.621 635.451 Q643.163 637.812 640.987 638.946 Q638.811 640.057 635.663 640.057 Q631.682 640.057 629.321 637.835 Q626.983 635.59 626.983 631.84 Q626.983 627.465 629.899 625.243 Q632.839 623.02 638.649 623.02 L644.621 623.02 L644.621 622.604 Q644.621 619.664 642.677 618.067 Q640.756 616.446 637.26 616.446 Q635.038 616.446 632.932 616.979 Q630.825 617.511 628.881 618.576 L628.881 614.641 Q631.219 613.738 633.418 613.298 Q635.617 612.835 637.7 612.835 Q643.325 612.835 646.103 615.752 Q648.881 618.669 648.881 624.594 Z\" fill=\"#000000\" fill-rule=\"evenodd\" fill-opacity=\"1\" /><path clip-path=\"url(#clip890)\" d=\"M674.714 626.122 Q674.714 621.493 672.793 618.946 Q670.894 616.4 667.445 616.4 Q664.019 616.4 662.098 618.946 Q660.2 621.493 660.2 626.122 Q660.2 630.729 662.098 633.275 Q664.019 635.821 667.445 635.821 Q670.894 635.821 672.793 633.275 Q674.714 630.729 674.714 626.122 M678.973 636.168 Q678.973 642.789 676.033 646.006 Q673.093 649.247 667.029 649.247 Q664.783 649.247 662.793 648.9 Q660.802 648.576 658.927 647.881 L658.927 643.738 Q660.802 644.756 662.631 645.242 Q664.459 645.729 666.357 645.729 Q670.547 645.729 672.631 643.53 Q674.714 641.354 674.714 636.932 L674.714 634.826 Q673.394 637.118 671.334 638.252 Q669.274 639.386 666.404 639.386 Q661.635 639.386 658.719 635.752 Q655.802 632.118 655.802 626.122 Q655.802 620.104 658.719 616.469 Q661.635 612.835 666.404 612.835 Q669.274 612.835 671.334 613.969 Q673.394 615.104 674.714 617.395 L674.714 613.46 L678.973 613.46 L678.973 636.168 Z\" fill=\"#000000\" fill-rule=\"evenodd\" fill-opacity=\"1\" /><path clip-path=\"url(#clip890)\" d=\"M709.922 625.358 L709.922 627.442 L690.339 627.442 Q690.617 631.84 692.978 634.155 Q695.362 636.446 699.598 636.446 Q702.052 636.446 704.343 635.844 Q706.658 635.243 708.927 634.039 L708.927 638.067 Q706.635 639.039 704.228 639.548 Q701.82 640.057 699.343 640.057 Q693.14 640.057 689.505 636.446 Q685.894 632.835 685.894 626.678 Q685.894 620.312 689.32 616.585 Q692.769 612.835 698.603 612.835 Q703.834 612.835 706.866 616.215 Q709.922 619.571 709.922 625.358 M705.663 624.108 Q705.616 620.613 703.695 618.53 Q701.797 616.446 698.649 616.446 Q695.084 616.446 692.931 618.46 Q690.802 620.474 690.478 624.131 L705.663 624.108 Z\" fill=\"#000000\" fill-rule=\"evenodd\" fill-opacity=\"1\" /><path clip-path=\"url(#clip890)\" d=\"\n",
       "M276.876 1423.18 L2352.76 1423.18 L2352.76 853.724 L276.876 853.724  Z\n",
       "  \" fill=\"#ffffff\" fill-rule=\"evenodd\" fill-opacity=\"1\"/>\n",
       "<defs>\n",
       "  <clipPath id=\"clip893\">\n",
       "    <rect x=\"276\" y=\"853\" width=\"2077\" height=\"570\"/>\n",
       "  </clipPath>\n",
       "</defs>\n",
       "<polyline clip-path=\"url(#clip893)\" style=\"stroke:#000000; stroke-linecap:round; stroke-linejoin:round; stroke-width:2; stroke-opacity:0.1; fill:none\" points=\"\n",
       "  335.627,1423.18 335.627,853.724 \n",
       "  \"/>\n",
       "<polyline clip-path=\"url(#clip893)\" style=\"stroke:#000000; stroke-linecap:round; stroke-linejoin:round; stroke-width:2; stroke-opacity:0.1; fill:none\" points=\"\n",
       "  988.419,1423.18 988.419,853.724 \n",
       "  \"/>\n",
       "<polyline clip-path=\"url(#clip893)\" style=\"stroke:#000000; stroke-linecap:round; stroke-linejoin:round; stroke-width:2; stroke-opacity:0.1; fill:none\" points=\"\n",
       "  1641.21,1423.18 1641.21,853.724 \n",
       "  \"/>\n",
       "<polyline clip-path=\"url(#clip893)\" style=\"stroke:#000000; stroke-linecap:round; stroke-linejoin:round; stroke-width:2; stroke-opacity:0.1; fill:none\" points=\"\n",
       "  2294,1423.18 2294,853.724 \n",
       "  \"/>\n",
       "<polyline clip-path=\"url(#clip890)\" style=\"stroke:#000000; stroke-linecap:round; stroke-linejoin:round; stroke-width:4; stroke-opacity:1; fill:none\" points=\"\n",
       "  276.876,1423.18 2352.76,1423.18 \n",
       "  \"/>\n",
       "<polyline clip-path=\"url(#clip890)\" style=\"stroke:#000000; stroke-linecap:round; stroke-linejoin:round; stroke-width:4; stroke-opacity:1; fill:none\" points=\"\n",
       "  335.627,1423.18 335.627,1404.28 \n",
       "  \"/>\n",
       "<polyline clip-path=\"url(#clip890)\" style=\"stroke:#000000; stroke-linecap:round; stroke-linejoin:round; stroke-width:4; stroke-opacity:1; fill:none\" points=\"\n",
       "  988.419,1423.18 988.419,1404.28 \n",
       "  \"/>\n",
       "<polyline clip-path=\"url(#clip890)\" style=\"stroke:#000000; stroke-linecap:round; stroke-linejoin:round; stroke-width:4; stroke-opacity:1; fill:none\" points=\"\n",
       "  1641.21,1423.18 1641.21,1404.28 \n",
       "  \"/>\n",
       "<polyline clip-path=\"url(#clip890)\" style=\"stroke:#000000; stroke-linecap:round; stroke-linejoin:round; stroke-width:4; stroke-opacity:1; fill:none\" points=\"\n",
       "  2294,1423.18 2294,1404.28 \n",
       "  \"/>\n",
       "<path clip-path=\"url(#clip890)\" d=\"M335.627 1454.1 Q332.016 1454.1 330.187 1457.66 Q328.382 1461.2 328.382 1468.33 Q328.382 1475.44 330.187 1479.01 Q332.016 1482.55 335.627 1482.55 Q339.261 1482.55 341.067 1479.01 Q342.895 1475.44 342.895 1468.33 Q342.895 1461.2 341.067 1457.66 Q339.261 1454.1 335.627 1454.1 M335.627 1450.39 Q341.437 1450.39 344.493 1455 Q347.571 1459.58 347.571 1468.33 Q347.571 1477.06 344.493 1481.67 Q341.437 1486.25 335.627 1486.25 Q329.817 1486.25 326.738 1481.67 Q323.682 1477.06 323.682 1468.33 Q323.682 1459.58 326.738 1455 Q329.817 1450.39 335.627 1450.39 Z\" fill=\"#000000\" fill-rule=\"evenodd\" fill-opacity=\"1\" /><path clip-path=\"url(#clip890)\" d=\"M963.107 1481.64 L970.746 1481.64 L970.746 1455.28 L962.436 1456.95 L962.436 1452.69 L970.7 1451.02 L975.376 1451.02 L975.376 1481.64 L983.014 1481.64 L983.014 1485.58 L963.107 1485.58 L963.107 1481.64 Z\" fill=\"#000000\" fill-rule=\"evenodd\" fill-opacity=\"1\" /><path clip-path=\"url(#clip890)\" d=\"M1002.46 1454.1 Q998.848 1454.1 997.019 1457.66 Q995.213 1461.2 995.213 1468.33 Q995.213 1475.44 997.019 1479.01 Q998.848 1482.55 1002.46 1482.55 Q1006.09 1482.55 1007.9 1479.01 Q1009.73 1475.44 1009.73 1468.33 Q1009.73 1461.2 1007.9 1457.66 Q1006.09 1454.1 1002.46 1454.1 M1002.46 1450.39 Q1008.27 1450.39 1011.32 1455 Q1014.4 1459.58 1014.4 1468.33 Q1014.4 1477.06 1011.32 1481.67 Q1008.27 1486.25 1002.46 1486.25 Q996.649 1486.25 993.57 1481.67 Q990.514 1477.06 990.514 1468.33 Q990.514 1459.58 993.57 1455 Q996.649 1450.39 1002.46 1450.39 Z\" fill=\"#000000\" fill-rule=\"evenodd\" fill-opacity=\"1\" /><path clip-path=\"url(#clip890)\" d=\"M1619.99 1481.64 L1636.3 1481.64 L1636.3 1485.58 L1614.36 1485.58 L1614.36 1481.64 Q1617.02 1478.89 1621.61 1474.26 Q1626.21 1469.61 1627.39 1468.27 Q1629.64 1465.74 1630.52 1464.01 Q1631.42 1462.25 1631.42 1460.56 Q1631.42 1457.8 1629.48 1456.07 Q1627.55 1454.33 1624.45 1454.33 Q1622.25 1454.33 1619.8 1455.09 Q1617.37 1455.86 1614.59 1457.41 L1614.59 1452.69 Q1617.42 1451.55 1619.87 1450.97 Q1622.32 1450.39 1624.36 1450.39 Q1629.73 1450.39 1632.93 1453.08 Q1636.12 1455.77 1636.12 1460.26 Q1636.12 1462.39 1635.31 1464.31 Q1634.52 1466.2 1632.42 1468.8 Q1631.84 1469.47 1628.74 1472.69 Q1625.63 1475.88 1619.99 1481.64 Z\" fill=\"#000000\" fill-rule=\"evenodd\" fill-opacity=\"1\" /><path clip-path=\"url(#clip890)\" d=\"M1656.12 1454.1 Q1652.51 1454.1 1650.68 1457.66 Q1648.87 1461.2 1648.87 1468.33 Q1648.87 1475.44 1650.68 1479.01 Q1652.51 1482.55 1656.12 1482.55 Q1659.75 1482.55 1661.56 1479.01 Q1663.39 1475.44 1663.39 1468.33 Q1663.39 1461.2 1661.56 1457.66 Q1659.75 1454.1 1656.12 1454.1 M1656.12 1450.39 Q1661.93 1450.39 1664.99 1455 Q1668.06 1459.58 1668.06 1468.33 Q1668.06 1477.06 1664.99 1481.67 Q1661.93 1486.25 1656.12 1486.25 Q1650.31 1486.25 1647.23 1481.67 Q1644.17 1477.06 1644.17 1468.33 Q1644.17 1459.58 1647.23 1455 Q1650.31 1450.39 1656.12 1450.39 Z\" fill=\"#000000\" fill-rule=\"evenodd\" fill-opacity=\"1\" /><path clip-path=\"url(#clip890)\" d=\"M2282.85 1466.95 Q2286.2 1467.66 2288.08 1469.93 Q2289.98 1472.2 2289.98 1475.53 Q2289.98 1480.65 2286.46 1483.45 Q2282.94 1486.25 2276.46 1486.25 Q2274.28 1486.25 2271.97 1485.81 Q2269.68 1485.39 2267.22 1484.54 L2267.22 1480.02 Q2269.17 1481.16 2271.48 1481.74 Q2273.8 1482.32 2276.32 1482.32 Q2280.72 1482.32 2283.01 1480.58 Q2285.32 1478.84 2285.32 1475.53 Q2285.32 1472.48 2283.17 1470.77 Q2281.04 1469.03 2277.22 1469.03 L2273.19 1469.03 L2273.19 1465.19 L2277.41 1465.19 Q2280.86 1465.19 2282.69 1463.82 Q2284.51 1462.43 2284.51 1459.84 Q2284.51 1457.18 2282.62 1455.77 Q2280.74 1454.33 2277.22 1454.33 Q2275.3 1454.33 2273.1 1454.75 Q2270.9 1455.16 2268.26 1456.04 L2268.26 1451.88 Q2270.93 1451.14 2273.24 1450.77 Q2275.58 1450.39 2277.64 1450.39 Q2282.96 1450.39 2286.06 1452.83 Q2289.17 1455.23 2289.17 1459.35 Q2289.17 1462.22 2287.52 1464.21 Q2285.88 1466.18 2282.85 1466.95 Z\" fill=\"#000000\" fill-rule=\"evenodd\" fill-opacity=\"1\" /><path clip-path=\"url(#clip890)\" d=\"M2308.84 1454.1 Q2305.23 1454.1 2303.4 1457.66 Q2301.6 1461.2 2301.6 1468.33 Q2301.6 1475.44 2303.4 1479.01 Q2305.23 1482.55 2308.84 1482.55 Q2312.48 1482.55 2314.28 1479.01 Q2316.11 1475.44 2316.11 1468.33 Q2316.11 1461.2 2314.28 1457.66 Q2312.48 1454.1 2308.84 1454.1 M2308.84 1450.39 Q2314.65 1450.39 2317.71 1455 Q2320.79 1459.58 2320.79 1468.33 Q2320.79 1477.06 2317.71 1481.67 Q2314.65 1486.25 2308.84 1486.25 Q2303.03 1486.25 2299.95 1481.67 Q2296.9 1477.06 2296.9 1468.33 Q2296.9 1459.58 2299.95 1455 Q2303.03 1450.39 2308.84 1450.39 Z\" fill=\"#000000\" fill-rule=\"evenodd\" fill-opacity=\"1\" /><path clip-path=\"url(#clip890)\" d=\"M1164.33 1520.52 L1204.53 1520.52 L1204.53 1525.93 L1187.66 1525.93 L1187.66 1568.04 L1181.2 1568.04 L1181.2 1525.93 L1164.33 1525.93 L1164.33 1520.52 Z\" fill=\"#000000\" fill-rule=\"evenodd\" fill-opacity=\"1\" /><path clip-path=\"url(#clip890)\" d=\"M1208.48 1532.4 L1214.33 1532.4 L1214.33 1568.04 L1208.48 1568.04 L1208.48 1532.4 M1208.48 1518.52 L1214.33 1518.52 L1214.33 1525.93 L1208.48 1525.93 L1208.48 1518.52 Z\" fill=\"#000000\" fill-rule=\"evenodd\" fill-opacity=\"1\" /><path clip-path=\"url(#clip890)\" d=\"M1254.34 1539.24 Q1256.54 1535.29 1259.59 1533.41 Q1262.65 1531.54 1266.79 1531.54 Q1272.36 1531.54 1275.38 1535.45 Q1278.4 1539.33 1278.4 1546.53 L1278.4 1568.04 L1272.52 1568.04 L1272.52 1546.72 Q1272.52 1541.59 1270.7 1539.11 Q1268.89 1536.63 1265.16 1536.63 Q1260.61 1536.63 1257.97 1539.65 Q1255.33 1542.68 1255.33 1547.9 L1255.33 1568.04 L1249.44 1568.04 L1249.44 1546.72 Q1249.44 1541.56 1247.63 1539.11 Q1245.81 1536.63 1242.02 1536.63 Q1237.54 1536.63 1234.89 1539.68 Q1232.25 1542.71 1232.25 1547.9 L1232.25 1568.04 L1226.36 1568.04 L1226.36 1532.4 L1232.25 1532.4 L1232.25 1537.93 Q1234.26 1534.66 1237.06 1533.1 Q1239.86 1531.54 1243.71 1531.54 Q1247.59 1531.54 1250.3 1533.51 Q1253.04 1535.48 1254.34 1539.24 Z\" fill=\"#000000\" fill-rule=\"evenodd\" fill-opacity=\"1\" /><path clip-path=\"url(#clip890)\" d=\"M1320.58 1548.76 L1320.58 1551.62 L1293.65 1551.62 Q1294.03 1557.67 1297.28 1560.85 Q1300.56 1564 1306.38 1564 Q1309.75 1564 1312.91 1563.17 Q1316.09 1562.35 1319.21 1560.69 L1319.21 1566.23 Q1316.06 1567.57 1312.75 1568.27 Q1309.44 1568.97 1306.03 1568.97 Q1297.5 1568.97 1292.5 1564 Q1287.54 1559.04 1287.54 1550.57 Q1287.54 1541.82 1292.25 1536.69 Q1296.99 1531.54 1305.01 1531.54 Q1312.21 1531.54 1316.38 1536.18 Q1320.58 1540.8 1320.58 1548.76 M1314.72 1547.04 Q1314.66 1542.23 1312.01 1539.37 Q1309.4 1536.5 1305.08 1536.5 Q1300.17 1536.5 1297.21 1539.27 Q1294.29 1542.04 1293.84 1547.07 L1314.72 1547.04 Z\" fill=\"#000000\" fill-rule=\"evenodd\" fill-opacity=\"1\" /><path clip-path=\"url(#clip890)\" d=\"M1350.37 1518.52 L1363.86 1518.52 L1363.86 1523.07 L1356.22 1523.07 L1356.22 1572.09 L1363.86 1572.09 L1363.86 1576.64 L1350.37 1576.64 L1350.37 1518.52 Z\" fill=\"#000000\" fill-rule=\"evenodd\" fill-opacity=\"1\" /><path clip-path=\"url(#clip890)\" d=\"M1405.97 1546.53 L1405.97 1568.04 L1400.12 1568.04 L1400.12 1546.72 Q1400.12 1541.66 1398.14 1539.14 Q1396.17 1536.63 1392.22 1536.63 Q1387.48 1536.63 1384.74 1539.65 Q1382.01 1542.68 1382.01 1547.9 L1382.01 1568.04 L1376.12 1568.04 L1376.12 1532.4 L1382.01 1532.4 L1382.01 1537.93 Q1384.11 1534.72 1386.94 1533.13 Q1389.8 1531.54 1393.53 1531.54 Q1399.67 1531.54 1402.82 1535.36 Q1405.97 1539.14 1405.97 1546.53 Z\" fill=\"#000000\" fill-rule=\"evenodd\" fill-opacity=\"1\" /><path clip-path=\"url(#clip890)\" d=\"M1440.38 1533.45 L1440.38 1538.98 Q1437.9 1537.71 1435.22 1537.07 Q1432.55 1536.44 1429.68 1536.44 Q1425.32 1536.44 1423.13 1537.77 Q1420.96 1539.11 1420.96 1541.79 Q1420.96 1543.82 1422.52 1545 Q1424.08 1546.15 1428.79 1547.2 L1430.8 1547.64 Q1437.04 1548.98 1439.65 1551.43 Q1442.29 1553.85 1442.29 1558.21 Q1442.29 1563.17 1438.34 1566.07 Q1434.43 1568.97 1427.55 1568.97 Q1424.69 1568.97 1421.57 1568.39 Q1418.48 1567.85 1415.04 1566.74 L1415.04 1560.69 Q1418.29 1562.38 1421.44 1563.24 Q1424.59 1564.07 1427.68 1564.07 Q1431.82 1564.07 1434.05 1562.66 Q1436.27 1561.23 1436.27 1558.65 Q1436.27 1556.27 1434.65 1554.99 Q1433.06 1553.72 1427.62 1552.54 L1425.58 1552.07 Q1420.14 1550.92 1417.72 1548.56 Q1415.3 1546.18 1415.3 1542.04 Q1415.3 1537.01 1418.86 1534.27 Q1422.43 1531.54 1428.98 1531.54 Q1432.23 1531.54 1435.1 1532.01 Q1437.96 1532.49 1440.38 1533.45 Z\" fill=\"#000000\" fill-rule=\"evenodd\" fill-opacity=\"1\" /><path clip-path=\"url(#clip890)\" d=\"M1465.3 1518.52 L1465.3 1576.64 L1451.81 1576.64 L1451.81 1572.09 L1459.41 1572.09 L1459.41 1523.07 L1451.81 1523.07 L1451.81 1518.52 L1465.3 1518.52 Z\" fill=\"#000000\" fill-rule=\"evenodd\" fill-opacity=\"1\" /><polyline clip-path=\"url(#clip893)\" style=\"stroke:#000000; stroke-linecap:round; stroke-linejoin:round; stroke-width:2; stroke-opacity:0.1; fill:none\" points=\"\n",
       "  276.876,1423.18 2352.76,1423.18 \n",
       "  \"/>\n",
       "<polyline clip-path=\"url(#clip893)\" style=\"stroke:#000000; stroke-linecap:round; stroke-linejoin:round; stroke-width:2; stroke-opacity:0.1; fill:none\" points=\"\n",
       "  276.876,1139.63 2352.76,1139.63 \n",
       "  \"/>\n",
       "<polyline clip-path=\"url(#clip893)\" style=\"stroke:#000000; stroke-linecap:round; stroke-linejoin:round; stroke-width:2; stroke-opacity:0.1; fill:none\" points=\"\n",
       "  276.876,856.072 2352.76,856.072 \n",
       "  \"/>\n",
       "<polyline clip-path=\"url(#clip890)\" style=\"stroke:#000000; stroke-linecap:round; stroke-linejoin:round; stroke-width:4; stroke-opacity:1; fill:none\" points=\"\n",
       "  276.876,1423.18 276.876,853.724 \n",
       "  \"/>\n",
       "<polyline clip-path=\"url(#clip890)\" style=\"stroke:#000000; stroke-linecap:round; stroke-linejoin:round; stroke-width:4; stroke-opacity:1; fill:none\" points=\"\n",
       "  276.876,1423.18 295.773,1423.18 \n",
       "  \"/>\n",
       "<polyline clip-path=\"url(#clip890)\" style=\"stroke:#000000; stroke-linecap:round; stroke-linejoin:round; stroke-width:4; stroke-opacity:1; fill:none\" points=\"\n",
       "  276.876,1139.63 295.773,1139.63 \n",
       "  \"/>\n",
       "<polyline clip-path=\"url(#clip890)\" style=\"stroke:#000000; stroke-linecap:round; stroke-linejoin:round; stroke-width:4; stroke-opacity:1; fill:none\" points=\"\n",
       "  276.876,856.072 295.773,856.072 \n",
       "  \"/>\n",
       "<path clip-path=\"url(#clip890)\" d=\"M114.931 1442.97 L122.57 1442.97 L122.57 1416.61 L114.26 1418.27 L114.26 1414.01 L122.524 1412.35 L127.2 1412.35 L127.2 1442.97 L134.839 1442.97 L134.839 1446.91 L114.931 1446.91 L114.931 1442.97 Z\" fill=\"#000000\" fill-rule=\"evenodd\" fill-opacity=\"1\" /><path clip-path=\"url(#clip890)\" d=\"M154.283 1415.43 Q150.672 1415.43 148.843 1418.99 Q147.038 1422.53 147.038 1429.66 Q147.038 1436.77 148.843 1440.33 Q150.672 1443.88 154.283 1443.88 Q157.917 1443.88 159.723 1440.33 Q161.552 1436.77 161.552 1429.66 Q161.552 1422.53 159.723 1418.99 Q157.917 1415.43 154.283 1415.43 M154.283 1411.72 Q160.093 1411.72 163.149 1416.33 Q166.227 1420.91 166.227 1429.66 Q166.227 1438.39 163.149 1443 Q160.093 1447.58 154.283 1447.58 Q148.473 1447.58 145.394 1443 Q142.339 1438.39 142.339 1429.66 Q142.339 1420.91 145.394 1416.33 Q148.473 1411.72 154.283 1411.72 Z\" fill=\"#000000\" fill-rule=\"evenodd\" fill-opacity=\"1\" /><path clip-path=\"url(#clip890)\" d=\"M166.227 1405.82 L190.339 1405.82 L190.339 1409.02 L166.227 1409.02 L166.227 1405.82 Z\" fill=\"#000000\" fill-rule=\"evenodd\" fill-opacity=\"1\" /><path clip-path=\"url(#clip890)\" d=\"M199.197 1416.3 L205.404 1416.3 L205.404 1394.88 L198.652 1396.23 L198.652 1392.77 L205.366 1391.42 L209.166 1391.42 L209.166 1416.3 L215.372 1416.3 L215.372 1419.5 L199.197 1419.5 L199.197 1416.3 Z\" fill=\"#000000\" fill-rule=\"evenodd\" fill-opacity=\"1\" /><path clip-path=\"url(#clip890)\" d=\"M231.171 1393.92 Q228.237 1393.92 226.751 1396.81 Q225.284 1399.69 225.284 1405.49 Q225.284 1411.26 226.751 1414.16 Q228.237 1417.03 231.171 1417.03 Q234.124 1417.03 235.591 1414.16 Q237.076 1411.26 237.076 1405.49 Q237.076 1399.69 235.591 1396.81 Q234.124 1393.92 231.171 1393.92 M231.171 1390.91 Q235.891 1390.91 238.374 1394.65 Q240.876 1398.38 240.876 1405.49 Q240.876 1412.58 238.374 1416.32 Q235.891 1420.04 231.171 1420.04 Q226.45 1420.04 223.949 1416.32 Q221.466 1412.58 221.466 1405.49 Q221.466 1398.38 223.949 1394.65 Q226.45 1390.91 231.171 1390.91 Z\" fill=\"#000000\" fill-rule=\"evenodd\" fill-opacity=\"1\" /><path clip-path=\"url(#clip890)\" d=\"M140.247 1159.42 L147.886 1159.42 L147.886 1133.05 L139.575 1134.72 L139.575 1130.46 L147.839 1128.79 L152.515 1128.79 L152.515 1159.42 L160.154 1159.42 L160.154 1163.35 L140.247 1163.35 L140.247 1159.42 Z\" fill=\"#000000\" fill-rule=\"evenodd\" fill-opacity=\"1\" /><path clip-path=\"url(#clip890)\" d=\"M179.598 1131.87 Q175.987 1131.87 174.159 1135.44 Q172.353 1138.98 172.353 1146.11 Q172.353 1153.21 174.159 1156.78 Q175.987 1160.32 179.598 1160.32 Q183.233 1160.32 185.038 1156.78 Q186.867 1153.21 186.867 1146.11 Q186.867 1138.98 185.038 1135.44 Q183.233 1131.87 179.598 1131.87 M179.598 1128.17 Q185.409 1128.17 188.464 1132.77 Q191.543 1137.36 191.543 1146.11 Q191.543 1154.83 188.464 1159.44 Q185.409 1164.02 179.598 1164.02 Q173.788 1164.02 170.71 1159.44 Q167.654 1154.83 167.654 1146.11 Q167.654 1137.36 170.71 1132.77 Q173.788 1128.17 179.598 1128.17 Z\" fill=\"#000000\" fill-rule=\"evenodd\" fill-opacity=\"1\" /><path clip-path=\"url(#clip890)\" d=\"M191.543 1122.27 L215.654 1122.27 L215.654 1125.47 L191.543 1125.47 L191.543 1122.27 Z\" fill=\"#000000\" fill-rule=\"evenodd\" fill-opacity=\"1\" /><path clip-path=\"url(#clip890)\" d=\"M223.892 1107.86 L238.807 1107.86 L238.807 1111.06 L227.372 1111.06 L227.372 1117.94 Q228.199 1117.66 229.027 1117.53 Q229.854 1117.38 230.682 1117.38 Q235.384 1117.38 238.13 1119.96 Q240.876 1122.53 240.876 1126.93 Q240.876 1131.47 238.054 1133.99 Q235.233 1136.49 230.099 1136.49 Q228.331 1136.49 226.488 1136.19 Q224.663 1135.89 222.707 1135.28 L222.707 1131.47 Q224.4 1132.39 226.205 1132.84 Q228.011 1133.29 230.023 1133.29 Q233.277 1133.29 235.177 1131.58 Q237.076 1129.87 237.076 1126.93 Q237.076 1124 235.177 1122.29 Q233.277 1120.58 230.023 1120.58 Q228.5 1120.58 226.977 1120.92 Q225.472 1121.25 223.892 1121.97 L223.892 1107.86 Z\" fill=\"#000000\" fill-rule=\"evenodd\" fill-opacity=\"1\" /><path clip-path=\"url(#clip890)\" d=\"M170.17 875.864 L177.809 875.864 L177.809 849.498 L169.499 851.165 L169.499 846.906 L177.762 845.239 L182.438 845.239 L182.438 875.864 L190.077 875.864 L190.077 879.799 L170.17 879.799 L170.17 875.864 Z\" fill=\"#000000\" fill-rule=\"evenodd\" fill-opacity=\"1\" /><path clip-path=\"url(#clip890)\" d=\"M209.522 848.318 Q205.91 848.318 204.082 851.883 Q202.276 855.424 202.276 862.554 Q202.276 869.66 204.082 873.225 Q205.91 876.767 209.522 876.767 Q213.156 876.767 214.961 873.225 Q216.79 869.66 216.79 862.554 Q216.79 855.424 214.961 851.883 Q213.156 848.318 209.522 848.318 M209.522 844.614 Q215.332 844.614 218.387 849.221 Q221.466 853.804 221.466 862.554 Q221.466 871.281 218.387 875.887 Q215.332 880.47 209.522 880.47 Q203.711 880.47 200.633 875.887 Q197.577 871.281 197.577 862.554 Q197.577 853.804 200.633 849.221 Q203.711 844.614 209.522 844.614 Z\" fill=\"#000000\" fill-rule=\"evenodd\" fill-opacity=\"1\" /><path clip-path=\"url(#clip890)\" d=\"M231.171 826.81 Q228.237 826.81 226.751 829.707 Q225.284 832.584 225.284 838.377 Q225.284 844.151 226.751 847.047 Q228.237 849.925 231.171 849.925 Q234.124 849.925 235.591 847.047 Q237.076 844.151 237.076 838.377 Q237.076 832.584 235.591 829.707 Q234.124 826.81 231.171 826.81 M231.171 823.801 Q235.891 823.801 238.374 827.544 Q240.876 831.268 240.876 838.377 Q240.876 845.467 238.374 849.21 Q235.891 852.934 231.171 852.934 Q226.45 852.934 223.949 849.21 Q221.466 845.467 221.466 838.377 Q221.466 831.268 223.949 827.544 Q226.45 823.801 231.171 823.801 Z\" fill=\"#000000\" fill-rule=\"evenodd\" fill-opacity=\"1\" /><path clip-path=\"url(#clip890)\" d=\"M20.8447 1297.07 Q20.8447 1304.07 26.0645 1308.21 Q31.2844 1312.32 40.2919 1312.32 Q49.2675 1312.32 54.4874 1308.21 Q59.7073 1304.07 59.7073 1297.07 Q59.7073 1290.07 54.4874 1285.99 Q49.2675 1281.89 40.2919 1281.89 Q31.2844 1281.89 26.0645 1285.99 Q20.8447 1290.07 20.8447 1297.07 M15.6248 1297.07 Q15.6248 1287.08 22.3406 1281.09 Q29.0246 1275.11 40.2919 1275.11 Q51.5274 1275.11 58.2432 1281.09 Q64.9272 1287.08 64.9272 1297.07 Q64.9272 1307.1 58.2432 1313.11 Q51.5592 1319.09 40.2919 1319.09 Q29.0246 1319.09 22.3406 1313.11 Q15.6248 1307.1 15.6248 1297.07 Z\" fill=\"#000000\" fill-rule=\"evenodd\" fill-opacity=\"1\" /><path clip-path=\"url(#clip890)\" d=\"M29.7248 1239.65 L35.1993 1239.65 Q33.8307 1242.13 33.1623 1244.65 Q32.4621 1247.13 32.4621 1249.68 Q32.4621 1255.37 36.0905 1258.53 Q39.6872 1261.68 46.212 1261.68 Q52.7369 1261.68 56.3653 1258.53 Q59.9619 1255.37 59.9619 1249.68 Q59.9619 1247.13 59.2935 1244.65 Q58.5933 1242.13 57.2247 1239.65 L62.6355 1239.65 Q63.7814 1242.1 64.3543 1244.74 Q64.9272 1247.35 64.9272 1250.31 Q64.9272 1258.37 59.8664 1263.11 Q54.8057 1267.85 46.212 1267.85 Q37.491 1267.85 32.4939 1263.08 Q27.4968 1258.27 27.4968 1249.93 Q27.4968 1247.23 28.0697 1244.65 Q28.6108 1242.07 29.7248 1239.65 Z\" fill=\"#000000\" fill-rule=\"evenodd\" fill-opacity=\"1\" /><path clip-path=\"url(#clip890)\" d=\"M29.7248 1203.81 L35.1993 1203.81 Q33.8307 1206.29 33.1623 1208.81 Q32.4621 1211.29 32.4621 1213.84 Q32.4621 1219.54 36.0905 1222.69 Q39.6872 1225.84 46.212 1225.84 Q52.7369 1225.84 56.3653 1222.69 Q59.9619 1219.54 59.9619 1213.84 Q59.9619 1211.29 59.2935 1208.81 Q58.5933 1206.29 57.2247 1203.81 L62.6355 1203.81 Q63.7814 1206.26 64.3543 1208.9 Q64.9272 1211.51 64.9272 1214.47 Q64.9272 1222.53 59.8664 1227.27 Q54.8057 1232.01 46.212 1232.01 Q37.491 1232.01 32.4939 1227.24 Q27.4968 1222.43 27.4968 1214.09 Q27.4968 1211.39 28.0697 1208.81 Q28.6108 1206.23 29.7248 1203.81 Z\" fill=\"#000000\" fill-rule=\"evenodd\" fill-opacity=\"1\" /><path clip-path=\"url(#clip890)\" d=\"M49.9359 1194.23 L28.3562 1194.23 L28.3562 1188.38 L49.7131 1188.38 Q54.7739 1188.38 57.3202 1186.4 Q59.8346 1184.43 59.8346 1180.48 Q59.8346 1175.74 56.8109 1173 Q53.7872 1170.23 48.5673 1170.23 L28.3562 1170.23 L28.3562 1164.38 L64.0042 1164.38 L64.0042 1170.23 L58.5296 1170.23 Q61.7762 1172.37 63.3676 1175.2 Q64.9272 1178 64.9272 1181.72 Q64.9272 1187.87 61.1078 1191.05 Q57.2883 1194.23 49.9359 1194.23 M27.4968 1179.49 L27.4968 1179.49 Z\" fill=\"#000000\" fill-rule=\"evenodd\" fill-opacity=\"1\" /><path clip-path=\"url(#clip890)\" d=\"M58.657 1146.65 L77.5631 1146.65 L77.5631 1152.54 L28.3562 1152.54 L28.3562 1146.65 L33.7671 1146.65 Q30.5842 1144.8 29.0564 1142 Q27.4968 1139.17 27.4968 1135.25 Q27.4968 1128.76 32.6531 1124.72 Q37.8093 1120.64 46.212 1120.64 Q54.6147 1120.64 59.771 1124.72 Q64.9272 1128.76 64.9272 1135.25 Q64.9272 1139.17 63.3994 1142 Q61.8398 1144.8 58.657 1146.65 M46.212 1126.72 Q39.7508 1126.72 36.0905 1129.4 Q32.3984 1132.04 32.3984 1136.69 Q32.3984 1141.33 36.0905 1144.01 Q39.7508 1146.65 46.212 1146.65 Q52.6732 1146.65 56.3653 1144.01 Q60.0256 1141.33 60.0256 1136.69 Q60.0256 1132.04 56.3653 1129.4 Q52.6732 1126.72 46.212 1126.72 Z\" fill=\"#000000\" fill-rule=\"evenodd\" fill-opacity=\"1\" /><path clip-path=\"url(#clip890)\" d=\"M46.0847 1094.74 Q46.0847 1101.83 47.7079 1104.57 Q49.3312 1107.31 53.2461 1107.31 Q56.3653 1107.31 58.2114 1105.27 Q60.0256 1103.2 60.0256 1099.67 Q60.0256 1094.8 56.5881 1091.87 Q53.1188 1088.91 47.3897 1088.91 L46.0847 1088.91 L46.0847 1094.74 M43.6657 1083.05 L64.0042 1083.05 L64.0042 1088.91 L58.5933 1088.91 Q61.8398 1090.92 63.3994 1093.91 Q64.9272 1096.9 64.9272 1101.23 Q64.9272 1106.7 61.8716 1109.95 Q58.7843 1113.16 53.6281 1113.16 Q47.6125 1113.16 44.5569 1109.15 Q41.5014 1105.11 41.5014 1097.12 L41.5014 1088.91 L40.9285 1088.91 Q36.8862 1088.91 34.6901 1091.58 Q32.4621 1094.23 32.4621 1099.03 Q32.4621 1102.09 33.1941 1104.98 Q33.9262 1107.88 35.3903 1110.55 L29.9795 1110.55 Q28.7381 1107.34 28.1334 1104.32 Q27.4968 1101.29 27.4968 1098.43 Q27.4968 1090.69 31.5072 1086.87 Q35.5176 1083.05 43.6657 1083.05 Z\" fill=\"#000000\" fill-rule=\"evenodd\" fill-opacity=\"1\" /><path clip-path=\"url(#clip890)\" d=\"M18.2347 1065.2 L28.3562 1065.2 L28.3562 1053.14 L32.9077 1053.14 L32.9077 1065.2 L52.2594 1065.2 Q56.6199 1065.2 57.8613 1064.02 Q59.1026 1062.81 59.1026 1059.15 L59.1026 1053.14 L64.0042 1053.14 L64.0042 1059.15 Q64.0042 1065.93 61.4897 1068.51 Q58.9434 1071.09 52.2594 1071.09 L32.9077 1071.09 L32.9077 1075.38 L28.3562 1075.38 L28.3562 1071.09 L18.2347 1071.09 L18.2347 1065.2 Z\" fill=\"#000000\" fill-rule=\"evenodd\" fill-opacity=\"1\" /><path clip-path=\"url(#clip890)\" d=\"M28.3562 1045.43 L28.3562 1039.58 L64.0042 1039.58 L64.0042 1045.43 L28.3562 1045.43 M14.479 1045.43 L14.479 1039.58 L21.895 1039.58 L21.895 1045.43 L14.479 1045.43 Z\" fill=\"#000000\" fill-rule=\"evenodd\" fill-opacity=\"1\" /><path clip-path=\"url(#clip890)\" d=\"M32.4621 1013.51 Q32.4621 1018.22 36.1542 1020.96 Q39.8145 1023.69 46.212 1023.69 Q52.6095 1023.69 56.3017 1020.99 Q59.9619 1018.25 59.9619 1013.51 Q59.9619 1008.83 56.2698 1006.09 Q52.5777 1003.36 46.212 1003.36 Q39.8781 1003.36 36.186 1006.09 Q32.4621 1008.83 32.4621 1013.51 M27.4968 1013.51 Q27.4968 1005.87 32.4621 1001.51 Q37.4273 997.149 46.212 997.149 Q54.9649 997.149 59.9619 1001.51 Q64.9272 1005.87 64.9272 1013.51 Q64.9272 1021.18 59.9619 1025.54 Q54.9649 1029.87 46.212 1029.87 Q37.4273 1029.87 32.4621 1025.54 Q27.4968 1021.18 27.4968 1013.51 Z\" fill=\"#000000\" fill-rule=\"evenodd\" fill-opacity=\"1\" /><path clip-path=\"url(#clip890)\" d=\"M42.4881 957.809 L64.0042 957.809 L64.0042 963.666 L42.679 963.666 Q37.6183 963.666 35.1038 965.639 Q32.5894 967.612 32.5894 971.559 Q32.5894 976.302 35.6131 979.039 Q38.6368 981.776 43.8567 981.776 L64.0042 981.776 L64.0042 987.664 L28.3562 987.664 L28.3562 981.776 L33.8944 981.776 Q30.6797 979.675 29.0883 976.843 Q27.4968 973.978 27.4968 970.254 Q27.4968 964.111 31.3163 960.96 Q35.1038 957.809 42.4881 957.809 Z\" fill=\"#000000\" fill-rule=\"evenodd\" fill-opacity=\"1\" /><polyline clip-path=\"url(#clip893)\" style=\"stroke:#009af9; stroke-linecap:round; stroke-linejoin:round; stroke-width:4; stroke-opacity:1; fill:none\" points=\"\n",
       "  335.627,2351.84 337.587,1259.44 339.548,1225.04 341.508,1204.81 343.468,1190.39 345.429,1179.15 347.389,1169.93 349.349,1162.1 351.31,1155.28 353.27,1149.24 \n",
       "  355.23,1143.82 357.191,1138.9 359.151,1134.4 361.111,1130.27 363.072,1126.43 365.032,1122.87 366.992,1119.54 368.953,1116.41 370.913,1113.46 372.873,1110.67 \n",
       "  374.834,1108.01 376.794,1105.48 378.754,1103.06 380.715,1100.75 382.675,1098.55 384.635,1096.44 386.596,1094.43 388.556,1092.5 390.516,1090.65 392.477,1088.88 \n",
       "  394.437,1087.17 396.397,1085.53 398.358,1083.94 400.318,1082.4 402.278,1080.91 404.239,1079.47 406.199,1078.07 408.159,1076.73 410.12,1075.43 412.08,1074.19 \n",
       "  414.04,1072.98 416.001,1071.82 417.961,1070.7 419.921,1069.62 421.882,1068.57 423.842,1067.54 425.802,1066.55 427.763,1065.58 429.723,1064.64 431.683,1063.74 \n",
       "  433.644,1062.87 435.604,1062.03 437.564,1061.22 439.525,1060.45 441.485,1059.7 443.445,1058.97 445.406,1058.27 447.366,1057.59 449.326,1056.94 451.287,1056.3 \n",
       "  453.247,1055.69 455.207,1055.1 457.168,1054.53 459.128,1053.99 461.088,1053.47 463.049,1052.97 465.009,1052.5 466.969,1052.05 468.93,1051.62 470.89,1051.21 \n",
       "  472.851,1050.81 474.811,1050.44 476.771,1050.08 478.732,1049.74 480.692,1049.42 482.652,1049.11 484.613,1048.83 486.573,1048.56 488.533,1048.31 490.494,1048.08 \n",
       "  492.454,1047.87 494.414,1047.67 496.375,1047.49 498.335,1047.32 500.295,1047.17 502.256,1047.04 504.216,1046.92 506.176,1046.82 508.137,1046.72 510.097,1046.64 \n",
       "  512.057,1046.57 514.018,1046.51 515.978,1046.47 517.938,1046.43 519.899,1046.41 521.859,1046.4 523.819,1046.4 525.78,1046.41 527.74,1046.43 529.7,1046.45 \n",
       "  531.661,1046.49 533.621,1046.52 535.581,1046.56 537.542,1046.6 539.502,1046.64 541.462,1046.68 543.423,1046.72 545.383,1046.75 547.343,1046.79 549.304,1046.83 \n",
       "  551.264,1046.86 553.224,1046.89 555.185,1046.91 557.145,1046.92 559.105,1046.91 561.066,1046.9 563.026,1046.86 564.986,1046.81 566.947,1046.73 568.907,1046.64 \n",
       "  570.867,1046.52 572.828,1046.38 574.788,1046.22 576.748,1046.04 578.709,1045.83 580.669,1045.59 582.629,1045.32 584.59,1045.03 586.55,1044.71 588.51,1044.35 \n",
       "  590.471,1043.97 592.431,1043.55 594.391,1043.1 596.352,1042.62 598.312,1042.12 600.272,1041.58 602.233,1041.01 604.193,1040.42 606.153,1039.79 608.114,1039.15 \n",
       "  610.074,1038.47 612.035,1037.78 613.995,1037.06 615.955,1036.33 617.916,1035.58 619.876,1034.81 621.836,1034.03 623.797,1033.24 625.757,1032.43 627.717,1031.62 \n",
       "  629.678,1030.79 631.638,1029.96 633.598,1029.11 635.559,1028.26 637.519,1027.41 639.479,1026.55 641.44,1025.69 643.4,1024.83 645.36,1023.97 647.321,1023.12 \n",
       "  649.281,1022.27 651.241,1021.43 653.202,1020.59 655.162,1019.76 657.122,1018.93 659.083,1018.11 661.043,1017.3 663.003,1016.49 664.964,1015.68 666.924,1014.89 \n",
       "  668.884,1014.11 670.845,1013.33 672.805,1012.57 674.765,1011.81 676.726,1011.07 678.686,1010.33 680.646,1009.61 682.607,1008.9 684.567,1008.2 686.527,1007.51 \n",
       "  688.488,1006.84 690.448,1006.17 692.408,1005.53 694.369,1004.89 696.329,1004.26 698.289,1003.65 700.25,1003.05 702.21,1002.46 704.17,1001.89 706.131,1001.32 \n",
       "  708.091,1000.77 710.051,1000.23 712.012,999.697 713.972,999.182 715.932,998.681 717.893,998.194 719.853,997.721 721.813,997.263 723.774,996.818 725.734,996.387 \n",
       "  727.694,995.969 729.655,995.564 731.615,995.171 733.575,994.791 735.536,994.423 737.496,994.069 739.456,993.727 741.417,993.398 743.377,993.083 745.337,992.781 \n",
       "  747.298,992.493 749.258,992.217 751.219,991.956 753.179,991.708 755.139,991.473 757.1,991.253 759.06,991.046 761.02,990.854 762.981,990.676 764.941,990.512 \n",
       "  766.901,990.362 768.862,990.226 770.822,990.104 772.782,989.995 774.743,989.899 776.703,989.817 778.663,989.747 780.624,989.69 782.584,989.646 784.544,989.616 \n",
       "  786.505,989.601 788.465,989.6 790.425,989.614 792.386,989.643 794.346,989.687 796.306,989.746 798.267,989.819 800.227,989.908 802.187,990.011 804.148,990.128 \n",
       "  806.108,990.26 808.068,990.406 810.029,990.566 811.989,990.742 813.949,990.931 815.91,991.135 817.87,991.354 819.83,991.587 821.791,991.834 823.751,992.096 \n",
       "  825.711,992.372 827.672,992.663 829.632,992.968 831.592,993.289 833.553,993.626 835.513,993.978 837.473,994.347 839.434,994.731 841.394,995.131 843.354,995.546 \n",
       "  845.315,995.977 847.275,996.422 849.235,996.88 851.196,997.353 853.156,997.839 855.116,998.339 857.077,998.852 859.037,999.378 860.997,999.917 862.958,1000.47 \n",
       "  864.918,1001.03 866.878,1001.61 868.839,1002.2 870.799,1002.8 872.759,1003.41 874.72,1004.04 876.68,1004.67 878.64,1005.31 880.601,1005.97 882.561,1006.63 \n",
       "  884.522,1007.3 886.482,1007.98 888.442,1008.66 890.403,1009.35 892.363,1010.04 894.323,1010.73 896.284,1011.43 898.244,1012.12 900.204,1012.81 902.165,1013.49 \n",
       "  904.125,1014.17 906.085,1014.84 908.046,1015.51 910.006,1016.16 911.966,1016.81 913.927,1017.44 915.887,1018.06 917.847,1018.67 919.808,1019.26 921.768,1019.83 \n",
       "  923.728,1020.39 925.689,1020.92 927.649,1021.44 929.609,1021.93 931.57,1022.4 933.53,1022.85 935.49,1023.27 937.451,1023.68 939.411,1024.05 941.371,1024.41 \n",
       "  943.332,1024.74 945.292,1025.04 947.252,1025.33 949.213,1025.59 951.173,1025.83 953.133,1026.06 955.094,1026.27 957.054,1026.46 959.014,1026.65 960.975,1026.82 \n",
       "  962.935,1026.99 964.895,1027.16 966.856,1027.32 968.816,1027.48 970.776,1027.65 972.737,1027.82 974.697,1027.99 976.657,1028.18 978.618,1028.37 980.578,1028.58 \n",
       "  982.538,1028.81 984.499,1029.05 986.459,1029.31 988.419,1029.59 990.38,1029.59 992.34,1029.58 994.3,1029.54 996.261,1029.48 998.221,1029.36 1000.18,1029.19 \n",
       "  1002.14,1028.93 1004.1,1028.6 1006.06,1028.19 1008.02,1027.7 1009.98,1027.17 1011.94,1026.61 1013.9,1026.06 1015.86,1025.57 1017.82,1025.17 1019.78,1024.91 \n",
       "  1021.75,1024.84 1023.71,1025.01 1025.67,1025.48 1027.63,1026.31 1029.59,1027.57 1031.55,1029.32 1033.51,1031.62 1035.47,1034.54 1037.43,1038.11 1039.39,1042.3 \n",
       "  1041.35,1046.95 1043.31,1051.52 1045.27,1054.86 1047.23,1055.26 1049.19,1051.58 1051.15,1044.49 1053.11,1035.74 1055.07,1026.72 1057.03,1018.14 1058.99,1010.24 \n",
       "  1060.95,1003.07 1062.91,996.605 1064.87,990.762 1066.83,985.475 1068.79,980.681 1070.75,976.327 1072.71,972.375 1074.67,968.794 1076.63,965.566 1078.59,962.674 \n",
       "  1080.56,960.105 1082.52,957.843 1084.48,955.873 1086.44,954.179 1088.4,952.743 1090.36,951.552 1092.32,950.592 1094.28,949.851 1096.24,949.319 1098.2,948.982 \n",
       "  1100.16,948.821 1102.12,948.813 1104.08,948.927 1106.04,949.126 1108,949.365 1109.96,949.596 1111.92,949.765 1113.88,949.818 1115.84,949.699 1117.8,949.354 \n",
       "  1119.76,948.735 1121.72,947.81 1123.68,946.564 1125.64,945.007 1127.6,943.173 1129.56,941.115 1131.52,938.891 1133.48,936.559 1135.44,934.171 1137.41,931.768 \n",
       "  1139.37,929.382 1141.33,927.039 1143.29,924.76 1145.25,922.563 1147.21,920.464 1149.17,918.479 1151.13,916.62 1153.09,914.895 1155.05,913.31 1157.01,911.864 \n",
       "  1158.97,910.555 1160.93,909.378 1162.89,908.327 1164.85,907.397 1166.81,906.584 1168.77,905.885 1170.73,905.298 1172.69,904.819 1174.65,904.443 1176.61,904.161 \n",
       "  1178.57,903.962 1180.53,903.836 1182.49,903.767 1184.45,903.741 1186.41,903.741 1188.37,903.75 1190.33,903.75 1192.29,903.723 1194.25,903.649 1196.22,903.511 \n",
       "  1198.18,903.292 1200.14,902.984 1202.1,902.578 1204.06,902.075 1206.02,901.477 1207.98,900.789 1209.94,900.019 1211.9,899.172 1213.86,898.257 1215.82,897.283 \n",
       "  1217.78,896.262 1219.74,895.207 1221.7,894.135 1223.66,893.062 1225.62,892.001 1227.58,890.967 1229.54,889.97 1231.5,889.017 1233.46,888.112 1235.42,887.258 \n",
       "  1237.38,886.459 1239.34,885.714 1241.3,885.028 1243.26,884.401 1245.22,883.837 1247.18,883.337 1249.14,882.899 1251.1,882.521 1253.07,882.202 1255.03,881.935 \n",
       "  1256.99,881.718 1258.95,881.547 1260.91,881.417 1262.87,881.324 1264.83,881.264 1266.79,881.231 1268.75,881.217 1270.71,881.216 1272.67,881.218 1274.63,881.217 \n",
       "  1276.59,881.204 1278.55,881.171 1280.51,881.114 1282.47,881.025 1284.43,880.9 1286.39,880.732 1288.35,880.516 1290.31,880.25 1292.27,879.932 1294.23,879.562 \n",
       "  1296.19,879.146 1298.15,878.688 1300.11,878.196 1302.07,877.675 1304.03,877.132 1305.99,876.571 1307.95,875.995 1309.91,875.408 1311.88,874.814 1313.84,874.218 \n",
       "  1315.8,873.626 1317.76,873.046 1319.72,872.484 1321.68,871.947 1323.64,871.441 1325.6,870.97 1327.56,870.536 1329.52,870.14 1331.48,869.783 1333.44,869.466 \n",
       "  1335.4,869.189 1337.36,868.952 1339.32,868.755 1341.28,868.597 1343.24,868.474 1345.2,868.384 1347.16,868.321 1349.12,868.281 1351.08,868.259 1353.04,868.25 \n",
       "  1355,868.248 1356.96,868.249 1358.92,868.248 1360.88,868.237 1362.84,868.212 1364.8,868.166 1366.76,868.096 1368.73,867.997 1370.69,867.869 1372.65,867.711 \n",
       "  1374.61,867.523 1376.57,867.308 1378.53,867.067 1380.49,866.8 1382.45,866.509 1384.41,866.197 1386.37,865.868 1388.33,865.524 1390.29,865.172 1392.25,864.816 \n",
       "  1394.21,864.462 1396.17,864.113 1398.13,863.773 1400.09,863.442 1402.05,863.122 1404.01,862.814 1405.97,862.519 1407.93,862.24 1409.89,861.979 1411.85,861.74 \n",
       "  1413.81,861.525 1415.77,861.335 1417.73,861.17 1419.69,861.031 1421.65,860.914 1423.61,860.817 1425.57,860.74 1427.54,860.679 1429.5,860.633 1431.46,860.601 \n",
       "  1433.42,860.58 1435.38,860.568 1437.34,860.563 1439.3,860.562 1441.26,860.563 1443.22,860.561 1445.18,860.557 1447.14,860.547 1449.1,860.53 1451.06,860.506 \n",
       "  1453.02,860.471 1454.98,860.424 1456.94,860.363 1458.9,860.287 1460.86,860.195 1462.82,860.087 1464.78,859.965 1466.74,859.831 1468.7,859.687 1470.66,859.535 \n",
       "  1472.62,859.377 1474.58,859.213 1476.54,859.044 1478.5,858.87 1480.46,858.694 1482.42,858.517 1484.38,858.342 1486.35,858.172 1488.31,858.009 1490.27,857.856 \n",
       "  1492.23,857.714 1494.19,857.582 1496.15,857.459 1498.11,857.346 1500.07,857.241 1502.03,857.145 1503.99,857.059 1505.95,856.984 1507.91,856.921 1509.87,856.87 \n",
       "  1511.83,856.831 1513.79,856.803 1515.75,856.783 1517.71,856.77 1519.67,856.763 1521.63,856.759 1523.59,856.759 1525.55,856.759 1527.51,856.76 1529.47,856.761 \n",
       "  1531.43,856.759 1533.39,856.755 1535.35,856.747 1537.31,856.736 1539.27,856.723 1541.23,856.707 1543.2,856.689 1545.16,856.669 1547.12,856.645 1549.08,856.618 \n",
       "  1551.04,856.587 1553,856.552 1554.96,856.514 1556.92,856.474 1558.88,856.433 1560.84,856.395 1562.8,856.36 1564.76,856.328 1566.72,856.299 1568.68,856.274 \n",
       "  1570.64,856.25 1572.6,856.228 1574.56,856.206 1576.52,856.186 1578.48,856.168 1580.44,856.152 1582.4,856.138 1584.36,856.127 1586.32,856.119 1588.28,856.112 \n",
       "  1590.24,856.106 1592.2,856.101 1594.16,856.097 1596.12,856.094 1598.08,856.092 1600.04,856.09 1602.01,856.09 1603.97,856.09 1605.93,856.09 1607.89,856.09 \n",
       "  1609.85,856.09 1611.81,856.091 1613.77,856.091 1615.73,856.092 1617.69,856.092 1619.65,856.093 1621.61,856.094 1623.57,856.094 1625.53,856.094 1627.49,856.094 \n",
       "  1629.45,856.095 1631.41,856.095 1633.37,856.095 1635.33,856.095 1637.29,856.095 1639.25,856.095 1641.21,856.095 1643.17,856.095 1645.13,856.095 1647.09,856.096 \n",
       "  1649.05,856.096 1651.01,856.096 1652.97,856.096 1654.93,856.097 1656.89,856.097 1658.86,856.097 1660.82,856.097 1662.78,856.097 1664.74,856.097 1666.7,856.098 \n",
       "  1668.66,856.098 1670.62,856.098 1672.58,856.098 1674.54,856.098 1676.5,856.098 1678.46,856.098 1680.42,856.099 1682.38,856.099 1684.34,856.099 1686.3,856.1 \n",
       "  1688.26,856.1 1690.22,856.101 1692.18,856.101 1694.14,856.101 1696.1,856.102 1698.06,856.102 1700.02,856.103 1701.98,856.103 1703.94,856.104 1705.9,856.105 \n",
       "  1707.86,856.105 1709.82,856.106 1711.78,856.107 1713.74,856.108 1715.7,856.108 1717.67,856.109 1719.63,856.11 1721.59,856.111 1723.55,856.113 1725.51,856.114 \n",
       "  1727.47,856.115 1729.43,856.116 1731.39,856.117 1733.35,856.119 1735.31,856.12 1737.27,856.121 1739.23,856.122 1741.19,856.124 1743.15,856.125 1745.11,856.126 \n",
       "  1747.07,856.128 1749.03,856.129 1750.99,856.131 1752.95,856.133 1754.91,856.134 1756.87,856.136 1758.83,856.137 1760.79,856.139 1762.75,856.14 1764.71,856.142 \n",
       "  1766.67,856.144 1768.63,856.145 1770.59,856.147 1772.55,856.149 1774.51,856.15 1776.48,856.152 1778.44,856.153 1780.4,856.154 1782.36,856.156 1784.32,856.157 \n",
       "  1786.28,856.159 1788.24,856.16 1790.2,856.162 1792.16,856.163 1794.12,856.165 1796.08,856.166 1798.04,856.167 1800,856.169 1801.96,856.17 1803.92,856.171 \n",
       "  1805.88,856.172 1807.84,856.173 1809.8,856.174 1811.76,856.175 1813.72,856.176 1815.68,856.177 1817.64,856.178 1819.6,856.178 1821.56,856.179 1823.52,856.179 \n",
       "  1825.48,856.18 1827.44,856.18 1829.4,856.181 1831.36,856.181 1833.33,856.182 1835.29,856.182 1837.25,856.182 1839.21,856.183 1841.17,856.183 1843.13,856.183 \n",
       "  1845.09,856.182 1847.05,856.182 1849.01,856.182 1850.97,856.181 1852.93,856.181 1854.89,856.181 1856.85,856.18 1858.81,856.18 1860.77,856.18 1862.73,856.179 \n",
       "  1864.69,856.178 1866.65,856.178 1868.61,856.177 1870.57,856.176 1872.53,856.175 1874.49,856.174 1876.45,856.173 1878.41,856.172 1880.37,856.171 1882.33,856.17 \n",
       "  1884.29,856.169 1886.25,856.168 1888.21,856.167 1890.17,856.165 1892.14,856.164 1894.1,856.162 1896.06,856.161 1898.02,856.16 1899.98,856.158 1901.94,856.157 \n",
       "  1903.9,856.156 1905.86,856.155 1907.82,856.153 1909.78,856.152 1911.74,856.15 1913.7,856.148 1915.66,856.147 1917.62,856.145 1919.58,856.143 1921.54,856.142 \n",
       "  1923.5,856.14 1925.46,856.139 1927.42,856.138 1929.38,856.136 1931.34,856.135 1933.3,856.133 1935.26,856.131 1937.22,856.13 1939.18,856.128 1941.14,856.127 \n",
       "  1943.1,856.125 1945.06,856.124 1947.02,856.122 1948.99,856.121 1950.95,856.12 1952.91,856.118 1954.87,856.117 1956.83,856.116 1958.79,856.114 1960.75,856.113 \n",
       "  1962.71,856.111 1964.67,856.11 1966.63,856.109 1968.59,856.108 1970.55,856.107 1972.51,856.106 1974.47,856.105 1976.43,856.104 1978.39,856.103 1980.35,856.101 \n",
       "  1982.31,856.1 1984.27,856.099 1986.23,856.098 1988.19,856.097 1990.15,856.097 1992.11,856.096 1994.07,856.095 1996.03,856.095 1997.99,856.094 1999.95,856.093 \n",
       "  2001.91,856.092 2003.87,856.092 2005.83,856.091 2007.8,856.09 2009.76,856.09 2011.72,856.089 2013.68,856.089 2015.64,856.088 2017.6,856.088 2019.56,856.088 \n",
       "  2021.52,856.087 2023.48,856.087 2025.44,856.086 2027.4,856.086 2029.36,856.085 2031.32,856.085 2033.28,856.085 2035.24,856.085 2037.2,856.085 2039.16,856.085 \n",
       "  2041.12,856.084 2043.08,856.084 2045.04,856.084 2047,856.084 2048.96,856.083 2050.92,856.083 2052.88,856.083 2054.84,856.083 2056.8,856.083 2058.76,856.083 \n",
       "  2060.72,856.083 2062.68,856.083 2064.65,856.083 2066.61,856.083 2068.57,856.083 2070.53,856.083 2072.49,856.083 2074.45,856.083 2076.41,856.083 2078.37,856.083 \n",
       "  2080.33,856.083 2082.29,856.083 2084.25,856.083 2086.21,856.083 2088.17,856.083 2090.13,856.083 2092.09,856.083 2094.05,856.083 2096.01,856.083 2097.97,856.083 \n",
       "  2099.93,856.083 2101.89,856.083 2103.85,856.083 2105.81,856.083 2107.77,856.083 2109.73,856.083 2111.69,856.083 2113.65,856.083 2115.61,856.083 2117.57,856.083 \n",
       "  2119.53,856.083 2121.49,856.083 2123.46,856.083 2125.42,856.083 2127.38,856.083 2129.34,856.083 2131.3,856.083 2133.26,856.083 2135.22,856.083 2137.18,856.082 \n",
       "  2139.14,856.082 2141.1,856.082 2143.06,856.082 2145.02,856.082 2146.98,856.082 2148.94,856.082 2150.9,856.082 2152.86,856.082 2154.82,856.082 2156.78,856.081 \n",
       "  2158.74,856.081 2160.7,856.081 2162.66,856.081 2164.62,856.081 2166.58,856.081 2168.54,856.081 2170.5,856.081 2172.46,856.08 2174.42,856.08 2176.38,856.08 \n",
       "  2178.34,856.079 2180.3,856.079 2182.27,856.079 2184.23,856.079 2186.19,856.079 2188.15,856.079 2190.11,856.079 2192.07,856.079 2194.03,856.078 2195.99,856.078 \n",
       "  2197.95,856.078 2199.91,856.077 2201.87,856.077 2203.83,856.077 2205.79,856.077 2207.75,856.077 2209.71,856.077 2211.67,856.077 2213.63,856.076 2215.59,856.076 \n",
       "  2217.55,856.076 2219.51,856.076 2221.47,856.075 2223.43,856.075 2225.39,856.075 2227.35,856.075 2229.31,856.075 2231.27,856.075 2233.23,856.075 2235.19,856.075 \n",
       "  2237.15,856.074 2239.12,856.074 2241.08,856.074 2243.04,856.074 2245,856.073 2246.96,856.073 2248.92,856.073 2250.88,856.073 2252.84,856.073 2254.8,856.073 \n",
       "  2256.76,856.073 2258.72,856.073 2260.68,856.073 2262.64,856.073 2264.6,856.073 2266.56,856.072 2268.52,856.072 2270.48,856.072 2272.44,856.072 2274.4,856.073 \n",
       "  2276.36,856.073 2278.32,856.072 2280.28,856.072 2282.24,856.072 2284.2,856.072 2286.16,856.072 2288.12,856.072 2290.08,856.072 2292.04,856.072 2294,856.072 \n",
       "  \n",
       "  \"/>\n",
       "<polyline clip-path=\"url(#clip893)\" style=\"stroke:#e26f46; stroke-linecap:round; stroke-linejoin:round; stroke-width:4; stroke-opacity:1; fill:none\" points=\"\n",
       "  335.627,856.072 337.587,856.072 339.548,856.072 341.508,856.072 343.468,856.072 345.429,856.072 347.389,856.072 349.349,856.072 351.31,856.072 353.27,856.072 \n",
       "  355.23,856.072 357.191,856.072 359.151,856.072 361.111,856.072 363.072,856.072 365.032,856.072 366.992,856.072 368.953,856.073 370.913,856.073 372.873,856.073 \n",
       "  374.834,856.073 376.794,856.073 378.754,856.073 380.715,856.073 382.675,856.073 384.635,856.073 386.596,856.073 388.556,856.073 390.516,856.074 392.477,856.074 \n",
       "  394.437,856.074 396.397,856.074 398.358,856.074 400.318,856.074 402.278,856.074 404.239,856.075 406.199,856.075 408.159,856.075 410.12,856.075 412.08,856.075 \n",
       "  414.04,856.076 416.001,856.076 417.961,856.076 419.921,856.076 421.882,856.076 423.842,856.076 425.802,856.077 427.763,856.077 429.723,856.077 431.683,856.077 \n",
       "  433.644,856.077 435.604,856.078 437.564,856.078 439.525,856.078 441.485,856.078 443.445,856.078 445.406,856.078 447.366,856.079 449.326,856.079 451.287,856.079 \n",
       "  453.247,856.079 455.207,856.08 457.168,856.08 459.128,856.08 461.088,856.08 463.049,856.08 465.009,856.08 466.969,856.08 468.93,856.08 470.89,856.081 \n",
       "  472.851,856.081 474.811,856.081 476.771,856.081 478.732,856.081 480.692,856.082 482.652,856.082 484.613,856.082 486.573,856.082 488.533,856.082 490.494,856.082 \n",
       "  492.454,856.082 494.414,856.082 496.375,856.082 498.335,856.082 500.295,856.082 502.256,856.082 504.216,856.083 506.176,856.083 508.137,856.083 510.097,856.083 \n",
       "  512.057,856.083 514.018,856.083 515.978,856.083 517.938,856.083 519.899,856.083 521.859,856.083 523.819,856.083 525.78,856.083 527.74,856.083 529.7,856.083 \n",
       "  531.661,856.083 533.621,856.083 535.581,856.083 537.542,856.083 539.502,856.083 541.462,856.083 543.423,856.083 545.383,856.083 547.343,856.083 549.304,856.083 \n",
       "  551.264,856.083 553.224,856.083 555.185,856.083 557.145,856.083 559.105,856.082 561.066,856.082 563.026,856.082 564.986,856.082 566.947,856.083 568.907,856.083 \n",
       "  570.867,856.083 572.828,856.083 574.788,856.083 576.748,856.083 578.709,856.083 580.669,856.083 582.629,856.083 584.59,856.083 586.55,856.083 588.51,856.083 \n",
       "  590.471,856.084 592.431,856.084 594.391,856.084 596.352,856.085 598.312,856.085 600.272,856.086 602.233,856.086 604.193,856.086 606.153,856.086 608.114,856.087 \n",
       "  610.074,856.087 612.035,856.087 613.995,856.088 615.955,856.088 617.916,856.089 619.876,856.089 621.836,856.09 623.797,856.091 625.757,856.091 627.717,856.092 \n",
       "  629.678,856.093 631.638,856.093 633.598,856.094 635.559,856.095 637.519,856.096 639.479,856.096 641.44,856.097 643.4,856.098 645.36,856.099 647.321,856.1 \n",
       "  649.281,856.101 651.241,856.102 653.202,856.103 655.162,856.104 657.122,856.105 659.083,856.106 661.043,856.107 663.003,856.108 664.964,856.11 666.924,856.111 \n",
       "  668.884,856.113 670.845,856.114 672.805,856.115 674.765,856.117 676.726,856.118 678.686,856.119 680.646,856.12 682.607,856.122 684.567,856.123 686.527,856.124 \n",
       "  688.488,856.126 690.448,856.127 692.408,856.129 694.369,856.131 696.329,856.132 698.289,856.134 700.25,856.136 702.21,856.137 704.17,856.139 706.131,856.14 \n",
       "  708.091,856.142 710.051,856.143 712.012,856.145 713.972,856.146 715.932,856.148 717.893,856.149 719.853,856.151 721.813,856.152 723.774,856.154 725.734,856.155 \n",
       "  727.694,856.156 729.655,856.158 731.615,856.159 733.575,856.16 735.536,856.162 737.496,856.163 739.456,856.165 741.417,856.166 743.377,856.167 745.337,856.169 \n",
       "  747.298,856.17 749.258,856.171 751.219,856.172 753.179,856.172 755.139,856.173 757.1,856.174 759.06,856.175 761.02,856.175 762.981,856.176 764.941,856.177 \n",
       "  766.901,856.178 768.862,856.179 770.822,856.179 772.782,856.18 774.743,856.18 776.703,856.181 778.663,856.181 780.624,856.181 782.584,856.181 784.544,856.181 \n",
       "  786.505,856.181 788.465,856.182 790.425,856.182 792.386,856.181 794.346,856.181 796.306,856.181 798.267,856.18 800.227,856.18 802.187,856.179 804.148,856.179 \n",
       "  806.108,856.178 808.068,856.177 810.029,856.177 811.989,856.176 813.949,856.176 815.91,856.175 817.87,856.174 819.83,856.173 821.791,856.172 823.751,856.171 \n",
       "  825.711,856.17 827.672,856.169 829.632,856.167 831.592,856.166 833.553,856.165 835.513,856.163 837.473,856.162 839.434,856.161 841.394,856.159 843.354,856.158 \n",
       "  845.315,856.156 847.275,856.155 849.235,856.153 851.196,856.152 853.156,856.15 855.116,856.148 857.077,856.147 859.037,856.145 860.997,856.144 862.958,856.143 \n",
       "  864.918,856.141 866.878,856.14 868.839,856.138 870.799,856.136 872.759,856.135 874.72,856.133 876.68,856.131 878.64,856.129 880.601,856.128 882.561,856.126 \n",
       "  884.522,856.125 886.482,856.124 888.442,856.122 890.403,856.121 892.363,856.12 894.323,856.118 896.284,856.117 898.244,856.116 900.204,856.114 902.165,856.113 \n",
       "  904.125,856.112 906.085,856.111 908.046,856.11 910.006,856.109 911.966,856.109 913.927,856.108 915.887,856.107 917.847,856.106 919.808,856.105 921.768,856.104 \n",
       "  923.728,856.103 925.689,856.102 927.649,856.102 929.609,856.101 931.57,856.1 933.53,856.1 935.49,856.1 937.451,856.099 939.411,856.099 941.371,856.099 \n",
       "  943.332,856.098 945.292,856.098 947.252,856.098 949.213,856.097 951.173,856.097 953.133,856.097 955.094,856.097 957.054,856.096 959.014,856.096 960.975,856.096 \n",
       "  962.935,856.096 964.895,856.096 966.856,856.096 968.816,856.096 970.776,856.095 972.737,856.095 974.697,856.095 976.657,856.094 978.618,856.094 980.578,856.094 \n",
       "  982.538,856.094 984.499,856.094 986.459,856.094 988.419,856.094 990.38,856.094 992.34,856.094 994.3,856.094 996.261,856.094 998.221,856.094 1000.18,856.094 \n",
       "  1002.14,856.094 1004.1,856.095 1006.06,856.095 1008.02,856.096 1009.98,856.097 1011.94,856.097 1013.9,856.098 1015.86,856.098 1017.82,856.099 1019.78,856.099 \n",
       "  1021.75,856.099 1023.71,856.099 1025.67,856.099 1027.63,856.099 1029.59,856.099 1031.55,856.1 1033.51,856.102 1035.47,856.105 1037.43,856.11 1039.39,856.118 \n",
       "  1041.35,856.128 1043.31,856.142 1045.27,856.16 1047.23,856.18 1049.19,856.205 1051.15,856.232 1053.11,856.261 1055.07,856.293 1057.03,856.325 1058.99,856.358 \n",
       "  1060.95,856.391 1062.91,856.424 1064.87,856.456 1066.83,856.488 1068.79,856.519 1070.75,856.548 1072.71,856.575 1074.67,856.599 1076.63,856.622 1078.59,856.641 \n",
       "  1080.56,856.658 1082.52,856.672 1084.48,856.683 1086.44,856.691 1088.4,856.696 1090.36,856.699 1092.32,856.7 1094.28,856.698 1096.24,856.695 1098.2,856.692 \n",
       "  1100.16,856.69 1102.12,856.69 1104.08,856.693 1106.04,856.701 1108,856.716 1109.96,856.738 1111.92,856.768 1113.88,856.807 1115.84,856.856 1117.8,856.915 \n",
       "  1119.76,856.984 1121.72,857.062 1123.68,857.148 1125.64,857.241 1127.6,857.34 1129.56,857.443 1131.52,857.551 1133.48,857.663 1135.44,857.78 1137.41,857.902 \n",
       "  1139.37,858.03 1141.33,858.164 1143.29,858.304 1145.25,858.449 1147.21,858.596 1149.17,858.745 1151.13,858.892 1153.09,859.036 1155.05,859.175 1157.01,859.307 \n",
       "  1158.97,859.43 1160.93,859.544 1162.89,859.645 1164.85,859.735 1166.81,859.81 1168.77,859.871 1170.73,859.918 1172.69,859.952 1174.65,859.974 1176.61,859.985 \n",
       "  1178.57,859.988 1180.53,859.986 1182.49,859.981 1184.45,859.978 1186.41,859.978 1188.37,859.985 1190.33,860.001 1192.29,860.028 1194.25,860.067 1196.22,860.121 \n",
       "  1198.18,860.19 1200.14,860.275 1202.1,860.377 1204.06,860.498 1206.02,860.638 1207.98,860.799 1209.94,860.981 1211.9,861.185 1213.86,861.412 1215.82,861.659 \n",
       "  1217.78,861.927 1219.74,862.213 1221.7,862.515 1223.66,862.83 1225.62,863.157 1227.58,863.492 1229.54,863.831 1231.5,864.171 1233.46,864.507 1235.42,864.836 \n",
       "  1237.38,865.151 1239.34,865.449 1241.3,865.727 1243.26,865.98 1245.22,866.206 1247.18,866.406 1249.14,866.577 1251.1,866.72 1253.07,866.838 1255.03,866.931 \n",
       "  1256.99,867.001 1258.95,867.052 1260.91,867.086 1262.87,867.105 1264.83,867.114 1266.79,867.116 1268.75,867.115 1270.71,867.115 1272.67,867.119 1274.63,867.132 \n",
       "  1276.59,867.157 1278.55,867.198 1280.51,867.259 1282.47,867.344 1284.43,867.458 1286.39,867.604 1288.35,867.785 1290.31,868.002 1292.27,868.258 1294.23,868.553 \n",
       "  1296.19,868.886 1298.15,869.256 1300.11,869.661 1302.07,870.099 1304.03,870.568 1305.99,871.063 1307.95,871.581 1309.91,872.117 1311.88,872.666 1313.84,873.222 \n",
       "  1315.8,873.779 1317.76,874.331 1319.72,874.874 1321.68,875.4 1323.64,875.907 1325.6,876.39 1327.56,876.845 1329.52,877.267 1331.48,877.654 1333.44,878.002 \n",
       "  1335.4,878.307 1337.36,878.569 1339.32,878.787 1341.28,878.961 1343.24,879.094 1345.2,879.188 1347.16,879.25 1349.12,879.285 1351.08,879.3 1353.04,879.303 \n",
       "  1355,879.302 1356.96,879.307 1358.92,879.327 1360.88,879.369 1362.84,879.442 1364.8,879.554 1366.76,879.709 1368.73,879.915 1370.69,880.173 1372.65,880.488 \n",
       "  1374.61,880.861 1376.57,881.293 1378.53,881.783 1380.49,882.33 1382.45,882.931 1384.41,883.584 1386.37,884.286 1388.33,885.033 1390.29,885.822 1392.25,886.651 \n",
       "  1394.21,887.516 1396.17,888.414 1398.13,889.339 1400.09,890.285 1402.05,891.242 1404.01,892.202 1405.97,893.153 1407.93,894.083 1409.89,894.981 1411.85,895.833 \n",
       "  1413.81,896.627 1415.77,897.355 1417.73,898.006 1419.69,898.576 1421.65,899.059 1423.61,899.456 1425.57,899.767 1427.54,899.998 1429.5,900.156 1431.46,900.253 \n",
       "  1433.42,900.301 1435.38,900.317 1437.34,900.315 1439.3,900.312 1441.26,900.321 1443.22,900.356 1445.18,900.428 1447.14,900.547 1449.1,900.721 1451.06,900.958 \n",
       "  1453.02,901.265 1454.98,901.646 1456.94,902.106 1458.9,902.65 1460.86,903.282 1462.82,904.006 1464.78,904.826 1466.74,905.747 1468.7,906.775 1470.66,907.914 \n",
       "  1472.62,909.17 1474.58,910.544 1476.54,912.038 1478.5,913.649 1480.46,915.373 1482.42,917.202 1484.38,919.126 1486.35,921.134 1488.31,923.211 1490.27,925.34 \n",
       "  1492.23,927.498 1494.19,929.661 1496.15,931.798 1498.11,933.874 1500.07,935.85 1502.03,937.686 1503.99,939.346 1505.95,940.796 1507.91,942.015 1509.87,942.991 \n",
       "  1511.83,943.73 1513.79,944.247 1515.75,944.575 1517.71,944.753 1519.67,944.826 1521.63,944.84 1523.59,944.837 1525.55,944.854 1527.51,944.925 1529.47,945.075 \n",
       "  1531.43,945.33 1533.39,945.708 1535.35,946.227 1537.31,946.903 1539.27,947.75 1541.23,948.78 1543.2,950.006 1545.16,951.434 1547.12,953.068 1549.08,954.91 \n",
       "  1551.04,956.957 1553,959.205 1554.96,961.653 1556.92,964.294 1558.88,967.125 1560.84,970.138 1562.8,973.325 1564.76,976.674 1566.72,980.171 1568.68,983.799 \n",
       "  1570.64,987.54 1572.6,991.375 1574.56,995.286 1576.52,999.255 1578.48,1003.26 1580.44,1007.29 1582.4,1011.31 1584.36,1015.27 1586.32,1019.12 1588.28,1022.78 \n",
       "  1590.24,1026.19 1592.2,1029.24 1594.16,1031.87 1596.12,1034.02 1598.08,1035.65 1600.04,1036.76 1602.01,1037.37 1603.97,1037.54 1605.93,1037.35 1607.89,1036.88 \n",
       "  1609.85,1036.22 1611.81,1035.44 1613.77,1034.6 1615.73,1033.76 1617.69,1032.96 1619.65,1032.23 1621.61,1031.58 1623.57,1031.03 1625.53,1030.58 1627.49,1030.23 \n",
       "  1629.45,1029.96 1631.41,1029.78 1633.37,1029.66 1635.33,1029.59 1637.29,1029.56 1639.25,1029.55 1641.21,1029.55 1643.17,1029.26 1645.13,1028.99 1647.09,1028.74 \n",
       "  1649.05,1028.51 1651.01,1028.3 1652.97,1028.11 1654.93,1027.94 1656.89,1027.78 1658.86,1027.63 1660.82,1027.47 1662.78,1027.31 1664.74,1027.14 1666.7,1026.97 \n",
       "  1668.66,1026.79 1670.62,1026.6 1672.58,1026.41 1674.54,1026.22 1676.5,1026.02 1678.46,1025.8 1680.42,1025.57 1682.38,1025.31 1684.34,1025.03 1686.3,1024.72 \n",
       "  1688.26,1024.38 1690.22,1024.03 1692.18,1023.65 1694.14,1023.26 1696.1,1022.85 1698.06,1022.41 1700.02,1021.96 1701.98,1021.48 1703.94,1020.98 1705.9,1020.44 \n",
       "  1707.86,1019.88 1709.82,1019.3 1711.78,1018.7 1713.74,1018.09 1715.7,1017.47 1717.67,1016.84 1719.63,1016.2 1721.59,1015.55 1723.55,1014.89 1725.51,1014.22 \n",
       "  1727.47,1013.53 1729.43,1012.84 1731.39,1012.14 1733.35,1011.45 1735.31,1010.75 1737.27,1010.06 1739.23,1009.38 1741.19,1008.7 1743.15,1008.03 1745.11,1007.36 \n",
       "  1747.07,1006.69 1749.03,1006.03 1750.99,1005.36 1752.95,1004.71 1754.91,1004.07 1756.87,1003.44 1758.83,1002.82 1760.79,1002.22 1762.75,1001.64 1764.71,1001.06 \n",
       "  1766.67,1000.5 1768.63,999.949 1770.59,999.407 1772.55,998.874 1774.51,998.353 1776.48,997.846 1778.44,997.355 1780.4,996.881 1782.36,996.425 1784.32,995.986 \n",
       "  1786.28,995.563 1788.24,995.154 1790.2,994.757 1792.16,994.373 1794.12,994 1796.08,993.64 1798.04,993.296 1800,992.967 1801.96,992.656 1803.92,992.363 \n",
       "  1805.88,992.088 1807.84,991.829 1809.8,991.585 1811.76,991.354 1813.72,991.136 1815.68,990.929 1817.64,990.734 1819.6,990.553 1821.56,990.387 1823.52,990.238 \n",
       "  1825.48,990.106 1827.44,989.991 1829.4,989.893 1831.36,989.811 1833.33,989.742 1835.29,989.686 1837.25,989.641 1839.21,989.609 1841.17,989.588 1843.13,989.582 \n",
       "  1845.09,989.591 1847.05,989.616 1849.01,989.657 1850.97,989.715 1852.93,989.788 1854.89,989.875 1856.85,989.974 1858.81,990.085 1860.77,990.207 1862.73,990.34 \n",
       "  1864.69,990.487 1866.65,990.647 1868.61,990.823 1870.57,991.016 1872.53,991.224 1874.49,991.449 1876.45,991.688 1878.41,991.94 1880.37,992.203 1882.33,992.477 \n",
       "  1884.29,992.761 1886.25,993.056 1888.21,993.365 1890.17,993.688 1892.14,994.026 1894.1,994.381 1896.06,994.752 1898.02,995.138 1899.98,995.537 1901.94,995.949 \n",
       "  1903.9,996.371 1905.86,996.804 1907.82,997.247 1909.78,997.703 1911.74,998.171 1913.7,998.655 1915.66,999.154 1917.62,999.67 1919.58,1000.2 1921.54,1000.74 \n",
       "  1923.5,1001.3 1925.46,1001.87 1927.42,1002.44 1929.38,1003.03 1931.34,1003.63 1933.3,1004.24 1935.26,1004.86 1937.22,1005.5 1939.18,1006.15 1941.14,1006.82 \n",
       "  1943.1,1007.51 1945.06,1008.2 1947.02,1008.91 1948.99,1009.62 1950.95,1010.34 1952.91,1011.07 1954.87,1011.81 1956.83,1012.55 1958.79,1013.31 1960.75,1014.09 \n",
       "  1962.71,1014.88 1964.67,1015.68 1966.63,1016.49 1968.59,1017.31 1970.55,1018.13 1972.51,1018.95 1974.47,1019.78 1976.43,1020.61 1978.39,1021.45 1980.35,1022.29 \n",
       "  1982.31,1023.14 1984.27,1024 1986.23,1024.86 1988.19,1025.73 1990.15,1026.59 1992.11,1027.45 1994.07,1028.3 1996.03,1029.15 1997.99,1029.98 1999.95,1030.81 \n",
       "  2001.91,1031.64 2003.87,1032.46 2005.83,1033.27 2007.8,1034.08 2009.76,1034.88 2011.72,1035.66 2013.68,1036.42 2015.64,1037.15 2017.6,1037.86 2019.56,1038.54 \n",
       "  2021.52,1039.2 2023.48,1039.83 2025.44,1040.45 2027.4,1041.05 2029.36,1041.62 2031.32,1042.17 2033.28,1042.7 2035.24,1043.18 2037.2,1043.63 2039.16,1044.04 \n",
       "  2041.12,1044.42 2043.08,1044.76 2045.04,1045.07 2047,1045.36 2048.96,1045.62 2050.92,1045.87 2052.88,1046.09 2054.84,1046.28 2056.8,1046.45 2058.76,1046.58 \n",
       "  2060.72,1046.68 2062.68,1046.76 2064.65,1046.81 2066.61,1046.85 2068.57,1046.88 2070.53,1046.9 2072.49,1046.91 2074.45,1046.92 2076.41,1046.91 2078.37,1046.89 \n",
       "  2080.33,1046.86 2082.29,1046.81 2084.25,1046.76 2086.21,1046.7 2088.17,1046.64 2090.13,1046.59 2092.09,1046.55 2094.05,1046.51 2096.01,1046.48 2097.97,1046.46 \n",
       "  2099.93,1046.44 2101.89,1046.41 2103.85,1046.39 2105.81,1046.36 2107.77,1046.35 2109.73,1046.35 2111.69,1046.36 2113.65,1046.4 2115.61,1046.45 2117.57,1046.51 \n",
       "  2119.53,1046.59 2121.49,1046.68 2123.46,1046.77 2125.42,1046.87 2127.38,1046.98 2129.34,1047.1 2131.3,1047.24 2133.26,1047.4 2135.22,1047.58 2137.18,1047.78 \n",
       "  2139.14,1048.01 2141.1,1048.25 2143.06,1048.51 2145.02,1048.78 2146.98,1049.06 2148.94,1049.35 2150.9,1049.65 2152.86,1049.98 2154.82,1050.32 2156.78,1050.7 \n",
       "  2158.74,1051.1 2160.7,1051.52 2162.66,1051.97 2164.62,1052.44 2166.58,1052.92 2168.54,1053.42 2170.5,1053.92 2172.46,1054.45 2174.42,1055 2176.38,1055.57 \n",
       "  2178.34,1056.18 2180.3,1056.81 2182.27,1057.48 2184.23,1058.18 2186.19,1058.89 2188.15,1059.63 2190.11,1060.38 2192.07,1061.16 2194.03,1061.95 2195.99,1062.78 \n",
       "  2197.95,1063.63 2199.91,1064.53 2201.87,1065.46 2203.83,1066.43 2205.79,1067.44 2207.75,1068.48 2209.71,1069.54 2211.67,1070.64 2213.63,1071.76 2215.59,1072.91 \n",
       "  2217.55,1074.1 2219.51,1075.33 2221.47,1076.62 2223.43,1077.96 2225.39,1079.36 2227.35,1080.82 2229.31,1082.32 2231.27,1083.88 2233.23,1085.47 2235.19,1087.11 \n",
       "  2237.15,1088.8 2239.12,1090.56 2241.08,1092.39 2243.04,1094.32 2245,1096.34 2246.96,1098.47 2248.92,1100.7 2250.88,1103.03 2252.84,1105.46 2254.8,1107.99 \n",
       "  2256.76,1110.63 2258.72,1113.4 2260.68,1116.31 2262.64,1119.42 2264.6,1122.74 2266.56,1126.33 2268.52,1130.22 2270.48,1134.43 2272.44,1139 2274.4,1143.97 \n",
       "  2276.36,1149.4 2278.32,1155.41 2280.28,1162.14 2282.24,1169.87 2284.2,1178.99 2286.16,1190.18 2288.12,1204.67 2290.08,1225.21 2292.04,1260.59 2294,1354.38 \n",
       "  \n",
       "  \"/>\n",
       "<polyline clip-path=\"url(#clip893)\" style=\"stroke:#3da44d; stroke-linecap:round; stroke-linejoin:round; stroke-width:4; stroke-opacity:1; fill:none\" points=\"\n",
       "  335.627,1650.04 337.587,1184.95 339.548,1152.66 341.508,1135.84 343.468,1126.19 345.429,1121.23 347.389,1120 349.349,1122.22 351.31,1128.05 353.27,1138.21 \n",
       "  355.23,1154.06 357.191,1176.28 359.151,1186.38 361.111,1166.1 363.072,1146.99 365.032,1134.36 366.992,1126.57 368.953,1122.48 370.913,1121.5 372.873,1123.39 \n",
       "  374.834,1128.1 376.794,1135.7 378.754,1145.87 380.715,1156.41 382.675,1160.68 384.635,1154.47 386.596,1144.12 388.556,1135.04 390.516,1128.62 392.477,1124.93 \n",
       "  394.437,1123.81 396.397,1125.12 398.358,1128.71 400.318,1134.23 402.278,1140.63 404.239,1145.48 406.199,1145.89 408.159,1141.83 410.12,1136.18 412.08,1131.33 \n",
       "  414.04,1128.33 416.001,1127.46 417.961,1128.63 419.921,1131.49 421.882,1135.26 423.842,1138.47 425.802,1139.33 427.763,1137.13 429.723,1133.06 431.683,1128.92 \n",
       "  433.644,1125.97 435.604,1124.88 437.564,1125.93 439.525,1129.27 441.485,1134.84 443.445,1141.88 445.406,1147.94 447.366,1148.81 449.326,1143.29 451.287,1135.14 \n",
       "  453.247,1127.72 455.207,1122.3 457.168,1119.19 459.128,1118.47 461.088,1120.24 463.049,1124.71 465.009,1132.36 466.969,1143.8 468.93,1158.87 470.89,1170.16 \n",
       "  472.851,1162.38 474.811,1145.96 476.771,1132.36 478.732,1122.83 480.692,1116.82 482.652,1113.91 484.613,1113.88 486.573,1116.81 488.533,1123.08 490.494,1133.54 \n",
       "  492.454,1149.89 494.414,1174.03 496.375,1187.15 498.335,1163.77 500.295,1142.84 502.256,1129.19 504.216,1120.56 506.176,1115.61 508.137,1113.65 510.097,1114.35 \n",
       "  512.057,1117.55 514.018,1123.17 515.978,1130.97 517.938,1139.88 519.899,1146.77 521.859,1147.26 523.819,1141.58 525.78,1134.11 527.74,1127.68 529.7,1123.15 \n",
       "  531.661,1120.58 533.621,1119.8 535.581,1120.55 537.542,1122.46 539.502,1124.92 541.462,1127.09 543.423,1128.06 545.383,1127.39 547.343,1125.47 549.304,1123.26 \n",
       "  551.264,1121.69 553.224,1121.41 555.185,1122.79 557.145,1125.95 559.105,1130.64 561.066,1135.77 563.026,1138.9 564.986,1137.45 566.947,1131.78 568.907,1124.67 \n",
       "  570.867,1118.32 572.828,1113.67 574.788,1111.06 576.748,1110.61 578.709,1112.45 580.669,1116.8 582.629,1124.07 584.59,1134.79 586.55,1149.01 588.51,1162.01 \n",
       "  590.471,1159.46 592.431,1144.67 594.391,1130.73 596.352,1120.42 598.312,1113.42 600.272,1109.2 602.233,1107.43 604.193,1107.92 606.153,1110.59 608.114,1115.44 \n",
       "  610.074,1122.41 612.035,1130.94 613.995,1139.05 615.955,1142.57 617.916,1139.11 619.876,1131.87 621.836,1124.72 623.797,1119.24 625.757,1115.78 627.717,1114.21 \n",
       "  629.678,1114.25 631.638,1115.45 633.598,1117.21 635.559,1118.73 637.519,1119.27 639.479,1118.55 641.44,1116.92 643.4,1115.12 645.36,1113.84 647.321,1113.6 \n",
       "  649.281,1114.74 651.241,1117.45 653.202,1121.78 655.162,1127.46 657.122,1133.36 659.083,1136.93 661.043,1135.32 663.003,1129.01 664.964,1121.09 666.924,1113.87 \n",
       "  668.884,1108.32 670.845,1104.7 672.805,1103.09 674.765,1103.53 676.726,1106.08 678.686,1110.87 680.646,1118.01 682.607,1127.37 684.567,1137.6 686.527,1144.2 \n",
       "  688.488,1141.87 690.448,1133.29 692.408,1124.13 694.369,1116.77 696.329,1111.58 698.289,1108.43 700.25,1107.06 702.21,1107.23 704.17,1108.61 706.131,1110.78 \n",
       "  708.091,1113.1 710.051,1114.87 712.012,1115.49 713.972,1114.91 715.932,1113.61 717.893,1112.33 719.853,1111.76 721.813,1112.36 723.774,1114.41 725.734,1117.99 \n",
       "  727.694,1122.8 729.655,1127.82 731.615,1130.88 733.575,1129.66 735.536,1124.33 737.496,1117.35 739.456,1110.78 741.417,1105.6 743.377,1102.13 745.337,1100.47 \n",
       "  747.298,1100.63 749.258,1102.63 751.219,1106.52 753.179,1112.29 755.139,1119.74 757.1,1127.96 759.06,1134.42 761.02,1135.55 762.981,1130.93 764.941,1123.96 \n",
       "  766.901,1117.46 768.862,1112.54 770.822,1109.41 772.782,1108.01 774.743,1108.1 776.703,1109.33 778.663,1111.12 780.624,1112.71 782.584,1113.27 784.544,1112.42 \n",
       "  786.505,1110.43 788.465,1108.1 790.425,1106.2 792.386,1105.34 794.346,1105.9 796.306,1108.16 798.267,1112.32 800.227,1118.55 802.187,1126.71 804.148,1135.64 \n",
       "  806.108,1141.48 808.068,1139.36 810.029,1130.88 811.989,1121.27 813.949,1113.17 815.91,1107.19 817.87,1103.34 819.83,1101.47 821.791,1101.47 823.751,1103.18 \n",
       "  825.711,1106.4 827.672,1110.73 829.632,1115.38 831.592,1119.15 833.553,1120.77 835.513,1119.94 837.473,1117.59 839.434,1115.07 841.394,1113.36 843.354,1112.99 \n",
       "  845.315,1114.2 847.275,1117.03 849.235,1121.24 851.196,1126.02 853.156,1129.6 855.116,1129.66 857.077,1125.55 859.037,1119.11 860.997,1112.56 862.958,1107.17 \n",
       "  864.918,1103.43 866.878,1101.51 868.839,1101.48 870.799,1103.37 872.759,1107.21 874.72,1113 876.68,1120.44 878.64,1128.51 880.601,1134.58 882.561,1135.41 \n",
       "  884.522,1131.09 886.482,1124.91 888.442,1119.42 890.403,1115.61 892.363,1113.73 894.323,1113.74 896.284,1115.47 898.244,1118.53 900.204,1122.06 902.165,1124.59 \n",
       "  904.125,1124.47 906.085,1121.29 908.046,1116.34 910.006,1111.3 911.966,1107.27 913.927,1104.8 915.887,1104.15 917.847,1105.49 919.808,1108.98 921.768,1114.84 \n",
       "  923.728,1123.29 925.689,1134.19 927.649,1145.58 929.609,1150.82 931.57,1145.05 933.53,1134.64 935.49,1125.35 937.451,1118.63 939.411,1114.51 941.371,1112.76 \n",
       "  943.332,1113.15 945.292,1115.41 947.252,1119.08 949.213,1123.18 951.173,1126.02 953.133,1125.84 955.094,1122.5 957.054,1117.61 959.014,1112.94 960.975,1109.53 \n",
       "  962.935,1107.89 964.895,1108.27 966.856,1110.91 968.816,1116.07 970.776,1124.22 972.737,1135.91 974.697,1151.09 976.657,1164.02 978.618,1160.02 980.578,1145.26 \n",
       "  982.538,1132.18 984.499,1122.91 986.459,1117.02 988.419,1114.01 990.38,1113.98 992.34,1113.94 994.3,1113.94 996.261,1113.95 998.221,1113.75 1000.18,1113.03 \n",
       "  1002.14,1111.42 1004.1,1108.77 1006.06,1105.27 1008.02,1101.42 1009.98,1097.79 1011.94,1094.86 1013.9,1092.91 1015.86,1092.02 1017.82,1092.04 1019.78,1092.58 \n",
       "  1021.75,1092.86 1023.71,1091.61 1025.67,1087.44 1027.63,1079.86 1029.59,1069.77 1031.55,1058.67 1033.51,1047.62 1035.47,1037.18 1037.43,1027.55 1039.39,1018.76 \n",
       "  1041.35,1010.79 1043.31,1003.6 1045.27,997.141 1047.23,991.406 1049.19,986.369 1051.15,982.003 1053.11,978.272 1055.07,975.13 1057.03,972.523 1058.99,970.398 \n",
       "  1060.95,968.708 1062.91,967.416 1064.87,966.5 1066.83,965.945 1068.79,965.749 1070.75,965.912 1072.71,966.438 1074.67,967.335 1076.63,968.615 1078.59,970.29 \n",
       "  1080.56,972.374 1082.52,974.879 1084.48,977.819 1086.44,981.212 1088.4,985.085 1090.36,989.476 1092.32,994.409 1094.28,999.834 1096.24,1005.49 1098.2,1010.66 \n",
       "  1100.16,1014.06 1102.12,1014.22 1104.08,1010.77 1106.04,1004.77 1108,997.712 1109.96,990.565 1111.92,983.805 1113.88,977.609 1115.84,972.031 1117.8,967.077 \n",
       "  1119.76,962.737 1121.72,959 1123.68,955.841 1125.64,953.23 1127.6,951.13 1129.56,949.497 1131.52,948.282 1133.48,947.43 1135.44,946.879 1137.41,946.574 \n",
       "  1139.37,946.468 1141.33,946.53 1143.29,946.752 1145.25,947.137 1147.21,947.698 1149.17,948.447 1151.13,949.385 1153.09,950.51 1155.05,951.817 1157.01,953.306 \n",
       "  1158.97,954.994 1160.93,956.914 1162.89,959.112 1164.85,961.646 1166.81,964.573 1168.77,967.947 1170.73,971.817 1172.69,976.218 1174.65,981.157 1176.61,986.588 \n",
       "  1178.57,992.338 1180.53,997.993 1182.49,1002.77 1184.45,1005.55 1186.41,1005.44 1188.37,1002.53 1190.33,997.835 1192.29,992.481 1194.25,987.243 1196.22,982.505 \n",
       "  1198.18,978.393 1200.14,974.897 1202.1,971.936 1204.06,969.398 1206.02,967.176 1207.98,965.182 1209.94,963.366 1211.9,961.711 1213.86,960.232 1215.82,958.953 \n",
       "  1217.78,957.897 1219.74,957.071 1221.7,956.457 1223.66,956.02 1225.62,955.715 1227.58,955.501 1229.54,955.36 1231.5,955.306 1233.46,955.385 1235.42,955.664 \n",
       "  1237.38,956.215 1239.34,957.105 1241.3,958.38 1243.26,960.068 1245.22,962.178 1247.18,964.715 1249.14,967.683 1251.1,971.105 1253.07,975.025 1255.03,979.51 \n",
       "  1256.99,984.649 1258.95,990.531 1260.91,997.209 1262.87,1004.6 1264.83,1012.31 1266.79,1019.32 1268.75,1023.87 1270.71,1024.43 1272.67,1021.18 1274.63,1015.68 \n",
       "  1276.59,1009.37 1278.55,1002.97 1280.51,996.756 1282.47,990.841 1284.43,985.291 1286.39,980.167 1288.35,975.515 1290.31,971.354 1292.27,967.67 1294.23,964.421 \n",
       "  1296.19,961.549 1298.15,958.993 1300.11,956.704 1302.07,954.66 1304.03,952.864 1305.99,951.35 1307.95,950.162 1309.91,949.354 1311.88,948.97 1313.84,949.039 \n",
       "  1315.8,949.575 1317.76,950.567 1319.72,951.99 1321.68,953.805 1323.64,955.974 1325.6,958.474 1327.56,961.302 1329.52,964.48 1331.48,968.053 1333.44,972.074 \n",
       "  1335.4,976.587 1337.36,981.612 1339.32,987.142 1341.28,993.143 1343.24,999.575 1345.2,1006.41 1347.16,1013.63 1349.12,1021.1 1351.08,1028.28 1353.04,1033.74 \n",
       "  1355,1035.21 1356.96,1031.62 1358.92,1024.64 1360.88,1016.68 1362.84,1009.15 1364.8,1002.54 1366.76,996.88 1368.73,992.033 1370.69,987.809 1372.65,984.046 \n",
       "  1374.61,980.645 1376.57,977.585 1378.53,974.906 1380.49,972.679 1382.45,970.97 1384.41,969.813 1386.37,969.192 1388.33,969.038 1390.29,969.232 1392.25,969.625 \n",
       "  1394.21,970.073 1396.17,970.482 1398.13,970.835 1400.09,971.205 1402.05,971.718 1404.01,972.516 1405.97,973.711 1407.93,975.352 1409.89,977.416 1411.85,979.81 \n",
       "  1413.81,982.39 1415.77,985.007 1417.73,987.566 1419.69,990.072 1421.65,992.646 1423.61,995.494 1425.57,998.856 1427.54,1002.94 1429.5,1007.9 1431.46,1013.71 \n",
       "  1433.42,1020.11 1435.38,1026.37 1437.34,1031.16 1439.3,1032.88 1441.26,1030.81 1443.22,1025.69 1445.18,1018.91 1447.14,1011.64 1449.1,1004.55 1451.06,998.045 \n",
       "  1453.02,992.327 1454.98,987.488 1456.94,983.536 1458.9,980.415 1460.86,978.014 1462.82,976.179 1464.78,974.732 1466.74,973.496 1468.7,972.331 1470.66,971.165 \n",
       "  1472.62,970.007 1474.58,968.931 1476.54,968.041 1478.5,967.436 1480.46,967.178 1482.42,967.273 1484.38,967.676 1486.35,968.302 1488.31,969.06 1490.27,969.889 \n",
       "  1492.23,970.798 1494.19,971.876 1496.15,973.272 1498.11,975.157 1500.07,977.693 1502.03,981.003 1503.99,985.162 1505.95,990.198 1507.91,996.092 1509.87,1002.78 \n",
       "  1511.83,1010.18 1513.79,1018.18 1515.75,1026.77 1517.71,1035.91 1519.67,1045.21 1521.63,1053.02 1523.59,1056.02 1525.55,1052.37 1527.51,1044.81 1529.47,1036.75 \n",
       "  1531.43,1029.71 1533.39,1023.89 1535.35,1018.98 1537.31,1014.53 1539.27,1010.22 1541.23,1005.93 1543.2,1001.8 1545.16,998.08 1547.12,995.018 1549.08,992.805 \n",
       "  1551.04,991.537 1553,991.223 1554.96,991.787 1556.92,993.069 1558.88,994.827 1560.84,996.764 1562.8,998.594 1564.76,1000.15 1566.72,1001.48 1568.68,1002.79 \n",
       "  1570.64,1004.43 1572.6,1006.7 1574.56,1009.79 1576.52,1013.77 1578.48,1018.55 1580.44,1023.89 1582.4,1029.42 1584.36,1034.79 1586.32,1039.8 1588.28,1044.54 \n",
       "  1590.24,1049.36 1592.2,1054.65 1594.16,1060.65 1596.12,1067.26 1598.08,1073.76 1600.04,1078.93 1602.01,1081.73 1603.97,1082.37 1605.93,1082.09 1607.89,1082.09 \n",
       "  1609.85,1082.85 1611.81,1084.24 1613.77,1085.65 1615.73,1086.44 1617.69,1086.39 1619.65,1085.83 1621.61,1085.37 1623.57,1085.47 1625.53,1086.26 1627.49,1087.56 \n",
       "  1629.45,1088.95 1631.41,1090.01 1633.37,1090.51 1635.33,1090.56 1637.29,1090.4 1639.25,1090.27 1641.21,1090.24 1643.17,1089.35 1645.13,1088.56 1647.09,1088.01 \n",
       "  1649.05,1087.73 1651.01,1087.64 1652.97,1087.6 1654.93,1087.46 1656.89,1087.13 1658.86,1086.64 1660.82,1086.13 1662.78,1085.78 1664.74,1085.78 1666.7,1086.23 \n",
       "  1668.66,1087.12 1670.62,1088.35 1672.58,1089.67 1674.54,1090.76 1676.5,1091.3 1678.46,1091.11 1680.42,1090.21 1682.38,1088.86 1684.34,1087.41 1686.3,1086.18 \n",
       "  1688.26,1085.39 1690.22,1085.12 1692.18,1085.33 1694.14,1085.89 1696.1,1086.58 1698.06,1087.15 1700.02,1087.46 1701.98,1087.47 1703.94,1087.31 1705.9,1087.18 \n",
       "  1707.86,1087.27 1709.82,1087.69 1711.78,1088.43 1713.74,1089.35 1715.7,1090.19 1717.67,1090.65 1719.63,1090.49 1721.59,1089.66 1723.55,1088.31 1725.51,1086.79 \n",
       "  1727.47,1085.42 1729.43,1084.51 1731.39,1084.24 1733.35,1084.66 1735.31,1085.73 1737.27,1087.22 1739.23,1088.82 1741.19,1090.12 1743.15,1090.81 1745.11,1090.78 \n",
       "  1747.07,1090.21 1749.03,1089.41 1750.99,1088.72 1752.95,1088.36 1754.91,1088.4 1756.87,1088.77 1758.83,1089.27 1760.79,1089.65 1762.75,1089.68 1764.71,1089.22 \n",
       "  1766.67,1088.36 1768.63,1087.33 1770.59,1086.44 1772.55,1085.99 1774.51,1086.21 1776.48,1087.18 1778.44,1088.85 1780.4,1090.99 1782.36,1093.13 1784.32,1094.68 \n",
       "  1786.28,1095.12 1788.24,1094.32 1790.2,1092.63 1792.16,1090.65 1794.12,1088.92 1796.08,1087.79 1798.04,1087.43 1800,1087.83 1801.96,1088.84 1803.92,1090.19 \n",
       "  1805.88,1091.49 1807.84,1092.38 1809.8,1092.61 1811.76,1092.23 1813.72,1091.52 1815.68,1090.86 1817.64,1090.62 1819.6,1091.02 1821.56,1092.12 1823.52,1093.74 \n",
       "  1825.48,1095.49 1827.44,1096.77 1829.4,1097.01 1831.36,1095.99 1833.33,1094.03 1835.29,1091.77 1837.25,1089.83 1839.21,1088.66 1841.17,1088.5 1843.13,1089.43 \n",
       "  1845.09,1091.39 1847.05,1094.11 1849.01,1097.1 1850.97,1099.58 1852.93,1100.76 1854.89,1100.25 1856.85,1098.41 1858.81,1096.03 1860.77,1093.87 1862.73,1092.47 \n",
       "  1864.69,1092.06 1866.65,1092.66 1868.61,1094.08 1870.57,1095.94 1872.53,1097.65 1874.49,1098.57 1876.45,1098.37 1878.41,1097.2 1880.37,1095.64 1882.33,1094.33 \n",
       "  1884.29,1093.78 1886.25,1094.25 1888.21,1095.82 1890.17,1098.31 1892.14,1101.22 1894.1,1103.71 1896.06,1104.75 1898.02,1103.78 1899.98,1101.18 1901.94,1097.94 \n",
       "  1903.9,1095.02 1905.86,1093.04 1907.82,1092.34 1909.78,1093.07 1911.74,1095.22 1913.7,1098.58 1915.66,1102.63 1917.62,1106.35 1919.58,1108.35 1921.54,1107.72 \n",
       "  1923.5,1104.93 1925.46,1101.35 1927.42,1098.19 1929.38,1096.15 1931.34,1095.51 1933.3,1096.28 1935.26,1098.27 1937.22,1101 1939.18,1103.71 1941.14,1105.44 \n",
       "  1943.1,1105.52 1945.06,1104.03 1947.02,1101.77 1948.99,1099.67 1950.95,1098.38 1952.91,1098.28 1954.87,1099.48 1956.83,1101.89 1958.79,1105.07 1960.75,1108.15 \n",
       "  1962.71,1109.86 1964.67,1109.24 1966.63,1106.47 1968.59,1102.75 1970.55,1099.34 1972.51,1097.05 1974.47,1096.31 1976.43,1097.31 1978.39,1100.05 1980.35,1104.33 \n",
       "  1982.31,1109.47 1984.27,1113.96 1986.23,1115.68 1988.19,1113.63 1990.15,1109.11 1992.11,1104.23 1994.07,1100.33 1996.03,1098.02 1997.99,1097.49 1999.95,1098.73 \n",
       "  2001.91,1101.57 2003.87,1105.62 2005.83,1110 2007.8,1113.24 2009.76,1113.87 2011.72,1111.71 2013.68,1108.07 2015.64,1104.48 2017.6,1101.93 2019.56,1100.87 \n",
       "  2021.52,1101.42 2023.48,1103.46 2025.44,1106.58 2027.4,1109.93 2029.36,1112.24 2031.32,1112.34 2033.28,1110.2 2035.24,1106.94 2037.2,1103.88 2039.16,1101.94 \n",
       "  2041.12,1101.56 2043.08,1102.9 2045.04,1105.87 2047,1110.02 2048.96,1114.25 2050.92,1116.77 2052.88,1116.06 2054.84,1112.49 2056.8,1107.88 2058.76,1103.82 \n",
       "  2060.72,1101.2 2062.68,1100.37 2064.65,1101.47 2066.61,1104.48 2068.57,1109.17 2070.53,1114.78 2072.49,1119.55 2074.45,1120.94 2076.41,1117.99 2078.37,1112.59 \n",
       "  2080.33,1107.18 2082.29,1103.14 2084.25,1101.01 2086.21,1100.95 2088.17,1102.98 2090.13,1106.93 2092.09,1112.28 2094.05,1117.67 2096.01,1120.75 2097.97,1119.67 \n",
       "  2099.93,1115.32 2101.89,1110.17 2103.85,1105.99 2105.81,1103.54 2107.77,1103.03 2109.73,1104.43 2111.69,1107.51 2113.65,1111.66 2115.61,1115.7 2117.57,1117.92 \n",
       "  2119.53,1117.19 2121.49,1114.09 2123.46,1110.3 2125.42,1107.18 2127.38,1105.47 2129.34,1105.43 2131.3,1107.04 2133.26,1110.01 2135.22,1113.66 2137.18,1116.72 \n",
       "  2139.14,1117.74 2141.1,1116.12 2143.06,1112.75 2145.02,1109.14 2146.98,1106.44 2148.94,1105.26 2150.9,1105.87 2152.86,1108.28 2154.82,1112.21 2156.78,1116.79 \n",
       "  2158.74,1120.3 2160.7,1120.69 2162.66,1117.61 2164.62,1112.83 2166.58,1108.35 2168.54,1105.33 2170.5,1104.26 2172.46,1105.31 2174.42,1108.44 2176.38,1113.33 \n",
       "  2178.34,1118.98 2180.3,1123.19 2182.27,1123.38 2184.23,1119.42 2186.19,1113.8 2188.15,1108.79 2190.11,1105.5 2192.07,1104.3 2194.03,1105.28 2195.99,1108.37 \n",
       "  2197.95,1113.23 2199.91,1118.91 2201.87,1123.35 2203.83,1123.99 2205.79,1120.46 2207.75,1115.05 2209.71,1110.06 2211.67,1106.66 2213.63,1105.25 2215.59,1105.93 \n",
       "  2217.55,1108.62 2219.51,1112.99 2221.47,1118.17 2223.43,1122.35 2225.39,1123.24 2227.35,1120.31 2229.31,1115.46 2231.27,1110.86 2233.23,1107.7 2235.19,1106.47 \n",
       "  2237.15,1107.24 2239.12,1109.89 2241.08,1113.96 2243.04,1118.38 2245,1121.37 2246.96,1121.31 2248.92,1118.35 2250.88,1114.27 2252.84,1110.7 2254.8,1108.56 \n",
       "  2256.76,1108.17 2258.72,1109.51 2260.68,1112.29 2262.64,1115.79 2264.6,1118.8 2266.56,1119.93 2268.52,1118.63 2270.48,1115.75 2272.44,1112.68 2274.4,1110.46 \n",
       "  2276.36,1109.59 2278.32,1110.21 2280.28,1112.13 2282.24,1114.84 2284.2,1117.47 2286.16,1118.93 2288.12,1118.5 2290.08,1116.47 2292.04,1113.83 2294,1111.58 \n",
       "  \n",
       "  \"/>\n",
       "<path clip-path=\"url(#clip890)\" d=\"\n",
       "M346.072 1404.2 L756.053 1404.2 L756.053 1196.84 L346.072 1196.84  Z\n",
       "  \" fill=\"#ffffff\" fill-rule=\"evenodd\" fill-opacity=\"1\"/>\n",
       "<polyline clip-path=\"url(#clip890)\" style=\"stroke:#000000; stroke-linecap:round; stroke-linejoin:round; stroke-width:4; stroke-opacity:1; fill:none\" points=\"\n",
       "  346.072,1404.2 756.053,1404.2 756.053,1196.84 346.072,1196.84 346.072,1404.2 \n",
       "  \"/>\n",
       "<polyline clip-path=\"url(#clip890)\" style=\"stroke:#009af9; stroke-linecap:round; stroke-linejoin:round; stroke-width:4; stroke-opacity:1; fill:none\" points=\"\n",
       "  369.137,1248.68 507.529,1248.68 \n",
       "  \"/>\n",
       "<path clip-path=\"url(#clip890)\" d=\"M541.451 1266.54 Q536.103 1265.68 533.627 1263.43 Q530.594 1260.68 530.594 1255.06 L530.594 1240.03 L534.9 1240.03 L534.9 1254.89 Q534.9 1259.13 536.867 1260.89 Q538.58 1262.42 541.451 1262.74 L541.451 1240.03 L545.687 1240.03 L545.687 1262.72 Q548.719 1262.39 550.27 1260.87 Q552.238 1258.92 552.238 1254.87 L552.238 1240.03 L556.543 1240.03 L556.543 1255.03 Q556.543 1260.87 553.511 1263.41 Q550.779 1265.7 545.687 1266.51 L545.687 1275.82 L541.451 1275.82 L541.451 1266.54 Z\" fill=\"#000000\" fill-rule=\"evenodd\" fill-opacity=\"1\" /><path clip-path=\"url(#clip890)\" d=\"M572.469 1250.29 Q571.312 1248.3 568.974 1248.3 Q566.636 1248.3 565.478 1250.29 Q564.298 1252.28 564.298 1256.26 Q564.298 1260.26 565.478 1262.25 Q566.636 1264.25 568.974 1264.25 Q571.312 1264.25 572.469 1262.25 Q573.65 1260.26 573.65 1256.26 Q573.65 1252.28 572.469 1250.29 M568.974 1246.24 Q572.7 1246.24 574.668 1248.81 Q576.636 1251.37 576.636 1256.26 Q576.636 1261.17 574.668 1263.74 Q572.7 1266.31 568.974 1266.31 Q565.224 1266.31 563.256 1263.74 Q561.289 1261.17 561.289 1256.26 Q561.289 1251.37 563.256 1248.81 Q565.224 1246.24 568.974 1246.24 Z\" fill=\"#000000\" fill-rule=\"evenodd\" fill-opacity=\"1\" /><polyline clip-path=\"url(#clip890)\" style=\"stroke:#e26f46; stroke-linecap:round; stroke-linejoin:round; stroke-width:4; stroke-opacity:1; fill:none\" points=\"\n",
       "  369.137,1300.52 507.529,1300.52 \n",
       "  \"/>\n",
       "<path clip-path=\"url(#clip890)\" d=\"M541.451 1318.38 Q536.103 1317.52 533.627 1315.27 Q530.594 1312.52 530.594 1306.9 L530.594 1291.87 L534.9 1291.87 L534.9 1306.73 Q534.9 1310.97 536.867 1312.73 Q538.58 1314.26 541.451 1314.58 L541.451 1291.87 L545.687 1291.87 L545.687 1314.56 Q548.719 1314.23 550.27 1312.71 Q552.238 1310.76 552.238 1306.71 L552.238 1291.87 L556.543 1291.87 L556.543 1306.87 Q556.543 1312.71 553.511 1315.25 Q550.779 1317.54 545.687 1318.35 L545.687 1327.66 L541.451 1327.66 L541.451 1318.38 Z\" fill=\"#000000\" fill-rule=\"evenodd\" fill-opacity=\"1\" /><path clip-path=\"url(#clip890)\" d=\"M562.886 1315.25 L567.608 1315.25 L567.608 1301.11 L562.446 1302.06 L562.446 1299.37 L567.77 1298.47 L570.941 1298.47 L570.941 1315.25 L575.687 1315.25 L575.687 1317.8 L562.886 1317.8 L562.886 1315.25 Z\" fill=\"#000000\" fill-rule=\"evenodd\" fill-opacity=\"1\" /><polyline clip-path=\"url(#clip890)\" style=\"stroke:#3da44d; stroke-linecap:round; stroke-linejoin:round; stroke-width:4; stroke-opacity:1; fill:none\" points=\"\n",
       "  369.137,1352.36 507.529,1352.36 \n",
       "  \"/>\n",
       "<path clip-path=\"url(#clip890)\" d=\"M530.594 1333.62 L534.853 1333.62 L534.853 1369.64 L530.594 1369.64 L530.594 1333.62 Z\" fill=\"#000000\" fill-rule=\"evenodd\" fill-opacity=\"1\" /><path clip-path=\"url(#clip890)\" d=\"M565.941 1355.61 L565.941 1357.69 L546.358 1357.69 Q546.636 1362.09 548.997 1364.41 Q551.381 1366.7 555.617 1366.7 Q558.071 1366.7 560.363 1366.1 Q562.677 1365.49 564.946 1364.29 L564.946 1368.32 Q562.654 1369.29 560.247 1369.8 Q557.839 1370.31 555.363 1370.31 Q549.159 1370.31 545.525 1366.7 Q541.914 1363.09 541.914 1356.93 Q541.914 1350.56 545.34 1346.84 Q548.789 1343.09 554.622 1343.09 Q559.853 1343.09 562.886 1346.47 Q565.941 1349.82 565.941 1355.61 M561.682 1354.36 Q561.636 1350.86 559.714 1348.78 Q557.816 1346.7 554.668 1346.7 Q551.103 1346.7 548.951 1348.71 Q546.821 1350.73 546.497 1354.38 L561.682 1354.36 Z\" fill=\"#000000\" fill-rule=\"evenodd\" fill-opacity=\"1\" /><path clip-path=\"url(#clip890)\" d=\"M584.714 1356.61 Q579.552 1356.61 577.562 1357.79 Q575.571 1358.97 575.571 1361.81 Q575.571 1364.08 577.052 1365.43 Q578.557 1366.74 581.126 1366.74 Q584.668 1366.74 586.798 1364.24 Q588.95 1361.72 588.95 1357.55 L588.95 1356.61 L584.714 1356.61 M593.21 1354.85 L593.21 1369.64 L588.95 1369.64 L588.95 1365.7 Q587.492 1368.06 585.316 1369.2 Q583.14 1370.31 579.992 1370.31 Q576.011 1370.31 573.65 1368.09 Q571.312 1365.84 571.312 1362.09 Q571.312 1357.72 574.228 1355.49 Q577.168 1353.27 582.978 1353.27 L588.95 1353.27 L588.95 1352.86 Q588.95 1349.92 587.006 1348.32 Q585.085 1346.7 581.589 1346.7 Q579.367 1346.7 577.261 1347.23 Q575.154 1347.76 573.21 1348.83 L573.21 1344.89 Q575.548 1343.99 577.747 1343.55 Q579.946 1343.09 582.029 1343.09 Q587.654 1343.09 590.432 1346 Q593.21 1348.92 593.21 1354.85 Z\" fill=\"#000000\" fill-rule=\"evenodd\" fill-opacity=\"1\" /><path clip-path=\"url(#clip890)\" d=\"M601.821 1333.62 L606.103 1333.62 L606.103 1354.89 L618.811 1343.71 L624.251 1343.71 L610.501 1355.84 L624.83 1369.64 L619.274 1369.64 L606.103 1356.98 L606.103 1369.64 L601.821 1369.64 L601.821 1333.62 Z\" fill=\"#000000\" fill-rule=\"evenodd\" fill-opacity=\"1\" /><path clip-path=\"url(#clip890)\" d=\"M640.385 1356.61 Q635.223 1356.61 633.233 1357.79 Q631.242 1358.97 631.242 1361.81 Q631.242 1364.08 632.723 1365.43 Q634.228 1366.74 636.797 1366.74 Q640.339 1366.74 642.469 1364.24 Q644.621 1361.72 644.621 1357.55 L644.621 1356.61 L640.385 1356.61 M648.881 1354.85 L648.881 1369.64 L644.621 1369.64 L644.621 1365.7 Q643.163 1368.06 640.987 1369.2 Q638.811 1370.31 635.663 1370.31 Q631.682 1370.31 629.321 1368.09 Q626.983 1365.84 626.983 1362.09 Q626.983 1357.72 629.899 1355.49 Q632.839 1353.27 638.649 1353.27 L644.621 1353.27 L644.621 1352.86 Q644.621 1349.92 642.677 1348.32 Q640.756 1346.7 637.26 1346.7 Q635.038 1346.7 632.932 1347.23 Q630.825 1347.76 628.881 1348.83 L628.881 1344.89 Q631.219 1343.99 633.418 1343.55 Q635.617 1343.09 637.7 1343.09 Q643.325 1343.09 646.103 1346 Q648.881 1348.92 648.881 1354.85 Z\" fill=\"#000000\" fill-rule=\"evenodd\" fill-opacity=\"1\" /><path clip-path=\"url(#clip890)\" d=\"M674.714 1356.37 Q674.714 1351.74 672.793 1349.2 Q670.894 1346.65 667.445 1346.65 Q664.019 1346.65 662.098 1349.2 Q660.2 1351.74 660.2 1356.37 Q660.2 1360.98 662.098 1363.53 Q664.019 1366.07 667.445 1366.07 Q670.894 1366.07 672.793 1363.53 Q674.714 1360.98 674.714 1356.37 M678.973 1366.42 Q678.973 1373.04 676.033 1376.26 Q673.093 1379.5 667.029 1379.5 Q664.783 1379.5 662.793 1379.15 Q660.802 1378.83 658.927 1378.13 L658.927 1373.99 Q660.802 1375.01 662.631 1375.49 Q664.459 1375.98 666.357 1375.98 Q670.547 1375.98 672.631 1373.78 Q674.714 1371.61 674.714 1367.18 L674.714 1365.08 Q673.394 1367.37 671.334 1368.5 Q669.274 1369.64 666.404 1369.64 Q661.635 1369.64 658.719 1366 Q655.802 1362.37 655.802 1356.37 Q655.802 1350.36 658.719 1346.72 Q661.635 1343.09 666.404 1343.09 Q669.274 1343.09 671.334 1344.22 Q673.394 1345.36 674.714 1347.65 L674.714 1343.71 L678.973 1343.71 L678.973 1366.42 Z\" fill=\"#000000\" fill-rule=\"evenodd\" fill-opacity=\"1\" /><path clip-path=\"url(#clip890)\" d=\"M709.922 1355.61 L709.922 1357.69 L690.339 1357.69 Q690.617 1362.09 692.978 1364.41 Q695.362 1366.7 699.598 1366.7 Q702.052 1366.7 704.343 1366.1 Q706.658 1365.49 708.927 1364.29 L708.927 1368.32 Q706.635 1369.29 704.228 1369.8 Q701.82 1370.31 699.343 1370.31 Q693.14 1370.31 689.505 1366.7 Q685.894 1363.09 685.894 1356.93 Q685.894 1350.56 689.32 1346.84 Q692.769 1343.09 698.603 1343.09 Q703.834 1343.09 706.866 1346.47 Q709.922 1349.82 709.922 1355.61 M705.663 1354.36 Q705.616 1350.86 703.695 1348.78 Q701.797 1346.7 698.649 1346.7 Q695.084 1346.7 692.931 1348.71 Q690.802 1350.73 690.478 1354.38 L705.663 1354.36 Z\" fill=\"#000000\" fill-rule=\"evenodd\" fill-opacity=\"1\" /></svg>\n"
      ]
     },
     "metadata": {},
     "output_type": "display_data"
    }
   ],
   "source": [
    "pzero = plot(sol_new.t,zero,title=\"Swap gate with DRAG pulse\")\n",
    "pone = plot(sol_new.t,one,xlabel=\"Time [ns]\")\n",
    "\n",
    "# plot(sol_new.t, [zero,one],yaxis=:log,ylims=(1e-10,1.1),layout=(2,1))\n",
    "outputplot = plot(pzero,pone,\n",
    "     layout=(2,1),\n",
    "     yaxis=:log,\n",
    "     ylims=(1e-10,1.1),\n",
    "     legend=:bottomleft,\n",
    "     label=[\"ψ₀\" \"ψ₁\" \"leakage\"],\n",
    "     ylabel=\"Occupation\")"
   ]
  },
  {
   "cell_type": "code",
   "execution_count": 241,
   "metadata": {},
   "outputs": [
    {
     "data": {
      "text/plain": [
       "\"c:\\\\Users\\\\jv97\\\\github\\\\Quantum-Optimal-Control\\\\JuliaStuff\\\\Figures\\\\SwapOptPulse07alpha.pdf\""
      ]
     },
     "metadata": {},
     "output_type": "display_data"
    }
   ],
   "source": [
    "# savefig(outputplot,\"Figures/SwapOptPulse07alpha.pdf\")"
   ]
  }
 ],
 "metadata": {
  "kernelspec": {
   "display_name": "Julia 1.8.2",
   "language": "julia",
   "name": "julia-1.8"
  },
  "language_info": {
   "file_extension": ".jl",
   "mimetype": "application/julia",
   "name": "julia",
   "version": "1.8.2"
  },
  "orig_nbformat": 4,
  "vscode": {
   "interpreter": {
    "hash": "babb3d48d00b411cad3380fd983ba3264d4afc20254ee7a105a5601b2e0eddf5"
   }
  }
 },
 "nbformat": 4,
 "nbformat_minor": 2
}
