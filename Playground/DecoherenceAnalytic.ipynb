{
 "cells": [
  {
   "cell_type": "code",
   "execution_count": 1,
   "metadata": {},
   "outputs": [],
   "source": [
    "import sympy as sp"
   ]
  },
  {
   "cell_type": "code",
   "execution_count": 2,
   "metadata": {},
   "outputs": [],
   "source": [
    "#Decline first:\n",
    "eta = sp.Symbol(\"\\eta\")\n",
    "theta = sp.Symbol(\"\\\\theta\")\n",
    "Gamma1 = sp.Symbol(\"\\Gamma_1\")\n",
    "Gammaphi = sp.Symbol(\"\\Gamma_\\phi\")\n",
    "\n",
    "# t = sp.Symbol(\"t\")\n",
    "# w_slope = sp.Symbol(\"\\omega_a\")\n",
    "# w_cut = sp.Symbol(\"\\omega_b\")\n",
    "K = sp.Symbol(\"K\")\n",
    "\n",
    "expHp = sp.Matrix([[sp.cos(K)-sp.I*sp.sin(K),0],\\\n",
    "                   [0,sp.cos(K)+sp.I*sp.sin(K)]])\n",
    "expHm = sp.Matrix([[sp.cos(K)+sp.I*sp.sin(K),0],\\\n",
    "                   [0,sp.cos(K)-sp.I*sp.sin(K)]])"
   ]
  },
  {
   "cell_type": "code",
   "execution_count": 3,
   "metadata": {},
   "outputs": [],
   "source": [
    "rho = sp.Matrix([[sp.cos(theta/2)**2,sp.cos(theta/2)*sp.sin(theta/2)*sp.exp(-sp.I*eta)],\n",
    "                 [sp.cos(theta/2)*sp.sin(theta/2)*sp.exp(sp.I*eta),sp.sin(theta/2)**2]])\n",
    "L1 = sp.Matrix([[0,1],[0,0]])\n",
    "Lphi = sp.Matrix([[0,0],[0,1]])"
   ]
  },
  {
   "cell_type": "code",
   "execution_count": null,
   "metadata": {},
   "outputs": [],
   "source": [
    "rhot = expHm*rho*expHp\n",
    "I1 = L1*rhot*L1.adjoint() - (L1.adjoint()*L1*rhot + rhot*L1.adjoint()*L1)/2\n",
    "I1 = sp.expand(expHp*sp.expand(sp.simplify(I1))*expHm)\n",
    "\n",
    "I2 = Lphi*rhot*Lphi.adjoint() - (Lphi.adjoint()*Lphi*rhot + rhot*Lphi.adjoint()*Lphi)/2\n",
    "I2 = sp.expand(expHp*sp.expand(sp.simplify(I2))*expHm)"
   ]
  },
  {
   "cell_type": "code",
   "execution_count": null,
   "metadata": {},
   "outputs": [],
   "source": []
  },
  {
   "cell_type": "code",
   "execution_count": null,
   "metadata": {},
   "outputs": [],
   "source": []
  },
  {
   "cell_type": "code",
   "execution_count": null,
   "metadata": {},
   "outputs": [],
   "source": []
  },
  {
   "cell_type": "code",
   "execution_count": null,
   "metadata": {},
   "outputs": [],
   "source": []
  },
  {
   "cell_type": "code",
   "execution_count": null,
   "metadata": {},
   "outputs": [],
   "source": [
    "A = sp.Symbol(\"A\")\n",
    "d = sp.Symbol(\"d\")\n",
    "t = sp.Symbol(\"t\")\n",
    "c = sp.Symbol(\"c\")\n",
    "eta = sp.Symbol(\"\\eta\")\n",
    "theta = sp.Symbol(\"\\\\theta\")\n",
    "Gamma1 = sp.Symbol(\"\\Gamma_1\")\n",
    "Gammaphi = sp.Symbol(\"\\Gamma_\\phi\")"
   ]
  }
 ],
 "metadata": {
  "kernelspec": {
   "display_name": "myenv",
   "language": "python",
   "name": "python3"
  },
  "language_info": {
   "codemirror_mode": {
    "name": "ipython",
    "version": 3
   },
   "file_extension": ".py",
   "mimetype": "text/x-python",
   "name": "python",
   "nbconvert_exporter": "python",
   "pygments_lexer": "ipython3",
   "version": "3.9.7"
  },
  "orig_nbformat": 4
 },
 "nbformat": 4,
 "nbformat_minor": 2
}
