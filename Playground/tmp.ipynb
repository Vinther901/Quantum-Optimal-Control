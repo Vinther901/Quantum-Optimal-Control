{
 "cells": [
  {
   "cell_type": "code",
   "execution_count": 1,
   "metadata": {},
   "outputs": [],
   "source": [
    "import torch as t\n",
    "import matplotlib.pyplot as plt\n",
    "\n",
    "# def load_UE0s(self): #+\"_sH\"+str(self.subNHilbert)\n",
    "#     filename = \"UE0s_N\"+str(self.NTrot)+\"_q\"+str(self.q_max)+\"_sH\"+str(self.subNHilbert)+\".pt\"\n",
    "#     UE0s = t.load(os.path.join(self.params_dict['exp_path'],filename))\n",
    "#     return UE0s[:,1:], UE0s[:-1,0]"
   ]
  },
  {
   "cell_type": "code",
   "execution_count": 32,
   "metadata": {},
   "outputs": [],
   "source": [
    "# x = t.tensor(1.0+10**(-8))\n",
    "# y = t.exp(t.tensor(1.0))\n",
    "# (x - t.log(y)).item()"
   ]
  },
  {
   "cell_type": "code",
   "execution_count": 5,
   "metadata": {},
   "outputs": [],
   "source": [
    "import numpy as np"
   ]
  },
  {
   "cell_type": "code",
   "execution_count": 44,
   "metadata": {},
   "outputs": [
    {
     "data": {
      "text/plain": [
       "1.5707963267948966"
      ]
     },
     "execution_count": 44,
     "metadata": {},
     "output_type": "execute_result"
    }
   ],
   "source": [
    "x = 1.0+10**(-15)\n",
    "y = np.exp(1.0)\n",
    "x - np.log(y)\n",
    "t.pi/2"
   ]
  }
 ],
 "metadata": {
  "kernelspec": {
   "display_name": "Python 3.9.7 ('myenv')",
   "language": "python",
   "name": "python3"
  },
  "language_info": {
   "codemirror_mode": {
    "name": "ipython",
    "version": 3
   },
   "file_extension": ".py",
   "mimetype": "text/x-python",
   "name": "python",
   "nbconvert_exporter": "python",
   "pygments_lexer": "ipython3",
   "version": "3.9.7"
  },
  "orig_nbformat": 4,
  "vscode": {
   "interpreter": {
    "hash": "babb3d48d00b411cad3380fd983ba3264d4afc20254ee7a105a5601b2e0eddf5"
   }
  }
 },
 "nbformat": 4,
 "nbformat_minor": 2
}
